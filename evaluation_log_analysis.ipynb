{
 "cells": [
  {
   "cell_type": "code",
   "execution_count": 1,
   "metadata": {},
   "outputs": [],
   "source": [
    "import numpy as np\n",
    "import os\n",
    "import pandas as pd"
   ]
  },
  {
   "cell_type": "code",
   "execution_count": null,
   "metadata": {},
   "outputs": [],
   "source": [
    "def save_plot(fig, folder, filename, extensions=['png', 'svg', 'pdf', 'html'], scale=2):\n",
    "    if 'png' in extensions:\n",
    "        fig.write_image(folder + filename + '.png', scale=scale)\n",
    "    if 'svg' in extensions:\n",
    "        fig.write_image(folder + filename + '.svg', scale=scale)\n",
    "    if 'pdf' in extensions:\n",
    "        fig.write_image(folder + filename + '.pdf', scale=scale)\n",
    "    if 'html' in extensions:\n",
    "        fig.write_html(folder + filename + '.html')"
   ]
  },
  {
   "cell_type": "code",
   "execution_count": 2,
   "metadata": {},
   "outputs": [],
   "source": [
    "results_dir = 'results/evaluation_log_analysis/2025-02-24/'\n",
    "os.makedirs(results_dir, exist_ok=True)"
   ]
  },
  {
   "cell_type": "code",
   "execution_count": 3,
   "metadata": {},
   "outputs": [],
   "source": [
    "# Saved in save_evaluation_data.ipynb\n",
    "df = pd.read_csv('data/epoch_ai_eval_data.csv')"
   ]
  },
  {
   "cell_type": "code",
   "execution_count": 4,
   "metadata": {},
   "outputs": [
    {
     "data": {
      "text/html": [
       "<div>\n",
       "<style scoped>\n",
       "    .dataframe tbody tr th:only-of-type {\n",
       "        vertical-align: middle;\n",
       "    }\n",
       "\n",
       "    .dataframe tbody tr th {\n",
       "        vertical-align: top;\n",
       "    }\n",
       "\n",
       "    .dataframe thead th {\n",
       "        text-align: right;\n",
       "    }\n",
       "</style>\n",
       "<table border=\"1\" class=\"dataframe\">\n",
       "  <thead>\n",
       "    <tr style=\"text-align: right;\">\n",
       "      <th></th>\n",
       "      <th>Model</th>\n",
       "      <th>Task</th>\n",
       "      <th>epochs</th>\n",
       "      <th>total_samples</th>\n",
       "      <th>input_tokens</th>\n",
       "      <th>output_tokens</th>\n",
       "      <th>total_tokens</th>\n",
       "    </tr>\n",
       "  </thead>\n",
       "  <tbody>\n",
       "    <tr>\n",
       "      <th>0</th>\n",
       "      <td>Yi-34B-Chat</td>\n",
       "      <td>MATH level 5</td>\n",
       "      <td>8</td>\n",
       "      <td>10592</td>\n",
       "      <td>2222376</td>\n",
       "      <td>7308455</td>\n",
       "      <td>9530831</td>\n",
       "    </tr>\n",
       "    <tr>\n",
       "      <th>1</th>\n",
       "      <td>qwen2p5-72b-instruct</td>\n",
       "      <td>MATH level 5</td>\n",
       "      <td>8</td>\n",
       "      <td>10592</td>\n",
       "      <td>2243320</td>\n",
       "      <td>9708977</td>\n",
       "      <td>11952297</td>\n",
       "    </tr>\n",
       "    <tr>\n",
       "      <th>2</th>\n",
       "      <td>gpt-4-0613</td>\n",
       "      <td>MATH level 5</td>\n",
       "      <td>8</td>\n",
       "      <td>10592</td>\n",
       "      <td>1982888</td>\n",
       "      <td>3620454</td>\n",
       "      <td>5603342</td>\n",
       "    </tr>\n",
       "    <tr>\n",
       "      <th>3</th>\n",
       "      <td>o1-mini-2024-09-12_high</td>\n",
       "      <td>MATH level 5</td>\n",
       "      <td>4</td>\n",
       "      <td>5296</td>\n",
       "      <td>988900</td>\n",
       "      <td>9914854</td>\n",
       "      <td>10903754</td>\n",
       "    </tr>\n",
       "    <tr>\n",
       "      <th>4</th>\n",
       "      <td>gemma-2-9b-it</td>\n",
       "      <td>MATH level 5</td>\n",
       "      <td>8</td>\n",
       "      <td>10592</td>\n",
       "      <td>1989896</td>\n",
       "      <td>4551564</td>\n",
       "      <td>6541460</td>\n",
       "    </tr>\n",
       "    <tr>\n",
       "      <th>...</th>\n",
       "      <td>...</td>\n",
       "      <td>...</td>\n",
       "      <td>...</td>\n",
       "      <td>...</td>\n",
       "      <td>...</td>\n",
       "      <td>...</td>\n",
       "      <td>...</td>\n",
       "    </tr>\n",
       "    <tr>\n",
       "      <th>130</th>\n",
       "      <td>open-mistral-7b</td>\n",
       "      <td>MATH level 5</td>\n",
       "      <td>8</td>\n",
       "      <td>10592</td>\n",
       "      <td>2150624</td>\n",
       "      <td>6429532</td>\n",
       "      <td>8580156</td>\n",
       "    </tr>\n",
       "    <tr>\n",
       "      <th>131</th>\n",
       "      <td>Qwen2-72B-Instruct</td>\n",
       "      <td>GPQA Diamond</td>\n",
       "      <td>16</td>\n",
       "      <td>3168</td>\n",
       "      <td>889664</td>\n",
       "      <td>1028460</td>\n",
       "      <td>1918124</td>\n",
       "    </tr>\n",
       "    <tr>\n",
       "      <th>132</th>\n",
       "      <td>claude-3-5-sonnet-20240620</td>\n",
       "      <td>MATH level 5</td>\n",
       "      <td>8</td>\n",
       "      <td>10592</td>\n",
       "      <td>2137040</td>\n",
       "      <td>4674647</td>\n",
       "      <td>6811687</td>\n",
       "    </tr>\n",
       "    <tr>\n",
       "      <th>133</th>\n",
       "      <td>claude-3-opus-20240229</td>\n",
       "      <td>MATH level 5</td>\n",
       "      <td>8</td>\n",
       "      <td>10592</td>\n",
       "      <td>2137040</td>\n",
       "      <td>5204915</td>\n",
       "      <td>7341955</td>\n",
       "    </tr>\n",
       "    <tr>\n",
       "      <th>134</th>\n",
       "      <td>claude-3-opus-20240229</td>\n",
       "      <td>GPQA Diamond</td>\n",
       "      <td>16</td>\n",
       "      <td>3168</td>\n",
       "      <td>936096</td>\n",
       "      <td>1359057</td>\n",
       "      <td>2295153</td>\n",
       "    </tr>\n",
       "  </tbody>\n",
       "</table>\n",
       "<p>135 rows × 7 columns</p>\n",
       "</div>"
      ],
      "text/plain": [
       "                          Model          Task  epochs  total_samples  \\\n",
       "0                   Yi-34B-Chat  MATH level 5       8          10592   \n",
       "1          qwen2p5-72b-instruct  MATH level 5       8          10592   \n",
       "2                    gpt-4-0613  MATH level 5       8          10592   \n",
       "3       o1-mini-2024-09-12_high  MATH level 5       4           5296   \n",
       "4                 gemma-2-9b-it  MATH level 5       8          10592   \n",
       "..                          ...           ...     ...            ...   \n",
       "130             open-mistral-7b  MATH level 5       8          10592   \n",
       "131          Qwen2-72B-Instruct  GPQA Diamond      16           3168   \n",
       "132  claude-3-5-sonnet-20240620  MATH level 5       8          10592   \n",
       "133      claude-3-opus-20240229  MATH level 5       8          10592   \n",
       "134      claude-3-opus-20240229  GPQA Diamond      16           3168   \n",
       "\n",
       "     input_tokens  output_tokens  total_tokens  \n",
       "0         2222376        7308455       9530831  \n",
       "1         2243320        9708977      11952297  \n",
       "2         1982888        3620454       5603342  \n",
       "3          988900        9914854      10903754  \n",
       "4         1989896        4551564       6541460  \n",
       "..            ...            ...           ...  \n",
       "130       2150624        6429532       8580156  \n",
       "131        889664        1028460       1918124  \n",
       "132       2137040        4674647       6811687  \n",
       "133       2137040        5204915       7341955  \n",
       "134        936096        1359057       2295153  \n",
       "\n",
       "[135 rows x 7 columns]"
      ]
     },
     "execution_count": 4,
     "metadata": {},
     "output_type": "execute_result"
    }
   ],
   "source": [
    "df"
   ]
  },
  {
   "cell_type": "code",
   "execution_count": 5,
   "metadata": {},
   "outputs": [
    {
     "data": {
      "text/plain": [
       "73"
      ]
     },
     "execution_count": 5,
     "metadata": {},
     "output_type": "execute_result"
    }
   ],
   "source": [
    "len(df['Model'].unique())"
   ]
  },
  {
   "cell_type": "code",
   "execution_count": 6,
   "metadata": {},
   "outputs": [],
   "source": [
    "df['total_tokens_per_trial'] = df['total_tokens'] / df['epochs']\n",
    "df['total_tokens_per_question'] = df['total_tokens'] / df['total_samples']\n",
    "df['output_tokens_per_question'] = df['output_tokens'] / df['total_samples']"
   ]
  },
  {
   "cell_type": "code",
   "execution_count": 7,
   "metadata": {},
   "outputs": [
    {
     "data": {
      "application/vnd.plotly.v1+json": {
       "config": {
        "plotlyServerURL": "https://plot.ly"
       },
       "data": [
        {
         "alignmentgroup": "True",
         "hovertemplate": "Model name=%{x}<br>Output tokens per question=%{y}<extra></extra>",
         "legendgroup": "",
         "marker": {
          "color": "#636efa",
          "pattern": {
           "shape": ""
          }
         },
         "name": "",
         "offsetgroup": "",
         "orientation": "v",
         "showlegend": false,
         "textposition": "auto",
         "type": "bar",
         "x": [
          "deepseek-r1",
          "o1-2024-12-17_high",
          "o1-preview-2024-09-12",
          "o1-2024-12-17",
          "o3-mini-2025-01-31_high",
          "o1-mini-2024-09-12_high",
          "o3-mini-2025-01-31",
          "o1-mini-2024-09-12",
          "Meta-Llama-3.1-8B-Instruct",
          "grok-2-1212",
          "deepseek-v3",
          "WizardLM-2-8x22B",
          "gemini-2.0-pro-exp-02-05",
          "llama-v3p3-70b-instruct",
          "qwen2p5-72b-instruct",
          "gemini-2.0-flash-001",
          "llama-3.1-405b-instruct-maas",
          "phi-4",
          "llama-v3p2-90b-vision-instruct",
          "gpt-4-0125-preview",
          "gpt-4o-mini-2024-07-18",
          "gpt-4o-2024-11-20",
          "gpt-4-1106-preview",
          "Llama-3.1-Tulu-3-70B-DPO",
          "gpt-4o-2024-08-06",
          "Meta-Llama-3.1-70B-Instruct",
          "Yi-34B-Chat",
          "open-mixtral-8x22b",
          "gpt-4o-2024-05-13",
          "ministral-3b-2410",
          "Qwen2.5-32B-Instruct",
          "Yi-1.5-34B-Chat",
          "Mistral-7B-Instruct-v0.3",
          "dbrx-instruct",
          "mistral-small-2501",
          "open-mistral-7b",
          "ministral-8b-2410",
          "open-mixtral-8x7b",
          "gemini-1.5-flash-002",
          "gemini-1.5-pro-002",
          "mistral-large-2407",
          "mistral-large-2402",
          "Qwen2-72B-Instruct",
          "open-mistral-nemo-2407",
          "Phi-3-medium-128k-instruct",
          "Mixtral-8x7B-Instruct-v0.1",
          "claude-3-sonnet-20240229",
          "claude-3-opus-20240229",
          "gemma-2-27b-it",
          "claude-3-5-sonnet-20241022",
          "gemini-1.5-flash-001",
          "gemini-1.5-pro-001",
          "claude-3-5-sonnet-20240620",
          "deepseek-llm-67b-chat",
          "Llama-2-70b-chat-hf",
          "gemma-2-9b-it",
          "Meta-Llama-3-8B-Instruct",
          "claude-3-haiku-20240307",
          "Hermes-2-Theta-Llama-3-70B",
          "gpt-4-0613",
          "Meta-Llama-3-70B-Instruct",
          "gpt-3.5-turbo-1106",
          "gemini-1.0-pro-001",
          "gpt-3.5-turbo-0125",
          "claude-2.0"
         ],
         "xaxis": "x",
         "y": [
          4790.575528700906,
          4131.020392749245,
          3637.833081570997,
          3111.0996978851963,
          2975.7849320241694,
          1872.1401057401813,
          1678.2475453172206,
          1587.2901246223564,
          1302.0027379154078,
          1046.2107250755287,
          1027.4496790030212,
          1000.5017938066466,
          962.4471299093656,
          936.6130098187311,
          916.6330249244713,
          903.2000566465257,
          873.3751888217523,
          864.3622545317221,
          817.5141616314199,
          816.128493202417,
          811.1424660120846,
          787.1185800604229,
          764.4094599697885,
          755.5505098187311,
          702.3650868580061,
          698.3683912386707,
          689.9976397280967,
          683.1063066465257,
          669.9560045317221,
          666.542579305136,
          665.102341389728,
          646.5157666163142,
          644.6149924471299,
          638.654833836858,
          614.0021714501511,
          607.017749244713,
          606.5036820241692,
          600.1897658610272,
          581.2523602719033,
          567.6397280966768,
          558.8936933534743,
          535.9474131419939,
          535.3979418429003,
          533.5877077039275,
          521.581665407855,
          511.5765672205438,
          493.0096299093656,
          491.400585347432,
          469.35989425981876,
          448.7138406344411,
          446.59375,
          444.10300226586105,
          441.33751888217523,
          436.7959780966767,
          430.43589501510576,
          429.71714501510576,
          411.9165407854985,
          399.088085347432,
          342.8571563444109,
          341.8102341389728,
          335.30796827794563,
          330.0281344410876,
          307.56523791540786,
          301.97233761329306,
          256.53738670694867
         ],
         "yaxis": "y"
        }
       ],
       "layout": {
        "barmode": "relative",
        "height": 600,
        "legend": {
         "tracegroupgap": 0
        },
        "margin": {
         "b": 100
        },
        "template": {
         "data": {
          "bar": [
           {
            "error_x": {
             "color": "#2a3f5f"
            },
            "error_y": {
             "color": "#2a3f5f"
            },
            "marker": {
             "line": {
              "color": "#E5ECF6",
              "width": 0.5
             },
             "pattern": {
              "fillmode": "overlay",
              "size": 10,
              "solidity": 0.2
             }
            },
            "type": "bar"
           }
          ],
          "barpolar": [
           {
            "marker": {
             "line": {
              "color": "#E5ECF6",
              "width": 0.5
             },
             "pattern": {
              "fillmode": "overlay",
              "size": 10,
              "solidity": 0.2
             }
            },
            "type": "barpolar"
           }
          ],
          "carpet": [
           {
            "aaxis": {
             "endlinecolor": "#2a3f5f",
             "gridcolor": "white",
             "linecolor": "white",
             "minorgridcolor": "white",
             "startlinecolor": "#2a3f5f"
            },
            "baxis": {
             "endlinecolor": "#2a3f5f",
             "gridcolor": "white",
             "linecolor": "white",
             "minorgridcolor": "white",
             "startlinecolor": "#2a3f5f"
            },
            "type": "carpet"
           }
          ],
          "choropleth": [
           {
            "colorbar": {
             "outlinewidth": 0,
             "ticks": ""
            },
            "type": "choropleth"
           }
          ],
          "contour": [
           {
            "colorbar": {
             "outlinewidth": 0,
             "ticks": ""
            },
            "colorscale": [
             [
              0,
              "#0d0887"
             ],
             [
              0.1111111111111111,
              "#46039f"
             ],
             [
              0.2222222222222222,
              "#7201a8"
             ],
             [
              0.3333333333333333,
              "#9c179e"
             ],
             [
              0.4444444444444444,
              "#bd3786"
             ],
             [
              0.5555555555555556,
              "#d8576b"
             ],
             [
              0.6666666666666666,
              "#ed7953"
             ],
             [
              0.7777777777777778,
              "#fb9f3a"
             ],
             [
              0.8888888888888888,
              "#fdca26"
             ],
             [
              1,
              "#f0f921"
             ]
            ],
            "type": "contour"
           }
          ],
          "contourcarpet": [
           {
            "colorbar": {
             "outlinewidth": 0,
             "ticks": ""
            },
            "type": "contourcarpet"
           }
          ],
          "heatmap": [
           {
            "colorbar": {
             "outlinewidth": 0,
             "ticks": ""
            },
            "colorscale": [
             [
              0,
              "#0d0887"
             ],
             [
              0.1111111111111111,
              "#46039f"
             ],
             [
              0.2222222222222222,
              "#7201a8"
             ],
             [
              0.3333333333333333,
              "#9c179e"
             ],
             [
              0.4444444444444444,
              "#bd3786"
             ],
             [
              0.5555555555555556,
              "#d8576b"
             ],
             [
              0.6666666666666666,
              "#ed7953"
             ],
             [
              0.7777777777777778,
              "#fb9f3a"
             ],
             [
              0.8888888888888888,
              "#fdca26"
             ],
             [
              1,
              "#f0f921"
             ]
            ],
            "type": "heatmap"
           }
          ],
          "heatmapgl": [
           {
            "colorbar": {
             "outlinewidth": 0,
             "ticks": ""
            },
            "colorscale": [
             [
              0,
              "#0d0887"
             ],
             [
              0.1111111111111111,
              "#46039f"
             ],
             [
              0.2222222222222222,
              "#7201a8"
             ],
             [
              0.3333333333333333,
              "#9c179e"
             ],
             [
              0.4444444444444444,
              "#bd3786"
             ],
             [
              0.5555555555555556,
              "#d8576b"
             ],
             [
              0.6666666666666666,
              "#ed7953"
             ],
             [
              0.7777777777777778,
              "#fb9f3a"
             ],
             [
              0.8888888888888888,
              "#fdca26"
             ],
             [
              1,
              "#f0f921"
             ]
            ],
            "type": "heatmapgl"
           }
          ],
          "histogram": [
           {
            "marker": {
             "pattern": {
              "fillmode": "overlay",
              "size": 10,
              "solidity": 0.2
             }
            },
            "type": "histogram"
           }
          ],
          "histogram2d": [
           {
            "colorbar": {
             "outlinewidth": 0,
             "ticks": ""
            },
            "colorscale": [
             [
              0,
              "#0d0887"
             ],
             [
              0.1111111111111111,
              "#46039f"
             ],
             [
              0.2222222222222222,
              "#7201a8"
             ],
             [
              0.3333333333333333,
              "#9c179e"
             ],
             [
              0.4444444444444444,
              "#bd3786"
             ],
             [
              0.5555555555555556,
              "#d8576b"
             ],
             [
              0.6666666666666666,
              "#ed7953"
             ],
             [
              0.7777777777777778,
              "#fb9f3a"
             ],
             [
              0.8888888888888888,
              "#fdca26"
             ],
             [
              1,
              "#f0f921"
             ]
            ],
            "type": "histogram2d"
           }
          ],
          "histogram2dcontour": [
           {
            "colorbar": {
             "outlinewidth": 0,
             "ticks": ""
            },
            "colorscale": [
             [
              0,
              "#0d0887"
             ],
             [
              0.1111111111111111,
              "#46039f"
             ],
             [
              0.2222222222222222,
              "#7201a8"
             ],
             [
              0.3333333333333333,
              "#9c179e"
             ],
             [
              0.4444444444444444,
              "#bd3786"
             ],
             [
              0.5555555555555556,
              "#d8576b"
             ],
             [
              0.6666666666666666,
              "#ed7953"
             ],
             [
              0.7777777777777778,
              "#fb9f3a"
             ],
             [
              0.8888888888888888,
              "#fdca26"
             ],
             [
              1,
              "#f0f921"
             ]
            ],
            "type": "histogram2dcontour"
           }
          ],
          "mesh3d": [
           {
            "colorbar": {
             "outlinewidth": 0,
             "ticks": ""
            },
            "type": "mesh3d"
           }
          ],
          "parcoords": [
           {
            "line": {
             "colorbar": {
              "outlinewidth": 0,
              "ticks": ""
             }
            },
            "type": "parcoords"
           }
          ],
          "pie": [
           {
            "automargin": true,
            "type": "pie"
           }
          ],
          "scatter": [
           {
            "fillpattern": {
             "fillmode": "overlay",
             "size": 10,
             "solidity": 0.2
            },
            "type": "scatter"
           }
          ],
          "scatter3d": [
           {
            "line": {
             "colorbar": {
              "outlinewidth": 0,
              "ticks": ""
             }
            },
            "marker": {
             "colorbar": {
              "outlinewidth": 0,
              "ticks": ""
             }
            },
            "type": "scatter3d"
           }
          ],
          "scattercarpet": [
           {
            "marker": {
             "colorbar": {
              "outlinewidth": 0,
              "ticks": ""
             }
            },
            "type": "scattercarpet"
           }
          ],
          "scattergeo": [
           {
            "marker": {
             "colorbar": {
              "outlinewidth": 0,
              "ticks": ""
             }
            },
            "type": "scattergeo"
           }
          ],
          "scattergl": [
           {
            "marker": {
             "colorbar": {
              "outlinewidth": 0,
              "ticks": ""
             }
            },
            "type": "scattergl"
           }
          ],
          "scattermapbox": [
           {
            "marker": {
             "colorbar": {
              "outlinewidth": 0,
              "ticks": ""
             }
            },
            "type": "scattermapbox"
           }
          ],
          "scatterpolar": [
           {
            "marker": {
             "colorbar": {
              "outlinewidth": 0,
              "ticks": ""
             }
            },
            "type": "scatterpolar"
           }
          ],
          "scatterpolargl": [
           {
            "marker": {
             "colorbar": {
              "outlinewidth": 0,
              "ticks": ""
             }
            },
            "type": "scatterpolargl"
           }
          ],
          "scatterternary": [
           {
            "marker": {
             "colorbar": {
              "outlinewidth": 0,
              "ticks": ""
             }
            },
            "type": "scatterternary"
           }
          ],
          "surface": [
           {
            "colorbar": {
             "outlinewidth": 0,
             "ticks": ""
            },
            "colorscale": [
             [
              0,
              "#0d0887"
             ],
             [
              0.1111111111111111,
              "#46039f"
             ],
             [
              0.2222222222222222,
              "#7201a8"
             ],
             [
              0.3333333333333333,
              "#9c179e"
             ],
             [
              0.4444444444444444,
              "#bd3786"
             ],
             [
              0.5555555555555556,
              "#d8576b"
             ],
             [
              0.6666666666666666,
              "#ed7953"
             ],
             [
              0.7777777777777778,
              "#fb9f3a"
             ],
             [
              0.8888888888888888,
              "#fdca26"
             ],
             [
              1,
              "#f0f921"
             ]
            ],
            "type": "surface"
           }
          ],
          "table": [
           {
            "cells": {
             "fill": {
              "color": "#EBF0F8"
             },
             "line": {
              "color": "white"
             }
            },
            "header": {
             "fill": {
              "color": "#C8D4E3"
             },
             "line": {
              "color": "white"
             }
            },
            "type": "table"
           }
          ]
         },
         "layout": {
          "annotationdefaults": {
           "arrowcolor": "#2a3f5f",
           "arrowhead": 0,
           "arrowwidth": 1
          },
          "autotypenumbers": "strict",
          "coloraxis": {
           "colorbar": {
            "outlinewidth": 0,
            "ticks": ""
           }
          },
          "colorscale": {
           "diverging": [
            [
             0,
             "#8e0152"
            ],
            [
             0.1,
             "#c51b7d"
            ],
            [
             0.2,
             "#de77ae"
            ],
            [
             0.3,
             "#f1b6da"
            ],
            [
             0.4,
             "#fde0ef"
            ],
            [
             0.5,
             "#f7f7f7"
            ],
            [
             0.6,
             "#e6f5d0"
            ],
            [
             0.7,
             "#b8e186"
            ],
            [
             0.8,
             "#7fbc41"
            ],
            [
             0.9,
             "#4d9221"
            ],
            [
             1,
             "#276419"
            ]
           ],
           "sequential": [
            [
             0,
             "#0d0887"
            ],
            [
             0.1111111111111111,
             "#46039f"
            ],
            [
             0.2222222222222222,
             "#7201a8"
            ],
            [
             0.3333333333333333,
             "#9c179e"
            ],
            [
             0.4444444444444444,
             "#bd3786"
            ],
            [
             0.5555555555555556,
             "#d8576b"
            ],
            [
             0.6666666666666666,
             "#ed7953"
            ],
            [
             0.7777777777777778,
             "#fb9f3a"
            ],
            [
             0.8888888888888888,
             "#fdca26"
            ],
            [
             1,
             "#f0f921"
            ]
           ],
           "sequentialminus": [
            [
             0,
             "#0d0887"
            ],
            [
             0.1111111111111111,
             "#46039f"
            ],
            [
             0.2222222222222222,
             "#7201a8"
            ],
            [
             0.3333333333333333,
             "#9c179e"
            ],
            [
             0.4444444444444444,
             "#bd3786"
            ],
            [
             0.5555555555555556,
             "#d8576b"
            ],
            [
             0.6666666666666666,
             "#ed7953"
            ],
            [
             0.7777777777777778,
             "#fb9f3a"
            ],
            [
             0.8888888888888888,
             "#fdca26"
            ],
            [
             1,
             "#f0f921"
            ]
           ]
          },
          "colorway": [
           "#636efa",
           "#EF553B",
           "#00cc96",
           "#ab63fa",
           "#FFA15A",
           "#19d3f3",
           "#FF6692",
           "#B6E880",
           "#FF97FF",
           "#FECB52"
          ],
          "font": {
           "color": "#2a3f5f"
          },
          "geo": {
           "bgcolor": "white",
           "lakecolor": "white",
           "landcolor": "#E5ECF6",
           "showlakes": true,
           "showland": true,
           "subunitcolor": "white"
          },
          "hoverlabel": {
           "align": "left"
          },
          "hovermode": "closest",
          "mapbox": {
           "style": "light"
          },
          "paper_bgcolor": "white",
          "plot_bgcolor": "#E5ECF6",
          "polar": {
           "angularaxis": {
            "gridcolor": "white",
            "linecolor": "white",
            "ticks": ""
           },
           "bgcolor": "#E5ECF6",
           "radialaxis": {
            "gridcolor": "white",
            "linecolor": "white",
            "ticks": ""
           }
          },
          "scene": {
           "xaxis": {
            "backgroundcolor": "#E5ECF6",
            "gridcolor": "white",
            "gridwidth": 2,
            "linecolor": "white",
            "showbackground": true,
            "ticks": "",
            "zerolinecolor": "white"
           },
           "yaxis": {
            "backgroundcolor": "#E5ECF6",
            "gridcolor": "white",
            "gridwidth": 2,
            "linecolor": "white",
            "showbackground": true,
            "ticks": "",
            "zerolinecolor": "white"
           },
           "zaxis": {
            "backgroundcolor": "#E5ECF6",
            "gridcolor": "white",
            "gridwidth": 2,
            "linecolor": "white",
            "showbackground": true,
            "ticks": "",
            "zerolinecolor": "white"
           }
          },
          "shapedefaults": {
           "line": {
            "color": "#2a3f5f"
           }
          },
          "ternary": {
           "aaxis": {
            "gridcolor": "white",
            "linecolor": "white",
            "ticks": ""
           },
           "baxis": {
            "gridcolor": "white",
            "linecolor": "white",
            "ticks": ""
           },
           "bgcolor": "#E5ECF6",
           "caxis": {
            "gridcolor": "white",
            "linecolor": "white",
            "ticks": ""
           }
          },
          "title": {
           "x": 0.05
          },
          "xaxis": {
           "automargin": true,
           "gridcolor": "white",
           "linecolor": "white",
           "ticks": "",
           "title": {
            "standoff": 15
           },
           "zerolinecolor": "white",
           "zerolinewidth": 2
          },
          "yaxis": {
           "automargin": true,
           "gridcolor": "white",
           "linecolor": "white",
           "ticks": "",
           "title": {
            "standoff": 15
           },
           "zerolinecolor": "white",
           "zerolinewidth": 2
          }
         }
        },
        "title": {
         "text": "Average of output tokens per question by model for MATH level 5"
        },
        "width": 1200,
        "xaxis": {
         "anchor": "y",
         "domain": [
          0,
          1
         ],
         "tickangle": -45,
         "title": {
          "text": "Model"
         }
        },
        "yaxis": {
         "anchor": "x",
         "domain": [
          0,
          1
         ],
         "title": {
          "text": "Output Tokens"
         }
        }
       }
      }
     },
     "metadata": {},
     "output_type": "display_data"
    },
    {
     "data": {
      "application/vnd.plotly.v1+json": {
       "config": {
        "plotlyServerURL": "https://plot.ly"
       },
       "data": [
        {
         "alignmentgroup": "True",
         "hovertemplate": "Model name=%{x}<br>Output tokens per question=%{y}<extra></extra>",
         "legendgroup": "",
         "marker": {
          "color": "#636efa",
          "pattern": {
           "shape": ""
          }
         },
         "name": "",
         "offsetgroup": "",
         "orientation": "v",
         "showlegend": false,
         "textposition": "auto",
         "type": "bar",
         "x": [
          "o3-mini-2025-01-31_high",
          "deepseek-r1",
          "o1-2024-12-17_high",
          "o1-2024-12-17",
          "o3-mini-2025-01-31",
          "o1-preview-2024-09-12",
          "o1-mini-2024-09-12_high",
          "o1-mini-2024-09-12",
          "WizardLM-2-8x22B",
          "Meta-Llama-3.1-8B-Instruct",
          "Eurus-2-7B-PRIME",
          "llama-v3p3-70b-instruct",
          "gpt-4o-2024-11-20",
          "Qwen2.5-72B-Instruct",
          "Yi-1.5-34B-Chat",
          "Meta-Llama-3.1-70B-Instruct",
          "phi-4",
          "grok-2-1212",
          "llama-v3p2-90b-vision-instruct",
          "Llama-3.1-Tulu-3-70B-DPO",
          "DeepSeek-V3",
          "gemini-2.0-pro-exp-02-05",
          "Meta-Llama-3.1-405B-Instruct",
          "gemini-2.0-flash-001",
          "gemini-2.0-flash-thinking-exp-01-21",
          "gpt-4o-2024-05-13",
          "gpt-4o-2024-08-06",
          "gpt-4-0125-preview",
          "open-mixtral-8x22b",
          "gpt-4o-mini-2024-07-18",
          "Qwen2.5-32B-Instruct",
          "Phi-3-medium-128k-instruct",
          "gpt-4-1106-preview",
          "ministral-8b-2410",
          "mistral-small-2501",
          "Mistral-7B-Instruct-v0.3",
          "open-mixtral-8x7b",
          "ministral-3b-2410",
          "Mixtral-8x7B-Instruct-v0.1",
          "mistral-large-2407",
          "claude-3-sonnet-20240229",
          "open-mistral-7b",
          "gemini-1.5-pro-002",
          "Llama-2-70b-chat-hf",
          "claude-3-opus-20240229",
          "open-mistral-nemo-2407",
          "claude-3-5-sonnet-20240620",
          "Qwen1.5-32B-Chat",
          "gemini-1.5-flash-002",
          "dbrx-instruct",
          "Qwen1.5-72B-Chat",
          "deepseek-llm-67b-chat",
          "Meta-Llama-3-8B-Instruct",
          "mistral-large-2402",
          "gemini-1.5-flash-001",
          "claude-3-5-sonnet-20241022",
          "claude-3-haiku-20240307",
          "gemini-1.5-pro-001",
          "gemma-2-27b-it",
          "Yi-34B-Chat",
          "Qwen2-72B-Instruct",
          "gemma-2-9b-it",
          "Meta-Llama-3-70B-Instruct",
          "Hermes-2-Theta-Llama-3-70B",
          "claude-2.1",
          "gpt-4-0613",
          "gemini-1.0-pro-001",
          "claude-2.0",
          "gpt-3.5-turbo-0125",
          "gpt-3.5-turbo-1106"
         ],
         "xaxis": "x",
         "y": [
          7721.893939393939,
          7594.727272727273,
          6357.838383838384,
          4125.025252525253,
          3106.8289141414143,
          3030.1079545454545,
          1877.2405303030303,
          1766.7402146464647,
          1039.9917929292928,
          984.5400883838383,
          981.4261363636364,
          808.125946969697,
          740.1786616161617,
          728.2484217171717,
          712.5814393939394,
          675.1306818181819,
          664.9491792929293,
          649.0732323232323,
          645.3516414141415,
          632.3222853535353,
          625.9892676767677,
          625.0505050505051,
          623.9311868686868,
          613.3986742424242,
          603.6666666666666,
          599.041351010101,
          587.3869949494949,
          572.5037878787879,
          561.4431818181819,
          560.5527146464647,
          557.9895833333334,
          532.3497474747475,
          530.5565025252525,
          521.3399621212121,
          518.1515151515151,
          490.5760732323232,
          486.5984848484849,
          477.39204545454544,
          473.35953282828285,
          467.63320707070704,
          463.8263888888889,
          452.60353535353534,
          435.4599116161616,
          429.7935606060606,
          428.9952651515151,
          420.917297979798,
          420.5814393939394,
          420.2108585858586,
          418.39551767676767,
          399.28882575757575,
          397.04103535353534,
          372.62468434343435,
          364.34564393939394,
          363.94823232323233,
          360.03125,
          352.74179292929296,
          344.82165404040404,
          344.2477904040404,
          331.706755050505,
          327.13036616161617,
          324.6401515151515,
          317.70612373737373,
          312.8087121212121,
          286.4236111111111,
          224.67455808080808,
          219.1234217171717,
          217.78345959595958,
          201.49526515151516,
          103.65782828282828,
          101.00347222222223
         ],
         "yaxis": "y"
        }
       ],
       "layout": {
        "barmode": "relative",
        "height": 600,
        "legend": {
         "tracegroupgap": 0
        },
        "margin": {
         "b": 100
        },
        "template": {
         "data": {
          "bar": [
           {
            "error_x": {
             "color": "#2a3f5f"
            },
            "error_y": {
             "color": "#2a3f5f"
            },
            "marker": {
             "line": {
              "color": "#E5ECF6",
              "width": 0.5
             },
             "pattern": {
              "fillmode": "overlay",
              "size": 10,
              "solidity": 0.2
             }
            },
            "type": "bar"
           }
          ],
          "barpolar": [
           {
            "marker": {
             "line": {
              "color": "#E5ECF6",
              "width": 0.5
             },
             "pattern": {
              "fillmode": "overlay",
              "size": 10,
              "solidity": 0.2
             }
            },
            "type": "barpolar"
           }
          ],
          "carpet": [
           {
            "aaxis": {
             "endlinecolor": "#2a3f5f",
             "gridcolor": "white",
             "linecolor": "white",
             "minorgridcolor": "white",
             "startlinecolor": "#2a3f5f"
            },
            "baxis": {
             "endlinecolor": "#2a3f5f",
             "gridcolor": "white",
             "linecolor": "white",
             "minorgridcolor": "white",
             "startlinecolor": "#2a3f5f"
            },
            "type": "carpet"
           }
          ],
          "choropleth": [
           {
            "colorbar": {
             "outlinewidth": 0,
             "ticks": ""
            },
            "type": "choropleth"
           }
          ],
          "contour": [
           {
            "colorbar": {
             "outlinewidth": 0,
             "ticks": ""
            },
            "colorscale": [
             [
              0,
              "#0d0887"
             ],
             [
              0.1111111111111111,
              "#46039f"
             ],
             [
              0.2222222222222222,
              "#7201a8"
             ],
             [
              0.3333333333333333,
              "#9c179e"
             ],
             [
              0.4444444444444444,
              "#bd3786"
             ],
             [
              0.5555555555555556,
              "#d8576b"
             ],
             [
              0.6666666666666666,
              "#ed7953"
             ],
             [
              0.7777777777777778,
              "#fb9f3a"
             ],
             [
              0.8888888888888888,
              "#fdca26"
             ],
             [
              1,
              "#f0f921"
             ]
            ],
            "type": "contour"
           }
          ],
          "contourcarpet": [
           {
            "colorbar": {
             "outlinewidth": 0,
             "ticks": ""
            },
            "type": "contourcarpet"
           }
          ],
          "heatmap": [
           {
            "colorbar": {
             "outlinewidth": 0,
             "ticks": ""
            },
            "colorscale": [
             [
              0,
              "#0d0887"
             ],
             [
              0.1111111111111111,
              "#46039f"
             ],
             [
              0.2222222222222222,
              "#7201a8"
             ],
             [
              0.3333333333333333,
              "#9c179e"
             ],
             [
              0.4444444444444444,
              "#bd3786"
             ],
             [
              0.5555555555555556,
              "#d8576b"
             ],
             [
              0.6666666666666666,
              "#ed7953"
             ],
             [
              0.7777777777777778,
              "#fb9f3a"
             ],
             [
              0.8888888888888888,
              "#fdca26"
             ],
             [
              1,
              "#f0f921"
             ]
            ],
            "type": "heatmap"
           }
          ],
          "heatmapgl": [
           {
            "colorbar": {
             "outlinewidth": 0,
             "ticks": ""
            },
            "colorscale": [
             [
              0,
              "#0d0887"
             ],
             [
              0.1111111111111111,
              "#46039f"
             ],
             [
              0.2222222222222222,
              "#7201a8"
             ],
             [
              0.3333333333333333,
              "#9c179e"
             ],
             [
              0.4444444444444444,
              "#bd3786"
             ],
             [
              0.5555555555555556,
              "#d8576b"
             ],
             [
              0.6666666666666666,
              "#ed7953"
             ],
             [
              0.7777777777777778,
              "#fb9f3a"
             ],
             [
              0.8888888888888888,
              "#fdca26"
             ],
             [
              1,
              "#f0f921"
             ]
            ],
            "type": "heatmapgl"
           }
          ],
          "histogram": [
           {
            "marker": {
             "pattern": {
              "fillmode": "overlay",
              "size": 10,
              "solidity": 0.2
             }
            },
            "type": "histogram"
           }
          ],
          "histogram2d": [
           {
            "colorbar": {
             "outlinewidth": 0,
             "ticks": ""
            },
            "colorscale": [
             [
              0,
              "#0d0887"
             ],
             [
              0.1111111111111111,
              "#46039f"
             ],
             [
              0.2222222222222222,
              "#7201a8"
             ],
             [
              0.3333333333333333,
              "#9c179e"
             ],
             [
              0.4444444444444444,
              "#bd3786"
             ],
             [
              0.5555555555555556,
              "#d8576b"
             ],
             [
              0.6666666666666666,
              "#ed7953"
             ],
             [
              0.7777777777777778,
              "#fb9f3a"
             ],
             [
              0.8888888888888888,
              "#fdca26"
             ],
             [
              1,
              "#f0f921"
             ]
            ],
            "type": "histogram2d"
           }
          ],
          "histogram2dcontour": [
           {
            "colorbar": {
             "outlinewidth": 0,
             "ticks": ""
            },
            "colorscale": [
             [
              0,
              "#0d0887"
             ],
             [
              0.1111111111111111,
              "#46039f"
             ],
             [
              0.2222222222222222,
              "#7201a8"
             ],
             [
              0.3333333333333333,
              "#9c179e"
             ],
             [
              0.4444444444444444,
              "#bd3786"
             ],
             [
              0.5555555555555556,
              "#d8576b"
             ],
             [
              0.6666666666666666,
              "#ed7953"
             ],
             [
              0.7777777777777778,
              "#fb9f3a"
             ],
             [
              0.8888888888888888,
              "#fdca26"
             ],
             [
              1,
              "#f0f921"
             ]
            ],
            "type": "histogram2dcontour"
           }
          ],
          "mesh3d": [
           {
            "colorbar": {
             "outlinewidth": 0,
             "ticks": ""
            },
            "type": "mesh3d"
           }
          ],
          "parcoords": [
           {
            "line": {
             "colorbar": {
              "outlinewidth": 0,
              "ticks": ""
             }
            },
            "type": "parcoords"
           }
          ],
          "pie": [
           {
            "automargin": true,
            "type": "pie"
           }
          ],
          "scatter": [
           {
            "fillpattern": {
             "fillmode": "overlay",
             "size": 10,
             "solidity": 0.2
            },
            "type": "scatter"
           }
          ],
          "scatter3d": [
           {
            "line": {
             "colorbar": {
              "outlinewidth": 0,
              "ticks": ""
             }
            },
            "marker": {
             "colorbar": {
              "outlinewidth": 0,
              "ticks": ""
             }
            },
            "type": "scatter3d"
           }
          ],
          "scattercarpet": [
           {
            "marker": {
             "colorbar": {
              "outlinewidth": 0,
              "ticks": ""
             }
            },
            "type": "scattercarpet"
           }
          ],
          "scattergeo": [
           {
            "marker": {
             "colorbar": {
              "outlinewidth": 0,
              "ticks": ""
             }
            },
            "type": "scattergeo"
           }
          ],
          "scattergl": [
           {
            "marker": {
             "colorbar": {
              "outlinewidth": 0,
              "ticks": ""
             }
            },
            "type": "scattergl"
           }
          ],
          "scattermapbox": [
           {
            "marker": {
             "colorbar": {
              "outlinewidth": 0,
              "ticks": ""
             }
            },
            "type": "scattermapbox"
           }
          ],
          "scatterpolar": [
           {
            "marker": {
             "colorbar": {
              "outlinewidth": 0,
              "ticks": ""
             }
            },
            "type": "scatterpolar"
           }
          ],
          "scatterpolargl": [
           {
            "marker": {
             "colorbar": {
              "outlinewidth": 0,
              "ticks": ""
             }
            },
            "type": "scatterpolargl"
           }
          ],
          "scatterternary": [
           {
            "marker": {
             "colorbar": {
              "outlinewidth": 0,
              "ticks": ""
             }
            },
            "type": "scatterternary"
           }
          ],
          "surface": [
           {
            "colorbar": {
             "outlinewidth": 0,
             "ticks": ""
            },
            "colorscale": [
             [
              0,
              "#0d0887"
             ],
             [
              0.1111111111111111,
              "#46039f"
             ],
             [
              0.2222222222222222,
              "#7201a8"
             ],
             [
              0.3333333333333333,
              "#9c179e"
             ],
             [
              0.4444444444444444,
              "#bd3786"
             ],
             [
              0.5555555555555556,
              "#d8576b"
             ],
             [
              0.6666666666666666,
              "#ed7953"
             ],
             [
              0.7777777777777778,
              "#fb9f3a"
             ],
             [
              0.8888888888888888,
              "#fdca26"
             ],
             [
              1,
              "#f0f921"
             ]
            ],
            "type": "surface"
           }
          ],
          "table": [
           {
            "cells": {
             "fill": {
              "color": "#EBF0F8"
             },
             "line": {
              "color": "white"
             }
            },
            "header": {
             "fill": {
              "color": "#C8D4E3"
             },
             "line": {
              "color": "white"
             }
            },
            "type": "table"
           }
          ]
         },
         "layout": {
          "annotationdefaults": {
           "arrowcolor": "#2a3f5f",
           "arrowhead": 0,
           "arrowwidth": 1
          },
          "autotypenumbers": "strict",
          "coloraxis": {
           "colorbar": {
            "outlinewidth": 0,
            "ticks": ""
           }
          },
          "colorscale": {
           "diverging": [
            [
             0,
             "#8e0152"
            ],
            [
             0.1,
             "#c51b7d"
            ],
            [
             0.2,
             "#de77ae"
            ],
            [
             0.3,
             "#f1b6da"
            ],
            [
             0.4,
             "#fde0ef"
            ],
            [
             0.5,
             "#f7f7f7"
            ],
            [
             0.6,
             "#e6f5d0"
            ],
            [
             0.7,
             "#b8e186"
            ],
            [
             0.8,
             "#7fbc41"
            ],
            [
             0.9,
             "#4d9221"
            ],
            [
             1,
             "#276419"
            ]
           ],
           "sequential": [
            [
             0,
             "#0d0887"
            ],
            [
             0.1111111111111111,
             "#46039f"
            ],
            [
             0.2222222222222222,
             "#7201a8"
            ],
            [
             0.3333333333333333,
             "#9c179e"
            ],
            [
             0.4444444444444444,
             "#bd3786"
            ],
            [
             0.5555555555555556,
             "#d8576b"
            ],
            [
             0.6666666666666666,
             "#ed7953"
            ],
            [
             0.7777777777777778,
             "#fb9f3a"
            ],
            [
             0.8888888888888888,
             "#fdca26"
            ],
            [
             1,
             "#f0f921"
            ]
           ],
           "sequentialminus": [
            [
             0,
             "#0d0887"
            ],
            [
             0.1111111111111111,
             "#46039f"
            ],
            [
             0.2222222222222222,
             "#7201a8"
            ],
            [
             0.3333333333333333,
             "#9c179e"
            ],
            [
             0.4444444444444444,
             "#bd3786"
            ],
            [
             0.5555555555555556,
             "#d8576b"
            ],
            [
             0.6666666666666666,
             "#ed7953"
            ],
            [
             0.7777777777777778,
             "#fb9f3a"
            ],
            [
             0.8888888888888888,
             "#fdca26"
            ],
            [
             1,
             "#f0f921"
            ]
           ]
          },
          "colorway": [
           "#636efa",
           "#EF553B",
           "#00cc96",
           "#ab63fa",
           "#FFA15A",
           "#19d3f3",
           "#FF6692",
           "#B6E880",
           "#FF97FF",
           "#FECB52"
          ],
          "font": {
           "color": "#2a3f5f"
          },
          "geo": {
           "bgcolor": "white",
           "lakecolor": "white",
           "landcolor": "#E5ECF6",
           "showlakes": true,
           "showland": true,
           "subunitcolor": "white"
          },
          "hoverlabel": {
           "align": "left"
          },
          "hovermode": "closest",
          "mapbox": {
           "style": "light"
          },
          "paper_bgcolor": "white",
          "plot_bgcolor": "#E5ECF6",
          "polar": {
           "angularaxis": {
            "gridcolor": "white",
            "linecolor": "white",
            "ticks": ""
           },
           "bgcolor": "#E5ECF6",
           "radialaxis": {
            "gridcolor": "white",
            "linecolor": "white",
            "ticks": ""
           }
          },
          "scene": {
           "xaxis": {
            "backgroundcolor": "#E5ECF6",
            "gridcolor": "white",
            "gridwidth": 2,
            "linecolor": "white",
            "showbackground": true,
            "ticks": "",
            "zerolinecolor": "white"
           },
           "yaxis": {
            "backgroundcolor": "#E5ECF6",
            "gridcolor": "white",
            "gridwidth": 2,
            "linecolor": "white",
            "showbackground": true,
            "ticks": "",
            "zerolinecolor": "white"
           },
           "zaxis": {
            "backgroundcolor": "#E5ECF6",
            "gridcolor": "white",
            "gridwidth": 2,
            "linecolor": "white",
            "showbackground": true,
            "ticks": "",
            "zerolinecolor": "white"
           }
          },
          "shapedefaults": {
           "line": {
            "color": "#2a3f5f"
           }
          },
          "ternary": {
           "aaxis": {
            "gridcolor": "white",
            "linecolor": "white",
            "ticks": ""
           },
           "baxis": {
            "gridcolor": "white",
            "linecolor": "white",
            "ticks": ""
           },
           "bgcolor": "#E5ECF6",
           "caxis": {
            "gridcolor": "white",
            "linecolor": "white",
            "ticks": ""
           }
          },
          "title": {
           "x": 0.05
          },
          "xaxis": {
           "automargin": true,
           "gridcolor": "white",
           "linecolor": "white",
           "ticks": "",
           "title": {
            "standoff": 15
           },
           "zerolinecolor": "white",
           "zerolinewidth": 2
          },
          "yaxis": {
           "automargin": true,
           "gridcolor": "white",
           "linecolor": "white",
           "ticks": "",
           "title": {
            "standoff": 15
           },
           "zerolinecolor": "white",
           "zerolinewidth": 2
          }
         }
        },
        "title": {
         "text": "Average of output tokens per question by model for GPQA Diamond"
        },
        "width": 1200,
        "xaxis": {
         "anchor": "y",
         "domain": [
          0,
          1
         ],
         "tickangle": -45,
         "title": {
          "text": "Model"
         }
        },
        "yaxis": {
         "anchor": "x",
         "domain": [
          0,
          1
         ],
         "title": {
          "text": "Output Tokens"
         }
        }
       }
      }
     },
     "metadata": {},
     "output_type": "display_data"
    }
   ],
   "source": [
    "# Create separate bar charts for each task\n",
    "import plotly.express as px\n",
    "from plotly.subplots import make_subplots\n",
    "import plotly.graph_objects as go\n",
    "\n",
    "# Get unique tasks\n",
    "tasks = df['Task'].unique()\n",
    "\n",
    "# Create a figure for each task\n",
    "for task in tasks:\n",
    "    # Filter data for this task\n",
    "    task_df = df[df['Task'] == task]\n",
    "    \n",
    "    # Sort by total tokens in descending order\n",
    "    sorted_task_df = task_df.sort_values('output_tokens_per_question', ascending=False)\n",
    "    \n",
    "    # Create the bar chart for this task\n",
    "    fig = px.bar(\n",
    "        sorted_task_df,\n",
    "        x='Model',\n",
    "        y='output_tokens_per_question',\n",
    "        title=f'Average of output tokens per question by model for {task}',\n",
    "        labels={\n",
    "            'Model': 'Model name',\n",
    "            'output_tokens_per_question': 'Output tokens per question',\n",
    "        },\n",
    "    )\n",
    "    \n",
    "    # Update layout for better readability\n",
    "    fig.update_layout(\n",
    "        width=1200,\n",
    "        height=600,\n",
    "        xaxis_tickangle=-45,\n",
    "        xaxis_title='Model',\n",
    "        yaxis_title='Output Tokens',\n",
    "        margin=dict(b=100)  # Add bottom margin for rotated labels\n",
    "    )\n",
    "\n",
    "    save_plot(fig, results_dir, f'output_tokens_per_question_by_model_for_{task}')\n",
    "    \n",
    "    fig.show()\n"
   ]
  },
  {
   "cell_type": "code",
   "execution_count": 8,
   "metadata": {},
   "outputs": [
    {
     "data": {
      "text/plain": [
       "['DeepSeek-V3',\n",
       " 'Eurus-2-7B-PRIME',\n",
       " 'Hermes-2-Theta-Llama-3-70B',\n",
       " 'Llama-2-70b-chat-hf',\n",
       " 'Llama-3.1-Tulu-3-70B-DPO',\n",
       " 'Meta-Llama-3-70B-Instruct',\n",
       " 'Meta-Llama-3-8B-Instruct',\n",
       " 'Meta-Llama-3.1-405B-Instruct',\n",
       " 'Meta-Llama-3.1-70B-Instruct',\n",
       " 'Meta-Llama-3.1-8B-Instruct',\n",
       " 'Mistral-7B-Instruct-v0.3',\n",
       " 'Mixtral-8x7B-Instruct-v0.1',\n",
       " 'Phi-3-medium-128k-instruct',\n",
       " 'Qwen1.5-32B-Chat',\n",
       " 'Qwen1.5-72B-Chat',\n",
       " 'Qwen2-72B-Instruct',\n",
       " 'Qwen2.5-32B-Instruct',\n",
       " 'Qwen2.5-72B-Instruct',\n",
       " 'WizardLM-2-8x22B',\n",
       " 'Yi-1.5-34B-Chat',\n",
       " 'Yi-34B-Chat',\n",
       " 'claude-2.0',\n",
       " 'claude-2.1',\n",
       " 'claude-3-5-sonnet-20240620',\n",
       " 'claude-3-5-sonnet-20241022',\n",
       " 'claude-3-haiku-20240307',\n",
       " 'claude-3-opus-20240229',\n",
       " 'claude-3-sonnet-20240229',\n",
       " 'dbrx-instruct',\n",
       " 'deepseek-llm-67b-chat',\n",
       " 'deepseek-r1',\n",
       " 'deepseek-v3',\n",
       " 'gemini-1.0-pro-001',\n",
       " 'gemini-1.5-flash-001',\n",
       " 'gemini-1.5-flash-002',\n",
       " 'gemini-1.5-pro-001',\n",
       " 'gemini-1.5-pro-002',\n",
       " 'gemini-2.0-flash-001',\n",
       " 'gemini-2.0-flash-thinking-exp-01-21',\n",
       " 'gemini-2.0-pro-exp-02-05',\n",
       " 'gemma-2-27b-it',\n",
       " 'gemma-2-9b-it',\n",
       " 'gpt-3.5-turbo-0125',\n",
       " 'gpt-3.5-turbo-1106',\n",
       " 'gpt-4-0125-preview',\n",
       " 'gpt-4-0613',\n",
       " 'gpt-4-1106-preview',\n",
       " 'gpt-4o-2024-05-13',\n",
       " 'gpt-4o-2024-08-06',\n",
       " 'gpt-4o-2024-11-20',\n",
       " 'gpt-4o-mini-2024-07-18',\n",
       " 'grok-2-1212',\n",
       " 'llama-3.1-405b-instruct-maas',\n",
       " 'llama-v3p2-90b-vision-instruct',\n",
       " 'llama-v3p3-70b-instruct',\n",
       " 'ministral-3b-2410',\n",
       " 'ministral-8b-2410',\n",
       " 'mistral-large-2402',\n",
       " 'mistral-large-2407',\n",
       " 'mistral-small-2501',\n",
       " 'o1-2024-12-17',\n",
       " 'o1-2024-12-17_high',\n",
       " 'o1-mini-2024-09-12',\n",
       " 'o1-mini-2024-09-12_high',\n",
       " 'o1-preview-2024-09-12',\n",
       " 'o3-mini-2025-01-31',\n",
       " 'o3-mini-2025-01-31_high',\n",
       " 'open-mistral-7b',\n",
       " 'open-mistral-nemo-2407',\n",
       " 'open-mixtral-8x22b',\n",
       " 'open-mixtral-8x7b',\n",
       " 'phi-4',\n",
       " 'qwen2p5-72b-instruct']"
      ]
     },
     "execution_count": 8,
     "metadata": {},
     "output_type": "execute_result"
    }
   ],
   "source": [
    "sorted(df['Model'].unique())"
   ]
  },
  {
   "cell_type": "code",
   "execution_count": 9,
   "metadata": {},
   "outputs": [
    {
     "data": {
      "text/html": [
       "<div>\n",
       "<style scoped>\n",
       "    .dataframe tbody tr th:only-of-type {\n",
       "        vertical-align: middle;\n",
       "    }\n",
       "\n",
       "    .dataframe tbody tr th {\n",
       "        vertical-align: top;\n",
       "    }\n",
       "\n",
       "    .dataframe thead th {\n",
       "        text-align: right;\n",
       "    }\n",
       "</style>\n",
       "<table border=\"1\" class=\"dataframe\">\n",
       "  <thead>\n",
       "    <tr style=\"text-align: right;\">\n",
       "      <th></th>\n",
       "      <th>Model</th>\n",
       "      <th>Task</th>\n",
       "      <th>epochs</th>\n",
       "      <th>total_samples</th>\n",
       "      <th>input_tokens</th>\n",
       "      <th>output_tokens</th>\n",
       "      <th>total_tokens</th>\n",
       "      <th>total_tokens_per_trial</th>\n",
       "      <th>total_tokens_per_question</th>\n",
       "      <th>output_tokens_per_question</th>\n",
       "    </tr>\n",
       "  </thead>\n",
       "  <tbody>\n",
       "    <tr>\n",
       "      <th>3</th>\n",
       "      <td>o1-mini-2024-09-12_high</td>\n",
       "      <td>MATH level 5</td>\n",
       "      <td>4</td>\n",
       "      <td>5296</td>\n",
       "      <td>988900</td>\n",
       "      <td>9914854</td>\n",
       "      <td>10903754</td>\n",
       "      <td>2.725938e+06</td>\n",
       "      <td>2058.865937</td>\n",
       "      <td>1872.140106</td>\n",
       "    </tr>\n",
       "    <tr>\n",
       "      <th>10</th>\n",
       "      <td>o3-mini-2025-01-31_high</td>\n",
       "      <td>GPQA Diamond</td>\n",
       "      <td>8</td>\n",
       "      <td>1584</td>\n",
       "      <td>410883</td>\n",
       "      <td>12231480</td>\n",
       "      <td>12642363</td>\n",
       "      <td>1.580295e+06</td>\n",
       "      <td>7981.289773</td>\n",
       "      <td>7721.893939</td>\n",
       "    </tr>\n",
       "    <tr>\n",
       "      <th>12</th>\n",
       "      <td>o1-preview-2024-09-12</td>\n",
       "      <td>GPQA Diamond</td>\n",
       "      <td>16</td>\n",
       "      <td>3168</td>\n",
       "      <td>859696</td>\n",
       "      <td>9599382</td>\n",
       "      <td>10459078</td>\n",
       "      <td>6.536924e+05</td>\n",
       "      <td>3301.476641</td>\n",
       "      <td>3030.107955</td>\n",
       "    </tr>\n",
       "    <tr>\n",
       "      <th>17</th>\n",
       "      <td>o1-2024-12-17_high</td>\n",
       "      <td>GPQA Diamond</td>\n",
       "      <td>1</td>\n",
       "      <td>198</td>\n",
       "      <td>51410</td>\n",
       "      <td>1258852</td>\n",
       "      <td>1310262</td>\n",
       "      <td>1.310262e+06</td>\n",
       "      <td>6617.484848</td>\n",
       "      <td>6357.838384</td>\n",
       "    </tr>\n",
       "    <tr>\n",
       "      <th>23</th>\n",
       "      <td>o1-mini-2024-09-12_high</td>\n",
       "      <td>GPQA Diamond</td>\n",
       "      <td>8</td>\n",
       "      <td>1584</td>\n",
       "      <td>429856</td>\n",
       "      <td>2973549</td>\n",
       "      <td>3403405</td>\n",
       "      <td>4.254256e+05</td>\n",
       "      <td>2148.614268</td>\n",
       "      <td>1877.240530</td>\n",
       "    </tr>\n",
       "    <tr>\n",
       "      <th>26</th>\n",
       "      <td>deepseek-r1</td>\n",
       "      <td>GPQA Diamond</td>\n",
       "      <td>1</td>\n",
       "      <td>198</td>\n",
       "      <td>49010</td>\n",
       "      <td>1503756</td>\n",
       "      <td>1552766</td>\n",
       "      <td>1.552766e+06</td>\n",
       "      <td>7842.252525</td>\n",
       "      <td>7594.727273</td>\n",
       "    </tr>\n",
       "    <tr>\n",
       "      <th>27</th>\n",
       "      <td>o1-mini-2024-09-12</td>\n",
       "      <td>GPQA Diamond</td>\n",
       "      <td>16</td>\n",
       "      <td>3168</td>\n",
       "      <td>859744</td>\n",
       "      <td>5597033</td>\n",
       "      <td>6456777</td>\n",
       "      <td>4.035486e+05</td>\n",
       "      <td>2038.124053</td>\n",
       "      <td>1766.740215</td>\n",
       "    </tr>\n",
       "    <tr>\n",
       "      <th>29</th>\n",
       "      <td>gemini-2.0-flash-thinking-exp-01-21</td>\n",
       "      <td>GPQA Diamond</td>\n",
       "      <td>1</td>\n",
       "      <td>198</td>\n",
       "      <td>50596</td>\n",
       "      <td>119526</td>\n",
       "      <td>170122</td>\n",
       "      <td>1.701220e+05</td>\n",
       "      <td>859.202020</td>\n",
       "      <td>603.666667</td>\n",
       "    </tr>\n",
       "    <tr>\n",
       "      <th>37</th>\n",
       "      <td>o1-2024-12-17</td>\n",
       "      <td>GPQA Diamond</td>\n",
       "      <td>1</td>\n",
       "      <td>198</td>\n",
       "      <td>51407</td>\n",
       "      <td>816755</td>\n",
       "      <td>868162</td>\n",
       "      <td>8.681620e+05</td>\n",
       "      <td>4384.656566</td>\n",
       "      <td>4125.025253</td>\n",
       "    </tr>\n",
       "    <tr>\n",
       "      <th>49</th>\n",
       "      <td>o3-mini-2025-01-31_high</td>\n",
       "      <td>MATH level 5</td>\n",
       "      <td>4</td>\n",
       "      <td>5296</td>\n",
       "      <td>946823</td>\n",
       "      <td>15759757</td>\n",
       "      <td>16706580</td>\n",
       "      <td>4.176645e+06</td>\n",
       "      <td>3154.565710</td>\n",
       "      <td>2975.784932</td>\n",
       "    </tr>\n",
       "    <tr>\n",
       "      <th>63</th>\n",
       "      <td>o3-mini-2025-01-31</td>\n",
       "      <td>GPQA Diamond</td>\n",
       "      <td>16</td>\n",
       "      <td>3168</td>\n",
       "      <td>822544</td>\n",
       "      <td>9842434</td>\n",
       "      <td>10664978</td>\n",
       "      <td>6.665611e+05</td>\n",
       "      <td>3366.470328</td>\n",
       "      <td>3106.828914</td>\n",
       "    </tr>\n",
       "    <tr>\n",
       "      <th>65</th>\n",
       "      <td>o1-2024-12-17</td>\n",
       "      <td>MATH level 5</td>\n",
       "      <td>1</td>\n",
       "      <td>1324</td>\n",
       "      <td>237160</td>\n",
       "      <td>4119096</td>\n",
       "      <td>4356256</td>\n",
       "      <td>4.356256e+06</td>\n",
       "      <td>3290.223565</td>\n",
       "      <td>3111.099698</td>\n",
       "    </tr>\n",
       "    <tr>\n",
       "      <th>78</th>\n",
       "      <td>deepseek-r1</td>\n",
       "      <td>MATH level 5</td>\n",
       "      <td>1</td>\n",
       "      <td>1324</td>\n",
       "      <td>232309</td>\n",
       "      <td>6342722</td>\n",
       "      <td>6575031</td>\n",
       "      <td>6.575031e+06</td>\n",
       "      <td>4966.035498</td>\n",
       "      <td>4790.575529</td>\n",
       "    </tr>\n",
       "    <tr>\n",
       "      <th>88</th>\n",
       "      <td>o1-mini-2024-09-12</td>\n",
       "      <td>MATH level 5</td>\n",
       "      <td>8</td>\n",
       "      <td>10592</td>\n",
       "      <td>1977800</td>\n",
       "      <td>16812577</td>\n",
       "      <td>18790377</td>\n",
       "      <td>2.348797e+06</td>\n",
       "      <td>1774.015955</td>\n",
       "      <td>1587.290125</td>\n",
       "    </tr>\n",
       "    <tr>\n",
       "      <th>90</th>\n",
       "      <td>o3-mini-2025-01-31</td>\n",
       "      <td>MATH level 5</td>\n",
       "      <td>8</td>\n",
       "      <td>10592</td>\n",
       "      <td>1892201</td>\n",
       "      <td>17775998</td>\n",
       "      <td>19668199</td>\n",
       "      <td>2.458525e+06</td>\n",
       "      <td>1856.891900</td>\n",
       "      <td>1678.247545</td>\n",
       "    </tr>\n",
       "    <tr>\n",
       "      <th>109</th>\n",
       "      <td>o1-2024-12-17_high</td>\n",
       "      <td>MATH level 5</td>\n",
       "      <td>1</td>\n",
       "      <td>1324</td>\n",
       "      <td>236879</td>\n",
       "      <td>5469471</td>\n",
       "      <td>5706350</td>\n",
       "      <td>5.706350e+06</td>\n",
       "      <td>4309.932024</td>\n",
       "      <td>4131.020393</td>\n",
       "    </tr>\n",
       "    <tr>\n",
       "      <th>123</th>\n",
       "      <td>o1-preview-2024-09-12</td>\n",
       "      <td>MATH level 5</td>\n",
       "      <td>1</td>\n",
       "      <td>1324</td>\n",
       "      <td>247225</td>\n",
       "      <td>4816491</td>\n",
       "      <td>5063716</td>\n",
       "      <td>5.063716e+06</td>\n",
       "      <td>3824.558912</td>\n",
       "      <td>3637.833082</td>\n",
       "    </tr>\n",
       "  </tbody>\n",
       "</table>\n",
       "</div>"
      ],
      "text/plain": [
       "                                   Model          Task  epochs  total_samples  \\\n",
       "3                o1-mini-2024-09-12_high  MATH level 5       4           5296   \n",
       "10               o3-mini-2025-01-31_high  GPQA Diamond       8           1584   \n",
       "12                 o1-preview-2024-09-12  GPQA Diamond      16           3168   \n",
       "17                    o1-2024-12-17_high  GPQA Diamond       1            198   \n",
       "23               o1-mini-2024-09-12_high  GPQA Diamond       8           1584   \n",
       "26                           deepseek-r1  GPQA Diamond       1            198   \n",
       "27                    o1-mini-2024-09-12  GPQA Diamond      16           3168   \n",
       "29   gemini-2.0-flash-thinking-exp-01-21  GPQA Diamond       1            198   \n",
       "37                         o1-2024-12-17  GPQA Diamond       1            198   \n",
       "49               o3-mini-2025-01-31_high  MATH level 5       4           5296   \n",
       "63                    o3-mini-2025-01-31  GPQA Diamond      16           3168   \n",
       "65                         o1-2024-12-17  MATH level 5       1           1324   \n",
       "78                           deepseek-r1  MATH level 5       1           1324   \n",
       "88                    o1-mini-2024-09-12  MATH level 5       8          10592   \n",
       "90                    o3-mini-2025-01-31  MATH level 5       8          10592   \n",
       "109                   o1-2024-12-17_high  MATH level 5       1           1324   \n",
       "123                o1-preview-2024-09-12  MATH level 5       1           1324   \n",
       "\n",
       "     input_tokens  output_tokens  total_tokens  total_tokens_per_trial  \\\n",
       "3          988900        9914854      10903754            2.725938e+06   \n",
       "10         410883       12231480      12642363            1.580295e+06   \n",
       "12         859696        9599382      10459078            6.536924e+05   \n",
       "17          51410        1258852       1310262            1.310262e+06   \n",
       "23         429856        2973549       3403405            4.254256e+05   \n",
       "26          49010        1503756       1552766            1.552766e+06   \n",
       "27         859744        5597033       6456777            4.035486e+05   \n",
       "29          50596         119526        170122            1.701220e+05   \n",
       "37          51407         816755        868162            8.681620e+05   \n",
       "49         946823       15759757      16706580            4.176645e+06   \n",
       "63         822544        9842434      10664978            6.665611e+05   \n",
       "65         237160        4119096       4356256            4.356256e+06   \n",
       "78         232309        6342722       6575031            6.575031e+06   \n",
       "88        1977800       16812577      18790377            2.348797e+06   \n",
       "90        1892201       17775998      19668199            2.458525e+06   \n",
       "109        236879        5469471       5706350            5.706350e+06   \n",
       "123        247225        4816491       5063716            5.063716e+06   \n",
       "\n",
       "     total_tokens_per_question  output_tokens_per_question  \n",
       "3                  2058.865937                 1872.140106  \n",
       "10                 7981.289773                 7721.893939  \n",
       "12                 3301.476641                 3030.107955  \n",
       "17                 6617.484848                 6357.838384  \n",
       "23                 2148.614268                 1877.240530  \n",
       "26                 7842.252525                 7594.727273  \n",
       "27                 2038.124053                 1766.740215  \n",
       "29                  859.202020                  603.666667  \n",
       "37                 4384.656566                 4125.025253  \n",
       "49                 3154.565710                 2975.784932  \n",
       "63                 3366.470328                 3106.828914  \n",
       "65                 3290.223565                 3111.099698  \n",
       "78                 4966.035498                 4790.575529  \n",
       "88                 1774.015955                 1587.290125  \n",
       "90                 1856.891900                 1678.247545  \n",
       "109                4309.932024                 4131.020393  \n",
       "123                3824.558912                 3637.833082  "
      ]
     },
     "execution_count": 9,
     "metadata": {},
     "output_type": "execute_result"
    }
   ],
   "source": [
    "reasoning_models = [\n",
    "    'deepseek-r1',\n",
    "    'o1-mini-2024-09-12',\n",
    "    'o1-mini-2024-09-12_high',\n",
    "    'o1-preview-2024-09-12',\n",
    "    'o1-2024-12-17',\n",
    "    'o1-2024-12-17_high',\n",
    "    'o3-mini-2025-01-31',\n",
    "    'o3-mini-2025-01-31_high',\n",
    "    'gemini-2.0-flash-thinking-exp-01-21',\n",
    "]\n",
    "df[df['Model'].isin(reasoning_models)]"
   ]
  },
  {
   "cell_type": "code",
   "execution_count": 10,
   "metadata": {},
   "outputs": [
    {
     "data": {
      "text/plain": [
       "3527.5329727881267"
      ]
     },
     "execution_count": 10,
     "metadata": {},
     "output_type": "execute_result"
    }
   ],
   "source": [
    "reasoning_model_df = df[df['Model'].isin(reasoning_models)]\n",
    "reasoning_model_df['output_tokens_per_question'].mean()"
   ]
  },
  {
   "cell_type": "code",
   "execution_count": 11,
   "metadata": {},
   "outputs": [
    {
     "data": {
      "text/plain": [
       "554.8069170780594"
      ]
     },
     "execution_count": 11,
     "metadata": {},
     "output_type": "execute_result"
    }
   ],
   "source": [
    "other_model_df = df[~df['Model'].isin(reasoning_models)]\n",
    "other_model_df['output_tokens_per_question'].mean()"
   ]
  },
  {
   "cell_type": "code",
   "execution_count": 12,
   "metadata": {},
   "outputs": [
    {
     "data": {
      "text/plain": [
       "6.35812724067356"
      ]
     },
     "execution_count": 12,
     "metadata": {},
     "output_type": "execute_result"
    }
   ],
   "source": [
    "reasoning_model_df['output_tokens_per_question'].mean() / other_model_df['output_tokens_per_question'].mean()"
   ]
  },
  {
   "cell_type": "code",
   "execution_count": 13,
   "metadata": {},
   "outputs": [
    {
     "data": {
      "text/html": [
       "<div>\n",
       "<style scoped>\n",
       "    .dataframe tbody tr th:only-of-type {\n",
       "        vertical-align: middle;\n",
       "    }\n",
       "\n",
       "    .dataframe tbody tr th {\n",
       "        vertical-align: top;\n",
       "    }\n",
       "\n",
       "    .dataframe thead th {\n",
       "        text-align: right;\n",
       "    }\n",
       "</style>\n",
       "<table border=\"1\" class=\"dataframe\">\n",
       "  <thead>\n",
       "    <tr style=\"text-align: right;\">\n",
       "      <th></th>\n",
       "      <th>Model</th>\n",
       "      <th>Task</th>\n",
       "      <th>epochs</th>\n",
       "      <th>total_samples</th>\n",
       "      <th>input_tokens</th>\n",
       "      <th>output_tokens</th>\n",
       "      <th>total_tokens</th>\n",
       "      <th>total_tokens_per_trial</th>\n",
       "      <th>total_tokens_per_question</th>\n",
       "      <th>output_tokens_per_question</th>\n",
       "    </tr>\n",
       "  </thead>\n",
       "  <tbody>\n",
       "    <tr>\n",
       "      <th>5</th>\n",
       "      <td>phi-4</td>\n",
       "      <td>GPQA Diamond</td>\n",
       "      <td>16</td>\n",
       "      <td>3168</td>\n",
       "      <td>838784</td>\n",
       "      <td>2106559</td>\n",
       "      <td>2945343</td>\n",
       "      <td>184083.9375</td>\n",
       "      <td>929.716856</td>\n",
       "      <td>664.949179</td>\n",
       "    </tr>\n",
       "    <tr>\n",
       "      <th>6</th>\n",
       "      <td>mistral-large-2402</td>\n",
       "      <td>GPQA Diamond</td>\n",
       "      <td>16</td>\n",
       "      <td>3168</td>\n",
       "      <td>928128</td>\n",
       "      <td>1152988</td>\n",
       "      <td>2081116</td>\n",
       "      <td>130069.7500</td>\n",
       "      <td>656.917929</td>\n",
       "      <td>363.948232</td>\n",
       "    </tr>\n",
       "    <tr>\n",
       "      <th>41</th>\n",
       "      <td>gemini-1.5-flash-001</td>\n",
       "      <td>GPQA Diamond</td>\n",
       "      <td>16</td>\n",
       "      <td>3168</td>\n",
       "      <td>809504</td>\n",
       "      <td>1140579</td>\n",
       "      <td>1950083</td>\n",
       "      <td>121880.1875</td>\n",
       "      <td>615.556503</td>\n",
       "      <td>360.031250</td>\n",
       "    </tr>\n",
       "    <tr>\n",
       "      <th>47</th>\n",
       "      <td>gpt-4-0613</td>\n",
       "      <td>GPQA Diamond</td>\n",
       "      <td>16</td>\n",
       "      <td>3168</td>\n",
       "      <td>838928</td>\n",
       "      <td>694183</td>\n",
       "      <td>1533111</td>\n",
       "      <td>95819.4375</td>\n",
       "      <td>483.936553</td>\n",
       "      <td>219.123422</td>\n",
       "    </tr>\n",
       "    <tr>\n",
       "      <th>113</th>\n",
       "      <td>claude-3-haiku-20240307</td>\n",
       "      <td>GPQA Diamond</td>\n",
       "      <td>16</td>\n",
       "      <td>3168</td>\n",
       "      <td>936096</td>\n",
       "      <td>1092395</td>\n",
       "      <td>2028491</td>\n",
       "      <td>126780.6875</td>\n",
       "      <td>640.306503</td>\n",
       "      <td>344.821654</td>\n",
       "    </tr>\n",
       "  </tbody>\n",
       "</table>\n",
       "</div>"
      ],
      "text/plain": [
       "                       Model          Task  epochs  total_samples  \\\n",
       "5                      phi-4  GPQA Diamond      16           3168   \n",
       "6         mistral-large-2402  GPQA Diamond      16           3168   \n",
       "41      gemini-1.5-flash-001  GPQA Diamond      16           3168   \n",
       "47                gpt-4-0613  GPQA Diamond      16           3168   \n",
       "113  claude-3-haiku-20240307  GPQA Diamond      16           3168   \n",
       "\n",
       "     input_tokens  output_tokens  total_tokens  total_tokens_per_trial  \\\n",
       "5          838784        2106559       2945343             184083.9375   \n",
       "6          928128        1152988       2081116             130069.7500   \n",
       "41         809504        1140579       1950083             121880.1875   \n",
       "47         838928         694183       1533111              95819.4375   \n",
       "113        936096        1092395       2028491             126780.6875   \n",
       "\n",
       "     total_tokens_per_question  output_tokens_per_question  \n",
       "5                   929.716856                  664.949179  \n",
       "6                   656.917929                  363.948232  \n",
       "41                  615.556503                  360.031250  \n",
       "47                  483.936553                  219.123422  \n",
       "113                 640.306503                  344.821654  "
      ]
     },
     "execution_count": 13,
     "metadata": {},
     "output_type": "execute_result"
    }
   ],
   "source": [
    "# Find the models that had the cheapest price per token and GPT-4 level or greater\n",
    "# At least, the nearest models we've evaluated here\n",
    "cheapest_models_gpqa_diamond = [\n",
    "    'gpt-4-0613',\n",
    "    # Can't find gpt-4-turbo\n",
    "    'mistral-large-2402',\n",
    "    'claude-3-haiku-20240307',\n",
    "    'gemini-1.5-flash-001',\n",
    "    'phi-4',\n",
    "]\n",
    "df[(df['Model'].isin(cheapest_models_gpqa_diamond)) & (df['Task'] == 'GPQA Diamond')]"
   ]
  },
  {
   "cell_type": "code",
   "execution_count": 14,
   "metadata": {},
   "outputs": [
    {
     "data": {
      "text/plain": [
       "array([219.12342172, 360.03125   , 664.94917929])"
      ]
     },
     "execution_count": 14,
     "metadata": {},
     "output_type": "execute_result"
    }
   ],
   "source": [
    "cheapest_models_gpqa_diamond_df = df[(df['Model'].isin(cheapest_models_gpqa_diamond)) & (df['Task'] == 'GPQA Diamond')]\n",
    "np.percentile(cheapest_models_gpqa_diamond_df['output_tokens_per_question'], [0, 50, 100])"
   ]
  },
  {
   "cell_type": "code",
   "execution_count": 15,
   "metadata": {},
   "outputs": [
    {
     "data": {
      "application/vnd.plotly.v1+json": {
       "config": {
        "plotlyServerURL": "https://plot.ly"
       },
       "data": [
        {
         "alignmentgroup": "True",
         "bingroup": "x",
         "histnorm": "probability",
         "hovertemplate": "Output tokens per question=%{x}<br>probability=%{y}<extra></extra>",
         "legendgroup": "",
         "marker": {
          "color": "#636efa",
          "pattern": {
           "shape": ""
          }
         },
         "name": "",
         "offsetgroup": "",
         "orientation": "v",
         "showlegend": false,
         "type": "histogram",
         "x": [
          689.9976397280967,
          916.6330249244713,
          341.8102341389728,
          1872.1401057401813,
          429.71714501510576,
          469.35989425981876,
          446.59375,
          411.9165407854985,
          567.6397280966768,
          665.102341389728,
          864.3622545317221,
          638.654833836858,
          873.3751888217523,
          614.0021714501511,
          1000.5017938066466,
          903.2000566465257,
          817.5141616314199,
          755.5505098187311,
          816.128493202417,
          493.0096299093656,
          2975.7849320241694,
          698.3683912386707,
          436.7959780966767,
          256.53738670694867,
          1027.4496790030212,
          535.9474131419939,
          3111.0996978851963,
          342.8571563444109,
          330.0281344410876,
          581.2523602719033,
          430.43589501510576,
          702.3650868580061,
          4790.575528700906,
          646.5157666163142,
          936.6130098187311,
          301.97233761329306,
          535.3979418429003,
          962.4471299093656,
          606.5036820241692,
          1587.2901246223564,
          511.5765672205438,
          1678.2475453172206,
          444.10300226586105,
          335.30796827794563,
          307.56523791540786,
          558.8936933534743,
          1302.0027379154078,
          764.4094599697885,
          533.5877077039275,
          521.581665407855,
          600.1897658610272,
          4131.020392749245,
          683.1063066465257,
          669.9560045317221,
          787.1185800604229,
          399.088085347432,
          448.7138406344411,
          3637.833081570997,
          666.542579305136,
          644.6149924471299,
          1046.2107250755287,
          811.1424660120846,
          607.017749244713,
          441.33751888217523,
          491.400585347432
         ],
         "xaxis": "x",
         "yaxis": "y"
        }
       ],
       "layout": {
        "bargap": 0.1,
        "barmode": "relative",
        "legend": {
         "tracegroupgap": 0
        },
        "showlegend": false,
        "template": {
         "data": {
          "bar": [
           {
            "error_x": {
             "color": "#2a3f5f"
            },
            "error_y": {
             "color": "#2a3f5f"
            },
            "marker": {
             "line": {
              "color": "#E5ECF6",
              "width": 0.5
             },
             "pattern": {
              "fillmode": "overlay",
              "size": 10,
              "solidity": 0.2
             }
            },
            "type": "bar"
           }
          ],
          "barpolar": [
           {
            "marker": {
             "line": {
              "color": "#E5ECF6",
              "width": 0.5
             },
             "pattern": {
              "fillmode": "overlay",
              "size": 10,
              "solidity": 0.2
             }
            },
            "type": "barpolar"
           }
          ],
          "carpet": [
           {
            "aaxis": {
             "endlinecolor": "#2a3f5f",
             "gridcolor": "white",
             "linecolor": "white",
             "minorgridcolor": "white",
             "startlinecolor": "#2a3f5f"
            },
            "baxis": {
             "endlinecolor": "#2a3f5f",
             "gridcolor": "white",
             "linecolor": "white",
             "minorgridcolor": "white",
             "startlinecolor": "#2a3f5f"
            },
            "type": "carpet"
           }
          ],
          "choropleth": [
           {
            "colorbar": {
             "outlinewidth": 0,
             "ticks": ""
            },
            "type": "choropleth"
           }
          ],
          "contour": [
           {
            "colorbar": {
             "outlinewidth": 0,
             "ticks": ""
            },
            "colorscale": [
             [
              0,
              "#0d0887"
             ],
             [
              0.1111111111111111,
              "#46039f"
             ],
             [
              0.2222222222222222,
              "#7201a8"
             ],
             [
              0.3333333333333333,
              "#9c179e"
             ],
             [
              0.4444444444444444,
              "#bd3786"
             ],
             [
              0.5555555555555556,
              "#d8576b"
             ],
             [
              0.6666666666666666,
              "#ed7953"
             ],
             [
              0.7777777777777778,
              "#fb9f3a"
             ],
             [
              0.8888888888888888,
              "#fdca26"
             ],
             [
              1,
              "#f0f921"
             ]
            ],
            "type": "contour"
           }
          ],
          "contourcarpet": [
           {
            "colorbar": {
             "outlinewidth": 0,
             "ticks": ""
            },
            "type": "contourcarpet"
           }
          ],
          "heatmap": [
           {
            "colorbar": {
             "outlinewidth": 0,
             "ticks": ""
            },
            "colorscale": [
             [
              0,
              "#0d0887"
             ],
             [
              0.1111111111111111,
              "#46039f"
             ],
             [
              0.2222222222222222,
              "#7201a8"
             ],
             [
              0.3333333333333333,
              "#9c179e"
             ],
             [
              0.4444444444444444,
              "#bd3786"
             ],
             [
              0.5555555555555556,
              "#d8576b"
             ],
             [
              0.6666666666666666,
              "#ed7953"
             ],
             [
              0.7777777777777778,
              "#fb9f3a"
             ],
             [
              0.8888888888888888,
              "#fdca26"
             ],
             [
              1,
              "#f0f921"
             ]
            ],
            "type": "heatmap"
           }
          ],
          "heatmapgl": [
           {
            "colorbar": {
             "outlinewidth": 0,
             "ticks": ""
            },
            "colorscale": [
             [
              0,
              "#0d0887"
             ],
             [
              0.1111111111111111,
              "#46039f"
             ],
             [
              0.2222222222222222,
              "#7201a8"
             ],
             [
              0.3333333333333333,
              "#9c179e"
             ],
             [
              0.4444444444444444,
              "#bd3786"
             ],
             [
              0.5555555555555556,
              "#d8576b"
             ],
             [
              0.6666666666666666,
              "#ed7953"
             ],
             [
              0.7777777777777778,
              "#fb9f3a"
             ],
             [
              0.8888888888888888,
              "#fdca26"
             ],
             [
              1,
              "#f0f921"
             ]
            ],
            "type": "heatmapgl"
           }
          ],
          "histogram": [
           {
            "marker": {
             "pattern": {
              "fillmode": "overlay",
              "size": 10,
              "solidity": 0.2
             }
            },
            "type": "histogram"
           }
          ],
          "histogram2d": [
           {
            "colorbar": {
             "outlinewidth": 0,
             "ticks": ""
            },
            "colorscale": [
             [
              0,
              "#0d0887"
             ],
             [
              0.1111111111111111,
              "#46039f"
             ],
             [
              0.2222222222222222,
              "#7201a8"
             ],
             [
              0.3333333333333333,
              "#9c179e"
             ],
             [
              0.4444444444444444,
              "#bd3786"
             ],
             [
              0.5555555555555556,
              "#d8576b"
             ],
             [
              0.6666666666666666,
              "#ed7953"
             ],
             [
              0.7777777777777778,
              "#fb9f3a"
             ],
             [
              0.8888888888888888,
              "#fdca26"
             ],
             [
              1,
              "#f0f921"
             ]
            ],
            "type": "histogram2d"
           }
          ],
          "histogram2dcontour": [
           {
            "colorbar": {
             "outlinewidth": 0,
             "ticks": ""
            },
            "colorscale": [
             [
              0,
              "#0d0887"
             ],
             [
              0.1111111111111111,
              "#46039f"
             ],
             [
              0.2222222222222222,
              "#7201a8"
             ],
             [
              0.3333333333333333,
              "#9c179e"
             ],
             [
              0.4444444444444444,
              "#bd3786"
             ],
             [
              0.5555555555555556,
              "#d8576b"
             ],
             [
              0.6666666666666666,
              "#ed7953"
             ],
             [
              0.7777777777777778,
              "#fb9f3a"
             ],
             [
              0.8888888888888888,
              "#fdca26"
             ],
             [
              1,
              "#f0f921"
             ]
            ],
            "type": "histogram2dcontour"
           }
          ],
          "mesh3d": [
           {
            "colorbar": {
             "outlinewidth": 0,
             "ticks": ""
            },
            "type": "mesh3d"
           }
          ],
          "parcoords": [
           {
            "line": {
             "colorbar": {
              "outlinewidth": 0,
              "ticks": ""
             }
            },
            "type": "parcoords"
           }
          ],
          "pie": [
           {
            "automargin": true,
            "type": "pie"
           }
          ],
          "scatter": [
           {
            "fillpattern": {
             "fillmode": "overlay",
             "size": 10,
             "solidity": 0.2
            },
            "type": "scatter"
           }
          ],
          "scatter3d": [
           {
            "line": {
             "colorbar": {
              "outlinewidth": 0,
              "ticks": ""
             }
            },
            "marker": {
             "colorbar": {
              "outlinewidth": 0,
              "ticks": ""
             }
            },
            "type": "scatter3d"
           }
          ],
          "scattercarpet": [
           {
            "marker": {
             "colorbar": {
              "outlinewidth": 0,
              "ticks": ""
             }
            },
            "type": "scattercarpet"
           }
          ],
          "scattergeo": [
           {
            "marker": {
             "colorbar": {
              "outlinewidth": 0,
              "ticks": ""
             }
            },
            "type": "scattergeo"
           }
          ],
          "scattergl": [
           {
            "marker": {
             "colorbar": {
              "outlinewidth": 0,
              "ticks": ""
             }
            },
            "type": "scattergl"
           }
          ],
          "scattermapbox": [
           {
            "marker": {
             "colorbar": {
              "outlinewidth": 0,
              "ticks": ""
             }
            },
            "type": "scattermapbox"
           }
          ],
          "scatterpolar": [
           {
            "marker": {
             "colorbar": {
              "outlinewidth": 0,
              "ticks": ""
             }
            },
            "type": "scatterpolar"
           }
          ],
          "scatterpolargl": [
           {
            "marker": {
             "colorbar": {
              "outlinewidth": 0,
              "ticks": ""
             }
            },
            "type": "scatterpolargl"
           }
          ],
          "scatterternary": [
           {
            "marker": {
             "colorbar": {
              "outlinewidth": 0,
              "ticks": ""
             }
            },
            "type": "scatterternary"
           }
          ],
          "surface": [
           {
            "colorbar": {
             "outlinewidth": 0,
             "ticks": ""
            },
            "colorscale": [
             [
              0,
              "#0d0887"
             ],
             [
              0.1111111111111111,
              "#46039f"
             ],
             [
              0.2222222222222222,
              "#7201a8"
             ],
             [
              0.3333333333333333,
              "#9c179e"
             ],
             [
              0.4444444444444444,
              "#bd3786"
             ],
             [
              0.5555555555555556,
              "#d8576b"
             ],
             [
              0.6666666666666666,
              "#ed7953"
             ],
             [
              0.7777777777777778,
              "#fb9f3a"
             ],
             [
              0.8888888888888888,
              "#fdca26"
             ],
             [
              1,
              "#f0f921"
             ]
            ],
            "type": "surface"
           }
          ],
          "table": [
           {
            "cells": {
             "fill": {
              "color": "#EBF0F8"
             },
             "line": {
              "color": "white"
             }
            },
            "header": {
             "fill": {
              "color": "#C8D4E3"
             },
             "line": {
              "color": "white"
             }
            },
            "type": "table"
           }
          ]
         },
         "layout": {
          "annotationdefaults": {
           "arrowcolor": "#2a3f5f",
           "arrowhead": 0,
           "arrowwidth": 1
          },
          "autotypenumbers": "strict",
          "coloraxis": {
           "colorbar": {
            "outlinewidth": 0,
            "ticks": ""
           }
          },
          "colorscale": {
           "diverging": [
            [
             0,
             "#8e0152"
            ],
            [
             0.1,
             "#c51b7d"
            ],
            [
             0.2,
             "#de77ae"
            ],
            [
             0.3,
             "#f1b6da"
            ],
            [
             0.4,
             "#fde0ef"
            ],
            [
             0.5,
             "#f7f7f7"
            ],
            [
             0.6,
             "#e6f5d0"
            ],
            [
             0.7,
             "#b8e186"
            ],
            [
             0.8,
             "#7fbc41"
            ],
            [
             0.9,
             "#4d9221"
            ],
            [
             1,
             "#276419"
            ]
           ],
           "sequential": [
            [
             0,
             "#0d0887"
            ],
            [
             0.1111111111111111,
             "#46039f"
            ],
            [
             0.2222222222222222,
             "#7201a8"
            ],
            [
             0.3333333333333333,
             "#9c179e"
            ],
            [
             0.4444444444444444,
             "#bd3786"
            ],
            [
             0.5555555555555556,
             "#d8576b"
            ],
            [
             0.6666666666666666,
             "#ed7953"
            ],
            [
             0.7777777777777778,
             "#fb9f3a"
            ],
            [
             0.8888888888888888,
             "#fdca26"
            ],
            [
             1,
             "#f0f921"
            ]
           ],
           "sequentialminus": [
            [
             0,
             "#0d0887"
            ],
            [
             0.1111111111111111,
             "#46039f"
            ],
            [
             0.2222222222222222,
             "#7201a8"
            ],
            [
             0.3333333333333333,
             "#9c179e"
            ],
            [
             0.4444444444444444,
             "#bd3786"
            ],
            [
             0.5555555555555556,
             "#d8576b"
            ],
            [
             0.6666666666666666,
             "#ed7953"
            ],
            [
             0.7777777777777778,
             "#fb9f3a"
            ],
            [
             0.8888888888888888,
             "#fdca26"
            ],
            [
             1,
             "#f0f921"
            ]
           ]
          },
          "colorway": [
           "#636efa",
           "#EF553B",
           "#00cc96",
           "#ab63fa",
           "#FFA15A",
           "#19d3f3",
           "#FF6692",
           "#B6E880",
           "#FF97FF",
           "#FECB52"
          ],
          "font": {
           "color": "#2a3f5f"
          },
          "geo": {
           "bgcolor": "white",
           "lakecolor": "white",
           "landcolor": "#E5ECF6",
           "showlakes": true,
           "showland": true,
           "subunitcolor": "white"
          },
          "hoverlabel": {
           "align": "left"
          },
          "hovermode": "closest",
          "mapbox": {
           "style": "light"
          },
          "paper_bgcolor": "white",
          "plot_bgcolor": "#E5ECF6",
          "polar": {
           "angularaxis": {
            "gridcolor": "white",
            "linecolor": "white",
            "ticks": ""
           },
           "bgcolor": "#E5ECF6",
           "radialaxis": {
            "gridcolor": "white",
            "linecolor": "white",
            "ticks": ""
           }
          },
          "scene": {
           "xaxis": {
            "backgroundcolor": "#E5ECF6",
            "gridcolor": "white",
            "gridwidth": 2,
            "linecolor": "white",
            "showbackground": true,
            "ticks": "",
            "zerolinecolor": "white"
           },
           "yaxis": {
            "backgroundcolor": "#E5ECF6",
            "gridcolor": "white",
            "gridwidth": 2,
            "linecolor": "white",
            "showbackground": true,
            "ticks": "",
            "zerolinecolor": "white"
           },
           "zaxis": {
            "backgroundcolor": "#E5ECF6",
            "gridcolor": "white",
            "gridwidth": 2,
            "linecolor": "white",
            "showbackground": true,
            "ticks": "",
            "zerolinecolor": "white"
           }
          },
          "shapedefaults": {
           "line": {
            "color": "#2a3f5f"
           }
          },
          "ternary": {
           "aaxis": {
            "gridcolor": "white",
            "linecolor": "white",
            "ticks": ""
           },
           "baxis": {
            "gridcolor": "white",
            "linecolor": "white",
            "ticks": ""
           },
           "bgcolor": "#E5ECF6",
           "caxis": {
            "gridcolor": "white",
            "linecolor": "white",
            "ticks": ""
           }
          },
          "title": {
           "x": 0.05
          },
          "xaxis": {
           "automargin": true,
           "gridcolor": "white",
           "linecolor": "white",
           "ticks": "",
           "title": {
            "standoff": 15
           },
           "zerolinecolor": "white",
           "zerolinewidth": 2
          },
          "yaxis": {
           "automargin": true,
           "gridcolor": "white",
           "linecolor": "white",
           "ticks": "",
           "title": {
            "standoff": 15
           },
           "zerolinecolor": "white",
           "zerolinewidth": 2
          }
         }
        },
        "title": {
         "text": "Distribution of output tokens per question for MATH level 5"
        },
        "xaxis": {
         "anchor": "y",
         "domain": [
          0,
          1
         ],
         "title": {
          "text": "Output tokens"
         }
        },
        "yaxis": {
         "anchor": "x",
         "domain": [
          0,
          1
         ],
         "title": {
          "text": "Relative frequency"
         }
        }
       }
      }
     },
     "metadata": {},
     "output_type": "display_data"
    },
    {
     "data": {
      "application/vnd.plotly.v1+json": {
       "config": {
        "plotlyServerURL": "https://plot.ly"
       },
       "data": [
        {
         "alignmentgroup": "True",
         "bingroup": "x",
         "histnorm": "probability",
         "hovertemplate": "Output tokens per question=%{x}<br>probability=%{y}<extra></extra>",
         "legendgroup": "",
         "marker": {
          "color": "#636efa",
          "pattern": {
           "shape": ""
          }
         },
         "name": "",
         "offsetgroup": "",
         "orientation": "v",
         "showlegend": false,
         "type": "histogram",
         "x": [
          664.9491792929293,
          363.94823232323233,
          561.4431818181819,
          587.3869949494949,
          521.3399621212121,
          7721.893939393939,
          3030.1079545454545,
          632.3222853535353,
          6357.838383838384,
          467.63320707070704,
          1877.2405303030303,
          490.5760732323232,
          7594.727272727273,
          1766.7402146464647,
          645.3516414141415,
          603.6666666666666,
          599.041351010101,
          1039.9917929292928,
          418.39551767676767,
          4125.025252525253,
          372.62468434343435,
          712.5814393939394,
          360.03125,
          625.0505050505051,
          429.7935606060606,
          397.04103535353534,
          452.60353535353534,
          219.1234217171717,
          473.35953282828285,
          675.1306818181819,
          420.917297979798,
          101.00347222222223,
          420.2108585858586,
          317.70612373737373,
          364.34564393939394,
          344.2477904040404,
          477.39204545454544,
          3106.8289141414143,
          613.3986742424242,
          728.2484217171717,
          530.5565025252525,
          625.9892676767677,
          286.4236111111111,
          623.9311868686868,
          560.5527146464647,
          557.9895833333334,
          435.4599116161616,
          103.65782828282828,
          463.8263888888889,
          649.0732323232323,
          327.13036616161617,
          352.74179292929296,
          740.1786616161617,
          572.5037878787879,
          532.3497474747475,
          981.4261363636364,
          224.67455808080808,
          331.706755050505,
          201.49526515151516,
          344.82165404040404,
          217.78345959595958,
          486.5984848484849,
          518.1515151515151,
          808.125946969697,
          420.5814393939394,
          399.28882575757575,
          984.5400883838383,
          312.8087121212121,
          324.6401515151515,
          428.9952651515151
         ],
         "xaxis": "x",
         "yaxis": "y"
        }
       ],
       "layout": {
        "bargap": 0.1,
        "barmode": "relative",
        "legend": {
         "tracegroupgap": 0
        },
        "showlegend": false,
        "template": {
         "data": {
          "bar": [
           {
            "error_x": {
             "color": "#2a3f5f"
            },
            "error_y": {
             "color": "#2a3f5f"
            },
            "marker": {
             "line": {
              "color": "#E5ECF6",
              "width": 0.5
             },
             "pattern": {
              "fillmode": "overlay",
              "size": 10,
              "solidity": 0.2
             }
            },
            "type": "bar"
           }
          ],
          "barpolar": [
           {
            "marker": {
             "line": {
              "color": "#E5ECF6",
              "width": 0.5
             },
             "pattern": {
              "fillmode": "overlay",
              "size": 10,
              "solidity": 0.2
             }
            },
            "type": "barpolar"
           }
          ],
          "carpet": [
           {
            "aaxis": {
             "endlinecolor": "#2a3f5f",
             "gridcolor": "white",
             "linecolor": "white",
             "minorgridcolor": "white",
             "startlinecolor": "#2a3f5f"
            },
            "baxis": {
             "endlinecolor": "#2a3f5f",
             "gridcolor": "white",
             "linecolor": "white",
             "minorgridcolor": "white",
             "startlinecolor": "#2a3f5f"
            },
            "type": "carpet"
           }
          ],
          "choropleth": [
           {
            "colorbar": {
             "outlinewidth": 0,
             "ticks": ""
            },
            "type": "choropleth"
           }
          ],
          "contour": [
           {
            "colorbar": {
             "outlinewidth": 0,
             "ticks": ""
            },
            "colorscale": [
             [
              0,
              "#0d0887"
             ],
             [
              0.1111111111111111,
              "#46039f"
             ],
             [
              0.2222222222222222,
              "#7201a8"
             ],
             [
              0.3333333333333333,
              "#9c179e"
             ],
             [
              0.4444444444444444,
              "#bd3786"
             ],
             [
              0.5555555555555556,
              "#d8576b"
             ],
             [
              0.6666666666666666,
              "#ed7953"
             ],
             [
              0.7777777777777778,
              "#fb9f3a"
             ],
             [
              0.8888888888888888,
              "#fdca26"
             ],
             [
              1,
              "#f0f921"
             ]
            ],
            "type": "contour"
           }
          ],
          "contourcarpet": [
           {
            "colorbar": {
             "outlinewidth": 0,
             "ticks": ""
            },
            "type": "contourcarpet"
           }
          ],
          "heatmap": [
           {
            "colorbar": {
             "outlinewidth": 0,
             "ticks": ""
            },
            "colorscale": [
             [
              0,
              "#0d0887"
             ],
             [
              0.1111111111111111,
              "#46039f"
             ],
             [
              0.2222222222222222,
              "#7201a8"
             ],
             [
              0.3333333333333333,
              "#9c179e"
             ],
             [
              0.4444444444444444,
              "#bd3786"
             ],
             [
              0.5555555555555556,
              "#d8576b"
             ],
             [
              0.6666666666666666,
              "#ed7953"
             ],
             [
              0.7777777777777778,
              "#fb9f3a"
             ],
             [
              0.8888888888888888,
              "#fdca26"
             ],
             [
              1,
              "#f0f921"
             ]
            ],
            "type": "heatmap"
           }
          ],
          "heatmapgl": [
           {
            "colorbar": {
             "outlinewidth": 0,
             "ticks": ""
            },
            "colorscale": [
             [
              0,
              "#0d0887"
             ],
             [
              0.1111111111111111,
              "#46039f"
             ],
             [
              0.2222222222222222,
              "#7201a8"
             ],
             [
              0.3333333333333333,
              "#9c179e"
             ],
             [
              0.4444444444444444,
              "#bd3786"
             ],
             [
              0.5555555555555556,
              "#d8576b"
             ],
             [
              0.6666666666666666,
              "#ed7953"
             ],
             [
              0.7777777777777778,
              "#fb9f3a"
             ],
             [
              0.8888888888888888,
              "#fdca26"
             ],
             [
              1,
              "#f0f921"
             ]
            ],
            "type": "heatmapgl"
           }
          ],
          "histogram": [
           {
            "marker": {
             "pattern": {
              "fillmode": "overlay",
              "size": 10,
              "solidity": 0.2
             }
            },
            "type": "histogram"
           }
          ],
          "histogram2d": [
           {
            "colorbar": {
             "outlinewidth": 0,
             "ticks": ""
            },
            "colorscale": [
             [
              0,
              "#0d0887"
             ],
             [
              0.1111111111111111,
              "#46039f"
             ],
             [
              0.2222222222222222,
              "#7201a8"
             ],
             [
              0.3333333333333333,
              "#9c179e"
             ],
             [
              0.4444444444444444,
              "#bd3786"
             ],
             [
              0.5555555555555556,
              "#d8576b"
             ],
             [
              0.6666666666666666,
              "#ed7953"
             ],
             [
              0.7777777777777778,
              "#fb9f3a"
             ],
             [
              0.8888888888888888,
              "#fdca26"
             ],
             [
              1,
              "#f0f921"
             ]
            ],
            "type": "histogram2d"
           }
          ],
          "histogram2dcontour": [
           {
            "colorbar": {
             "outlinewidth": 0,
             "ticks": ""
            },
            "colorscale": [
             [
              0,
              "#0d0887"
             ],
             [
              0.1111111111111111,
              "#46039f"
             ],
             [
              0.2222222222222222,
              "#7201a8"
             ],
             [
              0.3333333333333333,
              "#9c179e"
             ],
             [
              0.4444444444444444,
              "#bd3786"
             ],
             [
              0.5555555555555556,
              "#d8576b"
             ],
             [
              0.6666666666666666,
              "#ed7953"
             ],
             [
              0.7777777777777778,
              "#fb9f3a"
             ],
             [
              0.8888888888888888,
              "#fdca26"
             ],
             [
              1,
              "#f0f921"
             ]
            ],
            "type": "histogram2dcontour"
           }
          ],
          "mesh3d": [
           {
            "colorbar": {
             "outlinewidth": 0,
             "ticks": ""
            },
            "type": "mesh3d"
           }
          ],
          "parcoords": [
           {
            "line": {
             "colorbar": {
              "outlinewidth": 0,
              "ticks": ""
             }
            },
            "type": "parcoords"
           }
          ],
          "pie": [
           {
            "automargin": true,
            "type": "pie"
           }
          ],
          "scatter": [
           {
            "fillpattern": {
             "fillmode": "overlay",
             "size": 10,
             "solidity": 0.2
            },
            "type": "scatter"
           }
          ],
          "scatter3d": [
           {
            "line": {
             "colorbar": {
              "outlinewidth": 0,
              "ticks": ""
             }
            },
            "marker": {
             "colorbar": {
              "outlinewidth": 0,
              "ticks": ""
             }
            },
            "type": "scatter3d"
           }
          ],
          "scattercarpet": [
           {
            "marker": {
             "colorbar": {
              "outlinewidth": 0,
              "ticks": ""
             }
            },
            "type": "scattercarpet"
           }
          ],
          "scattergeo": [
           {
            "marker": {
             "colorbar": {
              "outlinewidth": 0,
              "ticks": ""
             }
            },
            "type": "scattergeo"
           }
          ],
          "scattergl": [
           {
            "marker": {
             "colorbar": {
              "outlinewidth": 0,
              "ticks": ""
             }
            },
            "type": "scattergl"
           }
          ],
          "scattermapbox": [
           {
            "marker": {
             "colorbar": {
              "outlinewidth": 0,
              "ticks": ""
             }
            },
            "type": "scattermapbox"
           }
          ],
          "scatterpolar": [
           {
            "marker": {
             "colorbar": {
              "outlinewidth": 0,
              "ticks": ""
             }
            },
            "type": "scatterpolar"
           }
          ],
          "scatterpolargl": [
           {
            "marker": {
             "colorbar": {
              "outlinewidth": 0,
              "ticks": ""
             }
            },
            "type": "scatterpolargl"
           }
          ],
          "scatterternary": [
           {
            "marker": {
             "colorbar": {
              "outlinewidth": 0,
              "ticks": ""
             }
            },
            "type": "scatterternary"
           }
          ],
          "surface": [
           {
            "colorbar": {
             "outlinewidth": 0,
             "ticks": ""
            },
            "colorscale": [
             [
              0,
              "#0d0887"
             ],
             [
              0.1111111111111111,
              "#46039f"
             ],
             [
              0.2222222222222222,
              "#7201a8"
             ],
             [
              0.3333333333333333,
              "#9c179e"
             ],
             [
              0.4444444444444444,
              "#bd3786"
             ],
             [
              0.5555555555555556,
              "#d8576b"
             ],
             [
              0.6666666666666666,
              "#ed7953"
             ],
             [
              0.7777777777777778,
              "#fb9f3a"
             ],
             [
              0.8888888888888888,
              "#fdca26"
             ],
             [
              1,
              "#f0f921"
             ]
            ],
            "type": "surface"
           }
          ],
          "table": [
           {
            "cells": {
             "fill": {
              "color": "#EBF0F8"
             },
             "line": {
              "color": "white"
             }
            },
            "header": {
             "fill": {
              "color": "#C8D4E3"
             },
             "line": {
              "color": "white"
             }
            },
            "type": "table"
           }
          ]
         },
         "layout": {
          "annotationdefaults": {
           "arrowcolor": "#2a3f5f",
           "arrowhead": 0,
           "arrowwidth": 1
          },
          "autotypenumbers": "strict",
          "coloraxis": {
           "colorbar": {
            "outlinewidth": 0,
            "ticks": ""
           }
          },
          "colorscale": {
           "diverging": [
            [
             0,
             "#8e0152"
            ],
            [
             0.1,
             "#c51b7d"
            ],
            [
             0.2,
             "#de77ae"
            ],
            [
             0.3,
             "#f1b6da"
            ],
            [
             0.4,
             "#fde0ef"
            ],
            [
             0.5,
             "#f7f7f7"
            ],
            [
             0.6,
             "#e6f5d0"
            ],
            [
             0.7,
             "#b8e186"
            ],
            [
             0.8,
             "#7fbc41"
            ],
            [
             0.9,
             "#4d9221"
            ],
            [
             1,
             "#276419"
            ]
           ],
           "sequential": [
            [
             0,
             "#0d0887"
            ],
            [
             0.1111111111111111,
             "#46039f"
            ],
            [
             0.2222222222222222,
             "#7201a8"
            ],
            [
             0.3333333333333333,
             "#9c179e"
            ],
            [
             0.4444444444444444,
             "#bd3786"
            ],
            [
             0.5555555555555556,
             "#d8576b"
            ],
            [
             0.6666666666666666,
             "#ed7953"
            ],
            [
             0.7777777777777778,
             "#fb9f3a"
            ],
            [
             0.8888888888888888,
             "#fdca26"
            ],
            [
             1,
             "#f0f921"
            ]
           ],
           "sequentialminus": [
            [
             0,
             "#0d0887"
            ],
            [
             0.1111111111111111,
             "#46039f"
            ],
            [
             0.2222222222222222,
             "#7201a8"
            ],
            [
             0.3333333333333333,
             "#9c179e"
            ],
            [
             0.4444444444444444,
             "#bd3786"
            ],
            [
             0.5555555555555556,
             "#d8576b"
            ],
            [
             0.6666666666666666,
             "#ed7953"
            ],
            [
             0.7777777777777778,
             "#fb9f3a"
            ],
            [
             0.8888888888888888,
             "#fdca26"
            ],
            [
             1,
             "#f0f921"
            ]
           ]
          },
          "colorway": [
           "#636efa",
           "#EF553B",
           "#00cc96",
           "#ab63fa",
           "#FFA15A",
           "#19d3f3",
           "#FF6692",
           "#B6E880",
           "#FF97FF",
           "#FECB52"
          ],
          "font": {
           "color": "#2a3f5f"
          },
          "geo": {
           "bgcolor": "white",
           "lakecolor": "white",
           "landcolor": "#E5ECF6",
           "showlakes": true,
           "showland": true,
           "subunitcolor": "white"
          },
          "hoverlabel": {
           "align": "left"
          },
          "hovermode": "closest",
          "mapbox": {
           "style": "light"
          },
          "paper_bgcolor": "white",
          "plot_bgcolor": "#E5ECF6",
          "polar": {
           "angularaxis": {
            "gridcolor": "white",
            "linecolor": "white",
            "ticks": ""
           },
           "bgcolor": "#E5ECF6",
           "radialaxis": {
            "gridcolor": "white",
            "linecolor": "white",
            "ticks": ""
           }
          },
          "scene": {
           "xaxis": {
            "backgroundcolor": "#E5ECF6",
            "gridcolor": "white",
            "gridwidth": 2,
            "linecolor": "white",
            "showbackground": true,
            "ticks": "",
            "zerolinecolor": "white"
           },
           "yaxis": {
            "backgroundcolor": "#E5ECF6",
            "gridcolor": "white",
            "gridwidth": 2,
            "linecolor": "white",
            "showbackground": true,
            "ticks": "",
            "zerolinecolor": "white"
           },
           "zaxis": {
            "backgroundcolor": "#E5ECF6",
            "gridcolor": "white",
            "gridwidth": 2,
            "linecolor": "white",
            "showbackground": true,
            "ticks": "",
            "zerolinecolor": "white"
           }
          },
          "shapedefaults": {
           "line": {
            "color": "#2a3f5f"
           }
          },
          "ternary": {
           "aaxis": {
            "gridcolor": "white",
            "linecolor": "white",
            "ticks": ""
           },
           "baxis": {
            "gridcolor": "white",
            "linecolor": "white",
            "ticks": ""
           },
           "bgcolor": "#E5ECF6",
           "caxis": {
            "gridcolor": "white",
            "linecolor": "white",
            "ticks": ""
           }
          },
          "title": {
           "x": 0.05
          },
          "xaxis": {
           "automargin": true,
           "gridcolor": "white",
           "linecolor": "white",
           "ticks": "",
           "title": {
            "standoff": 15
           },
           "zerolinecolor": "white",
           "zerolinewidth": 2
          },
          "yaxis": {
           "automargin": true,
           "gridcolor": "white",
           "linecolor": "white",
           "ticks": "",
           "title": {
            "standoff": 15
           },
           "zerolinecolor": "white",
           "zerolinewidth": 2
          }
         }
        },
        "title": {
         "text": "Distribution of output tokens per question for GPQA Diamond"
        },
        "xaxis": {
         "anchor": "y",
         "domain": [
          0,
          1
         ],
         "title": {
          "text": "Output tokens"
         }
        },
        "yaxis": {
         "anchor": "x",
         "domain": [
          0,
          1
         ],
         "title": {
          "text": "Relative frequency"
         }
        }
       }
      }
     },
     "metadata": {},
     "output_type": "display_data"
    }
   ],
   "source": [
    "# Plot the distribution of total_tokens\n",
    "import plotly.express as px\n",
    "\n",
    "for task in df['Task'].unique():\n",
    "    fig = px.histogram(\n",
    "        df[df['Task'] == task], \n",
    "        x='output_tokens_per_question',\n",
    "        title=f'Distribution of output tokens per question for {task}',\n",
    "        labels={'output_tokens_per_question': 'Output tokens per question'},\n",
    "        # nbins=30,\n",
    "        histnorm='probability'  # Normalize by total count\n",
    "    )\n",
    "\n",
    "    # Update layout for better readability\n",
    "    fig.update_layout(\n",
    "        showlegend=False,\n",
    "        xaxis_title='Output tokens',\n",
    "        yaxis_title='Relative frequency',  # Updated to reflect normalization\n",
    "        bargap=0.1\n",
    "    )\n",
    "\n",
    "    save_plot(fig, results_dir, f'output_tokens_per_question_distribution_for_{task}')\n",
    "\n",
    "    fig.show()"
   ]
  },
  {
   "cell_type": "code",
   "execution_count": 16,
   "metadata": {},
   "outputs": [],
   "source": [
    "model_mapping = {\n",
    "    # Claude models\n",
    "    'claude-3-haiku-20240307': 'Claude-3-Haiku',\n",
    "    'claude-3-opus-20240229': 'Claude-3-Opus',\n",
    "    'claude-3-sonnet-20240229': 'Claude-3-Sonnet',\n",
    "    'claude-3-5-sonnet-20240620': 'Claude-3.5-Sonnet-2024-06',\n",
    "    'claude-3-5-sonnet-20241022': 'Claude-3.5-Sonnet-2024-10',\n",
    "    'claude-2.0': 'Claude 2',\n",
    "    'claude-2.1': 'Claude 2.1',\n",
    "    \n",
    "    # Gemini models\n",
    "    'gemini-2.0-flash-001': 'Gemini 2.0 Flash',\n",
    "    # 'gemini-2.0-flash-thinking-exp-01-21': 'Gemini 2.0 Flash Thinking',\n",
    "    'gemini-1.5-flash-001': 'Gemini-1.5-Flash-2024-05',\n",
    "    'gemini-1.5-flash-002': 'Gemini-1.5-Flash-2024-09',\n",
    "    'gemini-1.5-pro-001': 'Gemini-1.5-Pro-2024-05',\n",
    "    'gemini-1.5-pro-002': 'Gemini-1.5-Pro-2024-09',\n",
    "    'gemini-1.0-pro-001': 'Gemini 1.0 Pro',\n",
    "    \n",
    "    # Gemma models\n",
    "    'gemma-2-27b-it': 'Gemma-2-27B',\n",
    "    'gemma-2-9b-it': 'Gemma-2-9B',\n",
    "    \n",
    "    # GPT models\n",
    "    'gpt-3.5-turbo-0125': 'GPT-3.5-Turbo-2024-01',\n",
    "    'gpt-3.5-turbo-1106': 'GPT-3.5-Turbo-2023-11',\n",
    "    # 'gpt-4-0125-preview': 'GPT-4',\n",
    "    'gpt-4-0613': 'GPT-4',\n",
    "    # 'gpt-4-1106-preview': 'GPT-4 Turbo',\n",
    "    'gpt-4o-2024-05-13': 'GPT-4o-2024-05',\n",
    "    'gpt-4o-2024-08-06': 'GPT-4o-2024-08',\n",
    "    'gpt-4o-2024-11-20': 'GPT-4o-2024-11',\n",
    "    'gpt-4o-mini-2024-07-18': 'GPT-4o-mini',\n",
    "    \n",
    "    # Llama models\n",
    "    'Llama-2-70b-chat-hf': 'Llama 2-70B Chat',\n",
    "    'Meta-Llama-3-8B-Instruct': 'Llama-3-Instruct-8B',\n",
    "    'Meta-Llama-3-70B-Instruct': 'Llama-3-Instruct-70B',\n",
    "    'Meta-Llama-3.1-8B-Instruct': 'Llama-3.1-Instruct-8B',\n",
    "    'Meta-Llama-3.1-70B-Instruct': 'Llama-3.1-Instruct-70B',\n",
    "    'Meta-Llama-3.1-405B-Instruct': 'Llama-3.1-Instruct-405B',\n",
    "    # 'llama-3.1-405b-instruct-maas': 'Llama-3.1-Instruct-405B',\n",
    "    # 'llama-v3p3-70b-instruct': 'Llama-3.1-Instruct-70B',\n",
    "    # 'Llama-3.1-Tulu-3-70B-DPO': 'Llama-3.1-Instruct-70B',\n",
    "    \n",
    "    # Mistral models\n",
    "    'Mistral-7B-Instruct-v0.3': 'Mistral 7B',\n",
    "    'mistral-large-2402': 'Mistral-Large-2024-02',\n",
    "    'mistral-large-2407': 'Mistral-Large-2-2024-06',\n",
    "    'open-mistral-7b': 'Mistral 7B',\n",
    "    'open-mistral-nemo-2407': 'Mistral-NeMo',\n",
    "    'mistral-small-2501': 'Mistral Small 3',\n",
    "    'open-mixtral-8x22b': 'Mistral-8x22',\n",
    "    # 'open-mixtral-8x7b': 'Mistral 7B',\n",
    "    # 'Mixtral-8x7B-Instruct-v0.1': 'Mistral 7B',\n",
    "    # 'WizardLM-2-8x22B': 'Mistral-8x22',\n",
    "    \n",
    "    # Phi models\n",
    "    'phi-4': 'Phi 4',\n",
    "    \n",
    "    # Anthropic o models\n",
    "    'o1-2024-12-17_high': 'o1',\n",
    "    'o1-2024-12-17': 'o1',\n",
    "    'o1-mini-2024-09-12_high': 'o1-mini',\n",
    "    'o1-mini-2024-09-12': 'o1-mini',\n",
    "    'o1-preview-2024-09-12': 'o1-preview',\n",
    "    'o3-mini-2025-01-31_high': 'o3-mini',\n",
    "    'o3-mini-2025-01-31': 'o3-mini',\n",
    "    \n",
    "    # DeepSeek models\n",
    "    'deepseek-r1': 'DeepSeek-R1',\n",
    "    'deepseek-v3': 'DeepSeek-V3',\n",
    "    'DeepSeek-V3': 'DeepSeek-V3',\n",
    "    \n",
    "    # Qwen models (no exact matches in Set 2, but including for completeness)\n",
    "    # 'qwen2p5-72b-instruct': 'Qwen2.5-72B-Instruct',\n",
    "    # 'Qwen2.5-32B-Instruct': 'Qwen2.5-32B-Instruct',\n",
    "    # 'Qwen2.5-72B-Instruct': 'Qwen2.5-72B-Instruct',\n",
    "    # 'Qwen1.5-72B-Chat': 'Qwen1.5-72B-Chat',\n",
    "    # 'Qwen1.5-32B-Chat': 'Qwen1.5-32B-Chat',\n",
    "    # 'Qwen2-72B-Instruct': 'Qwen2-72B-Instruct',\n",
    "    \n",
    "    # Other models without clear matches\n",
    "    # 'Yi-34B-Chat': 'Yi-34B-Chat',\n",
    "    # 'Yi-1.5-34B-Chat': 'Yi-1.5-34B-Chat',\n",
    "    # 'dbrx-instruct': 'dbrx-instruct',\n",
    "    # 'grok-2-1212': 'grok-2-1212',\n",
    "    # 'Hermes-2-Theta-Llama-3-70B': 'Hermes-2-Theta-Llama-3-70B',\n",
    "    # 'Eurus-2-7B-PRIME': 'Eurus-2-7B-PRIME',\n",
    "    # 'ministral-8b-2410': 'ministral-8b-2410',\n",
    "    # 'ministral-3b-2410': 'ministral-3b-2410'\n",
    "}"
   ]
  },
  {
   "cell_type": "markdown",
   "metadata": {},
   "source": [
    "## Load Artificial Analysis dataset"
   ]
  },
  {
   "cell_type": "code",
   "execution_count": 17,
   "metadata": {},
   "outputs": [
    {
     "data": {
      "text/html": [
       "<div>\n",
       "<style scoped>\n",
       "    .dataframe tbody tr th:only-of-type {\n",
       "        vertical-align: middle;\n",
       "    }\n",
       "\n",
       "    .dataframe tbody tr th {\n",
       "        vertical-align: top;\n",
       "    }\n",
       "\n",
       "    .dataframe thead th {\n",
       "        text-align: right;\n",
       "    }\n",
       "</style>\n",
       "<table border=\"1\" class=\"dataframe\">\n",
       "  <thead>\n",
       "    <tr style=\"text-align: right;\">\n",
       "      <th></th>\n",
       "      <th>Model Name</th>\n",
       "      <th>Release Date</th>\n",
       "      <th>USD per 1M Tokens</th>\n",
       "      <th>Tokens per Second</th>\n",
       "      <th>Prefill Latency (s)</th>\n",
       "      <th>Prompt Length (tk)</th>\n",
       "      <th>MMLU</th>\n",
       "      <th>GPQA Diamond</th>\n",
       "      <th>MATH-500</th>\n",
       "      <th>HumanEval</th>\n",
       "      <th>LMSys Chatbot Arena ELO</th>\n",
       "      <th>MATH 5</th>\n",
       "    </tr>\n",
       "  </thead>\n",
       "  <tbody>\n",
       "    <tr>\n",
       "      <th>0</th>\n",
       "      <td>Claude-3-Haiku</td>\n",
       "      <td>2024-03</td>\n",
       "      <td>0.5000</td>\n",
       "      <td>122.7</td>\n",
       "      <td>0.467</td>\n",
       "      <td>1000.0</td>\n",
       "      <td>71</td>\n",
       "      <td>33</td>\n",
       "      <td>39.0</td>\n",
       "      <td>77.0</td>\n",
       "      <td>1179.0</td>\n",
       "      <td>13.0</td>\n",
       "    </tr>\n",
       "    <tr>\n",
       "      <th>1</th>\n",
       "      <td>Claude-3-Opus</td>\n",
       "      <td>2024-03</td>\n",
       "      <td>30.0000</td>\n",
       "      <td>26.5</td>\n",
       "      <td>1.984</td>\n",
       "      <td>1000.0</td>\n",
       "      <td>84</td>\n",
       "      <td>50</td>\n",
       "      <td>64.0</td>\n",
       "      <td>83.0</td>\n",
       "      <td>1248.0</td>\n",
       "      <td>34.0</td>\n",
       "    </tr>\n",
       "    <tr>\n",
       "      <th>2</th>\n",
       "      <td>Claude-3-Sonnet</td>\n",
       "      <td>2024-03</td>\n",
       "      <td>6.0000</td>\n",
       "      <td>61.8</td>\n",
       "      <td>0.789</td>\n",
       "      <td>1000.0</td>\n",
       "      <td>77</td>\n",
       "      <td>37</td>\n",
       "      <td>41.0</td>\n",
       "      <td>71.0</td>\n",
       "      <td>1201.0</td>\n",
       "      <td>16.0</td>\n",
       "    </tr>\n",
       "    <tr>\n",
       "      <th>3</th>\n",
       "      <td>Claude-3.5-Haiku</td>\n",
       "      <td>2024-06</td>\n",
       "      <td>1.6000</td>\n",
       "      <td>64.2</td>\n",
       "      <td>0.768</td>\n",
       "      <td>1000.0</td>\n",
       "      <td>81</td>\n",
       "      <td>37</td>\n",
       "      <td>67.0</td>\n",
       "      <td>87.0</td>\n",
       "      <td>1236.0</td>\n",
       "      <td>NaN</td>\n",
       "    </tr>\n",
       "    <tr>\n",
       "      <th>4</th>\n",
       "      <td>Claude-3.5-Sonnet-2024-06</td>\n",
       "      <td>2024-06</td>\n",
       "      <td>6.0000</td>\n",
       "      <td>55.9</td>\n",
       "      <td>0.906</td>\n",
       "      <td>1000.0</td>\n",
       "      <td>88</td>\n",
       "      <td>56</td>\n",
       "      <td>71.0</td>\n",
       "      <td>90.0</td>\n",
       "      <td>1268.0</td>\n",
       "      <td>46.0</td>\n",
       "    </tr>\n",
       "    <tr>\n",
       "      <th>5</th>\n",
       "      <td>Claude-3.5-Sonnet-2024-10</td>\n",
       "      <td>2024-10</td>\n",
       "      <td>6.0000</td>\n",
       "      <td>55.2</td>\n",
       "      <td>0.907</td>\n",
       "      <td>1000.0</td>\n",
       "      <td>89</td>\n",
       "      <td>58</td>\n",
       "      <td>76.0</td>\n",
       "      <td>96.0</td>\n",
       "      <td>1282.0</td>\n",
       "      <td>53.0</td>\n",
       "    </tr>\n",
       "    <tr>\n",
       "      <th>6</th>\n",
       "      <td>Gemini 2.0 Flash</td>\n",
       "      <td>2025-02</td>\n",
       "      <td>0.1750</td>\n",
       "      <td>NaN</td>\n",
       "      <td>NaN</td>\n",
       "      <td>NaN</td>\n",
       "      <td>88</td>\n",
       "      <td>62</td>\n",
       "      <td>93.0</td>\n",
       "      <td>90.0</td>\n",
       "      <td>1358.0</td>\n",
       "      <td>82.0</td>\n",
       "    </tr>\n",
       "    <tr>\n",
       "      <th>7</th>\n",
       "      <td>Gemini-1.5-Flash-2024-05</td>\n",
       "      <td>2024-05</td>\n",
       "      <td>0.1300</td>\n",
       "      <td>298.4</td>\n",
       "      <td>0.307</td>\n",
       "      <td>1000.0</td>\n",
       "      <td>79</td>\n",
       "      <td>39</td>\n",
       "      <td>55.0</td>\n",
       "      <td>NaN</td>\n",
       "      <td>1227.0</td>\n",
       "      <td>23.0</td>\n",
       "    </tr>\n",
       "    <tr>\n",
       "      <th>8</th>\n",
       "      <td>Gemini-1.5-Flash-2024-09</td>\n",
       "      <td>2024-09</td>\n",
       "      <td>0.1300</td>\n",
       "      <td>190.5</td>\n",
       "      <td>0.348</td>\n",
       "      <td>1000.0</td>\n",
       "      <td>75</td>\n",
       "      <td>45</td>\n",
       "      <td>83.0</td>\n",
       "      <td>83.0</td>\n",
       "      <td>1271.0</td>\n",
       "      <td>58.0</td>\n",
       "    </tr>\n",
       "    <tr>\n",
       "      <th>9</th>\n",
       "      <td>Gemini-1.5-Flash-8B</td>\n",
       "      <td>2024-10</td>\n",
       "      <td>0.0700</td>\n",
       "      <td>285.2</td>\n",
       "      <td>0.335</td>\n",
       "      <td>1000.0</td>\n",
       "      <td>75</td>\n",
       "      <td>30</td>\n",
       "      <td>70.0</td>\n",
       "      <td>12.0</td>\n",
       "      <td>1211.0</td>\n",
       "      <td>NaN</td>\n",
       "    </tr>\n",
       "    <tr>\n",
       "      <th>10</th>\n",
       "      <td>Gemini-1.5-Pro-2024-05</td>\n",
       "      <td>2024-05</td>\n",
       "      <td>2.1900</td>\n",
       "      <td>64.8</td>\n",
       "      <td>0.738</td>\n",
       "      <td>1000.0</td>\n",
       "      <td>86</td>\n",
       "      <td>46</td>\n",
       "      <td>66.0</td>\n",
       "      <td>83.0</td>\n",
       "      <td>1260.0</td>\n",
       "      <td>41.0</td>\n",
       "    </tr>\n",
       "    <tr>\n",
       "      <th>11</th>\n",
       "      <td>Gemini-1.5-Pro-2024-09</td>\n",
       "      <td>2024-09</td>\n",
       "      <td>2.1900</td>\n",
       "      <td>59.1</td>\n",
       "      <td>0.864</td>\n",
       "      <td>1000.0</td>\n",
       "      <td>86</td>\n",
       "      <td>61</td>\n",
       "      <td>88.0</td>\n",
       "      <td>88.0</td>\n",
       "      <td>1301.0</td>\n",
       "      <td>67.0</td>\n",
       "    </tr>\n",
       "    <tr>\n",
       "      <th>12</th>\n",
       "      <td>Gemma-2-27B</td>\n",
       "      <td>2024-06</td>\n",
       "      <td>0.2600</td>\n",
       "      <td>47.9</td>\n",
       "      <td>0.527</td>\n",
       "      <td>1000.0</td>\n",
       "      <td>77</td>\n",
       "      <td>39</td>\n",
       "      <td>54.0</td>\n",
       "      <td>76.0</td>\n",
       "      <td>1219.0</td>\n",
       "      <td>23.0</td>\n",
       "    </tr>\n",
       "    <tr>\n",
       "      <th>13</th>\n",
       "      <td>Gemma-2-9B</td>\n",
       "      <td>2024-06</td>\n",
       "      <td>0.1300</td>\n",
       "      <td>162.8</td>\n",
       "      <td>0.426</td>\n",
       "      <td>1000.0</td>\n",
       "      <td>73</td>\n",
       "      <td>31</td>\n",
       "      <td>50.0</td>\n",
       "      <td>64.0</td>\n",
       "      <td>1190.0</td>\n",
       "      <td>18.0</td>\n",
       "    </tr>\n",
       "    <tr>\n",
       "      <th>14</th>\n",
       "      <td>GPT-3.5 Turbo</td>\n",
       "      <td>2023-11</td>\n",
       "      <td>0.7500</td>\n",
       "      <td>121.5</td>\n",
       "      <td>0.598</td>\n",
       "      <td>1000.0</td>\n",
       "      <td>68</td>\n",
       "      <td>30</td>\n",
       "      <td>44.0</td>\n",
       "      <td>71.0</td>\n",
       "      <td>1107.0</td>\n",
       "      <td>15.0</td>\n",
       "    </tr>\n",
       "    <tr>\n",
       "      <th>15</th>\n",
       "      <td>GPT-4</td>\n",
       "      <td>2023-03</td>\n",
       "      <td>37.5000</td>\n",
       "      <td>23.6</td>\n",
       "      <td>0.724</td>\n",
       "      <td>1000.0</td>\n",
       "      <td>86</td>\n",
       "      <td>33</td>\n",
       "      <td>21.0</td>\n",
       "      <td>67.0</td>\n",
       "      <td>1186.0</td>\n",
       "      <td>23.0</td>\n",
       "    </tr>\n",
       "    <tr>\n",
       "      <th>16</th>\n",
       "      <td>GPT-4 Turbo</td>\n",
       "      <td>2023-11</td>\n",
       "      <td>15.0000</td>\n",
       "      <td>39.2</td>\n",
       "      <td>1.246</td>\n",
       "      <td>1000.0</td>\n",
       "      <td>87</td>\n",
       "      <td>50</td>\n",
       "      <td>74.0</td>\n",
       "      <td>92.0</td>\n",
       "      <td>1256.0</td>\n",
       "      <td>36.0</td>\n",
       "    </tr>\n",
       "    <tr>\n",
       "      <th>17</th>\n",
       "      <td>GPT-4o-2024-05</td>\n",
       "      <td>2024-05</td>\n",
       "      <td>7.5000</td>\n",
       "      <td>86.4</td>\n",
       "      <td>0.687</td>\n",
       "      <td>1000.0</td>\n",
       "      <td>87</td>\n",
       "      <td>51</td>\n",
       "      <td>79.0</td>\n",
       "      <td>93.0</td>\n",
       "      <td>1285.0</td>\n",
       "      <td>48.0</td>\n",
       "    </tr>\n",
       "    <tr>\n",
       "      <th>18</th>\n",
       "      <td>GPT-4o-2024-08</td>\n",
       "      <td>2024-08</td>\n",
       "      <td>4.3800</td>\n",
       "      <td>81.0</td>\n",
       "      <td>0.673</td>\n",
       "      <td>1000.0</td>\n",
       "      <td>89</td>\n",
       "      <td>51</td>\n",
       "      <td>80.0</td>\n",
       "      <td>93.0</td>\n",
       "      <td>1337.0</td>\n",
       "      <td>47.0</td>\n",
       "    </tr>\n",
       "    <tr>\n",
       "      <th>19</th>\n",
       "      <td>GPT-4o-2024-11</td>\n",
       "      <td>2024-11</td>\n",
       "      <td>4.3800</td>\n",
       "      <td>148.9</td>\n",
       "      <td>0.404</td>\n",
       "      <td>1000.0</td>\n",
       "      <td>86</td>\n",
       "      <td>45</td>\n",
       "      <td>75.0</td>\n",
       "      <td>93.0</td>\n",
       "      <td>1361.0</td>\n",
       "      <td>50.0</td>\n",
       "    </tr>\n",
       "    <tr>\n",
       "      <th>20</th>\n",
       "      <td>GPT-4o-mini</td>\n",
       "      <td>2024-07</td>\n",
       "      <td>0.2600</td>\n",
       "      <td>112.2</td>\n",
       "      <td>0.626</td>\n",
       "      <td>1000.0</td>\n",
       "      <td>82</td>\n",
       "      <td>43</td>\n",
       "      <td>79.0</td>\n",
       "      <td>88.0</td>\n",
       "      <td>1273.0</td>\n",
       "      <td>48.0</td>\n",
       "    </tr>\n",
       "    <tr>\n",
       "      <th>21</th>\n",
       "      <td>Llama-2-Chat-13B</td>\n",
       "      <td>2023-07</td>\n",
       "      <td>0.5600</td>\n",
       "      <td>43.1</td>\n",
       "      <td>0.447</td>\n",
       "      <td>1000.0</td>\n",
       "      <td>45</td>\n",
       "      <td>19</td>\n",
       "      <td>NaN</td>\n",
       "      <td>NaN</td>\n",
       "      <td>1063.0</td>\n",
       "      <td>NaN</td>\n",
       "    </tr>\n",
       "    <tr>\n",
       "      <th>22</th>\n",
       "      <td>Llama-2-Chat-7B</td>\n",
       "      <td>2023-07</td>\n",
       "      <td>0.3300</td>\n",
       "      <td>125.4</td>\n",
       "      <td>0.508</td>\n",
       "      <td>1000.0</td>\n",
       "      <td>13</td>\n",
       "      <td>6</td>\n",
       "      <td>NaN</td>\n",
       "      <td>13.0</td>\n",
       "      <td>1037.0</td>\n",
       "      <td>NaN</td>\n",
       "    </tr>\n",
       "    <tr>\n",
       "      <th>23</th>\n",
       "      <td>Llama-3-Instruct-70B</td>\n",
       "      <td>2024-04</td>\n",
       "      <td>0.8900</td>\n",
       "      <td>44.6</td>\n",
       "      <td>0.472</td>\n",
       "      <td>1000.0</td>\n",
       "      <td>79</td>\n",
       "      <td>39</td>\n",
       "      <td>53.0</td>\n",
       "      <td>18.0</td>\n",
       "      <td>1206.0</td>\n",
       "      <td>22.0</td>\n",
       "    </tr>\n",
       "    <tr>\n",
       "      <th>24</th>\n",
       "      <td>Llama-3-Instruct-8B</td>\n",
       "      <td>2024-04</td>\n",
       "      <td>0.1500</td>\n",
       "      <td>122.8</td>\n",
       "      <td>0.330</td>\n",
       "      <td>1000.0</td>\n",
       "      <td>64</td>\n",
       "      <td>30</td>\n",
       "      <td>32.0</td>\n",
       "      <td>53.0</td>\n",
       "      <td>1152.0</td>\n",
       "      <td>8.0</td>\n",
       "    </tr>\n",
       "    <tr>\n",
       "      <th>25</th>\n",
       "      <td>Llama-3.1-Instruct-405B</td>\n",
       "      <td>2024-07</td>\n",
       "      <td>3.5000</td>\n",
       "      <td>27.9</td>\n",
       "      <td>0.719</td>\n",
       "      <td>1000.0</td>\n",
       "      <td>87</td>\n",
       "      <td>50</td>\n",
       "      <td>70.0</td>\n",
       "      <td>87.0</td>\n",
       "      <td>1266.0</td>\n",
       "      <td>45.0</td>\n",
       "    </tr>\n",
       "    <tr>\n",
       "      <th>26</th>\n",
       "      <td>Llama-3.1-Instruct-70B</td>\n",
       "      <td>2024-07</td>\n",
       "      <td>0.7200</td>\n",
       "      <td>71.6</td>\n",
       "      <td>0.425</td>\n",
       "      <td>1000.0</td>\n",
       "      <td>84</td>\n",
       "      <td>43</td>\n",
       "      <td>64.0</td>\n",
       "      <td>80.0</td>\n",
       "      <td>1249.0</td>\n",
       "      <td>39.0</td>\n",
       "    </tr>\n",
       "    <tr>\n",
       "      <th>27</th>\n",
       "      <td>Llama-3.1-Instruct-8B</td>\n",
       "      <td>2024-07</td>\n",
       "      <td>0.1000</td>\n",
       "      <td>164.3</td>\n",
       "      <td>0.350</td>\n",
       "      <td>1000.0</td>\n",
       "      <td>71</td>\n",
       "      <td>27</td>\n",
       "      <td>50.0</td>\n",
       "      <td>67.0</td>\n",
       "      <td>1172.0</td>\n",
       "      <td>22.0</td>\n",
       "    </tr>\n",
       "    <tr>\n",
       "      <th>28</th>\n",
       "      <td>Llama-3.2-Instruct-1B</td>\n",
       "      <td>2024-09</td>\n",
       "      <td>0.0500</td>\n",
       "      <td>552.1</td>\n",
       "      <td>0.317</td>\n",
       "      <td>1000.0</td>\n",
       "      <td>35</td>\n",
       "      <td>14</td>\n",
       "      <td>13.0</td>\n",
       "      <td>40.0</td>\n",
       "      <td>1103.0</td>\n",
       "      <td>NaN</td>\n",
       "    </tr>\n",
       "    <tr>\n",
       "      <th>29</th>\n",
       "      <td>Llama-3.2-Instruct-3B</td>\n",
       "      <td>2024-09</td>\n",
       "      <td>0.0800</td>\n",
       "      <td>200.3</td>\n",
       "      <td>0.316</td>\n",
       "      <td>1000.0</td>\n",
       "      <td>64</td>\n",
       "      <td>21</td>\n",
       "      <td>50.0</td>\n",
       "      <td>60.0</td>\n",
       "      <td>1103.0</td>\n",
       "      <td>NaN</td>\n",
       "    </tr>\n",
       "    <tr>\n",
       "      <th>30</th>\n",
       "      <td>Mistral Small 3</td>\n",
       "      <td>2025-01</td>\n",
       "      <td>0.4750</td>\n",
       "      <td>NaN</td>\n",
       "      <td>NaN</td>\n",
       "      <td>NaN</td>\n",
       "      <td>82</td>\n",
       "      <td>46</td>\n",
       "      <td>74.0</td>\n",
       "      <td>85.0</td>\n",
       "      <td>1210.0</td>\n",
       "      <td>45.0</td>\n",
       "    </tr>\n",
       "    <tr>\n",
       "      <th>31</th>\n",
       "      <td>Mistral-8x22</td>\n",
       "      <td>2024-04</td>\n",
       "      <td>1.2000</td>\n",
       "      <td>85.3</td>\n",
       "      <td>0.624</td>\n",
       "      <td>1000.0</td>\n",
       "      <td>76</td>\n",
       "      <td>37</td>\n",
       "      <td>56.0</td>\n",
       "      <td>74.0</td>\n",
       "      <td>1148.0</td>\n",
       "      <td>23.0</td>\n",
       "    </tr>\n",
       "    <tr>\n",
       "      <th>32</th>\n",
       "      <td>Mistral-Large-2-2024-06</td>\n",
       "      <td>2024-06</td>\n",
       "      <td>3.0000</td>\n",
       "      <td>34.4</td>\n",
       "      <td>0.486</td>\n",
       "      <td>1000.0</td>\n",
       "      <td>85</td>\n",
       "      <td>48</td>\n",
       "      <td>71.0</td>\n",
       "      <td>91.0</td>\n",
       "      <td>1251.0</td>\n",
       "      <td>45.0</td>\n",
       "    </tr>\n",
       "    <tr>\n",
       "      <th>33</th>\n",
       "      <td>Mistral-Large-2-2024-11</td>\n",
       "      <td>2024-11</td>\n",
       "      <td>3.0000</td>\n",
       "      <td>43.5</td>\n",
       "      <td>0.639</td>\n",
       "      <td>1000.0</td>\n",
       "      <td>85</td>\n",
       "      <td>47</td>\n",
       "      <td>72.0</td>\n",
       "      <td>90.0</td>\n",
       "      <td>1247.0</td>\n",
       "      <td>NaN</td>\n",
       "    </tr>\n",
       "    <tr>\n",
       "      <th>34</th>\n",
       "      <td>Mistral-Large-2024-02</td>\n",
       "      <td>2024-02</td>\n",
       "      <td>6.0000</td>\n",
       "      <td>37.8</td>\n",
       "      <td>0.500</td>\n",
       "      <td>1000.0</td>\n",
       "      <td>69</td>\n",
       "      <td>36</td>\n",
       "      <td>49.0</td>\n",
       "      <td>69.0</td>\n",
       "      <td>1157.0</td>\n",
       "      <td>21.0</td>\n",
       "    </tr>\n",
       "    <tr>\n",
       "      <th>35</th>\n",
       "      <td>Mistral-NeMo</td>\n",
       "      <td>2024-06</td>\n",
       "      <td>0.1300</td>\n",
       "      <td>88.3</td>\n",
       "      <td>0.551</td>\n",
       "      <td>1000.0</td>\n",
       "      <td>66</td>\n",
       "      <td>33</td>\n",
       "      <td>44.0</td>\n",
       "      <td>71.0</td>\n",
       "      <td>NaN</td>\n",
       "      <td>10.0</td>\n",
       "    </tr>\n",
       "    <tr>\n",
       "      <th>36</th>\n",
       "      <td>Mistral-Small-2024-02</td>\n",
       "      <td>2024-02</td>\n",
       "      <td>1.5000</td>\n",
       "      <td>54.1</td>\n",
       "      <td>0.429</td>\n",
       "      <td>1000.0</td>\n",
       "      <td>69</td>\n",
       "      <td>31</td>\n",
       "      <td>56.0</td>\n",
       "      <td>79.0</td>\n",
       "      <td>NaN</td>\n",
       "      <td>NaN</td>\n",
       "    </tr>\n",
       "    <tr>\n",
       "      <th>37</th>\n",
       "      <td>Phi 4</td>\n",
       "      <td>2025-01</td>\n",
       "      <td>0.1225</td>\n",
       "      <td>NaN</td>\n",
       "      <td>NaN</td>\n",
       "      <td>NaN</td>\n",
       "      <td>85</td>\n",
       "      <td>53</td>\n",
       "      <td>81.0</td>\n",
       "      <td>87.0</td>\n",
       "      <td>1204.0</td>\n",
       "      <td>65.0</td>\n",
       "    </tr>\n",
       "  </tbody>\n",
       "</table>\n",
       "</div>"
      ],
      "text/plain": [
       "                   Model Name Release Date  USD per 1M Tokens  \\\n",
       "0              Claude-3-Haiku      2024-03             0.5000   \n",
       "1               Claude-3-Opus      2024-03            30.0000   \n",
       "2             Claude-3-Sonnet      2024-03             6.0000   \n",
       "3            Claude-3.5-Haiku      2024-06             1.6000   \n",
       "4   Claude-3.5-Sonnet-2024-06      2024-06             6.0000   \n",
       "5   Claude-3.5-Sonnet-2024-10      2024-10             6.0000   \n",
       "6            Gemini 2.0 Flash      2025-02             0.1750   \n",
       "7    Gemini-1.5-Flash-2024-05      2024-05             0.1300   \n",
       "8    Gemini-1.5-Flash-2024-09      2024-09             0.1300   \n",
       "9         Gemini-1.5-Flash-8B      2024-10             0.0700   \n",
       "10     Gemini-1.5-Pro-2024-05      2024-05             2.1900   \n",
       "11     Gemini-1.5-Pro-2024-09      2024-09             2.1900   \n",
       "12                Gemma-2-27B      2024-06             0.2600   \n",
       "13                 Gemma-2-9B      2024-06             0.1300   \n",
       "14              GPT-3.5 Turbo      2023-11             0.7500   \n",
       "15                      GPT-4      2023-03            37.5000   \n",
       "16                GPT-4 Turbo      2023-11            15.0000   \n",
       "17             GPT-4o-2024-05      2024-05             7.5000   \n",
       "18             GPT-4o-2024-08      2024-08             4.3800   \n",
       "19             GPT-4o-2024-11      2024-11             4.3800   \n",
       "20                GPT-4o-mini      2024-07             0.2600   \n",
       "21           Llama-2-Chat-13B      2023-07             0.5600   \n",
       "22            Llama-2-Chat-7B      2023-07             0.3300   \n",
       "23       Llama-3-Instruct-70B      2024-04             0.8900   \n",
       "24        Llama-3-Instruct-8B      2024-04             0.1500   \n",
       "25    Llama-3.1-Instruct-405B      2024-07             3.5000   \n",
       "26     Llama-3.1-Instruct-70B      2024-07             0.7200   \n",
       "27      Llama-3.1-Instruct-8B      2024-07             0.1000   \n",
       "28      Llama-3.2-Instruct-1B      2024-09             0.0500   \n",
       "29      Llama-3.2-Instruct-3B      2024-09             0.0800   \n",
       "30            Mistral Small 3      2025-01             0.4750   \n",
       "31               Mistral-8x22      2024-04             1.2000   \n",
       "32    Mistral-Large-2-2024-06      2024-06             3.0000   \n",
       "33    Mistral-Large-2-2024-11      2024-11             3.0000   \n",
       "34      Mistral-Large-2024-02      2024-02             6.0000   \n",
       "35               Mistral-NeMo      2024-06             0.1300   \n",
       "36      Mistral-Small-2024-02      2024-02             1.5000   \n",
       "37                      Phi 4      2025-01             0.1225   \n",
       "\n",
       "    Tokens per Second  Prefill Latency (s)  Prompt Length (tk)  MMLU  \\\n",
       "0               122.7                0.467              1000.0    71   \n",
       "1                26.5                1.984              1000.0    84   \n",
       "2                61.8                0.789              1000.0    77   \n",
       "3                64.2                0.768              1000.0    81   \n",
       "4                55.9                0.906              1000.0    88   \n",
       "5                55.2                0.907              1000.0    89   \n",
       "6                 NaN                  NaN                 NaN    88   \n",
       "7               298.4                0.307              1000.0    79   \n",
       "8               190.5                0.348              1000.0    75   \n",
       "9               285.2                0.335              1000.0    75   \n",
       "10               64.8                0.738              1000.0    86   \n",
       "11               59.1                0.864              1000.0    86   \n",
       "12               47.9                0.527              1000.0    77   \n",
       "13              162.8                0.426              1000.0    73   \n",
       "14              121.5                0.598              1000.0    68   \n",
       "15               23.6                0.724              1000.0    86   \n",
       "16               39.2                1.246              1000.0    87   \n",
       "17               86.4                0.687              1000.0    87   \n",
       "18               81.0                0.673              1000.0    89   \n",
       "19              148.9                0.404              1000.0    86   \n",
       "20              112.2                0.626              1000.0    82   \n",
       "21               43.1                0.447              1000.0    45   \n",
       "22              125.4                0.508              1000.0    13   \n",
       "23               44.6                0.472              1000.0    79   \n",
       "24              122.8                0.330              1000.0    64   \n",
       "25               27.9                0.719              1000.0    87   \n",
       "26               71.6                0.425              1000.0    84   \n",
       "27              164.3                0.350              1000.0    71   \n",
       "28              552.1                0.317              1000.0    35   \n",
       "29              200.3                0.316              1000.0    64   \n",
       "30                NaN                  NaN                 NaN    82   \n",
       "31               85.3                0.624              1000.0    76   \n",
       "32               34.4                0.486              1000.0    85   \n",
       "33               43.5                0.639              1000.0    85   \n",
       "34               37.8                0.500              1000.0    69   \n",
       "35               88.3                0.551              1000.0    66   \n",
       "36               54.1                0.429              1000.0    69   \n",
       "37                NaN                  NaN                 NaN    85   \n",
       "\n",
       "    GPQA Diamond  MATH-500  HumanEval  LMSys Chatbot Arena ELO  MATH 5  \n",
       "0             33      39.0       77.0                   1179.0    13.0  \n",
       "1             50      64.0       83.0                   1248.0    34.0  \n",
       "2             37      41.0       71.0                   1201.0    16.0  \n",
       "3             37      67.0       87.0                   1236.0     NaN  \n",
       "4             56      71.0       90.0                   1268.0    46.0  \n",
       "5             58      76.0       96.0                   1282.0    53.0  \n",
       "6             62      93.0       90.0                   1358.0    82.0  \n",
       "7             39      55.0        NaN                   1227.0    23.0  \n",
       "8             45      83.0       83.0                   1271.0    58.0  \n",
       "9             30      70.0       12.0                   1211.0     NaN  \n",
       "10            46      66.0       83.0                   1260.0    41.0  \n",
       "11            61      88.0       88.0                   1301.0    67.0  \n",
       "12            39      54.0       76.0                   1219.0    23.0  \n",
       "13            31      50.0       64.0                   1190.0    18.0  \n",
       "14            30      44.0       71.0                   1107.0    15.0  \n",
       "15            33      21.0       67.0                   1186.0    23.0  \n",
       "16            50      74.0       92.0                   1256.0    36.0  \n",
       "17            51      79.0       93.0                   1285.0    48.0  \n",
       "18            51      80.0       93.0                   1337.0    47.0  \n",
       "19            45      75.0       93.0                   1361.0    50.0  \n",
       "20            43      79.0       88.0                   1273.0    48.0  \n",
       "21            19       NaN        NaN                   1063.0     NaN  \n",
       "22             6       NaN       13.0                   1037.0     NaN  \n",
       "23            39      53.0       18.0                   1206.0    22.0  \n",
       "24            30      32.0       53.0                   1152.0     8.0  \n",
       "25            50      70.0       87.0                   1266.0    45.0  \n",
       "26            43      64.0       80.0                   1249.0    39.0  \n",
       "27            27      50.0       67.0                   1172.0    22.0  \n",
       "28            14      13.0       40.0                   1103.0     NaN  \n",
       "29            21      50.0       60.0                   1103.0     NaN  \n",
       "30            46      74.0       85.0                   1210.0    45.0  \n",
       "31            37      56.0       74.0                   1148.0    23.0  \n",
       "32            48      71.0       91.0                   1251.0    45.0  \n",
       "33            47      72.0       90.0                   1247.0     NaN  \n",
       "34            36      49.0       69.0                   1157.0    21.0  \n",
       "35            33      44.0       71.0                      NaN    10.0  \n",
       "36            31      56.0       79.0                      NaN     NaN  \n",
       "37            53      81.0       87.0                   1204.0    65.0  "
      ]
     },
     "execution_count": 17,
     "metadata": {},
     "output_type": "execute_result"
    }
   ],
   "source": [
    "aa_df = pd.read_csv('data/aa_data_with_math5.csv')\n",
    "aa_df"
   ]
  },
  {
   "cell_type": "code",
   "execution_count": 18,
   "metadata": {},
   "outputs": [],
   "source": [
    "# 'Release Date' is a string with the format 'YYYY-MM'\n",
    "aa_df['Release Date'] = pd.to_datetime(aa_df['Release Date'].str.strip(), format='%Y-%m')"
   ]
  },
  {
   "cell_type": "markdown",
   "metadata": {},
   "source": [
    "## Load Epoch AI price dataset"
   ]
  },
  {
   "cell_type": "code",
   "execution_count": 19,
   "metadata": {},
   "outputs": [
    {
     "data": {
      "text/html": [
       "<div>\n",
       "<style scoped>\n",
       "    .dataframe tbody tr th:only-of-type {\n",
       "        vertical-align: middle;\n",
       "    }\n",
       "\n",
       "    .dataframe tbody tr th {\n",
       "        vertical-align: top;\n",
       "    }\n",
       "\n",
       "    .dataframe thead th {\n",
       "        text-align: right;\n",
       "    }\n",
       "</style>\n",
       "<table border=\"1\" class=\"dataframe\">\n",
       "  <thead>\n",
       "    <tr style=\"text-align: right;\">\n",
       "      <th></th>\n",
       "      <th>Model Name</th>\n",
       "      <th>Release Date</th>\n",
       "      <th>USD per 1M Tokens</th>\n",
       "      <th>Tokens per Second</th>\n",
       "      <th>Prefill Latency (s)</th>\n",
       "      <th>Prompt Length (tk)</th>\n",
       "      <th>MMLU</th>\n",
       "      <th>GPQA Diamond</th>\n",
       "      <th>MATH 5</th>\n",
       "      <th>MATH-500</th>\n",
       "      <th>HumanEval</th>\n",
       "      <th>LMSys Chatbot Arena ELO</th>\n",
       "    </tr>\n",
       "  </thead>\n",
       "  <tbody>\n",
       "    <tr>\n",
       "      <th>0</th>\n",
       "      <td>Claude 2</td>\n",
       "      <td>2024-08-12</td>\n",
       "      <td>12.0000</td>\n",
       "      <td>NaN</td>\n",
       "      <td>NaN</td>\n",
       "      <td>NaN</td>\n",
       "      <td>78.5</td>\n",
       "      <td>35.0</td>\n",
       "      <td>10.0</td>\n",
       "      <td>NaN</td>\n",
       "      <td>NaN</td>\n",
       "      <td>NaN</td>\n",
       "    </tr>\n",
       "    <tr>\n",
       "      <th>1</th>\n",
       "      <td>Claude 2.1</td>\n",
       "      <td>2024-08-12</td>\n",
       "      <td>12.0000</td>\n",
       "      <td>NaN</td>\n",
       "      <td>NaN</td>\n",
       "      <td>NaN</td>\n",
       "      <td>NaN</td>\n",
       "      <td>36.0</td>\n",
       "      <td>11.0</td>\n",
       "      <td>NaN</td>\n",
       "      <td>NaN</td>\n",
       "      <td>NaN</td>\n",
       "    </tr>\n",
       "    <tr>\n",
       "      <th>2</th>\n",
       "      <td>Claude Instant</td>\n",
       "      <td>2024-08-12</td>\n",
       "      <td>1.2000</td>\n",
       "      <td>NaN</td>\n",
       "      <td>NaN</td>\n",
       "      <td>NaN</td>\n",
       "      <td>NaN</td>\n",
       "      <td>NaN</td>\n",
       "      <td>NaN</td>\n",
       "      <td>NaN</td>\n",
       "      <td>NaN</td>\n",
       "      <td>NaN</td>\n",
       "    </tr>\n",
       "    <tr>\n",
       "      <th>3</th>\n",
       "      <td>Cohere Command</td>\n",
       "      <td>2024-08-13</td>\n",
       "      <td>1.6250</td>\n",
       "      <td>NaN</td>\n",
       "      <td>NaN</td>\n",
       "      <td>NaN</td>\n",
       "      <td>NaN</td>\n",
       "      <td>NaN</td>\n",
       "      <td>NaN</td>\n",
       "      <td>NaN</td>\n",
       "      <td>NaN</td>\n",
       "      <td>NaN</td>\n",
       "    </tr>\n",
       "    <tr>\n",
       "      <th>4</th>\n",
       "      <td>Cohere Command Light</td>\n",
       "      <td>2024-08-13</td>\n",
       "      <td>0.3750</td>\n",
       "      <td>NaN</td>\n",
       "      <td>NaN</td>\n",
       "      <td>NaN</td>\n",
       "      <td>NaN</td>\n",
       "      <td>NaN</td>\n",
       "      <td>NaN</td>\n",
       "      <td>NaN</td>\n",
       "      <td>NaN</td>\n",
       "      <td>NaN</td>\n",
       "    </tr>\n",
       "    <tr>\n",
       "      <th>5</th>\n",
       "      <td>Command R</td>\n",
       "      <td>2024-08-13</td>\n",
       "      <td>0.7500</td>\n",
       "      <td>NaN</td>\n",
       "      <td>NaN</td>\n",
       "      <td>NaN</td>\n",
       "      <td>NaN</td>\n",
       "      <td>NaN</td>\n",
       "      <td>NaN</td>\n",
       "      <td>NaN</td>\n",
       "      <td>NaN</td>\n",
       "      <td>1180.0</td>\n",
       "    </tr>\n",
       "    <tr>\n",
       "      <th>6</th>\n",
       "      <td>Command R+</td>\n",
       "      <td>2024-08-13</td>\n",
       "      <td>6.0000</td>\n",
       "      <td>NaN</td>\n",
       "      <td>NaN</td>\n",
       "      <td>NaN</td>\n",
       "      <td>75.7</td>\n",
       "      <td>NaN</td>\n",
       "      <td>NaN</td>\n",
       "      <td>NaN</td>\n",
       "      <td>NaN</td>\n",
       "      <td>1215.0</td>\n",
       "    </tr>\n",
       "    <tr>\n",
       "      <th>7</th>\n",
       "      <td>Command R+</td>\n",
       "      <td>2024-09-13</td>\n",
       "      <td>4.3750</td>\n",
       "      <td>NaN</td>\n",
       "      <td>NaN</td>\n",
       "      <td>NaN</td>\n",
       "      <td>75.7</td>\n",
       "      <td>NaN</td>\n",
       "      <td>NaN</td>\n",
       "      <td>NaN</td>\n",
       "      <td>NaN</td>\n",
       "      <td>1215.0</td>\n",
       "    </tr>\n",
       "    <tr>\n",
       "      <th>8</th>\n",
       "      <td>DeepSeek-Coder-V2 236B</td>\n",
       "      <td>2024-09-11</td>\n",
       "      <td>0.1750</td>\n",
       "      <td>NaN</td>\n",
       "      <td>NaN</td>\n",
       "      <td>NaN</td>\n",
       "      <td>79.2</td>\n",
       "      <td>NaN</td>\n",
       "      <td>NaN</td>\n",
       "      <td>NaN</td>\n",
       "      <td>NaN</td>\n",
       "      <td>1178.0</td>\n",
       "    </tr>\n",
       "    <tr>\n",
       "      <th>9</th>\n",
       "      <td>DeepSeek-R1</td>\n",
       "      <td>2025-01-20</td>\n",
       "      <td>0.9600</td>\n",
       "      <td>NaN</td>\n",
       "      <td>NaN</td>\n",
       "      <td>NaN</td>\n",
       "      <td>NaN</td>\n",
       "      <td>71.7</td>\n",
       "      <td>93.1</td>\n",
       "      <td>NaN</td>\n",
       "      <td>NaN</td>\n",
       "      <td>1362.0</td>\n",
       "    </tr>\n",
       "    <tr>\n",
       "      <th>10</th>\n",
       "      <td>DeepSeek-V3</td>\n",
       "      <td>2024-12-26</td>\n",
       "      <td>0.4775</td>\n",
       "      <td>NaN</td>\n",
       "      <td>NaN</td>\n",
       "      <td>NaN</td>\n",
       "      <td>NaN</td>\n",
       "      <td>57.0</td>\n",
       "      <td>65.0</td>\n",
       "      <td>NaN</td>\n",
       "      <td>NaN</td>\n",
       "      <td>1318.0</td>\n",
       "    </tr>\n",
       "    <tr>\n",
       "      <th>11</th>\n",
       "      <td>Gemini 1.0 Pro</td>\n",
       "      <td>2024-08-12</td>\n",
       "      <td>0.7500</td>\n",
       "      <td>NaN</td>\n",
       "      <td>NaN</td>\n",
       "      <td>NaN</td>\n",
       "      <td>71.8</td>\n",
       "      <td>34.4</td>\n",
       "      <td>11.0</td>\n",
       "      <td>NaN</td>\n",
       "      <td>NaN</td>\n",
       "      <td>1131.0</td>\n",
       "    </tr>\n",
       "    <tr>\n",
       "      <th>12</th>\n",
       "      <td>GPT-3 175B (davinci)</td>\n",
       "      <td>2021-11-20</td>\n",
       "      <td>60.0000</td>\n",
       "      <td>NaN</td>\n",
       "      <td>NaN</td>\n",
       "      <td>NaN</td>\n",
       "      <td>43.9</td>\n",
       "      <td>NaN</td>\n",
       "      <td>NaN</td>\n",
       "      <td>NaN</td>\n",
       "      <td>NaN</td>\n",
       "      <td>NaN</td>\n",
       "    </tr>\n",
       "    <tr>\n",
       "      <th>13</th>\n",
       "      <td>GPT-3 175B (davinci)</td>\n",
       "      <td>2022-08-31</td>\n",
       "      <td>60.0000</td>\n",
       "      <td>NaN</td>\n",
       "      <td>NaN</td>\n",
       "      <td>NaN</td>\n",
       "      <td>43.9</td>\n",
       "      <td>NaN</td>\n",
       "      <td>NaN</td>\n",
       "      <td>NaN</td>\n",
       "      <td>NaN</td>\n",
       "      <td>NaN</td>\n",
       "    </tr>\n",
       "    <tr>\n",
       "      <th>14</th>\n",
       "      <td>GPT-3 175B (davinci)</td>\n",
       "      <td>2022-09-01</td>\n",
       "      <td>20.0000</td>\n",
       "      <td>NaN</td>\n",
       "      <td>NaN</td>\n",
       "      <td>NaN</td>\n",
       "      <td>43.9</td>\n",
       "      <td>NaN</td>\n",
       "      <td>NaN</td>\n",
       "      <td>NaN</td>\n",
       "      <td>NaN</td>\n",
       "      <td>NaN</td>\n",
       "    </tr>\n",
       "    <tr>\n",
       "      <th>15</th>\n",
       "      <td>GPT-3 175B (davinci)</td>\n",
       "      <td>2024-01-04</td>\n",
       "      <td>20.0000</td>\n",
       "      <td>NaN</td>\n",
       "      <td>NaN</td>\n",
       "      <td>NaN</td>\n",
       "      <td>63.1</td>\n",
       "      <td>NaN</td>\n",
       "      <td>NaN</td>\n",
       "      <td>NaN</td>\n",
       "      <td>NaN</td>\n",
       "      <td>NaN</td>\n",
       "    </tr>\n",
       "    <tr>\n",
       "      <th>16</th>\n",
       "      <td>GPT-3.5</td>\n",
       "      <td>2022-11-30</td>\n",
       "      <td>20.0000</td>\n",
       "      <td>NaN</td>\n",
       "      <td>NaN</td>\n",
       "      <td>NaN</td>\n",
       "      <td>64.8</td>\n",
       "      <td>NaN</td>\n",
       "      <td>NaN</td>\n",
       "      <td>NaN</td>\n",
       "      <td>NaN</td>\n",
       "      <td>NaN</td>\n",
       "    </tr>\n",
       "    <tr>\n",
       "      <th>17</th>\n",
       "      <td>GPT-3.5 Turbo</td>\n",
       "      <td>2023-06-13</td>\n",
       "      <td>3.2500</td>\n",
       "      <td>NaN</td>\n",
       "      <td>NaN</td>\n",
       "      <td>NaN</td>\n",
       "      <td>68.0</td>\n",
       "      <td>28.8</td>\n",
       "      <td>15.0</td>\n",
       "      <td>44.0</td>\n",
       "      <td>71.0</td>\n",
       "      <td>1117.0</td>\n",
       "    </tr>\n",
       "    <tr>\n",
       "      <th>18</th>\n",
       "      <td>GPT-3.5 Turbo</td>\n",
       "      <td>2024-01-25</td>\n",
       "      <td>0.7500</td>\n",
       "      <td>NaN</td>\n",
       "      <td>NaN</td>\n",
       "      <td>NaN</td>\n",
       "      <td>68.0</td>\n",
       "      <td>30.0</td>\n",
       "      <td>11.0</td>\n",
       "      <td>44.0</td>\n",
       "      <td>71.0</td>\n",
       "      <td>1106.0</td>\n",
       "    </tr>\n",
       "    <tr>\n",
       "      <th>19</th>\n",
       "      <td>GPT-3.5 Turbo</td>\n",
       "      <td>2023-03-06</td>\n",
       "      <td>2.0000</td>\n",
       "      <td>NaN</td>\n",
       "      <td>NaN</td>\n",
       "      <td>NaN</td>\n",
       "      <td>68.0</td>\n",
       "      <td>NaN</td>\n",
       "      <td>NaN</td>\n",
       "      <td>NaN</td>\n",
       "      <td>NaN</td>\n",
       "      <td>1106.0</td>\n",
       "    </tr>\n",
       "    <tr>\n",
       "      <th>20</th>\n",
       "      <td>Jamba 1.5-Large</td>\n",
       "      <td>2024-09-12</td>\n",
       "      <td>3.5000</td>\n",
       "      <td>NaN</td>\n",
       "      <td>NaN</td>\n",
       "      <td>NaN</td>\n",
       "      <td>80.0</td>\n",
       "      <td>NaN</td>\n",
       "      <td>NaN</td>\n",
       "      <td>NaN</td>\n",
       "      <td>NaN</td>\n",
       "      <td>1221.0</td>\n",
       "    </tr>\n",
       "    <tr>\n",
       "      <th>21</th>\n",
       "      <td>Llama 2-13B</td>\n",
       "      <td>2023-12-08</td>\n",
       "      <td>0.3500</td>\n",
       "      <td>NaN</td>\n",
       "      <td>NaN</td>\n",
       "      <td>NaN</td>\n",
       "      <td>54.8</td>\n",
       "      <td>NaN</td>\n",
       "      <td>NaN</td>\n",
       "      <td>NaN</td>\n",
       "      <td>NaN</td>\n",
       "      <td>NaN</td>\n",
       "    </tr>\n",
       "    <tr>\n",
       "      <th>22</th>\n",
       "      <td>Llama 2-13B</td>\n",
       "      <td>2024-04-14</td>\n",
       "      <td>0.2200</td>\n",
       "      <td>NaN</td>\n",
       "      <td>NaN</td>\n",
       "      <td>NaN</td>\n",
       "      <td>54.8</td>\n",
       "      <td>NaN</td>\n",
       "      <td>NaN</td>\n",
       "      <td>NaN</td>\n",
       "      <td>NaN</td>\n",
       "      <td>NaN</td>\n",
       "    </tr>\n",
       "    <tr>\n",
       "      <th>23</th>\n",
       "      <td>Llama 2-70B Chat</td>\n",
       "      <td>2023-12-01</td>\n",
       "      <td>0.7625</td>\n",
       "      <td>NaN</td>\n",
       "      <td>NaN</td>\n",
       "      <td>NaN</td>\n",
       "      <td>68.9</td>\n",
       "      <td>26.0</td>\n",
       "      <td>3.0</td>\n",
       "      <td>NaN</td>\n",
       "      <td>NaN</td>\n",
       "      <td>1093.0</td>\n",
       "    </tr>\n",
       "    <tr>\n",
       "      <th>24</th>\n",
       "      <td>Llama 2-7B</td>\n",
       "      <td>2023-12-01</td>\n",
       "      <td>0.2000</td>\n",
       "      <td>NaN</td>\n",
       "      <td>NaN</td>\n",
       "      <td>NaN</td>\n",
       "      <td>45.3</td>\n",
       "      <td>NaN</td>\n",
       "      <td>NaN</td>\n",
       "      <td>NaN</td>\n",
       "      <td>NaN</td>\n",
       "      <td>NaN</td>\n",
       "    </tr>\n",
       "    <tr>\n",
       "      <th>25</th>\n",
       "      <td>Llama 2-7B</td>\n",
       "      <td>2024-04-14</td>\n",
       "      <td>0.1300</td>\n",
       "      <td>NaN</td>\n",
       "      <td>NaN</td>\n",
       "      <td>NaN</td>\n",
       "      <td>45.3</td>\n",
       "      <td>NaN</td>\n",
       "      <td>NaN</td>\n",
       "      <td>NaN</td>\n",
       "      <td>NaN</td>\n",
       "      <td>NaN</td>\n",
       "    </tr>\n",
       "    <tr>\n",
       "      <th>26</th>\n",
       "      <td>Mistral 7B</td>\n",
       "      <td>2024-09-14</td>\n",
       "      <td>0.2500</td>\n",
       "      <td>NaN</td>\n",
       "      <td>NaN</td>\n",
       "      <td>NaN</td>\n",
       "      <td>60.1</td>\n",
       "      <td>14.0</td>\n",
       "      <td>3.0</td>\n",
       "      <td>NaN</td>\n",
       "      <td>NaN</td>\n",
       "      <td>NaN</td>\n",
       "    </tr>\n",
       "    <tr>\n",
       "      <th>27</th>\n",
       "      <td>o1</td>\n",
       "      <td>2024-12-17</td>\n",
       "      <td>26.2500</td>\n",
       "      <td>NaN</td>\n",
       "      <td>NaN</td>\n",
       "      <td>NaN</td>\n",
       "      <td>NaN</td>\n",
       "      <td>75.8</td>\n",
       "      <td>94.4</td>\n",
       "      <td>NaN</td>\n",
       "      <td>NaN</td>\n",
       "      <td>1352.0</td>\n",
       "    </tr>\n",
       "    <tr>\n",
       "      <th>28</th>\n",
       "      <td>o1-mini</td>\n",
       "      <td>2024-09-12</td>\n",
       "      <td>5.2500</td>\n",
       "      <td>NaN</td>\n",
       "      <td>NaN</td>\n",
       "      <td>NaN</td>\n",
       "      <td>NaN</td>\n",
       "      <td>59.5</td>\n",
       "      <td>84.3</td>\n",
       "      <td>NaN</td>\n",
       "      <td>NaN</td>\n",
       "      <td>1304.0</td>\n",
       "    </tr>\n",
       "    <tr>\n",
       "      <th>29</th>\n",
       "      <td>o1-mini</td>\n",
       "      <td>2025-01-31</td>\n",
       "      <td>1.9250</td>\n",
       "      <td>NaN</td>\n",
       "      <td>NaN</td>\n",
       "      <td>NaN</td>\n",
       "      <td>NaN</td>\n",
       "      <td>59.5</td>\n",
       "      <td>84.3</td>\n",
       "      <td>NaN</td>\n",
       "      <td>NaN</td>\n",
       "      <td>1304.0</td>\n",
       "    </tr>\n",
       "    <tr>\n",
       "      <th>30</th>\n",
       "      <td>o1-preview</td>\n",
       "      <td>2024-09-12</td>\n",
       "      <td>26.2500</td>\n",
       "      <td>NaN</td>\n",
       "      <td>NaN</td>\n",
       "      <td>NaN</td>\n",
       "      <td>NaN</td>\n",
       "      <td>69.7</td>\n",
       "      <td>68.0</td>\n",
       "      <td>NaN</td>\n",
       "      <td>NaN</td>\n",
       "      <td>1335.0</td>\n",
       "    </tr>\n",
       "    <tr>\n",
       "      <th>31</th>\n",
       "      <td>o3-mini</td>\n",
       "      <td>2025-01-31</td>\n",
       "      <td>1.9250</td>\n",
       "      <td>NaN</td>\n",
       "      <td>NaN</td>\n",
       "      <td>NaN</td>\n",
       "      <td>NaN</td>\n",
       "      <td>74.3</td>\n",
       "      <td>95.2</td>\n",
       "      <td>NaN</td>\n",
       "      <td>NaN</td>\n",
       "      <td>1306.0</td>\n",
       "    </tr>\n",
       "    <tr>\n",
       "      <th>32</th>\n",
       "      <td>Reka Core</td>\n",
       "      <td>2024-09-14</td>\n",
       "      <td>4.0000</td>\n",
       "      <td>NaN</td>\n",
       "      <td>NaN</td>\n",
       "      <td>NaN</td>\n",
       "      <td>83.2</td>\n",
       "      <td>NaN</td>\n",
       "      <td>NaN</td>\n",
       "      <td>NaN</td>\n",
       "      <td>NaN</td>\n",
       "      <td>1235.0</td>\n",
       "    </tr>\n",
       "  </tbody>\n",
       "</table>\n",
       "</div>"
      ],
      "text/plain": [
       "                Model Name Release Date  USD per 1M Tokens  Tokens per Second  \\\n",
       "0                 Claude 2   2024-08-12            12.0000                NaN   \n",
       "1               Claude 2.1   2024-08-12            12.0000                NaN   \n",
       "2           Claude Instant   2024-08-12             1.2000                NaN   \n",
       "3           Cohere Command   2024-08-13             1.6250                NaN   \n",
       "4     Cohere Command Light   2024-08-13             0.3750                NaN   \n",
       "5                Command R   2024-08-13             0.7500                NaN   \n",
       "6               Command R+   2024-08-13             6.0000                NaN   \n",
       "7               Command R+   2024-09-13             4.3750                NaN   \n",
       "8   DeepSeek-Coder-V2 236B   2024-09-11             0.1750                NaN   \n",
       "9              DeepSeek-R1   2025-01-20             0.9600                NaN   \n",
       "10             DeepSeek-V3   2024-12-26             0.4775                NaN   \n",
       "11          Gemini 1.0 Pro   2024-08-12             0.7500                NaN   \n",
       "12    GPT-3 175B (davinci)   2021-11-20            60.0000                NaN   \n",
       "13    GPT-3 175B (davinci)   2022-08-31            60.0000                NaN   \n",
       "14    GPT-3 175B (davinci)   2022-09-01            20.0000                NaN   \n",
       "15    GPT-3 175B (davinci)   2024-01-04            20.0000                NaN   \n",
       "16                 GPT-3.5   2022-11-30            20.0000                NaN   \n",
       "17           GPT-3.5 Turbo   2023-06-13             3.2500                NaN   \n",
       "18           GPT-3.5 Turbo   2024-01-25             0.7500                NaN   \n",
       "19           GPT-3.5 Turbo   2023-03-06             2.0000                NaN   \n",
       "20         Jamba 1.5-Large   2024-09-12             3.5000                NaN   \n",
       "21             Llama 2-13B   2023-12-08             0.3500                NaN   \n",
       "22             Llama 2-13B   2024-04-14             0.2200                NaN   \n",
       "23        Llama 2-70B Chat   2023-12-01             0.7625                NaN   \n",
       "24              Llama 2-7B   2023-12-01             0.2000                NaN   \n",
       "25              Llama 2-7B   2024-04-14             0.1300                NaN   \n",
       "26              Mistral 7B   2024-09-14             0.2500                NaN   \n",
       "27                      o1   2024-12-17            26.2500                NaN   \n",
       "28                 o1-mini   2024-09-12             5.2500                NaN   \n",
       "29                 o1-mini   2025-01-31             1.9250                NaN   \n",
       "30              o1-preview   2024-09-12            26.2500                NaN   \n",
       "31                 o3-mini   2025-01-31             1.9250                NaN   \n",
       "32               Reka Core   2024-09-14             4.0000                NaN   \n",
       "\n",
       "    Prefill Latency (s)  Prompt Length (tk)  MMLU  GPQA Diamond  MATH 5  \\\n",
       "0                   NaN                 NaN  78.5          35.0    10.0   \n",
       "1                   NaN                 NaN   NaN          36.0    11.0   \n",
       "2                   NaN                 NaN   NaN           NaN     NaN   \n",
       "3                   NaN                 NaN   NaN           NaN     NaN   \n",
       "4                   NaN                 NaN   NaN           NaN     NaN   \n",
       "5                   NaN                 NaN   NaN           NaN     NaN   \n",
       "6                   NaN                 NaN  75.7           NaN     NaN   \n",
       "7                   NaN                 NaN  75.7           NaN     NaN   \n",
       "8                   NaN                 NaN  79.2           NaN     NaN   \n",
       "9                   NaN                 NaN   NaN          71.7    93.1   \n",
       "10                  NaN                 NaN   NaN          57.0    65.0   \n",
       "11                  NaN                 NaN  71.8          34.4    11.0   \n",
       "12                  NaN                 NaN  43.9           NaN     NaN   \n",
       "13                  NaN                 NaN  43.9           NaN     NaN   \n",
       "14                  NaN                 NaN  43.9           NaN     NaN   \n",
       "15                  NaN                 NaN  63.1           NaN     NaN   \n",
       "16                  NaN                 NaN  64.8           NaN     NaN   \n",
       "17                  NaN                 NaN  68.0          28.8    15.0   \n",
       "18                  NaN                 NaN  68.0          30.0    11.0   \n",
       "19                  NaN                 NaN  68.0           NaN     NaN   \n",
       "20                  NaN                 NaN  80.0           NaN     NaN   \n",
       "21                  NaN                 NaN  54.8           NaN     NaN   \n",
       "22                  NaN                 NaN  54.8           NaN     NaN   \n",
       "23                  NaN                 NaN  68.9          26.0     3.0   \n",
       "24                  NaN                 NaN  45.3           NaN     NaN   \n",
       "25                  NaN                 NaN  45.3           NaN     NaN   \n",
       "26                  NaN                 NaN  60.1          14.0     3.0   \n",
       "27                  NaN                 NaN   NaN          75.8    94.4   \n",
       "28                  NaN                 NaN   NaN          59.5    84.3   \n",
       "29                  NaN                 NaN   NaN          59.5    84.3   \n",
       "30                  NaN                 NaN   NaN          69.7    68.0   \n",
       "31                  NaN                 NaN   NaN          74.3    95.2   \n",
       "32                  NaN                 NaN  83.2           NaN     NaN   \n",
       "\n",
       "    MATH-500  HumanEval  LMSys Chatbot Arena ELO  \n",
       "0        NaN        NaN                      NaN  \n",
       "1        NaN        NaN                      NaN  \n",
       "2        NaN        NaN                      NaN  \n",
       "3        NaN        NaN                      NaN  \n",
       "4        NaN        NaN                      NaN  \n",
       "5        NaN        NaN                   1180.0  \n",
       "6        NaN        NaN                   1215.0  \n",
       "7        NaN        NaN                   1215.0  \n",
       "8        NaN        NaN                   1178.0  \n",
       "9        NaN        NaN                   1362.0  \n",
       "10       NaN        NaN                   1318.0  \n",
       "11       NaN        NaN                   1131.0  \n",
       "12       NaN        NaN                      NaN  \n",
       "13       NaN        NaN                      NaN  \n",
       "14       NaN        NaN                      NaN  \n",
       "15       NaN        NaN                      NaN  \n",
       "16       NaN        NaN                      NaN  \n",
       "17      44.0       71.0                   1117.0  \n",
       "18      44.0       71.0                   1106.0  \n",
       "19       NaN        NaN                   1106.0  \n",
       "20       NaN        NaN                   1221.0  \n",
       "21       NaN        NaN                      NaN  \n",
       "22       NaN        NaN                      NaN  \n",
       "23       NaN        NaN                   1093.0  \n",
       "24       NaN        NaN                      NaN  \n",
       "25       NaN        NaN                      NaN  \n",
       "26       NaN        NaN                      NaN  \n",
       "27       NaN        NaN                   1352.0  \n",
       "28       NaN        NaN                   1304.0  \n",
       "29       NaN        NaN                   1304.0  \n",
       "30       NaN        NaN                   1335.0  \n",
       "31       NaN        NaN                   1306.0  \n",
       "32       NaN        NaN                   1235.0  "
      ]
     },
     "execution_count": 19,
     "metadata": {},
     "output_type": "execute_result"
    }
   ],
   "source": [
    "api_price_df = pd.read_csv('data/epoch_ai_price_data_not_in_aa_with_benchmarks.csv')\n",
    "api_price_df['Release Date'] = pd.to_datetime(api_price_df['Release Date'].str.strip(), format='%Y-%m-%d')\n",
    "api_price_df"
   ]
  },
  {
   "cell_type": "code",
   "execution_count": 20,
   "metadata": {},
   "outputs": [
    {
     "data": {
      "text/html": [
       "<div>\n",
       "<style scoped>\n",
       "    .dataframe tbody tr th:only-of-type {\n",
       "        vertical-align: middle;\n",
       "    }\n",
       "\n",
       "    .dataframe tbody tr th {\n",
       "        vertical-align: top;\n",
       "    }\n",
       "\n",
       "    .dataframe thead th {\n",
       "        text-align: right;\n",
       "    }\n",
       "</style>\n",
       "<table border=\"1\" class=\"dataframe\">\n",
       "  <thead>\n",
       "    <tr style=\"text-align: right;\">\n",
       "      <th></th>\n",
       "      <th>Model Name</th>\n",
       "      <th>Release Date</th>\n",
       "      <th>USD per 1M Tokens</th>\n",
       "      <th>Tokens per Second</th>\n",
       "      <th>Prefill Latency (s)</th>\n",
       "      <th>Prompt Length (tk)</th>\n",
       "      <th>MMLU</th>\n",
       "      <th>GPQA Diamond</th>\n",
       "      <th>MATH-500</th>\n",
       "      <th>HumanEval</th>\n",
       "      <th>LMSys Chatbot Arena ELO</th>\n",
       "      <th>MATH 5</th>\n",
       "    </tr>\n",
       "  </thead>\n",
       "  <tbody>\n",
       "    <tr>\n",
       "      <th>0</th>\n",
       "      <td>GPT-3 175B (davinci)</td>\n",
       "      <td>2021-11-20</td>\n",
       "      <td>60.000</td>\n",
       "      <td>NaN</td>\n",
       "      <td>NaN</td>\n",
       "      <td>NaN</td>\n",
       "      <td>43.9</td>\n",
       "      <td>NaN</td>\n",
       "      <td>NaN</td>\n",
       "      <td>NaN</td>\n",
       "      <td>NaN</td>\n",
       "      <td>NaN</td>\n",
       "    </tr>\n",
       "    <tr>\n",
       "      <th>1</th>\n",
       "      <td>GPT-3 175B (davinci)</td>\n",
       "      <td>2022-08-31</td>\n",
       "      <td>60.000</td>\n",
       "      <td>NaN</td>\n",
       "      <td>NaN</td>\n",
       "      <td>NaN</td>\n",
       "      <td>43.9</td>\n",
       "      <td>NaN</td>\n",
       "      <td>NaN</td>\n",
       "      <td>NaN</td>\n",
       "      <td>NaN</td>\n",
       "      <td>NaN</td>\n",
       "    </tr>\n",
       "    <tr>\n",
       "      <th>2</th>\n",
       "      <td>GPT-3 175B (davinci)</td>\n",
       "      <td>2022-09-01</td>\n",
       "      <td>20.000</td>\n",
       "      <td>NaN</td>\n",
       "      <td>NaN</td>\n",
       "      <td>NaN</td>\n",
       "      <td>43.9</td>\n",
       "      <td>NaN</td>\n",
       "      <td>NaN</td>\n",
       "      <td>NaN</td>\n",
       "      <td>NaN</td>\n",
       "      <td>NaN</td>\n",
       "    </tr>\n",
       "    <tr>\n",
       "      <th>3</th>\n",
       "      <td>GPT-3.5</td>\n",
       "      <td>2022-11-30</td>\n",
       "      <td>20.000</td>\n",
       "      <td>NaN</td>\n",
       "      <td>NaN</td>\n",
       "      <td>NaN</td>\n",
       "      <td>64.8</td>\n",
       "      <td>NaN</td>\n",
       "      <td>NaN</td>\n",
       "      <td>NaN</td>\n",
       "      <td>NaN</td>\n",
       "      <td>NaN</td>\n",
       "    </tr>\n",
       "    <tr>\n",
       "      <th>4</th>\n",
       "      <td>GPT-4</td>\n",
       "      <td>2023-03-01</td>\n",
       "      <td>37.500</td>\n",
       "      <td>23.6</td>\n",
       "      <td>0.724</td>\n",
       "      <td>1000.0</td>\n",
       "      <td>86.0</td>\n",
       "      <td>33.0</td>\n",
       "      <td>21.0</td>\n",
       "      <td>67.0</td>\n",
       "      <td>1186.0</td>\n",
       "      <td>23.0</td>\n",
       "    </tr>\n",
       "    <tr>\n",
       "      <th>...</th>\n",
       "      <td>...</td>\n",
       "      <td>...</td>\n",
       "      <td>...</td>\n",
       "      <td>...</td>\n",
       "      <td>...</td>\n",
       "      <td>...</td>\n",
       "      <td>...</td>\n",
       "      <td>...</td>\n",
       "      <td>...</td>\n",
       "      <td>...</td>\n",
       "      <td>...</td>\n",
       "      <td>...</td>\n",
       "    </tr>\n",
       "    <tr>\n",
       "      <th>66</th>\n",
       "      <td>Mistral Small 3</td>\n",
       "      <td>2025-01-01</td>\n",
       "      <td>0.475</td>\n",
       "      <td>NaN</td>\n",
       "      <td>NaN</td>\n",
       "      <td>NaN</td>\n",
       "      <td>82.0</td>\n",
       "      <td>46.0</td>\n",
       "      <td>74.0</td>\n",
       "      <td>85.0</td>\n",
       "      <td>1210.0</td>\n",
       "      <td>45.0</td>\n",
       "    </tr>\n",
       "    <tr>\n",
       "      <th>67</th>\n",
       "      <td>DeepSeek-R1</td>\n",
       "      <td>2025-01-20</td>\n",
       "      <td>0.960</td>\n",
       "      <td>NaN</td>\n",
       "      <td>NaN</td>\n",
       "      <td>NaN</td>\n",
       "      <td>NaN</td>\n",
       "      <td>71.7</td>\n",
       "      <td>NaN</td>\n",
       "      <td>NaN</td>\n",
       "      <td>1362.0</td>\n",
       "      <td>93.1</td>\n",
       "    </tr>\n",
       "    <tr>\n",
       "      <th>68</th>\n",
       "      <td>o3-mini</td>\n",
       "      <td>2025-01-31</td>\n",
       "      <td>1.925</td>\n",
       "      <td>NaN</td>\n",
       "      <td>NaN</td>\n",
       "      <td>NaN</td>\n",
       "      <td>NaN</td>\n",
       "      <td>74.3</td>\n",
       "      <td>NaN</td>\n",
       "      <td>NaN</td>\n",
       "      <td>1306.0</td>\n",
       "      <td>95.2</td>\n",
       "    </tr>\n",
       "    <tr>\n",
       "      <th>69</th>\n",
       "      <td>o1-mini</td>\n",
       "      <td>2025-01-31</td>\n",
       "      <td>1.925</td>\n",
       "      <td>NaN</td>\n",
       "      <td>NaN</td>\n",
       "      <td>NaN</td>\n",
       "      <td>NaN</td>\n",
       "      <td>59.5</td>\n",
       "      <td>NaN</td>\n",
       "      <td>NaN</td>\n",
       "      <td>1304.0</td>\n",
       "      <td>84.3</td>\n",
       "    </tr>\n",
       "    <tr>\n",
       "      <th>70</th>\n",
       "      <td>Gemini 2.0 Flash</td>\n",
       "      <td>2025-02-01</td>\n",
       "      <td>0.175</td>\n",
       "      <td>NaN</td>\n",
       "      <td>NaN</td>\n",
       "      <td>NaN</td>\n",
       "      <td>88.0</td>\n",
       "      <td>62.0</td>\n",
       "      <td>93.0</td>\n",
       "      <td>90.0</td>\n",
       "      <td>1358.0</td>\n",
       "      <td>82.0</td>\n",
       "    </tr>\n",
       "  </tbody>\n",
       "</table>\n",
       "<p>71 rows × 12 columns</p>\n",
       "</div>"
      ],
      "text/plain": [
       "              Model Name Release Date  USD per 1M Tokens  Tokens per Second  \\\n",
       "0   GPT-3 175B (davinci)   2021-11-20             60.000                NaN   \n",
       "1   GPT-3 175B (davinci)   2022-08-31             60.000                NaN   \n",
       "2   GPT-3 175B (davinci)   2022-09-01             20.000                NaN   \n",
       "3                GPT-3.5   2022-11-30             20.000                NaN   \n",
       "4                  GPT-4   2023-03-01             37.500               23.6   \n",
       "..                   ...          ...                ...                ...   \n",
       "66       Mistral Small 3   2025-01-01              0.475                NaN   \n",
       "67           DeepSeek-R1   2025-01-20              0.960                NaN   \n",
       "68               o3-mini   2025-01-31              1.925                NaN   \n",
       "69               o1-mini   2025-01-31              1.925                NaN   \n",
       "70      Gemini 2.0 Flash   2025-02-01              0.175                NaN   \n",
       "\n",
       "    Prefill Latency (s)  Prompt Length (tk)  MMLU  GPQA Diamond  MATH-500  \\\n",
       "0                   NaN                 NaN  43.9           NaN       NaN   \n",
       "1                   NaN                 NaN  43.9           NaN       NaN   \n",
       "2                   NaN                 NaN  43.9           NaN       NaN   \n",
       "3                   NaN                 NaN  64.8           NaN       NaN   \n",
       "4                 0.724              1000.0  86.0          33.0      21.0   \n",
       "..                  ...                 ...   ...           ...       ...   \n",
       "66                  NaN                 NaN  82.0          46.0      74.0   \n",
       "67                  NaN                 NaN   NaN          71.7       NaN   \n",
       "68                  NaN                 NaN   NaN          74.3       NaN   \n",
       "69                  NaN                 NaN   NaN          59.5       NaN   \n",
       "70                  NaN                 NaN  88.0          62.0      93.0   \n",
       "\n",
       "    HumanEval  LMSys Chatbot Arena ELO  MATH 5  \n",
       "0         NaN                      NaN     NaN  \n",
       "1         NaN                      NaN     NaN  \n",
       "2         NaN                      NaN     NaN  \n",
       "3         NaN                      NaN     NaN  \n",
       "4        67.0                   1186.0    23.0  \n",
       "..        ...                      ...     ...  \n",
       "66       85.0                   1210.0    45.0  \n",
       "67        NaN                   1362.0    93.1  \n",
       "68        NaN                   1306.0    95.2  \n",
       "69        NaN                   1304.0    84.3  \n",
       "70       90.0                   1358.0    82.0  \n",
       "\n",
       "[71 rows x 12 columns]"
      ]
     },
     "execution_count": 20,
     "metadata": {},
     "output_type": "execute_result"
    }
   ],
   "source": [
    "# Merge the two datasets\n",
    "aa_df = pd.concat([aa_df, api_price_df])\n",
    "aa_df.sort_values(by='Release Date', inplace=True)\n",
    "# Reset the index\n",
    "aa_df.reset_index(drop=True, inplace=True)\n",
    "aa_df"
   ]
  },
  {
   "cell_type": "code",
   "execution_count": 21,
   "metadata": {},
   "outputs": [
    {
     "data": {
      "text/html": [
       "<div>\n",
       "<style scoped>\n",
       "    .dataframe tbody tr th:only-of-type {\n",
       "        vertical-align: middle;\n",
       "    }\n",
       "\n",
       "    .dataframe tbody tr th {\n",
       "        vertical-align: top;\n",
       "    }\n",
       "\n",
       "    .dataframe thead th {\n",
       "        text-align: right;\n",
       "    }\n",
       "</style>\n",
       "<table border=\"1\" class=\"dataframe\">\n",
       "  <thead>\n",
       "    <tr style=\"text-align: right;\">\n",
       "      <th></th>\n",
       "      <th>Model Name</th>\n",
       "      <th>Release Date</th>\n",
       "      <th>USD per 1M Tokens</th>\n",
       "      <th>Tokens per Second</th>\n",
       "      <th>Prefill Latency (s)</th>\n",
       "      <th>Prompt Length (tk)</th>\n",
       "      <th>MMLU</th>\n",
       "      <th>GPQA Diamond</th>\n",
       "      <th>MATH-500</th>\n",
       "      <th>HumanEval</th>\n",
       "      <th>LMSys Chatbot Arena ELO</th>\n",
       "      <th>MATH 5</th>\n",
       "    </tr>\n",
       "  </thead>\n",
       "  <tbody>\n",
       "    <tr>\n",
       "      <th>0</th>\n",
       "      <td>GPT-3</td>\n",
       "      <td>2021-11-20</td>\n",
       "      <td>60.000</td>\n",
       "      <td>NaN</td>\n",
       "      <td>NaN</td>\n",
       "      <td>NaN</td>\n",
       "      <td>43.9</td>\n",
       "      <td>NaN</td>\n",
       "      <td>NaN</td>\n",
       "      <td>NaN</td>\n",
       "      <td>NaN</td>\n",
       "      <td>NaN</td>\n",
       "    </tr>\n",
       "    <tr>\n",
       "      <th>1</th>\n",
       "      <td>GPT-3</td>\n",
       "      <td>2022-08-31</td>\n",
       "      <td>60.000</td>\n",
       "      <td>NaN</td>\n",
       "      <td>NaN</td>\n",
       "      <td>NaN</td>\n",
       "      <td>43.9</td>\n",
       "      <td>NaN</td>\n",
       "      <td>NaN</td>\n",
       "      <td>NaN</td>\n",
       "      <td>NaN</td>\n",
       "      <td>NaN</td>\n",
       "    </tr>\n",
       "    <tr>\n",
       "      <th>2</th>\n",
       "      <td>GPT-3</td>\n",
       "      <td>2022-09-01</td>\n",
       "      <td>20.000</td>\n",
       "      <td>NaN</td>\n",
       "      <td>NaN</td>\n",
       "      <td>NaN</td>\n",
       "      <td>43.9</td>\n",
       "      <td>NaN</td>\n",
       "      <td>NaN</td>\n",
       "      <td>NaN</td>\n",
       "      <td>NaN</td>\n",
       "      <td>NaN</td>\n",
       "    </tr>\n",
       "    <tr>\n",
       "      <th>3</th>\n",
       "      <td>GPT-3.5</td>\n",
       "      <td>2022-11-30</td>\n",
       "      <td>20.000</td>\n",
       "      <td>NaN</td>\n",
       "      <td>NaN</td>\n",
       "      <td>NaN</td>\n",
       "      <td>64.8</td>\n",
       "      <td>NaN</td>\n",
       "      <td>NaN</td>\n",
       "      <td>NaN</td>\n",
       "      <td>NaN</td>\n",
       "      <td>NaN</td>\n",
       "    </tr>\n",
       "    <tr>\n",
       "      <th>4</th>\n",
       "      <td>GPT-4</td>\n",
       "      <td>2023-03-01</td>\n",
       "      <td>37.500</td>\n",
       "      <td>23.6</td>\n",
       "      <td>0.724</td>\n",
       "      <td>1000.0</td>\n",
       "      <td>86.0</td>\n",
       "      <td>33.0</td>\n",
       "      <td>21.0</td>\n",
       "      <td>67.0</td>\n",
       "      <td>1186.0</td>\n",
       "      <td>23.0</td>\n",
       "    </tr>\n",
       "    <tr>\n",
       "      <th>...</th>\n",
       "      <td>...</td>\n",
       "      <td>...</td>\n",
       "      <td>...</td>\n",
       "      <td>...</td>\n",
       "      <td>...</td>\n",
       "      <td>...</td>\n",
       "      <td>...</td>\n",
       "      <td>...</td>\n",
       "      <td>...</td>\n",
       "      <td>...</td>\n",
       "      <td>...</td>\n",
       "      <td>...</td>\n",
       "    </tr>\n",
       "    <tr>\n",
       "      <th>66</th>\n",
       "      <td>Mistral Small 3</td>\n",
       "      <td>2025-01-01</td>\n",
       "      <td>0.475</td>\n",
       "      <td>NaN</td>\n",
       "      <td>NaN</td>\n",
       "      <td>NaN</td>\n",
       "      <td>82.0</td>\n",
       "      <td>46.0</td>\n",
       "      <td>74.0</td>\n",
       "      <td>85.0</td>\n",
       "      <td>1210.0</td>\n",
       "      <td>45.0</td>\n",
       "    </tr>\n",
       "    <tr>\n",
       "      <th>67</th>\n",
       "      <td>DeepSeek-R1</td>\n",
       "      <td>2025-01-20</td>\n",
       "      <td>0.960</td>\n",
       "      <td>NaN</td>\n",
       "      <td>NaN</td>\n",
       "      <td>NaN</td>\n",
       "      <td>NaN</td>\n",
       "      <td>71.7</td>\n",
       "      <td>NaN</td>\n",
       "      <td>NaN</td>\n",
       "      <td>1362.0</td>\n",
       "      <td>93.1</td>\n",
       "    </tr>\n",
       "    <tr>\n",
       "      <th>68</th>\n",
       "      <td>o3-mini</td>\n",
       "      <td>2025-01-31</td>\n",
       "      <td>1.925</td>\n",
       "      <td>NaN</td>\n",
       "      <td>NaN</td>\n",
       "      <td>NaN</td>\n",
       "      <td>NaN</td>\n",
       "      <td>74.3</td>\n",
       "      <td>NaN</td>\n",
       "      <td>NaN</td>\n",
       "      <td>1306.0</td>\n",
       "      <td>95.2</td>\n",
       "    </tr>\n",
       "    <tr>\n",
       "      <th>69</th>\n",
       "      <td>o1-mini</td>\n",
       "      <td>2025-01-31</td>\n",
       "      <td>1.925</td>\n",
       "      <td>NaN</td>\n",
       "      <td>NaN</td>\n",
       "      <td>NaN</td>\n",
       "      <td>NaN</td>\n",
       "      <td>59.5</td>\n",
       "      <td>NaN</td>\n",
       "      <td>NaN</td>\n",
       "      <td>1304.0</td>\n",
       "      <td>84.3</td>\n",
       "    </tr>\n",
       "    <tr>\n",
       "      <th>70</th>\n",
       "      <td>Gemini 2.0 Flash</td>\n",
       "      <td>2025-02-01</td>\n",
       "      <td>0.175</td>\n",
       "      <td>NaN</td>\n",
       "      <td>NaN</td>\n",
       "      <td>NaN</td>\n",
       "      <td>88.0</td>\n",
       "      <td>62.0</td>\n",
       "      <td>93.0</td>\n",
       "      <td>90.0</td>\n",
       "      <td>1358.0</td>\n",
       "      <td>82.0</td>\n",
       "    </tr>\n",
       "  </tbody>\n",
       "</table>\n",
       "<p>71 rows × 12 columns</p>\n",
       "</div>"
      ],
      "text/plain": [
       "          Model Name Release Date  USD per 1M Tokens  Tokens per Second  \\\n",
       "0              GPT-3   2021-11-20             60.000                NaN   \n",
       "1              GPT-3   2022-08-31             60.000                NaN   \n",
       "2              GPT-3   2022-09-01             20.000                NaN   \n",
       "3            GPT-3.5   2022-11-30             20.000                NaN   \n",
       "4              GPT-4   2023-03-01             37.500               23.6   \n",
       "..               ...          ...                ...                ...   \n",
       "66   Mistral Small 3   2025-01-01              0.475                NaN   \n",
       "67       DeepSeek-R1   2025-01-20              0.960                NaN   \n",
       "68           o3-mini   2025-01-31              1.925                NaN   \n",
       "69           o1-mini   2025-01-31              1.925                NaN   \n",
       "70  Gemini 2.0 Flash   2025-02-01              0.175                NaN   \n",
       "\n",
       "    Prefill Latency (s)  Prompt Length (tk)  MMLU  GPQA Diamond  MATH-500  \\\n",
       "0                   NaN                 NaN  43.9           NaN       NaN   \n",
       "1                   NaN                 NaN  43.9           NaN       NaN   \n",
       "2                   NaN                 NaN  43.9           NaN       NaN   \n",
       "3                   NaN                 NaN  64.8           NaN       NaN   \n",
       "4                 0.724              1000.0  86.0          33.0      21.0   \n",
       "..                  ...                 ...   ...           ...       ...   \n",
       "66                  NaN                 NaN  82.0          46.0      74.0   \n",
       "67                  NaN                 NaN   NaN          71.7       NaN   \n",
       "68                  NaN                 NaN   NaN          74.3       NaN   \n",
       "69                  NaN                 NaN   NaN          59.5       NaN   \n",
       "70                  NaN                 NaN  88.0          62.0      93.0   \n",
       "\n",
       "    HumanEval  LMSys Chatbot Arena ELO  MATH 5  \n",
       "0         NaN                      NaN     NaN  \n",
       "1         NaN                      NaN     NaN  \n",
       "2         NaN                      NaN     NaN  \n",
       "3         NaN                      NaN     NaN  \n",
       "4        67.0                   1186.0    23.0  \n",
       "..        ...                      ...     ...  \n",
       "66       85.0                   1210.0    45.0  \n",
       "67        NaN                   1362.0    93.1  \n",
       "68        NaN                   1306.0    95.2  \n",
       "69        NaN                   1304.0    84.3  \n",
       "70       90.0                   1358.0    82.0  \n",
       "\n",
       "[71 rows x 12 columns]"
      ]
     },
     "execution_count": 21,
     "metadata": {},
     "output_type": "execute_result"
    }
   ],
   "source": [
    "# Rename all instances of 'GPT-3 175B (davinci)' to 'GPT-3'\n",
    "aa_df.loc[aa_df['Model Name'] == 'GPT-3 175B (davinci)', 'Model Name'] = 'GPT-3'\n",
    "aa_df\n"
   ]
  },
  {
   "cell_type": "code",
   "execution_count": 22,
   "metadata": {},
   "outputs": [
    {
     "data": {
      "text/plain": [
       "0                GPT-3 (2021-11)\n",
       "1                GPT-3 (2022-08)\n",
       "2                GPT-3 (2022-09)\n",
       "3              GPT-3.5 (2022-11)\n",
       "4                GPT-4 (2023-03)\n",
       "                 ...            \n",
       "66     Mistral Small 3 (2025-01)\n",
       "67         DeepSeek-R1 (2025-01)\n",
       "68             o3-mini (2025-01)\n",
       "69             o1-mini (2025-01)\n",
       "70    Gemini 2.0 Flash (2025-02)\n",
       "Name: Model Name and Date, Length: 71, dtype: object"
      ]
     },
     "execution_count": 22,
     "metadata": {},
     "output_type": "execute_result"
    }
   ],
   "source": [
    "aa_df['Model Name and Date'] = aa_df['Model Name'] + ' (' + aa_df['Release Date'].dt.strftime('%Y-%m') + ')'\n",
    "aa_df['Model Name and Date']"
   ]
  },
  {
   "cell_type": "code",
   "execution_count": 23,
   "metadata": {},
   "outputs": [],
   "source": [
    "# Keep all rows from df, even if no match in aa_df\n",
    "df_temp = df.copy()\n",
    "df_temp['Model Name'] = df_temp['Model'].map(model_mapping)\n",
    "merged_df = pd.merge(df_temp, aa_df, on='Model Name', how='left')\n",
    "\n",
    "# Keep all rows from aa_df, even if no match in df\n",
    "df_temp = df.copy()\n",
    "df_temp['Model Name'] = df_temp['Model'].map(model_mapping)\n",
    "merged_df = pd.merge(df_temp, aa_df, on='Model Name', how='right')"
   ]
  },
  {
   "cell_type": "code",
   "execution_count": 24,
   "metadata": {},
   "outputs": [
    {
     "data": {
      "text/html": [
       "<div>\n",
       "<style scoped>\n",
       "    .dataframe tbody tr th:only-of-type {\n",
       "        vertical-align: middle;\n",
       "    }\n",
       "\n",
       "    .dataframe tbody tr th {\n",
       "        vertical-align: top;\n",
       "    }\n",
       "\n",
       "    .dataframe thead th {\n",
       "        text-align: right;\n",
       "    }\n",
       "</style>\n",
       "<table border=\"1\" class=\"dataframe\">\n",
       "  <thead>\n",
       "    <tr style=\"text-align: right;\">\n",
       "      <th></th>\n",
       "      <th>Model</th>\n",
       "      <th>Task</th>\n",
       "      <th>epochs</th>\n",
       "      <th>total_samples</th>\n",
       "      <th>input_tokens</th>\n",
       "      <th>output_tokens</th>\n",
       "      <th>total_tokens</th>\n",
       "      <th>total_tokens_per_trial</th>\n",
       "      <th>total_tokens_per_question</th>\n",
       "      <th>output_tokens_per_question</th>\n",
       "      <th>...</th>\n",
       "      <th>Tokens per Second</th>\n",
       "      <th>Prefill Latency (s)</th>\n",
       "      <th>Prompt Length (tk)</th>\n",
       "      <th>MMLU</th>\n",
       "      <th>GPQA Diamond</th>\n",
       "      <th>MATH-500</th>\n",
       "      <th>HumanEval</th>\n",
       "      <th>LMSys Chatbot Arena ELO</th>\n",
       "      <th>MATH 5</th>\n",
       "      <th>Model Name and Date</th>\n",
       "    </tr>\n",
       "  </thead>\n",
       "  <tbody>\n",
       "    <tr>\n",
       "      <th>4</th>\n",
       "      <td>gpt-4-0613</td>\n",
       "      <td>MATH level 5</td>\n",
       "      <td>8.0</td>\n",
       "      <td>10592.0</td>\n",
       "      <td>1982888.0</td>\n",
       "      <td>3620454.0</td>\n",
       "      <td>5603342.0</td>\n",
       "      <td>7.004178e+05</td>\n",
       "      <td>529.016427</td>\n",
       "      <td>341.810234</td>\n",
       "      <td>...</td>\n",
       "      <td>23.6</td>\n",
       "      <td>0.724</td>\n",
       "      <td>1000.0</td>\n",
       "      <td>86.0</td>\n",
       "      <td>33.0</td>\n",
       "      <td>21.0</td>\n",
       "      <td>67.0</td>\n",
       "      <td>1186.0</td>\n",
       "      <td>23.0</td>\n",
       "      <td>GPT-4 (2023-03)</td>\n",
       "    </tr>\n",
       "    <tr>\n",
       "      <th>5</th>\n",
       "      <td>gpt-4-0613</td>\n",
       "      <td>GPQA Diamond</td>\n",
       "      <td>16.0</td>\n",
       "      <td>3168.0</td>\n",
       "      <td>838928.0</td>\n",
       "      <td>694183.0</td>\n",
       "      <td>1533111.0</td>\n",
       "      <td>9.581944e+04</td>\n",
       "      <td>483.936553</td>\n",
       "      <td>219.123422</td>\n",
       "      <td>...</td>\n",
       "      <td>23.6</td>\n",
       "      <td>0.724</td>\n",
       "      <td>1000.0</td>\n",
       "      <td>86.0</td>\n",
       "      <td>33.0</td>\n",
       "      <td>21.0</td>\n",
       "      <td>67.0</td>\n",
       "      <td>1186.0</td>\n",
       "      <td>23.0</td>\n",
       "      <td>GPT-4 (2023-03)</td>\n",
       "    </tr>\n",
       "    <tr>\n",
       "      <th>13</th>\n",
       "      <td>Llama-2-70b-chat-hf</td>\n",
       "      <td>GPQA Diamond</td>\n",
       "      <td>16.0</td>\n",
       "      <td>3168.0</td>\n",
       "      <td>956816.0</td>\n",
       "      <td>1361586.0</td>\n",
       "      <td>2318402.0</td>\n",
       "      <td>1.449001e+05</td>\n",
       "      <td>731.818813</td>\n",
       "      <td>429.793561</td>\n",
       "      <td>...</td>\n",
       "      <td>NaN</td>\n",
       "      <td>NaN</td>\n",
       "      <td>NaN</td>\n",
       "      <td>68.9</td>\n",
       "      <td>26.0</td>\n",
       "      <td>NaN</td>\n",
       "      <td>NaN</td>\n",
       "      <td>1093.0</td>\n",
       "      <td>3.0</td>\n",
       "      <td>Llama 2-70B Chat (2023-12)</td>\n",
       "    </tr>\n",
       "    <tr>\n",
       "      <th>14</th>\n",
       "      <td>Llama-2-70b-chat-hf</td>\n",
       "      <td>MATH level 5</td>\n",
       "      <td>8.0</td>\n",
       "      <td>10592.0</td>\n",
       "      <td>2211400.0</td>\n",
       "      <td>4559177.0</td>\n",
       "      <td>6770577.0</td>\n",
       "      <td>8.463221e+05</td>\n",
       "      <td>639.216106</td>\n",
       "      <td>430.435895</td>\n",
       "      <td>...</td>\n",
       "      <td>NaN</td>\n",
       "      <td>NaN</td>\n",
       "      <td>NaN</td>\n",
       "      <td>68.9</td>\n",
       "      <td>26.0</td>\n",
       "      <td>NaN</td>\n",
       "      <td>NaN</td>\n",
       "      <td>1093.0</td>\n",
       "      <td>3.0</td>\n",
       "      <td>Llama 2-70B Chat (2023-12)</td>\n",
       "    </tr>\n",
       "    <tr>\n",
       "      <th>19</th>\n",
       "      <td>mistral-large-2402</td>\n",
       "      <td>GPQA Diamond</td>\n",
       "      <td>16.0</td>\n",
       "      <td>3168.0</td>\n",
       "      <td>928128.0</td>\n",
       "      <td>1152988.0</td>\n",
       "      <td>2081116.0</td>\n",
       "      <td>1.300698e+05</td>\n",
       "      <td>656.917929</td>\n",
       "      <td>363.948232</td>\n",
       "      <td>...</td>\n",
       "      <td>37.8</td>\n",
       "      <td>0.500</td>\n",
       "      <td>1000.0</td>\n",
       "      <td>69.0</td>\n",
       "      <td>36.0</td>\n",
       "      <td>49.0</td>\n",
       "      <td>69.0</td>\n",
       "      <td>1157.0</td>\n",
       "      <td>21.0</td>\n",
       "      <td>Mistral-Large-2024-02 (2024-02)</td>\n",
       "    </tr>\n",
       "    <tr>\n",
       "      <th>...</th>\n",
       "      <td>...</td>\n",
       "      <td>...</td>\n",
       "      <td>...</td>\n",
       "      <td>...</td>\n",
       "      <td>...</td>\n",
       "      <td>...</td>\n",
       "      <td>...</td>\n",
       "      <td>...</td>\n",
       "      <td>...</td>\n",
       "      <td>...</td>\n",
       "      <td>...</td>\n",
       "      <td>...</td>\n",
       "      <td>...</td>\n",
       "      <td>...</td>\n",
       "      <td>...</td>\n",
       "      <td>...</td>\n",
       "      <td>...</td>\n",
       "      <td>...</td>\n",
       "      <td>...</td>\n",
       "      <td>...</td>\n",
       "      <td>...</td>\n",
       "    </tr>\n",
       "    <tr>\n",
       "      <th>114</th>\n",
       "      <td>o1-mini-2024-09-12_high</td>\n",
       "      <td>GPQA Diamond</td>\n",
       "      <td>8.0</td>\n",
       "      <td>1584.0</td>\n",
       "      <td>429856.0</td>\n",
       "      <td>2973549.0</td>\n",
       "      <td>3403405.0</td>\n",
       "      <td>4.254256e+05</td>\n",
       "      <td>2148.614268</td>\n",
       "      <td>1877.240530</td>\n",
       "      <td>...</td>\n",
       "      <td>NaN</td>\n",
       "      <td>NaN</td>\n",
       "      <td>NaN</td>\n",
       "      <td>NaN</td>\n",
       "      <td>59.5</td>\n",
       "      <td>NaN</td>\n",
       "      <td>NaN</td>\n",
       "      <td>1304.0</td>\n",
       "      <td>84.3</td>\n",
       "      <td>o1-mini (2025-01)</td>\n",
       "    </tr>\n",
       "    <tr>\n",
       "      <th>115</th>\n",
       "      <td>o1-mini-2024-09-12</td>\n",
       "      <td>GPQA Diamond</td>\n",
       "      <td>16.0</td>\n",
       "      <td>3168.0</td>\n",
       "      <td>859744.0</td>\n",
       "      <td>5597033.0</td>\n",
       "      <td>6456777.0</td>\n",
       "      <td>4.035486e+05</td>\n",
       "      <td>2038.124053</td>\n",
       "      <td>1766.740215</td>\n",
       "      <td>...</td>\n",
       "      <td>NaN</td>\n",
       "      <td>NaN</td>\n",
       "      <td>NaN</td>\n",
       "      <td>NaN</td>\n",
       "      <td>59.5</td>\n",
       "      <td>NaN</td>\n",
       "      <td>NaN</td>\n",
       "      <td>1304.0</td>\n",
       "      <td>84.3</td>\n",
       "      <td>o1-mini (2025-01)</td>\n",
       "    </tr>\n",
       "    <tr>\n",
       "      <th>116</th>\n",
       "      <td>o1-mini-2024-09-12</td>\n",
       "      <td>MATH level 5</td>\n",
       "      <td>8.0</td>\n",
       "      <td>10592.0</td>\n",
       "      <td>1977800.0</td>\n",
       "      <td>16812577.0</td>\n",
       "      <td>18790377.0</td>\n",
       "      <td>2.348797e+06</td>\n",
       "      <td>1774.015955</td>\n",
       "      <td>1587.290125</td>\n",
       "      <td>...</td>\n",
       "      <td>NaN</td>\n",
       "      <td>NaN</td>\n",
       "      <td>NaN</td>\n",
       "      <td>NaN</td>\n",
       "      <td>59.5</td>\n",
       "      <td>NaN</td>\n",
       "      <td>NaN</td>\n",
       "      <td>1304.0</td>\n",
       "      <td>84.3</td>\n",
       "      <td>o1-mini (2025-01)</td>\n",
       "    </tr>\n",
       "    <tr>\n",
       "      <th>117</th>\n",
       "      <td>gemini-2.0-flash-001</td>\n",
       "      <td>MATH level 5</td>\n",
       "      <td>8.0</td>\n",
       "      <td>10592.0</td>\n",
       "      <td>1883976.0</td>\n",
       "      <td>9566695.0</td>\n",
       "      <td>11450671.0</td>\n",
       "      <td>1.431334e+06</td>\n",
       "      <td>1081.067881</td>\n",
       "      <td>903.200057</td>\n",
       "      <td>...</td>\n",
       "      <td>NaN</td>\n",
       "      <td>NaN</td>\n",
       "      <td>NaN</td>\n",
       "      <td>88.0</td>\n",
       "      <td>62.0</td>\n",
       "      <td>93.0</td>\n",
       "      <td>90.0</td>\n",
       "      <td>1358.0</td>\n",
       "      <td>82.0</td>\n",
       "      <td>Gemini 2.0 Flash (2025-02)</td>\n",
       "    </tr>\n",
       "    <tr>\n",
       "      <th>118</th>\n",
       "      <td>gemini-2.0-flash-001</td>\n",
       "      <td>GPQA Diamond</td>\n",
       "      <td>16.0</td>\n",
       "      <td>3168.0</td>\n",
       "      <td>806400.0</td>\n",
       "      <td>1943247.0</td>\n",
       "      <td>2749647.0</td>\n",
       "      <td>1.718529e+05</td>\n",
       "      <td>867.944129</td>\n",
       "      <td>613.398674</td>\n",
       "      <td>...</td>\n",
       "      <td>NaN</td>\n",
       "      <td>NaN</td>\n",
       "      <td>NaN</td>\n",
       "      <td>88.0</td>\n",
       "      <td>62.0</td>\n",
       "      <td>93.0</td>\n",
       "      <td>90.0</td>\n",
       "      <td>1358.0</td>\n",
       "      <td>82.0</td>\n",
       "      <td>Gemini 2.0 Flash (2025-02)</td>\n",
       "    </tr>\n",
       "  </tbody>\n",
       "</table>\n",
       "<p>88 rows × 23 columns</p>\n",
       "</div>"
      ],
      "text/plain": [
       "                       Model          Task  epochs  total_samples  \\\n",
       "4                 gpt-4-0613  MATH level 5     8.0        10592.0   \n",
       "5                 gpt-4-0613  GPQA Diamond    16.0         3168.0   \n",
       "13       Llama-2-70b-chat-hf  GPQA Diamond    16.0         3168.0   \n",
       "14       Llama-2-70b-chat-hf  MATH level 5     8.0        10592.0   \n",
       "19        mistral-large-2402  GPQA Diamond    16.0         3168.0   \n",
       "..                       ...           ...     ...            ...   \n",
       "114  o1-mini-2024-09-12_high  GPQA Diamond     8.0         1584.0   \n",
       "115       o1-mini-2024-09-12  GPQA Diamond    16.0         3168.0   \n",
       "116       o1-mini-2024-09-12  MATH level 5     8.0        10592.0   \n",
       "117     gemini-2.0-flash-001  MATH level 5     8.0        10592.0   \n",
       "118     gemini-2.0-flash-001  GPQA Diamond    16.0         3168.0   \n",
       "\n",
       "     input_tokens  output_tokens  total_tokens  total_tokens_per_trial  \\\n",
       "4       1982888.0      3620454.0     5603342.0            7.004178e+05   \n",
       "5        838928.0       694183.0     1533111.0            9.581944e+04   \n",
       "13       956816.0      1361586.0     2318402.0            1.449001e+05   \n",
       "14      2211400.0      4559177.0     6770577.0            8.463221e+05   \n",
       "19       928128.0      1152988.0     2081116.0            1.300698e+05   \n",
       "..            ...            ...           ...                     ...   \n",
       "114      429856.0      2973549.0     3403405.0            4.254256e+05   \n",
       "115      859744.0      5597033.0     6456777.0            4.035486e+05   \n",
       "116     1977800.0     16812577.0    18790377.0            2.348797e+06   \n",
       "117     1883976.0      9566695.0    11450671.0            1.431334e+06   \n",
       "118      806400.0      1943247.0     2749647.0            1.718529e+05   \n",
       "\n",
       "     total_tokens_per_question  output_tokens_per_question  ...  \\\n",
       "4                   529.016427                  341.810234  ...   \n",
       "5                   483.936553                  219.123422  ...   \n",
       "13                  731.818813                  429.793561  ...   \n",
       "14                  639.216106                  430.435895  ...   \n",
       "19                  656.917929                  363.948232  ...   \n",
       "..                         ...                         ...  ...   \n",
       "114                2148.614268                 1877.240530  ...   \n",
       "115                2038.124053                 1766.740215  ...   \n",
       "116                1774.015955                 1587.290125  ...   \n",
       "117                1081.067881                  903.200057  ...   \n",
       "118                 867.944129                  613.398674  ...   \n",
       "\n",
       "    Tokens per Second Prefill Latency (s)  Prompt Length (tk)  MMLU  \\\n",
       "4                23.6               0.724              1000.0  86.0   \n",
       "5                23.6               0.724              1000.0  86.0   \n",
       "13                NaN                 NaN                 NaN  68.9   \n",
       "14                NaN                 NaN                 NaN  68.9   \n",
       "19               37.8               0.500              1000.0  69.0   \n",
       "..                ...                 ...                 ...   ...   \n",
       "114               NaN                 NaN                 NaN   NaN   \n",
       "115               NaN                 NaN                 NaN   NaN   \n",
       "116               NaN                 NaN                 NaN   NaN   \n",
       "117               NaN                 NaN                 NaN  88.0   \n",
       "118               NaN                 NaN                 NaN  88.0   \n",
       "\n",
       "     GPQA Diamond  MATH-500  HumanEval  LMSys Chatbot Arena ELO  MATH 5  \\\n",
       "4            33.0      21.0       67.0                   1186.0    23.0   \n",
       "5            33.0      21.0       67.0                   1186.0    23.0   \n",
       "13           26.0       NaN        NaN                   1093.0     3.0   \n",
       "14           26.0       NaN        NaN                   1093.0     3.0   \n",
       "19           36.0      49.0       69.0                   1157.0    21.0   \n",
       "..            ...       ...        ...                      ...     ...   \n",
       "114          59.5       NaN        NaN                   1304.0    84.3   \n",
       "115          59.5       NaN        NaN                   1304.0    84.3   \n",
       "116          59.5       NaN        NaN                   1304.0    84.3   \n",
       "117          62.0      93.0       90.0                   1358.0    82.0   \n",
       "118          62.0      93.0       90.0                   1358.0    82.0   \n",
       "\n",
       "                 Model Name and Date  \n",
       "4                    GPT-4 (2023-03)  \n",
       "5                    GPT-4 (2023-03)  \n",
       "13        Llama 2-70B Chat (2023-12)  \n",
       "14        Llama 2-70B Chat (2023-12)  \n",
       "19   Mistral-Large-2024-02 (2024-02)  \n",
       "..                               ...  \n",
       "114                o1-mini (2025-01)  \n",
       "115                o1-mini (2025-01)  \n",
       "116                o1-mini (2025-01)  \n",
       "117       Gemini 2.0 Flash (2025-02)  \n",
       "118       Gemini 2.0 Flash (2025-02)  \n",
       "\n",
       "[88 rows x 23 columns]"
      ]
     },
     "execution_count": 24,
     "metadata": {},
     "output_type": "execute_result"
    }
   ],
   "source": [
    "merged_df.dropna(subset=['Model'])"
   ]
  },
  {
   "cell_type": "code",
   "execution_count": 25,
   "metadata": {},
   "outputs": [
    {
     "data": {
      "text/html": [
       "<div>\n",
       "<style scoped>\n",
       "    .dataframe tbody tr th:only-of-type {\n",
       "        vertical-align: middle;\n",
       "    }\n",
       "\n",
       "    .dataframe tbody tr th {\n",
       "        vertical-align: top;\n",
       "    }\n",
       "\n",
       "    .dataframe thead th {\n",
       "        text-align: right;\n",
       "    }\n",
       "</style>\n",
       "<table border=\"1\" class=\"dataframe\">\n",
       "  <thead>\n",
       "    <tr style=\"text-align: right;\">\n",
       "      <th></th>\n",
       "      <th>Model</th>\n",
       "      <th>Task</th>\n",
       "      <th>epochs</th>\n",
       "      <th>total_samples</th>\n",
       "      <th>input_tokens</th>\n",
       "      <th>output_tokens</th>\n",
       "      <th>total_tokens</th>\n",
       "      <th>total_tokens_per_trial</th>\n",
       "      <th>total_tokens_per_question</th>\n",
       "      <th>output_tokens_per_question</th>\n",
       "      <th>...</th>\n",
       "      <th>Tokens per Second</th>\n",
       "      <th>Prefill Latency (s)</th>\n",
       "      <th>Prompt Length (tk)</th>\n",
       "      <th>MMLU</th>\n",
       "      <th>GPQA Diamond</th>\n",
       "      <th>MATH-500</th>\n",
       "      <th>HumanEval</th>\n",
       "      <th>LMSys Chatbot Arena ELO</th>\n",
       "      <th>MATH 5</th>\n",
       "      <th>Model Name and Date</th>\n",
       "    </tr>\n",
       "  </thead>\n",
       "  <tbody>\n",
       "    <tr>\n",
       "      <th>11</th>\n",
       "      <td>NaN</td>\n",
       "      <td>NaN</td>\n",
       "      <td>NaN</td>\n",
       "      <td>NaN</td>\n",
       "      <td>NaN</td>\n",
       "      <td>NaN</td>\n",
       "      <td>NaN</td>\n",
       "      <td>NaN</td>\n",
       "      <td>NaN</td>\n",
       "      <td>NaN</td>\n",
       "      <td>...</td>\n",
       "      <td>39.2</td>\n",
       "      <td>1.246</td>\n",
       "      <td>1000.0</td>\n",
       "      <td>87.0</td>\n",
       "      <td>50.0</td>\n",
       "      <td>74.0</td>\n",
       "      <td>92.0</td>\n",
       "      <td>1256.0</td>\n",
       "      <td>36.0</td>\n",
       "      <td>GPT-4 Turbo (2023-11)</td>\n",
       "    </tr>\n",
       "  </tbody>\n",
       "</table>\n",
       "<p>1 rows × 23 columns</p>\n",
       "</div>"
      ],
      "text/plain": [
       "   Model Task  epochs  total_samples  input_tokens  output_tokens  \\\n",
       "11   NaN  NaN     NaN            NaN           NaN            NaN   \n",
       "\n",
       "    total_tokens  total_tokens_per_trial  total_tokens_per_question  \\\n",
       "11           NaN                     NaN                        NaN   \n",
       "\n",
       "    output_tokens_per_question  ... Tokens per Second Prefill Latency (s)  \\\n",
       "11                         NaN  ...              39.2               1.246   \n",
       "\n",
       "    Prompt Length (tk)  MMLU  GPQA Diamond  MATH-500  HumanEval  \\\n",
       "11              1000.0  87.0          50.0      74.0       92.0   \n",
       "\n",
       "    LMSys Chatbot Arena ELO  MATH 5    Model Name and Date  \n",
       "11                   1256.0    36.0  GPT-4 Turbo (2023-11)  \n",
       "\n",
       "[1 rows x 23 columns]"
      ]
     },
     "execution_count": 25,
     "metadata": {},
     "output_type": "execute_result"
    }
   ],
   "source": [
    "merged_df[merged_df['Model Name'] == 'GPT-4 Turbo']"
   ]
  },
  {
   "cell_type": "code",
   "execution_count": 26,
   "metadata": {},
   "outputs": [
    {
     "data": {
      "application/vnd.plotly.v1+json": {
       "config": {
        "plotlyServerURL": "https://plot.ly"
       },
       "data": [
        {
         "hoverinfo": "text",
         "hovertext": [
          "Model: GPT-4<br>Release Date: 2023-03-01<br>Output Tokens: 219.12",
          "Model: Llama 2-70B Chat<br>Release Date: 2023-12-01<br>Output Tokens: 429.79",
          "Model: Mistral-Large-2024-02<br>Release Date: 2024-02-01<br>Output Tokens: 363.95",
          "Model: Claude-3-Haiku<br>Release Date: 2024-03-01<br>Output Tokens: 344.82",
          "Model: Claude-3-Sonnet<br>Release Date: 2024-03-01<br>Output Tokens: 463.83",
          "Model: Claude-3-Opus<br>Release Date: 2024-03-01<br>Output Tokens: 429.00",
          "Model: Llama-3-Instruct-70B<br>Release Date: 2024-04-01<br>Output Tokens: 312.81",
          "Model: Llama-3-Instruct-8B<br>Release Date: 2024-04-01<br>Output Tokens: 364.35",
          "Model: Mistral-8x22<br>Release Date: 2024-04-01<br>Output Tokens: 561.44",
          "Model: Gemini-1.5-Pro-2024-05<br>Release Date: 2024-05-01<br>Output Tokens: 344.25",
          "Model: Gemini-1.5-Flash-2024-05<br>Release Date: 2024-05-01<br>Output Tokens: 360.03",
          "Model: GPT-4o-2024-05<br>Release Date: 2024-05-01<br>Output Tokens: 599.04",
          "Model: Mistral-Large-2-2024-06<br>Release Date: 2024-06-01<br>Output Tokens: 467.63",
          "Model: Mistral-NeMo<br>Release Date: 2024-06-01<br>Output Tokens: 420.92",
          "Model: Claude-3.5-Sonnet-2024-06<br>Release Date: 2024-06-01<br>Output Tokens: 420.58",
          "Model: Gemma-2-9B<br>Release Date: 2024-06-01<br>Output Tokens: 317.71",
          "Model: Gemma-2-27B<br>Release Date: 2024-06-01<br>Output Tokens: 331.71",
          "Model: Llama-3.1-Instruct-405B<br>Release Date: 2024-07-01<br>Output Tokens: 623.93",
          "Model: Llama-3.1-Instruct-8B<br>Release Date: 2024-07-01<br>Output Tokens: 984.54",
          "Model: Llama-3.1-Instruct-70B<br>Release Date: 2024-07-01<br>Output Tokens: 675.13",
          "Model: GPT-4o-mini<br>Release Date: 2024-07-01<br>Output Tokens: 560.55",
          "Model: GPT-4o-2024-08<br>Release Date: 2024-08-01<br>Output Tokens: 587.39",
          "Model: Claude 2<br>Release Date: 2024-08-12<br>Output Tokens: 201.50",
          "Model: Claude 2.1<br>Release Date: 2024-08-12<br>Output Tokens: 224.67",
          "Model: Gemini 1.0 Pro<br>Release Date: 2024-08-12<br>Output Tokens: 217.78",
          "Model: Gemini-1.5-Pro-2024-09<br>Release Date: 2024-09-01<br>Output Tokens: 435.46",
          "Model: Gemini-1.5-Flash-2024-09<br>Release Date: 2024-09-01<br>Output Tokens: 418.40",
          "Model: o1-preview<br>Release Date: 2024-09-12<br>Output Tokens: 3030.11",
          "Model: o1-mini<br>Release Date: 2024-09-12<br>Output Tokens: 1877.24",
          "Model: o1-mini<br>Release Date: 2024-09-12<br>Output Tokens: 1766.74",
          "Model: Mistral 7B<br>Release Date: 2024-09-14<br>Output Tokens: 490.58",
          "Model: Mistral 7B<br>Release Date: 2024-09-14<br>Output Tokens: 452.60",
          "Model: Claude-3.5-Sonnet-2024-10<br>Release Date: 2024-10-01<br>Output Tokens: 352.74",
          "Model: GPT-4o-2024-11<br>Release Date: 2024-11-01<br>Output Tokens: 740.18",
          "Model: o1<br>Release Date: 2024-12-17<br>Output Tokens: 6357.84",
          "Model: o1<br>Release Date: 2024-12-17<br>Output Tokens: 4125.03",
          "Model: DeepSeek-V3<br>Release Date: 2024-12-26<br>Output Tokens: 625.99",
          "Model: Phi 4<br>Release Date: 2025-01-01<br>Output Tokens: 664.95",
          "Model: Mistral Small 3<br>Release Date: 2025-01-01<br>Output Tokens: 518.15",
          "Model: DeepSeek-R1<br>Release Date: 2025-01-20<br>Output Tokens: 7594.73",
          "Model: o3-mini<br>Release Date: 2025-01-31<br>Output Tokens: 7721.89",
          "Model: o3-mini<br>Release Date: 2025-01-31<br>Output Tokens: 3106.83",
          "Model: o1-mini<br>Release Date: 2025-01-31<br>Output Tokens: 1877.24",
          "Model: o1-mini<br>Release Date: 2025-01-31<br>Output Tokens: 1766.74",
          "Model: Gemini 2.0 Flash<br>Release Date: 2025-02-01<br>Output Tokens: 613.40"
         ],
         "mode": "markers",
         "type": "scatter",
         "x": [
          "2023-03-01T00:00:00",
          "2023-12-01T00:00:00",
          "2024-02-01T00:00:00",
          "2024-03-01T00:00:00",
          "2024-03-01T00:00:00",
          "2024-03-01T00:00:00",
          "2024-04-01T00:00:00",
          "2024-04-01T00:00:00",
          "2024-04-01T00:00:00",
          "2024-05-01T00:00:00",
          "2024-05-01T00:00:00",
          "2024-05-01T00:00:00",
          "2024-06-01T00:00:00",
          "2024-06-01T00:00:00",
          "2024-06-01T00:00:00",
          "2024-06-01T00:00:00",
          "2024-06-01T00:00:00",
          "2024-07-01T00:00:00",
          "2024-07-01T00:00:00",
          "2024-07-01T00:00:00",
          "2024-07-01T00:00:00",
          "2024-08-01T00:00:00",
          "2024-08-12T00:00:00",
          "2024-08-12T00:00:00",
          "2024-08-12T00:00:00",
          "2024-09-01T00:00:00",
          "2024-09-01T00:00:00",
          "2024-09-12T00:00:00",
          "2024-09-12T00:00:00",
          "2024-09-12T00:00:00",
          "2024-09-14T00:00:00",
          "2024-09-14T00:00:00",
          "2024-10-01T00:00:00",
          "2024-11-01T00:00:00",
          "2024-12-17T00:00:00",
          "2024-12-17T00:00:00",
          "2024-12-26T00:00:00",
          "2025-01-01T00:00:00",
          "2025-01-01T00:00:00",
          "2025-01-20T00:00:00",
          "2025-01-31T00:00:00",
          "2025-01-31T00:00:00",
          "2025-01-31T00:00:00",
          "2025-01-31T00:00:00",
          "2025-02-01T00:00:00"
         ],
         "y": [
          219.1234217171717,
          429.7935606060606,
          363.94823232323233,
          344.82165404040404,
          463.8263888888889,
          428.9952651515151,
          312.8087121212121,
          364.34564393939394,
          561.4431818181819,
          344.2477904040404,
          360.03125,
          599.041351010101,
          467.63320707070704,
          420.917297979798,
          420.5814393939394,
          317.70612373737373,
          331.706755050505,
          623.9311868686868,
          984.5400883838383,
          675.1306818181819,
          560.5527146464647,
          587.3869949494949,
          201.49526515151516,
          224.67455808080808,
          217.78345959595958,
          435.4599116161616,
          418.39551767676767,
          3030.1079545454545,
          1877.2405303030303,
          1766.7402146464647,
          490.5760732323232,
          452.60353535353534,
          352.74179292929296,
          740.1786616161617,
          6357.838383838384,
          4125.025252525253,
          625.9892676767677,
          664.9491792929293,
          518.1515151515151,
          7594.727272727273,
          7721.893939393939,
          3106.8289141414143,
          1877.2405303030303,
          1766.7402146464647,
          613.3986742424242
         ]
        },
        {
         "mode": "text",
         "showlegend": false,
         "text": [
          "GPT-4",
          "o1-preview",
          "o3-mini",
          "o3-mini"
         ],
         "textposition": "top center",
         "type": "scatter",
         "x": [
          "2023-03-01T00:00:00",
          "2024-09-12T00:00:00",
          "2025-01-31T00:00:00",
          "2025-01-31T00:00:00"
         ],
         "y": [
          219.1234217171717,
          3030.1079545454545,
          7721.893939393939,
          3106.8289141414143
         ]
        }
       ],
       "layout": {
        "height": 600,
        "template": {
         "data": {
          "bar": [
           {
            "error_x": {
             "color": "#2a3f5f"
            },
            "error_y": {
             "color": "#2a3f5f"
            },
            "marker": {
             "line": {
              "color": "white",
              "width": 0.5
             },
             "pattern": {
              "fillmode": "overlay",
              "size": 10,
              "solidity": 0.2
             }
            },
            "type": "bar"
           }
          ],
          "barpolar": [
           {
            "marker": {
             "line": {
              "color": "white",
              "width": 0.5
             },
             "pattern": {
              "fillmode": "overlay",
              "size": 10,
              "solidity": 0.2
             }
            },
            "type": "barpolar"
           }
          ],
          "carpet": [
           {
            "aaxis": {
             "endlinecolor": "#2a3f5f",
             "gridcolor": "#C8D4E3",
             "linecolor": "#C8D4E3",
             "minorgridcolor": "#C8D4E3",
             "startlinecolor": "#2a3f5f"
            },
            "baxis": {
             "endlinecolor": "#2a3f5f",
             "gridcolor": "#C8D4E3",
             "linecolor": "#C8D4E3",
             "minorgridcolor": "#C8D4E3",
             "startlinecolor": "#2a3f5f"
            },
            "type": "carpet"
           }
          ],
          "choropleth": [
           {
            "colorbar": {
             "outlinewidth": 0,
             "ticks": ""
            },
            "type": "choropleth"
           }
          ],
          "contour": [
           {
            "colorbar": {
             "outlinewidth": 0,
             "ticks": ""
            },
            "colorscale": [
             [
              0,
              "#0d0887"
             ],
             [
              0.1111111111111111,
              "#46039f"
             ],
             [
              0.2222222222222222,
              "#7201a8"
             ],
             [
              0.3333333333333333,
              "#9c179e"
             ],
             [
              0.4444444444444444,
              "#bd3786"
             ],
             [
              0.5555555555555556,
              "#d8576b"
             ],
             [
              0.6666666666666666,
              "#ed7953"
             ],
             [
              0.7777777777777778,
              "#fb9f3a"
             ],
             [
              0.8888888888888888,
              "#fdca26"
             ],
             [
              1,
              "#f0f921"
             ]
            ],
            "type": "contour"
           }
          ],
          "contourcarpet": [
           {
            "colorbar": {
             "outlinewidth": 0,
             "ticks": ""
            },
            "type": "contourcarpet"
           }
          ],
          "heatmap": [
           {
            "colorbar": {
             "outlinewidth": 0,
             "ticks": ""
            },
            "colorscale": [
             [
              0,
              "#0d0887"
             ],
             [
              0.1111111111111111,
              "#46039f"
             ],
             [
              0.2222222222222222,
              "#7201a8"
             ],
             [
              0.3333333333333333,
              "#9c179e"
             ],
             [
              0.4444444444444444,
              "#bd3786"
             ],
             [
              0.5555555555555556,
              "#d8576b"
             ],
             [
              0.6666666666666666,
              "#ed7953"
             ],
             [
              0.7777777777777778,
              "#fb9f3a"
             ],
             [
              0.8888888888888888,
              "#fdca26"
             ],
             [
              1,
              "#f0f921"
             ]
            ],
            "type": "heatmap"
           }
          ],
          "heatmapgl": [
           {
            "colorbar": {
             "outlinewidth": 0,
             "ticks": ""
            },
            "colorscale": [
             [
              0,
              "#0d0887"
             ],
             [
              0.1111111111111111,
              "#46039f"
             ],
             [
              0.2222222222222222,
              "#7201a8"
             ],
             [
              0.3333333333333333,
              "#9c179e"
             ],
             [
              0.4444444444444444,
              "#bd3786"
             ],
             [
              0.5555555555555556,
              "#d8576b"
             ],
             [
              0.6666666666666666,
              "#ed7953"
             ],
             [
              0.7777777777777778,
              "#fb9f3a"
             ],
             [
              0.8888888888888888,
              "#fdca26"
             ],
             [
              1,
              "#f0f921"
             ]
            ],
            "type": "heatmapgl"
           }
          ],
          "histogram": [
           {
            "marker": {
             "pattern": {
              "fillmode": "overlay",
              "size": 10,
              "solidity": 0.2
             }
            },
            "type": "histogram"
           }
          ],
          "histogram2d": [
           {
            "colorbar": {
             "outlinewidth": 0,
             "ticks": ""
            },
            "colorscale": [
             [
              0,
              "#0d0887"
             ],
             [
              0.1111111111111111,
              "#46039f"
             ],
             [
              0.2222222222222222,
              "#7201a8"
             ],
             [
              0.3333333333333333,
              "#9c179e"
             ],
             [
              0.4444444444444444,
              "#bd3786"
             ],
             [
              0.5555555555555556,
              "#d8576b"
             ],
             [
              0.6666666666666666,
              "#ed7953"
             ],
             [
              0.7777777777777778,
              "#fb9f3a"
             ],
             [
              0.8888888888888888,
              "#fdca26"
             ],
             [
              1,
              "#f0f921"
             ]
            ],
            "type": "histogram2d"
           }
          ],
          "histogram2dcontour": [
           {
            "colorbar": {
             "outlinewidth": 0,
             "ticks": ""
            },
            "colorscale": [
             [
              0,
              "#0d0887"
             ],
             [
              0.1111111111111111,
              "#46039f"
             ],
             [
              0.2222222222222222,
              "#7201a8"
             ],
             [
              0.3333333333333333,
              "#9c179e"
             ],
             [
              0.4444444444444444,
              "#bd3786"
             ],
             [
              0.5555555555555556,
              "#d8576b"
             ],
             [
              0.6666666666666666,
              "#ed7953"
             ],
             [
              0.7777777777777778,
              "#fb9f3a"
             ],
             [
              0.8888888888888888,
              "#fdca26"
             ],
             [
              1,
              "#f0f921"
             ]
            ],
            "type": "histogram2dcontour"
           }
          ],
          "mesh3d": [
           {
            "colorbar": {
             "outlinewidth": 0,
             "ticks": ""
            },
            "type": "mesh3d"
           }
          ],
          "parcoords": [
           {
            "line": {
             "colorbar": {
              "outlinewidth": 0,
              "ticks": ""
             }
            },
            "type": "parcoords"
           }
          ],
          "pie": [
           {
            "automargin": true,
            "type": "pie"
           }
          ],
          "scatter": [
           {
            "fillpattern": {
             "fillmode": "overlay",
             "size": 10,
             "solidity": 0.2
            },
            "type": "scatter"
           }
          ],
          "scatter3d": [
           {
            "line": {
             "colorbar": {
              "outlinewidth": 0,
              "ticks": ""
             }
            },
            "marker": {
             "colorbar": {
              "outlinewidth": 0,
              "ticks": ""
             }
            },
            "type": "scatter3d"
           }
          ],
          "scattercarpet": [
           {
            "marker": {
             "colorbar": {
              "outlinewidth": 0,
              "ticks": ""
             }
            },
            "type": "scattercarpet"
           }
          ],
          "scattergeo": [
           {
            "marker": {
             "colorbar": {
              "outlinewidth": 0,
              "ticks": ""
             }
            },
            "type": "scattergeo"
           }
          ],
          "scattergl": [
           {
            "marker": {
             "colorbar": {
              "outlinewidth": 0,
              "ticks": ""
             }
            },
            "type": "scattergl"
           }
          ],
          "scattermapbox": [
           {
            "marker": {
             "colorbar": {
              "outlinewidth": 0,
              "ticks": ""
             }
            },
            "type": "scattermapbox"
           }
          ],
          "scatterpolar": [
           {
            "marker": {
             "colorbar": {
              "outlinewidth": 0,
              "ticks": ""
             }
            },
            "type": "scatterpolar"
           }
          ],
          "scatterpolargl": [
           {
            "marker": {
             "colorbar": {
              "outlinewidth": 0,
              "ticks": ""
             }
            },
            "type": "scatterpolargl"
           }
          ],
          "scatterternary": [
           {
            "marker": {
             "colorbar": {
              "outlinewidth": 0,
              "ticks": ""
             }
            },
            "type": "scatterternary"
           }
          ],
          "surface": [
           {
            "colorbar": {
             "outlinewidth": 0,
             "ticks": ""
            },
            "colorscale": [
             [
              0,
              "#0d0887"
             ],
             [
              0.1111111111111111,
              "#46039f"
             ],
             [
              0.2222222222222222,
              "#7201a8"
             ],
             [
              0.3333333333333333,
              "#9c179e"
             ],
             [
              0.4444444444444444,
              "#bd3786"
             ],
             [
              0.5555555555555556,
              "#d8576b"
             ],
             [
              0.6666666666666666,
              "#ed7953"
             ],
             [
              0.7777777777777778,
              "#fb9f3a"
             ],
             [
              0.8888888888888888,
              "#fdca26"
             ],
             [
              1,
              "#f0f921"
             ]
            ],
            "type": "surface"
           }
          ],
          "table": [
           {
            "cells": {
             "fill": {
              "color": "#EBF0F8"
             },
             "line": {
              "color": "white"
             }
            },
            "header": {
             "fill": {
              "color": "#C8D4E3"
             },
             "line": {
              "color": "white"
             }
            },
            "type": "table"
           }
          ]
         },
         "layout": {
          "annotationdefaults": {
           "arrowcolor": "#2a3f5f",
           "arrowhead": 0,
           "arrowwidth": 1
          },
          "autotypenumbers": "strict",
          "coloraxis": {
           "colorbar": {
            "outlinewidth": 0,
            "ticks": ""
           }
          },
          "colorscale": {
           "diverging": [
            [
             0,
             "#8e0152"
            ],
            [
             0.1,
             "#c51b7d"
            ],
            [
             0.2,
             "#de77ae"
            ],
            [
             0.3,
             "#f1b6da"
            ],
            [
             0.4,
             "#fde0ef"
            ],
            [
             0.5,
             "#f7f7f7"
            ],
            [
             0.6,
             "#e6f5d0"
            ],
            [
             0.7,
             "#b8e186"
            ],
            [
             0.8,
             "#7fbc41"
            ],
            [
             0.9,
             "#4d9221"
            ],
            [
             1,
             "#276419"
            ]
           ],
           "sequential": [
            [
             0,
             "#0d0887"
            ],
            [
             0.1111111111111111,
             "#46039f"
            ],
            [
             0.2222222222222222,
             "#7201a8"
            ],
            [
             0.3333333333333333,
             "#9c179e"
            ],
            [
             0.4444444444444444,
             "#bd3786"
            ],
            [
             0.5555555555555556,
             "#d8576b"
            ],
            [
             0.6666666666666666,
             "#ed7953"
            ],
            [
             0.7777777777777778,
             "#fb9f3a"
            ],
            [
             0.8888888888888888,
             "#fdca26"
            ],
            [
             1,
             "#f0f921"
            ]
           ],
           "sequentialminus": [
            [
             0,
             "#0d0887"
            ],
            [
             0.1111111111111111,
             "#46039f"
            ],
            [
             0.2222222222222222,
             "#7201a8"
            ],
            [
             0.3333333333333333,
             "#9c179e"
            ],
            [
             0.4444444444444444,
             "#bd3786"
            ],
            [
             0.5555555555555556,
             "#d8576b"
            ],
            [
             0.6666666666666666,
             "#ed7953"
            ],
            [
             0.7777777777777778,
             "#fb9f3a"
            ],
            [
             0.8888888888888888,
             "#fdca26"
            ],
            [
             1,
             "#f0f921"
            ]
           ]
          },
          "colorway": [
           "#636efa",
           "#EF553B",
           "#00cc96",
           "#ab63fa",
           "#FFA15A",
           "#19d3f3",
           "#FF6692",
           "#B6E880",
           "#FF97FF",
           "#FECB52"
          ],
          "font": {
           "color": "#2a3f5f"
          },
          "geo": {
           "bgcolor": "white",
           "lakecolor": "white",
           "landcolor": "white",
           "showlakes": true,
           "showland": true,
           "subunitcolor": "#C8D4E3"
          },
          "hoverlabel": {
           "align": "left"
          },
          "hovermode": "closest",
          "mapbox": {
           "style": "light"
          },
          "paper_bgcolor": "white",
          "plot_bgcolor": "white",
          "polar": {
           "angularaxis": {
            "gridcolor": "#EBF0F8",
            "linecolor": "#EBF0F8",
            "ticks": ""
           },
           "bgcolor": "white",
           "radialaxis": {
            "gridcolor": "#EBF0F8",
            "linecolor": "#EBF0F8",
            "ticks": ""
           }
          },
          "scene": {
           "xaxis": {
            "backgroundcolor": "white",
            "gridcolor": "#DFE8F3",
            "gridwidth": 2,
            "linecolor": "#EBF0F8",
            "showbackground": true,
            "ticks": "",
            "zerolinecolor": "#EBF0F8"
           },
           "yaxis": {
            "backgroundcolor": "white",
            "gridcolor": "#DFE8F3",
            "gridwidth": 2,
            "linecolor": "#EBF0F8",
            "showbackground": true,
            "ticks": "",
            "zerolinecolor": "#EBF0F8"
           },
           "zaxis": {
            "backgroundcolor": "white",
            "gridcolor": "#DFE8F3",
            "gridwidth": 2,
            "linecolor": "#EBF0F8",
            "showbackground": true,
            "ticks": "",
            "zerolinecolor": "#EBF0F8"
           }
          },
          "shapedefaults": {
           "line": {
            "color": "#2a3f5f"
           }
          },
          "ternary": {
           "aaxis": {
            "gridcolor": "#DFE8F3",
            "linecolor": "#A2B1C6",
            "ticks": ""
           },
           "baxis": {
            "gridcolor": "#DFE8F3",
            "linecolor": "#A2B1C6",
            "ticks": ""
           },
           "bgcolor": "white",
           "caxis": {
            "gridcolor": "#DFE8F3",
            "linecolor": "#A2B1C6",
            "ticks": ""
           }
          },
          "title": {
           "x": 0.05
          },
          "xaxis": {
           "automargin": true,
           "gridcolor": "#EBF0F8",
           "linecolor": "#EBF0F8",
           "ticks": "",
           "title": {
            "standoff": 15
           },
           "zerolinecolor": "#EBF0F8",
           "zerolinewidth": 2
          },
          "yaxis": {
           "automargin": true,
           "gridcolor": "#EBF0F8",
           "linecolor": "#EBF0F8",
           "ticks": "",
           "title": {
            "standoff": 15
           },
           "zerolinecolor": "#EBF0F8",
           "zerolinewidth": 2
          }
         }
        },
        "title": {
         "text": "Model Output Length on GPQA Diamond vs. Release Date"
        },
        "width": 800,
        "xaxis": {
         "title": {
          "text": "Release Date"
         }
        },
        "yaxis": {
         "title": {
          "text": "Average Output Tokens per Question"
         }
        }
       }
      }
     },
     "metadata": {},
     "output_type": "display_data"
    }
   ],
   "source": [
    "# Create an interactive scatter plot using plotly\n",
    "import plotly.graph_objects as go\n",
    "from plotly.subplots import make_subplots\n",
    "import numpy as np\n",
    "\n",
    "# Filter out rows with missing data\n",
    "plot_df = merged_df.dropna(subset=['output_tokens_per_question', 'Release Date'])\n",
    "plot_df = merged_df[merged_df['Task'] == 'GPQA Diamond']\n",
    "\n",
    "# Create figure\n",
    "fig = go.Figure()\n",
    "\n",
    "# Add scatter plot for all models\n",
    "fig.add_trace(\n",
    "    go.Scatter(\n",
    "        x=plot_df['Release Date'],\n",
    "        y=plot_df['output_tokens_per_question'],\n",
    "        mode='markers',\n",
    "        hoverinfo='text',\n",
    "        hovertext=[\n",
    "            f\"Model: {row['Model Name']}<br>\" +\n",
    "            f\"Release Date: {row['Release Date'].strftime('%Y-%m-%d')}<br>\" +\n",
    "            f\"Output Tokens: {row['output_tokens_per_question']:.2f}\"\n",
    "            for _, row in plot_df.iterrows()\n",
    "        ],\n",
    "        # showlegend=False,\n",
    "    )\n",
    ")\n",
    "\n",
    "# Add annotations for specific models\n",
    "models_to_label = ['GPT-4', 'o1-preview', 'o3-mini']\n",
    "model_rows = plot_df[plot_df['Model Name'].isin(models_to_label)]\n",
    "\n",
    "# Add invisible scatter point\n",
    "fig.add_trace(\n",
    "    go.Scatter(\n",
    "        x=model_rows['Release Date'],\n",
    "        y=model_rows['output_tokens_per_question'],\n",
    "        mode='text',\n",
    "        text=model_rows['Model Name'],\n",
    "        textposition='top center',\n",
    "        showlegend=False,\n",
    "    )\n",
    ")\n",
    "\n",
    "# Update layout\n",
    "fig.update_layout(\n",
    "    title='Model Output Length on GPQA Diamond vs. Release Date',\n",
    "    xaxis_title='Release Date',\n",
    "    yaxis_title='Average Output Tokens per Question',\n",
    "    width=800,\n",
    "    height=600,\n",
    "    template='plotly_white',\n",
    "    # yaxis=dict(\n",
    "    #     type='log',  # Set y-axis to logarithmic scale\n",
    "    # ),\n",
    ")\n",
    "\n",
    "save_plot(fig, results_dir, 'model_output_length_on_GPQA_Diamond_vs_release_date')\n",
    "\n",
    "# Show the figure\n",
    "fig.show()\n"
   ]
  },
  {
   "cell_type": "code",
   "execution_count": 27,
   "metadata": {},
   "outputs": [
    {
     "name": "stdout",
     "output_type": "stream",
     "text": [
      "Linear Model Summary:\n",
      "                                OLS Regression Results                                \n",
      "======================================================================================\n",
      "Dep. Variable:     output_tokens_per_question   R-squared:                       0.243\n",
      "Model:                                    OLS   Adj. R-squared:                  0.226\n",
      "Method:                         Least Squares   F-statistic:                     13.82\n",
      "Date:                        Wed, 26 Feb 2025   Prob (F-statistic):           0.000577\n",
      "Time:                                09:37:20   Log-Likelihood:                -395.09\n",
      "No. Observations:                          45   AIC:                             794.2\n",
      "Df Residuals:                              43   BIC:                             797.8\n",
      "Df Model:                                   1                                         \n",
      "Covariance Type:                    nonrobust                                         \n",
      "====================================================================================\n",
      "                       coef    std err          t      P>|t|      [0.025      0.975]\n",
      "------------------------------------------------------------------------------------\n",
      "const             -1.28e+05   3.48e+04     -3.682      0.001   -1.98e+05   -5.79e+04\n",
      "days_since_epoch     6.4839      1.744      3.718      0.001       2.967      10.001\n",
      "==============================================================================\n",
      "Omnibus:                       30.965   Durbin-Watson:                   1.183\n",
      "Prob(Omnibus):                  0.000   Jarque-Bera (JB):               60.716\n",
      "Skew:                           2.024   Prob(JB):                     6.54e-14\n",
      "Kurtosis:                       7.000   Cond. No.                     2.89e+06\n",
      "==============================================================================\n",
      "\n",
      "Notes:\n",
      "[1] Standard Errors assume that the covariance matrix of the errors is correctly specified.\n",
      "[2] The condition number is large, 2.89e+06. This might indicate that there are\n",
      "strong multicollinearity or other numerical problems.\n",
      "Linear Model BIC: 797.79\n",
      "\n",
      "Log-Linear Model Summary:\n",
      "                                OLS Regression Results                                \n",
      "======================================================================================\n",
      "Dep. Variable:     output_tokens_per_question   R-squared:                       0.366\n",
      "Model:                                    OLS   Adj. R-squared:                  0.351\n",
      "Method:                         Least Squares   F-statistic:                     24.79\n",
      "Date:                        Wed, 26 Feb 2025   Prob (F-statistic):           1.08e-05\n",
      "Time:                                09:37:20   Log-Likelihood:                -51.046\n",
      "No. Observations:                          45   AIC:                             106.1\n",
      "Df Residuals:                              43   BIC:                             109.7\n",
      "Df Model:                                   1                                         \n",
      "Covariance Type:                    nonrobust                                         \n",
      "====================================================================================\n",
      "                       coef    std err          t      P>|t|      [0.025      0.975]\n",
      "------------------------------------------------------------------------------------\n",
      "const              -76.2507     16.625     -4.587      0.000    -109.778     -42.724\n",
      "days_since_epoch     0.0042      0.001      4.979      0.000       0.002       0.006\n",
      "==============================================================================\n",
      "Omnibus:                        2.753   Durbin-Watson:                   1.060\n",
      "Prob(Omnibus):                  0.252   Jarque-Bera (JB):                2.486\n",
      "Skew:                           0.564   Prob(JB):                        0.289\n",
      "Kurtosis:                       2.768   Cond. No.                     2.89e+06\n",
      "==============================================================================\n",
      "\n",
      "Notes:\n",
      "[1] Standard Errors assume that the covariance matrix of the errors is correctly specified.\n",
      "[2] The condition number is large, 2.89e+06. This might indicate that there are\n",
      "strong multicollinearity or other numerical problems.\n",
      "Log-Linear Model BIC: 109.71\n",
      "\n",
      "Log-linear model has lower BIC and is preferred\n"
     ]
    },
    {
     "name": "stderr",
     "output_type": "stream",
     "text": [
      "/var/folders/s2/stl5t_bn7xg9vdfxxr71rzrc0000gn/T/ipykernel_22309/3545312896.py:9: SettingWithCopyWarning:\n",
      "\n",
      "\n",
      "A value is trying to be set on a copy of a slice from a DataFrame.\n",
      "Try using .loc[row_indexer,col_indexer] = value instead\n",
      "\n",
      "See the caveats in the documentation: https://pandas.pydata.org/pandas-docs/stable/user_guide/indexing.html#returning-a-view-versus-a-copy\n",
      "\n"
     ]
    },
    {
     "data": {
      "application/vnd.plotly.v1+json": {
       "config": {
        "plotlyServerURL": "https://plot.ly"
       },
       "data": [
        {
         "hoverinfo": "text",
         "hovertext": [
          "Model: GPT-4<br>Release Date: 2023-03-01<br>Output Tokens: 219.12",
          "Model: Llama 2-70B Chat<br>Release Date: 2023-12-01<br>Output Tokens: 429.79",
          "Model: Mistral-Large-2024-02<br>Release Date: 2024-02-01<br>Output Tokens: 363.95",
          "Model: Claude-3-Haiku<br>Release Date: 2024-03-01<br>Output Tokens: 344.82",
          "Model: Claude-3-Sonnet<br>Release Date: 2024-03-01<br>Output Tokens: 463.83",
          "Model: Claude-3-Opus<br>Release Date: 2024-03-01<br>Output Tokens: 429.00",
          "Model: Llama-3-Instruct-70B<br>Release Date: 2024-04-01<br>Output Tokens: 312.81",
          "Model: Llama-3-Instruct-8B<br>Release Date: 2024-04-01<br>Output Tokens: 364.35",
          "Model: Mistral-8x22<br>Release Date: 2024-04-01<br>Output Tokens: 561.44",
          "Model: Gemini-1.5-Pro-2024-05<br>Release Date: 2024-05-01<br>Output Tokens: 344.25",
          "Model: Gemini-1.5-Flash-2024-05<br>Release Date: 2024-05-01<br>Output Tokens: 360.03",
          "Model: GPT-4o-2024-05<br>Release Date: 2024-05-01<br>Output Tokens: 599.04",
          "Model: Mistral-Large-2-2024-06<br>Release Date: 2024-06-01<br>Output Tokens: 467.63",
          "Model: Mistral-NeMo<br>Release Date: 2024-06-01<br>Output Tokens: 420.92",
          "Model: Claude-3.5-Sonnet-2024-06<br>Release Date: 2024-06-01<br>Output Tokens: 420.58",
          "Model: Gemma-2-9B<br>Release Date: 2024-06-01<br>Output Tokens: 317.71",
          "Model: Gemma-2-27B<br>Release Date: 2024-06-01<br>Output Tokens: 331.71",
          "Model: Llama-3.1-Instruct-405B<br>Release Date: 2024-07-01<br>Output Tokens: 623.93",
          "Model: Llama-3.1-Instruct-8B<br>Release Date: 2024-07-01<br>Output Tokens: 984.54",
          "Model: Llama-3.1-Instruct-70B<br>Release Date: 2024-07-01<br>Output Tokens: 675.13",
          "Model: GPT-4o-mini<br>Release Date: 2024-07-01<br>Output Tokens: 560.55",
          "Model: GPT-4o-2024-08<br>Release Date: 2024-08-01<br>Output Tokens: 587.39",
          "Model: Claude 2<br>Release Date: 2024-08-12<br>Output Tokens: 201.50",
          "Model: Claude 2.1<br>Release Date: 2024-08-12<br>Output Tokens: 224.67",
          "Model: Gemini 1.0 Pro<br>Release Date: 2024-08-12<br>Output Tokens: 217.78",
          "Model: Gemini-1.5-Pro-2024-09<br>Release Date: 2024-09-01<br>Output Tokens: 435.46",
          "Model: Gemini-1.5-Flash-2024-09<br>Release Date: 2024-09-01<br>Output Tokens: 418.40",
          "Model: o1-preview<br>Release Date: 2024-09-12<br>Output Tokens: 3030.11",
          "Model: o1-mini<br>Release Date: 2024-09-12<br>Output Tokens: 1877.24",
          "Model: o1-mini<br>Release Date: 2024-09-12<br>Output Tokens: 1766.74",
          "Model: Mistral 7B<br>Release Date: 2024-09-14<br>Output Tokens: 490.58",
          "Model: Mistral 7B<br>Release Date: 2024-09-14<br>Output Tokens: 452.60",
          "Model: Claude-3.5-Sonnet-2024-10<br>Release Date: 2024-10-01<br>Output Tokens: 352.74",
          "Model: GPT-4o-2024-11<br>Release Date: 2024-11-01<br>Output Tokens: 740.18",
          "Model: o1<br>Release Date: 2024-12-17<br>Output Tokens: 6357.84",
          "Model: o1<br>Release Date: 2024-12-17<br>Output Tokens: 4125.03",
          "Model: DeepSeek-V3<br>Release Date: 2024-12-26<br>Output Tokens: 625.99",
          "Model: Phi 4<br>Release Date: 2025-01-01<br>Output Tokens: 664.95",
          "Model: Mistral Small 3<br>Release Date: 2025-01-01<br>Output Tokens: 518.15",
          "Model: DeepSeek-R1<br>Release Date: 2025-01-20<br>Output Tokens: 7594.73",
          "Model: o3-mini<br>Release Date: 2025-01-31<br>Output Tokens: 7721.89",
          "Model: o3-mini<br>Release Date: 2025-01-31<br>Output Tokens: 3106.83",
          "Model: o1-mini<br>Release Date: 2025-01-31<br>Output Tokens: 1877.24",
          "Model: o1-mini<br>Release Date: 2025-01-31<br>Output Tokens: 1766.74",
          "Model: Gemini 2.0 Flash<br>Release Date: 2025-02-01<br>Output Tokens: 613.40"
         ],
         "mode": "markers",
         "type": "scatter",
         "x": [
          "2023-03-01T00:00:00",
          "2023-12-01T00:00:00",
          "2024-02-01T00:00:00",
          "2024-03-01T00:00:00",
          "2024-03-01T00:00:00",
          "2024-03-01T00:00:00",
          "2024-04-01T00:00:00",
          "2024-04-01T00:00:00",
          "2024-04-01T00:00:00",
          "2024-05-01T00:00:00",
          "2024-05-01T00:00:00",
          "2024-05-01T00:00:00",
          "2024-06-01T00:00:00",
          "2024-06-01T00:00:00",
          "2024-06-01T00:00:00",
          "2024-06-01T00:00:00",
          "2024-06-01T00:00:00",
          "2024-07-01T00:00:00",
          "2024-07-01T00:00:00",
          "2024-07-01T00:00:00",
          "2024-07-01T00:00:00",
          "2024-08-01T00:00:00",
          "2024-08-12T00:00:00",
          "2024-08-12T00:00:00",
          "2024-08-12T00:00:00",
          "2024-09-01T00:00:00",
          "2024-09-01T00:00:00",
          "2024-09-12T00:00:00",
          "2024-09-12T00:00:00",
          "2024-09-12T00:00:00",
          "2024-09-14T00:00:00",
          "2024-09-14T00:00:00",
          "2024-10-01T00:00:00",
          "2024-11-01T00:00:00",
          "2024-12-17T00:00:00",
          "2024-12-17T00:00:00",
          "2024-12-26T00:00:00",
          "2025-01-01T00:00:00",
          "2025-01-01T00:00:00",
          "2025-01-20T00:00:00",
          "2025-01-31T00:00:00",
          "2025-01-31T00:00:00",
          "2025-01-31T00:00:00",
          "2025-01-31T00:00:00",
          "2025-02-01T00:00:00"
         ],
         "y": [
          219.1234217171717,
          429.7935606060606,
          363.94823232323233,
          344.82165404040404,
          463.8263888888889,
          428.9952651515151,
          312.8087121212121,
          364.34564393939394,
          561.4431818181819,
          344.2477904040404,
          360.03125,
          599.041351010101,
          467.63320707070704,
          420.917297979798,
          420.5814393939394,
          317.70612373737373,
          331.706755050505,
          623.9311868686868,
          984.5400883838383,
          675.1306818181819,
          560.5527146464647,
          587.3869949494949,
          201.49526515151516,
          224.67455808080808,
          217.78345959595958,
          435.4599116161616,
          418.39551767676767,
          3030.1079545454545,
          1877.2405303030303,
          1766.7402146464647,
          490.5760732323232,
          452.60353535353534,
          352.74179292929296,
          740.1786616161617,
          6357.838383838384,
          4125.025252525253,
          625.9892676767677,
          664.9491792929293,
          518.1515151515151,
          7594.727272727273,
          7721.893939393939,
          3106.8289141414143,
          1877.2405303030303,
          1766.7402146464647,
          613.3986742424242
         ]
        },
        {
         "mode": "text",
         "showlegend": false,
         "text": [
          "GPT-4",
          "o1-preview",
          "o3-mini",
          "o3-mini"
         ],
         "textposition": "top center",
         "type": "scatter",
         "x": [
          "2023-03-01T00:00:00",
          "2024-09-12T00:00:00",
          "2025-01-31T00:00:00",
          "2025-01-31T00:00:00"
         ],
         "y": [
          219.1234217171717,
          3030.1079545454545,
          7721.893939393939,
          3106.8289141414143
         ]
        },
        {
         "line": {
          "color": "red",
          "width": 2
         },
         "mode": "lines",
         "name": "Log-Linear Trend",
         "type": "scatter",
         "x": [
          "2023-03-01T00:00:00",
          "2023-03-08T00:00:00",
          "2023-03-15T00:00:00",
          "2023-03-22T00:00:00",
          "2023-03-29T00:00:00",
          "2023-04-05T00:00:00",
          "2023-04-12T00:00:00",
          "2023-04-19T00:00:00",
          "2023-04-26T00:00:00",
          "2023-05-03T00:00:00",
          "2023-05-11T00:00:00",
          "2023-05-18T00:00:00",
          "2023-05-25T00:00:00",
          "2023-06-01T00:00:00",
          "2023-06-08T00:00:00",
          "2023-06-15T00:00:00",
          "2023-06-22T00:00:00",
          "2023-06-29T00:00:00",
          "2023-07-06T00:00:00",
          "2023-07-13T00:00:00",
          "2023-07-21T00:00:00",
          "2023-07-28T00:00:00",
          "2023-08-04T00:00:00",
          "2023-08-11T00:00:00",
          "2023-08-18T00:00:00",
          "2023-08-25T00:00:00",
          "2023-09-01T00:00:00",
          "2023-09-08T00:00:00",
          "2023-09-15T00:00:00",
          "2023-09-22T00:00:00",
          "2023-09-30T00:00:00",
          "2023-10-07T00:00:00",
          "2023-10-14T00:00:00",
          "2023-10-21T00:00:00",
          "2023-10-28T00:00:00",
          "2023-11-04T00:00:00",
          "2023-11-11T00:00:00",
          "2023-11-18T00:00:00",
          "2023-11-25T00:00:00",
          "2023-12-02T00:00:00",
          "2023-12-10T00:00:00",
          "2023-12-17T00:00:00",
          "2023-12-24T00:00:00",
          "2023-12-31T00:00:00",
          "2024-01-07T00:00:00",
          "2024-01-14T00:00:00",
          "2024-01-21T00:00:00",
          "2024-01-28T00:00:00",
          "2024-02-04T00:00:00",
          "2024-02-11T00:00:00",
          "2024-02-19T00:00:00",
          "2024-02-26T00:00:00",
          "2024-03-04T00:00:00",
          "2024-03-11T00:00:00",
          "2024-03-18T00:00:00",
          "2024-03-25T00:00:00",
          "2024-04-01T00:00:00",
          "2024-04-08T00:00:00",
          "2024-04-15T00:00:00",
          "2024-04-22T00:00:00",
          "2024-04-30T00:00:00",
          "2024-05-07T00:00:00",
          "2024-05-14T00:00:00",
          "2024-05-21T00:00:00",
          "2024-05-28T00:00:00",
          "2024-06-04T00:00:00",
          "2024-06-11T00:00:00",
          "2024-06-18T00:00:00",
          "2024-06-25T00:00:00",
          "2024-07-02T00:00:00",
          "2024-07-10T00:00:00",
          "2024-07-17T00:00:00",
          "2024-07-24T00:00:00",
          "2024-07-31T00:00:00",
          "2024-08-07T00:00:00",
          "2024-08-14T00:00:00",
          "2024-08-21T00:00:00",
          "2024-08-28T00:00:00",
          "2024-09-04T00:00:00",
          "2024-09-11T00:00:00",
          "2024-09-19T00:00:00",
          "2024-09-26T00:00:00",
          "2024-10-03T00:00:00",
          "2024-10-10T00:00:00",
          "2024-10-17T00:00:00",
          "2024-10-24T00:00:00",
          "2024-10-31T00:00:00",
          "2024-11-07T00:00:00",
          "2024-11-14T00:00:00",
          "2024-11-21T00:00:00",
          "2024-11-29T00:00:00",
          "2024-12-06T00:00:00",
          "2024-12-13T00:00:00",
          "2024-12-20T00:00:00",
          "2024-12-27T00:00:00",
          "2025-01-03T00:00:00",
          "2025-01-10T00:00:00",
          "2025-01-17T00:00:00",
          "2025-01-24T00:00:00",
          "2025-02-01T00:00:00"
         ],
         "y": [
          80.23725303478417,
          82.63863220045931,
          85.11188099874563,
          87.65915037863337,
          90.28265566374918,
          92.9846784789964,
          95.76756873484382,
          98.63374667101418,
          101.58570496133068,
          104.62601088155961,
          107.7573085421333,
          110.98232118769326,
          114.30385356546368,
          117.72479436448995,
          121.24811872789657,
          124.87689084032488,
          128.61426659281037,
          132.46349632741595,
          136.4279276640058,
          140.51100841163003,
          144.7162895670232,
          149.04742840286306,
          153.50819164844586,
          158.10245876555715,
          162.8342253223837,
          167.70760646839958,
          172.7268405132624,
          177.8962926127956,
          183.2204585653117,
          188.7039687215411,
          194.35159201158163,
          200.16824009236893,
          206.15897161927006,
          212.328996645537,
          218.68368115339592,
          225.22855172077757,
          231.96930032769947,
          238.91178930649951,
          246.06205644022208,
          253.42632021358762,
          261.01098522113466,
          268.82264773718134,
          276.8681014525253,
          285.15434338281545,
          293.688579953756,
          302.47823326843206,
          311.5309475622047,
          320.8545958507897,
          330.45728677732455,
          340.34737166431074,
          350.5334517766578,
          361.02438580207536,
          371.829297555347,
          382.95758391318066,
          394.4189229865317,
          406.2232825375408,
          418.38092864831833,
          430.9024346492322,
          443.7986903143758,
          457.08091133224696,
          470.76064905987363,
          484.84980056885445,
          499.36061899210046,
          514.305724180166,
          529.6981136765799,
          545.5511740216159,
          561.8786923943746,
          578.6948686032948,
          596.0143274355146,
          613.8521313758745,
          632.2237937064913,
          651.1452919984717,
          670.6330820073691,
          690.7041119845152,
          711.3758374166747,
          732.6662362068184,
          754.5938243092918,
          777.1776718328094,
          800.4374196254981,
          824.3932963562501,
          849.0661361073061,
          874.4773964933573,
          900.6491773229121,
          927.6042398182357,
          955.3660264103786,
          983.9586811267761,
          1013.4070705889465,
          1043.7368056386395,
          1074.9742636112148,
          1107.1466112756161,
          1140.2818284609866,
          1174.4087323902263,
          1209.5570027419824,
          1245.7572074626235,
          1283.0408293507446,
          1321.4402934373047,
          1360.988995185191,
          1401.721329532854,
          1443.6727208069722,
          1486.8796535305614
         ]
        }
       ],
       "layout": {
        "height": 600,
        "legend": {
         "bgcolor": "rgba(255, 255, 255, 0.8)",
         "bordercolor": "rgba(0, 0, 0, 0.2)",
         "borderwidth": 1,
         "x": 0.01,
         "y": 0.99
        },
        "showlegend": true,
        "template": {
         "data": {
          "bar": [
           {
            "error_x": {
             "color": "#2a3f5f"
            },
            "error_y": {
             "color": "#2a3f5f"
            },
            "marker": {
             "line": {
              "color": "white",
              "width": 0.5
             },
             "pattern": {
              "fillmode": "overlay",
              "size": 10,
              "solidity": 0.2
             }
            },
            "type": "bar"
           }
          ],
          "barpolar": [
           {
            "marker": {
             "line": {
              "color": "white",
              "width": 0.5
             },
             "pattern": {
              "fillmode": "overlay",
              "size": 10,
              "solidity": 0.2
             }
            },
            "type": "barpolar"
           }
          ],
          "carpet": [
           {
            "aaxis": {
             "endlinecolor": "#2a3f5f",
             "gridcolor": "#C8D4E3",
             "linecolor": "#C8D4E3",
             "minorgridcolor": "#C8D4E3",
             "startlinecolor": "#2a3f5f"
            },
            "baxis": {
             "endlinecolor": "#2a3f5f",
             "gridcolor": "#C8D4E3",
             "linecolor": "#C8D4E3",
             "minorgridcolor": "#C8D4E3",
             "startlinecolor": "#2a3f5f"
            },
            "type": "carpet"
           }
          ],
          "choropleth": [
           {
            "colorbar": {
             "outlinewidth": 0,
             "ticks": ""
            },
            "type": "choropleth"
           }
          ],
          "contour": [
           {
            "colorbar": {
             "outlinewidth": 0,
             "ticks": ""
            },
            "colorscale": [
             [
              0,
              "#0d0887"
             ],
             [
              0.1111111111111111,
              "#46039f"
             ],
             [
              0.2222222222222222,
              "#7201a8"
             ],
             [
              0.3333333333333333,
              "#9c179e"
             ],
             [
              0.4444444444444444,
              "#bd3786"
             ],
             [
              0.5555555555555556,
              "#d8576b"
             ],
             [
              0.6666666666666666,
              "#ed7953"
             ],
             [
              0.7777777777777778,
              "#fb9f3a"
             ],
             [
              0.8888888888888888,
              "#fdca26"
             ],
             [
              1,
              "#f0f921"
             ]
            ],
            "type": "contour"
           }
          ],
          "contourcarpet": [
           {
            "colorbar": {
             "outlinewidth": 0,
             "ticks": ""
            },
            "type": "contourcarpet"
           }
          ],
          "heatmap": [
           {
            "colorbar": {
             "outlinewidth": 0,
             "ticks": ""
            },
            "colorscale": [
             [
              0,
              "#0d0887"
             ],
             [
              0.1111111111111111,
              "#46039f"
             ],
             [
              0.2222222222222222,
              "#7201a8"
             ],
             [
              0.3333333333333333,
              "#9c179e"
             ],
             [
              0.4444444444444444,
              "#bd3786"
             ],
             [
              0.5555555555555556,
              "#d8576b"
             ],
             [
              0.6666666666666666,
              "#ed7953"
             ],
             [
              0.7777777777777778,
              "#fb9f3a"
             ],
             [
              0.8888888888888888,
              "#fdca26"
             ],
             [
              1,
              "#f0f921"
             ]
            ],
            "type": "heatmap"
           }
          ],
          "heatmapgl": [
           {
            "colorbar": {
             "outlinewidth": 0,
             "ticks": ""
            },
            "colorscale": [
             [
              0,
              "#0d0887"
             ],
             [
              0.1111111111111111,
              "#46039f"
             ],
             [
              0.2222222222222222,
              "#7201a8"
             ],
             [
              0.3333333333333333,
              "#9c179e"
             ],
             [
              0.4444444444444444,
              "#bd3786"
             ],
             [
              0.5555555555555556,
              "#d8576b"
             ],
             [
              0.6666666666666666,
              "#ed7953"
             ],
             [
              0.7777777777777778,
              "#fb9f3a"
             ],
             [
              0.8888888888888888,
              "#fdca26"
             ],
             [
              1,
              "#f0f921"
             ]
            ],
            "type": "heatmapgl"
           }
          ],
          "histogram": [
           {
            "marker": {
             "pattern": {
              "fillmode": "overlay",
              "size": 10,
              "solidity": 0.2
             }
            },
            "type": "histogram"
           }
          ],
          "histogram2d": [
           {
            "colorbar": {
             "outlinewidth": 0,
             "ticks": ""
            },
            "colorscale": [
             [
              0,
              "#0d0887"
             ],
             [
              0.1111111111111111,
              "#46039f"
             ],
             [
              0.2222222222222222,
              "#7201a8"
             ],
             [
              0.3333333333333333,
              "#9c179e"
             ],
             [
              0.4444444444444444,
              "#bd3786"
             ],
             [
              0.5555555555555556,
              "#d8576b"
             ],
             [
              0.6666666666666666,
              "#ed7953"
             ],
             [
              0.7777777777777778,
              "#fb9f3a"
             ],
             [
              0.8888888888888888,
              "#fdca26"
             ],
             [
              1,
              "#f0f921"
             ]
            ],
            "type": "histogram2d"
           }
          ],
          "histogram2dcontour": [
           {
            "colorbar": {
             "outlinewidth": 0,
             "ticks": ""
            },
            "colorscale": [
             [
              0,
              "#0d0887"
             ],
             [
              0.1111111111111111,
              "#46039f"
             ],
             [
              0.2222222222222222,
              "#7201a8"
             ],
             [
              0.3333333333333333,
              "#9c179e"
             ],
             [
              0.4444444444444444,
              "#bd3786"
             ],
             [
              0.5555555555555556,
              "#d8576b"
             ],
             [
              0.6666666666666666,
              "#ed7953"
             ],
             [
              0.7777777777777778,
              "#fb9f3a"
             ],
             [
              0.8888888888888888,
              "#fdca26"
             ],
             [
              1,
              "#f0f921"
             ]
            ],
            "type": "histogram2dcontour"
           }
          ],
          "mesh3d": [
           {
            "colorbar": {
             "outlinewidth": 0,
             "ticks": ""
            },
            "type": "mesh3d"
           }
          ],
          "parcoords": [
           {
            "line": {
             "colorbar": {
              "outlinewidth": 0,
              "ticks": ""
             }
            },
            "type": "parcoords"
           }
          ],
          "pie": [
           {
            "automargin": true,
            "type": "pie"
           }
          ],
          "scatter": [
           {
            "fillpattern": {
             "fillmode": "overlay",
             "size": 10,
             "solidity": 0.2
            },
            "type": "scatter"
           }
          ],
          "scatter3d": [
           {
            "line": {
             "colorbar": {
              "outlinewidth": 0,
              "ticks": ""
             }
            },
            "marker": {
             "colorbar": {
              "outlinewidth": 0,
              "ticks": ""
             }
            },
            "type": "scatter3d"
           }
          ],
          "scattercarpet": [
           {
            "marker": {
             "colorbar": {
              "outlinewidth": 0,
              "ticks": ""
             }
            },
            "type": "scattercarpet"
           }
          ],
          "scattergeo": [
           {
            "marker": {
             "colorbar": {
              "outlinewidth": 0,
              "ticks": ""
             }
            },
            "type": "scattergeo"
           }
          ],
          "scattergl": [
           {
            "marker": {
             "colorbar": {
              "outlinewidth": 0,
              "ticks": ""
             }
            },
            "type": "scattergl"
           }
          ],
          "scattermapbox": [
           {
            "marker": {
             "colorbar": {
              "outlinewidth": 0,
              "ticks": ""
             }
            },
            "type": "scattermapbox"
           }
          ],
          "scatterpolar": [
           {
            "marker": {
             "colorbar": {
              "outlinewidth": 0,
              "ticks": ""
             }
            },
            "type": "scatterpolar"
           }
          ],
          "scatterpolargl": [
           {
            "marker": {
             "colorbar": {
              "outlinewidth": 0,
              "ticks": ""
             }
            },
            "type": "scatterpolargl"
           }
          ],
          "scatterternary": [
           {
            "marker": {
             "colorbar": {
              "outlinewidth": 0,
              "ticks": ""
             }
            },
            "type": "scatterternary"
           }
          ],
          "surface": [
           {
            "colorbar": {
             "outlinewidth": 0,
             "ticks": ""
            },
            "colorscale": [
             [
              0,
              "#0d0887"
             ],
             [
              0.1111111111111111,
              "#46039f"
             ],
             [
              0.2222222222222222,
              "#7201a8"
             ],
             [
              0.3333333333333333,
              "#9c179e"
             ],
             [
              0.4444444444444444,
              "#bd3786"
             ],
             [
              0.5555555555555556,
              "#d8576b"
             ],
             [
              0.6666666666666666,
              "#ed7953"
             ],
             [
              0.7777777777777778,
              "#fb9f3a"
             ],
             [
              0.8888888888888888,
              "#fdca26"
             ],
             [
              1,
              "#f0f921"
             ]
            ],
            "type": "surface"
           }
          ],
          "table": [
           {
            "cells": {
             "fill": {
              "color": "#EBF0F8"
             },
             "line": {
              "color": "white"
             }
            },
            "header": {
             "fill": {
              "color": "#C8D4E3"
             },
             "line": {
              "color": "white"
             }
            },
            "type": "table"
           }
          ]
         },
         "layout": {
          "annotationdefaults": {
           "arrowcolor": "#2a3f5f",
           "arrowhead": 0,
           "arrowwidth": 1
          },
          "autotypenumbers": "strict",
          "coloraxis": {
           "colorbar": {
            "outlinewidth": 0,
            "ticks": ""
           }
          },
          "colorscale": {
           "diverging": [
            [
             0,
             "#8e0152"
            ],
            [
             0.1,
             "#c51b7d"
            ],
            [
             0.2,
             "#de77ae"
            ],
            [
             0.3,
             "#f1b6da"
            ],
            [
             0.4,
             "#fde0ef"
            ],
            [
             0.5,
             "#f7f7f7"
            ],
            [
             0.6,
             "#e6f5d0"
            ],
            [
             0.7,
             "#b8e186"
            ],
            [
             0.8,
             "#7fbc41"
            ],
            [
             0.9,
             "#4d9221"
            ],
            [
             1,
             "#276419"
            ]
           ],
           "sequential": [
            [
             0,
             "#0d0887"
            ],
            [
             0.1111111111111111,
             "#46039f"
            ],
            [
             0.2222222222222222,
             "#7201a8"
            ],
            [
             0.3333333333333333,
             "#9c179e"
            ],
            [
             0.4444444444444444,
             "#bd3786"
            ],
            [
             0.5555555555555556,
             "#d8576b"
            ],
            [
             0.6666666666666666,
             "#ed7953"
            ],
            [
             0.7777777777777778,
             "#fb9f3a"
            ],
            [
             0.8888888888888888,
             "#fdca26"
            ],
            [
             1,
             "#f0f921"
            ]
           ],
           "sequentialminus": [
            [
             0,
             "#0d0887"
            ],
            [
             0.1111111111111111,
             "#46039f"
            ],
            [
             0.2222222222222222,
             "#7201a8"
            ],
            [
             0.3333333333333333,
             "#9c179e"
            ],
            [
             0.4444444444444444,
             "#bd3786"
            ],
            [
             0.5555555555555556,
             "#d8576b"
            ],
            [
             0.6666666666666666,
             "#ed7953"
            ],
            [
             0.7777777777777778,
             "#fb9f3a"
            ],
            [
             0.8888888888888888,
             "#fdca26"
            ],
            [
             1,
             "#f0f921"
            ]
           ]
          },
          "colorway": [
           "#636efa",
           "#EF553B",
           "#00cc96",
           "#ab63fa",
           "#FFA15A",
           "#19d3f3",
           "#FF6692",
           "#B6E880",
           "#FF97FF",
           "#FECB52"
          ],
          "font": {
           "color": "#2a3f5f"
          },
          "geo": {
           "bgcolor": "white",
           "lakecolor": "white",
           "landcolor": "white",
           "showlakes": true,
           "showland": true,
           "subunitcolor": "#C8D4E3"
          },
          "hoverlabel": {
           "align": "left"
          },
          "hovermode": "closest",
          "mapbox": {
           "style": "light"
          },
          "paper_bgcolor": "white",
          "plot_bgcolor": "white",
          "polar": {
           "angularaxis": {
            "gridcolor": "#EBF0F8",
            "linecolor": "#EBF0F8",
            "ticks": ""
           },
           "bgcolor": "white",
           "radialaxis": {
            "gridcolor": "#EBF0F8",
            "linecolor": "#EBF0F8",
            "ticks": ""
           }
          },
          "scene": {
           "xaxis": {
            "backgroundcolor": "white",
            "gridcolor": "#DFE8F3",
            "gridwidth": 2,
            "linecolor": "#EBF0F8",
            "showbackground": true,
            "ticks": "",
            "zerolinecolor": "#EBF0F8"
           },
           "yaxis": {
            "backgroundcolor": "white",
            "gridcolor": "#DFE8F3",
            "gridwidth": 2,
            "linecolor": "#EBF0F8",
            "showbackground": true,
            "ticks": "",
            "zerolinecolor": "#EBF0F8"
           },
           "zaxis": {
            "backgroundcolor": "white",
            "gridcolor": "#DFE8F3",
            "gridwidth": 2,
            "linecolor": "#EBF0F8",
            "showbackground": true,
            "ticks": "",
            "zerolinecolor": "#EBF0F8"
           }
          },
          "shapedefaults": {
           "line": {
            "color": "#2a3f5f"
           }
          },
          "ternary": {
           "aaxis": {
            "gridcolor": "#DFE8F3",
            "linecolor": "#A2B1C6",
            "ticks": ""
           },
           "baxis": {
            "gridcolor": "#DFE8F3",
            "linecolor": "#A2B1C6",
            "ticks": ""
           },
           "bgcolor": "white",
           "caxis": {
            "gridcolor": "#DFE8F3",
            "linecolor": "#A2B1C6",
            "ticks": ""
           }
          },
          "title": {
           "x": 0.05
          },
          "xaxis": {
           "automargin": true,
           "gridcolor": "#EBF0F8",
           "linecolor": "#EBF0F8",
           "ticks": "",
           "title": {
            "standoff": 15
           },
           "zerolinecolor": "#EBF0F8",
           "zerolinewidth": 2
          },
          "yaxis": {
           "automargin": true,
           "gridcolor": "#EBF0F8",
           "linecolor": "#EBF0F8",
           "ticks": "",
           "title": {
            "standoff": 15
           },
           "zerolinecolor": "#EBF0F8",
           "zerolinewidth": 2
          }
         }
        },
        "title": {
         "text": "Model Output Length on GPQA Diamond vs. Release Date"
        },
        "width": 800,
        "xaxis": {
         "title": {
          "text": "Release Date"
         }
        },
        "yaxis": {
         "title": {
          "text": "Average Output Tokens per Question"
         },
         "type": "log"
        }
       }
      }
     },
     "metadata": {},
     "output_type": "display_data"
    },
    {
     "name": "stdout",
     "output_type": "stream",
     "text": [
      "Average increase in output tokens per question: 152.00% per year\n"
     ]
    },
    {
     "name": "stderr",
     "output_type": "stream",
     "text": [
      "/var/folders/s2/stl5t_bn7xg9vdfxxr71rzrc0000gn/T/ipykernel_22309/3545312896.py:86: FutureWarning:\n",
      "\n",
      "Series.__getitem__ treating keys as positions is deprecated. In a future version, integer keys will always be treated as labels (consistent with DataFrame behavior). To access a value by position, use `ser.iloc[pos]`\n",
      "\n"
     ]
    }
   ],
   "source": [
    "# Compare linear vs. log-linear models for output length vs. release date\n",
    "import statsmodels.api as sm\n",
    "import numpy as np\n",
    "import pandas as pd\n",
    "from datetime import datetime\n",
    "import math\n",
    "\n",
    "# Convert release date to numeric (days since epoch)\n",
    "plot_df['days_since_epoch'] = (plot_df['Release Date'] - datetime(1970, 1, 1)).dt.days\n",
    "\n",
    "# Add constant for intercept\n",
    "X = sm.add_constant(plot_df['days_since_epoch'])\n",
    "y = plot_df['output_tokens_per_question']\n",
    "\n",
    "# Fit linear model\n",
    "linear_model = sm.OLS(y, X).fit()\n",
    "print(\"Linear Model Summary:\")\n",
    "print(linear_model.summary())\n",
    "print(f\"Linear Model BIC: {linear_model.bic:.2f}\")\n",
    "\n",
    "# Fit log-linear model (log of y)\n",
    "log_y = np.log10(y)\n",
    "log_linear_model = sm.OLS(log_y, X).fit()\n",
    "print(\"\\nLog-Linear Model Summary:\")\n",
    "print(log_linear_model.summary())\n",
    "print(f\"Log-Linear Model BIC: {log_linear_model.bic:.2f}\")\n",
    "\n",
    "# Determine which model has lower BIC\n",
    "if linear_model.bic < log_linear_model.bic:\n",
    "    print(\"\\nLinear model has lower BIC and is preferred\")\n",
    "    better_model = linear_model\n",
    "    is_log_model = False\n",
    "else:\n",
    "    print(\"\\nLog-linear model has lower BIC and is preferred\")\n",
    "    better_model = log_linear_model\n",
    "    is_log_model = True\n",
    "\n",
    "# Create prediction line for plotting\n",
    "x_range = np.linspace(plot_df['days_since_epoch'].min(), plot_df['days_since_epoch'].max(), 100)\n",
    "X_pred = sm.add_constant(x_range)\n",
    "\n",
    "# Get predictions from the better model\n",
    "if is_log_model:\n",
    "    # For log-linear model, need to exponentiate predictions\n",
    "    y_pred = np.exp(better_model.predict(X_pred))\n",
    "    model_name = \"Log-Linear Trend\"\n",
    "else:\n",
    "    y_pred = better_model.predict(X_pred)\n",
    "    model_name = \"Linear Trend\"\n",
    "\n",
    "# Convert x_range back to datetime for plotting\n",
    "x_dates = [datetime(1970, 1, 1) + pd.Timedelta(days=int(x)) for x in x_range]\n",
    "\n",
    "# Add regression line to the plot\n",
    "fig.add_trace(\n",
    "    go.Scatter(\n",
    "        x=x_dates,\n",
    "        y=y_pred,\n",
    "        mode='lines',\n",
    "        line=dict(color='red', width=2),\n",
    "        name=model_name\n",
    "    )\n",
    ")\n",
    "\n",
    "# Update layout to include the regression line in the legend\n",
    "fig.update_layout(\n",
    "    showlegend=True,\n",
    "    legend=dict(\n",
    "        x=0.01,\n",
    "        y=0.99,\n",
    "        bgcolor='rgba(255, 255, 255, 0.8)',\n",
    "        bordercolor='rgba(0, 0, 0, 0.2)',\n",
    "        borderwidth=1\n",
    "    ),\n",
    "    yaxis=dict(\n",
    "        type='log',  # Set y-axis to logarithmic scale\n",
    "    ),\n",
    ")\n",
    "\n",
    "# Show the updated figure\n",
    "fig.show()\n",
    "\n",
    "# Calculate and print the average increase based on the better model\n",
    "if is_log_model:\n",
    "    # For log-linear model, calculate percentage increase per year\n",
    "    coef = better_model.params[1]\n",
    "    percent_per_day = (math.exp(coef) - 1) * 100\n",
    "    percent_per_year = percent_per_day * 365.25\n",
    "    print(f\"Average increase in output tokens per question: {percent_per_year:.2f}% per year\")\n",
    "else:\n",
    "    # For linear model, calculate absolute increase per year\n",
    "    tokens_per_day = better_model.params[1]\n",
    "    tokens_per_year = tokens_per_day * 365.25\n",
    "    print(f\"Average increase in output tokens per question: {tokens_per_year:.2f} tokens per year\")\n"
   ]
  }
 ],
 "metadata": {
  "kernelspec": {
   "display_name": "llm-efficiency",
   "language": "python",
   "name": "python3"
  },
  "language_info": {
   "codemirror_mode": {
    "name": "ipython",
    "version": 3
   },
   "file_extension": ".py",
   "mimetype": "text/x-python",
   "name": "python",
   "nbconvert_exporter": "python",
   "pygments_lexer": "ipython3",
   "version": "3.12.7"
  }
 },
 "nbformat": 4,
 "nbformat_minor": 2
}
