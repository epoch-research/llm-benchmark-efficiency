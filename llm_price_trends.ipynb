{
 "cells": [
  {
   "cell_type": "code",
   "execution_count": 1,
   "metadata": {},
   "outputs": [],
   "source": [
    "from collections import defaultdict\n",
    "import numpy as np\n",
    "import os\n",
    "import pandas as pd\n",
    "import plotly.express as px\n",
    "import plotly.graph_objects as go\n",
    "import plotly.io as pio\n",
    "from plotly.subplots import make_subplots\n",
    "import statsmodels.formula.api as smf\n",
    "\n",
    "from data import load_pcd_df\n",
    "from plotting import save_plot\n",
    "\n",
    "pio.templates.default = \"plotly_white\""
   ]
  },
  {
   "cell_type": "code",
   "execution_count": 2,
   "metadata": {},
   "outputs": [],
   "source": [
    "results_dir = 'results/2025-03-11_no_rounding_of_rate/'\n",
    "os.makedirs(results_dir, exist_ok=True)"
   ]
  },
  {
   "cell_type": "code",
   "execution_count": 3,
   "metadata": {},
   "outputs": [],
   "source": [
    "save = True\n",
    "exclude_reasoning_models = True\n",
    "min_num_data_points_for_regression = 4\n",
    "benchmarks = ['MMLU', 'GPQA Diamond', 'MATH-500', 'MATH 5', 'HumanEval', 'LMSys Chatbot Arena ELO']\n",
    "benchmark_is_mqa = {'MMLU': True, 'GPQA Diamond': True, 'MATH 5': False, 'MATH-500': False, 'HumanEval': False, 'LMSys Chatbot Arena ELO': False}\n",
    "reasoning_model_names = [\n",
    "    'DeepSeek-R1',\n",
    "    'o1',\n",
    "    'o1-mini',\n",
    "    'o1-preview',\n",
    "    'o3-mini',\n",
    "]"
   ]
  },
  {
   "cell_type": "markdown",
   "metadata": {},
   "source": [
    "## Load Artificial Analysis dataset"
   ]
  },
  {
   "cell_type": "code",
   "execution_count": 4,
   "metadata": {},
   "outputs": [
    {
     "data": {
      "text/html": [
       "<div>\n",
       "<style scoped>\n",
       "    .dataframe tbody tr th:only-of-type {\n",
       "        vertical-align: middle;\n",
       "    }\n",
       "\n",
       "    .dataframe tbody tr th {\n",
       "        vertical-align: top;\n",
       "    }\n",
       "\n",
       "    .dataframe thead th {\n",
       "        text-align: right;\n",
       "    }\n",
       "</style>\n",
       "<table border=\"1\" class=\"dataframe\">\n",
       "  <thead>\n",
       "    <tr style=\"text-align: right;\">\n",
       "      <th></th>\n",
       "      <th>Model Name</th>\n",
       "      <th>Release Date</th>\n",
       "      <th>USD per 1M Tokens</th>\n",
       "      <th>MMLU</th>\n",
       "      <th>GPQA Diamond</th>\n",
       "      <th>HumanEval</th>\n",
       "      <th>MATH-500</th>\n",
       "      <th>LMSys Chatbot Arena ELO</th>\n",
       "      <th>MATH 5</th>\n",
       "      <th>Tokens per Second</th>\n",
       "      <th>Prefill Latency (s)</th>\n",
       "      <th>Prompt Length (tk)</th>\n",
       "    </tr>\n",
       "  </thead>\n",
       "  <tbody>\n",
       "    <tr>\n",
       "      <th>0</th>\n",
       "      <td>Claude-3-Haiku</td>\n",
       "      <td>2024-03-04</td>\n",
       "      <td>0.5000</td>\n",
       "      <td>71</td>\n",
       "      <td>33</td>\n",
       "      <td>77.0</td>\n",
       "      <td>39.0</td>\n",
       "      <td>1179.0</td>\n",
       "      <td>13.0</td>\n",
       "      <td>122.7</td>\n",
       "      <td>0.467</td>\n",
       "      <td>1000.0</td>\n",
       "    </tr>\n",
       "    <tr>\n",
       "      <th>1</th>\n",
       "      <td>Claude-3-Opus</td>\n",
       "      <td>2024-03-04</td>\n",
       "      <td>30.0000</td>\n",
       "      <td>84</td>\n",
       "      <td>50</td>\n",
       "      <td>83.0</td>\n",
       "      <td>64.0</td>\n",
       "      <td>1248.0</td>\n",
       "      <td>34.0</td>\n",
       "      <td>26.5</td>\n",
       "      <td>1.984</td>\n",
       "      <td>1000.0</td>\n",
       "    </tr>\n",
       "    <tr>\n",
       "      <th>2</th>\n",
       "      <td>Claude-3-Sonnet</td>\n",
       "      <td>2024-03-04</td>\n",
       "      <td>6.0000</td>\n",
       "      <td>77</td>\n",
       "      <td>37</td>\n",
       "      <td>71.0</td>\n",
       "      <td>41.0</td>\n",
       "      <td>1201.0</td>\n",
       "      <td>16.0</td>\n",
       "      <td>61.8</td>\n",
       "      <td>0.789</td>\n",
       "      <td>1000.0</td>\n",
       "    </tr>\n",
       "    <tr>\n",
       "      <th>3</th>\n",
       "      <td>Claude-3.5-Haiku</td>\n",
       "      <td>2024-10-22</td>\n",
       "      <td>1.6000</td>\n",
       "      <td>81</td>\n",
       "      <td>37</td>\n",
       "      <td>87.0</td>\n",
       "      <td>67.0</td>\n",
       "      <td>1236.0</td>\n",
       "      <td>NaN</td>\n",
       "      <td>64.2</td>\n",
       "      <td>0.768</td>\n",
       "      <td>1000.0</td>\n",
       "    </tr>\n",
       "    <tr>\n",
       "      <th>4</th>\n",
       "      <td>Claude-3.5-Sonnet-2024-06</td>\n",
       "      <td>2024-06-20</td>\n",
       "      <td>6.0000</td>\n",
       "      <td>88</td>\n",
       "      <td>56</td>\n",
       "      <td>90.0</td>\n",
       "      <td>71.0</td>\n",
       "      <td>1268.0</td>\n",
       "      <td>46.0</td>\n",
       "      <td>55.9</td>\n",
       "      <td>0.906</td>\n",
       "      <td>1000.0</td>\n",
       "    </tr>\n",
       "    <tr>\n",
       "      <th>5</th>\n",
       "      <td>Claude-3.5-Sonnet-2024-10</td>\n",
       "      <td>2024-10-22</td>\n",
       "      <td>6.0000</td>\n",
       "      <td>89</td>\n",
       "      <td>58</td>\n",
       "      <td>96.0</td>\n",
       "      <td>76.0</td>\n",
       "      <td>1282.0</td>\n",
       "      <td>53.0</td>\n",
       "      <td>55.2</td>\n",
       "      <td>0.907</td>\n",
       "      <td>1000.0</td>\n",
       "    </tr>\n",
       "    <tr>\n",
       "      <th>6</th>\n",
       "      <td>Gemini 2.0 Flash</td>\n",
       "      <td>2025-02-05</td>\n",
       "      <td>0.1750</td>\n",
       "      <td>88</td>\n",
       "      <td>62</td>\n",
       "      <td>90.0</td>\n",
       "      <td>93.0</td>\n",
       "      <td>1358.0</td>\n",
       "      <td>82.0</td>\n",
       "      <td>NaN</td>\n",
       "      <td>NaN</td>\n",
       "      <td>NaN</td>\n",
       "    </tr>\n",
       "    <tr>\n",
       "      <th>7</th>\n",
       "      <td>Gemini-1.5-Flash-2024-05</td>\n",
       "      <td>2024-05-10</td>\n",
       "      <td>0.1300</td>\n",
       "      <td>79</td>\n",
       "      <td>39</td>\n",
       "      <td>NaN</td>\n",
       "      <td>55.0</td>\n",
       "      <td>1227.0</td>\n",
       "      <td>23.0</td>\n",
       "      <td>298.4</td>\n",
       "      <td>0.307</td>\n",
       "      <td>1000.0</td>\n",
       "    </tr>\n",
       "    <tr>\n",
       "      <th>8</th>\n",
       "      <td>Gemini-1.5-Flash-2024-09</td>\n",
       "      <td>2024-09-24</td>\n",
       "      <td>0.1300</td>\n",
       "      <td>75</td>\n",
       "      <td>45</td>\n",
       "      <td>83.0</td>\n",
       "      <td>83.0</td>\n",
       "      <td>1271.0</td>\n",
       "      <td>58.0</td>\n",
       "      <td>190.5</td>\n",
       "      <td>0.348</td>\n",
       "      <td>1000.0</td>\n",
       "    </tr>\n",
       "    <tr>\n",
       "      <th>9</th>\n",
       "      <td>Gemini-1.5-Flash-8B</td>\n",
       "      <td>2024-10-03</td>\n",
       "      <td>0.0700</td>\n",
       "      <td>75</td>\n",
       "      <td>30</td>\n",
       "      <td>12.0</td>\n",
       "      <td>70.0</td>\n",
       "      <td>1211.0</td>\n",
       "      <td>NaN</td>\n",
       "      <td>285.2</td>\n",
       "      <td>0.335</td>\n",
       "      <td>1000.0</td>\n",
       "    </tr>\n",
       "    <tr>\n",
       "      <th>10</th>\n",
       "      <td>Gemini-1.5-Pro-2024-05</td>\n",
       "      <td>2024-05-23</td>\n",
       "      <td>2.1900</td>\n",
       "      <td>86</td>\n",
       "      <td>46</td>\n",
       "      <td>83.0</td>\n",
       "      <td>66.0</td>\n",
       "      <td>1260.0</td>\n",
       "      <td>41.0</td>\n",
       "      <td>64.8</td>\n",
       "      <td>0.738</td>\n",
       "      <td>1000.0</td>\n",
       "    </tr>\n",
       "    <tr>\n",
       "      <th>11</th>\n",
       "      <td>Gemini-1.5-Pro-2024-09</td>\n",
       "      <td>2024-09-24</td>\n",
       "      <td>2.1900</td>\n",
       "      <td>86</td>\n",
       "      <td>61</td>\n",
       "      <td>88.0</td>\n",
       "      <td>88.0</td>\n",
       "      <td>1301.0</td>\n",
       "      <td>67.0</td>\n",
       "      <td>59.1</td>\n",
       "      <td>0.864</td>\n",
       "      <td>1000.0</td>\n",
       "    </tr>\n",
       "    <tr>\n",
       "      <th>12</th>\n",
       "      <td>Gemma-2-27B</td>\n",
       "      <td>2024-06-24</td>\n",
       "      <td>0.2600</td>\n",
       "      <td>77</td>\n",
       "      <td>39</td>\n",
       "      <td>76.0</td>\n",
       "      <td>54.0</td>\n",
       "      <td>1219.0</td>\n",
       "      <td>23.0</td>\n",
       "      <td>47.9</td>\n",
       "      <td>0.527</td>\n",
       "      <td>1000.0</td>\n",
       "    </tr>\n",
       "    <tr>\n",
       "      <th>13</th>\n",
       "      <td>Gemma-2-9B</td>\n",
       "      <td>2024-06-24</td>\n",
       "      <td>0.1300</td>\n",
       "      <td>73</td>\n",
       "      <td>31</td>\n",
       "      <td>64.0</td>\n",
       "      <td>50.0</td>\n",
       "      <td>1190.0</td>\n",
       "      <td>18.0</td>\n",
       "      <td>162.8</td>\n",
       "      <td>0.426</td>\n",
       "      <td>1000.0</td>\n",
       "    </tr>\n",
       "    <tr>\n",
       "      <th>14</th>\n",
       "      <td>GPT-3.5-Turbo-2023-11</td>\n",
       "      <td>2023-11-06</td>\n",
       "      <td>0.7500</td>\n",
       "      <td>68</td>\n",
       "      <td>30</td>\n",
       "      <td>71.0</td>\n",
       "      <td>44.0</td>\n",
       "      <td>1107.0</td>\n",
       "      <td>15.0</td>\n",
       "      <td>121.5</td>\n",
       "      <td>0.598</td>\n",
       "      <td>1000.0</td>\n",
       "    </tr>\n",
       "    <tr>\n",
       "      <th>15</th>\n",
       "      <td>GPT-4-0314</td>\n",
       "      <td>2023-03-14</td>\n",
       "      <td>37.5000</td>\n",
       "      <td>86</td>\n",
       "      <td>33</td>\n",
       "      <td>67.0</td>\n",
       "      <td>NaN</td>\n",
       "      <td>1186.0</td>\n",
       "      <td>NaN</td>\n",
       "      <td>23.6</td>\n",
       "      <td>0.724</td>\n",
       "      <td>1000.0</td>\n",
       "    </tr>\n",
       "    <tr>\n",
       "      <th>16</th>\n",
       "      <td>GPT-4 Turbo</td>\n",
       "      <td>2023-11-06</td>\n",
       "      <td>15.0000</td>\n",
       "      <td>87</td>\n",
       "      <td>50</td>\n",
       "      <td>92.0</td>\n",
       "      <td>74.0</td>\n",
       "      <td>1256.0</td>\n",
       "      <td>36.0</td>\n",
       "      <td>39.2</td>\n",
       "      <td>1.246</td>\n",
       "      <td>1000.0</td>\n",
       "    </tr>\n",
       "    <tr>\n",
       "      <th>17</th>\n",
       "      <td>GPT-4o-2024-05</td>\n",
       "      <td>2024-05-13</td>\n",
       "      <td>7.5000</td>\n",
       "      <td>87</td>\n",
       "      <td>53</td>\n",
       "      <td>94.0</td>\n",
       "      <td>79.0</td>\n",
       "      <td>1285.0</td>\n",
       "      <td>48.0</td>\n",
       "      <td>86.4</td>\n",
       "      <td>0.687</td>\n",
       "      <td>1000.0</td>\n",
       "    </tr>\n",
       "    <tr>\n",
       "      <th>18</th>\n",
       "      <td>GPT-4o-2024-08</td>\n",
       "      <td>2024-08-06</td>\n",
       "      <td>4.3800</td>\n",
       "      <td>89</td>\n",
       "      <td>52</td>\n",
       "      <td>93.0</td>\n",
       "      <td>80.0</td>\n",
       "      <td>1337.0</td>\n",
       "      <td>47.0</td>\n",
       "      <td>81.0</td>\n",
       "      <td>0.673</td>\n",
       "      <td>1000.0</td>\n",
       "    </tr>\n",
       "    <tr>\n",
       "      <th>19</th>\n",
       "      <td>GPT-4o-2024-11</td>\n",
       "      <td>2024-11-20</td>\n",
       "      <td>4.3800</td>\n",
       "      <td>86</td>\n",
       "      <td>54</td>\n",
       "      <td>93.0</td>\n",
       "      <td>76.0</td>\n",
       "      <td>1361.0</td>\n",
       "      <td>50.0</td>\n",
       "      <td>148.9</td>\n",
       "      <td>0.404</td>\n",
       "      <td>1000.0</td>\n",
       "    </tr>\n",
       "    <tr>\n",
       "      <th>20</th>\n",
       "      <td>GPT-4o-mini</td>\n",
       "      <td>2024-07-18</td>\n",
       "      <td>0.2600</td>\n",
       "      <td>82</td>\n",
       "      <td>43</td>\n",
       "      <td>88.0</td>\n",
       "      <td>79.0</td>\n",
       "      <td>1273.0</td>\n",
       "      <td>48.0</td>\n",
       "      <td>112.2</td>\n",
       "      <td>0.626</td>\n",
       "      <td>1000.0</td>\n",
       "    </tr>\n",
       "    <tr>\n",
       "      <th>21</th>\n",
       "      <td>Llama-2-Chat-13B</td>\n",
       "      <td>2023-07-18</td>\n",
       "      <td>0.5600</td>\n",
       "      <td>45</td>\n",
       "      <td>19</td>\n",
       "      <td>NaN</td>\n",
       "      <td>NaN</td>\n",
       "      <td>1063.0</td>\n",
       "      <td>NaN</td>\n",
       "      <td>43.1</td>\n",
       "      <td>0.447</td>\n",
       "      <td>1000.0</td>\n",
       "    </tr>\n",
       "    <tr>\n",
       "      <th>22</th>\n",
       "      <td>Llama-2-Chat-7B</td>\n",
       "      <td>2023-07-18</td>\n",
       "      <td>0.3300</td>\n",
       "      <td>13</td>\n",
       "      <td>6</td>\n",
       "      <td>13.0</td>\n",
       "      <td>NaN</td>\n",
       "      <td>1037.0</td>\n",
       "      <td>NaN</td>\n",
       "      <td>125.4</td>\n",
       "      <td>0.508</td>\n",
       "      <td>1000.0</td>\n",
       "    </tr>\n",
       "    <tr>\n",
       "      <th>23</th>\n",
       "      <td>Llama-3-Instruct-70B</td>\n",
       "      <td>2024-04-18</td>\n",
       "      <td>0.8900</td>\n",
       "      <td>79</td>\n",
       "      <td>39</td>\n",
       "      <td>18.0</td>\n",
       "      <td>53.0</td>\n",
       "      <td>1206.0</td>\n",
       "      <td>22.0</td>\n",
       "      <td>44.6</td>\n",
       "      <td>0.472</td>\n",
       "      <td>1000.0</td>\n",
       "    </tr>\n",
       "    <tr>\n",
       "      <th>24</th>\n",
       "      <td>Llama-3-Instruct-8B</td>\n",
       "      <td>2024-04-18</td>\n",
       "      <td>0.1500</td>\n",
       "      <td>64</td>\n",
       "      <td>30</td>\n",
       "      <td>53.0</td>\n",
       "      <td>32.0</td>\n",
       "      <td>1152.0</td>\n",
       "      <td>8.0</td>\n",
       "      <td>122.8</td>\n",
       "      <td>0.330</td>\n",
       "      <td>1000.0</td>\n",
       "    </tr>\n",
       "    <tr>\n",
       "      <th>25</th>\n",
       "      <td>Llama-3.1-Instruct-405B</td>\n",
       "      <td>2024-07-23</td>\n",
       "      <td>3.5000</td>\n",
       "      <td>87</td>\n",
       "      <td>50</td>\n",
       "      <td>87.0</td>\n",
       "      <td>70.0</td>\n",
       "      <td>1266.0</td>\n",
       "      <td>45.0</td>\n",
       "      <td>27.9</td>\n",
       "      <td>0.719</td>\n",
       "      <td>1000.0</td>\n",
       "    </tr>\n",
       "    <tr>\n",
       "      <th>26</th>\n",
       "      <td>Llama-3.1-Instruct-70B</td>\n",
       "      <td>2024-07-23</td>\n",
       "      <td>0.7200</td>\n",
       "      <td>84</td>\n",
       "      <td>43</td>\n",
       "      <td>80.0</td>\n",
       "      <td>64.0</td>\n",
       "      <td>1249.0</td>\n",
       "      <td>39.0</td>\n",
       "      <td>71.6</td>\n",
       "      <td>0.425</td>\n",
       "      <td>1000.0</td>\n",
       "    </tr>\n",
       "    <tr>\n",
       "      <th>27</th>\n",
       "      <td>Llama-3.1-Instruct-8B</td>\n",
       "      <td>2024-07-23</td>\n",
       "      <td>0.1000</td>\n",
       "      <td>71</td>\n",
       "      <td>27</td>\n",
       "      <td>67.0</td>\n",
       "      <td>50.0</td>\n",
       "      <td>1172.0</td>\n",
       "      <td>22.0</td>\n",
       "      <td>164.3</td>\n",
       "      <td>0.350</td>\n",
       "      <td>1000.0</td>\n",
       "    </tr>\n",
       "    <tr>\n",
       "      <th>28</th>\n",
       "      <td>Llama-3.2-Instruct-1B</td>\n",
       "      <td>2024-09-24</td>\n",
       "      <td>0.0500</td>\n",
       "      <td>35</td>\n",
       "      <td>14</td>\n",
       "      <td>40.0</td>\n",
       "      <td>13.0</td>\n",
       "      <td>1103.0</td>\n",
       "      <td>NaN</td>\n",
       "      <td>552.1</td>\n",
       "      <td>0.317</td>\n",
       "      <td>1000.0</td>\n",
       "    </tr>\n",
       "    <tr>\n",
       "      <th>29</th>\n",
       "      <td>Llama-3.2-Instruct-3B</td>\n",
       "      <td>2024-09-24</td>\n",
       "      <td>0.0800</td>\n",
       "      <td>64</td>\n",
       "      <td>21</td>\n",
       "      <td>60.0</td>\n",
       "      <td>50.0</td>\n",
       "      <td>1103.0</td>\n",
       "      <td>NaN</td>\n",
       "      <td>200.3</td>\n",
       "      <td>0.316</td>\n",
       "      <td>1000.0</td>\n",
       "    </tr>\n",
       "    <tr>\n",
       "      <th>30</th>\n",
       "      <td>Mistral Small 3</td>\n",
       "      <td>2025-01-30</td>\n",
       "      <td>0.4750</td>\n",
       "      <td>82</td>\n",
       "      <td>46</td>\n",
       "      <td>85.0</td>\n",
       "      <td>74.0</td>\n",
       "      <td>1210.0</td>\n",
       "      <td>45.0</td>\n",
       "      <td>NaN</td>\n",
       "      <td>NaN</td>\n",
       "      <td>NaN</td>\n",
       "    </tr>\n",
       "    <tr>\n",
       "      <th>31</th>\n",
       "      <td>Mistral-8x22</td>\n",
       "      <td>2024-04-17</td>\n",
       "      <td>1.2000</td>\n",
       "      <td>76</td>\n",
       "      <td>37</td>\n",
       "      <td>74.0</td>\n",
       "      <td>56.0</td>\n",
       "      <td>1148.0</td>\n",
       "      <td>23.0</td>\n",
       "      <td>85.3</td>\n",
       "      <td>0.624</td>\n",
       "      <td>1000.0</td>\n",
       "    </tr>\n",
       "    <tr>\n",
       "      <th>32</th>\n",
       "      <td>Mistral-Large-2-2024-07</td>\n",
       "      <td>2024-07-24</td>\n",
       "      <td>3.0000</td>\n",
       "      <td>85</td>\n",
       "      <td>48</td>\n",
       "      <td>91.0</td>\n",
       "      <td>71.0</td>\n",
       "      <td>1251.0</td>\n",
       "      <td>45.0</td>\n",
       "      <td>34.4</td>\n",
       "      <td>0.486</td>\n",
       "      <td>1000.0</td>\n",
       "    </tr>\n",
       "    <tr>\n",
       "      <th>33</th>\n",
       "      <td>Mistral-Large-2-2024-11</td>\n",
       "      <td>2024-11-18</td>\n",
       "      <td>3.0000</td>\n",
       "      <td>85</td>\n",
       "      <td>47</td>\n",
       "      <td>90.0</td>\n",
       "      <td>72.0</td>\n",
       "      <td>1247.0</td>\n",
       "      <td>NaN</td>\n",
       "      <td>43.5</td>\n",
       "      <td>0.639</td>\n",
       "      <td>1000.0</td>\n",
       "    </tr>\n",
       "    <tr>\n",
       "      <th>34</th>\n",
       "      <td>Mistral-Large-2024-02</td>\n",
       "      <td>2024-02-26</td>\n",
       "      <td>6.0000</td>\n",
       "      <td>69</td>\n",
       "      <td>36</td>\n",
       "      <td>69.0</td>\n",
       "      <td>49.0</td>\n",
       "      <td>1157.0</td>\n",
       "      <td>21.0</td>\n",
       "      <td>37.8</td>\n",
       "      <td>0.500</td>\n",
       "      <td>1000.0</td>\n",
       "    </tr>\n",
       "    <tr>\n",
       "      <th>35</th>\n",
       "      <td>Mistral-NeMo</td>\n",
       "      <td>2024-07-18</td>\n",
       "      <td>0.1300</td>\n",
       "      <td>66</td>\n",
       "      <td>33</td>\n",
       "      <td>71.0</td>\n",
       "      <td>44.0</td>\n",
       "      <td>NaN</td>\n",
       "      <td>10.0</td>\n",
       "      <td>88.3</td>\n",
       "      <td>0.551</td>\n",
       "      <td>1000.0</td>\n",
       "    </tr>\n",
       "    <tr>\n",
       "      <th>36</th>\n",
       "      <td>Mistral-Small-2024-02</td>\n",
       "      <td>2024-02-26</td>\n",
       "      <td>1.5000</td>\n",
       "      <td>69</td>\n",
       "      <td>31</td>\n",
       "      <td>79.0</td>\n",
       "      <td>56.0</td>\n",
       "      <td>NaN</td>\n",
       "      <td>NaN</td>\n",
       "      <td>54.1</td>\n",
       "      <td>0.429</td>\n",
       "      <td>1000.0</td>\n",
       "    </tr>\n",
       "    <tr>\n",
       "      <th>37</th>\n",
       "      <td>Phi 4</td>\n",
       "      <td>2024-12-13</td>\n",
       "      <td>0.1225</td>\n",
       "      <td>85</td>\n",
       "      <td>53</td>\n",
       "      <td>87.0</td>\n",
       "      <td>81.0</td>\n",
       "      <td>1204.0</td>\n",
       "      <td>65.0</td>\n",
       "      <td>NaN</td>\n",
       "      <td>NaN</td>\n",
       "      <td>NaN</td>\n",
       "    </tr>\n",
       "  </tbody>\n",
       "</table>\n",
       "</div>"
      ],
      "text/plain": [
       "                   Model Name Release Date  USD per 1M Tokens  MMLU  \\\n",
       "0              Claude-3-Haiku   2024-03-04             0.5000    71   \n",
       "1               Claude-3-Opus   2024-03-04            30.0000    84   \n",
       "2             Claude-3-Sonnet   2024-03-04             6.0000    77   \n",
       "3            Claude-3.5-Haiku   2024-10-22             1.6000    81   \n",
       "4   Claude-3.5-Sonnet-2024-06   2024-06-20             6.0000    88   \n",
       "5   Claude-3.5-Sonnet-2024-10   2024-10-22             6.0000    89   \n",
       "6            Gemini 2.0 Flash   2025-02-05             0.1750    88   \n",
       "7    Gemini-1.5-Flash-2024-05   2024-05-10             0.1300    79   \n",
       "8    Gemini-1.5-Flash-2024-09   2024-09-24             0.1300    75   \n",
       "9         Gemini-1.5-Flash-8B   2024-10-03             0.0700    75   \n",
       "10     Gemini-1.5-Pro-2024-05   2024-05-23             2.1900    86   \n",
       "11     Gemini-1.5-Pro-2024-09   2024-09-24             2.1900    86   \n",
       "12                Gemma-2-27B   2024-06-24             0.2600    77   \n",
       "13                 Gemma-2-9B   2024-06-24             0.1300    73   \n",
       "14      GPT-3.5-Turbo-2023-11   2023-11-06             0.7500    68   \n",
       "15                 GPT-4-0314   2023-03-14            37.5000    86   \n",
       "16                GPT-4 Turbo   2023-11-06            15.0000    87   \n",
       "17             GPT-4o-2024-05   2024-05-13             7.5000    87   \n",
       "18             GPT-4o-2024-08   2024-08-06             4.3800    89   \n",
       "19             GPT-4o-2024-11   2024-11-20             4.3800    86   \n",
       "20                GPT-4o-mini   2024-07-18             0.2600    82   \n",
       "21           Llama-2-Chat-13B   2023-07-18             0.5600    45   \n",
       "22            Llama-2-Chat-7B   2023-07-18             0.3300    13   \n",
       "23       Llama-3-Instruct-70B   2024-04-18             0.8900    79   \n",
       "24        Llama-3-Instruct-8B   2024-04-18             0.1500    64   \n",
       "25    Llama-3.1-Instruct-405B   2024-07-23             3.5000    87   \n",
       "26     Llama-3.1-Instruct-70B   2024-07-23             0.7200    84   \n",
       "27      Llama-3.1-Instruct-8B   2024-07-23             0.1000    71   \n",
       "28      Llama-3.2-Instruct-1B   2024-09-24             0.0500    35   \n",
       "29      Llama-3.2-Instruct-3B   2024-09-24             0.0800    64   \n",
       "30            Mistral Small 3   2025-01-30             0.4750    82   \n",
       "31               Mistral-8x22   2024-04-17             1.2000    76   \n",
       "32    Mistral-Large-2-2024-07   2024-07-24             3.0000    85   \n",
       "33    Mistral-Large-2-2024-11   2024-11-18             3.0000    85   \n",
       "34      Mistral-Large-2024-02   2024-02-26             6.0000    69   \n",
       "35               Mistral-NeMo   2024-07-18             0.1300    66   \n",
       "36      Mistral-Small-2024-02   2024-02-26             1.5000    69   \n",
       "37                      Phi 4   2024-12-13             0.1225    85   \n",
       "\n",
       "    GPQA Diamond  HumanEval  MATH-500  LMSys Chatbot Arena ELO  MATH 5  \\\n",
       "0             33       77.0      39.0                   1179.0    13.0   \n",
       "1             50       83.0      64.0                   1248.0    34.0   \n",
       "2             37       71.0      41.0                   1201.0    16.0   \n",
       "3             37       87.0      67.0                   1236.0     NaN   \n",
       "4             56       90.0      71.0                   1268.0    46.0   \n",
       "5             58       96.0      76.0                   1282.0    53.0   \n",
       "6             62       90.0      93.0                   1358.0    82.0   \n",
       "7             39        NaN      55.0                   1227.0    23.0   \n",
       "8             45       83.0      83.0                   1271.0    58.0   \n",
       "9             30       12.0      70.0                   1211.0     NaN   \n",
       "10            46       83.0      66.0                   1260.0    41.0   \n",
       "11            61       88.0      88.0                   1301.0    67.0   \n",
       "12            39       76.0      54.0                   1219.0    23.0   \n",
       "13            31       64.0      50.0                   1190.0    18.0   \n",
       "14            30       71.0      44.0                   1107.0    15.0   \n",
       "15            33       67.0       NaN                   1186.0     NaN   \n",
       "16            50       92.0      74.0                   1256.0    36.0   \n",
       "17            53       94.0      79.0                   1285.0    48.0   \n",
       "18            52       93.0      80.0                   1337.0    47.0   \n",
       "19            54       93.0      76.0                   1361.0    50.0   \n",
       "20            43       88.0      79.0                   1273.0    48.0   \n",
       "21            19        NaN       NaN                   1063.0     NaN   \n",
       "22             6       13.0       NaN                   1037.0     NaN   \n",
       "23            39       18.0      53.0                   1206.0    22.0   \n",
       "24            30       53.0      32.0                   1152.0     8.0   \n",
       "25            50       87.0      70.0                   1266.0    45.0   \n",
       "26            43       80.0      64.0                   1249.0    39.0   \n",
       "27            27       67.0      50.0                   1172.0    22.0   \n",
       "28            14       40.0      13.0                   1103.0     NaN   \n",
       "29            21       60.0      50.0                   1103.0     NaN   \n",
       "30            46       85.0      74.0                   1210.0    45.0   \n",
       "31            37       74.0      56.0                   1148.0    23.0   \n",
       "32            48       91.0      71.0                   1251.0    45.0   \n",
       "33            47       90.0      72.0                   1247.0     NaN   \n",
       "34            36       69.0      49.0                   1157.0    21.0   \n",
       "35            33       71.0      44.0                      NaN    10.0   \n",
       "36            31       79.0      56.0                      NaN     NaN   \n",
       "37            53       87.0      81.0                   1204.0    65.0   \n",
       "\n",
       "    Tokens per Second  Prefill Latency (s)  Prompt Length (tk)  \n",
       "0               122.7                0.467              1000.0  \n",
       "1                26.5                1.984              1000.0  \n",
       "2                61.8                0.789              1000.0  \n",
       "3                64.2                0.768              1000.0  \n",
       "4                55.9                0.906              1000.0  \n",
       "5                55.2                0.907              1000.0  \n",
       "6                 NaN                  NaN                 NaN  \n",
       "7               298.4                0.307              1000.0  \n",
       "8               190.5                0.348              1000.0  \n",
       "9               285.2                0.335              1000.0  \n",
       "10               64.8                0.738              1000.0  \n",
       "11               59.1                0.864              1000.0  \n",
       "12               47.9                0.527              1000.0  \n",
       "13              162.8                0.426              1000.0  \n",
       "14              121.5                0.598              1000.0  \n",
       "15               23.6                0.724              1000.0  \n",
       "16               39.2                1.246              1000.0  \n",
       "17               86.4                0.687              1000.0  \n",
       "18               81.0                0.673              1000.0  \n",
       "19              148.9                0.404              1000.0  \n",
       "20              112.2                0.626              1000.0  \n",
       "21               43.1                0.447              1000.0  \n",
       "22              125.4                0.508              1000.0  \n",
       "23               44.6                0.472              1000.0  \n",
       "24              122.8                0.330              1000.0  \n",
       "25               27.9                0.719              1000.0  \n",
       "26               71.6                0.425              1000.0  \n",
       "27              164.3                0.350              1000.0  \n",
       "28              552.1                0.317              1000.0  \n",
       "29              200.3                0.316              1000.0  \n",
       "30                NaN                  NaN                 NaN  \n",
       "31               85.3                0.624              1000.0  \n",
       "32               34.4                0.486              1000.0  \n",
       "33               43.5                0.639              1000.0  \n",
       "34               37.8                0.500              1000.0  \n",
       "35               88.3                0.551              1000.0  \n",
       "36               54.1                0.429              1000.0  \n",
       "37                NaN                  NaN                 NaN  "
      ]
     },
     "execution_count": 4,
     "metadata": {},
     "output_type": "execute_result"
    }
   ],
   "source": [
    "aa_df = pd.read_csv('data/aa_data_with_math5.csv')\n",
    "aa_df"
   ]
  },
  {
   "cell_type": "code",
   "execution_count": 5,
   "metadata": {},
   "outputs": [],
   "source": [
    "# 'Release Date' is a string with the format 'YYYY-MM'\n",
    "aa_df['Release Date'] = pd.to_datetime(aa_df['Release Date'].str.strip(), format='%Y-%m-%d')"
   ]
  },
  {
   "cell_type": "markdown",
   "metadata": {},
   "source": [
    "## Load Epoch AI price dataset"
   ]
  },
  {
   "cell_type": "code",
   "execution_count": 6,
   "metadata": {},
   "outputs": [
    {
     "data": {
      "text/html": [
       "<div>\n",
       "<style scoped>\n",
       "    .dataframe tbody tr th:only-of-type {\n",
       "        vertical-align: middle;\n",
       "    }\n",
       "\n",
       "    .dataframe tbody tr th {\n",
       "        vertical-align: top;\n",
       "    }\n",
       "\n",
       "    .dataframe thead th {\n",
       "        text-align: right;\n",
       "    }\n",
       "</style>\n",
       "<table border=\"1\" class=\"dataframe\">\n",
       "  <thead>\n",
       "    <tr style=\"text-align: right;\">\n",
       "      <th></th>\n",
       "      <th>Model Name</th>\n",
       "      <th>Release Date</th>\n",
       "      <th>USD per 1M Tokens</th>\n",
       "      <th>MMLU</th>\n",
       "      <th>GPQA Diamond</th>\n",
       "      <th>HumanEval</th>\n",
       "      <th>MATH-500</th>\n",
       "      <th>LMSys Chatbot Arena ELO</th>\n",
       "      <th>MATH 5</th>\n",
       "      <th>Tokens per Second</th>\n",
       "      <th>Prefill Latency (s)</th>\n",
       "      <th>Prompt Length (tk)</th>\n",
       "    </tr>\n",
       "  </thead>\n",
       "  <tbody>\n",
       "    <tr>\n",
       "      <th>0</th>\n",
       "      <td>Claude 2</td>\n",
       "      <td>2024-08-12</td>\n",
       "      <td>12.0000</td>\n",
       "      <td>78.5</td>\n",
       "      <td>35.0</td>\n",
       "      <td>NaN</td>\n",
       "      <td>NaN</td>\n",
       "      <td>NaN</td>\n",
       "      <td>10.0</td>\n",
       "      <td>NaN</td>\n",
       "      <td>NaN</td>\n",
       "      <td>NaN</td>\n",
       "    </tr>\n",
       "    <tr>\n",
       "      <th>1</th>\n",
       "      <td>Claude 2.1</td>\n",
       "      <td>2024-08-12</td>\n",
       "      <td>12.0000</td>\n",
       "      <td>NaN</td>\n",
       "      <td>36.0</td>\n",
       "      <td>16.0</td>\n",
       "      <td>NaN</td>\n",
       "      <td>NaN</td>\n",
       "      <td>11.0</td>\n",
       "      <td>NaN</td>\n",
       "      <td>NaN</td>\n",
       "      <td>NaN</td>\n",
       "    </tr>\n",
       "    <tr>\n",
       "      <th>2</th>\n",
       "      <td>Claude Instant</td>\n",
       "      <td>2024-08-12</td>\n",
       "      <td>1.2000</td>\n",
       "      <td>NaN</td>\n",
       "      <td>NaN</td>\n",
       "      <td>NaN</td>\n",
       "      <td>NaN</td>\n",
       "      <td>NaN</td>\n",
       "      <td>NaN</td>\n",
       "      <td>NaN</td>\n",
       "      <td>NaN</td>\n",
       "      <td>NaN</td>\n",
       "    </tr>\n",
       "    <tr>\n",
       "      <th>3</th>\n",
       "      <td>Cohere Command</td>\n",
       "      <td>2024-08-13</td>\n",
       "      <td>1.6250</td>\n",
       "      <td>NaN</td>\n",
       "      <td>NaN</td>\n",
       "      <td>NaN</td>\n",
       "      <td>NaN</td>\n",
       "      <td>NaN</td>\n",
       "      <td>NaN</td>\n",
       "      <td>NaN</td>\n",
       "      <td>NaN</td>\n",
       "      <td>NaN</td>\n",
       "    </tr>\n",
       "    <tr>\n",
       "      <th>4</th>\n",
       "      <td>Cohere Command Light</td>\n",
       "      <td>2024-08-13</td>\n",
       "      <td>0.3750</td>\n",
       "      <td>NaN</td>\n",
       "      <td>NaN</td>\n",
       "      <td>NaN</td>\n",
       "      <td>NaN</td>\n",
       "      <td>NaN</td>\n",
       "      <td>NaN</td>\n",
       "      <td>NaN</td>\n",
       "      <td>NaN</td>\n",
       "      <td>NaN</td>\n",
       "    </tr>\n",
       "    <tr>\n",
       "      <th>5</th>\n",
       "      <td>Command R</td>\n",
       "      <td>2024-08-13</td>\n",
       "      <td>0.7500</td>\n",
       "      <td>NaN</td>\n",
       "      <td>NaN</td>\n",
       "      <td>42.0</td>\n",
       "      <td>15.0</td>\n",
       "      <td>1180.0</td>\n",
       "      <td>NaN</td>\n",
       "      <td>NaN</td>\n",
       "      <td>NaN</td>\n",
       "      <td>NaN</td>\n",
       "    </tr>\n",
       "    <tr>\n",
       "      <th>6</th>\n",
       "      <td>Command R+</td>\n",
       "      <td>2024-08-13</td>\n",
       "      <td>6.0000</td>\n",
       "      <td>75.7</td>\n",
       "      <td>34.0</td>\n",
       "      <td>63.0</td>\n",
       "      <td>40.0</td>\n",
       "      <td>1215.0</td>\n",
       "      <td>NaN</td>\n",
       "      <td>NaN</td>\n",
       "      <td>NaN</td>\n",
       "      <td>NaN</td>\n",
       "    </tr>\n",
       "    <tr>\n",
       "      <th>7</th>\n",
       "      <td>Command R+</td>\n",
       "      <td>2024-09-13</td>\n",
       "      <td>4.3750</td>\n",
       "      <td>75.7</td>\n",
       "      <td>34.0</td>\n",
       "      <td>63.0</td>\n",
       "      <td>40.0</td>\n",
       "      <td>1215.0</td>\n",
       "      <td>NaN</td>\n",
       "      <td>NaN</td>\n",
       "      <td>NaN</td>\n",
       "      <td>NaN</td>\n",
       "    </tr>\n",
       "    <tr>\n",
       "      <th>8</th>\n",
       "      <td>DeepSeek-Coder-V2 236B</td>\n",
       "      <td>2024-09-11</td>\n",
       "      <td>0.1750</td>\n",
       "      <td>79.2</td>\n",
       "      <td>NaN</td>\n",
       "      <td>87.0</td>\n",
       "      <td>74.0</td>\n",
       "      <td>1178.0</td>\n",
       "      <td>NaN</td>\n",
       "      <td>NaN</td>\n",
       "      <td>NaN</td>\n",
       "      <td>NaN</td>\n",
       "    </tr>\n",
       "    <tr>\n",
       "      <th>9</th>\n",
       "      <td>DeepSeek-R1</td>\n",
       "      <td>2025-01-20</td>\n",
       "      <td>0.9600</td>\n",
       "      <td>NaN</td>\n",
       "      <td>71.7</td>\n",
       "      <td>98.0</td>\n",
       "      <td>96.0</td>\n",
       "      <td>1362.0</td>\n",
       "      <td>93.1</td>\n",
       "      <td>NaN</td>\n",
       "      <td>NaN</td>\n",
       "      <td>NaN</td>\n",
       "    </tr>\n",
       "    <tr>\n",
       "      <th>10</th>\n",
       "      <td>DeepSeek-V3</td>\n",
       "      <td>2024-12-26</td>\n",
       "      <td>0.4775</td>\n",
       "      <td>NaN</td>\n",
       "      <td>57.0</td>\n",
       "      <td>91.0</td>\n",
       "      <td>89.0</td>\n",
       "      <td>1318.0</td>\n",
       "      <td>65.0</td>\n",
       "      <td>NaN</td>\n",
       "      <td>NaN</td>\n",
       "      <td>NaN</td>\n",
       "    </tr>\n",
       "    <tr>\n",
       "      <th>11</th>\n",
       "      <td>Gemini 1.0 Pro</td>\n",
       "      <td>2024-08-12</td>\n",
       "      <td>0.7500</td>\n",
       "      <td>71.8</td>\n",
       "      <td>34.4</td>\n",
       "      <td>NaN</td>\n",
       "      <td>NaN</td>\n",
       "      <td>1111.0</td>\n",
       "      <td>11.0</td>\n",
       "      <td>NaN</td>\n",
       "      <td>NaN</td>\n",
       "      <td>NaN</td>\n",
       "    </tr>\n",
       "    <tr>\n",
       "      <th>12</th>\n",
       "      <td>GPT-3 175B (davinci)</td>\n",
       "      <td>2021-11-20</td>\n",
       "      <td>60.0000</td>\n",
       "      <td>43.9</td>\n",
       "      <td>NaN</td>\n",
       "      <td>NaN</td>\n",
       "      <td>NaN</td>\n",
       "      <td>NaN</td>\n",
       "      <td>NaN</td>\n",
       "      <td>NaN</td>\n",
       "      <td>NaN</td>\n",
       "      <td>NaN</td>\n",
       "    </tr>\n",
       "    <tr>\n",
       "      <th>13</th>\n",
       "      <td>GPT-3 175B (davinci)</td>\n",
       "      <td>2022-08-31</td>\n",
       "      <td>60.0000</td>\n",
       "      <td>43.9</td>\n",
       "      <td>NaN</td>\n",
       "      <td>NaN</td>\n",
       "      <td>NaN</td>\n",
       "      <td>NaN</td>\n",
       "      <td>NaN</td>\n",
       "      <td>NaN</td>\n",
       "      <td>NaN</td>\n",
       "      <td>NaN</td>\n",
       "    </tr>\n",
       "    <tr>\n",
       "      <th>14</th>\n",
       "      <td>GPT-3 175B (davinci)</td>\n",
       "      <td>2022-09-01</td>\n",
       "      <td>20.0000</td>\n",
       "      <td>43.9</td>\n",
       "      <td>NaN</td>\n",
       "      <td>NaN</td>\n",
       "      <td>NaN</td>\n",
       "      <td>NaN</td>\n",
       "      <td>NaN</td>\n",
       "      <td>NaN</td>\n",
       "      <td>NaN</td>\n",
       "      <td>NaN</td>\n",
       "    </tr>\n",
       "    <tr>\n",
       "      <th>15</th>\n",
       "      <td>GPT-3 175B (davinci)</td>\n",
       "      <td>2024-01-04</td>\n",
       "      <td>20.0000</td>\n",
       "      <td>63.1</td>\n",
       "      <td>NaN</td>\n",
       "      <td>NaN</td>\n",
       "      <td>NaN</td>\n",
       "      <td>NaN</td>\n",
       "      <td>NaN</td>\n",
       "      <td>NaN</td>\n",
       "      <td>NaN</td>\n",
       "      <td>NaN</td>\n",
       "    </tr>\n",
       "    <tr>\n",
       "      <th>16</th>\n",
       "      <td>GPT-3.5</td>\n",
       "      <td>2022-11-30</td>\n",
       "      <td>20.0000</td>\n",
       "      <td>64.8</td>\n",
       "      <td>NaN</td>\n",
       "      <td>NaN</td>\n",
       "      <td>NaN</td>\n",
       "      <td>NaN</td>\n",
       "      <td>NaN</td>\n",
       "      <td>NaN</td>\n",
       "      <td>NaN</td>\n",
       "      <td>NaN</td>\n",
       "    </tr>\n",
       "    <tr>\n",
       "      <th>17</th>\n",
       "      <td>GPT-3.5-Turbo-2023-06</td>\n",
       "      <td>2023-06-13</td>\n",
       "      <td>3.2500</td>\n",
       "      <td>68.0</td>\n",
       "      <td>28.8</td>\n",
       "      <td>71.0</td>\n",
       "      <td>44.0</td>\n",
       "      <td>1117.0</td>\n",
       "      <td>15.0</td>\n",
       "      <td>NaN</td>\n",
       "      <td>NaN</td>\n",
       "      <td>NaN</td>\n",
       "    </tr>\n",
       "    <tr>\n",
       "      <th>18</th>\n",
       "      <td>GPT-3.5-Turbo-2024-01</td>\n",
       "      <td>2024-01-25</td>\n",
       "      <td>0.7500</td>\n",
       "      <td>68.0</td>\n",
       "      <td>30.0</td>\n",
       "      <td>71.0</td>\n",
       "      <td>44.0</td>\n",
       "      <td>1106.0</td>\n",
       "      <td>11.0</td>\n",
       "      <td>NaN</td>\n",
       "      <td>NaN</td>\n",
       "      <td>NaN</td>\n",
       "    </tr>\n",
       "    <tr>\n",
       "      <th>19</th>\n",
       "      <td>GPT-3.5 Turbo</td>\n",
       "      <td>2023-03-06</td>\n",
       "      <td>2.0000</td>\n",
       "      <td>68.0</td>\n",
       "      <td>NaN</td>\n",
       "      <td>NaN</td>\n",
       "      <td>NaN</td>\n",
       "      <td>1106.0</td>\n",
       "      <td>NaN</td>\n",
       "      <td>NaN</td>\n",
       "      <td>NaN</td>\n",
       "      <td>NaN</td>\n",
       "    </tr>\n",
       "    <tr>\n",
       "      <th>20</th>\n",
       "      <td>GPT-4-0613</td>\n",
       "      <td>2023-06-13</td>\n",
       "      <td>37.5000</td>\n",
       "      <td>NaN</td>\n",
       "      <td>31.0</td>\n",
       "      <td>NaN</td>\n",
       "      <td>NaN</td>\n",
       "      <td>1163.0</td>\n",
       "      <td>23.0</td>\n",
       "      <td>NaN</td>\n",
       "      <td>NaN</td>\n",
       "      <td>NaN</td>\n",
       "    </tr>\n",
       "    <tr>\n",
       "      <th>21</th>\n",
       "      <td>GPT-4-0125</td>\n",
       "      <td>2024-01-25</td>\n",
       "      <td>15.0000</td>\n",
       "      <td>NaN</td>\n",
       "      <td>42.0</td>\n",
       "      <td>NaN</td>\n",
       "      <td>NaN</td>\n",
       "      <td>1245.0</td>\n",
       "      <td>35.0</td>\n",
       "      <td>NaN</td>\n",
       "      <td>NaN</td>\n",
       "      <td>NaN</td>\n",
       "    </tr>\n",
       "    <tr>\n",
       "      <th>22</th>\n",
       "      <td>Jamba 1.5-Large</td>\n",
       "      <td>2024-09-12</td>\n",
       "      <td>3.5000</td>\n",
       "      <td>80.0</td>\n",
       "      <td>43.0</td>\n",
       "      <td>24.0</td>\n",
       "      <td>61.0</td>\n",
       "      <td>1221.0</td>\n",
       "      <td>NaN</td>\n",
       "      <td>NaN</td>\n",
       "      <td>NaN</td>\n",
       "      <td>NaN</td>\n",
       "    </tr>\n",
       "    <tr>\n",
       "      <th>23</th>\n",
       "      <td>Llama 2-13B</td>\n",
       "      <td>2023-12-08</td>\n",
       "      <td>0.3500</td>\n",
       "      <td>54.8</td>\n",
       "      <td>NaN</td>\n",
       "      <td>NaN</td>\n",
       "      <td>NaN</td>\n",
       "      <td>NaN</td>\n",
       "      <td>NaN</td>\n",
       "      <td>NaN</td>\n",
       "      <td>NaN</td>\n",
       "      <td>NaN</td>\n",
       "    </tr>\n",
       "    <tr>\n",
       "      <th>24</th>\n",
       "      <td>Llama 2-13B</td>\n",
       "      <td>2024-04-14</td>\n",
       "      <td>0.2200</td>\n",
       "      <td>54.8</td>\n",
       "      <td>NaN</td>\n",
       "      <td>NaN</td>\n",
       "      <td>NaN</td>\n",
       "      <td>NaN</td>\n",
       "      <td>NaN</td>\n",
       "      <td>NaN</td>\n",
       "      <td>NaN</td>\n",
       "      <td>NaN</td>\n",
       "    </tr>\n",
       "    <tr>\n",
       "      <th>25</th>\n",
       "      <td>Llama 2-70B Chat</td>\n",
       "      <td>2023-12-01</td>\n",
       "      <td>0.7625</td>\n",
       "      <td>68.9</td>\n",
       "      <td>26.0</td>\n",
       "      <td>NaN</td>\n",
       "      <td>NaN</td>\n",
       "      <td>1093.0</td>\n",
       "      <td>3.0</td>\n",
       "      <td>NaN</td>\n",
       "      <td>NaN</td>\n",
       "      <td>NaN</td>\n",
       "    </tr>\n",
       "    <tr>\n",
       "      <th>26</th>\n",
       "      <td>Llama 2-7B</td>\n",
       "      <td>2023-12-01</td>\n",
       "      <td>0.2000</td>\n",
       "      <td>45.3</td>\n",
       "      <td>NaN</td>\n",
       "      <td>NaN</td>\n",
       "      <td>NaN</td>\n",
       "      <td>NaN</td>\n",
       "      <td>NaN</td>\n",
       "      <td>NaN</td>\n",
       "      <td>NaN</td>\n",
       "      <td>NaN</td>\n",
       "    </tr>\n",
       "    <tr>\n",
       "      <th>27</th>\n",
       "      <td>Llama 2-7B</td>\n",
       "      <td>2024-04-14</td>\n",
       "      <td>0.1300</td>\n",
       "      <td>45.3</td>\n",
       "      <td>NaN</td>\n",
       "      <td>NaN</td>\n",
       "      <td>NaN</td>\n",
       "      <td>NaN</td>\n",
       "      <td>NaN</td>\n",
       "      <td>NaN</td>\n",
       "      <td>NaN</td>\n",
       "      <td>NaN</td>\n",
       "    </tr>\n",
       "    <tr>\n",
       "      <th>28</th>\n",
       "      <td>Mistral 7B</td>\n",
       "      <td>2024-09-14</td>\n",
       "      <td>0.2500</td>\n",
       "      <td>60.1</td>\n",
       "      <td>14.0</td>\n",
       "      <td>40.0</td>\n",
       "      <td>12.0</td>\n",
       "      <td>1008.0</td>\n",
       "      <td>3.0</td>\n",
       "      <td>NaN</td>\n",
       "      <td>NaN</td>\n",
       "      <td>NaN</td>\n",
       "    </tr>\n",
       "    <tr>\n",
       "      <th>29</th>\n",
       "      <td>o1</td>\n",
       "      <td>2024-12-17</td>\n",
       "      <td>26.2500</td>\n",
       "      <td>NaN</td>\n",
       "      <td>75.8</td>\n",
       "      <td>97.0</td>\n",
       "      <td>97.0</td>\n",
       "      <td>1352.0</td>\n",
       "      <td>94.4</td>\n",
       "      <td>NaN</td>\n",
       "      <td>NaN</td>\n",
       "      <td>NaN</td>\n",
       "    </tr>\n",
       "    <tr>\n",
       "      <th>30</th>\n",
       "      <td>o1-mini</td>\n",
       "      <td>2024-09-12</td>\n",
       "      <td>5.2500</td>\n",
       "      <td>NaN</td>\n",
       "      <td>59.5</td>\n",
       "      <td>97.0</td>\n",
       "      <td>94.0</td>\n",
       "      <td>1308.0</td>\n",
       "      <td>84.3</td>\n",
       "      <td>NaN</td>\n",
       "      <td>NaN</td>\n",
       "      <td>NaN</td>\n",
       "    </tr>\n",
       "    <tr>\n",
       "      <th>31</th>\n",
       "      <td>o1-mini</td>\n",
       "      <td>2025-01-31</td>\n",
       "      <td>1.9250</td>\n",
       "      <td>NaN</td>\n",
       "      <td>59.5</td>\n",
       "      <td>97.0</td>\n",
       "      <td>94.0</td>\n",
       "      <td>1308.0</td>\n",
       "      <td>84.3</td>\n",
       "      <td>NaN</td>\n",
       "      <td>NaN</td>\n",
       "      <td>NaN</td>\n",
       "    </tr>\n",
       "    <tr>\n",
       "      <th>32</th>\n",
       "      <td>o1-preview</td>\n",
       "      <td>2024-09-12</td>\n",
       "      <td>26.2500</td>\n",
       "      <td>NaN</td>\n",
       "      <td>69.7</td>\n",
       "      <td>96.0</td>\n",
       "      <td>92.0</td>\n",
       "      <td>1334.0</td>\n",
       "      <td>68.0</td>\n",
       "      <td>NaN</td>\n",
       "      <td>NaN</td>\n",
       "      <td>NaN</td>\n",
       "    </tr>\n",
       "    <tr>\n",
       "      <th>33</th>\n",
       "      <td>o3-mini</td>\n",
       "      <td>2025-01-31</td>\n",
       "      <td>1.9250</td>\n",
       "      <td>NaN</td>\n",
       "      <td>74.3</td>\n",
       "      <td>97.0</td>\n",
       "      <td>97.0</td>\n",
       "      <td>1306.0</td>\n",
       "      <td>95.2</td>\n",
       "      <td>NaN</td>\n",
       "      <td>NaN</td>\n",
       "      <td>NaN</td>\n",
       "    </tr>\n",
       "    <tr>\n",
       "      <th>34</th>\n",
       "      <td>Reka Core</td>\n",
       "      <td>2024-09-14</td>\n",
       "      <td>4.0000</td>\n",
       "      <td>83.2</td>\n",
       "      <td>NaN</td>\n",
       "      <td>73.0</td>\n",
       "      <td>56.0</td>\n",
       "      <td>1235.0</td>\n",
       "      <td>NaN</td>\n",
       "      <td>NaN</td>\n",
       "      <td>NaN</td>\n",
       "      <td>NaN</td>\n",
       "    </tr>\n",
       "  </tbody>\n",
       "</table>\n",
       "</div>"
      ],
      "text/plain": [
       "                Model Name Release Date  USD per 1M Tokens  MMLU  \\\n",
       "0                 Claude 2   2024-08-12            12.0000  78.5   \n",
       "1               Claude 2.1   2024-08-12            12.0000   NaN   \n",
       "2           Claude Instant   2024-08-12             1.2000   NaN   \n",
       "3           Cohere Command   2024-08-13             1.6250   NaN   \n",
       "4     Cohere Command Light   2024-08-13             0.3750   NaN   \n",
       "5                Command R   2024-08-13             0.7500   NaN   \n",
       "6               Command R+   2024-08-13             6.0000  75.7   \n",
       "7               Command R+   2024-09-13             4.3750  75.7   \n",
       "8   DeepSeek-Coder-V2 236B   2024-09-11             0.1750  79.2   \n",
       "9              DeepSeek-R1   2025-01-20             0.9600   NaN   \n",
       "10             DeepSeek-V3   2024-12-26             0.4775   NaN   \n",
       "11          Gemini 1.0 Pro   2024-08-12             0.7500  71.8   \n",
       "12    GPT-3 175B (davinci)   2021-11-20            60.0000  43.9   \n",
       "13    GPT-3 175B (davinci)   2022-08-31            60.0000  43.9   \n",
       "14    GPT-3 175B (davinci)   2022-09-01            20.0000  43.9   \n",
       "15    GPT-3 175B (davinci)   2024-01-04            20.0000  63.1   \n",
       "16                 GPT-3.5   2022-11-30            20.0000  64.8   \n",
       "17   GPT-3.5-Turbo-2023-06   2023-06-13             3.2500  68.0   \n",
       "18   GPT-3.5-Turbo-2024-01   2024-01-25             0.7500  68.0   \n",
       "19           GPT-3.5 Turbo   2023-03-06             2.0000  68.0   \n",
       "20              GPT-4-0613   2023-06-13            37.5000   NaN   \n",
       "21              GPT-4-0125   2024-01-25            15.0000   NaN   \n",
       "22         Jamba 1.5-Large   2024-09-12             3.5000  80.0   \n",
       "23             Llama 2-13B   2023-12-08             0.3500  54.8   \n",
       "24             Llama 2-13B   2024-04-14             0.2200  54.8   \n",
       "25        Llama 2-70B Chat   2023-12-01             0.7625  68.9   \n",
       "26              Llama 2-7B   2023-12-01             0.2000  45.3   \n",
       "27              Llama 2-7B   2024-04-14             0.1300  45.3   \n",
       "28              Mistral 7B   2024-09-14             0.2500  60.1   \n",
       "29                      o1   2024-12-17            26.2500   NaN   \n",
       "30                 o1-mini   2024-09-12             5.2500   NaN   \n",
       "31                 o1-mini   2025-01-31             1.9250   NaN   \n",
       "32              o1-preview   2024-09-12            26.2500   NaN   \n",
       "33                 o3-mini   2025-01-31             1.9250   NaN   \n",
       "34               Reka Core   2024-09-14             4.0000  83.2   \n",
       "\n",
       "    GPQA Diamond  HumanEval  MATH-500  LMSys Chatbot Arena ELO  MATH 5  \\\n",
       "0           35.0        NaN       NaN                      NaN    10.0   \n",
       "1           36.0       16.0       NaN                      NaN    11.0   \n",
       "2            NaN        NaN       NaN                      NaN     NaN   \n",
       "3            NaN        NaN       NaN                      NaN     NaN   \n",
       "4            NaN        NaN       NaN                      NaN     NaN   \n",
       "5            NaN       42.0      15.0                   1180.0     NaN   \n",
       "6           34.0       63.0      40.0                   1215.0     NaN   \n",
       "7           34.0       63.0      40.0                   1215.0     NaN   \n",
       "8            NaN       87.0      74.0                   1178.0     NaN   \n",
       "9           71.7       98.0      96.0                   1362.0    93.1   \n",
       "10          57.0       91.0      89.0                   1318.0    65.0   \n",
       "11          34.4        NaN       NaN                   1111.0    11.0   \n",
       "12           NaN        NaN       NaN                      NaN     NaN   \n",
       "13           NaN        NaN       NaN                      NaN     NaN   \n",
       "14           NaN        NaN       NaN                      NaN     NaN   \n",
       "15           NaN        NaN       NaN                      NaN     NaN   \n",
       "16           NaN        NaN       NaN                      NaN     NaN   \n",
       "17          28.8       71.0      44.0                   1117.0    15.0   \n",
       "18          30.0       71.0      44.0                   1106.0    11.0   \n",
       "19           NaN        NaN       NaN                   1106.0     NaN   \n",
       "20          31.0        NaN       NaN                   1163.0    23.0   \n",
       "21          42.0        NaN       NaN                   1245.0    35.0   \n",
       "22          43.0       24.0      61.0                   1221.0     NaN   \n",
       "23           NaN        NaN       NaN                      NaN     NaN   \n",
       "24           NaN        NaN       NaN                      NaN     NaN   \n",
       "25          26.0        NaN       NaN                   1093.0     3.0   \n",
       "26           NaN        NaN       NaN                      NaN     NaN   \n",
       "27           NaN        NaN       NaN                      NaN     NaN   \n",
       "28          14.0       40.0      12.0                   1008.0     3.0   \n",
       "29          75.8       97.0      97.0                   1352.0    94.4   \n",
       "30          59.5       97.0      94.0                   1308.0    84.3   \n",
       "31          59.5       97.0      94.0                   1308.0    84.3   \n",
       "32          69.7       96.0      92.0                   1334.0    68.0   \n",
       "33          74.3       97.0      97.0                   1306.0    95.2   \n",
       "34           NaN       73.0      56.0                   1235.0     NaN   \n",
       "\n",
       "    Tokens per Second  Prefill Latency (s)  Prompt Length (tk)  \n",
       "0                 NaN                  NaN                 NaN  \n",
       "1                 NaN                  NaN                 NaN  \n",
       "2                 NaN                  NaN                 NaN  \n",
       "3                 NaN                  NaN                 NaN  \n",
       "4                 NaN                  NaN                 NaN  \n",
       "5                 NaN                  NaN                 NaN  \n",
       "6                 NaN                  NaN                 NaN  \n",
       "7                 NaN                  NaN                 NaN  \n",
       "8                 NaN                  NaN                 NaN  \n",
       "9                 NaN                  NaN                 NaN  \n",
       "10                NaN                  NaN                 NaN  \n",
       "11                NaN                  NaN                 NaN  \n",
       "12                NaN                  NaN                 NaN  \n",
       "13                NaN                  NaN                 NaN  \n",
       "14                NaN                  NaN                 NaN  \n",
       "15                NaN                  NaN                 NaN  \n",
       "16                NaN                  NaN                 NaN  \n",
       "17                NaN                  NaN                 NaN  \n",
       "18                NaN                  NaN                 NaN  \n",
       "19                NaN                  NaN                 NaN  \n",
       "20                NaN                  NaN                 NaN  \n",
       "21                NaN                  NaN                 NaN  \n",
       "22                NaN                  NaN                 NaN  \n",
       "23                NaN                  NaN                 NaN  \n",
       "24                NaN                  NaN                 NaN  \n",
       "25                NaN                  NaN                 NaN  \n",
       "26                NaN                  NaN                 NaN  \n",
       "27                NaN                  NaN                 NaN  \n",
       "28                NaN                  NaN                 NaN  \n",
       "29                NaN                  NaN                 NaN  \n",
       "30                NaN                  NaN                 NaN  \n",
       "31                NaN                  NaN                 NaN  \n",
       "32                NaN                  NaN                 NaN  \n",
       "33                NaN                  NaN                 NaN  \n",
       "34                NaN                  NaN                 NaN  "
      ]
     },
     "execution_count": 6,
     "metadata": {},
     "output_type": "execute_result"
    }
   ],
   "source": [
    "api_price_df = pd.read_csv('data/epoch_ai_price_data_not_in_aa_with_benchmarks.csv')\n",
    "api_price_df['Release Date'] = pd.to_datetime(api_price_df['Release Date'].str.strip(), format='%Y-%m-%d')\n",
    "api_price_df"
   ]
  },
  {
   "cell_type": "code",
   "execution_count": 7,
   "metadata": {},
   "outputs": [
    {
     "data": {
      "text/html": [
       "<div>\n",
       "<style scoped>\n",
       "    .dataframe tbody tr th:only-of-type {\n",
       "        vertical-align: middle;\n",
       "    }\n",
       "\n",
       "    .dataframe tbody tr th {\n",
       "        vertical-align: top;\n",
       "    }\n",
       "\n",
       "    .dataframe thead th {\n",
       "        text-align: right;\n",
       "    }\n",
       "</style>\n",
       "<table border=\"1\" class=\"dataframe\">\n",
       "  <thead>\n",
       "    <tr style=\"text-align: right;\">\n",
       "      <th></th>\n",
       "      <th>Model Name</th>\n",
       "      <th>Release Date</th>\n",
       "      <th>USD per 1M Tokens</th>\n",
       "      <th>MMLU</th>\n",
       "      <th>GPQA Diamond</th>\n",
       "      <th>HumanEval</th>\n",
       "      <th>MATH-500</th>\n",
       "      <th>LMSys Chatbot Arena ELO</th>\n",
       "      <th>MATH 5</th>\n",
       "      <th>Tokens per Second</th>\n",
       "      <th>Prefill Latency (s)</th>\n",
       "      <th>Prompt Length (tk)</th>\n",
       "    </tr>\n",
       "  </thead>\n",
       "  <tbody>\n",
       "    <tr>\n",
       "      <th>0</th>\n",
       "      <td>GPT-3 175B (davinci)</td>\n",
       "      <td>2021-11-20</td>\n",
       "      <td>60.000</td>\n",
       "      <td>43.9</td>\n",
       "      <td>NaN</td>\n",
       "      <td>NaN</td>\n",
       "      <td>NaN</td>\n",
       "      <td>NaN</td>\n",
       "      <td>NaN</td>\n",
       "      <td>NaN</td>\n",
       "      <td>NaN</td>\n",
       "      <td>NaN</td>\n",
       "    </tr>\n",
       "    <tr>\n",
       "      <th>1</th>\n",
       "      <td>GPT-3 175B (davinci)</td>\n",
       "      <td>2022-08-31</td>\n",
       "      <td>60.000</td>\n",
       "      <td>43.9</td>\n",
       "      <td>NaN</td>\n",
       "      <td>NaN</td>\n",
       "      <td>NaN</td>\n",
       "      <td>NaN</td>\n",
       "      <td>NaN</td>\n",
       "      <td>NaN</td>\n",
       "      <td>NaN</td>\n",
       "      <td>NaN</td>\n",
       "    </tr>\n",
       "    <tr>\n",
       "      <th>2</th>\n",
       "      <td>GPT-3 175B (davinci)</td>\n",
       "      <td>2022-09-01</td>\n",
       "      <td>20.000</td>\n",
       "      <td>43.9</td>\n",
       "      <td>NaN</td>\n",
       "      <td>NaN</td>\n",
       "      <td>NaN</td>\n",
       "      <td>NaN</td>\n",
       "      <td>NaN</td>\n",
       "      <td>NaN</td>\n",
       "      <td>NaN</td>\n",
       "      <td>NaN</td>\n",
       "    </tr>\n",
       "    <tr>\n",
       "      <th>3</th>\n",
       "      <td>GPT-3.5</td>\n",
       "      <td>2022-11-30</td>\n",
       "      <td>20.000</td>\n",
       "      <td>64.8</td>\n",
       "      <td>NaN</td>\n",
       "      <td>NaN</td>\n",
       "      <td>NaN</td>\n",
       "      <td>NaN</td>\n",
       "      <td>NaN</td>\n",
       "      <td>NaN</td>\n",
       "      <td>NaN</td>\n",
       "      <td>NaN</td>\n",
       "    </tr>\n",
       "    <tr>\n",
       "      <th>4</th>\n",
       "      <td>GPT-3.5 Turbo</td>\n",
       "      <td>2023-03-06</td>\n",
       "      <td>2.000</td>\n",
       "      <td>68.0</td>\n",
       "      <td>NaN</td>\n",
       "      <td>NaN</td>\n",
       "      <td>NaN</td>\n",
       "      <td>1106.0</td>\n",
       "      <td>NaN</td>\n",
       "      <td>NaN</td>\n",
       "      <td>NaN</td>\n",
       "      <td>NaN</td>\n",
       "    </tr>\n",
       "    <tr>\n",
       "      <th>...</th>\n",
       "      <td>...</td>\n",
       "      <td>...</td>\n",
       "      <td>...</td>\n",
       "      <td>...</td>\n",
       "      <td>...</td>\n",
       "      <td>...</td>\n",
       "      <td>...</td>\n",
       "      <td>...</td>\n",
       "      <td>...</td>\n",
       "      <td>...</td>\n",
       "      <td>...</td>\n",
       "      <td>...</td>\n",
       "    </tr>\n",
       "    <tr>\n",
       "      <th>68</th>\n",
       "      <td>DeepSeek-R1</td>\n",
       "      <td>2025-01-20</td>\n",
       "      <td>0.960</td>\n",
       "      <td>NaN</td>\n",
       "      <td>71.7</td>\n",
       "      <td>98.0</td>\n",
       "      <td>96.0</td>\n",
       "      <td>1362.0</td>\n",
       "      <td>93.1</td>\n",
       "      <td>NaN</td>\n",
       "      <td>NaN</td>\n",
       "      <td>NaN</td>\n",
       "    </tr>\n",
       "    <tr>\n",
       "      <th>69</th>\n",
       "      <td>Mistral Small 3</td>\n",
       "      <td>2025-01-30</td>\n",
       "      <td>0.475</td>\n",
       "      <td>82.0</td>\n",
       "      <td>46.0</td>\n",
       "      <td>85.0</td>\n",
       "      <td>74.0</td>\n",
       "      <td>1210.0</td>\n",
       "      <td>45.0</td>\n",
       "      <td>NaN</td>\n",
       "      <td>NaN</td>\n",
       "      <td>NaN</td>\n",
       "    </tr>\n",
       "    <tr>\n",
       "      <th>70</th>\n",
       "      <td>o1-mini</td>\n",
       "      <td>2025-01-31</td>\n",
       "      <td>1.925</td>\n",
       "      <td>NaN</td>\n",
       "      <td>59.5</td>\n",
       "      <td>97.0</td>\n",
       "      <td>94.0</td>\n",
       "      <td>1308.0</td>\n",
       "      <td>84.3</td>\n",
       "      <td>NaN</td>\n",
       "      <td>NaN</td>\n",
       "      <td>NaN</td>\n",
       "    </tr>\n",
       "    <tr>\n",
       "      <th>71</th>\n",
       "      <td>o3-mini</td>\n",
       "      <td>2025-01-31</td>\n",
       "      <td>1.925</td>\n",
       "      <td>NaN</td>\n",
       "      <td>74.3</td>\n",
       "      <td>97.0</td>\n",
       "      <td>97.0</td>\n",
       "      <td>1306.0</td>\n",
       "      <td>95.2</td>\n",
       "      <td>NaN</td>\n",
       "      <td>NaN</td>\n",
       "      <td>NaN</td>\n",
       "    </tr>\n",
       "    <tr>\n",
       "      <th>72</th>\n",
       "      <td>Gemini 2.0 Flash</td>\n",
       "      <td>2025-02-05</td>\n",
       "      <td>0.175</td>\n",
       "      <td>88.0</td>\n",
       "      <td>62.0</td>\n",
       "      <td>90.0</td>\n",
       "      <td>93.0</td>\n",
       "      <td>1358.0</td>\n",
       "      <td>82.0</td>\n",
       "      <td>NaN</td>\n",
       "      <td>NaN</td>\n",
       "      <td>NaN</td>\n",
       "    </tr>\n",
       "  </tbody>\n",
       "</table>\n",
       "<p>73 rows × 12 columns</p>\n",
       "</div>"
      ],
      "text/plain": [
       "              Model Name Release Date  USD per 1M Tokens  MMLU  GPQA Diamond  \\\n",
       "0   GPT-3 175B (davinci)   2021-11-20             60.000  43.9           NaN   \n",
       "1   GPT-3 175B (davinci)   2022-08-31             60.000  43.9           NaN   \n",
       "2   GPT-3 175B (davinci)   2022-09-01             20.000  43.9           NaN   \n",
       "3                GPT-3.5   2022-11-30             20.000  64.8           NaN   \n",
       "4          GPT-3.5 Turbo   2023-03-06              2.000  68.0           NaN   \n",
       "..                   ...          ...                ...   ...           ...   \n",
       "68           DeepSeek-R1   2025-01-20              0.960   NaN          71.7   \n",
       "69       Mistral Small 3   2025-01-30              0.475  82.0          46.0   \n",
       "70               o1-mini   2025-01-31              1.925   NaN          59.5   \n",
       "71               o3-mini   2025-01-31              1.925   NaN          74.3   \n",
       "72      Gemini 2.0 Flash   2025-02-05              0.175  88.0          62.0   \n",
       "\n",
       "    HumanEval  MATH-500  LMSys Chatbot Arena ELO  MATH 5  Tokens per Second  \\\n",
       "0         NaN       NaN                      NaN     NaN                NaN   \n",
       "1         NaN       NaN                      NaN     NaN                NaN   \n",
       "2         NaN       NaN                      NaN     NaN                NaN   \n",
       "3         NaN       NaN                      NaN     NaN                NaN   \n",
       "4         NaN       NaN                   1106.0     NaN                NaN   \n",
       "..        ...       ...                      ...     ...                ...   \n",
       "68       98.0      96.0                   1362.0    93.1                NaN   \n",
       "69       85.0      74.0                   1210.0    45.0                NaN   \n",
       "70       97.0      94.0                   1308.0    84.3                NaN   \n",
       "71       97.0      97.0                   1306.0    95.2                NaN   \n",
       "72       90.0      93.0                   1358.0    82.0                NaN   \n",
       "\n",
       "    Prefill Latency (s)  Prompt Length (tk)  \n",
       "0                   NaN                 NaN  \n",
       "1                   NaN                 NaN  \n",
       "2                   NaN                 NaN  \n",
       "3                   NaN                 NaN  \n",
       "4                   NaN                 NaN  \n",
       "..                  ...                 ...  \n",
       "68                  NaN                 NaN  \n",
       "69                  NaN                 NaN  \n",
       "70                  NaN                 NaN  \n",
       "71                  NaN                 NaN  \n",
       "72                  NaN                 NaN  \n",
       "\n",
       "[73 rows x 12 columns]"
      ]
     },
     "execution_count": 7,
     "metadata": {},
     "output_type": "execute_result"
    }
   ],
   "source": [
    "# Merge the two datasets\n",
    "aa_df = pd.concat([aa_df, api_price_df])\n",
    "aa_df.dropna(subset=['USD per 1M Tokens'], inplace=True)\n",
    "aa_df.sort_values(by='Release Date', inplace=True)\n",
    "# Reset the index\n",
    "aa_df.reset_index(drop=True, inplace=True)\n",
    "aa_df"
   ]
  },
  {
   "cell_type": "code",
   "execution_count": 8,
   "metadata": {},
   "outputs": [
    {
     "data": {
      "text/html": [
       "<div>\n",
       "<style scoped>\n",
       "    .dataframe tbody tr th:only-of-type {\n",
       "        vertical-align: middle;\n",
       "    }\n",
       "\n",
       "    .dataframe tbody tr th {\n",
       "        vertical-align: top;\n",
       "    }\n",
       "\n",
       "    .dataframe thead th {\n",
       "        text-align: right;\n",
       "    }\n",
       "</style>\n",
       "<table border=\"1\" class=\"dataframe\">\n",
       "  <thead>\n",
       "    <tr style=\"text-align: right;\">\n",
       "      <th></th>\n",
       "      <th>Model Name</th>\n",
       "      <th>Release Date</th>\n",
       "      <th>USD per 1M Tokens</th>\n",
       "      <th>MMLU</th>\n",
       "      <th>GPQA Diamond</th>\n",
       "      <th>HumanEval</th>\n",
       "      <th>MATH-500</th>\n",
       "      <th>LMSys Chatbot Arena ELO</th>\n",
       "      <th>MATH 5</th>\n",
       "      <th>Tokens per Second</th>\n",
       "      <th>Prefill Latency (s)</th>\n",
       "      <th>Prompt Length (tk)</th>\n",
       "    </tr>\n",
       "  </thead>\n",
       "  <tbody>\n",
       "    <tr>\n",
       "      <th>0</th>\n",
       "      <td>GPT-3</td>\n",
       "      <td>2021-11-20</td>\n",
       "      <td>60.000</td>\n",
       "      <td>43.9</td>\n",
       "      <td>NaN</td>\n",
       "      <td>NaN</td>\n",
       "      <td>NaN</td>\n",
       "      <td>NaN</td>\n",
       "      <td>NaN</td>\n",
       "      <td>NaN</td>\n",
       "      <td>NaN</td>\n",
       "      <td>NaN</td>\n",
       "    </tr>\n",
       "    <tr>\n",
       "      <th>1</th>\n",
       "      <td>GPT-3</td>\n",
       "      <td>2022-08-31</td>\n",
       "      <td>60.000</td>\n",
       "      <td>43.9</td>\n",
       "      <td>NaN</td>\n",
       "      <td>NaN</td>\n",
       "      <td>NaN</td>\n",
       "      <td>NaN</td>\n",
       "      <td>NaN</td>\n",
       "      <td>NaN</td>\n",
       "      <td>NaN</td>\n",
       "      <td>NaN</td>\n",
       "    </tr>\n",
       "    <tr>\n",
       "      <th>2</th>\n",
       "      <td>GPT-3</td>\n",
       "      <td>2022-09-01</td>\n",
       "      <td>20.000</td>\n",
       "      <td>43.9</td>\n",
       "      <td>NaN</td>\n",
       "      <td>NaN</td>\n",
       "      <td>NaN</td>\n",
       "      <td>NaN</td>\n",
       "      <td>NaN</td>\n",
       "      <td>NaN</td>\n",
       "      <td>NaN</td>\n",
       "      <td>NaN</td>\n",
       "    </tr>\n",
       "    <tr>\n",
       "      <th>3</th>\n",
       "      <td>GPT-3.5</td>\n",
       "      <td>2022-11-30</td>\n",
       "      <td>20.000</td>\n",
       "      <td>64.8</td>\n",
       "      <td>NaN</td>\n",
       "      <td>NaN</td>\n",
       "      <td>NaN</td>\n",
       "      <td>NaN</td>\n",
       "      <td>NaN</td>\n",
       "      <td>NaN</td>\n",
       "      <td>NaN</td>\n",
       "      <td>NaN</td>\n",
       "    </tr>\n",
       "    <tr>\n",
       "      <th>4</th>\n",
       "      <td>GPT-3.5 Turbo</td>\n",
       "      <td>2023-03-06</td>\n",
       "      <td>2.000</td>\n",
       "      <td>68.0</td>\n",
       "      <td>NaN</td>\n",
       "      <td>NaN</td>\n",
       "      <td>NaN</td>\n",
       "      <td>1106.0</td>\n",
       "      <td>NaN</td>\n",
       "      <td>NaN</td>\n",
       "      <td>NaN</td>\n",
       "      <td>NaN</td>\n",
       "    </tr>\n",
       "    <tr>\n",
       "      <th>...</th>\n",
       "      <td>...</td>\n",
       "      <td>...</td>\n",
       "      <td>...</td>\n",
       "      <td>...</td>\n",
       "      <td>...</td>\n",
       "      <td>...</td>\n",
       "      <td>...</td>\n",
       "      <td>...</td>\n",
       "      <td>...</td>\n",
       "      <td>...</td>\n",
       "      <td>...</td>\n",
       "      <td>...</td>\n",
       "    </tr>\n",
       "    <tr>\n",
       "      <th>68</th>\n",
       "      <td>DeepSeek-R1</td>\n",
       "      <td>2025-01-20</td>\n",
       "      <td>0.960</td>\n",
       "      <td>NaN</td>\n",
       "      <td>71.7</td>\n",
       "      <td>98.0</td>\n",
       "      <td>96.0</td>\n",
       "      <td>1362.0</td>\n",
       "      <td>93.1</td>\n",
       "      <td>NaN</td>\n",
       "      <td>NaN</td>\n",
       "      <td>NaN</td>\n",
       "    </tr>\n",
       "    <tr>\n",
       "      <th>69</th>\n",
       "      <td>Mistral Small 3</td>\n",
       "      <td>2025-01-30</td>\n",
       "      <td>0.475</td>\n",
       "      <td>82.0</td>\n",
       "      <td>46.0</td>\n",
       "      <td>85.0</td>\n",
       "      <td>74.0</td>\n",
       "      <td>1210.0</td>\n",
       "      <td>45.0</td>\n",
       "      <td>NaN</td>\n",
       "      <td>NaN</td>\n",
       "      <td>NaN</td>\n",
       "    </tr>\n",
       "    <tr>\n",
       "      <th>70</th>\n",
       "      <td>o1-mini</td>\n",
       "      <td>2025-01-31</td>\n",
       "      <td>1.925</td>\n",
       "      <td>NaN</td>\n",
       "      <td>59.5</td>\n",
       "      <td>97.0</td>\n",
       "      <td>94.0</td>\n",
       "      <td>1308.0</td>\n",
       "      <td>84.3</td>\n",
       "      <td>NaN</td>\n",
       "      <td>NaN</td>\n",
       "      <td>NaN</td>\n",
       "    </tr>\n",
       "    <tr>\n",
       "      <th>71</th>\n",
       "      <td>o3-mini</td>\n",
       "      <td>2025-01-31</td>\n",
       "      <td>1.925</td>\n",
       "      <td>NaN</td>\n",
       "      <td>74.3</td>\n",
       "      <td>97.0</td>\n",
       "      <td>97.0</td>\n",
       "      <td>1306.0</td>\n",
       "      <td>95.2</td>\n",
       "      <td>NaN</td>\n",
       "      <td>NaN</td>\n",
       "      <td>NaN</td>\n",
       "    </tr>\n",
       "    <tr>\n",
       "      <th>72</th>\n",
       "      <td>Gemini 2.0 Flash</td>\n",
       "      <td>2025-02-05</td>\n",
       "      <td>0.175</td>\n",
       "      <td>88.0</td>\n",
       "      <td>62.0</td>\n",
       "      <td>90.0</td>\n",
       "      <td>93.0</td>\n",
       "      <td>1358.0</td>\n",
       "      <td>82.0</td>\n",
       "      <td>NaN</td>\n",
       "      <td>NaN</td>\n",
       "      <td>NaN</td>\n",
       "    </tr>\n",
       "  </tbody>\n",
       "</table>\n",
       "<p>73 rows × 12 columns</p>\n",
       "</div>"
      ],
      "text/plain": [
       "          Model Name Release Date  USD per 1M Tokens  MMLU  GPQA Diamond  \\\n",
       "0              GPT-3   2021-11-20             60.000  43.9           NaN   \n",
       "1              GPT-3   2022-08-31             60.000  43.9           NaN   \n",
       "2              GPT-3   2022-09-01             20.000  43.9           NaN   \n",
       "3            GPT-3.5   2022-11-30             20.000  64.8           NaN   \n",
       "4      GPT-3.5 Turbo   2023-03-06              2.000  68.0           NaN   \n",
       "..               ...          ...                ...   ...           ...   \n",
       "68       DeepSeek-R1   2025-01-20              0.960   NaN          71.7   \n",
       "69   Mistral Small 3   2025-01-30              0.475  82.0          46.0   \n",
       "70           o1-mini   2025-01-31              1.925   NaN          59.5   \n",
       "71           o3-mini   2025-01-31              1.925   NaN          74.3   \n",
       "72  Gemini 2.0 Flash   2025-02-05              0.175  88.0          62.0   \n",
       "\n",
       "    HumanEval  MATH-500  LMSys Chatbot Arena ELO  MATH 5  Tokens per Second  \\\n",
       "0         NaN       NaN                      NaN     NaN                NaN   \n",
       "1         NaN       NaN                      NaN     NaN                NaN   \n",
       "2         NaN       NaN                      NaN     NaN                NaN   \n",
       "3         NaN       NaN                      NaN     NaN                NaN   \n",
       "4         NaN       NaN                   1106.0     NaN                NaN   \n",
       "..        ...       ...                      ...     ...                ...   \n",
       "68       98.0      96.0                   1362.0    93.1                NaN   \n",
       "69       85.0      74.0                   1210.0    45.0                NaN   \n",
       "70       97.0      94.0                   1308.0    84.3                NaN   \n",
       "71       97.0      97.0                   1306.0    95.2                NaN   \n",
       "72       90.0      93.0                   1358.0    82.0                NaN   \n",
       "\n",
       "    Prefill Latency (s)  Prompt Length (tk)  \n",
       "0                   NaN                 NaN  \n",
       "1                   NaN                 NaN  \n",
       "2                   NaN                 NaN  \n",
       "3                   NaN                 NaN  \n",
       "4                   NaN                 NaN  \n",
       "..                  ...                 ...  \n",
       "68                  NaN                 NaN  \n",
       "69                  NaN                 NaN  \n",
       "70                  NaN                 NaN  \n",
       "71                  NaN                 NaN  \n",
       "72                  NaN                 NaN  \n",
       "\n",
       "[73 rows x 12 columns]"
      ]
     },
     "execution_count": 8,
     "metadata": {},
     "output_type": "execute_result"
    }
   ],
   "source": [
    "# Rename all instances of 'GPT-3 175B (davinci)' to 'GPT-3'\n",
    "aa_df.loc[aa_df['Model Name'] == 'GPT-3 175B (davinci)', 'Model Name'] = 'GPT-3'\n",
    "aa_df\n"
   ]
  },
  {
   "cell_type": "code",
   "execution_count": 9,
   "metadata": {},
   "outputs": [
    {
     "data": {
      "text/plain": [
       "0                GPT-3 (2021-11)\n",
       "1                GPT-3 (2022-08)\n",
       "2                GPT-3 (2022-09)\n",
       "3              GPT-3.5 (2022-11)\n",
       "4        GPT-3.5 Turbo (2023-03)\n",
       "                 ...            \n",
       "68         DeepSeek-R1 (2025-01)\n",
       "69     Mistral Small 3 (2025-01)\n",
       "70             o1-mini (2025-01)\n",
       "71             o3-mini (2025-01)\n",
       "72    Gemini 2.0 Flash (2025-02)\n",
       "Name: Model Name and Date, Length: 73, dtype: object"
      ]
     },
     "execution_count": 9,
     "metadata": {},
     "output_type": "execute_result"
    }
   ],
   "source": [
    "aa_df['Model Name and Date'] = aa_df['Model Name'] + ' (' + aa_df['Release Date'].dt.strftime('%Y-%m') + ')'\n",
    "aa_df['Model Name and Date']"
   ]
  },
  {
   "cell_type": "code",
   "execution_count": 10,
   "metadata": {},
   "outputs": [
    {
     "data": {
      "text/plain": [
       "True"
      ]
     },
     "execution_count": 10,
     "metadata": {},
     "output_type": "execute_result"
    }
   ],
   "source": [
    "'o1' in list(aa_df['Model Name'])"
   ]
  },
  {
   "cell_type": "code",
   "execution_count": 11,
   "metadata": {},
   "outputs": [
    {
     "data": {
      "text/plain": [
       "False"
      ]
     },
     "execution_count": 11,
     "metadata": {},
     "output_type": "execute_result"
    }
   ],
   "source": [
    "# Exclude reasoning models\n",
    "if exclude_reasoning_models:\n",
    "    aa_df = aa_df[~aa_df['Model Name'].isin(reasoning_model_names)]\n",
    "'o1' in aa_df['Model Name']"
   ]
  },
  {
   "cell_type": "markdown",
   "metadata": {},
   "source": [
    "## Explore the data"
   ]
  },
  {
   "cell_type": "code",
   "execution_count": 12,
   "metadata": {},
   "outputs": [
    {
     "data": {
      "text/plain": [
       "61"
      ]
     },
     "execution_count": 12,
     "metadata": {},
     "output_type": "execute_result"
    }
   ],
   "source": [
    "len(aa_df['Model Name'].unique())"
   ]
  },
  {
   "cell_type": "markdown",
   "metadata": {},
   "source": [
    "### Performance"
   ]
  },
  {
   "cell_type": "code",
   "execution_count": 13,
   "metadata": {},
   "outputs": [
    {
     "name": "stdout",
     "output_type": "stream",
     "text": [
      "['GPT-3.5 Turbo (2023-03)', 'GPT-4 Turbo (2023-11)', 'GPT-3 (2021-11)', 'GPT-4o-2024-08 (2024-08)', 'Claude-3.5-Sonnet-2024-06 (2024-06)', 'GPT-4-0314 (2023-03)', 'GPT-3.5 (2022-11)']\n"
     ]
    },
    {
     "data": {
      "application/vnd.plotly.v1+json": {
       "config": {
        "plotlyServerURL": "https://plot.ly"
       },
       "data": [
        {
         "customdata": [
          [
           "GPT-3"
          ],
          [
           "GPT-3"
          ],
          [
           "GPT-3"
          ],
          [
           "GPT-3.5"
          ],
          [
           "GPT-3.5 Turbo"
          ],
          [
           "GPT-4-0314"
          ],
          [
           "GPT-4-0613"
          ],
          [
           "GPT-3.5-Turbo-2023-06"
          ],
          [
           "Llama-2-Chat-7B"
          ],
          [
           "Llama-2-Chat-13B"
          ],
          [
           "GPT-3.5-Turbo-2023-11"
          ],
          [
           "GPT-4 Turbo"
          ],
          [
           "Llama 2-70B Chat"
          ],
          [
           "Llama 2-7B"
          ],
          [
           "Llama 2-13B"
          ],
          [
           "GPT-3"
          ],
          [
           "GPT-4-0125"
          ],
          [
           "GPT-3.5-Turbo-2024-01"
          ],
          [
           "Mistral-Large-2024-02"
          ],
          [
           "Mistral-Small-2024-02"
          ],
          [
           "Claude-3-Haiku"
          ],
          [
           "Claude-3-Sonnet"
          ],
          [
           "Claude-3-Opus"
          ],
          [
           "Llama 2-13B"
          ],
          [
           "Llama 2-7B"
          ],
          [
           "Mistral-8x22"
          ],
          [
           "Llama-3-Instruct-70B"
          ],
          [
           "Llama-3-Instruct-8B"
          ],
          [
           "Gemini-1.5-Flash-2024-05"
          ],
          [
           "GPT-4o-2024-05"
          ],
          [
           "Gemini-1.5-Pro-2024-05"
          ],
          [
           "Claude-3.5-Sonnet-2024-06"
          ],
          [
           "Gemma-2-27B"
          ],
          [
           "Gemma-2-9B"
          ],
          [
           "Mistral-NeMo"
          ],
          [
           "GPT-4o-mini"
          ],
          [
           "Llama-3.1-Instruct-8B"
          ],
          [
           "Llama-3.1-Instruct-70B"
          ],
          [
           "Llama-3.1-Instruct-405B"
          ],
          [
           "Mistral-Large-2-2024-07"
          ],
          [
           "GPT-4o-2024-08"
          ],
          [
           "Claude 2"
          ],
          [
           "Gemini 1.0 Pro"
          ],
          [
           "Claude Instant"
          ],
          [
           "Claude 2.1"
          ],
          [
           "Cohere Command"
          ],
          [
           "Command R"
          ],
          [
           "Command R+"
          ],
          [
           "Cohere Command Light"
          ],
          [
           "DeepSeek-Coder-V2 236B"
          ],
          [
           "Jamba 1.5-Large"
          ],
          [
           "Command R+"
          ],
          [
           "Mistral 7B"
          ],
          [
           "Reka Core"
          ],
          [
           "Llama-3.2-Instruct-1B"
          ],
          [
           "Gemini-1.5-Pro-2024-09"
          ],
          [
           "Llama-3.2-Instruct-3B"
          ],
          [
           "Gemini-1.5-Flash-2024-09"
          ],
          [
           "Gemini-1.5-Flash-8B"
          ],
          [
           "Claude-3.5-Sonnet-2024-10"
          ],
          [
           "Claude-3.5-Haiku"
          ],
          [
           "Mistral-Large-2-2024-11"
          ],
          [
           "GPT-4o-2024-11"
          ],
          [
           "Phi 4"
          ],
          [
           "DeepSeek-V3"
          ],
          [
           "Mistral Small 3"
          ],
          [
           "Gemini 2.0 Flash"
          ]
         ],
         "hovertemplate": "Release Date=%{x}<br>MMLU=%{y}<br>Model Name=%{customdata[0]}<extra></extra>",
         "legendgroup": "",
         "marker": {
          "color": "lightgray",
          "symbol": "circle"
         },
         "mode": "markers",
         "name": "",
         "orientation": "v",
         "showlegend": false,
         "type": "scatter",
         "x": [
          "2021-11-20T00:00:00",
          "2022-08-31T00:00:00",
          "2022-09-01T00:00:00",
          "2022-11-30T00:00:00",
          "2023-03-06T00:00:00",
          "2023-03-14T00:00:00",
          "2023-06-13T00:00:00",
          "2023-06-13T00:00:00",
          "2023-07-18T00:00:00",
          "2023-07-18T00:00:00",
          "2023-11-06T00:00:00",
          "2023-11-06T00:00:00",
          "2023-12-01T00:00:00",
          "2023-12-01T00:00:00",
          "2023-12-08T00:00:00",
          "2024-01-04T00:00:00",
          "2024-01-25T00:00:00",
          "2024-01-25T00:00:00",
          "2024-02-26T00:00:00",
          "2024-02-26T00:00:00",
          "2024-03-04T00:00:00",
          "2024-03-04T00:00:00",
          "2024-03-04T00:00:00",
          "2024-04-14T00:00:00",
          "2024-04-14T00:00:00",
          "2024-04-17T00:00:00",
          "2024-04-18T00:00:00",
          "2024-04-18T00:00:00",
          "2024-05-10T00:00:00",
          "2024-05-13T00:00:00",
          "2024-05-23T00:00:00",
          "2024-06-20T00:00:00",
          "2024-06-24T00:00:00",
          "2024-06-24T00:00:00",
          "2024-07-18T00:00:00",
          "2024-07-18T00:00:00",
          "2024-07-23T00:00:00",
          "2024-07-23T00:00:00",
          "2024-07-23T00:00:00",
          "2024-07-24T00:00:00",
          "2024-08-06T00:00:00",
          "2024-08-12T00:00:00",
          "2024-08-12T00:00:00",
          "2024-08-12T00:00:00",
          "2024-08-12T00:00:00",
          "2024-08-13T00:00:00",
          "2024-08-13T00:00:00",
          "2024-08-13T00:00:00",
          "2024-08-13T00:00:00",
          "2024-09-11T00:00:00",
          "2024-09-12T00:00:00",
          "2024-09-13T00:00:00",
          "2024-09-14T00:00:00",
          "2024-09-14T00:00:00",
          "2024-09-24T00:00:00",
          "2024-09-24T00:00:00",
          "2024-09-24T00:00:00",
          "2024-09-24T00:00:00",
          "2024-10-03T00:00:00",
          "2024-10-22T00:00:00",
          "2024-10-22T00:00:00",
          "2024-11-18T00:00:00",
          "2024-11-20T00:00:00",
          "2024-12-13T00:00:00",
          "2024-12-26T00:00:00",
          "2025-01-30T00:00:00",
          "2025-02-05T00:00:00"
         ],
         "xaxis": "x",
         "y": [
          43.9,
          43.9,
          43.9,
          64.8,
          68,
          86,
          null,
          68,
          13,
          45,
          68,
          87,
          68.9,
          45.3,
          54.8,
          63.1,
          null,
          68,
          69,
          69,
          71,
          77,
          84,
          54.8,
          45.3,
          76,
          79,
          64,
          79,
          87,
          86,
          88,
          77,
          73,
          66,
          82,
          71,
          84,
          87,
          85,
          89,
          78.5,
          71.8,
          null,
          null,
          null,
          null,
          75.7,
          null,
          79.2,
          80,
          75.7,
          60.1,
          83.2,
          35,
          86,
          64,
          75,
          75,
          89,
          81,
          85,
          86,
          85,
          null,
          82,
          88
         ],
         "yaxis": "y"
        },
        {
         "hovertemplate": "%{text}<extra></extra>",
         "line": {
          "color": "red"
         },
         "mode": "lines+markers",
         "name": "Top Model",
         "text": [
          "GPT-3",
          "GPT-3.5",
          "GPT-3.5 Turbo",
          "GPT-4-0314",
          "GPT-4 Turbo",
          "Claude-3.5-Sonnet-2024-06",
          "GPT-4o-2024-08"
         ],
         "type": "scatter",
         "x": [
          "2021-11-20T00:00:00",
          "2022-11-30T00:00:00",
          "2023-03-06T00:00:00",
          "2023-03-14T00:00:00",
          "2023-11-06T00:00:00",
          "2024-06-20T00:00:00",
          "2024-08-06T00:00:00"
         ],
         "y": [
          43.9,
          64.8,
          68,
          86,
          87,
          88,
          89
         ]
        }
       ],
       "layout": {
        "height": 400,
        "legend": {
         "tracegroupgap": 0
        },
        "template": {
         "data": {
          "bar": [
           {
            "error_x": {
             "color": "#2a3f5f"
            },
            "error_y": {
             "color": "#2a3f5f"
            },
            "marker": {
             "line": {
              "color": "white",
              "width": 0.5
             },
             "pattern": {
              "fillmode": "overlay",
              "size": 10,
              "solidity": 0.2
             }
            },
            "type": "bar"
           }
          ],
          "barpolar": [
           {
            "marker": {
             "line": {
              "color": "white",
              "width": 0.5
             },
             "pattern": {
              "fillmode": "overlay",
              "size": 10,
              "solidity": 0.2
             }
            },
            "type": "barpolar"
           }
          ],
          "carpet": [
           {
            "aaxis": {
             "endlinecolor": "#2a3f5f",
             "gridcolor": "#C8D4E3",
             "linecolor": "#C8D4E3",
             "minorgridcolor": "#C8D4E3",
             "startlinecolor": "#2a3f5f"
            },
            "baxis": {
             "endlinecolor": "#2a3f5f",
             "gridcolor": "#C8D4E3",
             "linecolor": "#C8D4E3",
             "minorgridcolor": "#C8D4E3",
             "startlinecolor": "#2a3f5f"
            },
            "type": "carpet"
           }
          ],
          "choropleth": [
           {
            "colorbar": {
             "outlinewidth": 0,
             "ticks": ""
            },
            "type": "choropleth"
           }
          ],
          "contour": [
           {
            "colorbar": {
             "outlinewidth": 0,
             "ticks": ""
            },
            "colorscale": [
             [
              0,
              "#0d0887"
             ],
             [
              0.1111111111111111,
              "#46039f"
             ],
             [
              0.2222222222222222,
              "#7201a8"
             ],
             [
              0.3333333333333333,
              "#9c179e"
             ],
             [
              0.4444444444444444,
              "#bd3786"
             ],
             [
              0.5555555555555556,
              "#d8576b"
             ],
             [
              0.6666666666666666,
              "#ed7953"
             ],
             [
              0.7777777777777778,
              "#fb9f3a"
             ],
             [
              0.8888888888888888,
              "#fdca26"
             ],
             [
              1,
              "#f0f921"
             ]
            ],
            "type": "contour"
           }
          ],
          "contourcarpet": [
           {
            "colorbar": {
             "outlinewidth": 0,
             "ticks": ""
            },
            "type": "contourcarpet"
           }
          ],
          "heatmap": [
           {
            "colorbar": {
             "outlinewidth": 0,
             "ticks": ""
            },
            "colorscale": [
             [
              0,
              "#0d0887"
             ],
             [
              0.1111111111111111,
              "#46039f"
             ],
             [
              0.2222222222222222,
              "#7201a8"
             ],
             [
              0.3333333333333333,
              "#9c179e"
             ],
             [
              0.4444444444444444,
              "#bd3786"
             ],
             [
              0.5555555555555556,
              "#d8576b"
             ],
             [
              0.6666666666666666,
              "#ed7953"
             ],
             [
              0.7777777777777778,
              "#fb9f3a"
             ],
             [
              0.8888888888888888,
              "#fdca26"
             ],
             [
              1,
              "#f0f921"
             ]
            ],
            "type": "heatmap"
           }
          ],
          "heatmapgl": [
           {
            "colorbar": {
             "outlinewidth": 0,
             "ticks": ""
            },
            "colorscale": [
             [
              0,
              "#0d0887"
             ],
             [
              0.1111111111111111,
              "#46039f"
             ],
             [
              0.2222222222222222,
              "#7201a8"
             ],
             [
              0.3333333333333333,
              "#9c179e"
             ],
             [
              0.4444444444444444,
              "#bd3786"
             ],
             [
              0.5555555555555556,
              "#d8576b"
             ],
             [
              0.6666666666666666,
              "#ed7953"
             ],
             [
              0.7777777777777778,
              "#fb9f3a"
             ],
             [
              0.8888888888888888,
              "#fdca26"
             ],
             [
              1,
              "#f0f921"
             ]
            ],
            "type": "heatmapgl"
           }
          ],
          "histogram": [
           {
            "marker": {
             "pattern": {
              "fillmode": "overlay",
              "size": 10,
              "solidity": 0.2
             }
            },
            "type": "histogram"
           }
          ],
          "histogram2d": [
           {
            "colorbar": {
             "outlinewidth": 0,
             "ticks": ""
            },
            "colorscale": [
             [
              0,
              "#0d0887"
             ],
             [
              0.1111111111111111,
              "#46039f"
             ],
             [
              0.2222222222222222,
              "#7201a8"
             ],
             [
              0.3333333333333333,
              "#9c179e"
             ],
             [
              0.4444444444444444,
              "#bd3786"
             ],
             [
              0.5555555555555556,
              "#d8576b"
             ],
             [
              0.6666666666666666,
              "#ed7953"
             ],
             [
              0.7777777777777778,
              "#fb9f3a"
             ],
             [
              0.8888888888888888,
              "#fdca26"
             ],
             [
              1,
              "#f0f921"
             ]
            ],
            "type": "histogram2d"
           }
          ],
          "histogram2dcontour": [
           {
            "colorbar": {
             "outlinewidth": 0,
             "ticks": ""
            },
            "colorscale": [
             [
              0,
              "#0d0887"
             ],
             [
              0.1111111111111111,
              "#46039f"
             ],
             [
              0.2222222222222222,
              "#7201a8"
             ],
             [
              0.3333333333333333,
              "#9c179e"
             ],
             [
              0.4444444444444444,
              "#bd3786"
             ],
             [
              0.5555555555555556,
              "#d8576b"
             ],
             [
              0.6666666666666666,
              "#ed7953"
             ],
             [
              0.7777777777777778,
              "#fb9f3a"
             ],
             [
              0.8888888888888888,
              "#fdca26"
             ],
             [
              1,
              "#f0f921"
             ]
            ],
            "type": "histogram2dcontour"
           }
          ],
          "mesh3d": [
           {
            "colorbar": {
             "outlinewidth": 0,
             "ticks": ""
            },
            "type": "mesh3d"
           }
          ],
          "parcoords": [
           {
            "line": {
             "colorbar": {
              "outlinewidth": 0,
              "ticks": ""
             }
            },
            "type": "parcoords"
           }
          ],
          "pie": [
           {
            "automargin": true,
            "type": "pie"
           }
          ],
          "scatter": [
           {
            "fillpattern": {
             "fillmode": "overlay",
             "size": 10,
             "solidity": 0.2
            },
            "type": "scatter"
           }
          ],
          "scatter3d": [
           {
            "line": {
             "colorbar": {
              "outlinewidth": 0,
              "ticks": ""
             }
            },
            "marker": {
             "colorbar": {
              "outlinewidth": 0,
              "ticks": ""
             }
            },
            "type": "scatter3d"
           }
          ],
          "scattercarpet": [
           {
            "marker": {
             "colorbar": {
              "outlinewidth": 0,
              "ticks": ""
             }
            },
            "type": "scattercarpet"
           }
          ],
          "scattergeo": [
           {
            "marker": {
             "colorbar": {
              "outlinewidth": 0,
              "ticks": ""
             }
            },
            "type": "scattergeo"
           }
          ],
          "scattergl": [
           {
            "marker": {
             "colorbar": {
              "outlinewidth": 0,
              "ticks": ""
             }
            },
            "type": "scattergl"
           }
          ],
          "scattermapbox": [
           {
            "marker": {
             "colorbar": {
              "outlinewidth": 0,
              "ticks": ""
             }
            },
            "type": "scattermapbox"
           }
          ],
          "scatterpolar": [
           {
            "marker": {
             "colorbar": {
              "outlinewidth": 0,
              "ticks": ""
             }
            },
            "type": "scatterpolar"
           }
          ],
          "scatterpolargl": [
           {
            "marker": {
             "colorbar": {
              "outlinewidth": 0,
              "ticks": ""
             }
            },
            "type": "scatterpolargl"
           }
          ],
          "scatterternary": [
           {
            "marker": {
             "colorbar": {
              "outlinewidth": 0,
              "ticks": ""
             }
            },
            "type": "scatterternary"
           }
          ],
          "surface": [
           {
            "colorbar": {
             "outlinewidth": 0,
             "ticks": ""
            },
            "colorscale": [
             [
              0,
              "#0d0887"
             ],
             [
              0.1111111111111111,
              "#46039f"
             ],
             [
              0.2222222222222222,
              "#7201a8"
             ],
             [
              0.3333333333333333,
              "#9c179e"
             ],
             [
              0.4444444444444444,
              "#bd3786"
             ],
             [
              0.5555555555555556,
              "#d8576b"
             ],
             [
              0.6666666666666666,
              "#ed7953"
             ],
             [
              0.7777777777777778,
              "#fb9f3a"
             ],
             [
              0.8888888888888888,
              "#fdca26"
             ],
             [
              1,
              "#f0f921"
             ]
            ],
            "type": "surface"
           }
          ],
          "table": [
           {
            "cells": {
             "fill": {
              "color": "#EBF0F8"
             },
             "line": {
              "color": "white"
             }
            },
            "header": {
             "fill": {
              "color": "#C8D4E3"
             },
             "line": {
              "color": "white"
             }
            },
            "type": "table"
           }
          ]
         },
         "layout": {
          "annotationdefaults": {
           "arrowcolor": "#2a3f5f",
           "arrowhead": 0,
           "arrowwidth": 1
          },
          "autotypenumbers": "strict",
          "coloraxis": {
           "colorbar": {
            "outlinewidth": 0,
            "ticks": ""
           }
          },
          "colorscale": {
           "diverging": [
            [
             0,
             "#8e0152"
            ],
            [
             0.1,
             "#c51b7d"
            ],
            [
             0.2,
             "#de77ae"
            ],
            [
             0.3,
             "#f1b6da"
            ],
            [
             0.4,
             "#fde0ef"
            ],
            [
             0.5,
             "#f7f7f7"
            ],
            [
             0.6,
             "#e6f5d0"
            ],
            [
             0.7,
             "#b8e186"
            ],
            [
             0.8,
             "#7fbc41"
            ],
            [
             0.9,
             "#4d9221"
            ],
            [
             1,
             "#276419"
            ]
           ],
           "sequential": [
            [
             0,
             "#0d0887"
            ],
            [
             0.1111111111111111,
             "#46039f"
            ],
            [
             0.2222222222222222,
             "#7201a8"
            ],
            [
             0.3333333333333333,
             "#9c179e"
            ],
            [
             0.4444444444444444,
             "#bd3786"
            ],
            [
             0.5555555555555556,
             "#d8576b"
            ],
            [
             0.6666666666666666,
             "#ed7953"
            ],
            [
             0.7777777777777778,
             "#fb9f3a"
            ],
            [
             0.8888888888888888,
             "#fdca26"
            ],
            [
             1,
             "#f0f921"
            ]
           ],
           "sequentialminus": [
            [
             0,
             "#0d0887"
            ],
            [
             0.1111111111111111,
             "#46039f"
            ],
            [
             0.2222222222222222,
             "#7201a8"
            ],
            [
             0.3333333333333333,
             "#9c179e"
            ],
            [
             0.4444444444444444,
             "#bd3786"
            ],
            [
             0.5555555555555556,
             "#d8576b"
            ],
            [
             0.6666666666666666,
             "#ed7953"
            ],
            [
             0.7777777777777778,
             "#fb9f3a"
            ],
            [
             0.8888888888888888,
             "#fdca26"
            ],
            [
             1,
             "#f0f921"
            ]
           ]
          },
          "colorway": [
           "#636efa",
           "#EF553B",
           "#00cc96",
           "#ab63fa",
           "#FFA15A",
           "#19d3f3",
           "#FF6692",
           "#B6E880",
           "#FF97FF",
           "#FECB52"
          ],
          "font": {
           "color": "#2a3f5f"
          },
          "geo": {
           "bgcolor": "white",
           "lakecolor": "white",
           "landcolor": "white",
           "showlakes": true,
           "showland": true,
           "subunitcolor": "#C8D4E3"
          },
          "hoverlabel": {
           "align": "left"
          },
          "hovermode": "closest",
          "mapbox": {
           "style": "light"
          },
          "paper_bgcolor": "white",
          "plot_bgcolor": "white",
          "polar": {
           "angularaxis": {
            "gridcolor": "#EBF0F8",
            "linecolor": "#EBF0F8",
            "ticks": ""
           },
           "bgcolor": "white",
           "radialaxis": {
            "gridcolor": "#EBF0F8",
            "linecolor": "#EBF0F8",
            "ticks": ""
           }
          },
          "scene": {
           "xaxis": {
            "backgroundcolor": "white",
            "gridcolor": "#DFE8F3",
            "gridwidth": 2,
            "linecolor": "#EBF0F8",
            "showbackground": true,
            "ticks": "",
            "zerolinecolor": "#EBF0F8"
           },
           "yaxis": {
            "backgroundcolor": "white",
            "gridcolor": "#DFE8F3",
            "gridwidth": 2,
            "linecolor": "#EBF0F8",
            "showbackground": true,
            "ticks": "",
            "zerolinecolor": "#EBF0F8"
           },
           "zaxis": {
            "backgroundcolor": "white",
            "gridcolor": "#DFE8F3",
            "gridwidth": 2,
            "linecolor": "#EBF0F8",
            "showbackground": true,
            "ticks": "",
            "zerolinecolor": "#EBF0F8"
           }
          },
          "shapedefaults": {
           "line": {
            "color": "#2a3f5f"
           }
          },
          "ternary": {
           "aaxis": {
            "gridcolor": "#DFE8F3",
            "linecolor": "#A2B1C6",
            "ticks": ""
           },
           "baxis": {
            "gridcolor": "#DFE8F3",
            "linecolor": "#A2B1C6",
            "ticks": ""
           },
           "bgcolor": "white",
           "caxis": {
            "gridcolor": "#DFE8F3",
            "linecolor": "#A2B1C6",
            "ticks": ""
           }
          },
          "title": {
           "x": 0.05
          },
          "xaxis": {
           "automargin": true,
           "gridcolor": "#EBF0F8",
           "linecolor": "#EBF0F8",
           "ticks": "",
           "title": {
            "standoff": 15
           },
           "zerolinecolor": "#EBF0F8",
           "zerolinewidth": 2
          },
          "yaxis": {
           "automargin": true,
           "gridcolor": "#EBF0F8",
           "linecolor": "#EBF0F8",
           "ticks": "",
           "title": {
            "standoff": 15
           },
           "zerolinecolor": "#EBF0F8",
           "zerolinewidth": 2
          }
         }
        },
        "title": {
         "text": "MMLU Performance over time"
        },
        "width": 800,
        "xaxis": {
         "anchor": "y",
         "domain": [
          0,
          1
         ],
         "title": {
          "text": "Release Date"
         }
        },
        "yaxis": {
         "anchor": "x",
         "domain": [
          0,
          1
         ],
         "title": {
          "text": "MMLU"
         }
        }
       }
      }
     },
     "metadata": {},
     "output_type": "display_data"
    },
    {
     "name": "stdout",
     "output_type": "stream",
     "text": [
      "['Gemini-1.5-Pro-2024-09 (2024-09)', 'Gemini 2.0 Flash (2025-02)', 'GPT-4 Turbo (2023-11)', 'GPT-3 (2021-11)', 'Claude-3.5-Sonnet-2024-06 (2024-06)', 'GPT-4-0314 (2023-03)', 'GPT-4o-2024-05 (2024-05)']\n"
     ]
    },
    {
     "data": {
      "application/vnd.plotly.v1+json": {
       "config": {
        "plotlyServerURL": "https://plot.ly"
       },
       "data": [
        {
         "customdata": [
          [
           "GPT-3"
          ],
          [
           "GPT-3"
          ],
          [
           "GPT-3"
          ],
          [
           "GPT-3.5"
          ],
          [
           "GPT-3.5 Turbo"
          ],
          [
           "GPT-4-0314"
          ],
          [
           "GPT-4-0613"
          ],
          [
           "GPT-3.5-Turbo-2023-06"
          ],
          [
           "Llama-2-Chat-7B"
          ],
          [
           "Llama-2-Chat-13B"
          ],
          [
           "GPT-3.5-Turbo-2023-11"
          ],
          [
           "GPT-4 Turbo"
          ],
          [
           "Llama 2-70B Chat"
          ],
          [
           "Llama 2-7B"
          ],
          [
           "Llama 2-13B"
          ],
          [
           "GPT-3"
          ],
          [
           "GPT-4-0125"
          ],
          [
           "GPT-3.5-Turbo-2024-01"
          ],
          [
           "Mistral-Large-2024-02"
          ],
          [
           "Mistral-Small-2024-02"
          ],
          [
           "Claude-3-Haiku"
          ],
          [
           "Claude-3-Sonnet"
          ],
          [
           "Claude-3-Opus"
          ],
          [
           "Llama 2-13B"
          ],
          [
           "Llama 2-7B"
          ],
          [
           "Mistral-8x22"
          ],
          [
           "Llama-3-Instruct-70B"
          ],
          [
           "Llama-3-Instruct-8B"
          ],
          [
           "Gemini-1.5-Flash-2024-05"
          ],
          [
           "GPT-4o-2024-05"
          ],
          [
           "Gemini-1.5-Pro-2024-05"
          ],
          [
           "Claude-3.5-Sonnet-2024-06"
          ],
          [
           "Gemma-2-27B"
          ],
          [
           "Gemma-2-9B"
          ],
          [
           "Mistral-NeMo"
          ],
          [
           "GPT-4o-mini"
          ],
          [
           "Llama-3.1-Instruct-8B"
          ],
          [
           "Llama-3.1-Instruct-70B"
          ],
          [
           "Llama-3.1-Instruct-405B"
          ],
          [
           "Mistral-Large-2-2024-07"
          ],
          [
           "GPT-4o-2024-08"
          ],
          [
           "Claude 2"
          ],
          [
           "Gemini 1.0 Pro"
          ],
          [
           "Claude Instant"
          ],
          [
           "Claude 2.1"
          ],
          [
           "Cohere Command"
          ],
          [
           "Command R"
          ],
          [
           "Command R+"
          ],
          [
           "Cohere Command Light"
          ],
          [
           "DeepSeek-Coder-V2 236B"
          ],
          [
           "Jamba 1.5-Large"
          ],
          [
           "Command R+"
          ],
          [
           "Mistral 7B"
          ],
          [
           "Reka Core"
          ],
          [
           "Llama-3.2-Instruct-1B"
          ],
          [
           "Gemini-1.5-Pro-2024-09"
          ],
          [
           "Llama-3.2-Instruct-3B"
          ],
          [
           "Gemini-1.5-Flash-2024-09"
          ],
          [
           "Gemini-1.5-Flash-8B"
          ],
          [
           "Claude-3.5-Sonnet-2024-10"
          ],
          [
           "Claude-3.5-Haiku"
          ],
          [
           "Mistral-Large-2-2024-11"
          ],
          [
           "GPT-4o-2024-11"
          ],
          [
           "Phi 4"
          ],
          [
           "DeepSeek-V3"
          ],
          [
           "Mistral Small 3"
          ],
          [
           "Gemini 2.0 Flash"
          ]
         ],
         "hovertemplate": "Release Date=%{x}<br>GPQA Diamond=%{y}<br>Model Name=%{customdata[0]}<extra></extra>",
         "legendgroup": "",
         "marker": {
          "color": "lightgray",
          "symbol": "circle"
         },
         "mode": "markers",
         "name": "",
         "orientation": "v",
         "showlegend": false,
         "type": "scatter",
         "x": [
          "2021-11-20T00:00:00",
          "2022-08-31T00:00:00",
          "2022-09-01T00:00:00",
          "2022-11-30T00:00:00",
          "2023-03-06T00:00:00",
          "2023-03-14T00:00:00",
          "2023-06-13T00:00:00",
          "2023-06-13T00:00:00",
          "2023-07-18T00:00:00",
          "2023-07-18T00:00:00",
          "2023-11-06T00:00:00",
          "2023-11-06T00:00:00",
          "2023-12-01T00:00:00",
          "2023-12-01T00:00:00",
          "2023-12-08T00:00:00",
          "2024-01-04T00:00:00",
          "2024-01-25T00:00:00",
          "2024-01-25T00:00:00",
          "2024-02-26T00:00:00",
          "2024-02-26T00:00:00",
          "2024-03-04T00:00:00",
          "2024-03-04T00:00:00",
          "2024-03-04T00:00:00",
          "2024-04-14T00:00:00",
          "2024-04-14T00:00:00",
          "2024-04-17T00:00:00",
          "2024-04-18T00:00:00",
          "2024-04-18T00:00:00",
          "2024-05-10T00:00:00",
          "2024-05-13T00:00:00",
          "2024-05-23T00:00:00",
          "2024-06-20T00:00:00",
          "2024-06-24T00:00:00",
          "2024-06-24T00:00:00",
          "2024-07-18T00:00:00",
          "2024-07-18T00:00:00",
          "2024-07-23T00:00:00",
          "2024-07-23T00:00:00",
          "2024-07-23T00:00:00",
          "2024-07-24T00:00:00",
          "2024-08-06T00:00:00",
          "2024-08-12T00:00:00",
          "2024-08-12T00:00:00",
          "2024-08-12T00:00:00",
          "2024-08-12T00:00:00",
          "2024-08-13T00:00:00",
          "2024-08-13T00:00:00",
          "2024-08-13T00:00:00",
          "2024-08-13T00:00:00",
          "2024-09-11T00:00:00",
          "2024-09-12T00:00:00",
          "2024-09-13T00:00:00",
          "2024-09-14T00:00:00",
          "2024-09-14T00:00:00",
          "2024-09-24T00:00:00",
          "2024-09-24T00:00:00",
          "2024-09-24T00:00:00",
          "2024-09-24T00:00:00",
          "2024-10-03T00:00:00",
          "2024-10-22T00:00:00",
          "2024-10-22T00:00:00",
          "2024-11-18T00:00:00",
          "2024-11-20T00:00:00",
          "2024-12-13T00:00:00",
          "2024-12-26T00:00:00",
          "2025-01-30T00:00:00",
          "2025-02-05T00:00:00"
         ],
         "xaxis": "x",
         "y": [
          null,
          null,
          null,
          null,
          null,
          33,
          31,
          28.8,
          6,
          19,
          30,
          50,
          26,
          null,
          null,
          null,
          42,
          30,
          36,
          31,
          33,
          37,
          50,
          null,
          null,
          37,
          39,
          30,
          39,
          53,
          46,
          56,
          39,
          31,
          33,
          43,
          27,
          43,
          50,
          48,
          52,
          35,
          34.4,
          null,
          36,
          null,
          null,
          34,
          null,
          null,
          43,
          34,
          14,
          null,
          14,
          61,
          21,
          45,
          30,
          58,
          37,
          47,
          54,
          53,
          57,
          46,
          62
         ],
         "yaxis": "y"
        },
        {
         "hovertemplate": "%{text}<extra></extra>",
         "line": {
          "color": "red"
         },
         "mode": "lines+markers",
         "name": "Top Model",
         "text": [
          "GPT-3",
          "GPT-4-0314",
          "GPT-4 Turbo",
          "GPT-4o-2024-05",
          "Claude-3.5-Sonnet-2024-06",
          "Gemini-1.5-Pro-2024-09",
          "Gemini 2.0 Flash"
         ],
         "type": "scatter",
         "x": [
          "2021-11-20T00:00:00",
          "2023-03-14T00:00:00",
          "2023-11-06T00:00:00",
          "2024-05-13T00:00:00",
          "2024-06-20T00:00:00",
          "2024-09-24T00:00:00",
          "2025-02-05T00:00:00"
         ],
         "y": [
          null,
          33,
          50,
          53,
          56,
          61,
          62
         ]
        }
       ],
       "layout": {
        "height": 400,
        "legend": {
         "tracegroupgap": 0
        },
        "template": {
         "data": {
          "bar": [
           {
            "error_x": {
             "color": "#2a3f5f"
            },
            "error_y": {
             "color": "#2a3f5f"
            },
            "marker": {
             "line": {
              "color": "white",
              "width": 0.5
             },
             "pattern": {
              "fillmode": "overlay",
              "size": 10,
              "solidity": 0.2
             }
            },
            "type": "bar"
           }
          ],
          "barpolar": [
           {
            "marker": {
             "line": {
              "color": "white",
              "width": 0.5
             },
             "pattern": {
              "fillmode": "overlay",
              "size": 10,
              "solidity": 0.2
             }
            },
            "type": "barpolar"
           }
          ],
          "carpet": [
           {
            "aaxis": {
             "endlinecolor": "#2a3f5f",
             "gridcolor": "#C8D4E3",
             "linecolor": "#C8D4E3",
             "minorgridcolor": "#C8D4E3",
             "startlinecolor": "#2a3f5f"
            },
            "baxis": {
             "endlinecolor": "#2a3f5f",
             "gridcolor": "#C8D4E3",
             "linecolor": "#C8D4E3",
             "minorgridcolor": "#C8D4E3",
             "startlinecolor": "#2a3f5f"
            },
            "type": "carpet"
           }
          ],
          "choropleth": [
           {
            "colorbar": {
             "outlinewidth": 0,
             "ticks": ""
            },
            "type": "choropleth"
           }
          ],
          "contour": [
           {
            "colorbar": {
             "outlinewidth": 0,
             "ticks": ""
            },
            "colorscale": [
             [
              0,
              "#0d0887"
             ],
             [
              0.1111111111111111,
              "#46039f"
             ],
             [
              0.2222222222222222,
              "#7201a8"
             ],
             [
              0.3333333333333333,
              "#9c179e"
             ],
             [
              0.4444444444444444,
              "#bd3786"
             ],
             [
              0.5555555555555556,
              "#d8576b"
             ],
             [
              0.6666666666666666,
              "#ed7953"
             ],
             [
              0.7777777777777778,
              "#fb9f3a"
             ],
             [
              0.8888888888888888,
              "#fdca26"
             ],
             [
              1,
              "#f0f921"
             ]
            ],
            "type": "contour"
           }
          ],
          "contourcarpet": [
           {
            "colorbar": {
             "outlinewidth": 0,
             "ticks": ""
            },
            "type": "contourcarpet"
           }
          ],
          "heatmap": [
           {
            "colorbar": {
             "outlinewidth": 0,
             "ticks": ""
            },
            "colorscale": [
             [
              0,
              "#0d0887"
             ],
             [
              0.1111111111111111,
              "#46039f"
             ],
             [
              0.2222222222222222,
              "#7201a8"
             ],
             [
              0.3333333333333333,
              "#9c179e"
             ],
             [
              0.4444444444444444,
              "#bd3786"
             ],
             [
              0.5555555555555556,
              "#d8576b"
             ],
             [
              0.6666666666666666,
              "#ed7953"
             ],
             [
              0.7777777777777778,
              "#fb9f3a"
             ],
             [
              0.8888888888888888,
              "#fdca26"
             ],
             [
              1,
              "#f0f921"
             ]
            ],
            "type": "heatmap"
           }
          ],
          "heatmapgl": [
           {
            "colorbar": {
             "outlinewidth": 0,
             "ticks": ""
            },
            "colorscale": [
             [
              0,
              "#0d0887"
             ],
             [
              0.1111111111111111,
              "#46039f"
             ],
             [
              0.2222222222222222,
              "#7201a8"
             ],
             [
              0.3333333333333333,
              "#9c179e"
             ],
             [
              0.4444444444444444,
              "#bd3786"
             ],
             [
              0.5555555555555556,
              "#d8576b"
             ],
             [
              0.6666666666666666,
              "#ed7953"
             ],
             [
              0.7777777777777778,
              "#fb9f3a"
             ],
             [
              0.8888888888888888,
              "#fdca26"
             ],
             [
              1,
              "#f0f921"
             ]
            ],
            "type": "heatmapgl"
           }
          ],
          "histogram": [
           {
            "marker": {
             "pattern": {
              "fillmode": "overlay",
              "size": 10,
              "solidity": 0.2
             }
            },
            "type": "histogram"
           }
          ],
          "histogram2d": [
           {
            "colorbar": {
             "outlinewidth": 0,
             "ticks": ""
            },
            "colorscale": [
             [
              0,
              "#0d0887"
             ],
             [
              0.1111111111111111,
              "#46039f"
             ],
             [
              0.2222222222222222,
              "#7201a8"
             ],
             [
              0.3333333333333333,
              "#9c179e"
             ],
             [
              0.4444444444444444,
              "#bd3786"
             ],
             [
              0.5555555555555556,
              "#d8576b"
             ],
             [
              0.6666666666666666,
              "#ed7953"
             ],
             [
              0.7777777777777778,
              "#fb9f3a"
             ],
             [
              0.8888888888888888,
              "#fdca26"
             ],
             [
              1,
              "#f0f921"
             ]
            ],
            "type": "histogram2d"
           }
          ],
          "histogram2dcontour": [
           {
            "colorbar": {
             "outlinewidth": 0,
             "ticks": ""
            },
            "colorscale": [
             [
              0,
              "#0d0887"
             ],
             [
              0.1111111111111111,
              "#46039f"
             ],
             [
              0.2222222222222222,
              "#7201a8"
             ],
             [
              0.3333333333333333,
              "#9c179e"
             ],
             [
              0.4444444444444444,
              "#bd3786"
             ],
             [
              0.5555555555555556,
              "#d8576b"
             ],
             [
              0.6666666666666666,
              "#ed7953"
             ],
             [
              0.7777777777777778,
              "#fb9f3a"
             ],
             [
              0.8888888888888888,
              "#fdca26"
             ],
             [
              1,
              "#f0f921"
             ]
            ],
            "type": "histogram2dcontour"
           }
          ],
          "mesh3d": [
           {
            "colorbar": {
             "outlinewidth": 0,
             "ticks": ""
            },
            "type": "mesh3d"
           }
          ],
          "parcoords": [
           {
            "line": {
             "colorbar": {
              "outlinewidth": 0,
              "ticks": ""
             }
            },
            "type": "parcoords"
           }
          ],
          "pie": [
           {
            "automargin": true,
            "type": "pie"
           }
          ],
          "scatter": [
           {
            "fillpattern": {
             "fillmode": "overlay",
             "size": 10,
             "solidity": 0.2
            },
            "type": "scatter"
           }
          ],
          "scatter3d": [
           {
            "line": {
             "colorbar": {
              "outlinewidth": 0,
              "ticks": ""
             }
            },
            "marker": {
             "colorbar": {
              "outlinewidth": 0,
              "ticks": ""
             }
            },
            "type": "scatter3d"
           }
          ],
          "scattercarpet": [
           {
            "marker": {
             "colorbar": {
              "outlinewidth": 0,
              "ticks": ""
             }
            },
            "type": "scattercarpet"
           }
          ],
          "scattergeo": [
           {
            "marker": {
             "colorbar": {
              "outlinewidth": 0,
              "ticks": ""
             }
            },
            "type": "scattergeo"
           }
          ],
          "scattergl": [
           {
            "marker": {
             "colorbar": {
              "outlinewidth": 0,
              "ticks": ""
             }
            },
            "type": "scattergl"
           }
          ],
          "scattermapbox": [
           {
            "marker": {
             "colorbar": {
              "outlinewidth": 0,
              "ticks": ""
             }
            },
            "type": "scattermapbox"
           }
          ],
          "scatterpolar": [
           {
            "marker": {
             "colorbar": {
              "outlinewidth": 0,
              "ticks": ""
             }
            },
            "type": "scatterpolar"
           }
          ],
          "scatterpolargl": [
           {
            "marker": {
             "colorbar": {
              "outlinewidth": 0,
              "ticks": ""
             }
            },
            "type": "scatterpolargl"
           }
          ],
          "scatterternary": [
           {
            "marker": {
             "colorbar": {
              "outlinewidth": 0,
              "ticks": ""
             }
            },
            "type": "scatterternary"
           }
          ],
          "surface": [
           {
            "colorbar": {
             "outlinewidth": 0,
             "ticks": ""
            },
            "colorscale": [
             [
              0,
              "#0d0887"
             ],
             [
              0.1111111111111111,
              "#46039f"
             ],
             [
              0.2222222222222222,
              "#7201a8"
             ],
             [
              0.3333333333333333,
              "#9c179e"
             ],
             [
              0.4444444444444444,
              "#bd3786"
             ],
             [
              0.5555555555555556,
              "#d8576b"
             ],
             [
              0.6666666666666666,
              "#ed7953"
             ],
             [
              0.7777777777777778,
              "#fb9f3a"
             ],
             [
              0.8888888888888888,
              "#fdca26"
             ],
             [
              1,
              "#f0f921"
             ]
            ],
            "type": "surface"
           }
          ],
          "table": [
           {
            "cells": {
             "fill": {
              "color": "#EBF0F8"
             },
             "line": {
              "color": "white"
             }
            },
            "header": {
             "fill": {
              "color": "#C8D4E3"
             },
             "line": {
              "color": "white"
             }
            },
            "type": "table"
           }
          ]
         },
         "layout": {
          "annotationdefaults": {
           "arrowcolor": "#2a3f5f",
           "arrowhead": 0,
           "arrowwidth": 1
          },
          "autotypenumbers": "strict",
          "coloraxis": {
           "colorbar": {
            "outlinewidth": 0,
            "ticks": ""
           }
          },
          "colorscale": {
           "diverging": [
            [
             0,
             "#8e0152"
            ],
            [
             0.1,
             "#c51b7d"
            ],
            [
             0.2,
             "#de77ae"
            ],
            [
             0.3,
             "#f1b6da"
            ],
            [
             0.4,
             "#fde0ef"
            ],
            [
             0.5,
             "#f7f7f7"
            ],
            [
             0.6,
             "#e6f5d0"
            ],
            [
             0.7,
             "#b8e186"
            ],
            [
             0.8,
             "#7fbc41"
            ],
            [
             0.9,
             "#4d9221"
            ],
            [
             1,
             "#276419"
            ]
           ],
           "sequential": [
            [
             0,
             "#0d0887"
            ],
            [
             0.1111111111111111,
             "#46039f"
            ],
            [
             0.2222222222222222,
             "#7201a8"
            ],
            [
             0.3333333333333333,
             "#9c179e"
            ],
            [
             0.4444444444444444,
             "#bd3786"
            ],
            [
             0.5555555555555556,
             "#d8576b"
            ],
            [
             0.6666666666666666,
             "#ed7953"
            ],
            [
             0.7777777777777778,
             "#fb9f3a"
            ],
            [
             0.8888888888888888,
             "#fdca26"
            ],
            [
             1,
             "#f0f921"
            ]
           ],
           "sequentialminus": [
            [
             0,
             "#0d0887"
            ],
            [
             0.1111111111111111,
             "#46039f"
            ],
            [
             0.2222222222222222,
             "#7201a8"
            ],
            [
             0.3333333333333333,
             "#9c179e"
            ],
            [
             0.4444444444444444,
             "#bd3786"
            ],
            [
             0.5555555555555556,
             "#d8576b"
            ],
            [
             0.6666666666666666,
             "#ed7953"
            ],
            [
             0.7777777777777778,
             "#fb9f3a"
            ],
            [
             0.8888888888888888,
             "#fdca26"
            ],
            [
             1,
             "#f0f921"
            ]
           ]
          },
          "colorway": [
           "#636efa",
           "#EF553B",
           "#00cc96",
           "#ab63fa",
           "#FFA15A",
           "#19d3f3",
           "#FF6692",
           "#B6E880",
           "#FF97FF",
           "#FECB52"
          ],
          "font": {
           "color": "#2a3f5f"
          },
          "geo": {
           "bgcolor": "white",
           "lakecolor": "white",
           "landcolor": "white",
           "showlakes": true,
           "showland": true,
           "subunitcolor": "#C8D4E3"
          },
          "hoverlabel": {
           "align": "left"
          },
          "hovermode": "closest",
          "mapbox": {
           "style": "light"
          },
          "paper_bgcolor": "white",
          "plot_bgcolor": "white",
          "polar": {
           "angularaxis": {
            "gridcolor": "#EBF0F8",
            "linecolor": "#EBF0F8",
            "ticks": ""
           },
           "bgcolor": "white",
           "radialaxis": {
            "gridcolor": "#EBF0F8",
            "linecolor": "#EBF0F8",
            "ticks": ""
           }
          },
          "scene": {
           "xaxis": {
            "backgroundcolor": "white",
            "gridcolor": "#DFE8F3",
            "gridwidth": 2,
            "linecolor": "#EBF0F8",
            "showbackground": true,
            "ticks": "",
            "zerolinecolor": "#EBF0F8"
           },
           "yaxis": {
            "backgroundcolor": "white",
            "gridcolor": "#DFE8F3",
            "gridwidth": 2,
            "linecolor": "#EBF0F8",
            "showbackground": true,
            "ticks": "",
            "zerolinecolor": "#EBF0F8"
           },
           "zaxis": {
            "backgroundcolor": "white",
            "gridcolor": "#DFE8F3",
            "gridwidth": 2,
            "linecolor": "#EBF0F8",
            "showbackground": true,
            "ticks": "",
            "zerolinecolor": "#EBF0F8"
           }
          },
          "shapedefaults": {
           "line": {
            "color": "#2a3f5f"
           }
          },
          "ternary": {
           "aaxis": {
            "gridcolor": "#DFE8F3",
            "linecolor": "#A2B1C6",
            "ticks": ""
           },
           "baxis": {
            "gridcolor": "#DFE8F3",
            "linecolor": "#A2B1C6",
            "ticks": ""
           },
           "bgcolor": "white",
           "caxis": {
            "gridcolor": "#DFE8F3",
            "linecolor": "#A2B1C6",
            "ticks": ""
           }
          },
          "title": {
           "x": 0.05
          },
          "xaxis": {
           "automargin": true,
           "gridcolor": "#EBF0F8",
           "linecolor": "#EBF0F8",
           "ticks": "",
           "title": {
            "standoff": 15
           },
           "zerolinecolor": "#EBF0F8",
           "zerolinewidth": 2
          },
          "yaxis": {
           "automargin": true,
           "gridcolor": "#EBF0F8",
           "linecolor": "#EBF0F8",
           "ticks": "",
           "title": {
            "standoff": 15
           },
           "zerolinecolor": "#EBF0F8",
           "zerolinewidth": 2
          }
         }
        },
        "title": {
         "text": "GPQA Diamond Performance over time"
        },
        "width": 800,
        "xaxis": {
         "anchor": "y",
         "domain": [
          0,
          1
         ],
         "title": {
          "text": "Release Date"
         }
        },
        "yaxis": {
         "anchor": "x",
         "domain": [
          0,
          1
         ],
         "title": {
          "text": "GPQA Diamond"
         }
        }
       }
      }
     },
     "metadata": {},
     "output_type": "display_data"
    },
    {
     "name": "stdout",
     "output_type": "stream",
     "text": [
      "['DeepSeek-V3 (2024-12)', 'Gemini-1.5-Pro-2024-09 (2024-09)', 'Gemini 2.0 Flash (2025-02)', 'GPT-4 Turbo (2023-11)', 'GPT-3 (2021-11)', 'GPT-3.5-Turbo-2023-06 (2023-06)', 'GPT-4o-2024-08 (2024-08)', 'GPT-4o-2024-05 (2024-05)']\n"
     ]
    },
    {
     "data": {
      "application/vnd.plotly.v1+json": {
       "config": {
        "plotlyServerURL": "https://plot.ly"
       },
       "data": [
        {
         "customdata": [
          [
           "GPT-3"
          ],
          [
           "GPT-3"
          ],
          [
           "GPT-3"
          ],
          [
           "GPT-3.5"
          ],
          [
           "GPT-3.5 Turbo"
          ],
          [
           "GPT-4-0314"
          ],
          [
           "GPT-4-0613"
          ],
          [
           "GPT-3.5-Turbo-2023-06"
          ],
          [
           "Llama-2-Chat-7B"
          ],
          [
           "Llama-2-Chat-13B"
          ],
          [
           "GPT-3.5-Turbo-2023-11"
          ],
          [
           "GPT-4 Turbo"
          ],
          [
           "Llama 2-70B Chat"
          ],
          [
           "Llama 2-7B"
          ],
          [
           "Llama 2-13B"
          ],
          [
           "GPT-3"
          ],
          [
           "GPT-4-0125"
          ],
          [
           "GPT-3.5-Turbo-2024-01"
          ],
          [
           "Mistral-Large-2024-02"
          ],
          [
           "Mistral-Small-2024-02"
          ],
          [
           "Claude-3-Haiku"
          ],
          [
           "Claude-3-Sonnet"
          ],
          [
           "Claude-3-Opus"
          ],
          [
           "Llama 2-13B"
          ],
          [
           "Llama 2-7B"
          ],
          [
           "Mistral-8x22"
          ],
          [
           "Llama-3-Instruct-70B"
          ],
          [
           "Llama-3-Instruct-8B"
          ],
          [
           "Gemini-1.5-Flash-2024-05"
          ],
          [
           "GPT-4o-2024-05"
          ],
          [
           "Gemini-1.5-Pro-2024-05"
          ],
          [
           "Claude-3.5-Sonnet-2024-06"
          ],
          [
           "Gemma-2-27B"
          ],
          [
           "Gemma-2-9B"
          ],
          [
           "Mistral-NeMo"
          ],
          [
           "GPT-4o-mini"
          ],
          [
           "Llama-3.1-Instruct-8B"
          ],
          [
           "Llama-3.1-Instruct-70B"
          ],
          [
           "Llama-3.1-Instruct-405B"
          ],
          [
           "Mistral-Large-2-2024-07"
          ],
          [
           "GPT-4o-2024-08"
          ],
          [
           "Claude 2"
          ],
          [
           "Gemini 1.0 Pro"
          ],
          [
           "Claude Instant"
          ],
          [
           "Claude 2.1"
          ],
          [
           "Cohere Command"
          ],
          [
           "Command R"
          ],
          [
           "Command R+"
          ],
          [
           "Cohere Command Light"
          ],
          [
           "DeepSeek-Coder-V2 236B"
          ],
          [
           "Jamba 1.5-Large"
          ],
          [
           "Command R+"
          ],
          [
           "Mistral 7B"
          ],
          [
           "Reka Core"
          ],
          [
           "Llama-3.2-Instruct-1B"
          ],
          [
           "Gemini-1.5-Pro-2024-09"
          ],
          [
           "Llama-3.2-Instruct-3B"
          ],
          [
           "Gemini-1.5-Flash-2024-09"
          ],
          [
           "Gemini-1.5-Flash-8B"
          ],
          [
           "Claude-3.5-Sonnet-2024-10"
          ],
          [
           "Claude-3.5-Haiku"
          ],
          [
           "Mistral-Large-2-2024-11"
          ],
          [
           "GPT-4o-2024-11"
          ],
          [
           "Phi 4"
          ],
          [
           "DeepSeek-V3"
          ],
          [
           "Mistral Small 3"
          ],
          [
           "Gemini 2.0 Flash"
          ]
         ],
         "hovertemplate": "Release Date=%{x}<br>MATH-500=%{y}<br>Model Name=%{customdata[0]}<extra></extra>",
         "legendgroup": "",
         "marker": {
          "color": "lightgray",
          "symbol": "circle"
         },
         "mode": "markers",
         "name": "",
         "orientation": "v",
         "showlegend": false,
         "type": "scatter",
         "x": [
          "2021-11-20T00:00:00",
          "2022-08-31T00:00:00",
          "2022-09-01T00:00:00",
          "2022-11-30T00:00:00",
          "2023-03-06T00:00:00",
          "2023-03-14T00:00:00",
          "2023-06-13T00:00:00",
          "2023-06-13T00:00:00",
          "2023-07-18T00:00:00",
          "2023-07-18T00:00:00",
          "2023-11-06T00:00:00",
          "2023-11-06T00:00:00",
          "2023-12-01T00:00:00",
          "2023-12-01T00:00:00",
          "2023-12-08T00:00:00",
          "2024-01-04T00:00:00",
          "2024-01-25T00:00:00",
          "2024-01-25T00:00:00",
          "2024-02-26T00:00:00",
          "2024-02-26T00:00:00",
          "2024-03-04T00:00:00",
          "2024-03-04T00:00:00",
          "2024-03-04T00:00:00",
          "2024-04-14T00:00:00",
          "2024-04-14T00:00:00",
          "2024-04-17T00:00:00",
          "2024-04-18T00:00:00",
          "2024-04-18T00:00:00",
          "2024-05-10T00:00:00",
          "2024-05-13T00:00:00",
          "2024-05-23T00:00:00",
          "2024-06-20T00:00:00",
          "2024-06-24T00:00:00",
          "2024-06-24T00:00:00",
          "2024-07-18T00:00:00",
          "2024-07-18T00:00:00",
          "2024-07-23T00:00:00",
          "2024-07-23T00:00:00",
          "2024-07-23T00:00:00",
          "2024-07-24T00:00:00",
          "2024-08-06T00:00:00",
          "2024-08-12T00:00:00",
          "2024-08-12T00:00:00",
          "2024-08-12T00:00:00",
          "2024-08-12T00:00:00",
          "2024-08-13T00:00:00",
          "2024-08-13T00:00:00",
          "2024-08-13T00:00:00",
          "2024-08-13T00:00:00",
          "2024-09-11T00:00:00",
          "2024-09-12T00:00:00",
          "2024-09-13T00:00:00",
          "2024-09-14T00:00:00",
          "2024-09-14T00:00:00",
          "2024-09-24T00:00:00",
          "2024-09-24T00:00:00",
          "2024-09-24T00:00:00",
          "2024-09-24T00:00:00",
          "2024-10-03T00:00:00",
          "2024-10-22T00:00:00",
          "2024-10-22T00:00:00",
          "2024-11-18T00:00:00",
          "2024-11-20T00:00:00",
          "2024-12-13T00:00:00",
          "2024-12-26T00:00:00",
          "2025-01-30T00:00:00",
          "2025-02-05T00:00:00"
         ],
         "xaxis": "x",
         "y": [
          null,
          null,
          null,
          null,
          null,
          null,
          null,
          44,
          null,
          null,
          44,
          74,
          null,
          null,
          null,
          null,
          null,
          44,
          49,
          56,
          39,
          41,
          64,
          null,
          null,
          56,
          53,
          32,
          55,
          79,
          66,
          71,
          54,
          50,
          44,
          79,
          50,
          64,
          70,
          71,
          80,
          null,
          null,
          null,
          null,
          null,
          15,
          40,
          null,
          74,
          61,
          40,
          12,
          56,
          13,
          88,
          50,
          83,
          70,
          76,
          67,
          72,
          76,
          81,
          89,
          74,
          93
         ],
         "yaxis": "y"
        },
        {
         "hovertemplate": "%{text}<extra></extra>",
         "line": {
          "color": "red"
         },
         "mode": "lines+markers",
         "name": "Top Model",
         "text": [
          "GPT-3",
          "GPT-3.5-Turbo-2023-06",
          "GPT-4 Turbo",
          "GPT-4o-2024-05",
          "GPT-4o-2024-08",
          "Gemini-1.5-Pro-2024-09",
          "DeepSeek-V3",
          "Gemini 2.0 Flash"
         ],
         "type": "scatter",
         "x": [
          "2021-11-20T00:00:00",
          "2023-06-13T00:00:00",
          "2023-11-06T00:00:00",
          "2024-05-13T00:00:00",
          "2024-08-06T00:00:00",
          "2024-09-24T00:00:00",
          "2024-12-26T00:00:00",
          "2025-02-05T00:00:00"
         ],
         "y": [
          null,
          44,
          74,
          79,
          80,
          88,
          89,
          93
         ]
        }
       ],
       "layout": {
        "height": 400,
        "legend": {
         "tracegroupgap": 0
        },
        "template": {
         "data": {
          "bar": [
           {
            "error_x": {
             "color": "#2a3f5f"
            },
            "error_y": {
             "color": "#2a3f5f"
            },
            "marker": {
             "line": {
              "color": "white",
              "width": 0.5
             },
             "pattern": {
              "fillmode": "overlay",
              "size": 10,
              "solidity": 0.2
             }
            },
            "type": "bar"
           }
          ],
          "barpolar": [
           {
            "marker": {
             "line": {
              "color": "white",
              "width": 0.5
             },
             "pattern": {
              "fillmode": "overlay",
              "size": 10,
              "solidity": 0.2
             }
            },
            "type": "barpolar"
           }
          ],
          "carpet": [
           {
            "aaxis": {
             "endlinecolor": "#2a3f5f",
             "gridcolor": "#C8D4E3",
             "linecolor": "#C8D4E3",
             "minorgridcolor": "#C8D4E3",
             "startlinecolor": "#2a3f5f"
            },
            "baxis": {
             "endlinecolor": "#2a3f5f",
             "gridcolor": "#C8D4E3",
             "linecolor": "#C8D4E3",
             "minorgridcolor": "#C8D4E3",
             "startlinecolor": "#2a3f5f"
            },
            "type": "carpet"
           }
          ],
          "choropleth": [
           {
            "colorbar": {
             "outlinewidth": 0,
             "ticks": ""
            },
            "type": "choropleth"
           }
          ],
          "contour": [
           {
            "colorbar": {
             "outlinewidth": 0,
             "ticks": ""
            },
            "colorscale": [
             [
              0,
              "#0d0887"
             ],
             [
              0.1111111111111111,
              "#46039f"
             ],
             [
              0.2222222222222222,
              "#7201a8"
             ],
             [
              0.3333333333333333,
              "#9c179e"
             ],
             [
              0.4444444444444444,
              "#bd3786"
             ],
             [
              0.5555555555555556,
              "#d8576b"
             ],
             [
              0.6666666666666666,
              "#ed7953"
             ],
             [
              0.7777777777777778,
              "#fb9f3a"
             ],
             [
              0.8888888888888888,
              "#fdca26"
             ],
             [
              1,
              "#f0f921"
             ]
            ],
            "type": "contour"
           }
          ],
          "contourcarpet": [
           {
            "colorbar": {
             "outlinewidth": 0,
             "ticks": ""
            },
            "type": "contourcarpet"
           }
          ],
          "heatmap": [
           {
            "colorbar": {
             "outlinewidth": 0,
             "ticks": ""
            },
            "colorscale": [
             [
              0,
              "#0d0887"
             ],
             [
              0.1111111111111111,
              "#46039f"
             ],
             [
              0.2222222222222222,
              "#7201a8"
             ],
             [
              0.3333333333333333,
              "#9c179e"
             ],
             [
              0.4444444444444444,
              "#bd3786"
             ],
             [
              0.5555555555555556,
              "#d8576b"
             ],
             [
              0.6666666666666666,
              "#ed7953"
             ],
             [
              0.7777777777777778,
              "#fb9f3a"
             ],
             [
              0.8888888888888888,
              "#fdca26"
             ],
             [
              1,
              "#f0f921"
             ]
            ],
            "type": "heatmap"
           }
          ],
          "heatmapgl": [
           {
            "colorbar": {
             "outlinewidth": 0,
             "ticks": ""
            },
            "colorscale": [
             [
              0,
              "#0d0887"
             ],
             [
              0.1111111111111111,
              "#46039f"
             ],
             [
              0.2222222222222222,
              "#7201a8"
             ],
             [
              0.3333333333333333,
              "#9c179e"
             ],
             [
              0.4444444444444444,
              "#bd3786"
             ],
             [
              0.5555555555555556,
              "#d8576b"
             ],
             [
              0.6666666666666666,
              "#ed7953"
             ],
             [
              0.7777777777777778,
              "#fb9f3a"
             ],
             [
              0.8888888888888888,
              "#fdca26"
             ],
             [
              1,
              "#f0f921"
             ]
            ],
            "type": "heatmapgl"
           }
          ],
          "histogram": [
           {
            "marker": {
             "pattern": {
              "fillmode": "overlay",
              "size": 10,
              "solidity": 0.2
             }
            },
            "type": "histogram"
           }
          ],
          "histogram2d": [
           {
            "colorbar": {
             "outlinewidth": 0,
             "ticks": ""
            },
            "colorscale": [
             [
              0,
              "#0d0887"
             ],
             [
              0.1111111111111111,
              "#46039f"
             ],
             [
              0.2222222222222222,
              "#7201a8"
             ],
             [
              0.3333333333333333,
              "#9c179e"
             ],
             [
              0.4444444444444444,
              "#bd3786"
             ],
             [
              0.5555555555555556,
              "#d8576b"
             ],
             [
              0.6666666666666666,
              "#ed7953"
             ],
             [
              0.7777777777777778,
              "#fb9f3a"
             ],
             [
              0.8888888888888888,
              "#fdca26"
             ],
             [
              1,
              "#f0f921"
             ]
            ],
            "type": "histogram2d"
           }
          ],
          "histogram2dcontour": [
           {
            "colorbar": {
             "outlinewidth": 0,
             "ticks": ""
            },
            "colorscale": [
             [
              0,
              "#0d0887"
             ],
             [
              0.1111111111111111,
              "#46039f"
             ],
             [
              0.2222222222222222,
              "#7201a8"
             ],
             [
              0.3333333333333333,
              "#9c179e"
             ],
             [
              0.4444444444444444,
              "#bd3786"
             ],
             [
              0.5555555555555556,
              "#d8576b"
             ],
             [
              0.6666666666666666,
              "#ed7953"
             ],
             [
              0.7777777777777778,
              "#fb9f3a"
             ],
             [
              0.8888888888888888,
              "#fdca26"
             ],
             [
              1,
              "#f0f921"
             ]
            ],
            "type": "histogram2dcontour"
           }
          ],
          "mesh3d": [
           {
            "colorbar": {
             "outlinewidth": 0,
             "ticks": ""
            },
            "type": "mesh3d"
           }
          ],
          "parcoords": [
           {
            "line": {
             "colorbar": {
              "outlinewidth": 0,
              "ticks": ""
             }
            },
            "type": "parcoords"
           }
          ],
          "pie": [
           {
            "automargin": true,
            "type": "pie"
           }
          ],
          "scatter": [
           {
            "fillpattern": {
             "fillmode": "overlay",
             "size": 10,
             "solidity": 0.2
            },
            "type": "scatter"
           }
          ],
          "scatter3d": [
           {
            "line": {
             "colorbar": {
              "outlinewidth": 0,
              "ticks": ""
             }
            },
            "marker": {
             "colorbar": {
              "outlinewidth": 0,
              "ticks": ""
             }
            },
            "type": "scatter3d"
           }
          ],
          "scattercarpet": [
           {
            "marker": {
             "colorbar": {
              "outlinewidth": 0,
              "ticks": ""
             }
            },
            "type": "scattercarpet"
           }
          ],
          "scattergeo": [
           {
            "marker": {
             "colorbar": {
              "outlinewidth": 0,
              "ticks": ""
             }
            },
            "type": "scattergeo"
           }
          ],
          "scattergl": [
           {
            "marker": {
             "colorbar": {
              "outlinewidth": 0,
              "ticks": ""
             }
            },
            "type": "scattergl"
           }
          ],
          "scattermapbox": [
           {
            "marker": {
             "colorbar": {
              "outlinewidth": 0,
              "ticks": ""
             }
            },
            "type": "scattermapbox"
           }
          ],
          "scatterpolar": [
           {
            "marker": {
             "colorbar": {
              "outlinewidth": 0,
              "ticks": ""
             }
            },
            "type": "scatterpolar"
           }
          ],
          "scatterpolargl": [
           {
            "marker": {
             "colorbar": {
              "outlinewidth": 0,
              "ticks": ""
             }
            },
            "type": "scatterpolargl"
           }
          ],
          "scatterternary": [
           {
            "marker": {
             "colorbar": {
              "outlinewidth": 0,
              "ticks": ""
             }
            },
            "type": "scatterternary"
           }
          ],
          "surface": [
           {
            "colorbar": {
             "outlinewidth": 0,
             "ticks": ""
            },
            "colorscale": [
             [
              0,
              "#0d0887"
             ],
             [
              0.1111111111111111,
              "#46039f"
             ],
             [
              0.2222222222222222,
              "#7201a8"
             ],
             [
              0.3333333333333333,
              "#9c179e"
             ],
             [
              0.4444444444444444,
              "#bd3786"
             ],
             [
              0.5555555555555556,
              "#d8576b"
             ],
             [
              0.6666666666666666,
              "#ed7953"
             ],
             [
              0.7777777777777778,
              "#fb9f3a"
             ],
             [
              0.8888888888888888,
              "#fdca26"
             ],
             [
              1,
              "#f0f921"
             ]
            ],
            "type": "surface"
           }
          ],
          "table": [
           {
            "cells": {
             "fill": {
              "color": "#EBF0F8"
             },
             "line": {
              "color": "white"
             }
            },
            "header": {
             "fill": {
              "color": "#C8D4E3"
             },
             "line": {
              "color": "white"
             }
            },
            "type": "table"
           }
          ]
         },
         "layout": {
          "annotationdefaults": {
           "arrowcolor": "#2a3f5f",
           "arrowhead": 0,
           "arrowwidth": 1
          },
          "autotypenumbers": "strict",
          "coloraxis": {
           "colorbar": {
            "outlinewidth": 0,
            "ticks": ""
           }
          },
          "colorscale": {
           "diverging": [
            [
             0,
             "#8e0152"
            ],
            [
             0.1,
             "#c51b7d"
            ],
            [
             0.2,
             "#de77ae"
            ],
            [
             0.3,
             "#f1b6da"
            ],
            [
             0.4,
             "#fde0ef"
            ],
            [
             0.5,
             "#f7f7f7"
            ],
            [
             0.6,
             "#e6f5d0"
            ],
            [
             0.7,
             "#b8e186"
            ],
            [
             0.8,
             "#7fbc41"
            ],
            [
             0.9,
             "#4d9221"
            ],
            [
             1,
             "#276419"
            ]
           ],
           "sequential": [
            [
             0,
             "#0d0887"
            ],
            [
             0.1111111111111111,
             "#46039f"
            ],
            [
             0.2222222222222222,
             "#7201a8"
            ],
            [
             0.3333333333333333,
             "#9c179e"
            ],
            [
             0.4444444444444444,
             "#bd3786"
            ],
            [
             0.5555555555555556,
             "#d8576b"
            ],
            [
             0.6666666666666666,
             "#ed7953"
            ],
            [
             0.7777777777777778,
             "#fb9f3a"
            ],
            [
             0.8888888888888888,
             "#fdca26"
            ],
            [
             1,
             "#f0f921"
            ]
           ],
           "sequentialminus": [
            [
             0,
             "#0d0887"
            ],
            [
             0.1111111111111111,
             "#46039f"
            ],
            [
             0.2222222222222222,
             "#7201a8"
            ],
            [
             0.3333333333333333,
             "#9c179e"
            ],
            [
             0.4444444444444444,
             "#bd3786"
            ],
            [
             0.5555555555555556,
             "#d8576b"
            ],
            [
             0.6666666666666666,
             "#ed7953"
            ],
            [
             0.7777777777777778,
             "#fb9f3a"
            ],
            [
             0.8888888888888888,
             "#fdca26"
            ],
            [
             1,
             "#f0f921"
            ]
           ]
          },
          "colorway": [
           "#636efa",
           "#EF553B",
           "#00cc96",
           "#ab63fa",
           "#FFA15A",
           "#19d3f3",
           "#FF6692",
           "#B6E880",
           "#FF97FF",
           "#FECB52"
          ],
          "font": {
           "color": "#2a3f5f"
          },
          "geo": {
           "bgcolor": "white",
           "lakecolor": "white",
           "landcolor": "white",
           "showlakes": true,
           "showland": true,
           "subunitcolor": "#C8D4E3"
          },
          "hoverlabel": {
           "align": "left"
          },
          "hovermode": "closest",
          "mapbox": {
           "style": "light"
          },
          "paper_bgcolor": "white",
          "plot_bgcolor": "white",
          "polar": {
           "angularaxis": {
            "gridcolor": "#EBF0F8",
            "linecolor": "#EBF0F8",
            "ticks": ""
           },
           "bgcolor": "white",
           "radialaxis": {
            "gridcolor": "#EBF0F8",
            "linecolor": "#EBF0F8",
            "ticks": ""
           }
          },
          "scene": {
           "xaxis": {
            "backgroundcolor": "white",
            "gridcolor": "#DFE8F3",
            "gridwidth": 2,
            "linecolor": "#EBF0F8",
            "showbackground": true,
            "ticks": "",
            "zerolinecolor": "#EBF0F8"
           },
           "yaxis": {
            "backgroundcolor": "white",
            "gridcolor": "#DFE8F3",
            "gridwidth": 2,
            "linecolor": "#EBF0F8",
            "showbackground": true,
            "ticks": "",
            "zerolinecolor": "#EBF0F8"
           },
           "zaxis": {
            "backgroundcolor": "white",
            "gridcolor": "#DFE8F3",
            "gridwidth": 2,
            "linecolor": "#EBF0F8",
            "showbackground": true,
            "ticks": "",
            "zerolinecolor": "#EBF0F8"
           }
          },
          "shapedefaults": {
           "line": {
            "color": "#2a3f5f"
           }
          },
          "ternary": {
           "aaxis": {
            "gridcolor": "#DFE8F3",
            "linecolor": "#A2B1C6",
            "ticks": ""
           },
           "baxis": {
            "gridcolor": "#DFE8F3",
            "linecolor": "#A2B1C6",
            "ticks": ""
           },
           "bgcolor": "white",
           "caxis": {
            "gridcolor": "#DFE8F3",
            "linecolor": "#A2B1C6",
            "ticks": ""
           }
          },
          "title": {
           "x": 0.05
          },
          "xaxis": {
           "automargin": true,
           "gridcolor": "#EBF0F8",
           "linecolor": "#EBF0F8",
           "ticks": "",
           "title": {
            "standoff": 15
           },
           "zerolinecolor": "#EBF0F8",
           "zerolinewidth": 2
          },
          "yaxis": {
           "automargin": true,
           "gridcolor": "#EBF0F8",
           "linecolor": "#EBF0F8",
           "ticks": "",
           "title": {
            "standoff": 15
           },
           "zerolinecolor": "#EBF0F8",
           "zerolinewidth": 2
          }
         }
        },
        "title": {
         "text": "MATH-500 Performance over time"
        },
        "width": 800,
        "xaxis": {
         "anchor": "y",
         "domain": [
          0,
          1
         ],
         "title": {
          "text": "Release Date"
         }
        },
        "yaxis": {
         "anchor": "x",
         "domain": [
          0,
          1
         ],
         "title": {
          "text": "MATH-500"
         }
        }
       }
      }
     },
     "metadata": {},
     "output_type": "display_data"
    },
    {
     "name": "stdout",
     "output_type": "stream",
     "text": [
      "['Gemini-1.5-Pro-2024-09 (2024-09)', 'Gemini 2.0 Flash (2025-02)', 'GPT-4 Turbo (2023-11)', 'GPT-3 (2021-11)', 'GPT-4o-2024-05 (2024-05)', 'GPT-4-0613 (2023-06)']\n"
     ]
    },
    {
     "data": {
      "application/vnd.plotly.v1+json": {
       "config": {
        "plotlyServerURL": "https://plot.ly"
       },
       "data": [
        {
         "customdata": [
          [
           "GPT-3"
          ],
          [
           "GPT-3"
          ],
          [
           "GPT-3"
          ],
          [
           "GPT-3.5"
          ],
          [
           "GPT-3.5 Turbo"
          ],
          [
           "GPT-4-0314"
          ],
          [
           "GPT-4-0613"
          ],
          [
           "GPT-3.5-Turbo-2023-06"
          ],
          [
           "Llama-2-Chat-7B"
          ],
          [
           "Llama-2-Chat-13B"
          ],
          [
           "GPT-3.5-Turbo-2023-11"
          ],
          [
           "GPT-4 Turbo"
          ],
          [
           "Llama 2-70B Chat"
          ],
          [
           "Llama 2-7B"
          ],
          [
           "Llama 2-13B"
          ],
          [
           "GPT-3"
          ],
          [
           "GPT-4-0125"
          ],
          [
           "GPT-3.5-Turbo-2024-01"
          ],
          [
           "Mistral-Large-2024-02"
          ],
          [
           "Mistral-Small-2024-02"
          ],
          [
           "Claude-3-Haiku"
          ],
          [
           "Claude-3-Sonnet"
          ],
          [
           "Claude-3-Opus"
          ],
          [
           "Llama 2-13B"
          ],
          [
           "Llama 2-7B"
          ],
          [
           "Mistral-8x22"
          ],
          [
           "Llama-3-Instruct-70B"
          ],
          [
           "Llama-3-Instruct-8B"
          ],
          [
           "Gemini-1.5-Flash-2024-05"
          ],
          [
           "GPT-4o-2024-05"
          ],
          [
           "Gemini-1.5-Pro-2024-05"
          ],
          [
           "Claude-3.5-Sonnet-2024-06"
          ],
          [
           "Gemma-2-27B"
          ],
          [
           "Gemma-2-9B"
          ],
          [
           "Mistral-NeMo"
          ],
          [
           "GPT-4o-mini"
          ],
          [
           "Llama-3.1-Instruct-8B"
          ],
          [
           "Llama-3.1-Instruct-70B"
          ],
          [
           "Llama-3.1-Instruct-405B"
          ],
          [
           "Mistral-Large-2-2024-07"
          ],
          [
           "GPT-4o-2024-08"
          ],
          [
           "Claude 2"
          ],
          [
           "Gemini 1.0 Pro"
          ],
          [
           "Claude Instant"
          ],
          [
           "Claude 2.1"
          ],
          [
           "Cohere Command"
          ],
          [
           "Command R"
          ],
          [
           "Command R+"
          ],
          [
           "Cohere Command Light"
          ],
          [
           "DeepSeek-Coder-V2 236B"
          ],
          [
           "Jamba 1.5-Large"
          ],
          [
           "Command R+"
          ],
          [
           "Mistral 7B"
          ],
          [
           "Reka Core"
          ],
          [
           "Llama-3.2-Instruct-1B"
          ],
          [
           "Gemini-1.5-Pro-2024-09"
          ],
          [
           "Llama-3.2-Instruct-3B"
          ],
          [
           "Gemini-1.5-Flash-2024-09"
          ],
          [
           "Gemini-1.5-Flash-8B"
          ],
          [
           "Claude-3.5-Sonnet-2024-10"
          ],
          [
           "Claude-3.5-Haiku"
          ],
          [
           "Mistral-Large-2-2024-11"
          ],
          [
           "GPT-4o-2024-11"
          ],
          [
           "Phi 4"
          ],
          [
           "DeepSeek-V3"
          ],
          [
           "Mistral Small 3"
          ],
          [
           "Gemini 2.0 Flash"
          ]
         ],
         "hovertemplate": "Release Date=%{x}<br>MATH 5=%{y}<br>Model Name=%{customdata[0]}<extra></extra>",
         "legendgroup": "",
         "marker": {
          "color": "lightgray",
          "symbol": "circle"
         },
         "mode": "markers",
         "name": "",
         "orientation": "v",
         "showlegend": false,
         "type": "scatter",
         "x": [
          "2021-11-20T00:00:00",
          "2022-08-31T00:00:00",
          "2022-09-01T00:00:00",
          "2022-11-30T00:00:00",
          "2023-03-06T00:00:00",
          "2023-03-14T00:00:00",
          "2023-06-13T00:00:00",
          "2023-06-13T00:00:00",
          "2023-07-18T00:00:00",
          "2023-07-18T00:00:00",
          "2023-11-06T00:00:00",
          "2023-11-06T00:00:00",
          "2023-12-01T00:00:00",
          "2023-12-01T00:00:00",
          "2023-12-08T00:00:00",
          "2024-01-04T00:00:00",
          "2024-01-25T00:00:00",
          "2024-01-25T00:00:00",
          "2024-02-26T00:00:00",
          "2024-02-26T00:00:00",
          "2024-03-04T00:00:00",
          "2024-03-04T00:00:00",
          "2024-03-04T00:00:00",
          "2024-04-14T00:00:00",
          "2024-04-14T00:00:00",
          "2024-04-17T00:00:00",
          "2024-04-18T00:00:00",
          "2024-04-18T00:00:00",
          "2024-05-10T00:00:00",
          "2024-05-13T00:00:00",
          "2024-05-23T00:00:00",
          "2024-06-20T00:00:00",
          "2024-06-24T00:00:00",
          "2024-06-24T00:00:00",
          "2024-07-18T00:00:00",
          "2024-07-18T00:00:00",
          "2024-07-23T00:00:00",
          "2024-07-23T00:00:00",
          "2024-07-23T00:00:00",
          "2024-07-24T00:00:00",
          "2024-08-06T00:00:00",
          "2024-08-12T00:00:00",
          "2024-08-12T00:00:00",
          "2024-08-12T00:00:00",
          "2024-08-12T00:00:00",
          "2024-08-13T00:00:00",
          "2024-08-13T00:00:00",
          "2024-08-13T00:00:00",
          "2024-08-13T00:00:00",
          "2024-09-11T00:00:00",
          "2024-09-12T00:00:00",
          "2024-09-13T00:00:00",
          "2024-09-14T00:00:00",
          "2024-09-14T00:00:00",
          "2024-09-24T00:00:00",
          "2024-09-24T00:00:00",
          "2024-09-24T00:00:00",
          "2024-09-24T00:00:00",
          "2024-10-03T00:00:00",
          "2024-10-22T00:00:00",
          "2024-10-22T00:00:00",
          "2024-11-18T00:00:00",
          "2024-11-20T00:00:00",
          "2024-12-13T00:00:00",
          "2024-12-26T00:00:00",
          "2025-01-30T00:00:00",
          "2025-02-05T00:00:00"
         ],
         "xaxis": "x",
         "y": [
          null,
          null,
          null,
          null,
          null,
          null,
          23,
          15,
          null,
          null,
          15,
          36,
          3,
          null,
          null,
          null,
          35,
          11,
          21,
          null,
          13,
          16,
          34,
          null,
          null,
          23,
          22,
          8,
          23,
          48,
          41,
          46,
          23,
          18,
          10,
          48,
          22,
          39,
          45,
          45,
          47,
          10,
          11,
          null,
          11,
          null,
          null,
          null,
          null,
          null,
          null,
          null,
          3,
          null,
          null,
          67,
          null,
          58,
          null,
          53,
          null,
          null,
          50,
          65,
          65,
          45,
          82
         ],
         "yaxis": "y"
        },
        {
         "hovertemplate": "%{text}<extra></extra>",
         "line": {
          "color": "red"
         },
         "mode": "lines+markers",
         "name": "Top Model",
         "text": [
          "GPT-3",
          "GPT-4-0613",
          "GPT-4 Turbo",
          "GPT-4o-2024-05",
          "Gemini-1.5-Pro-2024-09",
          "Gemini 2.0 Flash"
         ],
         "type": "scatter",
         "x": [
          "2021-11-20T00:00:00",
          "2023-06-13T00:00:00",
          "2023-11-06T00:00:00",
          "2024-05-13T00:00:00",
          "2024-09-24T00:00:00",
          "2025-02-05T00:00:00"
         ],
         "y": [
          null,
          23,
          36,
          48,
          67,
          82
         ]
        }
       ],
       "layout": {
        "height": 400,
        "legend": {
         "tracegroupgap": 0
        },
        "template": {
         "data": {
          "bar": [
           {
            "error_x": {
             "color": "#2a3f5f"
            },
            "error_y": {
             "color": "#2a3f5f"
            },
            "marker": {
             "line": {
              "color": "white",
              "width": 0.5
             },
             "pattern": {
              "fillmode": "overlay",
              "size": 10,
              "solidity": 0.2
             }
            },
            "type": "bar"
           }
          ],
          "barpolar": [
           {
            "marker": {
             "line": {
              "color": "white",
              "width": 0.5
             },
             "pattern": {
              "fillmode": "overlay",
              "size": 10,
              "solidity": 0.2
             }
            },
            "type": "barpolar"
           }
          ],
          "carpet": [
           {
            "aaxis": {
             "endlinecolor": "#2a3f5f",
             "gridcolor": "#C8D4E3",
             "linecolor": "#C8D4E3",
             "minorgridcolor": "#C8D4E3",
             "startlinecolor": "#2a3f5f"
            },
            "baxis": {
             "endlinecolor": "#2a3f5f",
             "gridcolor": "#C8D4E3",
             "linecolor": "#C8D4E3",
             "minorgridcolor": "#C8D4E3",
             "startlinecolor": "#2a3f5f"
            },
            "type": "carpet"
           }
          ],
          "choropleth": [
           {
            "colorbar": {
             "outlinewidth": 0,
             "ticks": ""
            },
            "type": "choropleth"
           }
          ],
          "contour": [
           {
            "colorbar": {
             "outlinewidth": 0,
             "ticks": ""
            },
            "colorscale": [
             [
              0,
              "#0d0887"
             ],
             [
              0.1111111111111111,
              "#46039f"
             ],
             [
              0.2222222222222222,
              "#7201a8"
             ],
             [
              0.3333333333333333,
              "#9c179e"
             ],
             [
              0.4444444444444444,
              "#bd3786"
             ],
             [
              0.5555555555555556,
              "#d8576b"
             ],
             [
              0.6666666666666666,
              "#ed7953"
             ],
             [
              0.7777777777777778,
              "#fb9f3a"
             ],
             [
              0.8888888888888888,
              "#fdca26"
             ],
             [
              1,
              "#f0f921"
             ]
            ],
            "type": "contour"
           }
          ],
          "contourcarpet": [
           {
            "colorbar": {
             "outlinewidth": 0,
             "ticks": ""
            },
            "type": "contourcarpet"
           }
          ],
          "heatmap": [
           {
            "colorbar": {
             "outlinewidth": 0,
             "ticks": ""
            },
            "colorscale": [
             [
              0,
              "#0d0887"
             ],
             [
              0.1111111111111111,
              "#46039f"
             ],
             [
              0.2222222222222222,
              "#7201a8"
             ],
             [
              0.3333333333333333,
              "#9c179e"
             ],
             [
              0.4444444444444444,
              "#bd3786"
             ],
             [
              0.5555555555555556,
              "#d8576b"
             ],
             [
              0.6666666666666666,
              "#ed7953"
             ],
             [
              0.7777777777777778,
              "#fb9f3a"
             ],
             [
              0.8888888888888888,
              "#fdca26"
             ],
             [
              1,
              "#f0f921"
             ]
            ],
            "type": "heatmap"
           }
          ],
          "heatmapgl": [
           {
            "colorbar": {
             "outlinewidth": 0,
             "ticks": ""
            },
            "colorscale": [
             [
              0,
              "#0d0887"
             ],
             [
              0.1111111111111111,
              "#46039f"
             ],
             [
              0.2222222222222222,
              "#7201a8"
             ],
             [
              0.3333333333333333,
              "#9c179e"
             ],
             [
              0.4444444444444444,
              "#bd3786"
             ],
             [
              0.5555555555555556,
              "#d8576b"
             ],
             [
              0.6666666666666666,
              "#ed7953"
             ],
             [
              0.7777777777777778,
              "#fb9f3a"
             ],
             [
              0.8888888888888888,
              "#fdca26"
             ],
             [
              1,
              "#f0f921"
             ]
            ],
            "type": "heatmapgl"
           }
          ],
          "histogram": [
           {
            "marker": {
             "pattern": {
              "fillmode": "overlay",
              "size": 10,
              "solidity": 0.2
             }
            },
            "type": "histogram"
           }
          ],
          "histogram2d": [
           {
            "colorbar": {
             "outlinewidth": 0,
             "ticks": ""
            },
            "colorscale": [
             [
              0,
              "#0d0887"
             ],
             [
              0.1111111111111111,
              "#46039f"
             ],
             [
              0.2222222222222222,
              "#7201a8"
             ],
             [
              0.3333333333333333,
              "#9c179e"
             ],
             [
              0.4444444444444444,
              "#bd3786"
             ],
             [
              0.5555555555555556,
              "#d8576b"
             ],
             [
              0.6666666666666666,
              "#ed7953"
             ],
             [
              0.7777777777777778,
              "#fb9f3a"
             ],
             [
              0.8888888888888888,
              "#fdca26"
             ],
             [
              1,
              "#f0f921"
             ]
            ],
            "type": "histogram2d"
           }
          ],
          "histogram2dcontour": [
           {
            "colorbar": {
             "outlinewidth": 0,
             "ticks": ""
            },
            "colorscale": [
             [
              0,
              "#0d0887"
             ],
             [
              0.1111111111111111,
              "#46039f"
             ],
             [
              0.2222222222222222,
              "#7201a8"
             ],
             [
              0.3333333333333333,
              "#9c179e"
             ],
             [
              0.4444444444444444,
              "#bd3786"
             ],
             [
              0.5555555555555556,
              "#d8576b"
             ],
             [
              0.6666666666666666,
              "#ed7953"
             ],
             [
              0.7777777777777778,
              "#fb9f3a"
             ],
             [
              0.8888888888888888,
              "#fdca26"
             ],
             [
              1,
              "#f0f921"
             ]
            ],
            "type": "histogram2dcontour"
           }
          ],
          "mesh3d": [
           {
            "colorbar": {
             "outlinewidth": 0,
             "ticks": ""
            },
            "type": "mesh3d"
           }
          ],
          "parcoords": [
           {
            "line": {
             "colorbar": {
              "outlinewidth": 0,
              "ticks": ""
             }
            },
            "type": "parcoords"
           }
          ],
          "pie": [
           {
            "automargin": true,
            "type": "pie"
           }
          ],
          "scatter": [
           {
            "fillpattern": {
             "fillmode": "overlay",
             "size": 10,
             "solidity": 0.2
            },
            "type": "scatter"
           }
          ],
          "scatter3d": [
           {
            "line": {
             "colorbar": {
              "outlinewidth": 0,
              "ticks": ""
             }
            },
            "marker": {
             "colorbar": {
              "outlinewidth": 0,
              "ticks": ""
             }
            },
            "type": "scatter3d"
           }
          ],
          "scattercarpet": [
           {
            "marker": {
             "colorbar": {
              "outlinewidth": 0,
              "ticks": ""
             }
            },
            "type": "scattercarpet"
           }
          ],
          "scattergeo": [
           {
            "marker": {
             "colorbar": {
              "outlinewidth": 0,
              "ticks": ""
             }
            },
            "type": "scattergeo"
           }
          ],
          "scattergl": [
           {
            "marker": {
             "colorbar": {
              "outlinewidth": 0,
              "ticks": ""
             }
            },
            "type": "scattergl"
           }
          ],
          "scattermapbox": [
           {
            "marker": {
             "colorbar": {
              "outlinewidth": 0,
              "ticks": ""
             }
            },
            "type": "scattermapbox"
           }
          ],
          "scatterpolar": [
           {
            "marker": {
             "colorbar": {
              "outlinewidth": 0,
              "ticks": ""
             }
            },
            "type": "scatterpolar"
           }
          ],
          "scatterpolargl": [
           {
            "marker": {
             "colorbar": {
              "outlinewidth": 0,
              "ticks": ""
             }
            },
            "type": "scatterpolargl"
           }
          ],
          "scatterternary": [
           {
            "marker": {
             "colorbar": {
              "outlinewidth": 0,
              "ticks": ""
             }
            },
            "type": "scatterternary"
           }
          ],
          "surface": [
           {
            "colorbar": {
             "outlinewidth": 0,
             "ticks": ""
            },
            "colorscale": [
             [
              0,
              "#0d0887"
             ],
             [
              0.1111111111111111,
              "#46039f"
             ],
             [
              0.2222222222222222,
              "#7201a8"
             ],
             [
              0.3333333333333333,
              "#9c179e"
             ],
             [
              0.4444444444444444,
              "#bd3786"
             ],
             [
              0.5555555555555556,
              "#d8576b"
             ],
             [
              0.6666666666666666,
              "#ed7953"
             ],
             [
              0.7777777777777778,
              "#fb9f3a"
             ],
             [
              0.8888888888888888,
              "#fdca26"
             ],
             [
              1,
              "#f0f921"
             ]
            ],
            "type": "surface"
           }
          ],
          "table": [
           {
            "cells": {
             "fill": {
              "color": "#EBF0F8"
             },
             "line": {
              "color": "white"
             }
            },
            "header": {
             "fill": {
              "color": "#C8D4E3"
             },
             "line": {
              "color": "white"
             }
            },
            "type": "table"
           }
          ]
         },
         "layout": {
          "annotationdefaults": {
           "arrowcolor": "#2a3f5f",
           "arrowhead": 0,
           "arrowwidth": 1
          },
          "autotypenumbers": "strict",
          "coloraxis": {
           "colorbar": {
            "outlinewidth": 0,
            "ticks": ""
           }
          },
          "colorscale": {
           "diverging": [
            [
             0,
             "#8e0152"
            ],
            [
             0.1,
             "#c51b7d"
            ],
            [
             0.2,
             "#de77ae"
            ],
            [
             0.3,
             "#f1b6da"
            ],
            [
             0.4,
             "#fde0ef"
            ],
            [
             0.5,
             "#f7f7f7"
            ],
            [
             0.6,
             "#e6f5d0"
            ],
            [
             0.7,
             "#b8e186"
            ],
            [
             0.8,
             "#7fbc41"
            ],
            [
             0.9,
             "#4d9221"
            ],
            [
             1,
             "#276419"
            ]
           ],
           "sequential": [
            [
             0,
             "#0d0887"
            ],
            [
             0.1111111111111111,
             "#46039f"
            ],
            [
             0.2222222222222222,
             "#7201a8"
            ],
            [
             0.3333333333333333,
             "#9c179e"
            ],
            [
             0.4444444444444444,
             "#bd3786"
            ],
            [
             0.5555555555555556,
             "#d8576b"
            ],
            [
             0.6666666666666666,
             "#ed7953"
            ],
            [
             0.7777777777777778,
             "#fb9f3a"
            ],
            [
             0.8888888888888888,
             "#fdca26"
            ],
            [
             1,
             "#f0f921"
            ]
           ],
           "sequentialminus": [
            [
             0,
             "#0d0887"
            ],
            [
             0.1111111111111111,
             "#46039f"
            ],
            [
             0.2222222222222222,
             "#7201a8"
            ],
            [
             0.3333333333333333,
             "#9c179e"
            ],
            [
             0.4444444444444444,
             "#bd3786"
            ],
            [
             0.5555555555555556,
             "#d8576b"
            ],
            [
             0.6666666666666666,
             "#ed7953"
            ],
            [
             0.7777777777777778,
             "#fb9f3a"
            ],
            [
             0.8888888888888888,
             "#fdca26"
            ],
            [
             1,
             "#f0f921"
            ]
           ]
          },
          "colorway": [
           "#636efa",
           "#EF553B",
           "#00cc96",
           "#ab63fa",
           "#FFA15A",
           "#19d3f3",
           "#FF6692",
           "#B6E880",
           "#FF97FF",
           "#FECB52"
          ],
          "font": {
           "color": "#2a3f5f"
          },
          "geo": {
           "bgcolor": "white",
           "lakecolor": "white",
           "landcolor": "white",
           "showlakes": true,
           "showland": true,
           "subunitcolor": "#C8D4E3"
          },
          "hoverlabel": {
           "align": "left"
          },
          "hovermode": "closest",
          "mapbox": {
           "style": "light"
          },
          "paper_bgcolor": "white",
          "plot_bgcolor": "white",
          "polar": {
           "angularaxis": {
            "gridcolor": "#EBF0F8",
            "linecolor": "#EBF0F8",
            "ticks": ""
           },
           "bgcolor": "white",
           "radialaxis": {
            "gridcolor": "#EBF0F8",
            "linecolor": "#EBF0F8",
            "ticks": ""
           }
          },
          "scene": {
           "xaxis": {
            "backgroundcolor": "white",
            "gridcolor": "#DFE8F3",
            "gridwidth": 2,
            "linecolor": "#EBF0F8",
            "showbackground": true,
            "ticks": "",
            "zerolinecolor": "#EBF0F8"
           },
           "yaxis": {
            "backgroundcolor": "white",
            "gridcolor": "#DFE8F3",
            "gridwidth": 2,
            "linecolor": "#EBF0F8",
            "showbackground": true,
            "ticks": "",
            "zerolinecolor": "#EBF0F8"
           },
           "zaxis": {
            "backgroundcolor": "white",
            "gridcolor": "#DFE8F3",
            "gridwidth": 2,
            "linecolor": "#EBF0F8",
            "showbackground": true,
            "ticks": "",
            "zerolinecolor": "#EBF0F8"
           }
          },
          "shapedefaults": {
           "line": {
            "color": "#2a3f5f"
           }
          },
          "ternary": {
           "aaxis": {
            "gridcolor": "#DFE8F3",
            "linecolor": "#A2B1C6",
            "ticks": ""
           },
           "baxis": {
            "gridcolor": "#DFE8F3",
            "linecolor": "#A2B1C6",
            "ticks": ""
           },
           "bgcolor": "white",
           "caxis": {
            "gridcolor": "#DFE8F3",
            "linecolor": "#A2B1C6",
            "ticks": ""
           }
          },
          "title": {
           "x": 0.05
          },
          "xaxis": {
           "automargin": true,
           "gridcolor": "#EBF0F8",
           "linecolor": "#EBF0F8",
           "ticks": "",
           "title": {
            "standoff": 15
           },
           "zerolinecolor": "#EBF0F8",
           "zerolinewidth": 2
          },
          "yaxis": {
           "automargin": true,
           "gridcolor": "#EBF0F8",
           "linecolor": "#EBF0F8",
           "ticks": "",
           "title": {
            "standoff": 15
           },
           "zerolinecolor": "#EBF0F8",
           "zerolinewidth": 2
          }
         }
        },
        "title": {
         "text": "MATH 5 Performance over time"
        },
        "width": 800,
        "xaxis": {
         "anchor": "y",
         "domain": [
          0,
          1
         ],
         "title": {
          "text": "Release Date"
         }
        },
        "yaxis": {
         "anchor": "x",
         "domain": [
          0,
          1
         ],
         "title": {
          "text": "MATH 5"
         }
        }
       }
      }
     },
     "metadata": {},
     "output_type": "display_data"
    },
    {
     "name": "stdout",
     "output_type": "stream",
     "text": [
      "['GPT-4 Turbo (2023-11)', 'GPT-3 (2021-11)', 'GPT-3.5-Turbo-2023-06 (2023-06)', 'Claude-3.5-Sonnet-2024-10 (2024-10)', 'GPT-4-0314 (2023-03)', 'GPT-4o-2024-05 (2024-05)']\n"
     ]
    },
    {
     "data": {
      "application/vnd.plotly.v1+json": {
       "config": {
        "plotlyServerURL": "https://plot.ly"
       },
       "data": [
        {
         "customdata": [
          [
           "GPT-3"
          ],
          [
           "GPT-3"
          ],
          [
           "GPT-3"
          ],
          [
           "GPT-3.5"
          ],
          [
           "GPT-3.5 Turbo"
          ],
          [
           "GPT-4-0314"
          ],
          [
           "GPT-4-0613"
          ],
          [
           "GPT-3.5-Turbo-2023-06"
          ],
          [
           "Llama-2-Chat-7B"
          ],
          [
           "Llama-2-Chat-13B"
          ],
          [
           "GPT-3.5-Turbo-2023-11"
          ],
          [
           "GPT-4 Turbo"
          ],
          [
           "Llama 2-70B Chat"
          ],
          [
           "Llama 2-7B"
          ],
          [
           "Llama 2-13B"
          ],
          [
           "GPT-3"
          ],
          [
           "GPT-4-0125"
          ],
          [
           "GPT-3.5-Turbo-2024-01"
          ],
          [
           "Mistral-Large-2024-02"
          ],
          [
           "Mistral-Small-2024-02"
          ],
          [
           "Claude-3-Haiku"
          ],
          [
           "Claude-3-Sonnet"
          ],
          [
           "Claude-3-Opus"
          ],
          [
           "Llama 2-13B"
          ],
          [
           "Llama 2-7B"
          ],
          [
           "Mistral-8x22"
          ],
          [
           "Llama-3-Instruct-70B"
          ],
          [
           "Llama-3-Instruct-8B"
          ],
          [
           "Gemini-1.5-Flash-2024-05"
          ],
          [
           "GPT-4o-2024-05"
          ],
          [
           "Gemini-1.5-Pro-2024-05"
          ],
          [
           "Claude-3.5-Sonnet-2024-06"
          ],
          [
           "Gemma-2-27B"
          ],
          [
           "Gemma-2-9B"
          ],
          [
           "Mistral-NeMo"
          ],
          [
           "GPT-4o-mini"
          ],
          [
           "Llama-3.1-Instruct-8B"
          ],
          [
           "Llama-3.1-Instruct-70B"
          ],
          [
           "Llama-3.1-Instruct-405B"
          ],
          [
           "Mistral-Large-2-2024-07"
          ],
          [
           "GPT-4o-2024-08"
          ],
          [
           "Claude 2"
          ],
          [
           "Gemini 1.0 Pro"
          ],
          [
           "Claude Instant"
          ],
          [
           "Claude 2.1"
          ],
          [
           "Cohere Command"
          ],
          [
           "Command R"
          ],
          [
           "Command R+"
          ],
          [
           "Cohere Command Light"
          ],
          [
           "DeepSeek-Coder-V2 236B"
          ],
          [
           "Jamba 1.5-Large"
          ],
          [
           "Command R+"
          ],
          [
           "Mistral 7B"
          ],
          [
           "Reka Core"
          ],
          [
           "Llama-3.2-Instruct-1B"
          ],
          [
           "Gemini-1.5-Pro-2024-09"
          ],
          [
           "Llama-3.2-Instruct-3B"
          ],
          [
           "Gemini-1.5-Flash-2024-09"
          ],
          [
           "Gemini-1.5-Flash-8B"
          ],
          [
           "Claude-3.5-Sonnet-2024-10"
          ],
          [
           "Claude-3.5-Haiku"
          ],
          [
           "Mistral-Large-2-2024-11"
          ],
          [
           "GPT-4o-2024-11"
          ],
          [
           "Phi 4"
          ],
          [
           "DeepSeek-V3"
          ],
          [
           "Mistral Small 3"
          ],
          [
           "Gemini 2.0 Flash"
          ]
         ],
         "hovertemplate": "Release Date=%{x}<br>HumanEval=%{y}<br>Model Name=%{customdata[0]}<extra></extra>",
         "legendgroup": "",
         "marker": {
          "color": "lightgray",
          "symbol": "circle"
         },
         "mode": "markers",
         "name": "",
         "orientation": "v",
         "showlegend": false,
         "type": "scatter",
         "x": [
          "2021-11-20T00:00:00",
          "2022-08-31T00:00:00",
          "2022-09-01T00:00:00",
          "2022-11-30T00:00:00",
          "2023-03-06T00:00:00",
          "2023-03-14T00:00:00",
          "2023-06-13T00:00:00",
          "2023-06-13T00:00:00",
          "2023-07-18T00:00:00",
          "2023-07-18T00:00:00",
          "2023-11-06T00:00:00",
          "2023-11-06T00:00:00",
          "2023-12-01T00:00:00",
          "2023-12-01T00:00:00",
          "2023-12-08T00:00:00",
          "2024-01-04T00:00:00",
          "2024-01-25T00:00:00",
          "2024-01-25T00:00:00",
          "2024-02-26T00:00:00",
          "2024-02-26T00:00:00",
          "2024-03-04T00:00:00",
          "2024-03-04T00:00:00",
          "2024-03-04T00:00:00",
          "2024-04-14T00:00:00",
          "2024-04-14T00:00:00",
          "2024-04-17T00:00:00",
          "2024-04-18T00:00:00",
          "2024-04-18T00:00:00",
          "2024-05-10T00:00:00",
          "2024-05-13T00:00:00",
          "2024-05-23T00:00:00",
          "2024-06-20T00:00:00",
          "2024-06-24T00:00:00",
          "2024-06-24T00:00:00",
          "2024-07-18T00:00:00",
          "2024-07-18T00:00:00",
          "2024-07-23T00:00:00",
          "2024-07-23T00:00:00",
          "2024-07-23T00:00:00",
          "2024-07-24T00:00:00",
          "2024-08-06T00:00:00",
          "2024-08-12T00:00:00",
          "2024-08-12T00:00:00",
          "2024-08-12T00:00:00",
          "2024-08-12T00:00:00",
          "2024-08-13T00:00:00",
          "2024-08-13T00:00:00",
          "2024-08-13T00:00:00",
          "2024-08-13T00:00:00",
          "2024-09-11T00:00:00",
          "2024-09-12T00:00:00",
          "2024-09-13T00:00:00",
          "2024-09-14T00:00:00",
          "2024-09-14T00:00:00",
          "2024-09-24T00:00:00",
          "2024-09-24T00:00:00",
          "2024-09-24T00:00:00",
          "2024-09-24T00:00:00",
          "2024-10-03T00:00:00",
          "2024-10-22T00:00:00",
          "2024-10-22T00:00:00",
          "2024-11-18T00:00:00",
          "2024-11-20T00:00:00",
          "2024-12-13T00:00:00",
          "2024-12-26T00:00:00",
          "2025-01-30T00:00:00",
          "2025-02-05T00:00:00"
         ],
         "xaxis": "x",
         "y": [
          null,
          null,
          null,
          null,
          null,
          67,
          null,
          71,
          13,
          null,
          71,
          92,
          null,
          null,
          null,
          null,
          null,
          71,
          69,
          79,
          77,
          71,
          83,
          null,
          null,
          74,
          18,
          53,
          null,
          94,
          83,
          90,
          76,
          64,
          71,
          88,
          67,
          80,
          87,
          91,
          93,
          null,
          null,
          null,
          16,
          null,
          42,
          63,
          null,
          87,
          24,
          63,
          40,
          73,
          40,
          88,
          60,
          83,
          12,
          96,
          87,
          90,
          93,
          87,
          91,
          85,
          90
         ],
         "yaxis": "y"
        },
        {
         "hovertemplate": "%{text}<extra></extra>",
         "line": {
          "color": "red"
         },
         "mode": "lines+markers",
         "name": "Top Model",
         "text": [
          "GPT-3",
          "GPT-4-0314",
          "GPT-3.5-Turbo-2023-06",
          "GPT-4 Turbo",
          "GPT-4o-2024-05",
          "Claude-3.5-Sonnet-2024-10"
         ],
         "type": "scatter",
         "x": [
          "2021-11-20T00:00:00",
          "2023-03-14T00:00:00",
          "2023-06-13T00:00:00",
          "2023-11-06T00:00:00",
          "2024-05-13T00:00:00",
          "2024-10-22T00:00:00"
         ],
         "y": [
          null,
          67,
          71,
          92,
          94,
          96
         ]
        }
       ],
       "layout": {
        "height": 400,
        "legend": {
         "tracegroupgap": 0
        },
        "template": {
         "data": {
          "bar": [
           {
            "error_x": {
             "color": "#2a3f5f"
            },
            "error_y": {
             "color": "#2a3f5f"
            },
            "marker": {
             "line": {
              "color": "white",
              "width": 0.5
             },
             "pattern": {
              "fillmode": "overlay",
              "size": 10,
              "solidity": 0.2
             }
            },
            "type": "bar"
           }
          ],
          "barpolar": [
           {
            "marker": {
             "line": {
              "color": "white",
              "width": 0.5
             },
             "pattern": {
              "fillmode": "overlay",
              "size": 10,
              "solidity": 0.2
             }
            },
            "type": "barpolar"
           }
          ],
          "carpet": [
           {
            "aaxis": {
             "endlinecolor": "#2a3f5f",
             "gridcolor": "#C8D4E3",
             "linecolor": "#C8D4E3",
             "minorgridcolor": "#C8D4E3",
             "startlinecolor": "#2a3f5f"
            },
            "baxis": {
             "endlinecolor": "#2a3f5f",
             "gridcolor": "#C8D4E3",
             "linecolor": "#C8D4E3",
             "minorgridcolor": "#C8D4E3",
             "startlinecolor": "#2a3f5f"
            },
            "type": "carpet"
           }
          ],
          "choropleth": [
           {
            "colorbar": {
             "outlinewidth": 0,
             "ticks": ""
            },
            "type": "choropleth"
           }
          ],
          "contour": [
           {
            "colorbar": {
             "outlinewidth": 0,
             "ticks": ""
            },
            "colorscale": [
             [
              0,
              "#0d0887"
             ],
             [
              0.1111111111111111,
              "#46039f"
             ],
             [
              0.2222222222222222,
              "#7201a8"
             ],
             [
              0.3333333333333333,
              "#9c179e"
             ],
             [
              0.4444444444444444,
              "#bd3786"
             ],
             [
              0.5555555555555556,
              "#d8576b"
             ],
             [
              0.6666666666666666,
              "#ed7953"
             ],
             [
              0.7777777777777778,
              "#fb9f3a"
             ],
             [
              0.8888888888888888,
              "#fdca26"
             ],
             [
              1,
              "#f0f921"
             ]
            ],
            "type": "contour"
           }
          ],
          "contourcarpet": [
           {
            "colorbar": {
             "outlinewidth": 0,
             "ticks": ""
            },
            "type": "contourcarpet"
           }
          ],
          "heatmap": [
           {
            "colorbar": {
             "outlinewidth": 0,
             "ticks": ""
            },
            "colorscale": [
             [
              0,
              "#0d0887"
             ],
             [
              0.1111111111111111,
              "#46039f"
             ],
             [
              0.2222222222222222,
              "#7201a8"
             ],
             [
              0.3333333333333333,
              "#9c179e"
             ],
             [
              0.4444444444444444,
              "#bd3786"
             ],
             [
              0.5555555555555556,
              "#d8576b"
             ],
             [
              0.6666666666666666,
              "#ed7953"
             ],
             [
              0.7777777777777778,
              "#fb9f3a"
             ],
             [
              0.8888888888888888,
              "#fdca26"
             ],
             [
              1,
              "#f0f921"
             ]
            ],
            "type": "heatmap"
           }
          ],
          "heatmapgl": [
           {
            "colorbar": {
             "outlinewidth": 0,
             "ticks": ""
            },
            "colorscale": [
             [
              0,
              "#0d0887"
             ],
             [
              0.1111111111111111,
              "#46039f"
             ],
             [
              0.2222222222222222,
              "#7201a8"
             ],
             [
              0.3333333333333333,
              "#9c179e"
             ],
             [
              0.4444444444444444,
              "#bd3786"
             ],
             [
              0.5555555555555556,
              "#d8576b"
             ],
             [
              0.6666666666666666,
              "#ed7953"
             ],
             [
              0.7777777777777778,
              "#fb9f3a"
             ],
             [
              0.8888888888888888,
              "#fdca26"
             ],
             [
              1,
              "#f0f921"
             ]
            ],
            "type": "heatmapgl"
           }
          ],
          "histogram": [
           {
            "marker": {
             "pattern": {
              "fillmode": "overlay",
              "size": 10,
              "solidity": 0.2
             }
            },
            "type": "histogram"
           }
          ],
          "histogram2d": [
           {
            "colorbar": {
             "outlinewidth": 0,
             "ticks": ""
            },
            "colorscale": [
             [
              0,
              "#0d0887"
             ],
             [
              0.1111111111111111,
              "#46039f"
             ],
             [
              0.2222222222222222,
              "#7201a8"
             ],
             [
              0.3333333333333333,
              "#9c179e"
             ],
             [
              0.4444444444444444,
              "#bd3786"
             ],
             [
              0.5555555555555556,
              "#d8576b"
             ],
             [
              0.6666666666666666,
              "#ed7953"
             ],
             [
              0.7777777777777778,
              "#fb9f3a"
             ],
             [
              0.8888888888888888,
              "#fdca26"
             ],
             [
              1,
              "#f0f921"
             ]
            ],
            "type": "histogram2d"
           }
          ],
          "histogram2dcontour": [
           {
            "colorbar": {
             "outlinewidth": 0,
             "ticks": ""
            },
            "colorscale": [
             [
              0,
              "#0d0887"
             ],
             [
              0.1111111111111111,
              "#46039f"
             ],
             [
              0.2222222222222222,
              "#7201a8"
             ],
             [
              0.3333333333333333,
              "#9c179e"
             ],
             [
              0.4444444444444444,
              "#bd3786"
             ],
             [
              0.5555555555555556,
              "#d8576b"
             ],
             [
              0.6666666666666666,
              "#ed7953"
             ],
             [
              0.7777777777777778,
              "#fb9f3a"
             ],
             [
              0.8888888888888888,
              "#fdca26"
             ],
             [
              1,
              "#f0f921"
             ]
            ],
            "type": "histogram2dcontour"
           }
          ],
          "mesh3d": [
           {
            "colorbar": {
             "outlinewidth": 0,
             "ticks": ""
            },
            "type": "mesh3d"
           }
          ],
          "parcoords": [
           {
            "line": {
             "colorbar": {
              "outlinewidth": 0,
              "ticks": ""
             }
            },
            "type": "parcoords"
           }
          ],
          "pie": [
           {
            "automargin": true,
            "type": "pie"
           }
          ],
          "scatter": [
           {
            "fillpattern": {
             "fillmode": "overlay",
             "size": 10,
             "solidity": 0.2
            },
            "type": "scatter"
           }
          ],
          "scatter3d": [
           {
            "line": {
             "colorbar": {
              "outlinewidth": 0,
              "ticks": ""
             }
            },
            "marker": {
             "colorbar": {
              "outlinewidth": 0,
              "ticks": ""
             }
            },
            "type": "scatter3d"
           }
          ],
          "scattercarpet": [
           {
            "marker": {
             "colorbar": {
              "outlinewidth": 0,
              "ticks": ""
             }
            },
            "type": "scattercarpet"
           }
          ],
          "scattergeo": [
           {
            "marker": {
             "colorbar": {
              "outlinewidth": 0,
              "ticks": ""
             }
            },
            "type": "scattergeo"
           }
          ],
          "scattergl": [
           {
            "marker": {
             "colorbar": {
              "outlinewidth": 0,
              "ticks": ""
             }
            },
            "type": "scattergl"
           }
          ],
          "scattermapbox": [
           {
            "marker": {
             "colorbar": {
              "outlinewidth": 0,
              "ticks": ""
             }
            },
            "type": "scattermapbox"
           }
          ],
          "scatterpolar": [
           {
            "marker": {
             "colorbar": {
              "outlinewidth": 0,
              "ticks": ""
             }
            },
            "type": "scatterpolar"
           }
          ],
          "scatterpolargl": [
           {
            "marker": {
             "colorbar": {
              "outlinewidth": 0,
              "ticks": ""
             }
            },
            "type": "scatterpolargl"
           }
          ],
          "scatterternary": [
           {
            "marker": {
             "colorbar": {
              "outlinewidth": 0,
              "ticks": ""
             }
            },
            "type": "scatterternary"
           }
          ],
          "surface": [
           {
            "colorbar": {
             "outlinewidth": 0,
             "ticks": ""
            },
            "colorscale": [
             [
              0,
              "#0d0887"
             ],
             [
              0.1111111111111111,
              "#46039f"
             ],
             [
              0.2222222222222222,
              "#7201a8"
             ],
             [
              0.3333333333333333,
              "#9c179e"
             ],
             [
              0.4444444444444444,
              "#bd3786"
             ],
             [
              0.5555555555555556,
              "#d8576b"
             ],
             [
              0.6666666666666666,
              "#ed7953"
             ],
             [
              0.7777777777777778,
              "#fb9f3a"
             ],
             [
              0.8888888888888888,
              "#fdca26"
             ],
             [
              1,
              "#f0f921"
             ]
            ],
            "type": "surface"
           }
          ],
          "table": [
           {
            "cells": {
             "fill": {
              "color": "#EBF0F8"
             },
             "line": {
              "color": "white"
             }
            },
            "header": {
             "fill": {
              "color": "#C8D4E3"
             },
             "line": {
              "color": "white"
             }
            },
            "type": "table"
           }
          ]
         },
         "layout": {
          "annotationdefaults": {
           "arrowcolor": "#2a3f5f",
           "arrowhead": 0,
           "arrowwidth": 1
          },
          "autotypenumbers": "strict",
          "coloraxis": {
           "colorbar": {
            "outlinewidth": 0,
            "ticks": ""
           }
          },
          "colorscale": {
           "diverging": [
            [
             0,
             "#8e0152"
            ],
            [
             0.1,
             "#c51b7d"
            ],
            [
             0.2,
             "#de77ae"
            ],
            [
             0.3,
             "#f1b6da"
            ],
            [
             0.4,
             "#fde0ef"
            ],
            [
             0.5,
             "#f7f7f7"
            ],
            [
             0.6,
             "#e6f5d0"
            ],
            [
             0.7,
             "#b8e186"
            ],
            [
             0.8,
             "#7fbc41"
            ],
            [
             0.9,
             "#4d9221"
            ],
            [
             1,
             "#276419"
            ]
           ],
           "sequential": [
            [
             0,
             "#0d0887"
            ],
            [
             0.1111111111111111,
             "#46039f"
            ],
            [
             0.2222222222222222,
             "#7201a8"
            ],
            [
             0.3333333333333333,
             "#9c179e"
            ],
            [
             0.4444444444444444,
             "#bd3786"
            ],
            [
             0.5555555555555556,
             "#d8576b"
            ],
            [
             0.6666666666666666,
             "#ed7953"
            ],
            [
             0.7777777777777778,
             "#fb9f3a"
            ],
            [
             0.8888888888888888,
             "#fdca26"
            ],
            [
             1,
             "#f0f921"
            ]
           ],
           "sequentialminus": [
            [
             0,
             "#0d0887"
            ],
            [
             0.1111111111111111,
             "#46039f"
            ],
            [
             0.2222222222222222,
             "#7201a8"
            ],
            [
             0.3333333333333333,
             "#9c179e"
            ],
            [
             0.4444444444444444,
             "#bd3786"
            ],
            [
             0.5555555555555556,
             "#d8576b"
            ],
            [
             0.6666666666666666,
             "#ed7953"
            ],
            [
             0.7777777777777778,
             "#fb9f3a"
            ],
            [
             0.8888888888888888,
             "#fdca26"
            ],
            [
             1,
             "#f0f921"
            ]
           ]
          },
          "colorway": [
           "#636efa",
           "#EF553B",
           "#00cc96",
           "#ab63fa",
           "#FFA15A",
           "#19d3f3",
           "#FF6692",
           "#B6E880",
           "#FF97FF",
           "#FECB52"
          ],
          "font": {
           "color": "#2a3f5f"
          },
          "geo": {
           "bgcolor": "white",
           "lakecolor": "white",
           "landcolor": "white",
           "showlakes": true,
           "showland": true,
           "subunitcolor": "#C8D4E3"
          },
          "hoverlabel": {
           "align": "left"
          },
          "hovermode": "closest",
          "mapbox": {
           "style": "light"
          },
          "paper_bgcolor": "white",
          "plot_bgcolor": "white",
          "polar": {
           "angularaxis": {
            "gridcolor": "#EBF0F8",
            "linecolor": "#EBF0F8",
            "ticks": ""
           },
           "bgcolor": "white",
           "radialaxis": {
            "gridcolor": "#EBF0F8",
            "linecolor": "#EBF0F8",
            "ticks": ""
           }
          },
          "scene": {
           "xaxis": {
            "backgroundcolor": "white",
            "gridcolor": "#DFE8F3",
            "gridwidth": 2,
            "linecolor": "#EBF0F8",
            "showbackground": true,
            "ticks": "",
            "zerolinecolor": "#EBF0F8"
           },
           "yaxis": {
            "backgroundcolor": "white",
            "gridcolor": "#DFE8F3",
            "gridwidth": 2,
            "linecolor": "#EBF0F8",
            "showbackground": true,
            "ticks": "",
            "zerolinecolor": "#EBF0F8"
           },
           "zaxis": {
            "backgroundcolor": "white",
            "gridcolor": "#DFE8F3",
            "gridwidth": 2,
            "linecolor": "#EBF0F8",
            "showbackground": true,
            "ticks": "",
            "zerolinecolor": "#EBF0F8"
           }
          },
          "shapedefaults": {
           "line": {
            "color": "#2a3f5f"
           }
          },
          "ternary": {
           "aaxis": {
            "gridcolor": "#DFE8F3",
            "linecolor": "#A2B1C6",
            "ticks": ""
           },
           "baxis": {
            "gridcolor": "#DFE8F3",
            "linecolor": "#A2B1C6",
            "ticks": ""
           },
           "bgcolor": "white",
           "caxis": {
            "gridcolor": "#DFE8F3",
            "linecolor": "#A2B1C6",
            "ticks": ""
           }
          },
          "title": {
           "x": 0.05
          },
          "xaxis": {
           "automargin": true,
           "gridcolor": "#EBF0F8",
           "linecolor": "#EBF0F8",
           "ticks": "",
           "title": {
            "standoff": 15
           },
           "zerolinecolor": "#EBF0F8",
           "zerolinewidth": 2
          },
          "yaxis": {
           "automargin": true,
           "gridcolor": "#EBF0F8",
           "linecolor": "#EBF0F8",
           "ticks": "",
           "title": {
            "standoff": 15
           },
           "zerolinecolor": "#EBF0F8",
           "zerolinewidth": 2
          }
         }
        },
        "title": {
         "text": "HumanEval Performance over time"
        },
        "width": 800,
        "xaxis": {
         "anchor": "y",
         "domain": [
          0,
          1
         ],
         "title": {
          "text": "Release Date"
         }
        },
        "yaxis": {
         "anchor": "x",
         "domain": [
          0,
          1
         ],
         "title": {
          "text": "HumanEval"
         }
        }
       }
      }
     },
     "metadata": {},
     "output_type": "display_data"
    },
    {
     "name": "stdout",
     "output_type": "stream",
     "text": [
      "['GPT-3.5 Turbo (2023-03)', 'GPT-4o-2024-11 (2024-11)', 'GPT-4 Turbo (2023-11)', 'GPT-3 (2021-11)', 'GPT-4o-2024-08 (2024-08)', 'GPT-4-0314 (2023-03)', 'GPT-4o-2024-05 (2024-05)']\n"
     ]
    },
    {
     "data": {
      "application/vnd.plotly.v1+json": {
       "config": {
        "plotlyServerURL": "https://plot.ly"
       },
       "data": [
        {
         "customdata": [
          [
           "GPT-3"
          ],
          [
           "GPT-3"
          ],
          [
           "GPT-3"
          ],
          [
           "GPT-3.5"
          ],
          [
           "GPT-3.5 Turbo"
          ],
          [
           "GPT-4-0314"
          ],
          [
           "GPT-4-0613"
          ],
          [
           "GPT-3.5-Turbo-2023-06"
          ],
          [
           "Llama-2-Chat-7B"
          ],
          [
           "Llama-2-Chat-13B"
          ],
          [
           "GPT-3.5-Turbo-2023-11"
          ],
          [
           "GPT-4 Turbo"
          ],
          [
           "Llama 2-70B Chat"
          ],
          [
           "Llama 2-7B"
          ],
          [
           "Llama 2-13B"
          ],
          [
           "GPT-3"
          ],
          [
           "GPT-4-0125"
          ],
          [
           "GPT-3.5-Turbo-2024-01"
          ],
          [
           "Mistral-Large-2024-02"
          ],
          [
           "Mistral-Small-2024-02"
          ],
          [
           "Claude-3-Haiku"
          ],
          [
           "Claude-3-Sonnet"
          ],
          [
           "Claude-3-Opus"
          ],
          [
           "Llama 2-13B"
          ],
          [
           "Llama 2-7B"
          ],
          [
           "Mistral-8x22"
          ],
          [
           "Llama-3-Instruct-70B"
          ],
          [
           "Llama-3-Instruct-8B"
          ],
          [
           "Gemini-1.5-Flash-2024-05"
          ],
          [
           "GPT-4o-2024-05"
          ],
          [
           "Gemini-1.5-Pro-2024-05"
          ],
          [
           "Claude-3.5-Sonnet-2024-06"
          ],
          [
           "Gemma-2-27B"
          ],
          [
           "Gemma-2-9B"
          ],
          [
           "Mistral-NeMo"
          ],
          [
           "GPT-4o-mini"
          ],
          [
           "Llama-3.1-Instruct-8B"
          ],
          [
           "Llama-3.1-Instruct-70B"
          ],
          [
           "Llama-3.1-Instruct-405B"
          ],
          [
           "Mistral-Large-2-2024-07"
          ],
          [
           "GPT-4o-2024-08"
          ],
          [
           "Claude 2"
          ],
          [
           "Gemini 1.0 Pro"
          ],
          [
           "Claude Instant"
          ],
          [
           "Claude 2.1"
          ],
          [
           "Cohere Command"
          ],
          [
           "Command R"
          ],
          [
           "Command R+"
          ],
          [
           "Cohere Command Light"
          ],
          [
           "DeepSeek-Coder-V2 236B"
          ],
          [
           "Jamba 1.5-Large"
          ],
          [
           "Command R+"
          ],
          [
           "Mistral 7B"
          ],
          [
           "Reka Core"
          ],
          [
           "Llama-3.2-Instruct-1B"
          ],
          [
           "Gemini-1.5-Pro-2024-09"
          ],
          [
           "Llama-3.2-Instruct-3B"
          ],
          [
           "Gemini-1.5-Flash-2024-09"
          ],
          [
           "Gemini-1.5-Flash-8B"
          ],
          [
           "Claude-3.5-Sonnet-2024-10"
          ],
          [
           "Claude-3.5-Haiku"
          ],
          [
           "Mistral-Large-2-2024-11"
          ],
          [
           "GPT-4o-2024-11"
          ],
          [
           "Phi 4"
          ],
          [
           "DeepSeek-V3"
          ],
          [
           "Mistral Small 3"
          ],
          [
           "Gemini 2.0 Flash"
          ]
         ],
         "hovertemplate": "Release Date=%{x}<br>LMSys Chatbot Arena ELO=%{y}<br>Model Name=%{customdata[0]}<extra></extra>",
         "legendgroup": "",
         "marker": {
          "color": "lightgray",
          "symbol": "circle"
         },
         "mode": "markers",
         "name": "",
         "orientation": "v",
         "showlegend": false,
         "type": "scatter",
         "x": [
          "2021-11-20T00:00:00",
          "2022-08-31T00:00:00",
          "2022-09-01T00:00:00",
          "2022-11-30T00:00:00",
          "2023-03-06T00:00:00",
          "2023-03-14T00:00:00",
          "2023-06-13T00:00:00",
          "2023-06-13T00:00:00",
          "2023-07-18T00:00:00",
          "2023-07-18T00:00:00",
          "2023-11-06T00:00:00",
          "2023-11-06T00:00:00",
          "2023-12-01T00:00:00",
          "2023-12-01T00:00:00",
          "2023-12-08T00:00:00",
          "2024-01-04T00:00:00",
          "2024-01-25T00:00:00",
          "2024-01-25T00:00:00",
          "2024-02-26T00:00:00",
          "2024-02-26T00:00:00",
          "2024-03-04T00:00:00",
          "2024-03-04T00:00:00",
          "2024-03-04T00:00:00",
          "2024-04-14T00:00:00",
          "2024-04-14T00:00:00",
          "2024-04-17T00:00:00",
          "2024-04-18T00:00:00",
          "2024-04-18T00:00:00",
          "2024-05-10T00:00:00",
          "2024-05-13T00:00:00",
          "2024-05-23T00:00:00",
          "2024-06-20T00:00:00",
          "2024-06-24T00:00:00",
          "2024-06-24T00:00:00",
          "2024-07-18T00:00:00",
          "2024-07-18T00:00:00",
          "2024-07-23T00:00:00",
          "2024-07-23T00:00:00",
          "2024-07-23T00:00:00",
          "2024-07-24T00:00:00",
          "2024-08-06T00:00:00",
          "2024-08-12T00:00:00",
          "2024-08-12T00:00:00",
          "2024-08-12T00:00:00",
          "2024-08-12T00:00:00",
          "2024-08-13T00:00:00",
          "2024-08-13T00:00:00",
          "2024-08-13T00:00:00",
          "2024-08-13T00:00:00",
          "2024-09-11T00:00:00",
          "2024-09-12T00:00:00",
          "2024-09-13T00:00:00",
          "2024-09-14T00:00:00",
          "2024-09-14T00:00:00",
          "2024-09-24T00:00:00",
          "2024-09-24T00:00:00",
          "2024-09-24T00:00:00",
          "2024-09-24T00:00:00",
          "2024-10-03T00:00:00",
          "2024-10-22T00:00:00",
          "2024-10-22T00:00:00",
          "2024-11-18T00:00:00",
          "2024-11-20T00:00:00",
          "2024-12-13T00:00:00",
          "2024-12-26T00:00:00",
          "2025-01-30T00:00:00",
          "2025-02-05T00:00:00"
         ],
         "xaxis": "x",
         "y": [
          null,
          null,
          null,
          null,
          1106,
          1186,
          1163,
          1117,
          1037,
          1063,
          1107,
          1256,
          1093,
          null,
          null,
          null,
          1245,
          1106,
          1157,
          null,
          1179,
          1201,
          1248,
          null,
          null,
          1148,
          1206,
          1152,
          1227,
          1285,
          1260,
          1268,
          1219,
          1190,
          null,
          1273,
          1172,
          1249,
          1266,
          1251,
          1337,
          null,
          1111,
          null,
          null,
          null,
          1180,
          1215,
          null,
          1178,
          1221,
          1215,
          1008,
          1235,
          1103,
          1301,
          1103,
          1271,
          1211,
          1282,
          1236,
          1247,
          1361,
          1204,
          1318,
          1210,
          1358
         ],
         "yaxis": "y"
        },
        {
         "hovertemplate": "%{text}<extra></extra>",
         "line": {
          "color": "red"
         },
         "mode": "lines+markers",
         "name": "Top Model",
         "text": [
          "GPT-3",
          "GPT-3.5 Turbo",
          "GPT-4-0314",
          "GPT-4 Turbo",
          "GPT-4o-2024-05",
          "GPT-4o-2024-08",
          "GPT-4o-2024-11"
         ],
         "type": "scatter",
         "x": [
          "2021-11-20T00:00:00",
          "2023-03-06T00:00:00",
          "2023-03-14T00:00:00",
          "2023-11-06T00:00:00",
          "2024-05-13T00:00:00",
          "2024-08-06T00:00:00",
          "2024-11-20T00:00:00"
         ],
         "y": [
          null,
          1106,
          1186,
          1256,
          1285,
          1337,
          1361
         ]
        }
       ],
       "layout": {
        "height": 400,
        "legend": {
         "tracegroupgap": 0
        },
        "template": {
         "data": {
          "bar": [
           {
            "error_x": {
             "color": "#2a3f5f"
            },
            "error_y": {
             "color": "#2a3f5f"
            },
            "marker": {
             "line": {
              "color": "white",
              "width": 0.5
             },
             "pattern": {
              "fillmode": "overlay",
              "size": 10,
              "solidity": 0.2
             }
            },
            "type": "bar"
           }
          ],
          "barpolar": [
           {
            "marker": {
             "line": {
              "color": "white",
              "width": 0.5
             },
             "pattern": {
              "fillmode": "overlay",
              "size": 10,
              "solidity": 0.2
             }
            },
            "type": "barpolar"
           }
          ],
          "carpet": [
           {
            "aaxis": {
             "endlinecolor": "#2a3f5f",
             "gridcolor": "#C8D4E3",
             "linecolor": "#C8D4E3",
             "minorgridcolor": "#C8D4E3",
             "startlinecolor": "#2a3f5f"
            },
            "baxis": {
             "endlinecolor": "#2a3f5f",
             "gridcolor": "#C8D4E3",
             "linecolor": "#C8D4E3",
             "minorgridcolor": "#C8D4E3",
             "startlinecolor": "#2a3f5f"
            },
            "type": "carpet"
           }
          ],
          "choropleth": [
           {
            "colorbar": {
             "outlinewidth": 0,
             "ticks": ""
            },
            "type": "choropleth"
           }
          ],
          "contour": [
           {
            "colorbar": {
             "outlinewidth": 0,
             "ticks": ""
            },
            "colorscale": [
             [
              0,
              "#0d0887"
             ],
             [
              0.1111111111111111,
              "#46039f"
             ],
             [
              0.2222222222222222,
              "#7201a8"
             ],
             [
              0.3333333333333333,
              "#9c179e"
             ],
             [
              0.4444444444444444,
              "#bd3786"
             ],
             [
              0.5555555555555556,
              "#d8576b"
             ],
             [
              0.6666666666666666,
              "#ed7953"
             ],
             [
              0.7777777777777778,
              "#fb9f3a"
             ],
             [
              0.8888888888888888,
              "#fdca26"
             ],
             [
              1,
              "#f0f921"
             ]
            ],
            "type": "contour"
           }
          ],
          "contourcarpet": [
           {
            "colorbar": {
             "outlinewidth": 0,
             "ticks": ""
            },
            "type": "contourcarpet"
           }
          ],
          "heatmap": [
           {
            "colorbar": {
             "outlinewidth": 0,
             "ticks": ""
            },
            "colorscale": [
             [
              0,
              "#0d0887"
             ],
             [
              0.1111111111111111,
              "#46039f"
             ],
             [
              0.2222222222222222,
              "#7201a8"
             ],
             [
              0.3333333333333333,
              "#9c179e"
             ],
             [
              0.4444444444444444,
              "#bd3786"
             ],
             [
              0.5555555555555556,
              "#d8576b"
             ],
             [
              0.6666666666666666,
              "#ed7953"
             ],
             [
              0.7777777777777778,
              "#fb9f3a"
             ],
             [
              0.8888888888888888,
              "#fdca26"
             ],
             [
              1,
              "#f0f921"
             ]
            ],
            "type": "heatmap"
           }
          ],
          "heatmapgl": [
           {
            "colorbar": {
             "outlinewidth": 0,
             "ticks": ""
            },
            "colorscale": [
             [
              0,
              "#0d0887"
             ],
             [
              0.1111111111111111,
              "#46039f"
             ],
             [
              0.2222222222222222,
              "#7201a8"
             ],
             [
              0.3333333333333333,
              "#9c179e"
             ],
             [
              0.4444444444444444,
              "#bd3786"
             ],
             [
              0.5555555555555556,
              "#d8576b"
             ],
             [
              0.6666666666666666,
              "#ed7953"
             ],
             [
              0.7777777777777778,
              "#fb9f3a"
             ],
             [
              0.8888888888888888,
              "#fdca26"
             ],
             [
              1,
              "#f0f921"
             ]
            ],
            "type": "heatmapgl"
           }
          ],
          "histogram": [
           {
            "marker": {
             "pattern": {
              "fillmode": "overlay",
              "size": 10,
              "solidity": 0.2
             }
            },
            "type": "histogram"
           }
          ],
          "histogram2d": [
           {
            "colorbar": {
             "outlinewidth": 0,
             "ticks": ""
            },
            "colorscale": [
             [
              0,
              "#0d0887"
             ],
             [
              0.1111111111111111,
              "#46039f"
             ],
             [
              0.2222222222222222,
              "#7201a8"
             ],
             [
              0.3333333333333333,
              "#9c179e"
             ],
             [
              0.4444444444444444,
              "#bd3786"
             ],
             [
              0.5555555555555556,
              "#d8576b"
             ],
             [
              0.6666666666666666,
              "#ed7953"
             ],
             [
              0.7777777777777778,
              "#fb9f3a"
             ],
             [
              0.8888888888888888,
              "#fdca26"
             ],
             [
              1,
              "#f0f921"
             ]
            ],
            "type": "histogram2d"
           }
          ],
          "histogram2dcontour": [
           {
            "colorbar": {
             "outlinewidth": 0,
             "ticks": ""
            },
            "colorscale": [
             [
              0,
              "#0d0887"
             ],
             [
              0.1111111111111111,
              "#46039f"
             ],
             [
              0.2222222222222222,
              "#7201a8"
             ],
             [
              0.3333333333333333,
              "#9c179e"
             ],
             [
              0.4444444444444444,
              "#bd3786"
             ],
             [
              0.5555555555555556,
              "#d8576b"
             ],
             [
              0.6666666666666666,
              "#ed7953"
             ],
             [
              0.7777777777777778,
              "#fb9f3a"
             ],
             [
              0.8888888888888888,
              "#fdca26"
             ],
             [
              1,
              "#f0f921"
             ]
            ],
            "type": "histogram2dcontour"
           }
          ],
          "mesh3d": [
           {
            "colorbar": {
             "outlinewidth": 0,
             "ticks": ""
            },
            "type": "mesh3d"
           }
          ],
          "parcoords": [
           {
            "line": {
             "colorbar": {
              "outlinewidth": 0,
              "ticks": ""
             }
            },
            "type": "parcoords"
           }
          ],
          "pie": [
           {
            "automargin": true,
            "type": "pie"
           }
          ],
          "scatter": [
           {
            "fillpattern": {
             "fillmode": "overlay",
             "size": 10,
             "solidity": 0.2
            },
            "type": "scatter"
           }
          ],
          "scatter3d": [
           {
            "line": {
             "colorbar": {
              "outlinewidth": 0,
              "ticks": ""
             }
            },
            "marker": {
             "colorbar": {
              "outlinewidth": 0,
              "ticks": ""
             }
            },
            "type": "scatter3d"
           }
          ],
          "scattercarpet": [
           {
            "marker": {
             "colorbar": {
              "outlinewidth": 0,
              "ticks": ""
             }
            },
            "type": "scattercarpet"
           }
          ],
          "scattergeo": [
           {
            "marker": {
             "colorbar": {
              "outlinewidth": 0,
              "ticks": ""
             }
            },
            "type": "scattergeo"
           }
          ],
          "scattergl": [
           {
            "marker": {
             "colorbar": {
              "outlinewidth": 0,
              "ticks": ""
             }
            },
            "type": "scattergl"
           }
          ],
          "scattermapbox": [
           {
            "marker": {
             "colorbar": {
              "outlinewidth": 0,
              "ticks": ""
             }
            },
            "type": "scattermapbox"
           }
          ],
          "scatterpolar": [
           {
            "marker": {
             "colorbar": {
              "outlinewidth": 0,
              "ticks": ""
             }
            },
            "type": "scatterpolar"
           }
          ],
          "scatterpolargl": [
           {
            "marker": {
             "colorbar": {
              "outlinewidth": 0,
              "ticks": ""
             }
            },
            "type": "scatterpolargl"
           }
          ],
          "scatterternary": [
           {
            "marker": {
             "colorbar": {
              "outlinewidth": 0,
              "ticks": ""
             }
            },
            "type": "scatterternary"
           }
          ],
          "surface": [
           {
            "colorbar": {
             "outlinewidth": 0,
             "ticks": ""
            },
            "colorscale": [
             [
              0,
              "#0d0887"
             ],
             [
              0.1111111111111111,
              "#46039f"
             ],
             [
              0.2222222222222222,
              "#7201a8"
             ],
             [
              0.3333333333333333,
              "#9c179e"
             ],
             [
              0.4444444444444444,
              "#bd3786"
             ],
             [
              0.5555555555555556,
              "#d8576b"
             ],
             [
              0.6666666666666666,
              "#ed7953"
             ],
             [
              0.7777777777777778,
              "#fb9f3a"
             ],
             [
              0.8888888888888888,
              "#fdca26"
             ],
             [
              1,
              "#f0f921"
             ]
            ],
            "type": "surface"
           }
          ],
          "table": [
           {
            "cells": {
             "fill": {
              "color": "#EBF0F8"
             },
             "line": {
              "color": "white"
             }
            },
            "header": {
             "fill": {
              "color": "#C8D4E3"
             },
             "line": {
              "color": "white"
             }
            },
            "type": "table"
           }
          ]
         },
         "layout": {
          "annotationdefaults": {
           "arrowcolor": "#2a3f5f",
           "arrowhead": 0,
           "arrowwidth": 1
          },
          "autotypenumbers": "strict",
          "coloraxis": {
           "colorbar": {
            "outlinewidth": 0,
            "ticks": ""
           }
          },
          "colorscale": {
           "diverging": [
            [
             0,
             "#8e0152"
            ],
            [
             0.1,
             "#c51b7d"
            ],
            [
             0.2,
             "#de77ae"
            ],
            [
             0.3,
             "#f1b6da"
            ],
            [
             0.4,
             "#fde0ef"
            ],
            [
             0.5,
             "#f7f7f7"
            ],
            [
             0.6,
             "#e6f5d0"
            ],
            [
             0.7,
             "#b8e186"
            ],
            [
             0.8,
             "#7fbc41"
            ],
            [
             0.9,
             "#4d9221"
            ],
            [
             1,
             "#276419"
            ]
           ],
           "sequential": [
            [
             0,
             "#0d0887"
            ],
            [
             0.1111111111111111,
             "#46039f"
            ],
            [
             0.2222222222222222,
             "#7201a8"
            ],
            [
             0.3333333333333333,
             "#9c179e"
            ],
            [
             0.4444444444444444,
             "#bd3786"
            ],
            [
             0.5555555555555556,
             "#d8576b"
            ],
            [
             0.6666666666666666,
             "#ed7953"
            ],
            [
             0.7777777777777778,
             "#fb9f3a"
            ],
            [
             0.8888888888888888,
             "#fdca26"
            ],
            [
             1,
             "#f0f921"
            ]
           ],
           "sequentialminus": [
            [
             0,
             "#0d0887"
            ],
            [
             0.1111111111111111,
             "#46039f"
            ],
            [
             0.2222222222222222,
             "#7201a8"
            ],
            [
             0.3333333333333333,
             "#9c179e"
            ],
            [
             0.4444444444444444,
             "#bd3786"
            ],
            [
             0.5555555555555556,
             "#d8576b"
            ],
            [
             0.6666666666666666,
             "#ed7953"
            ],
            [
             0.7777777777777778,
             "#fb9f3a"
            ],
            [
             0.8888888888888888,
             "#fdca26"
            ],
            [
             1,
             "#f0f921"
            ]
           ]
          },
          "colorway": [
           "#636efa",
           "#EF553B",
           "#00cc96",
           "#ab63fa",
           "#FFA15A",
           "#19d3f3",
           "#FF6692",
           "#B6E880",
           "#FF97FF",
           "#FECB52"
          ],
          "font": {
           "color": "#2a3f5f"
          },
          "geo": {
           "bgcolor": "white",
           "lakecolor": "white",
           "landcolor": "white",
           "showlakes": true,
           "showland": true,
           "subunitcolor": "#C8D4E3"
          },
          "hoverlabel": {
           "align": "left"
          },
          "hovermode": "closest",
          "mapbox": {
           "style": "light"
          },
          "paper_bgcolor": "white",
          "plot_bgcolor": "white",
          "polar": {
           "angularaxis": {
            "gridcolor": "#EBF0F8",
            "linecolor": "#EBF0F8",
            "ticks": ""
           },
           "bgcolor": "white",
           "radialaxis": {
            "gridcolor": "#EBF0F8",
            "linecolor": "#EBF0F8",
            "ticks": ""
           }
          },
          "scene": {
           "xaxis": {
            "backgroundcolor": "white",
            "gridcolor": "#DFE8F3",
            "gridwidth": 2,
            "linecolor": "#EBF0F8",
            "showbackground": true,
            "ticks": "",
            "zerolinecolor": "#EBF0F8"
           },
           "yaxis": {
            "backgroundcolor": "white",
            "gridcolor": "#DFE8F3",
            "gridwidth": 2,
            "linecolor": "#EBF0F8",
            "showbackground": true,
            "ticks": "",
            "zerolinecolor": "#EBF0F8"
           },
           "zaxis": {
            "backgroundcolor": "white",
            "gridcolor": "#DFE8F3",
            "gridwidth": 2,
            "linecolor": "#EBF0F8",
            "showbackground": true,
            "ticks": "",
            "zerolinecolor": "#EBF0F8"
           }
          },
          "shapedefaults": {
           "line": {
            "color": "#2a3f5f"
           }
          },
          "ternary": {
           "aaxis": {
            "gridcolor": "#DFE8F3",
            "linecolor": "#A2B1C6",
            "ticks": ""
           },
           "baxis": {
            "gridcolor": "#DFE8F3",
            "linecolor": "#A2B1C6",
            "ticks": ""
           },
           "bgcolor": "white",
           "caxis": {
            "gridcolor": "#DFE8F3",
            "linecolor": "#A2B1C6",
            "ticks": ""
           }
          },
          "title": {
           "x": 0.05
          },
          "xaxis": {
           "automargin": true,
           "gridcolor": "#EBF0F8",
           "linecolor": "#EBF0F8",
           "ticks": "",
           "title": {
            "standoff": 15
           },
           "zerolinecolor": "#EBF0F8",
           "zerolinewidth": 2
          },
          "yaxis": {
           "automargin": true,
           "gridcolor": "#EBF0F8",
           "linecolor": "#EBF0F8",
           "ticks": "",
           "title": {
            "standoff": 15
           },
           "zerolinecolor": "#EBF0F8",
           "zerolinewidth": 2
          }
         }
        },
        "title": {
         "text": "LMSys Chatbot Arena ELO Performance over time"
        },
        "width": 800,
        "xaxis": {
         "anchor": "y",
         "domain": [
          0,
          1
         ],
         "title": {
          "text": "Release Date"
         }
        },
        "yaxis": {
         "anchor": "x",
         "domain": [
          0,
          1
         ],
         "title": {
          "text": "LMSys Chatbot Arena ELO"
         }
        }
       }
      }
     },
     "metadata": {},
     "output_type": "display_data"
    }
   ],
   "source": [
    "top_n = 1\n",
    "aa_df = aa_df.sort_values(by='Release Date')\n",
    "\n",
    "top_models_df_lookup = {}\n",
    "for benchmark in benchmarks:\n",
    "    # Get the top-1 model by benchmark score at each point in time\n",
    "    ever_top_n_models = set()\n",
    "    unique_dates = aa_df['Release Date'].sort_values().unique()\n",
    "    for date in unique_dates:\n",
    "        df_up_to_date = aa_df[aa_df['Release Date'] <= date]\n",
    "        top_n_models = df_up_to_date.nlargest(top_n, benchmark)\n",
    "        top_n_model_names = top_n_models['Model Name and Date'].tolist()\n",
    "        ever_top_n_models.update(top_n_model_names)\n",
    "    ever_top_n_list = list(ever_top_n_models)\n",
    "    print(ever_top_n_list)\n",
    "    top_models_df = aa_df[aa_df['Model Name and Date'].isin(ever_top_n_list)]\n",
    "    top_models_df_lookup[benchmark] = top_models_df\n",
    "\n",
    "    # Create base scatter plot with all data\n",
    "    fig = px.scatter(aa_df, x='Release Date', y=benchmark, \n",
    "                    hover_data=['Model Name'], \n",
    "                    title=f'{benchmark} Performance over time',\n",
    "                    color_discrete_sequence=['lightgray'])\n",
    "\n",
    "    # Add top-1 models in a different color\n",
    "    fig.add_scatter(x=top_models_df['Release Date'], \n",
    "                    y=top_models_df[benchmark],\n",
    "                    mode='lines+markers',\n",
    "                    name='Top Model',\n",
    "                    hovertemplate='%{text}<extra></extra>',\n",
    "                    text=top_models_df['Model Name'],\n",
    "                    line=dict(color='red'))\n",
    "    fig.update_layout(\n",
    "        width=800,\n",
    "        height=400,\n",
    "    )\n",
    "    fig.show()"
   ]
  },
  {
   "cell_type": "code",
   "execution_count": 14,
   "metadata": {},
   "outputs": [
    {
     "data": {
      "text/plain": [
       "{'MMLU':                    Model Name Release Date  USD per 1M Tokens  MMLU  \\\n",
       " 0                       GPT-3   2021-11-20              60.00  43.9   \n",
       " 3                     GPT-3.5   2022-11-30              20.00  64.8   \n",
       " 4               GPT-3.5 Turbo   2023-03-06               2.00  68.0   \n",
       " 5                  GPT-4-0314   2023-03-14              37.50  86.0   \n",
       " 11                GPT-4 Turbo   2023-11-06              15.00  87.0   \n",
       " 31  Claude-3.5-Sonnet-2024-06   2024-06-20               6.00  88.0   \n",
       " 40             GPT-4o-2024-08   2024-08-06               4.38  89.0   \n",
       " \n",
       "     GPQA Diamond  HumanEval  MATH-500  LMSys Chatbot Arena ELO  MATH 5  \\\n",
       " 0            NaN        NaN       NaN                      NaN     NaN   \n",
       " 3            NaN        NaN       NaN                      NaN     NaN   \n",
       " 4            NaN        NaN       NaN                   1106.0     NaN   \n",
       " 5           33.0       67.0       NaN                   1186.0     NaN   \n",
       " 11          50.0       92.0      74.0                   1256.0    36.0   \n",
       " 31          56.0       90.0      71.0                   1268.0    46.0   \n",
       " 40          52.0       93.0      80.0                   1337.0    47.0   \n",
       " \n",
       "     Tokens per Second  Prefill Latency (s)  Prompt Length (tk)  \\\n",
       " 0                 NaN                  NaN                 NaN   \n",
       " 3                 NaN                  NaN                 NaN   \n",
       " 4                 NaN                  NaN                 NaN   \n",
       " 5                23.6                0.724              1000.0   \n",
       " 11               39.2                1.246              1000.0   \n",
       " 31               55.9                0.906              1000.0   \n",
       " 40               81.0                0.673              1000.0   \n",
       " \n",
       "                     Model Name and Date  \n",
       " 0                       GPT-3 (2021-11)  \n",
       " 3                     GPT-3.5 (2022-11)  \n",
       " 4               GPT-3.5 Turbo (2023-03)  \n",
       " 5                  GPT-4-0314 (2023-03)  \n",
       " 11                GPT-4 Turbo (2023-11)  \n",
       " 31  Claude-3.5-Sonnet-2024-06 (2024-06)  \n",
       " 40             GPT-4o-2024-08 (2024-08)  ,\n",
       " 'GPQA Diamond':                    Model Name Release Date  USD per 1M Tokens  MMLU  \\\n",
       " 0                       GPT-3   2021-11-20             60.000  43.9   \n",
       " 5                  GPT-4-0314   2023-03-14             37.500  86.0   \n",
       " 11                GPT-4 Turbo   2023-11-06             15.000  87.0   \n",
       " 29             GPT-4o-2024-05   2024-05-13              7.500  87.0   \n",
       " 31  Claude-3.5-Sonnet-2024-06   2024-06-20              6.000  88.0   \n",
       " 57     Gemini-1.5-Pro-2024-09   2024-09-24              2.190  86.0   \n",
       " 72           Gemini 2.0 Flash   2025-02-05              0.175  88.0   \n",
       " \n",
       "     GPQA Diamond  HumanEval  MATH-500  LMSys Chatbot Arena ELO  MATH 5  \\\n",
       " 0            NaN        NaN       NaN                      NaN     NaN   \n",
       " 5           33.0       67.0       NaN                   1186.0     NaN   \n",
       " 11          50.0       92.0      74.0                   1256.0    36.0   \n",
       " 29          53.0       94.0      79.0                   1285.0    48.0   \n",
       " 31          56.0       90.0      71.0                   1268.0    46.0   \n",
       " 57          61.0       88.0      88.0                   1301.0    67.0   \n",
       " 72          62.0       90.0      93.0                   1358.0    82.0   \n",
       " \n",
       "     Tokens per Second  Prefill Latency (s)  Prompt Length (tk)  \\\n",
       " 0                 NaN                  NaN                 NaN   \n",
       " 5                23.6                0.724              1000.0   \n",
       " 11               39.2                1.246              1000.0   \n",
       " 29               86.4                0.687              1000.0   \n",
       " 31               55.9                0.906              1000.0   \n",
       " 57               59.1                0.864              1000.0   \n",
       " 72                NaN                  NaN                 NaN   \n",
       " \n",
       "                     Model Name and Date  \n",
       " 0                       GPT-3 (2021-11)  \n",
       " 5                  GPT-4-0314 (2023-03)  \n",
       " 11                GPT-4 Turbo (2023-11)  \n",
       " 29             GPT-4o-2024-05 (2024-05)  \n",
       " 31  Claude-3.5-Sonnet-2024-06 (2024-06)  \n",
       " 57     Gemini-1.5-Pro-2024-09 (2024-09)  \n",
       " 72           Gemini 2.0 Flash (2025-02)  ,\n",
       " 'MATH-500':                 Model Name Release Date  USD per 1M Tokens  MMLU  \\\n",
       " 0                    GPT-3   2021-11-20            60.0000  43.9   \n",
       " 7    GPT-3.5-Turbo-2023-06   2023-06-13             3.2500  68.0   \n",
       " 11             GPT-4 Turbo   2023-11-06            15.0000  87.0   \n",
       " 29          GPT-4o-2024-05   2024-05-13             7.5000  87.0   \n",
       " 40          GPT-4o-2024-08   2024-08-06             4.3800  89.0   \n",
       " 57  Gemini-1.5-Pro-2024-09   2024-09-24             2.1900  86.0   \n",
       " 67             DeepSeek-V3   2024-12-26             0.4775   NaN   \n",
       " 72        Gemini 2.0 Flash   2025-02-05             0.1750  88.0   \n",
       " \n",
       "     GPQA Diamond  HumanEval  MATH-500  LMSys Chatbot Arena ELO  MATH 5  \\\n",
       " 0            NaN        NaN       NaN                      NaN     NaN   \n",
       " 7           28.8       71.0      44.0                   1117.0    15.0   \n",
       " 11          50.0       92.0      74.0                   1256.0    36.0   \n",
       " 29          53.0       94.0      79.0                   1285.0    48.0   \n",
       " 40          52.0       93.0      80.0                   1337.0    47.0   \n",
       " 57          61.0       88.0      88.0                   1301.0    67.0   \n",
       " 67          57.0       91.0      89.0                   1318.0    65.0   \n",
       " 72          62.0       90.0      93.0                   1358.0    82.0   \n",
       " \n",
       "     Tokens per Second  Prefill Latency (s)  Prompt Length (tk)  \\\n",
       " 0                 NaN                  NaN                 NaN   \n",
       " 7                 NaN                  NaN                 NaN   \n",
       " 11               39.2                1.246              1000.0   \n",
       " 29               86.4                0.687              1000.0   \n",
       " 40               81.0                0.673              1000.0   \n",
       " 57               59.1                0.864              1000.0   \n",
       " 67                NaN                  NaN                 NaN   \n",
       " 72                NaN                  NaN                 NaN   \n",
       " \n",
       "                  Model Name and Date  \n",
       " 0                    GPT-3 (2021-11)  \n",
       " 7    GPT-3.5-Turbo-2023-06 (2023-06)  \n",
       " 11             GPT-4 Turbo (2023-11)  \n",
       " 29          GPT-4o-2024-05 (2024-05)  \n",
       " 40          GPT-4o-2024-08 (2024-08)  \n",
       " 57  Gemini-1.5-Pro-2024-09 (2024-09)  \n",
       " 67             DeepSeek-V3 (2024-12)  \n",
       " 72        Gemini 2.0 Flash (2025-02)  ,\n",
       " 'MATH 5':                 Model Name Release Date  USD per 1M Tokens  MMLU  \\\n",
       " 0                    GPT-3   2021-11-20             60.000  43.9   \n",
       " 6               GPT-4-0613   2023-06-13             37.500   NaN   \n",
       " 11             GPT-4 Turbo   2023-11-06             15.000  87.0   \n",
       " 29          GPT-4o-2024-05   2024-05-13              7.500  87.0   \n",
       " 57  Gemini-1.5-Pro-2024-09   2024-09-24              2.190  86.0   \n",
       " 72        Gemini 2.0 Flash   2025-02-05              0.175  88.0   \n",
       " \n",
       "     GPQA Diamond  HumanEval  MATH-500  LMSys Chatbot Arena ELO  MATH 5  \\\n",
       " 0            NaN        NaN       NaN                      NaN     NaN   \n",
       " 6           31.0        NaN       NaN                   1163.0    23.0   \n",
       " 11          50.0       92.0      74.0                   1256.0    36.0   \n",
       " 29          53.0       94.0      79.0                   1285.0    48.0   \n",
       " 57          61.0       88.0      88.0                   1301.0    67.0   \n",
       " 72          62.0       90.0      93.0                   1358.0    82.0   \n",
       " \n",
       "     Tokens per Second  Prefill Latency (s)  Prompt Length (tk)  \\\n",
       " 0                 NaN                  NaN                 NaN   \n",
       " 6                 NaN                  NaN                 NaN   \n",
       " 11               39.2                1.246              1000.0   \n",
       " 29               86.4                0.687              1000.0   \n",
       " 57               59.1                0.864              1000.0   \n",
       " 72                NaN                  NaN                 NaN   \n",
       " \n",
       "                  Model Name and Date  \n",
       " 0                    GPT-3 (2021-11)  \n",
       " 6               GPT-4-0613 (2023-06)  \n",
       " 11             GPT-4 Turbo (2023-11)  \n",
       " 29          GPT-4o-2024-05 (2024-05)  \n",
       " 57  Gemini-1.5-Pro-2024-09 (2024-09)  \n",
       " 72        Gemini 2.0 Flash (2025-02)  ,\n",
       " 'HumanEval':                    Model Name Release Date  USD per 1M Tokens  MMLU  \\\n",
       " 0                       GPT-3   2021-11-20              60.00  43.9   \n",
       " 5                  GPT-4-0314   2023-03-14              37.50  86.0   \n",
       " 7       GPT-3.5-Turbo-2023-06   2023-06-13               3.25  68.0   \n",
       " 11                GPT-4 Turbo   2023-11-06              15.00  87.0   \n",
       " 29             GPT-4o-2024-05   2024-05-13               7.50  87.0   \n",
       " 61  Claude-3.5-Sonnet-2024-10   2024-10-22               6.00  89.0   \n",
       " \n",
       "     GPQA Diamond  HumanEval  MATH-500  LMSys Chatbot Arena ELO  MATH 5  \\\n",
       " 0            NaN        NaN       NaN                      NaN     NaN   \n",
       " 5           33.0       67.0       NaN                   1186.0     NaN   \n",
       " 7           28.8       71.0      44.0                   1117.0    15.0   \n",
       " 11          50.0       92.0      74.0                   1256.0    36.0   \n",
       " 29          53.0       94.0      79.0                   1285.0    48.0   \n",
       " 61          58.0       96.0      76.0                   1282.0    53.0   \n",
       " \n",
       "     Tokens per Second  Prefill Latency (s)  Prompt Length (tk)  \\\n",
       " 0                 NaN                  NaN                 NaN   \n",
       " 5                23.6                0.724              1000.0   \n",
       " 7                 NaN                  NaN                 NaN   \n",
       " 11               39.2                1.246              1000.0   \n",
       " 29               86.4                0.687              1000.0   \n",
       " 61               55.2                0.907              1000.0   \n",
       " \n",
       "                     Model Name and Date  \n",
       " 0                       GPT-3 (2021-11)  \n",
       " 5                  GPT-4-0314 (2023-03)  \n",
       " 7       GPT-3.5-Turbo-2023-06 (2023-06)  \n",
       " 11                GPT-4 Turbo (2023-11)  \n",
       " 29             GPT-4o-2024-05 (2024-05)  \n",
       " 61  Claude-3.5-Sonnet-2024-10 (2024-10)  ,\n",
       " 'LMSys Chatbot Arena ELO':         Model Name Release Date  USD per 1M Tokens  MMLU  GPQA Diamond  \\\n",
       " 0            GPT-3   2021-11-20              60.00  43.9           NaN   \n",
       " 4    GPT-3.5 Turbo   2023-03-06               2.00  68.0           NaN   \n",
       " 5       GPT-4-0314   2023-03-14              37.50  86.0          33.0   \n",
       " 11     GPT-4 Turbo   2023-11-06              15.00  87.0          50.0   \n",
       " 29  GPT-4o-2024-05   2024-05-13               7.50  87.0          53.0   \n",
       " 40  GPT-4o-2024-08   2024-08-06               4.38  89.0          52.0   \n",
       " 64  GPT-4o-2024-11   2024-11-20               4.38  86.0          54.0   \n",
       " \n",
       "     HumanEval  MATH-500  LMSys Chatbot Arena ELO  MATH 5  Tokens per Second  \\\n",
       " 0         NaN       NaN                      NaN     NaN                NaN   \n",
       " 4         NaN       NaN                   1106.0     NaN                NaN   \n",
       " 5        67.0       NaN                   1186.0     NaN               23.6   \n",
       " 11       92.0      74.0                   1256.0    36.0               39.2   \n",
       " 29       94.0      79.0                   1285.0    48.0               86.4   \n",
       " 40       93.0      80.0                   1337.0    47.0               81.0   \n",
       " 64       93.0      76.0                   1361.0    50.0              148.9   \n",
       " \n",
       "     Prefill Latency (s)  Prompt Length (tk)       Model Name and Date  \n",
       " 0                   NaN                 NaN           GPT-3 (2021-11)  \n",
       " 4                   NaN                 NaN   GPT-3.5 Turbo (2023-03)  \n",
       " 5                 0.724              1000.0      GPT-4-0314 (2023-03)  \n",
       " 11                1.246              1000.0     GPT-4 Turbo (2023-11)  \n",
       " 29                0.687              1000.0  GPT-4o-2024-05 (2024-05)  \n",
       " 40                0.673              1000.0  GPT-4o-2024-08 (2024-08)  \n",
       " 64                0.404              1000.0  GPT-4o-2024-11 (2024-11)  }"
      ]
     },
     "execution_count": 14,
     "metadata": {},
     "output_type": "execute_result"
    }
   ],
   "source": [
    "top_models_df_lookup"
   ]
  },
  {
   "cell_type": "markdown",
   "metadata": {},
   "source": [
    "### Price vs. performance"
   ]
  },
  {
   "cell_type": "code",
   "execution_count": 15,
   "metadata": {},
   "outputs": [
    {
     "data": {
      "application/vnd.plotly.v1+json": {
       "config": {
        "plotlyServerURL": "https://plot.ly"
       },
       "data": [
        {
         "customdata": [
          [
           "GPT-3"
          ],
          [
           "GPT-3"
          ],
          [
           "GPT-3"
          ],
          [
           "GPT-3.5"
          ],
          [
           "GPT-3.5 Turbo"
          ],
          [
           "GPT-4-0314"
          ],
          [
           "GPT-4-0613"
          ],
          [
           "GPT-3.5-Turbo-2023-06"
          ],
          [
           "Llama-2-Chat-7B"
          ],
          [
           "Llama-2-Chat-13B"
          ],
          [
           "GPT-3.5-Turbo-2023-11"
          ],
          [
           "GPT-4 Turbo"
          ],
          [
           "Llama 2-70B Chat"
          ],
          [
           "Llama 2-7B"
          ],
          [
           "Llama 2-13B"
          ],
          [
           "GPT-3"
          ],
          [
           "GPT-4-0125"
          ],
          [
           "GPT-3.5-Turbo-2024-01"
          ],
          [
           "Mistral-Large-2024-02"
          ],
          [
           "Mistral-Small-2024-02"
          ],
          [
           "Claude-3-Haiku"
          ],
          [
           "Claude-3-Sonnet"
          ],
          [
           "Claude-3-Opus"
          ],
          [
           "Llama 2-13B"
          ],
          [
           "Llama 2-7B"
          ],
          [
           "Mistral-8x22"
          ],
          [
           "Llama-3-Instruct-70B"
          ],
          [
           "Llama-3-Instruct-8B"
          ],
          [
           "Gemini-1.5-Flash-2024-05"
          ],
          [
           "GPT-4o-2024-05"
          ],
          [
           "Gemini-1.5-Pro-2024-05"
          ],
          [
           "Claude-3.5-Sonnet-2024-06"
          ],
          [
           "Gemma-2-27B"
          ],
          [
           "Gemma-2-9B"
          ],
          [
           "Mistral-NeMo"
          ],
          [
           "GPT-4o-mini"
          ],
          [
           "Llama-3.1-Instruct-8B"
          ],
          [
           "Llama-3.1-Instruct-70B"
          ],
          [
           "Llama-3.1-Instruct-405B"
          ],
          [
           "Mistral-Large-2-2024-07"
          ],
          [
           "GPT-4o-2024-08"
          ],
          [
           "Claude 2"
          ],
          [
           "Gemini 1.0 Pro"
          ],
          [
           "Claude Instant"
          ],
          [
           "Claude 2.1"
          ],
          [
           "Cohere Command"
          ],
          [
           "Command R"
          ],
          [
           "Command R+"
          ],
          [
           "Cohere Command Light"
          ],
          [
           "DeepSeek-Coder-V2 236B"
          ],
          [
           "Jamba 1.5-Large"
          ],
          [
           "Command R+"
          ],
          [
           "Mistral 7B"
          ],
          [
           "Reka Core"
          ],
          [
           "Llama-3.2-Instruct-1B"
          ],
          [
           "Gemini-1.5-Pro-2024-09"
          ],
          [
           "Llama-3.2-Instruct-3B"
          ],
          [
           "Gemini-1.5-Flash-2024-09"
          ],
          [
           "Gemini-1.5-Flash-8B"
          ],
          [
           "Claude-3.5-Sonnet-2024-10"
          ],
          [
           "Claude-3.5-Haiku"
          ],
          [
           "Mistral-Large-2-2024-11"
          ],
          [
           "GPT-4o-2024-11"
          ],
          [
           "Phi 4"
          ],
          [
           "DeepSeek-V3"
          ],
          [
           "Mistral Small 3"
          ],
          [
           "Gemini 2.0 Flash"
          ]
         ],
         "hovertemplate": "MMLU=%{x}<br>USD per 1M Tokens=%{y}<br>Model Name=%{customdata[0]}<extra></extra>",
         "legendgroup": "",
         "marker": {
          "color": "#636efa",
          "symbol": "circle"
         },
         "mode": "markers",
         "name": "",
         "orientation": "v",
         "showlegend": false,
         "type": "scatter",
         "x": [
          43.9,
          43.9,
          43.9,
          64.8,
          68,
          86,
          null,
          68,
          13,
          45,
          68,
          87,
          68.9,
          45.3,
          54.8,
          63.1,
          null,
          68,
          69,
          69,
          71,
          77,
          84,
          54.8,
          45.3,
          76,
          79,
          64,
          79,
          87,
          86,
          88,
          77,
          73,
          66,
          82,
          71,
          84,
          87,
          85,
          89,
          78.5,
          71.8,
          null,
          null,
          null,
          null,
          75.7,
          null,
          79.2,
          80,
          75.7,
          60.1,
          83.2,
          35,
          86,
          64,
          75,
          75,
          89,
          81,
          85,
          86,
          85,
          null,
          82,
          88
         ],
         "xaxis": "x",
         "y": [
          60,
          60,
          20,
          20,
          2,
          37.5,
          37.5,
          3.25,
          0.33,
          0.56,
          0.75,
          15,
          0.7625,
          0.2,
          0.35,
          20,
          15,
          0.75,
          6,
          1.5,
          0.5,
          6,
          30,
          0.22,
          0.13,
          1.2,
          0.89,
          0.15,
          0.13,
          7.5,
          2.19,
          6,
          0.26,
          0.13,
          0.13,
          0.26,
          0.1,
          0.72,
          3.5,
          3,
          4.38,
          12,
          0.75,
          1.2,
          12,
          1.625,
          0.75,
          6,
          0.375,
          0.175,
          3.5,
          4.375,
          0.25,
          4,
          0.05,
          2.19,
          0.08,
          0.13,
          0.07,
          6,
          1.6,
          3,
          4.38,
          0.1225,
          0.4775,
          0.475,
          0.175
         ],
         "yaxis": "y"
        }
       ],
       "layout": {
        "legend": {
         "tracegroupgap": 0
        },
        "template": {
         "data": {
          "bar": [
           {
            "error_x": {
             "color": "#2a3f5f"
            },
            "error_y": {
             "color": "#2a3f5f"
            },
            "marker": {
             "line": {
              "color": "white",
              "width": 0.5
             },
             "pattern": {
              "fillmode": "overlay",
              "size": 10,
              "solidity": 0.2
             }
            },
            "type": "bar"
           }
          ],
          "barpolar": [
           {
            "marker": {
             "line": {
              "color": "white",
              "width": 0.5
             },
             "pattern": {
              "fillmode": "overlay",
              "size": 10,
              "solidity": 0.2
             }
            },
            "type": "barpolar"
           }
          ],
          "carpet": [
           {
            "aaxis": {
             "endlinecolor": "#2a3f5f",
             "gridcolor": "#C8D4E3",
             "linecolor": "#C8D4E3",
             "minorgridcolor": "#C8D4E3",
             "startlinecolor": "#2a3f5f"
            },
            "baxis": {
             "endlinecolor": "#2a3f5f",
             "gridcolor": "#C8D4E3",
             "linecolor": "#C8D4E3",
             "minorgridcolor": "#C8D4E3",
             "startlinecolor": "#2a3f5f"
            },
            "type": "carpet"
           }
          ],
          "choropleth": [
           {
            "colorbar": {
             "outlinewidth": 0,
             "ticks": ""
            },
            "type": "choropleth"
           }
          ],
          "contour": [
           {
            "colorbar": {
             "outlinewidth": 0,
             "ticks": ""
            },
            "colorscale": [
             [
              0,
              "#0d0887"
             ],
             [
              0.1111111111111111,
              "#46039f"
             ],
             [
              0.2222222222222222,
              "#7201a8"
             ],
             [
              0.3333333333333333,
              "#9c179e"
             ],
             [
              0.4444444444444444,
              "#bd3786"
             ],
             [
              0.5555555555555556,
              "#d8576b"
             ],
             [
              0.6666666666666666,
              "#ed7953"
             ],
             [
              0.7777777777777778,
              "#fb9f3a"
             ],
             [
              0.8888888888888888,
              "#fdca26"
             ],
             [
              1,
              "#f0f921"
             ]
            ],
            "type": "contour"
           }
          ],
          "contourcarpet": [
           {
            "colorbar": {
             "outlinewidth": 0,
             "ticks": ""
            },
            "type": "contourcarpet"
           }
          ],
          "heatmap": [
           {
            "colorbar": {
             "outlinewidth": 0,
             "ticks": ""
            },
            "colorscale": [
             [
              0,
              "#0d0887"
             ],
             [
              0.1111111111111111,
              "#46039f"
             ],
             [
              0.2222222222222222,
              "#7201a8"
             ],
             [
              0.3333333333333333,
              "#9c179e"
             ],
             [
              0.4444444444444444,
              "#bd3786"
             ],
             [
              0.5555555555555556,
              "#d8576b"
             ],
             [
              0.6666666666666666,
              "#ed7953"
             ],
             [
              0.7777777777777778,
              "#fb9f3a"
             ],
             [
              0.8888888888888888,
              "#fdca26"
             ],
             [
              1,
              "#f0f921"
             ]
            ],
            "type": "heatmap"
           }
          ],
          "heatmapgl": [
           {
            "colorbar": {
             "outlinewidth": 0,
             "ticks": ""
            },
            "colorscale": [
             [
              0,
              "#0d0887"
             ],
             [
              0.1111111111111111,
              "#46039f"
             ],
             [
              0.2222222222222222,
              "#7201a8"
             ],
             [
              0.3333333333333333,
              "#9c179e"
             ],
             [
              0.4444444444444444,
              "#bd3786"
             ],
             [
              0.5555555555555556,
              "#d8576b"
             ],
             [
              0.6666666666666666,
              "#ed7953"
             ],
             [
              0.7777777777777778,
              "#fb9f3a"
             ],
             [
              0.8888888888888888,
              "#fdca26"
             ],
             [
              1,
              "#f0f921"
             ]
            ],
            "type": "heatmapgl"
           }
          ],
          "histogram": [
           {
            "marker": {
             "pattern": {
              "fillmode": "overlay",
              "size": 10,
              "solidity": 0.2
             }
            },
            "type": "histogram"
           }
          ],
          "histogram2d": [
           {
            "colorbar": {
             "outlinewidth": 0,
             "ticks": ""
            },
            "colorscale": [
             [
              0,
              "#0d0887"
             ],
             [
              0.1111111111111111,
              "#46039f"
             ],
             [
              0.2222222222222222,
              "#7201a8"
             ],
             [
              0.3333333333333333,
              "#9c179e"
             ],
             [
              0.4444444444444444,
              "#bd3786"
             ],
             [
              0.5555555555555556,
              "#d8576b"
             ],
             [
              0.6666666666666666,
              "#ed7953"
             ],
             [
              0.7777777777777778,
              "#fb9f3a"
             ],
             [
              0.8888888888888888,
              "#fdca26"
             ],
             [
              1,
              "#f0f921"
             ]
            ],
            "type": "histogram2d"
           }
          ],
          "histogram2dcontour": [
           {
            "colorbar": {
             "outlinewidth": 0,
             "ticks": ""
            },
            "colorscale": [
             [
              0,
              "#0d0887"
             ],
             [
              0.1111111111111111,
              "#46039f"
             ],
             [
              0.2222222222222222,
              "#7201a8"
             ],
             [
              0.3333333333333333,
              "#9c179e"
             ],
             [
              0.4444444444444444,
              "#bd3786"
             ],
             [
              0.5555555555555556,
              "#d8576b"
             ],
             [
              0.6666666666666666,
              "#ed7953"
             ],
             [
              0.7777777777777778,
              "#fb9f3a"
             ],
             [
              0.8888888888888888,
              "#fdca26"
             ],
             [
              1,
              "#f0f921"
             ]
            ],
            "type": "histogram2dcontour"
           }
          ],
          "mesh3d": [
           {
            "colorbar": {
             "outlinewidth": 0,
             "ticks": ""
            },
            "type": "mesh3d"
           }
          ],
          "parcoords": [
           {
            "line": {
             "colorbar": {
              "outlinewidth": 0,
              "ticks": ""
             }
            },
            "type": "parcoords"
           }
          ],
          "pie": [
           {
            "automargin": true,
            "type": "pie"
           }
          ],
          "scatter": [
           {
            "fillpattern": {
             "fillmode": "overlay",
             "size": 10,
             "solidity": 0.2
            },
            "type": "scatter"
           }
          ],
          "scatter3d": [
           {
            "line": {
             "colorbar": {
              "outlinewidth": 0,
              "ticks": ""
             }
            },
            "marker": {
             "colorbar": {
              "outlinewidth": 0,
              "ticks": ""
             }
            },
            "type": "scatter3d"
           }
          ],
          "scattercarpet": [
           {
            "marker": {
             "colorbar": {
              "outlinewidth": 0,
              "ticks": ""
             }
            },
            "type": "scattercarpet"
           }
          ],
          "scattergeo": [
           {
            "marker": {
             "colorbar": {
              "outlinewidth": 0,
              "ticks": ""
             }
            },
            "type": "scattergeo"
           }
          ],
          "scattergl": [
           {
            "marker": {
             "colorbar": {
              "outlinewidth": 0,
              "ticks": ""
             }
            },
            "type": "scattergl"
           }
          ],
          "scattermapbox": [
           {
            "marker": {
             "colorbar": {
              "outlinewidth": 0,
              "ticks": ""
             }
            },
            "type": "scattermapbox"
           }
          ],
          "scatterpolar": [
           {
            "marker": {
             "colorbar": {
              "outlinewidth": 0,
              "ticks": ""
             }
            },
            "type": "scatterpolar"
           }
          ],
          "scatterpolargl": [
           {
            "marker": {
             "colorbar": {
              "outlinewidth": 0,
              "ticks": ""
             }
            },
            "type": "scatterpolargl"
           }
          ],
          "scatterternary": [
           {
            "marker": {
             "colorbar": {
              "outlinewidth": 0,
              "ticks": ""
             }
            },
            "type": "scatterternary"
           }
          ],
          "surface": [
           {
            "colorbar": {
             "outlinewidth": 0,
             "ticks": ""
            },
            "colorscale": [
             [
              0,
              "#0d0887"
             ],
             [
              0.1111111111111111,
              "#46039f"
             ],
             [
              0.2222222222222222,
              "#7201a8"
             ],
             [
              0.3333333333333333,
              "#9c179e"
             ],
             [
              0.4444444444444444,
              "#bd3786"
             ],
             [
              0.5555555555555556,
              "#d8576b"
             ],
             [
              0.6666666666666666,
              "#ed7953"
             ],
             [
              0.7777777777777778,
              "#fb9f3a"
             ],
             [
              0.8888888888888888,
              "#fdca26"
             ],
             [
              1,
              "#f0f921"
             ]
            ],
            "type": "surface"
           }
          ],
          "table": [
           {
            "cells": {
             "fill": {
              "color": "#EBF0F8"
             },
             "line": {
              "color": "white"
             }
            },
            "header": {
             "fill": {
              "color": "#C8D4E3"
             },
             "line": {
              "color": "white"
             }
            },
            "type": "table"
           }
          ]
         },
         "layout": {
          "annotationdefaults": {
           "arrowcolor": "#2a3f5f",
           "arrowhead": 0,
           "arrowwidth": 1
          },
          "autotypenumbers": "strict",
          "coloraxis": {
           "colorbar": {
            "outlinewidth": 0,
            "ticks": ""
           }
          },
          "colorscale": {
           "diverging": [
            [
             0,
             "#8e0152"
            ],
            [
             0.1,
             "#c51b7d"
            ],
            [
             0.2,
             "#de77ae"
            ],
            [
             0.3,
             "#f1b6da"
            ],
            [
             0.4,
             "#fde0ef"
            ],
            [
             0.5,
             "#f7f7f7"
            ],
            [
             0.6,
             "#e6f5d0"
            ],
            [
             0.7,
             "#b8e186"
            ],
            [
             0.8,
             "#7fbc41"
            ],
            [
             0.9,
             "#4d9221"
            ],
            [
             1,
             "#276419"
            ]
           ],
           "sequential": [
            [
             0,
             "#0d0887"
            ],
            [
             0.1111111111111111,
             "#46039f"
            ],
            [
             0.2222222222222222,
             "#7201a8"
            ],
            [
             0.3333333333333333,
             "#9c179e"
            ],
            [
             0.4444444444444444,
             "#bd3786"
            ],
            [
             0.5555555555555556,
             "#d8576b"
            ],
            [
             0.6666666666666666,
             "#ed7953"
            ],
            [
             0.7777777777777778,
             "#fb9f3a"
            ],
            [
             0.8888888888888888,
             "#fdca26"
            ],
            [
             1,
             "#f0f921"
            ]
           ],
           "sequentialminus": [
            [
             0,
             "#0d0887"
            ],
            [
             0.1111111111111111,
             "#46039f"
            ],
            [
             0.2222222222222222,
             "#7201a8"
            ],
            [
             0.3333333333333333,
             "#9c179e"
            ],
            [
             0.4444444444444444,
             "#bd3786"
            ],
            [
             0.5555555555555556,
             "#d8576b"
            ],
            [
             0.6666666666666666,
             "#ed7953"
            ],
            [
             0.7777777777777778,
             "#fb9f3a"
            ],
            [
             0.8888888888888888,
             "#fdca26"
            ],
            [
             1,
             "#f0f921"
            ]
           ]
          },
          "colorway": [
           "#636efa",
           "#EF553B",
           "#00cc96",
           "#ab63fa",
           "#FFA15A",
           "#19d3f3",
           "#FF6692",
           "#B6E880",
           "#FF97FF",
           "#FECB52"
          ],
          "font": {
           "color": "#2a3f5f"
          },
          "geo": {
           "bgcolor": "white",
           "lakecolor": "white",
           "landcolor": "white",
           "showlakes": true,
           "showland": true,
           "subunitcolor": "#C8D4E3"
          },
          "hoverlabel": {
           "align": "left"
          },
          "hovermode": "closest",
          "mapbox": {
           "style": "light"
          },
          "paper_bgcolor": "white",
          "plot_bgcolor": "white",
          "polar": {
           "angularaxis": {
            "gridcolor": "#EBF0F8",
            "linecolor": "#EBF0F8",
            "ticks": ""
           },
           "bgcolor": "white",
           "radialaxis": {
            "gridcolor": "#EBF0F8",
            "linecolor": "#EBF0F8",
            "ticks": ""
           }
          },
          "scene": {
           "xaxis": {
            "backgroundcolor": "white",
            "gridcolor": "#DFE8F3",
            "gridwidth": 2,
            "linecolor": "#EBF0F8",
            "showbackground": true,
            "ticks": "",
            "zerolinecolor": "#EBF0F8"
           },
           "yaxis": {
            "backgroundcolor": "white",
            "gridcolor": "#DFE8F3",
            "gridwidth": 2,
            "linecolor": "#EBF0F8",
            "showbackground": true,
            "ticks": "",
            "zerolinecolor": "#EBF0F8"
           },
           "zaxis": {
            "backgroundcolor": "white",
            "gridcolor": "#DFE8F3",
            "gridwidth": 2,
            "linecolor": "#EBF0F8",
            "showbackground": true,
            "ticks": "",
            "zerolinecolor": "#EBF0F8"
           }
          },
          "shapedefaults": {
           "line": {
            "color": "#2a3f5f"
           }
          },
          "ternary": {
           "aaxis": {
            "gridcolor": "#DFE8F3",
            "linecolor": "#A2B1C6",
            "ticks": ""
           },
           "baxis": {
            "gridcolor": "#DFE8F3",
            "linecolor": "#A2B1C6",
            "ticks": ""
           },
           "bgcolor": "white",
           "caxis": {
            "gridcolor": "#DFE8F3",
            "linecolor": "#A2B1C6",
            "ticks": ""
           }
          },
          "title": {
           "x": 0.05
          },
          "xaxis": {
           "automargin": true,
           "gridcolor": "#EBF0F8",
           "linecolor": "#EBF0F8",
           "ticks": "",
           "title": {
            "standoff": 15
           },
           "zerolinecolor": "#EBF0F8",
           "zerolinewidth": 2
          },
          "yaxis": {
           "automargin": true,
           "gridcolor": "#EBF0F8",
           "linecolor": "#EBF0F8",
           "ticks": "",
           "title": {
            "standoff": 15
           },
           "zerolinecolor": "#EBF0F8",
           "zerolinewidth": 2
          }
         }
        },
        "title": {
         "text": "MMLU vs. USD per 1M Tokens"
        },
        "xaxis": {
         "anchor": "y",
         "domain": [
          0,
          1
         ],
         "title": {
          "text": "MMLU"
         }
        },
        "yaxis": {
         "anchor": "x",
         "domain": [
          0,
          1
         ],
         "title": {
          "text": "USD per 1M Tokens"
         },
         "type": "log"
        }
       }
      }
     },
     "metadata": {},
     "output_type": "display_data"
    }
   ],
   "source": [
    "# Plot 'MMLU' vs. 'USD per 1M Tokens'\n",
    "fig = px.scatter(aa_df, x='MMLU', y='USD per 1M Tokens', hover_data=['Model Name'], title='MMLU vs. USD per 1M Tokens')\n",
    "fig.update_layout(yaxis_type='log')\n",
    "fig.show()\n"
   ]
  },
  {
   "cell_type": "code",
   "execution_count": 16,
   "metadata": {},
   "outputs": [
    {
     "data": {
      "application/vnd.plotly.v1+json": {
       "config": {
        "plotlyServerURL": "https://plot.ly"
       },
       "data": [
        {
         "customdata": [
          [
           "GPT-3"
          ],
          [
           "GPT-3"
          ],
          [
           "GPT-3"
          ],
          [
           "GPT-3.5"
          ],
          [
           "GPT-3.5 Turbo"
          ],
          [
           "GPT-4-0314"
          ],
          [
           "GPT-4-0613"
          ],
          [
           "GPT-3.5-Turbo-2023-06"
          ],
          [
           "Llama-2-Chat-7B"
          ],
          [
           "Llama-2-Chat-13B"
          ],
          [
           "GPT-3.5-Turbo-2023-11"
          ],
          [
           "GPT-4 Turbo"
          ],
          [
           "Llama 2-70B Chat"
          ],
          [
           "Llama 2-7B"
          ],
          [
           "Llama 2-13B"
          ],
          [
           "GPT-3"
          ],
          [
           "GPT-4-0125"
          ],
          [
           "GPT-3.5-Turbo-2024-01"
          ],
          [
           "Mistral-Large-2024-02"
          ],
          [
           "Mistral-Small-2024-02"
          ],
          [
           "Claude-3-Haiku"
          ],
          [
           "Claude-3-Sonnet"
          ],
          [
           "Claude-3-Opus"
          ],
          [
           "Llama 2-13B"
          ],
          [
           "Llama 2-7B"
          ],
          [
           "Mistral-8x22"
          ],
          [
           "Llama-3-Instruct-70B"
          ],
          [
           "Llama-3-Instruct-8B"
          ],
          [
           "Gemini-1.5-Flash-2024-05"
          ],
          [
           "GPT-4o-2024-05"
          ],
          [
           "Gemini-1.5-Pro-2024-05"
          ],
          [
           "Claude-3.5-Sonnet-2024-06"
          ],
          [
           "Gemma-2-27B"
          ],
          [
           "Gemma-2-9B"
          ],
          [
           "Mistral-NeMo"
          ],
          [
           "GPT-4o-mini"
          ],
          [
           "Llama-3.1-Instruct-8B"
          ],
          [
           "Llama-3.1-Instruct-70B"
          ],
          [
           "Llama-3.1-Instruct-405B"
          ],
          [
           "Mistral-Large-2-2024-07"
          ],
          [
           "GPT-4o-2024-08"
          ],
          [
           "Claude 2"
          ],
          [
           "Gemini 1.0 Pro"
          ],
          [
           "Claude Instant"
          ],
          [
           "Claude 2.1"
          ],
          [
           "Cohere Command"
          ],
          [
           "Command R"
          ],
          [
           "Command R+"
          ],
          [
           "Cohere Command Light"
          ],
          [
           "DeepSeek-Coder-V2 236B"
          ],
          [
           "Jamba 1.5-Large"
          ],
          [
           "Command R+"
          ],
          [
           "Mistral 7B"
          ],
          [
           "Reka Core"
          ],
          [
           "Llama-3.2-Instruct-1B"
          ],
          [
           "Gemini-1.5-Pro-2024-09"
          ],
          [
           "Llama-3.2-Instruct-3B"
          ],
          [
           "Gemini-1.5-Flash-2024-09"
          ],
          [
           "Gemini-1.5-Flash-8B"
          ],
          [
           "Claude-3.5-Sonnet-2024-10"
          ],
          [
           "Claude-3.5-Haiku"
          ],
          [
           "Mistral-Large-2-2024-11"
          ],
          [
           "GPT-4o-2024-11"
          ],
          [
           "Phi 4"
          ],
          [
           "DeepSeek-V3"
          ],
          [
           "Mistral Small 3"
          ],
          [
           "Gemini 2.0 Flash"
          ]
         ],
         "hovertemplate": "Release Date=%{x}<br>MMLU price-performance=%{y}<br>Model Name=%{customdata[0]}<extra></extra>",
         "legendgroup": "",
         "marker": {
          "color": "#636efa",
          "symbol": "circle"
         },
         "mode": "markers",
         "name": "",
         "orientation": "v",
         "showlegend": false,
         "type": "scatter",
         "x": [
          "2021-11-20T00:00:00",
          "2022-08-31T00:00:00",
          "2022-09-01T00:00:00",
          "2022-11-30T00:00:00",
          "2023-03-06T00:00:00",
          "2023-03-14T00:00:00",
          "2023-06-13T00:00:00",
          "2023-06-13T00:00:00",
          "2023-07-18T00:00:00",
          "2023-07-18T00:00:00",
          "2023-11-06T00:00:00",
          "2023-11-06T00:00:00",
          "2023-12-01T00:00:00",
          "2023-12-01T00:00:00",
          "2023-12-08T00:00:00",
          "2024-01-04T00:00:00",
          "2024-01-25T00:00:00",
          "2024-01-25T00:00:00",
          "2024-02-26T00:00:00",
          "2024-02-26T00:00:00",
          "2024-03-04T00:00:00",
          "2024-03-04T00:00:00",
          "2024-03-04T00:00:00",
          "2024-04-14T00:00:00",
          "2024-04-14T00:00:00",
          "2024-04-17T00:00:00",
          "2024-04-18T00:00:00",
          "2024-04-18T00:00:00",
          "2024-05-10T00:00:00",
          "2024-05-13T00:00:00",
          "2024-05-23T00:00:00",
          "2024-06-20T00:00:00",
          "2024-06-24T00:00:00",
          "2024-06-24T00:00:00",
          "2024-07-18T00:00:00",
          "2024-07-18T00:00:00",
          "2024-07-23T00:00:00",
          "2024-07-23T00:00:00",
          "2024-07-23T00:00:00",
          "2024-07-24T00:00:00",
          "2024-08-06T00:00:00",
          "2024-08-12T00:00:00",
          "2024-08-12T00:00:00",
          "2024-08-12T00:00:00",
          "2024-08-12T00:00:00",
          "2024-08-13T00:00:00",
          "2024-08-13T00:00:00",
          "2024-08-13T00:00:00",
          "2024-08-13T00:00:00",
          "2024-09-11T00:00:00",
          "2024-09-12T00:00:00",
          "2024-09-13T00:00:00",
          "2024-09-14T00:00:00",
          "2024-09-14T00:00:00",
          "2024-09-24T00:00:00",
          "2024-09-24T00:00:00",
          "2024-09-24T00:00:00",
          "2024-09-24T00:00:00",
          "2024-10-03T00:00:00",
          "2024-10-22T00:00:00",
          "2024-10-22T00:00:00",
          "2024-11-18T00:00:00",
          "2024-11-20T00:00:00",
          "2024-12-13T00:00:00",
          "2024-12-26T00:00:00",
          "2025-01-30T00:00:00",
          "2025-02-05T00:00:00"
         ],
         "xaxis": "x",
         "y": [
          0.7316666666666667,
          0.7316666666666667,
          2.195,
          3.2399999999999998,
          34,
          2.2933333333333334,
          null,
          20.923076923076923,
          39.39393939393939,
          80.35714285714285,
          90.66666666666667,
          5.8,
          90.36065573770493,
          226.49999999999997,
          156.57142857142858,
          3.1550000000000002,
          null,
          90.66666666666667,
          11.5,
          46,
          142,
          12.833333333333334,
          2.8,
          249.09090909090907,
          348.46153846153845,
          63.333333333333336,
          88.76404494382022,
          426.6666666666667,
          607.6923076923076,
          11.6,
          39.269406392694066,
          14.666666666666666,
          296.15384615384613,
          561.5384615384615,
          507.6923076923077,
          315.38461538461536,
          710,
          116.66666666666667,
          24.857142857142858,
          28.333333333333332,
          20.319634703196346,
          6.541666666666667,
          95.73333333333333,
          null,
          null,
          null,
          null,
          12.616666666666667,
          null,
          452.5714285714286,
          22.857142857142858,
          17.302857142857142,
          240.4,
          20.8,
          700,
          39.269406392694066,
          800,
          576.9230769230769,
          1071.4285714285713,
          14.833333333333334,
          50.625,
          28.333333333333332,
          19.634703196347033,
          693.8775510204082,
          null,
          172.63157894736844,
          502.8571428571429
         ],
         "yaxis": "y"
        }
       ],
       "layout": {
        "legend": {
         "tracegroupgap": 0
        },
        "template": {
         "data": {
          "bar": [
           {
            "error_x": {
             "color": "#2a3f5f"
            },
            "error_y": {
             "color": "#2a3f5f"
            },
            "marker": {
             "line": {
              "color": "white",
              "width": 0.5
             },
             "pattern": {
              "fillmode": "overlay",
              "size": 10,
              "solidity": 0.2
             }
            },
            "type": "bar"
           }
          ],
          "barpolar": [
           {
            "marker": {
             "line": {
              "color": "white",
              "width": 0.5
             },
             "pattern": {
              "fillmode": "overlay",
              "size": 10,
              "solidity": 0.2
             }
            },
            "type": "barpolar"
           }
          ],
          "carpet": [
           {
            "aaxis": {
             "endlinecolor": "#2a3f5f",
             "gridcolor": "#C8D4E3",
             "linecolor": "#C8D4E3",
             "minorgridcolor": "#C8D4E3",
             "startlinecolor": "#2a3f5f"
            },
            "baxis": {
             "endlinecolor": "#2a3f5f",
             "gridcolor": "#C8D4E3",
             "linecolor": "#C8D4E3",
             "minorgridcolor": "#C8D4E3",
             "startlinecolor": "#2a3f5f"
            },
            "type": "carpet"
           }
          ],
          "choropleth": [
           {
            "colorbar": {
             "outlinewidth": 0,
             "ticks": ""
            },
            "type": "choropleth"
           }
          ],
          "contour": [
           {
            "colorbar": {
             "outlinewidth": 0,
             "ticks": ""
            },
            "colorscale": [
             [
              0,
              "#0d0887"
             ],
             [
              0.1111111111111111,
              "#46039f"
             ],
             [
              0.2222222222222222,
              "#7201a8"
             ],
             [
              0.3333333333333333,
              "#9c179e"
             ],
             [
              0.4444444444444444,
              "#bd3786"
             ],
             [
              0.5555555555555556,
              "#d8576b"
             ],
             [
              0.6666666666666666,
              "#ed7953"
             ],
             [
              0.7777777777777778,
              "#fb9f3a"
             ],
             [
              0.8888888888888888,
              "#fdca26"
             ],
             [
              1,
              "#f0f921"
             ]
            ],
            "type": "contour"
           }
          ],
          "contourcarpet": [
           {
            "colorbar": {
             "outlinewidth": 0,
             "ticks": ""
            },
            "type": "contourcarpet"
           }
          ],
          "heatmap": [
           {
            "colorbar": {
             "outlinewidth": 0,
             "ticks": ""
            },
            "colorscale": [
             [
              0,
              "#0d0887"
             ],
             [
              0.1111111111111111,
              "#46039f"
             ],
             [
              0.2222222222222222,
              "#7201a8"
             ],
             [
              0.3333333333333333,
              "#9c179e"
             ],
             [
              0.4444444444444444,
              "#bd3786"
             ],
             [
              0.5555555555555556,
              "#d8576b"
             ],
             [
              0.6666666666666666,
              "#ed7953"
             ],
             [
              0.7777777777777778,
              "#fb9f3a"
             ],
             [
              0.8888888888888888,
              "#fdca26"
             ],
             [
              1,
              "#f0f921"
             ]
            ],
            "type": "heatmap"
           }
          ],
          "heatmapgl": [
           {
            "colorbar": {
             "outlinewidth": 0,
             "ticks": ""
            },
            "colorscale": [
             [
              0,
              "#0d0887"
             ],
             [
              0.1111111111111111,
              "#46039f"
             ],
             [
              0.2222222222222222,
              "#7201a8"
             ],
             [
              0.3333333333333333,
              "#9c179e"
             ],
             [
              0.4444444444444444,
              "#bd3786"
             ],
             [
              0.5555555555555556,
              "#d8576b"
             ],
             [
              0.6666666666666666,
              "#ed7953"
             ],
             [
              0.7777777777777778,
              "#fb9f3a"
             ],
             [
              0.8888888888888888,
              "#fdca26"
             ],
             [
              1,
              "#f0f921"
             ]
            ],
            "type": "heatmapgl"
           }
          ],
          "histogram": [
           {
            "marker": {
             "pattern": {
              "fillmode": "overlay",
              "size": 10,
              "solidity": 0.2
             }
            },
            "type": "histogram"
           }
          ],
          "histogram2d": [
           {
            "colorbar": {
             "outlinewidth": 0,
             "ticks": ""
            },
            "colorscale": [
             [
              0,
              "#0d0887"
             ],
             [
              0.1111111111111111,
              "#46039f"
             ],
             [
              0.2222222222222222,
              "#7201a8"
             ],
             [
              0.3333333333333333,
              "#9c179e"
             ],
             [
              0.4444444444444444,
              "#bd3786"
             ],
             [
              0.5555555555555556,
              "#d8576b"
             ],
             [
              0.6666666666666666,
              "#ed7953"
             ],
             [
              0.7777777777777778,
              "#fb9f3a"
             ],
             [
              0.8888888888888888,
              "#fdca26"
             ],
             [
              1,
              "#f0f921"
             ]
            ],
            "type": "histogram2d"
           }
          ],
          "histogram2dcontour": [
           {
            "colorbar": {
             "outlinewidth": 0,
             "ticks": ""
            },
            "colorscale": [
             [
              0,
              "#0d0887"
             ],
             [
              0.1111111111111111,
              "#46039f"
             ],
             [
              0.2222222222222222,
              "#7201a8"
             ],
             [
              0.3333333333333333,
              "#9c179e"
             ],
             [
              0.4444444444444444,
              "#bd3786"
             ],
             [
              0.5555555555555556,
              "#d8576b"
             ],
             [
              0.6666666666666666,
              "#ed7953"
             ],
             [
              0.7777777777777778,
              "#fb9f3a"
             ],
             [
              0.8888888888888888,
              "#fdca26"
             ],
             [
              1,
              "#f0f921"
             ]
            ],
            "type": "histogram2dcontour"
           }
          ],
          "mesh3d": [
           {
            "colorbar": {
             "outlinewidth": 0,
             "ticks": ""
            },
            "type": "mesh3d"
           }
          ],
          "parcoords": [
           {
            "line": {
             "colorbar": {
              "outlinewidth": 0,
              "ticks": ""
             }
            },
            "type": "parcoords"
           }
          ],
          "pie": [
           {
            "automargin": true,
            "type": "pie"
           }
          ],
          "scatter": [
           {
            "fillpattern": {
             "fillmode": "overlay",
             "size": 10,
             "solidity": 0.2
            },
            "type": "scatter"
           }
          ],
          "scatter3d": [
           {
            "line": {
             "colorbar": {
              "outlinewidth": 0,
              "ticks": ""
             }
            },
            "marker": {
             "colorbar": {
              "outlinewidth": 0,
              "ticks": ""
             }
            },
            "type": "scatter3d"
           }
          ],
          "scattercarpet": [
           {
            "marker": {
             "colorbar": {
              "outlinewidth": 0,
              "ticks": ""
             }
            },
            "type": "scattercarpet"
           }
          ],
          "scattergeo": [
           {
            "marker": {
             "colorbar": {
              "outlinewidth": 0,
              "ticks": ""
             }
            },
            "type": "scattergeo"
           }
          ],
          "scattergl": [
           {
            "marker": {
             "colorbar": {
              "outlinewidth": 0,
              "ticks": ""
             }
            },
            "type": "scattergl"
           }
          ],
          "scattermapbox": [
           {
            "marker": {
             "colorbar": {
              "outlinewidth": 0,
              "ticks": ""
             }
            },
            "type": "scattermapbox"
           }
          ],
          "scatterpolar": [
           {
            "marker": {
             "colorbar": {
              "outlinewidth": 0,
              "ticks": ""
             }
            },
            "type": "scatterpolar"
           }
          ],
          "scatterpolargl": [
           {
            "marker": {
             "colorbar": {
              "outlinewidth": 0,
              "ticks": ""
             }
            },
            "type": "scatterpolargl"
           }
          ],
          "scatterternary": [
           {
            "marker": {
             "colorbar": {
              "outlinewidth": 0,
              "ticks": ""
             }
            },
            "type": "scatterternary"
           }
          ],
          "surface": [
           {
            "colorbar": {
             "outlinewidth": 0,
             "ticks": ""
            },
            "colorscale": [
             [
              0,
              "#0d0887"
             ],
             [
              0.1111111111111111,
              "#46039f"
             ],
             [
              0.2222222222222222,
              "#7201a8"
             ],
             [
              0.3333333333333333,
              "#9c179e"
             ],
             [
              0.4444444444444444,
              "#bd3786"
             ],
             [
              0.5555555555555556,
              "#d8576b"
             ],
             [
              0.6666666666666666,
              "#ed7953"
             ],
             [
              0.7777777777777778,
              "#fb9f3a"
             ],
             [
              0.8888888888888888,
              "#fdca26"
             ],
             [
              1,
              "#f0f921"
             ]
            ],
            "type": "surface"
           }
          ],
          "table": [
           {
            "cells": {
             "fill": {
              "color": "#EBF0F8"
             },
             "line": {
              "color": "white"
             }
            },
            "header": {
             "fill": {
              "color": "#C8D4E3"
             },
             "line": {
              "color": "white"
             }
            },
            "type": "table"
           }
          ]
         },
         "layout": {
          "annotationdefaults": {
           "arrowcolor": "#2a3f5f",
           "arrowhead": 0,
           "arrowwidth": 1
          },
          "autotypenumbers": "strict",
          "coloraxis": {
           "colorbar": {
            "outlinewidth": 0,
            "ticks": ""
           }
          },
          "colorscale": {
           "diverging": [
            [
             0,
             "#8e0152"
            ],
            [
             0.1,
             "#c51b7d"
            ],
            [
             0.2,
             "#de77ae"
            ],
            [
             0.3,
             "#f1b6da"
            ],
            [
             0.4,
             "#fde0ef"
            ],
            [
             0.5,
             "#f7f7f7"
            ],
            [
             0.6,
             "#e6f5d0"
            ],
            [
             0.7,
             "#b8e186"
            ],
            [
             0.8,
             "#7fbc41"
            ],
            [
             0.9,
             "#4d9221"
            ],
            [
             1,
             "#276419"
            ]
           ],
           "sequential": [
            [
             0,
             "#0d0887"
            ],
            [
             0.1111111111111111,
             "#46039f"
            ],
            [
             0.2222222222222222,
             "#7201a8"
            ],
            [
             0.3333333333333333,
             "#9c179e"
            ],
            [
             0.4444444444444444,
             "#bd3786"
            ],
            [
             0.5555555555555556,
             "#d8576b"
            ],
            [
             0.6666666666666666,
             "#ed7953"
            ],
            [
             0.7777777777777778,
             "#fb9f3a"
            ],
            [
             0.8888888888888888,
             "#fdca26"
            ],
            [
             1,
             "#f0f921"
            ]
           ],
           "sequentialminus": [
            [
             0,
             "#0d0887"
            ],
            [
             0.1111111111111111,
             "#46039f"
            ],
            [
             0.2222222222222222,
             "#7201a8"
            ],
            [
             0.3333333333333333,
             "#9c179e"
            ],
            [
             0.4444444444444444,
             "#bd3786"
            ],
            [
             0.5555555555555556,
             "#d8576b"
            ],
            [
             0.6666666666666666,
             "#ed7953"
            ],
            [
             0.7777777777777778,
             "#fb9f3a"
            ],
            [
             0.8888888888888888,
             "#fdca26"
            ],
            [
             1,
             "#f0f921"
            ]
           ]
          },
          "colorway": [
           "#636efa",
           "#EF553B",
           "#00cc96",
           "#ab63fa",
           "#FFA15A",
           "#19d3f3",
           "#FF6692",
           "#B6E880",
           "#FF97FF",
           "#FECB52"
          ],
          "font": {
           "color": "#2a3f5f"
          },
          "geo": {
           "bgcolor": "white",
           "lakecolor": "white",
           "landcolor": "white",
           "showlakes": true,
           "showland": true,
           "subunitcolor": "#C8D4E3"
          },
          "hoverlabel": {
           "align": "left"
          },
          "hovermode": "closest",
          "mapbox": {
           "style": "light"
          },
          "paper_bgcolor": "white",
          "plot_bgcolor": "white",
          "polar": {
           "angularaxis": {
            "gridcolor": "#EBF0F8",
            "linecolor": "#EBF0F8",
            "ticks": ""
           },
           "bgcolor": "white",
           "radialaxis": {
            "gridcolor": "#EBF0F8",
            "linecolor": "#EBF0F8",
            "ticks": ""
           }
          },
          "scene": {
           "xaxis": {
            "backgroundcolor": "white",
            "gridcolor": "#DFE8F3",
            "gridwidth": 2,
            "linecolor": "#EBF0F8",
            "showbackground": true,
            "ticks": "",
            "zerolinecolor": "#EBF0F8"
           },
           "yaxis": {
            "backgroundcolor": "white",
            "gridcolor": "#DFE8F3",
            "gridwidth": 2,
            "linecolor": "#EBF0F8",
            "showbackground": true,
            "ticks": "",
            "zerolinecolor": "#EBF0F8"
           },
           "zaxis": {
            "backgroundcolor": "white",
            "gridcolor": "#DFE8F3",
            "gridwidth": 2,
            "linecolor": "#EBF0F8",
            "showbackground": true,
            "ticks": "",
            "zerolinecolor": "#EBF0F8"
           }
          },
          "shapedefaults": {
           "line": {
            "color": "#2a3f5f"
           }
          },
          "ternary": {
           "aaxis": {
            "gridcolor": "#DFE8F3",
            "linecolor": "#A2B1C6",
            "ticks": ""
           },
           "baxis": {
            "gridcolor": "#DFE8F3",
            "linecolor": "#A2B1C6",
            "ticks": ""
           },
           "bgcolor": "white",
           "caxis": {
            "gridcolor": "#DFE8F3",
            "linecolor": "#A2B1C6",
            "ticks": ""
           }
          },
          "title": {
           "x": 0.05
          },
          "xaxis": {
           "automargin": true,
           "gridcolor": "#EBF0F8",
           "linecolor": "#EBF0F8",
           "ticks": "",
           "title": {
            "standoff": 15
           },
           "zerolinecolor": "#EBF0F8",
           "zerolinewidth": 2
          },
          "yaxis": {
           "automargin": true,
           "gridcolor": "#EBF0F8",
           "linecolor": "#EBF0F8",
           "ticks": "",
           "title": {
            "standoff": 15
           },
           "zerolinecolor": "#EBF0F8",
           "zerolinewidth": 2
          }
         }
        },
        "title": {
         "text": "MMLU price-performance over time"
        },
        "xaxis": {
         "anchor": "y",
         "domain": [
          0,
          1
         ],
         "title": {
          "text": "Release Date"
         }
        },
        "yaxis": {
         "anchor": "x",
         "domain": [
          0,
          1
         ],
         "title": {
          "text": "MMLU price-performance"
         },
         "type": "log"
        }
       }
      }
     },
     "metadata": {},
     "output_type": "display_data"
    }
   ],
   "source": [
    "aa_df['MMLU price-performance'] = aa_df['MMLU'] / aa_df['USD per 1M Tokens']\n",
    "# Plot 'MMLU price-performance' vs. 'Date'\n",
    "fig = px.scatter(aa_df, x='Release Date', y='MMLU price-performance', title='MMLU price-performance over time', hover_data=['Model Name'])\n",
    "fig.update_layout(yaxis_type='log')\n",
    "fig.show()\n"
   ]
  },
  {
   "cell_type": "code",
   "execution_count": 17,
   "metadata": {},
   "outputs": [
    {
     "name": "stdout",
     "output_type": "stream",
     "text": [
      "['GPT-3 (2021-11)', 'GPT-3 (2022-09)', 'GPT-3.5 (2022-11)', 'GPT-3.5 Turbo (2023-03)', 'GPT-3.5-Turbo-2023-11 (2023-11)', 'Gemini-1.5-Flash-2024-05 (2024-05)', 'Gemini-1.5-Flash-8B (2024-10)', 'Llama 2-7B (2023-12)', 'Llama 2-7B (2024-04)', 'Llama-2-Chat-13B (2023-07)', 'Llama-3-Instruct-8B (2024-04)', 'Llama-3.1-Instruct-8B (2024-07)', 'Llama-3.2-Instruct-3B (2024-09)']\n"
     ]
    },
    {
     "data": {
      "application/vnd.plotly.v1+json": {
       "config": {
        "plotlyServerURL": "https://plot.ly"
       },
       "data": [
        {
         "customdata": [
          [
           "GPT-3 (2021-11)"
          ],
          [
           "GPT-3 (2022-09)"
          ],
          [
           "GPT-3.5 (2022-11)"
          ],
          [
           "GPT-3.5 Turbo (2023-03)"
          ],
          [
           "Llama-2-Chat-13B (2023-07)"
          ],
          [
           "GPT-3.5-Turbo-2023-11 (2023-11)"
          ],
          [
           "Llama 2-7B (2023-12)"
          ],
          [
           "Llama 2-7B (2024-04)"
          ],
          [
           "Llama-3-Instruct-8B (2024-04)"
          ],
          [
           "Gemini-1.5-Flash-2024-05 (2024-05)"
          ],
          [
           "Llama-3.1-Instruct-8B (2024-07)"
          ],
          [
           "Llama-3.2-Instruct-3B (2024-09)"
          ],
          [
           "Gemini-1.5-Flash-8B (2024-10)"
          ]
         ],
         "hovertemplate": "Release Date=%{x}<br>MMLU price-performance=%{y}<br>Model Name and Date=%{customdata[0]}<extra></extra>",
         "legendgroup": "",
         "marker": {
          "color": "#636efa",
          "symbol": "circle"
         },
         "mode": "markers",
         "name": "",
         "orientation": "v",
         "showlegend": false,
         "type": "scatter",
         "x": [
          "2021-11-20T00:00:00",
          "2022-09-01T00:00:00",
          "2022-11-30T00:00:00",
          "2023-03-06T00:00:00",
          "2023-07-18T00:00:00",
          "2023-11-06T00:00:00",
          "2023-12-01T00:00:00",
          "2024-04-14T00:00:00",
          "2024-04-18T00:00:00",
          "2024-05-10T00:00:00",
          "2024-07-23T00:00:00",
          "2024-09-24T00:00:00",
          "2024-10-03T00:00:00"
         ],
         "xaxis": "x",
         "y": [
          0.7316666666666667,
          2.195,
          3.2399999999999998,
          34,
          80.35714285714285,
          90.66666666666667,
          226.49999999999997,
          348.46153846153845,
          426.6666666666667,
          607.6923076923076,
          710,
          800,
          1071.4285714285713
         ],
         "yaxis": "y"
        }
       ],
       "layout": {
        "legend": {
         "tracegroupgap": 0
        },
        "template": {
         "data": {
          "bar": [
           {
            "error_x": {
             "color": "#2a3f5f"
            },
            "error_y": {
             "color": "#2a3f5f"
            },
            "marker": {
             "line": {
              "color": "white",
              "width": 0.5
             },
             "pattern": {
              "fillmode": "overlay",
              "size": 10,
              "solidity": 0.2
             }
            },
            "type": "bar"
           }
          ],
          "barpolar": [
           {
            "marker": {
             "line": {
              "color": "white",
              "width": 0.5
             },
             "pattern": {
              "fillmode": "overlay",
              "size": 10,
              "solidity": 0.2
             }
            },
            "type": "barpolar"
           }
          ],
          "carpet": [
           {
            "aaxis": {
             "endlinecolor": "#2a3f5f",
             "gridcolor": "#C8D4E3",
             "linecolor": "#C8D4E3",
             "minorgridcolor": "#C8D4E3",
             "startlinecolor": "#2a3f5f"
            },
            "baxis": {
             "endlinecolor": "#2a3f5f",
             "gridcolor": "#C8D4E3",
             "linecolor": "#C8D4E3",
             "minorgridcolor": "#C8D4E3",
             "startlinecolor": "#2a3f5f"
            },
            "type": "carpet"
           }
          ],
          "choropleth": [
           {
            "colorbar": {
             "outlinewidth": 0,
             "ticks": ""
            },
            "type": "choropleth"
           }
          ],
          "contour": [
           {
            "colorbar": {
             "outlinewidth": 0,
             "ticks": ""
            },
            "colorscale": [
             [
              0,
              "#0d0887"
             ],
             [
              0.1111111111111111,
              "#46039f"
             ],
             [
              0.2222222222222222,
              "#7201a8"
             ],
             [
              0.3333333333333333,
              "#9c179e"
             ],
             [
              0.4444444444444444,
              "#bd3786"
             ],
             [
              0.5555555555555556,
              "#d8576b"
             ],
             [
              0.6666666666666666,
              "#ed7953"
             ],
             [
              0.7777777777777778,
              "#fb9f3a"
             ],
             [
              0.8888888888888888,
              "#fdca26"
             ],
             [
              1,
              "#f0f921"
             ]
            ],
            "type": "contour"
           }
          ],
          "contourcarpet": [
           {
            "colorbar": {
             "outlinewidth": 0,
             "ticks": ""
            },
            "type": "contourcarpet"
           }
          ],
          "heatmap": [
           {
            "colorbar": {
             "outlinewidth": 0,
             "ticks": ""
            },
            "colorscale": [
             [
              0,
              "#0d0887"
             ],
             [
              0.1111111111111111,
              "#46039f"
             ],
             [
              0.2222222222222222,
              "#7201a8"
             ],
             [
              0.3333333333333333,
              "#9c179e"
             ],
             [
              0.4444444444444444,
              "#bd3786"
             ],
             [
              0.5555555555555556,
              "#d8576b"
             ],
             [
              0.6666666666666666,
              "#ed7953"
             ],
             [
              0.7777777777777778,
              "#fb9f3a"
             ],
             [
              0.8888888888888888,
              "#fdca26"
             ],
             [
              1,
              "#f0f921"
             ]
            ],
            "type": "heatmap"
           }
          ],
          "heatmapgl": [
           {
            "colorbar": {
             "outlinewidth": 0,
             "ticks": ""
            },
            "colorscale": [
             [
              0,
              "#0d0887"
             ],
             [
              0.1111111111111111,
              "#46039f"
             ],
             [
              0.2222222222222222,
              "#7201a8"
             ],
             [
              0.3333333333333333,
              "#9c179e"
             ],
             [
              0.4444444444444444,
              "#bd3786"
             ],
             [
              0.5555555555555556,
              "#d8576b"
             ],
             [
              0.6666666666666666,
              "#ed7953"
             ],
             [
              0.7777777777777778,
              "#fb9f3a"
             ],
             [
              0.8888888888888888,
              "#fdca26"
             ],
             [
              1,
              "#f0f921"
             ]
            ],
            "type": "heatmapgl"
           }
          ],
          "histogram": [
           {
            "marker": {
             "pattern": {
              "fillmode": "overlay",
              "size": 10,
              "solidity": 0.2
             }
            },
            "type": "histogram"
           }
          ],
          "histogram2d": [
           {
            "colorbar": {
             "outlinewidth": 0,
             "ticks": ""
            },
            "colorscale": [
             [
              0,
              "#0d0887"
             ],
             [
              0.1111111111111111,
              "#46039f"
             ],
             [
              0.2222222222222222,
              "#7201a8"
             ],
             [
              0.3333333333333333,
              "#9c179e"
             ],
             [
              0.4444444444444444,
              "#bd3786"
             ],
             [
              0.5555555555555556,
              "#d8576b"
             ],
             [
              0.6666666666666666,
              "#ed7953"
             ],
             [
              0.7777777777777778,
              "#fb9f3a"
             ],
             [
              0.8888888888888888,
              "#fdca26"
             ],
             [
              1,
              "#f0f921"
             ]
            ],
            "type": "histogram2d"
           }
          ],
          "histogram2dcontour": [
           {
            "colorbar": {
             "outlinewidth": 0,
             "ticks": ""
            },
            "colorscale": [
             [
              0,
              "#0d0887"
             ],
             [
              0.1111111111111111,
              "#46039f"
             ],
             [
              0.2222222222222222,
              "#7201a8"
             ],
             [
              0.3333333333333333,
              "#9c179e"
             ],
             [
              0.4444444444444444,
              "#bd3786"
             ],
             [
              0.5555555555555556,
              "#d8576b"
             ],
             [
              0.6666666666666666,
              "#ed7953"
             ],
             [
              0.7777777777777778,
              "#fb9f3a"
             ],
             [
              0.8888888888888888,
              "#fdca26"
             ],
             [
              1,
              "#f0f921"
             ]
            ],
            "type": "histogram2dcontour"
           }
          ],
          "mesh3d": [
           {
            "colorbar": {
             "outlinewidth": 0,
             "ticks": ""
            },
            "type": "mesh3d"
           }
          ],
          "parcoords": [
           {
            "line": {
             "colorbar": {
              "outlinewidth": 0,
              "ticks": ""
             }
            },
            "type": "parcoords"
           }
          ],
          "pie": [
           {
            "automargin": true,
            "type": "pie"
           }
          ],
          "scatter": [
           {
            "fillpattern": {
             "fillmode": "overlay",
             "size": 10,
             "solidity": 0.2
            },
            "type": "scatter"
           }
          ],
          "scatter3d": [
           {
            "line": {
             "colorbar": {
              "outlinewidth": 0,
              "ticks": ""
             }
            },
            "marker": {
             "colorbar": {
              "outlinewidth": 0,
              "ticks": ""
             }
            },
            "type": "scatter3d"
           }
          ],
          "scattercarpet": [
           {
            "marker": {
             "colorbar": {
              "outlinewidth": 0,
              "ticks": ""
             }
            },
            "type": "scattercarpet"
           }
          ],
          "scattergeo": [
           {
            "marker": {
             "colorbar": {
              "outlinewidth": 0,
              "ticks": ""
             }
            },
            "type": "scattergeo"
           }
          ],
          "scattergl": [
           {
            "marker": {
             "colorbar": {
              "outlinewidth": 0,
              "ticks": ""
             }
            },
            "type": "scattergl"
           }
          ],
          "scattermapbox": [
           {
            "marker": {
             "colorbar": {
              "outlinewidth": 0,
              "ticks": ""
             }
            },
            "type": "scattermapbox"
           }
          ],
          "scatterpolar": [
           {
            "marker": {
             "colorbar": {
              "outlinewidth": 0,
              "ticks": ""
             }
            },
            "type": "scatterpolar"
           }
          ],
          "scatterpolargl": [
           {
            "marker": {
             "colorbar": {
              "outlinewidth": 0,
              "ticks": ""
             }
            },
            "type": "scatterpolargl"
           }
          ],
          "scatterternary": [
           {
            "marker": {
             "colorbar": {
              "outlinewidth": 0,
              "ticks": ""
             }
            },
            "type": "scatterternary"
           }
          ],
          "surface": [
           {
            "colorbar": {
             "outlinewidth": 0,
             "ticks": ""
            },
            "colorscale": [
             [
              0,
              "#0d0887"
             ],
             [
              0.1111111111111111,
              "#46039f"
             ],
             [
              0.2222222222222222,
              "#7201a8"
             ],
             [
              0.3333333333333333,
              "#9c179e"
             ],
             [
              0.4444444444444444,
              "#bd3786"
             ],
             [
              0.5555555555555556,
              "#d8576b"
             ],
             [
              0.6666666666666666,
              "#ed7953"
             ],
             [
              0.7777777777777778,
              "#fb9f3a"
             ],
             [
              0.8888888888888888,
              "#fdca26"
             ],
             [
              1,
              "#f0f921"
             ]
            ],
            "type": "surface"
           }
          ],
          "table": [
           {
            "cells": {
             "fill": {
              "color": "#EBF0F8"
             },
             "line": {
              "color": "white"
             }
            },
            "header": {
             "fill": {
              "color": "#C8D4E3"
             },
             "line": {
              "color": "white"
             }
            },
            "type": "table"
           }
          ]
         },
         "layout": {
          "annotationdefaults": {
           "arrowcolor": "#2a3f5f",
           "arrowhead": 0,
           "arrowwidth": 1
          },
          "autotypenumbers": "strict",
          "coloraxis": {
           "colorbar": {
            "outlinewidth": 0,
            "ticks": ""
           }
          },
          "colorscale": {
           "diverging": [
            [
             0,
             "#8e0152"
            ],
            [
             0.1,
             "#c51b7d"
            ],
            [
             0.2,
             "#de77ae"
            ],
            [
             0.3,
             "#f1b6da"
            ],
            [
             0.4,
             "#fde0ef"
            ],
            [
             0.5,
             "#f7f7f7"
            ],
            [
             0.6,
             "#e6f5d0"
            ],
            [
             0.7,
             "#b8e186"
            ],
            [
             0.8,
             "#7fbc41"
            ],
            [
             0.9,
             "#4d9221"
            ],
            [
             1,
             "#276419"
            ]
           ],
           "sequential": [
            [
             0,
             "#0d0887"
            ],
            [
             0.1111111111111111,
             "#46039f"
            ],
            [
             0.2222222222222222,
             "#7201a8"
            ],
            [
             0.3333333333333333,
             "#9c179e"
            ],
            [
             0.4444444444444444,
             "#bd3786"
            ],
            [
             0.5555555555555556,
             "#d8576b"
            ],
            [
             0.6666666666666666,
             "#ed7953"
            ],
            [
             0.7777777777777778,
             "#fb9f3a"
            ],
            [
             0.8888888888888888,
             "#fdca26"
            ],
            [
             1,
             "#f0f921"
            ]
           ],
           "sequentialminus": [
            [
             0,
             "#0d0887"
            ],
            [
             0.1111111111111111,
             "#46039f"
            ],
            [
             0.2222222222222222,
             "#7201a8"
            ],
            [
             0.3333333333333333,
             "#9c179e"
            ],
            [
             0.4444444444444444,
             "#bd3786"
            ],
            [
             0.5555555555555556,
             "#d8576b"
            ],
            [
             0.6666666666666666,
             "#ed7953"
            ],
            [
             0.7777777777777778,
             "#fb9f3a"
            ],
            [
             0.8888888888888888,
             "#fdca26"
            ],
            [
             1,
             "#f0f921"
            ]
           ]
          },
          "colorway": [
           "#636efa",
           "#EF553B",
           "#00cc96",
           "#ab63fa",
           "#FFA15A",
           "#19d3f3",
           "#FF6692",
           "#B6E880",
           "#FF97FF",
           "#FECB52"
          ],
          "font": {
           "color": "#2a3f5f"
          },
          "geo": {
           "bgcolor": "white",
           "lakecolor": "white",
           "landcolor": "white",
           "showlakes": true,
           "showland": true,
           "subunitcolor": "#C8D4E3"
          },
          "hoverlabel": {
           "align": "left"
          },
          "hovermode": "closest",
          "mapbox": {
           "style": "light"
          },
          "paper_bgcolor": "white",
          "plot_bgcolor": "white",
          "polar": {
           "angularaxis": {
            "gridcolor": "#EBF0F8",
            "linecolor": "#EBF0F8",
            "ticks": ""
           },
           "bgcolor": "white",
           "radialaxis": {
            "gridcolor": "#EBF0F8",
            "linecolor": "#EBF0F8",
            "ticks": ""
           }
          },
          "scene": {
           "xaxis": {
            "backgroundcolor": "white",
            "gridcolor": "#DFE8F3",
            "gridwidth": 2,
            "linecolor": "#EBF0F8",
            "showbackground": true,
            "ticks": "",
            "zerolinecolor": "#EBF0F8"
           },
           "yaxis": {
            "backgroundcolor": "white",
            "gridcolor": "#DFE8F3",
            "gridwidth": 2,
            "linecolor": "#EBF0F8",
            "showbackground": true,
            "ticks": "",
            "zerolinecolor": "#EBF0F8"
           },
           "zaxis": {
            "backgroundcolor": "white",
            "gridcolor": "#DFE8F3",
            "gridwidth": 2,
            "linecolor": "#EBF0F8",
            "showbackground": true,
            "ticks": "",
            "zerolinecolor": "#EBF0F8"
           }
          },
          "shapedefaults": {
           "line": {
            "color": "#2a3f5f"
           }
          },
          "ternary": {
           "aaxis": {
            "gridcolor": "#DFE8F3",
            "linecolor": "#A2B1C6",
            "ticks": ""
           },
           "baxis": {
            "gridcolor": "#DFE8F3",
            "linecolor": "#A2B1C6",
            "ticks": ""
           },
           "bgcolor": "white",
           "caxis": {
            "gridcolor": "#DFE8F3",
            "linecolor": "#A2B1C6",
            "ticks": ""
           }
          },
          "title": {
           "x": 0.05
          },
          "xaxis": {
           "automargin": true,
           "gridcolor": "#EBF0F8",
           "linecolor": "#EBF0F8",
           "ticks": "",
           "title": {
            "standoff": 15
           },
           "zerolinecolor": "#EBF0F8",
           "zerolinewidth": 2
          },
          "yaxis": {
           "automargin": true,
           "gridcolor": "#EBF0F8",
           "linecolor": "#EBF0F8",
           "ticks": "",
           "title": {
            "standoff": 15
           },
           "zerolinecolor": "#EBF0F8",
           "zerolinewidth": 2
          }
         }
        },
        "title": {
         "text": "MMLU price-performance over time"
        },
        "xaxis": {
         "anchor": "y",
         "domain": [
          0,
          1
         ],
         "title": {
          "text": "Release Date"
         }
        },
        "yaxis": {
         "anchor": "x",
         "domain": [
          0,
          1
         ],
         "title": {
          "text": "MMLU price-performance"
         },
         "type": "log"
        }
       }
      }
     },
     "metadata": {},
     "output_type": "display_data"
    }
   ],
   "source": [
    "# Construct a list of 'Model Name' values that were ever in the top-n based on 'MMLU price-performance'\n",
    "top_n = 1\n",
    "aa_df = aa_df.sort_values(by='Release Date')\n",
    "ever_top_n_models = set()\n",
    "\n",
    "unique_dates = aa_df['Release Date'].sort_values().unique()\n",
    "\n",
    "for date in unique_dates:\n",
    "    df_up_to_date = aa_df[aa_df['Release Date'] <= date]\n",
    "    top_n_models = df_up_to_date.nlargest(top_n, 'MMLU price-performance')\n",
    "    top_n_model_names = top_n_models['Model Name and Date'].tolist()\n",
    "    ever_top_n_models.update(top_n_model_names)\n",
    "\n",
    "ever_top_n_list = sorted(ever_top_n_models)\n",
    "print(ever_top_n_list)\n",
    "\n",
    "# Plot top-n models over time\n",
    "fig = px.scatter(aa_df[aa_df['Model Name and Date'].isin(ever_top_n_list)], x='Release Date', y='MMLU price-performance', title='MMLU price-performance over time', hover_data=['Model Name and Date'])\n",
    "fig.update_layout(yaxis_type='log')\n",
    "fig.show()"
   ]
  },
  {
   "cell_type": "markdown",
   "metadata": {},
   "source": [
    "## Regression to lowest-priced models above a performance lower bound"
   ]
  },
  {
   "cell_type": "markdown",
   "metadata": {},
   "source": [
    "### Examples"
   ]
  },
  {
   "cell_type": "code",
   "execution_count": 18,
   "metadata": {},
   "outputs": [],
   "source": [
    "results_subdir = results_dir + 'lowest_price_models_examples/'\n",
    "os.makedirs(results_subdir, exist_ok=True)"
   ]
  },
  {
   "cell_type": "code",
   "execution_count": 19,
   "metadata": {},
   "outputs": [
    {
     "name": "stdout",
     "output_type": "stream",
     "text": [
      "2023-04-01 00:00:00 GPT-4-0314 86.0 $37.50\n",
      "2023-12-01 00:00:00 GPT-4 Turbo 87.0 $15.00\n",
      "2024-06-01 00:00:00 Gemini-1.5-Pro-2024-05 86.0 $2.19\n",
      "2024-08-01 00:00:00 GPT-4o-mini 82.0 $0.26\n",
      "2025-01-01 00:00:00 Phi 4 85.0 $0.12\n"
     ]
    }
   ],
   "source": [
    "\"\"\"\n",
    "  - Set a performance lower bound\n",
    "  - Track the running best (top) model\n",
    "  - At each point in time (at some resolution)\n",
    "    - Filter to new models published in this time window\n",
    "    - Filter to models with performance above the lower bound\n",
    "    - Check if any new model is cheaper than current best\n",
    "    - If so, update the current best\n",
    "    - Record the current best model at this time point\n",
    "\"\"\"\n",
    "bench = 'MMLU'\n",
    "performance_lower_bound = 80\n",
    "performance_upper_bound = 90\n",
    "ts = pd.date_range(start='2020-01-01', end=pd.Timestamp.today(), freq='MS')\n",
    "cheapest_models = []\n",
    "current_best = None\n",
    "\n",
    "for i, t in enumerate(ts):\n",
    "    # Get models published in this time window\n",
    "    benchmark_df = aa_df\n",
    "    if i > 0:\n",
    "        prev_t = ts[i-1]\n",
    "        benchmark_df = benchmark_df[(benchmark_df['Release Date'] >= prev_t) & (benchmark_df['Release Date'] < t)]\n",
    "    else:\n",
    "        benchmark_df = benchmark_df[benchmark_df['Release Date'] < t]\n",
    "        \n",
    "    # Filter for performance\n",
    "    benchmark_df = benchmark_df[\n",
    "        benchmark_df[bench].notna() &\n",
    "        (benchmark_df[bench] >= performance_lower_bound) &\n",
    "        (benchmark_df[bench] < performance_upper_bound)\n",
    "    ]\n",
    "    \n",
    "    if not benchmark_df.empty:\n",
    "        # Find cheapest new model\n",
    "        new_best = benchmark_df.loc[benchmark_df['USD per 1M Tokens'].idxmin()]\n",
    "        \n",
    "        # Update current best if new model is cheaper (or if no current best)\n",
    "        if current_best is None or new_best['USD per 1M Tokens'] < current_best['USD per 1M Tokens']:\n",
    "            current_best = new_best\n",
    "            cheapest_models.append(current_best)\n",
    "            print(t, current_best['Model Name'], current_best[bench], f\"${current_best['USD per 1M Tokens']:.2f}\")\n",
    "        # elif new_best['USD per 1M Tokens'] == current_best['USD per 1M Tokens']:\n",
    "        #     # Choose the model with the highest performance\n",
    "        #     if new_best[bench] > current_best[bench]:\n",
    "        #         current_best = new_best\n",
    "        #         cheapest_models.append(current_best)\n",
    "        #         print(t, current_best['Model Name'], current_best[bench], f\"${current_best['USD per 1M Tokens']:.2f}\")\n"
   ]
  },
  {
   "cell_type": "code",
   "execution_count": 20,
   "metadata": {},
   "outputs": [
    {
     "data": {
      "text/html": [
       "<div>\n",
       "<style scoped>\n",
       "    .dataframe tbody tr th:only-of-type {\n",
       "        vertical-align: middle;\n",
       "    }\n",
       "\n",
       "    .dataframe tbody tr th {\n",
       "        vertical-align: top;\n",
       "    }\n",
       "\n",
       "    .dataframe thead th {\n",
       "        text-align: right;\n",
       "    }\n",
       "</style>\n",
       "<table border=\"1\" class=\"dataframe\">\n",
       "  <thead>\n",
       "    <tr style=\"text-align: right;\">\n",
       "      <th></th>\n",
       "      <th>Model Name</th>\n",
       "      <th>Release Date</th>\n",
       "      <th>USD per 1M Tokens</th>\n",
       "      <th>MMLU</th>\n",
       "      <th>GPQA Diamond</th>\n",
       "      <th>HumanEval</th>\n",
       "      <th>MATH-500</th>\n",
       "      <th>LMSys Chatbot Arena ELO</th>\n",
       "      <th>MATH 5</th>\n",
       "      <th>Tokens per Second</th>\n",
       "      <th>Prefill Latency (s)</th>\n",
       "      <th>Prompt Length (tk)</th>\n",
       "      <th>Model Name and Date</th>\n",
       "      <th>MMLU price-performance</th>\n",
       "    </tr>\n",
       "  </thead>\n",
       "  <tbody>\n",
       "    <tr>\n",
       "      <th>5</th>\n",
       "      <td>GPT-4-0314</td>\n",
       "      <td>2023-03-14</td>\n",
       "      <td>37.5000</td>\n",
       "      <td>86.0</td>\n",
       "      <td>33.0</td>\n",
       "      <td>67.0</td>\n",
       "      <td>NaN</td>\n",
       "      <td>1186.0</td>\n",
       "      <td>NaN</td>\n",
       "      <td>23.6</td>\n",
       "      <td>0.724</td>\n",
       "      <td>1000.0</td>\n",
       "      <td>GPT-4-0314 (2023-03)</td>\n",
       "      <td>2.293333</td>\n",
       "    </tr>\n",
       "    <tr>\n",
       "      <th>11</th>\n",
       "      <td>GPT-4 Turbo</td>\n",
       "      <td>2023-11-06</td>\n",
       "      <td>15.0000</td>\n",
       "      <td>87.0</td>\n",
       "      <td>50.0</td>\n",
       "      <td>92.0</td>\n",
       "      <td>74.0</td>\n",
       "      <td>1256.0</td>\n",
       "      <td>36.0</td>\n",
       "      <td>39.2</td>\n",
       "      <td>1.246</td>\n",
       "      <td>1000.0</td>\n",
       "      <td>GPT-4 Turbo (2023-11)</td>\n",
       "      <td>5.800000</td>\n",
       "    </tr>\n",
       "    <tr>\n",
       "      <th>30</th>\n",
       "      <td>Gemini-1.5-Pro-2024-05</td>\n",
       "      <td>2024-05-23</td>\n",
       "      <td>2.1900</td>\n",
       "      <td>86.0</td>\n",
       "      <td>46.0</td>\n",
       "      <td>83.0</td>\n",
       "      <td>66.0</td>\n",
       "      <td>1260.0</td>\n",
       "      <td>41.0</td>\n",
       "      <td>64.8</td>\n",
       "      <td>0.738</td>\n",
       "      <td>1000.0</td>\n",
       "      <td>Gemini-1.5-Pro-2024-05 (2024-05)</td>\n",
       "      <td>39.269406</td>\n",
       "    </tr>\n",
       "    <tr>\n",
       "      <th>35</th>\n",
       "      <td>GPT-4o-mini</td>\n",
       "      <td>2024-07-18</td>\n",
       "      <td>0.2600</td>\n",
       "      <td>82.0</td>\n",
       "      <td>43.0</td>\n",
       "      <td>88.0</td>\n",
       "      <td>79.0</td>\n",
       "      <td>1273.0</td>\n",
       "      <td>48.0</td>\n",
       "      <td>112.2</td>\n",
       "      <td>0.626</td>\n",
       "      <td>1000.0</td>\n",
       "      <td>GPT-4o-mini (2024-07)</td>\n",
       "      <td>315.384615</td>\n",
       "    </tr>\n",
       "    <tr>\n",
       "      <th>65</th>\n",
       "      <td>Phi 4</td>\n",
       "      <td>2024-12-13</td>\n",
       "      <td>0.1225</td>\n",
       "      <td>85.0</td>\n",
       "      <td>53.0</td>\n",
       "      <td>87.0</td>\n",
       "      <td>81.0</td>\n",
       "      <td>1204.0</td>\n",
       "      <td>65.0</td>\n",
       "      <td>NaN</td>\n",
       "      <td>NaN</td>\n",
       "      <td>NaN</td>\n",
       "      <td>Phi 4 (2024-12)</td>\n",
       "      <td>693.877551</td>\n",
       "    </tr>\n",
       "  </tbody>\n",
       "</table>\n",
       "</div>"
      ],
      "text/plain": [
       "                Model Name Release Date  USD per 1M Tokens  MMLU  \\\n",
       "5               GPT-4-0314   2023-03-14            37.5000  86.0   \n",
       "11             GPT-4 Turbo   2023-11-06            15.0000  87.0   \n",
       "30  Gemini-1.5-Pro-2024-05   2024-05-23             2.1900  86.0   \n",
       "35             GPT-4o-mini   2024-07-18             0.2600  82.0   \n",
       "65                   Phi 4   2024-12-13             0.1225  85.0   \n",
       "\n",
       "    GPQA Diamond  HumanEval  MATH-500  LMSys Chatbot Arena ELO  MATH 5  \\\n",
       "5           33.0       67.0       NaN                   1186.0     NaN   \n",
       "11          50.0       92.0      74.0                   1256.0    36.0   \n",
       "30          46.0       83.0      66.0                   1260.0    41.0   \n",
       "35          43.0       88.0      79.0                   1273.0    48.0   \n",
       "65          53.0       87.0      81.0                   1204.0    65.0   \n",
       "\n",
       "    Tokens per Second  Prefill Latency (s)  Prompt Length (tk)  \\\n",
       "5                23.6                0.724              1000.0   \n",
       "11               39.2                1.246              1000.0   \n",
       "30               64.8                0.738              1000.0   \n",
       "35              112.2                0.626              1000.0   \n",
       "65                NaN                  NaN                 NaN   \n",
       "\n",
       "                 Model Name and Date  MMLU price-performance  \n",
       "5               GPT-4-0314 (2023-03)                2.293333  \n",
       "11             GPT-4 Turbo (2023-11)                5.800000  \n",
       "30  Gemini-1.5-Pro-2024-05 (2024-05)               39.269406  \n",
       "35             GPT-4o-mini (2024-07)              315.384615  \n",
       "65                   Phi 4 (2024-12)              693.877551  "
      ]
     },
     "execution_count": 20,
     "metadata": {},
     "output_type": "execute_result"
    }
   ],
   "source": [
    "cheapest_models_df = pd.DataFrame(cheapest_models)\n",
    "cheapest_models_df.head()"
   ]
  },
  {
   "cell_type": "code",
   "execution_count": 21,
   "metadata": {},
   "outputs": [
    {
     "name": "stdout",
     "output_type": "stream",
     "text": [
      "                            OLS Regression Results                            \n",
      "==============================================================================\n",
      "Dep. Variable:              log_price   R-squared:                       0.909\n",
      "Model:                            OLS   Adj. R-squared:                  0.879\n",
      "Method:                 Least Squares   F-statistic:                     29.98\n",
      "Date:                Tue, 11 Mar 2025   Prob (F-statistic):             0.0120\n",
      "Time:                        17:32:55   Log-Likelihood:               -0.91580\n",
      "No. Observations:                   5   AIC:                             5.832\n",
      "Df Residuals:                       3   BIC:                             5.050\n",
      "Df Model:                           1                                         \n",
      "Covariance Type:            nonrobust                                         \n",
      "==============================================================================\n",
      "                 coef    std err          t      P>|t|      [0.025      0.975]\n",
      "------------------------------------------------------------------------------\n",
      "Intercept   3058.9717    558.594      5.476      0.012    1281.277    4836.667\n",
      "date          -0.0041      0.001     -5.476      0.012      -0.007      -0.002\n",
      "==============================================================================\n",
      "Omnibus:                          nan   Durbin-Watson:                   2.138\n",
      "Prob(Omnibus):                    nan   Jarque-Bera (JB):                0.612\n",
      "Skew:                           0.131   Prob(JB):                        0.736\n",
      "Kurtosis:                       1.306   Cond. No.                     2.46e+09\n",
      "==============================================================================\n",
      "\n",
      "Notes:\n",
      "[1] Standard Errors assume that the covariance matrix of the errors is correctly specified.\n",
      "[2] The condition number is large, 2.46e+09. This might indicate that there are\n",
      "strong multicollinearity or other numerical problems.\n",
      "                            OLS Regression Results                            \n",
      "==============================================================================\n",
      "Dep. Variable:                  price   R-squared:                       0.907\n",
      "Model:                            OLS   Adj. R-squared:                  0.876\n",
      "Method:                 Least Squares   F-statistic:                     29.21\n",
      "Date:                Tue, 11 Mar 2025   Prob (F-statistic):             0.0124\n",
      "Time:                        17:32:55   Log-Likelihood:                -14.479\n",
      "No. Observations:                   5   AIC:                             32.96\n",
      "Df Residuals:                       3   BIC:                             32.18\n",
      "Df Model:                           1                                         \n",
      "Covariance Type:            nonrobust                                         \n",
      "==============================================================================\n",
      "                 coef    std err          t      P>|t|      [0.025      0.975]\n",
      "------------------------------------------------------------------------------\n",
      "Intercept    4.55e+04   8417.811      5.406      0.012    1.87e+04    7.23e+04\n",
      "date          -0.0616      0.011     -5.404      0.012      -0.098      -0.025\n",
      "==============================================================================\n",
      "Omnibus:                          nan   Durbin-Watson:                   1.519\n",
      "Prob(Omnibus):                    nan   Jarque-Bera (JB):                0.745\n",
      "Skew:                           0.436   Prob(JB):                        0.689\n",
      "Kurtosis:                       1.323   Cond. No.                     2.46e+09\n",
      "==============================================================================\n",
      "\n",
      "Notes:\n",
      "[1] Standard Errors assume that the covariance matrix of the errors is correctly specified.\n",
      "[2] The condition number is large, 2.46e+09. This might indicate that there are\n",
      "strong multicollinearity or other numerical problems.\n"
     ]
    },
    {
     "name": "stderr",
     "output_type": "stream",
     "text": [
      "/Users/bencottier/miniconda3/envs/llm-efficiency/lib/python3.12/site-packages/statsmodels/stats/stattools.py:74: ValueWarning:\n",
      "\n",
      "omni_normtest is not valid with less than 8 observations; 5 samples were given.\n",
      "\n",
      "/Users/bencottier/miniconda3/envs/llm-efficiency/lib/python3.12/site-packages/statsmodels/stats/stattools.py:74: ValueWarning:\n",
      "\n",
      "omni_normtest is not valid with less than 8 observations; 5 samples were given.\n",
      "\n"
     ]
    }
   ],
   "source": [
    "# Fit a line to the data\n",
    "cheapest_models_df['price'] = cheapest_models_df['USD per 1M Tokens']\n",
    "cheapest_models_df['log_price'] = np.log10(cheapest_models_df['USD per 1M Tokens'])\n",
    "cheapest_models_df['date'] = cheapest_models_df['Release Date'].map(lambda x: pd.Timestamp(x).toordinal())\n",
    "exponential_model = smf.ols('log_price ~ date', data=cheapest_models_df).fit()\n",
    "print(exponential_model.summary())\n",
    "\n",
    "linear_model = smf.ols('price ~ date', data=cheapest_models_df).fit()\n",
    "print(linear_model.summary())"
   ]
  },
  {
   "cell_type": "code",
   "execution_count": 22,
   "metadata": {},
   "outputs": [
    {
     "data": {
      "application/vnd.plotly.v1+json": {
       "config": {
        "plotlyServerURL": "https://plot.ly"
       },
       "data": [
        {
         "line": {
          "color": "blue",
          "dash": "dash"
         },
         "mode": "lines",
         "name": "Trendline: 32x decrease per year",
         "textposition": "bottom left",
         "type": "scatter",
         "x": [
          "2023-03-14T00:00:00",
          "2023-11-06T00:00:00",
          "2024-05-23T00:00:00",
          "2024-07-18T00:00:00",
          "2024-12-13T00:00:00"
         ],
         "y": [
          65.00907452728526,
          6.791907230365377,
          1.0192900822657676,
          0.597729275368191,
          0.14585053413472432
         ]
        },
        {
         "marker": {
          "color": "blue"
         },
         "mode": "markers+text",
         "name": "Cheapest models with 80-90% on MMLU",
         "text": [
          "GPT-4-0314",
          "GPT-4 Turbo",
          "Gemini-1.5-Pro-2024-05",
          "GPT-4o-mini",
          "Phi 4"
         ],
         "textposition": "bottom left",
         "type": "scatter",
         "x": [
          "2023-03-14T00:00:00",
          "2023-11-06T00:00:00",
          "2024-05-23T00:00:00",
          "2024-07-18T00:00:00",
          "2024-12-13T00:00:00"
         ],
         "y": [
          37.5,
          15,
          2.19,
          0.26,
          0.1225
         ]
        },
        {
         "marker": {
          "color": "lightblue"
         },
         "mode": "markers+text",
         "name": "Other models with 80-90% on MMLU",
         "text": [
          "Claude-3-Opus",
          "GPT-4o-2024-05",
          "Claude-3.5-Sonnet-2024-06",
          "Llama-3.1-Instruct-70B",
          "Llama-3.1-Instruct-405B",
          "Mistral-Large-2-2024-07",
          "GPT-4o-2024-08",
          "Jamba 1.5-Large",
          "Reka Core",
          "Gemini-1.5-Pro-2024-09",
          "Claude-3.5-Sonnet-2024-10",
          "Claude-3.5-Haiku",
          "Mistral-Large-2-2024-11",
          "GPT-4o-2024-11",
          "Mistral Small 3",
          "Gemini 2.0 Flash"
         ],
         "textposition": "bottom left",
         "type": "scatter",
         "x": [
          "2024-03-04T00:00:00",
          "2024-05-13T00:00:00",
          "2024-06-20T00:00:00",
          "2024-07-23T00:00:00",
          "2024-07-23T00:00:00",
          "2024-07-24T00:00:00",
          "2024-08-06T00:00:00",
          "2024-09-12T00:00:00",
          "2024-09-14T00:00:00",
          "2024-09-24T00:00:00",
          "2024-10-22T00:00:00",
          "2024-10-22T00:00:00",
          "2024-11-18T00:00:00",
          "2024-11-20T00:00:00",
          "2025-01-30T00:00:00",
          "2025-02-05T00:00:00"
         ],
         "y": [
          30,
          7.5,
          6,
          0.72,
          3.5,
          3,
          4.38,
          3.5,
          4,
          2.19,
          6,
          1.6,
          3,
          4.38,
          0.475,
          0.175
         ]
        }
       ],
       "layout": {
        "font": {
         "size": 10
        },
        "height": 600,
        "legend": {
         "bordercolor": "lightgrey",
         "borderwidth": 1,
         "x": 0.4,
         "xanchor": "right",
         "y": 0.25,
         "yanchor": "top"
        },
        "template": {
         "data": {
          "bar": [
           {
            "error_x": {
             "color": "#2a3f5f"
            },
            "error_y": {
             "color": "#2a3f5f"
            },
            "marker": {
             "line": {
              "color": "white",
              "width": 0.5
             },
             "pattern": {
              "fillmode": "overlay",
              "size": 10,
              "solidity": 0.2
             }
            },
            "type": "bar"
           }
          ],
          "barpolar": [
           {
            "marker": {
             "line": {
              "color": "white",
              "width": 0.5
             },
             "pattern": {
              "fillmode": "overlay",
              "size": 10,
              "solidity": 0.2
             }
            },
            "type": "barpolar"
           }
          ],
          "carpet": [
           {
            "aaxis": {
             "endlinecolor": "#2a3f5f",
             "gridcolor": "#C8D4E3",
             "linecolor": "#C8D4E3",
             "minorgridcolor": "#C8D4E3",
             "startlinecolor": "#2a3f5f"
            },
            "baxis": {
             "endlinecolor": "#2a3f5f",
             "gridcolor": "#C8D4E3",
             "linecolor": "#C8D4E3",
             "minorgridcolor": "#C8D4E3",
             "startlinecolor": "#2a3f5f"
            },
            "type": "carpet"
           }
          ],
          "choropleth": [
           {
            "colorbar": {
             "outlinewidth": 0,
             "ticks": ""
            },
            "type": "choropleth"
           }
          ],
          "contour": [
           {
            "colorbar": {
             "outlinewidth": 0,
             "ticks": ""
            },
            "colorscale": [
             [
              0,
              "#0d0887"
             ],
             [
              0.1111111111111111,
              "#46039f"
             ],
             [
              0.2222222222222222,
              "#7201a8"
             ],
             [
              0.3333333333333333,
              "#9c179e"
             ],
             [
              0.4444444444444444,
              "#bd3786"
             ],
             [
              0.5555555555555556,
              "#d8576b"
             ],
             [
              0.6666666666666666,
              "#ed7953"
             ],
             [
              0.7777777777777778,
              "#fb9f3a"
             ],
             [
              0.8888888888888888,
              "#fdca26"
             ],
             [
              1,
              "#f0f921"
             ]
            ],
            "type": "contour"
           }
          ],
          "contourcarpet": [
           {
            "colorbar": {
             "outlinewidth": 0,
             "ticks": ""
            },
            "type": "contourcarpet"
           }
          ],
          "heatmap": [
           {
            "colorbar": {
             "outlinewidth": 0,
             "ticks": ""
            },
            "colorscale": [
             [
              0,
              "#0d0887"
             ],
             [
              0.1111111111111111,
              "#46039f"
             ],
             [
              0.2222222222222222,
              "#7201a8"
             ],
             [
              0.3333333333333333,
              "#9c179e"
             ],
             [
              0.4444444444444444,
              "#bd3786"
             ],
             [
              0.5555555555555556,
              "#d8576b"
             ],
             [
              0.6666666666666666,
              "#ed7953"
             ],
             [
              0.7777777777777778,
              "#fb9f3a"
             ],
             [
              0.8888888888888888,
              "#fdca26"
             ],
             [
              1,
              "#f0f921"
             ]
            ],
            "type": "heatmap"
           }
          ],
          "heatmapgl": [
           {
            "colorbar": {
             "outlinewidth": 0,
             "ticks": ""
            },
            "colorscale": [
             [
              0,
              "#0d0887"
             ],
             [
              0.1111111111111111,
              "#46039f"
             ],
             [
              0.2222222222222222,
              "#7201a8"
             ],
             [
              0.3333333333333333,
              "#9c179e"
             ],
             [
              0.4444444444444444,
              "#bd3786"
             ],
             [
              0.5555555555555556,
              "#d8576b"
             ],
             [
              0.6666666666666666,
              "#ed7953"
             ],
             [
              0.7777777777777778,
              "#fb9f3a"
             ],
             [
              0.8888888888888888,
              "#fdca26"
             ],
             [
              1,
              "#f0f921"
             ]
            ],
            "type": "heatmapgl"
           }
          ],
          "histogram": [
           {
            "marker": {
             "pattern": {
              "fillmode": "overlay",
              "size": 10,
              "solidity": 0.2
             }
            },
            "type": "histogram"
           }
          ],
          "histogram2d": [
           {
            "colorbar": {
             "outlinewidth": 0,
             "ticks": ""
            },
            "colorscale": [
             [
              0,
              "#0d0887"
             ],
             [
              0.1111111111111111,
              "#46039f"
             ],
             [
              0.2222222222222222,
              "#7201a8"
             ],
             [
              0.3333333333333333,
              "#9c179e"
             ],
             [
              0.4444444444444444,
              "#bd3786"
             ],
             [
              0.5555555555555556,
              "#d8576b"
             ],
             [
              0.6666666666666666,
              "#ed7953"
             ],
             [
              0.7777777777777778,
              "#fb9f3a"
             ],
             [
              0.8888888888888888,
              "#fdca26"
             ],
             [
              1,
              "#f0f921"
             ]
            ],
            "type": "histogram2d"
           }
          ],
          "histogram2dcontour": [
           {
            "colorbar": {
             "outlinewidth": 0,
             "ticks": ""
            },
            "colorscale": [
             [
              0,
              "#0d0887"
             ],
             [
              0.1111111111111111,
              "#46039f"
             ],
             [
              0.2222222222222222,
              "#7201a8"
             ],
             [
              0.3333333333333333,
              "#9c179e"
             ],
             [
              0.4444444444444444,
              "#bd3786"
             ],
             [
              0.5555555555555556,
              "#d8576b"
             ],
             [
              0.6666666666666666,
              "#ed7953"
             ],
             [
              0.7777777777777778,
              "#fb9f3a"
             ],
             [
              0.8888888888888888,
              "#fdca26"
             ],
             [
              1,
              "#f0f921"
             ]
            ],
            "type": "histogram2dcontour"
           }
          ],
          "mesh3d": [
           {
            "colorbar": {
             "outlinewidth": 0,
             "ticks": ""
            },
            "type": "mesh3d"
           }
          ],
          "parcoords": [
           {
            "line": {
             "colorbar": {
              "outlinewidth": 0,
              "ticks": ""
             }
            },
            "type": "parcoords"
           }
          ],
          "pie": [
           {
            "automargin": true,
            "type": "pie"
           }
          ],
          "scatter": [
           {
            "fillpattern": {
             "fillmode": "overlay",
             "size": 10,
             "solidity": 0.2
            },
            "type": "scatter"
           }
          ],
          "scatter3d": [
           {
            "line": {
             "colorbar": {
              "outlinewidth": 0,
              "ticks": ""
             }
            },
            "marker": {
             "colorbar": {
              "outlinewidth": 0,
              "ticks": ""
             }
            },
            "type": "scatter3d"
           }
          ],
          "scattercarpet": [
           {
            "marker": {
             "colorbar": {
              "outlinewidth": 0,
              "ticks": ""
             }
            },
            "type": "scattercarpet"
           }
          ],
          "scattergeo": [
           {
            "marker": {
             "colorbar": {
              "outlinewidth": 0,
              "ticks": ""
             }
            },
            "type": "scattergeo"
           }
          ],
          "scattergl": [
           {
            "marker": {
             "colorbar": {
              "outlinewidth": 0,
              "ticks": ""
             }
            },
            "type": "scattergl"
           }
          ],
          "scattermapbox": [
           {
            "marker": {
             "colorbar": {
              "outlinewidth": 0,
              "ticks": ""
             }
            },
            "type": "scattermapbox"
           }
          ],
          "scatterpolar": [
           {
            "marker": {
             "colorbar": {
              "outlinewidth": 0,
              "ticks": ""
             }
            },
            "type": "scatterpolar"
           }
          ],
          "scatterpolargl": [
           {
            "marker": {
             "colorbar": {
              "outlinewidth": 0,
              "ticks": ""
             }
            },
            "type": "scatterpolargl"
           }
          ],
          "scatterternary": [
           {
            "marker": {
             "colorbar": {
              "outlinewidth": 0,
              "ticks": ""
             }
            },
            "type": "scatterternary"
           }
          ],
          "surface": [
           {
            "colorbar": {
             "outlinewidth": 0,
             "ticks": ""
            },
            "colorscale": [
             [
              0,
              "#0d0887"
             ],
             [
              0.1111111111111111,
              "#46039f"
             ],
             [
              0.2222222222222222,
              "#7201a8"
             ],
             [
              0.3333333333333333,
              "#9c179e"
             ],
             [
              0.4444444444444444,
              "#bd3786"
             ],
             [
              0.5555555555555556,
              "#d8576b"
             ],
             [
              0.6666666666666666,
              "#ed7953"
             ],
             [
              0.7777777777777778,
              "#fb9f3a"
             ],
             [
              0.8888888888888888,
              "#fdca26"
             ],
             [
              1,
              "#f0f921"
             ]
            ],
            "type": "surface"
           }
          ],
          "table": [
           {
            "cells": {
             "fill": {
              "color": "#EBF0F8"
             },
             "line": {
              "color": "white"
             }
            },
            "header": {
             "fill": {
              "color": "#C8D4E3"
             },
             "line": {
              "color": "white"
             }
            },
            "type": "table"
           }
          ]
         },
         "layout": {
          "annotationdefaults": {
           "arrowcolor": "#2a3f5f",
           "arrowhead": 0,
           "arrowwidth": 1
          },
          "autotypenumbers": "strict",
          "coloraxis": {
           "colorbar": {
            "outlinewidth": 0,
            "ticks": ""
           }
          },
          "colorscale": {
           "diverging": [
            [
             0,
             "#8e0152"
            ],
            [
             0.1,
             "#c51b7d"
            ],
            [
             0.2,
             "#de77ae"
            ],
            [
             0.3,
             "#f1b6da"
            ],
            [
             0.4,
             "#fde0ef"
            ],
            [
             0.5,
             "#f7f7f7"
            ],
            [
             0.6,
             "#e6f5d0"
            ],
            [
             0.7,
             "#b8e186"
            ],
            [
             0.8,
             "#7fbc41"
            ],
            [
             0.9,
             "#4d9221"
            ],
            [
             1,
             "#276419"
            ]
           ],
           "sequential": [
            [
             0,
             "#0d0887"
            ],
            [
             0.1111111111111111,
             "#46039f"
            ],
            [
             0.2222222222222222,
             "#7201a8"
            ],
            [
             0.3333333333333333,
             "#9c179e"
            ],
            [
             0.4444444444444444,
             "#bd3786"
            ],
            [
             0.5555555555555556,
             "#d8576b"
            ],
            [
             0.6666666666666666,
             "#ed7953"
            ],
            [
             0.7777777777777778,
             "#fb9f3a"
            ],
            [
             0.8888888888888888,
             "#fdca26"
            ],
            [
             1,
             "#f0f921"
            ]
           ],
           "sequentialminus": [
            [
             0,
             "#0d0887"
            ],
            [
             0.1111111111111111,
             "#46039f"
            ],
            [
             0.2222222222222222,
             "#7201a8"
            ],
            [
             0.3333333333333333,
             "#9c179e"
            ],
            [
             0.4444444444444444,
             "#bd3786"
            ],
            [
             0.5555555555555556,
             "#d8576b"
            ],
            [
             0.6666666666666666,
             "#ed7953"
            ],
            [
             0.7777777777777778,
             "#fb9f3a"
            ],
            [
             0.8888888888888888,
             "#fdca26"
            ],
            [
             1,
             "#f0f921"
            ]
           ]
          },
          "colorway": [
           "#636efa",
           "#EF553B",
           "#00cc96",
           "#ab63fa",
           "#FFA15A",
           "#19d3f3",
           "#FF6692",
           "#B6E880",
           "#FF97FF",
           "#FECB52"
          ],
          "font": {
           "color": "#2a3f5f"
          },
          "geo": {
           "bgcolor": "white",
           "lakecolor": "white",
           "landcolor": "white",
           "showlakes": true,
           "showland": true,
           "subunitcolor": "#C8D4E3"
          },
          "hoverlabel": {
           "align": "left"
          },
          "hovermode": "closest",
          "mapbox": {
           "style": "light"
          },
          "paper_bgcolor": "white",
          "plot_bgcolor": "white",
          "polar": {
           "angularaxis": {
            "gridcolor": "#EBF0F8",
            "linecolor": "#EBF0F8",
            "ticks": ""
           },
           "bgcolor": "white",
           "radialaxis": {
            "gridcolor": "#EBF0F8",
            "linecolor": "#EBF0F8",
            "ticks": ""
           }
          },
          "scene": {
           "xaxis": {
            "backgroundcolor": "white",
            "gridcolor": "#DFE8F3",
            "gridwidth": 2,
            "linecolor": "#EBF0F8",
            "showbackground": true,
            "ticks": "",
            "zerolinecolor": "#EBF0F8"
           },
           "yaxis": {
            "backgroundcolor": "white",
            "gridcolor": "#DFE8F3",
            "gridwidth": 2,
            "linecolor": "#EBF0F8",
            "showbackground": true,
            "ticks": "",
            "zerolinecolor": "#EBF0F8"
           },
           "zaxis": {
            "backgroundcolor": "white",
            "gridcolor": "#DFE8F3",
            "gridwidth": 2,
            "linecolor": "#EBF0F8",
            "showbackground": true,
            "ticks": "",
            "zerolinecolor": "#EBF0F8"
           }
          },
          "shapedefaults": {
           "line": {
            "color": "#2a3f5f"
           }
          },
          "ternary": {
           "aaxis": {
            "gridcolor": "#DFE8F3",
            "linecolor": "#A2B1C6",
            "ticks": ""
           },
           "baxis": {
            "gridcolor": "#DFE8F3",
            "linecolor": "#A2B1C6",
            "ticks": ""
           },
           "bgcolor": "white",
           "caxis": {
            "gridcolor": "#DFE8F3",
            "linecolor": "#A2B1C6",
            "ticks": ""
           }
          },
          "title": {
           "x": 0.05
          },
          "xaxis": {
           "automargin": true,
           "gridcolor": "#EBF0F8",
           "linecolor": "#EBF0F8",
           "ticks": "",
           "title": {
            "standoff": 15
           },
           "zerolinecolor": "#EBF0F8",
           "zerolinewidth": 2
          },
          "yaxis": {
           "automargin": true,
           "gridcolor": "#EBF0F8",
           "linecolor": "#EBF0F8",
           "ticks": "",
           "title": {
            "standoff": 15
           },
           "zerolinecolor": "#EBF0F8",
           "zerolinewidth": 2
          }
         }
        },
        "title": {
         "text": "Price of the cheapest model with 80-90% on MMLU"
        },
        "width": 1000,
        "xaxis": {
         "range": [
          "2022-12-14T00:00:00",
          "2025-03-07T00:00:00"
         ],
         "title": {
          "text": "Month"
         }
        },
        "yaxis": {
         "title": {
          "text": "Price in USD per million tokens"
         },
         "type": "log"
        }
       }
      }
     },
     "metadata": {},
     "output_type": "display_data"
    }
   ],
   "source": [
    "# Calculate annual rate of decrease\n",
    "annual_slope = exponential_model.params['date'] * 365  # Convert daily to annual\n",
    "annual_factor = int(round(10**(-annual_slope)))  # Convert log slope to factor\n",
    "\n",
    "# Plot the exponential trendline with the data\n",
    "fig = go.Figure()\n",
    "fig.add_trace(go.Scatter(\n",
    "    x=cheapest_models_df['Release Date'],\n",
    "    y=10**exponential_model.predict(cheapest_models_df['date']),\n",
    "    mode='lines',\n",
    "    name=f'Trendline: {annual_factor}x decrease per year',\n",
    "    line=dict(color='blue', dash='dash')\n",
    "))\n",
    "fig.add_trace(go.Scatter(\n",
    "    x=cheapest_models_df['Release Date'],\n",
    "    y=cheapest_models_df['USD per 1M Tokens'],\n",
    "    mode='markers+text',\n",
    "    name=f'Cheapest models with {performance_lower_bound}-{performance_upper_bound}% on {bench}',\n",
    "    text=cheapest_models_df['Model Name'],\n",
    "    textposition='bottom left',\n",
    "    marker=dict(color='blue')\n",
    "    # line=dict(shape='hv'),\n",
    "))\n",
    "other_models_df = aa_df[(aa_df[bench].notna()) & (aa_df[bench] >= performance_lower_bound) & ~(aa_df['Model Name'].isin(cheapest_models_df['Model Name']))]\n",
    "fig.add_trace(go.Scatter(\n",
    "    x=other_models_df['Release Date'],\n",
    "    y=other_models_df['USD per 1M Tokens'],\n",
    "    mode='markers+text',\n",
    "    name=f'Other models with {performance_lower_bound}-{performance_upper_bound}% on {bench}',\n",
    "    text=other_models_df['Model Name'],\n",
    "    marker=dict(color='lightblue')\n",
    "))\n",
    "fig.update_layout(\n",
    "    title=f'Price of the cheapest model with {performance_lower_bound}-{performance_upper_bound}% on {bench}'\n",
    ")\n",
    "fig.update_traces(textposition='bottom left')\n",
    "fig.update_layout(yaxis_type='log')\n",
    "fig.update_layout(xaxis_title='Month')\n",
    "fig.update_layout(yaxis_title='Price in USD per million tokens')\n",
    "# Lower the lower x limit\n",
    "min_date = min(cheapest_models_df['Release Date'].min(), other_models_df['Release Date'].min())\n",
    "max_date = max(cheapest_models_df['Release Date'].max(), other_models_df['Release Date'].max())\n",
    "fig.update_layout(xaxis_range=[min_date - pd.Timedelta(days=90), max_date + pd.Timedelta(days=30)])\n",
    "fig.update_layout(\n",
    "    width=1000,\n",
    "    height=600,\n",
    "    font=dict(size=10),\n",
    "    legend=dict(\n",
    "        yanchor=\"top\",\n",
    "        y=0.25,\n",
    "        xanchor=\"right\",\n",
    "        x=0.4,\n",
    "        bordercolor=\"lightgrey\",\n",
    "        borderwidth=1\n",
    "    )\n",
    ")\n",
    "if save:\n",
    "    save_plot(fig, results_subdir, f'lowest_price_models_{bench}_above_{performance_lower_bound}_with_trendline')\n",
    "fig.show()"
   ]
  },
  {
   "cell_type": "markdown",
   "metadata": {},
   "source": [
    "### Final selected example"
   ]
  },
  {
   "cell_type": "code",
   "execution_count": 23,
   "metadata": {},
   "outputs": [
    {
     "data": {
      "text/plain": [
       "<DatetimeArray>\n",
       "['2021-11-20 00:00:00', '2022-08-31 00:00:00', '2022-09-01 00:00:00',\n",
       " '2022-11-30 00:00:00', '2023-03-06 00:00:00', '2023-03-14 00:00:00',\n",
       " '2023-06-13 00:00:00', '2023-07-18 00:00:00', '2023-11-06 00:00:00',\n",
       " '2023-12-01 00:00:00', '2023-12-08 00:00:00', '2024-01-04 00:00:00',\n",
       " '2024-01-25 00:00:00', '2024-02-26 00:00:00', '2024-03-04 00:00:00',\n",
       " '2024-04-14 00:00:00', '2024-04-17 00:00:00', '2024-04-18 00:00:00',\n",
       " '2024-05-10 00:00:00', '2024-05-13 00:00:00', '2024-05-23 00:00:00',\n",
       " '2024-06-20 00:00:00', '2024-06-24 00:00:00', '2024-07-18 00:00:00',\n",
       " '2024-07-23 00:00:00', '2024-07-24 00:00:00', '2024-08-06 00:00:00',\n",
       " '2024-08-12 00:00:00', '2024-08-13 00:00:00', '2024-09-11 00:00:00',\n",
       " '2024-09-12 00:00:00', '2024-09-13 00:00:00', '2024-09-14 00:00:00',\n",
       " '2024-09-24 00:00:00', '2024-10-03 00:00:00', '2024-10-22 00:00:00',\n",
       " '2024-11-18 00:00:00', '2024-11-20 00:00:00', '2024-12-13 00:00:00',\n",
       " '2024-12-26 00:00:00', '2025-01-30 00:00:00', '2025-02-05 00:00:00']\n",
       "Length: 42, dtype: datetime64[ns]"
      ]
     },
     "execution_count": 23,
     "metadata": {},
     "output_type": "execute_result"
    }
   ],
   "source": [
    "aa_df['Release Date'].unique()"
   ]
  },
  {
   "cell_type": "code",
   "execution_count": 24,
   "metadata": {},
   "outputs": [
    {
     "name": "stdout",
     "output_type": "stream",
     "text": [
      "\n",
      "Performance range: 33.0-100%\n",
      "2023-03-14 00:00:00 GPT-4-0314 33.0 $37.50\n",
      "2023-11-06 00:00:00 GPT-4 Turbo 50.0 $15.00\n",
      "2024-02-26 00:00:00 Mistral-Large-2024-02 36.0 $6.00\n",
      "2024-03-04 00:00:00 Claude-3-Haiku 33.0 $0.50\n",
      "2024-05-10 00:00:00 Gemini-1.5-Flash-2024-05 39.0 $0.13\n",
      "2024-12-13 00:00:00 Phi 4 53.0 $0.12\n",
      "90% CI: 4 401\n"
     ]
    },
    {
     "data": {
      "application/vnd.plotly.v1+json": {
       "config": {
        "plotlyServerURL": "https://plot.ly"
       },
       "data": [
        {
         "marker": {
          "color": "rgb(222, 222, 255)"
         },
         "mode": "markers",
         "name": "Other, GPT-4 level or better on GPQA Diamond",
         "text": [
          "GPT-4-0314",
          "GPT-4 Turbo",
          "GPT-4-0125",
          "Mistral-Large-2024-02",
          "Claude-3-Haiku",
          "Claude-3-Sonnet",
          "Claude-3-Opus",
          "Mistral-8x22",
          "Llama-3-Instruct-70B",
          "Gemini-1.5-Flash-2024-05",
          "GPT-4o-2024-05",
          "Gemini-1.5-Pro-2024-05",
          "Claude-3.5-Sonnet-2024-06",
          "Gemma-2-27B",
          "Mistral-NeMo",
          "GPT-4o-mini",
          "Llama-3.1-Instruct-70B",
          "Llama-3.1-Instruct-405B",
          "Mistral-Large-2-2024-07",
          "GPT-4o-2024-08",
          "Claude 2",
          "Gemini 1.0 Pro",
          "Claude 2.1",
          "Command R+",
          "Jamba 1.5-Large",
          "Command R+",
          "Gemini-1.5-Pro-2024-09",
          "Gemini-1.5-Flash-2024-09",
          "Claude-3.5-Sonnet-2024-10",
          "Claude-3.5-Haiku",
          "Mistral-Large-2-2024-11",
          "GPT-4o-2024-11",
          "Phi 4",
          "DeepSeek-V3",
          "Mistral Small 3",
          "Gemini 2.0 Flash"
         ],
         "type": "scatter",
         "x": [
          "2023-03-14T00:00:00",
          "2023-11-06T00:00:00",
          "2024-01-25T00:00:00",
          "2024-02-26T00:00:00",
          "2024-03-04T00:00:00",
          "2024-03-04T00:00:00",
          "2024-03-04T00:00:00",
          "2024-04-17T00:00:00",
          "2024-04-18T00:00:00",
          "2024-05-10T00:00:00",
          "2024-05-13T00:00:00",
          "2024-05-23T00:00:00",
          "2024-06-20T00:00:00",
          "2024-06-24T00:00:00",
          "2024-07-18T00:00:00",
          "2024-07-18T00:00:00",
          "2024-07-23T00:00:00",
          "2024-07-23T00:00:00",
          "2024-07-24T00:00:00",
          "2024-08-06T00:00:00",
          "2024-08-12T00:00:00",
          "2024-08-12T00:00:00",
          "2024-08-12T00:00:00",
          "2024-08-13T00:00:00",
          "2024-09-12T00:00:00",
          "2024-09-13T00:00:00",
          "2024-09-24T00:00:00",
          "2024-09-24T00:00:00",
          "2024-10-22T00:00:00",
          "2024-10-22T00:00:00",
          "2024-11-18T00:00:00",
          "2024-11-20T00:00:00",
          "2024-12-13T00:00:00",
          "2024-12-26T00:00:00",
          "2025-01-30T00:00:00",
          "2025-02-05T00:00:00"
         ],
         "y": [
          37.5,
          15,
          15,
          6,
          0.5,
          6,
          30,
          1.2,
          0.89,
          0.13,
          7.5,
          2.19,
          6,
          0.26,
          0.13,
          0.26,
          0.72,
          3.5,
          3,
          4.38,
          12,
          0.75,
          12,
          6,
          3.5,
          4.375,
          2.19,
          0.13,
          6,
          1.6,
          3,
          4.38,
          0.1225,
          0.4775,
          0.475,
          0.175
         ]
        },
        {
         "hoverinfo": "skip",
         "line": {
          "color": "magenta",
          "dash": "dash"
         },
         "mode": "lines+text",
         "name": "42x decrease per year",
         "showlegend": false,
         "text": [
          "",
          "",
          "",
          "",
          "",
          "",
          "",
          "",
          "",
          "",
          "42x per year",
          "",
          "",
          "",
          "",
          "",
          "",
          "",
          "",
          "",
          ""
         ],
         "textfont": {
          "size": 14
         },
         "textposition": "middle left",
         "type": "scatter",
         "x": [
          "2023-04-01T00:00:00",
          "2023-05-01T00:00:00",
          "2023-06-01T00:00:00",
          "2023-07-01T00:00:00",
          "2023-08-01T00:00:00",
          "2023-09-01T00:00:00",
          "2023-10-01T00:00:00",
          "2023-11-01T00:00:00",
          "2023-12-01T00:00:00",
          "2024-01-01T00:00:00",
          "2024-02-01T00:00:00",
          "2024-03-01T00:00:00",
          "2024-04-01T00:00:00",
          "2024-05-01T00:00:00",
          "2024-06-01T00:00:00",
          "2024-07-01T00:00:00",
          "2024-08-01T00:00:00",
          "2024-09-01T00:00:00",
          "2024-10-01T00:00:00",
          "2024-11-01T00:00:00",
          "2024-12-01T00:00:00"
         ],
         "y": [
          44.102733850217525,
          32.436323134023205,
          23.61293266207214,
          17.36664934582338,
          12.642540274196698,
          9.20349236066801,
          6.768910362473351,
          4.927618457994462,
          3.624125096814088,
          2.6382836771111653,
          1.9206127203032026,
          1.4270976932070172,
          1.038895857359036,
          0.764078749547395,
          0.5562325910688102,
          0.4090934617082458,
          0.2978110781514044,
          0.216799940774791,
          0.1594502725906079,
          0.1160763053837561,
          0.08537086527148478
         ]
        },
        {
         "marker": {
          "color": "magenta"
         },
         "mode": "markers+text",
         "name": "Cheapest, GPT-4 level or better on GPQA Diamond",
         "text": [
          "GPT-4-0314",
          "GPT-4 Turbo",
          "Mistral-Large-2024-02",
          "Claude-3-Haiku",
          "Gemini-1.5-Flash-2024-05",
          "Phi 4"
         ],
         "textposition": "top right",
         "type": "scatter",
         "x": [
          "2023-03-14T00:00:00",
          "2023-11-06T00:00:00",
          "2024-02-26T00:00:00",
          "2024-03-04T00:00:00",
          "2024-05-10T00:00:00",
          "2024-12-13T00:00:00"
         ],
         "y": [
          37.5,
          15,
          6,
          0.5,
          0.13,
          0.1225
         ]
        }
       ],
       "layout": {
        "height": 600,
        "legend": {
         "bordercolor": "lightgrey",
         "borderwidth": 1,
         "x": 0.45,
         "xanchor": "right",
         "y": 0.14,
         "yanchor": "top"
        },
        "template": {
         "data": {
          "bar": [
           {
            "error_x": {
             "color": "#2a3f5f"
            },
            "error_y": {
             "color": "#2a3f5f"
            },
            "marker": {
             "line": {
              "color": "white",
              "width": 0.5
             },
             "pattern": {
              "fillmode": "overlay",
              "size": 10,
              "solidity": 0.2
             }
            },
            "type": "bar"
           }
          ],
          "barpolar": [
           {
            "marker": {
             "line": {
              "color": "white",
              "width": 0.5
             },
             "pattern": {
              "fillmode": "overlay",
              "size": 10,
              "solidity": 0.2
             }
            },
            "type": "barpolar"
           }
          ],
          "carpet": [
           {
            "aaxis": {
             "endlinecolor": "#2a3f5f",
             "gridcolor": "#C8D4E3",
             "linecolor": "#C8D4E3",
             "minorgridcolor": "#C8D4E3",
             "startlinecolor": "#2a3f5f"
            },
            "baxis": {
             "endlinecolor": "#2a3f5f",
             "gridcolor": "#C8D4E3",
             "linecolor": "#C8D4E3",
             "minorgridcolor": "#C8D4E3",
             "startlinecolor": "#2a3f5f"
            },
            "type": "carpet"
           }
          ],
          "choropleth": [
           {
            "colorbar": {
             "outlinewidth": 0,
             "ticks": ""
            },
            "type": "choropleth"
           }
          ],
          "contour": [
           {
            "colorbar": {
             "outlinewidth": 0,
             "ticks": ""
            },
            "colorscale": [
             [
              0,
              "#0d0887"
             ],
             [
              0.1111111111111111,
              "#46039f"
             ],
             [
              0.2222222222222222,
              "#7201a8"
             ],
             [
              0.3333333333333333,
              "#9c179e"
             ],
             [
              0.4444444444444444,
              "#bd3786"
             ],
             [
              0.5555555555555556,
              "#d8576b"
             ],
             [
              0.6666666666666666,
              "#ed7953"
             ],
             [
              0.7777777777777778,
              "#fb9f3a"
             ],
             [
              0.8888888888888888,
              "#fdca26"
             ],
             [
              1,
              "#f0f921"
             ]
            ],
            "type": "contour"
           }
          ],
          "contourcarpet": [
           {
            "colorbar": {
             "outlinewidth": 0,
             "ticks": ""
            },
            "type": "contourcarpet"
           }
          ],
          "heatmap": [
           {
            "colorbar": {
             "outlinewidth": 0,
             "ticks": ""
            },
            "colorscale": [
             [
              0,
              "#0d0887"
             ],
             [
              0.1111111111111111,
              "#46039f"
             ],
             [
              0.2222222222222222,
              "#7201a8"
             ],
             [
              0.3333333333333333,
              "#9c179e"
             ],
             [
              0.4444444444444444,
              "#bd3786"
             ],
             [
              0.5555555555555556,
              "#d8576b"
             ],
             [
              0.6666666666666666,
              "#ed7953"
             ],
             [
              0.7777777777777778,
              "#fb9f3a"
             ],
             [
              0.8888888888888888,
              "#fdca26"
             ],
             [
              1,
              "#f0f921"
             ]
            ],
            "type": "heatmap"
           }
          ],
          "heatmapgl": [
           {
            "colorbar": {
             "outlinewidth": 0,
             "ticks": ""
            },
            "colorscale": [
             [
              0,
              "#0d0887"
             ],
             [
              0.1111111111111111,
              "#46039f"
             ],
             [
              0.2222222222222222,
              "#7201a8"
             ],
             [
              0.3333333333333333,
              "#9c179e"
             ],
             [
              0.4444444444444444,
              "#bd3786"
             ],
             [
              0.5555555555555556,
              "#d8576b"
             ],
             [
              0.6666666666666666,
              "#ed7953"
             ],
             [
              0.7777777777777778,
              "#fb9f3a"
             ],
             [
              0.8888888888888888,
              "#fdca26"
             ],
             [
              1,
              "#f0f921"
             ]
            ],
            "type": "heatmapgl"
           }
          ],
          "histogram": [
           {
            "marker": {
             "pattern": {
              "fillmode": "overlay",
              "size": 10,
              "solidity": 0.2
             }
            },
            "type": "histogram"
           }
          ],
          "histogram2d": [
           {
            "colorbar": {
             "outlinewidth": 0,
             "ticks": ""
            },
            "colorscale": [
             [
              0,
              "#0d0887"
             ],
             [
              0.1111111111111111,
              "#46039f"
             ],
             [
              0.2222222222222222,
              "#7201a8"
             ],
             [
              0.3333333333333333,
              "#9c179e"
             ],
             [
              0.4444444444444444,
              "#bd3786"
             ],
             [
              0.5555555555555556,
              "#d8576b"
             ],
             [
              0.6666666666666666,
              "#ed7953"
             ],
             [
              0.7777777777777778,
              "#fb9f3a"
             ],
             [
              0.8888888888888888,
              "#fdca26"
             ],
             [
              1,
              "#f0f921"
             ]
            ],
            "type": "histogram2d"
           }
          ],
          "histogram2dcontour": [
           {
            "colorbar": {
             "outlinewidth": 0,
             "ticks": ""
            },
            "colorscale": [
             [
              0,
              "#0d0887"
             ],
             [
              0.1111111111111111,
              "#46039f"
             ],
             [
              0.2222222222222222,
              "#7201a8"
             ],
             [
              0.3333333333333333,
              "#9c179e"
             ],
             [
              0.4444444444444444,
              "#bd3786"
             ],
             [
              0.5555555555555556,
              "#d8576b"
             ],
             [
              0.6666666666666666,
              "#ed7953"
             ],
             [
              0.7777777777777778,
              "#fb9f3a"
             ],
             [
              0.8888888888888888,
              "#fdca26"
             ],
             [
              1,
              "#f0f921"
             ]
            ],
            "type": "histogram2dcontour"
           }
          ],
          "mesh3d": [
           {
            "colorbar": {
             "outlinewidth": 0,
             "ticks": ""
            },
            "type": "mesh3d"
           }
          ],
          "parcoords": [
           {
            "line": {
             "colorbar": {
              "outlinewidth": 0,
              "ticks": ""
             }
            },
            "type": "parcoords"
           }
          ],
          "pie": [
           {
            "automargin": true,
            "type": "pie"
           }
          ],
          "scatter": [
           {
            "fillpattern": {
             "fillmode": "overlay",
             "size": 10,
             "solidity": 0.2
            },
            "type": "scatter"
           }
          ],
          "scatter3d": [
           {
            "line": {
             "colorbar": {
              "outlinewidth": 0,
              "ticks": ""
             }
            },
            "marker": {
             "colorbar": {
              "outlinewidth": 0,
              "ticks": ""
             }
            },
            "type": "scatter3d"
           }
          ],
          "scattercarpet": [
           {
            "marker": {
             "colorbar": {
              "outlinewidth": 0,
              "ticks": ""
             }
            },
            "type": "scattercarpet"
           }
          ],
          "scattergeo": [
           {
            "marker": {
             "colorbar": {
              "outlinewidth": 0,
              "ticks": ""
             }
            },
            "type": "scattergeo"
           }
          ],
          "scattergl": [
           {
            "marker": {
             "colorbar": {
              "outlinewidth": 0,
              "ticks": ""
             }
            },
            "type": "scattergl"
           }
          ],
          "scattermapbox": [
           {
            "marker": {
             "colorbar": {
              "outlinewidth": 0,
              "ticks": ""
             }
            },
            "type": "scattermapbox"
           }
          ],
          "scatterpolar": [
           {
            "marker": {
             "colorbar": {
              "outlinewidth": 0,
              "ticks": ""
             }
            },
            "type": "scatterpolar"
           }
          ],
          "scatterpolargl": [
           {
            "marker": {
             "colorbar": {
              "outlinewidth": 0,
              "ticks": ""
             }
            },
            "type": "scatterpolargl"
           }
          ],
          "scatterternary": [
           {
            "marker": {
             "colorbar": {
              "outlinewidth": 0,
              "ticks": ""
             }
            },
            "type": "scatterternary"
           }
          ],
          "surface": [
           {
            "colorbar": {
             "outlinewidth": 0,
             "ticks": ""
            },
            "colorscale": [
             [
              0,
              "#0d0887"
             ],
             [
              0.1111111111111111,
              "#46039f"
             ],
             [
              0.2222222222222222,
              "#7201a8"
             ],
             [
              0.3333333333333333,
              "#9c179e"
             ],
             [
              0.4444444444444444,
              "#bd3786"
             ],
             [
              0.5555555555555556,
              "#d8576b"
             ],
             [
              0.6666666666666666,
              "#ed7953"
             ],
             [
              0.7777777777777778,
              "#fb9f3a"
             ],
             [
              0.8888888888888888,
              "#fdca26"
             ],
             [
              1,
              "#f0f921"
             ]
            ],
            "type": "surface"
           }
          ],
          "table": [
           {
            "cells": {
             "fill": {
              "color": "#EBF0F8"
             },
             "line": {
              "color": "white"
             }
            },
            "header": {
             "fill": {
              "color": "#C8D4E3"
             },
             "line": {
              "color": "white"
             }
            },
            "type": "table"
           }
          ]
         },
         "layout": {
          "annotationdefaults": {
           "arrowcolor": "#2a3f5f",
           "arrowhead": 0,
           "arrowwidth": 1
          },
          "autotypenumbers": "strict",
          "coloraxis": {
           "colorbar": {
            "outlinewidth": 0,
            "ticks": ""
           }
          },
          "colorscale": {
           "diverging": [
            [
             0,
             "#8e0152"
            ],
            [
             0.1,
             "#c51b7d"
            ],
            [
             0.2,
             "#de77ae"
            ],
            [
             0.3,
             "#f1b6da"
            ],
            [
             0.4,
             "#fde0ef"
            ],
            [
             0.5,
             "#f7f7f7"
            ],
            [
             0.6,
             "#e6f5d0"
            ],
            [
             0.7,
             "#b8e186"
            ],
            [
             0.8,
             "#7fbc41"
            ],
            [
             0.9,
             "#4d9221"
            ],
            [
             1,
             "#276419"
            ]
           ],
           "sequential": [
            [
             0,
             "#0d0887"
            ],
            [
             0.1111111111111111,
             "#46039f"
            ],
            [
             0.2222222222222222,
             "#7201a8"
            ],
            [
             0.3333333333333333,
             "#9c179e"
            ],
            [
             0.4444444444444444,
             "#bd3786"
            ],
            [
             0.5555555555555556,
             "#d8576b"
            ],
            [
             0.6666666666666666,
             "#ed7953"
            ],
            [
             0.7777777777777778,
             "#fb9f3a"
            ],
            [
             0.8888888888888888,
             "#fdca26"
            ],
            [
             1,
             "#f0f921"
            ]
           ],
           "sequentialminus": [
            [
             0,
             "#0d0887"
            ],
            [
             0.1111111111111111,
             "#46039f"
            ],
            [
             0.2222222222222222,
             "#7201a8"
            ],
            [
             0.3333333333333333,
             "#9c179e"
            ],
            [
             0.4444444444444444,
             "#bd3786"
            ],
            [
             0.5555555555555556,
             "#d8576b"
            ],
            [
             0.6666666666666666,
             "#ed7953"
            ],
            [
             0.7777777777777778,
             "#fb9f3a"
            ],
            [
             0.8888888888888888,
             "#fdca26"
            ],
            [
             1,
             "#f0f921"
            ]
           ]
          },
          "colorway": [
           "#636efa",
           "#EF553B",
           "#00cc96",
           "#ab63fa",
           "#FFA15A",
           "#19d3f3",
           "#FF6692",
           "#B6E880",
           "#FF97FF",
           "#FECB52"
          ],
          "font": {
           "color": "#2a3f5f"
          },
          "geo": {
           "bgcolor": "white",
           "lakecolor": "white",
           "landcolor": "white",
           "showlakes": true,
           "showland": true,
           "subunitcolor": "#C8D4E3"
          },
          "hoverlabel": {
           "align": "left"
          },
          "hovermode": "closest",
          "mapbox": {
           "style": "light"
          },
          "paper_bgcolor": "white",
          "plot_bgcolor": "white",
          "polar": {
           "angularaxis": {
            "gridcolor": "#EBF0F8",
            "linecolor": "#EBF0F8",
            "ticks": ""
           },
           "bgcolor": "white",
           "radialaxis": {
            "gridcolor": "#EBF0F8",
            "linecolor": "#EBF0F8",
            "ticks": ""
           }
          },
          "scene": {
           "xaxis": {
            "backgroundcolor": "white",
            "gridcolor": "#DFE8F3",
            "gridwidth": 2,
            "linecolor": "#EBF0F8",
            "showbackground": true,
            "ticks": "",
            "zerolinecolor": "#EBF0F8"
           },
           "yaxis": {
            "backgroundcolor": "white",
            "gridcolor": "#DFE8F3",
            "gridwidth": 2,
            "linecolor": "#EBF0F8",
            "showbackground": true,
            "ticks": "",
            "zerolinecolor": "#EBF0F8"
           },
           "zaxis": {
            "backgroundcolor": "white",
            "gridcolor": "#DFE8F3",
            "gridwidth": 2,
            "linecolor": "#EBF0F8",
            "showbackground": true,
            "ticks": "",
            "zerolinecolor": "#EBF0F8"
           }
          },
          "shapedefaults": {
           "line": {
            "color": "#2a3f5f"
           }
          },
          "ternary": {
           "aaxis": {
            "gridcolor": "#DFE8F3",
            "linecolor": "#A2B1C6",
            "ticks": ""
           },
           "baxis": {
            "gridcolor": "#DFE8F3",
            "linecolor": "#A2B1C6",
            "ticks": ""
           },
           "bgcolor": "white",
           "caxis": {
            "gridcolor": "#DFE8F3",
            "linecolor": "#A2B1C6",
            "ticks": ""
           }
          },
          "title": {
           "x": 0.05
          },
          "xaxis": {
           "automargin": true,
           "gridcolor": "#EBF0F8",
           "linecolor": "#EBF0F8",
           "ticks": "",
           "title": {
            "standoff": 15
           },
           "zerolinecolor": "#EBF0F8",
           "zerolinewidth": 2
          },
          "yaxis": {
           "automargin": true,
           "gridcolor": "#EBF0F8",
           "linecolor": "#EBF0F8",
           "ticks": "",
           "title": {
            "standoff": 15
           },
           "zerolinecolor": "#EBF0F8",
           "zerolinewidth": 2
          }
         }
        },
        "title": {
         "text": "Price per token to answer PhD-level science questions as well as GPT-4 has fallen by 42x per year"
        },
        "width": 1000,
        "xaxis": {
         "range": [
          "2023-02-12T00:00:00",
          "2025-05-12T00:00:00"
         ],
         "title": {
          "text": "Month"
         }
        },
        "yaxis": {
         "title": {
          "text": "Price in USD per million tokens"
         },
         "type": "log"
        }
       }
      }
     },
     "metadata": {},
     "output_type": "display_data"
    }
   ],
   "source": [
    "# selected_benchmarks = ['MMLU', 'MATH 5', 'HumanEval']\n",
    "bench = 'GPQA Diamond'\n",
    "threshold_model = 'GPT-4-0314'\n",
    "performance_lower_bound = aa_df[aa_df['Model Name'] == threshold_model].iloc[0][bench]\n",
    "performance_upper_bound = 100\n",
    "print(f'\\nPerformance range: {performance_lower_bound}-{performance_upper_bound}%')\n",
    "\n",
    "cheapest_models = []\n",
    "current_best = None\n",
    "benchmark_df = aa_df.dropna(subset=[bench])\n",
    "for i, row in benchmark_df.iterrows():\n",
    "    if (row[bench] >= performance_lower_bound) and (row[bench] < performance_upper_bound):\n",
    "        if (current_best is None) or (row['USD per 1M Tokens'] < current_best['USD per 1M Tokens']):\n",
    "            current_best = row\n",
    "            cheapest_models.append(current_best)\n",
    "            print(current_best['Release Date'], current_best['Model Name'], current_best[bench], f\"${current_best['USD per 1M Tokens']:.2f}\")\n",
    "\n",
    "cheapest_models_df = pd.DataFrame(cheapest_models)\n",
    "cheapest_models_df.reset_index(drop=True, inplace=True)\n",
    "\n",
    "# Second step: check if the next row has the same Release date. If so, remove the current row.\n",
    "# Note that the df is already in descending order of price, so we only need to check the next row.\n",
    "for i, row in cheapest_models_df.iterrows():\n",
    "    if i < len(cheapest_models_df) - 1:\n",
    "        next_row = cheapest_models_df.iloc[i+1]\n",
    "        if next_row['Release Date'] == row['Release Date']:\n",
    "            cheapest_models_df = cheapest_models_df.drop(i)\n",
    "            print(f'Removed {row[\"Model Name\"]} because it has the same Release date as {next_row[\"Model Name\"]} and has a higher price')\n",
    "\n",
    "cheapest_models_df = cheapest_models_df.reset_index(drop=True)\n",
    "\n",
    "# Fit a line to the data\n",
    "cheapest_models_df['price'] = cheapest_models_df['USD per 1M Tokens']\n",
    "cheapest_models_df['log_price'] = np.log10(cheapest_models_df['USD per 1M Tokens'])\n",
    "cheapest_models_df['date'] = cheapest_models_df['Release Date'].map(lambda x: pd.Timestamp(x).toordinal())\n",
    "exponential_model = smf.ols('log_price ~ date', data=cheapest_models_df).fit()\n",
    "\n",
    "fig = go.Figure()\n",
    "\n",
    "all_df = aa_df[\n",
    "    (aa_df[bench].notna()) &\n",
    "    (aa_df[bench] >= performance_lower_bound) &\n",
    "    (aa_df[bench] < performance_upper_bound)\n",
    "]\n",
    "fig.add_trace(go.Scatter(\n",
    "    x=all_df['Release Date'],\n",
    "    y=all_df['USD per 1M Tokens'],\n",
    "    mode='markers',\n",
    "    name=f'Other, GPT-4 level or better on {bench}',\n",
    "    text=all_df['Model Name'],\n",
    "    marker=dict(color='rgb(222, 222, 255)')\n",
    "))\n",
    "\n",
    "factor = cheapest_models_df['USD per 1M Tokens'].iloc[0] / cheapest_models_df['USD per 1M Tokens'].iloc[-1]\n",
    "period_months = (cheapest_models_df['Release Date'].iloc[-1] - cheapest_models_df['Release Date'].iloc[0]).days / (365/12)\n",
    "\n",
    "annual_slope = exponential_model.params['date'] * 365  # Convert daily to annual\n",
    "annual_factor = int(round(10**(-annual_slope)))  # Convert log slope to factor\n",
    "# Get the 90% CI\n",
    "ci_90 = exponential_model.conf_int(alpha=0.1)\n",
    "print('90% CI:', int(round(10**(-ci_90.loc['date'][1] * 365))), int(round(10**(-ci_90.loc['date'][0] * 365))))\n",
    "\n",
    "# Plot the exponential trendline with the data\n",
    "date_range = pd.date_range(start=cheapest_models_df['Release Date'].min(), end=cheapest_models_df['Release Date'].max(), freq='MS')\n",
    "pred_df = pd.DataFrame({'date': date_range.map(lambda x: pd.Timestamp(x).toordinal())})\n",
    "fig.add_trace(go.Scatter(\n",
    "    x=date_range,\n",
    "    y=10**exponential_model.predict(pred_df['date']),\n",
    "    mode='lines+text',\n",
    "    name=f'{annual_factor}x decrease per year',\n",
    "    # Only show text at middle index\n",
    "    text=['' if i != len(date_range)//2 else f'{annual_factor}x per year' for i in range(len(date_range))],\n",
    "    textposition='middle left',\n",
    "    textfont=dict(size=14),\n",
    "    line=dict(color='magenta', dash='dash'),\n",
    "    hoverinfo='skip',\n",
    "    showlegend=False,\n",
    "))\n",
    "\n",
    "# annotations = [\"\"] * len(cheapest_models_df['Model Name'])\n",
    "# annotations[0] = cheapest_models_df['Model Name'].iloc[0]\n",
    "# annotations[-1] = cheapest_models_df['Model Name'].iloc[-1]\n",
    "annotations = cheapest_models_df['Model Name']\n",
    "\n",
    "fig.add_trace(go.Scatter(\n",
    "    x=cheapest_models_df['Release Date'],\n",
    "    y=cheapest_models_df['USD per 1M Tokens'],\n",
    "    mode='markers+text',\n",
    "    name=f'Cheapest, GPT-4 level or better on {bench}',\n",
    "    marker=dict(color='magenta'),\n",
    "    text=annotations,\n",
    "    textposition='top right',\n",
    "    # marker=dict(color='blue'),\n",
    "    # visible=\"legendonly\",  # Hide this trace by default\n",
    "    # legendgroup=f'{bench}_{performance_range_str}',\n",
    "))\n",
    "fig.update_layout(xaxis_range=[\n",
    "    cheapest_models_df['Release Date'].min() - pd.Timedelta(days=30),\n",
    "    cheapest_models_df['Release Date'].max() + pd.Timedelta(days=150)\n",
    "])\n",
    "\n",
    "fig.update_layout(\n",
    "    # title=f'The cost to answer PhD-level science questions has fallen by {round(factor, -1):.0f}x in {period_months:.0f} months'\n",
    "    title=f'Price per token to answer PhD-level science questions as well as GPT-4 has fallen by {annual_factor}x per year'\n",
    ")\n",
    "fig.update_layout(yaxis_type='log')\n",
    "fig.update_layout(xaxis_title='Month')\n",
    "fig.update_layout(yaxis_title='Price in USD per million tokens')\n",
    "# fig.update_layout(xaxis_range=[aa_df['Release Date'].min() - pd.Timedelta(days=150), aa_df['Release Date'].max() + pd.Timedelta(days=30)])\n",
    "fig.update_layout(\n",
    "    width=1000,\n",
    "    height=600,\n",
    "    # font=dict(size=14),\n",
    "    legend=dict(\n",
    "        yanchor=\"top\",\n",
    "        y=0.14,\n",
    "        xanchor=\"right\",\n",
    "        x=0.45,\n",
    "        bordercolor=\"lightgrey\",\n",
    "        borderwidth=1\n",
    "    )\n",
    ")\n",
    "\n",
    "if save:\n",
    "    save_plot(fig, results_subdir, f'lowest_price_models_{bench}_{performance_lower_bound}_to_{performance_upper_bound}', extensions=['png', 'svg'])\n",
    "\n",
    "fig.show()"
   ]
  },
  {
   "cell_type": "markdown",
   "metadata": {},
   "source": [
    "### Full analysis"
   ]
  },
  {
   "cell_type": "code",
   "execution_count": 25,
   "metadata": {},
   "outputs": [
    {
     "name": "stdout",
     "output_type": "stream",
     "text": [
      "MMLU\n",
      "\n",
      "Performance range: 43.9 (GPT-3 level) to 100\n",
      "2021-11-20 00:00:00 GPT-3 43.9 $60.00\n",
      "2022-09-01 00:00:00 GPT-3 43.9 $20.00\n",
      "2023-03-06 00:00:00 GPT-3.5 Turbo 68.0 $2.00\n",
      "2023-07-18 00:00:00 Llama-2-Chat-13B 45.0 $0.56\n",
      "2023-12-01 00:00:00 Llama 2-7B 45.3 $0.20\n",
      "2024-04-14 00:00:00 Llama 2-7B 45.3 $0.13\n",
      "2024-07-23 00:00:00 Llama-3.1-Instruct-8B 71.0 $0.10\n",
      "2024-09-24 00:00:00 Llama-3.2-Instruct-3B 64.0 $0.08\n",
      "2024-10-03 00:00:00 Gemini-1.5-Flash-8B 75.0 $0.07\n",
      "\n",
      "Performance range: 64.8 (GPT-3.5 level) to 100\n",
      "2022-11-30 00:00:00 GPT-3.5 64.8 $20.00\n",
      "2023-03-06 00:00:00 GPT-3.5 Turbo 68.0 $2.00\n",
      "2023-11-06 00:00:00 GPT-3.5-Turbo-2023-11 68.0 $0.75\n",
      "2024-03-04 00:00:00 Claude-3-Haiku 71.0 $0.50\n",
      "2024-05-10 00:00:00 Gemini-1.5-Flash-2024-05 79.0 $0.13\n",
      "2024-07-23 00:00:00 Llama-3.1-Instruct-8B 71.0 $0.10\n",
      "2024-10-03 00:00:00 Gemini-1.5-Flash-8B 75.0 $0.07\n",
      "\n",
      "Performance range: 68.0 (GPT-3.5 Turbo level) to 100\n",
      "2023-03-06 00:00:00 GPT-3.5 Turbo 68.0 $2.00\n",
      "2023-11-06 00:00:00 GPT-3.5-Turbo-2023-11 68.0 $0.75\n",
      "2024-03-04 00:00:00 Claude-3-Haiku 71.0 $0.50\n",
      "2024-05-10 00:00:00 Gemini-1.5-Flash-2024-05 79.0 $0.13\n",
      "2024-07-23 00:00:00 Llama-3.1-Instruct-8B 71.0 $0.10\n",
      "2024-10-03 00:00:00 Gemini-1.5-Flash-8B 75.0 $0.07\n",
      "\n",
      "Performance range: 86.0 (GPT-4-0314 level) to 100\n",
      "2023-03-14 00:00:00 GPT-4-0314 86.0 $37.50\n",
      "2023-11-06 00:00:00 GPT-4 Turbo 87.0 $15.00\n",
      "2024-05-13 00:00:00 GPT-4o-2024-05 87.0 $7.50\n",
      "2024-05-23 00:00:00 Gemini-1.5-Pro-2024-05 86.0 $2.19\n",
      "2025-02-05 00:00:00 Gemini 2.0 Flash 88.0 $0.17\n",
      "\n",
      "Performance range: 87.0 (GPT-4 Turbo level) to 100\n",
      "2023-11-06 00:00:00 GPT-4 Turbo 87.0 $15.00\n",
      "2024-05-13 00:00:00 GPT-4o-2024-05 87.0 $7.50\n",
      "2024-06-20 00:00:00 Claude-3.5-Sonnet-2024-06 88.0 $6.00\n",
      "2024-07-23 00:00:00 Llama-3.1-Instruct-405B 87.0 $3.50\n",
      "2025-02-05 00:00:00 Gemini 2.0 Flash 88.0 $0.17\n",
      "\n",
      "Performance range: 88.0 (Claude-3.5-Sonnet-2024-06 level) to 100\n",
      "2024-06-20 00:00:00 Claude-3.5-Sonnet-2024-06 88.0 $6.00\n",
      "2024-08-06 00:00:00 GPT-4o-2024-08 89.0 $4.38\n",
      "2025-02-05 00:00:00 Gemini 2.0 Flash 88.0 $0.17\n",
      "Less than 4 cheapest models found - skipping\n",
      "\n",
      "Performance range: 89.0 (GPT-4o-2024-08 level) to 100\n",
      "2024-08-06 00:00:00 GPT-4o-2024-08 89.0 $4.38\n",
      "Less than 4 cheapest models found - skipping\n",
      "\n",
      "\n",
      "GPQA Diamond\n",
      "Frontier model GPT-3 is missing a GPQA Diamond value - skipping\n",
      "\n",
      "Performance range: 33.0 (GPT-4-0314 level) to 100\n",
      "2023-03-14 00:00:00 GPT-4-0314 33.0 $37.50\n",
      "2023-11-06 00:00:00 GPT-4 Turbo 50.0 $15.00\n",
      "2024-02-26 00:00:00 Mistral-Large-2024-02 36.0 $6.00\n",
      "2024-03-04 00:00:00 Claude-3-Haiku 33.0 $0.50\n",
      "2024-05-10 00:00:00 Gemini-1.5-Flash-2024-05 39.0 $0.13\n",
      "2024-12-13 00:00:00 Phi 4 53.0 $0.12\n",
      "\n",
      "Performance range: 50.0 (GPT-4 Turbo level) to 100\n",
      "2023-11-06 00:00:00 GPT-4 Turbo 50.0 $15.00\n",
      "2024-05-13 00:00:00 GPT-4o-2024-05 53.0 $7.50\n",
      "2024-06-20 00:00:00 Claude-3.5-Sonnet-2024-06 56.0 $6.00\n",
      "2024-07-23 00:00:00 Llama-3.1-Instruct-405B 50.0 $3.50\n",
      "2024-09-24 00:00:00 Gemini-1.5-Pro-2024-09 61.0 $2.19\n",
      "2024-12-13 00:00:00 Phi 4 53.0 $0.12\n",
      "\n",
      "Performance range: 53.0 (GPT-4o-2024-05 level) to 100\n",
      "2024-05-13 00:00:00 GPT-4o-2024-05 53.0 $7.50\n",
      "2024-06-20 00:00:00 Claude-3.5-Sonnet-2024-06 56.0 $6.00\n",
      "2024-09-24 00:00:00 Gemini-1.5-Pro-2024-09 61.0 $2.19\n",
      "2024-12-13 00:00:00 Phi 4 53.0 $0.12\n",
      "\n",
      "Performance range: 56.0 (Claude-3.5-Sonnet-2024-06 level) to 100\n",
      "2024-06-20 00:00:00 Claude-3.5-Sonnet-2024-06 56.0 $6.00\n",
      "2024-09-24 00:00:00 Gemini-1.5-Pro-2024-09 61.0 $2.19\n",
      "2024-12-26 00:00:00 DeepSeek-V3 57.0 $0.48\n",
      "2025-02-05 00:00:00 Gemini 2.0 Flash 62.0 $0.17\n",
      "\n",
      "Performance range: 61.0 (Gemini-1.5-Pro-2024-09 level) to 100\n",
      "2024-09-24 00:00:00 Gemini-1.5-Pro-2024-09 61.0 $2.19\n",
      "2025-02-05 00:00:00 Gemini 2.0 Flash 62.0 $0.17\n",
      "Less than 4 cheapest models found - skipping\n",
      "\n",
      "Performance range: 62.0 (Gemini 2.0 Flash level) to 100\n",
      "2025-02-05 00:00:00 Gemini 2.0 Flash 62.0 $0.17\n",
      "Less than 4 cheapest models found - skipping\n",
      "\n",
      "\n",
      "MATH-500\n",
      "Frontier model GPT-3 is missing a MATH-500 value - skipping\n",
      "\n",
      "Performance range: 44.0 (GPT-3.5-Turbo-2023-06 level) to 100\n",
      "2023-06-13 00:00:00 GPT-3.5-Turbo-2023-06 44.0 $3.25\n",
      "2023-11-06 00:00:00 GPT-3.5-Turbo-2023-11 44.0 $0.75\n",
      "2024-05-10 00:00:00 Gemini-1.5-Flash-2024-05 55.0 $0.13\n",
      "2024-07-23 00:00:00 Llama-3.1-Instruct-8B 50.0 $0.10\n",
      "2024-09-24 00:00:00 Llama-3.2-Instruct-3B 50.0 $0.08\n",
      "2024-10-03 00:00:00 Gemini-1.5-Flash-8B 70.0 $0.07\n",
      "\n",
      "Performance range: 74.0 (GPT-4 Turbo level) to 100\n",
      "2023-11-06 00:00:00 GPT-4 Turbo 74.0 $15.00\n",
      "2024-05-13 00:00:00 GPT-4o-2024-05 79.0 $7.50\n",
      "2024-07-18 00:00:00 GPT-4o-mini 79.0 $0.26\n",
      "2024-09-11 00:00:00 DeepSeek-Coder-V2 236B 74.0 $0.17\n",
      "2024-09-24 00:00:00 Gemini-1.5-Flash-2024-09 83.0 $0.13\n",
      "2024-12-13 00:00:00 Phi 4 81.0 $0.12\n",
      "\n",
      "Performance range: 79.0 (GPT-4o-2024-05 level) to 100\n",
      "2024-05-13 00:00:00 GPT-4o-2024-05 79.0 $7.50\n",
      "2024-07-18 00:00:00 GPT-4o-mini 79.0 $0.26\n",
      "2024-09-24 00:00:00 Gemini-1.5-Flash-2024-09 83.0 $0.13\n",
      "2024-12-13 00:00:00 Phi 4 81.0 $0.12\n",
      "\n",
      "Performance range: 80.0 (GPT-4o-2024-08 level) to 100\n",
      "2024-08-06 00:00:00 GPT-4o-2024-08 80.0 $4.38\n",
      "2024-09-24 00:00:00 Gemini-1.5-Pro-2024-09 88.0 $2.19\n",
      "2024-09-24 00:00:00 Gemini-1.5-Flash-2024-09 83.0 $0.13\n",
      "2024-12-13 00:00:00 Phi 4 81.0 $0.12\n",
      "Removed Gemini-1.5-Pro-2024-09 because it has the same Release date as Gemini-1.5-Flash-2024-09 and has a higher price\n",
      "Less than 4 cheapest models found - skipping\n",
      "\n",
      "Performance range: 88.0 (Gemini-1.5-Pro-2024-09 level) to 100\n",
      "2024-09-24 00:00:00 Gemini-1.5-Pro-2024-09 88.0 $2.19\n",
      "2024-12-26 00:00:00 DeepSeek-V3 89.0 $0.48\n",
      "2025-02-05 00:00:00 Gemini 2.0 Flash 93.0 $0.17\n",
      "Less than 4 cheapest models found - skipping\n",
      "\n",
      "Performance range: 89.0 (DeepSeek-V3 level) to 100\n",
      "2024-12-26 00:00:00 DeepSeek-V3 89.0 $0.48\n",
      "2025-02-05 00:00:00 Gemini 2.0 Flash 93.0 $0.17\n",
      "Less than 4 cheapest models found - skipping\n",
      "\n",
      "Performance range: 93.0 (Gemini 2.0 Flash level) to 100\n",
      "2025-02-05 00:00:00 Gemini 2.0 Flash 93.0 $0.17\n",
      "Less than 4 cheapest models found - skipping\n",
      "\n",
      "\n",
      "MATH 5\n",
      "Frontier model GPT-3 is missing a MATH 5 value - skipping\n",
      "\n",
      "Performance range: 23.0 (GPT-4-0613 level) to 100\n",
      "2023-06-13 00:00:00 GPT-4-0613 23.0 $37.50\n",
      "2023-11-06 00:00:00 GPT-4 Turbo 36.0 $15.00\n",
      "2024-04-17 00:00:00 Mistral-8x22 23.0 $1.20\n",
      "2024-05-10 00:00:00 Gemini-1.5-Flash-2024-05 23.0 $0.13\n",
      "2024-12-13 00:00:00 Phi 4 65.0 $0.12\n",
      "\n",
      "Performance range: 36.0 (GPT-4 Turbo level) to 100\n",
      "2023-11-06 00:00:00 GPT-4 Turbo 36.0 $15.00\n",
      "2024-05-13 00:00:00 GPT-4o-2024-05 48.0 $7.50\n",
      "2024-05-23 00:00:00 Gemini-1.5-Pro-2024-05 41.0 $2.19\n",
      "2024-07-18 00:00:00 GPT-4o-mini 48.0 $0.26\n",
      "2024-09-24 00:00:00 Gemini-1.5-Flash-2024-09 58.0 $0.13\n",
      "2024-12-13 00:00:00 Phi 4 65.0 $0.12\n",
      "\n",
      "Performance range: 48.0 (GPT-4o-2024-05 level) to 100\n",
      "2024-05-13 00:00:00 GPT-4o-2024-05 48.0 $7.50\n",
      "2024-07-18 00:00:00 GPT-4o-mini 48.0 $0.26\n",
      "2024-09-24 00:00:00 Gemini-1.5-Flash-2024-09 58.0 $0.13\n",
      "2024-12-13 00:00:00 Phi 4 65.0 $0.12\n",
      "\n",
      "Performance range: 67.0 (Gemini-1.5-Pro-2024-09 level) to 100\n",
      "2024-09-24 00:00:00 Gemini-1.5-Pro-2024-09 67.0 $2.19\n",
      "2025-02-05 00:00:00 Gemini 2.0 Flash 82.0 $0.17\n",
      "Less than 4 cheapest models found - skipping\n",
      "\n",
      "Performance range: 82.0 (Gemini 2.0 Flash level) to 100\n",
      "2025-02-05 00:00:00 Gemini 2.0 Flash 82.0 $0.17\n",
      "Less than 4 cheapest models found - skipping\n",
      "\n",
      "\n",
      "HumanEval\n",
      "Frontier model GPT-3 is missing a HumanEval value - skipping\n",
      "\n",
      "Performance range: 67.0 (GPT-4-0314 level) to 100\n",
      "2023-03-14 00:00:00 GPT-4-0314 67.0 $37.50\n",
      "2023-06-13 00:00:00 GPT-3.5-Turbo-2023-06 71.0 $3.25\n",
      "2023-11-06 00:00:00 GPT-3.5-Turbo-2023-11 71.0 $0.75\n",
      "2024-03-04 00:00:00 Claude-3-Haiku 77.0 $0.50\n",
      "2024-06-24 00:00:00 Gemma-2-27B 76.0 $0.26\n",
      "2024-07-18 00:00:00 Mistral-NeMo 71.0 $0.13\n",
      "2024-07-23 00:00:00 Llama-3.1-Instruct-8B 67.0 $0.10\n",
      "\n",
      "Performance range: 71.0 (GPT-3.5-Turbo-2023-06 level) to 100\n",
      "2023-06-13 00:00:00 GPT-3.5-Turbo-2023-06 71.0 $3.25\n",
      "2023-11-06 00:00:00 GPT-3.5-Turbo-2023-11 71.0 $0.75\n",
      "2024-03-04 00:00:00 Claude-3-Haiku 77.0 $0.50\n",
      "2024-06-24 00:00:00 Gemma-2-27B 76.0 $0.26\n",
      "2024-07-18 00:00:00 Mistral-NeMo 71.0 $0.13\n",
      "2024-12-13 00:00:00 Phi 4 87.0 $0.12\n",
      "\n",
      "Performance range: 92.0 (GPT-4 Turbo level) to 100\n",
      "2023-11-06 00:00:00 GPT-4 Turbo 92.0 $15.00\n",
      "2024-05-13 00:00:00 GPT-4o-2024-05 94.0 $7.50\n",
      "2024-08-06 00:00:00 GPT-4o-2024-08 93.0 $4.38\n",
      "Less than 4 cheapest models found - skipping\n",
      "\n",
      "Performance range: 94.0 (GPT-4o-2024-05 level) to 100\n",
      "2024-05-13 00:00:00 GPT-4o-2024-05 94.0 $7.50\n",
      "2024-10-22 00:00:00 Claude-3.5-Sonnet-2024-10 96.0 $6.00\n",
      "Less than 4 cheapest models found - skipping\n",
      "\n",
      "Performance range: 96.0 (Claude-3.5-Sonnet-2024-10 level) to 100\n",
      "2024-10-22 00:00:00 Claude-3.5-Sonnet-2024-10 96.0 $6.00\n",
      "Less than 4 cheapest models found - skipping\n",
      "\n",
      "\n",
      "LMSys Chatbot Arena ELO\n",
      "Frontier model GPT-3 is missing a LMSys Chatbot Arena ELO value - skipping\n",
      "\n",
      "Performance range: 1106.0 (GPT-3.5 Turbo level) to inf\n",
      "2023-03-06 00:00:00 GPT-3.5 Turbo 1106.0 $2.00\n",
      "2023-11-06 00:00:00 GPT-3.5-Turbo-2023-11 1107.0 $0.75\n",
      "2024-03-04 00:00:00 Claude-3-Haiku 1179.0 $0.50\n",
      "2024-04-18 00:00:00 Llama-3-Instruct-8B 1152.0 $0.15\n",
      "2024-05-10 00:00:00 Gemini-1.5-Flash-2024-05 1227.0 $0.13\n",
      "2024-07-23 00:00:00 Llama-3.1-Instruct-8B 1172.0 $0.10\n",
      "2024-10-03 00:00:00 Gemini-1.5-Flash-8B 1211.0 $0.07\n",
      "\n",
      "Performance range: 1186.0 (GPT-4-0314 level) to inf\n",
      "2023-03-14 00:00:00 GPT-4-0314 1186.0 $37.50\n",
      "2023-11-06 00:00:00 GPT-4 Turbo 1256.0 $15.00\n",
      "2024-03-04 00:00:00 Claude-3-Sonnet 1201.0 $6.00\n",
      "2024-04-18 00:00:00 Llama-3-Instruct-70B 1206.0 $0.89\n",
      "2024-05-10 00:00:00 Gemini-1.5-Flash-2024-05 1227.0 $0.13\n",
      "2024-10-03 00:00:00 Gemini-1.5-Flash-8B 1211.0 $0.07\n",
      "\n",
      "Performance range: 1256.0 (GPT-4 Turbo level) to inf\n",
      "2023-11-06 00:00:00 GPT-4 Turbo 1256.0 $15.00\n",
      "2024-05-13 00:00:00 GPT-4o-2024-05 1285.0 $7.50\n",
      "2024-05-23 00:00:00 Gemini-1.5-Pro-2024-05 1260.0 $2.19\n",
      "2024-07-18 00:00:00 GPT-4o-mini 1273.0 $0.26\n",
      "2024-09-24 00:00:00 Gemini-1.5-Flash-2024-09 1271.0 $0.13\n",
      "\n",
      "Performance range: 1285.0 (GPT-4o-2024-05 level) to inf\n",
      "2024-05-13 00:00:00 GPT-4o-2024-05 1285.0 $7.50\n",
      "2024-08-06 00:00:00 GPT-4o-2024-08 1337.0 $4.38\n",
      "2024-09-24 00:00:00 Gemini-1.5-Pro-2024-09 1301.0 $2.19\n",
      "2024-12-26 00:00:00 DeepSeek-V3 1318.0 $0.48\n",
      "2025-02-05 00:00:00 Gemini 2.0 Flash 1358.0 $0.17\n",
      "\n",
      "Performance range: 1337.0 (GPT-4o-2024-08 level) to inf\n",
      "2024-08-06 00:00:00 GPT-4o-2024-08 1337.0 $4.38\n",
      "2025-02-05 00:00:00 Gemini 2.0 Flash 1358.0 $0.17\n",
      "Less than 4 cheapest models found - skipping\n",
      "\n",
      "Performance range: 1361.0 (GPT-4o-2024-11 level) to inf\n",
      "2024-11-20 00:00:00 GPT-4o-2024-11 1361.0 $4.38\n",
      "Less than 4 cheapest models found - skipping\n"
     ]
    }
   ],
   "source": [
    "results_subdir = results_dir + 'lowest_price_models_above_previous_frontier/'\n",
    "os.makedirs(results_subdir, exist_ok=True)\n",
    "\n",
    "performance_delta = 100\n",
    "\n",
    "cheapest_models_dfs = []\n",
    "other_models_dfs = []\n",
    "results = []\n",
    "for i, bench in enumerate(benchmarks):\n",
    "    if i > 0:\n",
    "        print('\\n')\n",
    "    print(f'{bench}')\n",
    "\n",
    "    for i, frontier_model_data in top_models_df_lookup[bench].iterrows():\n",
    "        performance_lower_bound = frontier_model_data[bench]\n",
    "        if pd.isna(performance_lower_bound):\n",
    "            print(f'Frontier model {frontier_model_data[\"Model Name\"]} is missing a {bench} value - skipping')\n",
    "            continue\n",
    "        elif benchmark_is_mqa[bench] and performance_lower_bound < 30:\n",
    "            print(f'Frontier model {frontier_model_data[\"Model Name\"]} has a {bench} value of less than 30% on an MQA benchmark - skipping')\n",
    "            continue\n",
    "        if bench == 'LMSys Chatbot Arena ELO':\n",
    "            performance_upper_bound = np.inf\n",
    "        else:\n",
    "            performance_upper_bound = min(performance_lower_bound + performance_delta, 100)\n",
    "        print(f'\\nPerformance range: {performance_lower_bound} ({frontier_model_data[\"Model Name\"]} level) to {performance_upper_bound}')\n",
    "\n",
    "        cheapest_models = []\n",
    "        current_best = None\n",
    "        benchmark_df = aa_df.dropna(subset=[bench])\n",
    "        for i, row in benchmark_df.iterrows():\n",
    "            if (row[bench] >= performance_lower_bound) and (row[bench] < performance_upper_bound):\n",
    "                if (current_best is None) or (row['USD per 1M Tokens'] < current_best['USD per 1M Tokens']):\n",
    "                    current_best = row\n",
    "                    cheapest_models.append(current_best)\n",
    "                    print(current_best['Release Date'], current_best['Model Name'], current_best[bench], f\"${current_best['USD per 1M Tokens']:.2f}\")\n",
    "\n",
    "        cheapest_models_df = pd.DataFrame(cheapest_models)\n",
    "        cheapest_models_df.reset_index(drop=True, inplace=True)\n",
    "\n",
    "        # Second step: check if the next row has the same Release date. If so, remove the current row.\n",
    "        # Note that the df is already in descending order of price, so we only need to check the next row.\n",
    "        for i, row in cheapest_models_df.iterrows():\n",
    "            if i < len(cheapest_models_df) - 1:\n",
    "                next_row = cheapest_models_df.iloc[i+1]\n",
    "                if next_row['Release Date'] == row['Release Date']:\n",
    "                    cheapest_models_df = cheapest_models_df.drop(i)\n",
    "                    print(f'Removed {row[\"Model Name\"]} because it has the same Release date as {next_row[\"Model Name\"]} and has a higher price')\n",
    "        \n",
    "        cheapest_models_df = cheapest_models_df.reset_index(drop=True)\n",
    "        \n",
    "        if len(cheapest_models_df) < min_num_data_points_for_regression:\n",
    "            print(f'Less than {min_num_data_points_for_regression} cheapest models found - skipping')\n",
    "            continue\n",
    "\n",
    "        # Fit a line to the data\n",
    "        cheapest_models_df['price'] = cheapest_models_df['USD per 1M Tokens']\n",
    "        cheapest_models_df['log_price'] = np.log10(cheapest_models_df['USD per 1M Tokens'])\n",
    "        cheapest_models_df['date'] = cheapest_models_df['Release Date'].map(lambda x: pd.Timestamp(x).toordinal())\n",
    "        exponential_model = smf.ols('log_price ~ date', data=cheapest_models_df).fit()\n",
    "        predicted_log_prices = 10**exponential_model.predict(cheapest_models_df['date'])\n",
    "        cheapest_models_df['predicted_log_price'] = predicted_log_prices\n",
    "        cheapest_models_df['benchmark_score'] = cheapest_models_df[bench]\n",
    "        cheapest_models_df['bench'] = [bench] * len(cheapest_models_df)\n",
    "        cheapest_models_df['threshold_model'] = [frontier_model_data[\"Model Name\"]] * len(cheapest_models_df)\n",
    "        cheapest_models_df['performance_range'] = [str([performance_lower_bound, performance_upper_bound])] * len(cheapest_models_df)\n",
    "        cheapest_models_dfs.append(cheapest_models_df)\n",
    "\n",
    "        # Calculate annual rate of decrease\n",
    "        annual_slope = exponential_model.params['date'] * 365  # Convert daily to annual\n",
    "        annual_factor = 10**(-annual_slope)  # Convert log slope to factor\n",
    "        # Get the 90% CI\n",
    "        ci_90 = exponential_model.conf_int(alpha=0.1)\n",
    "        annual_factor_low = 10**(-ci_90.loc['date'][1] * 365)\n",
    "        annual_factor_high = 10**(-ci_90.loc['date'][0] * 365)\n",
    "        results.append({\n",
    "            'bench': bench,\n",
    "            'threshold_model': frontier_model_data[\"Model Name\"],\n",
    "            'performance_range': [performance_lower_bound, performance_upper_bound],\n",
    "            'sample_size': len(cheapest_models_df),\n",
    "            'start_date': cheapest_models_df['Release Date'].min(),\n",
    "            'end_date': cheapest_models_df['Release Date'].max(),\n",
    "            'price_reduction_factor_per_year': annual_factor,\n",
    "            'price_reduction_factor_per_year_90_ci': [annual_factor_low, annual_factor_high],\n",
    "            'r_squared': round(exponential_model.rsquared, 2),\n",
    "        })\n",
    "\n",
    "        # Plot the exponential trendline with the data\n",
    "        fig = go.Figure()\n",
    "        fig.add_trace(go.Scatter(\n",
    "            x=cheapest_models_df['Release Date'],\n",
    "            y=predicted_log_prices,\n",
    "            mode='lines',\n",
    "            name=f'Trendline: {annual_factor}x decrease per year',\n",
    "            line=dict(color='blue', dash='dash')\n",
    "        ))\n",
    "        fig.add_trace(go.Scatter(\n",
    "            x=cheapest_models_df['Release Date'],\n",
    "            y=cheapest_models_df['USD per 1M Tokens'],\n",
    "            mode='markers+text',\n",
    "            name=f'Cheapest models with {performance_lower_bound}-{performance_upper_bound} on {bench}',\n",
    "            text=cheapest_models_df['Model Name'],\n",
    "            textposition='bottom left',\n",
    "            marker=dict(color='blue')\n",
    "            # line=dict(shape='hv'),\n",
    "        ))\n",
    "        other_models_df = aa_df.copy()\n",
    "        other_models_df = other_models_df[\n",
    "            other_models_df[bench].notna() &\n",
    "            (other_models_df[bench] >= performance_lower_bound) &\n",
    "            (other_models_df[bench] < performance_upper_bound) &\n",
    "            ~(other_models_df['Model Name'].isin(cheapest_models_df['Model Name']))\n",
    "        ]\n",
    "        other_models_df['bench'] = [bench] * len(other_models_df)\n",
    "        other_models_df['threshold_model'] = [frontier_model_data[\"Model Name\"]] * len(other_models_df)\n",
    "        other_models_df['performance_range'] = [str([performance_lower_bound, performance_upper_bound])] * len(other_models_df)\n",
    "        other_models_dfs.append(other_models_df)\n",
    "        fig.add_trace(go.Scatter(\n",
    "            x=other_models_df['Release Date'],\n",
    "            y=other_models_df['USD per 1M Tokens'],\n",
    "            mode='markers',\n",
    "            name=f'Other models with {performance_lower_bound}-{performance_upper_bound} on {bench}',\n",
    "            text=other_models_df['Model Name'],\n",
    "            marker=dict(color='lightblue')\n",
    "        ))\n",
    "        fig.update_layout(\n",
    "            title=f'The cheapest model with {performance_lower_bound}-{performance_upper_bound} on {bench} has become {annual_factor}x cheaper per year'\n",
    "        )\n",
    "        fig.update_traces(textposition='bottom left')\n",
    "        fig.update_layout(yaxis_type='log')\n",
    "        fig.update_layout(xaxis_title='Month')\n",
    "        fig.update_layout(yaxis_title='Price in USD per million tokens')\n",
    "        # Lower the lower x limit\n",
    "        min_date = min(cheapest_models_df['Release Date'].min(), other_models_df['Release Date'].min())\n",
    "        max_date = max(cheapest_models_df['Release Date'].max(), other_models_df['Release Date'].max())\n",
    "        fig.update_layout(xaxis_range=[min_date - pd.Timedelta(days=90), max_date + pd.Timedelta(days=30)])\n",
    "        fig.update_layout(\n",
    "            width=1000,\n",
    "            height=600,\n",
    "            font=dict(size=10),\n",
    "            legend=dict(\n",
    "                yanchor=\"top\",\n",
    "                y=0.99,\n",
    "                xanchor=\"right\",\n",
    "                x=0.99,\n",
    "                bordercolor=\"lightgrey\",\n",
    "                borderwidth=1\n",
    "            )\n",
    "        )\n",
    "        if save:\n",
    "            save_plot(\n",
    "                fig,\n",
    "                results_subdir,\n",
    "                f'lowest_price_models_{bench}_{performance_lower_bound}-{performance_upper_bound}_with_trendline',\n",
    "                extensions=['png'],\n",
    "            )\n",
    "\n",
    "all_cheapest_models_df = pd.concat(cheapest_models_dfs)\n",
    "all_cheapest_models_df = all_cheapest_models_df[['bench', 'threshold_model', 'performance_range', 'Model Name', 'Release Date', 'USD per 1M Tokens', 'predicted_log_price', 'benchmark_score']]\n",
    "all_other_models_df = pd.concat(other_models_dfs)\n",
    "all_other_models_df = all_other_models_df[['bench', 'threshold_model', 'performance_range', 'Model Name', 'Release Date', 'USD per 1M Tokens']]\n",
    "cheapest_model_results_df = pd.DataFrame(results)\n",
    "if save:\n",
    "    all_cheapest_models_df.to_csv(results_subdir + 'lowest_price_models_data.csv', index=False)\n",
    "    all_other_models_df.to_csv(results_subdir + 'other_models_data.csv', index=False)\n",
    "    cheapest_model_results_df.to_csv(results_subdir + 'lowest_price_models_results.csv', index=False)"
   ]
  },
  {
   "cell_type": "code",
   "execution_count": 50,
   "metadata": {},
   "outputs": [
    {
     "data": {
      "text/plain": [
       "15.830914761762989"
      ]
     },
     "execution_count": 50,
     "metadata": {},
     "output_type": "execute_result"
    }
   ],
   "source": [
    "# Median price reduction factor per year for MMLU\n",
    "cheapest_model_results_df[cheapest_model_results_df['bench'] == 'MMLU']['price_reduction_factor_per_year'].median()"
   ]
  },
  {
   "cell_type": "code",
   "execution_count": 26,
   "metadata": {},
   "outputs": [
    {
     "data": {
      "text/plain": [
       "array([  9,  46, 851])"
      ]
     },
     "execution_count": 26,
     "metadata": {},
     "output_type": "execute_result"
    }
   ],
   "source": [
    "all_price_factors = cheapest_model_results_df['price_reduction_factor_per_year']\n",
    "np.percentile(all_price_factors, [0, 50, 100]).astype(int)"
   ]
  },
  {
   "cell_type": "code",
   "execution_count": 27,
   "metadata": {},
   "outputs": [
    {
     "data": {
      "text/plain": [
       "array([  9,  46, 689])"
      ]
     },
     "execution_count": 27,
     "metadata": {},
     "output_type": "execute_result"
    }
   ],
   "source": [
    "np.percentile(all_price_factors, [5, 50, 95]).astype(int)"
   ]
  },
  {
   "cell_type": "code",
   "execution_count": 28,
   "metadata": {},
   "outputs": [
    {
     "data": {
      "text/plain": [
       "array([1.20357635, 1.37643656, 1.75455786])"
      ]
     },
     "execution_count": 28,
     "metadata": {},
     "output_type": "execute_result"
    }
   ],
   "source": [
    "# Monthly rates\n",
    "np.percentile(all_price_factors**(1/12), [0, 50, 100])"
   ]
  },
  {
   "cell_type": "code",
   "execution_count": 29,
   "metadata": {},
   "outputs": [
    {
     "data": {
      "application/vnd.plotly.v1+json": {
       "config": {
        "plotlyServerURL": "https://plot.ly"
       },
       "data": [
        {
         "box": {
          "visible": true
         },
         "name": "Distribution",
         "showlegend": false,
         "type": "violin",
         "x0": "All benchmarks",
         "y": [
          1.070882446818741,
          1.1995060105356188,
          0.9706838095070646,
          1.200214495914405,
          1.553776522424213,
          1.6234457005018326,
          1.6650743773264614,
          2.9300123303962358,
          2.3999454824417525,
          1.2559914738134226,
          2.2361890314576027,
          2.838269583556315,
          1.861148887452519,
          2.2029038288921887,
          2.838269583556315,
          1.5661129379169647,
          0.9656837345707265,
          0.9825037058863993,
          1.8769023402257066,
          2.3900763568696086,
          2.2478762649642325
         ]
        },
        {
         "hovertemplate": "Cheapest models that are %{text} level or better",
         "marker": {
          "size": 10
         },
         "mode": "markers",
         "name": "MMLU",
         "showlegend": false,
         "text": [
          "GPT-3",
          "GPT-3.5",
          "GPT-3.5 Turbo",
          "GPT-4-0314",
          "GPT-4 Turbo"
         ],
         "textposition": "middle right",
         "type": "scatter",
         "x": [
          "General knowledge",
          "General knowledge",
          "General knowledge",
          "General knowledge",
          "General knowledge"
         ],
         "y": [
          1.070882446818741,
          1.1995060105356188,
          0.9706838095070646,
          1.200214495914405,
          1.553776522424213
         ]
        },
        {
         "hovertemplate": "Cheapest models that are %{text} level or better",
         "marker": {
          "size": 10
         },
         "mode": "markers",
         "name": "GPQA Diamond",
         "showlegend": false,
         "text": [
          "GPT-4-0314",
          "GPT-4 Turbo",
          "GPT-4o-2024-05",
          "Claude-3.5-Sonnet-2024-06"
         ],
         "textposition": "middle right",
         "type": "scatter",
         "x": [
          "Scientific reasoning",
          "Scientific reasoning",
          "Scientific reasoning",
          "Scientific reasoning"
         ],
         "y": [
          1.6234457005018326,
          1.6650743773264614,
          2.9300123303962358,
          2.3999454824417525
         ]
        },
        {
         "hovertemplate": "Cheapest models that are %{text} level or better",
         "marker": {
          "size": 10
         },
         "mode": "markers",
         "name": "MATH-500",
         "showlegend": false,
         "text": [
          "GPT-3.5-Turbo-2023-06",
          "GPT-4 Turbo",
          "GPT-4o-2024-05"
         ],
         "textposition": "middle right",
         "type": "scatter",
         "x": [
          "Math (easier)",
          "Math (easier)",
          "Math (easier)"
         ],
         "y": [
          1.2559914738134226,
          2.2361890314576027,
          2.838269583556315
         ]
        },
        {
         "hovertemplate": "Cheapest models that are %{text} level or better",
         "marker": {
          "size": 10
         },
         "mode": "markers",
         "name": "MATH 5",
         "showlegend": false,
         "text": [
          "GPT-4-0613",
          "GPT-4 Turbo",
          "GPT-4o-2024-05"
         ],
         "textposition": "middle right",
         "type": "scatter",
         "x": [
          "Math (harder)",
          "Math (harder)",
          "Math (harder)"
         ],
         "y": [
          1.861148887452519,
          2.2029038288921887,
          2.838269583556315
         ]
        },
        {
         "hovertemplate": "Cheapest models that are %{text} level or better",
         "marker": {
          "size": 10
         },
         "mode": "markers",
         "name": "HumanEval",
         "showlegend": false,
         "text": [
          "GPT-4-0314",
          "GPT-3.5-Turbo-2023-06"
         ],
         "textposition": "middle right",
         "type": "scatter",
         "x": [
          "Coding",
          "Coding"
         ],
         "y": [
          1.5661129379169647,
          0.9656837345707265
         ]
        },
        {
         "hovertemplate": "Cheapest models that are %{text} level or better",
         "marker": {
          "size": 10
         },
         "mode": "markers",
         "name": "LMSys Chatbot Arena ELO",
         "showlegend": false,
         "text": [
          "GPT-3.5 Turbo",
          "GPT-4-0314",
          "GPT-4 Turbo",
          "GPT-4o-2024-05"
         ],
         "textposition": "middle right",
         "type": "scatter",
         "x": [
          "Chatbot Arena",
          "Chatbot Arena",
          "Chatbot Arena",
          "Chatbot Arena"
         ],
         "y": [
          0.9825037058863993,
          1.8769023402257066,
          2.3900763568696086,
          2.2478762649642325
         ]
        }
       ],
       "layout": {
        "font": {
         "size": 14
        },
        "height": 600,
        "margin": {
         "l": 130
        },
        "template": {
         "data": {
          "bar": [
           {
            "error_x": {
             "color": "#2a3f5f"
            },
            "error_y": {
             "color": "#2a3f5f"
            },
            "marker": {
             "line": {
              "color": "white",
              "width": 0.5
             },
             "pattern": {
              "fillmode": "overlay",
              "size": 10,
              "solidity": 0.2
             }
            },
            "type": "bar"
           }
          ],
          "barpolar": [
           {
            "marker": {
             "line": {
              "color": "white",
              "width": 0.5
             },
             "pattern": {
              "fillmode": "overlay",
              "size": 10,
              "solidity": 0.2
             }
            },
            "type": "barpolar"
           }
          ],
          "carpet": [
           {
            "aaxis": {
             "endlinecolor": "#2a3f5f",
             "gridcolor": "#C8D4E3",
             "linecolor": "#C8D4E3",
             "minorgridcolor": "#C8D4E3",
             "startlinecolor": "#2a3f5f"
            },
            "baxis": {
             "endlinecolor": "#2a3f5f",
             "gridcolor": "#C8D4E3",
             "linecolor": "#C8D4E3",
             "minorgridcolor": "#C8D4E3",
             "startlinecolor": "#2a3f5f"
            },
            "type": "carpet"
           }
          ],
          "choropleth": [
           {
            "colorbar": {
             "outlinewidth": 0,
             "ticks": ""
            },
            "type": "choropleth"
           }
          ],
          "contour": [
           {
            "colorbar": {
             "outlinewidth": 0,
             "ticks": ""
            },
            "colorscale": [
             [
              0,
              "#0d0887"
             ],
             [
              0.1111111111111111,
              "#46039f"
             ],
             [
              0.2222222222222222,
              "#7201a8"
             ],
             [
              0.3333333333333333,
              "#9c179e"
             ],
             [
              0.4444444444444444,
              "#bd3786"
             ],
             [
              0.5555555555555556,
              "#d8576b"
             ],
             [
              0.6666666666666666,
              "#ed7953"
             ],
             [
              0.7777777777777778,
              "#fb9f3a"
             ],
             [
              0.8888888888888888,
              "#fdca26"
             ],
             [
              1,
              "#f0f921"
             ]
            ],
            "type": "contour"
           }
          ],
          "contourcarpet": [
           {
            "colorbar": {
             "outlinewidth": 0,
             "ticks": ""
            },
            "type": "contourcarpet"
           }
          ],
          "heatmap": [
           {
            "colorbar": {
             "outlinewidth": 0,
             "ticks": ""
            },
            "colorscale": [
             [
              0,
              "#0d0887"
             ],
             [
              0.1111111111111111,
              "#46039f"
             ],
             [
              0.2222222222222222,
              "#7201a8"
             ],
             [
              0.3333333333333333,
              "#9c179e"
             ],
             [
              0.4444444444444444,
              "#bd3786"
             ],
             [
              0.5555555555555556,
              "#d8576b"
             ],
             [
              0.6666666666666666,
              "#ed7953"
             ],
             [
              0.7777777777777778,
              "#fb9f3a"
             ],
             [
              0.8888888888888888,
              "#fdca26"
             ],
             [
              1,
              "#f0f921"
             ]
            ],
            "type": "heatmap"
           }
          ],
          "heatmapgl": [
           {
            "colorbar": {
             "outlinewidth": 0,
             "ticks": ""
            },
            "colorscale": [
             [
              0,
              "#0d0887"
             ],
             [
              0.1111111111111111,
              "#46039f"
             ],
             [
              0.2222222222222222,
              "#7201a8"
             ],
             [
              0.3333333333333333,
              "#9c179e"
             ],
             [
              0.4444444444444444,
              "#bd3786"
             ],
             [
              0.5555555555555556,
              "#d8576b"
             ],
             [
              0.6666666666666666,
              "#ed7953"
             ],
             [
              0.7777777777777778,
              "#fb9f3a"
             ],
             [
              0.8888888888888888,
              "#fdca26"
             ],
             [
              1,
              "#f0f921"
             ]
            ],
            "type": "heatmapgl"
           }
          ],
          "histogram": [
           {
            "marker": {
             "pattern": {
              "fillmode": "overlay",
              "size": 10,
              "solidity": 0.2
             }
            },
            "type": "histogram"
           }
          ],
          "histogram2d": [
           {
            "colorbar": {
             "outlinewidth": 0,
             "ticks": ""
            },
            "colorscale": [
             [
              0,
              "#0d0887"
             ],
             [
              0.1111111111111111,
              "#46039f"
             ],
             [
              0.2222222222222222,
              "#7201a8"
             ],
             [
              0.3333333333333333,
              "#9c179e"
             ],
             [
              0.4444444444444444,
              "#bd3786"
             ],
             [
              0.5555555555555556,
              "#d8576b"
             ],
             [
              0.6666666666666666,
              "#ed7953"
             ],
             [
              0.7777777777777778,
              "#fb9f3a"
             ],
             [
              0.8888888888888888,
              "#fdca26"
             ],
             [
              1,
              "#f0f921"
             ]
            ],
            "type": "histogram2d"
           }
          ],
          "histogram2dcontour": [
           {
            "colorbar": {
             "outlinewidth": 0,
             "ticks": ""
            },
            "colorscale": [
             [
              0,
              "#0d0887"
             ],
             [
              0.1111111111111111,
              "#46039f"
             ],
             [
              0.2222222222222222,
              "#7201a8"
             ],
             [
              0.3333333333333333,
              "#9c179e"
             ],
             [
              0.4444444444444444,
              "#bd3786"
             ],
             [
              0.5555555555555556,
              "#d8576b"
             ],
             [
              0.6666666666666666,
              "#ed7953"
             ],
             [
              0.7777777777777778,
              "#fb9f3a"
             ],
             [
              0.8888888888888888,
              "#fdca26"
             ],
             [
              1,
              "#f0f921"
             ]
            ],
            "type": "histogram2dcontour"
           }
          ],
          "mesh3d": [
           {
            "colorbar": {
             "outlinewidth": 0,
             "ticks": ""
            },
            "type": "mesh3d"
           }
          ],
          "parcoords": [
           {
            "line": {
             "colorbar": {
              "outlinewidth": 0,
              "ticks": ""
             }
            },
            "type": "parcoords"
           }
          ],
          "pie": [
           {
            "automargin": true,
            "type": "pie"
           }
          ],
          "scatter": [
           {
            "fillpattern": {
             "fillmode": "overlay",
             "size": 10,
             "solidity": 0.2
            },
            "type": "scatter"
           }
          ],
          "scatter3d": [
           {
            "line": {
             "colorbar": {
              "outlinewidth": 0,
              "ticks": ""
             }
            },
            "marker": {
             "colorbar": {
              "outlinewidth": 0,
              "ticks": ""
             }
            },
            "type": "scatter3d"
           }
          ],
          "scattercarpet": [
           {
            "marker": {
             "colorbar": {
              "outlinewidth": 0,
              "ticks": ""
             }
            },
            "type": "scattercarpet"
           }
          ],
          "scattergeo": [
           {
            "marker": {
             "colorbar": {
              "outlinewidth": 0,
              "ticks": ""
             }
            },
            "type": "scattergeo"
           }
          ],
          "scattergl": [
           {
            "marker": {
             "colorbar": {
              "outlinewidth": 0,
              "ticks": ""
             }
            },
            "type": "scattergl"
           }
          ],
          "scattermapbox": [
           {
            "marker": {
             "colorbar": {
              "outlinewidth": 0,
              "ticks": ""
             }
            },
            "type": "scattermapbox"
           }
          ],
          "scatterpolar": [
           {
            "marker": {
             "colorbar": {
              "outlinewidth": 0,
              "ticks": ""
             }
            },
            "type": "scatterpolar"
           }
          ],
          "scatterpolargl": [
           {
            "marker": {
             "colorbar": {
              "outlinewidth": 0,
              "ticks": ""
             }
            },
            "type": "scatterpolargl"
           }
          ],
          "scatterternary": [
           {
            "marker": {
             "colorbar": {
              "outlinewidth": 0,
              "ticks": ""
             }
            },
            "type": "scatterternary"
           }
          ],
          "surface": [
           {
            "colorbar": {
             "outlinewidth": 0,
             "ticks": ""
            },
            "colorscale": [
             [
              0,
              "#0d0887"
             ],
             [
              0.1111111111111111,
              "#46039f"
             ],
             [
              0.2222222222222222,
              "#7201a8"
             ],
             [
              0.3333333333333333,
              "#9c179e"
             ],
             [
              0.4444444444444444,
              "#bd3786"
             ],
             [
              0.5555555555555556,
              "#d8576b"
             ],
             [
              0.6666666666666666,
              "#ed7953"
             ],
             [
              0.7777777777777778,
              "#fb9f3a"
             ],
             [
              0.8888888888888888,
              "#fdca26"
             ],
             [
              1,
              "#f0f921"
             ]
            ],
            "type": "surface"
           }
          ],
          "table": [
           {
            "cells": {
             "fill": {
              "color": "#EBF0F8"
             },
             "line": {
              "color": "white"
             }
            },
            "header": {
             "fill": {
              "color": "#C8D4E3"
             },
             "line": {
              "color": "white"
             }
            },
            "type": "table"
           }
          ]
         },
         "layout": {
          "annotationdefaults": {
           "arrowcolor": "#2a3f5f",
           "arrowhead": 0,
           "arrowwidth": 1
          },
          "autotypenumbers": "strict",
          "coloraxis": {
           "colorbar": {
            "outlinewidth": 0,
            "ticks": ""
           }
          },
          "colorscale": {
           "diverging": [
            [
             0,
             "#8e0152"
            ],
            [
             0.1,
             "#c51b7d"
            ],
            [
             0.2,
             "#de77ae"
            ],
            [
             0.3,
             "#f1b6da"
            ],
            [
             0.4,
             "#fde0ef"
            ],
            [
             0.5,
             "#f7f7f7"
            ],
            [
             0.6,
             "#e6f5d0"
            ],
            [
             0.7,
             "#b8e186"
            ],
            [
             0.8,
             "#7fbc41"
            ],
            [
             0.9,
             "#4d9221"
            ],
            [
             1,
             "#276419"
            ]
           ],
           "sequential": [
            [
             0,
             "#0d0887"
            ],
            [
             0.1111111111111111,
             "#46039f"
            ],
            [
             0.2222222222222222,
             "#7201a8"
            ],
            [
             0.3333333333333333,
             "#9c179e"
            ],
            [
             0.4444444444444444,
             "#bd3786"
            ],
            [
             0.5555555555555556,
             "#d8576b"
            ],
            [
             0.6666666666666666,
             "#ed7953"
            ],
            [
             0.7777777777777778,
             "#fb9f3a"
            ],
            [
             0.8888888888888888,
             "#fdca26"
            ],
            [
             1,
             "#f0f921"
            ]
           ],
           "sequentialminus": [
            [
             0,
             "#0d0887"
            ],
            [
             0.1111111111111111,
             "#46039f"
            ],
            [
             0.2222222222222222,
             "#7201a8"
            ],
            [
             0.3333333333333333,
             "#9c179e"
            ],
            [
             0.4444444444444444,
             "#bd3786"
            ],
            [
             0.5555555555555556,
             "#d8576b"
            ],
            [
             0.6666666666666666,
             "#ed7953"
            ],
            [
             0.7777777777777778,
             "#fb9f3a"
            ],
            [
             0.8888888888888888,
             "#fdca26"
            ],
            [
             1,
             "#f0f921"
            ]
           ]
          },
          "colorway": [
           "#636efa",
           "#EF553B",
           "#00cc96",
           "#ab63fa",
           "#FFA15A",
           "#19d3f3",
           "#FF6692",
           "#B6E880",
           "#FF97FF",
           "#FECB52"
          ],
          "font": {
           "color": "#2a3f5f"
          },
          "geo": {
           "bgcolor": "white",
           "lakecolor": "white",
           "landcolor": "white",
           "showlakes": true,
           "showland": true,
           "subunitcolor": "#C8D4E3"
          },
          "hoverlabel": {
           "align": "left"
          },
          "hovermode": "closest",
          "mapbox": {
           "style": "light"
          },
          "paper_bgcolor": "white",
          "plot_bgcolor": "white",
          "polar": {
           "angularaxis": {
            "gridcolor": "#EBF0F8",
            "linecolor": "#EBF0F8",
            "ticks": ""
           },
           "bgcolor": "white",
           "radialaxis": {
            "gridcolor": "#EBF0F8",
            "linecolor": "#EBF0F8",
            "ticks": ""
           }
          },
          "scene": {
           "xaxis": {
            "backgroundcolor": "white",
            "gridcolor": "#DFE8F3",
            "gridwidth": 2,
            "linecolor": "#EBF0F8",
            "showbackground": true,
            "ticks": "",
            "zerolinecolor": "#EBF0F8"
           },
           "yaxis": {
            "backgroundcolor": "white",
            "gridcolor": "#DFE8F3",
            "gridwidth": 2,
            "linecolor": "#EBF0F8",
            "showbackground": true,
            "ticks": "",
            "zerolinecolor": "#EBF0F8"
           },
           "zaxis": {
            "backgroundcolor": "white",
            "gridcolor": "#DFE8F3",
            "gridwidth": 2,
            "linecolor": "#EBF0F8",
            "showbackground": true,
            "ticks": "",
            "zerolinecolor": "#EBF0F8"
           }
          },
          "shapedefaults": {
           "line": {
            "color": "#2a3f5f"
           }
          },
          "ternary": {
           "aaxis": {
            "gridcolor": "#DFE8F3",
            "linecolor": "#A2B1C6",
            "ticks": ""
           },
           "baxis": {
            "gridcolor": "#DFE8F3",
            "linecolor": "#A2B1C6",
            "ticks": ""
           },
           "bgcolor": "white",
           "caxis": {
            "gridcolor": "#DFE8F3",
            "linecolor": "#A2B1C6",
            "ticks": ""
           }
          },
          "title": {
           "x": 0.05
          },
          "xaxis": {
           "automargin": true,
           "gridcolor": "#EBF0F8",
           "linecolor": "#EBF0F8",
           "ticks": "",
           "title": {
            "standoff": 15
           },
           "zerolinecolor": "#EBF0F8",
           "zerolinewidth": 2
          },
          "yaxis": {
           "automargin": true,
           "gridcolor": "#EBF0F8",
           "linecolor": "#EBF0F8",
           "ticks": "",
           "title": {
            "standoff": 15
           },
           "zerolinecolor": "#EBF0F8",
           "zerolinewidth": 2
          }
         }
        },
        "title": {
         "text": "The lowest-priced LLMs above a capability threshold have become much cheaper to use"
        },
        "width": 1000,
        "xaxis": {
         "range": [
          -0.5,
          7
         ]
        },
        "yaxis": {
         "tickmode": "array",
         "ticktext": [
          "1x",
          "10x",
          "100x",
          "1,000x",
          "10,000x",
          "100,000x"
         ],
         "tickvals": [
          0,
          1,
          2,
          3,
          4,
          5
         ],
         "title": {
          "text": "Annualized rate of decrease in price per token"
         },
         "zeroline": false
        }
       }
      }
     },
     "metadata": {},
     "output_type": "display_data"
    }
   ],
   "source": [
    "# Create figure\n",
    "fig = go.Figure()\n",
    "\n",
    "bench_aliases = {\n",
    "    'MMLU': 'General knowledge',\n",
    "    'GPQA Diamond': 'Scientific reasoning', \n",
    "    'HumanEval': 'Coding',\n",
    "    'MATH 5': 'Math (harder)',\n",
    "    'MATH-500': 'Math (easier)',\n",
    "    'LMSys Chatbot Arena ELO': 'Chatbot Arena',\n",
    "}\n",
    "\n",
    "# Add violin plot\n",
    "fig.add_trace(go.Violin(\n",
    "    y=np.log10(all_price_factors),\n",
    "    x0='All benchmarks',\n",
    "    box_visible=True,\n",
    "    name='Distribution',\n",
    "    showlegend=False,\n",
    "))\n",
    "\n",
    "# Add points for each benchmark as scatter traces\n",
    "for bench in benchmarks:\n",
    "    # if bench == 'MATH-500':\n",
    "    #     continue\n",
    "\n",
    "    bench_results = cheapest_model_results_df[cheapest_model_results_df['bench'] == bench]\n",
    "    price_factors = bench_results['price_reduction_factor_per_year'].dropna()\n",
    "    bench_factors = np.log10(price_factors)\n",
    "    bench_ranges = bench_results['threshold_model']\n",
    "    \n",
    "    fig.add_trace(go.Scatter(\n",
    "        y=bench_factors,\n",
    "        x=[bench_aliases[bench]] * len(bench_factors),\n",
    "        mode='markers',\n",
    "        name=bench,\n",
    "        text=bench_ranges,\n",
    "        textposition='middle right',\n",
    "        marker=dict(size=10),\n",
    "        hovertemplate='Cheapest models that are %{text} level or better',\n",
    "        showlegend=False,\n",
    "    ))\n",
    "\n",
    "# Update layout\n",
    "fig.update_layout(yaxis_zeroline=False)\n",
    "fig.update_layout(yaxis_title='Annualized rate of decrease in price per token')\n",
    "# Change y-axis labels to be powers of 10\n",
    "tvs = list(range(0, 6))\n",
    "fig.update_layout(yaxis=dict(tickmode='array', tickvals=tvs, ticktext=[f'{10**tickval:,.0f}x' for tickval in tvs]))\n",
    "fig.update_layout(\n",
    "    title='The lowest-priced LLMs above a capability threshold have become much cheaper to use',\n",
    "    width=1000,\n",
    "    height=600,\n",
    "    font=dict(size=14),\n",
    "    # add some left margin\n",
    "    margin=dict(l=130),\n",
    "    # Increase spacing between x values by expanding the range\n",
    "    xaxis=dict(range=[-0.5, len(benchmarks) + 1.0])\n",
    ")\n",
    "if save:\n",
    "    save_plot(fig, results_subdir, 'lowest_price_models_all_violin', extensions=['png'])\n",
    "fig.show()"
   ]
  },
  {
   "cell_type": "code",
   "execution_count": 30,
   "metadata": {},
   "outputs": [
    {
     "data": {
      "text/plain": [
       "[              Model Name Release Date  USD per 1M Tokens  MMLU  GPQA Diamond  \\\n",
       " 0                  GPT-3   2021-11-20              60.00  43.9           NaN   \n",
       " 1                  GPT-3   2022-09-01              20.00  43.9           NaN   \n",
       " 2          GPT-3.5 Turbo   2023-03-06               2.00  68.0           NaN   \n",
       " 3       Llama-2-Chat-13B   2023-07-18               0.56  45.0          19.0   \n",
       " 4             Llama 2-7B   2023-12-01               0.20  45.3           NaN   \n",
       " 5             Llama 2-7B   2024-04-14               0.13  45.3           NaN   \n",
       " 6  Llama-3.1-Instruct-8B   2024-07-23               0.10  71.0          27.0   \n",
       " 7  Llama-3.2-Instruct-3B   2024-09-24               0.08  64.0          21.0   \n",
       " 8    Gemini-1.5-Flash-8B   2024-10-03               0.07  75.0          30.0   \n",
       " \n",
       "    HumanEval  MATH-500  LMSys Chatbot Arena ELO  MATH 5  Tokens per Second  \\\n",
       " 0        NaN       NaN                      NaN     NaN                NaN   \n",
       " 1        NaN       NaN                      NaN     NaN                NaN   \n",
       " 2        NaN       NaN                   1106.0     NaN                NaN   \n",
       " 3        NaN       NaN                   1063.0     NaN               43.1   \n",
       " 4        NaN       NaN                      NaN     NaN                NaN   \n",
       " 5        NaN       NaN                      NaN     NaN                NaN   \n",
       " 6       67.0      50.0                   1172.0    22.0              164.3   \n",
       " 7       60.0      50.0                   1103.0     NaN              200.3   \n",
       " 8       12.0      70.0                   1211.0     NaN              285.2   \n",
       " \n",
       "    ...              Model Name and Date  MMLU price-performance  price  \\\n",
       " 0  ...                  GPT-3 (2021-11)                0.731667  60.00   \n",
       " 1  ...                  GPT-3 (2022-09)                2.195000  20.00   \n",
       " 2  ...          GPT-3.5 Turbo (2023-03)               34.000000   2.00   \n",
       " 3  ...       Llama-2-Chat-13B (2023-07)               80.357143   0.56   \n",
       " 4  ...             Llama 2-7B (2023-12)              226.500000   0.20   \n",
       " 5  ...             Llama 2-7B (2024-04)              348.461538   0.13   \n",
       " 6  ...  Llama-3.1-Instruct-8B (2024-07)              710.000000   0.10   \n",
       " 7  ...  Llama-3.2-Instruct-3B (2024-09)              800.000000   0.08   \n",
       " 8  ...    Gemini-1.5-Flash-8B (2024-10)             1071.428571   0.07   \n",
       " \n",
       "    log_price    date  predicted_log_price  benchmark_score  bench  \\\n",
       " 0   1.778151  738114            60.185065             43.9   MMLU   \n",
       " 1   1.301030  738399             8.776478             43.9   MMLU   \n",
       " 2   0.301030  738585             2.498103             68.0   MMLU   \n",
       " 3  -0.251812  738719             1.010333             45.0   MMLU   \n",
       " 4  -0.698970  738855             0.403135             45.3   MMLU   \n",
       " 5  -0.886057  738990             0.161946             45.3   MMLU   \n",
       " 6  -1.000000  739090             0.082410             71.0   MMLU   \n",
       " 7  -1.096910  739153             0.053844             64.0   MMLU   \n",
       " 8  -1.154902  739162             0.050668             75.0   MMLU   \n",
       " \n",
       "    threshold_model performance_range  \n",
       " 0            GPT-3       [43.9, 100]  \n",
       " 1            GPT-3       [43.9, 100]  \n",
       " 2            GPT-3       [43.9, 100]  \n",
       " 3            GPT-3       [43.9, 100]  \n",
       " 4            GPT-3       [43.9, 100]  \n",
       " 5            GPT-3       [43.9, 100]  \n",
       " 6            GPT-3       [43.9, 100]  \n",
       " 7            GPT-3       [43.9, 100]  \n",
       " 8            GPT-3       [43.9, 100]  \n",
       " \n",
       " [9 rows x 22 columns],\n",
       "                  Model Name Release Date  USD per 1M Tokens  MMLU  \\\n",
       " 0                   GPT-3.5   2022-11-30              20.00  64.8   \n",
       " 1             GPT-3.5 Turbo   2023-03-06               2.00  68.0   \n",
       " 2     GPT-3.5-Turbo-2023-11   2023-11-06               0.75  68.0   \n",
       " 3            Claude-3-Haiku   2024-03-04               0.50  71.0   \n",
       " 4  Gemini-1.5-Flash-2024-05   2024-05-10               0.13  79.0   \n",
       " 5     Llama-3.1-Instruct-8B   2024-07-23               0.10  71.0   \n",
       " 6       Gemini-1.5-Flash-8B   2024-10-03               0.07  75.0   \n",
       " \n",
       "    GPQA Diamond  HumanEval  MATH-500  LMSys Chatbot Arena ELO  MATH 5  \\\n",
       " 0           NaN        NaN       NaN                      NaN     NaN   \n",
       " 1           NaN        NaN       NaN                   1106.0     NaN   \n",
       " 2          30.0       71.0      44.0                   1107.0    15.0   \n",
       " 3          33.0       77.0      39.0                   1179.0    13.0   \n",
       " 4          39.0        NaN      55.0                   1227.0    23.0   \n",
       " 5          27.0       67.0      50.0                   1172.0    22.0   \n",
       " 6          30.0       12.0      70.0                   1211.0     NaN   \n",
       " \n",
       "    Tokens per Second  ...                 Model Name and Date  \\\n",
       " 0                NaN  ...                   GPT-3.5 (2022-11)   \n",
       " 1                NaN  ...             GPT-3.5 Turbo (2023-03)   \n",
       " 2              121.5  ...     GPT-3.5-Turbo-2023-11 (2023-11)   \n",
       " 3              122.7  ...            Claude-3-Haiku (2024-03)   \n",
       " 4              298.4  ...  Gemini-1.5-Flash-2024-05 (2024-05)   \n",
       " 5              164.3  ...     Llama-3.1-Instruct-8B (2024-07)   \n",
       " 6              285.2  ...       Gemini-1.5-Flash-8B (2024-10)   \n",
       " \n",
       "    MMLU price-performance  price  log_price    date  predicted_log_price  \\\n",
       " 0                3.240000  20.00   1.301030  738489            10.005324   \n",
       " 1               34.000000   2.00   0.301030  738585             4.838878   \n",
       " 2               90.666667   0.75  -0.124939  738830             0.757874   \n",
       " 3              142.000000   0.50  -0.301030  738949             0.307982   \n",
       " 4              607.692308   0.13  -0.886057  739016             0.185499   \n",
       " 5              710.000000   0.10  -1.000000  739090             0.105963   \n",
       " 6             1071.428571   0.07  -1.154902  739162             0.061452   \n",
       " \n",
       "    benchmark_score  bench  threshold_model performance_range  \n",
       " 0             64.8   MMLU          GPT-3.5       [64.8, 100]  \n",
       " 1             68.0   MMLU          GPT-3.5       [64.8, 100]  \n",
       " 2             68.0   MMLU          GPT-3.5       [64.8, 100]  \n",
       " 3             71.0   MMLU          GPT-3.5       [64.8, 100]  \n",
       " 4             79.0   MMLU          GPT-3.5       [64.8, 100]  \n",
       " 5             71.0   MMLU          GPT-3.5       [64.8, 100]  \n",
       " 6             75.0   MMLU          GPT-3.5       [64.8, 100]  \n",
       " \n",
       " [7 rows x 22 columns],\n",
       "                  Model Name Release Date  USD per 1M Tokens  MMLU  \\\n",
       " 0             GPT-3.5 Turbo   2023-03-06               2.00  68.0   \n",
       " 1     GPT-3.5-Turbo-2023-11   2023-11-06               0.75  68.0   \n",
       " 2            Claude-3-Haiku   2024-03-04               0.50  71.0   \n",
       " 3  Gemini-1.5-Flash-2024-05   2024-05-10               0.13  79.0   \n",
       " 4     Llama-3.1-Instruct-8B   2024-07-23               0.10  71.0   \n",
       " 5       Gemini-1.5-Flash-8B   2024-10-03               0.07  75.0   \n",
       " \n",
       "    GPQA Diamond  HumanEval  MATH-500  LMSys Chatbot Arena ELO  MATH 5  \\\n",
       " 0           NaN        NaN       NaN                   1106.0     NaN   \n",
       " 1          30.0       71.0      44.0                   1107.0    15.0   \n",
       " 2          33.0       77.0      39.0                   1179.0    13.0   \n",
       " 3          39.0        NaN      55.0                   1227.0    23.0   \n",
       " 4          27.0       67.0      50.0                   1172.0    22.0   \n",
       " 5          30.0       12.0      70.0                   1211.0     NaN   \n",
       " \n",
       "    Tokens per Second  ...                 Model Name and Date  \\\n",
       " 0                NaN  ...             GPT-3.5 Turbo (2023-03)   \n",
       " 1              121.5  ...     GPT-3.5-Turbo-2023-11 (2023-11)   \n",
       " 2              122.7  ...            Claude-3-Haiku (2024-03)   \n",
       " 3              298.4  ...  Gemini-1.5-Flash-2024-05 (2024-05)   \n",
       " 4              164.3  ...     Llama-3.1-Instruct-8B (2024-07)   \n",
       " 5              285.2  ...       Gemini-1.5-Flash-8B (2024-10)   \n",
       " \n",
       "    MMLU price-performance price  log_price    date  predicted_log_price  \\\n",
       " 0               34.000000  2.00   0.301030  738585             2.587583   \n",
       " 1               90.666667  0.75  -0.124939  738830             0.577217   \n",
       " 2              142.000000  0.50  -0.301030  738949             0.278529   \n",
       " 3              607.692308  0.13  -0.886057  739016             0.184795   \n",
       " 4              710.000000  0.10  -1.000000  739090             0.117461   \n",
       " 5             1071.428571  0.07  -1.154902  739162             0.075582   \n",
       " \n",
       "    benchmark_score  bench  threshold_model performance_range  \n",
       " 0             68.0   MMLU    GPT-3.5 Turbo       [68.0, 100]  \n",
       " 1             68.0   MMLU    GPT-3.5 Turbo       [68.0, 100]  \n",
       " 2             71.0   MMLU    GPT-3.5 Turbo       [68.0, 100]  \n",
       " 3             79.0   MMLU    GPT-3.5 Turbo       [68.0, 100]  \n",
       " 4             71.0   MMLU    GPT-3.5 Turbo       [68.0, 100]  \n",
       " 5             75.0   MMLU    GPT-3.5 Turbo       [68.0, 100]  \n",
       " \n",
       " [6 rows x 22 columns],\n",
       "                Model Name Release Date  USD per 1M Tokens  MMLU  GPQA Diamond  \\\n",
       " 0              GPT-4-0314   2023-03-14             37.500  86.0          33.0   \n",
       " 1             GPT-4 Turbo   2023-11-06             15.000  87.0          50.0   \n",
       " 2          GPT-4o-2024-05   2024-05-13              7.500  87.0          53.0   \n",
       " 3  Gemini-1.5-Pro-2024-05   2024-05-23              2.190  86.0          46.0   \n",
       " 4        Gemini 2.0 Flash   2025-02-05              0.175  88.0          62.0   \n",
       " \n",
       "    HumanEval  MATH-500  LMSys Chatbot Arena ELO  MATH 5  Tokens per Second  \\\n",
       " 0       67.0       NaN                   1186.0     NaN               23.6   \n",
       " 1       92.0      74.0                   1256.0    36.0               39.2   \n",
       " 2       94.0      79.0                   1285.0    48.0               86.4   \n",
       " 3       83.0      66.0                   1260.0    41.0               64.8   \n",
       " 4       90.0      93.0                   1358.0    82.0                NaN   \n",
       " \n",
       "    ...               Model Name and Date  MMLU price-performance   price  \\\n",
       " 0  ...              GPT-4-0314 (2023-03)                2.293333  37.500   \n",
       " 1  ...             GPT-4 Turbo (2023-11)                5.800000  15.000   \n",
       " 2  ...          GPT-4o-2024-05 (2024-05)               11.600000   7.500   \n",
       " 3  ...  Gemini-1.5-Pro-2024-05 (2024-05)               39.269406   2.190   \n",
       " 4  ...        Gemini 2.0 Flash (2025-02)              502.857143   0.175   \n",
       " \n",
       "    log_price    date  predicted_log_price  benchmark_score  bench  \\\n",
       " 0   1.574031  738593            66.206835             86.0   MMLU   \n",
       " 1   1.176091  738830            11.004884             87.0   MMLU   \n",
       " 2   0.875061  739019             2.630901             87.0   MMLU   \n",
       " 3   0.340444  739029             2.439057             86.0   MMLU   \n",
       " 4  -0.756962  739287             0.345821             88.0   MMLU   \n",
       " \n",
       "    threshold_model performance_range  \n",
       " 0       GPT-4-0314       [86.0, 100]  \n",
       " 1       GPT-4-0314       [86.0, 100]  \n",
       " 2       GPT-4-0314       [86.0, 100]  \n",
       " 3       GPT-4-0314       [86.0, 100]  \n",
       " 4       GPT-4-0314       [86.0, 100]  \n",
       " \n",
       " [5 rows x 22 columns],\n",
       "                   Model Name Release Date  USD per 1M Tokens  MMLU  \\\n",
       " 0                GPT-4 Turbo   2023-11-06             15.000  87.0   \n",
       " 1             GPT-4o-2024-05   2024-05-13              7.500  87.0   \n",
       " 2  Claude-3.5-Sonnet-2024-06   2024-06-20              6.000  88.0   \n",
       " 3    Llama-3.1-Instruct-405B   2024-07-23              3.500  87.0   \n",
       " 4           Gemini 2.0 Flash   2025-02-05              0.175  88.0   \n",
       " \n",
       "    GPQA Diamond  HumanEval  MATH-500  LMSys Chatbot Arena ELO  MATH 5  \\\n",
       " 0          50.0       92.0      74.0                   1256.0    36.0   \n",
       " 1          53.0       94.0      79.0                   1285.0    48.0   \n",
       " 2          56.0       90.0      71.0                   1268.0    46.0   \n",
       " 3          50.0       87.0      70.0                   1266.0    45.0   \n",
       " 4          62.0       90.0      93.0                   1358.0    82.0   \n",
       " \n",
       "    Tokens per Second  ...                  Model Name and Date  \\\n",
       " 0               39.2  ...                GPT-4 Turbo (2023-11)   \n",
       " 1               86.4  ...             GPT-4o-2024-05 (2024-05)   \n",
       " 2               55.9  ...  Claude-3.5-Sonnet-2024-06 (2024-06)   \n",
       " 3               27.9  ...    Llama-3.1-Instruct-405B (2024-07)   \n",
       " 4                NaN  ...           Gemini 2.0 Flash (2025-02)   \n",
       " \n",
       "    MMLU price-performance   price  log_price    date  predicted_log_price  \\\n",
       " 0                5.800000  15.000   1.176091  738830            30.753921   \n",
       " 1               11.600000   7.500   0.875061  739019             4.823277   \n",
       " 2               14.666667   6.000   0.778151  739057             3.323374   \n",
       " 3               24.857143   3.500   0.544068  739090             2.404921   \n",
       " 4              502.857143   0.175  -0.756962  739287             0.348728   \n",
       " \n",
       "    benchmark_score  bench  threshold_model performance_range  \n",
       " 0             87.0   MMLU      GPT-4 Turbo       [87.0, 100]  \n",
       " 1             87.0   MMLU      GPT-4 Turbo       [87.0, 100]  \n",
       " 2             88.0   MMLU      GPT-4 Turbo       [87.0, 100]  \n",
       " 3             87.0   MMLU      GPT-4 Turbo       [87.0, 100]  \n",
       " 4             88.0   MMLU      GPT-4 Turbo       [87.0, 100]  \n",
       " \n",
       " [5 rows x 22 columns],\n",
       "                  Model Name Release Date  USD per 1M Tokens  MMLU  \\\n",
       " 0                GPT-4-0314   2023-03-14            37.5000  86.0   \n",
       " 1               GPT-4 Turbo   2023-11-06            15.0000  87.0   \n",
       " 2     Mistral-Large-2024-02   2024-02-26             6.0000  69.0   \n",
       " 3            Claude-3-Haiku   2024-03-04             0.5000  71.0   \n",
       " 4  Gemini-1.5-Flash-2024-05   2024-05-10             0.1300  79.0   \n",
       " 5                     Phi 4   2024-12-13             0.1225  85.0   \n",
       " \n",
       "    GPQA Diamond  HumanEval  MATH-500  LMSys Chatbot Arena ELO  MATH 5  \\\n",
       " 0          33.0       67.0       NaN                   1186.0     NaN   \n",
       " 1          50.0       92.0      74.0                   1256.0    36.0   \n",
       " 2          36.0       69.0      49.0                   1157.0    21.0   \n",
       " 3          33.0       77.0      39.0                   1179.0    13.0   \n",
       " 4          39.0        NaN      55.0                   1227.0    23.0   \n",
       " 5          53.0       87.0      81.0                   1204.0    65.0   \n",
       " \n",
       "    Tokens per Second  ...                 Model Name and Date  \\\n",
       " 0               23.6  ...                GPT-4-0314 (2023-03)   \n",
       " 1               39.2  ...               GPT-4 Turbo (2023-11)   \n",
       " 2               37.8  ...     Mistral-Large-2024-02 (2024-02)   \n",
       " 3              122.7  ...            Claude-3-Haiku (2024-03)   \n",
       " 4              298.4  ...  Gemini-1.5-Flash-2024-05 (2024-05)   \n",
       " 5                NaN  ...                     Phi 4 (2024-12)   \n",
       " \n",
       "    MMLU price-performance    price  log_price    date  predicted_log_price  \\\n",
       " 0                2.293333  37.5000   1.574031  738593            53.030515   \n",
       " 1                5.800000  15.0000   1.176091  738830             4.681641   \n",
       " 2               11.500000   6.0000   0.778151  738942             1.486774   \n",
       " 3              142.000000   0.5000  -0.301030  738949             1.383918   \n",
       " 4              607.692308   0.1300  -0.886057  739016             0.696800   \n",
       " 5              693.877551   0.1225  -0.911864  739233             0.075498   \n",
       " \n",
       "    benchmark_score         bench  threshold_model performance_range  \n",
       " 0             33.0  GPQA Diamond       GPT-4-0314       [33.0, 100]  \n",
       " 1             50.0  GPQA Diamond       GPT-4-0314       [33.0, 100]  \n",
       " 2             36.0  GPQA Diamond       GPT-4-0314       [33.0, 100]  \n",
       " 3             33.0  GPQA Diamond       GPT-4-0314       [33.0, 100]  \n",
       " 4             39.0  GPQA Diamond       GPT-4-0314       [33.0, 100]  \n",
       " 5             53.0  GPQA Diamond       GPT-4-0314       [33.0, 100]  \n",
       " \n",
       " [6 rows x 22 columns],\n",
       "                   Model Name Release Date  USD per 1M Tokens  MMLU  \\\n",
       " 0                GPT-4 Turbo   2023-11-06            15.0000  87.0   \n",
       " 1             GPT-4o-2024-05   2024-05-13             7.5000  87.0   \n",
       " 2  Claude-3.5-Sonnet-2024-06   2024-06-20             6.0000  88.0   \n",
       " 3    Llama-3.1-Instruct-405B   2024-07-23             3.5000  87.0   \n",
       " 4     Gemini-1.5-Pro-2024-09   2024-09-24             2.1900  86.0   \n",
       " 5                      Phi 4   2024-12-13             0.1225  85.0   \n",
       " \n",
       "    GPQA Diamond  HumanEval  MATH-500  LMSys Chatbot Arena ELO  MATH 5  \\\n",
       " 0          50.0       92.0      74.0                   1256.0    36.0   \n",
       " 1          53.0       94.0      79.0                   1285.0    48.0   \n",
       " 2          56.0       90.0      71.0                   1268.0    46.0   \n",
       " 3          50.0       87.0      70.0                   1266.0    45.0   \n",
       " 4          61.0       88.0      88.0                   1301.0    67.0   \n",
       " 5          53.0       87.0      81.0                   1204.0    65.0   \n",
       " \n",
       "    Tokens per Second  ...                  Model Name and Date  \\\n",
       " 0               39.2  ...                GPT-4 Turbo (2023-11)   \n",
       " 1               86.4  ...             GPT-4o-2024-05 (2024-05)   \n",
       " 2               55.9  ...  Claude-3.5-Sonnet-2024-06 (2024-06)   \n",
       " 3               27.9  ...    Llama-3.1-Instruct-405B (2024-07)   \n",
       " 4               59.1  ...     Gemini-1.5-Pro-2024-09 (2024-09)   \n",
       " 5                NaN  ...                      Phi 4 (2024-12)   \n",
       " \n",
       "    MMLU price-performance    price  log_price    date  predicted_log_price  \\\n",
       " 0                5.800000  15.0000   1.176091  738830            34.114871   \n",
       " 1               11.600000   7.5000   0.875061  739019             4.685485   \n",
       " 2               14.666667   6.0000   0.778151  739057             3.143434   \n",
       " 3               24.857143   3.5000   0.544068  739090             2.222610   \n",
       " 4               39.269406   2.1900   0.340444  739153             1.146745   \n",
       " 5              693.877551   0.1225  -0.911864  739233             0.494902   \n",
       " \n",
       "    benchmark_score         bench  threshold_model performance_range  \n",
       " 0             50.0  GPQA Diamond      GPT-4 Turbo       [50.0, 100]  \n",
       " 1             53.0  GPQA Diamond      GPT-4 Turbo       [50.0, 100]  \n",
       " 2             56.0  GPQA Diamond      GPT-4 Turbo       [50.0, 100]  \n",
       " 3             50.0  GPQA Diamond      GPT-4 Turbo       [50.0, 100]  \n",
       " 4             61.0  GPQA Diamond      GPT-4 Turbo       [50.0, 100]  \n",
       " 5             53.0  GPQA Diamond      GPT-4 Turbo       [50.0, 100]  \n",
       " \n",
       " [6 rows x 22 columns],\n",
       "                   Model Name Release Date  USD per 1M Tokens  MMLU  \\\n",
       " 0             GPT-4o-2024-05   2024-05-13             7.5000  87.0   \n",
       " 1  Claude-3.5-Sonnet-2024-06   2024-06-20             6.0000  88.0   \n",
       " 2     Gemini-1.5-Pro-2024-09   2024-09-24             2.1900  86.0   \n",
       " 3                      Phi 4   2024-12-13             0.1225  85.0   \n",
       " \n",
       "    GPQA Diamond  HumanEval  MATH-500  LMSys Chatbot Arena ELO  MATH 5  \\\n",
       " 0          53.0       94.0      79.0                   1285.0    48.0   \n",
       " 1          56.0       90.0      71.0                   1268.0    46.0   \n",
       " 2          61.0       88.0      88.0                   1301.0    67.0   \n",
       " 3          53.0       87.0      81.0                   1204.0    65.0   \n",
       " \n",
       "    Tokens per Second  ...                  Model Name and Date  \\\n",
       " 0               86.4  ...             GPT-4o-2024-05 (2024-05)   \n",
       " 1               55.9  ...  Claude-3.5-Sonnet-2024-06 (2024-06)   \n",
       " 2               59.1  ...     Gemini-1.5-Pro-2024-09 (2024-09)   \n",
       " 3                NaN  ...                      Phi 4 (2024-12)   \n",
       " \n",
       "    MMLU price-performance   price  log_price    date  predicted_log_price  \\\n",
       " 0               11.600000  7.5000   0.875061  739019            11.094182   \n",
       " 1               14.666667  6.0000   0.778151  739057             5.496078   \n",
       " 2               39.269406  2.1900   0.340444  739153             0.932008   \n",
       " 3              693.877551  0.1225  -0.911864  739233             0.212434   \n",
       " \n",
       "    benchmark_score         bench  threshold_model performance_range  \n",
       " 0             53.0  GPQA Diamond   GPT-4o-2024-05       [53.0, 100]  \n",
       " 1             56.0  GPQA Diamond   GPT-4o-2024-05       [53.0, 100]  \n",
       " 2             61.0  GPQA Diamond   GPT-4o-2024-05       [53.0, 100]  \n",
       " 3             53.0  GPQA Diamond   GPT-4o-2024-05       [53.0, 100]  \n",
       " \n",
       " [4 rows x 22 columns],\n",
       "                   Model Name Release Date  USD per 1M Tokens  MMLU  \\\n",
       " 0  Claude-3.5-Sonnet-2024-06   2024-06-20             6.0000  88.0   \n",
       " 1     Gemini-1.5-Pro-2024-09   2024-09-24             2.1900  86.0   \n",
       " 2                DeepSeek-V3   2024-12-26             0.4775   NaN   \n",
       " 3           Gemini 2.0 Flash   2025-02-05             0.1750  88.0   \n",
       " \n",
       "    GPQA Diamond  HumanEval  MATH-500  LMSys Chatbot Arena ELO  MATH 5  \\\n",
       " 0          56.0       90.0      71.0                   1268.0    46.0   \n",
       " 1          61.0       88.0      88.0                   1301.0    67.0   \n",
       " 2          57.0       91.0      89.0                   1318.0    65.0   \n",
       " 3          62.0       90.0      93.0                   1358.0    82.0   \n",
       " \n",
       "    Tokens per Second  ...                  Model Name and Date  \\\n",
       " 0               55.9  ...  Claude-3.5-Sonnet-2024-06 (2024-06)   \n",
       " 1               59.1  ...     Gemini-1.5-Pro-2024-09 (2024-09)   \n",
       " 2                NaN  ...                DeepSeek-V3 (2024-12)   \n",
       " 3                NaN  ...           Gemini 2.0 Flash (2025-02)   \n",
       " \n",
       "    MMLU price-performance   price  log_price    date  predicted_log_price  \\\n",
       " 0               14.666667  6.0000   0.778151  739057             7.189651   \n",
       " 1               39.269406  2.1900   0.340444  739153             1.680696   \n",
       " 2                     NaN  0.4775  -0.321027  739246             0.411146   \n",
       " 3              502.857143  0.1750  -0.756962  739287             0.221011   \n",
       " \n",
       "    benchmark_score         bench            threshold_model performance_range  \n",
       " 0             56.0  GPQA Diamond  Claude-3.5-Sonnet-2024-06       [56.0, 100]  \n",
       " 1             61.0  GPQA Diamond  Claude-3.5-Sonnet-2024-06       [56.0, 100]  \n",
       " 2             57.0  GPQA Diamond  Claude-3.5-Sonnet-2024-06       [56.0, 100]  \n",
       " 3             62.0  GPQA Diamond  Claude-3.5-Sonnet-2024-06       [56.0, 100]  \n",
       " \n",
       " [4 rows x 22 columns],\n",
       "                  Model Name Release Date  USD per 1M Tokens  MMLU  \\\n",
       " 0     GPT-3.5-Turbo-2023-06   2023-06-13               3.25  68.0   \n",
       " 1     GPT-3.5-Turbo-2023-11   2023-11-06               0.75  68.0   \n",
       " 2  Gemini-1.5-Flash-2024-05   2024-05-10               0.13  79.0   \n",
       " 3     Llama-3.1-Instruct-8B   2024-07-23               0.10  71.0   \n",
       " 4     Llama-3.2-Instruct-3B   2024-09-24               0.08  64.0   \n",
       " 5       Gemini-1.5-Flash-8B   2024-10-03               0.07  75.0   \n",
       " \n",
       "    GPQA Diamond  HumanEval  MATH-500  LMSys Chatbot Arena ELO  MATH 5  \\\n",
       " 0          28.8       71.0      44.0                   1117.0    15.0   \n",
       " 1          30.0       71.0      44.0                   1107.0    15.0   \n",
       " 2          39.0        NaN      55.0                   1227.0    23.0   \n",
       " 3          27.0       67.0      50.0                   1172.0    22.0   \n",
       " 4          21.0       60.0      50.0                   1103.0     NaN   \n",
       " 5          30.0       12.0      70.0                   1211.0     NaN   \n",
       " \n",
       "    Tokens per Second  ...                 Model Name and Date  \\\n",
       " 0                NaN  ...     GPT-3.5-Turbo-2023-06 (2023-06)   \n",
       " 1              121.5  ...     GPT-3.5-Turbo-2023-11 (2023-11)   \n",
       " 2              298.4  ...  Gemini-1.5-Flash-2024-05 (2024-05)   \n",
       " 3              164.3  ...     Llama-3.1-Instruct-8B (2024-07)   \n",
       " 4              200.3  ...     Llama-3.2-Instruct-3B (2024-09)   \n",
       " 5              285.2  ...       Gemini-1.5-Flash-8B (2024-10)   \n",
       " \n",
       "    MMLU price-performance price  log_price    date  predicted_log_price  \\\n",
       " 0               20.923077  3.25   0.511883  738684             2.660398   \n",
       " 1               90.666667  0.75  -0.124939  738830             0.836662   \n",
       " 2              607.692308  0.13  -0.886057  739016             0.191651   \n",
       " 3              710.000000  0.10  -1.000000  739090             0.106628   \n",
       " 4              800.000000  0.08  -1.096910  739153             0.064727   \n",
       " 5             1071.428571  0.07  -1.154902  739162             0.060272   \n",
       " \n",
       "    benchmark_score     bench        threshold_model performance_range  \n",
       " 0             44.0  MATH-500  GPT-3.5-Turbo-2023-06       [44.0, 100]  \n",
       " 1             44.0  MATH-500  GPT-3.5-Turbo-2023-06       [44.0, 100]  \n",
       " 2             55.0  MATH-500  GPT-3.5-Turbo-2023-06       [44.0, 100]  \n",
       " 3             50.0  MATH-500  GPT-3.5-Turbo-2023-06       [44.0, 100]  \n",
       " 4             50.0  MATH-500  GPT-3.5-Turbo-2023-06       [44.0, 100]  \n",
       " 5             70.0  MATH-500  GPT-3.5-Turbo-2023-06       [44.0, 100]  \n",
       " \n",
       " [6 rows x 22 columns],\n",
       "                  Model Name Release Date  USD per 1M Tokens  MMLU  \\\n",
       " 0               GPT-4 Turbo   2023-11-06            15.0000  87.0   \n",
       " 1            GPT-4o-2024-05   2024-05-13             7.5000  87.0   \n",
       " 2               GPT-4o-mini   2024-07-18             0.2600  82.0   \n",
       " 3    DeepSeek-Coder-V2 236B   2024-09-11             0.1750  79.2   \n",
       " 4  Gemini-1.5-Flash-2024-09   2024-09-24             0.1300  75.0   \n",
       " 5                     Phi 4   2024-12-13             0.1225  85.0   \n",
       " \n",
       "    GPQA Diamond  HumanEval  MATH-500  LMSys Chatbot Arena ELO  MATH 5  \\\n",
       " 0          50.0       92.0      74.0                   1256.0    36.0   \n",
       " 1          53.0       94.0      79.0                   1285.0    48.0   \n",
       " 2          43.0       88.0      79.0                   1273.0    48.0   \n",
       " 3           NaN       87.0      74.0                   1178.0     NaN   \n",
       " 4          45.0       83.0      83.0                   1271.0    58.0   \n",
       " 5          53.0       87.0      81.0                   1204.0    65.0   \n",
       " \n",
       "    Tokens per Second  ...                 Model Name and Date  \\\n",
       " 0               39.2  ...               GPT-4 Turbo (2023-11)   \n",
       " 1               86.4  ...            GPT-4o-2024-05 (2024-05)   \n",
       " 2              112.2  ...               GPT-4o-mini (2024-07)   \n",
       " 3                NaN  ...    DeepSeek-Coder-V2 236B (2024-09)   \n",
       " 4              190.5  ...  Gemini-1.5-Flash-2024-09 (2024-09)   \n",
       " 5                NaN  ...                     Phi 4 (2024-12)   \n",
       " \n",
       "    MMLU price-performance    price  log_price    date  predicted_log_price  \\\n",
       " 0                5.800000  15.0000   1.176091  738830            21.367567   \n",
       " 1               11.600000   7.5000   0.875061  739019             1.485381   \n",
       " 2              315.384615   0.2600  -0.585027  739085             0.585445   \n",
       " 3              452.571429   0.1750  -0.756962  739140             0.269480   \n",
       " 4              576.923077   0.1300  -0.886057  739153             0.224327   \n",
       " 5              693.877551   0.1225  -0.911864  739233             0.072570   \n",
       " \n",
       "    benchmark_score     bench  threshold_model performance_range  \n",
       " 0             74.0  MATH-500      GPT-4 Turbo       [74.0, 100]  \n",
       " 1             79.0  MATH-500      GPT-4 Turbo       [74.0, 100]  \n",
       " 2             79.0  MATH-500      GPT-4 Turbo       [74.0, 100]  \n",
       " 3             74.0  MATH-500      GPT-4 Turbo       [74.0, 100]  \n",
       " 4             83.0  MATH-500      GPT-4 Turbo       [74.0, 100]  \n",
       " 5             81.0  MATH-500      GPT-4 Turbo       [74.0, 100]  \n",
       " \n",
       " [6 rows x 22 columns],\n",
       "                  Model Name Release Date  USD per 1M Tokens  MMLU  \\\n",
       " 0            GPT-4o-2024-05   2024-05-13             7.5000  87.0   \n",
       " 1               GPT-4o-mini   2024-07-18             0.2600  82.0   \n",
       " 2  Gemini-1.5-Flash-2024-09   2024-09-24             0.1300  75.0   \n",
       " 3                     Phi 4   2024-12-13             0.1225  85.0   \n",
       " \n",
       "    GPQA Diamond  HumanEval  MATH-500  LMSys Chatbot Arena ELO  MATH 5  \\\n",
       " 0          53.0       94.0      79.0                   1285.0    48.0   \n",
       " 1          43.0       88.0      79.0                   1273.0    48.0   \n",
       " 2          45.0       83.0      83.0                   1271.0    58.0   \n",
       " 3          53.0       87.0      81.0                   1204.0    65.0   \n",
       " \n",
       "    Tokens per Second  ...                 Model Name and Date  \\\n",
       " 0               86.4  ...            GPT-4o-2024-05 (2024-05)   \n",
       " 1              112.2  ...               GPT-4o-mini (2024-07)   \n",
       " 2              190.5  ...  Gemini-1.5-Flash-2024-09 (2024-09)   \n",
       " 3                NaN  ...                     Phi 4 (2024-12)   \n",
       " \n",
       "    MMLU price-performance   price  log_price    date  predicted_log_price  \\\n",
       " 0               11.600000  7.5000   0.875061  739019             2.678261   \n",
       " 1              315.384615  0.2600  -0.585027  739085             0.821545   \n",
       " 2              576.923077  0.1300  -0.886057  739153             0.243141   \n",
       " 3              693.877551  0.1225  -0.911864  739233             0.058046   \n",
       " \n",
       "    benchmark_score     bench  threshold_model performance_range  \n",
       " 0             79.0  MATH-500   GPT-4o-2024-05       [79.0, 100]  \n",
       " 1             79.0  MATH-500   GPT-4o-2024-05       [79.0, 100]  \n",
       " 2             83.0  MATH-500   GPT-4o-2024-05       [79.0, 100]  \n",
       " 3             81.0  MATH-500   GPT-4o-2024-05       [79.0, 100]  \n",
       " \n",
       " [4 rows x 22 columns],\n",
       "                  Model Name Release Date  USD per 1M Tokens  MMLU  \\\n",
       " 0                GPT-4-0613   2023-06-13            37.5000   NaN   \n",
       " 1               GPT-4 Turbo   2023-11-06            15.0000  87.0   \n",
       " 2              Mistral-8x22   2024-04-17             1.2000  76.0   \n",
       " 3  Gemini-1.5-Flash-2024-05   2024-05-10             0.1300  79.0   \n",
       " 4                     Phi 4   2024-12-13             0.1225  85.0   \n",
       " \n",
       "    GPQA Diamond  HumanEval  MATH-500  LMSys Chatbot Arena ELO  MATH 5  \\\n",
       " 0          31.0        NaN       NaN                   1163.0    23.0   \n",
       " 1          50.0       92.0      74.0                   1256.0    36.0   \n",
       " 2          37.0       74.0      56.0                   1148.0    23.0   \n",
       " 3          39.0        NaN      55.0                   1227.0    23.0   \n",
       " 4          53.0       87.0      81.0                   1204.0    65.0   \n",
       " \n",
       "    Tokens per Second  ...                 Model Name and Date  \\\n",
       " 0                NaN  ...                GPT-4-0613 (2023-06)   \n",
       " 1               39.2  ...               GPT-4 Turbo (2023-11)   \n",
       " 2               85.3  ...              Mistral-8x22 (2024-04)   \n",
       " 3              298.4  ...  Gemini-1.5-Flash-2024-05 (2024-05)   \n",
       " 4                NaN  ...                     Phi 4 (2024-12)   \n",
       " \n",
       "    MMLU price-performance    price  log_price    date  predicted_log_price  \\\n",
       " 0                     NaN  37.5000   1.574031  738684            37.045854   \n",
       " 1                5.800000  15.0000   1.176091  738830             6.672369   \n",
       " 2               63.333333   1.2000   0.079181  738993             0.984321   \n",
       " 3              607.692308   0.1300  -0.886057  739016             0.751379   \n",
       " 4              693.877551   0.1225  -0.911864  739233             0.058799   \n",
       " \n",
       "    benchmark_score   bench  threshold_model performance_range  \n",
       " 0             23.0  MATH 5       GPT-4-0613       [23.0, 100]  \n",
       " 1             36.0  MATH 5       GPT-4-0613       [23.0, 100]  \n",
       " 2             23.0  MATH 5       GPT-4-0613       [23.0, 100]  \n",
       " 3             23.0  MATH 5       GPT-4-0613       [23.0, 100]  \n",
       " 4             65.0  MATH 5       GPT-4-0613       [23.0, 100]  \n",
       " \n",
       " [5 rows x 22 columns],\n",
       "                  Model Name Release Date  USD per 1M Tokens  MMLU  \\\n",
       " 0               GPT-4 Turbo   2023-11-06            15.0000  87.0   \n",
       " 1            GPT-4o-2024-05   2024-05-13             7.5000  87.0   \n",
       " 2    Gemini-1.5-Pro-2024-05   2024-05-23             2.1900  86.0   \n",
       " 3               GPT-4o-mini   2024-07-18             0.2600  82.0   \n",
       " 4  Gemini-1.5-Flash-2024-09   2024-09-24             0.1300  75.0   \n",
       " 5                     Phi 4   2024-12-13             0.1225  85.0   \n",
       " \n",
       "    GPQA Diamond  HumanEval  MATH-500  LMSys Chatbot Arena ELO  MATH 5  \\\n",
       " 0          50.0       92.0      74.0                   1256.0    36.0   \n",
       " 1          53.0       94.0      79.0                   1285.0    48.0   \n",
       " 2          46.0       83.0      66.0                   1260.0    41.0   \n",
       " 3          43.0       88.0      79.0                   1273.0    48.0   \n",
       " 4          45.0       83.0      83.0                   1271.0    58.0   \n",
       " 5          53.0       87.0      81.0                   1204.0    65.0   \n",
       " \n",
       "    Tokens per Second  ...                 Model Name and Date  \\\n",
       " 0               39.2  ...               GPT-4 Turbo (2023-11)   \n",
       " 1               86.4  ...            GPT-4o-2024-05 (2024-05)   \n",
       " 2               64.8  ...    Gemini-1.5-Pro-2024-05 (2024-05)   \n",
       " 3              112.2  ...               GPT-4o-mini (2024-07)   \n",
       " 4              190.5  ...  Gemini-1.5-Flash-2024-09 (2024-09)   \n",
       " 5                NaN  ...                     Phi 4 (2024-12)   \n",
       " \n",
       "    MMLU price-performance    price  log_price    date  predicted_log_price  \\\n",
       " 0                5.800000  15.0000   1.176091  738830            23.906056   \n",
       " 1               11.600000   7.5000   0.875061  739019             1.729124   \n",
       " 2               39.269406   2.1900   0.340444  739029             1.504779   \n",
       " 3              315.384615   0.2600  -0.585027  739085             0.691024   \n",
       " 4              576.923077   0.1300  -0.886057  739153             0.268589   \n",
       " 5              693.877551   0.1225  -0.911864  739233             0.088361   \n",
       " \n",
       "    benchmark_score   bench  threshold_model performance_range  \n",
       " 0             36.0  MATH 5      GPT-4 Turbo       [36.0, 100]  \n",
       " 1             48.0  MATH 5      GPT-4 Turbo       [36.0, 100]  \n",
       " 2             41.0  MATH 5      GPT-4 Turbo       [36.0, 100]  \n",
       " 3             48.0  MATH 5      GPT-4 Turbo       [36.0, 100]  \n",
       " 4             58.0  MATH 5      GPT-4 Turbo       [36.0, 100]  \n",
       " 5             65.0  MATH 5      GPT-4 Turbo       [36.0, 100]  \n",
       " \n",
       " [6 rows x 22 columns],\n",
       "                  Model Name Release Date  USD per 1M Tokens  MMLU  \\\n",
       " 0            GPT-4o-2024-05   2024-05-13             7.5000  87.0   \n",
       " 1               GPT-4o-mini   2024-07-18             0.2600  82.0   \n",
       " 2  Gemini-1.5-Flash-2024-09   2024-09-24             0.1300  75.0   \n",
       " 3                     Phi 4   2024-12-13             0.1225  85.0   \n",
       " \n",
       "    GPQA Diamond  HumanEval  MATH-500  LMSys Chatbot Arena ELO  MATH 5  \\\n",
       " 0          53.0       94.0      79.0                   1285.0    48.0   \n",
       " 1          43.0       88.0      79.0                   1273.0    48.0   \n",
       " 2          45.0       83.0      83.0                   1271.0    58.0   \n",
       " 3          53.0       87.0      81.0                   1204.0    65.0   \n",
       " \n",
       "    Tokens per Second  ...                 Model Name and Date  \\\n",
       " 0               86.4  ...            GPT-4o-2024-05 (2024-05)   \n",
       " 1              112.2  ...               GPT-4o-mini (2024-07)   \n",
       " 2              190.5  ...  Gemini-1.5-Flash-2024-09 (2024-09)   \n",
       " 3                NaN  ...                     Phi 4 (2024-12)   \n",
       " \n",
       "    MMLU price-performance   price  log_price    date  predicted_log_price  \\\n",
       " 0               11.600000  7.5000   0.875061  739019             2.678261   \n",
       " 1              315.384615  0.2600  -0.585027  739085             0.821545   \n",
       " 2              576.923077  0.1300  -0.886057  739153             0.243141   \n",
       " 3              693.877551  0.1225  -0.911864  739233             0.058046   \n",
       " \n",
       "    benchmark_score   bench  threshold_model performance_range  \n",
       " 0             48.0  MATH 5   GPT-4o-2024-05       [48.0, 100]  \n",
       " 1             48.0  MATH 5   GPT-4o-2024-05       [48.0, 100]  \n",
       " 2             58.0  MATH 5   GPT-4o-2024-05       [48.0, 100]  \n",
       " 3             65.0  MATH 5   GPT-4o-2024-05       [48.0, 100]  \n",
       " \n",
       " [4 rows x 22 columns],\n",
       "               Model Name Release Date  USD per 1M Tokens  MMLU  GPQA Diamond  \\\n",
       " 0             GPT-4-0314   2023-03-14              37.50  86.0          33.0   \n",
       " 1  GPT-3.5-Turbo-2023-06   2023-06-13               3.25  68.0          28.8   \n",
       " 2  GPT-3.5-Turbo-2023-11   2023-11-06               0.75  68.0          30.0   \n",
       " 3         Claude-3-Haiku   2024-03-04               0.50  71.0          33.0   \n",
       " 4            Gemma-2-27B   2024-06-24               0.26  77.0          39.0   \n",
       " 5           Mistral-NeMo   2024-07-18               0.13  66.0          33.0   \n",
       " 6  Llama-3.1-Instruct-8B   2024-07-23               0.10  71.0          27.0   \n",
       " \n",
       "    HumanEval  MATH-500  LMSys Chatbot Arena ELO  MATH 5  Tokens per Second  \\\n",
       " 0       67.0       NaN                   1186.0     NaN               23.6   \n",
       " 1       71.0      44.0                   1117.0    15.0                NaN   \n",
       " 2       71.0      44.0                   1107.0    15.0              121.5   \n",
       " 3       77.0      39.0                   1179.0    13.0              122.7   \n",
       " 4       76.0      54.0                   1219.0    23.0               47.9   \n",
       " 5       71.0      44.0                      NaN    10.0               88.3   \n",
       " 6       67.0      50.0                   1172.0    22.0              164.3   \n",
       " \n",
       "    ...              Model Name and Date  MMLU price-performance  price  \\\n",
       " 0  ...             GPT-4-0314 (2023-03)                2.293333  37.50   \n",
       " 1  ...  GPT-3.5-Turbo-2023-06 (2023-06)               20.923077   3.25   \n",
       " 2  ...  GPT-3.5-Turbo-2023-11 (2023-11)               90.666667   0.75   \n",
       " 3  ...         Claude-3-Haiku (2024-03)              142.000000   0.50   \n",
       " 4  ...            Gemma-2-27B (2024-06)              296.153846   0.26   \n",
       " 5  ...           Mistral-NeMo (2024-07)              507.692308   0.13   \n",
       " 6  ...  Llama-3.1-Instruct-8B (2024-07)              710.000000   0.10   \n",
       " \n",
       "    log_price    date  predicted_log_price  benchmark_score      bench  \\\n",
       " 0   1.574031  738593            15.720657             67.0  HumanEval   \n",
       " 1   0.511883  738684             6.397572             71.0  HumanEval   \n",
       " 2  -0.124939  738830             1.512063             71.0  HumanEval   \n",
       " 3  -0.301030  738949             0.466632             77.0  HumanEval   \n",
       " 4  -0.585027  739061             0.154317             76.0  HumanEval   \n",
       " 5  -0.886057  739085             0.121741             71.0  HumanEval   \n",
       " 6  -1.000000  739090             0.115873             67.0  HumanEval   \n",
       " \n",
       "    threshold_model performance_range  \n",
       " 0       GPT-4-0314       [67.0, 100]  \n",
       " 1       GPT-4-0314       [67.0, 100]  \n",
       " 2       GPT-4-0314       [67.0, 100]  \n",
       " 3       GPT-4-0314       [67.0, 100]  \n",
       " 4       GPT-4-0314       [67.0, 100]  \n",
       " 5       GPT-4-0314       [67.0, 100]  \n",
       " 6       GPT-4-0314       [67.0, 100]  \n",
       " \n",
       " [7 rows x 22 columns],\n",
       "               Model Name Release Date  USD per 1M Tokens  MMLU  GPQA Diamond  \\\n",
       " 0  GPT-3.5-Turbo-2023-06   2023-06-13             3.2500  68.0          28.8   \n",
       " 1  GPT-3.5-Turbo-2023-11   2023-11-06             0.7500  68.0          30.0   \n",
       " 2         Claude-3-Haiku   2024-03-04             0.5000  71.0          33.0   \n",
       " 3            Gemma-2-27B   2024-06-24             0.2600  77.0          39.0   \n",
       " 4           Mistral-NeMo   2024-07-18             0.1300  66.0          33.0   \n",
       " 5                  Phi 4   2024-12-13             0.1225  85.0          53.0   \n",
       " \n",
       "    HumanEval  MATH-500  LMSys Chatbot Arena ELO  MATH 5  Tokens per Second  \\\n",
       " 0       71.0      44.0                   1117.0    15.0                NaN   \n",
       " 1       71.0      44.0                   1107.0    15.0              121.5   \n",
       " 2       77.0      39.0                   1179.0    13.0              122.7   \n",
       " 3       76.0      54.0                   1219.0    23.0               47.9   \n",
       " 4       71.0      44.0                      NaN    10.0               88.3   \n",
       " 5       87.0      81.0                   1204.0    65.0                NaN   \n",
       " \n",
       "    ...              Model Name and Date  MMLU price-performance   price  \\\n",
       " 0  ...  GPT-3.5-Turbo-2023-06 (2023-06)               20.923077  3.2500   \n",
       " 1  ...  GPT-3.5-Turbo-2023-11 (2023-11)               90.666667  0.7500   \n",
       " 2  ...         Claude-3-Haiku (2024-03)              142.000000  0.5000   \n",
       " 3  ...            Gemma-2-27B (2024-06)              296.153846  0.2600   \n",
       " 4  ...           Mistral-NeMo (2024-07)              507.692308  0.1300   \n",
       " 5  ...                  Phi 4 (2024-12)              693.877551  0.1225   \n",
       " \n",
       "    log_price    date  predicted_log_price  benchmark_score      bench  \\\n",
       " 0   0.511883  738684             2.418438             71.0  HumanEval   \n",
       " 1  -0.124939  738830             0.993714             71.0  HumanEval   \n",
       " 2  -0.301030  738949             0.481307             77.0  HumanEval   \n",
       " 3  -0.585027  739061             0.243278             76.0  HumanEval   \n",
       " 4  -0.886057  739085             0.210187             71.0  HumanEval   \n",
       " 5  -0.911864  739233             0.085318             87.0  HumanEval   \n",
       " \n",
       "          threshold_model performance_range  \n",
       " 0  GPT-3.5-Turbo-2023-06       [71.0, 100]  \n",
       " 1  GPT-3.5-Turbo-2023-06       [71.0, 100]  \n",
       " 2  GPT-3.5-Turbo-2023-06       [71.0, 100]  \n",
       " 3  GPT-3.5-Turbo-2023-06       [71.0, 100]  \n",
       " 4  GPT-3.5-Turbo-2023-06       [71.0, 100]  \n",
       " 5  GPT-3.5-Turbo-2023-06       [71.0, 100]  \n",
       " \n",
       " [6 rows x 22 columns],\n",
       "                  Model Name Release Date  USD per 1M Tokens  MMLU  \\\n",
       " 0             GPT-3.5 Turbo   2023-03-06               2.00  68.0   \n",
       " 1     GPT-3.5-Turbo-2023-11   2023-11-06               0.75  68.0   \n",
       " 2            Claude-3-Haiku   2024-03-04               0.50  71.0   \n",
       " 3       Llama-3-Instruct-8B   2024-04-18               0.15  64.0   \n",
       " 4  Gemini-1.5-Flash-2024-05   2024-05-10               0.13  79.0   \n",
       " 5     Llama-3.1-Instruct-8B   2024-07-23               0.10  71.0   \n",
       " 6       Gemini-1.5-Flash-8B   2024-10-03               0.07  75.0   \n",
       " \n",
       "    GPQA Diamond  HumanEval  MATH-500  LMSys Chatbot Arena ELO  MATH 5  \\\n",
       " 0           NaN        NaN       NaN                   1106.0     NaN   \n",
       " 1          30.0       71.0      44.0                   1107.0    15.0   \n",
       " 2          33.0       77.0      39.0                   1179.0    13.0   \n",
       " 3          30.0       53.0      32.0                   1152.0     8.0   \n",
       " 4          39.0        NaN      55.0                   1227.0    23.0   \n",
       " 5          27.0       67.0      50.0                   1172.0    22.0   \n",
       " 6          30.0       12.0      70.0                   1211.0     NaN   \n",
       " \n",
       "    Tokens per Second  ...                 Model Name and Date  \\\n",
       " 0                NaN  ...             GPT-3.5 Turbo (2023-03)   \n",
       " 1              121.5  ...     GPT-3.5-Turbo-2023-11 (2023-11)   \n",
       " 2              122.7  ...            Claude-3-Haiku (2024-03)   \n",
       " 3              122.8  ...       Llama-3-Instruct-8B (2024-04)   \n",
       " 4              298.4  ...  Gemini-1.5-Flash-2024-05 (2024-05)   \n",
       " 5              164.3  ...     Llama-3.1-Instruct-8B (2024-07)   \n",
       " 6              285.2  ...       Gemini-1.5-Flash-8B (2024-10)   \n",
       " \n",
       "    MMLU price-performance price  log_price    date  predicted_log_price  \\\n",
       " 0               34.000000  2.00   0.301030  738585             2.531060   \n",
       " 1               90.666667  0.75  -0.124939  738830             0.554388   \n",
       " 2              142.000000  0.50  -0.301030  738949             0.265149   \n",
       " 3              426.666667  0.15  -0.823909  738994             0.200613   \n",
       " 4              607.692308  0.13  -0.886057  739016             0.175041   \n",
       " 5              710.000000  0.10  -1.000000  739090             0.110649   \n",
       " 6             1071.428571  0.07  -1.154902  739162             0.070817   \n",
       " \n",
       "    benchmark_score                    bench  threshold_model performance_range  \n",
       " 0           1106.0  LMSys Chatbot Arena ELO    GPT-3.5 Turbo     [1106.0, inf]  \n",
       " 1           1107.0  LMSys Chatbot Arena ELO    GPT-3.5 Turbo     [1106.0, inf]  \n",
       " 2           1179.0  LMSys Chatbot Arena ELO    GPT-3.5 Turbo     [1106.0, inf]  \n",
       " 3           1152.0  LMSys Chatbot Arena ELO    GPT-3.5 Turbo     [1106.0, inf]  \n",
       " 4           1227.0  LMSys Chatbot Arena ELO    GPT-3.5 Turbo     [1106.0, inf]  \n",
       " 5           1172.0  LMSys Chatbot Arena ELO    GPT-3.5 Turbo     [1106.0, inf]  \n",
       " 6           1211.0  LMSys Chatbot Arena ELO    GPT-3.5 Turbo     [1106.0, inf]  \n",
       " \n",
       " [7 rows x 22 columns],\n",
       "                  Model Name Release Date  USD per 1M Tokens  MMLU  \\\n",
       " 0                GPT-4-0314   2023-03-14              37.50  86.0   \n",
       " 1               GPT-4 Turbo   2023-11-06              15.00  87.0   \n",
       " 2           Claude-3-Sonnet   2024-03-04               6.00  77.0   \n",
       " 3      Llama-3-Instruct-70B   2024-04-18               0.89  79.0   \n",
       " 4  Gemini-1.5-Flash-2024-05   2024-05-10               0.13  79.0   \n",
       " 5       Gemini-1.5-Flash-8B   2024-10-03               0.07  75.0   \n",
       " \n",
       "    GPQA Diamond  HumanEval  MATH-500  LMSys Chatbot Arena ELO  MATH 5  \\\n",
       " 0          33.0       67.0       NaN                   1186.0     NaN   \n",
       " 1          50.0       92.0      74.0                   1256.0    36.0   \n",
       " 2          37.0       71.0      41.0                   1201.0    16.0   \n",
       " 3          39.0       18.0      53.0                   1206.0    22.0   \n",
       " 4          39.0        NaN      55.0                   1227.0    23.0   \n",
       " 5          30.0       12.0      70.0                   1211.0     NaN   \n",
       " \n",
       "    Tokens per Second  ...                 Model Name and Date  \\\n",
       " 0               23.6  ...                GPT-4-0314 (2023-03)   \n",
       " 1               39.2  ...               GPT-4 Turbo (2023-11)   \n",
       " 2               61.8  ...           Claude-3-Sonnet (2024-03)   \n",
       " 3               44.6  ...      Llama-3-Instruct-70B (2024-04)   \n",
       " 4              298.4  ...  Gemini-1.5-Flash-2024-05 (2024-05)   \n",
       " 5              285.2  ...       Gemini-1.5-Flash-8B (2024-10)   \n",
       " \n",
       "    MMLU price-performance  price  log_price    date  predicted_log_price  \\\n",
       " 0                2.293333  37.50   1.574031  738593            87.401415   \n",
       " 1                5.800000  15.00   1.176091  738830             5.282232   \n",
       " 2               12.833333   6.00   0.778151  738949             1.290910   \n",
       " 3               88.764045   0.89  -0.050610  738994             0.757699   \n",
       " 4              607.692308   0.13  -0.886057  739016             0.583941   \n",
       " 5             1071.428571   0.07  -1.154902  739162             0.103659   \n",
       " \n",
       "    benchmark_score                    bench  threshold_model performance_range  \n",
       " 0           1186.0  LMSys Chatbot Arena ELO       GPT-4-0314     [1186.0, inf]  \n",
       " 1           1256.0  LMSys Chatbot Arena ELO       GPT-4-0314     [1186.0, inf]  \n",
       " 2           1201.0  LMSys Chatbot Arena ELO       GPT-4-0314     [1186.0, inf]  \n",
       " 3           1206.0  LMSys Chatbot Arena ELO       GPT-4-0314     [1186.0, inf]  \n",
       " 4           1227.0  LMSys Chatbot Arena ELO       GPT-4-0314     [1186.0, inf]  \n",
       " 5           1211.0  LMSys Chatbot Arena ELO       GPT-4-0314     [1186.0, inf]  \n",
       " \n",
       " [6 rows x 22 columns],\n",
       "                  Model Name Release Date  USD per 1M Tokens  MMLU  \\\n",
       " 0               GPT-4 Turbo   2023-11-06              15.00  87.0   \n",
       " 1            GPT-4o-2024-05   2024-05-13               7.50  87.0   \n",
       " 2    Gemini-1.5-Pro-2024-05   2024-05-23               2.19  86.0   \n",
       " 3               GPT-4o-mini   2024-07-18               0.26  82.0   \n",
       " 4  Gemini-1.5-Flash-2024-09   2024-09-24               0.13  75.0   \n",
       " \n",
       "    GPQA Diamond  HumanEval  MATH-500  LMSys Chatbot Arena ELO  MATH 5  \\\n",
       " 0          50.0       92.0      74.0                   1256.0    36.0   \n",
       " 1          53.0       94.0      79.0                   1285.0    48.0   \n",
       " 2          46.0       83.0      66.0                   1260.0    41.0   \n",
       " 3          43.0       88.0      79.0                   1273.0    48.0   \n",
       " 4          45.0       83.0      83.0                   1271.0    58.0   \n",
       " \n",
       "    Tokens per Second  ...                 Model Name and Date  \\\n",
       " 0               39.2  ...               GPT-4 Turbo (2023-11)   \n",
       " 1               86.4  ...            GPT-4o-2024-05 (2024-05)   \n",
       " 2               64.8  ...    Gemini-1.5-Pro-2024-05 (2024-05)   \n",
       " 3              112.2  ...               GPT-4o-mini (2024-07)   \n",
       " 4              190.5  ...  Gemini-1.5-Flash-2024-09 (2024-09)   \n",
       " \n",
       "    MMLU price-performance  price  log_price    date  predicted_log_price  \\\n",
       " 0                5.800000  15.00   1.176091  738830            28.132356   \n",
       " 1               11.600000   7.50   0.875061  739019             1.627815   \n",
       " 2               39.269406   2.19   0.340444  739029             1.399985   \n",
       " 3              315.384615   0.26  -0.585027  739085             0.601765   \n",
       " 4              576.923077   0.13  -0.886057  739153             0.215850   \n",
       " \n",
       "    benchmark_score                    bench  threshold_model performance_range  \n",
       " 0           1256.0  LMSys Chatbot Arena ELO      GPT-4 Turbo     [1256.0, inf]  \n",
       " 1           1285.0  LMSys Chatbot Arena ELO      GPT-4 Turbo     [1256.0, inf]  \n",
       " 2           1260.0  LMSys Chatbot Arena ELO      GPT-4 Turbo     [1256.0, inf]  \n",
       " 3           1273.0  LMSys Chatbot Arena ELO      GPT-4 Turbo     [1256.0, inf]  \n",
       " 4           1271.0  LMSys Chatbot Arena ELO      GPT-4 Turbo     [1256.0, inf]  \n",
       " \n",
       " [5 rows x 22 columns],\n",
       "                Model Name Release Date  USD per 1M Tokens  MMLU  GPQA Diamond  \\\n",
       " 0          GPT-4o-2024-05   2024-05-13             7.5000  87.0          53.0   \n",
       " 1          GPT-4o-2024-08   2024-08-06             4.3800  89.0          52.0   \n",
       " 2  Gemini-1.5-Pro-2024-09   2024-09-24             2.1900  86.0          61.0   \n",
       " 3             DeepSeek-V3   2024-12-26             0.4775   NaN          57.0   \n",
       " 4        Gemini 2.0 Flash   2025-02-05             0.1750  88.0          62.0   \n",
       " \n",
       "    HumanEval  MATH-500  LMSys Chatbot Arena ELO  MATH 5  Tokens per Second  \\\n",
       " 0       94.0      79.0                   1285.0    48.0               86.4   \n",
       " 1       93.0      80.0                   1337.0    47.0               81.0   \n",
       " 2       88.0      88.0                   1301.0    67.0               59.1   \n",
       " 3       91.0      89.0                   1318.0    65.0                NaN   \n",
       " 4       90.0      93.0                   1358.0    82.0                NaN   \n",
       " \n",
       "    ...               Model Name and Date  MMLU price-performance   price  \\\n",
       " 0  ...          GPT-4o-2024-05 (2024-05)               11.600000  7.5000   \n",
       " 1  ...          GPT-4o-2024-08 (2024-08)               20.319635  4.3800   \n",
       " 2  ...  Gemini-1.5-Pro-2024-09 (2024-09)               39.269406  2.1900   \n",
       " 3  ...             DeepSeek-V3 (2024-12)                     NaN  0.4775   \n",
       " 4  ...        Gemini 2.0 Flash (2025-02)              502.857143  0.1750   \n",
       " \n",
       "    log_price    date  predicted_log_price  benchmark_score  \\\n",
       " 0   0.875061  739019            10.845293           1285.0   \n",
       " 1   0.641474  739104             3.249101           1337.0   \n",
       " 2   0.340444  739153             1.621786           1301.0   \n",
       " 3  -0.321027  739246             0.433758           1318.0   \n",
       " 4  -0.756962  739287             0.242519           1358.0   \n",
       " \n",
       "                      bench  threshold_model performance_range  \n",
       " 0  LMSys Chatbot Arena ELO   GPT-4o-2024-05     [1285.0, inf]  \n",
       " 1  LMSys Chatbot Arena ELO   GPT-4o-2024-05     [1285.0, inf]  \n",
       " 2  LMSys Chatbot Arena ELO   GPT-4o-2024-05     [1285.0, inf]  \n",
       " 3  LMSys Chatbot Arena ELO   GPT-4o-2024-05     [1285.0, inf]  \n",
       " 4  LMSys Chatbot Arena ELO   GPT-4o-2024-05     [1285.0, inf]  \n",
       " \n",
       " [5 rows x 22 columns]]"
      ]
     },
     "execution_count": 30,
     "metadata": {},
     "output_type": "execute_result"
    }
   ],
   "source": [
    "cheapest_models_dfs"
   ]
  },
  {
   "cell_type": "code",
   "execution_count": 31,
   "metadata": {},
   "outputs": [
    {
     "name": "stdout",
     "output_type": "stream",
     "text": [
      "9.24x: ['GPT-3.5-Turbo-2023-06', 'GPT-3.5-Turbo-2023-11', 'Claude-3-Haiku', 'Gemma-2-27B', 'Mistral-NeMo', 'Phi 4']\n",
      "9.35x: ['GPT-3.5 Turbo', 'GPT-3.5-Turbo-2023-11', 'Claude-3-Haiku', 'Gemini-1.5-Flash-2024-05', 'Llama-3.1-Instruct-8B', 'Gemini-1.5-Flash-8B']\n",
      "9.61x: ['GPT-3.5 Turbo', 'GPT-3.5-Turbo-2023-11', 'Claude-3-Haiku', 'Llama-3-Instruct-8B', 'Gemini-1.5-Flash-2024-05', 'Llama-3.1-Instruct-8B', 'Gemini-1.5-Flash-8B']\n",
      "11.77x: ['GPT-3', 'GPT-3', 'GPT-3.5 Turbo', 'Llama-2-Chat-13B', 'Llama 2-7B', 'Llama 2-7B', 'Llama-3.1-Instruct-8B', 'Llama-3.2-Instruct-3B', 'Gemini-1.5-Flash-8B']\n",
      "15.83x: ['GPT-3.5', 'GPT-3.5 Turbo', 'GPT-3.5-Turbo-2023-11', 'Claude-3-Haiku', 'Gemini-1.5-Flash-2024-05', 'Llama-3.1-Instruct-8B', 'Gemini-1.5-Flash-8B']\n",
      "15.86x: ['GPT-4-0314', 'GPT-4 Turbo', 'GPT-4o-2024-05', 'Gemini-1.5-Pro-2024-05', 'Gemini 2.0 Flash']\n",
      "18.03x: ['GPT-3.5-Turbo-2023-06', 'GPT-3.5-Turbo-2023-11', 'Gemini-1.5-Flash-2024-05', 'Llama-3.1-Instruct-8B', 'Llama-3.2-Instruct-3B', 'Gemini-1.5-Flash-8B']\n",
      "35.79x: ['GPT-4 Turbo', 'GPT-4o-2024-05', 'Claude-3.5-Sonnet-2024-06', 'Llama-3.1-Instruct-405B', 'Gemini 2.0 Flash']\n",
      "36.82x: ['GPT-4-0314', 'GPT-3.5-Turbo-2023-06', 'GPT-3.5-Turbo-2023-11', 'Claude-3-Haiku', 'Gemma-2-27B', 'Mistral-NeMo', 'Llama-3.1-Instruct-8B']\n",
      "42.02x: ['GPT-4-0314', 'GPT-4 Turbo', 'Mistral-Large-2024-02', 'Claude-3-Haiku', 'Gemini-1.5-Flash-2024-05', 'Phi 4']\n",
      "46.25x: ['GPT-4 Turbo', 'GPT-4o-2024-05', 'Claude-3.5-Sonnet-2024-06', 'Llama-3.1-Instruct-405B', 'Gemini-1.5-Pro-2024-09', 'Phi 4']\n",
      "72.64x: ['GPT-4-0613', 'GPT-4 Turbo', 'Mistral-8x22', 'Gemini-1.5-Flash-2024-05', 'Phi 4']\n",
      "75.32x: ['GPT-4-0314', 'GPT-4 Turbo', 'Claude-3-Sonnet', 'Llama-3-Instruct-70B', 'Gemini-1.5-Flash-2024-05', 'Gemini-1.5-Flash-8B']\n",
      "159.55x: ['GPT-4 Turbo', 'GPT-4o-2024-05', 'Gemini-1.5-Pro-2024-05', 'GPT-4o-mini', 'Gemini-1.5-Flash-2024-09', 'Phi 4']\n",
      "172.26x: ['GPT-4 Turbo', 'GPT-4o-2024-05', 'GPT-4o-mini', 'DeepSeek-Coder-V2 236B', 'Gemini-1.5-Flash-2024-09', 'Phi 4']\n",
      "176.96x: ['GPT-4o-2024-05', 'GPT-4o-2024-08', 'Gemini-1.5-Pro-2024-09', 'DeepSeek-V3', 'Gemini 2.0 Flash']\n",
      "245.51x: ['GPT-4 Turbo', 'GPT-4o-2024-05', 'Gemini-1.5-Pro-2024-05', 'GPT-4o-mini', 'Gemini-1.5-Flash-2024-09']\n",
      "251.16x: ['Claude-3.5-Sonnet-2024-06', 'Gemini-1.5-Pro-2024-09', 'DeepSeek-V3', 'Gemini 2.0 Flash']\n",
      "689.08x: ['GPT-4o-2024-05', 'GPT-4o-mini', 'Gemini-1.5-Flash-2024-09', 'Phi 4']\n",
      "689.08x: ['GPT-4o-2024-05', 'GPT-4o-mini', 'Gemini-1.5-Flash-2024-09', 'Phi 4']\n",
      "851.16x: ['GPT-4o-2024-05', 'Claude-3.5-Sonnet-2024-06', 'Gemini-1.5-Pro-2024-09', 'Phi 4']\n"
     ]
    }
   ],
   "source": [
    "# Print out the price factors in ascending order, alongside the models in the regression\n",
    "trends_to_models = {}\n",
    "for i, row in cheapest_model_results_df.sort_values('price_reduction_factor_per_year').iterrows():\n",
    "    bench = row['bench']\n",
    "    threshold_model = row['threshold_model']\n",
    "    cheapest_models = all_cheapest_models_df[all_cheapest_models_df['bench'] == bench]\n",
    "    cheapest_models = cheapest_models[cheapest_models['threshold_model'] == threshold_model]\n",
    "    trends_to_models[(bench, threshold_model)] = list(cheapest_models[\"Model Name\"].values)\n",
    "    print(f'{row[\"price_reduction_factor_per_year\"]:.2f}x: {list(cheapest_models[\"Model Name\"].values)}')"
   ]
  },
  {
   "cell_type": "code",
   "execution_count": 32,
   "metadata": {},
   "outputs": [
    {
     "data": {
      "text/plain": [
       "{('HumanEval', 'GPT-3.5-Turbo-2023-06'): ['GPT-3.5-Turbo-2023-06',\n",
       "  'GPT-3.5-Turbo-2023-11',\n",
       "  'Claude-3-Haiku',\n",
       "  'Gemma-2-27B',\n",
       "  'Mistral-NeMo',\n",
       "  'Phi 4'],\n",
       " ('MMLU', 'GPT-3.5 Turbo'): ['GPT-3.5 Turbo',\n",
       "  'GPT-3.5-Turbo-2023-11',\n",
       "  'Claude-3-Haiku',\n",
       "  'Gemini-1.5-Flash-2024-05',\n",
       "  'Llama-3.1-Instruct-8B',\n",
       "  'Gemini-1.5-Flash-8B'],\n",
       " ('LMSys Chatbot Arena ELO', 'GPT-3.5 Turbo'): ['GPT-3.5 Turbo',\n",
       "  'GPT-3.5-Turbo-2023-11',\n",
       "  'Claude-3-Haiku',\n",
       "  'Llama-3-Instruct-8B',\n",
       "  'Gemini-1.5-Flash-2024-05',\n",
       "  'Llama-3.1-Instruct-8B',\n",
       "  'Gemini-1.5-Flash-8B'],\n",
       " ('MMLU', 'GPT-3'): ['GPT-3',\n",
       "  'GPT-3',\n",
       "  'GPT-3.5 Turbo',\n",
       "  'Llama-2-Chat-13B',\n",
       "  'Llama 2-7B',\n",
       "  'Llama 2-7B',\n",
       "  'Llama-3.1-Instruct-8B',\n",
       "  'Llama-3.2-Instruct-3B',\n",
       "  'Gemini-1.5-Flash-8B'],\n",
       " ('MMLU', 'GPT-3.5'): ['GPT-3.5',\n",
       "  'GPT-3.5 Turbo',\n",
       "  'GPT-3.5-Turbo-2023-11',\n",
       "  'Claude-3-Haiku',\n",
       "  'Gemini-1.5-Flash-2024-05',\n",
       "  'Llama-3.1-Instruct-8B',\n",
       "  'Gemini-1.5-Flash-8B'],\n",
       " ('MMLU', 'GPT-4-0314'): ['GPT-4-0314',\n",
       "  'GPT-4 Turbo',\n",
       "  'GPT-4o-2024-05',\n",
       "  'Gemini-1.5-Pro-2024-05',\n",
       "  'Gemini 2.0 Flash'],\n",
       " ('MATH-500', 'GPT-3.5-Turbo-2023-06'): ['GPT-3.5-Turbo-2023-06',\n",
       "  'GPT-3.5-Turbo-2023-11',\n",
       "  'Gemini-1.5-Flash-2024-05',\n",
       "  'Llama-3.1-Instruct-8B',\n",
       "  'Llama-3.2-Instruct-3B',\n",
       "  'Gemini-1.5-Flash-8B'],\n",
       " ('MMLU', 'GPT-4 Turbo'): ['GPT-4 Turbo',\n",
       "  'GPT-4o-2024-05',\n",
       "  'Claude-3.5-Sonnet-2024-06',\n",
       "  'Llama-3.1-Instruct-405B',\n",
       "  'Gemini 2.0 Flash'],\n",
       " ('HumanEval', 'GPT-4-0314'): ['GPT-4-0314',\n",
       "  'GPT-3.5-Turbo-2023-06',\n",
       "  'GPT-3.5-Turbo-2023-11',\n",
       "  'Claude-3-Haiku',\n",
       "  'Gemma-2-27B',\n",
       "  'Mistral-NeMo',\n",
       "  'Llama-3.1-Instruct-8B'],\n",
       " ('GPQA Diamond', 'GPT-4-0314'): ['GPT-4-0314',\n",
       "  'GPT-4 Turbo',\n",
       "  'Mistral-Large-2024-02',\n",
       "  'Claude-3-Haiku',\n",
       "  'Gemini-1.5-Flash-2024-05',\n",
       "  'Phi 4'],\n",
       " ('GPQA Diamond', 'GPT-4 Turbo'): ['GPT-4 Turbo',\n",
       "  'GPT-4o-2024-05',\n",
       "  'Claude-3.5-Sonnet-2024-06',\n",
       "  'Llama-3.1-Instruct-405B',\n",
       "  'Gemini-1.5-Pro-2024-09',\n",
       "  'Phi 4'],\n",
       " ('MATH 5', 'GPT-4-0613'): ['GPT-4-0613',\n",
       "  'GPT-4 Turbo',\n",
       "  'Mistral-8x22',\n",
       "  'Gemini-1.5-Flash-2024-05',\n",
       "  'Phi 4'],\n",
       " ('LMSys Chatbot Arena ELO', 'GPT-4-0314'): ['GPT-4-0314',\n",
       "  'GPT-4 Turbo',\n",
       "  'Claude-3-Sonnet',\n",
       "  'Llama-3-Instruct-70B',\n",
       "  'Gemini-1.5-Flash-2024-05',\n",
       "  'Gemini-1.5-Flash-8B'],\n",
       " ('MATH 5', 'GPT-4 Turbo'): ['GPT-4 Turbo',\n",
       "  'GPT-4o-2024-05',\n",
       "  'Gemini-1.5-Pro-2024-05',\n",
       "  'GPT-4o-mini',\n",
       "  'Gemini-1.5-Flash-2024-09',\n",
       "  'Phi 4'],\n",
       " ('MATH-500', 'GPT-4 Turbo'): ['GPT-4 Turbo',\n",
       "  'GPT-4o-2024-05',\n",
       "  'GPT-4o-mini',\n",
       "  'DeepSeek-Coder-V2 236B',\n",
       "  'Gemini-1.5-Flash-2024-09',\n",
       "  'Phi 4'],\n",
       " ('LMSys Chatbot Arena ELO', 'GPT-4o-2024-05'): ['GPT-4o-2024-05',\n",
       "  'GPT-4o-2024-08',\n",
       "  'Gemini-1.5-Pro-2024-09',\n",
       "  'DeepSeek-V3',\n",
       "  'Gemini 2.0 Flash'],\n",
       " ('LMSys Chatbot Arena ELO', 'GPT-4 Turbo'): ['GPT-4 Turbo',\n",
       "  'GPT-4o-2024-05',\n",
       "  'Gemini-1.5-Pro-2024-05',\n",
       "  'GPT-4o-mini',\n",
       "  'Gemini-1.5-Flash-2024-09'],\n",
       " ('GPQA Diamond', 'Claude-3.5-Sonnet-2024-06'): ['Claude-3.5-Sonnet-2024-06',\n",
       "  'Gemini-1.5-Pro-2024-09',\n",
       "  'DeepSeek-V3',\n",
       "  'Gemini 2.0 Flash'],\n",
       " ('MATH-500', 'GPT-4o-2024-05'): ['GPT-4o-2024-05',\n",
       "  'GPT-4o-mini',\n",
       "  'Gemini-1.5-Flash-2024-09',\n",
       "  'Phi 4'],\n",
       " ('MATH 5', 'GPT-4o-2024-05'): ['GPT-4o-2024-05',\n",
       "  'GPT-4o-mini',\n",
       "  'Gemini-1.5-Flash-2024-09',\n",
       "  'Phi 4'],\n",
       " ('GPQA Diamond', 'GPT-4o-2024-05'): ['GPT-4o-2024-05',\n",
       "  'Claude-3.5-Sonnet-2024-06',\n",
       "  'Gemini-1.5-Pro-2024-09',\n",
       "  'Phi 4']}"
      ]
     },
     "execution_count": 32,
     "metadata": {},
     "output_type": "execute_result"
    }
   ],
   "source": [
    "trends_to_models"
   ]
  },
  {
   "cell_type": "code",
   "execution_count": 33,
   "metadata": {},
   "outputs": [
    {
     "name": "stdout",
     "output_type": "stream",
     "text": [
      "GPT-3: [11.772872667426151]\n",
      "GPT-3.5 Turbo: [11.772872667426151, 15.830914761762989, 9.34724894739857, 9.605140145319366]\n",
      "Llama-2-Chat-13B: [11.772872667426151]\n",
      "Llama 2-7B: [11.772872667426151]\n",
      "Llama-3.1-Instruct-8B: [11.772872667426151, 15.830914761762989, 9.34724894739857, 18.02982343875724, 36.822471772292936, 9.605140145319366]\n",
      "Llama-3.2-Instruct-3B: [11.772872667426151, 18.02982343875724]\n",
      "Gemini-1.5-Flash-8B: [11.772872667426151, 15.830914761762989, 9.34724894739857, 18.02982343875724, 9.605140145319366, 75.31861757587912]\n",
      "GPT-3.5: [15.830914761762989]\n",
      "GPT-3.5-Turbo-2023-11: [15.830914761762989, 9.34724894739857, 18.02982343875724, 36.822471772292936, 9.240250279099344, 9.605140145319366]\n",
      "Claude-3-Haiku: [15.830914761762989, 9.34724894739857, 42.0189988368494, 36.822471772292936, 9.240250279099344, 9.605140145319366]\n",
      "Gemini-1.5-Flash-2024-05: [15.830914761762989, 9.34724894739857, 42.0189988368494, 18.02982343875724, 72.63549281313398, 9.605140145319366, 75.31861757587912]\n",
      "GPT-4-0314: [15.85676156770196, 42.0189988368494, 36.822471772292936, 75.31861757587912]\n",
      "GPT-4 Turbo: [15.85676156770196, 35.791221662400446, 42.0189988368494, 46.246021561114674, 172.26182003815543, 72.63549281313398, 159.5525791437889, 75.31861757587912, 245.5140536105096]\n",
      "GPT-4o-2024-05: [15.85676156770196, 35.791221662400446, 46.246021561114674, 851.1622038749446, 172.26182003815543, 689.0799024380077, 159.5525791437889, 689.0799024380077, 245.5140536105096, 176.96047076161705]\n",
      "Gemini-1.5-Pro-2024-05: [15.85676156770196, 159.5525791437889, 245.5140536105096]\n",
      "Gemini 2.0 Flash: [15.85676156770196, 35.791221662400446, 251.15711308883266, 176.96047076161705]\n",
      "Claude-3.5-Sonnet-2024-06: [35.791221662400446, 46.246021561114674, 851.1622038749446, 251.15711308883266]\n",
      "Llama-3.1-Instruct-405B: [35.791221662400446, 46.246021561114674]\n",
      "Mistral-Large-2024-02: [42.0189988368494]\n",
      "Phi 4: [42.0189988368494, 46.246021561114674, 851.1622038749446, 172.26182003815543, 689.0799024380077, 72.63549281313398, 159.5525791437889, 689.0799024380077, 9.240250279099344]\n",
      "Gemini-1.5-Pro-2024-09: [46.246021561114674, 851.1622038749446, 251.15711308883266, 176.96047076161705]\n",
      "DeepSeek-V3: [251.15711308883266, 176.96047076161705]\n",
      "GPT-3.5-Turbo-2023-06: [18.02982343875724, 36.822471772292936, 9.240250279099344]\n",
      "GPT-4o-mini: [172.26182003815543, 689.0799024380077, 159.5525791437889, 689.0799024380077, 245.5140536105096]\n",
      "DeepSeek-Coder-V2 236B: [172.26182003815543]\n",
      "Gemini-1.5-Flash-2024-09: [172.26182003815543, 689.0799024380077, 159.5525791437889, 689.0799024380077, 245.5140536105096]\n",
      "GPT-4-0613: [72.63549281313398]\n",
      "Mistral-8x22: [72.63549281313398]\n",
      "Gemma-2-27B: [36.822471772292936, 9.240250279099344]\n",
      "Mistral-NeMo: [36.822471772292936, 9.240250279099344]\n",
      "Llama-3-Instruct-8B: [9.605140145319366]\n",
      "Claude-3-Sonnet: [75.31861757587912]\n",
      "Llama-3-Instruct-70B: [75.31861757587912]\n",
      "GPT-4o-2024-08: [176.96047076161705]\n"
     ]
    }
   ],
   "source": [
    "# For each model, gather up price reduction factors for all the regressions that include that model\n",
    "model_price_factors = defaultdict(list)\n",
    "for model in all_cheapest_models_df['Model Name'].unique():\n",
    "    for i, row in cheapest_model_results_df.iterrows():\n",
    "        bench = row['bench']\n",
    "        threshold_model = row['threshold_model']\n",
    "        trend_models = trends_to_models[(bench, threshold_model)]\n",
    "        if model in trend_models:\n",
    "            model_price_factors[model].append(row['price_reduction_factor_per_year'])\n",
    "for model, price_factors in model_price_factors.items():\n",
    "    print(f'{model}: {price_factors}')\n"
   ]
  },
  {
   "cell_type": "code",
   "execution_count": 34,
   "metadata": {},
   "outputs": [
    {
     "name": "stdout",
     "output_type": "stream",
     "text": [
      "The format below is LLM: Median trend that the LLM appears in, number of trends the LLM appears in\n",
      "Llama-3-Instruct-8B: 10x, n=1\n",
      "GPT-3.5 Turbo: 11x, n=4\n",
      "GPT-3: 12x, n=1\n",
      "Llama-2-Chat-13B: 12x, n=1\n",
      "Llama 2-7B: 12x, n=1\n",
      "GPT-3.5-Turbo-2023-11: 13x, n=6\n",
      "Claude-3-Haiku: 13x, n=6\n",
      "Llama-3.1-Instruct-8B: 14x, n=6\n",
      "Gemini-1.5-Flash-8B: 14x, n=6\n",
      "Llama-3.2-Instruct-3B: 15x, n=2\n",
      "GPT-3.5: 16x, n=1\n",
      "Gemini-1.5-Flash-2024-05: 18x, n=7\n",
      "GPT-3.5-Turbo-2023-06: 18x, n=3\n",
      "Gemma-2-27B: 23x, n=2\n",
      "Mistral-NeMo: 23x, n=2\n",
      "GPT-4-0314: 39x, n=4\n",
      "Llama-3.1-Instruct-405B: 41x, n=2\n",
      "Mistral-Large-2024-02: 42x, n=1\n",
      "GPT-4 Turbo: 73x, n=9\n",
      "GPT-4-0613: 73x, n=1\n",
      "Mistral-8x22: 73x, n=1\n",
      "Claude-3-Sonnet: 75x, n=1\n",
      "Llama-3-Instruct-70B: 75x, n=1\n",
      "Gemini 2.0 Flash: 106x, n=4\n",
      "Claude-3.5-Sonnet-2024-06: 149x, n=4\n",
      "Gemini-1.5-Pro-2024-05: 160x, n=3\n",
      "Phi 4: 160x, n=9\n",
      "DeepSeek-Coder-V2 236B: 172x, n=1\n",
      "GPT-4o-2024-05: 175x, n=10\n",
      "GPT-4o-2024-08: 177x, n=1\n",
      "Gemini-1.5-Pro-2024-09: 214x, n=4\n",
      "DeepSeek-V3: 214x, n=2\n",
      "GPT-4o-mini: 246x, n=5\n",
      "Gemini-1.5-Flash-2024-09: 246x, n=5\n"
     ]
    }
   ],
   "source": [
    "# Now calculate the median price reduction factor for each model\n",
    "model_price_factors_median = {model: np.median(price_factors) for model, price_factors in model_price_factors.items()}\n",
    "model_price_factors_median\n",
    "# Sort the models by price reduction factor\n",
    "model_price_factors_median = sorted(model_price_factors_median.items(), key=lambda x: x[1])\n",
    "print('The format below is LLM: Median trend that the LLM appears in, number of trends the LLM appears in')\n",
    "for model, price_factor in model_price_factors_median:\n",
    "    print(f'{model}: {price_factor:.0f}x, n={len(model_price_factors[model])}')\n"
   ]
  },
  {
   "cell_type": "code",
   "execution_count": 35,
   "metadata": {},
   "outputs": [
    {
     "data": {
      "text/plain": [
       "(21, 21, 21)"
      ]
     },
     "execution_count": 35,
     "metadata": {},
     "output_type": "execute_result"
    }
   ],
   "source": [
    "min_date_span_df = cheapest_model_results_df.copy()\n",
    "start_dates = min_date_span_df['start_date']\n",
    "end_dates = min_date_span_df['end_date']\n",
    "date_spans = (end_dates - start_dates).dt.days\n",
    "sample_sizes = min_date_span_df['sample_size']\n",
    "# Correlation of date spans with np.log10(price_factors)\n",
    "len(date_spans), len(np.log10(all_price_factors)), len(sample_sizes)"
   ]
  },
  {
   "cell_type": "code",
   "execution_count": 36,
   "metadata": {},
   "outputs": [],
   "source": [
    "start_dates_ordinal = start_dates.map(lambda x: pd.Timestamp(x).toordinal())"
   ]
  },
  {
   "cell_type": "code",
   "execution_count": 37,
   "metadata": {},
   "outputs": [
    {
     "name": "stdout",
     "output_type": "stream",
     "text": [
      "-0.8050977862376139\n",
      "-0.7247954515221596\n",
      "0.7970042150028512\n"
     ]
    }
   ],
   "source": [
    "print(np.corrcoef(date_spans, np.log10(all_price_factors))[0,1])\n",
    "print(np.corrcoef(sample_sizes, np.log10(all_price_factors))[0,1])\n",
    "print(np.corrcoef(start_dates_ordinal, np.log10(all_price_factors))[0,1])"
   ]
  },
  {
   "cell_type": "code",
   "execution_count": 38,
   "metadata": {},
   "outputs": [
    {
     "data": {
      "application/vnd.plotly.v1+json": {
       "config": {
        "plotlyServerURL": "https://plot.ly"
       },
       "data": [
        {
         "hovertemplate": "Date span: %{x} days<br>Log10 price reduction: %{y:.2f}",
         "marker": {
          "size": 10
         },
         "mode": "markers",
         "text": [
          "n=9",
          "n=7",
          "n=6",
          "n=5",
          "n=5",
          "n=6",
          "n=6",
          "n=4",
          "n=4",
          "n=6",
          "n=6",
          "n=4",
          "n=5",
          "n=6",
          "n=4",
          "n=7",
          "n=6",
          "n=7",
          "n=6",
          "n=5",
          "n=5"
         ],
         "textposition": "top center",
         "type": "scatter",
         "x": [
          1048,
          673,
          577,
          694,
          457,
          640,
          403,
          214,
          230,
          478,
          403,
          214,
          549,
          403,
          214,
          497,
          549,
          577,
          569,
          323,
          268
         ],
         "y": [
          1.070882446818741,
          1.1995060105356188,
          0.9706838095070646,
          1.200214495914405,
          1.553776522424213,
          1.6234457005018326,
          1.6650743773264614,
          2.9300123303962358,
          2.3999454824417525,
          1.2559914738134226,
          2.2361890314576027,
          2.838269583556315,
          1.861148887452519,
          2.2029038288921887,
          2.838269583556315,
          1.5661129379169647,
          0.9656837345707265,
          0.9825037058863993,
          1.8769023402257066,
          2.3900763568696086,
          2.2478762649642325
         ]
        },
        {
         "line": {
          "color": "red",
          "dash": "dash"
         },
         "mode": "lines",
         "name": "Trend line (r=-0.81)",
         "type": "scatter",
         "x": [
          214,
          222.42424242424244,
          230.84848484848484,
          239.27272727272728,
          247.6969696969697,
          256.1212121212121,
          264.54545454545456,
          272.969696969697,
          281.3939393939394,
          289.8181818181818,
          298.24242424242425,
          306.66666666666663,
          315.0909090909091,
          323.5151515151515,
          331.93939393939394,
          340.3636363636364,
          348.78787878787875,
          357.21212121212125,
          365.6363636363636,
          374.06060606060606,
          382.4848484848485,
          390.9090909090909,
          399.3333333333333,
          407.75757575757575,
          416.1818181818182,
          424.6060606060606,
          433.030303030303,
          441.45454545454544,
          449.8787878787879,
          458.30303030303025,
          466.72727272727275,
          475.1515151515151,
          483.57575757575756,
          492,
          500.42424242424244,
          508.8484848484848,
          517.2727272727273,
          525.6969696969697,
          534.1212121212121,
          542.5454545454545,
          550.969696969697,
          559.3939393939394,
          567.8181818181818,
          576.2424242424242,
          584.6666666666666,
          593.090909090909,
          601.5151515151515,
          609.939393939394,
          618.3636363636364,
          626.7878787878788,
          635.2121212121212,
          643.6363636363636,
          652.060606060606,
          660.4848484848485,
          668.9090909090909,
          677.3333333333333,
          685.7575757575758,
          694.1818181818182,
          702.6060606060605,
          711.030303030303,
          719.4545454545455,
          727.8787878787879,
          736.3030303030303,
          744.7272727272727,
          753.1515151515151,
          761.5757575757575,
          770,
          778.4242424242424,
          786.8484848484849,
          795.2727272727273,
          803.6969696969696,
          812.1212121212121,
          820.5454545454545,
          828.969696969697,
          837.3939393939394,
          845.8181818181818,
          854.2424242424242,
          862.6666666666666,
          871.090909090909,
          879.5151515151515,
          887.9393939393939,
          896.3636363636364,
          904.7878787878788,
          913.2121212121211,
          921.6363636363636,
          930.060606060606,
          938.4848484848485,
          946.9090909090909,
          955.3333333333333,
          963.7575757575758,
          972.1818181818181,
          980.6060606060606,
          989.030303030303,
          997.4545454545454,
          1005.8787878787879,
          1014.3030303030303,
          1022.7272727272727,
          1031.151515151515,
          1039.5757575757575,
          1048
         ],
         "y": [
          2.4753936333189124,
          2.4537298518160346,
          2.4320660703131574,
          2.41040228881028,
          2.3887385073074023,
          2.367074725804525,
          2.3454109443016473,
          2.32374716279877,
          2.3020833812958923,
          2.280419599793015,
          2.2587558182901377,
          2.23709203678726,
          2.2154282552843823,
          2.193764473781505,
          2.1721006922786277,
          2.15043691077575,
          2.1287731292728727,
          2.107109347769995,
          2.0854455662671176,
          2.06378178476424,
          2.0421180032613626,
          2.0204542217584853,
          1.9987904402556076,
          1.97712665875273,
          1.9554628772498526,
          1.933799095746975,
          1.9121353142440978,
          1.89047153274122,
          1.8688077512383425,
          1.8471439697354652,
          1.8254801882325875,
          1.8038164067297102,
          1.7821526252268327,
          1.7604888437239552,
          1.7388250622210777,
          1.7171612807182002,
          1.6954974992153227,
          1.6738337177124452,
          1.6521699362095676,
          1.6305061547066904,
          1.6088423732038126,
          1.5871785917009353,
          1.5655148101980578,
          1.5438510286951803,
          1.5221872471923028,
          1.5005234656894255,
          1.4788596841865478,
          1.45719590268367,
          1.4355321211807928,
          1.4138683396779153,
          1.3922045581750377,
          1.3705407766721602,
          1.348876995169283,
          1.3272132136664052,
          1.305549432163528,
          1.2838856506606504,
          1.262221869157773,
          1.2405580876548952,
          1.218894306152018,
          1.1972305246491404,
          1.1755667431462626,
          1.1539029616433853,
          1.132239180140508,
          1.1105753986376303,
          1.088911617134753,
          1.0672478356318755,
          1.0455840541289978,
          1.0239202726261207,
          1.002256491123243,
          0.9805927096203653,
          0.958928928117488,
          0.9372651466146102,
          0.915601365111733,
          0.8939375836088552,
          0.8722738021059779,
          0.8506100206031006,
          0.8289462391002229,
          0.8072824575973456,
          0.7856186760944683,
          0.7639548945915906,
          0.7422911130887133,
          0.7206273315858356,
          0.6989635500829583,
          0.6772997685800806,
          0.6556359870772028,
          0.6339722055743255,
          0.6123084240714478,
          0.5906446425685705,
          0.5689808610656932,
          0.5473170795628155,
          0.5256532980599382,
          0.5039895165570605,
          0.4823257350541832,
          0.4606619535513059,
          0.43899817204842817,
          0.4173343905455509,
          0.39567060904267315,
          0.37400682753979586,
          0.35234304603691813,
          0.33067926453404084
         ]
        }
       ],
       "layout": {
        "font": {
         "size": 14
        },
        "height": 500,
        "template": {
         "data": {
          "bar": [
           {
            "error_x": {
             "color": "#2a3f5f"
            },
            "error_y": {
             "color": "#2a3f5f"
            },
            "marker": {
             "line": {
              "color": "white",
              "width": 0.5
             },
             "pattern": {
              "fillmode": "overlay",
              "size": 10,
              "solidity": 0.2
             }
            },
            "type": "bar"
           }
          ],
          "barpolar": [
           {
            "marker": {
             "line": {
              "color": "white",
              "width": 0.5
             },
             "pattern": {
              "fillmode": "overlay",
              "size": 10,
              "solidity": 0.2
             }
            },
            "type": "barpolar"
           }
          ],
          "carpet": [
           {
            "aaxis": {
             "endlinecolor": "#2a3f5f",
             "gridcolor": "#C8D4E3",
             "linecolor": "#C8D4E3",
             "minorgridcolor": "#C8D4E3",
             "startlinecolor": "#2a3f5f"
            },
            "baxis": {
             "endlinecolor": "#2a3f5f",
             "gridcolor": "#C8D4E3",
             "linecolor": "#C8D4E3",
             "minorgridcolor": "#C8D4E3",
             "startlinecolor": "#2a3f5f"
            },
            "type": "carpet"
           }
          ],
          "choropleth": [
           {
            "colorbar": {
             "outlinewidth": 0,
             "ticks": ""
            },
            "type": "choropleth"
           }
          ],
          "contour": [
           {
            "colorbar": {
             "outlinewidth": 0,
             "ticks": ""
            },
            "colorscale": [
             [
              0,
              "#0d0887"
             ],
             [
              0.1111111111111111,
              "#46039f"
             ],
             [
              0.2222222222222222,
              "#7201a8"
             ],
             [
              0.3333333333333333,
              "#9c179e"
             ],
             [
              0.4444444444444444,
              "#bd3786"
             ],
             [
              0.5555555555555556,
              "#d8576b"
             ],
             [
              0.6666666666666666,
              "#ed7953"
             ],
             [
              0.7777777777777778,
              "#fb9f3a"
             ],
             [
              0.8888888888888888,
              "#fdca26"
             ],
             [
              1,
              "#f0f921"
             ]
            ],
            "type": "contour"
           }
          ],
          "contourcarpet": [
           {
            "colorbar": {
             "outlinewidth": 0,
             "ticks": ""
            },
            "type": "contourcarpet"
           }
          ],
          "heatmap": [
           {
            "colorbar": {
             "outlinewidth": 0,
             "ticks": ""
            },
            "colorscale": [
             [
              0,
              "#0d0887"
             ],
             [
              0.1111111111111111,
              "#46039f"
             ],
             [
              0.2222222222222222,
              "#7201a8"
             ],
             [
              0.3333333333333333,
              "#9c179e"
             ],
             [
              0.4444444444444444,
              "#bd3786"
             ],
             [
              0.5555555555555556,
              "#d8576b"
             ],
             [
              0.6666666666666666,
              "#ed7953"
             ],
             [
              0.7777777777777778,
              "#fb9f3a"
             ],
             [
              0.8888888888888888,
              "#fdca26"
             ],
             [
              1,
              "#f0f921"
             ]
            ],
            "type": "heatmap"
           }
          ],
          "heatmapgl": [
           {
            "colorbar": {
             "outlinewidth": 0,
             "ticks": ""
            },
            "colorscale": [
             [
              0,
              "#0d0887"
             ],
             [
              0.1111111111111111,
              "#46039f"
             ],
             [
              0.2222222222222222,
              "#7201a8"
             ],
             [
              0.3333333333333333,
              "#9c179e"
             ],
             [
              0.4444444444444444,
              "#bd3786"
             ],
             [
              0.5555555555555556,
              "#d8576b"
             ],
             [
              0.6666666666666666,
              "#ed7953"
             ],
             [
              0.7777777777777778,
              "#fb9f3a"
             ],
             [
              0.8888888888888888,
              "#fdca26"
             ],
             [
              1,
              "#f0f921"
             ]
            ],
            "type": "heatmapgl"
           }
          ],
          "histogram": [
           {
            "marker": {
             "pattern": {
              "fillmode": "overlay",
              "size": 10,
              "solidity": 0.2
             }
            },
            "type": "histogram"
           }
          ],
          "histogram2d": [
           {
            "colorbar": {
             "outlinewidth": 0,
             "ticks": ""
            },
            "colorscale": [
             [
              0,
              "#0d0887"
             ],
             [
              0.1111111111111111,
              "#46039f"
             ],
             [
              0.2222222222222222,
              "#7201a8"
             ],
             [
              0.3333333333333333,
              "#9c179e"
             ],
             [
              0.4444444444444444,
              "#bd3786"
             ],
             [
              0.5555555555555556,
              "#d8576b"
             ],
             [
              0.6666666666666666,
              "#ed7953"
             ],
             [
              0.7777777777777778,
              "#fb9f3a"
             ],
             [
              0.8888888888888888,
              "#fdca26"
             ],
             [
              1,
              "#f0f921"
             ]
            ],
            "type": "histogram2d"
           }
          ],
          "histogram2dcontour": [
           {
            "colorbar": {
             "outlinewidth": 0,
             "ticks": ""
            },
            "colorscale": [
             [
              0,
              "#0d0887"
             ],
             [
              0.1111111111111111,
              "#46039f"
             ],
             [
              0.2222222222222222,
              "#7201a8"
             ],
             [
              0.3333333333333333,
              "#9c179e"
             ],
             [
              0.4444444444444444,
              "#bd3786"
             ],
             [
              0.5555555555555556,
              "#d8576b"
             ],
             [
              0.6666666666666666,
              "#ed7953"
             ],
             [
              0.7777777777777778,
              "#fb9f3a"
             ],
             [
              0.8888888888888888,
              "#fdca26"
             ],
             [
              1,
              "#f0f921"
             ]
            ],
            "type": "histogram2dcontour"
           }
          ],
          "mesh3d": [
           {
            "colorbar": {
             "outlinewidth": 0,
             "ticks": ""
            },
            "type": "mesh3d"
           }
          ],
          "parcoords": [
           {
            "line": {
             "colorbar": {
              "outlinewidth": 0,
              "ticks": ""
             }
            },
            "type": "parcoords"
           }
          ],
          "pie": [
           {
            "automargin": true,
            "type": "pie"
           }
          ],
          "scatter": [
           {
            "fillpattern": {
             "fillmode": "overlay",
             "size": 10,
             "solidity": 0.2
            },
            "type": "scatter"
           }
          ],
          "scatter3d": [
           {
            "line": {
             "colorbar": {
              "outlinewidth": 0,
              "ticks": ""
             }
            },
            "marker": {
             "colorbar": {
              "outlinewidth": 0,
              "ticks": ""
             }
            },
            "type": "scatter3d"
           }
          ],
          "scattercarpet": [
           {
            "marker": {
             "colorbar": {
              "outlinewidth": 0,
              "ticks": ""
             }
            },
            "type": "scattercarpet"
           }
          ],
          "scattergeo": [
           {
            "marker": {
             "colorbar": {
              "outlinewidth": 0,
              "ticks": ""
             }
            },
            "type": "scattergeo"
           }
          ],
          "scattergl": [
           {
            "marker": {
             "colorbar": {
              "outlinewidth": 0,
              "ticks": ""
             }
            },
            "type": "scattergl"
           }
          ],
          "scattermapbox": [
           {
            "marker": {
             "colorbar": {
              "outlinewidth": 0,
              "ticks": ""
             }
            },
            "type": "scattermapbox"
           }
          ],
          "scatterpolar": [
           {
            "marker": {
             "colorbar": {
              "outlinewidth": 0,
              "ticks": ""
             }
            },
            "type": "scatterpolar"
           }
          ],
          "scatterpolargl": [
           {
            "marker": {
             "colorbar": {
              "outlinewidth": 0,
              "ticks": ""
             }
            },
            "type": "scatterpolargl"
           }
          ],
          "scatterternary": [
           {
            "marker": {
             "colorbar": {
              "outlinewidth": 0,
              "ticks": ""
             }
            },
            "type": "scatterternary"
           }
          ],
          "surface": [
           {
            "colorbar": {
             "outlinewidth": 0,
             "ticks": ""
            },
            "colorscale": [
             [
              0,
              "#0d0887"
             ],
             [
              0.1111111111111111,
              "#46039f"
             ],
             [
              0.2222222222222222,
              "#7201a8"
             ],
             [
              0.3333333333333333,
              "#9c179e"
             ],
             [
              0.4444444444444444,
              "#bd3786"
             ],
             [
              0.5555555555555556,
              "#d8576b"
             ],
             [
              0.6666666666666666,
              "#ed7953"
             ],
             [
              0.7777777777777778,
              "#fb9f3a"
             ],
             [
              0.8888888888888888,
              "#fdca26"
             ],
             [
              1,
              "#f0f921"
             ]
            ],
            "type": "surface"
           }
          ],
          "table": [
           {
            "cells": {
             "fill": {
              "color": "#EBF0F8"
             },
             "line": {
              "color": "white"
             }
            },
            "header": {
             "fill": {
              "color": "#C8D4E3"
             },
             "line": {
              "color": "white"
             }
            },
            "type": "table"
           }
          ]
         },
         "layout": {
          "annotationdefaults": {
           "arrowcolor": "#2a3f5f",
           "arrowhead": 0,
           "arrowwidth": 1
          },
          "autotypenumbers": "strict",
          "coloraxis": {
           "colorbar": {
            "outlinewidth": 0,
            "ticks": ""
           }
          },
          "colorscale": {
           "diverging": [
            [
             0,
             "#8e0152"
            ],
            [
             0.1,
             "#c51b7d"
            ],
            [
             0.2,
             "#de77ae"
            ],
            [
             0.3,
             "#f1b6da"
            ],
            [
             0.4,
             "#fde0ef"
            ],
            [
             0.5,
             "#f7f7f7"
            ],
            [
             0.6,
             "#e6f5d0"
            ],
            [
             0.7,
             "#b8e186"
            ],
            [
             0.8,
             "#7fbc41"
            ],
            [
             0.9,
             "#4d9221"
            ],
            [
             1,
             "#276419"
            ]
           ],
           "sequential": [
            [
             0,
             "#0d0887"
            ],
            [
             0.1111111111111111,
             "#46039f"
            ],
            [
             0.2222222222222222,
             "#7201a8"
            ],
            [
             0.3333333333333333,
             "#9c179e"
            ],
            [
             0.4444444444444444,
             "#bd3786"
            ],
            [
             0.5555555555555556,
             "#d8576b"
            ],
            [
             0.6666666666666666,
             "#ed7953"
            ],
            [
             0.7777777777777778,
             "#fb9f3a"
            ],
            [
             0.8888888888888888,
             "#fdca26"
            ],
            [
             1,
             "#f0f921"
            ]
           ],
           "sequentialminus": [
            [
             0,
             "#0d0887"
            ],
            [
             0.1111111111111111,
             "#46039f"
            ],
            [
             0.2222222222222222,
             "#7201a8"
            ],
            [
             0.3333333333333333,
             "#9c179e"
            ],
            [
             0.4444444444444444,
             "#bd3786"
            ],
            [
             0.5555555555555556,
             "#d8576b"
            ],
            [
             0.6666666666666666,
             "#ed7953"
            ],
            [
             0.7777777777777778,
             "#fb9f3a"
            ],
            [
             0.8888888888888888,
             "#fdca26"
            ],
            [
             1,
             "#f0f921"
            ]
           ]
          },
          "colorway": [
           "#636efa",
           "#EF553B",
           "#00cc96",
           "#ab63fa",
           "#FFA15A",
           "#19d3f3",
           "#FF6692",
           "#B6E880",
           "#FF97FF",
           "#FECB52"
          ],
          "font": {
           "color": "#2a3f5f"
          },
          "geo": {
           "bgcolor": "white",
           "lakecolor": "white",
           "landcolor": "white",
           "showlakes": true,
           "showland": true,
           "subunitcolor": "#C8D4E3"
          },
          "hoverlabel": {
           "align": "left"
          },
          "hovermode": "closest",
          "mapbox": {
           "style": "light"
          },
          "paper_bgcolor": "white",
          "plot_bgcolor": "white",
          "polar": {
           "angularaxis": {
            "gridcolor": "#EBF0F8",
            "linecolor": "#EBF0F8",
            "ticks": ""
           },
           "bgcolor": "white",
           "radialaxis": {
            "gridcolor": "#EBF0F8",
            "linecolor": "#EBF0F8",
            "ticks": ""
           }
          },
          "scene": {
           "xaxis": {
            "backgroundcolor": "white",
            "gridcolor": "#DFE8F3",
            "gridwidth": 2,
            "linecolor": "#EBF0F8",
            "showbackground": true,
            "ticks": "",
            "zerolinecolor": "#EBF0F8"
           },
           "yaxis": {
            "backgroundcolor": "white",
            "gridcolor": "#DFE8F3",
            "gridwidth": 2,
            "linecolor": "#EBF0F8",
            "showbackground": true,
            "ticks": "",
            "zerolinecolor": "#EBF0F8"
           },
           "zaxis": {
            "backgroundcolor": "white",
            "gridcolor": "#DFE8F3",
            "gridwidth": 2,
            "linecolor": "#EBF0F8",
            "showbackground": true,
            "ticks": "",
            "zerolinecolor": "#EBF0F8"
           }
          },
          "shapedefaults": {
           "line": {
            "color": "#2a3f5f"
           }
          },
          "ternary": {
           "aaxis": {
            "gridcolor": "#DFE8F3",
            "linecolor": "#A2B1C6",
            "ticks": ""
           },
           "baxis": {
            "gridcolor": "#DFE8F3",
            "linecolor": "#A2B1C6",
            "ticks": ""
           },
           "bgcolor": "white",
           "caxis": {
            "gridcolor": "#DFE8F3",
            "linecolor": "#A2B1C6",
            "ticks": ""
           }
          },
          "title": {
           "x": 0.05
          },
          "xaxis": {
           "automargin": true,
           "gridcolor": "#EBF0F8",
           "linecolor": "#EBF0F8",
           "ticks": "",
           "title": {
            "standoff": 15
           },
           "zerolinecolor": "#EBF0F8",
           "zerolinewidth": 2
          },
          "yaxis": {
           "automargin": true,
           "gridcolor": "#EBF0F8",
           "linecolor": "#EBF0F8",
           "ticks": "",
           "title": {
            "standoff": 15
           },
           "zerolinecolor": "#EBF0F8",
           "zerolinewidth": 2
          }
         }
        },
        "title": {
         "text": "Correlation between date span and price reduction factor"
        },
        "width": 800,
        "xaxis": {
         "title": {
          "text": "Date span of regression (days)"
         }
        },
        "yaxis": {
         "title": {
          "text": "Price reduction factor per year (log10)"
         }
        }
       }
      }
     },
     "metadata": {},
     "output_type": "display_data"
    }
   ],
   "source": [
    "# Create a scatter plot of log10(price factors) vs date spans\n",
    "fig_corr = go.Figure()\n",
    "\n",
    "fig_corr.add_trace(go.Scatter(\n",
    "    x=date_spans,\n",
    "    y=np.log10(all_price_factors),\n",
    "    mode='markers',\n",
    "    text=[f'n={s}' for s in sample_sizes],\n",
    "    textposition='top center',\n",
    "    marker=dict(size=10),\n",
    "    hovertemplate='Date span: %{x} days<br>Log10 price reduction: %{y:.2f}',\n",
    "))\n",
    "\n",
    "# Update layout\n",
    "fig_corr.update_layout(\n",
    "    title='Correlation between date span and price reduction factor',\n",
    "    xaxis_title='Date span of regression (days)',\n",
    "    yaxis_title='Price reduction factor per year (log10)',\n",
    "    width=800,\n",
    "    height=500,\n",
    "    font=dict(size=14),\n",
    ")\n",
    "\n",
    "# Add a trend line\n",
    "z = np.polyfit(date_spans, np.log10(all_price_factors), 1)\n",
    "p = np.poly1d(z)\n",
    "x_trend = np.linspace(min(date_spans), max(date_spans), 100)\n",
    "y_trend = p(x_trend)\n",
    "\n",
    "fig_corr.add_trace(go.Scatter(\n",
    "    x=x_trend,\n",
    "    y=y_trend,\n",
    "    mode='lines',\n",
    "    line=dict(color='red', dash='dash'),\n",
    "    name=f'Trend line (r={np.corrcoef(date_spans, np.log10(all_price_factors))[0,1]:.2f})',\n",
    "))\n",
    "if save:\n",
    "    save_plot(fig_corr, results_subdir, 'price_factor_date_span_correlation', ['png'])\n",
    "fig_corr.show()\n"
   ]
  },
  {
   "cell_type": "code",
   "execution_count": 39,
   "metadata": {},
   "outputs": [
    {
     "data": {
      "application/vnd.plotly.v1+json": {
       "config": {
        "plotlyServerURL": "https://plot.ly"
       },
       "data": [
        {
         "hovertemplate": "Date span: %{x} days<br>Price reduction factor: %{y:.0f}x",
         "marker": {
          "size": 10
         },
         "mode": "markers",
         "text": [
          "n=9",
          "n=7",
          "n=6",
          "n=5",
          "n=5",
          "n=6",
          "n=6",
          "n=4",
          "n=4",
          "n=6",
          "n=6",
          "n=4",
          "n=5",
          "n=6",
          "n=4",
          "n=7",
          "n=6",
          "n=7",
          "n=6",
          "n=5",
          "n=5"
         ],
         "textposition": "top center",
         "type": "scatter",
         "x": [
          738114,
          738489,
          738585,
          738593,
          738830,
          738593,
          738830,
          739019,
          739057,
          738684,
          738830,
          739019,
          738684,
          738830,
          739019,
          738593,
          738684,
          738585,
          738593,
          738830,
          739019
         ],
         "y": [
          11.772872667426151,
          15.830914761762989,
          9.34724894739857,
          15.85676156770196,
          35.791221662400446,
          42.0189988368494,
          46.246021561114674,
          851.1622038749446,
          251.15711308883266,
          18.02982343875724,
          172.26182003815543,
          689.0799024380077,
          72.63549281313398,
          159.5525791437889,
          689.0799024380077,
          36.822471772292936,
          9.240250279099344,
          9.605140145319366,
          75.31861757587912,
          245.5140536105096,
          176.96047076161705
         ]
        },
        {
         "line": {
          "color": "red",
          "dash": "dash"
         },
         "mode": "lines",
         "name": "Trend line (r=0.80)",
         "type": "scatter",
         "x": [
          738114,
          738123.5252525252,
          738133.0505050505,
          738142.5757575758,
          738152.101010101,
          738161.6262626263,
          738171.1515151515,
          738180.6767676767,
          738190.2020202021,
          738199.7272727273,
          738209.2525252525,
          738218.7777777778,
          738228.303030303,
          738237.8282828283,
          738247.3535353536,
          738256.8787878788,
          738266.404040404,
          738275.9292929292,
          738285.4545454546,
          738294.9797979798,
          738304.505050505,
          738314.0303030303,
          738323.5555555555,
          738333.0808080808,
          738342.6060606061,
          738352.1313131313,
          738361.6565656565,
          738371.1818181818,
          738380.7070707071,
          738390.2323232323,
          738399.7575757576,
          738409.2828282828,
          738418.808080808,
          738428.3333333334,
          738437.8585858586,
          738447.3838383838,
          738456.9090909091,
          738466.4343434343,
          738475.9595959596,
          738485.4848484849,
          738495.0101010101,
          738504.5353535353,
          738514.0606060605,
          738523.5858585859,
          738533.1111111111,
          738542.6363636364,
          738552.1616161616,
          738561.6868686868,
          738571.2121212122,
          738580.7373737374,
          738590.2626262626,
          738599.7878787878,
          738609.3131313132,
          738618.8383838384,
          738628.3636363636,
          738637.8888888889,
          738647.4141414141,
          738656.9393939395,
          738666.4646464647,
          738675.9898989899,
          738685.5151515151,
          738695.0404040404,
          738704.5656565657,
          738714.0909090909,
          738723.6161616162,
          738733.1414141414,
          738742.6666666666,
          738752.191919192,
          738761.7171717172,
          738771.2424242424,
          738780.7676767677,
          738790.2929292929,
          738799.8181818182,
          738809.3434343435,
          738818.8686868687,
          738828.3939393939,
          738837.9191919192,
          738847.4444444445,
          738856.9696969697,
          738866.494949495,
          738876.0202020202,
          738885.5454545454,
          738895.0707070708,
          738904.595959596,
          738914.1212121212,
          738923.6464646464,
          738933.1717171717,
          738942.696969697,
          738952.2222222222,
          738961.7474747475,
          738971.2727272727,
          738980.7979797979,
          738990.3232323233,
          738999.8484848485,
          739009.3737373737,
          739018.898989899,
          739028.4242424242,
          739037.9494949495,
          739047.4747474748,
          739057
         ],
         "y": [
          2.4762601174845287,
          2.6022330025222087,
          2.734614409690769,
          2.87373035483147,
          3.019923438936922,
          3.1735536918774927,
          3.334999459050733,
          3.5046583331301804,
          3.682948133213466,
          3.870307933788995,
          4.0671991460494,
          4.2741066542059505,
          4.491540009606439,
          4.720034685623425,
          4.960153396349317,
          5.212487482399336,
          5.477658367212385,
          5.756319087423593,
          6.0491559011071745,
          6.356889977799923,
          6.680279174563324,
          7.020119902338253,
          7.377249087258589,
          7.752546231775723,
          8.146935580584287,
          8.56138839677101,
          8.99692535375473,
          9.454619048887391,
          9.935596644955206,
          10.441042646002597,
          10.972201814472553,
          11.530382236650418,
          12.116958544075498,
          12.733375298889706,
          13.38115055131976,
          14.061879578198262,
          14.77723881166907,
          15.52898996771795,
          16.318984384776257,
          17.149167582946657,
          18.021584055337687,
          18.938382302973366,
          19.90182012593576,
          20.914270183621536,
          21.978225837910667,
          23.09630729360755,
          24.271268051142233,
          25.50600168770025,
          26.803548983219823,
          28.16710540882464,
          29.600028996478493,
          31.105848608706154,
          32.68827262918802,
          34.3511980952655,
          36.098720295379636,
          37.935142854430445,
          39.864988332272894,
          41.89300936156832,
          44.024200351958015,
          46.263809789857724,
          48.617353163961376,
          51.090626548173304,
          53.68972087568411,
          56.42103693889649,
          59.291301152993015,
          62.30758212090223,
          65.47730804107962,
          68.80828500116726,
          72.30871620178652,
          75.98722215885114,
          79.8528619330254,
          83.91515543975008,
          88.18410689388801,
          92.67022944678804,
          97.38457107757537,
          102.33874180066614,
          107.54494225790712,
          113.01599376494671,
          118.76536988639924,
          124.8072296174023,
          131.1564522525573,
          137.82867402962373,
          144.84032663679926,
          152.20867767851954,
          159.95187320129492,
          168.08898238141487,
          176.64004448686666,
          185.62611822779482,
          195.06933361796752,
          204.99294647470623,
          215.42139569030232,
          226.3803634184253,
          237.89683832130234,
          249.9991820344677,
          262.71719901320654,
          276.0822099323063,
          290.1271288192836,
          304.8865441114807,
          320.3968038373074,
          336.6961051309201
         ]
        }
       ],
       "layout": {
        "font": {
         "size": 14
        },
        "height": 500,
        "template": {
         "data": {
          "bar": [
           {
            "error_x": {
             "color": "#2a3f5f"
            },
            "error_y": {
             "color": "#2a3f5f"
            },
            "marker": {
             "line": {
              "color": "white",
              "width": 0.5
             },
             "pattern": {
              "fillmode": "overlay",
              "size": 10,
              "solidity": 0.2
             }
            },
            "type": "bar"
           }
          ],
          "barpolar": [
           {
            "marker": {
             "line": {
              "color": "white",
              "width": 0.5
             },
             "pattern": {
              "fillmode": "overlay",
              "size": 10,
              "solidity": 0.2
             }
            },
            "type": "barpolar"
           }
          ],
          "carpet": [
           {
            "aaxis": {
             "endlinecolor": "#2a3f5f",
             "gridcolor": "#C8D4E3",
             "linecolor": "#C8D4E3",
             "minorgridcolor": "#C8D4E3",
             "startlinecolor": "#2a3f5f"
            },
            "baxis": {
             "endlinecolor": "#2a3f5f",
             "gridcolor": "#C8D4E3",
             "linecolor": "#C8D4E3",
             "minorgridcolor": "#C8D4E3",
             "startlinecolor": "#2a3f5f"
            },
            "type": "carpet"
           }
          ],
          "choropleth": [
           {
            "colorbar": {
             "outlinewidth": 0,
             "ticks": ""
            },
            "type": "choropleth"
           }
          ],
          "contour": [
           {
            "colorbar": {
             "outlinewidth": 0,
             "ticks": ""
            },
            "colorscale": [
             [
              0,
              "#0d0887"
             ],
             [
              0.1111111111111111,
              "#46039f"
             ],
             [
              0.2222222222222222,
              "#7201a8"
             ],
             [
              0.3333333333333333,
              "#9c179e"
             ],
             [
              0.4444444444444444,
              "#bd3786"
             ],
             [
              0.5555555555555556,
              "#d8576b"
             ],
             [
              0.6666666666666666,
              "#ed7953"
             ],
             [
              0.7777777777777778,
              "#fb9f3a"
             ],
             [
              0.8888888888888888,
              "#fdca26"
             ],
             [
              1,
              "#f0f921"
             ]
            ],
            "type": "contour"
           }
          ],
          "contourcarpet": [
           {
            "colorbar": {
             "outlinewidth": 0,
             "ticks": ""
            },
            "type": "contourcarpet"
           }
          ],
          "heatmap": [
           {
            "colorbar": {
             "outlinewidth": 0,
             "ticks": ""
            },
            "colorscale": [
             [
              0,
              "#0d0887"
             ],
             [
              0.1111111111111111,
              "#46039f"
             ],
             [
              0.2222222222222222,
              "#7201a8"
             ],
             [
              0.3333333333333333,
              "#9c179e"
             ],
             [
              0.4444444444444444,
              "#bd3786"
             ],
             [
              0.5555555555555556,
              "#d8576b"
             ],
             [
              0.6666666666666666,
              "#ed7953"
             ],
             [
              0.7777777777777778,
              "#fb9f3a"
             ],
             [
              0.8888888888888888,
              "#fdca26"
             ],
             [
              1,
              "#f0f921"
             ]
            ],
            "type": "heatmap"
           }
          ],
          "heatmapgl": [
           {
            "colorbar": {
             "outlinewidth": 0,
             "ticks": ""
            },
            "colorscale": [
             [
              0,
              "#0d0887"
             ],
             [
              0.1111111111111111,
              "#46039f"
             ],
             [
              0.2222222222222222,
              "#7201a8"
             ],
             [
              0.3333333333333333,
              "#9c179e"
             ],
             [
              0.4444444444444444,
              "#bd3786"
             ],
             [
              0.5555555555555556,
              "#d8576b"
             ],
             [
              0.6666666666666666,
              "#ed7953"
             ],
             [
              0.7777777777777778,
              "#fb9f3a"
             ],
             [
              0.8888888888888888,
              "#fdca26"
             ],
             [
              1,
              "#f0f921"
             ]
            ],
            "type": "heatmapgl"
           }
          ],
          "histogram": [
           {
            "marker": {
             "pattern": {
              "fillmode": "overlay",
              "size": 10,
              "solidity": 0.2
             }
            },
            "type": "histogram"
           }
          ],
          "histogram2d": [
           {
            "colorbar": {
             "outlinewidth": 0,
             "ticks": ""
            },
            "colorscale": [
             [
              0,
              "#0d0887"
             ],
             [
              0.1111111111111111,
              "#46039f"
             ],
             [
              0.2222222222222222,
              "#7201a8"
             ],
             [
              0.3333333333333333,
              "#9c179e"
             ],
             [
              0.4444444444444444,
              "#bd3786"
             ],
             [
              0.5555555555555556,
              "#d8576b"
             ],
             [
              0.6666666666666666,
              "#ed7953"
             ],
             [
              0.7777777777777778,
              "#fb9f3a"
             ],
             [
              0.8888888888888888,
              "#fdca26"
             ],
             [
              1,
              "#f0f921"
             ]
            ],
            "type": "histogram2d"
           }
          ],
          "histogram2dcontour": [
           {
            "colorbar": {
             "outlinewidth": 0,
             "ticks": ""
            },
            "colorscale": [
             [
              0,
              "#0d0887"
             ],
             [
              0.1111111111111111,
              "#46039f"
             ],
             [
              0.2222222222222222,
              "#7201a8"
             ],
             [
              0.3333333333333333,
              "#9c179e"
             ],
             [
              0.4444444444444444,
              "#bd3786"
             ],
             [
              0.5555555555555556,
              "#d8576b"
             ],
             [
              0.6666666666666666,
              "#ed7953"
             ],
             [
              0.7777777777777778,
              "#fb9f3a"
             ],
             [
              0.8888888888888888,
              "#fdca26"
             ],
             [
              1,
              "#f0f921"
             ]
            ],
            "type": "histogram2dcontour"
           }
          ],
          "mesh3d": [
           {
            "colorbar": {
             "outlinewidth": 0,
             "ticks": ""
            },
            "type": "mesh3d"
           }
          ],
          "parcoords": [
           {
            "line": {
             "colorbar": {
              "outlinewidth": 0,
              "ticks": ""
             }
            },
            "type": "parcoords"
           }
          ],
          "pie": [
           {
            "automargin": true,
            "type": "pie"
           }
          ],
          "scatter": [
           {
            "fillpattern": {
             "fillmode": "overlay",
             "size": 10,
             "solidity": 0.2
            },
            "type": "scatter"
           }
          ],
          "scatter3d": [
           {
            "line": {
             "colorbar": {
              "outlinewidth": 0,
              "ticks": ""
             }
            },
            "marker": {
             "colorbar": {
              "outlinewidth": 0,
              "ticks": ""
             }
            },
            "type": "scatter3d"
           }
          ],
          "scattercarpet": [
           {
            "marker": {
             "colorbar": {
              "outlinewidth": 0,
              "ticks": ""
             }
            },
            "type": "scattercarpet"
           }
          ],
          "scattergeo": [
           {
            "marker": {
             "colorbar": {
              "outlinewidth": 0,
              "ticks": ""
             }
            },
            "type": "scattergeo"
           }
          ],
          "scattergl": [
           {
            "marker": {
             "colorbar": {
              "outlinewidth": 0,
              "ticks": ""
             }
            },
            "type": "scattergl"
           }
          ],
          "scattermapbox": [
           {
            "marker": {
             "colorbar": {
              "outlinewidth": 0,
              "ticks": ""
             }
            },
            "type": "scattermapbox"
           }
          ],
          "scatterpolar": [
           {
            "marker": {
             "colorbar": {
              "outlinewidth": 0,
              "ticks": ""
             }
            },
            "type": "scatterpolar"
           }
          ],
          "scatterpolargl": [
           {
            "marker": {
             "colorbar": {
              "outlinewidth": 0,
              "ticks": ""
             }
            },
            "type": "scatterpolargl"
           }
          ],
          "scatterternary": [
           {
            "marker": {
             "colorbar": {
              "outlinewidth": 0,
              "ticks": ""
             }
            },
            "type": "scatterternary"
           }
          ],
          "surface": [
           {
            "colorbar": {
             "outlinewidth": 0,
             "ticks": ""
            },
            "colorscale": [
             [
              0,
              "#0d0887"
             ],
             [
              0.1111111111111111,
              "#46039f"
             ],
             [
              0.2222222222222222,
              "#7201a8"
             ],
             [
              0.3333333333333333,
              "#9c179e"
             ],
             [
              0.4444444444444444,
              "#bd3786"
             ],
             [
              0.5555555555555556,
              "#d8576b"
             ],
             [
              0.6666666666666666,
              "#ed7953"
             ],
             [
              0.7777777777777778,
              "#fb9f3a"
             ],
             [
              0.8888888888888888,
              "#fdca26"
             ],
             [
              1,
              "#f0f921"
             ]
            ],
            "type": "surface"
           }
          ],
          "table": [
           {
            "cells": {
             "fill": {
              "color": "#EBF0F8"
             },
             "line": {
              "color": "white"
             }
            },
            "header": {
             "fill": {
              "color": "#C8D4E3"
             },
             "line": {
              "color": "white"
             }
            },
            "type": "table"
           }
          ]
         },
         "layout": {
          "annotationdefaults": {
           "arrowcolor": "#2a3f5f",
           "arrowhead": 0,
           "arrowwidth": 1
          },
          "autotypenumbers": "strict",
          "coloraxis": {
           "colorbar": {
            "outlinewidth": 0,
            "ticks": ""
           }
          },
          "colorscale": {
           "diverging": [
            [
             0,
             "#8e0152"
            ],
            [
             0.1,
             "#c51b7d"
            ],
            [
             0.2,
             "#de77ae"
            ],
            [
             0.3,
             "#f1b6da"
            ],
            [
             0.4,
             "#fde0ef"
            ],
            [
             0.5,
             "#f7f7f7"
            ],
            [
             0.6,
             "#e6f5d0"
            ],
            [
             0.7,
             "#b8e186"
            ],
            [
             0.8,
             "#7fbc41"
            ],
            [
             0.9,
             "#4d9221"
            ],
            [
             1,
             "#276419"
            ]
           ],
           "sequential": [
            [
             0,
             "#0d0887"
            ],
            [
             0.1111111111111111,
             "#46039f"
            ],
            [
             0.2222222222222222,
             "#7201a8"
            ],
            [
             0.3333333333333333,
             "#9c179e"
            ],
            [
             0.4444444444444444,
             "#bd3786"
            ],
            [
             0.5555555555555556,
             "#d8576b"
            ],
            [
             0.6666666666666666,
             "#ed7953"
            ],
            [
             0.7777777777777778,
             "#fb9f3a"
            ],
            [
             0.8888888888888888,
             "#fdca26"
            ],
            [
             1,
             "#f0f921"
            ]
           ],
           "sequentialminus": [
            [
             0,
             "#0d0887"
            ],
            [
             0.1111111111111111,
             "#46039f"
            ],
            [
             0.2222222222222222,
             "#7201a8"
            ],
            [
             0.3333333333333333,
             "#9c179e"
            ],
            [
             0.4444444444444444,
             "#bd3786"
            ],
            [
             0.5555555555555556,
             "#d8576b"
            ],
            [
             0.6666666666666666,
             "#ed7953"
            ],
            [
             0.7777777777777778,
             "#fb9f3a"
            ],
            [
             0.8888888888888888,
             "#fdca26"
            ],
            [
             1,
             "#f0f921"
            ]
           ]
          },
          "colorway": [
           "#636efa",
           "#EF553B",
           "#00cc96",
           "#ab63fa",
           "#FFA15A",
           "#19d3f3",
           "#FF6692",
           "#B6E880",
           "#FF97FF",
           "#FECB52"
          ],
          "font": {
           "color": "#2a3f5f"
          },
          "geo": {
           "bgcolor": "white",
           "lakecolor": "white",
           "landcolor": "white",
           "showlakes": true,
           "showland": true,
           "subunitcolor": "#C8D4E3"
          },
          "hoverlabel": {
           "align": "left"
          },
          "hovermode": "closest",
          "mapbox": {
           "style": "light"
          },
          "paper_bgcolor": "white",
          "plot_bgcolor": "white",
          "polar": {
           "angularaxis": {
            "gridcolor": "#EBF0F8",
            "linecolor": "#EBF0F8",
            "ticks": ""
           },
           "bgcolor": "white",
           "radialaxis": {
            "gridcolor": "#EBF0F8",
            "linecolor": "#EBF0F8",
            "ticks": ""
           }
          },
          "scene": {
           "xaxis": {
            "backgroundcolor": "white",
            "gridcolor": "#DFE8F3",
            "gridwidth": 2,
            "linecolor": "#EBF0F8",
            "showbackground": true,
            "ticks": "",
            "zerolinecolor": "#EBF0F8"
           },
           "yaxis": {
            "backgroundcolor": "white",
            "gridcolor": "#DFE8F3",
            "gridwidth": 2,
            "linecolor": "#EBF0F8",
            "showbackground": true,
            "ticks": "",
            "zerolinecolor": "#EBF0F8"
           },
           "zaxis": {
            "backgroundcolor": "white",
            "gridcolor": "#DFE8F3",
            "gridwidth": 2,
            "linecolor": "#EBF0F8",
            "showbackground": true,
            "ticks": "",
            "zerolinecolor": "#EBF0F8"
           }
          },
          "shapedefaults": {
           "line": {
            "color": "#2a3f5f"
           }
          },
          "ternary": {
           "aaxis": {
            "gridcolor": "#DFE8F3",
            "linecolor": "#A2B1C6",
            "ticks": ""
           },
           "baxis": {
            "gridcolor": "#DFE8F3",
            "linecolor": "#A2B1C6",
            "ticks": ""
           },
           "bgcolor": "white",
           "caxis": {
            "gridcolor": "#DFE8F3",
            "linecolor": "#A2B1C6",
            "ticks": ""
           }
          },
          "title": {
           "x": 0.05
          },
          "xaxis": {
           "automargin": true,
           "gridcolor": "#EBF0F8",
           "linecolor": "#EBF0F8",
           "ticks": "",
           "title": {
            "standoff": 15
           },
           "zerolinecolor": "#EBF0F8",
           "zerolinewidth": 2
          },
          "yaxis": {
           "automargin": true,
           "gridcolor": "#EBF0F8",
           "linecolor": "#EBF0F8",
           "ticks": "",
           "title": {
            "standoff": 15
           },
           "zerolinecolor": "#EBF0F8",
           "zerolinewidth": 2
          }
         }
        },
        "title": {
         "text": "Correlation between start date and price reduction factor"
        },
        "width": 800,
        "xaxis": {
         "tickmode": "array",
         "ticktext": [
          "2021-11-20",
          "2022-11-30",
          "2023-03-06",
          "2023-03-14",
          "2023-11-06",
          "2023-03-14",
          "2023-11-06",
          "2024-05-13",
          "2024-06-20",
          "2023-06-13",
          "2023-11-06",
          "2024-05-13",
          "2023-06-13",
          "2023-11-06",
          "2024-05-13",
          "2023-03-14",
          "2023-06-13",
          "2023-03-06",
          "2023-03-14",
          "2023-11-06",
          "2024-05-13"
         ],
         "tickvals": [
          738114,
          738489,
          738585,
          738593,
          738830,
          738593,
          738830,
          739019,
          739057,
          738684,
          738830,
          739019,
          738684,
          738830,
          739019,
          738593,
          738684,
          738585,
          738593,
          738830,
          739019
         ],
         "title": {
          "text": "Start date of regression"
         }
        },
        "yaxis": {
         "title": {
          "text": "Price reduction factor per year"
         },
         "type": "log"
        }
       }
      }
     },
     "metadata": {},
     "output_type": "display_data"
    }
   ],
   "source": [
    "# Create a scatter plot of price factors vs date spans\n",
    "fig_corr = go.Figure()\n",
    "\n",
    "fig_corr.add_trace(go.Scatter(\n",
    "    x=start_dates_ordinal,\n",
    "    y=all_price_factors,\n",
    "    mode='markers',\n",
    "    text=[f'n={s}' for s in sample_sizes],\n",
    "    textposition='top center',\n",
    "    marker=dict(size=10),\n",
    "    hovertemplate='Date span: %{x} days<br>Price reduction factor: %{y:.0f}x',\n",
    "))\n",
    "\n",
    "# Update layout\n",
    "fig_corr.update_layout(\n",
    "    title='Correlation between start date and price reduction factor',\n",
    "    xaxis_title='Start date of regression',\n",
    "    yaxis_title='Price reduction factor per year',\n",
    "    width=800,\n",
    "    height=500,\n",
    "    font=dict(size=14),\n",
    ")\n",
    "\n",
    "# Add a trend line\n",
    "z = np.polyfit(start_dates_ordinal, np.log10(all_price_factors), 1)\n",
    "p = np.poly1d(z)\n",
    "x_trend = np.linspace(min(start_dates_ordinal), max(start_dates_ordinal), 100)\n",
    "y_trend = 10**p(x_trend)  # Convert back from log10 to actual values\n",
    "\n",
    "fig_corr.add_trace(go.Scatter(\n",
    "    x=x_trend,\n",
    "    y=y_trend,\n",
    "    mode='lines',\n",
    "    line=dict(color='red', dash='dash'),\n",
    "    name=f'Trend line (r={np.corrcoef(start_dates_ordinal, np.log10(all_price_factors))[0,1]:.2f})',\n",
    "))\n",
    "\n",
    "# Use log scale for y-axis to better visualize the range of values\n",
    "fig_corr.update_layout(yaxis_type=\"log\")\n",
    "fig_corr.update_layout(\n",
    "    yaxis_type=\"log\",\n",
    "    xaxis=dict(\n",
    "        tickmode='array',\n",
    "        tickvals=start_dates_ordinal,\n",
    "        ticktext=[pd.Timestamp.fromordinal(int(date)).strftime('%Y-%m-%d') for date in start_dates_ordinal]\n",
    "    )\n",
    ")\n",
    "\n",
    "if save:\n",
    "    save_plot(fig_corr, results_subdir, 'price_factor_start_date_correlation', ['png'])\n",
    "fig_corr.show()"
   ]
  },
  {
   "cell_type": "code",
   "execution_count": 40,
   "metadata": {},
   "outputs": [
    {
     "data": {
      "application/vnd.plotly.v1+json": {
       "config": {
        "plotlyServerURL": "https://plot.ly"
       },
       "data": [
        {
         "marker": {
          "size": 10
         },
         "mode": "markers",
         "textposition": "top center",
         "type": "scatter",
         "x": [
          9,
          7,
          6,
          5,
          5,
          6,
          6,
          4,
          4,
          6,
          6,
          4,
          5,
          6,
          4,
          7,
          6,
          7,
          6,
          5,
          5
         ],
         "y": [
          1.070882446818741,
          1.1995060105356188,
          0.9706838095070646,
          1.200214495914405,
          1.553776522424213,
          1.6234457005018326,
          1.6650743773264614,
          2.9300123303962358,
          2.3999454824417525,
          1.2559914738134226,
          2.2361890314576027,
          2.838269583556315,
          1.861148887452519,
          2.2029038288921887,
          2.838269583556315,
          1.5661129379169647,
          0.9656837345707265,
          0.9825037058863993,
          1.8769023402257066,
          2.3900763568696086,
          2.2478762649642325
         ]
        },
        {
         "line": {
          "color": "red",
          "dash": "dash"
         },
         "mode": "lines",
         "name": "Trend line (r=-0.72)",
         "type": "scatter",
         "x": [
          4,
          4.05050505050505,
          4.101010101010101,
          4.151515151515151,
          4.202020202020202,
          4.252525252525253,
          4.303030303030303,
          4.353535353535354,
          4.404040404040404,
          4.454545454545454,
          4.505050505050505,
          4.555555555555555,
          4.606060606060606,
          4.656565656565657,
          4.707070707070707,
          4.757575757575758,
          4.808080808080808,
          4.858585858585858,
          4.909090909090909,
          4.959595959595959,
          5.01010101010101,
          5.0606060606060606,
          5.111111111111111,
          5.161616161616162,
          5.212121212121212,
          5.262626262626263,
          5.313131313131313,
          5.363636363636363,
          5.414141414141414,
          5.4646464646464645,
          5.515151515151516,
          5.565656565656566,
          5.616161616161616,
          5.666666666666667,
          5.717171717171717,
          5.767676767676768,
          5.818181818181818,
          5.8686868686868685,
          5.919191919191919,
          5.96969696969697,
          6.020202020202021,
          6.070707070707071,
          6.121212121212121,
          6.171717171717171,
          6.222222222222222,
          6.2727272727272725,
          6.3232323232323235,
          6.373737373737374,
          6.424242424242424,
          6.474747474747475,
          6.525252525252525,
          6.575757575757576,
          6.626262626262626,
          6.6767676767676765,
          6.727272727272727,
          6.777777777777778,
          6.828282828282829,
          6.878787878787879,
          6.929292929292929,
          6.979797979797979,
          7.03030303030303,
          7.080808080808081,
          7.1313131313131315,
          7.181818181818182,
          7.232323232323232,
          7.282828282828283,
          7.333333333333334,
          7.383838383838384,
          7.434343434343434,
          7.484848484848484,
          7.5353535353535355,
          7.585858585858586,
          7.636363636363637,
          7.686868686868687,
          7.737373737373737,
          7.787878787878787,
          7.838383838383838,
          7.888888888888889,
          7.9393939393939394,
          7.98989898989899,
          8.040404040404042,
          8.09090909090909,
          8.141414141414142,
          8.191919191919192,
          8.242424242424242,
          8.292929292929294,
          8.343434343434343,
          8.393939393939394,
          8.444444444444445,
          8.494949494949495,
          8.545454545454545,
          8.595959595959595,
          8.646464646464647,
          8.696969696969697,
          8.747474747474747,
          8.797979797979798,
          8.848484848484848,
          8.8989898989899,
          8.94949494949495,
          9
         ],
         "y": [
          2.4383850721135456,
          2.419148971667144,
          2.3999128712207423,
          2.3806767707743415,
          2.36144067032794,
          2.342204569881538,
          2.3229684694351374,
          2.3037323689887357,
          2.284496268542334,
          2.2652601680959332,
          2.2460240676495316,
          2.2267879672031303,
          2.2075518667567287,
          2.1883157663103274,
          2.169079665863926,
          2.1498435654175245,
          2.1306074649711233,
          2.111371364524722,
          2.0921352640783204,
          2.072899163631919,
          2.0536630631855175,
          2.0344269627391163,
          2.015190862292715,
          1.9959547618463134,
          1.9767186613999121,
          1.9574825609535105,
          1.9382464605071092,
          1.919010360060708,
          1.8997742596143063,
          1.8805381591679051,
          1.8613020587215034,
          1.8420659582751022,
          1.822829857828701,
          1.8035937573822998,
          1.784357656935898,
          1.7651215564894969,
          1.7458854560430956,
          1.7266493555966944,
          1.7074132551502927,
          1.6881771547038915,
          1.6689410542574898,
          1.6497049538110886,
          1.6304688533646874,
          1.6112327529182862,
          1.5919966524718845,
          1.5727605520254833,
          1.5535244515790816,
          1.5342883511326804,
          1.5150522506862791,
          1.4958161502398775,
          1.4765800497934762,
          1.4573439493470746,
          1.4381078489006733,
          1.418871748454272,
          1.3996356480078709,
          1.3803995475614692,
          1.3611634471150675,
          1.3419273466686663,
          1.322691246222265,
          1.3034551457758639,
          1.2842190453294622,
          1.2649829448830605,
          1.2457468444366593,
          1.226510743990258,
          1.2072746435438568,
          1.1880385430974552,
          1.168802442651054,
          1.1495663422046527,
          1.130330241758251,
          1.1110941413118498,
          1.0918580408654486,
          1.0726219404190473,
          1.0533858399726457,
          1.0341497395262444,
          1.0149136390798432,
          0.9956775386334416,
          0.9764414381870403,
          0.9572053377406387,
          0.9379692372942374,
          0.9187331368478362,
          0.8994970364014341,
          0.8802609359550337,
          0.8610248355086316,
          0.8417887350622304,
          0.8225526346158292,
          0.803316534169427,
          0.7840804337230267,
          0.7648443332766246,
          0.7456082328302234,
          0.7263721323838221,
          0.7071360319374209,
          0.6878999314910197,
          0.6686638310446176,
          0.6494277305982163,
          0.6301916301518151,
          0.6109555297054139,
          0.5917194292590127,
          0.5724833288126105,
          0.5532472283662093,
          0.5340111279198081
         ]
        }
       ],
       "layout": {
        "font": {
         "size": 14
        },
        "height": 500,
        "template": {
         "data": {
          "bar": [
           {
            "error_x": {
             "color": "#2a3f5f"
            },
            "error_y": {
             "color": "#2a3f5f"
            },
            "marker": {
             "line": {
              "color": "white",
              "width": 0.5
             },
             "pattern": {
              "fillmode": "overlay",
              "size": 10,
              "solidity": 0.2
             }
            },
            "type": "bar"
           }
          ],
          "barpolar": [
           {
            "marker": {
             "line": {
              "color": "white",
              "width": 0.5
             },
             "pattern": {
              "fillmode": "overlay",
              "size": 10,
              "solidity": 0.2
             }
            },
            "type": "barpolar"
           }
          ],
          "carpet": [
           {
            "aaxis": {
             "endlinecolor": "#2a3f5f",
             "gridcolor": "#C8D4E3",
             "linecolor": "#C8D4E3",
             "minorgridcolor": "#C8D4E3",
             "startlinecolor": "#2a3f5f"
            },
            "baxis": {
             "endlinecolor": "#2a3f5f",
             "gridcolor": "#C8D4E3",
             "linecolor": "#C8D4E3",
             "minorgridcolor": "#C8D4E3",
             "startlinecolor": "#2a3f5f"
            },
            "type": "carpet"
           }
          ],
          "choropleth": [
           {
            "colorbar": {
             "outlinewidth": 0,
             "ticks": ""
            },
            "type": "choropleth"
           }
          ],
          "contour": [
           {
            "colorbar": {
             "outlinewidth": 0,
             "ticks": ""
            },
            "colorscale": [
             [
              0,
              "#0d0887"
             ],
             [
              0.1111111111111111,
              "#46039f"
             ],
             [
              0.2222222222222222,
              "#7201a8"
             ],
             [
              0.3333333333333333,
              "#9c179e"
             ],
             [
              0.4444444444444444,
              "#bd3786"
             ],
             [
              0.5555555555555556,
              "#d8576b"
             ],
             [
              0.6666666666666666,
              "#ed7953"
             ],
             [
              0.7777777777777778,
              "#fb9f3a"
             ],
             [
              0.8888888888888888,
              "#fdca26"
             ],
             [
              1,
              "#f0f921"
             ]
            ],
            "type": "contour"
           }
          ],
          "contourcarpet": [
           {
            "colorbar": {
             "outlinewidth": 0,
             "ticks": ""
            },
            "type": "contourcarpet"
           }
          ],
          "heatmap": [
           {
            "colorbar": {
             "outlinewidth": 0,
             "ticks": ""
            },
            "colorscale": [
             [
              0,
              "#0d0887"
             ],
             [
              0.1111111111111111,
              "#46039f"
             ],
             [
              0.2222222222222222,
              "#7201a8"
             ],
             [
              0.3333333333333333,
              "#9c179e"
             ],
             [
              0.4444444444444444,
              "#bd3786"
             ],
             [
              0.5555555555555556,
              "#d8576b"
             ],
             [
              0.6666666666666666,
              "#ed7953"
             ],
             [
              0.7777777777777778,
              "#fb9f3a"
             ],
             [
              0.8888888888888888,
              "#fdca26"
             ],
             [
              1,
              "#f0f921"
             ]
            ],
            "type": "heatmap"
           }
          ],
          "heatmapgl": [
           {
            "colorbar": {
             "outlinewidth": 0,
             "ticks": ""
            },
            "colorscale": [
             [
              0,
              "#0d0887"
             ],
             [
              0.1111111111111111,
              "#46039f"
             ],
             [
              0.2222222222222222,
              "#7201a8"
             ],
             [
              0.3333333333333333,
              "#9c179e"
             ],
             [
              0.4444444444444444,
              "#bd3786"
             ],
             [
              0.5555555555555556,
              "#d8576b"
             ],
             [
              0.6666666666666666,
              "#ed7953"
             ],
             [
              0.7777777777777778,
              "#fb9f3a"
             ],
             [
              0.8888888888888888,
              "#fdca26"
             ],
             [
              1,
              "#f0f921"
             ]
            ],
            "type": "heatmapgl"
           }
          ],
          "histogram": [
           {
            "marker": {
             "pattern": {
              "fillmode": "overlay",
              "size": 10,
              "solidity": 0.2
             }
            },
            "type": "histogram"
           }
          ],
          "histogram2d": [
           {
            "colorbar": {
             "outlinewidth": 0,
             "ticks": ""
            },
            "colorscale": [
             [
              0,
              "#0d0887"
             ],
             [
              0.1111111111111111,
              "#46039f"
             ],
             [
              0.2222222222222222,
              "#7201a8"
             ],
             [
              0.3333333333333333,
              "#9c179e"
             ],
             [
              0.4444444444444444,
              "#bd3786"
             ],
             [
              0.5555555555555556,
              "#d8576b"
             ],
             [
              0.6666666666666666,
              "#ed7953"
             ],
             [
              0.7777777777777778,
              "#fb9f3a"
             ],
             [
              0.8888888888888888,
              "#fdca26"
             ],
             [
              1,
              "#f0f921"
             ]
            ],
            "type": "histogram2d"
           }
          ],
          "histogram2dcontour": [
           {
            "colorbar": {
             "outlinewidth": 0,
             "ticks": ""
            },
            "colorscale": [
             [
              0,
              "#0d0887"
             ],
             [
              0.1111111111111111,
              "#46039f"
             ],
             [
              0.2222222222222222,
              "#7201a8"
             ],
             [
              0.3333333333333333,
              "#9c179e"
             ],
             [
              0.4444444444444444,
              "#bd3786"
             ],
             [
              0.5555555555555556,
              "#d8576b"
             ],
             [
              0.6666666666666666,
              "#ed7953"
             ],
             [
              0.7777777777777778,
              "#fb9f3a"
             ],
             [
              0.8888888888888888,
              "#fdca26"
             ],
             [
              1,
              "#f0f921"
             ]
            ],
            "type": "histogram2dcontour"
           }
          ],
          "mesh3d": [
           {
            "colorbar": {
             "outlinewidth": 0,
             "ticks": ""
            },
            "type": "mesh3d"
           }
          ],
          "parcoords": [
           {
            "line": {
             "colorbar": {
              "outlinewidth": 0,
              "ticks": ""
             }
            },
            "type": "parcoords"
           }
          ],
          "pie": [
           {
            "automargin": true,
            "type": "pie"
           }
          ],
          "scatter": [
           {
            "fillpattern": {
             "fillmode": "overlay",
             "size": 10,
             "solidity": 0.2
            },
            "type": "scatter"
           }
          ],
          "scatter3d": [
           {
            "line": {
             "colorbar": {
              "outlinewidth": 0,
              "ticks": ""
             }
            },
            "marker": {
             "colorbar": {
              "outlinewidth": 0,
              "ticks": ""
             }
            },
            "type": "scatter3d"
           }
          ],
          "scattercarpet": [
           {
            "marker": {
             "colorbar": {
              "outlinewidth": 0,
              "ticks": ""
             }
            },
            "type": "scattercarpet"
           }
          ],
          "scattergeo": [
           {
            "marker": {
             "colorbar": {
              "outlinewidth": 0,
              "ticks": ""
             }
            },
            "type": "scattergeo"
           }
          ],
          "scattergl": [
           {
            "marker": {
             "colorbar": {
              "outlinewidth": 0,
              "ticks": ""
             }
            },
            "type": "scattergl"
           }
          ],
          "scattermapbox": [
           {
            "marker": {
             "colorbar": {
              "outlinewidth": 0,
              "ticks": ""
             }
            },
            "type": "scattermapbox"
           }
          ],
          "scatterpolar": [
           {
            "marker": {
             "colorbar": {
              "outlinewidth": 0,
              "ticks": ""
             }
            },
            "type": "scatterpolar"
           }
          ],
          "scatterpolargl": [
           {
            "marker": {
             "colorbar": {
              "outlinewidth": 0,
              "ticks": ""
             }
            },
            "type": "scatterpolargl"
           }
          ],
          "scatterternary": [
           {
            "marker": {
             "colorbar": {
              "outlinewidth": 0,
              "ticks": ""
             }
            },
            "type": "scatterternary"
           }
          ],
          "surface": [
           {
            "colorbar": {
             "outlinewidth": 0,
             "ticks": ""
            },
            "colorscale": [
             [
              0,
              "#0d0887"
             ],
             [
              0.1111111111111111,
              "#46039f"
             ],
             [
              0.2222222222222222,
              "#7201a8"
             ],
             [
              0.3333333333333333,
              "#9c179e"
             ],
             [
              0.4444444444444444,
              "#bd3786"
             ],
             [
              0.5555555555555556,
              "#d8576b"
             ],
             [
              0.6666666666666666,
              "#ed7953"
             ],
             [
              0.7777777777777778,
              "#fb9f3a"
             ],
             [
              0.8888888888888888,
              "#fdca26"
             ],
             [
              1,
              "#f0f921"
             ]
            ],
            "type": "surface"
           }
          ],
          "table": [
           {
            "cells": {
             "fill": {
              "color": "#EBF0F8"
             },
             "line": {
              "color": "white"
             }
            },
            "header": {
             "fill": {
              "color": "#C8D4E3"
             },
             "line": {
              "color": "white"
             }
            },
            "type": "table"
           }
          ]
         },
         "layout": {
          "annotationdefaults": {
           "arrowcolor": "#2a3f5f",
           "arrowhead": 0,
           "arrowwidth": 1
          },
          "autotypenumbers": "strict",
          "coloraxis": {
           "colorbar": {
            "outlinewidth": 0,
            "ticks": ""
           }
          },
          "colorscale": {
           "diverging": [
            [
             0,
             "#8e0152"
            ],
            [
             0.1,
             "#c51b7d"
            ],
            [
             0.2,
             "#de77ae"
            ],
            [
             0.3,
             "#f1b6da"
            ],
            [
             0.4,
             "#fde0ef"
            ],
            [
             0.5,
             "#f7f7f7"
            ],
            [
             0.6,
             "#e6f5d0"
            ],
            [
             0.7,
             "#b8e186"
            ],
            [
             0.8,
             "#7fbc41"
            ],
            [
             0.9,
             "#4d9221"
            ],
            [
             1,
             "#276419"
            ]
           ],
           "sequential": [
            [
             0,
             "#0d0887"
            ],
            [
             0.1111111111111111,
             "#46039f"
            ],
            [
             0.2222222222222222,
             "#7201a8"
            ],
            [
             0.3333333333333333,
             "#9c179e"
            ],
            [
             0.4444444444444444,
             "#bd3786"
            ],
            [
             0.5555555555555556,
             "#d8576b"
            ],
            [
             0.6666666666666666,
             "#ed7953"
            ],
            [
             0.7777777777777778,
             "#fb9f3a"
            ],
            [
             0.8888888888888888,
             "#fdca26"
            ],
            [
             1,
             "#f0f921"
            ]
           ],
           "sequentialminus": [
            [
             0,
             "#0d0887"
            ],
            [
             0.1111111111111111,
             "#46039f"
            ],
            [
             0.2222222222222222,
             "#7201a8"
            ],
            [
             0.3333333333333333,
             "#9c179e"
            ],
            [
             0.4444444444444444,
             "#bd3786"
            ],
            [
             0.5555555555555556,
             "#d8576b"
            ],
            [
             0.6666666666666666,
             "#ed7953"
            ],
            [
             0.7777777777777778,
             "#fb9f3a"
            ],
            [
             0.8888888888888888,
             "#fdca26"
            ],
            [
             1,
             "#f0f921"
            ]
           ]
          },
          "colorway": [
           "#636efa",
           "#EF553B",
           "#00cc96",
           "#ab63fa",
           "#FFA15A",
           "#19d3f3",
           "#FF6692",
           "#B6E880",
           "#FF97FF",
           "#FECB52"
          ],
          "font": {
           "color": "#2a3f5f"
          },
          "geo": {
           "bgcolor": "white",
           "lakecolor": "white",
           "landcolor": "white",
           "showlakes": true,
           "showland": true,
           "subunitcolor": "#C8D4E3"
          },
          "hoverlabel": {
           "align": "left"
          },
          "hovermode": "closest",
          "mapbox": {
           "style": "light"
          },
          "paper_bgcolor": "white",
          "plot_bgcolor": "white",
          "polar": {
           "angularaxis": {
            "gridcolor": "#EBF0F8",
            "linecolor": "#EBF0F8",
            "ticks": ""
           },
           "bgcolor": "white",
           "radialaxis": {
            "gridcolor": "#EBF0F8",
            "linecolor": "#EBF0F8",
            "ticks": ""
           }
          },
          "scene": {
           "xaxis": {
            "backgroundcolor": "white",
            "gridcolor": "#DFE8F3",
            "gridwidth": 2,
            "linecolor": "#EBF0F8",
            "showbackground": true,
            "ticks": "",
            "zerolinecolor": "#EBF0F8"
           },
           "yaxis": {
            "backgroundcolor": "white",
            "gridcolor": "#DFE8F3",
            "gridwidth": 2,
            "linecolor": "#EBF0F8",
            "showbackground": true,
            "ticks": "",
            "zerolinecolor": "#EBF0F8"
           },
           "zaxis": {
            "backgroundcolor": "white",
            "gridcolor": "#DFE8F3",
            "gridwidth": 2,
            "linecolor": "#EBF0F8",
            "showbackground": true,
            "ticks": "",
            "zerolinecolor": "#EBF0F8"
           }
          },
          "shapedefaults": {
           "line": {
            "color": "#2a3f5f"
           }
          },
          "ternary": {
           "aaxis": {
            "gridcolor": "#DFE8F3",
            "linecolor": "#A2B1C6",
            "ticks": ""
           },
           "baxis": {
            "gridcolor": "#DFE8F3",
            "linecolor": "#A2B1C6",
            "ticks": ""
           },
           "bgcolor": "white",
           "caxis": {
            "gridcolor": "#DFE8F3",
            "linecolor": "#A2B1C6",
            "ticks": ""
           }
          },
          "title": {
           "x": 0.05
          },
          "xaxis": {
           "automargin": true,
           "gridcolor": "#EBF0F8",
           "linecolor": "#EBF0F8",
           "ticks": "",
           "title": {
            "standoff": 15
           },
           "zerolinecolor": "#EBF0F8",
           "zerolinewidth": 2
          },
          "yaxis": {
           "automargin": true,
           "gridcolor": "#EBF0F8",
           "linecolor": "#EBF0F8",
           "ticks": "",
           "title": {
            "standoff": 15
           },
           "zerolinecolor": "#EBF0F8",
           "zerolinewidth": 2
          }
         }
        },
        "title": {
         "text": "Correlation between sample size and price reduction factor"
        },
        "width": 800,
        "xaxis": {
         "title": {
          "text": "Sample size of regression"
         }
        },
        "yaxis": {
         "title": {
          "text": "Price reduction factor per year (log10)"
         }
        }
       }
      }
     },
     "metadata": {},
     "output_type": "display_data"
    }
   ],
   "source": [
    "\n",
    "# Create a scatter plot of log10(price factors) vs date spans\n",
    "fig_corr = go.Figure()\n",
    "\n",
    "fig_corr.add_trace(go.Scatter(\n",
    "    x=sample_sizes,\n",
    "    y=np.log10(all_price_factors),\n",
    "    mode='markers',\n",
    "    textposition='top center',\n",
    "    marker=dict(size=10),\n",
    "))\n",
    "\n",
    "# Update layout\n",
    "fig_corr.update_layout(\n",
    "    title='Correlation between sample size and price reduction factor',\n",
    "    xaxis_title='Sample size of regression',\n",
    "    yaxis_title='Price reduction factor per year (log10)',\n",
    "    width=800,\n",
    "    height=500,\n",
    "    font=dict(size=14),\n",
    ")\n",
    "\n",
    "# Add a trend line\n",
    "z = np.polyfit(sample_sizes, np.log10(all_price_factors), 1)\n",
    "p = np.poly1d(z)\n",
    "x_trend = np.linspace(min(sample_sizes), max(sample_sizes), 100)\n",
    "y_trend = p(x_trend)\n",
    "\n",
    "fig_corr.add_trace(go.Scatter(\n",
    "    x=x_trend,\n",
    "    y=y_trend,\n",
    "    mode='lines',\n",
    "    line=dict(color='red', dash='dash'),\n",
    "    name=f'Trend line (r={np.corrcoef(sample_sizes, np.log10(all_price_factors))[0,1]:.2f})',\n",
    "))\n",
    "if save:\n",
    "    save_plot(fig_corr, results_subdir, 'price_factor_sample_size_correlation', ['png'])\n",
    "fig_corr.show()\n"
   ]
  },
  {
   "cell_type": "code",
   "execution_count": 41,
   "metadata": {},
   "outputs": [
    {
     "name": "stdout",
     "output_type": "stream",
     "text": [
      "Minimum date span of 0 days\n",
      "21 models remaining\n",
      "-0.8050977862376139\n",
      "[  9.24025028  46.24602156 851.16220387]\n",
      "Minimum date span of 10 days\n",
      "21 models remaining\n",
      "-0.8050977862376139\n",
      "[  9.24025028  46.24602156 851.16220387]\n",
      "Minimum date span of 20 days\n",
      "21 models remaining\n",
      "-0.8050977862376139\n",
      "[  9.24025028  46.24602156 851.16220387]\n",
      "Minimum date span of 30 days\n",
      "21 models remaining\n",
      "-0.8050977862376139\n",
      "[  9.24025028  46.24602156 851.16220387]\n",
      "Minimum date span of 40 days\n",
      "21 models remaining\n",
      "-0.8050977862376139\n",
      "[  9.24025028  46.24602156 851.16220387]\n",
      "Minimum date span of 50 days\n",
      "21 models remaining\n",
      "-0.8050977862376139\n",
      "[  9.24025028  46.24602156 851.16220387]\n",
      "Minimum date span of 60 days\n",
      "21 models remaining\n",
      "-0.8050977862376139\n",
      "[  9.24025028  46.24602156 851.16220387]\n",
      "Minimum date span of 70 days\n",
      "21 models remaining\n",
      "-0.8050977862376139\n",
      "[  9.24025028  46.24602156 851.16220387]\n",
      "Minimum date span of 80 days\n",
      "21 models remaining\n",
      "-0.8050977862376139\n",
      "[  9.24025028  46.24602156 851.16220387]\n",
      "Minimum date span of 90 days\n",
      "21 models remaining\n",
      "-0.8050977862376139\n",
      "[  9.24025028  46.24602156 851.16220387]\n",
      "Minimum date span of 100 days\n",
      "21 models remaining\n",
      "-0.8050977862376139\n",
      "[  9.24025028  46.24602156 851.16220387]\n",
      "Minimum date span of 110 days\n",
      "21 models remaining\n",
      "-0.8050977862376139\n",
      "[  9.24025028  46.24602156 851.16220387]\n",
      "Minimum date span of 120 days\n",
      "21 models remaining\n",
      "-0.8050977862376139\n",
      "[  9.24025028  46.24602156 851.16220387]\n",
      "Minimum date span of 130 days\n",
      "21 models remaining\n",
      "-0.8050977862376139\n",
      "[  9.24025028  46.24602156 851.16220387]\n",
      "Minimum date span of 140 days\n",
      "21 models remaining\n",
      "-0.8050977862376139\n",
      "[  9.24025028  46.24602156 851.16220387]\n",
      "Minimum date span of 150 days\n",
      "21 models remaining\n",
      "-0.8050977862376139\n",
      "[  9.24025028  46.24602156 851.16220387]\n",
      "Minimum date span of 160 days\n",
      "21 models remaining\n",
      "-0.8050977862376139\n",
      "[  9.24025028  46.24602156 851.16220387]\n",
      "Minimum date span of 170 days\n",
      "21 models remaining\n",
      "-0.8050977862376139\n",
      "[  9.24025028  46.24602156 851.16220387]\n",
      "Minimum date span of 180 days\n",
      "21 models remaining\n",
      "-0.8050977862376139\n",
      "[  9.24025028  46.24602156 851.16220387]\n",
      "Minimum date span of 190 days\n",
      "21 models remaining\n",
      "-0.8050977862376139\n",
      "[  9.24025028  46.24602156 851.16220387]\n",
      "Minimum date span of 200 days\n",
      "21 models remaining\n",
      "-0.8050977862376139\n",
      "[  9.24025028  46.24602156 851.16220387]\n",
      "Minimum date span of 210 days\n",
      "21 models remaining\n",
      "-0.8050977862376139\n",
      "[  9.24025028  46.24602156 851.16220387]\n",
      "Minimum date span of 220 days\n",
      "18 models remaining\n",
      "-0.712216850258918\n",
      "[  9.24025028  39.4207353  251.15711309]\n",
      "Minimum date span of 230 days\n",
      "18 models remaining\n",
      "-0.712216850258918\n",
      "[  9.24025028  39.4207353  251.15711309]\n",
      "Minimum date span of 240 days\n",
      "17 models remaining\n",
      "-0.6633751309262459\n",
      "[  9.24025028  36.82247177 245.51405361]\n",
      "Minimum date span of 250 days\n",
      "17 models remaining\n",
      "-0.6633751309262459\n",
      "[  9.24025028  36.82247177 245.51405361]\n",
      "Minimum date span of 260 days\n",
      "17 models remaining\n",
      "-0.6633751309262459\n",
      "[  9.24025028  36.82247177 245.51405361]\n",
      "Minimum date span of 270 days\n",
      "16 models remaining\n",
      "-0.6108610516458922\n",
      "[  9.24025028  36.30684672 245.51405361]\n",
      "Minimum date span of 280 days\n",
      "16 models remaining\n",
      "-0.6108610516458922\n",
      "[  9.24025028  36.30684672 245.51405361]\n",
      "Minimum date span of 290 days\n",
      "16 models remaining\n",
      "-0.6108610516458922\n",
      "[  9.24025028  36.30684672 245.51405361]\n",
      "Minimum date span of 300 days\n",
      "16 models remaining\n",
      "-0.6108610516458922\n",
      "[  9.24025028  36.30684672 245.51405361]\n",
      "Minimum date span of 310 days\n",
      "16 models remaining\n",
      "-0.6108610516458922\n",
      "[  9.24025028  36.30684672 245.51405361]\n",
      "Minimum date span of 320 days\n",
      "16 models remaining\n",
      "-0.6108610516458922\n",
      "[  9.24025028  36.30684672 245.51405361]\n",
      "Minimum date span of 330 days\n",
      "15 models remaining\n",
      "-0.5344185248057309\n",
      "[  9.24025028  35.79122166 172.26182004]\n",
      "Minimum date span of 340 days\n",
      "15 models remaining\n",
      "-0.5344185248057309\n",
      "[  9.24025028  35.79122166 172.26182004]\n",
      "Minimum date span of 350 days\n",
      "15 models remaining\n",
      "-0.5344185248057309\n",
      "[  9.24025028  35.79122166 172.26182004]\n",
      "Minimum date span of 360 days\n",
      "15 models remaining\n",
      "-0.5344185248057309\n",
      "[  9.24025028  35.79122166 172.26182004]\n",
      "Minimum date span of 370 days\n",
      "15 models remaining\n",
      "-0.5344185248057309\n",
      "[  9.24025028  35.79122166 172.26182004]\n",
      "Minimum date span of 380 days\n",
      "15 models remaining\n",
      "-0.5344185248057309\n",
      "[  9.24025028  35.79122166 172.26182004]\n",
      "Minimum date span of 390 days\n",
      "15 models remaining\n",
      "-0.5344185248057309\n",
      "[  9.24025028  35.79122166 172.26182004]\n",
      "Minimum date span of 400 days\n",
      "15 models remaining\n",
      "-0.5344185248057309\n",
      "[  9.24025028  35.79122166 172.26182004]\n",
      "Minimum date span of 410 days\n",
      "12 models remaining\n",
      "-0.3163824284007754\n",
      "[ 9.24025028 16.9432925  75.31861758]\n",
      "Minimum date span of 420 days\n",
      "12 models remaining\n",
      "-0.3163824284007754\n",
      "[ 9.24025028 16.9432925  75.31861758]\n",
      "Minimum date span of 430 days\n",
      "12 models remaining\n",
      "-0.3163824284007754\n",
      "[ 9.24025028 16.9432925  75.31861758]\n",
      "Minimum date span of 440 days\n",
      "12 models remaining\n",
      "-0.3163824284007754\n",
      "[ 9.24025028 16.9432925  75.31861758]\n",
      "Minimum date span of 450 days\n",
      "12 models remaining\n",
      "-0.3163824284007754\n",
      "[ 9.24025028 16.9432925  75.31861758]\n",
      "Minimum date span of 460 days\n",
      "11 models remaining\n",
      "-0.27481198318660377\n",
      "[ 9.24025028 15.85676157 75.31861758]\n",
      "Minimum date span of 470 days\n",
      "11 models remaining\n",
      "-0.27481198318660377\n",
      "[ 9.24025028 15.85676157 75.31861758]\n",
      "Minimum date span of 480 days\n",
      "10 models remaining\n",
      "-0.31072393731263526\n",
      "[ 9.24025028 15.84383816 75.31861758]\n",
      "Minimum date span of 490 days\n",
      "10 models remaining\n",
      "-0.31072393731263526\n",
      "[ 9.24025028 15.84383816 75.31861758]\n",
      "Minimum date span of 500 days\n",
      "9 models remaining\n",
      "-0.25937958687636814\n",
      "[ 9.24025028 15.83091476 75.31861758]\n",
      "Minimum date span of 510 days\n",
      "9 models remaining\n",
      "-0.25937958687636814\n",
      "[ 9.24025028 15.83091476 75.31861758]\n",
      "Minimum date span of 520 days\n",
      "9 models remaining\n",
      "-0.25937958687636814\n",
      "[ 9.24025028 15.83091476 75.31861758]\n",
      "Minimum date span of 530 days\n",
      "9 models remaining\n",
      "-0.25937958687636814\n",
      "[ 9.24025028 15.83091476 75.31861758]\n",
      "Minimum date span of 540 days\n",
      "9 models remaining\n",
      "-0.25937958687636814\n",
      "[ 9.24025028 15.83091476 75.31861758]\n",
      "Minimum date span of 550 days\n",
      "7 models remaining\n",
      "-0.27165235336606275\n",
      "[ 9.34724895 15.83091476 75.31861758]\n",
      "Minimum date span of 560 days\n",
      "7 models remaining\n",
      "-0.27165235336606275\n",
      "[ 9.34724895 15.83091476 75.31861758]\n",
      "Minimum date span of 570 days\n",
      "6 models remaining\n",
      "-0.0710071068770615\n",
      "[ 9.34724895 13.80189371 42.01899884]\n",
      "Minimum date span of 580 days\n",
      "4 models remaining\n",
      "-0.6454829750630947\n",
      "[11.77287267 15.84383816 42.01899884]\n",
      "Minimum date span of 590 days\n",
      "4 models remaining\n",
      "-0.6454829750630947\n",
      "[11.77287267 15.84383816 42.01899884]\n",
      "Minimum date span of 600 days\n",
      "4 models remaining\n",
      "-0.6454829750630947\n",
      "[11.77287267 15.84383816 42.01899884]\n",
      "Minimum date span of 610 days\n",
      "4 models remaining\n",
      "-0.6454829750630947\n",
      "[11.77287267 15.84383816 42.01899884]\n",
      "Minimum date span of 620 days\n",
      "4 models remaining\n",
      "-0.6454829750630947\n",
      "[11.77287267 15.84383816 42.01899884]\n",
      "Minimum date span of 630 days\n",
      "4 models remaining\n",
      "-0.6454829750630947\n",
      "[11.77287267 15.84383816 42.01899884]\n",
      "Minimum date span of 640 days\n",
      "4 models remaining\n",
      "-0.6454829750630947\n",
      "[11.77287267 15.84383816 42.01899884]\n",
      "Minimum date span of 650 days\n",
      "3 models remaining\n",
      "-0.9985092315647606\n",
      "[11.77287267 15.83091476 15.85676157]\n",
      "Minimum date span of 660 days\n",
      "3 models remaining\n",
      "-0.9985092315647606\n",
      "[11.77287267 15.83091476 15.85676157]\n",
      "Minimum date span of 670 days\n",
      "3 models remaining\n",
      "-0.9985092315647606\n",
      "[11.77287267 15.83091476 15.85676157]\n",
      "Minimum date span of 680 days\n",
      "2 models remaining\n",
      "-1.0\n",
      "[11.77287267 13.81481712 15.85676157]\n",
      "Minimum date span of 690 days\n",
      "2 models remaining\n",
      "-1.0\n",
      "[11.77287267 13.81481712 15.85676157]\n",
      "Minimum date span of 700 days\n",
      "1 models remaining\n",
      "nan\n",
      "[11.77287267 11.77287267 11.77287267]\n",
      "Minimum date span of 710 days\n",
      "1 models remaining\n",
      "nan\n",
      "[11.77287267 11.77287267 11.77287267]\n",
      "Minimum date span of 720 days\n",
      "1 models remaining\n",
      "nan\n",
      "[11.77287267 11.77287267 11.77287267]\n"
     ]
    },
    {
     "name": "stderr",
     "output_type": "stream",
     "text": [
      "/Users/bencottier/miniconda3/envs/llm-efficiency/lib/python3.12/site-packages/numpy/lib/function_base.py:2889: RuntimeWarning:\n",
      "\n",
      "Degrees of freedom <= 0 for slice\n",
      "\n",
      "/Users/bencottier/miniconda3/envs/llm-efficiency/lib/python3.12/site-packages/numpy/lib/function_base.py:2748: RuntimeWarning:\n",
      "\n",
      "divide by zero encountered in divide\n",
      "\n",
      "/Users/bencottier/miniconda3/envs/llm-efficiency/lib/python3.12/site-packages/numpy/lib/function_base.py:2748: RuntimeWarning:\n",
      "\n",
      "invalid value encountered in multiply\n",
      "\n"
     ]
    }
   ],
   "source": [
    "for minimum_date_span in range(0, 365*2, 10):\n",
    "    print(f'Minimum date span of {minimum_date_span} days')\n",
    "    min_date_span_df = cheapest_model_results_df.copy()\n",
    "    start_dates = min_date_span_df['start_date']\n",
    "    end_dates = min_date_span_df['end_date']\n",
    "    date_spans = (end_dates - start_dates).dt.days\n",
    "\n",
    "    min_date_span_df = min_date_span_df[date_spans >= minimum_date_span]\n",
    "    start_dates = min_date_span_df['start_date']\n",
    "    end_dates = min_date_span_df['end_date']\n",
    "    filtered_date_spans = (end_dates - start_dates).dt.days\n",
    "\n",
    "    filtered_price_factors = min_date_span_df['price_reduction_factor_per_year']\n",
    "    print(len(filtered_date_spans), 'models remaining')\n",
    "    if len(filtered_date_spans) == 0:\n",
    "        continue\n",
    "    print(np.corrcoef(filtered_date_spans, np.log10(filtered_price_factors))[0,1])\n",
    "    print(np.percentile(filtered_price_factors, [0, 50, 100]))"
   ]
  },
  {
   "cell_type": "code",
   "execution_count": 42,
   "metadata": {},
   "outputs": [
    {
     "name": "stdout",
     "output_type": "stream",
     "text": [
      "min, median, max trend for regressions with date span >= 365 days: [  9.24025028  35.79122166 172.26182004]\n"
     ]
    }
   ],
   "source": [
    "minimum_date_span = 365  # days\n",
    "min_date_span_df = cheapest_model_results_df.copy()\n",
    "start_dates = min_date_span_df['start_date']\n",
    "end_dates = min_date_span_df['end_date']\n",
    "date_spans = (end_dates - start_dates).dt.days\n",
    "min_date_span_df = min_date_span_df[date_spans >= minimum_date_span]\n",
    "all_price_factors = min_date_span_df['price_reduction_factor_per_year']\n",
    "print('min, median, max trend for regressions with date span >= 365 days:', np.percentile(all_price_factors, [0, 50, 100]))"
   ]
  },
  {
   "cell_type": "code",
   "execution_count": 43,
   "metadata": {},
   "outputs": [
    {
     "name": "stdout",
     "output_type": "stream",
     "text": [
      "min, median, max trend for regressions with date span < 365 days: [176.96047076 470.11850776 851.16220387]\n"
     ]
    }
   ],
   "source": [
    "min_date_span_df = cheapest_model_results_df.copy()\n",
    "start_dates = min_date_span_df['start_date']\n",
    "end_dates = min_date_span_df['end_date']\n",
    "date_spans = (end_dates - start_dates).dt.days\n",
    "min_date_span_df = min_date_span_df[date_spans < minimum_date_span]\n",
    "all_price_factors = min_date_span_df['price_reduction_factor_per_year']\n",
    "print('min, median, max trend for regressions with date span < 365 days:', np.percentile(all_price_factors, [0, 50, 100]))"
   ]
  },
  {
   "cell_type": "code",
   "execution_count": 44,
   "metadata": {},
   "outputs": [
    {
     "name": "stdout",
     "output_type": "stream",
     "text": [
      "min, median, max trend for regressions that started < 365 days ago: [176.96047076 689.07990244 851.16220387]\n"
     ]
    },
    {
     "data": {
      "text/plain": [
       "7     851.162204\n",
       "8     251.157113\n",
       "11    689.079902\n",
       "14    689.079902\n",
       "20    176.960471\n",
       "Name: price_reduction_factor_per_year, dtype: float64"
      ]
     },
     "execution_count": 44,
     "metadata": {},
     "output_type": "execute_result"
    }
   ],
   "source": [
    "min_date_df = cheapest_model_results_df.copy()\n",
    "start_date_ordinals = min_date_df['start_date'].map(lambda x: pd.Timestamp(x).toordinal())\n",
    "current_date_ordinal = pd.Timestamp.now().toordinal()\n",
    "min_date_df = min_date_df[start_date_ordinals > current_date_ordinal - 365]\n",
    "all_price_factors = min_date_df['price_reduction_factor_per_year']\n",
    "print('min, median, max trend for regressions that started < 365 days ago:', np.percentile(all_price_factors, [0, 50, 100]))\n",
    "all_price_factors"
   ]
  },
  {
   "cell_type": "code",
   "execution_count": 45,
   "metadata": {},
   "outputs": [
    {
     "name": "stdout",
     "output_type": "stream",
     "text": [
      "5 before date span filter\n",
      "5 after date span filter\n",
      "4 before date span filter\n",
      "2 after date span filter\n",
      "3 before date span filter\n",
      "2 after date span filter\n",
      "3 before date span filter\n",
      "2 after date span filter\n",
      "2 before date span filter\n",
      "2 after date span filter\n",
      "4 before date span filter\n",
      "2 after date span filter\n"
     ]
    },
    {
     "data": {
      "application/vnd.plotly.v1+json": {
       "config": {
        "plotlyServerURL": "https://plot.ly"
       },
       "data": [
        {
         "box": {
          "visible": true
         },
         "name": "Distribution",
         "showlegend": false,
         "type": "violin",
         "x0": "All benchmarks",
         "y": [
          2.9300123303962358,
          2.3999454824417525,
          2.838269583556315,
          2.838269583556315,
          2.2478762649642325
         ]
        },
        {
         "hovertemplate": "Cheapest models that are %{text} level or better",
         "marker": {
          "size": 10
         },
         "mode": "markers",
         "name": "MMLU",
         "showlegend": false,
         "text": [
          "GPT-3",
          "GPT-3.5",
          "GPT-3.5 Turbo",
          "GPT-4-0314",
          "GPT-4 Turbo"
         ],
         "textposition": "middle right",
         "type": "scatter",
         "x": [
          "General knowledge",
          "General knowledge",
          "General knowledge",
          "General knowledge",
          "General knowledge"
         ],
         "y": [
          1.070882446818741,
          1.1995060105356188,
          0.9706838095070646,
          1.200214495914405,
          1.553776522424213
         ]
        },
        {
         "hovertemplate": "Cheapest models that are %{text} level or better",
         "marker": {
          "size": 10
         },
         "mode": "markers",
         "name": "GPQA Diamond",
         "showlegend": false,
         "text": [
          "GPT-4-0314",
          "GPT-4 Turbo"
         ],
         "textposition": "middle right",
         "type": "scatter",
         "x": [
          "Scientific reasoning",
          "Scientific reasoning"
         ],
         "y": [
          1.6234457005018326,
          1.6650743773264614
         ]
        },
        {
         "hovertemplate": "Cheapest models that are %{text} level or better",
         "marker": {
          "size": 10
         },
         "mode": "markers",
         "name": "MATH-500",
         "showlegend": false,
         "text": [
          "GPT-3.5-Turbo-2023-06",
          "GPT-4 Turbo"
         ],
         "textposition": "middle right",
         "type": "scatter",
         "x": [
          "Math (easier)",
          "Math (easier)"
         ],
         "y": [
          1.2559914738134226,
          2.2361890314576027
         ]
        },
        {
         "hovertemplate": "Cheapest models that are %{text} level or better",
         "marker": {
          "size": 10
         },
         "mode": "markers",
         "name": "MATH 5",
         "showlegend": false,
         "text": [
          "GPT-4-0613",
          "GPT-4 Turbo"
         ],
         "textposition": "middle right",
         "type": "scatter",
         "x": [
          "Math (harder)",
          "Math (harder)"
         ],
         "y": [
          1.861148887452519,
          2.2029038288921887
         ]
        },
        {
         "hovertemplate": "Cheapest models that are %{text} level or better",
         "marker": {
          "size": 10
         },
         "mode": "markers",
         "name": "HumanEval",
         "showlegend": false,
         "text": [
          "GPT-4-0314",
          "GPT-3.5-Turbo-2023-06"
         ],
         "textposition": "middle right",
         "type": "scatter",
         "x": [
          "Coding",
          "Coding"
         ],
         "y": [
          1.5661129379169647,
          0.9656837345707265
         ]
        },
        {
         "hovertemplate": "Cheapest models that are %{text} level or better",
         "marker": {
          "size": 10
         },
         "mode": "markers",
         "name": "LMSys Chatbot Arena ELO",
         "showlegend": false,
         "text": [
          "GPT-3.5 Turbo",
          "GPT-4-0314"
         ],
         "textposition": "middle right",
         "type": "scatter",
         "x": [
          "Chatbot Arena",
          "Chatbot Arena"
         ],
         "y": [
          0.9825037058863993,
          1.8769023402257066
         ]
        }
       ],
       "layout": {
        "font": {
         "size": 14
        },
        "height": 600,
        "margin": {
         "l": 130
        },
        "template": {
         "data": {
          "bar": [
           {
            "error_x": {
             "color": "#2a3f5f"
            },
            "error_y": {
             "color": "#2a3f5f"
            },
            "marker": {
             "line": {
              "color": "white",
              "width": 0.5
             },
             "pattern": {
              "fillmode": "overlay",
              "size": 10,
              "solidity": 0.2
             }
            },
            "type": "bar"
           }
          ],
          "barpolar": [
           {
            "marker": {
             "line": {
              "color": "white",
              "width": 0.5
             },
             "pattern": {
              "fillmode": "overlay",
              "size": 10,
              "solidity": 0.2
             }
            },
            "type": "barpolar"
           }
          ],
          "carpet": [
           {
            "aaxis": {
             "endlinecolor": "#2a3f5f",
             "gridcolor": "#C8D4E3",
             "linecolor": "#C8D4E3",
             "minorgridcolor": "#C8D4E3",
             "startlinecolor": "#2a3f5f"
            },
            "baxis": {
             "endlinecolor": "#2a3f5f",
             "gridcolor": "#C8D4E3",
             "linecolor": "#C8D4E3",
             "minorgridcolor": "#C8D4E3",
             "startlinecolor": "#2a3f5f"
            },
            "type": "carpet"
           }
          ],
          "choropleth": [
           {
            "colorbar": {
             "outlinewidth": 0,
             "ticks": ""
            },
            "type": "choropleth"
           }
          ],
          "contour": [
           {
            "colorbar": {
             "outlinewidth": 0,
             "ticks": ""
            },
            "colorscale": [
             [
              0,
              "#0d0887"
             ],
             [
              0.1111111111111111,
              "#46039f"
             ],
             [
              0.2222222222222222,
              "#7201a8"
             ],
             [
              0.3333333333333333,
              "#9c179e"
             ],
             [
              0.4444444444444444,
              "#bd3786"
             ],
             [
              0.5555555555555556,
              "#d8576b"
             ],
             [
              0.6666666666666666,
              "#ed7953"
             ],
             [
              0.7777777777777778,
              "#fb9f3a"
             ],
             [
              0.8888888888888888,
              "#fdca26"
             ],
             [
              1,
              "#f0f921"
             ]
            ],
            "type": "contour"
           }
          ],
          "contourcarpet": [
           {
            "colorbar": {
             "outlinewidth": 0,
             "ticks": ""
            },
            "type": "contourcarpet"
           }
          ],
          "heatmap": [
           {
            "colorbar": {
             "outlinewidth": 0,
             "ticks": ""
            },
            "colorscale": [
             [
              0,
              "#0d0887"
             ],
             [
              0.1111111111111111,
              "#46039f"
             ],
             [
              0.2222222222222222,
              "#7201a8"
             ],
             [
              0.3333333333333333,
              "#9c179e"
             ],
             [
              0.4444444444444444,
              "#bd3786"
             ],
             [
              0.5555555555555556,
              "#d8576b"
             ],
             [
              0.6666666666666666,
              "#ed7953"
             ],
             [
              0.7777777777777778,
              "#fb9f3a"
             ],
             [
              0.8888888888888888,
              "#fdca26"
             ],
             [
              1,
              "#f0f921"
             ]
            ],
            "type": "heatmap"
           }
          ],
          "heatmapgl": [
           {
            "colorbar": {
             "outlinewidth": 0,
             "ticks": ""
            },
            "colorscale": [
             [
              0,
              "#0d0887"
             ],
             [
              0.1111111111111111,
              "#46039f"
             ],
             [
              0.2222222222222222,
              "#7201a8"
             ],
             [
              0.3333333333333333,
              "#9c179e"
             ],
             [
              0.4444444444444444,
              "#bd3786"
             ],
             [
              0.5555555555555556,
              "#d8576b"
             ],
             [
              0.6666666666666666,
              "#ed7953"
             ],
             [
              0.7777777777777778,
              "#fb9f3a"
             ],
             [
              0.8888888888888888,
              "#fdca26"
             ],
             [
              1,
              "#f0f921"
             ]
            ],
            "type": "heatmapgl"
           }
          ],
          "histogram": [
           {
            "marker": {
             "pattern": {
              "fillmode": "overlay",
              "size": 10,
              "solidity": 0.2
             }
            },
            "type": "histogram"
           }
          ],
          "histogram2d": [
           {
            "colorbar": {
             "outlinewidth": 0,
             "ticks": ""
            },
            "colorscale": [
             [
              0,
              "#0d0887"
             ],
             [
              0.1111111111111111,
              "#46039f"
             ],
             [
              0.2222222222222222,
              "#7201a8"
             ],
             [
              0.3333333333333333,
              "#9c179e"
             ],
             [
              0.4444444444444444,
              "#bd3786"
             ],
             [
              0.5555555555555556,
              "#d8576b"
             ],
             [
              0.6666666666666666,
              "#ed7953"
             ],
             [
              0.7777777777777778,
              "#fb9f3a"
             ],
             [
              0.8888888888888888,
              "#fdca26"
             ],
             [
              1,
              "#f0f921"
             ]
            ],
            "type": "histogram2d"
           }
          ],
          "histogram2dcontour": [
           {
            "colorbar": {
             "outlinewidth": 0,
             "ticks": ""
            },
            "colorscale": [
             [
              0,
              "#0d0887"
             ],
             [
              0.1111111111111111,
              "#46039f"
             ],
             [
              0.2222222222222222,
              "#7201a8"
             ],
             [
              0.3333333333333333,
              "#9c179e"
             ],
             [
              0.4444444444444444,
              "#bd3786"
             ],
             [
              0.5555555555555556,
              "#d8576b"
             ],
             [
              0.6666666666666666,
              "#ed7953"
             ],
             [
              0.7777777777777778,
              "#fb9f3a"
             ],
             [
              0.8888888888888888,
              "#fdca26"
             ],
             [
              1,
              "#f0f921"
             ]
            ],
            "type": "histogram2dcontour"
           }
          ],
          "mesh3d": [
           {
            "colorbar": {
             "outlinewidth": 0,
             "ticks": ""
            },
            "type": "mesh3d"
           }
          ],
          "parcoords": [
           {
            "line": {
             "colorbar": {
              "outlinewidth": 0,
              "ticks": ""
             }
            },
            "type": "parcoords"
           }
          ],
          "pie": [
           {
            "automargin": true,
            "type": "pie"
           }
          ],
          "scatter": [
           {
            "fillpattern": {
             "fillmode": "overlay",
             "size": 10,
             "solidity": 0.2
            },
            "type": "scatter"
           }
          ],
          "scatter3d": [
           {
            "line": {
             "colorbar": {
              "outlinewidth": 0,
              "ticks": ""
             }
            },
            "marker": {
             "colorbar": {
              "outlinewidth": 0,
              "ticks": ""
             }
            },
            "type": "scatter3d"
           }
          ],
          "scattercarpet": [
           {
            "marker": {
             "colorbar": {
              "outlinewidth": 0,
              "ticks": ""
             }
            },
            "type": "scattercarpet"
           }
          ],
          "scattergeo": [
           {
            "marker": {
             "colorbar": {
              "outlinewidth": 0,
              "ticks": ""
             }
            },
            "type": "scattergeo"
           }
          ],
          "scattergl": [
           {
            "marker": {
             "colorbar": {
              "outlinewidth": 0,
              "ticks": ""
             }
            },
            "type": "scattergl"
           }
          ],
          "scattermapbox": [
           {
            "marker": {
             "colorbar": {
              "outlinewidth": 0,
              "ticks": ""
             }
            },
            "type": "scattermapbox"
           }
          ],
          "scatterpolar": [
           {
            "marker": {
             "colorbar": {
              "outlinewidth": 0,
              "ticks": ""
             }
            },
            "type": "scatterpolar"
           }
          ],
          "scatterpolargl": [
           {
            "marker": {
             "colorbar": {
              "outlinewidth": 0,
              "ticks": ""
             }
            },
            "type": "scatterpolargl"
           }
          ],
          "scatterternary": [
           {
            "marker": {
             "colorbar": {
              "outlinewidth": 0,
              "ticks": ""
             }
            },
            "type": "scatterternary"
           }
          ],
          "surface": [
           {
            "colorbar": {
             "outlinewidth": 0,
             "ticks": ""
            },
            "colorscale": [
             [
              0,
              "#0d0887"
             ],
             [
              0.1111111111111111,
              "#46039f"
             ],
             [
              0.2222222222222222,
              "#7201a8"
             ],
             [
              0.3333333333333333,
              "#9c179e"
             ],
             [
              0.4444444444444444,
              "#bd3786"
             ],
             [
              0.5555555555555556,
              "#d8576b"
             ],
             [
              0.6666666666666666,
              "#ed7953"
             ],
             [
              0.7777777777777778,
              "#fb9f3a"
             ],
             [
              0.8888888888888888,
              "#fdca26"
             ],
             [
              1,
              "#f0f921"
             ]
            ],
            "type": "surface"
           }
          ],
          "table": [
           {
            "cells": {
             "fill": {
              "color": "#EBF0F8"
             },
             "line": {
              "color": "white"
             }
            },
            "header": {
             "fill": {
              "color": "#C8D4E3"
             },
             "line": {
              "color": "white"
             }
            },
            "type": "table"
           }
          ]
         },
         "layout": {
          "annotationdefaults": {
           "arrowcolor": "#2a3f5f",
           "arrowhead": 0,
           "arrowwidth": 1
          },
          "autotypenumbers": "strict",
          "coloraxis": {
           "colorbar": {
            "outlinewidth": 0,
            "ticks": ""
           }
          },
          "colorscale": {
           "diverging": [
            [
             0,
             "#8e0152"
            ],
            [
             0.1,
             "#c51b7d"
            ],
            [
             0.2,
             "#de77ae"
            ],
            [
             0.3,
             "#f1b6da"
            ],
            [
             0.4,
             "#fde0ef"
            ],
            [
             0.5,
             "#f7f7f7"
            ],
            [
             0.6,
             "#e6f5d0"
            ],
            [
             0.7,
             "#b8e186"
            ],
            [
             0.8,
             "#7fbc41"
            ],
            [
             0.9,
             "#4d9221"
            ],
            [
             1,
             "#276419"
            ]
           ],
           "sequential": [
            [
             0,
             "#0d0887"
            ],
            [
             0.1111111111111111,
             "#46039f"
            ],
            [
             0.2222222222222222,
             "#7201a8"
            ],
            [
             0.3333333333333333,
             "#9c179e"
            ],
            [
             0.4444444444444444,
             "#bd3786"
            ],
            [
             0.5555555555555556,
             "#d8576b"
            ],
            [
             0.6666666666666666,
             "#ed7953"
            ],
            [
             0.7777777777777778,
             "#fb9f3a"
            ],
            [
             0.8888888888888888,
             "#fdca26"
            ],
            [
             1,
             "#f0f921"
            ]
           ],
           "sequentialminus": [
            [
             0,
             "#0d0887"
            ],
            [
             0.1111111111111111,
             "#46039f"
            ],
            [
             0.2222222222222222,
             "#7201a8"
            ],
            [
             0.3333333333333333,
             "#9c179e"
            ],
            [
             0.4444444444444444,
             "#bd3786"
            ],
            [
             0.5555555555555556,
             "#d8576b"
            ],
            [
             0.6666666666666666,
             "#ed7953"
            ],
            [
             0.7777777777777778,
             "#fb9f3a"
            ],
            [
             0.8888888888888888,
             "#fdca26"
            ],
            [
             1,
             "#f0f921"
            ]
           ]
          },
          "colorway": [
           "#636efa",
           "#EF553B",
           "#00cc96",
           "#ab63fa",
           "#FFA15A",
           "#19d3f3",
           "#FF6692",
           "#B6E880",
           "#FF97FF",
           "#FECB52"
          ],
          "font": {
           "color": "#2a3f5f"
          },
          "geo": {
           "bgcolor": "white",
           "lakecolor": "white",
           "landcolor": "white",
           "showlakes": true,
           "showland": true,
           "subunitcolor": "#C8D4E3"
          },
          "hoverlabel": {
           "align": "left"
          },
          "hovermode": "closest",
          "mapbox": {
           "style": "light"
          },
          "paper_bgcolor": "white",
          "plot_bgcolor": "white",
          "polar": {
           "angularaxis": {
            "gridcolor": "#EBF0F8",
            "linecolor": "#EBF0F8",
            "ticks": ""
           },
           "bgcolor": "white",
           "radialaxis": {
            "gridcolor": "#EBF0F8",
            "linecolor": "#EBF0F8",
            "ticks": ""
           }
          },
          "scene": {
           "xaxis": {
            "backgroundcolor": "white",
            "gridcolor": "#DFE8F3",
            "gridwidth": 2,
            "linecolor": "#EBF0F8",
            "showbackground": true,
            "ticks": "",
            "zerolinecolor": "#EBF0F8"
           },
           "yaxis": {
            "backgroundcolor": "white",
            "gridcolor": "#DFE8F3",
            "gridwidth": 2,
            "linecolor": "#EBF0F8",
            "showbackground": true,
            "ticks": "",
            "zerolinecolor": "#EBF0F8"
           },
           "zaxis": {
            "backgroundcolor": "white",
            "gridcolor": "#DFE8F3",
            "gridwidth": 2,
            "linecolor": "#EBF0F8",
            "showbackground": true,
            "ticks": "",
            "zerolinecolor": "#EBF0F8"
           }
          },
          "shapedefaults": {
           "line": {
            "color": "#2a3f5f"
           }
          },
          "ternary": {
           "aaxis": {
            "gridcolor": "#DFE8F3",
            "linecolor": "#A2B1C6",
            "ticks": ""
           },
           "baxis": {
            "gridcolor": "#DFE8F3",
            "linecolor": "#A2B1C6",
            "ticks": ""
           },
           "bgcolor": "white",
           "caxis": {
            "gridcolor": "#DFE8F3",
            "linecolor": "#A2B1C6",
            "ticks": ""
           }
          },
          "title": {
           "x": 0.05
          },
          "xaxis": {
           "automargin": true,
           "gridcolor": "#EBF0F8",
           "linecolor": "#EBF0F8",
           "ticks": "",
           "title": {
            "standoff": 15
           },
           "zerolinecolor": "#EBF0F8",
           "zerolinewidth": 2
          },
          "yaxis": {
           "automargin": true,
           "gridcolor": "#EBF0F8",
           "linecolor": "#EBF0F8",
           "ticks": "",
           "title": {
            "standoff": 15
           },
           "zerolinecolor": "#EBF0F8",
           "zerolinewidth": 2
          }
         }
        },
        "title": {
         "text": "The lowest-priced LLMs above a capability threshold have become much cheaper to use"
        },
        "width": 1000,
        "xaxis": {
         "range": [
          -0.5,
          7
         ]
        },
        "yaxis": {
         "tickmode": "array",
         "ticktext": [
          "1x",
          "10x",
          "100x",
          "1,000x",
          "10,000x",
          "100,000x"
         ],
         "tickvals": [
          0,
          1,
          2,
          3,
          4,
          5
         ],
         "title": {
          "text": "Annualized rate of decrease in price per token"
         },
         "zeroline": false
        }
       }
      }
     },
     "metadata": {},
     "output_type": "display_data"
    }
   ],
   "source": [
    "# Create figure\n",
    "fig = go.Figure()\n",
    "\n",
    "bench_aliases = {\n",
    "    'MMLU': 'General knowledge',\n",
    "    'GPQA Diamond': 'Scientific reasoning', \n",
    "    'HumanEval': 'Coding',\n",
    "    'MATH 5': 'Math (harder)',\n",
    "    'MATH-500': 'Math (easier)',\n",
    "    'LMSys Chatbot Arena ELO': 'Chatbot Arena',\n",
    "}\n",
    "\n",
    "# Add violin plot\n",
    "fig.add_trace(go.Violin(\n",
    "    y=np.log10(all_price_factors),\n",
    "    x0='All benchmarks',\n",
    "    box_visible=True,\n",
    "    name='Distribution',\n",
    "    showlegend=False,\n",
    "))\n",
    "\n",
    "# Add points for each benchmark as scatter traces\n",
    "for bench in benchmarks:\n",
    "    # if bench == 'MATH-500':\n",
    "    #     continue\n",
    "\n",
    "    bench_results = cheapest_model_results_df[cheapest_model_results_df['bench'] == bench]\n",
    "    print(f'{len(bench_results)} before date span filter')\n",
    "\n",
    "    start_dates = bench_results['start_date']\n",
    "    end_dates = bench_results['end_date']\n",
    "    date_spans = (end_dates - start_dates).dt.days\n",
    "    bench_results = bench_results[date_spans >= minimum_date_span]\n",
    "    print(f'{len(bench_results)} after date span filter')\n",
    "\n",
    "    price_factors = bench_results['price_reduction_factor_per_year'].dropna()\n",
    "    bench_factors = np.log10(price_factors)\n",
    "    bench_ranges = bench_results['threshold_model']\n",
    "    \n",
    "    fig.add_trace(go.Scatter(\n",
    "        y=bench_factors,\n",
    "        x=[bench_aliases[bench]] * len(bench_factors),\n",
    "        mode='markers',\n",
    "        name=bench,\n",
    "        text=bench_ranges,\n",
    "        textposition='middle right',\n",
    "        marker=dict(size=10),\n",
    "        hovertemplate='Cheapest models that are %{text} level or better',\n",
    "        showlegend=False,\n",
    "    ))\n",
    "\n",
    "# Update layout\n",
    "fig.update_layout(yaxis_zeroline=False)\n",
    "fig.update_layout(yaxis_title='Annualized rate of decrease in price per token')\n",
    "# Change y-axis labels to be powers of 10\n",
    "tvs = list(range(0, 6))\n",
    "fig.update_layout(yaxis=dict(tickmode='array', tickvals=tvs, ticktext=[f'{10**tickval:,.0f}x' for tickval in tvs]))\n",
    "fig.update_layout(\n",
    "    title='The lowest-priced LLMs above a capability threshold have become much cheaper to use',\n",
    "    width=1000,\n",
    "    height=600,\n",
    "    font=dict(size=14),\n",
    "    # add some left margin\n",
    "    margin=dict(l=130),\n",
    "    # Increase spacing between x values by expanding the range\n",
    "    xaxis=dict(range=[-0.5, len(benchmarks) + 1.0])\n",
    ")\n",
    "if save:\n",
    "    save_plot(fig, results_subdir, f'lowest_price_models_all_violin_date_span={minimum_date_span}d', extensions=['png'])\n",
    "fig.show()"
   ]
  },
  {
   "cell_type": "code",
   "execution_count": 46,
   "metadata": {},
   "outputs": [
    {
     "data": {
      "application/vnd.plotly.v1+json": {
       "config": {
        "plotlyServerURL": "https://plot.ly"
       },
       "data": [
        {
         "marker": {
          "color": "#636EFA",
          "pattern": {
           "shape": ""
          }
         },
         "name": "GPT-3",
         "offset": -0.375,
         "type": "bar",
         "width": 0.15,
         "x": [
          "General knowledge"
         ],
         "y": [
          1.070882446818741
         ]
        },
        {
         "marker": {
          "color": "#636EFA",
          "pattern": {
           "shape": "-"
          }
         },
         "name": "GPT-3.5",
         "offset": -0.225,
         "type": "bar",
         "width": 0.15,
         "x": [
          "General knowledge"
         ],
         "y": [
          1.1995060105356188
         ]
        },
        {
         "marker": {
          "color": "#636EFA",
          "pattern": {
           "shape": "/"
          }
         },
         "name": "GPT-3.5 Turbo",
         "offset": -0.07500000000000001,
         "type": "bar",
         "width": 0.15,
         "x": [
          "General knowledge"
         ],
         "y": [
          0.9706838095070646
         ]
        },
        {
         "marker": {
          "color": "#636EFA",
          "pattern": {
           "shape": "\\"
          }
         },
         "name": "GPT-4-0314",
         "offset": 0.07499999999999996,
         "type": "bar",
         "width": 0.15,
         "x": [
          "General knowledge"
         ],
         "y": [
          1.200214495914405
         ]
        },
        {
         "marker": {
          "color": "#636EFA",
          "pattern": {
           "shape": ""
          }
         },
         "name": "GPT-4 Turbo",
         "offset": 0.22499999999999998,
         "type": "bar",
         "width": 0.15,
         "x": [
          "General knowledge"
         ],
         "y": [
          1.553776522424213
         ]
        },
        {
         "marker": {
          "color": "#EF553B",
          "pattern": {
           "shape": ""
          }
         },
         "name": "GPT-4-0314",
         "offset": -0.3,
         "type": "bar",
         "width": 0.15,
         "x": [
          "Scientific reasoning"
         ],
         "y": [
          1.6234457005018326
         ]
        },
        {
         "marker": {
          "color": "#EF553B",
          "pattern": {
           "shape": "-"
          }
         },
         "name": "GPT-4 Turbo",
         "offset": -0.15,
         "type": "bar",
         "width": 0.15,
         "x": [
          "Scientific reasoning"
         ],
         "y": [
          1.6650743773264614
         ]
        },
        {
         "marker": {
          "color": "#EF553B",
          "pattern": {
           "shape": "/"
          }
         },
         "name": "GPT-4o-2024-05",
         "offset": 0,
         "type": "bar",
         "width": 0.15,
         "x": [
          "Scientific reasoning"
         ],
         "y": [
          2.9300123303962358
         ]
        },
        {
         "marker": {
          "color": "#EF553B",
          "pattern": {
           "shape": "\\"
          }
         },
         "name": "Claude-3.5-Sonnet-2024-06",
         "offset": 0.14999999999999997,
         "type": "bar",
         "width": 0.15,
         "x": [
          "Scientific reasoning"
         ],
         "y": [
          2.3999454824417525
         ]
        },
        {
         "marker": {
          "color": "#00CC96",
          "pattern": {
           "shape": ""
          }
         },
         "name": "GPT-3.5-Turbo-2023-06",
         "offset": -0.22499999999999998,
         "type": "bar",
         "width": 0.15,
         "x": [
          "Math (easier)"
         ],
         "y": [
          1.2559914738134226
         ]
        },
        {
         "marker": {
          "color": "#00CC96",
          "pattern": {
           "shape": "-"
          }
         },
         "name": "GPT-4 Turbo",
         "offset": -0.07499999999999998,
         "type": "bar",
         "width": 0.15,
         "x": [
          "Math (easier)"
         ],
         "y": [
          2.2361890314576027
         ]
        },
        {
         "marker": {
          "color": "#00CC96",
          "pattern": {
           "shape": "/"
          }
         },
         "name": "GPT-4o-2024-05",
         "offset": 0.07500000000000001,
         "type": "bar",
         "width": 0.15,
         "x": [
          "Math (easier)"
         ],
         "y": [
          2.838269583556315
         ]
        },
        {
         "marker": {
          "color": "#AB63FA",
          "pattern": {
           "shape": ""
          }
         },
         "name": "GPT-4-0613",
         "offset": -0.22499999999999998,
         "type": "bar",
         "width": 0.15,
         "x": [
          "Math (harder)"
         ],
         "y": [
          1.861148887452519
         ]
        },
        {
         "marker": {
          "color": "#AB63FA",
          "pattern": {
           "shape": "-"
          }
         },
         "name": "GPT-4 Turbo",
         "offset": -0.07499999999999998,
         "type": "bar",
         "width": 0.15,
         "x": [
          "Math (harder)"
         ],
         "y": [
          2.2029038288921887
         ]
        },
        {
         "marker": {
          "color": "#AB63FA",
          "pattern": {
           "shape": "/"
          }
         },
         "name": "GPT-4o-2024-05",
         "offset": 0.07500000000000001,
         "type": "bar",
         "width": 0.15,
         "x": [
          "Math (harder)"
         ],
         "y": [
          2.838269583556315
         ]
        },
        {
         "marker": {
          "color": "#FFA15A",
          "pattern": {
           "shape": ""
          }
         },
         "name": "GPT-4-0314",
         "offset": -0.15,
         "type": "bar",
         "width": 0.15,
         "x": [
          "Coding"
         ],
         "y": [
          1.5661129379169647
         ]
        },
        {
         "marker": {
          "color": "#FFA15A",
          "pattern": {
           "shape": "-"
          }
         },
         "name": "GPT-3.5-Turbo-2023-06",
         "offset": 0,
         "type": "bar",
         "width": 0.15,
         "x": [
          "Coding"
         ],
         "y": [
          0.9656837345707265
         ]
        },
        {
         "marker": {
          "color": "#19D3F3",
          "pattern": {
           "shape": ""
          }
         },
         "name": "GPT-3.5 Turbo",
         "offset": -0.3,
         "type": "bar",
         "width": 0.15,
         "x": [
          "Chatbot Arena"
         ],
         "y": [
          0.9825037058863993
         ]
        },
        {
         "marker": {
          "color": "#19D3F3",
          "pattern": {
           "shape": "-"
          }
         },
         "name": "GPT-4-0314",
         "offset": -0.15,
         "type": "bar",
         "width": 0.15,
         "x": [
          "Chatbot Arena"
         ],
         "y": [
          1.8769023402257066
         ]
        },
        {
         "marker": {
          "color": "#19D3F3",
          "pattern": {
           "shape": "/"
          }
         },
         "name": "GPT-4 Turbo",
         "offset": 0,
         "type": "bar",
         "width": 0.15,
         "x": [
          "Chatbot Arena"
         ],
         "y": [
          2.3900763568696086
         ]
        },
        {
         "marker": {
          "color": "#19D3F3",
          "pattern": {
           "shape": "\\"
          }
         },
         "name": "GPT-4o-2024-05",
         "offset": 0.14999999999999997,
         "type": "bar",
         "width": 0.15,
         "x": [
          "Chatbot Arena"
         ],
         "y": [
          2.2478762649642325
         ]
        }
       ],
       "layout": {
        "annotations": [
         {
          "font": {
           "size": 16
          },
          "showarrow": false,
          "text": "Reduction in usage price per year",
          "x": -0.08,
          "xref": "paper",
          "y": 1.08,
          "yref": "paper"
         }
        ],
        "font": {
         "size": 14
        },
        "height": 800,
        "legend": {
         "title": {
          "text": "Capability threshold"
         }
        },
        "margin": {
         "l": 130,
         "t": 150
        },
        "template": {
         "data": {
          "bar": [
           {
            "error_x": {
             "color": "#2a3f5f"
            },
            "error_y": {
             "color": "#2a3f5f"
            },
            "marker": {
             "line": {
              "color": "white",
              "width": 0.5
             },
             "pattern": {
              "fillmode": "overlay",
              "size": 10,
              "solidity": 0.2
             }
            },
            "type": "bar"
           }
          ],
          "barpolar": [
           {
            "marker": {
             "line": {
              "color": "white",
              "width": 0.5
             },
             "pattern": {
              "fillmode": "overlay",
              "size": 10,
              "solidity": 0.2
             }
            },
            "type": "barpolar"
           }
          ],
          "carpet": [
           {
            "aaxis": {
             "endlinecolor": "#2a3f5f",
             "gridcolor": "#C8D4E3",
             "linecolor": "#C8D4E3",
             "minorgridcolor": "#C8D4E3",
             "startlinecolor": "#2a3f5f"
            },
            "baxis": {
             "endlinecolor": "#2a3f5f",
             "gridcolor": "#C8D4E3",
             "linecolor": "#C8D4E3",
             "minorgridcolor": "#C8D4E3",
             "startlinecolor": "#2a3f5f"
            },
            "type": "carpet"
           }
          ],
          "choropleth": [
           {
            "colorbar": {
             "outlinewidth": 0,
             "ticks": ""
            },
            "type": "choropleth"
           }
          ],
          "contour": [
           {
            "colorbar": {
             "outlinewidth": 0,
             "ticks": ""
            },
            "colorscale": [
             [
              0,
              "#0d0887"
             ],
             [
              0.1111111111111111,
              "#46039f"
             ],
             [
              0.2222222222222222,
              "#7201a8"
             ],
             [
              0.3333333333333333,
              "#9c179e"
             ],
             [
              0.4444444444444444,
              "#bd3786"
             ],
             [
              0.5555555555555556,
              "#d8576b"
             ],
             [
              0.6666666666666666,
              "#ed7953"
             ],
             [
              0.7777777777777778,
              "#fb9f3a"
             ],
             [
              0.8888888888888888,
              "#fdca26"
             ],
             [
              1,
              "#f0f921"
             ]
            ],
            "type": "contour"
           }
          ],
          "contourcarpet": [
           {
            "colorbar": {
             "outlinewidth": 0,
             "ticks": ""
            },
            "type": "contourcarpet"
           }
          ],
          "heatmap": [
           {
            "colorbar": {
             "outlinewidth": 0,
             "ticks": ""
            },
            "colorscale": [
             [
              0,
              "#0d0887"
             ],
             [
              0.1111111111111111,
              "#46039f"
             ],
             [
              0.2222222222222222,
              "#7201a8"
             ],
             [
              0.3333333333333333,
              "#9c179e"
             ],
             [
              0.4444444444444444,
              "#bd3786"
             ],
             [
              0.5555555555555556,
              "#d8576b"
             ],
             [
              0.6666666666666666,
              "#ed7953"
             ],
             [
              0.7777777777777778,
              "#fb9f3a"
             ],
             [
              0.8888888888888888,
              "#fdca26"
             ],
             [
              1,
              "#f0f921"
             ]
            ],
            "type": "heatmap"
           }
          ],
          "heatmapgl": [
           {
            "colorbar": {
             "outlinewidth": 0,
             "ticks": ""
            },
            "colorscale": [
             [
              0,
              "#0d0887"
             ],
             [
              0.1111111111111111,
              "#46039f"
             ],
             [
              0.2222222222222222,
              "#7201a8"
             ],
             [
              0.3333333333333333,
              "#9c179e"
             ],
             [
              0.4444444444444444,
              "#bd3786"
             ],
             [
              0.5555555555555556,
              "#d8576b"
             ],
             [
              0.6666666666666666,
              "#ed7953"
             ],
             [
              0.7777777777777778,
              "#fb9f3a"
             ],
             [
              0.8888888888888888,
              "#fdca26"
             ],
             [
              1,
              "#f0f921"
             ]
            ],
            "type": "heatmapgl"
           }
          ],
          "histogram": [
           {
            "marker": {
             "pattern": {
              "fillmode": "overlay",
              "size": 10,
              "solidity": 0.2
             }
            },
            "type": "histogram"
           }
          ],
          "histogram2d": [
           {
            "colorbar": {
             "outlinewidth": 0,
             "ticks": ""
            },
            "colorscale": [
             [
              0,
              "#0d0887"
             ],
             [
              0.1111111111111111,
              "#46039f"
             ],
             [
              0.2222222222222222,
              "#7201a8"
             ],
             [
              0.3333333333333333,
              "#9c179e"
             ],
             [
              0.4444444444444444,
              "#bd3786"
             ],
             [
              0.5555555555555556,
              "#d8576b"
             ],
             [
              0.6666666666666666,
              "#ed7953"
             ],
             [
              0.7777777777777778,
              "#fb9f3a"
             ],
             [
              0.8888888888888888,
              "#fdca26"
             ],
             [
              1,
              "#f0f921"
             ]
            ],
            "type": "histogram2d"
           }
          ],
          "histogram2dcontour": [
           {
            "colorbar": {
             "outlinewidth": 0,
             "ticks": ""
            },
            "colorscale": [
             [
              0,
              "#0d0887"
             ],
             [
              0.1111111111111111,
              "#46039f"
             ],
             [
              0.2222222222222222,
              "#7201a8"
             ],
             [
              0.3333333333333333,
              "#9c179e"
             ],
             [
              0.4444444444444444,
              "#bd3786"
             ],
             [
              0.5555555555555556,
              "#d8576b"
             ],
             [
              0.6666666666666666,
              "#ed7953"
             ],
             [
              0.7777777777777778,
              "#fb9f3a"
             ],
             [
              0.8888888888888888,
              "#fdca26"
             ],
             [
              1,
              "#f0f921"
             ]
            ],
            "type": "histogram2dcontour"
           }
          ],
          "mesh3d": [
           {
            "colorbar": {
             "outlinewidth": 0,
             "ticks": ""
            },
            "type": "mesh3d"
           }
          ],
          "parcoords": [
           {
            "line": {
             "colorbar": {
              "outlinewidth": 0,
              "ticks": ""
             }
            },
            "type": "parcoords"
           }
          ],
          "pie": [
           {
            "automargin": true,
            "type": "pie"
           }
          ],
          "scatter": [
           {
            "fillpattern": {
             "fillmode": "overlay",
             "size": 10,
             "solidity": 0.2
            },
            "type": "scatter"
           }
          ],
          "scatter3d": [
           {
            "line": {
             "colorbar": {
              "outlinewidth": 0,
              "ticks": ""
             }
            },
            "marker": {
             "colorbar": {
              "outlinewidth": 0,
              "ticks": ""
             }
            },
            "type": "scatter3d"
           }
          ],
          "scattercarpet": [
           {
            "marker": {
             "colorbar": {
              "outlinewidth": 0,
              "ticks": ""
             }
            },
            "type": "scattercarpet"
           }
          ],
          "scattergeo": [
           {
            "marker": {
             "colorbar": {
              "outlinewidth": 0,
              "ticks": ""
             }
            },
            "type": "scattergeo"
           }
          ],
          "scattergl": [
           {
            "marker": {
             "colorbar": {
              "outlinewidth": 0,
              "ticks": ""
             }
            },
            "type": "scattergl"
           }
          ],
          "scattermapbox": [
           {
            "marker": {
             "colorbar": {
              "outlinewidth": 0,
              "ticks": ""
             }
            },
            "type": "scattermapbox"
           }
          ],
          "scatterpolar": [
           {
            "marker": {
             "colorbar": {
              "outlinewidth": 0,
              "ticks": ""
             }
            },
            "type": "scatterpolar"
           }
          ],
          "scatterpolargl": [
           {
            "marker": {
             "colorbar": {
              "outlinewidth": 0,
              "ticks": ""
             }
            },
            "type": "scatterpolargl"
           }
          ],
          "scatterternary": [
           {
            "marker": {
             "colorbar": {
              "outlinewidth": 0,
              "ticks": ""
             }
            },
            "type": "scatterternary"
           }
          ],
          "surface": [
           {
            "colorbar": {
             "outlinewidth": 0,
             "ticks": ""
            },
            "colorscale": [
             [
              0,
              "#0d0887"
             ],
             [
              0.1111111111111111,
              "#46039f"
             ],
             [
              0.2222222222222222,
              "#7201a8"
             ],
             [
              0.3333333333333333,
              "#9c179e"
             ],
             [
              0.4444444444444444,
              "#bd3786"
             ],
             [
              0.5555555555555556,
              "#d8576b"
             ],
             [
              0.6666666666666666,
              "#ed7953"
             ],
             [
              0.7777777777777778,
              "#fb9f3a"
             ],
             [
              0.8888888888888888,
              "#fdca26"
             ],
             [
              1,
              "#f0f921"
             ]
            ],
            "type": "surface"
           }
          ],
          "table": [
           {
            "cells": {
             "fill": {
              "color": "#EBF0F8"
             },
             "line": {
              "color": "white"
             }
            },
            "header": {
             "fill": {
              "color": "#C8D4E3"
             },
             "line": {
              "color": "white"
             }
            },
            "type": "table"
           }
          ]
         },
         "layout": {
          "annotationdefaults": {
           "arrowcolor": "#2a3f5f",
           "arrowhead": 0,
           "arrowwidth": 1
          },
          "autotypenumbers": "strict",
          "coloraxis": {
           "colorbar": {
            "outlinewidth": 0,
            "ticks": ""
           }
          },
          "colorscale": {
           "diverging": [
            [
             0,
             "#8e0152"
            ],
            [
             0.1,
             "#c51b7d"
            ],
            [
             0.2,
             "#de77ae"
            ],
            [
             0.3,
             "#f1b6da"
            ],
            [
             0.4,
             "#fde0ef"
            ],
            [
             0.5,
             "#f7f7f7"
            ],
            [
             0.6,
             "#e6f5d0"
            ],
            [
             0.7,
             "#b8e186"
            ],
            [
             0.8,
             "#7fbc41"
            ],
            [
             0.9,
             "#4d9221"
            ],
            [
             1,
             "#276419"
            ]
           ],
           "sequential": [
            [
             0,
             "#0d0887"
            ],
            [
             0.1111111111111111,
             "#46039f"
            ],
            [
             0.2222222222222222,
             "#7201a8"
            ],
            [
             0.3333333333333333,
             "#9c179e"
            ],
            [
             0.4444444444444444,
             "#bd3786"
            ],
            [
             0.5555555555555556,
             "#d8576b"
            ],
            [
             0.6666666666666666,
             "#ed7953"
            ],
            [
             0.7777777777777778,
             "#fb9f3a"
            ],
            [
             0.8888888888888888,
             "#fdca26"
            ],
            [
             1,
             "#f0f921"
            ]
           ],
           "sequentialminus": [
            [
             0,
             "#0d0887"
            ],
            [
             0.1111111111111111,
             "#46039f"
            ],
            [
             0.2222222222222222,
             "#7201a8"
            ],
            [
             0.3333333333333333,
             "#9c179e"
            ],
            [
             0.4444444444444444,
             "#bd3786"
            ],
            [
             0.5555555555555556,
             "#d8576b"
            ],
            [
             0.6666666666666666,
             "#ed7953"
            ],
            [
             0.7777777777777778,
             "#fb9f3a"
            ],
            [
             0.8888888888888888,
             "#fdca26"
            ],
            [
             1,
             "#f0f921"
            ]
           ]
          },
          "colorway": [
           "#636efa",
           "#EF553B",
           "#00cc96",
           "#ab63fa",
           "#FFA15A",
           "#19d3f3",
           "#FF6692",
           "#B6E880",
           "#FF97FF",
           "#FECB52"
          ],
          "font": {
           "color": "#2a3f5f"
          },
          "geo": {
           "bgcolor": "white",
           "lakecolor": "white",
           "landcolor": "white",
           "showlakes": true,
           "showland": true,
           "subunitcolor": "#C8D4E3"
          },
          "hoverlabel": {
           "align": "left"
          },
          "hovermode": "closest",
          "mapbox": {
           "style": "light"
          },
          "paper_bgcolor": "white",
          "plot_bgcolor": "white",
          "polar": {
           "angularaxis": {
            "gridcolor": "#EBF0F8",
            "linecolor": "#EBF0F8",
            "ticks": ""
           },
           "bgcolor": "white",
           "radialaxis": {
            "gridcolor": "#EBF0F8",
            "linecolor": "#EBF0F8",
            "ticks": ""
           }
          },
          "scene": {
           "xaxis": {
            "backgroundcolor": "white",
            "gridcolor": "#DFE8F3",
            "gridwidth": 2,
            "linecolor": "#EBF0F8",
            "showbackground": true,
            "ticks": "",
            "zerolinecolor": "#EBF0F8"
           },
           "yaxis": {
            "backgroundcolor": "white",
            "gridcolor": "#DFE8F3",
            "gridwidth": 2,
            "linecolor": "#EBF0F8",
            "showbackground": true,
            "ticks": "",
            "zerolinecolor": "#EBF0F8"
           },
           "zaxis": {
            "backgroundcolor": "white",
            "gridcolor": "#DFE8F3",
            "gridwidth": 2,
            "linecolor": "#EBF0F8",
            "showbackground": true,
            "ticks": "",
            "zerolinecolor": "#EBF0F8"
           }
          },
          "shapedefaults": {
           "line": {
            "color": "#2a3f5f"
           }
          },
          "ternary": {
           "aaxis": {
            "gridcolor": "#DFE8F3",
            "linecolor": "#A2B1C6",
            "ticks": ""
           },
           "baxis": {
            "gridcolor": "#DFE8F3",
            "linecolor": "#A2B1C6",
            "ticks": ""
           },
           "bgcolor": "white",
           "caxis": {
            "gridcolor": "#DFE8F3",
            "linecolor": "#A2B1C6",
            "ticks": ""
           }
          },
          "title": {
           "x": 0.05
          },
          "xaxis": {
           "automargin": true,
           "gridcolor": "#EBF0F8",
           "linecolor": "#EBF0F8",
           "ticks": "",
           "title": {
            "standoff": 15
           },
           "zerolinecolor": "#EBF0F8",
           "zerolinewidth": 2
          },
          "yaxis": {
           "automargin": true,
           "gridcolor": "#EBF0F8",
           "linecolor": "#EBF0F8",
           "ticks": "",
           "title": {
            "standoff": 15
           },
           "zerolinecolor": "#EBF0F8",
           "zerolinewidth": 2
          }
         }
        },
        "title": {
         "text": "The usage price of LLMs at a given capability level has fallen by 7x-300x per year"
        },
        "width": 1200,
        "xaxis": {
         "range": [
          -0.5,
          7
         ],
         "title": {
          "text": "Benchmark"
         }
        },
        "yaxis": {
         "range": [
          0,
          3.1
         ],
         "tickmode": "array",
         "ticktext": [
          "1x",
          "10x",
          "100x",
          "1,000x"
         ],
         "tickvals": [
          0,
          1,
          2,
          3
         ],
         "title": {}
        }
       }
      }
     },
     "metadata": {},
     "output_type": "display_data"
    }
   ],
   "source": [
    "# Bar chart of price reduction factor per year\n",
    "fig = go.Figure()\n",
    "\n",
    "# Define colors for each benchmark\n",
    "benchmark_colors = {\n",
    "    bench: px.colors.qualitative.Plotly[i % len(px.colors.qualitative.Plotly)]\n",
    "    for i, bench in enumerate(benchmarks)\n",
    "}\n",
    "\n",
    "# Define patterns for each model to make bars distinguishable\n",
    "patterns = ['', '-', '/', '\\\\']\n",
    "\n",
    "# Add a bar trace for each model in each benchmark\n",
    "for bench in benchmarks:\n",
    "    bench_results = cheapest_model_results_df[cheapest_model_results_df['bench'] == bench]\n",
    "    bench_color = benchmark_colors[bench]\n",
    "    \n",
    "    # Get all models and their price factors for this benchmark\n",
    "    for i, (_, row) in enumerate(bench_results.iterrows()):\n",
    "        if pd.notna(row['price_reduction_factor_per_year']):\n",
    "            model_name = row['threshold_model']\n",
    "            price_factor = row['price_reduction_factor_per_year']\n",
    "            \n",
    "            # Assign a pattern based on the model index\n",
    "            pattern = patterns[i % len(patterns)]\n",
    "            \n",
    "            fig.add_trace(go.Bar(\n",
    "                x=[bench_aliases[bench]],\n",
    "                y=[np.log10(price_factor)],\n",
    "                name=f\"{model_name}\",\n",
    "                # text=[f\"{price_factor:.1f}x - {model_name}\"],\n",
    "                # textposition='outside',\n",
    "                # Offset bars within the same benchmark group\n",
    "                offset=i * 0.15 - (len(bench_results) * 0.15 / 2),\n",
    "                width=0.15,\n",
    "                marker_color=bench_color,\n",
    "                marker_pattern_shape=pattern,\n",
    "            ))\n",
    "\n",
    "\n",
    "tvs = list(range(0, 4))\n",
    "fig.update_layout(\n",
    "    yaxis=dict(\n",
    "        tickmode='array',\n",
    "        tickvals=tvs,\n",
    "        ticktext=[f'{10**tickval:,.0f}x' for tickval in tvs],\n",
    "        range=[0, 3.1],  # Set y-axis limits from 0 to 3 (log10 scale)\n",
    "        # dtick='D10',  # Show only powers of 10\n",
    "        title=None,  # Remove the side title\n",
    "    ),\n",
    ")\n",
    "fig.update_layout(\n",
    "    annotations=[\n",
    "        dict(\n",
    "            x=-0.08,  # Center of the plot\n",
    "            y=1.08,  # Above the plot\n",
    "            xref='paper',\n",
    "            yref='paper',\n",
    "            text='Reduction in usage price per year',\n",
    "            showarrow=False,\n",
    "            font=dict(size=16),\n",
    "        )\n",
    "    ],\n",
    ")\n",
    "fig.update_layout(\n",
    "    title='The usage price of LLMs at a given capability level has fallen by 7x-300x per year',\n",
    "    width=1200,\n",
    "    height=800,\n",
    "    font=dict(size=14),\n",
    "    margin=dict(l=130, t=150),\n",
    "    xaxis=dict(title='Benchmark',range=[-0.5, len(benchmarks) + 1.0]),\n",
    "    legend_title_text=\"Capability threshold\"\n",
    ")\n",
    "if save:\n",
    "    save_plot(fig, results_subdir, 'lowest_price_models_all_bar', extensions=['png', 'svg'])\n",
    "fig.show()"
   ]
  },
  {
   "cell_type": "code",
   "execution_count": null,
   "metadata": {},
   "outputs": [],
   "source": []
  }
 ],
 "metadata": {
  "kernelspec": {
   "display_name": "llm-efficiency",
   "language": "python",
   "name": "python3"
  },
  "language_info": {
   "codemirror_mode": {
    "name": "ipython",
    "version": 3
   },
   "file_extension": ".py",
   "mimetype": "text/x-python",
   "name": "python",
   "nbconvert_exporter": "python",
   "pygments_lexer": "ipython3",
   "version": "3.12.7"
  }
 },
 "nbformat": 4,
 "nbformat_minor": 2
}
