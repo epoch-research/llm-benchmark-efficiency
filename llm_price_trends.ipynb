{
 "cells": [
  {
   "cell_type": "code",
   "execution_count": 1,
   "metadata": {},
   "outputs": [],
   "source": [
    "from collections import defaultdict\n",
    "import numpy as np\n",
    "import os\n",
    "import pandas as pd\n",
    "import plotly.express as px\n",
    "import plotly.graph_objects as go\n",
    "import plotly.io as pio\n",
    "from plotly.subplots import make_subplots\n",
    "import statsmodels.formula.api as smf\n",
    "\n",
    "from data import load_pcd_df\n",
    "from plotting import save_plot\n",
    "\n",
    "pio.templates.default = \"plotly_white\""
   ]
  },
  {
   "cell_type": "code",
   "execution_count": 2,
   "metadata": {},
   "outputs": [],
   "source": [
    "results_dir = 'results/2025-03-04_shorter_datespan_experiment_anchored_to_threshold_model/'\n",
    "os.makedirs(results_dir, exist_ok=True)"
   ]
  },
  {
   "cell_type": "code",
   "execution_count": 3,
   "metadata": {},
   "outputs": [],
   "source": [
    "save = True\n",
    "benchmarks = ['MMLU', 'GPQA Diamond', 'MATH-500', 'MATH 5', 'HumanEval', 'LMSys Chatbot Arena ELO']\n",
    "benchmark_is_mqa = {'MMLU': True, 'GPQA Diamond': True, 'MATH 5': False, 'MATH-500': False, 'HumanEval': False, 'LMSys Chatbot Arena ELO': False}\n",
    "min_num_data_points_for_regression = 4\n",
    "minimum_date_for_cheapest_models = '2024-01-01'\n",
    "maximum_datespan_after_threshold_model = 365  # days"
   ]
  },
  {
   "cell_type": "markdown",
   "metadata": {},
   "source": [
    "## Load Artificial Analysis dataset"
   ]
  },
  {
   "cell_type": "code",
   "execution_count": 4,
   "metadata": {},
   "outputs": [
    {
     "data": {
      "text/html": [
       "<div>\n",
       "<style scoped>\n",
       "    .dataframe tbody tr th:only-of-type {\n",
       "        vertical-align: middle;\n",
       "    }\n",
       "\n",
       "    .dataframe tbody tr th {\n",
       "        vertical-align: top;\n",
       "    }\n",
       "\n",
       "    .dataframe thead th {\n",
       "        text-align: right;\n",
       "    }\n",
       "</style>\n",
       "<table border=\"1\" class=\"dataframe\">\n",
       "  <thead>\n",
       "    <tr style=\"text-align: right;\">\n",
       "      <th></th>\n",
       "      <th>Model Name</th>\n",
       "      <th>Release Date</th>\n",
       "      <th>USD per 1M Tokens</th>\n",
       "      <th>MMLU</th>\n",
       "      <th>GPQA Diamond</th>\n",
       "      <th>HumanEval</th>\n",
       "      <th>MATH-500</th>\n",
       "      <th>LMSys Chatbot Arena ELO</th>\n",
       "      <th>MATH 5</th>\n",
       "      <th>Tokens per Second</th>\n",
       "      <th>Prefill Latency (s)</th>\n",
       "      <th>Prompt Length (tk)</th>\n",
       "    </tr>\n",
       "  </thead>\n",
       "  <tbody>\n",
       "    <tr>\n",
       "      <th>0</th>\n",
       "      <td>Claude-3-Haiku</td>\n",
       "      <td>2024-03-04</td>\n",
       "      <td>0.5000</td>\n",
       "      <td>71</td>\n",
       "      <td>33</td>\n",
       "      <td>77.0</td>\n",
       "      <td>39.0</td>\n",
       "      <td>1179.0</td>\n",
       "      <td>13.0</td>\n",
       "      <td>122.7</td>\n",
       "      <td>0.467</td>\n",
       "      <td>1000.0</td>\n",
       "    </tr>\n",
       "    <tr>\n",
       "      <th>1</th>\n",
       "      <td>Claude-3-Opus</td>\n",
       "      <td>2024-03-04</td>\n",
       "      <td>30.0000</td>\n",
       "      <td>84</td>\n",
       "      <td>50</td>\n",
       "      <td>83.0</td>\n",
       "      <td>64.0</td>\n",
       "      <td>1248.0</td>\n",
       "      <td>34.0</td>\n",
       "      <td>26.5</td>\n",
       "      <td>1.984</td>\n",
       "      <td>1000.0</td>\n",
       "    </tr>\n",
       "    <tr>\n",
       "      <th>2</th>\n",
       "      <td>Claude-3-Sonnet</td>\n",
       "      <td>2024-03-04</td>\n",
       "      <td>6.0000</td>\n",
       "      <td>77</td>\n",
       "      <td>37</td>\n",
       "      <td>71.0</td>\n",
       "      <td>41.0</td>\n",
       "      <td>1201.0</td>\n",
       "      <td>16.0</td>\n",
       "      <td>61.8</td>\n",
       "      <td>0.789</td>\n",
       "      <td>1000.0</td>\n",
       "    </tr>\n",
       "    <tr>\n",
       "      <th>3</th>\n",
       "      <td>Claude-3.5-Haiku</td>\n",
       "      <td>2024-10-22</td>\n",
       "      <td>1.6000</td>\n",
       "      <td>81</td>\n",
       "      <td>37</td>\n",
       "      <td>87.0</td>\n",
       "      <td>67.0</td>\n",
       "      <td>1236.0</td>\n",
       "      <td>NaN</td>\n",
       "      <td>64.2</td>\n",
       "      <td>0.768</td>\n",
       "      <td>1000.0</td>\n",
       "    </tr>\n",
       "    <tr>\n",
       "      <th>4</th>\n",
       "      <td>Claude-3.5-Sonnet-2024-06</td>\n",
       "      <td>2024-06-20</td>\n",
       "      <td>6.0000</td>\n",
       "      <td>88</td>\n",
       "      <td>56</td>\n",
       "      <td>90.0</td>\n",
       "      <td>71.0</td>\n",
       "      <td>1268.0</td>\n",
       "      <td>46.0</td>\n",
       "      <td>55.9</td>\n",
       "      <td>0.906</td>\n",
       "      <td>1000.0</td>\n",
       "    </tr>\n",
       "    <tr>\n",
       "      <th>5</th>\n",
       "      <td>Claude-3.5-Sonnet-2024-10</td>\n",
       "      <td>2024-10-22</td>\n",
       "      <td>6.0000</td>\n",
       "      <td>89</td>\n",
       "      <td>58</td>\n",
       "      <td>96.0</td>\n",
       "      <td>76.0</td>\n",
       "      <td>1282.0</td>\n",
       "      <td>53.0</td>\n",
       "      <td>55.2</td>\n",
       "      <td>0.907</td>\n",
       "      <td>1000.0</td>\n",
       "    </tr>\n",
       "    <tr>\n",
       "      <th>6</th>\n",
       "      <td>Gemini 2.0 Flash</td>\n",
       "      <td>2025-02-05</td>\n",
       "      <td>0.1750</td>\n",
       "      <td>88</td>\n",
       "      <td>62</td>\n",
       "      <td>90.0</td>\n",
       "      <td>93.0</td>\n",
       "      <td>1358.0</td>\n",
       "      <td>82.0</td>\n",
       "      <td>NaN</td>\n",
       "      <td>NaN</td>\n",
       "      <td>NaN</td>\n",
       "    </tr>\n",
       "    <tr>\n",
       "      <th>7</th>\n",
       "      <td>Gemini-1.5-Flash-2024-05</td>\n",
       "      <td>2024-05-10</td>\n",
       "      <td>0.1300</td>\n",
       "      <td>79</td>\n",
       "      <td>39</td>\n",
       "      <td>NaN</td>\n",
       "      <td>55.0</td>\n",
       "      <td>1227.0</td>\n",
       "      <td>23.0</td>\n",
       "      <td>298.4</td>\n",
       "      <td>0.307</td>\n",
       "      <td>1000.0</td>\n",
       "    </tr>\n",
       "    <tr>\n",
       "      <th>8</th>\n",
       "      <td>Gemini-1.5-Flash-2024-09</td>\n",
       "      <td>2024-09-24</td>\n",
       "      <td>0.1300</td>\n",
       "      <td>75</td>\n",
       "      <td>45</td>\n",
       "      <td>83.0</td>\n",
       "      <td>83.0</td>\n",
       "      <td>1271.0</td>\n",
       "      <td>58.0</td>\n",
       "      <td>190.5</td>\n",
       "      <td>0.348</td>\n",
       "      <td>1000.0</td>\n",
       "    </tr>\n",
       "    <tr>\n",
       "      <th>9</th>\n",
       "      <td>Gemini-1.5-Flash-8B</td>\n",
       "      <td>2024-10-03</td>\n",
       "      <td>0.0700</td>\n",
       "      <td>75</td>\n",
       "      <td>30</td>\n",
       "      <td>12.0</td>\n",
       "      <td>70.0</td>\n",
       "      <td>1211.0</td>\n",
       "      <td>NaN</td>\n",
       "      <td>285.2</td>\n",
       "      <td>0.335</td>\n",
       "      <td>1000.0</td>\n",
       "    </tr>\n",
       "    <tr>\n",
       "      <th>10</th>\n",
       "      <td>Gemini-1.5-Pro-2024-05</td>\n",
       "      <td>2024-05-23</td>\n",
       "      <td>2.1900</td>\n",
       "      <td>86</td>\n",
       "      <td>46</td>\n",
       "      <td>83.0</td>\n",
       "      <td>66.0</td>\n",
       "      <td>1260.0</td>\n",
       "      <td>41.0</td>\n",
       "      <td>64.8</td>\n",
       "      <td>0.738</td>\n",
       "      <td>1000.0</td>\n",
       "    </tr>\n",
       "    <tr>\n",
       "      <th>11</th>\n",
       "      <td>Gemini-1.5-Pro-2024-09</td>\n",
       "      <td>2024-09-24</td>\n",
       "      <td>2.1900</td>\n",
       "      <td>86</td>\n",
       "      <td>61</td>\n",
       "      <td>88.0</td>\n",
       "      <td>88.0</td>\n",
       "      <td>1301.0</td>\n",
       "      <td>67.0</td>\n",
       "      <td>59.1</td>\n",
       "      <td>0.864</td>\n",
       "      <td>1000.0</td>\n",
       "    </tr>\n",
       "    <tr>\n",
       "      <th>12</th>\n",
       "      <td>Gemma-2-27B</td>\n",
       "      <td>2024-06-24</td>\n",
       "      <td>0.2600</td>\n",
       "      <td>77</td>\n",
       "      <td>39</td>\n",
       "      <td>76.0</td>\n",
       "      <td>54.0</td>\n",
       "      <td>1219.0</td>\n",
       "      <td>23.0</td>\n",
       "      <td>47.9</td>\n",
       "      <td>0.527</td>\n",
       "      <td>1000.0</td>\n",
       "    </tr>\n",
       "    <tr>\n",
       "      <th>13</th>\n",
       "      <td>Gemma-2-9B</td>\n",
       "      <td>2024-06-24</td>\n",
       "      <td>0.1300</td>\n",
       "      <td>73</td>\n",
       "      <td>31</td>\n",
       "      <td>64.0</td>\n",
       "      <td>50.0</td>\n",
       "      <td>1190.0</td>\n",
       "      <td>18.0</td>\n",
       "      <td>162.8</td>\n",
       "      <td>0.426</td>\n",
       "      <td>1000.0</td>\n",
       "    </tr>\n",
       "    <tr>\n",
       "      <th>14</th>\n",
       "      <td>GPT-3.5-Turbo-2023-11</td>\n",
       "      <td>2023-11-06</td>\n",
       "      <td>0.7500</td>\n",
       "      <td>68</td>\n",
       "      <td>30</td>\n",
       "      <td>71.0</td>\n",
       "      <td>44.0</td>\n",
       "      <td>1107.0</td>\n",
       "      <td>15.0</td>\n",
       "      <td>121.5</td>\n",
       "      <td>0.598</td>\n",
       "      <td>1000.0</td>\n",
       "    </tr>\n",
       "    <tr>\n",
       "      <th>15</th>\n",
       "      <td>GPT-4-0314</td>\n",
       "      <td>2023-03-14</td>\n",
       "      <td>37.5000</td>\n",
       "      <td>86</td>\n",
       "      <td>33</td>\n",
       "      <td>67.0</td>\n",
       "      <td>NaN</td>\n",
       "      <td>1186.0</td>\n",
       "      <td>NaN</td>\n",
       "      <td>23.6</td>\n",
       "      <td>0.724</td>\n",
       "      <td>1000.0</td>\n",
       "    </tr>\n",
       "    <tr>\n",
       "      <th>16</th>\n",
       "      <td>GPT-4 Turbo</td>\n",
       "      <td>2023-11-06</td>\n",
       "      <td>15.0000</td>\n",
       "      <td>87</td>\n",
       "      <td>50</td>\n",
       "      <td>92.0</td>\n",
       "      <td>74.0</td>\n",
       "      <td>1256.0</td>\n",
       "      <td>36.0</td>\n",
       "      <td>39.2</td>\n",
       "      <td>1.246</td>\n",
       "      <td>1000.0</td>\n",
       "    </tr>\n",
       "    <tr>\n",
       "      <th>17</th>\n",
       "      <td>GPT-4o-2024-05</td>\n",
       "      <td>2024-05-13</td>\n",
       "      <td>7.5000</td>\n",
       "      <td>87</td>\n",
       "      <td>53</td>\n",
       "      <td>94.0</td>\n",
       "      <td>79.0</td>\n",
       "      <td>1285.0</td>\n",
       "      <td>48.0</td>\n",
       "      <td>86.4</td>\n",
       "      <td>0.687</td>\n",
       "      <td>1000.0</td>\n",
       "    </tr>\n",
       "    <tr>\n",
       "      <th>18</th>\n",
       "      <td>GPT-4o-2024-08</td>\n",
       "      <td>2024-08-06</td>\n",
       "      <td>4.3800</td>\n",
       "      <td>89</td>\n",
       "      <td>52</td>\n",
       "      <td>93.0</td>\n",
       "      <td>80.0</td>\n",
       "      <td>1337.0</td>\n",
       "      <td>47.0</td>\n",
       "      <td>81.0</td>\n",
       "      <td>0.673</td>\n",
       "      <td>1000.0</td>\n",
       "    </tr>\n",
       "    <tr>\n",
       "      <th>19</th>\n",
       "      <td>GPT-4o-2024-11</td>\n",
       "      <td>2024-11-20</td>\n",
       "      <td>4.3800</td>\n",
       "      <td>86</td>\n",
       "      <td>54</td>\n",
       "      <td>93.0</td>\n",
       "      <td>76.0</td>\n",
       "      <td>1361.0</td>\n",
       "      <td>50.0</td>\n",
       "      <td>148.9</td>\n",
       "      <td>0.404</td>\n",
       "      <td>1000.0</td>\n",
       "    </tr>\n",
       "    <tr>\n",
       "      <th>20</th>\n",
       "      <td>GPT-4o-mini</td>\n",
       "      <td>2024-07-18</td>\n",
       "      <td>0.2600</td>\n",
       "      <td>82</td>\n",
       "      <td>43</td>\n",
       "      <td>88.0</td>\n",
       "      <td>79.0</td>\n",
       "      <td>1273.0</td>\n",
       "      <td>48.0</td>\n",
       "      <td>112.2</td>\n",
       "      <td>0.626</td>\n",
       "      <td>1000.0</td>\n",
       "    </tr>\n",
       "    <tr>\n",
       "      <th>21</th>\n",
       "      <td>Llama-2-Chat-13B</td>\n",
       "      <td>2023-07-18</td>\n",
       "      <td>0.5600</td>\n",
       "      <td>45</td>\n",
       "      <td>19</td>\n",
       "      <td>NaN</td>\n",
       "      <td>NaN</td>\n",
       "      <td>1063.0</td>\n",
       "      <td>NaN</td>\n",
       "      <td>43.1</td>\n",
       "      <td>0.447</td>\n",
       "      <td>1000.0</td>\n",
       "    </tr>\n",
       "    <tr>\n",
       "      <th>22</th>\n",
       "      <td>Llama-2-Chat-7B</td>\n",
       "      <td>2023-07-18</td>\n",
       "      <td>0.3300</td>\n",
       "      <td>13</td>\n",
       "      <td>6</td>\n",
       "      <td>13.0</td>\n",
       "      <td>NaN</td>\n",
       "      <td>1037.0</td>\n",
       "      <td>NaN</td>\n",
       "      <td>125.4</td>\n",
       "      <td>0.508</td>\n",
       "      <td>1000.0</td>\n",
       "    </tr>\n",
       "    <tr>\n",
       "      <th>23</th>\n",
       "      <td>Llama-3-Instruct-70B</td>\n",
       "      <td>2024-04-18</td>\n",
       "      <td>0.8900</td>\n",
       "      <td>79</td>\n",
       "      <td>39</td>\n",
       "      <td>18.0</td>\n",
       "      <td>53.0</td>\n",
       "      <td>1206.0</td>\n",
       "      <td>22.0</td>\n",
       "      <td>44.6</td>\n",
       "      <td>0.472</td>\n",
       "      <td>1000.0</td>\n",
       "    </tr>\n",
       "    <tr>\n",
       "      <th>24</th>\n",
       "      <td>Llama-3-Instruct-8B</td>\n",
       "      <td>2024-04-18</td>\n",
       "      <td>0.1500</td>\n",
       "      <td>64</td>\n",
       "      <td>30</td>\n",
       "      <td>53.0</td>\n",
       "      <td>32.0</td>\n",
       "      <td>1152.0</td>\n",
       "      <td>8.0</td>\n",
       "      <td>122.8</td>\n",
       "      <td>0.330</td>\n",
       "      <td>1000.0</td>\n",
       "    </tr>\n",
       "    <tr>\n",
       "      <th>25</th>\n",
       "      <td>Llama-3.1-Instruct-405B</td>\n",
       "      <td>2024-07-23</td>\n",
       "      <td>3.5000</td>\n",
       "      <td>87</td>\n",
       "      <td>50</td>\n",
       "      <td>87.0</td>\n",
       "      <td>70.0</td>\n",
       "      <td>1266.0</td>\n",
       "      <td>45.0</td>\n",
       "      <td>27.9</td>\n",
       "      <td>0.719</td>\n",
       "      <td>1000.0</td>\n",
       "    </tr>\n",
       "    <tr>\n",
       "      <th>26</th>\n",
       "      <td>Llama-3.1-Instruct-70B</td>\n",
       "      <td>2024-07-23</td>\n",
       "      <td>0.7200</td>\n",
       "      <td>84</td>\n",
       "      <td>43</td>\n",
       "      <td>80.0</td>\n",
       "      <td>64.0</td>\n",
       "      <td>1249.0</td>\n",
       "      <td>39.0</td>\n",
       "      <td>71.6</td>\n",
       "      <td>0.425</td>\n",
       "      <td>1000.0</td>\n",
       "    </tr>\n",
       "    <tr>\n",
       "      <th>27</th>\n",
       "      <td>Llama-3.1-Instruct-8B</td>\n",
       "      <td>2024-07-23</td>\n",
       "      <td>0.1000</td>\n",
       "      <td>71</td>\n",
       "      <td>27</td>\n",
       "      <td>67.0</td>\n",
       "      <td>50.0</td>\n",
       "      <td>1172.0</td>\n",
       "      <td>22.0</td>\n",
       "      <td>164.3</td>\n",
       "      <td>0.350</td>\n",
       "      <td>1000.0</td>\n",
       "    </tr>\n",
       "    <tr>\n",
       "      <th>28</th>\n",
       "      <td>Llama-3.2-Instruct-1B</td>\n",
       "      <td>2024-09-24</td>\n",
       "      <td>0.0500</td>\n",
       "      <td>35</td>\n",
       "      <td>14</td>\n",
       "      <td>40.0</td>\n",
       "      <td>13.0</td>\n",
       "      <td>1103.0</td>\n",
       "      <td>NaN</td>\n",
       "      <td>552.1</td>\n",
       "      <td>0.317</td>\n",
       "      <td>1000.0</td>\n",
       "    </tr>\n",
       "    <tr>\n",
       "      <th>29</th>\n",
       "      <td>Llama-3.2-Instruct-3B</td>\n",
       "      <td>2024-09-24</td>\n",
       "      <td>0.0800</td>\n",
       "      <td>64</td>\n",
       "      <td>21</td>\n",
       "      <td>60.0</td>\n",
       "      <td>50.0</td>\n",
       "      <td>1103.0</td>\n",
       "      <td>NaN</td>\n",
       "      <td>200.3</td>\n",
       "      <td>0.316</td>\n",
       "      <td>1000.0</td>\n",
       "    </tr>\n",
       "    <tr>\n",
       "      <th>30</th>\n",
       "      <td>Mistral Small 3</td>\n",
       "      <td>2025-01-30</td>\n",
       "      <td>0.4750</td>\n",
       "      <td>82</td>\n",
       "      <td>46</td>\n",
       "      <td>85.0</td>\n",
       "      <td>74.0</td>\n",
       "      <td>1210.0</td>\n",
       "      <td>45.0</td>\n",
       "      <td>NaN</td>\n",
       "      <td>NaN</td>\n",
       "      <td>NaN</td>\n",
       "    </tr>\n",
       "    <tr>\n",
       "      <th>31</th>\n",
       "      <td>Mistral-8x22</td>\n",
       "      <td>2024-04-17</td>\n",
       "      <td>1.2000</td>\n",
       "      <td>76</td>\n",
       "      <td>37</td>\n",
       "      <td>74.0</td>\n",
       "      <td>56.0</td>\n",
       "      <td>1148.0</td>\n",
       "      <td>23.0</td>\n",
       "      <td>85.3</td>\n",
       "      <td>0.624</td>\n",
       "      <td>1000.0</td>\n",
       "    </tr>\n",
       "    <tr>\n",
       "      <th>32</th>\n",
       "      <td>Mistral-Large-2-2024-07</td>\n",
       "      <td>2024-07-24</td>\n",
       "      <td>3.0000</td>\n",
       "      <td>85</td>\n",
       "      <td>48</td>\n",
       "      <td>91.0</td>\n",
       "      <td>71.0</td>\n",
       "      <td>1251.0</td>\n",
       "      <td>45.0</td>\n",
       "      <td>34.4</td>\n",
       "      <td>0.486</td>\n",
       "      <td>1000.0</td>\n",
       "    </tr>\n",
       "    <tr>\n",
       "      <th>33</th>\n",
       "      <td>Mistral-Large-2-2024-11</td>\n",
       "      <td>2024-11-18</td>\n",
       "      <td>3.0000</td>\n",
       "      <td>85</td>\n",
       "      <td>47</td>\n",
       "      <td>90.0</td>\n",
       "      <td>72.0</td>\n",
       "      <td>1247.0</td>\n",
       "      <td>NaN</td>\n",
       "      <td>43.5</td>\n",
       "      <td>0.639</td>\n",
       "      <td>1000.0</td>\n",
       "    </tr>\n",
       "    <tr>\n",
       "      <th>34</th>\n",
       "      <td>Mistral-Large-2024-02</td>\n",
       "      <td>2024-02-26</td>\n",
       "      <td>6.0000</td>\n",
       "      <td>69</td>\n",
       "      <td>36</td>\n",
       "      <td>69.0</td>\n",
       "      <td>49.0</td>\n",
       "      <td>1157.0</td>\n",
       "      <td>21.0</td>\n",
       "      <td>37.8</td>\n",
       "      <td>0.500</td>\n",
       "      <td>1000.0</td>\n",
       "    </tr>\n",
       "    <tr>\n",
       "      <th>35</th>\n",
       "      <td>Mistral-NeMo</td>\n",
       "      <td>2024-07-18</td>\n",
       "      <td>0.1300</td>\n",
       "      <td>66</td>\n",
       "      <td>33</td>\n",
       "      <td>71.0</td>\n",
       "      <td>44.0</td>\n",
       "      <td>NaN</td>\n",
       "      <td>10.0</td>\n",
       "      <td>88.3</td>\n",
       "      <td>0.551</td>\n",
       "      <td>1000.0</td>\n",
       "    </tr>\n",
       "    <tr>\n",
       "      <th>36</th>\n",
       "      <td>Mistral-Small-2024-02</td>\n",
       "      <td>2024-02-26</td>\n",
       "      <td>1.5000</td>\n",
       "      <td>69</td>\n",
       "      <td>31</td>\n",
       "      <td>79.0</td>\n",
       "      <td>56.0</td>\n",
       "      <td>NaN</td>\n",
       "      <td>NaN</td>\n",
       "      <td>54.1</td>\n",
       "      <td>0.429</td>\n",
       "      <td>1000.0</td>\n",
       "    </tr>\n",
       "    <tr>\n",
       "      <th>37</th>\n",
       "      <td>Phi 4</td>\n",
       "      <td>2024-12-13</td>\n",
       "      <td>0.1225</td>\n",
       "      <td>85</td>\n",
       "      <td>53</td>\n",
       "      <td>87.0</td>\n",
       "      <td>81.0</td>\n",
       "      <td>1204.0</td>\n",
       "      <td>65.0</td>\n",
       "      <td>NaN</td>\n",
       "      <td>NaN</td>\n",
       "      <td>NaN</td>\n",
       "    </tr>\n",
       "  </tbody>\n",
       "</table>\n",
       "</div>"
      ],
      "text/plain": [
       "                   Model Name Release Date  USD per 1M Tokens  MMLU  \\\n",
       "0              Claude-3-Haiku   2024-03-04             0.5000    71   \n",
       "1               Claude-3-Opus   2024-03-04            30.0000    84   \n",
       "2             Claude-3-Sonnet   2024-03-04             6.0000    77   \n",
       "3            Claude-3.5-Haiku   2024-10-22             1.6000    81   \n",
       "4   Claude-3.5-Sonnet-2024-06   2024-06-20             6.0000    88   \n",
       "5   Claude-3.5-Sonnet-2024-10   2024-10-22             6.0000    89   \n",
       "6            Gemini 2.0 Flash   2025-02-05             0.1750    88   \n",
       "7    Gemini-1.5-Flash-2024-05   2024-05-10             0.1300    79   \n",
       "8    Gemini-1.5-Flash-2024-09   2024-09-24             0.1300    75   \n",
       "9         Gemini-1.5-Flash-8B   2024-10-03             0.0700    75   \n",
       "10     Gemini-1.5-Pro-2024-05   2024-05-23             2.1900    86   \n",
       "11     Gemini-1.5-Pro-2024-09   2024-09-24             2.1900    86   \n",
       "12                Gemma-2-27B   2024-06-24             0.2600    77   \n",
       "13                 Gemma-2-9B   2024-06-24             0.1300    73   \n",
       "14      GPT-3.5-Turbo-2023-11   2023-11-06             0.7500    68   \n",
       "15                 GPT-4-0314   2023-03-14            37.5000    86   \n",
       "16                GPT-4 Turbo   2023-11-06            15.0000    87   \n",
       "17             GPT-4o-2024-05   2024-05-13             7.5000    87   \n",
       "18             GPT-4o-2024-08   2024-08-06             4.3800    89   \n",
       "19             GPT-4o-2024-11   2024-11-20             4.3800    86   \n",
       "20                GPT-4o-mini   2024-07-18             0.2600    82   \n",
       "21           Llama-2-Chat-13B   2023-07-18             0.5600    45   \n",
       "22            Llama-2-Chat-7B   2023-07-18             0.3300    13   \n",
       "23       Llama-3-Instruct-70B   2024-04-18             0.8900    79   \n",
       "24        Llama-3-Instruct-8B   2024-04-18             0.1500    64   \n",
       "25    Llama-3.1-Instruct-405B   2024-07-23             3.5000    87   \n",
       "26     Llama-3.1-Instruct-70B   2024-07-23             0.7200    84   \n",
       "27      Llama-3.1-Instruct-8B   2024-07-23             0.1000    71   \n",
       "28      Llama-3.2-Instruct-1B   2024-09-24             0.0500    35   \n",
       "29      Llama-3.2-Instruct-3B   2024-09-24             0.0800    64   \n",
       "30            Mistral Small 3   2025-01-30             0.4750    82   \n",
       "31               Mistral-8x22   2024-04-17             1.2000    76   \n",
       "32    Mistral-Large-2-2024-07   2024-07-24             3.0000    85   \n",
       "33    Mistral-Large-2-2024-11   2024-11-18             3.0000    85   \n",
       "34      Mistral-Large-2024-02   2024-02-26             6.0000    69   \n",
       "35               Mistral-NeMo   2024-07-18             0.1300    66   \n",
       "36      Mistral-Small-2024-02   2024-02-26             1.5000    69   \n",
       "37                      Phi 4   2024-12-13             0.1225    85   \n",
       "\n",
       "    GPQA Diamond  HumanEval  MATH-500  LMSys Chatbot Arena ELO  MATH 5  \\\n",
       "0             33       77.0      39.0                   1179.0    13.0   \n",
       "1             50       83.0      64.0                   1248.0    34.0   \n",
       "2             37       71.0      41.0                   1201.0    16.0   \n",
       "3             37       87.0      67.0                   1236.0     NaN   \n",
       "4             56       90.0      71.0                   1268.0    46.0   \n",
       "5             58       96.0      76.0                   1282.0    53.0   \n",
       "6             62       90.0      93.0                   1358.0    82.0   \n",
       "7             39        NaN      55.0                   1227.0    23.0   \n",
       "8             45       83.0      83.0                   1271.0    58.0   \n",
       "9             30       12.0      70.0                   1211.0     NaN   \n",
       "10            46       83.0      66.0                   1260.0    41.0   \n",
       "11            61       88.0      88.0                   1301.0    67.0   \n",
       "12            39       76.0      54.0                   1219.0    23.0   \n",
       "13            31       64.0      50.0                   1190.0    18.0   \n",
       "14            30       71.0      44.0                   1107.0    15.0   \n",
       "15            33       67.0       NaN                   1186.0     NaN   \n",
       "16            50       92.0      74.0                   1256.0    36.0   \n",
       "17            53       94.0      79.0                   1285.0    48.0   \n",
       "18            52       93.0      80.0                   1337.0    47.0   \n",
       "19            54       93.0      76.0                   1361.0    50.0   \n",
       "20            43       88.0      79.0                   1273.0    48.0   \n",
       "21            19        NaN       NaN                   1063.0     NaN   \n",
       "22             6       13.0       NaN                   1037.0     NaN   \n",
       "23            39       18.0      53.0                   1206.0    22.0   \n",
       "24            30       53.0      32.0                   1152.0     8.0   \n",
       "25            50       87.0      70.0                   1266.0    45.0   \n",
       "26            43       80.0      64.0                   1249.0    39.0   \n",
       "27            27       67.0      50.0                   1172.0    22.0   \n",
       "28            14       40.0      13.0                   1103.0     NaN   \n",
       "29            21       60.0      50.0                   1103.0     NaN   \n",
       "30            46       85.0      74.0                   1210.0    45.0   \n",
       "31            37       74.0      56.0                   1148.0    23.0   \n",
       "32            48       91.0      71.0                   1251.0    45.0   \n",
       "33            47       90.0      72.0                   1247.0     NaN   \n",
       "34            36       69.0      49.0                   1157.0    21.0   \n",
       "35            33       71.0      44.0                      NaN    10.0   \n",
       "36            31       79.0      56.0                      NaN     NaN   \n",
       "37            53       87.0      81.0                   1204.0    65.0   \n",
       "\n",
       "    Tokens per Second  Prefill Latency (s)  Prompt Length (tk)  \n",
       "0               122.7                0.467              1000.0  \n",
       "1                26.5                1.984              1000.0  \n",
       "2                61.8                0.789              1000.0  \n",
       "3                64.2                0.768              1000.0  \n",
       "4                55.9                0.906              1000.0  \n",
       "5                55.2                0.907              1000.0  \n",
       "6                 NaN                  NaN                 NaN  \n",
       "7               298.4                0.307              1000.0  \n",
       "8               190.5                0.348              1000.0  \n",
       "9               285.2                0.335              1000.0  \n",
       "10               64.8                0.738              1000.0  \n",
       "11               59.1                0.864              1000.0  \n",
       "12               47.9                0.527              1000.0  \n",
       "13              162.8                0.426              1000.0  \n",
       "14              121.5                0.598              1000.0  \n",
       "15               23.6                0.724              1000.0  \n",
       "16               39.2                1.246              1000.0  \n",
       "17               86.4                0.687              1000.0  \n",
       "18               81.0                0.673              1000.0  \n",
       "19              148.9                0.404              1000.0  \n",
       "20              112.2                0.626              1000.0  \n",
       "21               43.1                0.447              1000.0  \n",
       "22              125.4                0.508              1000.0  \n",
       "23               44.6                0.472              1000.0  \n",
       "24              122.8                0.330              1000.0  \n",
       "25               27.9                0.719              1000.0  \n",
       "26               71.6                0.425              1000.0  \n",
       "27              164.3                0.350              1000.0  \n",
       "28              552.1                0.317              1000.0  \n",
       "29              200.3                0.316              1000.0  \n",
       "30                NaN                  NaN                 NaN  \n",
       "31               85.3                0.624              1000.0  \n",
       "32               34.4                0.486              1000.0  \n",
       "33               43.5                0.639              1000.0  \n",
       "34               37.8                0.500              1000.0  \n",
       "35               88.3                0.551              1000.0  \n",
       "36               54.1                0.429              1000.0  \n",
       "37                NaN                  NaN                 NaN  "
      ]
     },
     "execution_count": 4,
     "metadata": {},
     "output_type": "execute_result"
    }
   ],
   "source": [
    "aa_df = pd.read_csv('data/aa_data_with_math5.csv')\n",
    "aa_df"
   ]
  },
  {
   "cell_type": "code",
   "execution_count": 5,
   "metadata": {},
   "outputs": [],
   "source": [
    "# 'Release Date' is a string with the format 'YYYY-MM'\n",
    "aa_df['Release Date'] = pd.to_datetime(aa_df['Release Date'].str.strip(), format='%Y-%m-%d')"
   ]
  },
  {
   "cell_type": "markdown",
   "metadata": {},
   "source": [
    "## Load Epoch AI price dataset"
   ]
  },
  {
   "cell_type": "code",
   "execution_count": 6,
   "metadata": {},
   "outputs": [
    {
     "data": {
      "text/html": [
       "<div>\n",
       "<style scoped>\n",
       "    .dataframe tbody tr th:only-of-type {\n",
       "        vertical-align: middle;\n",
       "    }\n",
       "\n",
       "    .dataframe tbody tr th {\n",
       "        vertical-align: top;\n",
       "    }\n",
       "\n",
       "    .dataframe thead th {\n",
       "        text-align: right;\n",
       "    }\n",
       "</style>\n",
       "<table border=\"1\" class=\"dataframe\">\n",
       "  <thead>\n",
       "    <tr style=\"text-align: right;\">\n",
       "      <th></th>\n",
       "      <th>Model Name</th>\n",
       "      <th>Release Date</th>\n",
       "      <th>USD per 1M Tokens</th>\n",
       "      <th>MMLU</th>\n",
       "      <th>GPQA Diamond</th>\n",
       "      <th>HumanEval</th>\n",
       "      <th>MATH-500</th>\n",
       "      <th>LMSys Chatbot Arena ELO</th>\n",
       "      <th>MATH 5</th>\n",
       "      <th>Tokens per Second</th>\n",
       "      <th>Prefill Latency (s)</th>\n",
       "      <th>Prompt Length (tk)</th>\n",
       "    </tr>\n",
       "  </thead>\n",
       "  <tbody>\n",
       "    <tr>\n",
       "      <th>0</th>\n",
       "      <td>Claude 2</td>\n",
       "      <td>2024-08-12</td>\n",
       "      <td>12.0000</td>\n",
       "      <td>78.5</td>\n",
       "      <td>35.0</td>\n",
       "      <td>NaN</td>\n",
       "      <td>NaN</td>\n",
       "      <td>NaN</td>\n",
       "      <td>10.0</td>\n",
       "      <td>NaN</td>\n",
       "      <td>NaN</td>\n",
       "      <td>NaN</td>\n",
       "    </tr>\n",
       "    <tr>\n",
       "      <th>1</th>\n",
       "      <td>Claude 2.1</td>\n",
       "      <td>2024-08-12</td>\n",
       "      <td>12.0000</td>\n",
       "      <td>NaN</td>\n",
       "      <td>36.0</td>\n",
       "      <td>16.0</td>\n",
       "      <td>NaN</td>\n",
       "      <td>NaN</td>\n",
       "      <td>11.0</td>\n",
       "      <td>NaN</td>\n",
       "      <td>NaN</td>\n",
       "      <td>NaN</td>\n",
       "    </tr>\n",
       "    <tr>\n",
       "      <th>2</th>\n",
       "      <td>Claude Instant</td>\n",
       "      <td>2024-08-12</td>\n",
       "      <td>1.2000</td>\n",
       "      <td>NaN</td>\n",
       "      <td>NaN</td>\n",
       "      <td>NaN</td>\n",
       "      <td>NaN</td>\n",
       "      <td>NaN</td>\n",
       "      <td>NaN</td>\n",
       "      <td>NaN</td>\n",
       "      <td>NaN</td>\n",
       "      <td>NaN</td>\n",
       "    </tr>\n",
       "    <tr>\n",
       "      <th>3</th>\n",
       "      <td>Cohere Command</td>\n",
       "      <td>2024-08-13</td>\n",
       "      <td>1.6250</td>\n",
       "      <td>NaN</td>\n",
       "      <td>NaN</td>\n",
       "      <td>NaN</td>\n",
       "      <td>NaN</td>\n",
       "      <td>NaN</td>\n",
       "      <td>NaN</td>\n",
       "      <td>NaN</td>\n",
       "      <td>NaN</td>\n",
       "      <td>NaN</td>\n",
       "    </tr>\n",
       "    <tr>\n",
       "      <th>4</th>\n",
       "      <td>Cohere Command Light</td>\n",
       "      <td>2024-08-13</td>\n",
       "      <td>0.3750</td>\n",
       "      <td>NaN</td>\n",
       "      <td>NaN</td>\n",
       "      <td>NaN</td>\n",
       "      <td>NaN</td>\n",
       "      <td>NaN</td>\n",
       "      <td>NaN</td>\n",
       "      <td>NaN</td>\n",
       "      <td>NaN</td>\n",
       "      <td>NaN</td>\n",
       "    </tr>\n",
       "    <tr>\n",
       "      <th>5</th>\n",
       "      <td>Command R</td>\n",
       "      <td>2024-08-13</td>\n",
       "      <td>0.7500</td>\n",
       "      <td>NaN</td>\n",
       "      <td>NaN</td>\n",
       "      <td>42.0</td>\n",
       "      <td>15.0</td>\n",
       "      <td>1180.0</td>\n",
       "      <td>NaN</td>\n",
       "      <td>NaN</td>\n",
       "      <td>NaN</td>\n",
       "      <td>NaN</td>\n",
       "    </tr>\n",
       "    <tr>\n",
       "      <th>6</th>\n",
       "      <td>Command R+</td>\n",
       "      <td>2024-08-13</td>\n",
       "      <td>6.0000</td>\n",
       "      <td>75.7</td>\n",
       "      <td>34.0</td>\n",
       "      <td>63.0</td>\n",
       "      <td>40.0</td>\n",
       "      <td>1215.0</td>\n",
       "      <td>NaN</td>\n",
       "      <td>NaN</td>\n",
       "      <td>NaN</td>\n",
       "      <td>NaN</td>\n",
       "    </tr>\n",
       "    <tr>\n",
       "      <th>7</th>\n",
       "      <td>Command R+</td>\n",
       "      <td>2024-09-13</td>\n",
       "      <td>4.3750</td>\n",
       "      <td>75.7</td>\n",
       "      <td>34.0</td>\n",
       "      <td>63.0</td>\n",
       "      <td>40.0</td>\n",
       "      <td>1215.0</td>\n",
       "      <td>NaN</td>\n",
       "      <td>NaN</td>\n",
       "      <td>NaN</td>\n",
       "      <td>NaN</td>\n",
       "    </tr>\n",
       "    <tr>\n",
       "      <th>8</th>\n",
       "      <td>DeepSeek-Coder-V2 236B</td>\n",
       "      <td>2024-09-11</td>\n",
       "      <td>0.1750</td>\n",
       "      <td>79.2</td>\n",
       "      <td>NaN</td>\n",
       "      <td>87.0</td>\n",
       "      <td>74.0</td>\n",
       "      <td>1178.0</td>\n",
       "      <td>NaN</td>\n",
       "      <td>NaN</td>\n",
       "      <td>NaN</td>\n",
       "      <td>NaN</td>\n",
       "    </tr>\n",
       "    <tr>\n",
       "      <th>9</th>\n",
       "      <td>DeepSeek-R1</td>\n",
       "      <td>2025-01-20</td>\n",
       "      <td>0.9600</td>\n",
       "      <td>NaN</td>\n",
       "      <td>71.7</td>\n",
       "      <td>98.0</td>\n",
       "      <td>96.0</td>\n",
       "      <td>1362.0</td>\n",
       "      <td>93.1</td>\n",
       "      <td>NaN</td>\n",
       "      <td>NaN</td>\n",
       "      <td>NaN</td>\n",
       "    </tr>\n",
       "    <tr>\n",
       "      <th>10</th>\n",
       "      <td>DeepSeek-V3</td>\n",
       "      <td>2024-12-26</td>\n",
       "      <td>0.4775</td>\n",
       "      <td>NaN</td>\n",
       "      <td>57.0</td>\n",
       "      <td>91.0</td>\n",
       "      <td>89.0</td>\n",
       "      <td>1318.0</td>\n",
       "      <td>65.0</td>\n",
       "      <td>NaN</td>\n",
       "      <td>NaN</td>\n",
       "      <td>NaN</td>\n",
       "    </tr>\n",
       "    <tr>\n",
       "      <th>11</th>\n",
       "      <td>Gemini 1.0 Pro</td>\n",
       "      <td>2024-08-12</td>\n",
       "      <td>0.7500</td>\n",
       "      <td>71.8</td>\n",
       "      <td>34.4</td>\n",
       "      <td>NaN</td>\n",
       "      <td>NaN</td>\n",
       "      <td>1111.0</td>\n",
       "      <td>11.0</td>\n",
       "      <td>NaN</td>\n",
       "      <td>NaN</td>\n",
       "      <td>NaN</td>\n",
       "    </tr>\n",
       "    <tr>\n",
       "      <th>12</th>\n",
       "      <td>GPT-3 175B (davinci)</td>\n",
       "      <td>2021-11-20</td>\n",
       "      <td>60.0000</td>\n",
       "      <td>43.9</td>\n",
       "      <td>NaN</td>\n",
       "      <td>NaN</td>\n",
       "      <td>NaN</td>\n",
       "      <td>NaN</td>\n",
       "      <td>NaN</td>\n",
       "      <td>NaN</td>\n",
       "      <td>NaN</td>\n",
       "      <td>NaN</td>\n",
       "    </tr>\n",
       "    <tr>\n",
       "      <th>13</th>\n",
       "      <td>GPT-3 175B (davinci)</td>\n",
       "      <td>2022-08-31</td>\n",
       "      <td>60.0000</td>\n",
       "      <td>43.9</td>\n",
       "      <td>NaN</td>\n",
       "      <td>NaN</td>\n",
       "      <td>NaN</td>\n",
       "      <td>NaN</td>\n",
       "      <td>NaN</td>\n",
       "      <td>NaN</td>\n",
       "      <td>NaN</td>\n",
       "      <td>NaN</td>\n",
       "    </tr>\n",
       "    <tr>\n",
       "      <th>14</th>\n",
       "      <td>GPT-3 175B (davinci)</td>\n",
       "      <td>2022-09-01</td>\n",
       "      <td>20.0000</td>\n",
       "      <td>43.9</td>\n",
       "      <td>NaN</td>\n",
       "      <td>NaN</td>\n",
       "      <td>NaN</td>\n",
       "      <td>NaN</td>\n",
       "      <td>NaN</td>\n",
       "      <td>NaN</td>\n",
       "      <td>NaN</td>\n",
       "      <td>NaN</td>\n",
       "    </tr>\n",
       "    <tr>\n",
       "      <th>15</th>\n",
       "      <td>GPT-3 175B (davinci)</td>\n",
       "      <td>2024-01-04</td>\n",
       "      <td>20.0000</td>\n",
       "      <td>63.1</td>\n",
       "      <td>NaN</td>\n",
       "      <td>NaN</td>\n",
       "      <td>NaN</td>\n",
       "      <td>NaN</td>\n",
       "      <td>NaN</td>\n",
       "      <td>NaN</td>\n",
       "      <td>NaN</td>\n",
       "      <td>NaN</td>\n",
       "    </tr>\n",
       "    <tr>\n",
       "      <th>16</th>\n",
       "      <td>GPT-3.5</td>\n",
       "      <td>2022-11-30</td>\n",
       "      <td>20.0000</td>\n",
       "      <td>64.8</td>\n",
       "      <td>NaN</td>\n",
       "      <td>NaN</td>\n",
       "      <td>NaN</td>\n",
       "      <td>NaN</td>\n",
       "      <td>NaN</td>\n",
       "      <td>NaN</td>\n",
       "      <td>NaN</td>\n",
       "      <td>NaN</td>\n",
       "    </tr>\n",
       "    <tr>\n",
       "      <th>17</th>\n",
       "      <td>GPT-3.5-Turbo-2023-06</td>\n",
       "      <td>2023-06-13</td>\n",
       "      <td>3.2500</td>\n",
       "      <td>68.0</td>\n",
       "      <td>28.8</td>\n",
       "      <td>71.0</td>\n",
       "      <td>44.0</td>\n",
       "      <td>1117.0</td>\n",
       "      <td>15.0</td>\n",
       "      <td>NaN</td>\n",
       "      <td>NaN</td>\n",
       "      <td>NaN</td>\n",
       "    </tr>\n",
       "    <tr>\n",
       "      <th>18</th>\n",
       "      <td>GPT-3.5-Turbo-2024-01</td>\n",
       "      <td>2024-01-25</td>\n",
       "      <td>0.7500</td>\n",
       "      <td>68.0</td>\n",
       "      <td>30.0</td>\n",
       "      <td>71.0</td>\n",
       "      <td>44.0</td>\n",
       "      <td>1106.0</td>\n",
       "      <td>11.0</td>\n",
       "      <td>NaN</td>\n",
       "      <td>NaN</td>\n",
       "      <td>NaN</td>\n",
       "    </tr>\n",
       "    <tr>\n",
       "      <th>19</th>\n",
       "      <td>GPT-3.5 Turbo</td>\n",
       "      <td>2023-03-06</td>\n",
       "      <td>2.0000</td>\n",
       "      <td>68.0</td>\n",
       "      <td>NaN</td>\n",
       "      <td>NaN</td>\n",
       "      <td>NaN</td>\n",
       "      <td>1106.0</td>\n",
       "      <td>NaN</td>\n",
       "      <td>NaN</td>\n",
       "      <td>NaN</td>\n",
       "      <td>NaN</td>\n",
       "    </tr>\n",
       "    <tr>\n",
       "      <th>20</th>\n",
       "      <td>GPT-4-0613</td>\n",
       "      <td>2023-06-13</td>\n",
       "      <td>NaN</td>\n",
       "      <td>NaN</td>\n",
       "      <td>31.0</td>\n",
       "      <td>NaN</td>\n",
       "      <td>NaN</td>\n",
       "      <td>1163.0</td>\n",
       "      <td>23.0</td>\n",
       "      <td>NaN</td>\n",
       "      <td>NaN</td>\n",
       "      <td>NaN</td>\n",
       "    </tr>\n",
       "    <tr>\n",
       "      <th>21</th>\n",
       "      <td>GPT-4-1106</td>\n",
       "      <td>2023-11-06</td>\n",
       "      <td>NaN</td>\n",
       "      <td>NaN</td>\n",
       "      <td>47.0</td>\n",
       "      <td>NaN</td>\n",
       "      <td>NaN</td>\n",
       "      <td>1250.0</td>\n",
       "      <td>40.0</td>\n",
       "      <td>NaN</td>\n",
       "      <td>NaN</td>\n",
       "      <td>NaN</td>\n",
       "    </tr>\n",
       "    <tr>\n",
       "      <th>22</th>\n",
       "      <td>GPT-4-0125</td>\n",
       "      <td>2024-01-25</td>\n",
       "      <td>NaN</td>\n",
       "      <td>NaN</td>\n",
       "      <td>42.0</td>\n",
       "      <td>NaN</td>\n",
       "      <td>NaN</td>\n",
       "      <td>1245.0</td>\n",
       "      <td>35.0</td>\n",
       "      <td>NaN</td>\n",
       "      <td>NaN</td>\n",
       "      <td>NaN</td>\n",
       "    </tr>\n",
       "    <tr>\n",
       "      <th>23</th>\n",
       "      <td>Jamba 1.5-Large</td>\n",
       "      <td>2024-09-12</td>\n",
       "      <td>3.5000</td>\n",
       "      <td>80.0</td>\n",
       "      <td>43.0</td>\n",
       "      <td>24.0</td>\n",
       "      <td>61.0</td>\n",
       "      <td>1221.0</td>\n",
       "      <td>NaN</td>\n",
       "      <td>NaN</td>\n",
       "      <td>NaN</td>\n",
       "      <td>NaN</td>\n",
       "    </tr>\n",
       "    <tr>\n",
       "      <th>24</th>\n",
       "      <td>Llama 2-13B</td>\n",
       "      <td>2023-12-08</td>\n",
       "      <td>0.3500</td>\n",
       "      <td>54.8</td>\n",
       "      <td>NaN</td>\n",
       "      <td>NaN</td>\n",
       "      <td>NaN</td>\n",
       "      <td>NaN</td>\n",
       "      <td>NaN</td>\n",
       "      <td>NaN</td>\n",
       "      <td>NaN</td>\n",
       "      <td>NaN</td>\n",
       "    </tr>\n",
       "    <tr>\n",
       "      <th>25</th>\n",
       "      <td>Llama 2-13B</td>\n",
       "      <td>2024-04-14</td>\n",
       "      <td>0.2200</td>\n",
       "      <td>54.8</td>\n",
       "      <td>NaN</td>\n",
       "      <td>NaN</td>\n",
       "      <td>NaN</td>\n",
       "      <td>NaN</td>\n",
       "      <td>NaN</td>\n",
       "      <td>NaN</td>\n",
       "      <td>NaN</td>\n",
       "      <td>NaN</td>\n",
       "    </tr>\n",
       "    <tr>\n",
       "      <th>26</th>\n",
       "      <td>Llama 2-70B Chat</td>\n",
       "      <td>2023-12-01</td>\n",
       "      <td>0.7625</td>\n",
       "      <td>68.9</td>\n",
       "      <td>26.0</td>\n",
       "      <td>NaN</td>\n",
       "      <td>NaN</td>\n",
       "      <td>1093.0</td>\n",
       "      <td>3.0</td>\n",
       "      <td>NaN</td>\n",
       "      <td>NaN</td>\n",
       "      <td>NaN</td>\n",
       "    </tr>\n",
       "    <tr>\n",
       "      <th>27</th>\n",
       "      <td>Llama 2-7B</td>\n",
       "      <td>2023-12-01</td>\n",
       "      <td>0.2000</td>\n",
       "      <td>45.3</td>\n",
       "      <td>NaN</td>\n",
       "      <td>NaN</td>\n",
       "      <td>NaN</td>\n",
       "      <td>NaN</td>\n",
       "      <td>NaN</td>\n",
       "      <td>NaN</td>\n",
       "      <td>NaN</td>\n",
       "      <td>NaN</td>\n",
       "    </tr>\n",
       "    <tr>\n",
       "      <th>28</th>\n",
       "      <td>Llama 2-7B</td>\n",
       "      <td>2024-04-14</td>\n",
       "      <td>0.1300</td>\n",
       "      <td>45.3</td>\n",
       "      <td>NaN</td>\n",
       "      <td>NaN</td>\n",
       "      <td>NaN</td>\n",
       "      <td>NaN</td>\n",
       "      <td>NaN</td>\n",
       "      <td>NaN</td>\n",
       "      <td>NaN</td>\n",
       "      <td>NaN</td>\n",
       "    </tr>\n",
       "    <tr>\n",
       "      <th>29</th>\n",
       "      <td>Mistral 7B</td>\n",
       "      <td>2024-09-14</td>\n",
       "      <td>0.2500</td>\n",
       "      <td>60.1</td>\n",
       "      <td>14.0</td>\n",
       "      <td>40.0</td>\n",
       "      <td>12.0</td>\n",
       "      <td>1008.0</td>\n",
       "      <td>3.0</td>\n",
       "      <td>NaN</td>\n",
       "      <td>NaN</td>\n",
       "      <td>NaN</td>\n",
       "    </tr>\n",
       "    <tr>\n",
       "      <th>30</th>\n",
       "      <td>o1</td>\n",
       "      <td>2024-12-17</td>\n",
       "      <td>26.2500</td>\n",
       "      <td>NaN</td>\n",
       "      <td>75.8</td>\n",
       "      <td>97.0</td>\n",
       "      <td>97.0</td>\n",
       "      <td>1352.0</td>\n",
       "      <td>94.4</td>\n",
       "      <td>NaN</td>\n",
       "      <td>NaN</td>\n",
       "      <td>NaN</td>\n",
       "    </tr>\n",
       "    <tr>\n",
       "      <th>31</th>\n",
       "      <td>o1-mini</td>\n",
       "      <td>2024-09-12</td>\n",
       "      <td>5.2500</td>\n",
       "      <td>NaN</td>\n",
       "      <td>59.5</td>\n",
       "      <td>97.0</td>\n",
       "      <td>94.0</td>\n",
       "      <td>1308.0</td>\n",
       "      <td>84.3</td>\n",
       "      <td>NaN</td>\n",
       "      <td>NaN</td>\n",
       "      <td>NaN</td>\n",
       "    </tr>\n",
       "    <tr>\n",
       "      <th>32</th>\n",
       "      <td>o1-mini</td>\n",
       "      <td>2025-01-31</td>\n",
       "      <td>1.9250</td>\n",
       "      <td>NaN</td>\n",
       "      <td>59.5</td>\n",
       "      <td>97.0</td>\n",
       "      <td>94.0</td>\n",
       "      <td>1308.0</td>\n",
       "      <td>84.3</td>\n",
       "      <td>NaN</td>\n",
       "      <td>NaN</td>\n",
       "      <td>NaN</td>\n",
       "    </tr>\n",
       "    <tr>\n",
       "      <th>33</th>\n",
       "      <td>o1-preview</td>\n",
       "      <td>2024-09-12</td>\n",
       "      <td>26.2500</td>\n",
       "      <td>NaN</td>\n",
       "      <td>69.7</td>\n",
       "      <td>96.0</td>\n",
       "      <td>92.0</td>\n",
       "      <td>1334.0</td>\n",
       "      <td>68.0</td>\n",
       "      <td>NaN</td>\n",
       "      <td>NaN</td>\n",
       "      <td>NaN</td>\n",
       "    </tr>\n",
       "    <tr>\n",
       "      <th>34</th>\n",
       "      <td>o3-mini</td>\n",
       "      <td>2025-01-31</td>\n",
       "      <td>1.9250</td>\n",
       "      <td>NaN</td>\n",
       "      <td>74.3</td>\n",
       "      <td>97.0</td>\n",
       "      <td>97.0</td>\n",
       "      <td>1306.0</td>\n",
       "      <td>95.2</td>\n",
       "      <td>NaN</td>\n",
       "      <td>NaN</td>\n",
       "      <td>NaN</td>\n",
       "    </tr>\n",
       "    <tr>\n",
       "      <th>35</th>\n",
       "      <td>Reka Core</td>\n",
       "      <td>2024-09-14</td>\n",
       "      <td>4.0000</td>\n",
       "      <td>83.2</td>\n",
       "      <td>NaN</td>\n",
       "      <td>73.0</td>\n",
       "      <td>56.0</td>\n",
       "      <td>1235.0</td>\n",
       "      <td>NaN</td>\n",
       "      <td>NaN</td>\n",
       "      <td>NaN</td>\n",
       "      <td>NaN</td>\n",
       "    </tr>\n",
       "  </tbody>\n",
       "</table>\n",
       "</div>"
      ],
      "text/plain": [
       "                Model Name Release Date  USD per 1M Tokens  MMLU  \\\n",
       "0                 Claude 2   2024-08-12            12.0000  78.5   \n",
       "1               Claude 2.1   2024-08-12            12.0000   NaN   \n",
       "2           Claude Instant   2024-08-12             1.2000   NaN   \n",
       "3           Cohere Command   2024-08-13             1.6250   NaN   \n",
       "4     Cohere Command Light   2024-08-13             0.3750   NaN   \n",
       "5                Command R   2024-08-13             0.7500   NaN   \n",
       "6               Command R+   2024-08-13             6.0000  75.7   \n",
       "7               Command R+   2024-09-13             4.3750  75.7   \n",
       "8   DeepSeek-Coder-V2 236B   2024-09-11             0.1750  79.2   \n",
       "9              DeepSeek-R1   2025-01-20             0.9600   NaN   \n",
       "10             DeepSeek-V3   2024-12-26             0.4775   NaN   \n",
       "11          Gemini 1.0 Pro   2024-08-12             0.7500  71.8   \n",
       "12    GPT-3 175B (davinci)   2021-11-20            60.0000  43.9   \n",
       "13    GPT-3 175B (davinci)   2022-08-31            60.0000  43.9   \n",
       "14    GPT-3 175B (davinci)   2022-09-01            20.0000  43.9   \n",
       "15    GPT-3 175B (davinci)   2024-01-04            20.0000  63.1   \n",
       "16                 GPT-3.5   2022-11-30            20.0000  64.8   \n",
       "17   GPT-3.5-Turbo-2023-06   2023-06-13             3.2500  68.0   \n",
       "18   GPT-3.5-Turbo-2024-01   2024-01-25             0.7500  68.0   \n",
       "19           GPT-3.5 Turbo   2023-03-06             2.0000  68.0   \n",
       "20              GPT-4-0613   2023-06-13                NaN   NaN   \n",
       "21              GPT-4-1106   2023-11-06                NaN   NaN   \n",
       "22              GPT-4-0125   2024-01-25                NaN   NaN   \n",
       "23         Jamba 1.5-Large   2024-09-12             3.5000  80.0   \n",
       "24             Llama 2-13B   2023-12-08             0.3500  54.8   \n",
       "25             Llama 2-13B   2024-04-14             0.2200  54.8   \n",
       "26        Llama 2-70B Chat   2023-12-01             0.7625  68.9   \n",
       "27              Llama 2-7B   2023-12-01             0.2000  45.3   \n",
       "28              Llama 2-7B   2024-04-14             0.1300  45.3   \n",
       "29              Mistral 7B   2024-09-14             0.2500  60.1   \n",
       "30                      o1   2024-12-17            26.2500   NaN   \n",
       "31                 o1-mini   2024-09-12             5.2500   NaN   \n",
       "32                 o1-mini   2025-01-31             1.9250   NaN   \n",
       "33              o1-preview   2024-09-12            26.2500   NaN   \n",
       "34                 o3-mini   2025-01-31             1.9250   NaN   \n",
       "35               Reka Core   2024-09-14             4.0000  83.2   \n",
       "\n",
       "    GPQA Diamond  HumanEval  MATH-500  LMSys Chatbot Arena ELO  MATH 5  \\\n",
       "0           35.0        NaN       NaN                      NaN    10.0   \n",
       "1           36.0       16.0       NaN                      NaN    11.0   \n",
       "2            NaN        NaN       NaN                      NaN     NaN   \n",
       "3            NaN        NaN       NaN                      NaN     NaN   \n",
       "4            NaN        NaN       NaN                      NaN     NaN   \n",
       "5            NaN       42.0      15.0                   1180.0     NaN   \n",
       "6           34.0       63.0      40.0                   1215.0     NaN   \n",
       "7           34.0       63.0      40.0                   1215.0     NaN   \n",
       "8            NaN       87.0      74.0                   1178.0     NaN   \n",
       "9           71.7       98.0      96.0                   1362.0    93.1   \n",
       "10          57.0       91.0      89.0                   1318.0    65.0   \n",
       "11          34.4        NaN       NaN                   1111.0    11.0   \n",
       "12           NaN        NaN       NaN                      NaN     NaN   \n",
       "13           NaN        NaN       NaN                      NaN     NaN   \n",
       "14           NaN        NaN       NaN                      NaN     NaN   \n",
       "15           NaN        NaN       NaN                      NaN     NaN   \n",
       "16           NaN        NaN       NaN                      NaN     NaN   \n",
       "17          28.8       71.0      44.0                   1117.0    15.0   \n",
       "18          30.0       71.0      44.0                   1106.0    11.0   \n",
       "19           NaN        NaN       NaN                   1106.0     NaN   \n",
       "20          31.0        NaN       NaN                   1163.0    23.0   \n",
       "21          47.0        NaN       NaN                   1250.0    40.0   \n",
       "22          42.0        NaN       NaN                   1245.0    35.0   \n",
       "23          43.0       24.0      61.0                   1221.0     NaN   \n",
       "24           NaN        NaN       NaN                      NaN     NaN   \n",
       "25           NaN        NaN       NaN                      NaN     NaN   \n",
       "26          26.0        NaN       NaN                   1093.0     3.0   \n",
       "27           NaN        NaN       NaN                      NaN     NaN   \n",
       "28           NaN        NaN       NaN                      NaN     NaN   \n",
       "29          14.0       40.0      12.0                   1008.0     3.0   \n",
       "30          75.8       97.0      97.0                   1352.0    94.4   \n",
       "31          59.5       97.0      94.0                   1308.0    84.3   \n",
       "32          59.5       97.0      94.0                   1308.0    84.3   \n",
       "33          69.7       96.0      92.0                   1334.0    68.0   \n",
       "34          74.3       97.0      97.0                   1306.0    95.2   \n",
       "35           NaN       73.0      56.0                   1235.0     NaN   \n",
       "\n",
       "    Tokens per Second  Prefill Latency (s)  Prompt Length (tk)  \n",
       "0                 NaN                  NaN                 NaN  \n",
       "1                 NaN                  NaN                 NaN  \n",
       "2                 NaN                  NaN                 NaN  \n",
       "3                 NaN                  NaN                 NaN  \n",
       "4                 NaN                  NaN                 NaN  \n",
       "5                 NaN                  NaN                 NaN  \n",
       "6                 NaN                  NaN                 NaN  \n",
       "7                 NaN                  NaN                 NaN  \n",
       "8                 NaN                  NaN                 NaN  \n",
       "9                 NaN                  NaN                 NaN  \n",
       "10                NaN                  NaN                 NaN  \n",
       "11                NaN                  NaN                 NaN  \n",
       "12                NaN                  NaN                 NaN  \n",
       "13                NaN                  NaN                 NaN  \n",
       "14                NaN                  NaN                 NaN  \n",
       "15                NaN                  NaN                 NaN  \n",
       "16                NaN                  NaN                 NaN  \n",
       "17                NaN                  NaN                 NaN  \n",
       "18                NaN                  NaN                 NaN  \n",
       "19                NaN                  NaN                 NaN  \n",
       "20                NaN                  NaN                 NaN  \n",
       "21                NaN                  NaN                 NaN  \n",
       "22                NaN                  NaN                 NaN  \n",
       "23                NaN                  NaN                 NaN  \n",
       "24                NaN                  NaN                 NaN  \n",
       "25                NaN                  NaN                 NaN  \n",
       "26                NaN                  NaN                 NaN  \n",
       "27                NaN                  NaN                 NaN  \n",
       "28                NaN                  NaN                 NaN  \n",
       "29                NaN                  NaN                 NaN  \n",
       "30                NaN                  NaN                 NaN  \n",
       "31                NaN                  NaN                 NaN  \n",
       "32                NaN                  NaN                 NaN  \n",
       "33                NaN                  NaN                 NaN  \n",
       "34                NaN                  NaN                 NaN  \n",
       "35                NaN                  NaN                 NaN  "
      ]
     },
     "execution_count": 6,
     "metadata": {},
     "output_type": "execute_result"
    }
   ],
   "source": [
    "api_price_df = pd.read_csv('data/epoch_ai_price_data_not_in_aa_with_benchmarks.csv')\n",
    "api_price_df['Release Date'] = pd.to_datetime(api_price_df['Release Date'].str.strip(), format='%Y-%m-%d')\n",
    "api_price_df"
   ]
  },
  {
   "cell_type": "code",
   "execution_count": 7,
   "metadata": {},
   "outputs": [
    {
     "data": {
      "text/html": [
       "<div>\n",
       "<style scoped>\n",
       "    .dataframe tbody tr th:only-of-type {\n",
       "        vertical-align: middle;\n",
       "    }\n",
       "\n",
       "    .dataframe tbody tr th {\n",
       "        vertical-align: top;\n",
       "    }\n",
       "\n",
       "    .dataframe thead th {\n",
       "        text-align: right;\n",
       "    }\n",
       "</style>\n",
       "<table border=\"1\" class=\"dataframe\">\n",
       "  <thead>\n",
       "    <tr style=\"text-align: right;\">\n",
       "      <th></th>\n",
       "      <th>Model Name</th>\n",
       "      <th>Release Date</th>\n",
       "      <th>USD per 1M Tokens</th>\n",
       "      <th>MMLU</th>\n",
       "      <th>GPQA Diamond</th>\n",
       "      <th>HumanEval</th>\n",
       "      <th>MATH-500</th>\n",
       "      <th>LMSys Chatbot Arena ELO</th>\n",
       "      <th>MATH 5</th>\n",
       "      <th>Tokens per Second</th>\n",
       "      <th>Prefill Latency (s)</th>\n",
       "      <th>Prompt Length (tk)</th>\n",
       "    </tr>\n",
       "  </thead>\n",
       "  <tbody>\n",
       "    <tr>\n",
       "      <th>0</th>\n",
       "      <td>GPT-3 175B (davinci)</td>\n",
       "      <td>2021-11-20</td>\n",
       "      <td>60.000</td>\n",
       "      <td>43.9</td>\n",
       "      <td>NaN</td>\n",
       "      <td>NaN</td>\n",
       "      <td>NaN</td>\n",
       "      <td>NaN</td>\n",
       "      <td>NaN</td>\n",
       "      <td>NaN</td>\n",
       "      <td>NaN</td>\n",
       "      <td>NaN</td>\n",
       "    </tr>\n",
       "    <tr>\n",
       "      <th>1</th>\n",
       "      <td>GPT-3 175B (davinci)</td>\n",
       "      <td>2022-08-31</td>\n",
       "      <td>60.000</td>\n",
       "      <td>43.9</td>\n",
       "      <td>NaN</td>\n",
       "      <td>NaN</td>\n",
       "      <td>NaN</td>\n",
       "      <td>NaN</td>\n",
       "      <td>NaN</td>\n",
       "      <td>NaN</td>\n",
       "      <td>NaN</td>\n",
       "      <td>NaN</td>\n",
       "    </tr>\n",
       "    <tr>\n",
       "      <th>2</th>\n",
       "      <td>GPT-3 175B (davinci)</td>\n",
       "      <td>2022-09-01</td>\n",
       "      <td>20.000</td>\n",
       "      <td>43.9</td>\n",
       "      <td>NaN</td>\n",
       "      <td>NaN</td>\n",
       "      <td>NaN</td>\n",
       "      <td>NaN</td>\n",
       "      <td>NaN</td>\n",
       "      <td>NaN</td>\n",
       "      <td>NaN</td>\n",
       "      <td>NaN</td>\n",
       "    </tr>\n",
       "    <tr>\n",
       "      <th>3</th>\n",
       "      <td>GPT-3.5</td>\n",
       "      <td>2022-11-30</td>\n",
       "      <td>20.000</td>\n",
       "      <td>64.8</td>\n",
       "      <td>NaN</td>\n",
       "      <td>NaN</td>\n",
       "      <td>NaN</td>\n",
       "      <td>NaN</td>\n",
       "      <td>NaN</td>\n",
       "      <td>NaN</td>\n",
       "      <td>NaN</td>\n",
       "      <td>NaN</td>\n",
       "    </tr>\n",
       "    <tr>\n",
       "      <th>4</th>\n",
       "      <td>GPT-3.5 Turbo</td>\n",
       "      <td>2023-03-06</td>\n",
       "      <td>2.000</td>\n",
       "      <td>68.0</td>\n",
       "      <td>NaN</td>\n",
       "      <td>NaN</td>\n",
       "      <td>NaN</td>\n",
       "      <td>1106.0</td>\n",
       "      <td>NaN</td>\n",
       "      <td>NaN</td>\n",
       "      <td>NaN</td>\n",
       "      <td>NaN</td>\n",
       "    </tr>\n",
       "    <tr>\n",
       "      <th>...</th>\n",
       "      <td>...</td>\n",
       "      <td>...</td>\n",
       "      <td>...</td>\n",
       "      <td>...</td>\n",
       "      <td>...</td>\n",
       "      <td>...</td>\n",
       "      <td>...</td>\n",
       "      <td>...</td>\n",
       "      <td>...</td>\n",
       "      <td>...</td>\n",
       "      <td>...</td>\n",
       "      <td>...</td>\n",
       "    </tr>\n",
       "    <tr>\n",
       "      <th>66</th>\n",
       "      <td>DeepSeek-R1</td>\n",
       "      <td>2025-01-20</td>\n",
       "      <td>0.960</td>\n",
       "      <td>NaN</td>\n",
       "      <td>71.7</td>\n",
       "      <td>98.0</td>\n",
       "      <td>96.0</td>\n",
       "      <td>1362.0</td>\n",
       "      <td>93.1</td>\n",
       "      <td>NaN</td>\n",
       "      <td>NaN</td>\n",
       "      <td>NaN</td>\n",
       "    </tr>\n",
       "    <tr>\n",
       "      <th>67</th>\n",
       "      <td>Mistral Small 3</td>\n",
       "      <td>2025-01-30</td>\n",
       "      <td>0.475</td>\n",
       "      <td>82.0</td>\n",
       "      <td>46.0</td>\n",
       "      <td>85.0</td>\n",
       "      <td>74.0</td>\n",
       "      <td>1210.0</td>\n",
       "      <td>45.0</td>\n",
       "      <td>NaN</td>\n",
       "      <td>NaN</td>\n",
       "      <td>NaN</td>\n",
       "    </tr>\n",
       "    <tr>\n",
       "      <th>68</th>\n",
       "      <td>o3-mini</td>\n",
       "      <td>2025-01-31</td>\n",
       "      <td>1.925</td>\n",
       "      <td>NaN</td>\n",
       "      <td>74.3</td>\n",
       "      <td>97.0</td>\n",
       "      <td>97.0</td>\n",
       "      <td>1306.0</td>\n",
       "      <td>95.2</td>\n",
       "      <td>NaN</td>\n",
       "      <td>NaN</td>\n",
       "      <td>NaN</td>\n",
       "    </tr>\n",
       "    <tr>\n",
       "      <th>69</th>\n",
       "      <td>o1-mini</td>\n",
       "      <td>2025-01-31</td>\n",
       "      <td>1.925</td>\n",
       "      <td>NaN</td>\n",
       "      <td>59.5</td>\n",
       "      <td>97.0</td>\n",
       "      <td>94.0</td>\n",
       "      <td>1308.0</td>\n",
       "      <td>84.3</td>\n",
       "      <td>NaN</td>\n",
       "      <td>NaN</td>\n",
       "      <td>NaN</td>\n",
       "    </tr>\n",
       "    <tr>\n",
       "      <th>70</th>\n",
       "      <td>Gemini 2.0 Flash</td>\n",
       "      <td>2025-02-05</td>\n",
       "      <td>0.175</td>\n",
       "      <td>88.0</td>\n",
       "      <td>62.0</td>\n",
       "      <td>90.0</td>\n",
       "      <td>93.0</td>\n",
       "      <td>1358.0</td>\n",
       "      <td>82.0</td>\n",
       "      <td>NaN</td>\n",
       "      <td>NaN</td>\n",
       "      <td>NaN</td>\n",
       "    </tr>\n",
       "  </tbody>\n",
       "</table>\n",
       "<p>71 rows × 12 columns</p>\n",
       "</div>"
      ],
      "text/plain": [
       "              Model Name Release Date  USD per 1M Tokens  MMLU  GPQA Diamond  \\\n",
       "0   GPT-3 175B (davinci)   2021-11-20             60.000  43.9           NaN   \n",
       "1   GPT-3 175B (davinci)   2022-08-31             60.000  43.9           NaN   \n",
       "2   GPT-3 175B (davinci)   2022-09-01             20.000  43.9           NaN   \n",
       "3                GPT-3.5   2022-11-30             20.000  64.8           NaN   \n",
       "4          GPT-3.5 Turbo   2023-03-06              2.000  68.0           NaN   \n",
       "..                   ...          ...                ...   ...           ...   \n",
       "66           DeepSeek-R1   2025-01-20              0.960   NaN          71.7   \n",
       "67       Mistral Small 3   2025-01-30              0.475  82.0          46.0   \n",
       "68               o3-mini   2025-01-31              1.925   NaN          74.3   \n",
       "69               o1-mini   2025-01-31              1.925   NaN          59.5   \n",
       "70      Gemini 2.0 Flash   2025-02-05              0.175  88.0          62.0   \n",
       "\n",
       "    HumanEval  MATH-500  LMSys Chatbot Arena ELO  MATH 5  Tokens per Second  \\\n",
       "0         NaN       NaN                      NaN     NaN                NaN   \n",
       "1         NaN       NaN                      NaN     NaN                NaN   \n",
       "2         NaN       NaN                      NaN     NaN                NaN   \n",
       "3         NaN       NaN                      NaN     NaN                NaN   \n",
       "4         NaN       NaN                   1106.0     NaN                NaN   \n",
       "..        ...       ...                      ...     ...                ...   \n",
       "66       98.0      96.0                   1362.0    93.1                NaN   \n",
       "67       85.0      74.0                   1210.0    45.0                NaN   \n",
       "68       97.0      97.0                   1306.0    95.2                NaN   \n",
       "69       97.0      94.0                   1308.0    84.3                NaN   \n",
       "70       90.0      93.0                   1358.0    82.0                NaN   \n",
       "\n",
       "    Prefill Latency (s)  Prompt Length (tk)  \n",
       "0                   NaN                 NaN  \n",
       "1                   NaN                 NaN  \n",
       "2                   NaN                 NaN  \n",
       "3                   NaN                 NaN  \n",
       "4                   NaN                 NaN  \n",
       "..                  ...                 ...  \n",
       "66                  NaN                 NaN  \n",
       "67                  NaN                 NaN  \n",
       "68                  NaN                 NaN  \n",
       "69                  NaN                 NaN  \n",
       "70                  NaN                 NaN  \n",
       "\n",
       "[71 rows x 12 columns]"
      ]
     },
     "execution_count": 7,
     "metadata": {},
     "output_type": "execute_result"
    }
   ],
   "source": [
    "# Merge the two datasets\n",
    "aa_df = pd.concat([aa_df, api_price_df])\n",
    "aa_df.dropna(subset=['USD per 1M Tokens'], inplace=True)\n",
    "aa_df.sort_values(by='Release Date', inplace=True)\n",
    "# Reset the index\n",
    "aa_df.reset_index(drop=True, inplace=True)\n",
    "aa_df"
   ]
  },
  {
   "cell_type": "code",
   "execution_count": 8,
   "metadata": {},
   "outputs": [
    {
     "data": {
      "text/html": [
       "<div>\n",
       "<style scoped>\n",
       "    .dataframe tbody tr th:only-of-type {\n",
       "        vertical-align: middle;\n",
       "    }\n",
       "\n",
       "    .dataframe tbody tr th {\n",
       "        vertical-align: top;\n",
       "    }\n",
       "\n",
       "    .dataframe thead th {\n",
       "        text-align: right;\n",
       "    }\n",
       "</style>\n",
       "<table border=\"1\" class=\"dataframe\">\n",
       "  <thead>\n",
       "    <tr style=\"text-align: right;\">\n",
       "      <th></th>\n",
       "      <th>Model Name</th>\n",
       "      <th>Release Date</th>\n",
       "      <th>USD per 1M Tokens</th>\n",
       "      <th>MMLU</th>\n",
       "      <th>GPQA Diamond</th>\n",
       "      <th>HumanEval</th>\n",
       "      <th>MATH-500</th>\n",
       "      <th>LMSys Chatbot Arena ELO</th>\n",
       "      <th>MATH 5</th>\n",
       "      <th>Tokens per Second</th>\n",
       "      <th>Prefill Latency (s)</th>\n",
       "      <th>Prompt Length (tk)</th>\n",
       "    </tr>\n",
       "  </thead>\n",
       "  <tbody>\n",
       "    <tr>\n",
       "      <th>0</th>\n",
       "      <td>GPT-3</td>\n",
       "      <td>2021-11-20</td>\n",
       "      <td>60.000</td>\n",
       "      <td>43.9</td>\n",
       "      <td>NaN</td>\n",
       "      <td>NaN</td>\n",
       "      <td>NaN</td>\n",
       "      <td>NaN</td>\n",
       "      <td>NaN</td>\n",
       "      <td>NaN</td>\n",
       "      <td>NaN</td>\n",
       "      <td>NaN</td>\n",
       "    </tr>\n",
       "    <tr>\n",
       "      <th>1</th>\n",
       "      <td>GPT-3</td>\n",
       "      <td>2022-08-31</td>\n",
       "      <td>60.000</td>\n",
       "      <td>43.9</td>\n",
       "      <td>NaN</td>\n",
       "      <td>NaN</td>\n",
       "      <td>NaN</td>\n",
       "      <td>NaN</td>\n",
       "      <td>NaN</td>\n",
       "      <td>NaN</td>\n",
       "      <td>NaN</td>\n",
       "      <td>NaN</td>\n",
       "    </tr>\n",
       "    <tr>\n",
       "      <th>2</th>\n",
       "      <td>GPT-3</td>\n",
       "      <td>2022-09-01</td>\n",
       "      <td>20.000</td>\n",
       "      <td>43.9</td>\n",
       "      <td>NaN</td>\n",
       "      <td>NaN</td>\n",
       "      <td>NaN</td>\n",
       "      <td>NaN</td>\n",
       "      <td>NaN</td>\n",
       "      <td>NaN</td>\n",
       "      <td>NaN</td>\n",
       "      <td>NaN</td>\n",
       "    </tr>\n",
       "    <tr>\n",
       "      <th>3</th>\n",
       "      <td>GPT-3.5</td>\n",
       "      <td>2022-11-30</td>\n",
       "      <td>20.000</td>\n",
       "      <td>64.8</td>\n",
       "      <td>NaN</td>\n",
       "      <td>NaN</td>\n",
       "      <td>NaN</td>\n",
       "      <td>NaN</td>\n",
       "      <td>NaN</td>\n",
       "      <td>NaN</td>\n",
       "      <td>NaN</td>\n",
       "      <td>NaN</td>\n",
       "    </tr>\n",
       "    <tr>\n",
       "      <th>4</th>\n",
       "      <td>GPT-3.5 Turbo</td>\n",
       "      <td>2023-03-06</td>\n",
       "      <td>2.000</td>\n",
       "      <td>68.0</td>\n",
       "      <td>NaN</td>\n",
       "      <td>NaN</td>\n",
       "      <td>NaN</td>\n",
       "      <td>1106.0</td>\n",
       "      <td>NaN</td>\n",
       "      <td>NaN</td>\n",
       "      <td>NaN</td>\n",
       "      <td>NaN</td>\n",
       "    </tr>\n",
       "    <tr>\n",
       "      <th>...</th>\n",
       "      <td>...</td>\n",
       "      <td>...</td>\n",
       "      <td>...</td>\n",
       "      <td>...</td>\n",
       "      <td>...</td>\n",
       "      <td>...</td>\n",
       "      <td>...</td>\n",
       "      <td>...</td>\n",
       "      <td>...</td>\n",
       "      <td>...</td>\n",
       "      <td>...</td>\n",
       "      <td>...</td>\n",
       "    </tr>\n",
       "    <tr>\n",
       "      <th>66</th>\n",
       "      <td>DeepSeek-R1</td>\n",
       "      <td>2025-01-20</td>\n",
       "      <td>0.960</td>\n",
       "      <td>NaN</td>\n",
       "      <td>71.7</td>\n",
       "      <td>98.0</td>\n",
       "      <td>96.0</td>\n",
       "      <td>1362.0</td>\n",
       "      <td>93.1</td>\n",
       "      <td>NaN</td>\n",
       "      <td>NaN</td>\n",
       "      <td>NaN</td>\n",
       "    </tr>\n",
       "    <tr>\n",
       "      <th>67</th>\n",
       "      <td>Mistral Small 3</td>\n",
       "      <td>2025-01-30</td>\n",
       "      <td>0.475</td>\n",
       "      <td>82.0</td>\n",
       "      <td>46.0</td>\n",
       "      <td>85.0</td>\n",
       "      <td>74.0</td>\n",
       "      <td>1210.0</td>\n",
       "      <td>45.0</td>\n",
       "      <td>NaN</td>\n",
       "      <td>NaN</td>\n",
       "      <td>NaN</td>\n",
       "    </tr>\n",
       "    <tr>\n",
       "      <th>68</th>\n",
       "      <td>o3-mini</td>\n",
       "      <td>2025-01-31</td>\n",
       "      <td>1.925</td>\n",
       "      <td>NaN</td>\n",
       "      <td>74.3</td>\n",
       "      <td>97.0</td>\n",
       "      <td>97.0</td>\n",
       "      <td>1306.0</td>\n",
       "      <td>95.2</td>\n",
       "      <td>NaN</td>\n",
       "      <td>NaN</td>\n",
       "      <td>NaN</td>\n",
       "    </tr>\n",
       "    <tr>\n",
       "      <th>69</th>\n",
       "      <td>o1-mini</td>\n",
       "      <td>2025-01-31</td>\n",
       "      <td>1.925</td>\n",
       "      <td>NaN</td>\n",
       "      <td>59.5</td>\n",
       "      <td>97.0</td>\n",
       "      <td>94.0</td>\n",
       "      <td>1308.0</td>\n",
       "      <td>84.3</td>\n",
       "      <td>NaN</td>\n",
       "      <td>NaN</td>\n",
       "      <td>NaN</td>\n",
       "    </tr>\n",
       "    <tr>\n",
       "      <th>70</th>\n",
       "      <td>Gemini 2.0 Flash</td>\n",
       "      <td>2025-02-05</td>\n",
       "      <td>0.175</td>\n",
       "      <td>88.0</td>\n",
       "      <td>62.0</td>\n",
       "      <td>90.0</td>\n",
       "      <td>93.0</td>\n",
       "      <td>1358.0</td>\n",
       "      <td>82.0</td>\n",
       "      <td>NaN</td>\n",
       "      <td>NaN</td>\n",
       "      <td>NaN</td>\n",
       "    </tr>\n",
       "  </tbody>\n",
       "</table>\n",
       "<p>71 rows × 12 columns</p>\n",
       "</div>"
      ],
      "text/plain": [
       "          Model Name Release Date  USD per 1M Tokens  MMLU  GPQA Diamond  \\\n",
       "0              GPT-3   2021-11-20             60.000  43.9           NaN   \n",
       "1              GPT-3   2022-08-31             60.000  43.9           NaN   \n",
       "2              GPT-3   2022-09-01             20.000  43.9           NaN   \n",
       "3            GPT-3.5   2022-11-30             20.000  64.8           NaN   \n",
       "4      GPT-3.5 Turbo   2023-03-06              2.000  68.0           NaN   \n",
       "..               ...          ...                ...   ...           ...   \n",
       "66       DeepSeek-R1   2025-01-20              0.960   NaN          71.7   \n",
       "67   Mistral Small 3   2025-01-30              0.475  82.0          46.0   \n",
       "68           o3-mini   2025-01-31              1.925   NaN          74.3   \n",
       "69           o1-mini   2025-01-31              1.925   NaN          59.5   \n",
       "70  Gemini 2.0 Flash   2025-02-05              0.175  88.0          62.0   \n",
       "\n",
       "    HumanEval  MATH-500  LMSys Chatbot Arena ELO  MATH 5  Tokens per Second  \\\n",
       "0         NaN       NaN                      NaN     NaN                NaN   \n",
       "1         NaN       NaN                      NaN     NaN                NaN   \n",
       "2         NaN       NaN                      NaN     NaN                NaN   \n",
       "3         NaN       NaN                      NaN     NaN                NaN   \n",
       "4         NaN       NaN                   1106.0     NaN                NaN   \n",
       "..        ...       ...                      ...     ...                ...   \n",
       "66       98.0      96.0                   1362.0    93.1                NaN   \n",
       "67       85.0      74.0                   1210.0    45.0                NaN   \n",
       "68       97.0      97.0                   1306.0    95.2                NaN   \n",
       "69       97.0      94.0                   1308.0    84.3                NaN   \n",
       "70       90.0      93.0                   1358.0    82.0                NaN   \n",
       "\n",
       "    Prefill Latency (s)  Prompt Length (tk)  \n",
       "0                   NaN                 NaN  \n",
       "1                   NaN                 NaN  \n",
       "2                   NaN                 NaN  \n",
       "3                   NaN                 NaN  \n",
       "4                   NaN                 NaN  \n",
       "..                  ...                 ...  \n",
       "66                  NaN                 NaN  \n",
       "67                  NaN                 NaN  \n",
       "68                  NaN                 NaN  \n",
       "69                  NaN                 NaN  \n",
       "70                  NaN                 NaN  \n",
       "\n",
       "[71 rows x 12 columns]"
      ]
     },
     "execution_count": 8,
     "metadata": {},
     "output_type": "execute_result"
    }
   ],
   "source": [
    "# Rename all instances of 'GPT-3 175B (davinci)' to 'GPT-3'\n",
    "aa_df.loc[aa_df['Model Name'] == 'GPT-3 175B (davinci)', 'Model Name'] = 'GPT-3'\n",
    "aa_df\n"
   ]
  },
  {
   "cell_type": "code",
   "execution_count": 9,
   "metadata": {},
   "outputs": [
    {
     "data": {
      "text/plain": [
       "0                GPT-3 (2021-11)\n",
       "1                GPT-3 (2022-08)\n",
       "2                GPT-3 (2022-09)\n",
       "3              GPT-3.5 (2022-11)\n",
       "4        GPT-3.5 Turbo (2023-03)\n",
       "                 ...            \n",
       "66         DeepSeek-R1 (2025-01)\n",
       "67     Mistral Small 3 (2025-01)\n",
       "68             o3-mini (2025-01)\n",
       "69             o1-mini (2025-01)\n",
       "70    Gemini 2.0 Flash (2025-02)\n",
       "Name: Model Name and Date, Length: 71, dtype: object"
      ]
     },
     "execution_count": 9,
     "metadata": {},
     "output_type": "execute_result"
    }
   ],
   "source": [
    "aa_df['Model Name and Date'] = aa_df['Model Name'] + ' (' + aa_df['Release Date'].dt.strftime('%Y-%m') + ')'\n",
    "aa_df['Model Name and Date']"
   ]
  },
  {
   "cell_type": "markdown",
   "metadata": {},
   "source": [
    "## Explore the data"
   ]
  },
  {
   "cell_type": "markdown",
   "metadata": {},
   "source": [
    "### Performance"
   ]
  },
  {
   "cell_type": "code",
   "execution_count": 10,
   "metadata": {},
   "outputs": [
    {
     "name": "stdout",
     "output_type": "stream",
     "text": [
      "['GPT-4 Turbo (2023-11)', 'GPT-4o-2024-08 (2024-08)', 'GPT-3.5 Turbo (2023-03)', 'GPT-4-0314 (2023-03)', 'GPT-3.5 (2022-11)', 'GPT-3 (2021-11)', 'Claude-3.5-Sonnet-2024-06 (2024-06)']\n"
     ]
    },
    {
     "data": {
      "application/vnd.plotly.v1+json": {
       "config": {
        "plotlyServerURL": "https://plot.ly"
       },
       "data": [
        {
         "customdata": [
          [
           "GPT-3"
          ],
          [
           "GPT-3"
          ],
          [
           "GPT-3"
          ],
          [
           "GPT-3.5"
          ],
          [
           "GPT-3.5 Turbo"
          ],
          [
           "GPT-4-0314"
          ],
          [
           "GPT-3.5-Turbo-2023-06"
          ],
          [
           "Llama-2-Chat-13B"
          ],
          [
           "Llama-2-Chat-7B"
          ],
          [
           "GPT-3.5-Turbo-2023-11"
          ],
          [
           "GPT-4 Turbo"
          ],
          [
           "Llama 2-70B Chat"
          ],
          [
           "Llama 2-7B"
          ],
          [
           "Llama 2-13B"
          ],
          [
           "GPT-3"
          ],
          [
           "GPT-3.5-Turbo-2024-01"
          ],
          [
           "Mistral-Large-2024-02"
          ],
          [
           "Mistral-Small-2024-02"
          ],
          [
           "Claude-3-Haiku"
          ],
          [
           "Claude-3-Sonnet"
          ],
          [
           "Claude-3-Opus"
          ],
          [
           "Llama 2-13B"
          ],
          [
           "Llama 2-7B"
          ],
          [
           "Mistral-8x22"
          ],
          [
           "Llama-3-Instruct-8B"
          ],
          [
           "Llama-3-Instruct-70B"
          ],
          [
           "Gemini-1.5-Flash-2024-05"
          ],
          [
           "GPT-4o-2024-05"
          ],
          [
           "Gemini-1.5-Pro-2024-05"
          ],
          [
           "Claude-3.5-Sonnet-2024-06"
          ],
          [
           "Gemma-2-9B"
          ],
          [
           "Gemma-2-27B"
          ],
          [
           "GPT-4o-mini"
          ],
          [
           "Mistral-NeMo"
          ],
          [
           "Llama-3.1-Instruct-70B"
          ],
          [
           "Llama-3.1-Instruct-405B"
          ],
          [
           "Llama-3.1-Instruct-8B"
          ],
          [
           "Mistral-Large-2-2024-07"
          ],
          [
           "GPT-4o-2024-08"
          ],
          [
           "Claude 2"
          ],
          [
           "Claude 2.1"
          ],
          [
           "Claude Instant"
          ],
          [
           "Gemini 1.0 Pro"
          ],
          [
           "Cohere Command"
          ],
          [
           "Command R"
          ],
          [
           "Command R+"
          ],
          [
           "Cohere Command Light"
          ],
          [
           "DeepSeek-Coder-V2 236B"
          ],
          [
           "Jamba 1.5-Large"
          ],
          [
           "o1-mini"
          ],
          [
           "o1-preview"
          ],
          [
           "Command R+"
          ],
          [
           "Reka Core"
          ],
          [
           "Mistral 7B"
          ],
          [
           "Llama-3.2-Instruct-3B"
          ],
          [
           "Gemini-1.5-Pro-2024-09"
          ],
          [
           "Llama-3.2-Instruct-1B"
          ],
          [
           "Gemini-1.5-Flash-2024-09"
          ],
          [
           "Gemini-1.5-Flash-8B"
          ],
          [
           "Claude-3.5-Sonnet-2024-10"
          ],
          [
           "Claude-3.5-Haiku"
          ],
          [
           "Mistral-Large-2-2024-11"
          ],
          [
           "GPT-4o-2024-11"
          ],
          [
           "Phi 4"
          ],
          [
           "o1"
          ],
          [
           "DeepSeek-V3"
          ],
          [
           "DeepSeek-R1"
          ],
          [
           "Mistral Small 3"
          ],
          [
           "o1-mini"
          ],
          [
           "o3-mini"
          ],
          [
           "Gemini 2.0 Flash"
          ]
         ],
         "hovertemplate": "Release Date=%{x}<br>MMLU=%{y}<br>Model Name=%{customdata[0]}<extra></extra>",
         "legendgroup": "",
         "marker": {
          "color": "lightgray",
          "symbol": "circle"
         },
         "mode": "markers",
         "name": "",
         "orientation": "v",
         "showlegend": false,
         "type": "scatter",
         "x": [
          "2021-11-20T00:00:00",
          "2022-08-31T00:00:00",
          "2022-09-01T00:00:00",
          "2022-11-30T00:00:00",
          "2023-03-06T00:00:00",
          "2023-03-14T00:00:00",
          "2023-06-13T00:00:00",
          "2023-07-18T00:00:00",
          "2023-07-18T00:00:00",
          "2023-11-06T00:00:00",
          "2023-11-06T00:00:00",
          "2023-12-01T00:00:00",
          "2023-12-01T00:00:00",
          "2023-12-08T00:00:00",
          "2024-01-04T00:00:00",
          "2024-01-25T00:00:00",
          "2024-02-26T00:00:00",
          "2024-02-26T00:00:00",
          "2024-03-04T00:00:00",
          "2024-03-04T00:00:00",
          "2024-03-04T00:00:00",
          "2024-04-14T00:00:00",
          "2024-04-14T00:00:00",
          "2024-04-17T00:00:00",
          "2024-04-18T00:00:00",
          "2024-04-18T00:00:00",
          "2024-05-10T00:00:00",
          "2024-05-13T00:00:00",
          "2024-05-23T00:00:00",
          "2024-06-20T00:00:00",
          "2024-06-24T00:00:00",
          "2024-06-24T00:00:00",
          "2024-07-18T00:00:00",
          "2024-07-18T00:00:00",
          "2024-07-23T00:00:00",
          "2024-07-23T00:00:00",
          "2024-07-23T00:00:00",
          "2024-07-24T00:00:00",
          "2024-08-06T00:00:00",
          "2024-08-12T00:00:00",
          "2024-08-12T00:00:00",
          "2024-08-12T00:00:00",
          "2024-08-12T00:00:00",
          "2024-08-13T00:00:00",
          "2024-08-13T00:00:00",
          "2024-08-13T00:00:00",
          "2024-08-13T00:00:00",
          "2024-09-11T00:00:00",
          "2024-09-12T00:00:00",
          "2024-09-12T00:00:00",
          "2024-09-12T00:00:00",
          "2024-09-13T00:00:00",
          "2024-09-14T00:00:00",
          "2024-09-14T00:00:00",
          "2024-09-24T00:00:00",
          "2024-09-24T00:00:00",
          "2024-09-24T00:00:00",
          "2024-09-24T00:00:00",
          "2024-10-03T00:00:00",
          "2024-10-22T00:00:00",
          "2024-10-22T00:00:00",
          "2024-11-18T00:00:00",
          "2024-11-20T00:00:00",
          "2024-12-13T00:00:00",
          "2024-12-17T00:00:00",
          "2024-12-26T00:00:00",
          "2025-01-20T00:00:00",
          "2025-01-30T00:00:00",
          "2025-01-31T00:00:00",
          "2025-01-31T00:00:00",
          "2025-02-05T00:00:00"
         ],
         "xaxis": "x",
         "y": [
          43.9,
          43.9,
          43.9,
          64.8,
          68,
          86,
          68,
          45,
          13,
          68,
          87,
          68.9,
          45.3,
          54.8,
          63.1,
          68,
          69,
          69,
          71,
          77,
          84,
          54.8,
          45.3,
          76,
          64,
          79,
          79,
          87,
          86,
          88,
          73,
          77,
          82,
          66,
          84,
          87,
          71,
          85,
          89,
          78.5,
          null,
          null,
          71.8,
          null,
          null,
          75.7,
          null,
          79.2,
          80,
          null,
          null,
          75.7,
          83.2,
          60.1,
          64,
          86,
          35,
          75,
          75,
          89,
          81,
          85,
          86,
          85,
          null,
          null,
          null,
          82,
          null,
          null,
          88
         ],
         "yaxis": "y"
        },
        {
         "hovertemplate": "%{text}<extra></extra>",
         "line": {
          "color": "red"
         },
         "mode": "lines+markers",
         "name": "Top Model",
         "text": [
          "GPT-3",
          "GPT-3.5",
          "GPT-3.5 Turbo",
          "GPT-4-0314",
          "GPT-4 Turbo",
          "Claude-3.5-Sonnet-2024-06",
          "GPT-4o-2024-08"
         ],
         "type": "scatter",
         "x": [
          "2021-11-20T00:00:00",
          "2022-11-30T00:00:00",
          "2023-03-06T00:00:00",
          "2023-03-14T00:00:00",
          "2023-11-06T00:00:00",
          "2024-06-20T00:00:00",
          "2024-08-06T00:00:00"
         ],
         "y": [
          43.9,
          64.8,
          68,
          86,
          87,
          88,
          89
         ]
        }
       ],
       "layout": {
        "height": 400,
        "legend": {
         "tracegroupgap": 0
        },
        "template": {
         "data": {
          "bar": [
           {
            "error_x": {
             "color": "#2a3f5f"
            },
            "error_y": {
             "color": "#2a3f5f"
            },
            "marker": {
             "line": {
              "color": "white",
              "width": 0.5
             },
             "pattern": {
              "fillmode": "overlay",
              "size": 10,
              "solidity": 0.2
             }
            },
            "type": "bar"
           }
          ],
          "barpolar": [
           {
            "marker": {
             "line": {
              "color": "white",
              "width": 0.5
             },
             "pattern": {
              "fillmode": "overlay",
              "size": 10,
              "solidity": 0.2
             }
            },
            "type": "barpolar"
           }
          ],
          "carpet": [
           {
            "aaxis": {
             "endlinecolor": "#2a3f5f",
             "gridcolor": "#C8D4E3",
             "linecolor": "#C8D4E3",
             "minorgridcolor": "#C8D4E3",
             "startlinecolor": "#2a3f5f"
            },
            "baxis": {
             "endlinecolor": "#2a3f5f",
             "gridcolor": "#C8D4E3",
             "linecolor": "#C8D4E3",
             "minorgridcolor": "#C8D4E3",
             "startlinecolor": "#2a3f5f"
            },
            "type": "carpet"
           }
          ],
          "choropleth": [
           {
            "colorbar": {
             "outlinewidth": 0,
             "ticks": ""
            },
            "type": "choropleth"
           }
          ],
          "contour": [
           {
            "colorbar": {
             "outlinewidth": 0,
             "ticks": ""
            },
            "colorscale": [
             [
              0,
              "#0d0887"
             ],
             [
              0.1111111111111111,
              "#46039f"
             ],
             [
              0.2222222222222222,
              "#7201a8"
             ],
             [
              0.3333333333333333,
              "#9c179e"
             ],
             [
              0.4444444444444444,
              "#bd3786"
             ],
             [
              0.5555555555555556,
              "#d8576b"
             ],
             [
              0.6666666666666666,
              "#ed7953"
             ],
             [
              0.7777777777777778,
              "#fb9f3a"
             ],
             [
              0.8888888888888888,
              "#fdca26"
             ],
             [
              1,
              "#f0f921"
             ]
            ],
            "type": "contour"
           }
          ],
          "contourcarpet": [
           {
            "colorbar": {
             "outlinewidth": 0,
             "ticks": ""
            },
            "type": "contourcarpet"
           }
          ],
          "heatmap": [
           {
            "colorbar": {
             "outlinewidth": 0,
             "ticks": ""
            },
            "colorscale": [
             [
              0,
              "#0d0887"
             ],
             [
              0.1111111111111111,
              "#46039f"
             ],
             [
              0.2222222222222222,
              "#7201a8"
             ],
             [
              0.3333333333333333,
              "#9c179e"
             ],
             [
              0.4444444444444444,
              "#bd3786"
             ],
             [
              0.5555555555555556,
              "#d8576b"
             ],
             [
              0.6666666666666666,
              "#ed7953"
             ],
             [
              0.7777777777777778,
              "#fb9f3a"
             ],
             [
              0.8888888888888888,
              "#fdca26"
             ],
             [
              1,
              "#f0f921"
             ]
            ],
            "type": "heatmap"
           }
          ],
          "heatmapgl": [
           {
            "colorbar": {
             "outlinewidth": 0,
             "ticks": ""
            },
            "colorscale": [
             [
              0,
              "#0d0887"
             ],
             [
              0.1111111111111111,
              "#46039f"
             ],
             [
              0.2222222222222222,
              "#7201a8"
             ],
             [
              0.3333333333333333,
              "#9c179e"
             ],
             [
              0.4444444444444444,
              "#bd3786"
             ],
             [
              0.5555555555555556,
              "#d8576b"
             ],
             [
              0.6666666666666666,
              "#ed7953"
             ],
             [
              0.7777777777777778,
              "#fb9f3a"
             ],
             [
              0.8888888888888888,
              "#fdca26"
             ],
             [
              1,
              "#f0f921"
             ]
            ],
            "type": "heatmapgl"
           }
          ],
          "histogram": [
           {
            "marker": {
             "pattern": {
              "fillmode": "overlay",
              "size": 10,
              "solidity": 0.2
             }
            },
            "type": "histogram"
           }
          ],
          "histogram2d": [
           {
            "colorbar": {
             "outlinewidth": 0,
             "ticks": ""
            },
            "colorscale": [
             [
              0,
              "#0d0887"
             ],
             [
              0.1111111111111111,
              "#46039f"
             ],
             [
              0.2222222222222222,
              "#7201a8"
             ],
             [
              0.3333333333333333,
              "#9c179e"
             ],
             [
              0.4444444444444444,
              "#bd3786"
             ],
             [
              0.5555555555555556,
              "#d8576b"
             ],
             [
              0.6666666666666666,
              "#ed7953"
             ],
             [
              0.7777777777777778,
              "#fb9f3a"
             ],
             [
              0.8888888888888888,
              "#fdca26"
             ],
             [
              1,
              "#f0f921"
             ]
            ],
            "type": "histogram2d"
           }
          ],
          "histogram2dcontour": [
           {
            "colorbar": {
             "outlinewidth": 0,
             "ticks": ""
            },
            "colorscale": [
             [
              0,
              "#0d0887"
             ],
             [
              0.1111111111111111,
              "#46039f"
             ],
             [
              0.2222222222222222,
              "#7201a8"
             ],
             [
              0.3333333333333333,
              "#9c179e"
             ],
             [
              0.4444444444444444,
              "#bd3786"
             ],
             [
              0.5555555555555556,
              "#d8576b"
             ],
             [
              0.6666666666666666,
              "#ed7953"
             ],
             [
              0.7777777777777778,
              "#fb9f3a"
             ],
             [
              0.8888888888888888,
              "#fdca26"
             ],
             [
              1,
              "#f0f921"
             ]
            ],
            "type": "histogram2dcontour"
           }
          ],
          "mesh3d": [
           {
            "colorbar": {
             "outlinewidth": 0,
             "ticks": ""
            },
            "type": "mesh3d"
           }
          ],
          "parcoords": [
           {
            "line": {
             "colorbar": {
              "outlinewidth": 0,
              "ticks": ""
             }
            },
            "type": "parcoords"
           }
          ],
          "pie": [
           {
            "automargin": true,
            "type": "pie"
           }
          ],
          "scatter": [
           {
            "fillpattern": {
             "fillmode": "overlay",
             "size": 10,
             "solidity": 0.2
            },
            "type": "scatter"
           }
          ],
          "scatter3d": [
           {
            "line": {
             "colorbar": {
              "outlinewidth": 0,
              "ticks": ""
             }
            },
            "marker": {
             "colorbar": {
              "outlinewidth": 0,
              "ticks": ""
             }
            },
            "type": "scatter3d"
           }
          ],
          "scattercarpet": [
           {
            "marker": {
             "colorbar": {
              "outlinewidth": 0,
              "ticks": ""
             }
            },
            "type": "scattercarpet"
           }
          ],
          "scattergeo": [
           {
            "marker": {
             "colorbar": {
              "outlinewidth": 0,
              "ticks": ""
             }
            },
            "type": "scattergeo"
           }
          ],
          "scattergl": [
           {
            "marker": {
             "colorbar": {
              "outlinewidth": 0,
              "ticks": ""
             }
            },
            "type": "scattergl"
           }
          ],
          "scattermapbox": [
           {
            "marker": {
             "colorbar": {
              "outlinewidth": 0,
              "ticks": ""
             }
            },
            "type": "scattermapbox"
           }
          ],
          "scatterpolar": [
           {
            "marker": {
             "colorbar": {
              "outlinewidth": 0,
              "ticks": ""
             }
            },
            "type": "scatterpolar"
           }
          ],
          "scatterpolargl": [
           {
            "marker": {
             "colorbar": {
              "outlinewidth": 0,
              "ticks": ""
             }
            },
            "type": "scatterpolargl"
           }
          ],
          "scatterternary": [
           {
            "marker": {
             "colorbar": {
              "outlinewidth": 0,
              "ticks": ""
             }
            },
            "type": "scatterternary"
           }
          ],
          "surface": [
           {
            "colorbar": {
             "outlinewidth": 0,
             "ticks": ""
            },
            "colorscale": [
             [
              0,
              "#0d0887"
             ],
             [
              0.1111111111111111,
              "#46039f"
             ],
             [
              0.2222222222222222,
              "#7201a8"
             ],
             [
              0.3333333333333333,
              "#9c179e"
             ],
             [
              0.4444444444444444,
              "#bd3786"
             ],
             [
              0.5555555555555556,
              "#d8576b"
             ],
             [
              0.6666666666666666,
              "#ed7953"
             ],
             [
              0.7777777777777778,
              "#fb9f3a"
             ],
             [
              0.8888888888888888,
              "#fdca26"
             ],
             [
              1,
              "#f0f921"
             ]
            ],
            "type": "surface"
           }
          ],
          "table": [
           {
            "cells": {
             "fill": {
              "color": "#EBF0F8"
             },
             "line": {
              "color": "white"
             }
            },
            "header": {
             "fill": {
              "color": "#C8D4E3"
             },
             "line": {
              "color": "white"
             }
            },
            "type": "table"
           }
          ]
         },
         "layout": {
          "annotationdefaults": {
           "arrowcolor": "#2a3f5f",
           "arrowhead": 0,
           "arrowwidth": 1
          },
          "autotypenumbers": "strict",
          "coloraxis": {
           "colorbar": {
            "outlinewidth": 0,
            "ticks": ""
           }
          },
          "colorscale": {
           "diverging": [
            [
             0,
             "#8e0152"
            ],
            [
             0.1,
             "#c51b7d"
            ],
            [
             0.2,
             "#de77ae"
            ],
            [
             0.3,
             "#f1b6da"
            ],
            [
             0.4,
             "#fde0ef"
            ],
            [
             0.5,
             "#f7f7f7"
            ],
            [
             0.6,
             "#e6f5d0"
            ],
            [
             0.7,
             "#b8e186"
            ],
            [
             0.8,
             "#7fbc41"
            ],
            [
             0.9,
             "#4d9221"
            ],
            [
             1,
             "#276419"
            ]
           ],
           "sequential": [
            [
             0,
             "#0d0887"
            ],
            [
             0.1111111111111111,
             "#46039f"
            ],
            [
             0.2222222222222222,
             "#7201a8"
            ],
            [
             0.3333333333333333,
             "#9c179e"
            ],
            [
             0.4444444444444444,
             "#bd3786"
            ],
            [
             0.5555555555555556,
             "#d8576b"
            ],
            [
             0.6666666666666666,
             "#ed7953"
            ],
            [
             0.7777777777777778,
             "#fb9f3a"
            ],
            [
             0.8888888888888888,
             "#fdca26"
            ],
            [
             1,
             "#f0f921"
            ]
           ],
           "sequentialminus": [
            [
             0,
             "#0d0887"
            ],
            [
             0.1111111111111111,
             "#46039f"
            ],
            [
             0.2222222222222222,
             "#7201a8"
            ],
            [
             0.3333333333333333,
             "#9c179e"
            ],
            [
             0.4444444444444444,
             "#bd3786"
            ],
            [
             0.5555555555555556,
             "#d8576b"
            ],
            [
             0.6666666666666666,
             "#ed7953"
            ],
            [
             0.7777777777777778,
             "#fb9f3a"
            ],
            [
             0.8888888888888888,
             "#fdca26"
            ],
            [
             1,
             "#f0f921"
            ]
           ]
          },
          "colorway": [
           "#636efa",
           "#EF553B",
           "#00cc96",
           "#ab63fa",
           "#FFA15A",
           "#19d3f3",
           "#FF6692",
           "#B6E880",
           "#FF97FF",
           "#FECB52"
          ],
          "font": {
           "color": "#2a3f5f"
          },
          "geo": {
           "bgcolor": "white",
           "lakecolor": "white",
           "landcolor": "white",
           "showlakes": true,
           "showland": true,
           "subunitcolor": "#C8D4E3"
          },
          "hoverlabel": {
           "align": "left"
          },
          "hovermode": "closest",
          "mapbox": {
           "style": "light"
          },
          "paper_bgcolor": "white",
          "plot_bgcolor": "white",
          "polar": {
           "angularaxis": {
            "gridcolor": "#EBF0F8",
            "linecolor": "#EBF0F8",
            "ticks": ""
           },
           "bgcolor": "white",
           "radialaxis": {
            "gridcolor": "#EBF0F8",
            "linecolor": "#EBF0F8",
            "ticks": ""
           }
          },
          "scene": {
           "xaxis": {
            "backgroundcolor": "white",
            "gridcolor": "#DFE8F3",
            "gridwidth": 2,
            "linecolor": "#EBF0F8",
            "showbackground": true,
            "ticks": "",
            "zerolinecolor": "#EBF0F8"
           },
           "yaxis": {
            "backgroundcolor": "white",
            "gridcolor": "#DFE8F3",
            "gridwidth": 2,
            "linecolor": "#EBF0F8",
            "showbackground": true,
            "ticks": "",
            "zerolinecolor": "#EBF0F8"
           },
           "zaxis": {
            "backgroundcolor": "white",
            "gridcolor": "#DFE8F3",
            "gridwidth": 2,
            "linecolor": "#EBF0F8",
            "showbackground": true,
            "ticks": "",
            "zerolinecolor": "#EBF0F8"
           }
          },
          "shapedefaults": {
           "line": {
            "color": "#2a3f5f"
           }
          },
          "ternary": {
           "aaxis": {
            "gridcolor": "#DFE8F3",
            "linecolor": "#A2B1C6",
            "ticks": ""
           },
           "baxis": {
            "gridcolor": "#DFE8F3",
            "linecolor": "#A2B1C6",
            "ticks": ""
           },
           "bgcolor": "white",
           "caxis": {
            "gridcolor": "#DFE8F3",
            "linecolor": "#A2B1C6",
            "ticks": ""
           }
          },
          "title": {
           "x": 0.05
          },
          "xaxis": {
           "automargin": true,
           "gridcolor": "#EBF0F8",
           "linecolor": "#EBF0F8",
           "ticks": "",
           "title": {
            "standoff": 15
           },
           "zerolinecolor": "#EBF0F8",
           "zerolinewidth": 2
          },
          "yaxis": {
           "automargin": true,
           "gridcolor": "#EBF0F8",
           "linecolor": "#EBF0F8",
           "ticks": "",
           "title": {
            "standoff": 15
           },
           "zerolinecolor": "#EBF0F8",
           "zerolinewidth": 2
          }
         }
        },
        "title": {
         "text": "MMLU Performance over time"
        },
        "width": 800,
        "xaxis": {
         "anchor": "y",
         "domain": [
          0,
          1
         ],
         "title": {
          "text": "Release Date"
         }
        },
        "yaxis": {
         "anchor": "x",
         "domain": [
          0,
          1
         ],
         "title": {
          "text": "MMLU"
         }
        }
       }
      }
     },
     "metadata": {},
     "output_type": "display_data"
    },
    {
     "name": "stdout",
     "output_type": "stream",
     "text": [
      "['o1 (2024-12)', 'GPT-4 Turbo (2023-11)', 'o1-preview (2024-09)', 'GPT-4o-2024-05 (2024-05)', 'GPT-4-0314 (2023-03)', 'GPT-3 (2021-11)', 'Claude-3.5-Sonnet-2024-06 (2024-06)']\n"
     ]
    },
    {
     "data": {
      "application/vnd.plotly.v1+json": {
       "config": {
        "plotlyServerURL": "https://plot.ly"
       },
       "data": [
        {
         "customdata": [
          [
           "GPT-3"
          ],
          [
           "GPT-3"
          ],
          [
           "GPT-3"
          ],
          [
           "GPT-3.5"
          ],
          [
           "GPT-3.5 Turbo"
          ],
          [
           "GPT-4-0314"
          ],
          [
           "GPT-3.5-Turbo-2023-06"
          ],
          [
           "Llama-2-Chat-13B"
          ],
          [
           "Llama-2-Chat-7B"
          ],
          [
           "GPT-3.5-Turbo-2023-11"
          ],
          [
           "GPT-4 Turbo"
          ],
          [
           "Llama 2-70B Chat"
          ],
          [
           "Llama 2-7B"
          ],
          [
           "Llama 2-13B"
          ],
          [
           "GPT-3"
          ],
          [
           "GPT-3.5-Turbo-2024-01"
          ],
          [
           "Mistral-Large-2024-02"
          ],
          [
           "Mistral-Small-2024-02"
          ],
          [
           "Claude-3-Haiku"
          ],
          [
           "Claude-3-Sonnet"
          ],
          [
           "Claude-3-Opus"
          ],
          [
           "Llama 2-13B"
          ],
          [
           "Llama 2-7B"
          ],
          [
           "Mistral-8x22"
          ],
          [
           "Llama-3-Instruct-8B"
          ],
          [
           "Llama-3-Instruct-70B"
          ],
          [
           "Gemini-1.5-Flash-2024-05"
          ],
          [
           "GPT-4o-2024-05"
          ],
          [
           "Gemini-1.5-Pro-2024-05"
          ],
          [
           "Claude-3.5-Sonnet-2024-06"
          ],
          [
           "Gemma-2-9B"
          ],
          [
           "Gemma-2-27B"
          ],
          [
           "GPT-4o-mini"
          ],
          [
           "Mistral-NeMo"
          ],
          [
           "Llama-3.1-Instruct-70B"
          ],
          [
           "Llama-3.1-Instruct-405B"
          ],
          [
           "Llama-3.1-Instruct-8B"
          ],
          [
           "Mistral-Large-2-2024-07"
          ],
          [
           "GPT-4o-2024-08"
          ],
          [
           "Claude 2"
          ],
          [
           "Claude 2.1"
          ],
          [
           "Claude Instant"
          ],
          [
           "Gemini 1.0 Pro"
          ],
          [
           "Cohere Command"
          ],
          [
           "Command R"
          ],
          [
           "Command R+"
          ],
          [
           "Cohere Command Light"
          ],
          [
           "DeepSeek-Coder-V2 236B"
          ],
          [
           "Jamba 1.5-Large"
          ],
          [
           "o1-mini"
          ],
          [
           "o1-preview"
          ],
          [
           "Command R+"
          ],
          [
           "Reka Core"
          ],
          [
           "Mistral 7B"
          ],
          [
           "Llama-3.2-Instruct-3B"
          ],
          [
           "Gemini-1.5-Pro-2024-09"
          ],
          [
           "Llama-3.2-Instruct-1B"
          ],
          [
           "Gemini-1.5-Flash-2024-09"
          ],
          [
           "Gemini-1.5-Flash-8B"
          ],
          [
           "Claude-3.5-Sonnet-2024-10"
          ],
          [
           "Claude-3.5-Haiku"
          ],
          [
           "Mistral-Large-2-2024-11"
          ],
          [
           "GPT-4o-2024-11"
          ],
          [
           "Phi 4"
          ],
          [
           "o1"
          ],
          [
           "DeepSeek-V3"
          ],
          [
           "DeepSeek-R1"
          ],
          [
           "Mistral Small 3"
          ],
          [
           "o1-mini"
          ],
          [
           "o3-mini"
          ],
          [
           "Gemini 2.0 Flash"
          ]
         ],
         "hovertemplate": "Release Date=%{x}<br>GPQA Diamond=%{y}<br>Model Name=%{customdata[0]}<extra></extra>",
         "legendgroup": "",
         "marker": {
          "color": "lightgray",
          "symbol": "circle"
         },
         "mode": "markers",
         "name": "",
         "orientation": "v",
         "showlegend": false,
         "type": "scatter",
         "x": [
          "2021-11-20T00:00:00",
          "2022-08-31T00:00:00",
          "2022-09-01T00:00:00",
          "2022-11-30T00:00:00",
          "2023-03-06T00:00:00",
          "2023-03-14T00:00:00",
          "2023-06-13T00:00:00",
          "2023-07-18T00:00:00",
          "2023-07-18T00:00:00",
          "2023-11-06T00:00:00",
          "2023-11-06T00:00:00",
          "2023-12-01T00:00:00",
          "2023-12-01T00:00:00",
          "2023-12-08T00:00:00",
          "2024-01-04T00:00:00",
          "2024-01-25T00:00:00",
          "2024-02-26T00:00:00",
          "2024-02-26T00:00:00",
          "2024-03-04T00:00:00",
          "2024-03-04T00:00:00",
          "2024-03-04T00:00:00",
          "2024-04-14T00:00:00",
          "2024-04-14T00:00:00",
          "2024-04-17T00:00:00",
          "2024-04-18T00:00:00",
          "2024-04-18T00:00:00",
          "2024-05-10T00:00:00",
          "2024-05-13T00:00:00",
          "2024-05-23T00:00:00",
          "2024-06-20T00:00:00",
          "2024-06-24T00:00:00",
          "2024-06-24T00:00:00",
          "2024-07-18T00:00:00",
          "2024-07-18T00:00:00",
          "2024-07-23T00:00:00",
          "2024-07-23T00:00:00",
          "2024-07-23T00:00:00",
          "2024-07-24T00:00:00",
          "2024-08-06T00:00:00",
          "2024-08-12T00:00:00",
          "2024-08-12T00:00:00",
          "2024-08-12T00:00:00",
          "2024-08-12T00:00:00",
          "2024-08-13T00:00:00",
          "2024-08-13T00:00:00",
          "2024-08-13T00:00:00",
          "2024-08-13T00:00:00",
          "2024-09-11T00:00:00",
          "2024-09-12T00:00:00",
          "2024-09-12T00:00:00",
          "2024-09-12T00:00:00",
          "2024-09-13T00:00:00",
          "2024-09-14T00:00:00",
          "2024-09-14T00:00:00",
          "2024-09-24T00:00:00",
          "2024-09-24T00:00:00",
          "2024-09-24T00:00:00",
          "2024-09-24T00:00:00",
          "2024-10-03T00:00:00",
          "2024-10-22T00:00:00",
          "2024-10-22T00:00:00",
          "2024-11-18T00:00:00",
          "2024-11-20T00:00:00",
          "2024-12-13T00:00:00",
          "2024-12-17T00:00:00",
          "2024-12-26T00:00:00",
          "2025-01-20T00:00:00",
          "2025-01-30T00:00:00",
          "2025-01-31T00:00:00",
          "2025-01-31T00:00:00",
          "2025-02-05T00:00:00"
         ],
         "xaxis": "x",
         "y": [
          null,
          null,
          null,
          null,
          null,
          33,
          28.8,
          19,
          6,
          30,
          50,
          26,
          null,
          null,
          null,
          30,
          36,
          31,
          33,
          37,
          50,
          null,
          null,
          37,
          30,
          39,
          39,
          53,
          46,
          56,
          31,
          39,
          43,
          33,
          43,
          50,
          27,
          48,
          52,
          35,
          36,
          null,
          34.4,
          null,
          null,
          34,
          null,
          null,
          43,
          59.5,
          69.7,
          34,
          null,
          14,
          21,
          61,
          14,
          45,
          30,
          58,
          37,
          47,
          54,
          53,
          75.8,
          57,
          71.7,
          46,
          59.5,
          74.3,
          62
         ],
         "yaxis": "y"
        },
        {
         "hovertemplate": "%{text}<extra></extra>",
         "line": {
          "color": "red"
         },
         "mode": "lines+markers",
         "name": "Top Model",
         "text": [
          "GPT-3",
          "GPT-4-0314",
          "GPT-4 Turbo",
          "GPT-4o-2024-05",
          "Claude-3.5-Sonnet-2024-06",
          "o1-preview",
          "o1"
         ],
         "type": "scatter",
         "x": [
          "2021-11-20T00:00:00",
          "2023-03-14T00:00:00",
          "2023-11-06T00:00:00",
          "2024-05-13T00:00:00",
          "2024-06-20T00:00:00",
          "2024-09-12T00:00:00",
          "2024-12-17T00:00:00"
         ],
         "y": [
          null,
          33,
          50,
          53,
          56,
          69.7,
          75.8
         ]
        }
       ],
       "layout": {
        "height": 400,
        "legend": {
         "tracegroupgap": 0
        },
        "template": {
         "data": {
          "bar": [
           {
            "error_x": {
             "color": "#2a3f5f"
            },
            "error_y": {
             "color": "#2a3f5f"
            },
            "marker": {
             "line": {
              "color": "white",
              "width": 0.5
             },
             "pattern": {
              "fillmode": "overlay",
              "size": 10,
              "solidity": 0.2
             }
            },
            "type": "bar"
           }
          ],
          "barpolar": [
           {
            "marker": {
             "line": {
              "color": "white",
              "width": 0.5
             },
             "pattern": {
              "fillmode": "overlay",
              "size": 10,
              "solidity": 0.2
             }
            },
            "type": "barpolar"
           }
          ],
          "carpet": [
           {
            "aaxis": {
             "endlinecolor": "#2a3f5f",
             "gridcolor": "#C8D4E3",
             "linecolor": "#C8D4E3",
             "minorgridcolor": "#C8D4E3",
             "startlinecolor": "#2a3f5f"
            },
            "baxis": {
             "endlinecolor": "#2a3f5f",
             "gridcolor": "#C8D4E3",
             "linecolor": "#C8D4E3",
             "minorgridcolor": "#C8D4E3",
             "startlinecolor": "#2a3f5f"
            },
            "type": "carpet"
           }
          ],
          "choropleth": [
           {
            "colorbar": {
             "outlinewidth": 0,
             "ticks": ""
            },
            "type": "choropleth"
           }
          ],
          "contour": [
           {
            "colorbar": {
             "outlinewidth": 0,
             "ticks": ""
            },
            "colorscale": [
             [
              0,
              "#0d0887"
             ],
             [
              0.1111111111111111,
              "#46039f"
             ],
             [
              0.2222222222222222,
              "#7201a8"
             ],
             [
              0.3333333333333333,
              "#9c179e"
             ],
             [
              0.4444444444444444,
              "#bd3786"
             ],
             [
              0.5555555555555556,
              "#d8576b"
             ],
             [
              0.6666666666666666,
              "#ed7953"
             ],
             [
              0.7777777777777778,
              "#fb9f3a"
             ],
             [
              0.8888888888888888,
              "#fdca26"
             ],
             [
              1,
              "#f0f921"
             ]
            ],
            "type": "contour"
           }
          ],
          "contourcarpet": [
           {
            "colorbar": {
             "outlinewidth": 0,
             "ticks": ""
            },
            "type": "contourcarpet"
           }
          ],
          "heatmap": [
           {
            "colorbar": {
             "outlinewidth": 0,
             "ticks": ""
            },
            "colorscale": [
             [
              0,
              "#0d0887"
             ],
             [
              0.1111111111111111,
              "#46039f"
             ],
             [
              0.2222222222222222,
              "#7201a8"
             ],
             [
              0.3333333333333333,
              "#9c179e"
             ],
             [
              0.4444444444444444,
              "#bd3786"
             ],
             [
              0.5555555555555556,
              "#d8576b"
             ],
             [
              0.6666666666666666,
              "#ed7953"
             ],
             [
              0.7777777777777778,
              "#fb9f3a"
             ],
             [
              0.8888888888888888,
              "#fdca26"
             ],
             [
              1,
              "#f0f921"
             ]
            ],
            "type": "heatmap"
           }
          ],
          "heatmapgl": [
           {
            "colorbar": {
             "outlinewidth": 0,
             "ticks": ""
            },
            "colorscale": [
             [
              0,
              "#0d0887"
             ],
             [
              0.1111111111111111,
              "#46039f"
             ],
             [
              0.2222222222222222,
              "#7201a8"
             ],
             [
              0.3333333333333333,
              "#9c179e"
             ],
             [
              0.4444444444444444,
              "#bd3786"
             ],
             [
              0.5555555555555556,
              "#d8576b"
             ],
             [
              0.6666666666666666,
              "#ed7953"
             ],
             [
              0.7777777777777778,
              "#fb9f3a"
             ],
             [
              0.8888888888888888,
              "#fdca26"
             ],
             [
              1,
              "#f0f921"
             ]
            ],
            "type": "heatmapgl"
           }
          ],
          "histogram": [
           {
            "marker": {
             "pattern": {
              "fillmode": "overlay",
              "size": 10,
              "solidity": 0.2
             }
            },
            "type": "histogram"
           }
          ],
          "histogram2d": [
           {
            "colorbar": {
             "outlinewidth": 0,
             "ticks": ""
            },
            "colorscale": [
             [
              0,
              "#0d0887"
             ],
             [
              0.1111111111111111,
              "#46039f"
             ],
             [
              0.2222222222222222,
              "#7201a8"
             ],
             [
              0.3333333333333333,
              "#9c179e"
             ],
             [
              0.4444444444444444,
              "#bd3786"
             ],
             [
              0.5555555555555556,
              "#d8576b"
             ],
             [
              0.6666666666666666,
              "#ed7953"
             ],
             [
              0.7777777777777778,
              "#fb9f3a"
             ],
             [
              0.8888888888888888,
              "#fdca26"
             ],
             [
              1,
              "#f0f921"
             ]
            ],
            "type": "histogram2d"
           }
          ],
          "histogram2dcontour": [
           {
            "colorbar": {
             "outlinewidth": 0,
             "ticks": ""
            },
            "colorscale": [
             [
              0,
              "#0d0887"
             ],
             [
              0.1111111111111111,
              "#46039f"
             ],
             [
              0.2222222222222222,
              "#7201a8"
             ],
             [
              0.3333333333333333,
              "#9c179e"
             ],
             [
              0.4444444444444444,
              "#bd3786"
             ],
             [
              0.5555555555555556,
              "#d8576b"
             ],
             [
              0.6666666666666666,
              "#ed7953"
             ],
             [
              0.7777777777777778,
              "#fb9f3a"
             ],
             [
              0.8888888888888888,
              "#fdca26"
             ],
             [
              1,
              "#f0f921"
             ]
            ],
            "type": "histogram2dcontour"
           }
          ],
          "mesh3d": [
           {
            "colorbar": {
             "outlinewidth": 0,
             "ticks": ""
            },
            "type": "mesh3d"
           }
          ],
          "parcoords": [
           {
            "line": {
             "colorbar": {
              "outlinewidth": 0,
              "ticks": ""
             }
            },
            "type": "parcoords"
           }
          ],
          "pie": [
           {
            "automargin": true,
            "type": "pie"
           }
          ],
          "scatter": [
           {
            "fillpattern": {
             "fillmode": "overlay",
             "size": 10,
             "solidity": 0.2
            },
            "type": "scatter"
           }
          ],
          "scatter3d": [
           {
            "line": {
             "colorbar": {
              "outlinewidth": 0,
              "ticks": ""
             }
            },
            "marker": {
             "colorbar": {
              "outlinewidth": 0,
              "ticks": ""
             }
            },
            "type": "scatter3d"
           }
          ],
          "scattercarpet": [
           {
            "marker": {
             "colorbar": {
              "outlinewidth": 0,
              "ticks": ""
             }
            },
            "type": "scattercarpet"
           }
          ],
          "scattergeo": [
           {
            "marker": {
             "colorbar": {
              "outlinewidth": 0,
              "ticks": ""
             }
            },
            "type": "scattergeo"
           }
          ],
          "scattergl": [
           {
            "marker": {
             "colorbar": {
              "outlinewidth": 0,
              "ticks": ""
             }
            },
            "type": "scattergl"
           }
          ],
          "scattermapbox": [
           {
            "marker": {
             "colorbar": {
              "outlinewidth": 0,
              "ticks": ""
             }
            },
            "type": "scattermapbox"
           }
          ],
          "scatterpolar": [
           {
            "marker": {
             "colorbar": {
              "outlinewidth": 0,
              "ticks": ""
             }
            },
            "type": "scatterpolar"
           }
          ],
          "scatterpolargl": [
           {
            "marker": {
             "colorbar": {
              "outlinewidth": 0,
              "ticks": ""
             }
            },
            "type": "scatterpolargl"
           }
          ],
          "scatterternary": [
           {
            "marker": {
             "colorbar": {
              "outlinewidth": 0,
              "ticks": ""
             }
            },
            "type": "scatterternary"
           }
          ],
          "surface": [
           {
            "colorbar": {
             "outlinewidth": 0,
             "ticks": ""
            },
            "colorscale": [
             [
              0,
              "#0d0887"
             ],
             [
              0.1111111111111111,
              "#46039f"
             ],
             [
              0.2222222222222222,
              "#7201a8"
             ],
             [
              0.3333333333333333,
              "#9c179e"
             ],
             [
              0.4444444444444444,
              "#bd3786"
             ],
             [
              0.5555555555555556,
              "#d8576b"
             ],
             [
              0.6666666666666666,
              "#ed7953"
             ],
             [
              0.7777777777777778,
              "#fb9f3a"
             ],
             [
              0.8888888888888888,
              "#fdca26"
             ],
             [
              1,
              "#f0f921"
             ]
            ],
            "type": "surface"
           }
          ],
          "table": [
           {
            "cells": {
             "fill": {
              "color": "#EBF0F8"
             },
             "line": {
              "color": "white"
             }
            },
            "header": {
             "fill": {
              "color": "#C8D4E3"
             },
             "line": {
              "color": "white"
             }
            },
            "type": "table"
           }
          ]
         },
         "layout": {
          "annotationdefaults": {
           "arrowcolor": "#2a3f5f",
           "arrowhead": 0,
           "arrowwidth": 1
          },
          "autotypenumbers": "strict",
          "coloraxis": {
           "colorbar": {
            "outlinewidth": 0,
            "ticks": ""
           }
          },
          "colorscale": {
           "diverging": [
            [
             0,
             "#8e0152"
            ],
            [
             0.1,
             "#c51b7d"
            ],
            [
             0.2,
             "#de77ae"
            ],
            [
             0.3,
             "#f1b6da"
            ],
            [
             0.4,
             "#fde0ef"
            ],
            [
             0.5,
             "#f7f7f7"
            ],
            [
             0.6,
             "#e6f5d0"
            ],
            [
             0.7,
             "#b8e186"
            ],
            [
             0.8,
             "#7fbc41"
            ],
            [
             0.9,
             "#4d9221"
            ],
            [
             1,
             "#276419"
            ]
           ],
           "sequential": [
            [
             0,
             "#0d0887"
            ],
            [
             0.1111111111111111,
             "#46039f"
            ],
            [
             0.2222222222222222,
             "#7201a8"
            ],
            [
             0.3333333333333333,
             "#9c179e"
            ],
            [
             0.4444444444444444,
             "#bd3786"
            ],
            [
             0.5555555555555556,
             "#d8576b"
            ],
            [
             0.6666666666666666,
             "#ed7953"
            ],
            [
             0.7777777777777778,
             "#fb9f3a"
            ],
            [
             0.8888888888888888,
             "#fdca26"
            ],
            [
             1,
             "#f0f921"
            ]
           ],
           "sequentialminus": [
            [
             0,
             "#0d0887"
            ],
            [
             0.1111111111111111,
             "#46039f"
            ],
            [
             0.2222222222222222,
             "#7201a8"
            ],
            [
             0.3333333333333333,
             "#9c179e"
            ],
            [
             0.4444444444444444,
             "#bd3786"
            ],
            [
             0.5555555555555556,
             "#d8576b"
            ],
            [
             0.6666666666666666,
             "#ed7953"
            ],
            [
             0.7777777777777778,
             "#fb9f3a"
            ],
            [
             0.8888888888888888,
             "#fdca26"
            ],
            [
             1,
             "#f0f921"
            ]
           ]
          },
          "colorway": [
           "#636efa",
           "#EF553B",
           "#00cc96",
           "#ab63fa",
           "#FFA15A",
           "#19d3f3",
           "#FF6692",
           "#B6E880",
           "#FF97FF",
           "#FECB52"
          ],
          "font": {
           "color": "#2a3f5f"
          },
          "geo": {
           "bgcolor": "white",
           "lakecolor": "white",
           "landcolor": "white",
           "showlakes": true,
           "showland": true,
           "subunitcolor": "#C8D4E3"
          },
          "hoverlabel": {
           "align": "left"
          },
          "hovermode": "closest",
          "mapbox": {
           "style": "light"
          },
          "paper_bgcolor": "white",
          "plot_bgcolor": "white",
          "polar": {
           "angularaxis": {
            "gridcolor": "#EBF0F8",
            "linecolor": "#EBF0F8",
            "ticks": ""
           },
           "bgcolor": "white",
           "radialaxis": {
            "gridcolor": "#EBF0F8",
            "linecolor": "#EBF0F8",
            "ticks": ""
           }
          },
          "scene": {
           "xaxis": {
            "backgroundcolor": "white",
            "gridcolor": "#DFE8F3",
            "gridwidth": 2,
            "linecolor": "#EBF0F8",
            "showbackground": true,
            "ticks": "",
            "zerolinecolor": "#EBF0F8"
           },
           "yaxis": {
            "backgroundcolor": "white",
            "gridcolor": "#DFE8F3",
            "gridwidth": 2,
            "linecolor": "#EBF0F8",
            "showbackground": true,
            "ticks": "",
            "zerolinecolor": "#EBF0F8"
           },
           "zaxis": {
            "backgroundcolor": "white",
            "gridcolor": "#DFE8F3",
            "gridwidth": 2,
            "linecolor": "#EBF0F8",
            "showbackground": true,
            "ticks": "",
            "zerolinecolor": "#EBF0F8"
           }
          },
          "shapedefaults": {
           "line": {
            "color": "#2a3f5f"
           }
          },
          "ternary": {
           "aaxis": {
            "gridcolor": "#DFE8F3",
            "linecolor": "#A2B1C6",
            "ticks": ""
           },
           "baxis": {
            "gridcolor": "#DFE8F3",
            "linecolor": "#A2B1C6",
            "ticks": ""
           },
           "bgcolor": "white",
           "caxis": {
            "gridcolor": "#DFE8F3",
            "linecolor": "#A2B1C6",
            "ticks": ""
           }
          },
          "title": {
           "x": 0.05
          },
          "xaxis": {
           "automargin": true,
           "gridcolor": "#EBF0F8",
           "linecolor": "#EBF0F8",
           "ticks": "",
           "title": {
            "standoff": 15
           },
           "zerolinecolor": "#EBF0F8",
           "zerolinewidth": 2
          },
          "yaxis": {
           "automargin": true,
           "gridcolor": "#EBF0F8",
           "linecolor": "#EBF0F8",
           "ticks": "",
           "title": {
            "standoff": 15
           },
           "zerolinecolor": "#EBF0F8",
           "zerolinewidth": 2
          }
         }
        },
        "title": {
         "text": "GPQA Diamond Performance over time"
        },
        "width": 800,
        "xaxis": {
         "anchor": "y",
         "domain": [
          0,
          1
         ],
         "title": {
          "text": "Release Date"
         }
        },
        "yaxis": {
         "anchor": "x",
         "domain": [
          0,
          1
         ],
         "title": {
          "text": "GPQA Diamond"
         }
        }
       }
      }
     },
     "metadata": {},
     "output_type": "display_data"
    },
    {
     "name": "stdout",
     "output_type": "stream",
     "text": [
      "['o1 (2024-12)', 'GPT-4 Turbo (2023-11)', 'GPT-4o-2024-08 (2024-08)', 'GPT-3.5-Turbo-2023-06 (2023-06)', 'GPT-4o-2024-05 (2024-05)', 'o1-mini (2024-09)', 'GPT-3 (2021-11)']\n"
     ]
    },
    {
     "data": {
      "application/vnd.plotly.v1+json": {
       "config": {
        "plotlyServerURL": "https://plot.ly"
       },
       "data": [
        {
         "customdata": [
          [
           "GPT-3"
          ],
          [
           "GPT-3"
          ],
          [
           "GPT-3"
          ],
          [
           "GPT-3.5"
          ],
          [
           "GPT-3.5 Turbo"
          ],
          [
           "GPT-4-0314"
          ],
          [
           "GPT-3.5-Turbo-2023-06"
          ],
          [
           "Llama-2-Chat-13B"
          ],
          [
           "Llama-2-Chat-7B"
          ],
          [
           "GPT-3.5-Turbo-2023-11"
          ],
          [
           "GPT-4 Turbo"
          ],
          [
           "Llama 2-70B Chat"
          ],
          [
           "Llama 2-7B"
          ],
          [
           "Llama 2-13B"
          ],
          [
           "GPT-3"
          ],
          [
           "GPT-3.5-Turbo-2024-01"
          ],
          [
           "Mistral-Large-2024-02"
          ],
          [
           "Mistral-Small-2024-02"
          ],
          [
           "Claude-3-Haiku"
          ],
          [
           "Claude-3-Sonnet"
          ],
          [
           "Claude-3-Opus"
          ],
          [
           "Llama 2-13B"
          ],
          [
           "Llama 2-7B"
          ],
          [
           "Mistral-8x22"
          ],
          [
           "Llama-3-Instruct-8B"
          ],
          [
           "Llama-3-Instruct-70B"
          ],
          [
           "Gemini-1.5-Flash-2024-05"
          ],
          [
           "GPT-4o-2024-05"
          ],
          [
           "Gemini-1.5-Pro-2024-05"
          ],
          [
           "Claude-3.5-Sonnet-2024-06"
          ],
          [
           "Gemma-2-9B"
          ],
          [
           "Gemma-2-27B"
          ],
          [
           "GPT-4o-mini"
          ],
          [
           "Mistral-NeMo"
          ],
          [
           "Llama-3.1-Instruct-70B"
          ],
          [
           "Llama-3.1-Instruct-405B"
          ],
          [
           "Llama-3.1-Instruct-8B"
          ],
          [
           "Mistral-Large-2-2024-07"
          ],
          [
           "GPT-4o-2024-08"
          ],
          [
           "Claude 2"
          ],
          [
           "Claude 2.1"
          ],
          [
           "Claude Instant"
          ],
          [
           "Gemini 1.0 Pro"
          ],
          [
           "Cohere Command"
          ],
          [
           "Command R"
          ],
          [
           "Command R+"
          ],
          [
           "Cohere Command Light"
          ],
          [
           "DeepSeek-Coder-V2 236B"
          ],
          [
           "Jamba 1.5-Large"
          ],
          [
           "o1-mini"
          ],
          [
           "o1-preview"
          ],
          [
           "Command R+"
          ],
          [
           "Reka Core"
          ],
          [
           "Mistral 7B"
          ],
          [
           "Llama-3.2-Instruct-3B"
          ],
          [
           "Gemini-1.5-Pro-2024-09"
          ],
          [
           "Llama-3.2-Instruct-1B"
          ],
          [
           "Gemini-1.5-Flash-2024-09"
          ],
          [
           "Gemini-1.5-Flash-8B"
          ],
          [
           "Claude-3.5-Sonnet-2024-10"
          ],
          [
           "Claude-3.5-Haiku"
          ],
          [
           "Mistral-Large-2-2024-11"
          ],
          [
           "GPT-4o-2024-11"
          ],
          [
           "Phi 4"
          ],
          [
           "o1"
          ],
          [
           "DeepSeek-V3"
          ],
          [
           "DeepSeek-R1"
          ],
          [
           "Mistral Small 3"
          ],
          [
           "o1-mini"
          ],
          [
           "o3-mini"
          ],
          [
           "Gemini 2.0 Flash"
          ]
         ],
         "hovertemplate": "Release Date=%{x}<br>MATH-500=%{y}<br>Model Name=%{customdata[0]}<extra></extra>",
         "legendgroup": "",
         "marker": {
          "color": "lightgray",
          "symbol": "circle"
         },
         "mode": "markers",
         "name": "",
         "orientation": "v",
         "showlegend": false,
         "type": "scatter",
         "x": [
          "2021-11-20T00:00:00",
          "2022-08-31T00:00:00",
          "2022-09-01T00:00:00",
          "2022-11-30T00:00:00",
          "2023-03-06T00:00:00",
          "2023-03-14T00:00:00",
          "2023-06-13T00:00:00",
          "2023-07-18T00:00:00",
          "2023-07-18T00:00:00",
          "2023-11-06T00:00:00",
          "2023-11-06T00:00:00",
          "2023-12-01T00:00:00",
          "2023-12-01T00:00:00",
          "2023-12-08T00:00:00",
          "2024-01-04T00:00:00",
          "2024-01-25T00:00:00",
          "2024-02-26T00:00:00",
          "2024-02-26T00:00:00",
          "2024-03-04T00:00:00",
          "2024-03-04T00:00:00",
          "2024-03-04T00:00:00",
          "2024-04-14T00:00:00",
          "2024-04-14T00:00:00",
          "2024-04-17T00:00:00",
          "2024-04-18T00:00:00",
          "2024-04-18T00:00:00",
          "2024-05-10T00:00:00",
          "2024-05-13T00:00:00",
          "2024-05-23T00:00:00",
          "2024-06-20T00:00:00",
          "2024-06-24T00:00:00",
          "2024-06-24T00:00:00",
          "2024-07-18T00:00:00",
          "2024-07-18T00:00:00",
          "2024-07-23T00:00:00",
          "2024-07-23T00:00:00",
          "2024-07-23T00:00:00",
          "2024-07-24T00:00:00",
          "2024-08-06T00:00:00",
          "2024-08-12T00:00:00",
          "2024-08-12T00:00:00",
          "2024-08-12T00:00:00",
          "2024-08-12T00:00:00",
          "2024-08-13T00:00:00",
          "2024-08-13T00:00:00",
          "2024-08-13T00:00:00",
          "2024-08-13T00:00:00",
          "2024-09-11T00:00:00",
          "2024-09-12T00:00:00",
          "2024-09-12T00:00:00",
          "2024-09-12T00:00:00",
          "2024-09-13T00:00:00",
          "2024-09-14T00:00:00",
          "2024-09-14T00:00:00",
          "2024-09-24T00:00:00",
          "2024-09-24T00:00:00",
          "2024-09-24T00:00:00",
          "2024-09-24T00:00:00",
          "2024-10-03T00:00:00",
          "2024-10-22T00:00:00",
          "2024-10-22T00:00:00",
          "2024-11-18T00:00:00",
          "2024-11-20T00:00:00",
          "2024-12-13T00:00:00",
          "2024-12-17T00:00:00",
          "2024-12-26T00:00:00",
          "2025-01-20T00:00:00",
          "2025-01-30T00:00:00",
          "2025-01-31T00:00:00",
          "2025-01-31T00:00:00",
          "2025-02-05T00:00:00"
         ],
         "xaxis": "x",
         "y": [
          null,
          null,
          null,
          null,
          null,
          null,
          44,
          null,
          null,
          44,
          74,
          null,
          null,
          null,
          null,
          44,
          49,
          56,
          39,
          41,
          64,
          null,
          null,
          56,
          32,
          53,
          55,
          79,
          66,
          71,
          50,
          54,
          79,
          44,
          64,
          70,
          50,
          71,
          80,
          null,
          null,
          null,
          null,
          null,
          15,
          40,
          null,
          74,
          61,
          94,
          92,
          40,
          56,
          12,
          50,
          88,
          13,
          83,
          70,
          76,
          67,
          72,
          76,
          81,
          97,
          89,
          96,
          74,
          94,
          97,
          93
         ],
         "yaxis": "y"
        },
        {
         "hovertemplate": "%{text}<extra></extra>",
         "line": {
          "color": "red"
         },
         "mode": "lines+markers",
         "name": "Top Model",
         "text": [
          "GPT-3",
          "GPT-3.5-Turbo-2023-06",
          "GPT-4 Turbo",
          "GPT-4o-2024-05",
          "GPT-4o-2024-08",
          "o1-mini",
          "o1"
         ],
         "type": "scatter",
         "x": [
          "2021-11-20T00:00:00",
          "2023-06-13T00:00:00",
          "2023-11-06T00:00:00",
          "2024-05-13T00:00:00",
          "2024-08-06T00:00:00",
          "2024-09-12T00:00:00",
          "2024-12-17T00:00:00"
         ],
         "y": [
          null,
          44,
          74,
          79,
          80,
          94,
          97
         ]
        }
       ],
       "layout": {
        "height": 400,
        "legend": {
         "tracegroupgap": 0
        },
        "template": {
         "data": {
          "bar": [
           {
            "error_x": {
             "color": "#2a3f5f"
            },
            "error_y": {
             "color": "#2a3f5f"
            },
            "marker": {
             "line": {
              "color": "white",
              "width": 0.5
             },
             "pattern": {
              "fillmode": "overlay",
              "size": 10,
              "solidity": 0.2
             }
            },
            "type": "bar"
           }
          ],
          "barpolar": [
           {
            "marker": {
             "line": {
              "color": "white",
              "width": 0.5
             },
             "pattern": {
              "fillmode": "overlay",
              "size": 10,
              "solidity": 0.2
             }
            },
            "type": "barpolar"
           }
          ],
          "carpet": [
           {
            "aaxis": {
             "endlinecolor": "#2a3f5f",
             "gridcolor": "#C8D4E3",
             "linecolor": "#C8D4E3",
             "minorgridcolor": "#C8D4E3",
             "startlinecolor": "#2a3f5f"
            },
            "baxis": {
             "endlinecolor": "#2a3f5f",
             "gridcolor": "#C8D4E3",
             "linecolor": "#C8D4E3",
             "minorgridcolor": "#C8D4E3",
             "startlinecolor": "#2a3f5f"
            },
            "type": "carpet"
           }
          ],
          "choropleth": [
           {
            "colorbar": {
             "outlinewidth": 0,
             "ticks": ""
            },
            "type": "choropleth"
           }
          ],
          "contour": [
           {
            "colorbar": {
             "outlinewidth": 0,
             "ticks": ""
            },
            "colorscale": [
             [
              0,
              "#0d0887"
             ],
             [
              0.1111111111111111,
              "#46039f"
             ],
             [
              0.2222222222222222,
              "#7201a8"
             ],
             [
              0.3333333333333333,
              "#9c179e"
             ],
             [
              0.4444444444444444,
              "#bd3786"
             ],
             [
              0.5555555555555556,
              "#d8576b"
             ],
             [
              0.6666666666666666,
              "#ed7953"
             ],
             [
              0.7777777777777778,
              "#fb9f3a"
             ],
             [
              0.8888888888888888,
              "#fdca26"
             ],
             [
              1,
              "#f0f921"
             ]
            ],
            "type": "contour"
           }
          ],
          "contourcarpet": [
           {
            "colorbar": {
             "outlinewidth": 0,
             "ticks": ""
            },
            "type": "contourcarpet"
           }
          ],
          "heatmap": [
           {
            "colorbar": {
             "outlinewidth": 0,
             "ticks": ""
            },
            "colorscale": [
             [
              0,
              "#0d0887"
             ],
             [
              0.1111111111111111,
              "#46039f"
             ],
             [
              0.2222222222222222,
              "#7201a8"
             ],
             [
              0.3333333333333333,
              "#9c179e"
             ],
             [
              0.4444444444444444,
              "#bd3786"
             ],
             [
              0.5555555555555556,
              "#d8576b"
             ],
             [
              0.6666666666666666,
              "#ed7953"
             ],
             [
              0.7777777777777778,
              "#fb9f3a"
             ],
             [
              0.8888888888888888,
              "#fdca26"
             ],
             [
              1,
              "#f0f921"
             ]
            ],
            "type": "heatmap"
           }
          ],
          "heatmapgl": [
           {
            "colorbar": {
             "outlinewidth": 0,
             "ticks": ""
            },
            "colorscale": [
             [
              0,
              "#0d0887"
             ],
             [
              0.1111111111111111,
              "#46039f"
             ],
             [
              0.2222222222222222,
              "#7201a8"
             ],
             [
              0.3333333333333333,
              "#9c179e"
             ],
             [
              0.4444444444444444,
              "#bd3786"
             ],
             [
              0.5555555555555556,
              "#d8576b"
             ],
             [
              0.6666666666666666,
              "#ed7953"
             ],
             [
              0.7777777777777778,
              "#fb9f3a"
             ],
             [
              0.8888888888888888,
              "#fdca26"
             ],
             [
              1,
              "#f0f921"
             ]
            ],
            "type": "heatmapgl"
           }
          ],
          "histogram": [
           {
            "marker": {
             "pattern": {
              "fillmode": "overlay",
              "size": 10,
              "solidity": 0.2
             }
            },
            "type": "histogram"
           }
          ],
          "histogram2d": [
           {
            "colorbar": {
             "outlinewidth": 0,
             "ticks": ""
            },
            "colorscale": [
             [
              0,
              "#0d0887"
             ],
             [
              0.1111111111111111,
              "#46039f"
             ],
             [
              0.2222222222222222,
              "#7201a8"
             ],
             [
              0.3333333333333333,
              "#9c179e"
             ],
             [
              0.4444444444444444,
              "#bd3786"
             ],
             [
              0.5555555555555556,
              "#d8576b"
             ],
             [
              0.6666666666666666,
              "#ed7953"
             ],
             [
              0.7777777777777778,
              "#fb9f3a"
             ],
             [
              0.8888888888888888,
              "#fdca26"
             ],
             [
              1,
              "#f0f921"
             ]
            ],
            "type": "histogram2d"
           }
          ],
          "histogram2dcontour": [
           {
            "colorbar": {
             "outlinewidth": 0,
             "ticks": ""
            },
            "colorscale": [
             [
              0,
              "#0d0887"
             ],
             [
              0.1111111111111111,
              "#46039f"
             ],
             [
              0.2222222222222222,
              "#7201a8"
             ],
             [
              0.3333333333333333,
              "#9c179e"
             ],
             [
              0.4444444444444444,
              "#bd3786"
             ],
             [
              0.5555555555555556,
              "#d8576b"
             ],
             [
              0.6666666666666666,
              "#ed7953"
             ],
             [
              0.7777777777777778,
              "#fb9f3a"
             ],
             [
              0.8888888888888888,
              "#fdca26"
             ],
             [
              1,
              "#f0f921"
             ]
            ],
            "type": "histogram2dcontour"
           }
          ],
          "mesh3d": [
           {
            "colorbar": {
             "outlinewidth": 0,
             "ticks": ""
            },
            "type": "mesh3d"
           }
          ],
          "parcoords": [
           {
            "line": {
             "colorbar": {
              "outlinewidth": 0,
              "ticks": ""
             }
            },
            "type": "parcoords"
           }
          ],
          "pie": [
           {
            "automargin": true,
            "type": "pie"
           }
          ],
          "scatter": [
           {
            "fillpattern": {
             "fillmode": "overlay",
             "size": 10,
             "solidity": 0.2
            },
            "type": "scatter"
           }
          ],
          "scatter3d": [
           {
            "line": {
             "colorbar": {
              "outlinewidth": 0,
              "ticks": ""
             }
            },
            "marker": {
             "colorbar": {
              "outlinewidth": 0,
              "ticks": ""
             }
            },
            "type": "scatter3d"
           }
          ],
          "scattercarpet": [
           {
            "marker": {
             "colorbar": {
              "outlinewidth": 0,
              "ticks": ""
             }
            },
            "type": "scattercarpet"
           }
          ],
          "scattergeo": [
           {
            "marker": {
             "colorbar": {
              "outlinewidth": 0,
              "ticks": ""
             }
            },
            "type": "scattergeo"
           }
          ],
          "scattergl": [
           {
            "marker": {
             "colorbar": {
              "outlinewidth": 0,
              "ticks": ""
             }
            },
            "type": "scattergl"
           }
          ],
          "scattermapbox": [
           {
            "marker": {
             "colorbar": {
              "outlinewidth": 0,
              "ticks": ""
             }
            },
            "type": "scattermapbox"
           }
          ],
          "scatterpolar": [
           {
            "marker": {
             "colorbar": {
              "outlinewidth": 0,
              "ticks": ""
             }
            },
            "type": "scatterpolar"
           }
          ],
          "scatterpolargl": [
           {
            "marker": {
             "colorbar": {
              "outlinewidth": 0,
              "ticks": ""
             }
            },
            "type": "scatterpolargl"
           }
          ],
          "scatterternary": [
           {
            "marker": {
             "colorbar": {
              "outlinewidth": 0,
              "ticks": ""
             }
            },
            "type": "scatterternary"
           }
          ],
          "surface": [
           {
            "colorbar": {
             "outlinewidth": 0,
             "ticks": ""
            },
            "colorscale": [
             [
              0,
              "#0d0887"
             ],
             [
              0.1111111111111111,
              "#46039f"
             ],
             [
              0.2222222222222222,
              "#7201a8"
             ],
             [
              0.3333333333333333,
              "#9c179e"
             ],
             [
              0.4444444444444444,
              "#bd3786"
             ],
             [
              0.5555555555555556,
              "#d8576b"
             ],
             [
              0.6666666666666666,
              "#ed7953"
             ],
             [
              0.7777777777777778,
              "#fb9f3a"
             ],
             [
              0.8888888888888888,
              "#fdca26"
             ],
             [
              1,
              "#f0f921"
             ]
            ],
            "type": "surface"
           }
          ],
          "table": [
           {
            "cells": {
             "fill": {
              "color": "#EBF0F8"
             },
             "line": {
              "color": "white"
             }
            },
            "header": {
             "fill": {
              "color": "#C8D4E3"
             },
             "line": {
              "color": "white"
             }
            },
            "type": "table"
           }
          ]
         },
         "layout": {
          "annotationdefaults": {
           "arrowcolor": "#2a3f5f",
           "arrowhead": 0,
           "arrowwidth": 1
          },
          "autotypenumbers": "strict",
          "coloraxis": {
           "colorbar": {
            "outlinewidth": 0,
            "ticks": ""
           }
          },
          "colorscale": {
           "diverging": [
            [
             0,
             "#8e0152"
            ],
            [
             0.1,
             "#c51b7d"
            ],
            [
             0.2,
             "#de77ae"
            ],
            [
             0.3,
             "#f1b6da"
            ],
            [
             0.4,
             "#fde0ef"
            ],
            [
             0.5,
             "#f7f7f7"
            ],
            [
             0.6,
             "#e6f5d0"
            ],
            [
             0.7,
             "#b8e186"
            ],
            [
             0.8,
             "#7fbc41"
            ],
            [
             0.9,
             "#4d9221"
            ],
            [
             1,
             "#276419"
            ]
           ],
           "sequential": [
            [
             0,
             "#0d0887"
            ],
            [
             0.1111111111111111,
             "#46039f"
            ],
            [
             0.2222222222222222,
             "#7201a8"
            ],
            [
             0.3333333333333333,
             "#9c179e"
            ],
            [
             0.4444444444444444,
             "#bd3786"
            ],
            [
             0.5555555555555556,
             "#d8576b"
            ],
            [
             0.6666666666666666,
             "#ed7953"
            ],
            [
             0.7777777777777778,
             "#fb9f3a"
            ],
            [
             0.8888888888888888,
             "#fdca26"
            ],
            [
             1,
             "#f0f921"
            ]
           ],
           "sequentialminus": [
            [
             0,
             "#0d0887"
            ],
            [
             0.1111111111111111,
             "#46039f"
            ],
            [
             0.2222222222222222,
             "#7201a8"
            ],
            [
             0.3333333333333333,
             "#9c179e"
            ],
            [
             0.4444444444444444,
             "#bd3786"
            ],
            [
             0.5555555555555556,
             "#d8576b"
            ],
            [
             0.6666666666666666,
             "#ed7953"
            ],
            [
             0.7777777777777778,
             "#fb9f3a"
            ],
            [
             0.8888888888888888,
             "#fdca26"
            ],
            [
             1,
             "#f0f921"
            ]
           ]
          },
          "colorway": [
           "#636efa",
           "#EF553B",
           "#00cc96",
           "#ab63fa",
           "#FFA15A",
           "#19d3f3",
           "#FF6692",
           "#B6E880",
           "#FF97FF",
           "#FECB52"
          ],
          "font": {
           "color": "#2a3f5f"
          },
          "geo": {
           "bgcolor": "white",
           "lakecolor": "white",
           "landcolor": "white",
           "showlakes": true,
           "showland": true,
           "subunitcolor": "#C8D4E3"
          },
          "hoverlabel": {
           "align": "left"
          },
          "hovermode": "closest",
          "mapbox": {
           "style": "light"
          },
          "paper_bgcolor": "white",
          "plot_bgcolor": "white",
          "polar": {
           "angularaxis": {
            "gridcolor": "#EBF0F8",
            "linecolor": "#EBF0F8",
            "ticks": ""
           },
           "bgcolor": "white",
           "radialaxis": {
            "gridcolor": "#EBF0F8",
            "linecolor": "#EBF0F8",
            "ticks": ""
           }
          },
          "scene": {
           "xaxis": {
            "backgroundcolor": "white",
            "gridcolor": "#DFE8F3",
            "gridwidth": 2,
            "linecolor": "#EBF0F8",
            "showbackground": true,
            "ticks": "",
            "zerolinecolor": "#EBF0F8"
           },
           "yaxis": {
            "backgroundcolor": "white",
            "gridcolor": "#DFE8F3",
            "gridwidth": 2,
            "linecolor": "#EBF0F8",
            "showbackground": true,
            "ticks": "",
            "zerolinecolor": "#EBF0F8"
           },
           "zaxis": {
            "backgroundcolor": "white",
            "gridcolor": "#DFE8F3",
            "gridwidth": 2,
            "linecolor": "#EBF0F8",
            "showbackground": true,
            "ticks": "",
            "zerolinecolor": "#EBF0F8"
           }
          },
          "shapedefaults": {
           "line": {
            "color": "#2a3f5f"
           }
          },
          "ternary": {
           "aaxis": {
            "gridcolor": "#DFE8F3",
            "linecolor": "#A2B1C6",
            "ticks": ""
           },
           "baxis": {
            "gridcolor": "#DFE8F3",
            "linecolor": "#A2B1C6",
            "ticks": ""
           },
           "bgcolor": "white",
           "caxis": {
            "gridcolor": "#DFE8F3",
            "linecolor": "#A2B1C6",
            "ticks": ""
           }
          },
          "title": {
           "x": 0.05
          },
          "xaxis": {
           "automargin": true,
           "gridcolor": "#EBF0F8",
           "linecolor": "#EBF0F8",
           "ticks": "",
           "title": {
            "standoff": 15
           },
           "zerolinecolor": "#EBF0F8",
           "zerolinewidth": 2
          },
          "yaxis": {
           "automargin": true,
           "gridcolor": "#EBF0F8",
           "linecolor": "#EBF0F8",
           "ticks": "",
           "title": {
            "standoff": 15
           },
           "zerolinecolor": "#EBF0F8",
           "zerolinewidth": 2
          }
         }
        },
        "title": {
         "text": "MATH-500 Performance over time"
        },
        "width": 800,
        "xaxis": {
         "anchor": "y",
         "domain": [
          0,
          1
         ],
         "title": {
          "text": "Release Date"
         }
        },
        "yaxis": {
         "anchor": "x",
         "domain": [
          0,
          1
         ],
         "title": {
          "text": "MATH-500"
         }
        }
       }
      }
     },
     "metadata": {},
     "output_type": "display_data"
    },
    {
     "name": "stdout",
     "output_type": "stream",
     "text": [
      "['o1 (2024-12)', 'GPT-4 Turbo (2023-11)', 'GPT-3.5-Turbo-2023-06 (2023-06)', 'o1-mini (2024-09)', 'GPT-4o-2024-05 (2024-05)', 'GPT-3 (2021-11)', 'o3-mini (2025-01)']\n"
     ]
    },
    {
     "data": {
      "application/vnd.plotly.v1+json": {
       "config": {
        "plotlyServerURL": "https://plot.ly"
       },
       "data": [
        {
         "customdata": [
          [
           "GPT-3"
          ],
          [
           "GPT-3"
          ],
          [
           "GPT-3"
          ],
          [
           "GPT-3.5"
          ],
          [
           "GPT-3.5 Turbo"
          ],
          [
           "GPT-4-0314"
          ],
          [
           "GPT-3.5-Turbo-2023-06"
          ],
          [
           "Llama-2-Chat-13B"
          ],
          [
           "Llama-2-Chat-7B"
          ],
          [
           "GPT-3.5-Turbo-2023-11"
          ],
          [
           "GPT-4 Turbo"
          ],
          [
           "Llama 2-70B Chat"
          ],
          [
           "Llama 2-7B"
          ],
          [
           "Llama 2-13B"
          ],
          [
           "GPT-3"
          ],
          [
           "GPT-3.5-Turbo-2024-01"
          ],
          [
           "Mistral-Large-2024-02"
          ],
          [
           "Mistral-Small-2024-02"
          ],
          [
           "Claude-3-Haiku"
          ],
          [
           "Claude-3-Sonnet"
          ],
          [
           "Claude-3-Opus"
          ],
          [
           "Llama 2-13B"
          ],
          [
           "Llama 2-7B"
          ],
          [
           "Mistral-8x22"
          ],
          [
           "Llama-3-Instruct-8B"
          ],
          [
           "Llama-3-Instruct-70B"
          ],
          [
           "Gemini-1.5-Flash-2024-05"
          ],
          [
           "GPT-4o-2024-05"
          ],
          [
           "Gemini-1.5-Pro-2024-05"
          ],
          [
           "Claude-3.5-Sonnet-2024-06"
          ],
          [
           "Gemma-2-9B"
          ],
          [
           "Gemma-2-27B"
          ],
          [
           "GPT-4o-mini"
          ],
          [
           "Mistral-NeMo"
          ],
          [
           "Llama-3.1-Instruct-70B"
          ],
          [
           "Llama-3.1-Instruct-405B"
          ],
          [
           "Llama-3.1-Instruct-8B"
          ],
          [
           "Mistral-Large-2-2024-07"
          ],
          [
           "GPT-4o-2024-08"
          ],
          [
           "Claude 2"
          ],
          [
           "Claude 2.1"
          ],
          [
           "Claude Instant"
          ],
          [
           "Gemini 1.0 Pro"
          ],
          [
           "Cohere Command"
          ],
          [
           "Command R"
          ],
          [
           "Command R+"
          ],
          [
           "Cohere Command Light"
          ],
          [
           "DeepSeek-Coder-V2 236B"
          ],
          [
           "Jamba 1.5-Large"
          ],
          [
           "o1-mini"
          ],
          [
           "o1-preview"
          ],
          [
           "Command R+"
          ],
          [
           "Reka Core"
          ],
          [
           "Mistral 7B"
          ],
          [
           "Llama-3.2-Instruct-3B"
          ],
          [
           "Gemini-1.5-Pro-2024-09"
          ],
          [
           "Llama-3.2-Instruct-1B"
          ],
          [
           "Gemini-1.5-Flash-2024-09"
          ],
          [
           "Gemini-1.5-Flash-8B"
          ],
          [
           "Claude-3.5-Sonnet-2024-10"
          ],
          [
           "Claude-3.5-Haiku"
          ],
          [
           "Mistral-Large-2-2024-11"
          ],
          [
           "GPT-4o-2024-11"
          ],
          [
           "Phi 4"
          ],
          [
           "o1"
          ],
          [
           "DeepSeek-V3"
          ],
          [
           "DeepSeek-R1"
          ],
          [
           "Mistral Small 3"
          ],
          [
           "o1-mini"
          ],
          [
           "o3-mini"
          ],
          [
           "Gemini 2.0 Flash"
          ]
         ],
         "hovertemplate": "Release Date=%{x}<br>MATH 5=%{y}<br>Model Name=%{customdata[0]}<extra></extra>",
         "legendgroup": "",
         "marker": {
          "color": "lightgray",
          "symbol": "circle"
         },
         "mode": "markers",
         "name": "",
         "orientation": "v",
         "showlegend": false,
         "type": "scatter",
         "x": [
          "2021-11-20T00:00:00",
          "2022-08-31T00:00:00",
          "2022-09-01T00:00:00",
          "2022-11-30T00:00:00",
          "2023-03-06T00:00:00",
          "2023-03-14T00:00:00",
          "2023-06-13T00:00:00",
          "2023-07-18T00:00:00",
          "2023-07-18T00:00:00",
          "2023-11-06T00:00:00",
          "2023-11-06T00:00:00",
          "2023-12-01T00:00:00",
          "2023-12-01T00:00:00",
          "2023-12-08T00:00:00",
          "2024-01-04T00:00:00",
          "2024-01-25T00:00:00",
          "2024-02-26T00:00:00",
          "2024-02-26T00:00:00",
          "2024-03-04T00:00:00",
          "2024-03-04T00:00:00",
          "2024-03-04T00:00:00",
          "2024-04-14T00:00:00",
          "2024-04-14T00:00:00",
          "2024-04-17T00:00:00",
          "2024-04-18T00:00:00",
          "2024-04-18T00:00:00",
          "2024-05-10T00:00:00",
          "2024-05-13T00:00:00",
          "2024-05-23T00:00:00",
          "2024-06-20T00:00:00",
          "2024-06-24T00:00:00",
          "2024-06-24T00:00:00",
          "2024-07-18T00:00:00",
          "2024-07-18T00:00:00",
          "2024-07-23T00:00:00",
          "2024-07-23T00:00:00",
          "2024-07-23T00:00:00",
          "2024-07-24T00:00:00",
          "2024-08-06T00:00:00",
          "2024-08-12T00:00:00",
          "2024-08-12T00:00:00",
          "2024-08-12T00:00:00",
          "2024-08-12T00:00:00",
          "2024-08-13T00:00:00",
          "2024-08-13T00:00:00",
          "2024-08-13T00:00:00",
          "2024-08-13T00:00:00",
          "2024-09-11T00:00:00",
          "2024-09-12T00:00:00",
          "2024-09-12T00:00:00",
          "2024-09-12T00:00:00",
          "2024-09-13T00:00:00",
          "2024-09-14T00:00:00",
          "2024-09-14T00:00:00",
          "2024-09-24T00:00:00",
          "2024-09-24T00:00:00",
          "2024-09-24T00:00:00",
          "2024-09-24T00:00:00",
          "2024-10-03T00:00:00",
          "2024-10-22T00:00:00",
          "2024-10-22T00:00:00",
          "2024-11-18T00:00:00",
          "2024-11-20T00:00:00",
          "2024-12-13T00:00:00",
          "2024-12-17T00:00:00",
          "2024-12-26T00:00:00",
          "2025-01-20T00:00:00",
          "2025-01-30T00:00:00",
          "2025-01-31T00:00:00",
          "2025-01-31T00:00:00",
          "2025-02-05T00:00:00"
         ],
         "xaxis": "x",
         "y": [
          null,
          null,
          null,
          null,
          null,
          null,
          15,
          null,
          null,
          15,
          36,
          3,
          null,
          null,
          null,
          11,
          21,
          null,
          13,
          16,
          34,
          null,
          null,
          23,
          8,
          22,
          23,
          48,
          41,
          46,
          18,
          23,
          48,
          10,
          39,
          45,
          22,
          45,
          47,
          10,
          11,
          null,
          11,
          null,
          null,
          null,
          null,
          null,
          null,
          84.3,
          68,
          null,
          null,
          3,
          null,
          67,
          null,
          58,
          null,
          53,
          null,
          null,
          50,
          65,
          94.4,
          65,
          93.1,
          45,
          84.3,
          95.2,
          82
         ],
         "yaxis": "y"
        },
        {
         "hovertemplate": "%{text}<extra></extra>",
         "line": {
          "color": "red"
         },
         "mode": "lines+markers",
         "name": "Top Model",
         "text": [
          "GPT-3",
          "GPT-3.5-Turbo-2023-06",
          "GPT-4 Turbo",
          "GPT-4o-2024-05",
          "o1-mini",
          "o1",
          "o3-mini"
         ],
         "type": "scatter",
         "x": [
          "2021-11-20T00:00:00",
          "2023-06-13T00:00:00",
          "2023-11-06T00:00:00",
          "2024-05-13T00:00:00",
          "2024-09-12T00:00:00",
          "2024-12-17T00:00:00",
          "2025-01-31T00:00:00"
         ],
         "y": [
          null,
          15,
          36,
          48,
          84.3,
          94.4,
          95.2
         ]
        }
       ],
       "layout": {
        "height": 400,
        "legend": {
         "tracegroupgap": 0
        },
        "template": {
         "data": {
          "bar": [
           {
            "error_x": {
             "color": "#2a3f5f"
            },
            "error_y": {
             "color": "#2a3f5f"
            },
            "marker": {
             "line": {
              "color": "white",
              "width": 0.5
             },
             "pattern": {
              "fillmode": "overlay",
              "size": 10,
              "solidity": 0.2
             }
            },
            "type": "bar"
           }
          ],
          "barpolar": [
           {
            "marker": {
             "line": {
              "color": "white",
              "width": 0.5
             },
             "pattern": {
              "fillmode": "overlay",
              "size": 10,
              "solidity": 0.2
             }
            },
            "type": "barpolar"
           }
          ],
          "carpet": [
           {
            "aaxis": {
             "endlinecolor": "#2a3f5f",
             "gridcolor": "#C8D4E3",
             "linecolor": "#C8D4E3",
             "minorgridcolor": "#C8D4E3",
             "startlinecolor": "#2a3f5f"
            },
            "baxis": {
             "endlinecolor": "#2a3f5f",
             "gridcolor": "#C8D4E3",
             "linecolor": "#C8D4E3",
             "minorgridcolor": "#C8D4E3",
             "startlinecolor": "#2a3f5f"
            },
            "type": "carpet"
           }
          ],
          "choropleth": [
           {
            "colorbar": {
             "outlinewidth": 0,
             "ticks": ""
            },
            "type": "choropleth"
           }
          ],
          "contour": [
           {
            "colorbar": {
             "outlinewidth": 0,
             "ticks": ""
            },
            "colorscale": [
             [
              0,
              "#0d0887"
             ],
             [
              0.1111111111111111,
              "#46039f"
             ],
             [
              0.2222222222222222,
              "#7201a8"
             ],
             [
              0.3333333333333333,
              "#9c179e"
             ],
             [
              0.4444444444444444,
              "#bd3786"
             ],
             [
              0.5555555555555556,
              "#d8576b"
             ],
             [
              0.6666666666666666,
              "#ed7953"
             ],
             [
              0.7777777777777778,
              "#fb9f3a"
             ],
             [
              0.8888888888888888,
              "#fdca26"
             ],
             [
              1,
              "#f0f921"
             ]
            ],
            "type": "contour"
           }
          ],
          "contourcarpet": [
           {
            "colorbar": {
             "outlinewidth": 0,
             "ticks": ""
            },
            "type": "contourcarpet"
           }
          ],
          "heatmap": [
           {
            "colorbar": {
             "outlinewidth": 0,
             "ticks": ""
            },
            "colorscale": [
             [
              0,
              "#0d0887"
             ],
             [
              0.1111111111111111,
              "#46039f"
             ],
             [
              0.2222222222222222,
              "#7201a8"
             ],
             [
              0.3333333333333333,
              "#9c179e"
             ],
             [
              0.4444444444444444,
              "#bd3786"
             ],
             [
              0.5555555555555556,
              "#d8576b"
             ],
             [
              0.6666666666666666,
              "#ed7953"
             ],
             [
              0.7777777777777778,
              "#fb9f3a"
             ],
             [
              0.8888888888888888,
              "#fdca26"
             ],
             [
              1,
              "#f0f921"
             ]
            ],
            "type": "heatmap"
           }
          ],
          "heatmapgl": [
           {
            "colorbar": {
             "outlinewidth": 0,
             "ticks": ""
            },
            "colorscale": [
             [
              0,
              "#0d0887"
             ],
             [
              0.1111111111111111,
              "#46039f"
             ],
             [
              0.2222222222222222,
              "#7201a8"
             ],
             [
              0.3333333333333333,
              "#9c179e"
             ],
             [
              0.4444444444444444,
              "#bd3786"
             ],
             [
              0.5555555555555556,
              "#d8576b"
             ],
             [
              0.6666666666666666,
              "#ed7953"
             ],
             [
              0.7777777777777778,
              "#fb9f3a"
             ],
             [
              0.8888888888888888,
              "#fdca26"
             ],
             [
              1,
              "#f0f921"
             ]
            ],
            "type": "heatmapgl"
           }
          ],
          "histogram": [
           {
            "marker": {
             "pattern": {
              "fillmode": "overlay",
              "size": 10,
              "solidity": 0.2
             }
            },
            "type": "histogram"
           }
          ],
          "histogram2d": [
           {
            "colorbar": {
             "outlinewidth": 0,
             "ticks": ""
            },
            "colorscale": [
             [
              0,
              "#0d0887"
             ],
             [
              0.1111111111111111,
              "#46039f"
             ],
             [
              0.2222222222222222,
              "#7201a8"
             ],
             [
              0.3333333333333333,
              "#9c179e"
             ],
             [
              0.4444444444444444,
              "#bd3786"
             ],
             [
              0.5555555555555556,
              "#d8576b"
             ],
             [
              0.6666666666666666,
              "#ed7953"
             ],
             [
              0.7777777777777778,
              "#fb9f3a"
             ],
             [
              0.8888888888888888,
              "#fdca26"
             ],
             [
              1,
              "#f0f921"
             ]
            ],
            "type": "histogram2d"
           }
          ],
          "histogram2dcontour": [
           {
            "colorbar": {
             "outlinewidth": 0,
             "ticks": ""
            },
            "colorscale": [
             [
              0,
              "#0d0887"
             ],
             [
              0.1111111111111111,
              "#46039f"
             ],
             [
              0.2222222222222222,
              "#7201a8"
             ],
             [
              0.3333333333333333,
              "#9c179e"
             ],
             [
              0.4444444444444444,
              "#bd3786"
             ],
             [
              0.5555555555555556,
              "#d8576b"
             ],
             [
              0.6666666666666666,
              "#ed7953"
             ],
             [
              0.7777777777777778,
              "#fb9f3a"
             ],
             [
              0.8888888888888888,
              "#fdca26"
             ],
             [
              1,
              "#f0f921"
             ]
            ],
            "type": "histogram2dcontour"
           }
          ],
          "mesh3d": [
           {
            "colorbar": {
             "outlinewidth": 0,
             "ticks": ""
            },
            "type": "mesh3d"
           }
          ],
          "parcoords": [
           {
            "line": {
             "colorbar": {
              "outlinewidth": 0,
              "ticks": ""
             }
            },
            "type": "parcoords"
           }
          ],
          "pie": [
           {
            "automargin": true,
            "type": "pie"
           }
          ],
          "scatter": [
           {
            "fillpattern": {
             "fillmode": "overlay",
             "size": 10,
             "solidity": 0.2
            },
            "type": "scatter"
           }
          ],
          "scatter3d": [
           {
            "line": {
             "colorbar": {
              "outlinewidth": 0,
              "ticks": ""
             }
            },
            "marker": {
             "colorbar": {
              "outlinewidth": 0,
              "ticks": ""
             }
            },
            "type": "scatter3d"
           }
          ],
          "scattercarpet": [
           {
            "marker": {
             "colorbar": {
              "outlinewidth": 0,
              "ticks": ""
             }
            },
            "type": "scattercarpet"
           }
          ],
          "scattergeo": [
           {
            "marker": {
             "colorbar": {
              "outlinewidth": 0,
              "ticks": ""
             }
            },
            "type": "scattergeo"
           }
          ],
          "scattergl": [
           {
            "marker": {
             "colorbar": {
              "outlinewidth": 0,
              "ticks": ""
             }
            },
            "type": "scattergl"
           }
          ],
          "scattermapbox": [
           {
            "marker": {
             "colorbar": {
              "outlinewidth": 0,
              "ticks": ""
             }
            },
            "type": "scattermapbox"
           }
          ],
          "scatterpolar": [
           {
            "marker": {
             "colorbar": {
              "outlinewidth": 0,
              "ticks": ""
             }
            },
            "type": "scatterpolar"
           }
          ],
          "scatterpolargl": [
           {
            "marker": {
             "colorbar": {
              "outlinewidth": 0,
              "ticks": ""
             }
            },
            "type": "scatterpolargl"
           }
          ],
          "scatterternary": [
           {
            "marker": {
             "colorbar": {
              "outlinewidth": 0,
              "ticks": ""
             }
            },
            "type": "scatterternary"
           }
          ],
          "surface": [
           {
            "colorbar": {
             "outlinewidth": 0,
             "ticks": ""
            },
            "colorscale": [
             [
              0,
              "#0d0887"
             ],
             [
              0.1111111111111111,
              "#46039f"
             ],
             [
              0.2222222222222222,
              "#7201a8"
             ],
             [
              0.3333333333333333,
              "#9c179e"
             ],
             [
              0.4444444444444444,
              "#bd3786"
             ],
             [
              0.5555555555555556,
              "#d8576b"
             ],
             [
              0.6666666666666666,
              "#ed7953"
             ],
             [
              0.7777777777777778,
              "#fb9f3a"
             ],
             [
              0.8888888888888888,
              "#fdca26"
             ],
             [
              1,
              "#f0f921"
             ]
            ],
            "type": "surface"
           }
          ],
          "table": [
           {
            "cells": {
             "fill": {
              "color": "#EBF0F8"
             },
             "line": {
              "color": "white"
             }
            },
            "header": {
             "fill": {
              "color": "#C8D4E3"
             },
             "line": {
              "color": "white"
             }
            },
            "type": "table"
           }
          ]
         },
         "layout": {
          "annotationdefaults": {
           "arrowcolor": "#2a3f5f",
           "arrowhead": 0,
           "arrowwidth": 1
          },
          "autotypenumbers": "strict",
          "coloraxis": {
           "colorbar": {
            "outlinewidth": 0,
            "ticks": ""
           }
          },
          "colorscale": {
           "diverging": [
            [
             0,
             "#8e0152"
            ],
            [
             0.1,
             "#c51b7d"
            ],
            [
             0.2,
             "#de77ae"
            ],
            [
             0.3,
             "#f1b6da"
            ],
            [
             0.4,
             "#fde0ef"
            ],
            [
             0.5,
             "#f7f7f7"
            ],
            [
             0.6,
             "#e6f5d0"
            ],
            [
             0.7,
             "#b8e186"
            ],
            [
             0.8,
             "#7fbc41"
            ],
            [
             0.9,
             "#4d9221"
            ],
            [
             1,
             "#276419"
            ]
           ],
           "sequential": [
            [
             0,
             "#0d0887"
            ],
            [
             0.1111111111111111,
             "#46039f"
            ],
            [
             0.2222222222222222,
             "#7201a8"
            ],
            [
             0.3333333333333333,
             "#9c179e"
            ],
            [
             0.4444444444444444,
             "#bd3786"
            ],
            [
             0.5555555555555556,
             "#d8576b"
            ],
            [
             0.6666666666666666,
             "#ed7953"
            ],
            [
             0.7777777777777778,
             "#fb9f3a"
            ],
            [
             0.8888888888888888,
             "#fdca26"
            ],
            [
             1,
             "#f0f921"
            ]
           ],
           "sequentialminus": [
            [
             0,
             "#0d0887"
            ],
            [
             0.1111111111111111,
             "#46039f"
            ],
            [
             0.2222222222222222,
             "#7201a8"
            ],
            [
             0.3333333333333333,
             "#9c179e"
            ],
            [
             0.4444444444444444,
             "#bd3786"
            ],
            [
             0.5555555555555556,
             "#d8576b"
            ],
            [
             0.6666666666666666,
             "#ed7953"
            ],
            [
             0.7777777777777778,
             "#fb9f3a"
            ],
            [
             0.8888888888888888,
             "#fdca26"
            ],
            [
             1,
             "#f0f921"
            ]
           ]
          },
          "colorway": [
           "#636efa",
           "#EF553B",
           "#00cc96",
           "#ab63fa",
           "#FFA15A",
           "#19d3f3",
           "#FF6692",
           "#B6E880",
           "#FF97FF",
           "#FECB52"
          ],
          "font": {
           "color": "#2a3f5f"
          },
          "geo": {
           "bgcolor": "white",
           "lakecolor": "white",
           "landcolor": "white",
           "showlakes": true,
           "showland": true,
           "subunitcolor": "#C8D4E3"
          },
          "hoverlabel": {
           "align": "left"
          },
          "hovermode": "closest",
          "mapbox": {
           "style": "light"
          },
          "paper_bgcolor": "white",
          "plot_bgcolor": "white",
          "polar": {
           "angularaxis": {
            "gridcolor": "#EBF0F8",
            "linecolor": "#EBF0F8",
            "ticks": ""
           },
           "bgcolor": "white",
           "radialaxis": {
            "gridcolor": "#EBF0F8",
            "linecolor": "#EBF0F8",
            "ticks": ""
           }
          },
          "scene": {
           "xaxis": {
            "backgroundcolor": "white",
            "gridcolor": "#DFE8F3",
            "gridwidth": 2,
            "linecolor": "#EBF0F8",
            "showbackground": true,
            "ticks": "",
            "zerolinecolor": "#EBF0F8"
           },
           "yaxis": {
            "backgroundcolor": "white",
            "gridcolor": "#DFE8F3",
            "gridwidth": 2,
            "linecolor": "#EBF0F8",
            "showbackground": true,
            "ticks": "",
            "zerolinecolor": "#EBF0F8"
           },
           "zaxis": {
            "backgroundcolor": "white",
            "gridcolor": "#DFE8F3",
            "gridwidth": 2,
            "linecolor": "#EBF0F8",
            "showbackground": true,
            "ticks": "",
            "zerolinecolor": "#EBF0F8"
           }
          },
          "shapedefaults": {
           "line": {
            "color": "#2a3f5f"
           }
          },
          "ternary": {
           "aaxis": {
            "gridcolor": "#DFE8F3",
            "linecolor": "#A2B1C6",
            "ticks": ""
           },
           "baxis": {
            "gridcolor": "#DFE8F3",
            "linecolor": "#A2B1C6",
            "ticks": ""
           },
           "bgcolor": "white",
           "caxis": {
            "gridcolor": "#DFE8F3",
            "linecolor": "#A2B1C6",
            "ticks": ""
           }
          },
          "title": {
           "x": 0.05
          },
          "xaxis": {
           "automargin": true,
           "gridcolor": "#EBF0F8",
           "linecolor": "#EBF0F8",
           "ticks": "",
           "title": {
            "standoff": 15
           },
           "zerolinecolor": "#EBF0F8",
           "zerolinewidth": 2
          },
          "yaxis": {
           "automargin": true,
           "gridcolor": "#EBF0F8",
           "linecolor": "#EBF0F8",
           "ticks": "",
           "title": {
            "standoff": 15
           },
           "zerolinecolor": "#EBF0F8",
           "zerolinewidth": 2
          }
         }
        },
        "title": {
         "text": "MATH 5 Performance over time"
        },
        "width": 800,
        "xaxis": {
         "anchor": "y",
         "domain": [
          0,
          1
         ],
         "title": {
          "text": "Release Date"
         }
        },
        "yaxis": {
         "anchor": "x",
         "domain": [
          0,
          1
         ],
         "title": {
          "text": "MATH 5"
         }
        }
       }
      }
     },
     "metadata": {},
     "output_type": "display_data"
    },
    {
     "name": "stdout",
     "output_type": "stream",
     "text": [
      "['GPT-4 Turbo (2023-11)', 'GPT-3.5-Turbo-2023-06 (2023-06)', 'DeepSeek-R1 (2025-01)', 'GPT-4o-2024-05 (2024-05)', 'o1-mini (2024-09)', 'GPT-4-0314 (2023-03)', 'GPT-3 (2021-11)']\n"
     ]
    },
    {
     "data": {
      "application/vnd.plotly.v1+json": {
       "config": {
        "plotlyServerURL": "https://plot.ly"
       },
       "data": [
        {
         "customdata": [
          [
           "GPT-3"
          ],
          [
           "GPT-3"
          ],
          [
           "GPT-3"
          ],
          [
           "GPT-3.5"
          ],
          [
           "GPT-3.5 Turbo"
          ],
          [
           "GPT-4-0314"
          ],
          [
           "GPT-3.5-Turbo-2023-06"
          ],
          [
           "Llama-2-Chat-13B"
          ],
          [
           "Llama-2-Chat-7B"
          ],
          [
           "GPT-3.5-Turbo-2023-11"
          ],
          [
           "GPT-4 Turbo"
          ],
          [
           "Llama 2-70B Chat"
          ],
          [
           "Llama 2-7B"
          ],
          [
           "Llama 2-13B"
          ],
          [
           "GPT-3"
          ],
          [
           "GPT-3.5-Turbo-2024-01"
          ],
          [
           "Mistral-Large-2024-02"
          ],
          [
           "Mistral-Small-2024-02"
          ],
          [
           "Claude-3-Haiku"
          ],
          [
           "Claude-3-Sonnet"
          ],
          [
           "Claude-3-Opus"
          ],
          [
           "Llama 2-13B"
          ],
          [
           "Llama 2-7B"
          ],
          [
           "Mistral-8x22"
          ],
          [
           "Llama-3-Instruct-8B"
          ],
          [
           "Llama-3-Instruct-70B"
          ],
          [
           "Gemini-1.5-Flash-2024-05"
          ],
          [
           "GPT-4o-2024-05"
          ],
          [
           "Gemini-1.5-Pro-2024-05"
          ],
          [
           "Claude-3.5-Sonnet-2024-06"
          ],
          [
           "Gemma-2-9B"
          ],
          [
           "Gemma-2-27B"
          ],
          [
           "GPT-4o-mini"
          ],
          [
           "Mistral-NeMo"
          ],
          [
           "Llama-3.1-Instruct-70B"
          ],
          [
           "Llama-3.1-Instruct-405B"
          ],
          [
           "Llama-3.1-Instruct-8B"
          ],
          [
           "Mistral-Large-2-2024-07"
          ],
          [
           "GPT-4o-2024-08"
          ],
          [
           "Claude 2"
          ],
          [
           "Claude 2.1"
          ],
          [
           "Claude Instant"
          ],
          [
           "Gemini 1.0 Pro"
          ],
          [
           "Cohere Command"
          ],
          [
           "Command R"
          ],
          [
           "Command R+"
          ],
          [
           "Cohere Command Light"
          ],
          [
           "DeepSeek-Coder-V2 236B"
          ],
          [
           "Jamba 1.5-Large"
          ],
          [
           "o1-mini"
          ],
          [
           "o1-preview"
          ],
          [
           "Command R+"
          ],
          [
           "Reka Core"
          ],
          [
           "Mistral 7B"
          ],
          [
           "Llama-3.2-Instruct-3B"
          ],
          [
           "Gemini-1.5-Pro-2024-09"
          ],
          [
           "Llama-3.2-Instruct-1B"
          ],
          [
           "Gemini-1.5-Flash-2024-09"
          ],
          [
           "Gemini-1.5-Flash-8B"
          ],
          [
           "Claude-3.5-Sonnet-2024-10"
          ],
          [
           "Claude-3.5-Haiku"
          ],
          [
           "Mistral-Large-2-2024-11"
          ],
          [
           "GPT-4o-2024-11"
          ],
          [
           "Phi 4"
          ],
          [
           "o1"
          ],
          [
           "DeepSeek-V3"
          ],
          [
           "DeepSeek-R1"
          ],
          [
           "Mistral Small 3"
          ],
          [
           "o1-mini"
          ],
          [
           "o3-mini"
          ],
          [
           "Gemini 2.0 Flash"
          ]
         ],
         "hovertemplate": "Release Date=%{x}<br>HumanEval=%{y}<br>Model Name=%{customdata[0]}<extra></extra>",
         "legendgroup": "",
         "marker": {
          "color": "lightgray",
          "symbol": "circle"
         },
         "mode": "markers",
         "name": "",
         "orientation": "v",
         "showlegend": false,
         "type": "scatter",
         "x": [
          "2021-11-20T00:00:00",
          "2022-08-31T00:00:00",
          "2022-09-01T00:00:00",
          "2022-11-30T00:00:00",
          "2023-03-06T00:00:00",
          "2023-03-14T00:00:00",
          "2023-06-13T00:00:00",
          "2023-07-18T00:00:00",
          "2023-07-18T00:00:00",
          "2023-11-06T00:00:00",
          "2023-11-06T00:00:00",
          "2023-12-01T00:00:00",
          "2023-12-01T00:00:00",
          "2023-12-08T00:00:00",
          "2024-01-04T00:00:00",
          "2024-01-25T00:00:00",
          "2024-02-26T00:00:00",
          "2024-02-26T00:00:00",
          "2024-03-04T00:00:00",
          "2024-03-04T00:00:00",
          "2024-03-04T00:00:00",
          "2024-04-14T00:00:00",
          "2024-04-14T00:00:00",
          "2024-04-17T00:00:00",
          "2024-04-18T00:00:00",
          "2024-04-18T00:00:00",
          "2024-05-10T00:00:00",
          "2024-05-13T00:00:00",
          "2024-05-23T00:00:00",
          "2024-06-20T00:00:00",
          "2024-06-24T00:00:00",
          "2024-06-24T00:00:00",
          "2024-07-18T00:00:00",
          "2024-07-18T00:00:00",
          "2024-07-23T00:00:00",
          "2024-07-23T00:00:00",
          "2024-07-23T00:00:00",
          "2024-07-24T00:00:00",
          "2024-08-06T00:00:00",
          "2024-08-12T00:00:00",
          "2024-08-12T00:00:00",
          "2024-08-12T00:00:00",
          "2024-08-12T00:00:00",
          "2024-08-13T00:00:00",
          "2024-08-13T00:00:00",
          "2024-08-13T00:00:00",
          "2024-08-13T00:00:00",
          "2024-09-11T00:00:00",
          "2024-09-12T00:00:00",
          "2024-09-12T00:00:00",
          "2024-09-12T00:00:00",
          "2024-09-13T00:00:00",
          "2024-09-14T00:00:00",
          "2024-09-14T00:00:00",
          "2024-09-24T00:00:00",
          "2024-09-24T00:00:00",
          "2024-09-24T00:00:00",
          "2024-09-24T00:00:00",
          "2024-10-03T00:00:00",
          "2024-10-22T00:00:00",
          "2024-10-22T00:00:00",
          "2024-11-18T00:00:00",
          "2024-11-20T00:00:00",
          "2024-12-13T00:00:00",
          "2024-12-17T00:00:00",
          "2024-12-26T00:00:00",
          "2025-01-20T00:00:00",
          "2025-01-30T00:00:00",
          "2025-01-31T00:00:00",
          "2025-01-31T00:00:00",
          "2025-02-05T00:00:00"
         ],
         "xaxis": "x",
         "y": [
          null,
          null,
          null,
          null,
          null,
          67,
          71,
          null,
          13,
          71,
          92,
          null,
          null,
          null,
          null,
          71,
          69,
          79,
          77,
          71,
          83,
          null,
          null,
          74,
          53,
          18,
          null,
          94,
          83,
          90,
          64,
          76,
          88,
          71,
          80,
          87,
          67,
          91,
          93,
          null,
          16,
          null,
          null,
          null,
          42,
          63,
          null,
          87,
          24,
          97,
          96,
          63,
          73,
          40,
          60,
          88,
          40,
          83,
          12,
          96,
          87,
          90,
          93,
          87,
          97,
          91,
          98,
          85,
          97,
          97,
          90
         ],
         "yaxis": "y"
        },
        {
         "hovertemplate": "%{text}<extra></extra>",
         "line": {
          "color": "red"
         },
         "mode": "lines+markers",
         "name": "Top Model",
         "text": [
          "GPT-3",
          "GPT-4-0314",
          "GPT-3.5-Turbo-2023-06",
          "GPT-4 Turbo",
          "GPT-4o-2024-05",
          "o1-mini",
          "DeepSeek-R1"
         ],
         "type": "scatter",
         "x": [
          "2021-11-20T00:00:00",
          "2023-03-14T00:00:00",
          "2023-06-13T00:00:00",
          "2023-11-06T00:00:00",
          "2024-05-13T00:00:00",
          "2024-09-12T00:00:00",
          "2025-01-20T00:00:00"
         ],
         "y": [
          null,
          67,
          71,
          92,
          94,
          97,
          98
         ]
        }
       ],
       "layout": {
        "height": 400,
        "legend": {
         "tracegroupgap": 0
        },
        "template": {
         "data": {
          "bar": [
           {
            "error_x": {
             "color": "#2a3f5f"
            },
            "error_y": {
             "color": "#2a3f5f"
            },
            "marker": {
             "line": {
              "color": "white",
              "width": 0.5
             },
             "pattern": {
              "fillmode": "overlay",
              "size": 10,
              "solidity": 0.2
             }
            },
            "type": "bar"
           }
          ],
          "barpolar": [
           {
            "marker": {
             "line": {
              "color": "white",
              "width": 0.5
             },
             "pattern": {
              "fillmode": "overlay",
              "size": 10,
              "solidity": 0.2
             }
            },
            "type": "barpolar"
           }
          ],
          "carpet": [
           {
            "aaxis": {
             "endlinecolor": "#2a3f5f",
             "gridcolor": "#C8D4E3",
             "linecolor": "#C8D4E3",
             "minorgridcolor": "#C8D4E3",
             "startlinecolor": "#2a3f5f"
            },
            "baxis": {
             "endlinecolor": "#2a3f5f",
             "gridcolor": "#C8D4E3",
             "linecolor": "#C8D4E3",
             "minorgridcolor": "#C8D4E3",
             "startlinecolor": "#2a3f5f"
            },
            "type": "carpet"
           }
          ],
          "choropleth": [
           {
            "colorbar": {
             "outlinewidth": 0,
             "ticks": ""
            },
            "type": "choropleth"
           }
          ],
          "contour": [
           {
            "colorbar": {
             "outlinewidth": 0,
             "ticks": ""
            },
            "colorscale": [
             [
              0,
              "#0d0887"
             ],
             [
              0.1111111111111111,
              "#46039f"
             ],
             [
              0.2222222222222222,
              "#7201a8"
             ],
             [
              0.3333333333333333,
              "#9c179e"
             ],
             [
              0.4444444444444444,
              "#bd3786"
             ],
             [
              0.5555555555555556,
              "#d8576b"
             ],
             [
              0.6666666666666666,
              "#ed7953"
             ],
             [
              0.7777777777777778,
              "#fb9f3a"
             ],
             [
              0.8888888888888888,
              "#fdca26"
             ],
             [
              1,
              "#f0f921"
             ]
            ],
            "type": "contour"
           }
          ],
          "contourcarpet": [
           {
            "colorbar": {
             "outlinewidth": 0,
             "ticks": ""
            },
            "type": "contourcarpet"
           }
          ],
          "heatmap": [
           {
            "colorbar": {
             "outlinewidth": 0,
             "ticks": ""
            },
            "colorscale": [
             [
              0,
              "#0d0887"
             ],
             [
              0.1111111111111111,
              "#46039f"
             ],
             [
              0.2222222222222222,
              "#7201a8"
             ],
             [
              0.3333333333333333,
              "#9c179e"
             ],
             [
              0.4444444444444444,
              "#bd3786"
             ],
             [
              0.5555555555555556,
              "#d8576b"
             ],
             [
              0.6666666666666666,
              "#ed7953"
             ],
             [
              0.7777777777777778,
              "#fb9f3a"
             ],
             [
              0.8888888888888888,
              "#fdca26"
             ],
             [
              1,
              "#f0f921"
             ]
            ],
            "type": "heatmap"
           }
          ],
          "heatmapgl": [
           {
            "colorbar": {
             "outlinewidth": 0,
             "ticks": ""
            },
            "colorscale": [
             [
              0,
              "#0d0887"
             ],
             [
              0.1111111111111111,
              "#46039f"
             ],
             [
              0.2222222222222222,
              "#7201a8"
             ],
             [
              0.3333333333333333,
              "#9c179e"
             ],
             [
              0.4444444444444444,
              "#bd3786"
             ],
             [
              0.5555555555555556,
              "#d8576b"
             ],
             [
              0.6666666666666666,
              "#ed7953"
             ],
             [
              0.7777777777777778,
              "#fb9f3a"
             ],
             [
              0.8888888888888888,
              "#fdca26"
             ],
             [
              1,
              "#f0f921"
             ]
            ],
            "type": "heatmapgl"
           }
          ],
          "histogram": [
           {
            "marker": {
             "pattern": {
              "fillmode": "overlay",
              "size": 10,
              "solidity": 0.2
             }
            },
            "type": "histogram"
           }
          ],
          "histogram2d": [
           {
            "colorbar": {
             "outlinewidth": 0,
             "ticks": ""
            },
            "colorscale": [
             [
              0,
              "#0d0887"
             ],
             [
              0.1111111111111111,
              "#46039f"
             ],
             [
              0.2222222222222222,
              "#7201a8"
             ],
             [
              0.3333333333333333,
              "#9c179e"
             ],
             [
              0.4444444444444444,
              "#bd3786"
             ],
             [
              0.5555555555555556,
              "#d8576b"
             ],
             [
              0.6666666666666666,
              "#ed7953"
             ],
             [
              0.7777777777777778,
              "#fb9f3a"
             ],
             [
              0.8888888888888888,
              "#fdca26"
             ],
             [
              1,
              "#f0f921"
             ]
            ],
            "type": "histogram2d"
           }
          ],
          "histogram2dcontour": [
           {
            "colorbar": {
             "outlinewidth": 0,
             "ticks": ""
            },
            "colorscale": [
             [
              0,
              "#0d0887"
             ],
             [
              0.1111111111111111,
              "#46039f"
             ],
             [
              0.2222222222222222,
              "#7201a8"
             ],
             [
              0.3333333333333333,
              "#9c179e"
             ],
             [
              0.4444444444444444,
              "#bd3786"
             ],
             [
              0.5555555555555556,
              "#d8576b"
             ],
             [
              0.6666666666666666,
              "#ed7953"
             ],
             [
              0.7777777777777778,
              "#fb9f3a"
             ],
             [
              0.8888888888888888,
              "#fdca26"
             ],
             [
              1,
              "#f0f921"
             ]
            ],
            "type": "histogram2dcontour"
           }
          ],
          "mesh3d": [
           {
            "colorbar": {
             "outlinewidth": 0,
             "ticks": ""
            },
            "type": "mesh3d"
           }
          ],
          "parcoords": [
           {
            "line": {
             "colorbar": {
              "outlinewidth": 0,
              "ticks": ""
             }
            },
            "type": "parcoords"
           }
          ],
          "pie": [
           {
            "automargin": true,
            "type": "pie"
           }
          ],
          "scatter": [
           {
            "fillpattern": {
             "fillmode": "overlay",
             "size": 10,
             "solidity": 0.2
            },
            "type": "scatter"
           }
          ],
          "scatter3d": [
           {
            "line": {
             "colorbar": {
              "outlinewidth": 0,
              "ticks": ""
             }
            },
            "marker": {
             "colorbar": {
              "outlinewidth": 0,
              "ticks": ""
             }
            },
            "type": "scatter3d"
           }
          ],
          "scattercarpet": [
           {
            "marker": {
             "colorbar": {
              "outlinewidth": 0,
              "ticks": ""
             }
            },
            "type": "scattercarpet"
           }
          ],
          "scattergeo": [
           {
            "marker": {
             "colorbar": {
              "outlinewidth": 0,
              "ticks": ""
             }
            },
            "type": "scattergeo"
           }
          ],
          "scattergl": [
           {
            "marker": {
             "colorbar": {
              "outlinewidth": 0,
              "ticks": ""
             }
            },
            "type": "scattergl"
           }
          ],
          "scattermapbox": [
           {
            "marker": {
             "colorbar": {
              "outlinewidth": 0,
              "ticks": ""
             }
            },
            "type": "scattermapbox"
           }
          ],
          "scatterpolar": [
           {
            "marker": {
             "colorbar": {
              "outlinewidth": 0,
              "ticks": ""
             }
            },
            "type": "scatterpolar"
           }
          ],
          "scatterpolargl": [
           {
            "marker": {
             "colorbar": {
              "outlinewidth": 0,
              "ticks": ""
             }
            },
            "type": "scatterpolargl"
           }
          ],
          "scatterternary": [
           {
            "marker": {
             "colorbar": {
              "outlinewidth": 0,
              "ticks": ""
             }
            },
            "type": "scatterternary"
           }
          ],
          "surface": [
           {
            "colorbar": {
             "outlinewidth": 0,
             "ticks": ""
            },
            "colorscale": [
             [
              0,
              "#0d0887"
             ],
             [
              0.1111111111111111,
              "#46039f"
             ],
             [
              0.2222222222222222,
              "#7201a8"
             ],
             [
              0.3333333333333333,
              "#9c179e"
             ],
             [
              0.4444444444444444,
              "#bd3786"
             ],
             [
              0.5555555555555556,
              "#d8576b"
             ],
             [
              0.6666666666666666,
              "#ed7953"
             ],
             [
              0.7777777777777778,
              "#fb9f3a"
             ],
             [
              0.8888888888888888,
              "#fdca26"
             ],
             [
              1,
              "#f0f921"
             ]
            ],
            "type": "surface"
           }
          ],
          "table": [
           {
            "cells": {
             "fill": {
              "color": "#EBF0F8"
             },
             "line": {
              "color": "white"
             }
            },
            "header": {
             "fill": {
              "color": "#C8D4E3"
             },
             "line": {
              "color": "white"
             }
            },
            "type": "table"
           }
          ]
         },
         "layout": {
          "annotationdefaults": {
           "arrowcolor": "#2a3f5f",
           "arrowhead": 0,
           "arrowwidth": 1
          },
          "autotypenumbers": "strict",
          "coloraxis": {
           "colorbar": {
            "outlinewidth": 0,
            "ticks": ""
           }
          },
          "colorscale": {
           "diverging": [
            [
             0,
             "#8e0152"
            ],
            [
             0.1,
             "#c51b7d"
            ],
            [
             0.2,
             "#de77ae"
            ],
            [
             0.3,
             "#f1b6da"
            ],
            [
             0.4,
             "#fde0ef"
            ],
            [
             0.5,
             "#f7f7f7"
            ],
            [
             0.6,
             "#e6f5d0"
            ],
            [
             0.7,
             "#b8e186"
            ],
            [
             0.8,
             "#7fbc41"
            ],
            [
             0.9,
             "#4d9221"
            ],
            [
             1,
             "#276419"
            ]
           ],
           "sequential": [
            [
             0,
             "#0d0887"
            ],
            [
             0.1111111111111111,
             "#46039f"
            ],
            [
             0.2222222222222222,
             "#7201a8"
            ],
            [
             0.3333333333333333,
             "#9c179e"
            ],
            [
             0.4444444444444444,
             "#bd3786"
            ],
            [
             0.5555555555555556,
             "#d8576b"
            ],
            [
             0.6666666666666666,
             "#ed7953"
            ],
            [
             0.7777777777777778,
             "#fb9f3a"
            ],
            [
             0.8888888888888888,
             "#fdca26"
            ],
            [
             1,
             "#f0f921"
            ]
           ],
           "sequentialminus": [
            [
             0,
             "#0d0887"
            ],
            [
             0.1111111111111111,
             "#46039f"
            ],
            [
             0.2222222222222222,
             "#7201a8"
            ],
            [
             0.3333333333333333,
             "#9c179e"
            ],
            [
             0.4444444444444444,
             "#bd3786"
            ],
            [
             0.5555555555555556,
             "#d8576b"
            ],
            [
             0.6666666666666666,
             "#ed7953"
            ],
            [
             0.7777777777777778,
             "#fb9f3a"
            ],
            [
             0.8888888888888888,
             "#fdca26"
            ],
            [
             1,
             "#f0f921"
            ]
           ]
          },
          "colorway": [
           "#636efa",
           "#EF553B",
           "#00cc96",
           "#ab63fa",
           "#FFA15A",
           "#19d3f3",
           "#FF6692",
           "#B6E880",
           "#FF97FF",
           "#FECB52"
          ],
          "font": {
           "color": "#2a3f5f"
          },
          "geo": {
           "bgcolor": "white",
           "lakecolor": "white",
           "landcolor": "white",
           "showlakes": true,
           "showland": true,
           "subunitcolor": "#C8D4E3"
          },
          "hoverlabel": {
           "align": "left"
          },
          "hovermode": "closest",
          "mapbox": {
           "style": "light"
          },
          "paper_bgcolor": "white",
          "plot_bgcolor": "white",
          "polar": {
           "angularaxis": {
            "gridcolor": "#EBF0F8",
            "linecolor": "#EBF0F8",
            "ticks": ""
           },
           "bgcolor": "white",
           "radialaxis": {
            "gridcolor": "#EBF0F8",
            "linecolor": "#EBF0F8",
            "ticks": ""
           }
          },
          "scene": {
           "xaxis": {
            "backgroundcolor": "white",
            "gridcolor": "#DFE8F3",
            "gridwidth": 2,
            "linecolor": "#EBF0F8",
            "showbackground": true,
            "ticks": "",
            "zerolinecolor": "#EBF0F8"
           },
           "yaxis": {
            "backgroundcolor": "white",
            "gridcolor": "#DFE8F3",
            "gridwidth": 2,
            "linecolor": "#EBF0F8",
            "showbackground": true,
            "ticks": "",
            "zerolinecolor": "#EBF0F8"
           },
           "zaxis": {
            "backgroundcolor": "white",
            "gridcolor": "#DFE8F3",
            "gridwidth": 2,
            "linecolor": "#EBF0F8",
            "showbackground": true,
            "ticks": "",
            "zerolinecolor": "#EBF0F8"
           }
          },
          "shapedefaults": {
           "line": {
            "color": "#2a3f5f"
           }
          },
          "ternary": {
           "aaxis": {
            "gridcolor": "#DFE8F3",
            "linecolor": "#A2B1C6",
            "ticks": ""
           },
           "baxis": {
            "gridcolor": "#DFE8F3",
            "linecolor": "#A2B1C6",
            "ticks": ""
           },
           "bgcolor": "white",
           "caxis": {
            "gridcolor": "#DFE8F3",
            "linecolor": "#A2B1C6",
            "ticks": ""
           }
          },
          "title": {
           "x": 0.05
          },
          "xaxis": {
           "automargin": true,
           "gridcolor": "#EBF0F8",
           "linecolor": "#EBF0F8",
           "ticks": "",
           "title": {
            "standoff": 15
           },
           "zerolinecolor": "#EBF0F8",
           "zerolinewidth": 2
          },
          "yaxis": {
           "automargin": true,
           "gridcolor": "#EBF0F8",
           "linecolor": "#EBF0F8",
           "ticks": "",
           "title": {
            "standoff": 15
           },
           "zerolinecolor": "#EBF0F8",
           "zerolinewidth": 2
          }
         }
        },
        "title": {
         "text": "HumanEval Performance over time"
        },
        "width": 800,
        "xaxis": {
         "anchor": "y",
         "domain": [
          0,
          1
         ],
         "title": {
          "text": "Release Date"
         }
        },
        "yaxis": {
         "anchor": "x",
         "domain": [
          0,
          1
         ],
         "title": {
          "text": "HumanEval"
         }
        }
       }
      }
     },
     "metadata": {},
     "output_type": "display_data"
    },
    {
     "name": "stdout",
     "output_type": "stream",
     "text": [
      "['GPT-4 Turbo (2023-11)', 'GPT-4o-2024-08 (2024-08)', 'DeepSeek-R1 (2025-01)', 'GPT-3.5 Turbo (2023-03)', 'GPT-4o-2024-05 (2024-05)', 'GPT-4-0314 (2023-03)', 'GPT-3 (2021-11)', 'GPT-4o-2024-11 (2024-11)']\n"
     ]
    },
    {
     "data": {
      "application/vnd.plotly.v1+json": {
       "config": {
        "plotlyServerURL": "https://plot.ly"
       },
       "data": [
        {
         "customdata": [
          [
           "GPT-3"
          ],
          [
           "GPT-3"
          ],
          [
           "GPT-3"
          ],
          [
           "GPT-3.5"
          ],
          [
           "GPT-3.5 Turbo"
          ],
          [
           "GPT-4-0314"
          ],
          [
           "GPT-3.5-Turbo-2023-06"
          ],
          [
           "Llama-2-Chat-13B"
          ],
          [
           "Llama-2-Chat-7B"
          ],
          [
           "GPT-3.5-Turbo-2023-11"
          ],
          [
           "GPT-4 Turbo"
          ],
          [
           "Llama 2-70B Chat"
          ],
          [
           "Llama 2-7B"
          ],
          [
           "Llama 2-13B"
          ],
          [
           "GPT-3"
          ],
          [
           "GPT-3.5-Turbo-2024-01"
          ],
          [
           "Mistral-Large-2024-02"
          ],
          [
           "Mistral-Small-2024-02"
          ],
          [
           "Claude-3-Haiku"
          ],
          [
           "Claude-3-Sonnet"
          ],
          [
           "Claude-3-Opus"
          ],
          [
           "Llama 2-13B"
          ],
          [
           "Llama 2-7B"
          ],
          [
           "Mistral-8x22"
          ],
          [
           "Llama-3-Instruct-8B"
          ],
          [
           "Llama-3-Instruct-70B"
          ],
          [
           "Gemini-1.5-Flash-2024-05"
          ],
          [
           "GPT-4o-2024-05"
          ],
          [
           "Gemini-1.5-Pro-2024-05"
          ],
          [
           "Claude-3.5-Sonnet-2024-06"
          ],
          [
           "Gemma-2-9B"
          ],
          [
           "Gemma-2-27B"
          ],
          [
           "GPT-4o-mini"
          ],
          [
           "Mistral-NeMo"
          ],
          [
           "Llama-3.1-Instruct-70B"
          ],
          [
           "Llama-3.1-Instruct-405B"
          ],
          [
           "Llama-3.1-Instruct-8B"
          ],
          [
           "Mistral-Large-2-2024-07"
          ],
          [
           "GPT-4o-2024-08"
          ],
          [
           "Claude 2"
          ],
          [
           "Claude 2.1"
          ],
          [
           "Claude Instant"
          ],
          [
           "Gemini 1.0 Pro"
          ],
          [
           "Cohere Command"
          ],
          [
           "Command R"
          ],
          [
           "Command R+"
          ],
          [
           "Cohere Command Light"
          ],
          [
           "DeepSeek-Coder-V2 236B"
          ],
          [
           "Jamba 1.5-Large"
          ],
          [
           "o1-mini"
          ],
          [
           "o1-preview"
          ],
          [
           "Command R+"
          ],
          [
           "Reka Core"
          ],
          [
           "Mistral 7B"
          ],
          [
           "Llama-3.2-Instruct-3B"
          ],
          [
           "Gemini-1.5-Pro-2024-09"
          ],
          [
           "Llama-3.2-Instruct-1B"
          ],
          [
           "Gemini-1.5-Flash-2024-09"
          ],
          [
           "Gemini-1.5-Flash-8B"
          ],
          [
           "Claude-3.5-Sonnet-2024-10"
          ],
          [
           "Claude-3.5-Haiku"
          ],
          [
           "Mistral-Large-2-2024-11"
          ],
          [
           "GPT-4o-2024-11"
          ],
          [
           "Phi 4"
          ],
          [
           "o1"
          ],
          [
           "DeepSeek-V3"
          ],
          [
           "DeepSeek-R1"
          ],
          [
           "Mistral Small 3"
          ],
          [
           "o1-mini"
          ],
          [
           "o3-mini"
          ],
          [
           "Gemini 2.0 Flash"
          ]
         ],
         "hovertemplate": "Release Date=%{x}<br>LMSys Chatbot Arena ELO=%{y}<br>Model Name=%{customdata[0]}<extra></extra>",
         "legendgroup": "",
         "marker": {
          "color": "lightgray",
          "symbol": "circle"
         },
         "mode": "markers",
         "name": "",
         "orientation": "v",
         "showlegend": false,
         "type": "scatter",
         "x": [
          "2021-11-20T00:00:00",
          "2022-08-31T00:00:00",
          "2022-09-01T00:00:00",
          "2022-11-30T00:00:00",
          "2023-03-06T00:00:00",
          "2023-03-14T00:00:00",
          "2023-06-13T00:00:00",
          "2023-07-18T00:00:00",
          "2023-07-18T00:00:00",
          "2023-11-06T00:00:00",
          "2023-11-06T00:00:00",
          "2023-12-01T00:00:00",
          "2023-12-01T00:00:00",
          "2023-12-08T00:00:00",
          "2024-01-04T00:00:00",
          "2024-01-25T00:00:00",
          "2024-02-26T00:00:00",
          "2024-02-26T00:00:00",
          "2024-03-04T00:00:00",
          "2024-03-04T00:00:00",
          "2024-03-04T00:00:00",
          "2024-04-14T00:00:00",
          "2024-04-14T00:00:00",
          "2024-04-17T00:00:00",
          "2024-04-18T00:00:00",
          "2024-04-18T00:00:00",
          "2024-05-10T00:00:00",
          "2024-05-13T00:00:00",
          "2024-05-23T00:00:00",
          "2024-06-20T00:00:00",
          "2024-06-24T00:00:00",
          "2024-06-24T00:00:00",
          "2024-07-18T00:00:00",
          "2024-07-18T00:00:00",
          "2024-07-23T00:00:00",
          "2024-07-23T00:00:00",
          "2024-07-23T00:00:00",
          "2024-07-24T00:00:00",
          "2024-08-06T00:00:00",
          "2024-08-12T00:00:00",
          "2024-08-12T00:00:00",
          "2024-08-12T00:00:00",
          "2024-08-12T00:00:00",
          "2024-08-13T00:00:00",
          "2024-08-13T00:00:00",
          "2024-08-13T00:00:00",
          "2024-08-13T00:00:00",
          "2024-09-11T00:00:00",
          "2024-09-12T00:00:00",
          "2024-09-12T00:00:00",
          "2024-09-12T00:00:00",
          "2024-09-13T00:00:00",
          "2024-09-14T00:00:00",
          "2024-09-14T00:00:00",
          "2024-09-24T00:00:00",
          "2024-09-24T00:00:00",
          "2024-09-24T00:00:00",
          "2024-09-24T00:00:00",
          "2024-10-03T00:00:00",
          "2024-10-22T00:00:00",
          "2024-10-22T00:00:00",
          "2024-11-18T00:00:00",
          "2024-11-20T00:00:00",
          "2024-12-13T00:00:00",
          "2024-12-17T00:00:00",
          "2024-12-26T00:00:00",
          "2025-01-20T00:00:00",
          "2025-01-30T00:00:00",
          "2025-01-31T00:00:00",
          "2025-01-31T00:00:00",
          "2025-02-05T00:00:00"
         ],
         "xaxis": "x",
         "y": [
          null,
          null,
          null,
          null,
          1106,
          1186,
          1117,
          1063,
          1037,
          1107,
          1256,
          1093,
          null,
          null,
          null,
          1106,
          1157,
          null,
          1179,
          1201,
          1248,
          null,
          null,
          1148,
          1152,
          1206,
          1227,
          1285,
          1260,
          1268,
          1190,
          1219,
          1273,
          null,
          1249,
          1266,
          1172,
          1251,
          1337,
          null,
          null,
          null,
          1111,
          null,
          1180,
          1215,
          null,
          1178,
          1221,
          1308,
          1334,
          1215,
          1235,
          1008,
          1103,
          1301,
          1103,
          1271,
          1211,
          1282,
          1236,
          1247,
          1361,
          1204,
          1352,
          1318,
          1362,
          1210,
          1308,
          1306,
          1358
         ],
         "yaxis": "y"
        },
        {
         "hovertemplate": "%{text}<extra></extra>",
         "line": {
          "color": "red"
         },
         "mode": "lines+markers",
         "name": "Top Model",
         "text": [
          "GPT-3",
          "GPT-3.5 Turbo",
          "GPT-4-0314",
          "GPT-4 Turbo",
          "GPT-4o-2024-05",
          "GPT-4o-2024-08",
          "GPT-4o-2024-11",
          "DeepSeek-R1"
         ],
         "type": "scatter",
         "x": [
          "2021-11-20T00:00:00",
          "2023-03-06T00:00:00",
          "2023-03-14T00:00:00",
          "2023-11-06T00:00:00",
          "2024-05-13T00:00:00",
          "2024-08-06T00:00:00",
          "2024-11-20T00:00:00",
          "2025-01-20T00:00:00"
         ],
         "y": [
          null,
          1106,
          1186,
          1256,
          1285,
          1337,
          1361,
          1362
         ]
        }
       ],
       "layout": {
        "height": 400,
        "legend": {
         "tracegroupgap": 0
        },
        "template": {
         "data": {
          "bar": [
           {
            "error_x": {
             "color": "#2a3f5f"
            },
            "error_y": {
             "color": "#2a3f5f"
            },
            "marker": {
             "line": {
              "color": "white",
              "width": 0.5
             },
             "pattern": {
              "fillmode": "overlay",
              "size": 10,
              "solidity": 0.2
             }
            },
            "type": "bar"
           }
          ],
          "barpolar": [
           {
            "marker": {
             "line": {
              "color": "white",
              "width": 0.5
             },
             "pattern": {
              "fillmode": "overlay",
              "size": 10,
              "solidity": 0.2
             }
            },
            "type": "barpolar"
           }
          ],
          "carpet": [
           {
            "aaxis": {
             "endlinecolor": "#2a3f5f",
             "gridcolor": "#C8D4E3",
             "linecolor": "#C8D4E3",
             "minorgridcolor": "#C8D4E3",
             "startlinecolor": "#2a3f5f"
            },
            "baxis": {
             "endlinecolor": "#2a3f5f",
             "gridcolor": "#C8D4E3",
             "linecolor": "#C8D4E3",
             "minorgridcolor": "#C8D4E3",
             "startlinecolor": "#2a3f5f"
            },
            "type": "carpet"
           }
          ],
          "choropleth": [
           {
            "colorbar": {
             "outlinewidth": 0,
             "ticks": ""
            },
            "type": "choropleth"
           }
          ],
          "contour": [
           {
            "colorbar": {
             "outlinewidth": 0,
             "ticks": ""
            },
            "colorscale": [
             [
              0,
              "#0d0887"
             ],
             [
              0.1111111111111111,
              "#46039f"
             ],
             [
              0.2222222222222222,
              "#7201a8"
             ],
             [
              0.3333333333333333,
              "#9c179e"
             ],
             [
              0.4444444444444444,
              "#bd3786"
             ],
             [
              0.5555555555555556,
              "#d8576b"
             ],
             [
              0.6666666666666666,
              "#ed7953"
             ],
             [
              0.7777777777777778,
              "#fb9f3a"
             ],
             [
              0.8888888888888888,
              "#fdca26"
             ],
             [
              1,
              "#f0f921"
             ]
            ],
            "type": "contour"
           }
          ],
          "contourcarpet": [
           {
            "colorbar": {
             "outlinewidth": 0,
             "ticks": ""
            },
            "type": "contourcarpet"
           }
          ],
          "heatmap": [
           {
            "colorbar": {
             "outlinewidth": 0,
             "ticks": ""
            },
            "colorscale": [
             [
              0,
              "#0d0887"
             ],
             [
              0.1111111111111111,
              "#46039f"
             ],
             [
              0.2222222222222222,
              "#7201a8"
             ],
             [
              0.3333333333333333,
              "#9c179e"
             ],
             [
              0.4444444444444444,
              "#bd3786"
             ],
             [
              0.5555555555555556,
              "#d8576b"
             ],
             [
              0.6666666666666666,
              "#ed7953"
             ],
             [
              0.7777777777777778,
              "#fb9f3a"
             ],
             [
              0.8888888888888888,
              "#fdca26"
             ],
             [
              1,
              "#f0f921"
             ]
            ],
            "type": "heatmap"
           }
          ],
          "heatmapgl": [
           {
            "colorbar": {
             "outlinewidth": 0,
             "ticks": ""
            },
            "colorscale": [
             [
              0,
              "#0d0887"
             ],
             [
              0.1111111111111111,
              "#46039f"
             ],
             [
              0.2222222222222222,
              "#7201a8"
             ],
             [
              0.3333333333333333,
              "#9c179e"
             ],
             [
              0.4444444444444444,
              "#bd3786"
             ],
             [
              0.5555555555555556,
              "#d8576b"
             ],
             [
              0.6666666666666666,
              "#ed7953"
             ],
             [
              0.7777777777777778,
              "#fb9f3a"
             ],
             [
              0.8888888888888888,
              "#fdca26"
             ],
             [
              1,
              "#f0f921"
             ]
            ],
            "type": "heatmapgl"
           }
          ],
          "histogram": [
           {
            "marker": {
             "pattern": {
              "fillmode": "overlay",
              "size": 10,
              "solidity": 0.2
             }
            },
            "type": "histogram"
           }
          ],
          "histogram2d": [
           {
            "colorbar": {
             "outlinewidth": 0,
             "ticks": ""
            },
            "colorscale": [
             [
              0,
              "#0d0887"
             ],
             [
              0.1111111111111111,
              "#46039f"
             ],
             [
              0.2222222222222222,
              "#7201a8"
             ],
             [
              0.3333333333333333,
              "#9c179e"
             ],
             [
              0.4444444444444444,
              "#bd3786"
             ],
             [
              0.5555555555555556,
              "#d8576b"
             ],
             [
              0.6666666666666666,
              "#ed7953"
             ],
             [
              0.7777777777777778,
              "#fb9f3a"
             ],
             [
              0.8888888888888888,
              "#fdca26"
             ],
             [
              1,
              "#f0f921"
             ]
            ],
            "type": "histogram2d"
           }
          ],
          "histogram2dcontour": [
           {
            "colorbar": {
             "outlinewidth": 0,
             "ticks": ""
            },
            "colorscale": [
             [
              0,
              "#0d0887"
             ],
             [
              0.1111111111111111,
              "#46039f"
             ],
             [
              0.2222222222222222,
              "#7201a8"
             ],
             [
              0.3333333333333333,
              "#9c179e"
             ],
             [
              0.4444444444444444,
              "#bd3786"
             ],
             [
              0.5555555555555556,
              "#d8576b"
             ],
             [
              0.6666666666666666,
              "#ed7953"
             ],
             [
              0.7777777777777778,
              "#fb9f3a"
             ],
             [
              0.8888888888888888,
              "#fdca26"
             ],
             [
              1,
              "#f0f921"
             ]
            ],
            "type": "histogram2dcontour"
           }
          ],
          "mesh3d": [
           {
            "colorbar": {
             "outlinewidth": 0,
             "ticks": ""
            },
            "type": "mesh3d"
           }
          ],
          "parcoords": [
           {
            "line": {
             "colorbar": {
              "outlinewidth": 0,
              "ticks": ""
             }
            },
            "type": "parcoords"
           }
          ],
          "pie": [
           {
            "automargin": true,
            "type": "pie"
           }
          ],
          "scatter": [
           {
            "fillpattern": {
             "fillmode": "overlay",
             "size": 10,
             "solidity": 0.2
            },
            "type": "scatter"
           }
          ],
          "scatter3d": [
           {
            "line": {
             "colorbar": {
              "outlinewidth": 0,
              "ticks": ""
             }
            },
            "marker": {
             "colorbar": {
              "outlinewidth": 0,
              "ticks": ""
             }
            },
            "type": "scatter3d"
           }
          ],
          "scattercarpet": [
           {
            "marker": {
             "colorbar": {
              "outlinewidth": 0,
              "ticks": ""
             }
            },
            "type": "scattercarpet"
           }
          ],
          "scattergeo": [
           {
            "marker": {
             "colorbar": {
              "outlinewidth": 0,
              "ticks": ""
             }
            },
            "type": "scattergeo"
           }
          ],
          "scattergl": [
           {
            "marker": {
             "colorbar": {
              "outlinewidth": 0,
              "ticks": ""
             }
            },
            "type": "scattergl"
           }
          ],
          "scattermapbox": [
           {
            "marker": {
             "colorbar": {
              "outlinewidth": 0,
              "ticks": ""
             }
            },
            "type": "scattermapbox"
           }
          ],
          "scatterpolar": [
           {
            "marker": {
             "colorbar": {
              "outlinewidth": 0,
              "ticks": ""
             }
            },
            "type": "scatterpolar"
           }
          ],
          "scatterpolargl": [
           {
            "marker": {
             "colorbar": {
              "outlinewidth": 0,
              "ticks": ""
             }
            },
            "type": "scatterpolargl"
           }
          ],
          "scatterternary": [
           {
            "marker": {
             "colorbar": {
              "outlinewidth": 0,
              "ticks": ""
             }
            },
            "type": "scatterternary"
           }
          ],
          "surface": [
           {
            "colorbar": {
             "outlinewidth": 0,
             "ticks": ""
            },
            "colorscale": [
             [
              0,
              "#0d0887"
             ],
             [
              0.1111111111111111,
              "#46039f"
             ],
             [
              0.2222222222222222,
              "#7201a8"
             ],
             [
              0.3333333333333333,
              "#9c179e"
             ],
             [
              0.4444444444444444,
              "#bd3786"
             ],
             [
              0.5555555555555556,
              "#d8576b"
             ],
             [
              0.6666666666666666,
              "#ed7953"
             ],
             [
              0.7777777777777778,
              "#fb9f3a"
             ],
             [
              0.8888888888888888,
              "#fdca26"
             ],
             [
              1,
              "#f0f921"
             ]
            ],
            "type": "surface"
           }
          ],
          "table": [
           {
            "cells": {
             "fill": {
              "color": "#EBF0F8"
             },
             "line": {
              "color": "white"
             }
            },
            "header": {
             "fill": {
              "color": "#C8D4E3"
             },
             "line": {
              "color": "white"
             }
            },
            "type": "table"
           }
          ]
         },
         "layout": {
          "annotationdefaults": {
           "arrowcolor": "#2a3f5f",
           "arrowhead": 0,
           "arrowwidth": 1
          },
          "autotypenumbers": "strict",
          "coloraxis": {
           "colorbar": {
            "outlinewidth": 0,
            "ticks": ""
           }
          },
          "colorscale": {
           "diverging": [
            [
             0,
             "#8e0152"
            ],
            [
             0.1,
             "#c51b7d"
            ],
            [
             0.2,
             "#de77ae"
            ],
            [
             0.3,
             "#f1b6da"
            ],
            [
             0.4,
             "#fde0ef"
            ],
            [
             0.5,
             "#f7f7f7"
            ],
            [
             0.6,
             "#e6f5d0"
            ],
            [
             0.7,
             "#b8e186"
            ],
            [
             0.8,
             "#7fbc41"
            ],
            [
             0.9,
             "#4d9221"
            ],
            [
             1,
             "#276419"
            ]
           ],
           "sequential": [
            [
             0,
             "#0d0887"
            ],
            [
             0.1111111111111111,
             "#46039f"
            ],
            [
             0.2222222222222222,
             "#7201a8"
            ],
            [
             0.3333333333333333,
             "#9c179e"
            ],
            [
             0.4444444444444444,
             "#bd3786"
            ],
            [
             0.5555555555555556,
             "#d8576b"
            ],
            [
             0.6666666666666666,
             "#ed7953"
            ],
            [
             0.7777777777777778,
             "#fb9f3a"
            ],
            [
             0.8888888888888888,
             "#fdca26"
            ],
            [
             1,
             "#f0f921"
            ]
           ],
           "sequentialminus": [
            [
             0,
             "#0d0887"
            ],
            [
             0.1111111111111111,
             "#46039f"
            ],
            [
             0.2222222222222222,
             "#7201a8"
            ],
            [
             0.3333333333333333,
             "#9c179e"
            ],
            [
             0.4444444444444444,
             "#bd3786"
            ],
            [
             0.5555555555555556,
             "#d8576b"
            ],
            [
             0.6666666666666666,
             "#ed7953"
            ],
            [
             0.7777777777777778,
             "#fb9f3a"
            ],
            [
             0.8888888888888888,
             "#fdca26"
            ],
            [
             1,
             "#f0f921"
            ]
           ]
          },
          "colorway": [
           "#636efa",
           "#EF553B",
           "#00cc96",
           "#ab63fa",
           "#FFA15A",
           "#19d3f3",
           "#FF6692",
           "#B6E880",
           "#FF97FF",
           "#FECB52"
          ],
          "font": {
           "color": "#2a3f5f"
          },
          "geo": {
           "bgcolor": "white",
           "lakecolor": "white",
           "landcolor": "white",
           "showlakes": true,
           "showland": true,
           "subunitcolor": "#C8D4E3"
          },
          "hoverlabel": {
           "align": "left"
          },
          "hovermode": "closest",
          "mapbox": {
           "style": "light"
          },
          "paper_bgcolor": "white",
          "plot_bgcolor": "white",
          "polar": {
           "angularaxis": {
            "gridcolor": "#EBF0F8",
            "linecolor": "#EBF0F8",
            "ticks": ""
           },
           "bgcolor": "white",
           "radialaxis": {
            "gridcolor": "#EBF0F8",
            "linecolor": "#EBF0F8",
            "ticks": ""
           }
          },
          "scene": {
           "xaxis": {
            "backgroundcolor": "white",
            "gridcolor": "#DFE8F3",
            "gridwidth": 2,
            "linecolor": "#EBF0F8",
            "showbackground": true,
            "ticks": "",
            "zerolinecolor": "#EBF0F8"
           },
           "yaxis": {
            "backgroundcolor": "white",
            "gridcolor": "#DFE8F3",
            "gridwidth": 2,
            "linecolor": "#EBF0F8",
            "showbackground": true,
            "ticks": "",
            "zerolinecolor": "#EBF0F8"
           },
           "zaxis": {
            "backgroundcolor": "white",
            "gridcolor": "#DFE8F3",
            "gridwidth": 2,
            "linecolor": "#EBF0F8",
            "showbackground": true,
            "ticks": "",
            "zerolinecolor": "#EBF0F8"
           }
          },
          "shapedefaults": {
           "line": {
            "color": "#2a3f5f"
           }
          },
          "ternary": {
           "aaxis": {
            "gridcolor": "#DFE8F3",
            "linecolor": "#A2B1C6",
            "ticks": ""
           },
           "baxis": {
            "gridcolor": "#DFE8F3",
            "linecolor": "#A2B1C6",
            "ticks": ""
           },
           "bgcolor": "white",
           "caxis": {
            "gridcolor": "#DFE8F3",
            "linecolor": "#A2B1C6",
            "ticks": ""
           }
          },
          "title": {
           "x": 0.05
          },
          "xaxis": {
           "automargin": true,
           "gridcolor": "#EBF0F8",
           "linecolor": "#EBF0F8",
           "ticks": "",
           "title": {
            "standoff": 15
           },
           "zerolinecolor": "#EBF0F8",
           "zerolinewidth": 2
          },
          "yaxis": {
           "automargin": true,
           "gridcolor": "#EBF0F8",
           "linecolor": "#EBF0F8",
           "ticks": "",
           "title": {
            "standoff": 15
           },
           "zerolinecolor": "#EBF0F8",
           "zerolinewidth": 2
          }
         }
        },
        "title": {
         "text": "LMSys Chatbot Arena ELO Performance over time"
        },
        "width": 800,
        "xaxis": {
         "anchor": "y",
         "domain": [
          0,
          1
         ],
         "title": {
          "text": "Release Date"
         }
        },
        "yaxis": {
         "anchor": "x",
         "domain": [
          0,
          1
         ],
         "title": {
          "text": "LMSys Chatbot Arena ELO"
         }
        }
       }
      }
     },
     "metadata": {},
     "output_type": "display_data"
    }
   ],
   "source": [
    "top_n = 1\n",
    "aa_df = aa_df.sort_values(by='Release Date')\n",
    "\n",
    "top_models_df_lookup = {}\n",
    "for benchmark in benchmarks:\n",
    "    # Get the top-1 model by benchmark score at each point in time\n",
    "    ever_top_n_models = set()\n",
    "    unique_dates = aa_df['Release Date'].sort_values().unique()\n",
    "    for date in unique_dates:\n",
    "        df_up_to_date = aa_df[aa_df['Release Date'] <= date]\n",
    "        top_n_models = df_up_to_date.nlargest(top_n, benchmark)\n",
    "        top_n_model_names = top_n_models['Model Name and Date'].tolist()\n",
    "        ever_top_n_models.update(top_n_model_names)\n",
    "    ever_top_n_list = list(ever_top_n_models)\n",
    "    print(ever_top_n_list)\n",
    "    top_models_df = aa_df[aa_df['Model Name and Date'].isin(ever_top_n_list)]\n",
    "    top_models_df_lookup[benchmark] = top_models_df\n",
    "\n",
    "    # Create base scatter plot with all data\n",
    "    fig = px.scatter(aa_df, x='Release Date', y=benchmark, \n",
    "                    hover_data=['Model Name'], \n",
    "                    title=f'{benchmark} Performance over time',\n",
    "                    color_discrete_sequence=['lightgray'])\n",
    "\n",
    "    # Add top-1 models in a different color\n",
    "    fig.add_scatter(x=top_models_df['Release Date'], \n",
    "                    y=top_models_df[benchmark],\n",
    "                    mode='lines+markers',\n",
    "                    name='Top Model',\n",
    "                    hovertemplate='%{text}<extra></extra>',\n",
    "                    text=top_models_df['Model Name'],\n",
    "                    line=dict(color='red'))\n",
    "    fig.update_layout(\n",
    "        width=800,\n",
    "        height=400,\n",
    "    )\n",
    "    fig.show()"
   ]
  },
  {
   "cell_type": "code",
   "execution_count": 11,
   "metadata": {},
   "outputs": [
    {
     "data": {
      "text/plain": [
       "{'MMLU':                    Model Name Release Date  USD per 1M Tokens  MMLU  \\\n",
       " 0                       GPT-3   2021-11-20              60.00  43.9   \n",
       " 3                     GPT-3.5   2022-11-30              20.00  64.8   \n",
       " 4               GPT-3.5 Turbo   2023-03-06               2.00  68.0   \n",
       " 5                  GPT-4-0314   2023-03-14              37.50  86.0   \n",
       " 10                GPT-4 Turbo   2023-11-06              15.00  87.0   \n",
       " 29  Claude-3.5-Sonnet-2024-06   2024-06-20               6.00  88.0   \n",
       " 38             GPT-4o-2024-08   2024-08-06               4.38  89.0   \n",
       " \n",
       "     GPQA Diamond  HumanEval  MATH-500  LMSys Chatbot Arena ELO  MATH 5  \\\n",
       " 0            NaN        NaN       NaN                      NaN     NaN   \n",
       " 3            NaN        NaN       NaN                      NaN     NaN   \n",
       " 4            NaN        NaN       NaN                   1106.0     NaN   \n",
       " 5           33.0       67.0       NaN                   1186.0     NaN   \n",
       " 10          50.0       92.0      74.0                   1256.0    36.0   \n",
       " 29          56.0       90.0      71.0                   1268.0    46.0   \n",
       " 38          52.0       93.0      80.0                   1337.0    47.0   \n",
       " \n",
       "     Tokens per Second  Prefill Latency (s)  Prompt Length (tk)  \\\n",
       " 0                 NaN                  NaN                 NaN   \n",
       " 3                 NaN                  NaN                 NaN   \n",
       " 4                 NaN                  NaN                 NaN   \n",
       " 5                23.6                0.724              1000.0   \n",
       " 10               39.2                1.246              1000.0   \n",
       " 29               55.9                0.906              1000.0   \n",
       " 38               81.0                0.673              1000.0   \n",
       " \n",
       "                     Model Name and Date  \n",
       " 0                       GPT-3 (2021-11)  \n",
       " 3                     GPT-3.5 (2022-11)  \n",
       " 4               GPT-3.5 Turbo (2023-03)  \n",
       " 5                  GPT-4-0314 (2023-03)  \n",
       " 10                GPT-4 Turbo (2023-11)  \n",
       " 29  Claude-3.5-Sonnet-2024-06 (2024-06)  \n",
       " 38             GPT-4o-2024-08 (2024-08)  ,\n",
       " 'GPQA Diamond':                    Model Name Release Date  USD per 1M Tokens  MMLU  \\\n",
       " 0                       GPT-3   2021-11-20              60.00  43.9   \n",
       " 5                  GPT-4-0314   2023-03-14              37.50  86.0   \n",
       " 10                GPT-4 Turbo   2023-11-06              15.00  87.0   \n",
       " 27             GPT-4o-2024-05   2024-05-13               7.50  87.0   \n",
       " 29  Claude-3.5-Sonnet-2024-06   2024-06-20               6.00  88.0   \n",
       " 50                 o1-preview   2024-09-12              26.25   NaN   \n",
       " 64                         o1   2024-12-17              26.25   NaN   \n",
       " \n",
       "     GPQA Diamond  HumanEval  MATH-500  LMSys Chatbot Arena ELO  MATH 5  \\\n",
       " 0            NaN        NaN       NaN                      NaN     NaN   \n",
       " 5           33.0       67.0       NaN                   1186.0     NaN   \n",
       " 10          50.0       92.0      74.0                   1256.0    36.0   \n",
       " 27          53.0       94.0      79.0                   1285.0    48.0   \n",
       " 29          56.0       90.0      71.0                   1268.0    46.0   \n",
       " 50          69.7       96.0      92.0                   1334.0    68.0   \n",
       " 64          75.8       97.0      97.0                   1352.0    94.4   \n",
       " \n",
       "     Tokens per Second  Prefill Latency (s)  Prompt Length (tk)  \\\n",
       " 0                 NaN                  NaN                 NaN   \n",
       " 5                23.6                0.724              1000.0   \n",
       " 10               39.2                1.246              1000.0   \n",
       " 27               86.4                0.687              1000.0   \n",
       " 29               55.9                0.906              1000.0   \n",
       " 50                NaN                  NaN                 NaN   \n",
       " 64                NaN                  NaN                 NaN   \n",
       " \n",
       "                     Model Name and Date  \n",
       " 0                       GPT-3 (2021-11)  \n",
       " 5                  GPT-4-0314 (2023-03)  \n",
       " 10                GPT-4 Turbo (2023-11)  \n",
       " 27             GPT-4o-2024-05 (2024-05)  \n",
       " 29  Claude-3.5-Sonnet-2024-06 (2024-06)  \n",
       " 50                 o1-preview (2024-09)  \n",
       " 64                         o1 (2024-12)  ,\n",
       " 'MATH-500':                Model Name Release Date  USD per 1M Tokens  MMLU  GPQA Diamond  \\\n",
       " 0                   GPT-3   2021-11-20              60.00  43.9           NaN   \n",
       " 6   GPT-3.5-Turbo-2023-06   2023-06-13               3.25  68.0          28.8   \n",
       " 10            GPT-4 Turbo   2023-11-06              15.00  87.0          50.0   \n",
       " 27         GPT-4o-2024-05   2024-05-13               7.50  87.0          53.0   \n",
       " 38         GPT-4o-2024-08   2024-08-06               4.38  89.0          52.0   \n",
       " 49                o1-mini   2024-09-12               5.25   NaN          59.5   \n",
       " 64                     o1   2024-12-17              26.25   NaN          75.8   \n",
       " \n",
       "     HumanEval  MATH-500  LMSys Chatbot Arena ELO  MATH 5  Tokens per Second  \\\n",
       " 0         NaN       NaN                      NaN     NaN                NaN   \n",
       " 6        71.0      44.0                   1117.0    15.0                NaN   \n",
       " 10       92.0      74.0                   1256.0    36.0               39.2   \n",
       " 27       94.0      79.0                   1285.0    48.0               86.4   \n",
       " 38       93.0      80.0                   1337.0    47.0               81.0   \n",
       " 49       97.0      94.0                   1308.0    84.3                NaN   \n",
       " 64       97.0      97.0                   1352.0    94.4                NaN   \n",
       " \n",
       "     Prefill Latency (s)  Prompt Length (tk)              Model Name and Date  \n",
       " 0                   NaN                 NaN                  GPT-3 (2021-11)  \n",
       " 6                   NaN                 NaN  GPT-3.5-Turbo-2023-06 (2023-06)  \n",
       " 10                1.246              1000.0            GPT-4 Turbo (2023-11)  \n",
       " 27                0.687              1000.0         GPT-4o-2024-05 (2024-05)  \n",
       " 38                0.673              1000.0         GPT-4o-2024-08 (2024-08)  \n",
       " 49                  NaN                 NaN                o1-mini (2024-09)  \n",
       " 64                  NaN                 NaN                     o1 (2024-12)  ,\n",
       " 'MATH 5':                Model Name Release Date  USD per 1M Tokens  MMLU  GPQA Diamond  \\\n",
       " 0                   GPT-3   2021-11-20             60.000  43.9           NaN   \n",
       " 6   GPT-3.5-Turbo-2023-06   2023-06-13              3.250  68.0          28.8   \n",
       " 10            GPT-4 Turbo   2023-11-06             15.000  87.0          50.0   \n",
       " 27         GPT-4o-2024-05   2024-05-13              7.500  87.0          53.0   \n",
       " 49                o1-mini   2024-09-12              5.250   NaN          59.5   \n",
       " 64                     o1   2024-12-17             26.250   NaN          75.8   \n",
       " 68                o3-mini   2025-01-31              1.925   NaN          74.3   \n",
       " \n",
       "     HumanEval  MATH-500  LMSys Chatbot Arena ELO  MATH 5  Tokens per Second  \\\n",
       " 0         NaN       NaN                      NaN     NaN                NaN   \n",
       " 6        71.0      44.0                   1117.0    15.0                NaN   \n",
       " 10       92.0      74.0                   1256.0    36.0               39.2   \n",
       " 27       94.0      79.0                   1285.0    48.0               86.4   \n",
       " 49       97.0      94.0                   1308.0    84.3                NaN   \n",
       " 64       97.0      97.0                   1352.0    94.4                NaN   \n",
       " 68       97.0      97.0                   1306.0    95.2                NaN   \n",
       " \n",
       "     Prefill Latency (s)  Prompt Length (tk)              Model Name and Date  \n",
       " 0                   NaN                 NaN                  GPT-3 (2021-11)  \n",
       " 6                   NaN                 NaN  GPT-3.5-Turbo-2023-06 (2023-06)  \n",
       " 10                1.246              1000.0            GPT-4 Turbo (2023-11)  \n",
       " 27                0.687              1000.0         GPT-4o-2024-05 (2024-05)  \n",
       " 49                  NaN                 NaN                o1-mini (2024-09)  \n",
       " 64                  NaN                 NaN                     o1 (2024-12)  \n",
       " 68                  NaN                 NaN                o3-mini (2025-01)  ,\n",
       " 'HumanEval':                Model Name Release Date  USD per 1M Tokens  MMLU  GPQA Diamond  \\\n",
       " 0                   GPT-3   2021-11-20              60.00  43.9           NaN   \n",
       " 5              GPT-4-0314   2023-03-14              37.50  86.0          33.0   \n",
       " 6   GPT-3.5-Turbo-2023-06   2023-06-13               3.25  68.0          28.8   \n",
       " 10            GPT-4 Turbo   2023-11-06              15.00  87.0          50.0   \n",
       " 27         GPT-4o-2024-05   2024-05-13               7.50  87.0          53.0   \n",
       " 49                o1-mini   2024-09-12               5.25   NaN          59.5   \n",
       " 66            DeepSeek-R1   2025-01-20               0.96   NaN          71.7   \n",
       " \n",
       "     HumanEval  MATH-500  LMSys Chatbot Arena ELO  MATH 5  Tokens per Second  \\\n",
       " 0         NaN       NaN                      NaN     NaN                NaN   \n",
       " 5        67.0       NaN                   1186.0     NaN               23.6   \n",
       " 6        71.0      44.0                   1117.0    15.0                NaN   \n",
       " 10       92.0      74.0                   1256.0    36.0               39.2   \n",
       " 27       94.0      79.0                   1285.0    48.0               86.4   \n",
       " 49       97.0      94.0                   1308.0    84.3                NaN   \n",
       " 66       98.0      96.0                   1362.0    93.1                NaN   \n",
       " \n",
       "     Prefill Latency (s)  Prompt Length (tk)              Model Name and Date  \n",
       " 0                   NaN                 NaN                  GPT-3 (2021-11)  \n",
       " 5                 0.724              1000.0             GPT-4-0314 (2023-03)  \n",
       " 6                   NaN                 NaN  GPT-3.5-Turbo-2023-06 (2023-06)  \n",
       " 10                1.246              1000.0            GPT-4 Turbo (2023-11)  \n",
       " 27                0.687              1000.0         GPT-4o-2024-05 (2024-05)  \n",
       " 49                  NaN                 NaN                o1-mini (2024-09)  \n",
       " 66                  NaN                 NaN            DeepSeek-R1 (2025-01)  ,\n",
       " 'LMSys Chatbot Arena ELO':         Model Name Release Date  USD per 1M Tokens  MMLU  GPQA Diamond  \\\n",
       " 0            GPT-3   2021-11-20              60.00  43.9           NaN   \n",
       " 4    GPT-3.5 Turbo   2023-03-06               2.00  68.0           NaN   \n",
       " 5       GPT-4-0314   2023-03-14              37.50  86.0          33.0   \n",
       " 10     GPT-4 Turbo   2023-11-06              15.00  87.0          50.0   \n",
       " 27  GPT-4o-2024-05   2024-05-13               7.50  87.0          53.0   \n",
       " 38  GPT-4o-2024-08   2024-08-06               4.38  89.0          52.0   \n",
       " 62  GPT-4o-2024-11   2024-11-20               4.38  86.0          54.0   \n",
       " 66     DeepSeek-R1   2025-01-20               0.96   NaN          71.7   \n",
       " \n",
       "     HumanEval  MATH-500  LMSys Chatbot Arena ELO  MATH 5  Tokens per Second  \\\n",
       " 0         NaN       NaN                      NaN     NaN                NaN   \n",
       " 4         NaN       NaN                   1106.0     NaN                NaN   \n",
       " 5        67.0       NaN                   1186.0     NaN               23.6   \n",
       " 10       92.0      74.0                   1256.0    36.0               39.2   \n",
       " 27       94.0      79.0                   1285.0    48.0               86.4   \n",
       " 38       93.0      80.0                   1337.0    47.0               81.0   \n",
       " 62       93.0      76.0                   1361.0    50.0              148.9   \n",
       " 66       98.0      96.0                   1362.0    93.1                NaN   \n",
       " \n",
       "     Prefill Latency (s)  Prompt Length (tk)       Model Name and Date  \n",
       " 0                   NaN                 NaN           GPT-3 (2021-11)  \n",
       " 4                   NaN                 NaN   GPT-3.5 Turbo (2023-03)  \n",
       " 5                 0.724              1000.0      GPT-4-0314 (2023-03)  \n",
       " 10                1.246              1000.0     GPT-4 Turbo (2023-11)  \n",
       " 27                0.687              1000.0  GPT-4o-2024-05 (2024-05)  \n",
       " 38                0.673              1000.0  GPT-4o-2024-08 (2024-08)  \n",
       " 62                0.404              1000.0  GPT-4o-2024-11 (2024-11)  \n",
       " 66                  NaN                 NaN     DeepSeek-R1 (2025-01)  }"
      ]
     },
     "execution_count": 11,
     "metadata": {},
     "output_type": "execute_result"
    }
   ],
   "source": [
    "top_models_df_lookup"
   ]
  },
  {
   "cell_type": "markdown",
   "metadata": {},
   "source": [
    "### Price vs. performance"
   ]
  },
  {
   "cell_type": "code",
   "execution_count": 12,
   "metadata": {},
   "outputs": [
    {
     "data": {
      "application/vnd.plotly.v1+json": {
       "config": {
        "plotlyServerURL": "https://plot.ly"
       },
       "data": [
        {
         "customdata": [
          [
           "GPT-3"
          ],
          [
           "GPT-3"
          ],
          [
           "GPT-3"
          ],
          [
           "GPT-3.5"
          ],
          [
           "GPT-3.5 Turbo"
          ],
          [
           "GPT-4-0314"
          ],
          [
           "GPT-3.5-Turbo-2023-06"
          ],
          [
           "Llama-2-Chat-13B"
          ],
          [
           "Llama-2-Chat-7B"
          ],
          [
           "GPT-3.5-Turbo-2023-11"
          ],
          [
           "GPT-4 Turbo"
          ],
          [
           "Llama 2-70B Chat"
          ],
          [
           "Llama 2-7B"
          ],
          [
           "Llama 2-13B"
          ],
          [
           "GPT-3"
          ],
          [
           "GPT-3.5-Turbo-2024-01"
          ],
          [
           "Mistral-Large-2024-02"
          ],
          [
           "Mistral-Small-2024-02"
          ],
          [
           "Claude-3-Haiku"
          ],
          [
           "Claude-3-Sonnet"
          ],
          [
           "Claude-3-Opus"
          ],
          [
           "Llama 2-13B"
          ],
          [
           "Llama 2-7B"
          ],
          [
           "Mistral-8x22"
          ],
          [
           "Llama-3-Instruct-8B"
          ],
          [
           "Llama-3-Instruct-70B"
          ],
          [
           "Gemini-1.5-Flash-2024-05"
          ],
          [
           "GPT-4o-2024-05"
          ],
          [
           "Gemini-1.5-Pro-2024-05"
          ],
          [
           "Claude-3.5-Sonnet-2024-06"
          ],
          [
           "Gemma-2-9B"
          ],
          [
           "Gemma-2-27B"
          ],
          [
           "GPT-4o-mini"
          ],
          [
           "Mistral-NeMo"
          ],
          [
           "Llama-3.1-Instruct-70B"
          ],
          [
           "Llama-3.1-Instruct-405B"
          ],
          [
           "Llama-3.1-Instruct-8B"
          ],
          [
           "Mistral-Large-2-2024-07"
          ],
          [
           "GPT-4o-2024-08"
          ],
          [
           "Claude 2"
          ],
          [
           "Claude 2.1"
          ],
          [
           "Claude Instant"
          ],
          [
           "Gemini 1.0 Pro"
          ],
          [
           "Cohere Command"
          ],
          [
           "Command R"
          ],
          [
           "Command R+"
          ],
          [
           "Cohere Command Light"
          ],
          [
           "DeepSeek-Coder-V2 236B"
          ],
          [
           "Jamba 1.5-Large"
          ],
          [
           "o1-mini"
          ],
          [
           "o1-preview"
          ],
          [
           "Command R+"
          ],
          [
           "Reka Core"
          ],
          [
           "Mistral 7B"
          ],
          [
           "Llama-3.2-Instruct-3B"
          ],
          [
           "Gemini-1.5-Pro-2024-09"
          ],
          [
           "Llama-3.2-Instruct-1B"
          ],
          [
           "Gemini-1.5-Flash-2024-09"
          ],
          [
           "Gemini-1.5-Flash-8B"
          ],
          [
           "Claude-3.5-Sonnet-2024-10"
          ],
          [
           "Claude-3.5-Haiku"
          ],
          [
           "Mistral-Large-2-2024-11"
          ],
          [
           "GPT-4o-2024-11"
          ],
          [
           "Phi 4"
          ],
          [
           "o1"
          ],
          [
           "DeepSeek-V3"
          ],
          [
           "DeepSeek-R1"
          ],
          [
           "Mistral Small 3"
          ],
          [
           "o1-mini"
          ],
          [
           "o3-mini"
          ],
          [
           "Gemini 2.0 Flash"
          ]
         ],
         "hovertemplate": "MMLU=%{x}<br>USD per 1M Tokens=%{y}<br>Model Name=%{customdata[0]}<extra></extra>",
         "legendgroup": "",
         "marker": {
          "color": "#636efa",
          "symbol": "circle"
         },
         "mode": "markers",
         "name": "",
         "orientation": "v",
         "showlegend": false,
         "type": "scatter",
         "x": [
          43.9,
          43.9,
          43.9,
          64.8,
          68,
          86,
          68,
          45,
          13,
          68,
          87,
          68.9,
          45.3,
          54.8,
          63.1,
          68,
          69,
          69,
          71,
          77,
          84,
          54.8,
          45.3,
          76,
          64,
          79,
          79,
          87,
          86,
          88,
          73,
          77,
          82,
          66,
          84,
          87,
          71,
          85,
          89,
          78.5,
          null,
          null,
          71.8,
          null,
          null,
          75.7,
          null,
          79.2,
          80,
          null,
          null,
          75.7,
          83.2,
          60.1,
          64,
          86,
          35,
          75,
          75,
          89,
          81,
          85,
          86,
          85,
          null,
          null,
          null,
          82,
          null,
          null,
          88
         ],
         "xaxis": "x",
         "y": [
          60,
          60,
          20,
          20,
          2,
          37.5,
          3.25,
          0.56,
          0.33,
          0.75,
          15,
          0.7625,
          0.2,
          0.35,
          20,
          0.75,
          6,
          1.5,
          0.5,
          6,
          30,
          0.22,
          0.13,
          1.2,
          0.15,
          0.89,
          0.13,
          7.5,
          2.19,
          6,
          0.13,
          0.26,
          0.26,
          0.13,
          0.72,
          3.5,
          0.1,
          3,
          4.38,
          12,
          12,
          1.2,
          0.75,
          1.625,
          0.75,
          6,
          0.375,
          0.175,
          3.5,
          5.25,
          26.25,
          4.375,
          4,
          0.25,
          0.08,
          2.19,
          0.05,
          0.13,
          0.07,
          6,
          1.6,
          3,
          4.38,
          0.1225,
          26.25,
          0.4775,
          0.96,
          0.475,
          1.925,
          1.925,
          0.175
         ],
         "yaxis": "y"
        }
       ],
       "layout": {
        "legend": {
         "tracegroupgap": 0
        },
        "template": {
         "data": {
          "bar": [
           {
            "error_x": {
             "color": "#2a3f5f"
            },
            "error_y": {
             "color": "#2a3f5f"
            },
            "marker": {
             "line": {
              "color": "white",
              "width": 0.5
             },
             "pattern": {
              "fillmode": "overlay",
              "size": 10,
              "solidity": 0.2
             }
            },
            "type": "bar"
           }
          ],
          "barpolar": [
           {
            "marker": {
             "line": {
              "color": "white",
              "width": 0.5
             },
             "pattern": {
              "fillmode": "overlay",
              "size": 10,
              "solidity": 0.2
             }
            },
            "type": "barpolar"
           }
          ],
          "carpet": [
           {
            "aaxis": {
             "endlinecolor": "#2a3f5f",
             "gridcolor": "#C8D4E3",
             "linecolor": "#C8D4E3",
             "minorgridcolor": "#C8D4E3",
             "startlinecolor": "#2a3f5f"
            },
            "baxis": {
             "endlinecolor": "#2a3f5f",
             "gridcolor": "#C8D4E3",
             "linecolor": "#C8D4E3",
             "minorgridcolor": "#C8D4E3",
             "startlinecolor": "#2a3f5f"
            },
            "type": "carpet"
           }
          ],
          "choropleth": [
           {
            "colorbar": {
             "outlinewidth": 0,
             "ticks": ""
            },
            "type": "choropleth"
           }
          ],
          "contour": [
           {
            "colorbar": {
             "outlinewidth": 0,
             "ticks": ""
            },
            "colorscale": [
             [
              0,
              "#0d0887"
             ],
             [
              0.1111111111111111,
              "#46039f"
             ],
             [
              0.2222222222222222,
              "#7201a8"
             ],
             [
              0.3333333333333333,
              "#9c179e"
             ],
             [
              0.4444444444444444,
              "#bd3786"
             ],
             [
              0.5555555555555556,
              "#d8576b"
             ],
             [
              0.6666666666666666,
              "#ed7953"
             ],
             [
              0.7777777777777778,
              "#fb9f3a"
             ],
             [
              0.8888888888888888,
              "#fdca26"
             ],
             [
              1,
              "#f0f921"
             ]
            ],
            "type": "contour"
           }
          ],
          "contourcarpet": [
           {
            "colorbar": {
             "outlinewidth": 0,
             "ticks": ""
            },
            "type": "contourcarpet"
           }
          ],
          "heatmap": [
           {
            "colorbar": {
             "outlinewidth": 0,
             "ticks": ""
            },
            "colorscale": [
             [
              0,
              "#0d0887"
             ],
             [
              0.1111111111111111,
              "#46039f"
             ],
             [
              0.2222222222222222,
              "#7201a8"
             ],
             [
              0.3333333333333333,
              "#9c179e"
             ],
             [
              0.4444444444444444,
              "#bd3786"
             ],
             [
              0.5555555555555556,
              "#d8576b"
             ],
             [
              0.6666666666666666,
              "#ed7953"
             ],
             [
              0.7777777777777778,
              "#fb9f3a"
             ],
             [
              0.8888888888888888,
              "#fdca26"
             ],
             [
              1,
              "#f0f921"
             ]
            ],
            "type": "heatmap"
           }
          ],
          "heatmapgl": [
           {
            "colorbar": {
             "outlinewidth": 0,
             "ticks": ""
            },
            "colorscale": [
             [
              0,
              "#0d0887"
             ],
             [
              0.1111111111111111,
              "#46039f"
             ],
             [
              0.2222222222222222,
              "#7201a8"
             ],
             [
              0.3333333333333333,
              "#9c179e"
             ],
             [
              0.4444444444444444,
              "#bd3786"
             ],
             [
              0.5555555555555556,
              "#d8576b"
             ],
             [
              0.6666666666666666,
              "#ed7953"
             ],
             [
              0.7777777777777778,
              "#fb9f3a"
             ],
             [
              0.8888888888888888,
              "#fdca26"
             ],
             [
              1,
              "#f0f921"
             ]
            ],
            "type": "heatmapgl"
           }
          ],
          "histogram": [
           {
            "marker": {
             "pattern": {
              "fillmode": "overlay",
              "size": 10,
              "solidity": 0.2
             }
            },
            "type": "histogram"
           }
          ],
          "histogram2d": [
           {
            "colorbar": {
             "outlinewidth": 0,
             "ticks": ""
            },
            "colorscale": [
             [
              0,
              "#0d0887"
             ],
             [
              0.1111111111111111,
              "#46039f"
             ],
             [
              0.2222222222222222,
              "#7201a8"
             ],
             [
              0.3333333333333333,
              "#9c179e"
             ],
             [
              0.4444444444444444,
              "#bd3786"
             ],
             [
              0.5555555555555556,
              "#d8576b"
             ],
             [
              0.6666666666666666,
              "#ed7953"
             ],
             [
              0.7777777777777778,
              "#fb9f3a"
             ],
             [
              0.8888888888888888,
              "#fdca26"
             ],
             [
              1,
              "#f0f921"
             ]
            ],
            "type": "histogram2d"
           }
          ],
          "histogram2dcontour": [
           {
            "colorbar": {
             "outlinewidth": 0,
             "ticks": ""
            },
            "colorscale": [
             [
              0,
              "#0d0887"
             ],
             [
              0.1111111111111111,
              "#46039f"
             ],
             [
              0.2222222222222222,
              "#7201a8"
             ],
             [
              0.3333333333333333,
              "#9c179e"
             ],
             [
              0.4444444444444444,
              "#bd3786"
             ],
             [
              0.5555555555555556,
              "#d8576b"
             ],
             [
              0.6666666666666666,
              "#ed7953"
             ],
             [
              0.7777777777777778,
              "#fb9f3a"
             ],
             [
              0.8888888888888888,
              "#fdca26"
             ],
             [
              1,
              "#f0f921"
             ]
            ],
            "type": "histogram2dcontour"
           }
          ],
          "mesh3d": [
           {
            "colorbar": {
             "outlinewidth": 0,
             "ticks": ""
            },
            "type": "mesh3d"
           }
          ],
          "parcoords": [
           {
            "line": {
             "colorbar": {
              "outlinewidth": 0,
              "ticks": ""
             }
            },
            "type": "parcoords"
           }
          ],
          "pie": [
           {
            "automargin": true,
            "type": "pie"
           }
          ],
          "scatter": [
           {
            "fillpattern": {
             "fillmode": "overlay",
             "size": 10,
             "solidity": 0.2
            },
            "type": "scatter"
           }
          ],
          "scatter3d": [
           {
            "line": {
             "colorbar": {
              "outlinewidth": 0,
              "ticks": ""
             }
            },
            "marker": {
             "colorbar": {
              "outlinewidth": 0,
              "ticks": ""
             }
            },
            "type": "scatter3d"
           }
          ],
          "scattercarpet": [
           {
            "marker": {
             "colorbar": {
              "outlinewidth": 0,
              "ticks": ""
             }
            },
            "type": "scattercarpet"
           }
          ],
          "scattergeo": [
           {
            "marker": {
             "colorbar": {
              "outlinewidth": 0,
              "ticks": ""
             }
            },
            "type": "scattergeo"
           }
          ],
          "scattergl": [
           {
            "marker": {
             "colorbar": {
              "outlinewidth": 0,
              "ticks": ""
             }
            },
            "type": "scattergl"
           }
          ],
          "scattermapbox": [
           {
            "marker": {
             "colorbar": {
              "outlinewidth": 0,
              "ticks": ""
             }
            },
            "type": "scattermapbox"
           }
          ],
          "scatterpolar": [
           {
            "marker": {
             "colorbar": {
              "outlinewidth": 0,
              "ticks": ""
             }
            },
            "type": "scatterpolar"
           }
          ],
          "scatterpolargl": [
           {
            "marker": {
             "colorbar": {
              "outlinewidth": 0,
              "ticks": ""
             }
            },
            "type": "scatterpolargl"
           }
          ],
          "scatterternary": [
           {
            "marker": {
             "colorbar": {
              "outlinewidth": 0,
              "ticks": ""
             }
            },
            "type": "scatterternary"
           }
          ],
          "surface": [
           {
            "colorbar": {
             "outlinewidth": 0,
             "ticks": ""
            },
            "colorscale": [
             [
              0,
              "#0d0887"
             ],
             [
              0.1111111111111111,
              "#46039f"
             ],
             [
              0.2222222222222222,
              "#7201a8"
             ],
             [
              0.3333333333333333,
              "#9c179e"
             ],
             [
              0.4444444444444444,
              "#bd3786"
             ],
             [
              0.5555555555555556,
              "#d8576b"
             ],
             [
              0.6666666666666666,
              "#ed7953"
             ],
             [
              0.7777777777777778,
              "#fb9f3a"
             ],
             [
              0.8888888888888888,
              "#fdca26"
             ],
             [
              1,
              "#f0f921"
             ]
            ],
            "type": "surface"
           }
          ],
          "table": [
           {
            "cells": {
             "fill": {
              "color": "#EBF0F8"
             },
             "line": {
              "color": "white"
             }
            },
            "header": {
             "fill": {
              "color": "#C8D4E3"
             },
             "line": {
              "color": "white"
             }
            },
            "type": "table"
           }
          ]
         },
         "layout": {
          "annotationdefaults": {
           "arrowcolor": "#2a3f5f",
           "arrowhead": 0,
           "arrowwidth": 1
          },
          "autotypenumbers": "strict",
          "coloraxis": {
           "colorbar": {
            "outlinewidth": 0,
            "ticks": ""
           }
          },
          "colorscale": {
           "diverging": [
            [
             0,
             "#8e0152"
            ],
            [
             0.1,
             "#c51b7d"
            ],
            [
             0.2,
             "#de77ae"
            ],
            [
             0.3,
             "#f1b6da"
            ],
            [
             0.4,
             "#fde0ef"
            ],
            [
             0.5,
             "#f7f7f7"
            ],
            [
             0.6,
             "#e6f5d0"
            ],
            [
             0.7,
             "#b8e186"
            ],
            [
             0.8,
             "#7fbc41"
            ],
            [
             0.9,
             "#4d9221"
            ],
            [
             1,
             "#276419"
            ]
           ],
           "sequential": [
            [
             0,
             "#0d0887"
            ],
            [
             0.1111111111111111,
             "#46039f"
            ],
            [
             0.2222222222222222,
             "#7201a8"
            ],
            [
             0.3333333333333333,
             "#9c179e"
            ],
            [
             0.4444444444444444,
             "#bd3786"
            ],
            [
             0.5555555555555556,
             "#d8576b"
            ],
            [
             0.6666666666666666,
             "#ed7953"
            ],
            [
             0.7777777777777778,
             "#fb9f3a"
            ],
            [
             0.8888888888888888,
             "#fdca26"
            ],
            [
             1,
             "#f0f921"
            ]
           ],
           "sequentialminus": [
            [
             0,
             "#0d0887"
            ],
            [
             0.1111111111111111,
             "#46039f"
            ],
            [
             0.2222222222222222,
             "#7201a8"
            ],
            [
             0.3333333333333333,
             "#9c179e"
            ],
            [
             0.4444444444444444,
             "#bd3786"
            ],
            [
             0.5555555555555556,
             "#d8576b"
            ],
            [
             0.6666666666666666,
             "#ed7953"
            ],
            [
             0.7777777777777778,
             "#fb9f3a"
            ],
            [
             0.8888888888888888,
             "#fdca26"
            ],
            [
             1,
             "#f0f921"
            ]
           ]
          },
          "colorway": [
           "#636efa",
           "#EF553B",
           "#00cc96",
           "#ab63fa",
           "#FFA15A",
           "#19d3f3",
           "#FF6692",
           "#B6E880",
           "#FF97FF",
           "#FECB52"
          ],
          "font": {
           "color": "#2a3f5f"
          },
          "geo": {
           "bgcolor": "white",
           "lakecolor": "white",
           "landcolor": "white",
           "showlakes": true,
           "showland": true,
           "subunitcolor": "#C8D4E3"
          },
          "hoverlabel": {
           "align": "left"
          },
          "hovermode": "closest",
          "mapbox": {
           "style": "light"
          },
          "paper_bgcolor": "white",
          "plot_bgcolor": "white",
          "polar": {
           "angularaxis": {
            "gridcolor": "#EBF0F8",
            "linecolor": "#EBF0F8",
            "ticks": ""
           },
           "bgcolor": "white",
           "radialaxis": {
            "gridcolor": "#EBF0F8",
            "linecolor": "#EBF0F8",
            "ticks": ""
           }
          },
          "scene": {
           "xaxis": {
            "backgroundcolor": "white",
            "gridcolor": "#DFE8F3",
            "gridwidth": 2,
            "linecolor": "#EBF0F8",
            "showbackground": true,
            "ticks": "",
            "zerolinecolor": "#EBF0F8"
           },
           "yaxis": {
            "backgroundcolor": "white",
            "gridcolor": "#DFE8F3",
            "gridwidth": 2,
            "linecolor": "#EBF0F8",
            "showbackground": true,
            "ticks": "",
            "zerolinecolor": "#EBF0F8"
           },
           "zaxis": {
            "backgroundcolor": "white",
            "gridcolor": "#DFE8F3",
            "gridwidth": 2,
            "linecolor": "#EBF0F8",
            "showbackground": true,
            "ticks": "",
            "zerolinecolor": "#EBF0F8"
           }
          },
          "shapedefaults": {
           "line": {
            "color": "#2a3f5f"
           }
          },
          "ternary": {
           "aaxis": {
            "gridcolor": "#DFE8F3",
            "linecolor": "#A2B1C6",
            "ticks": ""
           },
           "baxis": {
            "gridcolor": "#DFE8F3",
            "linecolor": "#A2B1C6",
            "ticks": ""
           },
           "bgcolor": "white",
           "caxis": {
            "gridcolor": "#DFE8F3",
            "linecolor": "#A2B1C6",
            "ticks": ""
           }
          },
          "title": {
           "x": 0.05
          },
          "xaxis": {
           "automargin": true,
           "gridcolor": "#EBF0F8",
           "linecolor": "#EBF0F8",
           "ticks": "",
           "title": {
            "standoff": 15
           },
           "zerolinecolor": "#EBF0F8",
           "zerolinewidth": 2
          },
          "yaxis": {
           "automargin": true,
           "gridcolor": "#EBF0F8",
           "linecolor": "#EBF0F8",
           "ticks": "",
           "title": {
            "standoff": 15
           },
           "zerolinecolor": "#EBF0F8",
           "zerolinewidth": 2
          }
         }
        },
        "title": {
         "text": "MMLU vs. USD per 1M Tokens"
        },
        "xaxis": {
         "anchor": "y",
         "domain": [
          0,
          1
         ],
         "title": {
          "text": "MMLU"
         }
        },
        "yaxis": {
         "anchor": "x",
         "domain": [
          0,
          1
         ],
         "title": {
          "text": "USD per 1M Tokens"
         },
         "type": "log"
        }
       }
      }
     },
     "metadata": {},
     "output_type": "display_data"
    }
   ],
   "source": [
    "# Plot 'MMLU' vs. 'USD per 1M Tokens'\n",
    "fig = px.scatter(aa_df, x='MMLU', y='USD per 1M Tokens', hover_data=['Model Name'], title='MMLU vs. USD per 1M Tokens')\n",
    "fig.update_layout(yaxis_type='log')\n",
    "fig.show()\n"
   ]
  },
  {
   "cell_type": "code",
   "execution_count": 13,
   "metadata": {},
   "outputs": [
    {
     "data": {
      "application/vnd.plotly.v1+json": {
       "config": {
        "plotlyServerURL": "https://plot.ly"
       },
       "data": [
        {
         "customdata": [
          [
           "GPT-3"
          ],
          [
           "GPT-3"
          ],
          [
           "GPT-3"
          ],
          [
           "GPT-3.5"
          ],
          [
           "GPT-3.5 Turbo"
          ],
          [
           "GPT-4-0314"
          ],
          [
           "GPT-3.5-Turbo-2023-06"
          ],
          [
           "Llama-2-Chat-13B"
          ],
          [
           "Llama-2-Chat-7B"
          ],
          [
           "GPT-3.5-Turbo-2023-11"
          ],
          [
           "GPT-4 Turbo"
          ],
          [
           "Llama 2-70B Chat"
          ],
          [
           "Llama 2-7B"
          ],
          [
           "Llama 2-13B"
          ],
          [
           "GPT-3"
          ],
          [
           "GPT-3.5-Turbo-2024-01"
          ],
          [
           "Mistral-Large-2024-02"
          ],
          [
           "Mistral-Small-2024-02"
          ],
          [
           "Claude-3-Haiku"
          ],
          [
           "Claude-3-Sonnet"
          ],
          [
           "Claude-3-Opus"
          ],
          [
           "Llama 2-13B"
          ],
          [
           "Llama 2-7B"
          ],
          [
           "Mistral-8x22"
          ],
          [
           "Llama-3-Instruct-8B"
          ],
          [
           "Llama-3-Instruct-70B"
          ],
          [
           "Gemini-1.5-Flash-2024-05"
          ],
          [
           "GPT-4o-2024-05"
          ],
          [
           "Gemini-1.5-Pro-2024-05"
          ],
          [
           "Claude-3.5-Sonnet-2024-06"
          ],
          [
           "Gemma-2-9B"
          ],
          [
           "Gemma-2-27B"
          ],
          [
           "GPT-4o-mini"
          ],
          [
           "Mistral-NeMo"
          ],
          [
           "Llama-3.1-Instruct-70B"
          ],
          [
           "Llama-3.1-Instruct-405B"
          ],
          [
           "Llama-3.1-Instruct-8B"
          ],
          [
           "Mistral-Large-2-2024-07"
          ],
          [
           "GPT-4o-2024-08"
          ],
          [
           "Claude 2"
          ],
          [
           "Claude 2.1"
          ],
          [
           "Claude Instant"
          ],
          [
           "Gemini 1.0 Pro"
          ],
          [
           "Cohere Command"
          ],
          [
           "Command R"
          ],
          [
           "Command R+"
          ],
          [
           "Cohere Command Light"
          ],
          [
           "DeepSeek-Coder-V2 236B"
          ],
          [
           "Jamba 1.5-Large"
          ],
          [
           "o1-mini"
          ],
          [
           "o1-preview"
          ],
          [
           "Command R+"
          ],
          [
           "Reka Core"
          ],
          [
           "Mistral 7B"
          ],
          [
           "Llama-3.2-Instruct-3B"
          ],
          [
           "Gemini-1.5-Pro-2024-09"
          ],
          [
           "Llama-3.2-Instruct-1B"
          ],
          [
           "Gemini-1.5-Flash-2024-09"
          ],
          [
           "Gemini-1.5-Flash-8B"
          ],
          [
           "Claude-3.5-Sonnet-2024-10"
          ],
          [
           "Claude-3.5-Haiku"
          ],
          [
           "Mistral-Large-2-2024-11"
          ],
          [
           "GPT-4o-2024-11"
          ],
          [
           "Phi 4"
          ],
          [
           "o1"
          ],
          [
           "DeepSeek-V3"
          ],
          [
           "DeepSeek-R1"
          ],
          [
           "Mistral Small 3"
          ],
          [
           "o1-mini"
          ],
          [
           "o3-mini"
          ],
          [
           "Gemini 2.0 Flash"
          ]
         ],
         "hovertemplate": "Release Date=%{x}<br>MMLU price-performance=%{y}<br>Model Name=%{customdata[0]}<extra></extra>",
         "legendgroup": "",
         "marker": {
          "color": "#636efa",
          "symbol": "circle"
         },
         "mode": "markers",
         "name": "",
         "orientation": "v",
         "showlegend": false,
         "type": "scatter",
         "x": [
          "2021-11-20T00:00:00",
          "2022-08-31T00:00:00",
          "2022-09-01T00:00:00",
          "2022-11-30T00:00:00",
          "2023-03-06T00:00:00",
          "2023-03-14T00:00:00",
          "2023-06-13T00:00:00",
          "2023-07-18T00:00:00",
          "2023-07-18T00:00:00",
          "2023-11-06T00:00:00",
          "2023-11-06T00:00:00",
          "2023-12-01T00:00:00",
          "2023-12-01T00:00:00",
          "2023-12-08T00:00:00",
          "2024-01-04T00:00:00",
          "2024-01-25T00:00:00",
          "2024-02-26T00:00:00",
          "2024-02-26T00:00:00",
          "2024-03-04T00:00:00",
          "2024-03-04T00:00:00",
          "2024-03-04T00:00:00",
          "2024-04-14T00:00:00",
          "2024-04-14T00:00:00",
          "2024-04-17T00:00:00",
          "2024-04-18T00:00:00",
          "2024-04-18T00:00:00",
          "2024-05-10T00:00:00",
          "2024-05-13T00:00:00",
          "2024-05-23T00:00:00",
          "2024-06-20T00:00:00",
          "2024-06-24T00:00:00",
          "2024-06-24T00:00:00",
          "2024-07-18T00:00:00",
          "2024-07-18T00:00:00",
          "2024-07-23T00:00:00",
          "2024-07-23T00:00:00",
          "2024-07-23T00:00:00",
          "2024-07-24T00:00:00",
          "2024-08-06T00:00:00",
          "2024-08-12T00:00:00",
          "2024-08-12T00:00:00",
          "2024-08-12T00:00:00",
          "2024-08-12T00:00:00",
          "2024-08-13T00:00:00",
          "2024-08-13T00:00:00",
          "2024-08-13T00:00:00",
          "2024-08-13T00:00:00",
          "2024-09-11T00:00:00",
          "2024-09-12T00:00:00",
          "2024-09-12T00:00:00",
          "2024-09-12T00:00:00",
          "2024-09-13T00:00:00",
          "2024-09-14T00:00:00",
          "2024-09-14T00:00:00",
          "2024-09-24T00:00:00",
          "2024-09-24T00:00:00",
          "2024-09-24T00:00:00",
          "2024-09-24T00:00:00",
          "2024-10-03T00:00:00",
          "2024-10-22T00:00:00",
          "2024-10-22T00:00:00",
          "2024-11-18T00:00:00",
          "2024-11-20T00:00:00",
          "2024-12-13T00:00:00",
          "2024-12-17T00:00:00",
          "2024-12-26T00:00:00",
          "2025-01-20T00:00:00",
          "2025-01-30T00:00:00",
          "2025-01-31T00:00:00",
          "2025-01-31T00:00:00",
          "2025-02-05T00:00:00"
         ],
         "xaxis": "x",
         "y": [
          0.7316666666666667,
          0.7316666666666667,
          2.195,
          3.2399999999999998,
          34,
          2.2933333333333334,
          20.923076923076923,
          80.35714285714285,
          39.39393939393939,
          90.66666666666667,
          5.8,
          90.36065573770493,
          226.49999999999997,
          156.57142857142858,
          3.1550000000000002,
          90.66666666666667,
          11.5,
          46,
          142,
          12.833333333333334,
          2.8,
          249.09090909090907,
          348.46153846153845,
          63.333333333333336,
          426.6666666666667,
          88.76404494382022,
          607.6923076923076,
          11.6,
          39.269406392694066,
          14.666666666666666,
          561.5384615384615,
          296.15384615384613,
          315.38461538461536,
          507.6923076923077,
          116.66666666666667,
          24.857142857142858,
          710,
          28.333333333333332,
          20.319634703196346,
          6.541666666666667,
          null,
          null,
          95.73333333333333,
          null,
          null,
          12.616666666666667,
          null,
          452.5714285714286,
          22.857142857142858,
          null,
          null,
          17.302857142857142,
          20.8,
          240.4,
          800,
          39.269406392694066,
          700,
          576.9230769230769,
          1071.4285714285713,
          14.833333333333334,
          50.625,
          28.333333333333332,
          19.634703196347033,
          693.8775510204082,
          null,
          null,
          null,
          172.63157894736844,
          null,
          null,
          502.8571428571429
         ],
         "yaxis": "y"
        }
       ],
       "layout": {
        "legend": {
         "tracegroupgap": 0
        },
        "template": {
         "data": {
          "bar": [
           {
            "error_x": {
             "color": "#2a3f5f"
            },
            "error_y": {
             "color": "#2a3f5f"
            },
            "marker": {
             "line": {
              "color": "white",
              "width": 0.5
             },
             "pattern": {
              "fillmode": "overlay",
              "size": 10,
              "solidity": 0.2
             }
            },
            "type": "bar"
           }
          ],
          "barpolar": [
           {
            "marker": {
             "line": {
              "color": "white",
              "width": 0.5
             },
             "pattern": {
              "fillmode": "overlay",
              "size": 10,
              "solidity": 0.2
             }
            },
            "type": "barpolar"
           }
          ],
          "carpet": [
           {
            "aaxis": {
             "endlinecolor": "#2a3f5f",
             "gridcolor": "#C8D4E3",
             "linecolor": "#C8D4E3",
             "minorgridcolor": "#C8D4E3",
             "startlinecolor": "#2a3f5f"
            },
            "baxis": {
             "endlinecolor": "#2a3f5f",
             "gridcolor": "#C8D4E3",
             "linecolor": "#C8D4E3",
             "minorgridcolor": "#C8D4E3",
             "startlinecolor": "#2a3f5f"
            },
            "type": "carpet"
           }
          ],
          "choropleth": [
           {
            "colorbar": {
             "outlinewidth": 0,
             "ticks": ""
            },
            "type": "choropleth"
           }
          ],
          "contour": [
           {
            "colorbar": {
             "outlinewidth": 0,
             "ticks": ""
            },
            "colorscale": [
             [
              0,
              "#0d0887"
             ],
             [
              0.1111111111111111,
              "#46039f"
             ],
             [
              0.2222222222222222,
              "#7201a8"
             ],
             [
              0.3333333333333333,
              "#9c179e"
             ],
             [
              0.4444444444444444,
              "#bd3786"
             ],
             [
              0.5555555555555556,
              "#d8576b"
             ],
             [
              0.6666666666666666,
              "#ed7953"
             ],
             [
              0.7777777777777778,
              "#fb9f3a"
             ],
             [
              0.8888888888888888,
              "#fdca26"
             ],
             [
              1,
              "#f0f921"
             ]
            ],
            "type": "contour"
           }
          ],
          "contourcarpet": [
           {
            "colorbar": {
             "outlinewidth": 0,
             "ticks": ""
            },
            "type": "contourcarpet"
           }
          ],
          "heatmap": [
           {
            "colorbar": {
             "outlinewidth": 0,
             "ticks": ""
            },
            "colorscale": [
             [
              0,
              "#0d0887"
             ],
             [
              0.1111111111111111,
              "#46039f"
             ],
             [
              0.2222222222222222,
              "#7201a8"
             ],
             [
              0.3333333333333333,
              "#9c179e"
             ],
             [
              0.4444444444444444,
              "#bd3786"
             ],
             [
              0.5555555555555556,
              "#d8576b"
             ],
             [
              0.6666666666666666,
              "#ed7953"
             ],
             [
              0.7777777777777778,
              "#fb9f3a"
             ],
             [
              0.8888888888888888,
              "#fdca26"
             ],
             [
              1,
              "#f0f921"
             ]
            ],
            "type": "heatmap"
           }
          ],
          "heatmapgl": [
           {
            "colorbar": {
             "outlinewidth": 0,
             "ticks": ""
            },
            "colorscale": [
             [
              0,
              "#0d0887"
             ],
             [
              0.1111111111111111,
              "#46039f"
             ],
             [
              0.2222222222222222,
              "#7201a8"
             ],
             [
              0.3333333333333333,
              "#9c179e"
             ],
             [
              0.4444444444444444,
              "#bd3786"
             ],
             [
              0.5555555555555556,
              "#d8576b"
             ],
             [
              0.6666666666666666,
              "#ed7953"
             ],
             [
              0.7777777777777778,
              "#fb9f3a"
             ],
             [
              0.8888888888888888,
              "#fdca26"
             ],
             [
              1,
              "#f0f921"
             ]
            ],
            "type": "heatmapgl"
           }
          ],
          "histogram": [
           {
            "marker": {
             "pattern": {
              "fillmode": "overlay",
              "size": 10,
              "solidity": 0.2
             }
            },
            "type": "histogram"
           }
          ],
          "histogram2d": [
           {
            "colorbar": {
             "outlinewidth": 0,
             "ticks": ""
            },
            "colorscale": [
             [
              0,
              "#0d0887"
             ],
             [
              0.1111111111111111,
              "#46039f"
             ],
             [
              0.2222222222222222,
              "#7201a8"
             ],
             [
              0.3333333333333333,
              "#9c179e"
             ],
             [
              0.4444444444444444,
              "#bd3786"
             ],
             [
              0.5555555555555556,
              "#d8576b"
             ],
             [
              0.6666666666666666,
              "#ed7953"
             ],
             [
              0.7777777777777778,
              "#fb9f3a"
             ],
             [
              0.8888888888888888,
              "#fdca26"
             ],
             [
              1,
              "#f0f921"
             ]
            ],
            "type": "histogram2d"
           }
          ],
          "histogram2dcontour": [
           {
            "colorbar": {
             "outlinewidth": 0,
             "ticks": ""
            },
            "colorscale": [
             [
              0,
              "#0d0887"
             ],
             [
              0.1111111111111111,
              "#46039f"
             ],
             [
              0.2222222222222222,
              "#7201a8"
             ],
             [
              0.3333333333333333,
              "#9c179e"
             ],
             [
              0.4444444444444444,
              "#bd3786"
             ],
             [
              0.5555555555555556,
              "#d8576b"
             ],
             [
              0.6666666666666666,
              "#ed7953"
             ],
             [
              0.7777777777777778,
              "#fb9f3a"
             ],
             [
              0.8888888888888888,
              "#fdca26"
             ],
             [
              1,
              "#f0f921"
             ]
            ],
            "type": "histogram2dcontour"
           }
          ],
          "mesh3d": [
           {
            "colorbar": {
             "outlinewidth": 0,
             "ticks": ""
            },
            "type": "mesh3d"
           }
          ],
          "parcoords": [
           {
            "line": {
             "colorbar": {
              "outlinewidth": 0,
              "ticks": ""
             }
            },
            "type": "parcoords"
           }
          ],
          "pie": [
           {
            "automargin": true,
            "type": "pie"
           }
          ],
          "scatter": [
           {
            "fillpattern": {
             "fillmode": "overlay",
             "size": 10,
             "solidity": 0.2
            },
            "type": "scatter"
           }
          ],
          "scatter3d": [
           {
            "line": {
             "colorbar": {
              "outlinewidth": 0,
              "ticks": ""
             }
            },
            "marker": {
             "colorbar": {
              "outlinewidth": 0,
              "ticks": ""
             }
            },
            "type": "scatter3d"
           }
          ],
          "scattercarpet": [
           {
            "marker": {
             "colorbar": {
              "outlinewidth": 0,
              "ticks": ""
             }
            },
            "type": "scattercarpet"
           }
          ],
          "scattergeo": [
           {
            "marker": {
             "colorbar": {
              "outlinewidth": 0,
              "ticks": ""
             }
            },
            "type": "scattergeo"
           }
          ],
          "scattergl": [
           {
            "marker": {
             "colorbar": {
              "outlinewidth": 0,
              "ticks": ""
             }
            },
            "type": "scattergl"
           }
          ],
          "scattermapbox": [
           {
            "marker": {
             "colorbar": {
              "outlinewidth": 0,
              "ticks": ""
             }
            },
            "type": "scattermapbox"
           }
          ],
          "scatterpolar": [
           {
            "marker": {
             "colorbar": {
              "outlinewidth": 0,
              "ticks": ""
             }
            },
            "type": "scatterpolar"
           }
          ],
          "scatterpolargl": [
           {
            "marker": {
             "colorbar": {
              "outlinewidth": 0,
              "ticks": ""
             }
            },
            "type": "scatterpolargl"
           }
          ],
          "scatterternary": [
           {
            "marker": {
             "colorbar": {
              "outlinewidth": 0,
              "ticks": ""
             }
            },
            "type": "scatterternary"
           }
          ],
          "surface": [
           {
            "colorbar": {
             "outlinewidth": 0,
             "ticks": ""
            },
            "colorscale": [
             [
              0,
              "#0d0887"
             ],
             [
              0.1111111111111111,
              "#46039f"
             ],
             [
              0.2222222222222222,
              "#7201a8"
             ],
             [
              0.3333333333333333,
              "#9c179e"
             ],
             [
              0.4444444444444444,
              "#bd3786"
             ],
             [
              0.5555555555555556,
              "#d8576b"
             ],
             [
              0.6666666666666666,
              "#ed7953"
             ],
             [
              0.7777777777777778,
              "#fb9f3a"
             ],
             [
              0.8888888888888888,
              "#fdca26"
             ],
             [
              1,
              "#f0f921"
             ]
            ],
            "type": "surface"
           }
          ],
          "table": [
           {
            "cells": {
             "fill": {
              "color": "#EBF0F8"
             },
             "line": {
              "color": "white"
             }
            },
            "header": {
             "fill": {
              "color": "#C8D4E3"
             },
             "line": {
              "color": "white"
             }
            },
            "type": "table"
           }
          ]
         },
         "layout": {
          "annotationdefaults": {
           "arrowcolor": "#2a3f5f",
           "arrowhead": 0,
           "arrowwidth": 1
          },
          "autotypenumbers": "strict",
          "coloraxis": {
           "colorbar": {
            "outlinewidth": 0,
            "ticks": ""
           }
          },
          "colorscale": {
           "diverging": [
            [
             0,
             "#8e0152"
            ],
            [
             0.1,
             "#c51b7d"
            ],
            [
             0.2,
             "#de77ae"
            ],
            [
             0.3,
             "#f1b6da"
            ],
            [
             0.4,
             "#fde0ef"
            ],
            [
             0.5,
             "#f7f7f7"
            ],
            [
             0.6,
             "#e6f5d0"
            ],
            [
             0.7,
             "#b8e186"
            ],
            [
             0.8,
             "#7fbc41"
            ],
            [
             0.9,
             "#4d9221"
            ],
            [
             1,
             "#276419"
            ]
           ],
           "sequential": [
            [
             0,
             "#0d0887"
            ],
            [
             0.1111111111111111,
             "#46039f"
            ],
            [
             0.2222222222222222,
             "#7201a8"
            ],
            [
             0.3333333333333333,
             "#9c179e"
            ],
            [
             0.4444444444444444,
             "#bd3786"
            ],
            [
             0.5555555555555556,
             "#d8576b"
            ],
            [
             0.6666666666666666,
             "#ed7953"
            ],
            [
             0.7777777777777778,
             "#fb9f3a"
            ],
            [
             0.8888888888888888,
             "#fdca26"
            ],
            [
             1,
             "#f0f921"
            ]
           ],
           "sequentialminus": [
            [
             0,
             "#0d0887"
            ],
            [
             0.1111111111111111,
             "#46039f"
            ],
            [
             0.2222222222222222,
             "#7201a8"
            ],
            [
             0.3333333333333333,
             "#9c179e"
            ],
            [
             0.4444444444444444,
             "#bd3786"
            ],
            [
             0.5555555555555556,
             "#d8576b"
            ],
            [
             0.6666666666666666,
             "#ed7953"
            ],
            [
             0.7777777777777778,
             "#fb9f3a"
            ],
            [
             0.8888888888888888,
             "#fdca26"
            ],
            [
             1,
             "#f0f921"
            ]
           ]
          },
          "colorway": [
           "#636efa",
           "#EF553B",
           "#00cc96",
           "#ab63fa",
           "#FFA15A",
           "#19d3f3",
           "#FF6692",
           "#B6E880",
           "#FF97FF",
           "#FECB52"
          ],
          "font": {
           "color": "#2a3f5f"
          },
          "geo": {
           "bgcolor": "white",
           "lakecolor": "white",
           "landcolor": "white",
           "showlakes": true,
           "showland": true,
           "subunitcolor": "#C8D4E3"
          },
          "hoverlabel": {
           "align": "left"
          },
          "hovermode": "closest",
          "mapbox": {
           "style": "light"
          },
          "paper_bgcolor": "white",
          "plot_bgcolor": "white",
          "polar": {
           "angularaxis": {
            "gridcolor": "#EBF0F8",
            "linecolor": "#EBF0F8",
            "ticks": ""
           },
           "bgcolor": "white",
           "radialaxis": {
            "gridcolor": "#EBF0F8",
            "linecolor": "#EBF0F8",
            "ticks": ""
           }
          },
          "scene": {
           "xaxis": {
            "backgroundcolor": "white",
            "gridcolor": "#DFE8F3",
            "gridwidth": 2,
            "linecolor": "#EBF0F8",
            "showbackground": true,
            "ticks": "",
            "zerolinecolor": "#EBF0F8"
           },
           "yaxis": {
            "backgroundcolor": "white",
            "gridcolor": "#DFE8F3",
            "gridwidth": 2,
            "linecolor": "#EBF0F8",
            "showbackground": true,
            "ticks": "",
            "zerolinecolor": "#EBF0F8"
           },
           "zaxis": {
            "backgroundcolor": "white",
            "gridcolor": "#DFE8F3",
            "gridwidth": 2,
            "linecolor": "#EBF0F8",
            "showbackground": true,
            "ticks": "",
            "zerolinecolor": "#EBF0F8"
           }
          },
          "shapedefaults": {
           "line": {
            "color": "#2a3f5f"
           }
          },
          "ternary": {
           "aaxis": {
            "gridcolor": "#DFE8F3",
            "linecolor": "#A2B1C6",
            "ticks": ""
           },
           "baxis": {
            "gridcolor": "#DFE8F3",
            "linecolor": "#A2B1C6",
            "ticks": ""
           },
           "bgcolor": "white",
           "caxis": {
            "gridcolor": "#DFE8F3",
            "linecolor": "#A2B1C6",
            "ticks": ""
           }
          },
          "title": {
           "x": 0.05
          },
          "xaxis": {
           "automargin": true,
           "gridcolor": "#EBF0F8",
           "linecolor": "#EBF0F8",
           "ticks": "",
           "title": {
            "standoff": 15
           },
           "zerolinecolor": "#EBF0F8",
           "zerolinewidth": 2
          },
          "yaxis": {
           "automargin": true,
           "gridcolor": "#EBF0F8",
           "linecolor": "#EBF0F8",
           "ticks": "",
           "title": {
            "standoff": 15
           },
           "zerolinecolor": "#EBF0F8",
           "zerolinewidth": 2
          }
         }
        },
        "title": {
         "text": "MMLU price-performance over time"
        },
        "xaxis": {
         "anchor": "y",
         "domain": [
          0,
          1
         ],
         "title": {
          "text": "Release Date"
         }
        },
        "yaxis": {
         "anchor": "x",
         "domain": [
          0,
          1
         ],
         "title": {
          "text": "MMLU price-performance"
         },
         "type": "log"
        }
       }
      }
     },
     "metadata": {},
     "output_type": "display_data"
    }
   ],
   "source": [
    "aa_df['MMLU price-performance'] = aa_df['MMLU'] / aa_df['USD per 1M Tokens']\n",
    "# Plot 'MMLU price-performance' vs. 'Date'\n",
    "fig = px.scatter(aa_df, x='Release Date', y='MMLU price-performance', title='MMLU price-performance over time', hover_data=['Model Name'])\n",
    "fig.update_layout(yaxis_type='log')\n",
    "fig.show()\n"
   ]
  },
  {
   "cell_type": "code",
   "execution_count": 14,
   "metadata": {},
   "outputs": [
    {
     "name": "stdout",
     "output_type": "stream",
     "text": [
      "['GPT-3 (2021-11)', 'GPT-3 (2022-09)', 'GPT-3.5 (2022-11)', 'GPT-3.5 Turbo (2023-03)', 'GPT-3.5-Turbo-2023-11 (2023-11)', 'Gemini-1.5-Flash-2024-05 (2024-05)', 'Gemini-1.5-Flash-8B (2024-10)', 'Llama 2-7B (2023-12)', 'Llama 2-7B (2024-04)', 'Llama-2-Chat-13B (2023-07)', 'Llama-3-Instruct-8B (2024-04)', 'Llama-3.1-Instruct-8B (2024-07)', 'Llama-3.2-Instruct-3B (2024-09)']\n"
     ]
    },
    {
     "data": {
      "application/vnd.plotly.v1+json": {
       "config": {
        "plotlyServerURL": "https://plot.ly"
       },
       "data": [
        {
         "customdata": [
          [
           "GPT-3 (2021-11)"
          ],
          [
           "GPT-3 (2022-09)"
          ],
          [
           "GPT-3.5 (2022-11)"
          ],
          [
           "GPT-3.5 Turbo (2023-03)"
          ],
          [
           "Llama-2-Chat-13B (2023-07)"
          ],
          [
           "GPT-3.5-Turbo-2023-11 (2023-11)"
          ],
          [
           "Llama 2-7B (2023-12)"
          ],
          [
           "Llama 2-7B (2024-04)"
          ],
          [
           "Llama-3-Instruct-8B (2024-04)"
          ],
          [
           "Gemini-1.5-Flash-2024-05 (2024-05)"
          ],
          [
           "Llama-3.1-Instruct-8B (2024-07)"
          ],
          [
           "Llama-3.2-Instruct-3B (2024-09)"
          ],
          [
           "Gemini-1.5-Flash-8B (2024-10)"
          ]
         ],
         "hovertemplate": "Release Date=%{x}<br>MMLU price-performance=%{y}<br>Model Name and Date=%{customdata[0]}<extra></extra>",
         "legendgroup": "",
         "marker": {
          "color": "#636efa",
          "symbol": "circle"
         },
         "mode": "markers",
         "name": "",
         "orientation": "v",
         "showlegend": false,
         "type": "scatter",
         "x": [
          "2021-11-20T00:00:00",
          "2022-09-01T00:00:00",
          "2022-11-30T00:00:00",
          "2023-03-06T00:00:00",
          "2023-07-18T00:00:00",
          "2023-11-06T00:00:00",
          "2023-12-01T00:00:00",
          "2024-04-14T00:00:00",
          "2024-04-18T00:00:00",
          "2024-05-10T00:00:00",
          "2024-07-23T00:00:00",
          "2024-09-24T00:00:00",
          "2024-10-03T00:00:00"
         ],
         "xaxis": "x",
         "y": [
          0.7316666666666667,
          2.195,
          3.2399999999999998,
          34,
          80.35714285714285,
          90.66666666666667,
          226.49999999999997,
          348.46153846153845,
          426.6666666666667,
          607.6923076923076,
          710,
          800,
          1071.4285714285713
         ],
         "yaxis": "y"
        }
       ],
       "layout": {
        "legend": {
         "tracegroupgap": 0
        },
        "template": {
         "data": {
          "bar": [
           {
            "error_x": {
             "color": "#2a3f5f"
            },
            "error_y": {
             "color": "#2a3f5f"
            },
            "marker": {
             "line": {
              "color": "white",
              "width": 0.5
             },
             "pattern": {
              "fillmode": "overlay",
              "size": 10,
              "solidity": 0.2
             }
            },
            "type": "bar"
           }
          ],
          "barpolar": [
           {
            "marker": {
             "line": {
              "color": "white",
              "width": 0.5
             },
             "pattern": {
              "fillmode": "overlay",
              "size": 10,
              "solidity": 0.2
             }
            },
            "type": "barpolar"
           }
          ],
          "carpet": [
           {
            "aaxis": {
             "endlinecolor": "#2a3f5f",
             "gridcolor": "#C8D4E3",
             "linecolor": "#C8D4E3",
             "minorgridcolor": "#C8D4E3",
             "startlinecolor": "#2a3f5f"
            },
            "baxis": {
             "endlinecolor": "#2a3f5f",
             "gridcolor": "#C8D4E3",
             "linecolor": "#C8D4E3",
             "minorgridcolor": "#C8D4E3",
             "startlinecolor": "#2a3f5f"
            },
            "type": "carpet"
           }
          ],
          "choropleth": [
           {
            "colorbar": {
             "outlinewidth": 0,
             "ticks": ""
            },
            "type": "choropleth"
           }
          ],
          "contour": [
           {
            "colorbar": {
             "outlinewidth": 0,
             "ticks": ""
            },
            "colorscale": [
             [
              0,
              "#0d0887"
             ],
             [
              0.1111111111111111,
              "#46039f"
             ],
             [
              0.2222222222222222,
              "#7201a8"
             ],
             [
              0.3333333333333333,
              "#9c179e"
             ],
             [
              0.4444444444444444,
              "#bd3786"
             ],
             [
              0.5555555555555556,
              "#d8576b"
             ],
             [
              0.6666666666666666,
              "#ed7953"
             ],
             [
              0.7777777777777778,
              "#fb9f3a"
             ],
             [
              0.8888888888888888,
              "#fdca26"
             ],
             [
              1,
              "#f0f921"
             ]
            ],
            "type": "contour"
           }
          ],
          "contourcarpet": [
           {
            "colorbar": {
             "outlinewidth": 0,
             "ticks": ""
            },
            "type": "contourcarpet"
           }
          ],
          "heatmap": [
           {
            "colorbar": {
             "outlinewidth": 0,
             "ticks": ""
            },
            "colorscale": [
             [
              0,
              "#0d0887"
             ],
             [
              0.1111111111111111,
              "#46039f"
             ],
             [
              0.2222222222222222,
              "#7201a8"
             ],
             [
              0.3333333333333333,
              "#9c179e"
             ],
             [
              0.4444444444444444,
              "#bd3786"
             ],
             [
              0.5555555555555556,
              "#d8576b"
             ],
             [
              0.6666666666666666,
              "#ed7953"
             ],
             [
              0.7777777777777778,
              "#fb9f3a"
             ],
             [
              0.8888888888888888,
              "#fdca26"
             ],
             [
              1,
              "#f0f921"
             ]
            ],
            "type": "heatmap"
           }
          ],
          "heatmapgl": [
           {
            "colorbar": {
             "outlinewidth": 0,
             "ticks": ""
            },
            "colorscale": [
             [
              0,
              "#0d0887"
             ],
             [
              0.1111111111111111,
              "#46039f"
             ],
             [
              0.2222222222222222,
              "#7201a8"
             ],
             [
              0.3333333333333333,
              "#9c179e"
             ],
             [
              0.4444444444444444,
              "#bd3786"
             ],
             [
              0.5555555555555556,
              "#d8576b"
             ],
             [
              0.6666666666666666,
              "#ed7953"
             ],
             [
              0.7777777777777778,
              "#fb9f3a"
             ],
             [
              0.8888888888888888,
              "#fdca26"
             ],
             [
              1,
              "#f0f921"
             ]
            ],
            "type": "heatmapgl"
           }
          ],
          "histogram": [
           {
            "marker": {
             "pattern": {
              "fillmode": "overlay",
              "size": 10,
              "solidity": 0.2
             }
            },
            "type": "histogram"
           }
          ],
          "histogram2d": [
           {
            "colorbar": {
             "outlinewidth": 0,
             "ticks": ""
            },
            "colorscale": [
             [
              0,
              "#0d0887"
             ],
             [
              0.1111111111111111,
              "#46039f"
             ],
             [
              0.2222222222222222,
              "#7201a8"
             ],
             [
              0.3333333333333333,
              "#9c179e"
             ],
             [
              0.4444444444444444,
              "#bd3786"
             ],
             [
              0.5555555555555556,
              "#d8576b"
             ],
             [
              0.6666666666666666,
              "#ed7953"
             ],
             [
              0.7777777777777778,
              "#fb9f3a"
             ],
             [
              0.8888888888888888,
              "#fdca26"
             ],
             [
              1,
              "#f0f921"
             ]
            ],
            "type": "histogram2d"
           }
          ],
          "histogram2dcontour": [
           {
            "colorbar": {
             "outlinewidth": 0,
             "ticks": ""
            },
            "colorscale": [
             [
              0,
              "#0d0887"
             ],
             [
              0.1111111111111111,
              "#46039f"
             ],
             [
              0.2222222222222222,
              "#7201a8"
             ],
             [
              0.3333333333333333,
              "#9c179e"
             ],
             [
              0.4444444444444444,
              "#bd3786"
             ],
             [
              0.5555555555555556,
              "#d8576b"
             ],
             [
              0.6666666666666666,
              "#ed7953"
             ],
             [
              0.7777777777777778,
              "#fb9f3a"
             ],
             [
              0.8888888888888888,
              "#fdca26"
             ],
             [
              1,
              "#f0f921"
             ]
            ],
            "type": "histogram2dcontour"
           }
          ],
          "mesh3d": [
           {
            "colorbar": {
             "outlinewidth": 0,
             "ticks": ""
            },
            "type": "mesh3d"
           }
          ],
          "parcoords": [
           {
            "line": {
             "colorbar": {
              "outlinewidth": 0,
              "ticks": ""
             }
            },
            "type": "parcoords"
           }
          ],
          "pie": [
           {
            "automargin": true,
            "type": "pie"
           }
          ],
          "scatter": [
           {
            "fillpattern": {
             "fillmode": "overlay",
             "size": 10,
             "solidity": 0.2
            },
            "type": "scatter"
           }
          ],
          "scatter3d": [
           {
            "line": {
             "colorbar": {
              "outlinewidth": 0,
              "ticks": ""
             }
            },
            "marker": {
             "colorbar": {
              "outlinewidth": 0,
              "ticks": ""
             }
            },
            "type": "scatter3d"
           }
          ],
          "scattercarpet": [
           {
            "marker": {
             "colorbar": {
              "outlinewidth": 0,
              "ticks": ""
             }
            },
            "type": "scattercarpet"
           }
          ],
          "scattergeo": [
           {
            "marker": {
             "colorbar": {
              "outlinewidth": 0,
              "ticks": ""
             }
            },
            "type": "scattergeo"
           }
          ],
          "scattergl": [
           {
            "marker": {
             "colorbar": {
              "outlinewidth": 0,
              "ticks": ""
             }
            },
            "type": "scattergl"
           }
          ],
          "scattermapbox": [
           {
            "marker": {
             "colorbar": {
              "outlinewidth": 0,
              "ticks": ""
             }
            },
            "type": "scattermapbox"
           }
          ],
          "scatterpolar": [
           {
            "marker": {
             "colorbar": {
              "outlinewidth": 0,
              "ticks": ""
             }
            },
            "type": "scatterpolar"
           }
          ],
          "scatterpolargl": [
           {
            "marker": {
             "colorbar": {
              "outlinewidth": 0,
              "ticks": ""
             }
            },
            "type": "scatterpolargl"
           }
          ],
          "scatterternary": [
           {
            "marker": {
             "colorbar": {
              "outlinewidth": 0,
              "ticks": ""
             }
            },
            "type": "scatterternary"
           }
          ],
          "surface": [
           {
            "colorbar": {
             "outlinewidth": 0,
             "ticks": ""
            },
            "colorscale": [
             [
              0,
              "#0d0887"
             ],
             [
              0.1111111111111111,
              "#46039f"
             ],
             [
              0.2222222222222222,
              "#7201a8"
             ],
             [
              0.3333333333333333,
              "#9c179e"
             ],
             [
              0.4444444444444444,
              "#bd3786"
             ],
             [
              0.5555555555555556,
              "#d8576b"
             ],
             [
              0.6666666666666666,
              "#ed7953"
             ],
             [
              0.7777777777777778,
              "#fb9f3a"
             ],
             [
              0.8888888888888888,
              "#fdca26"
             ],
             [
              1,
              "#f0f921"
             ]
            ],
            "type": "surface"
           }
          ],
          "table": [
           {
            "cells": {
             "fill": {
              "color": "#EBF0F8"
             },
             "line": {
              "color": "white"
             }
            },
            "header": {
             "fill": {
              "color": "#C8D4E3"
             },
             "line": {
              "color": "white"
             }
            },
            "type": "table"
           }
          ]
         },
         "layout": {
          "annotationdefaults": {
           "arrowcolor": "#2a3f5f",
           "arrowhead": 0,
           "arrowwidth": 1
          },
          "autotypenumbers": "strict",
          "coloraxis": {
           "colorbar": {
            "outlinewidth": 0,
            "ticks": ""
           }
          },
          "colorscale": {
           "diverging": [
            [
             0,
             "#8e0152"
            ],
            [
             0.1,
             "#c51b7d"
            ],
            [
             0.2,
             "#de77ae"
            ],
            [
             0.3,
             "#f1b6da"
            ],
            [
             0.4,
             "#fde0ef"
            ],
            [
             0.5,
             "#f7f7f7"
            ],
            [
             0.6,
             "#e6f5d0"
            ],
            [
             0.7,
             "#b8e186"
            ],
            [
             0.8,
             "#7fbc41"
            ],
            [
             0.9,
             "#4d9221"
            ],
            [
             1,
             "#276419"
            ]
           ],
           "sequential": [
            [
             0,
             "#0d0887"
            ],
            [
             0.1111111111111111,
             "#46039f"
            ],
            [
             0.2222222222222222,
             "#7201a8"
            ],
            [
             0.3333333333333333,
             "#9c179e"
            ],
            [
             0.4444444444444444,
             "#bd3786"
            ],
            [
             0.5555555555555556,
             "#d8576b"
            ],
            [
             0.6666666666666666,
             "#ed7953"
            ],
            [
             0.7777777777777778,
             "#fb9f3a"
            ],
            [
             0.8888888888888888,
             "#fdca26"
            ],
            [
             1,
             "#f0f921"
            ]
           ],
           "sequentialminus": [
            [
             0,
             "#0d0887"
            ],
            [
             0.1111111111111111,
             "#46039f"
            ],
            [
             0.2222222222222222,
             "#7201a8"
            ],
            [
             0.3333333333333333,
             "#9c179e"
            ],
            [
             0.4444444444444444,
             "#bd3786"
            ],
            [
             0.5555555555555556,
             "#d8576b"
            ],
            [
             0.6666666666666666,
             "#ed7953"
            ],
            [
             0.7777777777777778,
             "#fb9f3a"
            ],
            [
             0.8888888888888888,
             "#fdca26"
            ],
            [
             1,
             "#f0f921"
            ]
           ]
          },
          "colorway": [
           "#636efa",
           "#EF553B",
           "#00cc96",
           "#ab63fa",
           "#FFA15A",
           "#19d3f3",
           "#FF6692",
           "#B6E880",
           "#FF97FF",
           "#FECB52"
          ],
          "font": {
           "color": "#2a3f5f"
          },
          "geo": {
           "bgcolor": "white",
           "lakecolor": "white",
           "landcolor": "white",
           "showlakes": true,
           "showland": true,
           "subunitcolor": "#C8D4E3"
          },
          "hoverlabel": {
           "align": "left"
          },
          "hovermode": "closest",
          "mapbox": {
           "style": "light"
          },
          "paper_bgcolor": "white",
          "plot_bgcolor": "white",
          "polar": {
           "angularaxis": {
            "gridcolor": "#EBF0F8",
            "linecolor": "#EBF0F8",
            "ticks": ""
           },
           "bgcolor": "white",
           "radialaxis": {
            "gridcolor": "#EBF0F8",
            "linecolor": "#EBF0F8",
            "ticks": ""
           }
          },
          "scene": {
           "xaxis": {
            "backgroundcolor": "white",
            "gridcolor": "#DFE8F3",
            "gridwidth": 2,
            "linecolor": "#EBF0F8",
            "showbackground": true,
            "ticks": "",
            "zerolinecolor": "#EBF0F8"
           },
           "yaxis": {
            "backgroundcolor": "white",
            "gridcolor": "#DFE8F3",
            "gridwidth": 2,
            "linecolor": "#EBF0F8",
            "showbackground": true,
            "ticks": "",
            "zerolinecolor": "#EBF0F8"
           },
           "zaxis": {
            "backgroundcolor": "white",
            "gridcolor": "#DFE8F3",
            "gridwidth": 2,
            "linecolor": "#EBF0F8",
            "showbackground": true,
            "ticks": "",
            "zerolinecolor": "#EBF0F8"
           }
          },
          "shapedefaults": {
           "line": {
            "color": "#2a3f5f"
           }
          },
          "ternary": {
           "aaxis": {
            "gridcolor": "#DFE8F3",
            "linecolor": "#A2B1C6",
            "ticks": ""
           },
           "baxis": {
            "gridcolor": "#DFE8F3",
            "linecolor": "#A2B1C6",
            "ticks": ""
           },
           "bgcolor": "white",
           "caxis": {
            "gridcolor": "#DFE8F3",
            "linecolor": "#A2B1C6",
            "ticks": ""
           }
          },
          "title": {
           "x": 0.05
          },
          "xaxis": {
           "automargin": true,
           "gridcolor": "#EBF0F8",
           "linecolor": "#EBF0F8",
           "ticks": "",
           "title": {
            "standoff": 15
           },
           "zerolinecolor": "#EBF0F8",
           "zerolinewidth": 2
          },
          "yaxis": {
           "automargin": true,
           "gridcolor": "#EBF0F8",
           "linecolor": "#EBF0F8",
           "ticks": "",
           "title": {
            "standoff": 15
           },
           "zerolinecolor": "#EBF0F8",
           "zerolinewidth": 2
          }
         }
        },
        "title": {
         "text": "MMLU price-performance over time"
        },
        "xaxis": {
         "anchor": "y",
         "domain": [
          0,
          1
         ],
         "title": {
          "text": "Release Date"
         }
        },
        "yaxis": {
         "anchor": "x",
         "domain": [
          0,
          1
         ],
         "title": {
          "text": "MMLU price-performance"
         },
         "type": "log"
        }
       }
      }
     },
     "metadata": {},
     "output_type": "display_data"
    }
   ],
   "source": [
    "# Construct a list of 'Model Name' values that were ever in the top-n based on 'MMLU price-performance'\n",
    "top_n = 1\n",
    "aa_df = aa_df.sort_values(by='Release Date')\n",
    "ever_top_n_models = set()\n",
    "\n",
    "unique_dates = aa_df['Release Date'].sort_values().unique()\n",
    "\n",
    "for date in unique_dates:\n",
    "    df_up_to_date = aa_df[aa_df['Release Date'] <= date]\n",
    "    top_n_models = df_up_to_date.nlargest(top_n, 'MMLU price-performance')\n",
    "    top_n_model_names = top_n_models['Model Name and Date'].tolist()\n",
    "    ever_top_n_models.update(top_n_model_names)\n",
    "\n",
    "ever_top_n_list = sorted(ever_top_n_models)\n",
    "print(ever_top_n_list)\n",
    "\n",
    "# Plot top-n models over time\n",
    "fig = px.scatter(aa_df[aa_df['Model Name and Date'].isin(ever_top_n_list)], x='Release Date', y='MMLU price-performance', title='MMLU price-performance over time', hover_data=['Model Name and Date'])\n",
    "fig.update_layout(yaxis_type='log')\n",
    "fig.show()"
   ]
  },
  {
   "cell_type": "markdown",
   "metadata": {},
   "source": [
    "## Regression to lowest-priced models above a performance lower bound"
   ]
  },
  {
   "cell_type": "markdown",
   "metadata": {},
   "source": [
    "### Examples"
   ]
  },
  {
   "cell_type": "code",
   "execution_count": 15,
   "metadata": {},
   "outputs": [],
   "source": [
    "results_subdir = results_dir + 'lowest_price_models_examples/'\n",
    "os.makedirs(results_subdir, exist_ok=True)"
   ]
  },
  {
   "cell_type": "code",
   "execution_count": 16,
   "metadata": {},
   "outputs": [
    {
     "name": "stdout",
     "output_type": "stream",
     "text": [
      "2023-04-01 00:00:00 GPT-4-0314 86.0 $37.50\n",
      "2023-12-01 00:00:00 GPT-4 Turbo 87.0 $15.00\n",
      "2024-06-01 00:00:00 Gemini-1.5-Pro-2024-05 86.0 $2.19\n",
      "2024-08-01 00:00:00 GPT-4o-mini 82.0 $0.26\n",
      "2025-01-01 00:00:00 Phi 4 85.0 $0.12\n"
     ]
    }
   ],
   "source": [
    "\"\"\"\n",
    "  - Set a performance lower bound\n",
    "  - Track the running best (top) model\n",
    "  - At each point in time (at some resolution)\n",
    "    - Filter to new models published in this time window\n",
    "    - Filter to models with performance above the lower bound\n",
    "    - Check if any new model is cheaper than current best\n",
    "    - If so, update the current best\n",
    "    - Record the current best model at this time point\n",
    "\"\"\"\n",
    "bench = 'MMLU'\n",
    "performance_lower_bound = 80\n",
    "performance_upper_bound = 90\n",
    "ts = pd.date_range(start='2020-01-01', end=pd.Timestamp.today(), freq='MS')\n",
    "cheapest_models = []\n",
    "current_best = None\n",
    "\n",
    "for i, t in enumerate(ts):\n",
    "    # Get models published in this time window\n",
    "    benchmark_df = aa_df\n",
    "    if i > 0:\n",
    "        prev_t = ts[i-1]\n",
    "        benchmark_df = benchmark_df[(benchmark_df['Release Date'] >= prev_t) & (benchmark_df['Release Date'] < t)]\n",
    "    else:\n",
    "        benchmark_df = benchmark_df[benchmark_df['Release Date'] < t]\n",
    "        \n",
    "    # Filter for performance\n",
    "    benchmark_df = benchmark_df[\n",
    "        benchmark_df[bench].notna() &\n",
    "        (benchmark_df[bench] >= performance_lower_bound) &\n",
    "        (benchmark_df[bench] < performance_upper_bound)\n",
    "    ]\n",
    "    \n",
    "    if not benchmark_df.empty:\n",
    "        # Find cheapest new model\n",
    "        new_best = benchmark_df.loc[benchmark_df['USD per 1M Tokens'].idxmin()]\n",
    "        \n",
    "        # Update current best if new model is cheaper (or if no current best)\n",
    "        if current_best is None or new_best['USD per 1M Tokens'] < current_best['USD per 1M Tokens']:\n",
    "            current_best = new_best\n",
    "            cheapest_models.append(current_best)\n",
    "            print(t, current_best['Model Name'], current_best[bench], f\"${current_best['USD per 1M Tokens']:.2f}\")\n",
    "        # elif new_best['USD per 1M Tokens'] == current_best['USD per 1M Tokens']:\n",
    "        #     # Choose the model with the highest performance\n",
    "        #     if new_best[bench] > current_best[bench]:\n",
    "        #         current_best = new_best\n",
    "        #         cheapest_models.append(current_best)\n",
    "        #         print(t, current_best['Model Name'], current_best[bench], f\"${current_best['USD per 1M Tokens']:.2f}\")\n"
   ]
  },
  {
   "cell_type": "code",
   "execution_count": 17,
   "metadata": {},
   "outputs": [
    {
     "data": {
      "text/html": [
       "<div>\n",
       "<style scoped>\n",
       "    .dataframe tbody tr th:only-of-type {\n",
       "        vertical-align: middle;\n",
       "    }\n",
       "\n",
       "    .dataframe tbody tr th {\n",
       "        vertical-align: top;\n",
       "    }\n",
       "\n",
       "    .dataframe thead th {\n",
       "        text-align: right;\n",
       "    }\n",
       "</style>\n",
       "<table border=\"1\" class=\"dataframe\">\n",
       "  <thead>\n",
       "    <tr style=\"text-align: right;\">\n",
       "      <th></th>\n",
       "      <th>Model Name</th>\n",
       "      <th>Release Date</th>\n",
       "      <th>USD per 1M Tokens</th>\n",
       "      <th>MMLU</th>\n",
       "      <th>GPQA Diamond</th>\n",
       "      <th>HumanEval</th>\n",
       "      <th>MATH-500</th>\n",
       "      <th>LMSys Chatbot Arena ELO</th>\n",
       "      <th>MATH 5</th>\n",
       "      <th>Tokens per Second</th>\n",
       "      <th>Prefill Latency (s)</th>\n",
       "      <th>Prompt Length (tk)</th>\n",
       "      <th>Model Name and Date</th>\n",
       "      <th>MMLU price-performance</th>\n",
       "    </tr>\n",
       "  </thead>\n",
       "  <tbody>\n",
       "    <tr>\n",
       "      <th>5</th>\n",
       "      <td>GPT-4-0314</td>\n",
       "      <td>2023-03-14</td>\n",
       "      <td>37.5000</td>\n",
       "      <td>86.0</td>\n",
       "      <td>33.0</td>\n",
       "      <td>67.0</td>\n",
       "      <td>NaN</td>\n",
       "      <td>1186.0</td>\n",
       "      <td>NaN</td>\n",
       "      <td>23.6</td>\n",
       "      <td>0.724</td>\n",
       "      <td>1000.0</td>\n",
       "      <td>GPT-4-0314 (2023-03)</td>\n",
       "      <td>2.293333</td>\n",
       "    </tr>\n",
       "    <tr>\n",
       "      <th>10</th>\n",
       "      <td>GPT-4 Turbo</td>\n",
       "      <td>2023-11-06</td>\n",
       "      <td>15.0000</td>\n",
       "      <td>87.0</td>\n",
       "      <td>50.0</td>\n",
       "      <td>92.0</td>\n",
       "      <td>74.0</td>\n",
       "      <td>1256.0</td>\n",
       "      <td>36.0</td>\n",
       "      <td>39.2</td>\n",
       "      <td>1.246</td>\n",
       "      <td>1000.0</td>\n",
       "      <td>GPT-4 Turbo (2023-11)</td>\n",
       "      <td>5.800000</td>\n",
       "    </tr>\n",
       "    <tr>\n",
       "      <th>28</th>\n",
       "      <td>Gemini-1.5-Pro-2024-05</td>\n",
       "      <td>2024-05-23</td>\n",
       "      <td>2.1900</td>\n",
       "      <td>86.0</td>\n",
       "      <td>46.0</td>\n",
       "      <td>83.0</td>\n",
       "      <td>66.0</td>\n",
       "      <td>1260.0</td>\n",
       "      <td>41.0</td>\n",
       "      <td>64.8</td>\n",
       "      <td>0.738</td>\n",
       "      <td>1000.0</td>\n",
       "      <td>Gemini-1.5-Pro-2024-05 (2024-05)</td>\n",
       "      <td>39.269406</td>\n",
       "    </tr>\n",
       "    <tr>\n",
       "      <th>33</th>\n",
       "      <td>GPT-4o-mini</td>\n",
       "      <td>2024-07-18</td>\n",
       "      <td>0.2600</td>\n",
       "      <td>82.0</td>\n",
       "      <td>43.0</td>\n",
       "      <td>88.0</td>\n",
       "      <td>79.0</td>\n",
       "      <td>1273.0</td>\n",
       "      <td>48.0</td>\n",
       "      <td>112.2</td>\n",
       "      <td>0.626</td>\n",
       "      <td>1000.0</td>\n",
       "      <td>GPT-4o-mini (2024-07)</td>\n",
       "      <td>315.384615</td>\n",
       "    </tr>\n",
       "    <tr>\n",
       "      <th>63</th>\n",
       "      <td>Phi 4</td>\n",
       "      <td>2024-12-13</td>\n",
       "      <td>0.1225</td>\n",
       "      <td>85.0</td>\n",
       "      <td>53.0</td>\n",
       "      <td>87.0</td>\n",
       "      <td>81.0</td>\n",
       "      <td>1204.0</td>\n",
       "      <td>65.0</td>\n",
       "      <td>NaN</td>\n",
       "      <td>NaN</td>\n",
       "      <td>NaN</td>\n",
       "      <td>Phi 4 (2024-12)</td>\n",
       "      <td>693.877551</td>\n",
       "    </tr>\n",
       "  </tbody>\n",
       "</table>\n",
       "</div>"
      ],
      "text/plain": [
       "                Model Name Release Date  USD per 1M Tokens  MMLU  \\\n",
       "5               GPT-4-0314   2023-03-14            37.5000  86.0   \n",
       "10             GPT-4 Turbo   2023-11-06            15.0000  87.0   \n",
       "28  Gemini-1.5-Pro-2024-05   2024-05-23             2.1900  86.0   \n",
       "33             GPT-4o-mini   2024-07-18             0.2600  82.0   \n",
       "63                   Phi 4   2024-12-13             0.1225  85.0   \n",
       "\n",
       "    GPQA Diamond  HumanEval  MATH-500  LMSys Chatbot Arena ELO  MATH 5  \\\n",
       "5           33.0       67.0       NaN                   1186.0     NaN   \n",
       "10          50.0       92.0      74.0                   1256.0    36.0   \n",
       "28          46.0       83.0      66.0                   1260.0    41.0   \n",
       "33          43.0       88.0      79.0                   1273.0    48.0   \n",
       "63          53.0       87.0      81.0                   1204.0    65.0   \n",
       "\n",
       "    Tokens per Second  Prefill Latency (s)  Prompt Length (tk)  \\\n",
       "5                23.6                0.724              1000.0   \n",
       "10               39.2                1.246              1000.0   \n",
       "28               64.8                0.738              1000.0   \n",
       "33              112.2                0.626              1000.0   \n",
       "63                NaN                  NaN                 NaN   \n",
       "\n",
       "                 Model Name and Date  MMLU price-performance  \n",
       "5               GPT-4-0314 (2023-03)                2.293333  \n",
       "10             GPT-4 Turbo (2023-11)                5.800000  \n",
       "28  Gemini-1.5-Pro-2024-05 (2024-05)               39.269406  \n",
       "33             GPT-4o-mini (2024-07)              315.384615  \n",
       "63                   Phi 4 (2024-12)              693.877551  "
      ]
     },
     "execution_count": 17,
     "metadata": {},
     "output_type": "execute_result"
    }
   ],
   "source": [
    "cheapest_models_df = pd.DataFrame(cheapest_models)\n",
    "cheapest_models_df.head()"
   ]
  },
  {
   "cell_type": "code",
   "execution_count": 18,
   "metadata": {},
   "outputs": [
    {
     "name": "stdout",
     "output_type": "stream",
     "text": [
      "                            OLS Regression Results                            \n",
      "==============================================================================\n",
      "Dep. Variable:              log_price   R-squared:                       0.909\n",
      "Model:                            OLS   Adj. R-squared:                  0.879\n",
      "Method:                 Least Squares   F-statistic:                     29.98\n",
      "Date:                Tue, 04 Mar 2025   Prob (F-statistic):             0.0120\n",
      "Time:                        14:44:17   Log-Likelihood:               -0.91580\n",
      "No. Observations:                   5   AIC:                             5.832\n",
      "Df Residuals:                       3   BIC:                             5.050\n",
      "Df Model:                           1                                         \n",
      "Covariance Type:            nonrobust                                         \n",
      "==============================================================================\n",
      "                 coef    std err          t      P>|t|      [0.025      0.975]\n",
      "------------------------------------------------------------------------------\n",
      "Intercept   3058.9717    558.594      5.476      0.012    1281.277    4836.667\n",
      "date          -0.0041      0.001     -5.476      0.012      -0.007      -0.002\n",
      "==============================================================================\n",
      "Omnibus:                          nan   Durbin-Watson:                   2.138\n",
      "Prob(Omnibus):                    nan   Jarque-Bera (JB):                0.612\n",
      "Skew:                           0.131   Prob(JB):                        0.736\n",
      "Kurtosis:                       1.306   Cond. No.                     2.46e+09\n",
      "==============================================================================\n",
      "\n",
      "Notes:\n",
      "[1] Standard Errors assume that the covariance matrix of the errors is correctly specified.\n",
      "[2] The condition number is large, 2.46e+09. This might indicate that there are\n",
      "strong multicollinearity or other numerical problems.\n",
      "                            OLS Regression Results                            \n",
      "==============================================================================\n",
      "Dep. Variable:                  price   R-squared:                       0.907\n",
      "Model:                            OLS   Adj. R-squared:                  0.876\n",
      "Method:                 Least Squares   F-statistic:                     29.21\n",
      "Date:                Tue, 04 Mar 2025   Prob (F-statistic):             0.0124\n",
      "Time:                        14:44:17   Log-Likelihood:                -14.479\n",
      "No. Observations:                   5   AIC:                             32.96\n",
      "Df Residuals:                       3   BIC:                             32.18\n",
      "Df Model:                           1                                         \n",
      "Covariance Type:            nonrobust                                         \n",
      "==============================================================================\n",
      "                 coef    std err          t      P>|t|      [0.025      0.975]\n",
      "------------------------------------------------------------------------------\n",
      "Intercept    4.55e+04   8417.811      5.406      0.012    1.87e+04    7.23e+04\n",
      "date          -0.0616      0.011     -5.404      0.012      -0.098      -0.025\n",
      "==============================================================================\n",
      "Omnibus:                          nan   Durbin-Watson:                   1.519\n",
      "Prob(Omnibus):                    nan   Jarque-Bera (JB):                0.745\n",
      "Skew:                           0.436   Prob(JB):                        0.689\n",
      "Kurtosis:                       1.323   Cond. No.                     2.46e+09\n",
      "==============================================================================\n",
      "\n",
      "Notes:\n",
      "[1] Standard Errors assume that the covariance matrix of the errors is correctly specified.\n",
      "[2] The condition number is large, 2.46e+09. This might indicate that there are\n",
      "strong multicollinearity or other numerical problems.\n"
     ]
    },
    {
     "name": "stderr",
     "output_type": "stream",
     "text": [
      "/Users/bencottier/miniconda3/envs/llm-efficiency/lib/python3.12/site-packages/statsmodels/stats/stattools.py:74: ValueWarning:\n",
      "\n",
      "omni_normtest is not valid with less than 8 observations; 5 samples were given.\n",
      "\n",
      "/Users/bencottier/miniconda3/envs/llm-efficiency/lib/python3.12/site-packages/statsmodels/stats/stattools.py:74: ValueWarning:\n",
      "\n",
      "omni_normtest is not valid with less than 8 observations; 5 samples were given.\n",
      "\n"
     ]
    }
   ],
   "source": [
    "# Fit a line to the data\n",
    "cheapest_models_df['price'] = cheapest_models_df['USD per 1M Tokens']\n",
    "cheapest_models_df['log_price'] = np.log10(cheapest_models_df['USD per 1M Tokens'])\n",
    "cheapest_models_df['date'] = cheapest_models_df['Release Date'].map(lambda x: pd.Timestamp(x).toordinal())\n",
    "exponential_model = smf.ols('log_price ~ date', data=cheapest_models_df).fit()\n",
    "print(exponential_model.summary())\n",
    "\n",
    "linear_model = smf.ols('price ~ date', data=cheapest_models_df).fit()\n",
    "print(linear_model.summary())"
   ]
  },
  {
   "cell_type": "code",
   "execution_count": 19,
   "metadata": {},
   "outputs": [
    {
     "data": {
      "application/vnd.plotly.v1+json": {
       "config": {
        "plotlyServerURL": "https://plot.ly"
       },
       "data": [
        {
         "line": {
          "color": "blue",
          "dash": "dash"
         },
         "mode": "lines",
         "name": "Trendline: 32x decrease per year",
         "textposition": "bottom left",
         "type": "scatter",
         "x": [
          "2023-03-14T00:00:00",
          "2023-11-06T00:00:00",
          "2024-05-23T00:00:00",
          "2024-07-18T00:00:00",
          "2024-12-13T00:00:00"
         ],
         "y": [
          65.00907452728526,
          6.791907230365377,
          1.0192900822657676,
          0.597729275368191,
          0.14585053413472432
         ]
        },
        {
         "marker": {
          "color": "blue"
         },
         "mode": "markers+text",
         "name": "Cheapest models with 80-90% on MMLU",
         "text": [
          "GPT-4-0314",
          "GPT-4 Turbo",
          "Gemini-1.5-Pro-2024-05",
          "GPT-4o-mini",
          "Phi 4"
         ],
         "textposition": "bottom left",
         "type": "scatter",
         "x": [
          "2023-03-14T00:00:00",
          "2023-11-06T00:00:00",
          "2024-05-23T00:00:00",
          "2024-07-18T00:00:00",
          "2024-12-13T00:00:00"
         ],
         "y": [
          37.5,
          15,
          2.19,
          0.26,
          0.1225
         ]
        },
        {
         "marker": {
          "color": "lightblue"
         },
         "mode": "markers+text",
         "name": "Other models with 80-90% on MMLU",
         "text": [
          "Claude-3-Opus",
          "GPT-4o-2024-05",
          "Claude-3.5-Sonnet-2024-06",
          "Llama-3.1-Instruct-405B",
          "Llama-3.1-Instruct-70B",
          "Mistral-Large-2-2024-07",
          "GPT-4o-2024-08",
          "Jamba 1.5-Large",
          "Reka Core",
          "Gemini-1.5-Pro-2024-09",
          "Claude-3.5-Sonnet-2024-10",
          "Claude-3.5-Haiku",
          "Mistral-Large-2-2024-11",
          "GPT-4o-2024-11",
          "Mistral Small 3",
          "Gemini 2.0 Flash"
         ],
         "textposition": "bottom left",
         "type": "scatter",
         "x": [
          "2024-03-04T00:00:00",
          "2024-05-13T00:00:00",
          "2024-06-20T00:00:00",
          "2024-07-23T00:00:00",
          "2024-07-23T00:00:00",
          "2024-07-24T00:00:00",
          "2024-08-06T00:00:00",
          "2024-09-12T00:00:00",
          "2024-09-14T00:00:00",
          "2024-09-24T00:00:00",
          "2024-10-22T00:00:00",
          "2024-10-22T00:00:00",
          "2024-11-18T00:00:00",
          "2024-11-20T00:00:00",
          "2025-01-30T00:00:00",
          "2025-02-05T00:00:00"
         ],
         "y": [
          30,
          7.5,
          6,
          3.5,
          0.72,
          3,
          4.38,
          3.5,
          4,
          2.19,
          6,
          1.6,
          3,
          4.38,
          0.475,
          0.175
         ]
        }
       ],
       "layout": {
        "font": {
         "size": 10
        },
        "height": 600,
        "legend": {
         "bordercolor": "lightgrey",
         "borderwidth": 1,
         "x": 0.4,
         "xanchor": "right",
         "y": 0.25,
         "yanchor": "top"
        },
        "template": {
         "data": {
          "bar": [
           {
            "error_x": {
             "color": "#2a3f5f"
            },
            "error_y": {
             "color": "#2a3f5f"
            },
            "marker": {
             "line": {
              "color": "white",
              "width": 0.5
             },
             "pattern": {
              "fillmode": "overlay",
              "size": 10,
              "solidity": 0.2
             }
            },
            "type": "bar"
           }
          ],
          "barpolar": [
           {
            "marker": {
             "line": {
              "color": "white",
              "width": 0.5
             },
             "pattern": {
              "fillmode": "overlay",
              "size": 10,
              "solidity": 0.2
             }
            },
            "type": "barpolar"
           }
          ],
          "carpet": [
           {
            "aaxis": {
             "endlinecolor": "#2a3f5f",
             "gridcolor": "#C8D4E3",
             "linecolor": "#C8D4E3",
             "minorgridcolor": "#C8D4E3",
             "startlinecolor": "#2a3f5f"
            },
            "baxis": {
             "endlinecolor": "#2a3f5f",
             "gridcolor": "#C8D4E3",
             "linecolor": "#C8D4E3",
             "minorgridcolor": "#C8D4E3",
             "startlinecolor": "#2a3f5f"
            },
            "type": "carpet"
           }
          ],
          "choropleth": [
           {
            "colorbar": {
             "outlinewidth": 0,
             "ticks": ""
            },
            "type": "choropleth"
           }
          ],
          "contour": [
           {
            "colorbar": {
             "outlinewidth": 0,
             "ticks": ""
            },
            "colorscale": [
             [
              0,
              "#0d0887"
             ],
             [
              0.1111111111111111,
              "#46039f"
             ],
             [
              0.2222222222222222,
              "#7201a8"
             ],
             [
              0.3333333333333333,
              "#9c179e"
             ],
             [
              0.4444444444444444,
              "#bd3786"
             ],
             [
              0.5555555555555556,
              "#d8576b"
             ],
             [
              0.6666666666666666,
              "#ed7953"
             ],
             [
              0.7777777777777778,
              "#fb9f3a"
             ],
             [
              0.8888888888888888,
              "#fdca26"
             ],
             [
              1,
              "#f0f921"
             ]
            ],
            "type": "contour"
           }
          ],
          "contourcarpet": [
           {
            "colorbar": {
             "outlinewidth": 0,
             "ticks": ""
            },
            "type": "contourcarpet"
           }
          ],
          "heatmap": [
           {
            "colorbar": {
             "outlinewidth": 0,
             "ticks": ""
            },
            "colorscale": [
             [
              0,
              "#0d0887"
             ],
             [
              0.1111111111111111,
              "#46039f"
             ],
             [
              0.2222222222222222,
              "#7201a8"
             ],
             [
              0.3333333333333333,
              "#9c179e"
             ],
             [
              0.4444444444444444,
              "#bd3786"
             ],
             [
              0.5555555555555556,
              "#d8576b"
             ],
             [
              0.6666666666666666,
              "#ed7953"
             ],
             [
              0.7777777777777778,
              "#fb9f3a"
             ],
             [
              0.8888888888888888,
              "#fdca26"
             ],
             [
              1,
              "#f0f921"
             ]
            ],
            "type": "heatmap"
           }
          ],
          "heatmapgl": [
           {
            "colorbar": {
             "outlinewidth": 0,
             "ticks": ""
            },
            "colorscale": [
             [
              0,
              "#0d0887"
             ],
             [
              0.1111111111111111,
              "#46039f"
             ],
             [
              0.2222222222222222,
              "#7201a8"
             ],
             [
              0.3333333333333333,
              "#9c179e"
             ],
             [
              0.4444444444444444,
              "#bd3786"
             ],
             [
              0.5555555555555556,
              "#d8576b"
             ],
             [
              0.6666666666666666,
              "#ed7953"
             ],
             [
              0.7777777777777778,
              "#fb9f3a"
             ],
             [
              0.8888888888888888,
              "#fdca26"
             ],
             [
              1,
              "#f0f921"
             ]
            ],
            "type": "heatmapgl"
           }
          ],
          "histogram": [
           {
            "marker": {
             "pattern": {
              "fillmode": "overlay",
              "size": 10,
              "solidity": 0.2
             }
            },
            "type": "histogram"
           }
          ],
          "histogram2d": [
           {
            "colorbar": {
             "outlinewidth": 0,
             "ticks": ""
            },
            "colorscale": [
             [
              0,
              "#0d0887"
             ],
             [
              0.1111111111111111,
              "#46039f"
             ],
             [
              0.2222222222222222,
              "#7201a8"
             ],
             [
              0.3333333333333333,
              "#9c179e"
             ],
             [
              0.4444444444444444,
              "#bd3786"
             ],
             [
              0.5555555555555556,
              "#d8576b"
             ],
             [
              0.6666666666666666,
              "#ed7953"
             ],
             [
              0.7777777777777778,
              "#fb9f3a"
             ],
             [
              0.8888888888888888,
              "#fdca26"
             ],
             [
              1,
              "#f0f921"
             ]
            ],
            "type": "histogram2d"
           }
          ],
          "histogram2dcontour": [
           {
            "colorbar": {
             "outlinewidth": 0,
             "ticks": ""
            },
            "colorscale": [
             [
              0,
              "#0d0887"
             ],
             [
              0.1111111111111111,
              "#46039f"
             ],
             [
              0.2222222222222222,
              "#7201a8"
             ],
             [
              0.3333333333333333,
              "#9c179e"
             ],
             [
              0.4444444444444444,
              "#bd3786"
             ],
             [
              0.5555555555555556,
              "#d8576b"
             ],
             [
              0.6666666666666666,
              "#ed7953"
             ],
             [
              0.7777777777777778,
              "#fb9f3a"
             ],
             [
              0.8888888888888888,
              "#fdca26"
             ],
             [
              1,
              "#f0f921"
             ]
            ],
            "type": "histogram2dcontour"
           }
          ],
          "mesh3d": [
           {
            "colorbar": {
             "outlinewidth": 0,
             "ticks": ""
            },
            "type": "mesh3d"
           }
          ],
          "parcoords": [
           {
            "line": {
             "colorbar": {
              "outlinewidth": 0,
              "ticks": ""
             }
            },
            "type": "parcoords"
           }
          ],
          "pie": [
           {
            "automargin": true,
            "type": "pie"
           }
          ],
          "scatter": [
           {
            "fillpattern": {
             "fillmode": "overlay",
             "size": 10,
             "solidity": 0.2
            },
            "type": "scatter"
           }
          ],
          "scatter3d": [
           {
            "line": {
             "colorbar": {
              "outlinewidth": 0,
              "ticks": ""
             }
            },
            "marker": {
             "colorbar": {
              "outlinewidth": 0,
              "ticks": ""
             }
            },
            "type": "scatter3d"
           }
          ],
          "scattercarpet": [
           {
            "marker": {
             "colorbar": {
              "outlinewidth": 0,
              "ticks": ""
             }
            },
            "type": "scattercarpet"
           }
          ],
          "scattergeo": [
           {
            "marker": {
             "colorbar": {
              "outlinewidth": 0,
              "ticks": ""
             }
            },
            "type": "scattergeo"
           }
          ],
          "scattergl": [
           {
            "marker": {
             "colorbar": {
              "outlinewidth": 0,
              "ticks": ""
             }
            },
            "type": "scattergl"
           }
          ],
          "scattermapbox": [
           {
            "marker": {
             "colorbar": {
              "outlinewidth": 0,
              "ticks": ""
             }
            },
            "type": "scattermapbox"
           }
          ],
          "scatterpolar": [
           {
            "marker": {
             "colorbar": {
              "outlinewidth": 0,
              "ticks": ""
             }
            },
            "type": "scatterpolar"
           }
          ],
          "scatterpolargl": [
           {
            "marker": {
             "colorbar": {
              "outlinewidth": 0,
              "ticks": ""
             }
            },
            "type": "scatterpolargl"
           }
          ],
          "scatterternary": [
           {
            "marker": {
             "colorbar": {
              "outlinewidth": 0,
              "ticks": ""
             }
            },
            "type": "scatterternary"
           }
          ],
          "surface": [
           {
            "colorbar": {
             "outlinewidth": 0,
             "ticks": ""
            },
            "colorscale": [
             [
              0,
              "#0d0887"
             ],
             [
              0.1111111111111111,
              "#46039f"
             ],
             [
              0.2222222222222222,
              "#7201a8"
             ],
             [
              0.3333333333333333,
              "#9c179e"
             ],
             [
              0.4444444444444444,
              "#bd3786"
             ],
             [
              0.5555555555555556,
              "#d8576b"
             ],
             [
              0.6666666666666666,
              "#ed7953"
             ],
             [
              0.7777777777777778,
              "#fb9f3a"
             ],
             [
              0.8888888888888888,
              "#fdca26"
             ],
             [
              1,
              "#f0f921"
             ]
            ],
            "type": "surface"
           }
          ],
          "table": [
           {
            "cells": {
             "fill": {
              "color": "#EBF0F8"
             },
             "line": {
              "color": "white"
             }
            },
            "header": {
             "fill": {
              "color": "#C8D4E3"
             },
             "line": {
              "color": "white"
             }
            },
            "type": "table"
           }
          ]
         },
         "layout": {
          "annotationdefaults": {
           "arrowcolor": "#2a3f5f",
           "arrowhead": 0,
           "arrowwidth": 1
          },
          "autotypenumbers": "strict",
          "coloraxis": {
           "colorbar": {
            "outlinewidth": 0,
            "ticks": ""
           }
          },
          "colorscale": {
           "diverging": [
            [
             0,
             "#8e0152"
            ],
            [
             0.1,
             "#c51b7d"
            ],
            [
             0.2,
             "#de77ae"
            ],
            [
             0.3,
             "#f1b6da"
            ],
            [
             0.4,
             "#fde0ef"
            ],
            [
             0.5,
             "#f7f7f7"
            ],
            [
             0.6,
             "#e6f5d0"
            ],
            [
             0.7,
             "#b8e186"
            ],
            [
             0.8,
             "#7fbc41"
            ],
            [
             0.9,
             "#4d9221"
            ],
            [
             1,
             "#276419"
            ]
           ],
           "sequential": [
            [
             0,
             "#0d0887"
            ],
            [
             0.1111111111111111,
             "#46039f"
            ],
            [
             0.2222222222222222,
             "#7201a8"
            ],
            [
             0.3333333333333333,
             "#9c179e"
            ],
            [
             0.4444444444444444,
             "#bd3786"
            ],
            [
             0.5555555555555556,
             "#d8576b"
            ],
            [
             0.6666666666666666,
             "#ed7953"
            ],
            [
             0.7777777777777778,
             "#fb9f3a"
            ],
            [
             0.8888888888888888,
             "#fdca26"
            ],
            [
             1,
             "#f0f921"
            ]
           ],
           "sequentialminus": [
            [
             0,
             "#0d0887"
            ],
            [
             0.1111111111111111,
             "#46039f"
            ],
            [
             0.2222222222222222,
             "#7201a8"
            ],
            [
             0.3333333333333333,
             "#9c179e"
            ],
            [
             0.4444444444444444,
             "#bd3786"
            ],
            [
             0.5555555555555556,
             "#d8576b"
            ],
            [
             0.6666666666666666,
             "#ed7953"
            ],
            [
             0.7777777777777778,
             "#fb9f3a"
            ],
            [
             0.8888888888888888,
             "#fdca26"
            ],
            [
             1,
             "#f0f921"
            ]
           ]
          },
          "colorway": [
           "#636efa",
           "#EF553B",
           "#00cc96",
           "#ab63fa",
           "#FFA15A",
           "#19d3f3",
           "#FF6692",
           "#B6E880",
           "#FF97FF",
           "#FECB52"
          ],
          "font": {
           "color": "#2a3f5f"
          },
          "geo": {
           "bgcolor": "white",
           "lakecolor": "white",
           "landcolor": "white",
           "showlakes": true,
           "showland": true,
           "subunitcolor": "#C8D4E3"
          },
          "hoverlabel": {
           "align": "left"
          },
          "hovermode": "closest",
          "mapbox": {
           "style": "light"
          },
          "paper_bgcolor": "white",
          "plot_bgcolor": "white",
          "polar": {
           "angularaxis": {
            "gridcolor": "#EBF0F8",
            "linecolor": "#EBF0F8",
            "ticks": ""
           },
           "bgcolor": "white",
           "radialaxis": {
            "gridcolor": "#EBF0F8",
            "linecolor": "#EBF0F8",
            "ticks": ""
           }
          },
          "scene": {
           "xaxis": {
            "backgroundcolor": "white",
            "gridcolor": "#DFE8F3",
            "gridwidth": 2,
            "linecolor": "#EBF0F8",
            "showbackground": true,
            "ticks": "",
            "zerolinecolor": "#EBF0F8"
           },
           "yaxis": {
            "backgroundcolor": "white",
            "gridcolor": "#DFE8F3",
            "gridwidth": 2,
            "linecolor": "#EBF0F8",
            "showbackground": true,
            "ticks": "",
            "zerolinecolor": "#EBF0F8"
           },
           "zaxis": {
            "backgroundcolor": "white",
            "gridcolor": "#DFE8F3",
            "gridwidth": 2,
            "linecolor": "#EBF0F8",
            "showbackground": true,
            "ticks": "",
            "zerolinecolor": "#EBF0F8"
           }
          },
          "shapedefaults": {
           "line": {
            "color": "#2a3f5f"
           }
          },
          "ternary": {
           "aaxis": {
            "gridcolor": "#DFE8F3",
            "linecolor": "#A2B1C6",
            "ticks": ""
           },
           "baxis": {
            "gridcolor": "#DFE8F3",
            "linecolor": "#A2B1C6",
            "ticks": ""
           },
           "bgcolor": "white",
           "caxis": {
            "gridcolor": "#DFE8F3",
            "linecolor": "#A2B1C6",
            "ticks": ""
           }
          },
          "title": {
           "x": 0.05
          },
          "xaxis": {
           "automargin": true,
           "gridcolor": "#EBF0F8",
           "linecolor": "#EBF0F8",
           "ticks": "",
           "title": {
            "standoff": 15
           },
           "zerolinecolor": "#EBF0F8",
           "zerolinewidth": 2
          },
          "yaxis": {
           "automargin": true,
           "gridcolor": "#EBF0F8",
           "linecolor": "#EBF0F8",
           "ticks": "",
           "title": {
            "standoff": 15
           },
           "zerolinecolor": "#EBF0F8",
           "zerolinewidth": 2
          }
         }
        },
        "title": {
         "text": "Price of the cheapest model with 80-90% on MMLU"
        },
        "width": 1000,
        "xaxis": {
         "range": [
          "2022-12-14T00:00:00",
          "2025-03-07T00:00:00"
         ],
         "title": {
          "text": "Month"
         }
        },
        "yaxis": {
         "title": {
          "text": "Price in USD per million tokens"
         },
         "type": "log"
        }
       }
      }
     },
     "metadata": {},
     "output_type": "display_data"
    }
   ],
   "source": [
    "# Calculate annual rate of decrease\n",
    "annual_slope = exponential_model.params['date'] * 365  # Convert daily to annual\n",
    "annual_factor = int(round(10**(-annual_slope)))  # Convert log slope to factor\n",
    "\n",
    "# Plot the exponential trendline with the data\n",
    "fig = go.Figure()\n",
    "fig.add_trace(go.Scatter(\n",
    "    x=cheapest_models_df['Release Date'],\n",
    "    y=10**exponential_model.predict(cheapest_models_df['date']),\n",
    "    mode='lines',\n",
    "    name=f'Trendline: {annual_factor}x decrease per year',\n",
    "    line=dict(color='blue', dash='dash')\n",
    "))\n",
    "fig.add_trace(go.Scatter(\n",
    "    x=cheapest_models_df['Release Date'],\n",
    "    y=cheapest_models_df['USD per 1M Tokens'],\n",
    "    mode='markers+text',\n",
    "    name=f'Cheapest models with {performance_lower_bound}-{performance_upper_bound}% on {bench}',\n",
    "    text=cheapest_models_df['Model Name'],\n",
    "    textposition='bottom left',\n",
    "    marker=dict(color='blue')\n",
    "    # line=dict(shape='hv'),\n",
    "))\n",
    "other_models_df = aa_df[(aa_df[bench].notna()) & (aa_df[bench] >= performance_lower_bound) & ~(aa_df['Model Name'].isin(cheapest_models_df['Model Name']))]\n",
    "fig.add_trace(go.Scatter(\n",
    "    x=other_models_df['Release Date'],\n",
    "    y=other_models_df['USD per 1M Tokens'],\n",
    "    mode='markers+text',\n",
    "    name=f'Other models with {performance_lower_bound}-{performance_upper_bound}% on {bench}',\n",
    "    text=other_models_df['Model Name'],\n",
    "    marker=dict(color='lightblue')\n",
    "))\n",
    "fig.update_layout(\n",
    "    title=f'Price of the cheapest model with {performance_lower_bound}-{performance_upper_bound}% on {bench}'\n",
    ")\n",
    "fig.update_traces(textposition='bottom left')\n",
    "fig.update_layout(yaxis_type='log')\n",
    "fig.update_layout(xaxis_title='Month')\n",
    "fig.update_layout(yaxis_title='Price in USD per million tokens')\n",
    "# Lower the lower x limit\n",
    "min_date = min(cheapest_models_df['Release Date'].min(), other_models_df['Release Date'].min())\n",
    "max_date = max(cheapest_models_df['Release Date'].max(), other_models_df['Release Date'].max())\n",
    "fig.update_layout(xaxis_range=[min_date - pd.Timedelta(days=90), max_date + pd.Timedelta(days=30)])\n",
    "fig.update_layout(\n",
    "    width=1000,\n",
    "    height=600,\n",
    "    font=dict(size=10),\n",
    "    legend=dict(\n",
    "        yanchor=\"top\",\n",
    "        y=0.25,\n",
    "        xanchor=\"right\",\n",
    "        x=0.4,\n",
    "        bordercolor=\"lightgrey\",\n",
    "        borderwidth=1\n",
    "    )\n",
    ")\n",
    "if save:\n",
    "    save_plot(fig, results_subdir, f'lowest_price_models_{bench}_above_{performance_lower_bound}_with_trendline')\n",
    "fig.show()"
   ]
  },
  {
   "cell_type": "markdown",
   "metadata": {},
   "source": [
    "### Final selected example"
   ]
  },
  {
   "cell_type": "code",
   "execution_count": 20,
   "metadata": {},
   "outputs": [
    {
     "data": {
      "text/plain": [
       "<DatetimeArray>\n",
       "['2021-11-20 00:00:00', '2022-08-31 00:00:00', '2022-09-01 00:00:00',\n",
       " '2022-11-30 00:00:00', '2023-03-06 00:00:00', '2023-03-14 00:00:00',\n",
       " '2023-06-13 00:00:00', '2023-07-18 00:00:00', '2023-11-06 00:00:00',\n",
       " '2023-12-01 00:00:00', '2023-12-08 00:00:00', '2024-01-04 00:00:00',\n",
       " '2024-01-25 00:00:00', '2024-02-26 00:00:00', '2024-03-04 00:00:00',\n",
       " '2024-04-14 00:00:00', '2024-04-17 00:00:00', '2024-04-18 00:00:00',\n",
       " '2024-05-10 00:00:00', '2024-05-13 00:00:00', '2024-05-23 00:00:00',\n",
       " '2024-06-20 00:00:00', '2024-06-24 00:00:00', '2024-07-18 00:00:00',\n",
       " '2024-07-23 00:00:00', '2024-07-24 00:00:00', '2024-08-06 00:00:00',\n",
       " '2024-08-12 00:00:00', '2024-08-13 00:00:00', '2024-09-11 00:00:00',\n",
       " '2024-09-12 00:00:00', '2024-09-13 00:00:00', '2024-09-14 00:00:00',\n",
       " '2024-09-24 00:00:00', '2024-10-03 00:00:00', '2024-10-22 00:00:00',\n",
       " '2024-11-18 00:00:00', '2024-11-20 00:00:00', '2024-12-13 00:00:00',\n",
       " '2024-12-17 00:00:00', '2024-12-26 00:00:00', '2025-01-20 00:00:00',\n",
       " '2025-01-30 00:00:00', '2025-01-31 00:00:00', '2025-02-05 00:00:00']\n",
       "Length: 45, dtype: datetime64[ns]"
      ]
     },
     "execution_count": 20,
     "metadata": {},
     "output_type": "execute_result"
    }
   ],
   "source": [
    "aa_df['Release Date'].unique()"
   ]
  },
  {
   "cell_type": "code",
   "execution_count": 21,
   "metadata": {},
   "outputs": [
    {
     "name": "stdout",
     "output_type": "stream",
     "text": [
      "\n",
      "Performance range: 33.0-100%\n",
      "2023-03-14 00:00:00 GPT-4-0314 33.0 $37.50\n",
      "2023-11-06 00:00:00 GPT-4 Turbo 50.0 $15.00\n",
      "2024-02-26 00:00:00 Mistral-Large-2024-02 36.0 $6.00\n",
      "2024-03-04 00:00:00 Claude-3-Haiku 33.0 $0.50\n",
      "2024-05-10 00:00:00 Gemini-1.5-Flash-2024-05 39.0 $0.13\n",
      "2024-12-13 00:00:00 Phi 4 53.0 $0.12\n",
      "90% CI: 0 50590\n"
     ]
    },
    {
     "data": {
      "application/vnd.plotly.v1+json": {
       "config": {
        "plotlyServerURL": "https://plot.ly"
       },
       "data": [
        {
         "marker": {
          "color": "rgb(222, 222, 255)"
         },
         "mode": "markers",
         "name": "Other, GPT-4 level or better on GPQA Diamond",
         "text": [
          "GPT-4-0314",
          "GPT-4 Turbo",
          "Mistral-Large-2024-02",
          "Claude-3-Haiku",
          "Claude-3-Sonnet",
          "Claude-3-Opus",
          "Mistral-8x22",
          "Llama-3-Instruct-70B",
          "Gemini-1.5-Flash-2024-05",
          "GPT-4o-2024-05",
          "Gemini-1.5-Pro-2024-05",
          "Claude-3.5-Sonnet-2024-06",
          "Gemma-2-27B",
          "Mistral-NeMo",
          "GPT-4o-mini",
          "Llama-3.1-Instruct-405B",
          "Llama-3.1-Instruct-70B",
          "Mistral-Large-2-2024-07",
          "GPT-4o-2024-08",
          "Claude 2",
          "Claude 2.1",
          "Gemini 1.0 Pro",
          "Command R+",
          "Jamba 1.5-Large",
          "o1-mini",
          "o1-preview",
          "Command R+",
          "Gemini-1.5-Pro-2024-09",
          "Gemini-1.5-Flash-2024-09",
          "Claude-3.5-Sonnet-2024-10",
          "Claude-3.5-Haiku",
          "Mistral-Large-2-2024-11",
          "GPT-4o-2024-11",
          "Phi 4",
          "o1",
          "DeepSeek-V3",
          "DeepSeek-R1",
          "Mistral Small 3",
          "o3-mini",
          "o1-mini",
          "Gemini 2.0 Flash"
         ],
         "type": "scatter",
         "x": [
          "2023-03-14T00:00:00",
          "2023-11-06T00:00:00",
          "2024-02-26T00:00:00",
          "2024-03-04T00:00:00",
          "2024-03-04T00:00:00",
          "2024-03-04T00:00:00",
          "2024-04-17T00:00:00",
          "2024-04-18T00:00:00",
          "2024-05-10T00:00:00",
          "2024-05-13T00:00:00",
          "2024-05-23T00:00:00",
          "2024-06-20T00:00:00",
          "2024-06-24T00:00:00",
          "2024-07-18T00:00:00",
          "2024-07-18T00:00:00",
          "2024-07-23T00:00:00",
          "2024-07-23T00:00:00",
          "2024-07-24T00:00:00",
          "2024-08-06T00:00:00",
          "2024-08-12T00:00:00",
          "2024-08-12T00:00:00",
          "2024-08-12T00:00:00",
          "2024-08-13T00:00:00",
          "2024-09-12T00:00:00",
          "2024-09-12T00:00:00",
          "2024-09-12T00:00:00",
          "2024-09-13T00:00:00",
          "2024-09-24T00:00:00",
          "2024-09-24T00:00:00",
          "2024-10-22T00:00:00",
          "2024-10-22T00:00:00",
          "2024-11-18T00:00:00",
          "2024-11-20T00:00:00",
          "2024-12-13T00:00:00",
          "2024-12-17T00:00:00",
          "2024-12-26T00:00:00",
          "2025-01-20T00:00:00",
          "2025-01-30T00:00:00",
          "2025-01-31T00:00:00",
          "2025-01-31T00:00:00",
          "2025-02-05T00:00:00"
         ],
         "y": [
          37.5,
          15,
          6,
          0.5,
          6,
          30,
          1.2,
          0.89,
          0.13,
          7.5,
          2.19,
          6,
          0.26,
          0.13,
          0.26,
          3.5,
          0.72,
          3,
          4.38,
          12,
          12,
          0.75,
          6,
          3.5,
          5.25,
          26.25,
          4.375,
          2.19,
          0.13,
          6,
          1.6,
          3,
          4.38,
          0.1225,
          26.25,
          0.4775,
          0.96,
          0.475,
          1.925,
          1.925,
          0.175
         ]
        },
        {
         "hoverinfo": "skip",
         "line": {
          "color": "magenta",
          "dash": "dash"
         },
         "mode": "lines+text",
         "name": "24x decrease per year",
         "showlegend": false,
         "text": [
          "",
          "",
          "",
          "",
          "",
          "24x per year",
          "",
          "",
          "",
          ""
         ],
         "textfont": {
          "size": 14
         },
         "textposition": "middle left",
         "type": "scatter",
         "x": [
          "2024-03-01T00:00:00",
          "2024-04-01T00:00:00",
          "2024-05-01T00:00:00",
          "2024-06-01T00:00:00",
          "2024-07-01T00:00:00",
          "2024-08-01T00:00:00",
          "2024-09-01T00:00:00",
          "2024-10-01T00:00:00",
          "2024-11-01T00:00:00",
          "2024-12-01T00:00:00"
         ],
         "y": [
          1.0143794263683878,
          0.774510497746358,
          0.5965322986292522,
          0.45547111418378783,
          0.3508063886724241,
          0.2678516772328624,
          0.20451315401627726,
          0.1575171701613283,
          0.12026929834531404,
          0.09263208336777494
         ]
        },
        {
         "marker": {
          "color": "magenta"
         },
         "mode": "markers+text",
         "name": "Cheapest, GPT-4 level or better on GPQA Diamond",
         "text": [
          "Mistral-Large-2024-02",
          "Claude-3-Haiku",
          "Gemini-1.5-Flash-2024-05",
          "Phi 4"
         ],
         "textposition": "top right",
         "type": "scatter",
         "x": [
          "2024-02-26T00:00:00",
          "2024-03-04T00:00:00",
          "2024-05-10T00:00:00",
          "2024-12-13T00:00:00"
         ],
         "y": [
          6,
          0.5,
          0.13,
          0.1225
         ]
        }
       ],
       "layout": {
        "height": 600,
        "legend": {
         "bordercolor": "lightgrey",
         "borderwidth": 1,
         "x": 0.45,
         "xanchor": "right",
         "y": 0.14,
         "yanchor": "top"
        },
        "template": {
         "data": {
          "bar": [
           {
            "error_x": {
             "color": "#2a3f5f"
            },
            "error_y": {
             "color": "#2a3f5f"
            },
            "marker": {
             "line": {
              "color": "white",
              "width": 0.5
             },
             "pattern": {
              "fillmode": "overlay",
              "size": 10,
              "solidity": 0.2
             }
            },
            "type": "bar"
           }
          ],
          "barpolar": [
           {
            "marker": {
             "line": {
              "color": "white",
              "width": 0.5
             },
             "pattern": {
              "fillmode": "overlay",
              "size": 10,
              "solidity": 0.2
             }
            },
            "type": "barpolar"
           }
          ],
          "carpet": [
           {
            "aaxis": {
             "endlinecolor": "#2a3f5f",
             "gridcolor": "#C8D4E3",
             "linecolor": "#C8D4E3",
             "minorgridcolor": "#C8D4E3",
             "startlinecolor": "#2a3f5f"
            },
            "baxis": {
             "endlinecolor": "#2a3f5f",
             "gridcolor": "#C8D4E3",
             "linecolor": "#C8D4E3",
             "minorgridcolor": "#C8D4E3",
             "startlinecolor": "#2a3f5f"
            },
            "type": "carpet"
           }
          ],
          "choropleth": [
           {
            "colorbar": {
             "outlinewidth": 0,
             "ticks": ""
            },
            "type": "choropleth"
           }
          ],
          "contour": [
           {
            "colorbar": {
             "outlinewidth": 0,
             "ticks": ""
            },
            "colorscale": [
             [
              0,
              "#0d0887"
             ],
             [
              0.1111111111111111,
              "#46039f"
             ],
             [
              0.2222222222222222,
              "#7201a8"
             ],
             [
              0.3333333333333333,
              "#9c179e"
             ],
             [
              0.4444444444444444,
              "#bd3786"
             ],
             [
              0.5555555555555556,
              "#d8576b"
             ],
             [
              0.6666666666666666,
              "#ed7953"
             ],
             [
              0.7777777777777778,
              "#fb9f3a"
             ],
             [
              0.8888888888888888,
              "#fdca26"
             ],
             [
              1,
              "#f0f921"
             ]
            ],
            "type": "contour"
           }
          ],
          "contourcarpet": [
           {
            "colorbar": {
             "outlinewidth": 0,
             "ticks": ""
            },
            "type": "contourcarpet"
           }
          ],
          "heatmap": [
           {
            "colorbar": {
             "outlinewidth": 0,
             "ticks": ""
            },
            "colorscale": [
             [
              0,
              "#0d0887"
             ],
             [
              0.1111111111111111,
              "#46039f"
             ],
             [
              0.2222222222222222,
              "#7201a8"
             ],
             [
              0.3333333333333333,
              "#9c179e"
             ],
             [
              0.4444444444444444,
              "#bd3786"
             ],
             [
              0.5555555555555556,
              "#d8576b"
             ],
             [
              0.6666666666666666,
              "#ed7953"
             ],
             [
              0.7777777777777778,
              "#fb9f3a"
             ],
             [
              0.8888888888888888,
              "#fdca26"
             ],
             [
              1,
              "#f0f921"
             ]
            ],
            "type": "heatmap"
           }
          ],
          "heatmapgl": [
           {
            "colorbar": {
             "outlinewidth": 0,
             "ticks": ""
            },
            "colorscale": [
             [
              0,
              "#0d0887"
             ],
             [
              0.1111111111111111,
              "#46039f"
             ],
             [
              0.2222222222222222,
              "#7201a8"
             ],
             [
              0.3333333333333333,
              "#9c179e"
             ],
             [
              0.4444444444444444,
              "#bd3786"
             ],
             [
              0.5555555555555556,
              "#d8576b"
             ],
             [
              0.6666666666666666,
              "#ed7953"
             ],
             [
              0.7777777777777778,
              "#fb9f3a"
             ],
             [
              0.8888888888888888,
              "#fdca26"
             ],
             [
              1,
              "#f0f921"
             ]
            ],
            "type": "heatmapgl"
           }
          ],
          "histogram": [
           {
            "marker": {
             "pattern": {
              "fillmode": "overlay",
              "size": 10,
              "solidity": 0.2
             }
            },
            "type": "histogram"
           }
          ],
          "histogram2d": [
           {
            "colorbar": {
             "outlinewidth": 0,
             "ticks": ""
            },
            "colorscale": [
             [
              0,
              "#0d0887"
             ],
             [
              0.1111111111111111,
              "#46039f"
             ],
             [
              0.2222222222222222,
              "#7201a8"
             ],
             [
              0.3333333333333333,
              "#9c179e"
             ],
             [
              0.4444444444444444,
              "#bd3786"
             ],
             [
              0.5555555555555556,
              "#d8576b"
             ],
             [
              0.6666666666666666,
              "#ed7953"
             ],
             [
              0.7777777777777778,
              "#fb9f3a"
             ],
             [
              0.8888888888888888,
              "#fdca26"
             ],
             [
              1,
              "#f0f921"
             ]
            ],
            "type": "histogram2d"
           }
          ],
          "histogram2dcontour": [
           {
            "colorbar": {
             "outlinewidth": 0,
             "ticks": ""
            },
            "colorscale": [
             [
              0,
              "#0d0887"
             ],
             [
              0.1111111111111111,
              "#46039f"
             ],
             [
              0.2222222222222222,
              "#7201a8"
             ],
             [
              0.3333333333333333,
              "#9c179e"
             ],
             [
              0.4444444444444444,
              "#bd3786"
             ],
             [
              0.5555555555555556,
              "#d8576b"
             ],
             [
              0.6666666666666666,
              "#ed7953"
             ],
             [
              0.7777777777777778,
              "#fb9f3a"
             ],
             [
              0.8888888888888888,
              "#fdca26"
             ],
             [
              1,
              "#f0f921"
             ]
            ],
            "type": "histogram2dcontour"
           }
          ],
          "mesh3d": [
           {
            "colorbar": {
             "outlinewidth": 0,
             "ticks": ""
            },
            "type": "mesh3d"
           }
          ],
          "parcoords": [
           {
            "line": {
             "colorbar": {
              "outlinewidth": 0,
              "ticks": ""
             }
            },
            "type": "parcoords"
           }
          ],
          "pie": [
           {
            "automargin": true,
            "type": "pie"
           }
          ],
          "scatter": [
           {
            "fillpattern": {
             "fillmode": "overlay",
             "size": 10,
             "solidity": 0.2
            },
            "type": "scatter"
           }
          ],
          "scatter3d": [
           {
            "line": {
             "colorbar": {
              "outlinewidth": 0,
              "ticks": ""
             }
            },
            "marker": {
             "colorbar": {
              "outlinewidth": 0,
              "ticks": ""
             }
            },
            "type": "scatter3d"
           }
          ],
          "scattercarpet": [
           {
            "marker": {
             "colorbar": {
              "outlinewidth": 0,
              "ticks": ""
             }
            },
            "type": "scattercarpet"
           }
          ],
          "scattergeo": [
           {
            "marker": {
             "colorbar": {
              "outlinewidth": 0,
              "ticks": ""
             }
            },
            "type": "scattergeo"
           }
          ],
          "scattergl": [
           {
            "marker": {
             "colorbar": {
              "outlinewidth": 0,
              "ticks": ""
             }
            },
            "type": "scattergl"
           }
          ],
          "scattermapbox": [
           {
            "marker": {
             "colorbar": {
              "outlinewidth": 0,
              "ticks": ""
             }
            },
            "type": "scattermapbox"
           }
          ],
          "scatterpolar": [
           {
            "marker": {
             "colorbar": {
              "outlinewidth": 0,
              "ticks": ""
             }
            },
            "type": "scatterpolar"
           }
          ],
          "scatterpolargl": [
           {
            "marker": {
             "colorbar": {
              "outlinewidth": 0,
              "ticks": ""
             }
            },
            "type": "scatterpolargl"
           }
          ],
          "scatterternary": [
           {
            "marker": {
             "colorbar": {
              "outlinewidth": 0,
              "ticks": ""
             }
            },
            "type": "scatterternary"
           }
          ],
          "surface": [
           {
            "colorbar": {
             "outlinewidth": 0,
             "ticks": ""
            },
            "colorscale": [
             [
              0,
              "#0d0887"
             ],
             [
              0.1111111111111111,
              "#46039f"
             ],
             [
              0.2222222222222222,
              "#7201a8"
             ],
             [
              0.3333333333333333,
              "#9c179e"
             ],
             [
              0.4444444444444444,
              "#bd3786"
             ],
             [
              0.5555555555555556,
              "#d8576b"
             ],
             [
              0.6666666666666666,
              "#ed7953"
             ],
             [
              0.7777777777777778,
              "#fb9f3a"
             ],
             [
              0.8888888888888888,
              "#fdca26"
             ],
             [
              1,
              "#f0f921"
             ]
            ],
            "type": "surface"
           }
          ],
          "table": [
           {
            "cells": {
             "fill": {
              "color": "#EBF0F8"
             },
             "line": {
              "color": "white"
             }
            },
            "header": {
             "fill": {
              "color": "#C8D4E3"
             },
             "line": {
              "color": "white"
             }
            },
            "type": "table"
           }
          ]
         },
         "layout": {
          "annotationdefaults": {
           "arrowcolor": "#2a3f5f",
           "arrowhead": 0,
           "arrowwidth": 1
          },
          "autotypenumbers": "strict",
          "coloraxis": {
           "colorbar": {
            "outlinewidth": 0,
            "ticks": ""
           }
          },
          "colorscale": {
           "diverging": [
            [
             0,
             "#8e0152"
            ],
            [
             0.1,
             "#c51b7d"
            ],
            [
             0.2,
             "#de77ae"
            ],
            [
             0.3,
             "#f1b6da"
            ],
            [
             0.4,
             "#fde0ef"
            ],
            [
             0.5,
             "#f7f7f7"
            ],
            [
             0.6,
             "#e6f5d0"
            ],
            [
             0.7,
             "#b8e186"
            ],
            [
             0.8,
             "#7fbc41"
            ],
            [
             0.9,
             "#4d9221"
            ],
            [
             1,
             "#276419"
            ]
           ],
           "sequential": [
            [
             0,
             "#0d0887"
            ],
            [
             0.1111111111111111,
             "#46039f"
            ],
            [
             0.2222222222222222,
             "#7201a8"
            ],
            [
             0.3333333333333333,
             "#9c179e"
            ],
            [
             0.4444444444444444,
             "#bd3786"
            ],
            [
             0.5555555555555556,
             "#d8576b"
            ],
            [
             0.6666666666666666,
             "#ed7953"
            ],
            [
             0.7777777777777778,
             "#fb9f3a"
            ],
            [
             0.8888888888888888,
             "#fdca26"
            ],
            [
             1,
             "#f0f921"
            ]
           ],
           "sequentialminus": [
            [
             0,
             "#0d0887"
            ],
            [
             0.1111111111111111,
             "#46039f"
            ],
            [
             0.2222222222222222,
             "#7201a8"
            ],
            [
             0.3333333333333333,
             "#9c179e"
            ],
            [
             0.4444444444444444,
             "#bd3786"
            ],
            [
             0.5555555555555556,
             "#d8576b"
            ],
            [
             0.6666666666666666,
             "#ed7953"
            ],
            [
             0.7777777777777778,
             "#fb9f3a"
            ],
            [
             0.8888888888888888,
             "#fdca26"
            ],
            [
             1,
             "#f0f921"
            ]
           ]
          },
          "colorway": [
           "#636efa",
           "#EF553B",
           "#00cc96",
           "#ab63fa",
           "#FFA15A",
           "#19d3f3",
           "#FF6692",
           "#B6E880",
           "#FF97FF",
           "#FECB52"
          ],
          "font": {
           "color": "#2a3f5f"
          },
          "geo": {
           "bgcolor": "white",
           "lakecolor": "white",
           "landcolor": "white",
           "showlakes": true,
           "showland": true,
           "subunitcolor": "#C8D4E3"
          },
          "hoverlabel": {
           "align": "left"
          },
          "hovermode": "closest",
          "mapbox": {
           "style": "light"
          },
          "paper_bgcolor": "white",
          "plot_bgcolor": "white",
          "polar": {
           "angularaxis": {
            "gridcolor": "#EBF0F8",
            "linecolor": "#EBF0F8",
            "ticks": ""
           },
           "bgcolor": "white",
           "radialaxis": {
            "gridcolor": "#EBF0F8",
            "linecolor": "#EBF0F8",
            "ticks": ""
           }
          },
          "scene": {
           "xaxis": {
            "backgroundcolor": "white",
            "gridcolor": "#DFE8F3",
            "gridwidth": 2,
            "linecolor": "#EBF0F8",
            "showbackground": true,
            "ticks": "",
            "zerolinecolor": "#EBF0F8"
           },
           "yaxis": {
            "backgroundcolor": "white",
            "gridcolor": "#DFE8F3",
            "gridwidth": 2,
            "linecolor": "#EBF0F8",
            "showbackground": true,
            "ticks": "",
            "zerolinecolor": "#EBF0F8"
           },
           "zaxis": {
            "backgroundcolor": "white",
            "gridcolor": "#DFE8F3",
            "gridwidth": 2,
            "linecolor": "#EBF0F8",
            "showbackground": true,
            "ticks": "",
            "zerolinecolor": "#EBF0F8"
           }
          },
          "shapedefaults": {
           "line": {
            "color": "#2a3f5f"
           }
          },
          "ternary": {
           "aaxis": {
            "gridcolor": "#DFE8F3",
            "linecolor": "#A2B1C6",
            "ticks": ""
           },
           "baxis": {
            "gridcolor": "#DFE8F3",
            "linecolor": "#A2B1C6",
            "ticks": ""
           },
           "bgcolor": "white",
           "caxis": {
            "gridcolor": "#DFE8F3",
            "linecolor": "#A2B1C6",
            "ticks": ""
           }
          },
          "title": {
           "x": 0.05
          },
          "xaxis": {
           "automargin": true,
           "gridcolor": "#EBF0F8",
           "linecolor": "#EBF0F8",
           "ticks": "",
           "title": {
            "standoff": 15
           },
           "zerolinecolor": "#EBF0F8",
           "zerolinewidth": 2
          },
          "yaxis": {
           "automargin": true,
           "gridcolor": "#EBF0F8",
           "linecolor": "#EBF0F8",
           "ticks": "",
           "title": {
            "standoff": 15
           },
           "zerolinecolor": "#EBF0F8",
           "zerolinewidth": 2
          }
         }
        },
        "title": {
         "text": "Price per token to answer PhD-level science questions as well as GPT-4 has fallen by 24x per year"
        },
        "width": 1000,
        "xaxis": {
         "range": [
          "2024-01-27T00:00:00",
          "2025-05-12T00:00:00"
         ],
         "title": {
          "text": "Month"
         }
        },
        "yaxis": {
         "title": {
          "text": "Price in USD per million tokens"
         },
         "type": "log"
        }
       }
      }
     },
     "metadata": {},
     "output_type": "display_data"
    }
   ],
   "source": [
    "# selected_benchmarks = ['MMLU', 'MATH 5', 'HumanEval']\n",
    "bench = 'GPQA Diamond'\n",
    "threshold_model = 'GPT-4-0314'\n",
    "performance_lower_bound = aa_df[aa_df['Model Name'] == threshold_model].iloc[0][bench]\n",
    "performance_upper_bound = 100\n",
    "print(f'\\nPerformance range: {performance_lower_bound}-{performance_upper_bound}%')\n",
    "\n",
    "cheapest_models = []\n",
    "current_best = None\n",
    "benchmark_df = aa_df.dropna(subset=[bench])\n",
    "for i, row in benchmark_df.iterrows():\n",
    "    # if row['Release Date'] < pd.to_datetime(minimum_date_for_cheapest_models):\n",
    "    #     continue\n",
    "    if (row[bench] >= performance_lower_bound) and (row[bench] < performance_upper_bound):\n",
    "        if (current_best is None) or (row['USD per 1M Tokens'] < current_best['USD per 1M Tokens']):\n",
    "            current_best = row\n",
    "            cheapest_models.append(current_best)\n",
    "            print(current_best['Release Date'], current_best['Model Name'], current_best[bench], f\"${current_best['USD per 1M Tokens']:.2f}\")\n",
    "\n",
    "cheapest_models_df = pd.DataFrame(cheapest_models)\n",
    "cheapest_models_df.reset_index(drop=True, inplace=True)\n",
    "\n",
    "# Second step: check if the next row has the same Release date. If so, remove the current row.\n",
    "# Note that the df is already in descending order of price, so we only need to check the next row.\n",
    "for i, row in cheapest_models_df.iterrows():\n",
    "    if i < len(cheapest_models_df) - 1:\n",
    "        next_row = cheapest_models_df.iloc[i+1]\n",
    "        if next_row['Release Date'] == row['Release Date']:\n",
    "            cheapest_models_df = cheapest_models_df.drop(i)\n",
    "            print(f'Removed {row[\"Model Name\"]} because it has the same Release date as {next_row[\"Model Name\"]} and has a higher price')\n",
    "\n",
    "cheapest_models_df = cheapest_models_df[cheapest_models_df['Release Date'] >= pd.to_datetime(minimum_date_for_cheapest_models)]\n",
    "\n",
    "cheapest_models_df = cheapest_models_df.reset_index(drop=True)\n",
    "\n",
    "# Fit a line to the data\n",
    "cheapest_models_df['price'] = cheapest_models_df['USD per 1M Tokens']\n",
    "cheapest_models_df['log_price'] = np.log10(cheapest_models_df['USD per 1M Tokens'])\n",
    "cheapest_models_df['date'] = cheapest_models_df['Release Date'].map(lambda x: pd.Timestamp(x).toordinal())\n",
    "exponential_model = smf.ols('log_price ~ date', data=cheapest_models_df).fit()\n",
    "\n",
    "fig = go.Figure()\n",
    "\n",
    "all_df = aa_df[\n",
    "    (aa_df[bench].notna()) &\n",
    "    (aa_df[bench] >= performance_lower_bound) &\n",
    "    (aa_df[bench] < performance_upper_bound)\n",
    "]\n",
    "fig.add_trace(go.Scatter(\n",
    "    x=all_df['Release Date'],\n",
    "    y=all_df['USD per 1M Tokens'],\n",
    "    mode='markers',\n",
    "    name=f'Other, GPT-4 level or better on {bench}',\n",
    "    text=all_df['Model Name'],\n",
    "    marker=dict(color='rgb(222, 222, 255)')\n",
    "))\n",
    "\n",
    "factor = cheapest_models_df['USD per 1M Tokens'].iloc[0] / cheapest_models_df['USD per 1M Tokens'].iloc[-1]\n",
    "period_months = (cheapest_models_df['Release Date'].iloc[-1] - cheapest_models_df['Release Date'].iloc[0]).days / (365/12)\n",
    "\n",
    "annual_slope = exponential_model.params['date'] * 365  # Convert daily to annual\n",
    "annual_factor = int(round(10**(-annual_slope)))  # Convert log slope to factor\n",
    "# Get the 90% CI\n",
    "ci_90 = exponential_model.conf_int(alpha=0.1)\n",
    "print('90% CI:', int(round(10**(-ci_90.loc['date'][1] * 365))), int(round(10**(-ci_90.loc['date'][0] * 365))))\n",
    "\n",
    "# Plot the exponential trendline with the data\n",
    "date_range = pd.date_range(start=cheapest_models_df['Release Date'].min(), end=cheapest_models_df['Release Date'].max(), freq='MS')\n",
    "pred_df = pd.DataFrame({'date': date_range.map(lambda x: pd.Timestamp(x).toordinal())})\n",
    "fig.add_trace(go.Scatter(\n",
    "    x=date_range,\n",
    "    y=10**exponential_model.predict(pred_df['date']),\n",
    "    mode='lines+text',\n",
    "    name=f'{annual_factor}x decrease per year',\n",
    "    # Only show text at middle index\n",
    "    text=['' if i != len(date_range)//2 else f'{annual_factor}x per year' for i in range(len(date_range))],\n",
    "    textposition='middle left',\n",
    "    textfont=dict(size=14),\n",
    "    line=dict(color='magenta', dash='dash'),\n",
    "    hoverinfo='skip',\n",
    "    showlegend=False,\n",
    "))\n",
    "\n",
    "# annotations = [\"\"] * len(cheapest_models_df['Model Name'])\n",
    "# annotations[0] = cheapest_models_df['Model Name'].iloc[0]\n",
    "# annotations[-1] = cheapest_models_df['Model Name'].iloc[-1]\n",
    "annotations = cheapest_models_df['Model Name']\n",
    "\n",
    "fig.add_trace(go.Scatter(\n",
    "    x=cheapest_models_df['Release Date'],\n",
    "    y=cheapest_models_df['USD per 1M Tokens'],\n",
    "    mode='markers+text',\n",
    "    name=f'Cheapest, GPT-4 level or better on {bench}',\n",
    "    marker=dict(color='magenta'),\n",
    "    text=annotations,\n",
    "    textposition='top right',\n",
    "    # marker=dict(color='blue'),\n",
    "    # visible=\"legendonly\",  # Hide this trace by default\n",
    "    # legendgroup=f'{bench}_{performance_range_str}',\n",
    "))\n",
    "fig.update_layout(xaxis_range=[\n",
    "    cheapest_models_df['Release Date'].min() - pd.Timedelta(days=30),\n",
    "    cheapest_models_df['Release Date'].max() + pd.Timedelta(days=150)\n",
    "])\n",
    "\n",
    "fig.update_layout(\n",
    "    # title=f'The cost to answer PhD-level science questions has fallen by {round(factor, -1):.0f}x in {period_months:.0f} months'\n",
    "    title=f'Price per token to answer PhD-level science questions as well as GPT-4 has fallen by {annual_factor}x per year'\n",
    ")\n",
    "fig.update_layout(yaxis_type='log')\n",
    "fig.update_layout(xaxis_title='Month')\n",
    "fig.update_layout(yaxis_title='Price in USD per million tokens')\n",
    "# fig.update_layout(xaxis_range=[aa_df['Release Date'].min() - pd.Timedelta(days=150), aa_df['Release Date'].max() + pd.Timedelta(days=30)])\n",
    "fig.update_layout(\n",
    "    width=1000,\n",
    "    height=600,\n",
    "    # font=dict(size=14),\n",
    "    legend=dict(\n",
    "        yanchor=\"top\",\n",
    "        y=0.14,\n",
    "        xanchor=\"right\",\n",
    "        x=0.45,\n",
    "        bordercolor=\"lightgrey\",\n",
    "        borderwidth=1\n",
    "    )\n",
    ")\n",
    "\n",
    "if save:\n",
    "    save_plot(fig, results_subdir, f'lowest_price_models_{bench}_{performance_lower_bound}_to_{performance_upper_bound}', extensions=['png', 'svg'])\n",
    "\n",
    "fig.show()"
   ]
  },
  {
   "cell_type": "markdown",
   "metadata": {},
   "source": [
    "### Full analysis"
   ]
  },
  {
   "cell_type": "code",
   "execution_count": 22,
   "metadata": {},
   "outputs": [
    {
     "name": "stdout",
     "output_type": "stream",
     "text": [
      "MMLU\n",
      "\n",
      "Performance range: 43.9 (GPT-3 level) to 100\n",
      "2021-11-20 00:00:00 GPT-3 43.9 $60.00\n",
      "2022-09-01 00:00:00 GPT-3 43.9 $20.00\n",
      "2023-03-06 00:00:00 GPT-3.5 Turbo 68.0 $2.00\n",
      "2023-07-18 00:00:00 Llama-2-Chat-13B 45.0 $0.56\n",
      "2023-12-01 00:00:00 Llama 2-7B 45.3 $0.20\n",
      "2024-04-14 00:00:00 Llama 2-7B 45.3 $0.13\n",
      "2024-07-23 00:00:00 Llama-3.1-Instruct-8B 71.0 $0.10\n",
      "2024-09-24 00:00:00 Llama-3.2-Instruct-3B 64.0 $0.08\n",
      "2024-10-03 00:00:00 Gemini-1.5-Flash-8B 75.0 $0.07\n",
      "\n",
      "Performance range: 64.8 (GPT-3.5 level) to 100\n",
      "2022-11-30 00:00:00 GPT-3.5 64.8 $20.00\n",
      "2023-03-06 00:00:00 GPT-3.5 Turbo 68.0 $2.00\n",
      "2023-11-06 00:00:00 GPT-3.5-Turbo-2023-11 68.0 $0.75\n",
      "2024-03-04 00:00:00 Claude-3-Haiku 71.0 $0.50\n",
      "2024-05-10 00:00:00 Gemini-1.5-Flash-2024-05 79.0 $0.13\n",
      "2024-07-23 00:00:00 Llama-3.1-Instruct-8B 71.0 $0.10\n",
      "2024-10-03 00:00:00 Gemini-1.5-Flash-8B 75.0 $0.07\n",
      "\n",
      "Performance range: 68.0 (GPT-3.5 Turbo level) to 100\n",
      "2023-03-06 00:00:00 GPT-3.5 Turbo 68.0 $2.00\n",
      "2023-11-06 00:00:00 GPT-3.5-Turbo-2023-11 68.0 $0.75\n",
      "2024-03-04 00:00:00 Claude-3-Haiku 71.0 $0.50\n",
      "2024-05-10 00:00:00 Gemini-1.5-Flash-2024-05 79.0 $0.13\n",
      "2024-07-23 00:00:00 Llama-3.1-Instruct-8B 71.0 $0.10\n",
      "2024-10-03 00:00:00 Gemini-1.5-Flash-8B 75.0 $0.07\n",
      "\n",
      "Performance range: 86.0 (GPT-4-0314 level) to 100\n",
      "2023-03-14 00:00:00 GPT-4-0314 86.0 $37.50\n",
      "2023-11-06 00:00:00 GPT-4 Turbo 87.0 $15.00\n",
      "2024-05-13 00:00:00 GPT-4o-2024-05 87.0 $7.50\n",
      "2024-05-23 00:00:00 Gemini-1.5-Pro-2024-05 86.0 $2.19\n",
      "2025-02-05 00:00:00 Gemini 2.0 Flash 88.0 $0.17\n",
      "Less than 4 cheapest models found - skipping\n",
      "\n",
      "Performance range: 87.0 (GPT-4 Turbo level) to 100\n",
      "2023-11-06 00:00:00 GPT-4 Turbo 87.0 $15.00\n",
      "2024-05-13 00:00:00 GPT-4o-2024-05 87.0 $7.50\n",
      "2024-06-20 00:00:00 Claude-3.5-Sonnet-2024-06 88.0 $6.00\n",
      "2024-07-23 00:00:00 Llama-3.1-Instruct-405B 87.0 $3.50\n",
      "2025-02-05 00:00:00 Gemini 2.0 Flash 88.0 $0.17\n",
      "\n",
      "Performance range: 88.0 (Claude-3.5-Sonnet-2024-06 level) to 100\n",
      "2024-06-20 00:00:00 Claude-3.5-Sonnet-2024-06 88.0 $6.00\n",
      "2024-08-06 00:00:00 GPT-4o-2024-08 89.0 $4.38\n",
      "2025-02-05 00:00:00 Gemini 2.0 Flash 88.0 $0.17\n",
      "Less than 4 cheapest models found - skipping\n",
      "\n",
      "Performance range: 89.0 (GPT-4o-2024-08 level) to 100\n",
      "2024-08-06 00:00:00 GPT-4o-2024-08 89.0 $4.38\n",
      "Less than 4 cheapest models found - skipping\n",
      "\n",
      "\n",
      "GPQA Diamond\n",
      "Frontier model GPT-3 is missing a GPQA Diamond value - skipping\n",
      "\n",
      "Performance range: 33.0 (GPT-4-0314 level) to 100\n",
      "2023-03-14 00:00:00 GPT-4-0314 33.0 $37.50\n",
      "2023-11-06 00:00:00 GPT-4 Turbo 50.0 $15.00\n",
      "2024-02-26 00:00:00 Mistral-Large-2024-02 36.0 $6.00\n",
      "2024-03-04 00:00:00 Claude-3-Haiku 33.0 $0.50\n",
      "2024-05-10 00:00:00 Gemini-1.5-Flash-2024-05 39.0 $0.13\n",
      "2024-12-13 00:00:00 Phi 4 53.0 $0.12\n",
      "\n",
      "Performance range: 50.0 (GPT-4 Turbo level) to 100\n",
      "2023-11-06 00:00:00 GPT-4 Turbo 50.0 $15.00\n",
      "2024-05-13 00:00:00 GPT-4o-2024-05 53.0 $7.50\n",
      "2024-06-20 00:00:00 Claude-3.5-Sonnet-2024-06 56.0 $6.00\n",
      "2024-07-23 00:00:00 Llama-3.1-Instruct-405B 50.0 $3.50\n",
      "2024-09-24 00:00:00 Gemini-1.5-Pro-2024-09 61.0 $2.19\n",
      "2024-12-13 00:00:00 Phi 4 53.0 $0.12\n",
      "\n",
      "Performance range: 53.0 (GPT-4o-2024-05 level) to 100\n",
      "2024-05-13 00:00:00 GPT-4o-2024-05 53.0 $7.50\n",
      "2024-06-20 00:00:00 Claude-3.5-Sonnet-2024-06 56.0 $6.00\n",
      "2024-09-12 00:00:00 o1-mini 59.5 $5.25\n",
      "2024-09-24 00:00:00 Gemini-1.5-Pro-2024-09 61.0 $2.19\n",
      "2024-12-13 00:00:00 Phi 4 53.0 $0.12\n",
      "\n",
      "Performance range: 56.0 (Claude-3.5-Sonnet-2024-06 level) to 100\n",
      "2024-06-20 00:00:00 Claude-3.5-Sonnet-2024-06 56.0 $6.00\n",
      "2024-09-12 00:00:00 o1-mini 59.5 $5.25\n",
      "2024-09-24 00:00:00 Gemini-1.5-Pro-2024-09 61.0 $2.19\n",
      "2024-12-26 00:00:00 DeepSeek-V3 57.0 $0.48\n",
      "2025-02-05 00:00:00 Gemini 2.0 Flash 62.0 $0.17\n",
      "\n",
      "Performance range: 69.7 (o1-preview level) to 100\n",
      "2024-09-12 00:00:00 o1-preview 69.7 $26.25\n",
      "2025-01-20 00:00:00 DeepSeek-R1 71.7 $0.96\n",
      "Less than 4 cheapest models found - skipping\n",
      "\n",
      "Performance range: 75.8 (o1 level) to 100\n",
      "2024-12-17 00:00:00 o1 75.8 $26.25\n",
      "Less than 4 cheapest models found - skipping\n",
      "\n",
      "\n",
      "MATH-500\n",
      "Frontier model GPT-3 is missing a MATH-500 value - skipping\n",
      "\n",
      "Performance range: 44.0 (GPT-3.5-Turbo-2023-06 level) to 100\n",
      "2023-06-13 00:00:00 GPT-3.5-Turbo-2023-06 44.0 $3.25\n",
      "2023-11-06 00:00:00 GPT-3.5-Turbo-2023-11 44.0 $0.75\n",
      "2024-05-10 00:00:00 Gemini-1.5-Flash-2024-05 55.0 $0.13\n",
      "2024-07-23 00:00:00 Llama-3.1-Instruct-8B 50.0 $0.10\n",
      "2024-09-24 00:00:00 Llama-3.2-Instruct-3B 50.0 $0.08\n",
      "2024-10-03 00:00:00 Gemini-1.5-Flash-8B 70.0 $0.07\n",
      "\n",
      "Performance range: 74.0 (GPT-4 Turbo level) to 100\n",
      "2023-11-06 00:00:00 GPT-4 Turbo 74.0 $15.00\n",
      "2024-05-13 00:00:00 GPT-4o-2024-05 79.0 $7.50\n",
      "2024-07-18 00:00:00 GPT-4o-mini 79.0 $0.26\n",
      "2024-09-11 00:00:00 DeepSeek-Coder-V2 236B 74.0 $0.17\n",
      "2024-09-24 00:00:00 Gemini-1.5-Flash-2024-09 83.0 $0.13\n",
      "2024-12-13 00:00:00 Phi 4 81.0 $0.12\n",
      "\n",
      "Performance range: 79.0 (GPT-4o-2024-05 level) to 100\n",
      "2024-05-13 00:00:00 GPT-4o-2024-05 79.0 $7.50\n",
      "2024-07-18 00:00:00 GPT-4o-mini 79.0 $0.26\n",
      "2024-09-24 00:00:00 Gemini-1.5-Flash-2024-09 83.0 $0.13\n",
      "2024-12-13 00:00:00 Phi 4 81.0 $0.12\n",
      "\n",
      "Performance range: 80.0 (GPT-4o-2024-08 level) to 100\n",
      "2024-08-06 00:00:00 GPT-4o-2024-08 80.0 $4.38\n",
      "2024-09-24 00:00:00 Gemini-1.5-Pro-2024-09 88.0 $2.19\n",
      "2024-09-24 00:00:00 Gemini-1.5-Flash-2024-09 83.0 $0.13\n",
      "2024-12-13 00:00:00 Phi 4 81.0 $0.12\n",
      "Removed Gemini-1.5-Pro-2024-09 because it has the same Release date as Gemini-1.5-Flash-2024-09 and has a higher price\n",
      "Less than 4 cheapest models found - skipping\n",
      "\n",
      "Performance range: 94.0 (o1-mini level) to 100\n",
      "2024-09-12 00:00:00 o1-mini 94.0 $5.25\n",
      "2025-01-20 00:00:00 DeepSeek-R1 96.0 $0.96\n",
      "Less than 4 cheapest models found - skipping\n",
      "\n",
      "Performance range: 97.0 (o1 level) to 100\n",
      "2024-12-17 00:00:00 o1 97.0 $26.25\n",
      "2025-01-31 00:00:00 o3-mini 97.0 $1.93\n",
      "Less than 4 cheapest models found - skipping\n",
      "\n",
      "\n",
      "MATH 5\n",
      "Frontier model GPT-3 is missing a MATH 5 value - skipping\n",
      "\n",
      "Performance range: 15.0 (GPT-3.5-Turbo-2023-06 level) to 100\n",
      "2023-06-13 00:00:00 GPT-3.5-Turbo-2023-06 15.0 $3.25\n",
      "2023-11-06 00:00:00 GPT-3.5-Turbo-2023-11 15.0 $0.75\n",
      "2024-05-10 00:00:00 Gemini-1.5-Flash-2024-05 23.0 $0.13\n",
      "2024-07-23 00:00:00 Llama-3.1-Instruct-8B 22.0 $0.10\n",
      "Less than 4 cheapest models found - skipping\n",
      "\n",
      "Performance range: 36.0 (GPT-4 Turbo level) to 100\n",
      "2023-11-06 00:00:00 GPT-4 Turbo 36.0 $15.00\n",
      "2024-05-13 00:00:00 GPT-4o-2024-05 48.0 $7.50\n",
      "2024-05-23 00:00:00 Gemini-1.5-Pro-2024-05 41.0 $2.19\n",
      "2024-07-18 00:00:00 GPT-4o-mini 48.0 $0.26\n",
      "2024-09-24 00:00:00 Gemini-1.5-Flash-2024-09 58.0 $0.13\n",
      "2024-12-13 00:00:00 Phi 4 65.0 $0.12\n",
      "\n",
      "Performance range: 48.0 (GPT-4o-2024-05 level) to 100\n",
      "2024-05-13 00:00:00 GPT-4o-2024-05 48.0 $7.50\n",
      "2024-07-18 00:00:00 GPT-4o-mini 48.0 $0.26\n",
      "2024-09-24 00:00:00 Gemini-1.5-Flash-2024-09 58.0 $0.13\n",
      "2024-12-13 00:00:00 Phi 4 65.0 $0.12\n",
      "\n",
      "Performance range: 84.3 (o1-mini level) to 100\n",
      "2024-09-12 00:00:00 o1-mini 84.3 $5.25\n",
      "2025-01-20 00:00:00 DeepSeek-R1 93.1 $0.96\n",
      "Less than 4 cheapest models found - skipping\n",
      "\n",
      "Performance range: 94.4 (o1 level) to 100\n",
      "2024-12-17 00:00:00 o1 94.4 $26.25\n",
      "2025-01-31 00:00:00 o3-mini 95.2 $1.93\n",
      "Less than 4 cheapest models found - skipping\n",
      "\n",
      "Performance range: 95.2 (o3-mini level) to 100\n",
      "2025-01-31 00:00:00 o3-mini 95.2 $1.93\n",
      "Less than 4 cheapest models found - skipping\n",
      "\n",
      "\n",
      "HumanEval\n",
      "Frontier model GPT-3 is missing a HumanEval value - skipping\n",
      "\n",
      "Performance range: 67.0 (GPT-4-0314 level) to 100\n",
      "2023-03-14 00:00:00 GPT-4-0314 67.0 $37.50\n",
      "2023-06-13 00:00:00 GPT-3.5-Turbo-2023-06 71.0 $3.25\n",
      "2023-11-06 00:00:00 GPT-3.5-Turbo-2023-11 71.0 $0.75\n",
      "2024-03-04 00:00:00 Claude-3-Haiku 77.0 $0.50\n",
      "2024-06-24 00:00:00 Gemma-2-27B 76.0 $0.26\n",
      "2024-07-18 00:00:00 Mistral-NeMo 71.0 $0.13\n",
      "2024-07-23 00:00:00 Llama-3.1-Instruct-8B 67.0 $0.10\n",
      "\n",
      "Performance range: 71.0 (GPT-3.5-Turbo-2023-06 level) to 100\n",
      "2023-06-13 00:00:00 GPT-3.5-Turbo-2023-06 71.0 $3.25\n",
      "2023-11-06 00:00:00 GPT-3.5-Turbo-2023-11 71.0 $0.75\n",
      "2024-03-04 00:00:00 Claude-3-Haiku 77.0 $0.50\n",
      "2024-06-24 00:00:00 Gemma-2-27B 76.0 $0.26\n",
      "2024-07-18 00:00:00 Mistral-NeMo 71.0 $0.13\n",
      "2024-12-13 00:00:00 Phi 4 87.0 $0.12\n",
      "\n",
      "Performance range: 92.0 (GPT-4 Turbo level) to 100\n",
      "2023-11-06 00:00:00 GPT-4 Turbo 92.0 $15.00\n",
      "2024-05-13 00:00:00 GPT-4o-2024-05 94.0 $7.50\n",
      "2024-08-06 00:00:00 GPT-4o-2024-08 93.0 $4.38\n",
      "2025-01-20 00:00:00 DeepSeek-R1 98.0 $0.96\n",
      "Less than 4 cheapest models found - skipping\n",
      "\n",
      "Performance range: 94.0 (GPT-4o-2024-05 level) to 100\n",
      "2024-05-13 00:00:00 GPT-4o-2024-05 94.0 $7.50\n",
      "2024-09-12 00:00:00 o1-mini 97.0 $5.25\n",
      "2025-01-20 00:00:00 DeepSeek-R1 98.0 $0.96\n",
      "Less than 4 cheapest models found - skipping\n",
      "\n",
      "Performance range: 97.0 (o1-mini level) to 100\n",
      "2024-09-12 00:00:00 o1-mini 97.0 $5.25\n",
      "2025-01-20 00:00:00 DeepSeek-R1 98.0 $0.96\n",
      "Less than 4 cheapest models found - skipping\n",
      "\n",
      "Performance range: 98.0 (DeepSeek-R1 level) to 100\n",
      "2025-01-20 00:00:00 DeepSeek-R1 98.0 $0.96\n",
      "Less than 4 cheapest models found - skipping\n",
      "\n",
      "\n",
      "LMSys Chatbot Arena ELO\n",
      "Frontier model GPT-3 is missing a LMSys Chatbot Arena ELO value - skipping\n",
      "\n",
      "Performance range: 1106.0 (GPT-3.5 Turbo level) to inf\n",
      "2023-03-06 00:00:00 GPT-3.5 Turbo 1106.0 $2.00\n",
      "2023-11-06 00:00:00 GPT-3.5-Turbo-2023-11 1107.0 $0.75\n",
      "2024-03-04 00:00:00 Claude-3-Haiku 1179.0 $0.50\n",
      "2024-04-18 00:00:00 Llama-3-Instruct-8B 1152.0 $0.15\n",
      "2024-05-10 00:00:00 Gemini-1.5-Flash-2024-05 1227.0 $0.13\n",
      "2024-07-23 00:00:00 Llama-3.1-Instruct-8B 1172.0 $0.10\n",
      "2024-10-03 00:00:00 Gemini-1.5-Flash-8B 1211.0 $0.07\n",
      "\n",
      "Performance range: 1186.0 (GPT-4-0314 level) to inf\n",
      "2023-03-14 00:00:00 GPT-4-0314 1186.0 $37.50\n",
      "2023-11-06 00:00:00 GPT-4 Turbo 1256.0 $15.00\n",
      "2024-03-04 00:00:00 Claude-3-Sonnet 1201.0 $6.00\n",
      "2024-04-18 00:00:00 Llama-3-Instruct-70B 1206.0 $0.89\n",
      "2024-05-10 00:00:00 Gemini-1.5-Flash-2024-05 1227.0 $0.13\n",
      "2024-10-03 00:00:00 Gemini-1.5-Flash-8B 1211.0 $0.07\n",
      "\n",
      "Performance range: 1256.0 (GPT-4 Turbo level) to inf\n",
      "2023-11-06 00:00:00 GPT-4 Turbo 1256.0 $15.00\n",
      "2024-05-13 00:00:00 GPT-4o-2024-05 1285.0 $7.50\n",
      "2024-05-23 00:00:00 Gemini-1.5-Pro-2024-05 1260.0 $2.19\n",
      "2024-07-18 00:00:00 GPT-4o-mini 1273.0 $0.26\n",
      "2024-09-24 00:00:00 Gemini-1.5-Flash-2024-09 1271.0 $0.13\n",
      "\n",
      "Performance range: 1285.0 (GPT-4o-2024-05 level) to inf\n",
      "2024-05-13 00:00:00 GPT-4o-2024-05 1285.0 $7.50\n",
      "2024-08-06 00:00:00 GPT-4o-2024-08 1337.0 $4.38\n",
      "2024-09-24 00:00:00 Gemini-1.5-Pro-2024-09 1301.0 $2.19\n",
      "2024-12-26 00:00:00 DeepSeek-V3 1318.0 $0.48\n",
      "2025-02-05 00:00:00 Gemini 2.0 Flash 1358.0 $0.17\n",
      "\n",
      "Performance range: 1337.0 (GPT-4o-2024-08 level) to inf\n",
      "2024-08-06 00:00:00 GPT-4o-2024-08 1337.0 $4.38\n",
      "2025-01-20 00:00:00 DeepSeek-R1 1362.0 $0.96\n",
      "2025-02-05 00:00:00 Gemini 2.0 Flash 1358.0 $0.17\n",
      "Less than 4 cheapest models found - skipping\n",
      "\n",
      "Performance range: 1361.0 (GPT-4o-2024-11 level) to inf\n",
      "2024-11-20 00:00:00 GPT-4o-2024-11 1361.0 $4.38\n",
      "2025-01-20 00:00:00 DeepSeek-R1 1362.0 $0.96\n",
      "Less than 4 cheapest models found - skipping\n",
      "\n",
      "Performance range: 1362.0 (DeepSeek-R1 level) to inf\n",
      "2025-01-20 00:00:00 DeepSeek-R1 1362.0 $0.96\n",
      "Less than 4 cheapest models found - skipping\n"
     ]
    }
   ],
   "source": [
    "results_subdir = results_dir + 'lowest_price_models_above_previous_frontier/'\n",
    "os.makedirs(results_subdir, exist_ok=True)\n",
    "\n",
    "performance_delta = 100\n",
    "\n",
    "cheapest_models_dfs = []\n",
    "other_models_dfs = []\n",
    "results = []\n",
    "for i, bench in enumerate(benchmarks):\n",
    "    if i > 0:\n",
    "        print('\\n')\n",
    "    print(f'{bench}')\n",
    "\n",
    "    for i, frontier_model_data in top_models_df_lookup[bench].iterrows():\n",
    "        performance_lower_bound = frontier_model_data[bench]\n",
    "        if pd.isna(performance_lower_bound):\n",
    "            print(f'Frontier model {frontier_model_data[\"Model Name\"]} is missing a {bench} value - skipping')\n",
    "            continue\n",
    "        elif benchmark_is_mqa[bench] and performance_lower_bound < 30:\n",
    "            print(f'Frontier model {frontier_model_data[\"Model Name\"]} has a {bench} value of less than 30% on an MQA benchmark - skipping')\n",
    "            continue\n",
    "        if bench == 'LMSys Chatbot Arena ELO':\n",
    "            performance_upper_bound = np.inf\n",
    "        else:\n",
    "            performance_upper_bound = min(performance_lower_bound + performance_delta, 100)\n",
    "        print(f'\\nPerformance range: {performance_lower_bound} ({frontier_model_data[\"Model Name\"]} level) to {performance_upper_bound}')\n",
    "\n",
    "        cheapest_models = []\n",
    "        current_best = None\n",
    "        benchmark_df = aa_df.dropna(subset=[bench])\n",
    "        for i, row in benchmark_df.iterrows():\n",
    "            # if row['Release Date'] < pd.to_datetime(minimum_date_for_cheapest_models):\n",
    "            #     continue\n",
    "            if (row[bench] >= performance_lower_bound) and (row[bench] < performance_upper_bound):\n",
    "                if (current_best is None) or (row['USD per 1M Tokens'] < current_best['USD per 1M Tokens']):\n",
    "                    current_best = row\n",
    "                    cheapest_models.append(current_best)\n",
    "                    print(current_best['Release Date'], current_best['Model Name'], current_best[bench], f\"${current_best['USD per 1M Tokens']:.2f}\")\n",
    "\n",
    "        cheapest_models_df = pd.DataFrame(cheapest_models)\n",
    "        cheapest_models_df.reset_index(drop=True, inplace=True)\n",
    "\n",
    "        # Second step: check if the next row has the same Release date. If so, remove the current row.\n",
    "        # Note that the df is already in descending order of price, so we only need to check the next row.\n",
    "        for i, row in cheapest_models_df.iterrows():\n",
    "            if i < len(cheapest_models_df) - 1:\n",
    "                next_row = cheapest_models_df.iloc[i+1]\n",
    "                if next_row['Release Date'] == row['Release Date']:\n",
    "                    cheapest_models_df = cheapest_models_df.drop(i)\n",
    "                    print(f'Removed {row[\"Model Name\"]} because it has the same Release date as {next_row[\"Model Name\"]} and has a higher price')\n",
    "\n",
    "        cheapest_models_df = cheapest_models_df[cheapest_models_df['Release Date'] >= pd.to_datetime(minimum_date_for_cheapest_models)]\n",
    "        \n",
    "        cheapest_models_df = cheapest_models_df.reset_index(drop=True)\n",
    "        \n",
    "        if len(cheapest_models_df) < min_num_data_points_for_regression:\n",
    "            print(f'Less than {min_num_data_points_for_regression} cheapest models found - skipping')\n",
    "            continue\n",
    "\n",
    "        # Fit a line to the data\n",
    "        cheapest_models_df['price'] = cheapest_models_df['USD per 1M Tokens']\n",
    "        cheapest_models_df['log_price'] = np.log10(cheapest_models_df['USD per 1M Tokens'])\n",
    "        cheapest_models_df['date'] = cheapest_models_df['Release Date'].map(lambda x: pd.Timestamp(x).toordinal())\n",
    "        exponential_model = smf.ols('log_price ~ date', data=cheapest_models_df).fit()\n",
    "        predicted_log_prices = 10**exponential_model.predict(cheapest_models_df['date'])\n",
    "        cheapest_models_df['predicted_log_price'] = predicted_log_prices\n",
    "        cheapest_models_df['bench'] = [bench] * len(cheapest_models_df)\n",
    "        cheapest_models_df['threshold_model'] = [frontier_model_data[\"Model Name\"]] * len(cheapest_models_df)\n",
    "        cheapest_models_df['performance_range'] = [str([performance_lower_bound, performance_upper_bound])] * len(cheapest_models_df)\n",
    "        cheapest_models_dfs.append(cheapest_models_df)\n",
    "\n",
    "        # Calculate annual rate of decrease\n",
    "        annual_slope = exponential_model.params['date'] * 365  # Convert daily to annual\n",
    "        annual_factor = int(round(10**(-annual_slope)))  # Convert log slope to factor\n",
    "        # Get the 90% CI\n",
    "        ci_90 = exponential_model.conf_int(alpha=0.1)\n",
    "        annual_factor_low = int(round(10**(-ci_90.loc['date'][1] * 365)))\n",
    "        annual_factor_high = int(round(10**(-ci_90.loc['date'][0] * 365)))\n",
    "        results.append({\n",
    "            'bench': bench,\n",
    "            'threshold_model': frontier_model_data[\"Model Name\"],\n",
    "            'performance_range': [performance_lower_bound, performance_upper_bound],\n",
    "            'sample_size': len(cheapest_models_df),\n",
    "            'start_date': cheapest_models_df['Release Date'].min(),\n",
    "            'end_date': cheapest_models_df['Release Date'].max(),\n",
    "            'price_reduction_factor_per_year': annual_factor,\n",
    "            'price_reduction_factor_per_year_90_ci': [annual_factor_low, annual_factor_high],\n",
    "            'r_squared': round(exponential_model.rsquared, 2),\n",
    "        })\n",
    "\n",
    "        # Plot the exponential trendline with the data\n",
    "        fig = go.Figure()\n",
    "        fig.add_trace(go.Scatter(\n",
    "            x=cheapest_models_df['Release Date'],\n",
    "            y=predicted_log_prices,\n",
    "            mode='lines',\n",
    "            name=f'Trendline: {annual_factor}x decrease per year',\n",
    "            line=dict(color='blue', dash='dash')\n",
    "        ))\n",
    "        fig.add_trace(go.Scatter(\n",
    "            x=cheapest_models_df['Release Date'],\n",
    "            y=cheapest_models_df['USD per 1M Tokens'],\n",
    "            mode='markers+text',\n",
    "            name=f'Cheapest models with {performance_lower_bound}-{performance_upper_bound} on {bench}',\n",
    "            text=cheapest_models_df['Model Name'],\n",
    "            textposition='bottom left',\n",
    "            marker=dict(color='blue')\n",
    "            # line=dict(shape='hv'),\n",
    "        ))\n",
    "        other_models_df = aa_df.copy()\n",
    "        other_models_df = other_models_df[\n",
    "            other_models_df[bench].notna() &\n",
    "            (other_models_df[bench] >= performance_lower_bound) &\n",
    "            (other_models_df[bench] < performance_upper_bound) &\n",
    "            ~(other_models_df['Model Name'].isin(cheapest_models_df['Model Name']))\n",
    "        ]\n",
    "        other_models_df['bench'] = [bench] * len(other_models_df)\n",
    "        other_models_df['threshold_model'] = [frontier_model_data[\"Model Name\"]] * len(other_models_df)\n",
    "        other_models_df['performance_range'] = [str([performance_lower_bound, performance_upper_bound])] * len(other_models_df)\n",
    "        other_models_dfs.append(other_models_df)\n",
    "        fig.add_trace(go.Scatter(\n",
    "            x=other_models_df['Release Date'],\n",
    "            y=other_models_df['USD per 1M Tokens'],\n",
    "            mode='markers',\n",
    "            name=f'Other models with {performance_lower_bound}-{performance_upper_bound} on {bench}',\n",
    "            text=other_models_df['Model Name'],\n",
    "            marker=dict(color='lightblue')\n",
    "        ))\n",
    "        fig.update_layout(\n",
    "            title=f'The cheapest model with {performance_lower_bound}-{performance_upper_bound} on {bench} has become {annual_factor}x cheaper per year'\n",
    "        )\n",
    "        fig.update_traces(textposition='bottom left')\n",
    "        fig.update_layout(yaxis_type='log')\n",
    "        fig.update_layout(xaxis_title='Month')\n",
    "        fig.update_layout(yaxis_title='Price in USD per million tokens')\n",
    "        # Lower the lower x limit\n",
    "        min_date = min(cheapest_models_df['Release Date'].min(), other_models_df['Release Date'].min())\n",
    "        max_date = max(cheapest_models_df['Release Date'].max(), other_models_df['Release Date'].max())\n",
    "        fig.update_layout(xaxis_range=[min_date - pd.Timedelta(days=90), max_date + pd.Timedelta(days=30)])\n",
    "        fig.update_layout(\n",
    "            width=1000,\n",
    "            height=600,\n",
    "            font=dict(size=10),\n",
    "            legend=dict(\n",
    "                yanchor=\"top\",\n",
    "                y=0.99,\n",
    "                xanchor=\"right\",\n",
    "                x=0.99,\n",
    "                bordercolor=\"lightgrey\",\n",
    "                borderwidth=1\n",
    "            )\n",
    "        )\n",
    "        if save:\n",
    "            save_plot(\n",
    "                fig,\n",
    "                results_subdir,\n",
    "                f'lowest_price_models_{bench}_{performance_lower_bound}-{performance_upper_bound}_with_trendline',\n",
    "                extensions=['png'],\n",
    "            )\n",
    "\n",
    "all_cheapest_models_df = pd.concat(cheapest_models_dfs)\n",
    "all_cheapest_models_df = all_cheapest_models_df[['bench', 'threshold_model', 'performance_range', 'Model Name', 'Release Date', 'USD per 1M Tokens', 'predicted_log_price']]\n",
    "all_other_models_df = pd.concat(other_models_dfs)\n",
    "all_other_models_df = all_other_models_df[['bench', 'threshold_model', 'performance_range', 'Model Name', 'Release Date', 'USD per 1M Tokens']]\n",
    "cheapest_model_results_df = pd.DataFrame(results)\n",
    "if save:\n",
    "    all_cheapest_models_df.to_csv(results_subdir + 'lowest_price_models_data.csv', index=False)\n",
    "    all_other_models_df.to_csv(results_subdir + 'other_models_data.csv', index=False)\n",
    "    cheapest_model_results_df.to_csv(results_subdir + 'lowest_price_models_results.csv', index=False)"
   ]
  },
  {
   "cell_type": "code",
   "execution_count": 29,
   "metadata": {},
   "outputs": [
    {
     "data": {
      "text/plain": [
       "array([    3,   203, 31936])"
      ]
     },
     "execution_count": 29,
     "metadata": {},
     "output_type": "execute_result"
    }
   ],
   "source": [
    "all_price_factors = cheapest_model_results_df['price_reduction_factor_per_year']\n",
    "np.percentile(all_price_factors, [0, 50, 100]).astype(int)"
   ]
  },
  {
   "cell_type": "code",
   "execution_count": 30,
   "metadata": {},
   "outputs": [
    {
     "data": {
      "text/plain": [
       "array([1.09587269, 1.55700977, 2.37332225])"
      ]
     },
     "execution_count": 30,
     "metadata": {},
     "output_type": "execute_result"
    }
   ],
   "source": [
    "# Monthly rates\n",
    "np.percentile(all_price_factors**(1/12), [0, 50, 100])"
   ]
  },
  {
   "cell_type": "code",
   "execution_count": 31,
   "metadata": {},
   "outputs": [
    {
     "data": {
      "application/vnd.plotly.v1+json": {
       "config": {
        "plotlyServerURL": "https://plot.ly"
       },
       "data": [
        {
         "box": {
          "visible": true
         },
         "name": "Distribution",
         "showlegend": false,
         "type": "violin",
         "x0": "All benchmarks",
         "y": [
          0.47712125471966244,
          1.3617278360175928,
          1.3617278360175928,
          2.307496037913213,
          1.380211241711606,
          2.9479236198317262,
          2.7589118923979736,
          2.5634810853944106,
          0.6020599913279624,
          2.8870543780509568,
          2.8382192219076257,
          2.829946695941636,
          2.8382192219076257,
          1.6020599913279623,
          0.7781512503836436,
          1.2304489213782739,
          2.8785217955012063,
          4.504280519607277,
          2.247973266361807
         ]
        },
        {
         "hovertemplate": "Cheapest models that are %{text} level or better",
         "marker": {
          "size": 10
         },
         "mode": "markers",
         "name": "MMLU",
         "showlegend": false,
         "text": [
          "GPT-3",
          "GPT-3.5",
          "GPT-3.5 Turbo",
          "GPT-4 Turbo"
         ],
         "textposition": "middle right",
         "type": "scatter",
         "x": [
          "General knowledge",
          "General knowledge",
          "General knowledge",
          "General knowledge"
         ],
         "y": [
          0.47712125471966244,
          1.3617278360175928,
          1.3617278360175928,
          2.307496037913213
         ]
        },
        {
         "hovertemplate": "Cheapest models that are %{text} level or better",
         "marker": {
          "size": 10
         },
         "mode": "markers",
         "name": "GPQA Diamond",
         "showlegend": false,
         "text": [
          "GPT-4-0314",
          "GPT-4 Turbo",
          "GPT-4o-2024-05",
          "Claude-3.5-Sonnet-2024-06"
         ],
         "textposition": "middle right",
         "type": "scatter",
         "x": [
          "Scientific reasoning",
          "Scientific reasoning",
          "Scientific reasoning",
          "Scientific reasoning"
         ],
         "y": [
          1.380211241711606,
          2.9479236198317262,
          2.7589118923979736,
          2.5634810853944106
         ]
        },
        {
         "hovertemplate": "Cheapest models that are %{text} level or better",
         "marker": {
          "size": 10
         },
         "mode": "markers",
         "name": "MATH-500",
         "showlegend": false,
         "text": [
          "GPT-3.5-Turbo-2023-06",
          "GPT-4 Turbo",
          "GPT-4o-2024-05"
         ],
         "textposition": "middle right",
         "type": "scatter",
         "x": [
          "Math (easier)",
          "Math (easier)",
          "Math (easier)"
         ],
         "y": [
          0.6020599913279624,
          2.8870543780509568,
          2.8382192219076257
         ]
        },
        {
         "hovertemplate": "Cheapest models that are %{text} level or better",
         "marker": {
          "size": 10
         },
         "mode": "markers",
         "name": "MATH 5",
         "showlegend": false,
         "text": [
          "GPT-4 Turbo",
          "GPT-4o-2024-05"
         ],
         "textposition": "middle right",
         "type": "scatter",
         "x": [
          "Math (harder)",
          "Math (harder)"
         ],
         "y": [
          2.829946695941636,
          2.8382192219076257
         ]
        },
        {
         "hovertemplate": "Cheapest models that are %{text} level or better",
         "marker": {
          "size": 10
         },
         "mode": "markers",
         "name": "HumanEval",
         "showlegend": false,
         "text": [
          "GPT-4-0314",
          "GPT-3.5-Turbo-2023-06"
         ],
         "textposition": "middle right",
         "type": "scatter",
         "x": [
          "Coding",
          "Coding"
         ],
         "y": [
          1.6020599913279623,
          0.7781512503836436
         ]
        },
        {
         "hovertemplate": "Cheapest models that are %{text} level or better",
         "marker": {
          "size": 10
         },
         "mode": "markers",
         "name": "LMSys Chatbot Arena ELO",
         "showlegend": false,
         "text": [
          "GPT-3.5 Turbo",
          "GPT-4-0314",
          "GPT-4 Turbo",
          "GPT-4o-2024-05"
         ],
         "textposition": "middle right",
         "type": "scatter",
         "x": [
          "Chatbot Arena",
          "Chatbot Arena",
          "Chatbot Arena",
          "Chatbot Arena"
         ],
         "y": [
          1.2304489213782739,
          2.8785217955012063,
          4.504280519607277,
          2.247973266361807
         ]
        }
       ],
       "layout": {
        "font": {
         "size": 14
        },
        "height": 600,
        "margin": {
         "l": 130
        },
        "template": {
         "data": {
          "bar": [
           {
            "error_x": {
             "color": "#2a3f5f"
            },
            "error_y": {
             "color": "#2a3f5f"
            },
            "marker": {
             "line": {
              "color": "white",
              "width": 0.5
             },
             "pattern": {
              "fillmode": "overlay",
              "size": 10,
              "solidity": 0.2
             }
            },
            "type": "bar"
           }
          ],
          "barpolar": [
           {
            "marker": {
             "line": {
              "color": "white",
              "width": 0.5
             },
             "pattern": {
              "fillmode": "overlay",
              "size": 10,
              "solidity": 0.2
             }
            },
            "type": "barpolar"
           }
          ],
          "carpet": [
           {
            "aaxis": {
             "endlinecolor": "#2a3f5f",
             "gridcolor": "#C8D4E3",
             "linecolor": "#C8D4E3",
             "minorgridcolor": "#C8D4E3",
             "startlinecolor": "#2a3f5f"
            },
            "baxis": {
             "endlinecolor": "#2a3f5f",
             "gridcolor": "#C8D4E3",
             "linecolor": "#C8D4E3",
             "minorgridcolor": "#C8D4E3",
             "startlinecolor": "#2a3f5f"
            },
            "type": "carpet"
           }
          ],
          "choropleth": [
           {
            "colorbar": {
             "outlinewidth": 0,
             "ticks": ""
            },
            "type": "choropleth"
           }
          ],
          "contour": [
           {
            "colorbar": {
             "outlinewidth": 0,
             "ticks": ""
            },
            "colorscale": [
             [
              0,
              "#0d0887"
             ],
             [
              0.1111111111111111,
              "#46039f"
             ],
             [
              0.2222222222222222,
              "#7201a8"
             ],
             [
              0.3333333333333333,
              "#9c179e"
             ],
             [
              0.4444444444444444,
              "#bd3786"
             ],
             [
              0.5555555555555556,
              "#d8576b"
             ],
             [
              0.6666666666666666,
              "#ed7953"
             ],
             [
              0.7777777777777778,
              "#fb9f3a"
             ],
             [
              0.8888888888888888,
              "#fdca26"
             ],
             [
              1,
              "#f0f921"
             ]
            ],
            "type": "contour"
           }
          ],
          "contourcarpet": [
           {
            "colorbar": {
             "outlinewidth": 0,
             "ticks": ""
            },
            "type": "contourcarpet"
           }
          ],
          "heatmap": [
           {
            "colorbar": {
             "outlinewidth": 0,
             "ticks": ""
            },
            "colorscale": [
             [
              0,
              "#0d0887"
             ],
             [
              0.1111111111111111,
              "#46039f"
             ],
             [
              0.2222222222222222,
              "#7201a8"
             ],
             [
              0.3333333333333333,
              "#9c179e"
             ],
             [
              0.4444444444444444,
              "#bd3786"
             ],
             [
              0.5555555555555556,
              "#d8576b"
             ],
             [
              0.6666666666666666,
              "#ed7953"
             ],
             [
              0.7777777777777778,
              "#fb9f3a"
             ],
             [
              0.8888888888888888,
              "#fdca26"
             ],
             [
              1,
              "#f0f921"
             ]
            ],
            "type": "heatmap"
           }
          ],
          "heatmapgl": [
           {
            "colorbar": {
             "outlinewidth": 0,
             "ticks": ""
            },
            "colorscale": [
             [
              0,
              "#0d0887"
             ],
             [
              0.1111111111111111,
              "#46039f"
             ],
             [
              0.2222222222222222,
              "#7201a8"
             ],
             [
              0.3333333333333333,
              "#9c179e"
             ],
             [
              0.4444444444444444,
              "#bd3786"
             ],
             [
              0.5555555555555556,
              "#d8576b"
             ],
             [
              0.6666666666666666,
              "#ed7953"
             ],
             [
              0.7777777777777778,
              "#fb9f3a"
             ],
             [
              0.8888888888888888,
              "#fdca26"
             ],
             [
              1,
              "#f0f921"
             ]
            ],
            "type": "heatmapgl"
           }
          ],
          "histogram": [
           {
            "marker": {
             "pattern": {
              "fillmode": "overlay",
              "size": 10,
              "solidity": 0.2
             }
            },
            "type": "histogram"
           }
          ],
          "histogram2d": [
           {
            "colorbar": {
             "outlinewidth": 0,
             "ticks": ""
            },
            "colorscale": [
             [
              0,
              "#0d0887"
             ],
             [
              0.1111111111111111,
              "#46039f"
             ],
             [
              0.2222222222222222,
              "#7201a8"
             ],
             [
              0.3333333333333333,
              "#9c179e"
             ],
             [
              0.4444444444444444,
              "#bd3786"
             ],
             [
              0.5555555555555556,
              "#d8576b"
             ],
             [
              0.6666666666666666,
              "#ed7953"
             ],
             [
              0.7777777777777778,
              "#fb9f3a"
             ],
             [
              0.8888888888888888,
              "#fdca26"
             ],
             [
              1,
              "#f0f921"
             ]
            ],
            "type": "histogram2d"
           }
          ],
          "histogram2dcontour": [
           {
            "colorbar": {
             "outlinewidth": 0,
             "ticks": ""
            },
            "colorscale": [
             [
              0,
              "#0d0887"
             ],
             [
              0.1111111111111111,
              "#46039f"
             ],
             [
              0.2222222222222222,
              "#7201a8"
             ],
             [
              0.3333333333333333,
              "#9c179e"
             ],
             [
              0.4444444444444444,
              "#bd3786"
             ],
             [
              0.5555555555555556,
              "#d8576b"
             ],
             [
              0.6666666666666666,
              "#ed7953"
             ],
             [
              0.7777777777777778,
              "#fb9f3a"
             ],
             [
              0.8888888888888888,
              "#fdca26"
             ],
             [
              1,
              "#f0f921"
             ]
            ],
            "type": "histogram2dcontour"
           }
          ],
          "mesh3d": [
           {
            "colorbar": {
             "outlinewidth": 0,
             "ticks": ""
            },
            "type": "mesh3d"
           }
          ],
          "parcoords": [
           {
            "line": {
             "colorbar": {
              "outlinewidth": 0,
              "ticks": ""
             }
            },
            "type": "parcoords"
           }
          ],
          "pie": [
           {
            "automargin": true,
            "type": "pie"
           }
          ],
          "scatter": [
           {
            "fillpattern": {
             "fillmode": "overlay",
             "size": 10,
             "solidity": 0.2
            },
            "type": "scatter"
           }
          ],
          "scatter3d": [
           {
            "line": {
             "colorbar": {
              "outlinewidth": 0,
              "ticks": ""
             }
            },
            "marker": {
             "colorbar": {
              "outlinewidth": 0,
              "ticks": ""
             }
            },
            "type": "scatter3d"
           }
          ],
          "scattercarpet": [
           {
            "marker": {
             "colorbar": {
              "outlinewidth": 0,
              "ticks": ""
             }
            },
            "type": "scattercarpet"
           }
          ],
          "scattergeo": [
           {
            "marker": {
             "colorbar": {
              "outlinewidth": 0,
              "ticks": ""
             }
            },
            "type": "scattergeo"
           }
          ],
          "scattergl": [
           {
            "marker": {
             "colorbar": {
              "outlinewidth": 0,
              "ticks": ""
             }
            },
            "type": "scattergl"
           }
          ],
          "scattermapbox": [
           {
            "marker": {
             "colorbar": {
              "outlinewidth": 0,
              "ticks": ""
             }
            },
            "type": "scattermapbox"
           }
          ],
          "scatterpolar": [
           {
            "marker": {
             "colorbar": {
              "outlinewidth": 0,
              "ticks": ""
             }
            },
            "type": "scatterpolar"
           }
          ],
          "scatterpolargl": [
           {
            "marker": {
             "colorbar": {
              "outlinewidth": 0,
              "ticks": ""
             }
            },
            "type": "scatterpolargl"
           }
          ],
          "scatterternary": [
           {
            "marker": {
             "colorbar": {
              "outlinewidth": 0,
              "ticks": ""
             }
            },
            "type": "scatterternary"
           }
          ],
          "surface": [
           {
            "colorbar": {
             "outlinewidth": 0,
             "ticks": ""
            },
            "colorscale": [
             [
              0,
              "#0d0887"
             ],
             [
              0.1111111111111111,
              "#46039f"
             ],
             [
              0.2222222222222222,
              "#7201a8"
             ],
             [
              0.3333333333333333,
              "#9c179e"
             ],
             [
              0.4444444444444444,
              "#bd3786"
             ],
             [
              0.5555555555555556,
              "#d8576b"
             ],
             [
              0.6666666666666666,
              "#ed7953"
             ],
             [
              0.7777777777777778,
              "#fb9f3a"
             ],
             [
              0.8888888888888888,
              "#fdca26"
             ],
             [
              1,
              "#f0f921"
             ]
            ],
            "type": "surface"
           }
          ],
          "table": [
           {
            "cells": {
             "fill": {
              "color": "#EBF0F8"
             },
             "line": {
              "color": "white"
             }
            },
            "header": {
             "fill": {
              "color": "#C8D4E3"
             },
             "line": {
              "color": "white"
             }
            },
            "type": "table"
           }
          ]
         },
         "layout": {
          "annotationdefaults": {
           "arrowcolor": "#2a3f5f",
           "arrowhead": 0,
           "arrowwidth": 1
          },
          "autotypenumbers": "strict",
          "coloraxis": {
           "colorbar": {
            "outlinewidth": 0,
            "ticks": ""
           }
          },
          "colorscale": {
           "diverging": [
            [
             0,
             "#8e0152"
            ],
            [
             0.1,
             "#c51b7d"
            ],
            [
             0.2,
             "#de77ae"
            ],
            [
             0.3,
             "#f1b6da"
            ],
            [
             0.4,
             "#fde0ef"
            ],
            [
             0.5,
             "#f7f7f7"
            ],
            [
             0.6,
             "#e6f5d0"
            ],
            [
             0.7,
             "#b8e186"
            ],
            [
             0.8,
             "#7fbc41"
            ],
            [
             0.9,
             "#4d9221"
            ],
            [
             1,
             "#276419"
            ]
           ],
           "sequential": [
            [
             0,
             "#0d0887"
            ],
            [
             0.1111111111111111,
             "#46039f"
            ],
            [
             0.2222222222222222,
             "#7201a8"
            ],
            [
             0.3333333333333333,
             "#9c179e"
            ],
            [
             0.4444444444444444,
             "#bd3786"
            ],
            [
             0.5555555555555556,
             "#d8576b"
            ],
            [
             0.6666666666666666,
             "#ed7953"
            ],
            [
             0.7777777777777778,
             "#fb9f3a"
            ],
            [
             0.8888888888888888,
             "#fdca26"
            ],
            [
             1,
             "#f0f921"
            ]
           ],
           "sequentialminus": [
            [
             0,
             "#0d0887"
            ],
            [
             0.1111111111111111,
             "#46039f"
            ],
            [
             0.2222222222222222,
             "#7201a8"
            ],
            [
             0.3333333333333333,
             "#9c179e"
            ],
            [
             0.4444444444444444,
             "#bd3786"
            ],
            [
             0.5555555555555556,
             "#d8576b"
            ],
            [
             0.6666666666666666,
             "#ed7953"
            ],
            [
             0.7777777777777778,
             "#fb9f3a"
            ],
            [
             0.8888888888888888,
             "#fdca26"
            ],
            [
             1,
             "#f0f921"
            ]
           ]
          },
          "colorway": [
           "#636efa",
           "#EF553B",
           "#00cc96",
           "#ab63fa",
           "#FFA15A",
           "#19d3f3",
           "#FF6692",
           "#B6E880",
           "#FF97FF",
           "#FECB52"
          ],
          "font": {
           "color": "#2a3f5f"
          },
          "geo": {
           "bgcolor": "white",
           "lakecolor": "white",
           "landcolor": "white",
           "showlakes": true,
           "showland": true,
           "subunitcolor": "#C8D4E3"
          },
          "hoverlabel": {
           "align": "left"
          },
          "hovermode": "closest",
          "mapbox": {
           "style": "light"
          },
          "paper_bgcolor": "white",
          "plot_bgcolor": "white",
          "polar": {
           "angularaxis": {
            "gridcolor": "#EBF0F8",
            "linecolor": "#EBF0F8",
            "ticks": ""
           },
           "bgcolor": "white",
           "radialaxis": {
            "gridcolor": "#EBF0F8",
            "linecolor": "#EBF0F8",
            "ticks": ""
           }
          },
          "scene": {
           "xaxis": {
            "backgroundcolor": "white",
            "gridcolor": "#DFE8F3",
            "gridwidth": 2,
            "linecolor": "#EBF0F8",
            "showbackground": true,
            "ticks": "",
            "zerolinecolor": "#EBF0F8"
           },
           "yaxis": {
            "backgroundcolor": "white",
            "gridcolor": "#DFE8F3",
            "gridwidth": 2,
            "linecolor": "#EBF0F8",
            "showbackground": true,
            "ticks": "",
            "zerolinecolor": "#EBF0F8"
           },
           "zaxis": {
            "backgroundcolor": "white",
            "gridcolor": "#DFE8F3",
            "gridwidth": 2,
            "linecolor": "#EBF0F8",
            "showbackground": true,
            "ticks": "",
            "zerolinecolor": "#EBF0F8"
           }
          },
          "shapedefaults": {
           "line": {
            "color": "#2a3f5f"
           }
          },
          "ternary": {
           "aaxis": {
            "gridcolor": "#DFE8F3",
            "linecolor": "#A2B1C6",
            "ticks": ""
           },
           "baxis": {
            "gridcolor": "#DFE8F3",
            "linecolor": "#A2B1C6",
            "ticks": ""
           },
           "bgcolor": "white",
           "caxis": {
            "gridcolor": "#DFE8F3",
            "linecolor": "#A2B1C6",
            "ticks": ""
           }
          },
          "title": {
           "x": 0.05
          },
          "xaxis": {
           "automargin": true,
           "gridcolor": "#EBF0F8",
           "linecolor": "#EBF0F8",
           "ticks": "",
           "title": {
            "standoff": 15
           },
           "zerolinecolor": "#EBF0F8",
           "zerolinewidth": 2
          },
          "yaxis": {
           "automargin": true,
           "gridcolor": "#EBF0F8",
           "linecolor": "#EBF0F8",
           "ticks": "",
           "title": {
            "standoff": 15
           },
           "zerolinecolor": "#EBF0F8",
           "zerolinewidth": 2
          }
         }
        },
        "title": {
         "text": "The lowest-priced LLMs above a capability threshold have become much cheaper to use"
        },
        "width": 1000,
        "xaxis": {
         "range": [
          -0.5,
          7
         ]
        },
        "yaxis": {
         "tickmode": "array",
         "ticktext": [
          "1x",
          "10x",
          "100x",
          "1,000x",
          "10,000x",
          "100,000x"
         ],
         "tickvals": [
          0,
          1,
          2,
          3,
          4,
          5
         ],
         "title": {
          "text": "Annualized rate of decrease in price per token"
         },
         "zeroline": false
        }
       }
      }
     },
     "metadata": {},
     "output_type": "display_data"
    }
   ],
   "source": [
    "# Create figure\n",
    "fig = go.Figure()\n",
    "\n",
    "bench_aliases = {\n",
    "    'MMLU': 'General knowledge',\n",
    "    'GPQA Diamond': 'Scientific reasoning', \n",
    "    'HumanEval': 'Coding',\n",
    "    'MATH 5': 'Math (harder)',\n",
    "    'MATH-500': 'Math (easier)',\n",
    "    'LMSys Chatbot Arena ELO': 'Chatbot Arena',\n",
    "}\n",
    "\n",
    "# Add violin plot\n",
    "fig.add_trace(go.Violin(\n",
    "    y=np.log10(all_price_factors),\n",
    "    x0='All benchmarks',\n",
    "    box_visible=True,\n",
    "    name='Distribution',\n",
    "    showlegend=False,\n",
    "))\n",
    "\n",
    "# Add points for each benchmark as scatter traces\n",
    "for bench in benchmarks:\n",
    "    # if bench == 'MATH-500':\n",
    "    #     continue\n",
    "\n",
    "    bench_results = cheapest_model_results_df[cheapest_model_results_df['bench'] == bench]\n",
    "    price_factors = bench_results['price_reduction_factor_per_year'].dropna()\n",
    "    bench_factors = np.log10(price_factors)\n",
    "    bench_ranges = bench_results['threshold_model']\n",
    "    \n",
    "    fig.add_trace(go.Scatter(\n",
    "        y=bench_factors,\n",
    "        x=[bench_aliases[bench]] * len(bench_factors),\n",
    "        mode='markers',\n",
    "        name=bench,\n",
    "        text=bench_ranges,\n",
    "        textposition='middle right',\n",
    "        marker=dict(size=10),\n",
    "        hovertemplate='Cheapest models that are %{text} level or better',\n",
    "        showlegend=False,\n",
    "    ))\n",
    "\n",
    "# Update layout\n",
    "fig.update_layout(yaxis_zeroline=False)\n",
    "fig.update_layout(yaxis_title='Annualized rate of decrease in price per token')\n",
    "# Change y-axis labels to be powers of 10\n",
    "tvs = list(range(0, 6))\n",
    "fig.update_layout(yaxis=dict(tickmode='array', tickvals=tvs, ticktext=[f'{10**tickval:,.0f}x' for tickval in tvs]))\n",
    "fig.update_layout(\n",
    "    title='The lowest-priced LLMs above a capability threshold have become much cheaper to use',\n",
    "    width=1000,\n",
    "    height=600,\n",
    "    font=dict(size=14),\n",
    "    # add some left margin\n",
    "    margin=dict(l=130),\n",
    "    # Increase spacing between x values by expanding the range\n",
    "    xaxis=dict(range=[-0.5, len(benchmarks) + 1.0])\n",
    ")\n",
    "if save:\n",
    "    save_plot(fig, results_subdir, 'lowest_price_models_all_violin', extensions=['png'])\n",
    "fig.show()"
   ]
  },
  {
   "cell_type": "code",
   "execution_count": 32,
   "metadata": {},
   "outputs": [
    {
     "data": {
      "text/plain": [
       "(19, 19, 19)"
      ]
     },
     "execution_count": 32,
     "metadata": {},
     "output_type": "execute_result"
    }
   ],
   "source": [
    "min_date_span_df = cheapest_model_results_df.copy()\n",
    "start_dates = min_date_span_df['start_date']\n",
    "end_dates = min_date_span_df['end_date']\n",
    "date_spans = (end_dates - start_dates).dt.days\n",
    "sample_sizes = min_date_span_df['sample_size']\n",
    "# Correlation of date spans with np.log10(price_factors)\n",
    "len(date_spans), len(np.log10(all_price_factors)), len(sample_sizes)"
   ]
  },
  {
   "cell_type": "code",
   "execution_count": 33,
   "metadata": {},
   "outputs": [
    {
     "name": "stdout",
     "output_type": "stream",
     "text": [
      "-0.12876843413427758\n",
      "0.2797501377927949\n"
     ]
    }
   ],
   "source": [
    "print(np.corrcoef(date_spans, np.log10(all_price_factors))[0,1])\n",
    "print(np.corrcoef(sample_sizes, np.log10(all_price_factors))[0,1])"
   ]
  },
  {
   "cell_type": "code",
   "execution_count": 34,
   "metadata": {},
   "outputs": [
    {
     "data": {
      "application/vnd.plotly.v1+json": {
       "config": {
        "plotlyServerURL": "https://plot.ly"
       },
       "data": [
        {
         "hovertemplate": "Date span: %{x} days<br>Log10 price reduction: %{y:.2f}",
         "marker": {
          "size": 10
         },
         "mode": "markers",
         "text": [
          "n=4",
          "n=4",
          "n=4",
          "n=4",
          "n=4",
          "n=5",
          "n=5",
          "n=5",
          "n=4",
          "n=5",
          "n=4",
          "n=5",
          "n=4",
          "n=4",
          "n=4",
          "n=5",
          "n=4",
          "n=4",
          "n=5"
         ],
         "textposition": "top center",
         "type": "scatter",
         "x": [
          172,
          213,
          213,
          268,
          291,
          214,
          214,
          230,
          146,
          214,
          214,
          214,
          214,
          141,
          284,
          213,
          213,
          134,
          268
         ],
         "y": [
          0.47712125471966244,
          1.3617278360175928,
          1.3617278360175928,
          2.307496037913213,
          1.380211241711606,
          2.9479236198317262,
          2.7589118923979736,
          2.5634810853944106,
          0.6020599913279624,
          2.8870543780509568,
          2.8382192219076257,
          2.829946695941636,
          2.8382192219076257,
          1.6020599913279623,
          0.7781512503836436,
          1.2304489213782739,
          2.8785217955012063,
          4.504280519607277,
          2.247973266361807
         ]
        },
        {
         "line": {
          "color": "red",
          "dash": "dash"
         },
         "mode": "lines",
         "name": "Trend line (r=-0.13)",
         "type": "scatter",
         "x": [
          134,
          135.58585858585857,
          137.17171717171718,
          138.75757575757575,
          140.34343434343435,
          141.92929292929293,
          143.5151515151515,
          145.1010101010101,
          146.68686868686868,
          148.27272727272728,
          149.85858585858585,
          151.44444444444446,
          153.03030303030303,
          154.6161616161616,
          156.2020202020202,
          157.78787878787878,
          159.37373737373738,
          160.95959595959596,
          162.54545454545456,
          164.13131313131314,
          165.7171717171717,
          167.3030303030303,
          168.88888888888889,
          170.47474747474746,
          172.06060606060606,
          173.64646464646464,
          175.23232323232324,
          176.8181818181818,
          178.40404040404042,
          179.989898989899,
          181.57575757575756,
          183.16161616161617,
          184.74747474747474,
          186.33333333333334,
          187.91919191919192,
          189.50505050505052,
          191.0909090909091,
          192.67676767676767,
          194.26262626262627,
          195.84848484848484,
          197.43434343434342,
          199.02020202020202,
          200.60606060606062,
          202.1919191919192,
          203.77777777777777,
          205.36363636363637,
          206.94949494949495,
          208.53535353535352,
          210.12121212121212,
          211.70707070707073,
          213.29292929292927,
          214.87878787878788,
          216.46464646464648,
          218.05050505050505,
          219.63636363636363,
          221.22222222222223,
          222.8080808080808,
          224.39393939393938,
          225.97979797979798,
          227.56565656565658,
          229.15151515151516,
          230.73737373737373,
          232.32323232323233,
          233.9090909090909,
          235.49494949494948,
          237.08080808080808,
          238.66666666666669,
          240.25252525252523,
          241.83838383838383,
          243.42424242424244,
          245.010101010101,
          246.59595959595958,
          248.1818181818182,
          249.76767676767676,
          251.35353535353534,
          252.93939393939394,
          254.52525252525254,
          256.1111111111111,
          257.6969696969697,
          259.2828282828283,
          260.86868686868684,
          262.4545454545455,
          264.04040404040404,
          265.6262626262626,
          267.21212121212125,
          268.7979797979798,
          270.3838383838384,
          271.969696969697,
          273.55555555555554,
          275.14141414141415,
          276.72727272727275,
          278.3131313131313,
          279.8989898989899,
          281.4848484848485,
          283.07070707070704,
          284.65656565656565,
          286.24242424242425,
          287.8282828282828,
          289.41414141414145,
          291
         ],
         "y": [
          2.3684050771809346,
          2.363614035635746,
          2.3588229940905574,
          2.354031952545369,
          2.34924091100018,
          2.3444498694549916,
          2.339658827909803,
          2.3348677863646143,
          2.330076744819426,
          2.3252857032742376,
          2.320494661729049,
          2.3157036201838603,
          2.3109125786386717,
          2.306121537093483,
          2.301330495548295,
          2.2965394540031063,
          2.2917484124579177,
          2.286957370912729,
          2.2821663293675405,
          2.277375287822352,
          2.2725842462771633,
          2.2677932047319747,
          2.2630021631867865,
          2.258211121641598,
          2.2534200800964093,
          2.2486290385512206,
          2.243837997006032,
          2.2390469554608434,
          2.2342559139156553,
          2.2294648723704666,
          2.224673830825278,
          2.2198827892800894,
          2.215091747734901,
          2.210300706189712,
          2.2055096646445236,
          2.200718623099335,
          2.1959275815541464,
          2.191136540008958,
          2.1863454984637696,
          2.181554456918581,
          2.1767634153733924,
          2.1719723738282037,
          2.167181332283015,
          2.162390290737827,
          2.1575992491926383,
          2.1528082076474497,
          2.148017166102261,
          2.1432261245570725,
          2.138435083011884,
          2.1336440414666953,
          2.128852999921507,
          2.1240619583763185,
          2.11927091683113,
          2.1144798752859413,
          2.1096888337407527,
          2.104897792195564,
          2.100106750650376,
          2.0953157091051873,
          2.0905246675599987,
          2.08573362601481,
          2.0809425844696214,
          2.076151542924433,
          2.071360501379244,
          2.0665694598340556,
          2.061778418288867,
          2.0569873767436784,
          2.05219633519849,
          2.0474052936533016,
          2.042614252108113,
          2.0378232105629244,
          2.0330321690177358,
          2.0282411274725476,
          2.023450085927359,
          2.0186590443821704,
          2.0138680028369818,
          2.009076961291793,
          2.0042859197466045,
          1.9994948782014161,
          1.9947038366562275,
          1.989912795111039,
          1.9851217535658505,
          1.9803307120206617,
          1.9755396704754733,
          1.970748628930285,
          1.965957587385096,
          1.9611665458399077,
          1.956375504294719,
          1.9515844627495305,
          1.946793421204342,
          1.9420023796591535,
          1.9372113381139648,
          1.9324202965687765,
          1.9276292550235878,
          1.9228382134783992,
          1.9180471719332108,
          1.9132561303880222,
          1.9084650888428336,
          1.903674047297645,
          1.8988830057524564,
          1.894091964207268
         ]
        }
       ],
       "layout": {
        "font": {
         "size": 14
        },
        "height": 500,
        "template": {
         "data": {
          "bar": [
           {
            "error_x": {
             "color": "#2a3f5f"
            },
            "error_y": {
             "color": "#2a3f5f"
            },
            "marker": {
             "line": {
              "color": "white",
              "width": 0.5
             },
             "pattern": {
              "fillmode": "overlay",
              "size": 10,
              "solidity": 0.2
             }
            },
            "type": "bar"
           }
          ],
          "barpolar": [
           {
            "marker": {
             "line": {
              "color": "white",
              "width": 0.5
             },
             "pattern": {
              "fillmode": "overlay",
              "size": 10,
              "solidity": 0.2
             }
            },
            "type": "barpolar"
           }
          ],
          "carpet": [
           {
            "aaxis": {
             "endlinecolor": "#2a3f5f",
             "gridcolor": "#C8D4E3",
             "linecolor": "#C8D4E3",
             "minorgridcolor": "#C8D4E3",
             "startlinecolor": "#2a3f5f"
            },
            "baxis": {
             "endlinecolor": "#2a3f5f",
             "gridcolor": "#C8D4E3",
             "linecolor": "#C8D4E3",
             "minorgridcolor": "#C8D4E3",
             "startlinecolor": "#2a3f5f"
            },
            "type": "carpet"
           }
          ],
          "choropleth": [
           {
            "colorbar": {
             "outlinewidth": 0,
             "ticks": ""
            },
            "type": "choropleth"
           }
          ],
          "contour": [
           {
            "colorbar": {
             "outlinewidth": 0,
             "ticks": ""
            },
            "colorscale": [
             [
              0,
              "#0d0887"
             ],
             [
              0.1111111111111111,
              "#46039f"
             ],
             [
              0.2222222222222222,
              "#7201a8"
             ],
             [
              0.3333333333333333,
              "#9c179e"
             ],
             [
              0.4444444444444444,
              "#bd3786"
             ],
             [
              0.5555555555555556,
              "#d8576b"
             ],
             [
              0.6666666666666666,
              "#ed7953"
             ],
             [
              0.7777777777777778,
              "#fb9f3a"
             ],
             [
              0.8888888888888888,
              "#fdca26"
             ],
             [
              1,
              "#f0f921"
             ]
            ],
            "type": "contour"
           }
          ],
          "contourcarpet": [
           {
            "colorbar": {
             "outlinewidth": 0,
             "ticks": ""
            },
            "type": "contourcarpet"
           }
          ],
          "heatmap": [
           {
            "colorbar": {
             "outlinewidth": 0,
             "ticks": ""
            },
            "colorscale": [
             [
              0,
              "#0d0887"
             ],
             [
              0.1111111111111111,
              "#46039f"
             ],
             [
              0.2222222222222222,
              "#7201a8"
             ],
             [
              0.3333333333333333,
              "#9c179e"
             ],
             [
              0.4444444444444444,
              "#bd3786"
             ],
             [
              0.5555555555555556,
              "#d8576b"
             ],
             [
              0.6666666666666666,
              "#ed7953"
             ],
             [
              0.7777777777777778,
              "#fb9f3a"
             ],
             [
              0.8888888888888888,
              "#fdca26"
             ],
             [
              1,
              "#f0f921"
             ]
            ],
            "type": "heatmap"
           }
          ],
          "heatmapgl": [
           {
            "colorbar": {
             "outlinewidth": 0,
             "ticks": ""
            },
            "colorscale": [
             [
              0,
              "#0d0887"
             ],
             [
              0.1111111111111111,
              "#46039f"
             ],
             [
              0.2222222222222222,
              "#7201a8"
             ],
             [
              0.3333333333333333,
              "#9c179e"
             ],
             [
              0.4444444444444444,
              "#bd3786"
             ],
             [
              0.5555555555555556,
              "#d8576b"
             ],
             [
              0.6666666666666666,
              "#ed7953"
             ],
             [
              0.7777777777777778,
              "#fb9f3a"
             ],
             [
              0.8888888888888888,
              "#fdca26"
             ],
             [
              1,
              "#f0f921"
             ]
            ],
            "type": "heatmapgl"
           }
          ],
          "histogram": [
           {
            "marker": {
             "pattern": {
              "fillmode": "overlay",
              "size": 10,
              "solidity": 0.2
             }
            },
            "type": "histogram"
           }
          ],
          "histogram2d": [
           {
            "colorbar": {
             "outlinewidth": 0,
             "ticks": ""
            },
            "colorscale": [
             [
              0,
              "#0d0887"
             ],
             [
              0.1111111111111111,
              "#46039f"
             ],
             [
              0.2222222222222222,
              "#7201a8"
             ],
             [
              0.3333333333333333,
              "#9c179e"
             ],
             [
              0.4444444444444444,
              "#bd3786"
             ],
             [
              0.5555555555555556,
              "#d8576b"
             ],
             [
              0.6666666666666666,
              "#ed7953"
             ],
             [
              0.7777777777777778,
              "#fb9f3a"
             ],
             [
              0.8888888888888888,
              "#fdca26"
             ],
             [
              1,
              "#f0f921"
             ]
            ],
            "type": "histogram2d"
           }
          ],
          "histogram2dcontour": [
           {
            "colorbar": {
             "outlinewidth": 0,
             "ticks": ""
            },
            "colorscale": [
             [
              0,
              "#0d0887"
             ],
             [
              0.1111111111111111,
              "#46039f"
             ],
             [
              0.2222222222222222,
              "#7201a8"
             ],
             [
              0.3333333333333333,
              "#9c179e"
             ],
             [
              0.4444444444444444,
              "#bd3786"
             ],
             [
              0.5555555555555556,
              "#d8576b"
             ],
             [
              0.6666666666666666,
              "#ed7953"
             ],
             [
              0.7777777777777778,
              "#fb9f3a"
             ],
             [
              0.8888888888888888,
              "#fdca26"
             ],
             [
              1,
              "#f0f921"
             ]
            ],
            "type": "histogram2dcontour"
           }
          ],
          "mesh3d": [
           {
            "colorbar": {
             "outlinewidth": 0,
             "ticks": ""
            },
            "type": "mesh3d"
           }
          ],
          "parcoords": [
           {
            "line": {
             "colorbar": {
              "outlinewidth": 0,
              "ticks": ""
             }
            },
            "type": "parcoords"
           }
          ],
          "pie": [
           {
            "automargin": true,
            "type": "pie"
           }
          ],
          "scatter": [
           {
            "fillpattern": {
             "fillmode": "overlay",
             "size": 10,
             "solidity": 0.2
            },
            "type": "scatter"
           }
          ],
          "scatter3d": [
           {
            "line": {
             "colorbar": {
              "outlinewidth": 0,
              "ticks": ""
             }
            },
            "marker": {
             "colorbar": {
              "outlinewidth": 0,
              "ticks": ""
             }
            },
            "type": "scatter3d"
           }
          ],
          "scattercarpet": [
           {
            "marker": {
             "colorbar": {
              "outlinewidth": 0,
              "ticks": ""
             }
            },
            "type": "scattercarpet"
           }
          ],
          "scattergeo": [
           {
            "marker": {
             "colorbar": {
              "outlinewidth": 0,
              "ticks": ""
             }
            },
            "type": "scattergeo"
           }
          ],
          "scattergl": [
           {
            "marker": {
             "colorbar": {
              "outlinewidth": 0,
              "ticks": ""
             }
            },
            "type": "scattergl"
           }
          ],
          "scattermapbox": [
           {
            "marker": {
             "colorbar": {
              "outlinewidth": 0,
              "ticks": ""
             }
            },
            "type": "scattermapbox"
           }
          ],
          "scatterpolar": [
           {
            "marker": {
             "colorbar": {
              "outlinewidth": 0,
              "ticks": ""
             }
            },
            "type": "scatterpolar"
           }
          ],
          "scatterpolargl": [
           {
            "marker": {
             "colorbar": {
              "outlinewidth": 0,
              "ticks": ""
             }
            },
            "type": "scatterpolargl"
           }
          ],
          "scatterternary": [
           {
            "marker": {
             "colorbar": {
              "outlinewidth": 0,
              "ticks": ""
             }
            },
            "type": "scatterternary"
           }
          ],
          "surface": [
           {
            "colorbar": {
             "outlinewidth": 0,
             "ticks": ""
            },
            "colorscale": [
             [
              0,
              "#0d0887"
             ],
             [
              0.1111111111111111,
              "#46039f"
             ],
             [
              0.2222222222222222,
              "#7201a8"
             ],
             [
              0.3333333333333333,
              "#9c179e"
             ],
             [
              0.4444444444444444,
              "#bd3786"
             ],
             [
              0.5555555555555556,
              "#d8576b"
             ],
             [
              0.6666666666666666,
              "#ed7953"
             ],
             [
              0.7777777777777778,
              "#fb9f3a"
             ],
             [
              0.8888888888888888,
              "#fdca26"
             ],
             [
              1,
              "#f0f921"
             ]
            ],
            "type": "surface"
           }
          ],
          "table": [
           {
            "cells": {
             "fill": {
              "color": "#EBF0F8"
             },
             "line": {
              "color": "white"
             }
            },
            "header": {
             "fill": {
              "color": "#C8D4E3"
             },
             "line": {
              "color": "white"
             }
            },
            "type": "table"
           }
          ]
         },
         "layout": {
          "annotationdefaults": {
           "arrowcolor": "#2a3f5f",
           "arrowhead": 0,
           "arrowwidth": 1
          },
          "autotypenumbers": "strict",
          "coloraxis": {
           "colorbar": {
            "outlinewidth": 0,
            "ticks": ""
           }
          },
          "colorscale": {
           "diverging": [
            [
             0,
             "#8e0152"
            ],
            [
             0.1,
             "#c51b7d"
            ],
            [
             0.2,
             "#de77ae"
            ],
            [
             0.3,
             "#f1b6da"
            ],
            [
             0.4,
             "#fde0ef"
            ],
            [
             0.5,
             "#f7f7f7"
            ],
            [
             0.6,
             "#e6f5d0"
            ],
            [
             0.7,
             "#b8e186"
            ],
            [
             0.8,
             "#7fbc41"
            ],
            [
             0.9,
             "#4d9221"
            ],
            [
             1,
             "#276419"
            ]
           ],
           "sequential": [
            [
             0,
             "#0d0887"
            ],
            [
             0.1111111111111111,
             "#46039f"
            ],
            [
             0.2222222222222222,
             "#7201a8"
            ],
            [
             0.3333333333333333,
             "#9c179e"
            ],
            [
             0.4444444444444444,
             "#bd3786"
            ],
            [
             0.5555555555555556,
             "#d8576b"
            ],
            [
             0.6666666666666666,
             "#ed7953"
            ],
            [
             0.7777777777777778,
             "#fb9f3a"
            ],
            [
             0.8888888888888888,
             "#fdca26"
            ],
            [
             1,
             "#f0f921"
            ]
           ],
           "sequentialminus": [
            [
             0,
             "#0d0887"
            ],
            [
             0.1111111111111111,
             "#46039f"
            ],
            [
             0.2222222222222222,
             "#7201a8"
            ],
            [
             0.3333333333333333,
             "#9c179e"
            ],
            [
             0.4444444444444444,
             "#bd3786"
            ],
            [
             0.5555555555555556,
             "#d8576b"
            ],
            [
             0.6666666666666666,
             "#ed7953"
            ],
            [
             0.7777777777777778,
             "#fb9f3a"
            ],
            [
             0.8888888888888888,
             "#fdca26"
            ],
            [
             1,
             "#f0f921"
            ]
           ]
          },
          "colorway": [
           "#636efa",
           "#EF553B",
           "#00cc96",
           "#ab63fa",
           "#FFA15A",
           "#19d3f3",
           "#FF6692",
           "#B6E880",
           "#FF97FF",
           "#FECB52"
          ],
          "font": {
           "color": "#2a3f5f"
          },
          "geo": {
           "bgcolor": "white",
           "lakecolor": "white",
           "landcolor": "white",
           "showlakes": true,
           "showland": true,
           "subunitcolor": "#C8D4E3"
          },
          "hoverlabel": {
           "align": "left"
          },
          "hovermode": "closest",
          "mapbox": {
           "style": "light"
          },
          "paper_bgcolor": "white",
          "plot_bgcolor": "white",
          "polar": {
           "angularaxis": {
            "gridcolor": "#EBF0F8",
            "linecolor": "#EBF0F8",
            "ticks": ""
           },
           "bgcolor": "white",
           "radialaxis": {
            "gridcolor": "#EBF0F8",
            "linecolor": "#EBF0F8",
            "ticks": ""
           }
          },
          "scene": {
           "xaxis": {
            "backgroundcolor": "white",
            "gridcolor": "#DFE8F3",
            "gridwidth": 2,
            "linecolor": "#EBF0F8",
            "showbackground": true,
            "ticks": "",
            "zerolinecolor": "#EBF0F8"
           },
           "yaxis": {
            "backgroundcolor": "white",
            "gridcolor": "#DFE8F3",
            "gridwidth": 2,
            "linecolor": "#EBF0F8",
            "showbackground": true,
            "ticks": "",
            "zerolinecolor": "#EBF0F8"
           },
           "zaxis": {
            "backgroundcolor": "white",
            "gridcolor": "#DFE8F3",
            "gridwidth": 2,
            "linecolor": "#EBF0F8",
            "showbackground": true,
            "ticks": "",
            "zerolinecolor": "#EBF0F8"
           }
          },
          "shapedefaults": {
           "line": {
            "color": "#2a3f5f"
           }
          },
          "ternary": {
           "aaxis": {
            "gridcolor": "#DFE8F3",
            "linecolor": "#A2B1C6",
            "ticks": ""
           },
           "baxis": {
            "gridcolor": "#DFE8F3",
            "linecolor": "#A2B1C6",
            "ticks": ""
           },
           "bgcolor": "white",
           "caxis": {
            "gridcolor": "#DFE8F3",
            "linecolor": "#A2B1C6",
            "ticks": ""
           }
          },
          "title": {
           "x": 0.05
          },
          "xaxis": {
           "automargin": true,
           "gridcolor": "#EBF0F8",
           "linecolor": "#EBF0F8",
           "ticks": "",
           "title": {
            "standoff": 15
           },
           "zerolinecolor": "#EBF0F8",
           "zerolinewidth": 2
          },
          "yaxis": {
           "automargin": true,
           "gridcolor": "#EBF0F8",
           "linecolor": "#EBF0F8",
           "ticks": "",
           "title": {
            "standoff": 15
           },
           "zerolinecolor": "#EBF0F8",
           "zerolinewidth": 2
          }
         }
        },
        "title": {
         "text": "Correlation between date span and price reduction factor"
        },
        "width": 800,
        "xaxis": {
         "title": {
          "text": "Date span of regression (days)"
         }
        },
        "yaxis": {
         "title": {
          "text": "Price reduction factor per year (log10)"
         }
        }
       }
      }
     },
     "metadata": {},
     "output_type": "display_data"
    }
   ],
   "source": [
    "\n",
    "# Create a scatter plot of log10(price factors) vs date spans\n",
    "fig_corr = go.Figure()\n",
    "\n",
    "fig_corr.add_trace(go.Scatter(\n",
    "    x=date_spans,\n",
    "    y=np.log10(all_price_factors),\n",
    "    mode='markers',\n",
    "    text=[f'n={s}' for s in sample_sizes],\n",
    "    textposition='top center',\n",
    "    marker=dict(size=10),\n",
    "    hovertemplate='Date span: %{x} days<br>Log10 price reduction: %{y:.2f}',\n",
    "))\n",
    "\n",
    "# Update layout\n",
    "fig_corr.update_layout(\n",
    "    title='Correlation between date span and price reduction factor',\n",
    "    xaxis_title='Date span of regression (days)',\n",
    "    yaxis_title='Price reduction factor per year (log10)',\n",
    "    width=800,\n",
    "    height=500,\n",
    "    font=dict(size=14),\n",
    ")\n",
    "\n",
    "# Add a trend line\n",
    "z = np.polyfit(date_spans, np.log10(all_price_factors), 1)\n",
    "p = np.poly1d(z)\n",
    "x_trend = np.linspace(min(date_spans), max(date_spans), 100)\n",
    "y_trend = p(x_trend)\n",
    "\n",
    "fig_corr.add_trace(go.Scatter(\n",
    "    x=x_trend,\n",
    "    y=y_trend,\n",
    "    mode='lines',\n",
    "    line=dict(color='red', dash='dash'),\n",
    "    name=f'Trend line (r={np.corrcoef(date_spans, np.log10(all_price_factors))[0,1]:.2f})',\n",
    "))\n",
    "if save:\n",
    "    save_plot(fig_corr, results_subdir, 'price_factor_date_span_correlation', ['png'])\n",
    "fig_corr.show()\n"
   ]
  },
  {
   "cell_type": "code",
   "execution_count": 35,
   "metadata": {},
   "outputs": [
    {
     "data": {
      "application/vnd.plotly.v1+json": {
       "config": {
        "plotlyServerURL": "https://plot.ly"
       },
       "data": [
        {
         "marker": {
          "size": 10
         },
         "mode": "markers",
         "textposition": "top center",
         "type": "scatter",
         "x": [
          4,
          4,
          4,
          4,
          4,
          5,
          5,
          5,
          4,
          5,
          4,
          5,
          4,
          4,
          4,
          5,
          4,
          4,
          5
         ],
         "y": [
          0.47712125471966244,
          1.3617278360175928,
          1.3617278360175928,
          2.307496037913213,
          1.380211241711606,
          2.9479236198317262,
          2.7589118923979736,
          2.5634810853944106,
          0.6020599913279624,
          2.8870543780509568,
          2.8382192219076257,
          2.829946695941636,
          2.8382192219076257,
          1.6020599913279623,
          0.7781512503836436,
          1.2304489213782739,
          2.8785217955012063,
          4.504280519607277,
          2.247973266361807
         ]
        },
        {
         "line": {
          "color": "red",
          "dash": "dash"
         },
         "mode": "lines",
         "name": "Trend line (r=0.28)",
         "type": "scatter",
         "x": [
          4,
          4.01010101010101,
          4.02020202020202,
          4.03030303030303,
          4.040404040404041,
          4.05050505050505,
          4.0606060606060606,
          4.070707070707071,
          4.08080808080808,
          4.090909090909091,
          4.101010101010101,
          4.111111111111111,
          4.121212121212121,
          4.1313131313131315,
          4.141414141414142,
          4.151515151515151,
          4.161616161616162,
          4.171717171717172,
          4.181818181818182,
          4.191919191919192,
          4.202020202020202,
          4.212121212121212,
          4.222222222222222,
          4.232323232323233,
          4.242424242424242,
          4.252525252525253,
          4.262626262626263,
          4.2727272727272725,
          4.282828282828283,
          4.292929292929293,
          4.303030303030303,
          4.313131313131313,
          4.3232323232323235,
          4.333333333333333,
          4.343434343434343,
          4.353535353535354,
          4.363636363636363,
          4.373737373737374,
          4.383838383838384,
          4.393939393939394,
          4.404040404040404,
          4.414141414141414,
          4.424242424242424,
          4.434343434343434,
          4.444444444444445,
          4.454545454545455,
          4.4646464646464645,
          4.474747474747475,
          4.484848484848484,
          4.494949494949495,
          4.505050505050505,
          4.515151515151516,
          4.525252525252525,
          4.5353535353535355,
          4.545454545454546,
          4.555555555555555,
          4.565656565656566,
          4.575757575757576,
          4.585858585858586,
          4.595959595959596,
          4.606060606060606,
          4.616161616161616,
          4.626262626262626,
          4.636363636363637,
          4.646464646464646,
          4.656565656565657,
          4.666666666666667,
          4.6767676767676765,
          4.686868686868687,
          4.696969696969697,
          4.707070707070708,
          4.717171717171717,
          4.7272727272727275,
          4.737373737373737,
          4.747474747474747,
          4.757575757575758,
          4.767676767676768,
          4.777777777777778,
          4.787878787878788,
          4.797979797979798,
          4.808080808080808,
          4.818181818181818,
          4.828282828282829,
          4.838383838383838,
          4.848484848484849,
          4.858585858585859,
          4.8686868686868685,
          4.878787878787879,
          4.888888888888889,
          4.898989898989899,
          4.909090909090909,
          4.91919191919192,
          4.929292929292929,
          4.9393939393939394,
          4.94949494949495,
          4.959595959595959,
          4.96969696969697,
          4.97979797979798,
          4.98989898989899,
          5
         ],
         "y": [
          1.9108163498619142,
          1.9167182624309236,
          1.9226201749999325,
          1.928522087568942,
          1.9344240001379513,
          1.9403259127069599,
          1.9462278252759693,
          1.9521297378449787,
          1.9580316504139876,
          1.963933562982997,
          1.9698354755520064,
          1.975737388121015,
          1.9816393006900244,
          1.9875412132590338,
          1.9934431258280432,
          1.9993450383970521,
          2.0052469509660615,
          2.011148863535071,
          2.01705077610408,
          2.0229526886730893,
          2.0288546012420983,
          2.0347565138111072,
          2.0406584263801166,
          2.046560338949126,
          2.052462251518135,
          2.0583641640871444,
          2.064266076656154,
          2.0701679892251623,
          2.0760699017941717,
          2.081971814363181,
          2.08787372693219,
          2.0937756395011995,
          2.099677552070209,
          2.105579464639218,
          2.1114813772082273,
          2.117383289777236,
          2.123285202346245,
          2.1291871149152546,
          2.135089027484264,
          2.140990940053273,
          2.1468928526222824,
          2.1527947651912918,
          2.1586966777603003,
          2.1645985903293097,
          2.170500502898319,
          2.1764024154673285,
          2.1823043280363374,
          2.188206240605347,
          2.194108153174356,
          2.200010065743365,
          2.205911978312374,
          2.2118138908813836,
          2.2177158034503925,
          2.223617716019402,
          2.2295196285884114,
          2.2354215411574203,
          2.2413234537264297,
          2.247225366295439,
          2.2531272788644476,
          2.259029191433457,
          2.2649311040024664,
          2.2708330165714754,
          2.276734929140485,
          2.282636841709494,
          2.288538754278503,
          2.294440666847512,
          2.3003425794165215,
          2.3062444919855305,
          2.31214640455454,
          2.3180483171235493,
          2.3239502296925587,
          2.3298521422615677,
          2.335754054830577,
          2.3416559673995856,
          2.347557879968595,
          2.3534597925376044,
          2.359361705106614,
          2.3652636176756228,
          2.371165530244632,
          2.377067442813641,
          2.38296935538265,
          2.3888712679516595,
          2.394773180520669,
          2.400675093089678,
          2.4065770056586873,
          2.4124789182276967,
          2.4183808307967056,
          2.424282743365715,
          2.4301846559347244,
          2.436086568503733,
          2.4419884810727424,
          2.4478903936417518,
          2.4537923062107607,
          2.45969421877977,
          2.4655961313487795,
          2.471498043917788,
          2.4773999564867974,
          2.483301869055807,
          2.489203781624816,
          2.495105694193825
         ]
        }
       ],
       "layout": {
        "font": {
         "size": 14
        },
        "height": 500,
        "template": {
         "data": {
          "bar": [
           {
            "error_x": {
             "color": "#2a3f5f"
            },
            "error_y": {
             "color": "#2a3f5f"
            },
            "marker": {
             "line": {
              "color": "white",
              "width": 0.5
             },
             "pattern": {
              "fillmode": "overlay",
              "size": 10,
              "solidity": 0.2
             }
            },
            "type": "bar"
           }
          ],
          "barpolar": [
           {
            "marker": {
             "line": {
              "color": "white",
              "width": 0.5
             },
             "pattern": {
              "fillmode": "overlay",
              "size": 10,
              "solidity": 0.2
             }
            },
            "type": "barpolar"
           }
          ],
          "carpet": [
           {
            "aaxis": {
             "endlinecolor": "#2a3f5f",
             "gridcolor": "#C8D4E3",
             "linecolor": "#C8D4E3",
             "minorgridcolor": "#C8D4E3",
             "startlinecolor": "#2a3f5f"
            },
            "baxis": {
             "endlinecolor": "#2a3f5f",
             "gridcolor": "#C8D4E3",
             "linecolor": "#C8D4E3",
             "minorgridcolor": "#C8D4E3",
             "startlinecolor": "#2a3f5f"
            },
            "type": "carpet"
           }
          ],
          "choropleth": [
           {
            "colorbar": {
             "outlinewidth": 0,
             "ticks": ""
            },
            "type": "choropleth"
           }
          ],
          "contour": [
           {
            "colorbar": {
             "outlinewidth": 0,
             "ticks": ""
            },
            "colorscale": [
             [
              0,
              "#0d0887"
             ],
             [
              0.1111111111111111,
              "#46039f"
             ],
             [
              0.2222222222222222,
              "#7201a8"
             ],
             [
              0.3333333333333333,
              "#9c179e"
             ],
             [
              0.4444444444444444,
              "#bd3786"
             ],
             [
              0.5555555555555556,
              "#d8576b"
             ],
             [
              0.6666666666666666,
              "#ed7953"
             ],
             [
              0.7777777777777778,
              "#fb9f3a"
             ],
             [
              0.8888888888888888,
              "#fdca26"
             ],
             [
              1,
              "#f0f921"
             ]
            ],
            "type": "contour"
           }
          ],
          "contourcarpet": [
           {
            "colorbar": {
             "outlinewidth": 0,
             "ticks": ""
            },
            "type": "contourcarpet"
           }
          ],
          "heatmap": [
           {
            "colorbar": {
             "outlinewidth": 0,
             "ticks": ""
            },
            "colorscale": [
             [
              0,
              "#0d0887"
             ],
             [
              0.1111111111111111,
              "#46039f"
             ],
             [
              0.2222222222222222,
              "#7201a8"
             ],
             [
              0.3333333333333333,
              "#9c179e"
             ],
             [
              0.4444444444444444,
              "#bd3786"
             ],
             [
              0.5555555555555556,
              "#d8576b"
             ],
             [
              0.6666666666666666,
              "#ed7953"
             ],
             [
              0.7777777777777778,
              "#fb9f3a"
             ],
             [
              0.8888888888888888,
              "#fdca26"
             ],
             [
              1,
              "#f0f921"
             ]
            ],
            "type": "heatmap"
           }
          ],
          "heatmapgl": [
           {
            "colorbar": {
             "outlinewidth": 0,
             "ticks": ""
            },
            "colorscale": [
             [
              0,
              "#0d0887"
             ],
             [
              0.1111111111111111,
              "#46039f"
             ],
             [
              0.2222222222222222,
              "#7201a8"
             ],
             [
              0.3333333333333333,
              "#9c179e"
             ],
             [
              0.4444444444444444,
              "#bd3786"
             ],
             [
              0.5555555555555556,
              "#d8576b"
             ],
             [
              0.6666666666666666,
              "#ed7953"
             ],
             [
              0.7777777777777778,
              "#fb9f3a"
             ],
             [
              0.8888888888888888,
              "#fdca26"
             ],
             [
              1,
              "#f0f921"
             ]
            ],
            "type": "heatmapgl"
           }
          ],
          "histogram": [
           {
            "marker": {
             "pattern": {
              "fillmode": "overlay",
              "size": 10,
              "solidity": 0.2
             }
            },
            "type": "histogram"
           }
          ],
          "histogram2d": [
           {
            "colorbar": {
             "outlinewidth": 0,
             "ticks": ""
            },
            "colorscale": [
             [
              0,
              "#0d0887"
             ],
             [
              0.1111111111111111,
              "#46039f"
             ],
             [
              0.2222222222222222,
              "#7201a8"
             ],
             [
              0.3333333333333333,
              "#9c179e"
             ],
             [
              0.4444444444444444,
              "#bd3786"
             ],
             [
              0.5555555555555556,
              "#d8576b"
             ],
             [
              0.6666666666666666,
              "#ed7953"
             ],
             [
              0.7777777777777778,
              "#fb9f3a"
             ],
             [
              0.8888888888888888,
              "#fdca26"
             ],
             [
              1,
              "#f0f921"
             ]
            ],
            "type": "histogram2d"
           }
          ],
          "histogram2dcontour": [
           {
            "colorbar": {
             "outlinewidth": 0,
             "ticks": ""
            },
            "colorscale": [
             [
              0,
              "#0d0887"
             ],
             [
              0.1111111111111111,
              "#46039f"
             ],
             [
              0.2222222222222222,
              "#7201a8"
             ],
             [
              0.3333333333333333,
              "#9c179e"
             ],
             [
              0.4444444444444444,
              "#bd3786"
             ],
             [
              0.5555555555555556,
              "#d8576b"
             ],
             [
              0.6666666666666666,
              "#ed7953"
             ],
             [
              0.7777777777777778,
              "#fb9f3a"
             ],
             [
              0.8888888888888888,
              "#fdca26"
             ],
             [
              1,
              "#f0f921"
             ]
            ],
            "type": "histogram2dcontour"
           }
          ],
          "mesh3d": [
           {
            "colorbar": {
             "outlinewidth": 0,
             "ticks": ""
            },
            "type": "mesh3d"
           }
          ],
          "parcoords": [
           {
            "line": {
             "colorbar": {
              "outlinewidth": 0,
              "ticks": ""
             }
            },
            "type": "parcoords"
           }
          ],
          "pie": [
           {
            "automargin": true,
            "type": "pie"
           }
          ],
          "scatter": [
           {
            "fillpattern": {
             "fillmode": "overlay",
             "size": 10,
             "solidity": 0.2
            },
            "type": "scatter"
           }
          ],
          "scatter3d": [
           {
            "line": {
             "colorbar": {
              "outlinewidth": 0,
              "ticks": ""
             }
            },
            "marker": {
             "colorbar": {
              "outlinewidth": 0,
              "ticks": ""
             }
            },
            "type": "scatter3d"
           }
          ],
          "scattercarpet": [
           {
            "marker": {
             "colorbar": {
              "outlinewidth": 0,
              "ticks": ""
             }
            },
            "type": "scattercarpet"
           }
          ],
          "scattergeo": [
           {
            "marker": {
             "colorbar": {
              "outlinewidth": 0,
              "ticks": ""
             }
            },
            "type": "scattergeo"
           }
          ],
          "scattergl": [
           {
            "marker": {
             "colorbar": {
              "outlinewidth": 0,
              "ticks": ""
             }
            },
            "type": "scattergl"
           }
          ],
          "scattermapbox": [
           {
            "marker": {
             "colorbar": {
              "outlinewidth": 0,
              "ticks": ""
             }
            },
            "type": "scattermapbox"
           }
          ],
          "scatterpolar": [
           {
            "marker": {
             "colorbar": {
              "outlinewidth": 0,
              "ticks": ""
             }
            },
            "type": "scatterpolar"
           }
          ],
          "scatterpolargl": [
           {
            "marker": {
             "colorbar": {
              "outlinewidth": 0,
              "ticks": ""
             }
            },
            "type": "scatterpolargl"
           }
          ],
          "scatterternary": [
           {
            "marker": {
             "colorbar": {
              "outlinewidth": 0,
              "ticks": ""
             }
            },
            "type": "scatterternary"
           }
          ],
          "surface": [
           {
            "colorbar": {
             "outlinewidth": 0,
             "ticks": ""
            },
            "colorscale": [
             [
              0,
              "#0d0887"
             ],
             [
              0.1111111111111111,
              "#46039f"
             ],
             [
              0.2222222222222222,
              "#7201a8"
             ],
             [
              0.3333333333333333,
              "#9c179e"
             ],
             [
              0.4444444444444444,
              "#bd3786"
             ],
             [
              0.5555555555555556,
              "#d8576b"
             ],
             [
              0.6666666666666666,
              "#ed7953"
             ],
             [
              0.7777777777777778,
              "#fb9f3a"
             ],
             [
              0.8888888888888888,
              "#fdca26"
             ],
             [
              1,
              "#f0f921"
             ]
            ],
            "type": "surface"
           }
          ],
          "table": [
           {
            "cells": {
             "fill": {
              "color": "#EBF0F8"
             },
             "line": {
              "color": "white"
             }
            },
            "header": {
             "fill": {
              "color": "#C8D4E3"
             },
             "line": {
              "color": "white"
             }
            },
            "type": "table"
           }
          ]
         },
         "layout": {
          "annotationdefaults": {
           "arrowcolor": "#2a3f5f",
           "arrowhead": 0,
           "arrowwidth": 1
          },
          "autotypenumbers": "strict",
          "coloraxis": {
           "colorbar": {
            "outlinewidth": 0,
            "ticks": ""
           }
          },
          "colorscale": {
           "diverging": [
            [
             0,
             "#8e0152"
            ],
            [
             0.1,
             "#c51b7d"
            ],
            [
             0.2,
             "#de77ae"
            ],
            [
             0.3,
             "#f1b6da"
            ],
            [
             0.4,
             "#fde0ef"
            ],
            [
             0.5,
             "#f7f7f7"
            ],
            [
             0.6,
             "#e6f5d0"
            ],
            [
             0.7,
             "#b8e186"
            ],
            [
             0.8,
             "#7fbc41"
            ],
            [
             0.9,
             "#4d9221"
            ],
            [
             1,
             "#276419"
            ]
           ],
           "sequential": [
            [
             0,
             "#0d0887"
            ],
            [
             0.1111111111111111,
             "#46039f"
            ],
            [
             0.2222222222222222,
             "#7201a8"
            ],
            [
             0.3333333333333333,
             "#9c179e"
            ],
            [
             0.4444444444444444,
             "#bd3786"
            ],
            [
             0.5555555555555556,
             "#d8576b"
            ],
            [
             0.6666666666666666,
             "#ed7953"
            ],
            [
             0.7777777777777778,
             "#fb9f3a"
            ],
            [
             0.8888888888888888,
             "#fdca26"
            ],
            [
             1,
             "#f0f921"
            ]
           ],
           "sequentialminus": [
            [
             0,
             "#0d0887"
            ],
            [
             0.1111111111111111,
             "#46039f"
            ],
            [
             0.2222222222222222,
             "#7201a8"
            ],
            [
             0.3333333333333333,
             "#9c179e"
            ],
            [
             0.4444444444444444,
             "#bd3786"
            ],
            [
             0.5555555555555556,
             "#d8576b"
            ],
            [
             0.6666666666666666,
             "#ed7953"
            ],
            [
             0.7777777777777778,
             "#fb9f3a"
            ],
            [
             0.8888888888888888,
             "#fdca26"
            ],
            [
             1,
             "#f0f921"
            ]
           ]
          },
          "colorway": [
           "#636efa",
           "#EF553B",
           "#00cc96",
           "#ab63fa",
           "#FFA15A",
           "#19d3f3",
           "#FF6692",
           "#B6E880",
           "#FF97FF",
           "#FECB52"
          ],
          "font": {
           "color": "#2a3f5f"
          },
          "geo": {
           "bgcolor": "white",
           "lakecolor": "white",
           "landcolor": "white",
           "showlakes": true,
           "showland": true,
           "subunitcolor": "#C8D4E3"
          },
          "hoverlabel": {
           "align": "left"
          },
          "hovermode": "closest",
          "mapbox": {
           "style": "light"
          },
          "paper_bgcolor": "white",
          "plot_bgcolor": "white",
          "polar": {
           "angularaxis": {
            "gridcolor": "#EBF0F8",
            "linecolor": "#EBF0F8",
            "ticks": ""
           },
           "bgcolor": "white",
           "radialaxis": {
            "gridcolor": "#EBF0F8",
            "linecolor": "#EBF0F8",
            "ticks": ""
           }
          },
          "scene": {
           "xaxis": {
            "backgroundcolor": "white",
            "gridcolor": "#DFE8F3",
            "gridwidth": 2,
            "linecolor": "#EBF0F8",
            "showbackground": true,
            "ticks": "",
            "zerolinecolor": "#EBF0F8"
           },
           "yaxis": {
            "backgroundcolor": "white",
            "gridcolor": "#DFE8F3",
            "gridwidth": 2,
            "linecolor": "#EBF0F8",
            "showbackground": true,
            "ticks": "",
            "zerolinecolor": "#EBF0F8"
           },
           "zaxis": {
            "backgroundcolor": "white",
            "gridcolor": "#DFE8F3",
            "gridwidth": 2,
            "linecolor": "#EBF0F8",
            "showbackground": true,
            "ticks": "",
            "zerolinecolor": "#EBF0F8"
           }
          },
          "shapedefaults": {
           "line": {
            "color": "#2a3f5f"
           }
          },
          "ternary": {
           "aaxis": {
            "gridcolor": "#DFE8F3",
            "linecolor": "#A2B1C6",
            "ticks": ""
           },
           "baxis": {
            "gridcolor": "#DFE8F3",
            "linecolor": "#A2B1C6",
            "ticks": ""
           },
           "bgcolor": "white",
           "caxis": {
            "gridcolor": "#DFE8F3",
            "linecolor": "#A2B1C6",
            "ticks": ""
           }
          },
          "title": {
           "x": 0.05
          },
          "xaxis": {
           "automargin": true,
           "gridcolor": "#EBF0F8",
           "linecolor": "#EBF0F8",
           "ticks": "",
           "title": {
            "standoff": 15
           },
           "zerolinecolor": "#EBF0F8",
           "zerolinewidth": 2
          },
          "yaxis": {
           "automargin": true,
           "gridcolor": "#EBF0F8",
           "linecolor": "#EBF0F8",
           "ticks": "",
           "title": {
            "standoff": 15
           },
           "zerolinecolor": "#EBF0F8",
           "zerolinewidth": 2
          }
         }
        },
        "title": {
         "text": "Correlation between sample size and price reduction factor"
        },
        "width": 800,
        "xaxis": {
         "title": {
          "text": "Sample size of regression"
         }
        },
        "yaxis": {
         "title": {
          "text": "Price reduction factor per year (log10)"
         }
        }
       }
      }
     },
     "metadata": {},
     "output_type": "display_data"
    }
   ],
   "source": [
    "\n",
    "# Create a scatter plot of log10(price factors) vs date spans\n",
    "fig_corr = go.Figure()\n",
    "\n",
    "fig_corr.add_trace(go.Scatter(\n",
    "    x=sample_sizes,\n",
    "    y=np.log10(all_price_factors),\n",
    "    mode='markers',\n",
    "    textposition='top center',\n",
    "    marker=dict(size=10),\n",
    "))\n",
    "\n",
    "# Update layout\n",
    "fig_corr.update_layout(\n",
    "    title='Correlation between sample size and price reduction factor',\n",
    "    xaxis_title='Sample size of regression',\n",
    "    yaxis_title='Price reduction factor per year (log10)',\n",
    "    width=800,\n",
    "    height=500,\n",
    "    font=dict(size=14),\n",
    ")\n",
    "\n",
    "# Add a trend line\n",
    "z = np.polyfit(sample_sizes, np.log10(all_price_factors), 1)\n",
    "p = np.poly1d(z)\n",
    "x_trend = np.linspace(min(sample_sizes), max(sample_sizes), 100)\n",
    "y_trend = p(x_trend)\n",
    "\n",
    "fig_corr.add_trace(go.Scatter(\n",
    "    x=x_trend,\n",
    "    y=y_trend,\n",
    "    mode='lines',\n",
    "    line=dict(color='red', dash='dash'),\n",
    "    name=f'Trend line (r={np.corrcoef(sample_sizes, np.log10(all_price_factors))[0,1]:.2f})',\n",
    "))\n",
    "if save:\n",
    "    save_plot(fig_corr, results_subdir, 'price_factor_sample_size_correlation', ['png'])\n",
    "fig_corr.show()\n"
   ]
  },
  {
   "cell_type": "code",
   "execution_count": 30,
   "metadata": {},
   "outputs": [
    {
     "name": "stdout",
     "output_type": "stream",
     "text": [
      "Minimum date span of 0 days\n",
      "22 models remaining\n",
      "-0.7598778726462253\n",
      "[  9.   39.5 689. ]\n",
      "Minimum date span of 10 days\n",
      "22 models remaining\n",
      "-0.7598778726462253\n",
      "[  9.   39.5 689. ]\n",
      "Minimum date span of 20 days\n",
      "22 models remaining\n",
      "-0.7598778726462253\n",
      "[  9.   39.5 689. ]\n",
      "Minimum date span of 30 days\n",
      "22 models remaining\n",
      "-0.7598778726462253\n",
      "[  9.   39.5 689. ]\n",
      "Minimum date span of 40 days\n",
      "22 models remaining\n",
      "-0.7598778726462253\n",
      "[  9.   39.5 689. ]\n",
      "Minimum date span of 50 days\n",
      "22 models remaining\n",
      "-0.7598778726462253\n",
      "[  9.   39.5 689. ]\n",
      "Minimum date span of 60 days\n",
      "22 models remaining\n",
      "-0.7598778726462253\n",
      "[  9.   39.5 689. ]\n",
      "Minimum date span of 70 days\n",
      "22 models remaining\n",
      "-0.7598778726462253\n",
      "[  9.   39.5 689. ]\n",
      "Minimum date span of 80 days\n",
      "22 models remaining\n",
      "-0.7598778726462253\n",
      "[  9.   39.5 689. ]\n",
      "Minimum date span of 90 days\n",
      "22 models remaining\n",
      "-0.7598778726462253\n",
      "[  9.   39.5 689. ]\n",
      "Minimum date span of 100 days\n",
      "22 models remaining\n",
      "-0.7598778726462253\n",
      "[  9.   39.5 689. ]\n",
      "Minimum date span of 110 days\n",
      "22 models remaining\n",
      "-0.7598778726462253\n",
      "[  9.   39.5 689. ]\n",
      "Minimum date span of 120 days\n",
      "22 models remaining\n",
      "-0.7598778726462253\n",
      "[  9.   39.5 689. ]\n",
      "Minimum date span of 130 days\n",
      "22 models remaining\n",
      "-0.7598778726462253\n",
      "[  9.   39.5 689. ]\n",
      "Minimum date span of 140 days\n",
      "22 models remaining\n",
      "-0.7598778726462253\n",
      "[  9.   39.5 689. ]\n",
      "Minimum date span of 150 days\n",
      "22 models remaining\n",
      "-0.7598778726462253\n",
      "[  9.   39.5 689. ]\n",
      "Minimum date span of 160 days\n",
      "22 models remaining\n",
      "-0.7598778726462253\n",
      "[  9.   39.5 689. ]\n",
      "Minimum date span of 170 days\n",
      "22 models remaining\n",
      "-0.7598778726462253\n",
      "[  9.   39.5 689. ]\n",
      "Minimum date span of 180 days\n",
      "22 models remaining\n",
      "-0.7598778726462253\n",
      "[  9.   39.5 689. ]\n",
      "Minimum date span of 190 days\n",
      "22 models remaining\n",
      "-0.7598778726462253\n",
      "[  9.   39.5 689. ]\n",
      "Minimum date span of 200 days\n",
      "22 models remaining\n",
      "-0.7598778726462253\n",
      "[  9.   39.5 689. ]\n",
      "Minimum date span of 210 days\n",
      "22 models remaining\n",
      "-0.7598778726462253\n",
      "[  9.   39.5 689. ]\n",
      "Minimum date span of 220 days\n",
      "19 models remaining\n",
      "-0.6506104986853516\n",
      "[  9.  36. 366.]\n",
      "Minimum date span of 230 days\n",
      "19 models remaining\n",
      "-0.6506104986853516\n",
      "[  9.  36. 366.]\n",
      "Minimum date span of 240 days\n",
      "18 models remaining\n",
      "-0.5850272908234889\n",
      "[  9.   30.5 246. ]\n",
      "Minimum date span of 250 days\n",
      "18 models remaining\n",
      "-0.5850272908234889\n",
      "[  9.   30.5 246. ]\n",
      "Minimum date span of 260 days\n",
      "18 models remaining\n",
      "-0.5850272908234889\n",
      "[  9.   30.5 246. ]\n",
      "Minimum date span of 270 days\n",
      "17 models remaining\n",
      "-0.5212087604305923\n",
      "[  9.  25. 246.]\n",
      "Minimum date span of 280 days\n",
      "17 models remaining\n",
      "-0.5212087604305923\n",
      "[  9.  25. 246.]\n",
      "Minimum date span of 290 days\n",
      "17 models remaining\n",
      "-0.5212087604305923\n",
      "[  9.  25. 246.]\n",
      "Minimum date span of 300 days\n",
      "17 models remaining\n",
      "-0.5212087604305923\n",
      "[  9.  25. 246.]\n",
      "Minimum date span of 310 days\n",
      "17 models remaining\n",
      "-0.5212087604305923\n",
      "[  9.  25. 246.]\n",
      "Minimum date span of 320 days\n",
      "17 models remaining\n",
      "-0.5212087604305923\n",
      "[  9.  25. 246.]\n",
      "Minimum date span of 330 days\n",
      "16 models remaining\n",
      "-0.4370489479007537\n",
      "[  9.   21.5 172. ]\n",
      "Minimum date span of 340 days\n",
      "16 models remaining\n",
      "-0.4370489479007537\n",
      "[  9.   21.5 172. ]\n",
      "Minimum date span of 350 days\n",
      "16 models remaining\n",
      "-0.4370489479007537\n",
      "[  9.   21.5 172. ]\n",
      "Minimum date span of 360 days\n",
      "16 models remaining\n",
      "-0.4370489479007537\n",
      "[  9.   21.5 172. ]\n",
      "Minimum date span of 370 days\n",
      "16 models remaining\n",
      "-0.4370489479007537\n",
      "[  9.   21.5 172. ]\n",
      "Minimum date span of 380 days\n",
      "16 models remaining\n",
      "-0.4370489479007537\n",
      "[  9.   21.5 172. ]\n",
      "Minimum date span of 390 days\n",
      "16 models remaining\n",
      "-0.4370489479007537\n",
      "[  9.   21.5 172. ]\n",
      "Minimum date span of 400 days\n",
      "16 models remaining\n",
      "-0.4370489479007537\n",
      "[  9.   21.5 172. ]\n",
      "Minimum date span of 410 days\n",
      "12 models remaining\n",
      "-0.17755280578016142\n",
      "[ 9. 16. 75.]\n",
      "Minimum date span of 420 days\n",
      "12 models remaining\n",
      "-0.17755280578016142\n",
      "[ 9. 16. 75.]\n",
      "Minimum date span of 430 days\n",
      "12 models remaining\n",
      "-0.17755280578016142\n",
      "[ 9. 16. 75.]\n",
      "Minimum date span of 440 days\n",
      "12 models remaining\n",
      "-0.17755280578016142\n",
      "[ 9. 16. 75.]\n",
      "Minimum date span of 450 days\n",
      "11 models remaining\n",
      "-0.28755786217033935\n",
      "[ 9. 16. 75.]\n",
      "Minimum date span of 460 days\n",
      "10 models remaining\n",
      "-0.2187756220824014\n",
      "[ 9. 16. 75.]\n",
      "Minimum date span of 470 days\n",
      "10 models remaining\n",
      "-0.2187756220824014\n",
      "[ 9. 16. 75.]\n",
      "Minimum date span of 480 days\n",
      "9 models remaining\n",
      "-0.23813265483063836\n",
      "[ 9. 16. 75.]\n",
      "Minimum date span of 490 days\n",
      "9 models remaining\n",
      "-0.23813265483063836\n",
      "[ 9. 16. 75.]\n",
      "Minimum date span of 500 days\n",
      "8 models remaining\n",
      "-0.1399770558951018\n",
      "[ 9. 14. 75.]\n",
      "Minimum date span of 510 days\n",
      "8 models remaining\n",
      "-0.1399770558951018\n",
      "[ 9. 14. 75.]\n",
      "Minimum date span of 520 days\n",
      "8 models remaining\n",
      "-0.1399770558951018\n",
      "[ 9. 14. 75.]\n",
      "Minimum date span of 530 days\n",
      "8 models remaining\n",
      "-0.1399770558951018\n",
      "[ 9. 14. 75.]\n",
      "Minimum date span of 540 days\n",
      "8 models remaining\n",
      "-0.1399770558951018\n",
      "[ 9. 14. 75.]\n",
      "Minimum date span of 550 days\n",
      "7 models remaining\n",
      "-0.263887806246745\n",
      "[ 9. 16. 75.]\n",
      "Minimum date span of 560 days\n",
      "7 models remaining\n",
      "-0.263887806246745\n",
      "[ 9. 16. 75.]\n",
      "Minimum date span of 570 days\n",
      "6 models remaining\n",
      "-0.05892073601748352\n",
      "[ 9. 14. 42.]\n",
      "Minimum date span of 580 days\n",
      "4 models remaining\n",
      "-0.6419689601167226\n",
      "[12. 16. 42.]\n",
      "Minimum date span of 590 days\n",
      "4 models remaining\n",
      "-0.6419689601167226\n",
      "[12. 16. 42.]\n",
      "Minimum date span of 600 days\n",
      "4 models remaining\n",
      "-0.6419689601167226\n",
      "[12. 16. 42.]\n",
      "Minimum date span of 610 days\n",
      "4 models remaining\n",
      "-0.6419689601167226\n",
      "[12. 16. 42.]\n",
      "Minimum date span of 620 days\n",
      "4 models remaining\n",
      "-0.6419689601167226\n",
      "[12. 16. 42.]\n",
      "Minimum date span of 630 days\n",
      "4 models remaining\n",
      "-0.6419689601167226\n",
      "[12. 16. 42.]\n",
      "Minimum date span of 640 days\n",
      "4 models remaining\n",
      "-0.6419689601167226\n",
      "[12. 16. 42.]\n",
      "Minimum date span of 650 days\n",
      "3 models remaining\n",
      "-0.9987575902605096\n",
      "[12. 16. 16.]\n",
      "Minimum date span of 660 days\n",
      "3 models remaining\n",
      "-0.9987575902605096\n",
      "[12. 16. 16.]\n",
      "Minimum date span of 670 days\n",
      "3 models remaining\n",
      "-0.9987575902605096\n",
      "[12. 16. 16.]\n",
      "Minimum date span of 680 days\n",
      "2 models remaining\n",
      "-1.0\n",
      "[12. 14. 16.]\n",
      "Minimum date span of 690 days\n",
      "2 models remaining\n",
      "-1.0\n",
      "[12. 14. 16.]\n",
      "Minimum date span of 700 days\n",
      "1 models remaining\n",
      "nan\n",
      "[12. 12. 12.]\n",
      "Minimum date span of 710 days\n",
      "1 models remaining\n",
      "nan\n",
      "[12. 12. 12.]\n",
      "Minimum date span of 720 days\n",
      "1 models remaining\n",
      "nan\n",
      "[12. 12. 12.]\n"
     ]
    },
    {
     "name": "stderr",
     "output_type": "stream",
     "text": [
      "/Users/bencottier/miniconda3/envs/llm-efficiency/lib/python3.12/site-packages/numpy/lib/function_base.py:2889: RuntimeWarning:\n",
      "\n",
      "Degrees of freedom <= 0 for slice\n",
      "\n",
      "/Users/bencottier/miniconda3/envs/llm-efficiency/lib/python3.12/site-packages/numpy/lib/function_base.py:2748: RuntimeWarning:\n",
      "\n",
      "divide by zero encountered in divide\n",
      "\n",
      "/Users/bencottier/miniconda3/envs/llm-efficiency/lib/python3.12/site-packages/numpy/lib/function_base.py:2748: RuntimeWarning:\n",
      "\n",
      "invalid value encountered in multiply\n",
      "\n"
     ]
    }
   ],
   "source": [
    "for minimum_date_span in range(0, 365*2, 10):\n",
    "    print(f'Minimum date span of {minimum_date_span} days')\n",
    "    min_date_span_df = cheapest_model_results_df.copy()\n",
    "    start_dates = min_date_span_df['start_date']\n",
    "    end_dates = min_date_span_df['end_date']\n",
    "    date_spans = (end_dates - start_dates).dt.days\n",
    "\n",
    "    min_date_span_df = min_date_span_df[date_spans >= minimum_date_span]\n",
    "    start_dates = min_date_span_df['start_date']\n",
    "    end_dates = min_date_span_df['end_date']\n",
    "    filtered_date_spans = (end_dates - start_dates).dt.days\n",
    "\n",
    "    filtered_price_factors = min_date_span_df['price_reduction_factor_per_year']\n",
    "    print(len(filtered_date_spans), 'models remaining')\n",
    "    if len(filtered_date_spans) == 0:\n",
    "        continue\n",
    "    print(np.corrcoef(filtered_date_spans, np.log10(filtered_price_factors))[0,1])\n",
    "    print(np.percentile(filtered_price_factors, [0, 50, 100]))"
   ]
  },
  {
   "cell_type": "code",
   "execution_count": 31,
   "metadata": {},
   "outputs": [
    {
     "data": {
      "text/plain": [
       "array([  9. ,  21.5, 172. ])"
      ]
     },
     "execution_count": 31,
     "metadata": {},
     "output_type": "execute_result"
    }
   ],
   "source": [
    "minimum_date_span = 365  # days\n",
    "min_date_span_df = cheapest_model_results_df.copy()\n",
    "start_dates = min_date_span_df['start_date']\n",
    "end_dates = min_date_span_df['end_date']\n",
    "date_spans = (end_dates - start_dates).dt.days\n",
    "min_date_span_df = min_date_span_df[date_spans >= minimum_date_span]\n",
    "all_price_factors = min_date_span_df['price_reduction_factor_per_year']\n",
    "np.percentile(all_price_factors, [0, 50, 100])"
   ]
  },
  {
   "cell_type": "code",
   "execution_count": 32,
   "metadata": {},
   "outputs": [
    {
     "data": {
      "text/plain": [
       "array([1.20093696, 1.29000443, 1.53565634])"
      ]
     },
     "execution_count": 32,
     "metadata": {},
     "output_type": "execute_result"
    }
   ],
   "source": [
    "np.percentile(all_price_factors**(1/12), [0, 50, 100])"
   ]
  },
  {
   "cell_type": "code",
   "execution_count": 33,
   "metadata": {},
   "outputs": [
    {
     "name": "stdout",
     "output_type": "stream",
     "text": [
      "5 before date span filter\n",
      "5 after date span filter\n",
      "4 before date span filter\n",
      "2 after date span filter\n",
      "3 before date span filter\n",
      "2 after date span filter\n",
      "3 before date span filter\n",
      "2 after date span filter\n",
      "3 before date span filter\n",
      "3 after date span filter\n",
      "4 before date span filter\n",
      "2 after date span filter\n"
     ]
    },
    {
     "data": {
      "application/vnd.plotly.v1+json": {
       "config": {
        "plotlyServerURL": "https://plot.ly"
       },
       "data": [
        {
         "box": {
          "visible": true
         },
         "name": "Distribution",
         "showlegend": false,
         "type": "violin",
         "x0": "All benchmarks",
         "y": [
          1.0791812460476249,
          1.2041199826559248,
          0.9542425094393249,
          1.2041199826559248,
          1.5563025007672873,
          1.6232492903979006,
          1.662757831681574,
          1.255272505103306,
          2.2355284469075487,
          1.3979400086720377,
          2.2041199826559246,
          1.568201724066995,
          0.9542425094393249,
          1,
          1,
          1.8750612633917
         ]
        },
        {
         "hovertemplate": "Cheapest models that are %{text} level or better",
         "marker": {
          "size": 10
         },
         "mode": "markers",
         "name": "MMLU",
         "showlegend": false,
         "text": [
          "GPT-3",
          "GPT-3.5",
          "GPT-3.5 Turbo",
          "GPT-4-0314",
          "GPT-4 Turbo"
         ],
         "textposition": "middle right",
         "type": "scatter",
         "x": [
          "General knowledge",
          "General knowledge",
          "General knowledge",
          "General knowledge",
          "General knowledge"
         ],
         "y": [
          1.0791812460476249,
          1.2041199826559248,
          0.9542425094393249,
          1.2041199826559248,
          1.5563025007672873
         ]
        },
        {
         "hovertemplate": "Cheapest models that are %{text} level or better",
         "marker": {
          "size": 10
         },
         "mode": "markers",
         "name": "GPQA Diamond",
         "showlegend": false,
         "text": [
          "GPT-4-0314",
          "GPT-4 Turbo"
         ],
         "textposition": "middle right",
         "type": "scatter",
         "x": [
          "Scientific reasoning",
          "Scientific reasoning"
         ],
         "y": [
          1.6232492903979006,
          1.662757831681574
         ]
        },
        {
         "hovertemplate": "Cheapest models that are %{text} level or better",
         "marker": {
          "size": 10
         },
         "mode": "markers",
         "name": "MATH-500",
         "showlegend": false,
         "text": [
          "GPT-3.5-Turbo-2023-06",
          "GPT-4 Turbo"
         ],
         "textposition": "middle right",
         "type": "scatter",
         "x": [
          "Math (easier)",
          "Math (easier)"
         ],
         "y": [
          1.255272505103306,
          2.2355284469075487
         ]
        },
        {
         "hovertemplate": "Cheapest models that are %{text} level or better",
         "marker": {
          "size": 10
         },
         "mode": "markers",
         "name": "MATH 5",
         "showlegend": false,
         "text": [
          "GPT-3.5-Turbo-2023-06",
          "GPT-4 Turbo"
         ],
         "textposition": "middle right",
         "type": "scatter",
         "x": [
          "Math (harder)",
          "Math (harder)"
         ],
         "y": [
          1.3979400086720377,
          2.2041199826559246
         ]
        },
        {
         "hovertemplate": "Cheapest models that are %{text} level or better",
         "marker": {
          "size": 10
         },
         "mode": "markers",
         "name": "HumanEval",
         "showlegend": false,
         "text": [
          "GPT-4-0314",
          "GPT-3.5-Turbo-2023-06",
          "GPT-4 Turbo"
         ],
         "textposition": "middle right",
         "type": "scatter",
         "x": [
          "Coding",
          "Coding",
          "Coding"
         ],
         "y": [
          1.568201724066995,
          0.9542425094393249,
          1
         ]
        },
        {
         "hovertemplate": "Cheapest models that are %{text} level or better",
         "marker": {
          "size": 10
         },
         "mode": "markers",
         "name": "LMSys Chatbot Arena ELO",
         "showlegend": false,
         "text": [
          "GPT-3.5 Turbo",
          "GPT-4-0314"
         ],
         "textposition": "middle right",
         "type": "scatter",
         "x": [
          "Chatbot Arena",
          "Chatbot Arena"
         ],
         "y": [
          1,
          1.8750612633917
         ]
        }
       ],
       "layout": {
        "font": {
         "size": 14
        },
        "height": 600,
        "margin": {
         "l": 130
        },
        "template": {
         "data": {
          "bar": [
           {
            "error_x": {
             "color": "#2a3f5f"
            },
            "error_y": {
             "color": "#2a3f5f"
            },
            "marker": {
             "line": {
              "color": "white",
              "width": 0.5
             },
             "pattern": {
              "fillmode": "overlay",
              "size": 10,
              "solidity": 0.2
             }
            },
            "type": "bar"
           }
          ],
          "barpolar": [
           {
            "marker": {
             "line": {
              "color": "white",
              "width": 0.5
             },
             "pattern": {
              "fillmode": "overlay",
              "size": 10,
              "solidity": 0.2
             }
            },
            "type": "barpolar"
           }
          ],
          "carpet": [
           {
            "aaxis": {
             "endlinecolor": "#2a3f5f",
             "gridcolor": "#C8D4E3",
             "linecolor": "#C8D4E3",
             "minorgridcolor": "#C8D4E3",
             "startlinecolor": "#2a3f5f"
            },
            "baxis": {
             "endlinecolor": "#2a3f5f",
             "gridcolor": "#C8D4E3",
             "linecolor": "#C8D4E3",
             "minorgridcolor": "#C8D4E3",
             "startlinecolor": "#2a3f5f"
            },
            "type": "carpet"
           }
          ],
          "choropleth": [
           {
            "colorbar": {
             "outlinewidth": 0,
             "ticks": ""
            },
            "type": "choropleth"
           }
          ],
          "contour": [
           {
            "colorbar": {
             "outlinewidth": 0,
             "ticks": ""
            },
            "colorscale": [
             [
              0,
              "#0d0887"
             ],
             [
              0.1111111111111111,
              "#46039f"
             ],
             [
              0.2222222222222222,
              "#7201a8"
             ],
             [
              0.3333333333333333,
              "#9c179e"
             ],
             [
              0.4444444444444444,
              "#bd3786"
             ],
             [
              0.5555555555555556,
              "#d8576b"
             ],
             [
              0.6666666666666666,
              "#ed7953"
             ],
             [
              0.7777777777777778,
              "#fb9f3a"
             ],
             [
              0.8888888888888888,
              "#fdca26"
             ],
             [
              1,
              "#f0f921"
             ]
            ],
            "type": "contour"
           }
          ],
          "contourcarpet": [
           {
            "colorbar": {
             "outlinewidth": 0,
             "ticks": ""
            },
            "type": "contourcarpet"
           }
          ],
          "heatmap": [
           {
            "colorbar": {
             "outlinewidth": 0,
             "ticks": ""
            },
            "colorscale": [
             [
              0,
              "#0d0887"
             ],
             [
              0.1111111111111111,
              "#46039f"
             ],
             [
              0.2222222222222222,
              "#7201a8"
             ],
             [
              0.3333333333333333,
              "#9c179e"
             ],
             [
              0.4444444444444444,
              "#bd3786"
             ],
             [
              0.5555555555555556,
              "#d8576b"
             ],
             [
              0.6666666666666666,
              "#ed7953"
             ],
             [
              0.7777777777777778,
              "#fb9f3a"
             ],
             [
              0.8888888888888888,
              "#fdca26"
             ],
             [
              1,
              "#f0f921"
             ]
            ],
            "type": "heatmap"
           }
          ],
          "heatmapgl": [
           {
            "colorbar": {
             "outlinewidth": 0,
             "ticks": ""
            },
            "colorscale": [
             [
              0,
              "#0d0887"
             ],
             [
              0.1111111111111111,
              "#46039f"
             ],
             [
              0.2222222222222222,
              "#7201a8"
             ],
             [
              0.3333333333333333,
              "#9c179e"
             ],
             [
              0.4444444444444444,
              "#bd3786"
             ],
             [
              0.5555555555555556,
              "#d8576b"
             ],
             [
              0.6666666666666666,
              "#ed7953"
             ],
             [
              0.7777777777777778,
              "#fb9f3a"
             ],
             [
              0.8888888888888888,
              "#fdca26"
             ],
             [
              1,
              "#f0f921"
             ]
            ],
            "type": "heatmapgl"
           }
          ],
          "histogram": [
           {
            "marker": {
             "pattern": {
              "fillmode": "overlay",
              "size": 10,
              "solidity": 0.2
             }
            },
            "type": "histogram"
           }
          ],
          "histogram2d": [
           {
            "colorbar": {
             "outlinewidth": 0,
             "ticks": ""
            },
            "colorscale": [
             [
              0,
              "#0d0887"
             ],
             [
              0.1111111111111111,
              "#46039f"
             ],
             [
              0.2222222222222222,
              "#7201a8"
             ],
             [
              0.3333333333333333,
              "#9c179e"
             ],
             [
              0.4444444444444444,
              "#bd3786"
             ],
             [
              0.5555555555555556,
              "#d8576b"
             ],
             [
              0.6666666666666666,
              "#ed7953"
             ],
             [
              0.7777777777777778,
              "#fb9f3a"
             ],
             [
              0.8888888888888888,
              "#fdca26"
             ],
             [
              1,
              "#f0f921"
             ]
            ],
            "type": "histogram2d"
           }
          ],
          "histogram2dcontour": [
           {
            "colorbar": {
             "outlinewidth": 0,
             "ticks": ""
            },
            "colorscale": [
             [
              0,
              "#0d0887"
             ],
             [
              0.1111111111111111,
              "#46039f"
             ],
             [
              0.2222222222222222,
              "#7201a8"
             ],
             [
              0.3333333333333333,
              "#9c179e"
             ],
             [
              0.4444444444444444,
              "#bd3786"
             ],
             [
              0.5555555555555556,
              "#d8576b"
             ],
             [
              0.6666666666666666,
              "#ed7953"
             ],
             [
              0.7777777777777778,
              "#fb9f3a"
             ],
             [
              0.8888888888888888,
              "#fdca26"
             ],
             [
              1,
              "#f0f921"
             ]
            ],
            "type": "histogram2dcontour"
           }
          ],
          "mesh3d": [
           {
            "colorbar": {
             "outlinewidth": 0,
             "ticks": ""
            },
            "type": "mesh3d"
           }
          ],
          "parcoords": [
           {
            "line": {
             "colorbar": {
              "outlinewidth": 0,
              "ticks": ""
             }
            },
            "type": "parcoords"
           }
          ],
          "pie": [
           {
            "automargin": true,
            "type": "pie"
           }
          ],
          "scatter": [
           {
            "fillpattern": {
             "fillmode": "overlay",
             "size": 10,
             "solidity": 0.2
            },
            "type": "scatter"
           }
          ],
          "scatter3d": [
           {
            "line": {
             "colorbar": {
              "outlinewidth": 0,
              "ticks": ""
             }
            },
            "marker": {
             "colorbar": {
              "outlinewidth": 0,
              "ticks": ""
             }
            },
            "type": "scatter3d"
           }
          ],
          "scattercarpet": [
           {
            "marker": {
             "colorbar": {
              "outlinewidth": 0,
              "ticks": ""
             }
            },
            "type": "scattercarpet"
           }
          ],
          "scattergeo": [
           {
            "marker": {
             "colorbar": {
              "outlinewidth": 0,
              "ticks": ""
             }
            },
            "type": "scattergeo"
           }
          ],
          "scattergl": [
           {
            "marker": {
             "colorbar": {
              "outlinewidth": 0,
              "ticks": ""
             }
            },
            "type": "scattergl"
           }
          ],
          "scattermapbox": [
           {
            "marker": {
             "colorbar": {
              "outlinewidth": 0,
              "ticks": ""
             }
            },
            "type": "scattermapbox"
           }
          ],
          "scatterpolar": [
           {
            "marker": {
             "colorbar": {
              "outlinewidth": 0,
              "ticks": ""
             }
            },
            "type": "scatterpolar"
           }
          ],
          "scatterpolargl": [
           {
            "marker": {
             "colorbar": {
              "outlinewidth": 0,
              "ticks": ""
             }
            },
            "type": "scatterpolargl"
           }
          ],
          "scatterternary": [
           {
            "marker": {
             "colorbar": {
              "outlinewidth": 0,
              "ticks": ""
             }
            },
            "type": "scatterternary"
           }
          ],
          "surface": [
           {
            "colorbar": {
             "outlinewidth": 0,
             "ticks": ""
            },
            "colorscale": [
             [
              0,
              "#0d0887"
             ],
             [
              0.1111111111111111,
              "#46039f"
             ],
             [
              0.2222222222222222,
              "#7201a8"
             ],
             [
              0.3333333333333333,
              "#9c179e"
             ],
             [
              0.4444444444444444,
              "#bd3786"
             ],
             [
              0.5555555555555556,
              "#d8576b"
             ],
             [
              0.6666666666666666,
              "#ed7953"
             ],
             [
              0.7777777777777778,
              "#fb9f3a"
             ],
             [
              0.8888888888888888,
              "#fdca26"
             ],
             [
              1,
              "#f0f921"
             ]
            ],
            "type": "surface"
           }
          ],
          "table": [
           {
            "cells": {
             "fill": {
              "color": "#EBF0F8"
             },
             "line": {
              "color": "white"
             }
            },
            "header": {
             "fill": {
              "color": "#C8D4E3"
             },
             "line": {
              "color": "white"
             }
            },
            "type": "table"
           }
          ]
         },
         "layout": {
          "annotationdefaults": {
           "arrowcolor": "#2a3f5f",
           "arrowhead": 0,
           "arrowwidth": 1
          },
          "autotypenumbers": "strict",
          "coloraxis": {
           "colorbar": {
            "outlinewidth": 0,
            "ticks": ""
           }
          },
          "colorscale": {
           "diverging": [
            [
             0,
             "#8e0152"
            ],
            [
             0.1,
             "#c51b7d"
            ],
            [
             0.2,
             "#de77ae"
            ],
            [
             0.3,
             "#f1b6da"
            ],
            [
             0.4,
             "#fde0ef"
            ],
            [
             0.5,
             "#f7f7f7"
            ],
            [
             0.6,
             "#e6f5d0"
            ],
            [
             0.7,
             "#b8e186"
            ],
            [
             0.8,
             "#7fbc41"
            ],
            [
             0.9,
             "#4d9221"
            ],
            [
             1,
             "#276419"
            ]
           ],
           "sequential": [
            [
             0,
             "#0d0887"
            ],
            [
             0.1111111111111111,
             "#46039f"
            ],
            [
             0.2222222222222222,
             "#7201a8"
            ],
            [
             0.3333333333333333,
             "#9c179e"
            ],
            [
             0.4444444444444444,
             "#bd3786"
            ],
            [
             0.5555555555555556,
             "#d8576b"
            ],
            [
             0.6666666666666666,
             "#ed7953"
            ],
            [
             0.7777777777777778,
             "#fb9f3a"
            ],
            [
             0.8888888888888888,
             "#fdca26"
            ],
            [
             1,
             "#f0f921"
            ]
           ],
           "sequentialminus": [
            [
             0,
             "#0d0887"
            ],
            [
             0.1111111111111111,
             "#46039f"
            ],
            [
             0.2222222222222222,
             "#7201a8"
            ],
            [
             0.3333333333333333,
             "#9c179e"
            ],
            [
             0.4444444444444444,
             "#bd3786"
            ],
            [
             0.5555555555555556,
             "#d8576b"
            ],
            [
             0.6666666666666666,
             "#ed7953"
            ],
            [
             0.7777777777777778,
             "#fb9f3a"
            ],
            [
             0.8888888888888888,
             "#fdca26"
            ],
            [
             1,
             "#f0f921"
            ]
           ]
          },
          "colorway": [
           "#636efa",
           "#EF553B",
           "#00cc96",
           "#ab63fa",
           "#FFA15A",
           "#19d3f3",
           "#FF6692",
           "#B6E880",
           "#FF97FF",
           "#FECB52"
          ],
          "font": {
           "color": "#2a3f5f"
          },
          "geo": {
           "bgcolor": "white",
           "lakecolor": "white",
           "landcolor": "white",
           "showlakes": true,
           "showland": true,
           "subunitcolor": "#C8D4E3"
          },
          "hoverlabel": {
           "align": "left"
          },
          "hovermode": "closest",
          "mapbox": {
           "style": "light"
          },
          "paper_bgcolor": "white",
          "plot_bgcolor": "white",
          "polar": {
           "angularaxis": {
            "gridcolor": "#EBF0F8",
            "linecolor": "#EBF0F8",
            "ticks": ""
           },
           "bgcolor": "white",
           "radialaxis": {
            "gridcolor": "#EBF0F8",
            "linecolor": "#EBF0F8",
            "ticks": ""
           }
          },
          "scene": {
           "xaxis": {
            "backgroundcolor": "white",
            "gridcolor": "#DFE8F3",
            "gridwidth": 2,
            "linecolor": "#EBF0F8",
            "showbackground": true,
            "ticks": "",
            "zerolinecolor": "#EBF0F8"
           },
           "yaxis": {
            "backgroundcolor": "white",
            "gridcolor": "#DFE8F3",
            "gridwidth": 2,
            "linecolor": "#EBF0F8",
            "showbackground": true,
            "ticks": "",
            "zerolinecolor": "#EBF0F8"
           },
           "zaxis": {
            "backgroundcolor": "white",
            "gridcolor": "#DFE8F3",
            "gridwidth": 2,
            "linecolor": "#EBF0F8",
            "showbackground": true,
            "ticks": "",
            "zerolinecolor": "#EBF0F8"
           }
          },
          "shapedefaults": {
           "line": {
            "color": "#2a3f5f"
           }
          },
          "ternary": {
           "aaxis": {
            "gridcolor": "#DFE8F3",
            "linecolor": "#A2B1C6",
            "ticks": ""
           },
           "baxis": {
            "gridcolor": "#DFE8F3",
            "linecolor": "#A2B1C6",
            "ticks": ""
           },
           "bgcolor": "white",
           "caxis": {
            "gridcolor": "#DFE8F3",
            "linecolor": "#A2B1C6",
            "ticks": ""
           }
          },
          "title": {
           "x": 0.05
          },
          "xaxis": {
           "automargin": true,
           "gridcolor": "#EBF0F8",
           "linecolor": "#EBF0F8",
           "ticks": "",
           "title": {
            "standoff": 15
           },
           "zerolinecolor": "#EBF0F8",
           "zerolinewidth": 2
          },
          "yaxis": {
           "automargin": true,
           "gridcolor": "#EBF0F8",
           "linecolor": "#EBF0F8",
           "ticks": "",
           "title": {
            "standoff": 15
           },
           "zerolinecolor": "#EBF0F8",
           "zerolinewidth": 2
          }
         }
        },
        "title": {
         "text": "The lowest-priced LLMs above a capability threshold have become much cheaper to use"
        },
        "width": 1000,
        "xaxis": {
         "range": [
          -0.5,
          7
         ]
        },
        "yaxis": {
         "tickmode": "array",
         "ticktext": [
          "1x",
          "10x",
          "100x",
          "1,000x",
          "10,000x",
          "100,000x"
         ],
         "tickvals": [
          0,
          1,
          2,
          3,
          4,
          5
         ],
         "title": {
          "text": "Annualized rate of decrease in price per token"
         },
         "zeroline": false
        }
       }
      }
     },
     "metadata": {},
     "output_type": "display_data"
    }
   ],
   "source": [
    "# Create figure\n",
    "fig = go.Figure()\n",
    "\n",
    "bench_aliases = {\n",
    "    'MMLU': 'General knowledge',\n",
    "    'GPQA Diamond': 'Scientific reasoning', \n",
    "    'HumanEval': 'Coding',\n",
    "    'MATH 5': 'Math (harder)',\n",
    "    'MATH-500': 'Math (easier)',\n",
    "    'LMSys Chatbot Arena ELO': 'Chatbot Arena',\n",
    "}\n",
    "\n",
    "# Add violin plot\n",
    "fig.add_trace(go.Violin(\n",
    "    y=np.log10(all_price_factors),\n",
    "    x0='All benchmarks',\n",
    "    box_visible=True,\n",
    "    name='Distribution',\n",
    "    showlegend=False,\n",
    "))\n",
    "\n",
    "# Add points for each benchmark as scatter traces\n",
    "for bench in benchmarks:\n",
    "    # if bench == 'MATH-500':\n",
    "    #     continue\n",
    "\n",
    "    bench_results = cheapest_model_results_df[cheapest_model_results_df['bench'] == bench]\n",
    "    print(f'{len(bench_results)} before date span filter')\n",
    "\n",
    "    start_dates = bench_results['start_date']\n",
    "    end_dates = bench_results['end_date']\n",
    "    date_spans = (end_dates - start_dates).dt.days\n",
    "    bench_results = bench_results[date_spans >= minimum_date_span]\n",
    "    print(f'{len(bench_results)} after date span filter')\n",
    "\n",
    "    price_factors = bench_results['price_reduction_factor_per_year'].dropna()\n",
    "    bench_factors = np.log10(price_factors)\n",
    "    bench_ranges = bench_results['threshold_model']\n",
    "    \n",
    "    fig.add_trace(go.Scatter(\n",
    "        y=bench_factors,\n",
    "        x=[bench_aliases[bench]] * len(bench_factors),\n",
    "        mode='markers',\n",
    "        name=bench,\n",
    "        text=bench_ranges,\n",
    "        textposition='middle right',\n",
    "        marker=dict(size=10),\n",
    "        hovertemplate='Cheapest models that are %{text} level or better',\n",
    "        showlegend=False,\n",
    "    ))\n",
    "\n",
    "# Update layout\n",
    "fig.update_layout(yaxis_zeroline=False)\n",
    "fig.update_layout(yaxis_title='Annualized rate of decrease in price per token')\n",
    "# Change y-axis labels to be powers of 10\n",
    "tvs = list(range(0, 6))\n",
    "fig.update_layout(yaxis=dict(tickmode='array', tickvals=tvs, ticktext=[f'{10**tickval:,.0f}x' for tickval in tvs]))\n",
    "fig.update_layout(\n",
    "    title='The lowest-priced LLMs above a capability threshold have become much cheaper to use',\n",
    "    width=1000,\n",
    "    height=600,\n",
    "    font=dict(size=14),\n",
    "    # add some left margin\n",
    "    margin=dict(l=130),\n",
    "    # Increase spacing between x values by expanding the range\n",
    "    xaxis=dict(range=[-0.5, len(benchmarks) + 1.0])\n",
    ")\n",
    "if save:\n",
    "    save_plot(fig, results_subdir, f'lowest_price_models_all_violin_date_span={minimum_date_span}d', extensions=['png'])\n",
    "fig.show()"
   ]
  },
  {
   "cell_type": "code",
   "execution_count": 34,
   "metadata": {},
   "outputs": [
    {
     "data": {
      "application/vnd.plotly.v1+json": {
       "config": {
        "plotlyServerURL": "https://plot.ly"
       },
       "data": [
        {
         "marker": {
          "color": "#636EFA",
          "pattern": {
           "shape": ""
          }
         },
         "name": "GPT-3",
         "offset": -0.375,
         "type": "bar",
         "width": 0.15,
         "x": [
          "General knowledge"
         ],
         "y": [
          1.0791812460476249
         ]
        },
        {
         "marker": {
          "color": "#636EFA",
          "pattern": {
           "shape": "-"
          }
         },
         "name": "GPT-3.5",
         "offset": -0.225,
         "type": "bar",
         "width": 0.15,
         "x": [
          "General knowledge"
         ],
         "y": [
          1.2041199826559248
         ]
        },
        {
         "marker": {
          "color": "#636EFA",
          "pattern": {
           "shape": "/"
          }
         },
         "name": "GPT-3.5 Turbo",
         "offset": -0.07500000000000001,
         "type": "bar",
         "width": 0.15,
         "x": [
          "General knowledge"
         ],
         "y": [
          0.9542425094393249
         ]
        },
        {
         "marker": {
          "color": "#636EFA",
          "pattern": {
           "shape": "\\"
          }
         },
         "name": "GPT-4-0314",
         "offset": 0.07499999999999996,
         "type": "bar",
         "width": 0.15,
         "x": [
          "General knowledge"
         ],
         "y": [
          1.2041199826559248
         ]
        },
        {
         "marker": {
          "color": "#636EFA",
          "pattern": {
           "shape": ""
          }
         },
         "name": "GPT-4 Turbo",
         "offset": 0.22499999999999998,
         "type": "bar",
         "width": 0.15,
         "x": [
          "General knowledge"
         ],
         "y": [
          1.5563025007672873
         ]
        },
        {
         "marker": {
          "color": "#EF553B",
          "pattern": {
           "shape": ""
          }
         },
         "name": "GPT-4-0314",
         "offset": -0.3,
         "type": "bar",
         "width": 0.15,
         "x": [
          "Scientific reasoning"
         ],
         "y": [
          1.6232492903979006
         ]
        },
        {
         "marker": {
          "color": "#EF553B",
          "pattern": {
           "shape": "-"
          }
         },
         "name": "GPT-4 Turbo",
         "offset": -0.15,
         "type": "bar",
         "width": 0.15,
         "x": [
          "Scientific reasoning"
         ],
         "y": [
          1.662757831681574
         ]
        },
        {
         "marker": {
          "color": "#EF553B",
          "pattern": {
           "shape": "/"
          }
         },
         "name": "GPT-4o-2024-05",
         "offset": 0,
         "type": "bar",
         "width": 0.15,
         "x": [
          "Scientific reasoning"
         ],
         "y": [
          2.7589118923979736
         ]
        },
        {
         "marker": {
          "color": "#EF553B",
          "pattern": {
           "shape": "\\"
          }
         },
         "name": "Claude-3.5-Sonnet-2024-06",
         "offset": 0.14999999999999997,
         "type": "bar",
         "width": 0.15,
         "x": [
          "Scientific reasoning"
         ],
         "y": [
          2.5634810853944106
         ]
        },
        {
         "marker": {
          "color": "#00CC96",
          "pattern": {
           "shape": ""
          }
         },
         "name": "GPT-3.5-Turbo-2023-06",
         "offset": -0.22499999999999998,
         "type": "bar",
         "width": 0.15,
         "x": [
          "Math (easier)"
         ],
         "y": [
          1.255272505103306
         ]
        },
        {
         "marker": {
          "color": "#00CC96",
          "pattern": {
           "shape": "-"
          }
         },
         "name": "GPT-4 Turbo",
         "offset": -0.07499999999999998,
         "type": "bar",
         "width": 0.15,
         "x": [
          "Math (easier)"
         ],
         "y": [
          2.2355284469075487
         ]
        },
        {
         "marker": {
          "color": "#00CC96",
          "pattern": {
           "shape": "/"
          }
         },
         "name": "GPT-4o-2024-05",
         "offset": 0.07500000000000001,
         "type": "bar",
         "width": 0.15,
         "x": [
          "Math (easier)"
         ],
         "y": [
          2.8382192219076257
         ]
        },
        {
         "marker": {
          "color": "#AB63FA",
          "pattern": {
           "shape": ""
          }
         },
         "name": "GPT-3.5-Turbo-2023-06",
         "offset": -0.22499999999999998,
         "type": "bar",
         "width": 0.15,
         "x": [
          "Math (harder)"
         ],
         "y": [
          1.3979400086720377
         ]
        },
        {
         "marker": {
          "color": "#AB63FA",
          "pattern": {
           "shape": "-"
          }
         },
         "name": "GPT-4 Turbo",
         "offset": -0.07499999999999998,
         "type": "bar",
         "width": 0.15,
         "x": [
          "Math (harder)"
         ],
         "y": [
          2.2041199826559246
         ]
        },
        {
         "marker": {
          "color": "#AB63FA",
          "pattern": {
           "shape": "/"
          }
         },
         "name": "GPT-4o-2024-05",
         "offset": 0.07500000000000001,
         "type": "bar",
         "width": 0.15,
         "x": [
          "Math (harder)"
         ],
         "y": [
          2.8382192219076257
         ]
        },
        {
         "marker": {
          "color": "#FFA15A",
          "pattern": {
           "shape": ""
          }
         },
         "name": "GPT-4-0314",
         "offset": -0.22499999999999998,
         "type": "bar",
         "width": 0.15,
         "x": [
          "Coding"
         ],
         "y": [
          1.568201724066995
         ]
        },
        {
         "marker": {
          "color": "#FFA15A",
          "pattern": {
           "shape": "-"
          }
         },
         "name": "GPT-3.5-Turbo-2023-06",
         "offset": -0.07499999999999998,
         "type": "bar",
         "width": 0.15,
         "x": [
          "Coding"
         ],
         "y": [
          0.9542425094393249
         ]
        },
        {
         "marker": {
          "color": "#FFA15A",
          "pattern": {
           "shape": "/"
          }
         },
         "name": "GPT-4 Turbo",
         "offset": 0.07500000000000001,
         "type": "bar",
         "width": 0.15,
         "x": [
          "Coding"
         ],
         "y": [
          1
         ]
        },
        {
         "marker": {
          "color": "#19D3F3",
          "pattern": {
           "shape": ""
          }
         },
         "name": "GPT-3.5 Turbo",
         "offset": -0.3,
         "type": "bar",
         "width": 0.15,
         "x": [
          "Chatbot Arena"
         ],
         "y": [
          1
         ]
        },
        {
         "marker": {
          "color": "#19D3F3",
          "pattern": {
           "shape": "-"
          }
         },
         "name": "GPT-4-0314",
         "offset": -0.15,
         "type": "bar",
         "width": 0.15,
         "x": [
          "Chatbot Arena"
         ],
         "y": [
          1.8750612633917
         ]
        },
        {
         "marker": {
          "color": "#19D3F3",
          "pattern": {
           "shape": "/"
          }
         },
         "name": "GPT-4 Turbo",
         "offset": 0,
         "type": "bar",
         "width": 0.15,
         "x": [
          "Chatbot Arena"
         ],
         "y": [
          2.3909351071033793
         ]
        },
        {
         "marker": {
          "color": "#19D3F3",
          "pattern": {
           "shape": "\\"
          }
         },
         "name": "GPT-4o-2024-05",
         "offset": 0.14999999999999997,
         "type": "bar",
         "width": 0.15,
         "x": [
          "Chatbot Arena"
         ],
         "y": [
          2.247973266361807
         ]
        }
       ],
       "layout": {
        "annotations": [
         {
          "font": {
           "size": 16
          },
          "showarrow": false,
          "text": "Reduction in usage price per year",
          "x": -0.08,
          "xref": "paper",
          "y": 1.08,
          "yref": "paper"
         }
        ],
        "font": {
         "size": 14
        },
        "height": 800,
        "legend": {
         "title": {
          "text": "Capability threshold"
         }
        },
        "margin": {
         "l": 130,
         "t": 150
        },
        "template": {
         "data": {
          "bar": [
           {
            "error_x": {
             "color": "#2a3f5f"
            },
            "error_y": {
             "color": "#2a3f5f"
            },
            "marker": {
             "line": {
              "color": "white",
              "width": 0.5
             },
             "pattern": {
              "fillmode": "overlay",
              "size": 10,
              "solidity": 0.2
             }
            },
            "type": "bar"
           }
          ],
          "barpolar": [
           {
            "marker": {
             "line": {
              "color": "white",
              "width": 0.5
             },
             "pattern": {
              "fillmode": "overlay",
              "size": 10,
              "solidity": 0.2
             }
            },
            "type": "barpolar"
           }
          ],
          "carpet": [
           {
            "aaxis": {
             "endlinecolor": "#2a3f5f",
             "gridcolor": "#C8D4E3",
             "linecolor": "#C8D4E3",
             "minorgridcolor": "#C8D4E3",
             "startlinecolor": "#2a3f5f"
            },
            "baxis": {
             "endlinecolor": "#2a3f5f",
             "gridcolor": "#C8D4E3",
             "linecolor": "#C8D4E3",
             "minorgridcolor": "#C8D4E3",
             "startlinecolor": "#2a3f5f"
            },
            "type": "carpet"
           }
          ],
          "choropleth": [
           {
            "colorbar": {
             "outlinewidth": 0,
             "ticks": ""
            },
            "type": "choropleth"
           }
          ],
          "contour": [
           {
            "colorbar": {
             "outlinewidth": 0,
             "ticks": ""
            },
            "colorscale": [
             [
              0,
              "#0d0887"
             ],
             [
              0.1111111111111111,
              "#46039f"
             ],
             [
              0.2222222222222222,
              "#7201a8"
             ],
             [
              0.3333333333333333,
              "#9c179e"
             ],
             [
              0.4444444444444444,
              "#bd3786"
             ],
             [
              0.5555555555555556,
              "#d8576b"
             ],
             [
              0.6666666666666666,
              "#ed7953"
             ],
             [
              0.7777777777777778,
              "#fb9f3a"
             ],
             [
              0.8888888888888888,
              "#fdca26"
             ],
             [
              1,
              "#f0f921"
             ]
            ],
            "type": "contour"
           }
          ],
          "contourcarpet": [
           {
            "colorbar": {
             "outlinewidth": 0,
             "ticks": ""
            },
            "type": "contourcarpet"
           }
          ],
          "heatmap": [
           {
            "colorbar": {
             "outlinewidth": 0,
             "ticks": ""
            },
            "colorscale": [
             [
              0,
              "#0d0887"
             ],
             [
              0.1111111111111111,
              "#46039f"
             ],
             [
              0.2222222222222222,
              "#7201a8"
             ],
             [
              0.3333333333333333,
              "#9c179e"
             ],
             [
              0.4444444444444444,
              "#bd3786"
             ],
             [
              0.5555555555555556,
              "#d8576b"
             ],
             [
              0.6666666666666666,
              "#ed7953"
             ],
             [
              0.7777777777777778,
              "#fb9f3a"
             ],
             [
              0.8888888888888888,
              "#fdca26"
             ],
             [
              1,
              "#f0f921"
             ]
            ],
            "type": "heatmap"
           }
          ],
          "heatmapgl": [
           {
            "colorbar": {
             "outlinewidth": 0,
             "ticks": ""
            },
            "colorscale": [
             [
              0,
              "#0d0887"
             ],
             [
              0.1111111111111111,
              "#46039f"
             ],
             [
              0.2222222222222222,
              "#7201a8"
             ],
             [
              0.3333333333333333,
              "#9c179e"
             ],
             [
              0.4444444444444444,
              "#bd3786"
             ],
             [
              0.5555555555555556,
              "#d8576b"
             ],
             [
              0.6666666666666666,
              "#ed7953"
             ],
             [
              0.7777777777777778,
              "#fb9f3a"
             ],
             [
              0.8888888888888888,
              "#fdca26"
             ],
             [
              1,
              "#f0f921"
             ]
            ],
            "type": "heatmapgl"
           }
          ],
          "histogram": [
           {
            "marker": {
             "pattern": {
              "fillmode": "overlay",
              "size": 10,
              "solidity": 0.2
             }
            },
            "type": "histogram"
           }
          ],
          "histogram2d": [
           {
            "colorbar": {
             "outlinewidth": 0,
             "ticks": ""
            },
            "colorscale": [
             [
              0,
              "#0d0887"
             ],
             [
              0.1111111111111111,
              "#46039f"
             ],
             [
              0.2222222222222222,
              "#7201a8"
             ],
             [
              0.3333333333333333,
              "#9c179e"
             ],
             [
              0.4444444444444444,
              "#bd3786"
             ],
             [
              0.5555555555555556,
              "#d8576b"
             ],
             [
              0.6666666666666666,
              "#ed7953"
             ],
             [
              0.7777777777777778,
              "#fb9f3a"
             ],
             [
              0.8888888888888888,
              "#fdca26"
             ],
             [
              1,
              "#f0f921"
             ]
            ],
            "type": "histogram2d"
           }
          ],
          "histogram2dcontour": [
           {
            "colorbar": {
             "outlinewidth": 0,
             "ticks": ""
            },
            "colorscale": [
             [
              0,
              "#0d0887"
             ],
             [
              0.1111111111111111,
              "#46039f"
             ],
             [
              0.2222222222222222,
              "#7201a8"
             ],
             [
              0.3333333333333333,
              "#9c179e"
             ],
             [
              0.4444444444444444,
              "#bd3786"
             ],
             [
              0.5555555555555556,
              "#d8576b"
             ],
             [
              0.6666666666666666,
              "#ed7953"
             ],
             [
              0.7777777777777778,
              "#fb9f3a"
             ],
             [
              0.8888888888888888,
              "#fdca26"
             ],
             [
              1,
              "#f0f921"
             ]
            ],
            "type": "histogram2dcontour"
           }
          ],
          "mesh3d": [
           {
            "colorbar": {
             "outlinewidth": 0,
             "ticks": ""
            },
            "type": "mesh3d"
           }
          ],
          "parcoords": [
           {
            "line": {
             "colorbar": {
              "outlinewidth": 0,
              "ticks": ""
             }
            },
            "type": "parcoords"
           }
          ],
          "pie": [
           {
            "automargin": true,
            "type": "pie"
           }
          ],
          "scatter": [
           {
            "fillpattern": {
             "fillmode": "overlay",
             "size": 10,
             "solidity": 0.2
            },
            "type": "scatter"
           }
          ],
          "scatter3d": [
           {
            "line": {
             "colorbar": {
              "outlinewidth": 0,
              "ticks": ""
             }
            },
            "marker": {
             "colorbar": {
              "outlinewidth": 0,
              "ticks": ""
             }
            },
            "type": "scatter3d"
           }
          ],
          "scattercarpet": [
           {
            "marker": {
             "colorbar": {
              "outlinewidth": 0,
              "ticks": ""
             }
            },
            "type": "scattercarpet"
           }
          ],
          "scattergeo": [
           {
            "marker": {
             "colorbar": {
              "outlinewidth": 0,
              "ticks": ""
             }
            },
            "type": "scattergeo"
           }
          ],
          "scattergl": [
           {
            "marker": {
             "colorbar": {
              "outlinewidth": 0,
              "ticks": ""
             }
            },
            "type": "scattergl"
           }
          ],
          "scattermapbox": [
           {
            "marker": {
             "colorbar": {
              "outlinewidth": 0,
              "ticks": ""
             }
            },
            "type": "scattermapbox"
           }
          ],
          "scatterpolar": [
           {
            "marker": {
             "colorbar": {
              "outlinewidth": 0,
              "ticks": ""
             }
            },
            "type": "scatterpolar"
           }
          ],
          "scatterpolargl": [
           {
            "marker": {
             "colorbar": {
              "outlinewidth": 0,
              "ticks": ""
             }
            },
            "type": "scatterpolargl"
           }
          ],
          "scatterternary": [
           {
            "marker": {
             "colorbar": {
              "outlinewidth": 0,
              "ticks": ""
             }
            },
            "type": "scatterternary"
           }
          ],
          "surface": [
           {
            "colorbar": {
             "outlinewidth": 0,
             "ticks": ""
            },
            "colorscale": [
             [
              0,
              "#0d0887"
             ],
             [
              0.1111111111111111,
              "#46039f"
             ],
             [
              0.2222222222222222,
              "#7201a8"
             ],
             [
              0.3333333333333333,
              "#9c179e"
             ],
             [
              0.4444444444444444,
              "#bd3786"
             ],
             [
              0.5555555555555556,
              "#d8576b"
             ],
             [
              0.6666666666666666,
              "#ed7953"
             ],
             [
              0.7777777777777778,
              "#fb9f3a"
             ],
             [
              0.8888888888888888,
              "#fdca26"
             ],
             [
              1,
              "#f0f921"
             ]
            ],
            "type": "surface"
           }
          ],
          "table": [
           {
            "cells": {
             "fill": {
              "color": "#EBF0F8"
             },
             "line": {
              "color": "white"
             }
            },
            "header": {
             "fill": {
              "color": "#C8D4E3"
             },
             "line": {
              "color": "white"
             }
            },
            "type": "table"
           }
          ]
         },
         "layout": {
          "annotationdefaults": {
           "arrowcolor": "#2a3f5f",
           "arrowhead": 0,
           "arrowwidth": 1
          },
          "autotypenumbers": "strict",
          "coloraxis": {
           "colorbar": {
            "outlinewidth": 0,
            "ticks": ""
           }
          },
          "colorscale": {
           "diverging": [
            [
             0,
             "#8e0152"
            ],
            [
             0.1,
             "#c51b7d"
            ],
            [
             0.2,
             "#de77ae"
            ],
            [
             0.3,
             "#f1b6da"
            ],
            [
             0.4,
             "#fde0ef"
            ],
            [
             0.5,
             "#f7f7f7"
            ],
            [
             0.6,
             "#e6f5d0"
            ],
            [
             0.7,
             "#b8e186"
            ],
            [
             0.8,
             "#7fbc41"
            ],
            [
             0.9,
             "#4d9221"
            ],
            [
             1,
             "#276419"
            ]
           ],
           "sequential": [
            [
             0,
             "#0d0887"
            ],
            [
             0.1111111111111111,
             "#46039f"
            ],
            [
             0.2222222222222222,
             "#7201a8"
            ],
            [
             0.3333333333333333,
             "#9c179e"
            ],
            [
             0.4444444444444444,
             "#bd3786"
            ],
            [
             0.5555555555555556,
             "#d8576b"
            ],
            [
             0.6666666666666666,
             "#ed7953"
            ],
            [
             0.7777777777777778,
             "#fb9f3a"
            ],
            [
             0.8888888888888888,
             "#fdca26"
            ],
            [
             1,
             "#f0f921"
            ]
           ],
           "sequentialminus": [
            [
             0,
             "#0d0887"
            ],
            [
             0.1111111111111111,
             "#46039f"
            ],
            [
             0.2222222222222222,
             "#7201a8"
            ],
            [
             0.3333333333333333,
             "#9c179e"
            ],
            [
             0.4444444444444444,
             "#bd3786"
            ],
            [
             0.5555555555555556,
             "#d8576b"
            ],
            [
             0.6666666666666666,
             "#ed7953"
            ],
            [
             0.7777777777777778,
             "#fb9f3a"
            ],
            [
             0.8888888888888888,
             "#fdca26"
            ],
            [
             1,
             "#f0f921"
            ]
           ]
          },
          "colorway": [
           "#636efa",
           "#EF553B",
           "#00cc96",
           "#ab63fa",
           "#FFA15A",
           "#19d3f3",
           "#FF6692",
           "#B6E880",
           "#FF97FF",
           "#FECB52"
          ],
          "font": {
           "color": "#2a3f5f"
          },
          "geo": {
           "bgcolor": "white",
           "lakecolor": "white",
           "landcolor": "white",
           "showlakes": true,
           "showland": true,
           "subunitcolor": "#C8D4E3"
          },
          "hoverlabel": {
           "align": "left"
          },
          "hovermode": "closest",
          "mapbox": {
           "style": "light"
          },
          "paper_bgcolor": "white",
          "plot_bgcolor": "white",
          "polar": {
           "angularaxis": {
            "gridcolor": "#EBF0F8",
            "linecolor": "#EBF0F8",
            "ticks": ""
           },
           "bgcolor": "white",
           "radialaxis": {
            "gridcolor": "#EBF0F8",
            "linecolor": "#EBF0F8",
            "ticks": ""
           }
          },
          "scene": {
           "xaxis": {
            "backgroundcolor": "white",
            "gridcolor": "#DFE8F3",
            "gridwidth": 2,
            "linecolor": "#EBF0F8",
            "showbackground": true,
            "ticks": "",
            "zerolinecolor": "#EBF0F8"
           },
           "yaxis": {
            "backgroundcolor": "white",
            "gridcolor": "#DFE8F3",
            "gridwidth": 2,
            "linecolor": "#EBF0F8",
            "showbackground": true,
            "ticks": "",
            "zerolinecolor": "#EBF0F8"
           },
           "zaxis": {
            "backgroundcolor": "white",
            "gridcolor": "#DFE8F3",
            "gridwidth": 2,
            "linecolor": "#EBF0F8",
            "showbackground": true,
            "ticks": "",
            "zerolinecolor": "#EBF0F8"
           }
          },
          "shapedefaults": {
           "line": {
            "color": "#2a3f5f"
           }
          },
          "ternary": {
           "aaxis": {
            "gridcolor": "#DFE8F3",
            "linecolor": "#A2B1C6",
            "ticks": ""
           },
           "baxis": {
            "gridcolor": "#DFE8F3",
            "linecolor": "#A2B1C6",
            "ticks": ""
           },
           "bgcolor": "white",
           "caxis": {
            "gridcolor": "#DFE8F3",
            "linecolor": "#A2B1C6",
            "ticks": ""
           }
          },
          "title": {
           "x": 0.05
          },
          "xaxis": {
           "automargin": true,
           "gridcolor": "#EBF0F8",
           "linecolor": "#EBF0F8",
           "ticks": "",
           "title": {
            "standoff": 15
           },
           "zerolinecolor": "#EBF0F8",
           "zerolinewidth": 2
          },
          "yaxis": {
           "automargin": true,
           "gridcolor": "#EBF0F8",
           "linecolor": "#EBF0F8",
           "ticks": "",
           "title": {
            "standoff": 15
           },
           "zerolinecolor": "#EBF0F8",
           "zerolinewidth": 2
          }
         }
        },
        "title": {
         "text": "The usage price of LLMs at a given capability level has fallen by 7x-300x per year"
        },
        "width": 1200,
        "xaxis": {
         "range": [
          -0.5,
          7
         ],
         "title": {
          "text": "Benchmark"
         }
        },
        "yaxis": {
         "range": [
          0,
          3.1
         ],
         "tickmode": "array",
         "ticktext": [
          "1x",
          "10x",
          "100x",
          "1,000x"
         ],
         "tickvals": [
          0,
          1,
          2,
          3
         ],
         "title": {}
        }
       }
      }
     },
     "metadata": {},
     "output_type": "display_data"
    }
   ],
   "source": [
    "# Bar chart of price reduction factor per year\n",
    "fig = go.Figure()\n",
    "\n",
    "# Define colors for each benchmark\n",
    "benchmark_colors = {\n",
    "    bench: px.colors.qualitative.Plotly[i % len(px.colors.qualitative.Plotly)]\n",
    "    for i, bench in enumerate(benchmarks)\n",
    "}\n",
    "\n",
    "# Define patterns for each model to make bars distinguishable\n",
    "patterns = ['', '-', '/', '\\\\']\n",
    "\n",
    "# Add a bar trace for each model in each benchmark\n",
    "for bench in benchmarks:\n",
    "    bench_results = cheapest_model_results_df[cheapest_model_results_df['bench'] == bench]\n",
    "    bench_color = benchmark_colors[bench]\n",
    "    \n",
    "    # Get all models and their price factors for this benchmark\n",
    "    for i, (_, row) in enumerate(bench_results.iterrows()):\n",
    "        if pd.notna(row['price_reduction_factor_per_year']):\n",
    "            model_name = row['threshold_model']\n",
    "            price_factor = row['price_reduction_factor_per_year']\n",
    "            \n",
    "            # Assign a pattern based on the model index\n",
    "            pattern = patterns[i % len(patterns)]\n",
    "            \n",
    "            fig.add_trace(go.Bar(\n",
    "                x=[bench_aliases[bench]],\n",
    "                y=[np.log10(price_factor)],\n",
    "                name=f\"{model_name}\",\n",
    "                # text=[f\"{price_factor:.1f}x - {model_name}\"],\n",
    "                # textposition='outside',\n",
    "                # Offset bars within the same benchmark group\n",
    "                offset=i * 0.15 - (len(bench_results) * 0.15 / 2),\n",
    "                width=0.15,\n",
    "                marker_color=bench_color,\n",
    "                marker_pattern_shape=pattern,\n",
    "            ))\n",
    "\n",
    "\n",
    "tvs = list(range(0, 4))\n",
    "fig.update_layout(\n",
    "    yaxis=dict(\n",
    "        tickmode='array',\n",
    "        tickvals=tvs,\n",
    "        ticktext=[f'{10**tickval:,.0f}x' for tickval in tvs],\n",
    "        range=[0, 3.1],  # Set y-axis limits from 0 to 3 (log10 scale)\n",
    "        # dtick='D10',  # Show only powers of 10\n",
    "        title=None,  # Remove the side title\n",
    "    ),\n",
    ")\n",
    "fig.update_layout(\n",
    "    annotations=[\n",
    "        dict(\n",
    "            x=-0.08,  # Center of the plot\n",
    "            y=1.08,  # Above the plot\n",
    "            xref='paper',\n",
    "            yref='paper',\n",
    "            text='Reduction in usage price per year',\n",
    "            showarrow=False,\n",
    "            font=dict(size=16),\n",
    "        )\n",
    "    ],\n",
    ")\n",
    "fig.update_layout(\n",
    "    title='The usage price of LLMs at a given capability level has fallen by 7x-300x per year',\n",
    "    width=1200,\n",
    "    height=800,\n",
    "    font=dict(size=14),\n",
    "    margin=dict(l=130, t=150),\n",
    "    xaxis=dict(title='Benchmark',range=[-0.5, len(benchmarks) + 1.0]),\n",
    "    legend_title_text=\"Capability threshold\"\n",
    ")\n",
    "if save:\n",
    "    save_plot(fig, results_subdir, 'lowest_price_models_all_bar', extensions=['png', 'svg'])\n",
    "fig.show()"
   ]
  },
  {
   "cell_type": "code",
   "execution_count": null,
   "metadata": {},
   "outputs": [],
   "source": []
  }
 ],
 "metadata": {
  "kernelspec": {
   "display_name": "llm-efficiency",
   "language": "python",
   "name": "python3"
  },
  "language_info": {
   "codemirror_mode": {
    "name": "ipython",
    "version": 3
   },
   "file_extension": ".py",
   "mimetype": "text/x-python",
   "name": "python",
   "nbconvert_exporter": "python",
   "pygments_lexer": "ipython3",
   "version": "3.12.7"
  }
 },
 "nbformat": 4,
 "nbformat_minor": 2
}
