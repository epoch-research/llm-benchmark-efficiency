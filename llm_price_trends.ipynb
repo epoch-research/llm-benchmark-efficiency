{
 "cells": [
  {
   "cell_type": "code",
   "execution_count": 1,
   "metadata": {},
   "outputs": [],
   "source": [
    "from collections import defaultdict\n",
    "import numpy as np\n",
    "import os\n",
    "import pandas as pd\n",
    "import plotly.express as px\n",
    "import plotly.graph_objects as go\n",
    "import plotly.io as pio\n",
    "from plotly.subplots import make_subplots\n",
    "import statsmodels.formula.api as smf\n",
    "\n",
    "from data import load_pcd_df\n",
    "from plotting import save_plot\n",
    "\n",
    "pio.templates.default = \"plotly_white\""
   ]
  },
  {
   "cell_type": "code",
   "execution_count": 2,
   "metadata": {},
   "outputs": [],
   "source": [
    "results_dir = 'results/2025-02-21_fresh_notebook/'\n",
    "os.makedirs(results_dir, exist_ok=True)"
   ]
  },
  {
   "cell_type": "code",
   "execution_count": 3,
   "metadata": {},
   "outputs": [],
   "source": [
    "save = True\n",
    "benchmarks = ['MMLU', 'GPQA Diamond', 'MATH-500', 'MATH 5', 'HumanEval', 'LMSys Chatbot Arena ELO']\n",
    "benchmark_is_mqa = {'MMLU': True, 'GPQA Diamond': True, 'MATH 5': False, 'MATH-500': False, 'HumanEval': False, 'LMSys Chatbot Arena ELO': False}\n",
    "min_num_data_points_for_regression = 4"
   ]
  },
  {
   "cell_type": "markdown",
   "metadata": {},
   "source": [
    "# Using Artificial Analysis data"
   ]
  },
  {
   "cell_type": "markdown",
   "metadata": {},
   "source": [
    "## Load Artificial Analysis dataset"
   ]
  },
  {
   "cell_type": "code",
   "execution_count": 4,
   "metadata": {},
   "outputs": [
    {
     "data": {
      "text/html": [
       "<div>\n",
       "<style scoped>\n",
       "    .dataframe tbody tr th:only-of-type {\n",
       "        vertical-align: middle;\n",
       "    }\n",
       "\n",
       "    .dataframe tbody tr th {\n",
       "        vertical-align: top;\n",
       "    }\n",
       "\n",
       "    .dataframe thead th {\n",
       "        text-align: right;\n",
       "    }\n",
       "</style>\n",
       "<table border=\"1\" class=\"dataframe\">\n",
       "  <thead>\n",
       "    <tr style=\"text-align: right;\">\n",
       "      <th></th>\n",
       "      <th>Model Name</th>\n",
       "      <th>Release Date</th>\n",
       "      <th>USD per 1M Tokens</th>\n",
       "      <th>Tokens per Second</th>\n",
       "      <th>Prefill Latency (s)</th>\n",
       "      <th>Prompt Length (tk)</th>\n",
       "      <th>MMLU</th>\n",
       "      <th>GPQA Diamond</th>\n",
       "      <th>MATH-500</th>\n",
       "      <th>HumanEval</th>\n",
       "      <th>LMSys Chatbot Arena ELO</th>\n",
       "      <th>MATH 5</th>\n",
       "    </tr>\n",
       "  </thead>\n",
       "  <tbody>\n",
       "    <tr>\n",
       "      <th>0</th>\n",
       "      <td>Claude-3-Haiku</td>\n",
       "      <td>2024-03</td>\n",
       "      <td>0.5000</td>\n",
       "      <td>122.7</td>\n",
       "      <td>0.467</td>\n",
       "      <td>1000.0</td>\n",
       "      <td>71</td>\n",
       "      <td>33</td>\n",
       "      <td>39.0</td>\n",
       "      <td>77.0</td>\n",
       "      <td>1179.0</td>\n",
       "      <td>13.0</td>\n",
       "    </tr>\n",
       "    <tr>\n",
       "      <th>1</th>\n",
       "      <td>Claude-3-Opus</td>\n",
       "      <td>2024-03</td>\n",
       "      <td>30.0000</td>\n",
       "      <td>26.5</td>\n",
       "      <td>1.984</td>\n",
       "      <td>1000.0</td>\n",
       "      <td>84</td>\n",
       "      <td>50</td>\n",
       "      <td>64.0</td>\n",
       "      <td>83.0</td>\n",
       "      <td>1248.0</td>\n",
       "      <td>34.0</td>\n",
       "    </tr>\n",
       "    <tr>\n",
       "      <th>2</th>\n",
       "      <td>Claude-3-Sonnet</td>\n",
       "      <td>2024-03</td>\n",
       "      <td>6.0000</td>\n",
       "      <td>61.8</td>\n",
       "      <td>0.789</td>\n",
       "      <td>1000.0</td>\n",
       "      <td>77</td>\n",
       "      <td>37</td>\n",
       "      <td>41.0</td>\n",
       "      <td>71.0</td>\n",
       "      <td>1201.0</td>\n",
       "      <td>16.0</td>\n",
       "    </tr>\n",
       "    <tr>\n",
       "      <th>3</th>\n",
       "      <td>Claude-3.5-Haiku</td>\n",
       "      <td>2024-06</td>\n",
       "      <td>1.6000</td>\n",
       "      <td>64.2</td>\n",
       "      <td>0.768</td>\n",
       "      <td>1000.0</td>\n",
       "      <td>81</td>\n",
       "      <td>37</td>\n",
       "      <td>67.0</td>\n",
       "      <td>87.0</td>\n",
       "      <td>1236.0</td>\n",
       "      <td>NaN</td>\n",
       "    </tr>\n",
       "    <tr>\n",
       "      <th>4</th>\n",
       "      <td>Claude-3.5-Sonnet-2024-06</td>\n",
       "      <td>2024-06</td>\n",
       "      <td>6.0000</td>\n",
       "      <td>55.9</td>\n",
       "      <td>0.906</td>\n",
       "      <td>1000.0</td>\n",
       "      <td>88</td>\n",
       "      <td>56</td>\n",
       "      <td>71.0</td>\n",
       "      <td>90.0</td>\n",
       "      <td>1268.0</td>\n",
       "      <td>46.0</td>\n",
       "    </tr>\n",
       "    <tr>\n",
       "      <th>5</th>\n",
       "      <td>Claude-3.5-Sonnet-2024-10</td>\n",
       "      <td>2024-10</td>\n",
       "      <td>6.0000</td>\n",
       "      <td>55.2</td>\n",
       "      <td>0.907</td>\n",
       "      <td>1000.0</td>\n",
       "      <td>89</td>\n",
       "      <td>58</td>\n",
       "      <td>76.0</td>\n",
       "      <td>96.0</td>\n",
       "      <td>1282.0</td>\n",
       "      <td>53.0</td>\n",
       "    </tr>\n",
       "    <tr>\n",
       "      <th>6</th>\n",
       "      <td>Gemini 2.0 Flash</td>\n",
       "      <td>2025-02</td>\n",
       "      <td>0.1750</td>\n",
       "      <td>NaN</td>\n",
       "      <td>NaN</td>\n",
       "      <td>NaN</td>\n",
       "      <td>88</td>\n",
       "      <td>62</td>\n",
       "      <td>93.0</td>\n",
       "      <td>90.0</td>\n",
       "      <td>1358.0</td>\n",
       "      <td>82.0</td>\n",
       "    </tr>\n",
       "    <tr>\n",
       "      <th>7</th>\n",
       "      <td>Gemini-1.5-Flash-2024-05</td>\n",
       "      <td>2024-05</td>\n",
       "      <td>0.1300</td>\n",
       "      <td>298.4</td>\n",
       "      <td>0.307</td>\n",
       "      <td>1000.0</td>\n",
       "      <td>79</td>\n",
       "      <td>39</td>\n",
       "      <td>55.0</td>\n",
       "      <td>NaN</td>\n",
       "      <td>1227.0</td>\n",
       "      <td>23.0</td>\n",
       "    </tr>\n",
       "    <tr>\n",
       "      <th>8</th>\n",
       "      <td>Gemini-1.5-Flash-2024-09</td>\n",
       "      <td>2024-09</td>\n",
       "      <td>0.1300</td>\n",
       "      <td>190.5</td>\n",
       "      <td>0.348</td>\n",
       "      <td>1000.0</td>\n",
       "      <td>75</td>\n",
       "      <td>45</td>\n",
       "      <td>83.0</td>\n",
       "      <td>83.0</td>\n",
       "      <td>1271.0</td>\n",
       "      <td>58.0</td>\n",
       "    </tr>\n",
       "    <tr>\n",
       "      <th>9</th>\n",
       "      <td>Gemini-1.5-Flash-8B</td>\n",
       "      <td>2024-10</td>\n",
       "      <td>0.0700</td>\n",
       "      <td>285.2</td>\n",
       "      <td>0.335</td>\n",
       "      <td>1000.0</td>\n",
       "      <td>75</td>\n",
       "      <td>30</td>\n",
       "      <td>70.0</td>\n",
       "      <td>12.0</td>\n",
       "      <td>1211.0</td>\n",
       "      <td>NaN</td>\n",
       "    </tr>\n",
       "    <tr>\n",
       "      <th>10</th>\n",
       "      <td>Gemini-1.5-Pro-2024-05</td>\n",
       "      <td>2024-05</td>\n",
       "      <td>2.1900</td>\n",
       "      <td>64.8</td>\n",
       "      <td>0.738</td>\n",
       "      <td>1000.0</td>\n",
       "      <td>86</td>\n",
       "      <td>46</td>\n",
       "      <td>66.0</td>\n",
       "      <td>83.0</td>\n",
       "      <td>1260.0</td>\n",
       "      <td>41.0</td>\n",
       "    </tr>\n",
       "    <tr>\n",
       "      <th>11</th>\n",
       "      <td>Gemini-1.5-Pro-2024-09</td>\n",
       "      <td>2024-09</td>\n",
       "      <td>2.1900</td>\n",
       "      <td>59.1</td>\n",
       "      <td>0.864</td>\n",
       "      <td>1000.0</td>\n",
       "      <td>86</td>\n",
       "      <td>61</td>\n",
       "      <td>88.0</td>\n",
       "      <td>88.0</td>\n",
       "      <td>1301.0</td>\n",
       "      <td>67.0</td>\n",
       "    </tr>\n",
       "    <tr>\n",
       "      <th>12</th>\n",
       "      <td>Gemma-2-27B</td>\n",
       "      <td>2024-06</td>\n",
       "      <td>0.2600</td>\n",
       "      <td>47.9</td>\n",
       "      <td>0.527</td>\n",
       "      <td>1000.0</td>\n",
       "      <td>77</td>\n",
       "      <td>39</td>\n",
       "      <td>54.0</td>\n",
       "      <td>76.0</td>\n",
       "      <td>1219.0</td>\n",
       "      <td>23.0</td>\n",
       "    </tr>\n",
       "    <tr>\n",
       "      <th>13</th>\n",
       "      <td>Gemma-2-9B</td>\n",
       "      <td>2024-06</td>\n",
       "      <td>0.1300</td>\n",
       "      <td>162.8</td>\n",
       "      <td>0.426</td>\n",
       "      <td>1000.0</td>\n",
       "      <td>73</td>\n",
       "      <td>31</td>\n",
       "      <td>50.0</td>\n",
       "      <td>64.0</td>\n",
       "      <td>1190.0</td>\n",
       "      <td>18.0</td>\n",
       "    </tr>\n",
       "    <tr>\n",
       "      <th>14</th>\n",
       "      <td>GPT-3.5 Turbo</td>\n",
       "      <td>2023-11</td>\n",
       "      <td>0.7500</td>\n",
       "      <td>121.5</td>\n",
       "      <td>0.598</td>\n",
       "      <td>1000.0</td>\n",
       "      <td>68</td>\n",
       "      <td>30</td>\n",
       "      <td>44.0</td>\n",
       "      <td>71.0</td>\n",
       "      <td>1107.0</td>\n",
       "      <td>15.0</td>\n",
       "    </tr>\n",
       "    <tr>\n",
       "      <th>15</th>\n",
       "      <td>GPT-4</td>\n",
       "      <td>2023-03</td>\n",
       "      <td>37.5000</td>\n",
       "      <td>23.6</td>\n",
       "      <td>0.724</td>\n",
       "      <td>1000.0</td>\n",
       "      <td>86</td>\n",
       "      <td>33</td>\n",
       "      <td>21.0</td>\n",
       "      <td>67.0</td>\n",
       "      <td>1186.0</td>\n",
       "      <td>23.0</td>\n",
       "    </tr>\n",
       "    <tr>\n",
       "      <th>16</th>\n",
       "      <td>GPT-4 Turbo</td>\n",
       "      <td>2023-11</td>\n",
       "      <td>15.0000</td>\n",
       "      <td>39.2</td>\n",
       "      <td>1.246</td>\n",
       "      <td>1000.0</td>\n",
       "      <td>87</td>\n",
       "      <td>50</td>\n",
       "      <td>74.0</td>\n",
       "      <td>92.0</td>\n",
       "      <td>1256.0</td>\n",
       "      <td>36.0</td>\n",
       "    </tr>\n",
       "    <tr>\n",
       "      <th>17</th>\n",
       "      <td>GPT-4o-2024-05</td>\n",
       "      <td>2024-05</td>\n",
       "      <td>7.5000</td>\n",
       "      <td>86.4</td>\n",
       "      <td>0.687</td>\n",
       "      <td>1000.0</td>\n",
       "      <td>87</td>\n",
       "      <td>51</td>\n",
       "      <td>79.0</td>\n",
       "      <td>93.0</td>\n",
       "      <td>1285.0</td>\n",
       "      <td>48.0</td>\n",
       "    </tr>\n",
       "    <tr>\n",
       "      <th>18</th>\n",
       "      <td>GPT-4o-2024-08</td>\n",
       "      <td>2024-08</td>\n",
       "      <td>4.3800</td>\n",
       "      <td>81.0</td>\n",
       "      <td>0.673</td>\n",
       "      <td>1000.0</td>\n",
       "      <td>89</td>\n",
       "      <td>51</td>\n",
       "      <td>80.0</td>\n",
       "      <td>93.0</td>\n",
       "      <td>1337.0</td>\n",
       "      <td>47.0</td>\n",
       "    </tr>\n",
       "    <tr>\n",
       "      <th>19</th>\n",
       "      <td>GPT-4o-2024-11</td>\n",
       "      <td>2024-11</td>\n",
       "      <td>4.3800</td>\n",
       "      <td>148.9</td>\n",
       "      <td>0.404</td>\n",
       "      <td>1000.0</td>\n",
       "      <td>86</td>\n",
       "      <td>45</td>\n",
       "      <td>75.0</td>\n",
       "      <td>93.0</td>\n",
       "      <td>1361.0</td>\n",
       "      <td>50.0</td>\n",
       "    </tr>\n",
       "    <tr>\n",
       "      <th>20</th>\n",
       "      <td>GPT-4o-mini</td>\n",
       "      <td>2024-07</td>\n",
       "      <td>0.2600</td>\n",
       "      <td>112.2</td>\n",
       "      <td>0.626</td>\n",
       "      <td>1000.0</td>\n",
       "      <td>82</td>\n",
       "      <td>43</td>\n",
       "      <td>79.0</td>\n",
       "      <td>88.0</td>\n",
       "      <td>1273.0</td>\n",
       "      <td>48.0</td>\n",
       "    </tr>\n",
       "    <tr>\n",
       "      <th>21</th>\n",
       "      <td>Llama-2-Chat-13B</td>\n",
       "      <td>2023-07</td>\n",
       "      <td>0.5600</td>\n",
       "      <td>43.1</td>\n",
       "      <td>0.447</td>\n",
       "      <td>1000.0</td>\n",
       "      <td>45</td>\n",
       "      <td>19</td>\n",
       "      <td>NaN</td>\n",
       "      <td>NaN</td>\n",
       "      <td>1063.0</td>\n",
       "      <td>NaN</td>\n",
       "    </tr>\n",
       "    <tr>\n",
       "      <th>22</th>\n",
       "      <td>Llama-2-Chat-7B</td>\n",
       "      <td>2023-07</td>\n",
       "      <td>0.3300</td>\n",
       "      <td>125.4</td>\n",
       "      <td>0.508</td>\n",
       "      <td>1000.0</td>\n",
       "      <td>13</td>\n",
       "      <td>6</td>\n",
       "      <td>NaN</td>\n",
       "      <td>13.0</td>\n",
       "      <td>1037.0</td>\n",
       "      <td>NaN</td>\n",
       "    </tr>\n",
       "    <tr>\n",
       "      <th>23</th>\n",
       "      <td>Llama-3-Instruct-70B</td>\n",
       "      <td>2024-04</td>\n",
       "      <td>0.8900</td>\n",
       "      <td>44.6</td>\n",
       "      <td>0.472</td>\n",
       "      <td>1000.0</td>\n",
       "      <td>79</td>\n",
       "      <td>39</td>\n",
       "      <td>53.0</td>\n",
       "      <td>18.0</td>\n",
       "      <td>1206.0</td>\n",
       "      <td>22.0</td>\n",
       "    </tr>\n",
       "    <tr>\n",
       "      <th>24</th>\n",
       "      <td>Llama-3-Instruct-8B</td>\n",
       "      <td>2024-04</td>\n",
       "      <td>0.1500</td>\n",
       "      <td>122.8</td>\n",
       "      <td>0.330</td>\n",
       "      <td>1000.0</td>\n",
       "      <td>64</td>\n",
       "      <td>30</td>\n",
       "      <td>32.0</td>\n",
       "      <td>53.0</td>\n",
       "      <td>1152.0</td>\n",
       "      <td>8.0</td>\n",
       "    </tr>\n",
       "    <tr>\n",
       "      <th>25</th>\n",
       "      <td>Llama-3.1-Instruct-405B</td>\n",
       "      <td>2024-07</td>\n",
       "      <td>3.5000</td>\n",
       "      <td>27.9</td>\n",
       "      <td>0.719</td>\n",
       "      <td>1000.0</td>\n",
       "      <td>87</td>\n",
       "      <td>50</td>\n",
       "      <td>70.0</td>\n",
       "      <td>87.0</td>\n",
       "      <td>1266.0</td>\n",
       "      <td>45.0</td>\n",
       "    </tr>\n",
       "    <tr>\n",
       "      <th>26</th>\n",
       "      <td>Llama-3.1-Instruct-70B</td>\n",
       "      <td>2024-07</td>\n",
       "      <td>0.7200</td>\n",
       "      <td>71.6</td>\n",
       "      <td>0.425</td>\n",
       "      <td>1000.0</td>\n",
       "      <td>84</td>\n",
       "      <td>43</td>\n",
       "      <td>64.0</td>\n",
       "      <td>80.0</td>\n",
       "      <td>1249.0</td>\n",
       "      <td>39.0</td>\n",
       "    </tr>\n",
       "    <tr>\n",
       "      <th>27</th>\n",
       "      <td>Llama-3.1-Instruct-8B</td>\n",
       "      <td>2024-07</td>\n",
       "      <td>0.1000</td>\n",
       "      <td>164.3</td>\n",
       "      <td>0.350</td>\n",
       "      <td>1000.0</td>\n",
       "      <td>71</td>\n",
       "      <td>27</td>\n",
       "      <td>50.0</td>\n",
       "      <td>67.0</td>\n",
       "      <td>1172.0</td>\n",
       "      <td>22.0</td>\n",
       "    </tr>\n",
       "    <tr>\n",
       "      <th>28</th>\n",
       "      <td>Llama-3.2-Instruct-1B</td>\n",
       "      <td>2024-09</td>\n",
       "      <td>0.0500</td>\n",
       "      <td>552.1</td>\n",
       "      <td>0.317</td>\n",
       "      <td>1000.0</td>\n",
       "      <td>35</td>\n",
       "      <td>14</td>\n",
       "      <td>13.0</td>\n",
       "      <td>40.0</td>\n",
       "      <td>1103.0</td>\n",
       "      <td>NaN</td>\n",
       "    </tr>\n",
       "    <tr>\n",
       "      <th>29</th>\n",
       "      <td>Llama-3.2-Instruct-3B</td>\n",
       "      <td>2024-09</td>\n",
       "      <td>0.0800</td>\n",
       "      <td>200.3</td>\n",
       "      <td>0.316</td>\n",
       "      <td>1000.0</td>\n",
       "      <td>64</td>\n",
       "      <td>21</td>\n",
       "      <td>50.0</td>\n",
       "      <td>60.0</td>\n",
       "      <td>1103.0</td>\n",
       "      <td>NaN</td>\n",
       "    </tr>\n",
       "    <tr>\n",
       "      <th>30</th>\n",
       "      <td>Mistral Small 3</td>\n",
       "      <td>2025-01</td>\n",
       "      <td>0.4750</td>\n",
       "      <td>NaN</td>\n",
       "      <td>NaN</td>\n",
       "      <td>NaN</td>\n",
       "      <td>82</td>\n",
       "      <td>46</td>\n",
       "      <td>74.0</td>\n",
       "      <td>85.0</td>\n",
       "      <td>1210.0</td>\n",
       "      <td>45.0</td>\n",
       "    </tr>\n",
       "    <tr>\n",
       "      <th>31</th>\n",
       "      <td>Mistral-8x22</td>\n",
       "      <td>2024-04</td>\n",
       "      <td>1.2000</td>\n",
       "      <td>85.3</td>\n",
       "      <td>0.624</td>\n",
       "      <td>1000.0</td>\n",
       "      <td>76</td>\n",
       "      <td>37</td>\n",
       "      <td>56.0</td>\n",
       "      <td>74.0</td>\n",
       "      <td>1148.0</td>\n",
       "      <td>23.0</td>\n",
       "    </tr>\n",
       "    <tr>\n",
       "      <th>32</th>\n",
       "      <td>Mistral-Large-2-2024-06</td>\n",
       "      <td>2024-06</td>\n",
       "      <td>3.0000</td>\n",
       "      <td>34.4</td>\n",
       "      <td>0.486</td>\n",
       "      <td>1000.0</td>\n",
       "      <td>85</td>\n",
       "      <td>48</td>\n",
       "      <td>71.0</td>\n",
       "      <td>91.0</td>\n",
       "      <td>1251.0</td>\n",
       "      <td>45.0</td>\n",
       "    </tr>\n",
       "    <tr>\n",
       "      <th>33</th>\n",
       "      <td>Mistral-Large-2-2024-11</td>\n",
       "      <td>2024-11</td>\n",
       "      <td>3.0000</td>\n",
       "      <td>43.5</td>\n",
       "      <td>0.639</td>\n",
       "      <td>1000.0</td>\n",
       "      <td>85</td>\n",
       "      <td>47</td>\n",
       "      <td>72.0</td>\n",
       "      <td>90.0</td>\n",
       "      <td>1247.0</td>\n",
       "      <td>NaN</td>\n",
       "    </tr>\n",
       "    <tr>\n",
       "      <th>34</th>\n",
       "      <td>Mistral-Large-2024-02</td>\n",
       "      <td>2024-02</td>\n",
       "      <td>6.0000</td>\n",
       "      <td>37.8</td>\n",
       "      <td>0.500</td>\n",
       "      <td>1000.0</td>\n",
       "      <td>69</td>\n",
       "      <td>36</td>\n",
       "      <td>49.0</td>\n",
       "      <td>69.0</td>\n",
       "      <td>1157.0</td>\n",
       "      <td>21.0</td>\n",
       "    </tr>\n",
       "    <tr>\n",
       "      <th>35</th>\n",
       "      <td>Mistral-NeMo</td>\n",
       "      <td>2024-06</td>\n",
       "      <td>0.1300</td>\n",
       "      <td>88.3</td>\n",
       "      <td>0.551</td>\n",
       "      <td>1000.0</td>\n",
       "      <td>66</td>\n",
       "      <td>33</td>\n",
       "      <td>44.0</td>\n",
       "      <td>71.0</td>\n",
       "      <td>NaN</td>\n",
       "      <td>10.0</td>\n",
       "    </tr>\n",
       "    <tr>\n",
       "      <th>36</th>\n",
       "      <td>Mistral-Small-2024-02</td>\n",
       "      <td>2024-02</td>\n",
       "      <td>1.5000</td>\n",
       "      <td>54.1</td>\n",
       "      <td>0.429</td>\n",
       "      <td>1000.0</td>\n",
       "      <td>69</td>\n",
       "      <td>31</td>\n",
       "      <td>56.0</td>\n",
       "      <td>79.0</td>\n",
       "      <td>NaN</td>\n",
       "      <td>NaN</td>\n",
       "    </tr>\n",
       "    <tr>\n",
       "      <th>37</th>\n",
       "      <td>Phi 4</td>\n",
       "      <td>2025-01</td>\n",
       "      <td>0.1225</td>\n",
       "      <td>NaN</td>\n",
       "      <td>NaN</td>\n",
       "      <td>NaN</td>\n",
       "      <td>85</td>\n",
       "      <td>53</td>\n",
       "      <td>81.0</td>\n",
       "      <td>87.0</td>\n",
       "      <td>1204.0</td>\n",
       "      <td>65.0</td>\n",
       "    </tr>\n",
       "  </tbody>\n",
       "</table>\n",
       "</div>"
      ],
      "text/plain": [
       "                   Model Name Release Date  USD per 1M Tokens  \\\n",
       "0              Claude-3-Haiku      2024-03             0.5000   \n",
       "1               Claude-3-Opus      2024-03            30.0000   \n",
       "2             Claude-3-Sonnet      2024-03             6.0000   \n",
       "3            Claude-3.5-Haiku      2024-06             1.6000   \n",
       "4   Claude-3.5-Sonnet-2024-06      2024-06             6.0000   \n",
       "5   Claude-3.5-Sonnet-2024-10      2024-10             6.0000   \n",
       "6            Gemini 2.0 Flash      2025-02             0.1750   \n",
       "7    Gemini-1.5-Flash-2024-05      2024-05             0.1300   \n",
       "8    Gemini-1.5-Flash-2024-09      2024-09             0.1300   \n",
       "9         Gemini-1.5-Flash-8B      2024-10             0.0700   \n",
       "10     Gemini-1.5-Pro-2024-05      2024-05             2.1900   \n",
       "11     Gemini-1.5-Pro-2024-09      2024-09             2.1900   \n",
       "12                Gemma-2-27B      2024-06             0.2600   \n",
       "13                 Gemma-2-9B      2024-06             0.1300   \n",
       "14              GPT-3.5 Turbo      2023-11             0.7500   \n",
       "15                      GPT-4      2023-03            37.5000   \n",
       "16                GPT-4 Turbo      2023-11            15.0000   \n",
       "17             GPT-4o-2024-05      2024-05             7.5000   \n",
       "18             GPT-4o-2024-08      2024-08             4.3800   \n",
       "19             GPT-4o-2024-11      2024-11             4.3800   \n",
       "20                GPT-4o-mini      2024-07             0.2600   \n",
       "21           Llama-2-Chat-13B      2023-07             0.5600   \n",
       "22            Llama-2-Chat-7B      2023-07             0.3300   \n",
       "23       Llama-3-Instruct-70B      2024-04             0.8900   \n",
       "24        Llama-3-Instruct-8B      2024-04             0.1500   \n",
       "25    Llama-3.1-Instruct-405B      2024-07             3.5000   \n",
       "26     Llama-3.1-Instruct-70B      2024-07             0.7200   \n",
       "27      Llama-3.1-Instruct-8B      2024-07             0.1000   \n",
       "28      Llama-3.2-Instruct-1B      2024-09             0.0500   \n",
       "29      Llama-3.2-Instruct-3B      2024-09             0.0800   \n",
       "30            Mistral Small 3      2025-01             0.4750   \n",
       "31               Mistral-8x22      2024-04             1.2000   \n",
       "32    Mistral-Large-2-2024-06      2024-06             3.0000   \n",
       "33    Mistral-Large-2-2024-11      2024-11             3.0000   \n",
       "34      Mistral-Large-2024-02      2024-02             6.0000   \n",
       "35               Mistral-NeMo      2024-06             0.1300   \n",
       "36      Mistral-Small-2024-02      2024-02             1.5000   \n",
       "37                      Phi 4      2025-01             0.1225   \n",
       "\n",
       "    Tokens per Second  Prefill Latency (s)  Prompt Length (tk)  MMLU  \\\n",
       "0               122.7                0.467              1000.0    71   \n",
       "1                26.5                1.984              1000.0    84   \n",
       "2                61.8                0.789              1000.0    77   \n",
       "3                64.2                0.768              1000.0    81   \n",
       "4                55.9                0.906              1000.0    88   \n",
       "5                55.2                0.907              1000.0    89   \n",
       "6                 NaN                  NaN                 NaN    88   \n",
       "7               298.4                0.307              1000.0    79   \n",
       "8               190.5                0.348              1000.0    75   \n",
       "9               285.2                0.335              1000.0    75   \n",
       "10               64.8                0.738              1000.0    86   \n",
       "11               59.1                0.864              1000.0    86   \n",
       "12               47.9                0.527              1000.0    77   \n",
       "13              162.8                0.426              1000.0    73   \n",
       "14              121.5                0.598              1000.0    68   \n",
       "15               23.6                0.724              1000.0    86   \n",
       "16               39.2                1.246              1000.0    87   \n",
       "17               86.4                0.687              1000.0    87   \n",
       "18               81.0                0.673              1000.0    89   \n",
       "19              148.9                0.404              1000.0    86   \n",
       "20              112.2                0.626              1000.0    82   \n",
       "21               43.1                0.447              1000.0    45   \n",
       "22              125.4                0.508              1000.0    13   \n",
       "23               44.6                0.472              1000.0    79   \n",
       "24              122.8                0.330              1000.0    64   \n",
       "25               27.9                0.719              1000.0    87   \n",
       "26               71.6                0.425              1000.0    84   \n",
       "27              164.3                0.350              1000.0    71   \n",
       "28              552.1                0.317              1000.0    35   \n",
       "29              200.3                0.316              1000.0    64   \n",
       "30                NaN                  NaN                 NaN    82   \n",
       "31               85.3                0.624              1000.0    76   \n",
       "32               34.4                0.486              1000.0    85   \n",
       "33               43.5                0.639              1000.0    85   \n",
       "34               37.8                0.500              1000.0    69   \n",
       "35               88.3                0.551              1000.0    66   \n",
       "36               54.1                0.429              1000.0    69   \n",
       "37                NaN                  NaN                 NaN    85   \n",
       "\n",
       "    GPQA Diamond  MATH-500  HumanEval  LMSys Chatbot Arena ELO  MATH 5  \n",
       "0             33      39.0       77.0                   1179.0    13.0  \n",
       "1             50      64.0       83.0                   1248.0    34.0  \n",
       "2             37      41.0       71.0                   1201.0    16.0  \n",
       "3             37      67.0       87.0                   1236.0     NaN  \n",
       "4             56      71.0       90.0                   1268.0    46.0  \n",
       "5             58      76.0       96.0                   1282.0    53.0  \n",
       "6             62      93.0       90.0                   1358.0    82.0  \n",
       "7             39      55.0        NaN                   1227.0    23.0  \n",
       "8             45      83.0       83.0                   1271.0    58.0  \n",
       "9             30      70.0       12.0                   1211.0     NaN  \n",
       "10            46      66.0       83.0                   1260.0    41.0  \n",
       "11            61      88.0       88.0                   1301.0    67.0  \n",
       "12            39      54.0       76.0                   1219.0    23.0  \n",
       "13            31      50.0       64.0                   1190.0    18.0  \n",
       "14            30      44.0       71.0                   1107.0    15.0  \n",
       "15            33      21.0       67.0                   1186.0    23.0  \n",
       "16            50      74.0       92.0                   1256.0    36.0  \n",
       "17            51      79.0       93.0                   1285.0    48.0  \n",
       "18            51      80.0       93.0                   1337.0    47.0  \n",
       "19            45      75.0       93.0                   1361.0    50.0  \n",
       "20            43      79.0       88.0                   1273.0    48.0  \n",
       "21            19       NaN        NaN                   1063.0     NaN  \n",
       "22             6       NaN       13.0                   1037.0     NaN  \n",
       "23            39      53.0       18.0                   1206.0    22.0  \n",
       "24            30      32.0       53.0                   1152.0     8.0  \n",
       "25            50      70.0       87.0                   1266.0    45.0  \n",
       "26            43      64.0       80.0                   1249.0    39.0  \n",
       "27            27      50.0       67.0                   1172.0    22.0  \n",
       "28            14      13.0       40.0                   1103.0     NaN  \n",
       "29            21      50.0       60.0                   1103.0     NaN  \n",
       "30            46      74.0       85.0                   1210.0    45.0  \n",
       "31            37      56.0       74.0                   1148.0    23.0  \n",
       "32            48      71.0       91.0                   1251.0    45.0  \n",
       "33            47      72.0       90.0                   1247.0     NaN  \n",
       "34            36      49.0       69.0                   1157.0    21.0  \n",
       "35            33      44.0       71.0                      NaN    10.0  \n",
       "36            31      56.0       79.0                      NaN     NaN  \n",
       "37            53      81.0       87.0                   1204.0    65.0  "
      ]
     },
     "execution_count": 4,
     "metadata": {},
     "output_type": "execute_result"
    }
   ],
   "source": [
    "aa_df = pd.read_csv('data/aa_data_with_math5.csv')\n",
    "aa_df"
   ]
  },
  {
   "cell_type": "code",
   "execution_count": 5,
   "metadata": {},
   "outputs": [],
   "source": [
    "# 'Release Date' is a string with the format 'YYYY-MM'\n",
    "aa_df['Release Date'] = pd.to_datetime(aa_df['Release Date'].str.strip(), format='%Y-%m')"
   ]
  },
  {
   "cell_type": "markdown",
   "metadata": {},
   "source": [
    "## Load Epoch AI price dataset"
   ]
  },
  {
   "cell_type": "code",
   "execution_count": 6,
   "metadata": {},
   "outputs": [
    {
     "data": {
      "text/html": [
       "<div>\n",
       "<style scoped>\n",
       "    .dataframe tbody tr th:only-of-type {\n",
       "        vertical-align: middle;\n",
       "    }\n",
       "\n",
       "    .dataframe tbody tr th {\n",
       "        vertical-align: top;\n",
       "    }\n",
       "\n",
       "    .dataframe thead th {\n",
       "        text-align: right;\n",
       "    }\n",
       "</style>\n",
       "<table border=\"1\" class=\"dataframe\">\n",
       "  <thead>\n",
       "    <tr style=\"text-align: right;\">\n",
       "      <th></th>\n",
       "      <th>Model Name</th>\n",
       "      <th>Release Date</th>\n",
       "      <th>USD per 1M Tokens</th>\n",
       "      <th>Tokens per Second</th>\n",
       "      <th>Prefill Latency (s)</th>\n",
       "      <th>Prompt Length (tk)</th>\n",
       "      <th>MMLU</th>\n",
       "      <th>GPQA Diamond</th>\n",
       "      <th>MATH 5</th>\n",
       "      <th>MATH-500</th>\n",
       "      <th>HumanEval</th>\n",
       "      <th>LMSys Chatbot Arena ELO</th>\n",
       "    </tr>\n",
       "  </thead>\n",
       "  <tbody>\n",
       "    <tr>\n",
       "      <th>0</th>\n",
       "      <td>Claude 2</td>\n",
       "      <td>2024-08-12</td>\n",
       "      <td>12.0000</td>\n",
       "      <td>NaN</td>\n",
       "      <td>NaN</td>\n",
       "      <td>NaN</td>\n",
       "      <td>78.5</td>\n",
       "      <td>35.0</td>\n",
       "      <td>10.0</td>\n",
       "      <td>NaN</td>\n",
       "      <td>NaN</td>\n",
       "      <td>NaN</td>\n",
       "    </tr>\n",
       "    <tr>\n",
       "      <th>1</th>\n",
       "      <td>Claude 2.1</td>\n",
       "      <td>2024-08-12</td>\n",
       "      <td>12.0000</td>\n",
       "      <td>NaN</td>\n",
       "      <td>NaN</td>\n",
       "      <td>NaN</td>\n",
       "      <td>NaN</td>\n",
       "      <td>36.0</td>\n",
       "      <td>11.0</td>\n",
       "      <td>NaN</td>\n",
       "      <td>NaN</td>\n",
       "      <td>NaN</td>\n",
       "    </tr>\n",
       "    <tr>\n",
       "      <th>2</th>\n",
       "      <td>Claude Instant</td>\n",
       "      <td>2024-08-12</td>\n",
       "      <td>1.2000</td>\n",
       "      <td>NaN</td>\n",
       "      <td>NaN</td>\n",
       "      <td>NaN</td>\n",
       "      <td>NaN</td>\n",
       "      <td>NaN</td>\n",
       "      <td>NaN</td>\n",
       "      <td>NaN</td>\n",
       "      <td>NaN</td>\n",
       "      <td>NaN</td>\n",
       "    </tr>\n",
       "    <tr>\n",
       "      <th>3</th>\n",
       "      <td>Cohere Command</td>\n",
       "      <td>2024-08-13</td>\n",
       "      <td>1.6250</td>\n",
       "      <td>NaN</td>\n",
       "      <td>NaN</td>\n",
       "      <td>NaN</td>\n",
       "      <td>NaN</td>\n",
       "      <td>NaN</td>\n",
       "      <td>NaN</td>\n",
       "      <td>NaN</td>\n",
       "      <td>NaN</td>\n",
       "      <td>NaN</td>\n",
       "    </tr>\n",
       "    <tr>\n",
       "      <th>4</th>\n",
       "      <td>Cohere Command Light</td>\n",
       "      <td>2024-08-13</td>\n",
       "      <td>0.3750</td>\n",
       "      <td>NaN</td>\n",
       "      <td>NaN</td>\n",
       "      <td>NaN</td>\n",
       "      <td>NaN</td>\n",
       "      <td>NaN</td>\n",
       "      <td>NaN</td>\n",
       "      <td>NaN</td>\n",
       "      <td>NaN</td>\n",
       "      <td>NaN</td>\n",
       "    </tr>\n",
       "    <tr>\n",
       "      <th>5</th>\n",
       "      <td>Command R</td>\n",
       "      <td>2024-08-13</td>\n",
       "      <td>0.7500</td>\n",
       "      <td>NaN</td>\n",
       "      <td>NaN</td>\n",
       "      <td>NaN</td>\n",
       "      <td>NaN</td>\n",
       "      <td>NaN</td>\n",
       "      <td>NaN</td>\n",
       "      <td>NaN</td>\n",
       "      <td>NaN</td>\n",
       "      <td>1180.0</td>\n",
       "    </tr>\n",
       "    <tr>\n",
       "      <th>6</th>\n",
       "      <td>Command R+</td>\n",
       "      <td>2024-08-13</td>\n",
       "      <td>6.0000</td>\n",
       "      <td>NaN</td>\n",
       "      <td>NaN</td>\n",
       "      <td>NaN</td>\n",
       "      <td>75.7</td>\n",
       "      <td>NaN</td>\n",
       "      <td>NaN</td>\n",
       "      <td>NaN</td>\n",
       "      <td>NaN</td>\n",
       "      <td>1215.0</td>\n",
       "    </tr>\n",
       "    <tr>\n",
       "      <th>7</th>\n",
       "      <td>Command R+</td>\n",
       "      <td>2024-09-13</td>\n",
       "      <td>4.3750</td>\n",
       "      <td>NaN</td>\n",
       "      <td>NaN</td>\n",
       "      <td>NaN</td>\n",
       "      <td>75.7</td>\n",
       "      <td>NaN</td>\n",
       "      <td>NaN</td>\n",
       "      <td>NaN</td>\n",
       "      <td>NaN</td>\n",
       "      <td>1215.0</td>\n",
       "    </tr>\n",
       "    <tr>\n",
       "      <th>8</th>\n",
       "      <td>DeepSeek-Coder-V2 236B</td>\n",
       "      <td>2024-09-11</td>\n",
       "      <td>0.1750</td>\n",
       "      <td>NaN</td>\n",
       "      <td>NaN</td>\n",
       "      <td>NaN</td>\n",
       "      <td>79.2</td>\n",
       "      <td>NaN</td>\n",
       "      <td>NaN</td>\n",
       "      <td>NaN</td>\n",
       "      <td>NaN</td>\n",
       "      <td>1178.0</td>\n",
       "    </tr>\n",
       "    <tr>\n",
       "      <th>9</th>\n",
       "      <td>DeepSeek-R1</td>\n",
       "      <td>2025-01-20</td>\n",
       "      <td>0.9600</td>\n",
       "      <td>NaN</td>\n",
       "      <td>NaN</td>\n",
       "      <td>NaN</td>\n",
       "      <td>NaN</td>\n",
       "      <td>71.7</td>\n",
       "      <td>93.1</td>\n",
       "      <td>NaN</td>\n",
       "      <td>NaN</td>\n",
       "      <td>1362.0</td>\n",
       "    </tr>\n",
       "    <tr>\n",
       "      <th>10</th>\n",
       "      <td>DeepSeek-V3</td>\n",
       "      <td>2024-12-26</td>\n",
       "      <td>0.4775</td>\n",
       "      <td>NaN</td>\n",
       "      <td>NaN</td>\n",
       "      <td>NaN</td>\n",
       "      <td>NaN</td>\n",
       "      <td>57.0</td>\n",
       "      <td>65.0</td>\n",
       "      <td>NaN</td>\n",
       "      <td>NaN</td>\n",
       "      <td>1318.0</td>\n",
       "    </tr>\n",
       "    <tr>\n",
       "      <th>11</th>\n",
       "      <td>Gemini 1.0 Pro</td>\n",
       "      <td>2024-08-12</td>\n",
       "      <td>0.7500</td>\n",
       "      <td>NaN</td>\n",
       "      <td>NaN</td>\n",
       "      <td>NaN</td>\n",
       "      <td>71.8</td>\n",
       "      <td>34.4</td>\n",
       "      <td>11.0</td>\n",
       "      <td>NaN</td>\n",
       "      <td>NaN</td>\n",
       "      <td>1131.0</td>\n",
       "    </tr>\n",
       "    <tr>\n",
       "      <th>12</th>\n",
       "      <td>GPT-3 175B (davinci)</td>\n",
       "      <td>2021-11-20</td>\n",
       "      <td>60.0000</td>\n",
       "      <td>NaN</td>\n",
       "      <td>NaN</td>\n",
       "      <td>NaN</td>\n",
       "      <td>43.9</td>\n",
       "      <td>NaN</td>\n",
       "      <td>NaN</td>\n",
       "      <td>NaN</td>\n",
       "      <td>NaN</td>\n",
       "      <td>NaN</td>\n",
       "    </tr>\n",
       "    <tr>\n",
       "      <th>13</th>\n",
       "      <td>GPT-3 175B (davinci)</td>\n",
       "      <td>2022-08-31</td>\n",
       "      <td>60.0000</td>\n",
       "      <td>NaN</td>\n",
       "      <td>NaN</td>\n",
       "      <td>NaN</td>\n",
       "      <td>43.9</td>\n",
       "      <td>NaN</td>\n",
       "      <td>NaN</td>\n",
       "      <td>NaN</td>\n",
       "      <td>NaN</td>\n",
       "      <td>NaN</td>\n",
       "    </tr>\n",
       "    <tr>\n",
       "      <th>14</th>\n",
       "      <td>GPT-3 175B (davinci)</td>\n",
       "      <td>2022-09-01</td>\n",
       "      <td>20.0000</td>\n",
       "      <td>NaN</td>\n",
       "      <td>NaN</td>\n",
       "      <td>NaN</td>\n",
       "      <td>43.9</td>\n",
       "      <td>NaN</td>\n",
       "      <td>NaN</td>\n",
       "      <td>NaN</td>\n",
       "      <td>NaN</td>\n",
       "      <td>NaN</td>\n",
       "    </tr>\n",
       "    <tr>\n",
       "      <th>15</th>\n",
       "      <td>GPT-3 175B (davinci)</td>\n",
       "      <td>2024-01-04</td>\n",
       "      <td>20.0000</td>\n",
       "      <td>NaN</td>\n",
       "      <td>NaN</td>\n",
       "      <td>NaN</td>\n",
       "      <td>63.1</td>\n",
       "      <td>NaN</td>\n",
       "      <td>NaN</td>\n",
       "      <td>NaN</td>\n",
       "      <td>NaN</td>\n",
       "      <td>NaN</td>\n",
       "    </tr>\n",
       "    <tr>\n",
       "      <th>16</th>\n",
       "      <td>GPT-3.5</td>\n",
       "      <td>2022-11-30</td>\n",
       "      <td>20.0000</td>\n",
       "      <td>NaN</td>\n",
       "      <td>NaN</td>\n",
       "      <td>NaN</td>\n",
       "      <td>64.8</td>\n",
       "      <td>NaN</td>\n",
       "      <td>NaN</td>\n",
       "      <td>NaN</td>\n",
       "      <td>NaN</td>\n",
       "      <td>NaN</td>\n",
       "    </tr>\n",
       "    <tr>\n",
       "      <th>17</th>\n",
       "      <td>GPT-3.5 Turbo</td>\n",
       "      <td>2023-06-13</td>\n",
       "      <td>3.2500</td>\n",
       "      <td>NaN</td>\n",
       "      <td>NaN</td>\n",
       "      <td>NaN</td>\n",
       "      <td>68.0</td>\n",
       "      <td>28.8</td>\n",
       "      <td>15.0</td>\n",
       "      <td>44.0</td>\n",
       "      <td>71.0</td>\n",
       "      <td>1117.0</td>\n",
       "    </tr>\n",
       "    <tr>\n",
       "      <th>18</th>\n",
       "      <td>GPT-3.5 Turbo</td>\n",
       "      <td>2024-01-25</td>\n",
       "      <td>0.7500</td>\n",
       "      <td>NaN</td>\n",
       "      <td>NaN</td>\n",
       "      <td>NaN</td>\n",
       "      <td>68.0</td>\n",
       "      <td>30.0</td>\n",
       "      <td>11.0</td>\n",
       "      <td>44.0</td>\n",
       "      <td>71.0</td>\n",
       "      <td>1106.0</td>\n",
       "    </tr>\n",
       "    <tr>\n",
       "      <th>19</th>\n",
       "      <td>GPT-3.5 Turbo</td>\n",
       "      <td>2023-03-06</td>\n",
       "      <td>2.0000</td>\n",
       "      <td>NaN</td>\n",
       "      <td>NaN</td>\n",
       "      <td>NaN</td>\n",
       "      <td>68.0</td>\n",
       "      <td>NaN</td>\n",
       "      <td>NaN</td>\n",
       "      <td>NaN</td>\n",
       "      <td>NaN</td>\n",
       "      <td>1106.0</td>\n",
       "    </tr>\n",
       "    <tr>\n",
       "      <th>20</th>\n",
       "      <td>Jamba 1.5-Large</td>\n",
       "      <td>2024-09-12</td>\n",
       "      <td>3.5000</td>\n",
       "      <td>NaN</td>\n",
       "      <td>NaN</td>\n",
       "      <td>NaN</td>\n",
       "      <td>80.0</td>\n",
       "      <td>NaN</td>\n",
       "      <td>NaN</td>\n",
       "      <td>NaN</td>\n",
       "      <td>NaN</td>\n",
       "      <td>1221.0</td>\n",
       "    </tr>\n",
       "    <tr>\n",
       "      <th>21</th>\n",
       "      <td>Llama 2-13B</td>\n",
       "      <td>2023-12-08</td>\n",
       "      <td>0.3500</td>\n",
       "      <td>NaN</td>\n",
       "      <td>NaN</td>\n",
       "      <td>NaN</td>\n",
       "      <td>54.8</td>\n",
       "      <td>NaN</td>\n",
       "      <td>NaN</td>\n",
       "      <td>NaN</td>\n",
       "      <td>NaN</td>\n",
       "      <td>NaN</td>\n",
       "    </tr>\n",
       "    <tr>\n",
       "      <th>22</th>\n",
       "      <td>Llama 2-13B</td>\n",
       "      <td>2024-04-14</td>\n",
       "      <td>0.2200</td>\n",
       "      <td>NaN</td>\n",
       "      <td>NaN</td>\n",
       "      <td>NaN</td>\n",
       "      <td>54.8</td>\n",
       "      <td>NaN</td>\n",
       "      <td>NaN</td>\n",
       "      <td>NaN</td>\n",
       "      <td>NaN</td>\n",
       "      <td>NaN</td>\n",
       "    </tr>\n",
       "    <tr>\n",
       "      <th>23</th>\n",
       "      <td>Llama 2-70B Chat</td>\n",
       "      <td>2023-12-01</td>\n",
       "      <td>0.7625</td>\n",
       "      <td>NaN</td>\n",
       "      <td>NaN</td>\n",
       "      <td>NaN</td>\n",
       "      <td>68.9</td>\n",
       "      <td>26.0</td>\n",
       "      <td>3.0</td>\n",
       "      <td>NaN</td>\n",
       "      <td>NaN</td>\n",
       "      <td>1093.0</td>\n",
       "    </tr>\n",
       "    <tr>\n",
       "      <th>24</th>\n",
       "      <td>Llama 2-7B</td>\n",
       "      <td>2023-12-01</td>\n",
       "      <td>0.2000</td>\n",
       "      <td>NaN</td>\n",
       "      <td>NaN</td>\n",
       "      <td>NaN</td>\n",
       "      <td>45.3</td>\n",
       "      <td>NaN</td>\n",
       "      <td>NaN</td>\n",
       "      <td>NaN</td>\n",
       "      <td>NaN</td>\n",
       "      <td>NaN</td>\n",
       "    </tr>\n",
       "    <tr>\n",
       "      <th>25</th>\n",
       "      <td>Llama 2-7B</td>\n",
       "      <td>2024-04-14</td>\n",
       "      <td>0.1300</td>\n",
       "      <td>NaN</td>\n",
       "      <td>NaN</td>\n",
       "      <td>NaN</td>\n",
       "      <td>45.3</td>\n",
       "      <td>NaN</td>\n",
       "      <td>NaN</td>\n",
       "      <td>NaN</td>\n",
       "      <td>NaN</td>\n",
       "      <td>NaN</td>\n",
       "    </tr>\n",
       "    <tr>\n",
       "      <th>26</th>\n",
       "      <td>Mistral 7B</td>\n",
       "      <td>2024-09-14</td>\n",
       "      <td>0.2500</td>\n",
       "      <td>NaN</td>\n",
       "      <td>NaN</td>\n",
       "      <td>NaN</td>\n",
       "      <td>60.1</td>\n",
       "      <td>14.0</td>\n",
       "      <td>3.0</td>\n",
       "      <td>NaN</td>\n",
       "      <td>NaN</td>\n",
       "      <td>NaN</td>\n",
       "    </tr>\n",
       "    <tr>\n",
       "      <th>27</th>\n",
       "      <td>o1</td>\n",
       "      <td>2024-12-17</td>\n",
       "      <td>26.2500</td>\n",
       "      <td>NaN</td>\n",
       "      <td>NaN</td>\n",
       "      <td>NaN</td>\n",
       "      <td>NaN</td>\n",
       "      <td>75.8</td>\n",
       "      <td>94.4</td>\n",
       "      <td>NaN</td>\n",
       "      <td>NaN</td>\n",
       "      <td>1352.0</td>\n",
       "    </tr>\n",
       "    <tr>\n",
       "      <th>28</th>\n",
       "      <td>o1-mini</td>\n",
       "      <td>2024-09-12</td>\n",
       "      <td>5.2500</td>\n",
       "      <td>NaN</td>\n",
       "      <td>NaN</td>\n",
       "      <td>NaN</td>\n",
       "      <td>NaN</td>\n",
       "      <td>59.5</td>\n",
       "      <td>84.3</td>\n",
       "      <td>NaN</td>\n",
       "      <td>NaN</td>\n",
       "      <td>1304.0</td>\n",
       "    </tr>\n",
       "    <tr>\n",
       "      <th>29</th>\n",
       "      <td>o1-mini</td>\n",
       "      <td>2025-01-31</td>\n",
       "      <td>1.9250</td>\n",
       "      <td>NaN</td>\n",
       "      <td>NaN</td>\n",
       "      <td>NaN</td>\n",
       "      <td>NaN</td>\n",
       "      <td>59.5</td>\n",
       "      <td>84.3</td>\n",
       "      <td>NaN</td>\n",
       "      <td>NaN</td>\n",
       "      <td>1304.0</td>\n",
       "    </tr>\n",
       "    <tr>\n",
       "      <th>30</th>\n",
       "      <td>o1-preview</td>\n",
       "      <td>2024-09-12</td>\n",
       "      <td>26.2500</td>\n",
       "      <td>NaN</td>\n",
       "      <td>NaN</td>\n",
       "      <td>NaN</td>\n",
       "      <td>NaN</td>\n",
       "      <td>69.7</td>\n",
       "      <td>68.0</td>\n",
       "      <td>NaN</td>\n",
       "      <td>NaN</td>\n",
       "      <td>1335.0</td>\n",
       "    </tr>\n",
       "    <tr>\n",
       "      <th>31</th>\n",
       "      <td>o3-mini</td>\n",
       "      <td>2025-01-31</td>\n",
       "      <td>1.9250</td>\n",
       "      <td>NaN</td>\n",
       "      <td>NaN</td>\n",
       "      <td>NaN</td>\n",
       "      <td>NaN</td>\n",
       "      <td>74.3</td>\n",
       "      <td>95.2</td>\n",
       "      <td>NaN</td>\n",
       "      <td>NaN</td>\n",
       "      <td>1306.0</td>\n",
       "    </tr>\n",
       "    <tr>\n",
       "      <th>32</th>\n",
       "      <td>Reka Core</td>\n",
       "      <td>2024-09-14</td>\n",
       "      <td>4.0000</td>\n",
       "      <td>NaN</td>\n",
       "      <td>NaN</td>\n",
       "      <td>NaN</td>\n",
       "      <td>83.2</td>\n",
       "      <td>NaN</td>\n",
       "      <td>NaN</td>\n",
       "      <td>NaN</td>\n",
       "      <td>NaN</td>\n",
       "      <td>1235.0</td>\n",
       "    </tr>\n",
       "  </tbody>\n",
       "</table>\n",
       "</div>"
      ],
      "text/plain": [
       "                Model Name Release Date  USD per 1M Tokens  Tokens per Second  \\\n",
       "0                 Claude 2   2024-08-12            12.0000                NaN   \n",
       "1               Claude 2.1   2024-08-12            12.0000                NaN   \n",
       "2           Claude Instant   2024-08-12             1.2000                NaN   \n",
       "3           Cohere Command   2024-08-13             1.6250                NaN   \n",
       "4     Cohere Command Light   2024-08-13             0.3750                NaN   \n",
       "5                Command R   2024-08-13             0.7500                NaN   \n",
       "6               Command R+   2024-08-13             6.0000                NaN   \n",
       "7               Command R+   2024-09-13             4.3750                NaN   \n",
       "8   DeepSeek-Coder-V2 236B   2024-09-11             0.1750                NaN   \n",
       "9              DeepSeek-R1   2025-01-20             0.9600                NaN   \n",
       "10             DeepSeek-V3   2024-12-26             0.4775                NaN   \n",
       "11          Gemini 1.0 Pro   2024-08-12             0.7500                NaN   \n",
       "12    GPT-3 175B (davinci)   2021-11-20            60.0000                NaN   \n",
       "13    GPT-3 175B (davinci)   2022-08-31            60.0000                NaN   \n",
       "14    GPT-3 175B (davinci)   2022-09-01            20.0000                NaN   \n",
       "15    GPT-3 175B (davinci)   2024-01-04            20.0000                NaN   \n",
       "16                 GPT-3.5   2022-11-30            20.0000                NaN   \n",
       "17           GPT-3.5 Turbo   2023-06-13             3.2500                NaN   \n",
       "18           GPT-3.5 Turbo   2024-01-25             0.7500                NaN   \n",
       "19           GPT-3.5 Turbo   2023-03-06             2.0000                NaN   \n",
       "20         Jamba 1.5-Large   2024-09-12             3.5000                NaN   \n",
       "21             Llama 2-13B   2023-12-08             0.3500                NaN   \n",
       "22             Llama 2-13B   2024-04-14             0.2200                NaN   \n",
       "23        Llama 2-70B Chat   2023-12-01             0.7625                NaN   \n",
       "24              Llama 2-7B   2023-12-01             0.2000                NaN   \n",
       "25              Llama 2-7B   2024-04-14             0.1300                NaN   \n",
       "26              Mistral 7B   2024-09-14             0.2500                NaN   \n",
       "27                      o1   2024-12-17            26.2500                NaN   \n",
       "28                 o1-mini   2024-09-12             5.2500                NaN   \n",
       "29                 o1-mini   2025-01-31             1.9250                NaN   \n",
       "30              o1-preview   2024-09-12            26.2500                NaN   \n",
       "31                 o3-mini   2025-01-31             1.9250                NaN   \n",
       "32               Reka Core   2024-09-14             4.0000                NaN   \n",
       "\n",
       "    Prefill Latency (s)  Prompt Length (tk)  MMLU  GPQA Diamond  MATH 5  \\\n",
       "0                   NaN                 NaN  78.5          35.0    10.0   \n",
       "1                   NaN                 NaN   NaN          36.0    11.0   \n",
       "2                   NaN                 NaN   NaN           NaN     NaN   \n",
       "3                   NaN                 NaN   NaN           NaN     NaN   \n",
       "4                   NaN                 NaN   NaN           NaN     NaN   \n",
       "5                   NaN                 NaN   NaN           NaN     NaN   \n",
       "6                   NaN                 NaN  75.7           NaN     NaN   \n",
       "7                   NaN                 NaN  75.7           NaN     NaN   \n",
       "8                   NaN                 NaN  79.2           NaN     NaN   \n",
       "9                   NaN                 NaN   NaN          71.7    93.1   \n",
       "10                  NaN                 NaN   NaN          57.0    65.0   \n",
       "11                  NaN                 NaN  71.8          34.4    11.0   \n",
       "12                  NaN                 NaN  43.9           NaN     NaN   \n",
       "13                  NaN                 NaN  43.9           NaN     NaN   \n",
       "14                  NaN                 NaN  43.9           NaN     NaN   \n",
       "15                  NaN                 NaN  63.1           NaN     NaN   \n",
       "16                  NaN                 NaN  64.8           NaN     NaN   \n",
       "17                  NaN                 NaN  68.0          28.8    15.0   \n",
       "18                  NaN                 NaN  68.0          30.0    11.0   \n",
       "19                  NaN                 NaN  68.0           NaN     NaN   \n",
       "20                  NaN                 NaN  80.0           NaN     NaN   \n",
       "21                  NaN                 NaN  54.8           NaN     NaN   \n",
       "22                  NaN                 NaN  54.8           NaN     NaN   \n",
       "23                  NaN                 NaN  68.9          26.0     3.0   \n",
       "24                  NaN                 NaN  45.3           NaN     NaN   \n",
       "25                  NaN                 NaN  45.3           NaN     NaN   \n",
       "26                  NaN                 NaN  60.1          14.0     3.0   \n",
       "27                  NaN                 NaN   NaN          75.8    94.4   \n",
       "28                  NaN                 NaN   NaN          59.5    84.3   \n",
       "29                  NaN                 NaN   NaN          59.5    84.3   \n",
       "30                  NaN                 NaN   NaN          69.7    68.0   \n",
       "31                  NaN                 NaN   NaN          74.3    95.2   \n",
       "32                  NaN                 NaN  83.2           NaN     NaN   \n",
       "\n",
       "    MATH-500  HumanEval  LMSys Chatbot Arena ELO  \n",
       "0        NaN        NaN                      NaN  \n",
       "1        NaN        NaN                      NaN  \n",
       "2        NaN        NaN                      NaN  \n",
       "3        NaN        NaN                      NaN  \n",
       "4        NaN        NaN                      NaN  \n",
       "5        NaN        NaN                   1180.0  \n",
       "6        NaN        NaN                   1215.0  \n",
       "7        NaN        NaN                   1215.0  \n",
       "8        NaN        NaN                   1178.0  \n",
       "9        NaN        NaN                   1362.0  \n",
       "10       NaN        NaN                   1318.0  \n",
       "11       NaN        NaN                   1131.0  \n",
       "12       NaN        NaN                      NaN  \n",
       "13       NaN        NaN                      NaN  \n",
       "14       NaN        NaN                      NaN  \n",
       "15       NaN        NaN                      NaN  \n",
       "16       NaN        NaN                      NaN  \n",
       "17      44.0       71.0                   1117.0  \n",
       "18      44.0       71.0                   1106.0  \n",
       "19       NaN        NaN                   1106.0  \n",
       "20       NaN        NaN                   1221.0  \n",
       "21       NaN        NaN                      NaN  \n",
       "22       NaN        NaN                      NaN  \n",
       "23       NaN        NaN                   1093.0  \n",
       "24       NaN        NaN                      NaN  \n",
       "25       NaN        NaN                      NaN  \n",
       "26       NaN        NaN                      NaN  \n",
       "27       NaN        NaN                   1352.0  \n",
       "28       NaN        NaN                   1304.0  \n",
       "29       NaN        NaN                   1304.0  \n",
       "30       NaN        NaN                   1335.0  \n",
       "31       NaN        NaN                   1306.0  \n",
       "32       NaN        NaN                   1235.0  "
      ]
     },
     "execution_count": 6,
     "metadata": {},
     "output_type": "execute_result"
    }
   ],
   "source": [
    "api_price_df = pd.read_csv('data/epoch_ai_price_data_not_in_aa_with_benchmarks.csv')\n",
    "api_price_df['Release Date'] = pd.to_datetime(api_price_df['Release Date'].str.strip(), format='%Y-%m-%d')\n",
    "api_price_df"
   ]
  },
  {
   "cell_type": "code",
   "execution_count": 7,
   "metadata": {},
   "outputs": [
    {
     "data": {
      "text/html": [
       "<div>\n",
       "<style scoped>\n",
       "    .dataframe tbody tr th:only-of-type {\n",
       "        vertical-align: middle;\n",
       "    }\n",
       "\n",
       "    .dataframe tbody tr th {\n",
       "        vertical-align: top;\n",
       "    }\n",
       "\n",
       "    .dataframe thead th {\n",
       "        text-align: right;\n",
       "    }\n",
       "</style>\n",
       "<table border=\"1\" class=\"dataframe\">\n",
       "  <thead>\n",
       "    <tr style=\"text-align: right;\">\n",
       "      <th></th>\n",
       "      <th>Model Name</th>\n",
       "      <th>Release Date</th>\n",
       "      <th>USD per 1M Tokens</th>\n",
       "      <th>Tokens per Second</th>\n",
       "      <th>Prefill Latency (s)</th>\n",
       "      <th>Prompt Length (tk)</th>\n",
       "      <th>MMLU</th>\n",
       "      <th>GPQA Diamond</th>\n",
       "      <th>MATH-500</th>\n",
       "      <th>HumanEval</th>\n",
       "      <th>LMSys Chatbot Arena ELO</th>\n",
       "      <th>MATH 5</th>\n",
       "    </tr>\n",
       "  </thead>\n",
       "  <tbody>\n",
       "    <tr>\n",
       "      <th>0</th>\n",
       "      <td>GPT-3 175B (davinci)</td>\n",
       "      <td>2021-11-20</td>\n",
       "      <td>60.000</td>\n",
       "      <td>NaN</td>\n",
       "      <td>NaN</td>\n",
       "      <td>NaN</td>\n",
       "      <td>43.9</td>\n",
       "      <td>NaN</td>\n",
       "      <td>NaN</td>\n",
       "      <td>NaN</td>\n",
       "      <td>NaN</td>\n",
       "      <td>NaN</td>\n",
       "    </tr>\n",
       "    <tr>\n",
       "      <th>1</th>\n",
       "      <td>GPT-3 175B (davinci)</td>\n",
       "      <td>2022-08-31</td>\n",
       "      <td>60.000</td>\n",
       "      <td>NaN</td>\n",
       "      <td>NaN</td>\n",
       "      <td>NaN</td>\n",
       "      <td>43.9</td>\n",
       "      <td>NaN</td>\n",
       "      <td>NaN</td>\n",
       "      <td>NaN</td>\n",
       "      <td>NaN</td>\n",
       "      <td>NaN</td>\n",
       "    </tr>\n",
       "    <tr>\n",
       "      <th>2</th>\n",
       "      <td>GPT-3 175B (davinci)</td>\n",
       "      <td>2022-09-01</td>\n",
       "      <td>20.000</td>\n",
       "      <td>NaN</td>\n",
       "      <td>NaN</td>\n",
       "      <td>NaN</td>\n",
       "      <td>43.9</td>\n",
       "      <td>NaN</td>\n",
       "      <td>NaN</td>\n",
       "      <td>NaN</td>\n",
       "      <td>NaN</td>\n",
       "      <td>NaN</td>\n",
       "    </tr>\n",
       "    <tr>\n",
       "      <th>3</th>\n",
       "      <td>GPT-3.5</td>\n",
       "      <td>2022-11-30</td>\n",
       "      <td>20.000</td>\n",
       "      <td>NaN</td>\n",
       "      <td>NaN</td>\n",
       "      <td>NaN</td>\n",
       "      <td>64.8</td>\n",
       "      <td>NaN</td>\n",
       "      <td>NaN</td>\n",
       "      <td>NaN</td>\n",
       "      <td>NaN</td>\n",
       "      <td>NaN</td>\n",
       "    </tr>\n",
       "    <tr>\n",
       "      <th>4</th>\n",
       "      <td>GPT-4</td>\n",
       "      <td>2023-03-01</td>\n",
       "      <td>37.500</td>\n",
       "      <td>23.6</td>\n",
       "      <td>0.724</td>\n",
       "      <td>1000.0</td>\n",
       "      <td>86.0</td>\n",
       "      <td>33.0</td>\n",
       "      <td>21.0</td>\n",
       "      <td>67.0</td>\n",
       "      <td>1186.0</td>\n",
       "      <td>23.0</td>\n",
       "    </tr>\n",
       "    <tr>\n",
       "      <th>...</th>\n",
       "      <td>...</td>\n",
       "      <td>...</td>\n",
       "      <td>...</td>\n",
       "      <td>...</td>\n",
       "      <td>...</td>\n",
       "      <td>...</td>\n",
       "      <td>...</td>\n",
       "      <td>...</td>\n",
       "      <td>...</td>\n",
       "      <td>...</td>\n",
       "      <td>...</td>\n",
       "      <td>...</td>\n",
       "    </tr>\n",
       "    <tr>\n",
       "      <th>66</th>\n",
       "      <td>Mistral Small 3</td>\n",
       "      <td>2025-01-01</td>\n",
       "      <td>0.475</td>\n",
       "      <td>NaN</td>\n",
       "      <td>NaN</td>\n",
       "      <td>NaN</td>\n",
       "      <td>82.0</td>\n",
       "      <td>46.0</td>\n",
       "      <td>74.0</td>\n",
       "      <td>85.0</td>\n",
       "      <td>1210.0</td>\n",
       "      <td>45.0</td>\n",
       "    </tr>\n",
       "    <tr>\n",
       "      <th>67</th>\n",
       "      <td>DeepSeek-R1</td>\n",
       "      <td>2025-01-20</td>\n",
       "      <td>0.960</td>\n",
       "      <td>NaN</td>\n",
       "      <td>NaN</td>\n",
       "      <td>NaN</td>\n",
       "      <td>NaN</td>\n",
       "      <td>71.7</td>\n",
       "      <td>NaN</td>\n",
       "      <td>NaN</td>\n",
       "      <td>1362.0</td>\n",
       "      <td>93.1</td>\n",
       "    </tr>\n",
       "    <tr>\n",
       "      <th>68</th>\n",
       "      <td>o3-mini</td>\n",
       "      <td>2025-01-31</td>\n",
       "      <td>1.925</td>\n",
       "      <td>NaN</td>\n",
       "      <td>NaN</td>\n",
       "      <td>NaN</td>\n",
       "      <td>NaN</td>\n",
       "      <td>74.3</td>\n",
       "      <td>NaN</td>\n",
       "      <td>NaN</td>\n",
       "      <td>1306.0</td>\n",
       "      <td>95.2</td>\n",
       "    </tr>\n",
       "    <tr>\n",
       "      <th>69</th>\n",
       "      <td>o1-mini</td>\n",
       "      <td>2025-01-31</td>\n",
       "      <td>1.925</td>\n",
       "      <td>NaN</td>\n",
       "      <td>NaN</td>\n",
       "      <td>NaN</td>\n",
       "      <td>NaN</td>\n",
       "      <td>59.5</td>\n",
       "      <td>NaN</td>\n",
       "      <td>NaN</td>\n",
       "      <td>1304.0</td>\n",
       "      <td>84.3</td>\n",
       "    </tr>\n",
       "    <tr>\n",
       "      <th>70</th>\n",
       "      <td>Gemini 2.0 Flash</td>\n",
       "      <td>2025-02-01</td>\n",
       "      <td>0.175</td>\n",
       "      <td>NaN</td>\n",
       "      <td>NaN</td>\n",
       "      <td>NaN</td>\n",
       "      <td>88.0</td>\n",
       "      <td>62.0</td>\n",
       "      <td>93.0</td>\n",
       "      <td>90.0</td>\n",
       "      <td>1358.0</td>\n",
       "      <td>82.0</td>\n",
       "    </tr>\n",
       "  </tbody>\n",
       "</table>\n",
       "<p>71 rows × 12 columns</p>\n",
       "</div>"
      ],
      "text/plain": [
       "              Model Name Release Date  USD per 1M Tokens  Tokens per Second  \\\n",
       "0   GPT-3 175B (davinci)   2021-11-20             60.000                NaN   \n",
       "1   GPT-3 175B (davinci)   2022-08-31             60.000                NaN   \n",
       "2   GPT-3 175B (davinci)   2022-09-01             20.000                NaN   \n",
       "3                GPT-3.5   2022-11-30             20.000                NaN   \n",
       "4                  GPT-4   2023-03-01             37.500               23.6   \n",
       "..                   ...          ...                ...                ...   \n",
       "66       Mistral Small 3   2025-01-01              0.475                NaN   \n",
       "67           DeepSeek-R1   2025-01-20              0.960                NaN   \n",
       "68               o3-mini   2025-01-31              1.925                NaN   \n",
       "69               o1-mini   2025-01-31              1.925                NaN   \n",
       "70      Gemini 2.0 Flash   2025-02-01              0.175                NaN   \n",
       "\n",
       "    Prefill Latency (s)  Prompt Length (tk)  MMLU  GPQA Diamond  MATH-500  \\\n",
       "0                   NaN                 NaN  43.9           NaN       NaN   \n",
       "1                   NaN                 NaN  43.9           NaN       NaN   \n",
       "2                   NaN                 NaN  43.9           NaN       NaN   \n",
       "3                   NaN                 NaN  64.8           NaN       NaN   \n",
       "4                 0.724              1000.0  86.0          33.0      21.0   \n",
       "..                  ...                 ...   ...           ...       ...   \n",
       "66                  NaN                 NaN  82.0          46.0      74.0   \n",
       "67                  NaN                 NaN   NaN          71.7       NaN   \n",
       "68                  NaN                 NaN   NaN          74.3       NaN   \n",
       "69                  NaN                 NaN   NaN          59.5       NaN   \n",
       "70                  NaN                 NaN  88.0          62.0      93.0   \n",
       "\n",
       "    HumanEval  LMSys Chatbot Arena ELO  MATH 5  \n",
       "0         NaN                      NaN     NaN  \n",
       "1         NaN                      NaN     NaN  \n",
       "2         NaN                      NaN     NaN  \n",
       "3         NaN                      NaN     NaN  \n",
       "4        67.0                   1186.0    23.0  \n",
       "..        ...                      ...     ...  \n",
       "66       85.0                   1210.0    45.0  \n",
       "67        NaN                   1362.0    93.1  \n",
       "68        NaN                   1306.0    95.2  \n",
       "69        NaN                   1304.0    84.3  \n",
       "70       90.0                   1358.0    82.0  \n",
       "\n",
       "[71 rows x 12 columns]"
      ]
     },
     "execution_count": 7,
     "metadata": {},
     "output_type": "execute_result"
    }
   ],
   "source": [
    "# Merge the two datasets\n",
    "aa_df = pd.concat([aa_df, api_price_df])\n",
    "aa_df.sort_values(by='Release Date', inplace=True)\n",
    "# Reset the index\n",
    "aa_df.reset_index(drop=True, inplace=True)\n",
    "aa_df"
   ]
  },
  {
   "cell_type": "code",
   "execution_count": 8,
   "metadata": {},
   "outputs": [
    {
     "data": {
      "text/html": [
       "<div>\n",
       "<style scoped>\n",
       "    .dataframe tbody tr th:only-of-type {\n",
       "        vertical-align: middle;\n",
       "    }\n",
       "\n",
       "    .dataframe tbody tr th {\n",
       "        vertical-align: top;\n",
       "    }\n",
       "\n",
       "    .dataframe thead th {\n",
       "        text-align: right;\n",
       "    }\n",
       "</style>\n",
       "<table border=\"1\" class=\"dataframe\">\n",
       "  <thead>\n",
       "    <tr style=\"text-align: right;\">\n",
       "      <th></th>\n",
       "      <th>Model Name</th>\n",
       "      <th>Release Date</th>\n",
       "      <th>USD per 1M Tokens</th>\n",
       "      <th>Tokens per Second</th>\n",
       "      <th>Prefill Latency (s)</th>\n",
       "      <th>Prompt Length (tk)</th>\n",
       "      <th>MMLU</th>\n",
       "      <th>GPQA Diamond</th>\n",
       "      <th>MATH-500</th>\n",
       "      <th>HumanEval</th>\n",
       "      <th>LMSys Chatbot Arena ELO</th>\n",
       "      <th>MATH 5</th>\n",
       "    </tr>\n",
       "  </thead>\n",
       "  <tbody>\n",
       "    <tr>\n",
       "      <th>0</th>\n",
       "      <td>GPT-3</td>\n",
       "      <td>2021-11-20</td>\n",
       "      <td>60.000</td>\n",
       "      <td>NaN</td>\n",
       "      <td>NaN</td>\n",
       "      <td>NaN</td>\n",
       "      <td>43.9</td>\n",
       "      <td>NaN</td>\n",
       "      <td>NaN</td>\n",
       "      <td>NaN</td>\n",
       "      <td>NaN</td>\n",
       "      <td>NaN</td>\n",
       "    </tr>\n",
       "    <tr>\n",
       "      <th>1</th>\n",
       "      <td>GPT-3</td>\n",
       "      <td>2022-08-31</td>\n",
       "      <td>60.000</td>\n",
       "      <td>NaN</td>\n",
       "      <td>NaN</td>\n",
       "      <td>NaN</td>\n",
       "      <td>43.9</td>\n",
       "      <td>NaN</td>\n",
       "      <td>NaN</td>\n",
       "      <td>NaN</td>\n",
       "      <td>NaN</td>\n",
       "      <td>NaN</td>\n",
       "    </tr>\n",
       "    <tr>\n",
       "      <th>2</th>\n",
       "      <td>GPT-3</td>\n",
       "      <td>2022-09-01</td>\n",
       "      <td>20.000</td>\n",
       "      <td>NaN</td>\n",
       "      <td>NaN</td>\n",
       "      <td>NaN</td>\n",
       "      <td>43.9</td>\n",
       "      <td>NaN</td>\n",
       "      <td>NaN</td>\n",
       "      <td>NaN</td>\n",
       "      <td>NaN</td>\n",
       "      <td>NaN</td>\n",
       "    </tr>\n",
       "    <tr>\n",
       "      <th>3</th>\n",
       "      <td>GPT-3.5</td>\n",
       "      <td>2022-11-30</td>\n",
       "      <td>20.000</td>\n",
       "      <td>NaN</td>\n",
       "      <td>NaN</td>\n",
       "      <td>NaN</td>\n",
       "      <td>64.8</td>\n",
       "      <td>NaN</td>\n",
       "      <td>NaN</td>\n",
       "      <td>NaN</td>\n",
       "      <td>NaN</td>\n",
       "      <td>NaN</td>\n",
       "    </tr>\n",
       "    <tr>\n",
       "      <th>4</th>\n",
       "      <td>GPT-4</td>\n",
       "      <td>2023-03-01</td>\n",
       "      <td>37.500</td>\n",
       "      <td>23.6</td>\n",
       "      <td>0.724</td>\n",
       "      <td>1000.0</td>\n",
       "      <td>86.0</td>\n",
       "      <td>33.0</td>\n",
       "      <td>21.0</td>\n",
       "      <td>67.0</td>\n",
       "      <td>1186.0</td>\n",
       "      <td>23.0</td>\n",
       "    </tr>\n",
       "    <tr>\n",
       "      <th>...</th>\n",
       "      <td>...</td>\n",
       "      <td>...</td>\n",
       "      <td>...</td>\n",
       "      <td>...</td>\n",
       "      <td>...</td>\n",
       "      <td>...</td>\n",
       "      <td>...</td>\n",
       "      <td>...</td>\n",
       "      <td>...</td>\n",
       "      <td>...</td>\n",
       "      <td>...</td>\n",
       "      <td>...</td>\n",
       "    </tr>\n",
       "    <tr>\n",
       "      <th>66</th>\n",
       "      <td>Mistral Small 3</td>\n",
       "      <td>2025-01-01</td>\n",
       "      <td>0.475</td>\n",
       "      <td>NaN</td>\n",
       "      <td>NaN</td>\n",
       "      <td>NaN</td>\n",
       "      <td>82.0</td>\n",
       "      <td>46.0</td>\n",
       "      <td>74.0</td>\n",
       "      <td>85.0</td>\n",
       "      <td>1210.0</td>\n",
       "      <td>45.0</td>\n",
       "    </tr>\n",
       "    <tr>\n",
       "      <th>67</th>\n",
       "      <td>DeepSeek-R1</td>\n",
       "      <td>2025-01-20</td>\n",
       "      <td>0.960</td>\n",
       "      <td>NaN</td>\n",
       "      <td>NaN</td>\n",
       "      <td>NaN</td>\n",
       "      <td>NaN</td>\n",
       "      <td>71.7</td>\n",
       "      <td>NaN</td>\n",
       "      <td>NaN</td>\n",
       "      <td>1362.0</td>\n",
       "      <td>93.1</td>\n",
       "    </tr>\n",
       "    <tr>\n",
       "      <th>68</th>\n",
       "      <td>o3-mini</td>\n",
       "      <td>2025-01-31</td>\n",
       "      <td>1.925</td>\n",
       "      <td>NaN</td>\n",
       "      <td>NaN</td>\n",
       "      <td>NaN</td>\n",
       "      <td>NaN</td>\n",
       "      <td>74.3</td>\n",
       "      <td>NaN</td>\n",
       "      <td>NaN</td>\n",
       "      <td>1306.0</td>\n",
       "      <td>95.2</td>\n",
       "    </tr>\n",
       "    <tr>\n",
       "      <th>69</th>\n",
       "      <td>o1-mini</td>\n",
       "      <td>2025-01-31</td>\n",
       "      <td>1.925</td>\n",
       "      <td>NaN</td>\n",
       "      <td>NaN</td>\n",
       "      <td>NaN</td>\n",
       "      <td>NaN</td>\n",
       "      <td>59.5</td>\n",
       "      <td>NaN</td>\n",
       "      <td>NaN</td>\n",
       "      <td>1304.0</td>\n",
       "      <td>84.3</td>\n",
       "    </tr>\n",
       "    <tr>\n",
       "      <th>70</th>\n",
       "      <td>Gemini 2.0 Flash</td>\n",
       "      <td>2025-02-01</td>\n",
       "      <td>0.175</td>\n",
       "      <td>NaN</td>\n",
       "      <td>NaN</td>\n",
       "      <td>NaN</td>\n",
       "      <td>88.0</td>\n",
       "      <td>62.0</td>\n",
       "      <td>93.0</td>\n",
       "      <td>90.0</td>\n",
       "      <td>1358.0</td>\n",
       "      <td>82.0</td>\n",
       "    </tr>\n",
       "  </tbody>\n",
       "</table>\n",
       "<p>71 rows × 12 columns</p>\n",
       "</div>"
      ],
      "text/plain": [
       "          Model Name Release Date  USD per 1M Tokens  Tokens per Second  \\\n",
       "0              GPT-3   2021-11-20             60.000                NaN   \n",
       "1              GPT-3   2022-08-31             60.000                NaN   \n",
       "2              GPT-3   2022-09-01             20.000                NaN   \n",
       "3            GPT-3.5   2022-11-30             20.000                NaN   \n",
       "4              GPT-4   2023-03-01             37.500               23.6   \n",
       "..               ...          ...                ...                ...   \n",
       "66   Mistral Small 3   2025-01-01              0.475                NaN   \n",
       "67       DeepSeek-R1   2025-01-20              0.960                NaN   \n",
       "68           o3-mini   2025-01-31              1.925                NaN   \n",
       "69           o1-mini   2025-01-31              1.925                NaN   \n",
       "70  Gemini 2.0 Flash   2025-02-01              0.175                NaN   \n",
       "\n",
       "    Prefill Latency (s)  Prompt Length (tk)  MMLU  GPQA Diamond  MATH-500  \\\n",
       "0                   NaN                 NaN  43.9           NaN       NaN   \n",
       "1                   NaN                 NaN  43.9           NaN       NaN   \n",
       "2                   NaN                 NaN  43.9           NaN       NaN   \n",
       "3                   NaN                 NaN  64.8           NaN       NaN   \n",
       "4                 0.724              1000.0  86.0          33.0      21.0   \n",
       "..                  ...                 ...   ...           ...       ...   \n",
       "66                  NaN                 NaN  82.0          46.0      74.0   \n",
       "67                  NaN                 NaN   NaN          71.7       NaN   \n",
       "68                  NaN                 NaN   NaN          74.3       NaN   \n",
       "69                  NaN                 NaN   NaN          59.5       NaN   \n",
       "70                  NaN                 NaN  88.0          62.0      93.0   \n",
       "\n",
       "    HumanEval  LMSys Chatbot Arena ELO  MATH 5  \n",
       "0         NaN                      NaN     NaN  \n",
       "1         NaN                      NaN     NaN  \n",
       "2         NaN                      NaN     NaN  \n",
       "3         NaN                      NaN     NaN  \n",
       "4        67.0                   1186.0    23.0  \n",
       "..        ...                      ...     ...  \n",
       "66       85.0                   1210.0    45.0  \n",
       "67        NaN                   1362.0    93.1  \n",
       "68        NaN                   1306.0    95.2  \n",
       "69        NaN                   1304.0    84.3  \n",
       "70       90.0                   1358.0    82.0  \n",
       "\n",
       "[71 rows x 12 columns]"
      ]
     },
     "execution_count": 8,
     "metadata": {},
     "output_type": "execute_result"
    }
   ],
   "source": [
    "# Rename all instances of 'GPT-3 175B (davinci)' to 'GPT-3'\n",
    "aa_df.loc[aa_df['Model Name'] == 'GPT-3 175B (davinci)', 'Model Name'] = 'GPT-3'\n",
    "aa_df\n"
   ]
  },
  {
   "cell_type": "code",
   "execution_count": 9,
   "metadata": {},
   "outputs": [
    {
     "data": {
      "text/plain": [
       "0                GPT-3 (2021-11)\n",
       "1                GPT-3 (2022-08)\n",
       "2                GPT-3 (2022-09)\n",
       "3              GPT-3.5 (2022-11)\n",
       "4                GPT-4 (2023-03)\n",
       "                 ...            \n",
       "66     Mistral Small 3 (2025-01)\n",
       "67         DeepSeek-R1 (2025-01)\n",
       "68             o3-mini (2025-01)\n",
       "69             o1-mini (2025-01)\n",
       "70    Gemini 2.0 Flash (2025-02)\n",
       "Name: Model Name and Date, Length: 71, dtype: object"
      ]
     },
     "execution_count": 9,
     "metadata": {},
     "output_type": "execute_result"
    }
   ],
   "source": [
    "aa_df['Model Name and Date'] = aa_df['Model Name'] + ' (' + aa_df['Release Date'].dt.strftime('%Y-%m') + ')'\n",
    "aa_df['Model Name and Date']"
   ]
  },
  {
   "cell_type": "markdown",
   "metadata": {},
   "source": [
    "## Explore the data"
   ]
  },
  {
   "cell_type": "markdown",
   "metadata": {},
   "source": [
    "### Performance"
   ]
  },
  {
   "cell_type": "code",
   "execution_count": 10,
   "metadata": {},
   "outputs": [
    {
     "name": "stdout",
     "output_type": "stream",
     "text": [
      "['Claude-3.5-Sonnet-2024-06 (2024-06)', 'GPT-4o-2024-08 (2024-08)', 'GPT-4 Turbo (2023-11)', 'GPT-4 (2023-03)', 'GPT-3.5 (2022-11)', 'GPT-3 (2021-11)']\n"
     ]
    },
    {
     "data": {
      "application/vnd.plotly.v1+json": {
       "config": {
        "plotlyServerURL": "https://plot.ly"
       },
       "data": [
        {
         "customdata": [
          [
           "GPT-3"
          ],
          [
           "GPT-3"
          ],
          [
           "GPT-3"
          ],
          [
           "GPT-3.5"
          ],
          [
           "GPT-4"
          ],
          [
           "GPT-3.5 Turbo"
          ],
          [
           "GPT-3.5 Turbo"
          ],
          [
           "Llama-2-Chat-7B"
          ],
          [
           "Llama-2-Chat-13B"
          ],
          [
           "GPT-4 Turbo"
          ],
          [
           "GPT-3.5 Turbo"
          ],
          [
           "Llama 2-7B"
          ],
          [
           "Llama 2-70B Chat"
          ],
          [
           "Llama 2-13B"
          ],
          [
           "GPT-3"
          ],
          [
           "GPT-3.5 Turbo"
          ],
          [
           "Mistral-Small-2024-02"
          ],
          [
           "Mistral-Large-2024-02"
          ],
          [
           "Claude-3-Opus"
          ],
          [
           "Claude-3-Haiku"
          ],
          [
           "Claude-3-Sonnet"
          ],
          [
           "Llama-3-Instruct-70B"
          ],
          [
           "Llama-3-Instruct-8B"
          ],
          [
           "Mistral-8x22"
          ],
          [
           "Llama 2-13B"
          ],
          [
           "Llama 2-7B"
          ],
          [
           "GPT-4o-2024-05"
          ],
          [
           "Gemini-1.5-Pro-2024-05"
          ],
          [
           "Gemini-1.5-Flash-2024-05"
          ],
          [
           "Mistral-Large-2-2024-06"
          ],
          [
           "Mistral-NeMo"
          ],
          [
           "Claude-3.5-Haiku"
          ],
          [
           "Claude-3.5-Sonnet-2024-06"
          ],
          [
           "Gemma-2-9B"
          ],
          [
           "Gemma-2-27B"
          ],
          [
           "GPT-4o-mini"
          ],
          [
           "Llama-3.1-Instruct-70B"
          ],
          [
           "Llama-3.1-Instruct-405B"
          ],
          [
           "Llama-3.1-Instruct-8B"
          ],
          [
           "GPT-4o-2024-08"
          ],
          [
           "Claude Instant"
          ],
          [
           "Claude 2"
          ],
          [
           "Claude 2.1"
          ],
          [
           "Gemini 1.0 Pro"
          ],
          [
           "Cohere Command"
          ],
          [
           "Cohere Command Light"
          ],
          [
           "Command R"
          ],
          [
           "Command R+"
          ],
          [
           "Gemini-1.5-Pro-2024-09"
          ],
          [
           "Gemini-1.5-Flash-2024-09"
          ],
          [
           "Llama-3.2-Instruct-3B"
          ],
          [
           "Llama-3.2-Instruct-1B"
          ],
          [
           "DeepSeek-Coder-V2 236B"
          ],
          [
           "Jamba 1.5-Large"
          ],
          [
           "o1-mini"
          ],
          [
           "o1-preview"
          ],
          [
           "Command R+"
          ],
          [
           "Reka Core"
          ],
          [
           "Mistral 7B"
          ],
          [
           "Gemini-1.5-Flash-8B"
          ],
          [
           "Claude-3.5-Sonnet-2024-10"
          ],
          [
           "GPT-4o-2024-11"
          ],
          [
           "Mistral-Large-2-2024-11"
          ],
          [
           "o1"
          ],
          [
           "DeepSeek-V3"
          ],
          [
           "Mistral Small 3"
          ],
          [
           "Phi 4"
          ],
          [
           "DeepSeek-R1"
          ],
          [
           "o1-mini"
          ],
          [
           "o3-mini"
          ],
          [
           "Gemini 2.0 Flash"
          ]
         ],
         "hovertemplate": "Release Date=%{x}<br>MMLU=%{y}<br>Model Name=%{customdata[0]}<extra></extra>",
         "legendgroup": "",
         "marker": {
          "color": "lightgray",
          "symbol": "circle"
         },
         "mode": "markers",
         "name": "",
         "orientation": "v",
         "showlegend": false,
         "type": "scatter",
         "x": [
          "2021-11-20T00:00:00",
          "2022-08-31T00:00:00",
          "2022-09-01T00:00:00",
          "2022-11-30T00:00:00",
          "2023-03-01T00:00:00",
          "2023-03-06T00:00:00",
          "2023-06-13T00:00:00",
          "2023-07-01T00:00:00",
          "2023-07-01T00:00:00",
          "2023-11-01T00:00:00",
          "2023-11-01T00:00:00",
          "2023-12-01T00:00:00",
          "2023-12-01T00:00:00",
          "2023-12-08T00:00:00",
          "2024-01-04T00:00:00",
          "2024-01-25T00:00:00",
          "2024-02-01T00:00:00",
          "2024-02-01T00:00:00",
          "2024-03-01T00:00:00",
          "2024-03-01T00:00:00",
          "2024-03-01T00:00:00",
          "2024-04-01T00:00:00",
          "2024-04-01T00:00:00",
          "2024-04-01T00:00:00",
          "2024-04-14T00:00:00",
          "2024-04-14T00:00:00",
          "2024-05-01T00:00:00",
          "2024-05-01T00:00:00",
          "2024-05-01T00:00:00",
          "2024-06-01T00:00:00",
          "2024-06-01T00:00:00",
          "2024-06-01T00:00:00",
          "2024-06-01T00:00:00",
          "2024-06-01T00:00:00",
          "2024-06-01T00:00:00",
          "2024-07-01T00:00:00",
          "2024-07-01T00:00:00",
          "2024-07-01T00:00:00",
          "2024-07-01T00:00:00",
          "2024-08-01T00:00:00",
          "2024-08-12T00:00:00",
          "2024-08-12T00:00:00",
          "2024-08-12T00:00:00",
          "2024-08-12T00:00:00",
          "2024-08-13T00:00:00",
          "2024-08-13T00:00:00",
          "2024-08-13T00:00:00",
          "2024-08-13T00:00:00",
          "2024-09-01T00:00:00",
          "2024-09-01T00:00:00",
          "2024-09-01T00:00:00",
          "2024-09-01T00:00:00",
          "2024-09-11T00:00:00",
          "2024-09-12T00:00:00",
          "2024-09-12T00:00:00",
          "2024-09-12T00:00:00",
          "2024-09-13T00:00:00",
          "2024-09-14T00:00:00",
          "2024-09-14T00:00:00",
          "2024-10-01T00:00:00",
          "2024-10-01T00:00:00",
          "2024-11-01T00:00:00",
          "2024-11-01T00:00:00",
          "2024-12-17T00:00:00",
          "2024-12-26T00:00:00",
          "2025-01-01T00:00:00",
          "2025-01-01T00:00:00",
          "2025-01-20T00:00:00",
          "2025-01-31T00:00:00",
          "2025-01-31T00:00:00",
          "2025-02-01T00:00:00"
         ],
         "xaxis": "x",
         "y": [
          43.9,
          43.9,
          43.9,
          64.8,
          86,
          68,
          68,
          13,
          45,
          87,
          68,
          45.3,
          68.9,
          54.8,
          63.1,
          68,
          69,
          69,
          84,
          71,
          77,
          79,
          64,
          76,
          54.8,
          45.3,
          87,
          86,
          79,
          85,
          66,
          81,
          88,
          73,
          77,
          82,
          84,
          87,
          71,
          89,
          null,
          78.5,
          null,
          71.8,
          null,
          null,
          null,
          75.7,
          86,
          75,
          64,
          35,
          79.2,
          80,
          null,
          null,
          75.7,
          83.2,
          60.1,
          75,
          89,
          86,
          85,
          null,
          null,
          82,
          85,
          null,
          null,
          null,
          88
         ],
         "yaxis": "y"
        },
        {
         "hovertemplate": "%{text}<extra></extra>",
         "line": {
          "color": "red"
         },
         "mode": "lines+markers",
         "name": "Top Model",
         "text": [
          "GPT-3",
          "GPT-3.5",
          "GPT-4",
          "GPT-4 Turbo",
          "Claude-3.5-Sonnet-2024-06",
          "GPT-4o-2024-08"
         ],
         "type": "scatter",
         "x": [
          "2021-11-20T00:00:00",
          "2022-11-30T00:00:00",
          "2023-03-01T00:00:00",
          "2023-11-01T00:00:00",
          "2024-06-01T00:00:00",
          "2024-08-01T00:00:00"
         ],
         "y": [
          43.9,
          64.8,
          86,
          87,
          88,
          89
         ]
        }
       ],
       "layout": {
        "height": 400,
        "legend": {
         "tracegroupgap": 0
        },
        "template": {
         "data": {
          "bar": [
           {
            "error_x": {
             "color": "#2a3f5f"
            },
            "error_y": {
             "color": "#2a3f5f"
            },
            "marker": {
             "line": {
              "color": "white",
              "width": 0.5
             },
             "pattern": {
              "fillmode": "overlay",
              "size": 10,
              "solidity": 0.2
             }
            },
            "type": "bar"
           }
          ],
          "barpolar": [
           {
            "marker": {
             "line": {
              "color": "white",
              "width": 0.5
             },
             "pattern": {
              "fillmode": "overlay",
              "size": 10,
              "solidity": 0.2
             }
            },
            "type": "barpolar"
           }
          ],
          "carpet": [
           {
            "aaxis": {
             "endlinecolor": "#2a3f5f",
             "gridcolor": "#C8D4E3",
             "linecolor": "#C8D4E3",
             "minorgridcolor": "#C8D4E3",
             "startlinecolor": "#2a3f5f"
            },
            "baxis": {
             "endlinecolor": "#2a3f5f",
             "gridcolor": "#C8D4E3",
             "linecolor": "#C8D4E3",
             "minorgridcolor": "#C8D4E3",
             "startlinecolor": "#2a3f5f"
            },
            "type": "carpet"
           }
          ],
          "choropleth": [
           {
            "colorbar": {
             "outlinewidth": 0,
             "ticks": ""
            },
            "type": "choropleth"
           }
          ],
          "contour": [
           {
            "colorbar": {
             "outlinewidth": 0,
             "ticks": ""
            },
            "colorscale": [
             [
              0,
              "#0d0887"
             ],
             [
              0.1111111111111111,
              "#46039f"
             ],
             [
              0.2222222222222222,
              "#7201a8"
             ],
             [
              0.3333333333333333,
              "#9c179e"
             ],
             [
              0.4444444444444444,
              "#bd3786"
             ],
             [
              0.5555555555555556,
              "#d8576b"
             ],
             [
              0.6666666666666666,
              "#ed7953"
             ],
             [
              0.7777777777777778,
              "#fb9f3a"
             ],
             [
              0.8888888888888888,
              "#fdca26"
             ],
             [
              1,
              "#f0f921"
             ]
            ],
            "type": "contour"
           }
          ],
          "contourcarpet": [
           {
            "colorbar": {
             "outlinewidth": 0,
             "ticks": ""
            },
            "type": "contourcarpet"
           }
          ],
          "heatmap": [
           {
            "colorbar": {
             "outlinewidth": 0,
             "ticks": ""
            },
            "colorscale": [
             [
              0,
              "#0d0887"
             ],
             [
              0.1111111111111111,
              "#46039f"
             ],
             [
              0.2222222222222222,
              "#7201a8"
             ],
             [
              0.3333333333333333,
              "#9c179e"
             ],
             [
              0.4444444444444444,
              "#bd3786"
             ],
             [
              0.5555555555555556,
              "#d8576b"
             ],
             [
              0.6666666666666666,
              "#ed7953"
             ],
             [
              0.7777777777777778,
              "#fb9f3a"
             ],
             [
              0.8888888888888888,
              "#fdca26"
             ],
             [
              1,
              "#f0f921"
             ]
            ],
            "type": "heatmap"
           }
          ],
          "heatmapgl": [
           {
            "colorbar": {
             "outlinewidth": 0,
             "ticks": ""
            },
            "colorscale": [
             [
              0,
              "#0d0887"
             ],
             [
              0.1111111111111111,
              "#46039f"
             ],
             [
              0.2222222222222222,
              "#7201a8"
             ],
             [
              0.3333333333333333,
              "#9c179e"
             ],
             [
              0.4444444444444444,
              "#bd3786"
             ],
             [
              0.5555555555555556,
              "#d8576b"
             ],
             [
              0.6666666666666666,
              "#ed7953"
             ],
             [
              0.7777777777777778,
              "#fb9f3a"
             ],
             [
              0.8888888888888888,
              "#fdca26"
             ],
             [
              1,
              "#f0f921"
             ]
            ],
            "type": "heatmapgl"
           }
          ],
          "histogram": [
           {
            "marker": {
             "pattern": {
              "fillmode": "overlay",
              "size": 10,
              "solidity": 0.2
             }
            },
            "type": "histogram"
           }
          ],
          "histogram2d": [
           {
            "colorbar": {
             "outlinewidth": 0,
             "ticks": ""
            },
            "colorscale": [
             [
              0,
              "#0d0887"
             ],
             [
              0.1111111111111111,
              "#46039f"
             ],
             [
              0.2222222222222222,
              "#7201a8"
             ],
             [
              0.3333333333333333,
              "#9c179e"
             ],
             [
              0.4444444444444444,
              "#bd3786"
             ],
             [
              0.5555555555555556,
              "#d8576b"
             ],
             [
              0.6666666666666666,
              "#ed7953"
             ],
             [
              0.7777777777777778,
              "#fb9f3a"
             ],
             [
              0.8888888888888888,
              "#fdca26"
             ],
             [
              1,
              "#f0f921"
             ]
            ],
            "type": "histogram2d"
           }
          ],
          "histogram2dcontour": [
           {
            "colorbar": {
             "outlinewidth": 0,
             "ticks": ""
            },
            "colorscale": [
             [
              0,
              "#0d0887"
             ],
             [
              0.1111111111111111,
              "#46039f"
             ],
             [
              0.2222222222222222,
              "#7201a8"
             ],
             [
              0.3333333333333333,
              "#9c179e"
             ],
             [
              0.4444444444444444,
              "#bd3786"
             ],
             [
              0.5555555555555556,
              "#d8576b"
             ],
             [
              0.6666666666666666,
              "#ed7953"
             ],
             [
              0.7777777777777778,
              "#fb9f3a"
             ],
             [
              0.8888888888888888,
              "#fdca26"
             ],
             [
              1,
              "#f0f921"
             ]
            ],
            "type": "histogram2dcontour"
           }
          ],
          "mesh3d": [
           {
            "colorbar": {
             "outlinewidth": 0,
             "ticks": ""
            },
            "type": "mesh3d"
           }
          ],
          "parcoords": [
           {
            "line": {
             "colorbar": {
              "outlinewidth": 0,
              "ticks": ""
             }
            },
            "type": "parcoords"
           }
          ],
          "pie": [
           {
            "automargin": true,
            "type": "pie"
           }
          ],
          "scatter": [
           {
            "fillpattern": {
             "fillmode": "overlay",
             "size": 10,
             "solidity": 0.2
            },
            "type": "scatter"
           }
          ],
          "scatter3d": [
           {
            "line": {
             "colorbar": {
              "outlinewidth": 0,
              "ticks": ""
             }
            },
            "marker": {
             "colorbar": {
              "outlinewidth": 0,
              "ticks": ""
             }
            },
            "type": "scatter3d"
           }
          ],
          "scattercarpet": [
           {
            "marker": {
             "colorbar": {
              "outlinewidth": 0,
              "ticks": ""
             }
            },
            "type": "scattercarpet"
           }
          ],
          "scattergeo": [
           {
            "marker": {
             "colorbar": {
              "outlinewidth": 0,
              "ticks": ""
             }
            },
            "type": "scattergeo"
           }
          ],
          "scattergl": [
           {
            "marker": {
             "colorbar": {
              "outlinewidth": 0,
              "ticks": ""
             }
            },
            "type": "scattergl"
           }
          ],
          "scattermapbox": [
           {
            "marker": {
             "colorbar": {
              "outlinewidth": 0,
              "ticks": ""
             }
            },
            "type": "scattermapbox"
           }
          ],
          "scatterpolar": [
           {
            "marker": {
             "colorbar": {
              "outlinewidth": 0,
              "ticks": ""
             }
            },
            "type": "scatterpolar"
           }
          ],
          "scatterpolargl": [
           {
            "marker": {
             "colorbar": {
              "outlinewidth": 0,
              "ticks": ""
             }
            },
            "type": "scatterpolargl"
           }
          ],
          "scatterternary": [
           {
            "marker": {
             "colorbar": {
              "outlinewidth": 0,
              "ticks": ""
             }
            },
            "type": "scatterternary"
           }
          ],
          "surface": [
           {
            "colorbar": {
             "outlinewidth": 0,
             "ticks": ""
            },
            "colorscale": [
             [
              0,
              "#0d0887"
             ],
             [
              0.1111111111111111,
              "#46039f"
             ],
             [
              0.2222222222222222,
              "#7201a8"
             ],
             [
              0.3333333333333333,
              "#9c179e"
             ],
             [
              0.4444444444444444,
              "#bd3786"
             ],
             [
              0.5555555555555556,
              "#d8576b"
             ],
             [
              0.6666666666666666,
              "#ed7953"
             ],
             [
              0.7777777777777778,
              "#fb9f3a"
             ],
             [
              0.8888888888888888,
              "#fdca26"
             ],
             [
              1,
              "#f0f921"
             ]
            ],
            "type": "surface"
           }
          ],
          "table": [
           {
            "cells": {
             "fill": {
              "color": "#EBF0F8"
             },
             "line": {
              "color": "white"
             }
            },
            "header": {
             "fill": {
              "color": "#C8D4E3"
             },
             "line": {
              "color": "white"
             }
            },
            "type": "table"
           }
          ]
         },
         "layout": {
          "annotationdefaults": {
           "arrowcolor": "#2a3f5f",
           "arrowhead": 0,
           "arrowwidth": 1
          },
          "autotypenumbers": "strict",
          "coloraxis": {
           "colorbar": {
            "outlinewidth": 0,
            "ticks": ""
           }
          },
          "colorscale": {
           "diverging": [
            [
             0,
             "#8e0152"
            ],
            [
             0.1,
             "#c51b7d"
            ],
            [
             0.2,
             "#de77ae"
            ],
            [
             0.3,
             "#f1b6da"
            ],
            [
             0.4,
             "#fde0ef"
            ],
            [
             0.5,
             "#f7f7f7"
            ],
            [
             0.6,
             "#e6f5d0"
            ],
            [
             0.7,
             "#b8e186"
            ],
            [
             0.8,
             "#7fbc41"
            ],
            [
             0.9,
             "#4d9221"
            ],
            [
             1,
             "#276419"
            ]
           ],
           "sequential": [
            [
             0,
             "#0d0887"
            ],
            [
             0.1111111111111111,
             "#46039f"
            ],
            [
             0.2222222222222222,
             "#7201a8"
            ],
            [
             0.3333333333333333,
             "#9c179e"
            ],
            [
             0.4444444444444444,
             "#bd3786"
            ],
            [
             0.5555555555555556,
             "#d8576b"
            ],
            [
             0.6666666666666666,
             "#ed7953"
            ],
            [
             0.7777777777777778,
             "#fb9f3a"
            ],
            [
             0.8888888888888888,
             "#fdca26"
            ],
            [
             1,
             "#f0f921"
            ]
           ],
           "sequentialminus": [
            [
             0,
             "#0d0887"
            ],
            [
             0.1111111111111111,
             "#46039f"
            ],
            [
             0.2222222222222222,
             "#7201a8"
            ],
            [
             0.3333333333333333,
             "#9c179e"
            ],
            [
             0.4444444444444444,
             "#bd3786"
            ],
            [
             0.5555555555555556,
             "#d8576b"
            ],
            [
             0.6666666666666666,
             "#ed7953"
            ],
            [
             0.7777777777777778,
             "#fb9f3a"
            ],
            [
             0.8888888888888888,
             "#fdca26"
            ],
            [
             1,
             "#f0f921"
            ]
           ]
          },
          "colorway": [
           "#636efa",
           "#EF553B",
           "#00cc96",
           "#ab63fa",
           "#FFA15A",
           "#19d3f3",
           "#FF6692",
           "#B6E880",
           "#FF97FF",
           "#FECB52"
          ],
          "font": {
           "color": "#2a3f5f"
          },
          "geo": {
           "bgcolor": "white",
           "lakecolor": "white",
           "landcolor": "white",
           "showlakes": true,
           "showland": true,
           "subunitcolor": "#C8D4E3"
          },
          "hoverlabel": {
           "align": "left"
          },
          "hovermode": "closest",
          "mapbox": {
           "style": "light"
          },
          "paper_bgcolor": "white",
          "plot_bgcolor": "white",
          "polar": {
           "angularaxis": {
            "gridcolor": "#EBF0F8",
            "linecolor": "#EBF0F8",
            "ticks": ""
           },
           "bgcolor": "white",
           "radialaxis": {
            "gridcolor": "#EBF0F8",
            "linecolor": "#EBF0F8",
            "ticks": ""
           }
          },
          "scene": {
           "xaxis": {
            "backgroundcolor": "white",
            "gridcolor": "#DFE8F3",
            "gridwidth": 2,
            "linecolor": "#EBF0F8",
            "showbackground": true,
            "ticks": "",
            "zerolinecolor": "#EBF0F8"
           },
           "yaxis": {
            "backgroundcolor": "white",
            "gridcolor": "#DFE8F3",
            "gridwidth": 2,
            "linecolor": "#EBF0F8",
            "showbackground": true,
            "ticks": "",
            "zerolinecolor": "#EBF0F8"
           },
           "zaxis": {
            "backgroundcolor": "white",
            "gridcolor": "#DFE8F3",
            "gridwidth": 2,
            "linecolor": "#EBF0F8",
            "showbackground": true,
            "ticks": "",
            "zerolinecolor": "#EBF0F8"
           }
          },
          "shapedefaults": {
           "line": {
            "color": "#2a3f5f"
           }
          },
          "ternary": {
           "aaxis": {
            "gridcolor": "#DFE8F3",
            "linecolor": "#A2B1C6",
            "ticks": ""
           },
           "baxis": {
            "gridcolor": "#DFE8F3",
            "linecolor": "#A2B1C6",
            "ticks": ""
           },
           "bgcolor": "white",
           "caxis": {
            "gridcolor": "#DFE8F3",
            "linecolor": "#A2B1C6",
            "ticks": ""
           }
          },
          "title": {
           "x": 0.05
          },
          "xaxis": {
           "automargin": true,
           "gridcolor": "#EBF0F8",
           "linecolor": "#EBF0F8",
           "ticks": "",
           "title": {
            "standoff": 15
           },
           "zerolinecolor": "#EBF0F8",
           "zerolinewidth": 2
          },
          "yaxis": {
           "automargin": true,
           "gridcolor": "#EBF0F8",
           "linecolor": "#EBF0F8",
           "ticks": "",
           "title": {
            "standoff": 15
           },
           "zerolinecolor": "#EBF0F8",
           "zerolinewidth": 2
          }
         }
        },
        "title": {
         "text": "MMLU Performance over time"
        },
        "width": 800,
        "xaxis": {
         "anchor": "y",
         "domain": [
          0,
          1
         ],
         "title": {
          "text": "Release Date"
         }
        },
        "yaxis": {
         "anchor": "x",
         "domain": [
          0,
          1
         ],
         "title": {
          "text": "MMLU"
         }
        }
       }
      }
     },
     "metadata": {},
     "output_type": "display_data"
    },
    {
     "name": "stdout",
     "output_type": "stream",
     "text": [
      "['GPT-4o-2024-05 (2024-05)', 'Claude-3.5-Sonnet-2024-06 (2024-06)', 'o1 (2024-12)', 'o1-preview (2024-09)', 'GPT-4 Turbo (2023-11)', 'GPT-4 (2023-03)', 'GPT-3 (2021-11)', 'Gemini-1.5-Pro-2024-09 (2024-09)']\n"
     ]
    },
    {
     "data": {
      "application/vnd.plotly.v1+json": {
       "config": {
        "plotlyServerURL": "https://plot.ly"
       },
       "data": [
        {
         "customdata": [
          [
           "GPT-3"
          ],
          [
           "GPT-3"
          ],
          [
           "GPT-3"
          ],
          [
           "GPT-3.5"
          ],
          [
           "GPT-4"
          ],
          [
           "GPT-3.5 Turbo"
          ],
          [
           "GPT-3.5 Turbo"
          ],
          [
           "Llama-2-Chat-7B"
          ],
          [
           "Llama-2-Chat-13B"
          ],
          [
           "GPT-4 Turbo"
          ],
          [
           "GPT-3.5 Turbo"
          ],
          [
           "Llama 2-7B"
          ],
          [
           "Llama 2-70B Chat"
          ],
          [
           "Llama 2-13B"
          ],
          [
           "GPT-3"
          ],
          [
           "GPT-3.5 Turbo"
          ],
          [
           "Mistral-Small-2024-02"
          ],
          [
           "Mistral-Large-2024-02"
          ],
          [
           "Claude-3-Opus"
          ],
          [
           "Claude-3-Haiku"
          ],
          [
           "Claude-3-Sonnet"
          ],
          [
           "Llama-3-Instruct-70B"
          ],
          [
           "Llama-3-Instruct-8B"
          ],
          [
           "Mistral-8x22"
          ],
          [
           "Llama 2-13B"
          ],
          [
           "Llama 2-7B"
          ],
          [
           "GPT-4o-2024-05"
          ],
          [
           "Gemini-1.5-Pro-2024-05"
          ],
          [
           "Gemini-1.5-Flash-2024-05"
          ],
          [
           "Mistral-Large-2-2024-06"
          ],
          [
           "Mistral-NeMo"
          ],
          [
           "Claude-3.5-Haiku"
          ],
          [
           "Claude-3.5-Sonnet-2024-06"
          ],
          [
           "Gemma-2-9B"
          ],
          [
           "Gemma-2-27B"
          ],
          [
           "GPT-4o-mini"
          ],
          [
           "Llama-3.1-Instruct-70B"
          ],
          [
           "Llama-3.1-Instruct-405B"
          ],
          [
           "Llama-3.1-Instruct-8B"
          ],
          [
           "GPT-4o-2024-08"
          ],
          [
           "Claude Instant"
          ],
          [
           "Claude 2"
          ],
          [
           "Claude 2.1"
          ],
          [
           "Gemini 1.0 Pro"
          ],
          [
           "Cohere Command"
          ],
          [
           "Cohere Command Light"
          ],
          [
           "Command R"
          ],
          [
           "Command R+"
          ],
          [
           "Gemini-1.5-Pro-2024-09"
          ],
          [
           "Gemini-1.5-Flash-2024-09"
          ],
          [
           "Llama-3.2-Instruct-3B"
          ],
          [
           "Llama-3.2-Instruct-1B"
          ],
          [
           "DeepSeek-Coder-V2 236B"
          ],
          [
           "Jamba 1.5-Large"
          ],
          [
           "o1-mini"
          ],
          [
           "o1-preview"
          ],
          [
           "Command R+"
          ],
          [
           "Reka Core"
          ],
          [
           "Mistral 7B"
          ],
          [
           "Gemini-1.5-Flash-8B"
          ],
          [
           "Claude-3.5-Sonnet-2024-10"
          ],
          [
           "GPT-4o-2024-11"
          ],
          [
           "Mistral-Large-2-2024-11"
          ],
          [
           "o1"
          ],
          [
           "DeepSeek-V3"
          ],
          [
           "Mistral Small 3"
          ],
          [
           "Phi 4"
          ],
          [
           "DeepSeek-R1"
          ],
          [
           "o1-mini"
          ],
          [
           "o3-mini"
          ],
          [
           "Gemini 2.0 Flash"
          ]
         ],
         "hovertemplate": "Release Date=%{x}<br>GPQA Diamond=%{y}<br>Model Name=%{customdata[0]}<extra></extra>",
         "legendgroup": "",
         "marker": {
          "color": "lightgray",
          "symbol": "circle"
         },
         "mode": "markers",
         "name": "",
         "orientation": "v",
         "showlegend": false,
         "type": "scatter",
         "x": [
          "2021-11-20T00:00:00",
          "2022-08-31T00:00:00",
          "2022-09-01T00:00:00",
          "2022-11-30T00:00:00",
          "2023-03-01T00:00:00",
          "2023-03-06T00:00:00",
          "2023-06-13T00:00:00",
          "2023-07-01T00:00:00",
          "2023-07-01T00:00:00",
          "2023-11-01T00:00:00",
          "2023-11-01T00:00:00",
          "2023-12-01T00:00:00",
          "2023-12-01T00:00:00",
          "2023-12-08T00:00:00",
          "2024-01-04T00:00:00",
          "2024-01-25T00:00:00",
          "2024-02-01T00:00:00",
          "2024-02-01T00:00:00",
          "2024-03-01T00:00:00",
          "2024-03-01T00:00:00",
          "2024-03-01T00:00:00",
          "2024-04-01T00:00:00",
          "2024-04-01T00:00:00",
          "2024-04-01T00:00:00",
          "2024-04-14T00:00:00",
          "2024-04-14T00:00:00",
          "2024-05-01T00:00:00",
          "2024-05-01T00:00:00",
          "2024-05-01T00:00:00",
          "2024-06-01T00:00:00",
          "2024-06-01T00:00:00",
          "2024-06-01T00:00:00",
          "2024-06-01T00:00:00",
          "2024-06-01T00:00:00",
          "2024-06-01T00:00:00",
          "2024-07-01T00:00:00",
          "2024-07-01T00:00:00",
          "2024-07-01T00:00:00",
          "2024-07-01T00:00:00",
          "2024-08-01T00:00:00",
          "2024-08-12T00:00:00",
          "2024-08-12T00:00:00",
          "2024-08-12T00:00:00",
          "2024-08-12T00:00:00",
          "2024-08-13T00:00:00",
          "2024-08-13T00:00:00",
          "2024-08-13T00:00:00",
          "2024-08-13T00:00:00",
          "2024-09-01T00:00:00",
          "2024-09-01T00:00:00",
          "2024-09-01T00:00:00",
          "2024-09-01T00:00:00",
          "2024-09-11T00:00:00",
          "2024-09-12T00:00:00",
          "2024-09-12T00:00:00",
          "2024-09-12T00:00:00",
          "2024-09-13T00:00:00",
          "2024-09-14T00:00:00",
          "2024-09-14T00:00:00",
          "2024-10-01T00:00:00",
          "2024-10-01T00:00:00",
          "2024-11-01T00:00:00",
          "2024-11-01T00:00:00",
          "2024-12-17T00:00:00",
          "2024-12-26T00:00:00",
          "2025-01-01T00:00:00",
          "2025-01-01T00:00:00",
          "2025-01-20T00:00:00",
          "2025-01-31T00:00:00",
          "2025-01-31T00:00:00",
          "2025-02-01T00:00:00"
         ],
         "xaxis": "x",
         "y": [
          null,
          null,
          null,
          null,
          33,
          null,
          28.8,
          6,
          19,
          50,
          30,
          null,
          26,
          null,
          null,
          30,
          31,
          36,
          50,
          33,
          37,
          39,
          30,
          37,
          null,
          null,
          51,
          46,
          39,
          48,
          33,
          37,
          56,
          31,
          39,
          43,
          43,
          50,
          27,
          51,
          null,
          35,
          36,
          34.4,
          null,
          null,
          null,
          null,
          61,
          45,
          21,
          14,
          null,
          null,
          59.5,
          69.7,
          null,
          null,
          14,
          30,
          58,
          45,
          47,
          75.8,
          57,
          46,
          53,
          71.7,
          59.5,
          74.3,
          62
         ],
         "yaxis": "y"
        },
        {
         "hovertemplate": "%{text}<extra></extra>",
         "line": {
          "color": "red"
         },
         "mode": "lines+markers",
         "name": "Top Model",
         "text": [
          "GPT-3",
          "GPT-4",
          "GPT-4 Turbo",
          "GPT-4o-2024-05",
          "Claude-3.5-Sonnet-2024-06",
          "Gemini-1.5-Pro-2024-09",
          "o1-preview",
          "o1"
         ],
         "type": "scatter",
         "x": [
          "2021-11-20T00:00:00",
          "2023-03-01T00:00:00",
          "2023-11-01T00:00:00",
          "2024-05-01T00:00:00",
          "2024-06-01T00:00:00",
          "2024-09-01T00:00:00",
          "2024-09-12T00:00:00",
          "2024-12-17T00:00:00"
         ],
         "y": [
          null,
          33,
          50,
          51,
          56,
          61,
          69.7,
          75.8
         ]
        }
       ],
       "layout": {
        "height": 400,
        "legend": {
         "tracegroupgap": 0
        },
        "template": {
         "data": {
          "bar": [
           {
            "error_x": {
             "color": "#2a3f5f"
            },
            "error_y": {
             "color": "#2a3f5f"
            },
            "marker": {
             "line": {
              "color": "white",
              "width": 0.5
             },
             "pattern": {
              "fillmode": "overlay",
              "size": 10,
              "solidity": 0.2
             }
            },
            "type": "bar"
           }
          ],
          "barpolar": [
           {
            "marker": {
             "line": {
              "color": "white",
              "width": 0.5
             },
             "pattern": {
              "fillmode": "overlay",
              "size": 10,
              "solidity": 0.2
             }
            },
            "type": "barpolar"
           }
          ],
          "carpet": [
           {
            "aaxis": {
             "endlinecolor": "#2a3f5f",
             "gridcolor": "#C8D4E3",
             "linecolor": "#C8D4E3",
             "minorgridcolor": "#C8D4E3",
             "startlinecolor": "#2a3f5f"
            },
            "baxis": {
             "endlinecolor": "#2a3f5f",
             "gridcolor": "#C8D4E3",
             "linecolor": "#C8D4E3",
             "minorgridcolor": "#C8D4E3",
             "startlinecolor": "#2a3f5f"
            },
            "type": "carpet"
           }
          ],
          "choropleth": [
           {
            "colorbar": {
             "outlinewidth": 0,
             "ticks": ""
            },
            "type": "choropleth"
           }
          ],
          "contour": [
           {
            "colorbar": {
             "outlinewidth": 0,
             "ticks": ""
            },
            "colorscale": [
             [
              0,
              "#0d0887"
             ],
             [
              0.1111111111111111,
              "#46039f"
             ],
             [
              0.2222222222222222,
              "#7201a8"
             ],
             [
              0.3333333333333333,
              "#9c179e"
             ],
             [
              0.4444444444444444,
              "#bd3786"
             ],
             [
              0.5555555555555556,
              "#d8576b"
             ],
             [
              0.6666666666666666,
              "#ed7953"
             ],
             [
              0.7777777777777778,
              "#fb9f3a"
             ],
             [
              0.8888888888888888,
              "#fdca26"
             ],
             [
              1,
              "#f0f921"
             ]
            ],
            "type": "contour"
           }
          ],
          "contourcarpet": [
           {
            "colorbar": {
             "outlinewidth": 0,
             "ticks": ""
            },
            "type": "contourcarpet"
           }
          ],
          "heatmap": [
           {
            "colorbar": {
             "outlinewidth": 0,
             "ticks": ""
            },
            "colorscale": [
             [
              0,
              "#0d0887"
             ],
             [
              0.1111111111111111,
              "#46039f"
             ],
             [
              0.2222222222222222,
              "#7201a8"
             ],
             [
              0.3333333333333333,
              "#9c179e"
             ],
             [
              0.4444444444444444,
              "#bd3786"
             ],
             [
              0.5555555555555556,
              "#d8576b"
             ],
             [
              0.6666666666666666,
              "#ed7953"
             ],
             [
              0.7777777777777778,
              "#fb9f3a"
             ],
             [
              0.8888888888888888,
              "#fdca26"
             ],
             [
              1,
              "#f0f921"
             ]
            ],
            "type": "heatmap"
           }
          ],
          "heatmapgl": [
           {
            "colorbar": {
             "outlinewidth": 0,
             "ticks": ""
            },
            "colorscale": [
             [
              0,
              "#0d0887"
             ],
             [
              0.1111111111111111,
              "#46039f"
             ],
             [
              0.2222222222222222,
              "#7201a8"
             ],
             [
              0.3333333333333333,
              "#9c179e"
             ],
             [
              0.4444444444444444,
              "#bd3786"
             ],
             [
              0.5555555555555556,
              "#d8576b"
             ],
             [
              0.6666666666666666,
              "#ed7953"
             ],
             [
              0.7777777777777778,
              "#fb9f3a"
             ],
             [
              0.8888888888888888,
              "#fdca26"
             ],
             [
              1,
              "#f0f921"
             ]
            ],
            "type": "heatmapgl"
           }
          ],
          "histogram": [
           {
            "marker": {
             "pattern": {
              "fillmode": "overlay",
              "size": 10,
              "solidity": 0.2
             }
            },
            "type": "histogram"
           }
          ],
          "histogram2d": [
           {
            "colorbar": {
             "outlinewidth": 0,
             "ticks": ""
            },
            "colorscale": [
             [
              0,
              "#0d0887"
             ],
             [
              0.1111111111111111,
              "#46039f"
             ],
             [
              0.2222222222222222,
              "#7201a8"
             ],
             [
              0.3333333333333333,
              "#9c179e"
             ],
             [
              0.4444444444444444,
              "#bd3786"
             ],
             [
              0.5555555555555556,
              "#d8576b"
             ],
             [
              0.6666666666666666,
              "#ed7953"
             ],
             [
              0.7777777777777778,
              "#fb9f3a"
             ],
             [
              0.8888888888888888,
              "#fdca26"
             ],
             [
              1,
              "#f0f921"
             ]
            ],
            "type": "histogram2d"
           }
          ],
          "histogram2dcontour": [
           {
            "colorbar": {
             "outlinewidth": 0,
             "ticks": ""
            },
            "colorscale": [
             [
              0,
              "#0d0887"
             ],
             [
              0.1111111111111111,
              "#46039f"
             ],
             [
              0.2222222222222222,
              "#7201a8"
             ],
             [
              0.3333333333333333,
              "#9c179e"
             ],
             [
              0.4444444444444444,
              "#bd3786"
             ],
             [
              0.5555555555555556,
              "#d8576b"
             ],
             [
              0.6666666666666666,
              "#ed7953"
             ],
             [
              0.7777777777777778,
              "#fb9f3a"
             ],
             [
              0.8888888888888888,
              "#fdca26"
             ],
             [
              1,
              "#f0f921"
             ]
            ],
            "type": "histogram2dcontour"
           }
          ],
          "mesh3d": [
           {
            "colorbar": {
             "outlinewidth": 0,
             "ticks": ""
            },
            "type": "mesh3d"
           }
          ],
          "parcoords": [
           {
            "line": {
             "colorbar": {
              "outlinewidth": 0,
              "ticks": ""
             }
            },
            "type": "parcoords"
           }
          ],
          "pie": [
           {
            "automargin": true,
            "type": "pie"
           }
          ],
          "scatter": [
           {
            "fillpattern": {
             "fillmode": "overlay",
             "size": 10,
             "solidity": 0.2
            },
            "type": "scatter"
           }
          ],
          "scatter3d": [
           {
            "line": {
             "colorbar": {
              "outlinewidth": 0,
              "ticks": ""
             }
            },
            "marker": {
             "colorbar": {
              "outlinewidth": 0,
              "ticks": ""
             }
            },
            "type": "scatter3d"
           }
          ],
          "scattercarpet": [
           {
            "marker": {
             "colorbar": {
              "outlinewidth": 0,
              "ticks": ""
             }
            },
            "type": "scattercarpet"
           }
          ],
          "scattergeo": [
           {
            "marker": {
             "colorbar": {
              "outlinewidth": 0,
              "ticks": ""
             }
            },
            "type": "scattergeo"
           }
          ],
          "scattergl": [
           {
            "marker": {
             "colorbar": {
              "outlinewidth": 0,
              "ticks": ""
             }
            },
            "type": "scattergl"
           }
          ],
          "scattermapbox": [
           {
            "marker": {
             "colorbar": {
              "outlinewidth": 0,
              "ticks": ""
             }
            },
            "type": "scattermapbox"
           }
          ],
          "scatterpolar": [
           {
            "marker": {
             "colorbar": {
              "outlinewidth": 0,
              "ticks": ""
             }
            },
            "type": "scatterpolar"
           }
          ],
          "scatterpolargl": [
           {
            "marker": {
             "colorbar": {
              "outlinewidth": 0,
              "ticks": ""
             }
            },
            "type": "scatterpolargl"
           }
          ],
          "scatterternary": [
           {
            "marker": {
             "colorbar": {
              "outlinewidth": 0,
              "ticks": ""
             }
            },
            "type": "scatterternary"
           }
          ],
          "surface": [
           {
            "colorbar": {
             "outlinewidth": 0,
             "ticks": ""
            },
            "colorscale": [
             [
              0,
              "#0d0887"
             ],
             [
              0.1111111111111111,
              "#46039f"
             ],
             [
              0.2222222222222222,
              "#7201a8"
             ],
             [
              0.3333333333333333,
              "#9c179e"
             ],
             [
              0.4444444444444444,
              "#bd3786"
             ],
             [
              0.5555555555555556,
              "#d8576b"
             ],
             [
              0.6666666666666666,
              "#ed7953"
             ],
             [
              0.7777777777777778,
              "#fb9f3a"
             ],
             [
              0.8888888888888888,
              "#fdca26"
             ],
             [
              1,
              "#f0f921"
             ]
            ],
            "type": "surface"
           }
          ],
          "table": [
           {
            "cells": {
             "fill": {
              "color": "#EBF0F8"
             },
             "line": {
              "color": "white"
             }
            },
            "header": {
             "fill": {
              "color": "#C8D4E3"
             },
             "line": {
              "color": "white"
             }
            },
            "type": "table"
           }
          ]
         },
         "layout": {
          "annotationdefaults": {
           "arrowcolor": "#2a3f5f",
           "arrowhead": 0,
           "arrowwidth": 1
          },
          "autotypenumbers": "strict",
          "coloraxis": {
           "colorbar": {
            "outlinewidth": 0,
            "ticks": ""
           }
          },
          "colorscale": {
           "diverging": [
            [
             0,
             "#8e0152"
            ],
            [
             0.1,
             "#c51b7d"
            ],
            [
             0.2,
             "#de77ae"
            ],
            [
             0.3,
             "#f1b6da"
            ],
            [
             0.4,
             "#fde0ef"
            ],
            [
             0.5,
             "#f7f7f7"
            ],
            [
             0.6,
             "#e6f5d0"
            ],
            [
             0.7,
             "#b8e186"
            ],
            [
             0.8,
             "#7fbc41"
            ],
            [
             0.9,
             "#4d9221"
            ],
            [
             1,
             "#276419"
            ]
           ],
           "sequential": [
            [
             0,
             "#0d0887"
            ],
            [
             0.1111111111111111,
             "#46039f"
            ],
            [
             0.2222222222222222,
             "#7201a8"
            ],
            [
             0.3333333333333333,
             "#9c179e"
            ],
            [
             0.4444444444444444,
             "#bd3786"
            ],
            [
             0.5555555555555556,
             "#d8576b"
            ],
            [
             0.6666666666666666,
             "#ed7953"
            ],
            [
             0.7777777777777778,
             "#fb9f3a"
            ],
            [
             0.8888888888888888,
             "#fdca26"
            ],
            [
             1,
             "#f0f921"
            ]
           ],
           "sequentialminus": [
            [
             0,
             "#0d0887"
            ],
            [
             0.1111111111111111,
             "#46039f"
            ],
            [
             0.2222222222222222,
             "#7201a8"
            ],
            [
             0.3333333333333333,
             "#9c179e"
            ],
            [
             0.4444444444444444,
             "#bd3786"
            ],
            [
             0.5555555555555556,
             "#d8576b"
            ],
            [
             0.6666666666666666,
             "#ed7953"
            ],
            [
             0.7777777777777778,
             "#fb9f3a"
            ],
            [
             0.8888888888888888,
             "#fdca26"
            ],
            [
             1,
             "#f0f921"
            ]
           ]
          },
          "colorway": [
           "#636efa",
           "#EF553B",
           "#00cc96",
           "#ab63fa",
           "#FFA15A",
           "#19d3f3",
           "#FF6692",
           "#B6E880",
           "#FF97FF",
           "#FECB52"
          ],
          "font": {
           "color": "#2a3f5f"
          },
          "geo": {
           "bgcolor": "white",
           "lakecolor": "white",
           "landcolor": "white",
           "showlakes": true,
           "showland": true,
           "subunitcolor": "#C8D4E3"
          },
          "hoverlabel": {
           "align": "left"
          },
          "hovermode": "closest",
          "mapbox": {
           "style": "light"
          },
          "paper_bgcolor": "white",
          "plot_bgcolor": "white",
          "polar": {
           "angularaxis": {
            "gridcolor": "#EBF0F8",
            "linecolor": "#EBF0F8",
            "ticks": ""
           },
           "bgcolor": "white",
           "radialaxis": {
            "gridcolor": "#EBF0F8",
            "linecolor": "#EBF0F8",
            "ticks": ""
           }
          },
          "scene": {
           "xaxis": {
            "backgroundcolor": "white",
            "gridcolor": "#DFE8F3",
            "gridwidth": 2,
            "linecolor": "#EBF0F8",
            "showbackground": true,
            "ticks": "",
            "zerolinecolor": "#EBF0F8"
           },
           "yaxis": {
            "backgroundcolor": "white",
            "gridcolor": "#DFE8F3",
            "gridwidth": 2,
            "linecolor": "#EBF0F8",
            "showbackground": true,
            "ticks": "",
            "zerolinecolor": "#EBF0F8"
           },
           "zaxis": {
            "backgroundcolor": "white",
            "gridcolor": "#DFE8F3",
            "gridwidth": 2,
            "linecolor": "#EBF0F8",
            "showbackground": true,
            "ticks": "",
            "zerolinecolor": "#EBF0F8"
           }
          },
          "shapedefaults": {
           "line": {
            "color": "#2a3f5f"
           }
          },
          "ternary": {
           "aaxis": {
            "gridcolor": "#DFE8F3",
            "linecolor": "#A2B1C6",
            "ticks": ""
           },
           "baxis": {
            "gridcolor": "#DFE8F3",
            "linecolor": "#A2B1C6",
            "ticks": ""
           },
           "bgcolor": "white",
           "caxis": {
            "gridcolor": "#DFE8F3",
            "linecolor": "#A2B1C6",
            "ticks": ""
           }
          },
          "title": {
           "x": 0.05
          },
          "xaxis": {
           "automargin": true,
           "gridcolor": "#EBF0F8",
           "linecolor": "#EBF0F8",
           "ticks": "",
           "title": {
            "standoff": 15
           },
           "zerolinecolor": "#EBF0F8",
           "zerolinewidth": 2
          },
          "yaxis": {
           "automargin": true,
           "gridcolor": "#EBF0F8",
           "linecolor": "#EBF0F8",
           "ticks": "",
           "title": {
            "standoff": 15
           },
           "zerolinecolor": "#EBF0F8",
           "zerolinewidth": 2
          }
         }
        },
        "title": {
         "text": "GPQA Diamond Performance over time"
        },
        "width": 800,
        "xaxis": {
         "anchor": "y",
         "domain": [
          0,
          1
         ],
         "title": {
          "text": "Release Date"
         }
        },
        "yaxis": {
         "anchor": "x",
         "domain": [
          0,
          1
         ],
         "title": {
          "text": "GPQA Diamond"
         }
        }
       }
      }
     },
     "metadata": {},
     "output_type": "display_data"
    },
    {
     "name": "stdout",
     "output_type": "stream",
     "text": [
      "['GPT-4o-2024-05 (2024-05)', 'GPT-4o-2024-08 (2024-08)', 'Gemini 2.0 Flash (2025-02)', 'GPT-4 Turbo (2023-11)', 'GPT-4 (2023-03)', 'GPT-3 (2021-11)', 'Gemini-1.5-Pro-2024-09 (2024-09)', 'GPT-3.5 Turbo (2023-06)']\n"
     ]
    },
    {
     "data": {
      "application/vnd.plotly.v1+json": {
       "config": {
        "plotlyServerURL": "https://plot.ly"
       },
       "data": [
        {
         "customdata": [
          [
           "GPT-3"
          ],
          [
           "GPT-3"
          ],
          [
           "GPT-3"
          ],
          [
           "GPT-3.5"
          ],
          [
           "GPT-4"
          ],
          [
           "GPT-3.5 Turbo"
          ],
          [
           "GPT-3.5 Turbo"
          ],
          [
           "Llama-2-Chat-7B"
          ],
          [
           "Llama-2-Chat-13B"
          ],
          [
           "GPT-4 Turbo"
          ],
          [
           "GPT-3.5 Turbo"
          ],
          [
           "Llama 2-7B"
          ],
          [
           "Llama 2-70B Chat"
          ],
          [
           "Llama 2-13B"
          ],
          [
           "GPT-3"
          ],
          [
           "GPT-3.5 Turbo"
          ],
          [
           "Mistral-Small-2024-02"
          ],
          [
           "Mistral-Large-2024-02"
          ],
          [
           "Claude-3-Opus"
          ],
          [
           "Claude-3-Haiku"
          ],
          [
           "Claude-3-Sonnet"
          ],
          [
           "Llama-3-Instruct-70B"
          ],
          [
           "Llama-3-Instruct-8B"
          ],
          [
           "Mistral-8x22"
          ],
          [
           "Llama 2-13B"
          ],
          [
           "Llama 2-7B"
          ],
          [
           "GPT-4o-2024-05"
          ],
          [
           "Gemini-1.5-Pro-2024-05"
          ],
          [
           "Gemini-1.5-Flash-2024-05"
          ],
          [
           "Mistral-Large-2-2024-06"
          ],
          [
           "Mistral-NeMo"
          ],
          [
           "Claude-3.5-Haiku"
          ],
          [
           "Claude-3.5-Sonnet-2024-06"
          ],
          [
           "Gemma-2-9B"
          ],
          [
           "Gemma-2-27B"
          ],
          [
           "GPT-4o-mini"
          ],
          [
           "Llama-3.1-Instruct-70B"
          ],
          [
           "Llama-3.1-Instruct-405B"
          ],
          [
           "Llama-3.1-Instruct-8B"
          ],
          [
           "GPT-4o-2024-08"
          ],
          [
           "Claude Instant"
          ],
          [
           "Claude 2"
          ],
          [
           "Claude 2.1"
          ],
          [
           "Gemini 1.0 Pro"
          ],
          [
           "Cohere Command"
          ],
          [
           "Cohere Command Light"
          ],
          [
           "Command R"
          ],
          [
           "Command R+"
          ],
          [
           "Gemini-1.5-Pro-2024-09"
          ],
          [
           "Gemini-1.5-Flash-2024-09"
          ],
          [
           "Llama-3.2-Instruct-3B"
          ],
          [
           "Llama-3.2-Instruct-1B"
          ],
          [
           "DeepSeek-Coder-V2 236B"
          ],
          [
           "Jamba 1.5-Large"
          ],
          [
           "o1-mini"
          ],
          [
           "o1-preview"
          ],
          [
           "Command R+"
          ],
          [
           "Reka Core"
          ],
          [
           "Mistral 7B"
          ],
          [
           "Gemini-1.5-Flash-8B"
          ],
          [
           "Claude-3.5-Sonnet-2024-10"
          ],
          [
           "GPT-4o-2024-11"
          ],
          [
           "Mistral-Large-2-2024-11"
          ],
          [
           "o1"
          ],
          [
           "DeepSeek-V3"
          ],
          [
           "Mistral Small 3"
          ],
          [
           "Phi 4"
          ],
          [
           "DeepSeek-R1"
          ],
          [
           "o1-mini"
          ],
          [
           "o3-mini"
          ],
          [
           "Gemini 2.0 Flash"
          ]
         ],
         "hovertemplate": "Release Date=%{x}<br>MATH-500=%{y}<br>Model Name=%{customdata[0]}<extra></extra>",
         "legendgroup": "",
         "marker": {
          "color": "lightgray",
          "symbol": "circle"
         },
         "mode": "markers",
         "name": "",
         "orientation": "v",
         "showlegend": false,
         "type": "scatter",
         "x": [
          "2021-11-20T00:00:00",
          "2022-08-31T00:00:00",
          "2022-09-01T00:00:00",
          "2022-11-30T00:00:00",
          "2023-03-01T00:00:00",
          "2023-03-06T00:00:00",
          "2023-06-13T00:00:00",
          "2023-07-01T00:00:00",
          "2023-07-01T00:00:00",
          "2023-11-01T00:00:00",
          "2023-11-01T00:00:00",
          "2023-12-01T00:00:00",
          "2023-12-01T00:00:00",
          "2023-12-08T00:00:00",
          "2024-01-04T00:00:00",
          "2024-01-25T00:00:00",
          "2024-02-01T00:00:00",
          "2024-02-01T00:00:00",
          "2024-03-01T00:00:00",
          "2024-03-01T00:00:00",
          "2024-03-01T00:00:00",
          "2024-04-01T00:00:00",
          "2024-04-01T00:00:00",
          "2024-04-01T00:00:00",
          "2024-04-14T00:00:00",
          "2024-04-14T00:00:00",
          "2024-05-01T00:00:00",
          "2024-05-01T00:00:00",
          "2024-05-01T00:00:00",
          "2024-06-01T00:00:00",
          "2024-06-01T00:00:00",
          "2024-06-01T00:00:00",
          "2024-06-01T00:00:00",
          "2024-06-01T00:00:00",
          "2024-06-01T00:00:00",
          "2024-07-01T00:00:00",
          "2024-07-01T00:00:00",
          "2024-07-01T00:00:00",
          "2024-07-01T00:00:00",
          "2024-08-01T00:00:00",
          "2024-08-12T00:00:00",
          "2024-08-12T00:00:00",
          "2024-08-12T00:00:00",
          "2024-08-12T00:00:00",
          "2024-08-13T00:00:00",
          "2024-08-13T00:00:00",
          "2024-08-13T00:00:00",
          "2024-08-13T00:00:00",
          "2024-09-01T00:00:00",
          "2024-09-01T00:00:00",
          "2024-09-01T00:00:00",
          "2024-09-01T00:00:00",
          "2024-09-11T00:00:00",
          "2024-09-12T00:00:00",
          "2024-09-12T00:00:00",
          "2024-09-12T00:00:00",
          "2024-09-13T00:00:00",
          "2024-09-14T00:00:00",
          "2024-09-14T00:00:00",
          "2024-10-01T00:00:00",
          "2024-10-01T00:00:00",
          "2024-11-01T00:00:00",
          "2024-11-01T00:00:00",
          "2024-12-17T00:00:00",
          "2024-12-26T00:00:00",
          "2025-01-01T00:00:00",
          "2025-01-01T00:00:00",
          "2025-01-20T00:00:00",
          "2025-01-31T00:00:00",
          "2025-01-31T00:00:00",
          "2025-02-01T00:00:00"
         ],
         "xaxis": "x",
         "y": [
          null,
          null,
          null,
          null,
          21,
          null,
          44,
          null,
          null,
          74,
          44,
          null,
          null,
          null,
          null,
          44,
          56,
          49,
          64,
          39,
          41,
          53,
          32,
          56,
          null,
          null,
          79,
          66,
          55,
          71,
          44,
          67,
          71,
          50,
          54,
          79,
          64,
          70,
          50,
          80,
          null,
          null,
          null,
          null,
          null,
          null,
          null,
          null,
          88,
          83,
          50,
          13,
          null,
          null,
          null,
          null,
          null,
          null,
          null,
          70,
          76,
          75,
          72,
          null,
          null,
          74,
          81,
          null,
          null,
          null,
          93
         ],
         "yaxis": "y"
        },
        {
         "hovertemplate": "%{text}<extra></extra>",
         "line": {
          "color": "red"
         },
         "mode": "lines+markers",
         "name": "Top Model",
         "text": [
          "GPT-3",
          "GPT-4",
          "GPT-3.5 Turbo",
          "GPT-4 Turbo",
          "GPT-4o-2024-05",
          "GPT-4o-2024-08",
          "Gemini-1.5-Pro-2024-09",
          "Gemini 2.0 Flash"
         ],
         "type": "scatter",
         "x": [
          "2021-11-20T00:00:00",
          "2023-03-01T00:00:00",
          "2023-06-13T00:00:00",
          "2023-11-01T00:00:00",
          "2024-05-01T00:00:00",
          "2024-08-01T00:00:00",
          "2024-09-01T00:00:00",
          "2025-02-01T00:00:00"
         ],
         "y": [
          null,
          21,
          44,
          74,
          79,
          80,
          88,
          93
         ]
        }
       ],
       "layout": {
        "height": 400,
        "legend": {
         "tracegroupgap": 0
        },
        "template": {
         "data": {
          "bar": [
           {
            "error_x": {
             "color": "#2a3f5f"
            },
            "error_y": {
             "color": "#2a3f5f"
            },
            "marker": {
             "line": {
              "color": "white",
              "width": 0.5
             },
             "pattern": {
              "fillmode": "overlay",
              "size": 10,
              "solidity": 0.2
             }
            },
            "type": "bar"
           }
          ],
          "barpolar": [
           {
            "marker": {
             "line": {
              "color": "white",
              "width": 0.5
             },
             "pattern": {
              "fillmode": "overlay",
              "size": 10,
              "solidity": 0.2
             }
            },
            "type": "barpolar"
           }
          ],
          "carpet": [
           {
            "aaxis": {
             "endlinecolor": "#2a3f5f",
             "gridcolor": "#C8D4E3",
             "linecolor": "#C8D4E3",
             "minorgridcolor": "#C8D4E3",
             "startlinecolor": "#2a3f5f"
            },
            "baxis": {
             "endlinecolor": "#2a3f5f",
             "gridcolor": "#C8D4E3",
             "linecolor": "#C8D4E3",
             "minorgridcolor": "#C8D4E3",
             "startlinecolor": "#2a3f5f"
            },
            "type": "carpet"
           }
          ],
          "choropleth": [
           {
            "colorbar": {
             "outlinewidth": 0,
             "ticks": ""
            },
            "type": "choropleth"
           }
          ],
          "contour": [
           {
            "colorbar": {
             "outlinewidth": 0,
             "ticks": ""
            },
            "colorscale": [
             [
              0,
              "#0d0887"
             ],
             [
              0.1111111111111111,
              "#46039f"
             ],
             [
              0.2222222222222222,
              "#7201a8"
             ],
             [
              0.3333333333333333,
              "#9c179e"
             ],
             [
              0.4444444444444444,
              "#bd3786"
             ],
             [
              0.5555555555555556,
              "#d8576b"
             ],
             [
              0.6666666666666666,
              "#ed7953"
             ],
             [
              0.7777777777777778,
              "#fb9f3a"
             ],
             [
              0.8888888888888888,
              "#fdca26"
             ],
             [
              1,
              "#f0f921"
             ]
            ],
            "type": "contour"
           }
          ],
          "contourcarpet": [
           {
            "colorbar": {
             "outlinewidth": 0,
             "ticks": ""
            },
            "type": "contourcarpet"
           }
          ],
          "heatmap": [
           {
            "colorbar": {
             "outlinewidth": 0,
             "ticks": ""
            },
            "colorscale": [
             [
              0,
              "#0d0887"
             ],
             [
              0.1111111111111111,
              "#46039f"
             ],
             [
              0.2222222222222222,
              "#7201a8"
             ],
             [
              0.3333333333333333,
              "#9c179e"
             ],
             [
              0.4444444444444444,
              "#bd3786"
             ],
             [
              0.5555555555555556,
              "#d8576b"
             ],
             [
              0.6666666666666666,
              "#ed7953"
             ],
             [
              0.7777777777777778,
              "#fb9f3a"
             ],
             [
              0.8888888888888888,
              "#fdca26"
             ],
             [
              1,
              "#f0f921"
             ]
            ],
            "type": "heatmap"
           }
          ],
          "heatmapgl": [
           {
            "colorbar": {
             "outlinewidth": 0,
             "ticks": ""
            },
            "colorscale": [
             [
              0,
              "#0d0887"
             ],
             [
              0.1111111111111111,
              "#46039f"
             ],
             [
              0.2222222222222222,
              "#7201a8"
             ],
             [
              0.3333333333333333,
              "#9c179e"
             ],
             [
              0.4444444444444444,
              "#bd3786"
             ],
             [
              0.5555555555555556,
              "#d8576b"
             ],
             [
              0.6666666666666666,
              "#ed7953"
             ],
             [
              0.7777777777777778,
              "#fb9f3a"
             ],
             [
              0.8888888888888888,
              "#fdca26"
             ],
             [
              1,
              "#f0f921"
             ]
            ],
            "type": "heatmapgl"
           }
          ],
          "histogram": [
           {
            "marker": {
             "pattern": {
              "fillmode": "overlay",
              "size": 10,
              "solidity": 0.2
             }
            },
            "type": "histogram"
           }
          ],
          "histogram2d": [
           {
            "colorbar": {
             "outlinewidth": 0,
             "ticks": ""
            },
            "colorscale": [
             [
              0,
              "#0d0887"
             ],
             [
              0.1111111111111111,
              "#46039f"
             ],
             [
              0.2222222222222222,
              "#7201a8"
             ],
             [
              0.3333333333333333,
              "#9c179e"
             ],
             [
              0.4444444444444444,
              "#bd3786"
             ],
             [
              0.5555555555555556,
              "#d8576b"
             ],
             [
              0.6666666666666666,
              "#ed7953"
             ],
             [
              0.7777777777777778,
              "#fb9f3a"
             ],
             [
              0.8888888888888888,
              "#fdca26"
             ],
             [
              1,
              "#f0f921"
             ]
            ],
            "type": "histogram2d"
           }
          ],
          "histogram2dcontour": [
           {
            "colorbar": {
             "outlinewidth": 0,
             "ticks": ""
            },
            "colorscale": [
             [
              0,
              "#0d0887"
             ],
             [
              0.1111111111111111,
              "#46039f"
             ],
             [
              0.2222222222222222,
              "#7201a8"
             ],
             [
              0.3333333333333333,
              "#9c179e"
             ],
             [
              0.4444444444444444,
              "#bd3786"
             ],
             [
              0.5555555555555556,
              "#d8576b"
             ],
             [
              0.6666666666666666,
              "#ed7953"
             ],
             [
              0.7777777777777778,
              "#fb9f3a"
             ],
             [
              0.8888888888888888,
              "#fdca26"
             ],
             [
              1,
              "#f0f921"
             ]
            ],
            "type": "histogram2dcontour"
           }
          ],
          "mesh3d": [
           {
            "colorbar": {
             "outlinewidth": 0,
             "ticks": ""
            },
            "type": "mesh3d"
           }
          ],
          "parcoords": [
           {
            "line": {
             "colorbar": {
              "outlinewidth": 0,
              "ticks": ""
             }
            },
            "type": "parcoords"
           }
          ],
          "pie": [
           {
            "automargin": true,
            "type": "pie"
           }
          ],
          "scatter": [
           {
            "fillpattern": {
             "fillmode": "overlay",
             "size": 10,
             "solidity": 0.2
            },
            "type": "scatter"
           }
          ],
          "scatter3d": [
           {
            "line": {
             "colorbar": {
              "outlinewidth": 0,
              "ticks": ""
             }
            },
            "marker": {
             "colorbar": {
              "outlinewidth": 0,
              "ticks": ""
             }
            },
            "type": "scatter3d"
           }
          ],
          "scattercarpet": [
           {
            "marker": {
             "colorbar": {
              "outlinewidth": 0,
              "ticks": ""
             }
            },
            "type": "scattercarpet"
           }
          ],
          "scattergeo": [
           {
            "marker": {
             "colorbar": {
              "outlinewidth": 0,
              "ticks": ""
             }
            },
            "type": "scattergeo"
           }
          ],
          "scattergl": [
           {
            "marker": {
             "colorbar": {
              "outlinewidth": 0,
              "ticks": ""
             }
            },
            "type": "scattergl"
           }
          ],
          "scattermapbox": [
           {
            "marker": {
             "colorbar": {
              "outlinewidth": 0,
              "ticks": ""
             }
            },
            "type": "scattermapbox"
           }
          ],
          "scatterpolar": [
           {
            "marker": {
             "colorbar": {
              "outlinewidth": 0,
              "ticks": ""
             }
            },
            "type": "scatterpolar"
           }
          ],
          "scatterpolargl": [
           {
            "marker": {
             "colorbar": {
              "outlinewidth": 0,
              "ticks": ""
             }
            },
            "type": "scatterpolargl"
           }
          ],
          "scatterternary": [
           {
            "marker": {
             "colorbar": {
              "outlinewidth": 0,
              "ticks": ""
             }
            },
            "type": "scatterternary"
           }
          ],
          "surface": [
           {
            "colorbar": {
             "outlinewidth": 0,
             "ticks": ""
            },
            "colorscale": [
             [
              0,
              "#0d0887"
             ],
             [
              0.1111111111111111,
              "#46039f"
             ],
             [
              0.2222222222222222,
              "#7201a8"
             ],
             [
              0.3333333333333333,
              "#9c179e"
             ],
             [
              0.4444444444444444,
              "#bd3786"
             ],
             [
              0.5555555555555556,
              "#d8576b"
             ],
             [
              0.6666666666666666,
              "#ed7953"
             ],
             [
              0.7777777777777778,
              "#fb9f3a"
             ],
             [
              0.8888888888888888,
              "#fdca26"
             ],
             [
              1,
              "#f0f921"
             ]
            ],
            "type": "surface"
           }
          ],
          "table": [
           {
            "cells": {
             "fill": {
              "color": "#EBF0F8"
             },
             "line": {
              "color": "white"
             }
            },
            "header": {
             "fill": {
              "color": "#C8D4E3"
             },
             "line": {
              "color": "white"
             }
            },
            "type": "table"
           }
          ]
         },
         "layout": {
          "annotationdefaults": {
           "arrowcolor": "#2a3f5f",
           "arrowhead": 0,
           "arrowwidth": 1
          },
          "autotypenumbers": "strict",
          "coloraxis": {
           "colorbar": {
            "outlinewidth": 0,
            "ticks": ""
           }
          },
          "colorscale": {
           "diverging": [
            [
             0,
             "#8e0152"
            ],
            [
             0.1,
             "#c51b7d"
            ],
            [
             0.2,
             "#de77ae"
            ],
            [
             0.3,
             "#f1b6da"
            ],
            [
             0.4,
             "#fde0ef"
            ],
            [
             0.5,
             "#f7f7f7"
            ],
            [
             0.6,
             "#e6f5d0"
            ],
            [
             0.7,
             "#b8e186"
            ],
            [
             0.8,
             "#7fbc41"
            ],
            [
             0.9,
             "#4d9221"
            ],
            [
             1,
             "#276419"
            ]
           ],
           "sequential": [
            [
             0,
             "#0d0887"
            ],
            [
             0.1111111111111111,
             "#46039f"
            ],
            [
             0.2222222222222222,
             "#7201a8"
            ],
            [
             0.3333333333333333,
             "#9c179e"
            ],
            [
             0.4444444444444444,
             "#bd3786"
            ],
            [
             0.5555555555555556,
             "#d8576b"
            ],
            [
             0.6666666666666666,
             "#ed7953"
            ],
            [
             0.7777777777777778,
             "#fb9f3a"
            ],
            [
             0.8888888888888888,
             "#fdca26"
            ],
            [
             1,
             "#f0f921"
            ]
           ],
           "sequentialminus": [
            [
             0,
             "#0d0887"
            ],
            [
             0.1111111111111111,
             "#46039f"
            ],
            [
             0.2222222222222222,
             "#7201a8"
            ],
            [
             0.3333333333333333,
             "#9c179e"
            ],
            [
             0.4444444444444444,
             "#bd3786"
            ],
            [
             0.5555555555555556,
             "#d8576b"
            ],
            [
             0.6666666666666666,
             "#ed7953"
            ],
            [
             0.7777777777777778,
             "#fb9f3a"
            ],
            [
             0.8888888888888888,
             "#fdca26"
            ],
            [
             1,
             "#f0f921"
            ]
           ]
          },
          "colorway": [
           "#636efa",
           "#EF553B",
           "#00cc96",
           "#ab63fa",
           "#FFA15A",
           "#19d3f3",
           "#FF6692",
           "#B6E880",
           "#FF97FF",
           "#FECB52"
          ],
          "font": {
           "color": "#2a3f5f"
          },
          "geo": {
           "bgcolor": "white",
           "lakecolor": "white",
           "landcolor": "white",
           "showlakes": true,
           "showland": true,
           "subunitcolor": "#C8D4E3"
          },
          "hoverlabel": {
           "align": "left"
          },
          "hovermode": "closest",
          "mapbox": {
           "style": "light"
          },
          "paper_bgcolor": "white",
          "plot_bgcolor": "white",
          "polar": {
           "angularaxis": {
            "gridcolor": "#EBF0F8",
            "linecolor": "#EBF0F8",
            "ticks": ""
           },
           "bgcolor": "white",
           "radialaxis": {
            "gridcolor": "#EBF0F8",
            "linecolor": "#EBF0F8",
            "ticks": ""
           }
          },
          "scene": {
           "xaxis": {
            "backgroundcolor": "white",
            "gridcolor": "#DFE8F3",
            "gridwidth": 2,
            "linecolor": "#EBF0F8",
            "showbackground": true,
            "ticks": "",
            "zerolinecolor": "#EBF0F8"
           },
           "yaxis": {
            "backgroundcolor": "white",
            "gridcolor": "#DFE8F3",
            "gridwidth": 2,
            "linecolor": "#EBF0F8",
            "showbackground": true,
            "ticks": "",
            "zerolinecolor": "#EBF0F8"
           },
           "zaxis": {
            "backgroundcolor": "white",
            "gridcolor": "#DFE8F3",
            "gridwidth": 2,
            "linecolor": "#EBF0F8",
            "showbackground": true,
            "ticks": "",
            "zerolinecolor": "#EBF0F8"
           }
          },
          "shapedefaults": {
           "line": {
            "color": "#2a3f5f"
           }
          },
          "ternary": {
           "aaxis": {
            "gridcolor": "#DFE8F3",
            "linecolor": "#A2B1C6",
            "ticks": ""
           },
           "baxis": {
            "gridcolor": "#DFE8F3",
            "linecolor": "#A2B1C6",
            "ticks": ""
           },
           "bgcolor": "white",
           "caxis": {
            "gridcolor": "#DFE8F3",
            "linecolor": "#A2B1C6",
            "ticks": ""
           }
          },
          "title": {
           "x": 0.05
          },
          "xaxis": {
           "automargin": true,
           "gridcolor": "#EBF0F8",
           "linecolor": "#EBF0F8",
           "ticks": "",
           "title": {
            "standoff": 15
           },
           "zerolinecolor": "#EBF0F8",
           "zerolinewidth": 2
          },
          "yaxis": {
           "automargin": true,
           "gridcolor": "#EBF0F8",
           "linecolor": "#EBF0F8",
           "ticks": "",
           "title": {
            "standoff": 15
           },
           "zerolinecolor": "#EBF0F8",
           "zerolinewidth": 2
          }
         }
        },
        "title": {
         "text": "MATH-500 Performance over time"
        },
        "width": 800,
        "xaxis": {
         "anchor": "y",
         "domain": [
          0,
          1
         ],
         "title": {
          "text": "Release Date"
         }
        },
        "yaxis": {
         "anchor": "x",
         "domain": [
          0,
          1
         ],
         "title": {
          "text": "MATH-500"
         }
        }
       }
      }
     },
     "metadata": {},
     "output_type": "display_data"
    },
    {
     "name": "stdout",
     "output_type": "stream",
     "text": [
      "['GPT-4o-2024-05 (2024-05)', 'o1-mini (2024-09)', 'o1 (2024-12)', 'GPT-4 Turbo (2023-11)', 'o3-mini (2025-01)', 'GPT-4 (2023-03)', 'GPT-3 (2021-11)', 'Gemini-1.5-Pro-2024-09 (2024-09)']\n"
     ]
    },
    {
     "data": {
      "application/vnd.plotly.v1+json": {
       "config": {
        "plotlyServerURL": "https://plot.ly"
       },
       "data": [
        {
         "customdata": [
          [
           "GPT-3"
          ],
          [
           "GPT-3"
          ],
          [
           "GPT-3"
          ],
          [
           "GPT-3.5"
          ],
          [
           "GPT-4"
          ],
          [
           "GPT-3.5 Turbo"
          ],
          [
           "GPT-3.5 Turbo"
          ],
          [
           "Llama-2-Chat-7B"
          ],
          [
           "Llama-2-Chat-13B"
          ],
          [
           "GPT-4 Turbo"
          ],
          [
           "GPT-3.5 Turbo"
          ],
          [
           "Llama 2-7B"
          ],
          [
           "Llama 2-70B Chat"
          ],
          [
           "Llama 2-13B"
          ],
          [
           "GPT-3"
          ],
          [
           "GPT-3.5 Turbo"
          ],
          [
           "Mistral-Small-2024-02"
          ],
          [
           "Mistral-Large-2024-02"
          ],
          [
           "Claude-3-Opus"
          ],
          [
           "Claude-3-Haiku"
          ],
          [
           "Claude-3-Sonnet"
          ],
          [
           "Llama-3-Instruct-70B"
          ],
          [
           "Llama-3-Instruct-8B"
          ],
          [
           "Mistral-8x22"
          ],
          [
           "Llama 2-13B"
          ],
          [
           "Llama 2-7B"
          ],
          [
           "GPT-4o-2024-05"
          ],
          [
           "Gemini-1.5-Pro-2024-05"
          ],
          [
           "Gemini-1.5-Flash-2024-05"
          ],
          [
           "Mistral-Large-2-2024-06"
          ],
          [
           "Mistral-NeMo"
          ],
          [
           "Claude-3.5-Haiku"
          ],
          [
           "Claude-3.5-Sonnet-2024-06"
          ],
          [
           "Gemma-2-9B"
          ],
          [
           "Gemma-2-27B"
          ],
          [
           "GPT-4o-mini"
          ],
          [
           "Llama-3.1-Instruct-70B"
          ],
          [
           "Llama-3.1-Instruct-405B"
          ],
          [
           "Llama-3.1-Instruct-8B"
          ],
          [
           "GPT-4o-2024-08"
          ],
          [
           "Claude Instant"
          ],
          [
           "Claude 2"
          ],
          [
           "Claude 2.1"
          ],
          [
           "Gemini 1.0 Pro"
          ],
          [
           "Cohere Command"
          ],
          [
           "Cohere Command Light"
          ],
          [
           "Command R"
          ],
          [
           "Command R+"
          ],
          [
           "Gemini-1.5-Pro-2024-09"
          ],
          [
           "Gemini-1.5-Flash-2024-09"
          ],
          [
           "Llama-3.2-Instruct-3B"
          ],
          [
           "Llama-3.2-Instruct-1B"
          ],
          [
           "DeepSeek-Coder-V2 236B"
          ],
          [
           "Jamba 1.5-Large"
          ],
          [
           "o1-mini"
          ],
          [
           "o1-preview"
          ],
          [
           "Command R+"
          ],
          [
           "Reka Core"
          ],
          [
           "Mistral 7B"
          ],
          [
           "Gemini-1.5-Flash-8B"
          ],
          [
           "Claude-3.5-Sonnet-2024-10"
          ],
          [
           "GPT-4o-2024-11"
          ],
          [
           "Mistral-Large-2-2024-11"
          ],
          [
           "o1"
          ],
          [
           "DeepSeek-V3"
          ],
          [
           "Mistral Small 3"
          ],
          [
           "Phi 4"
          ],
          [
           "DeepSeek-R1"
          ],
          [
           "o1-mini"
          ],
          [
           "o3-mini"
          ],
          [
           "Gemini 2.0 Flash"
          ]
         ],
         "hovertemplate": "Release Date=%{x}<br>MATH 5=%{y}<br>Model Name=%{customdata[0]}<extra></extra>",
         "legendgroup": "",
         "marker": {
          "color": "lightgray",
          "symbol": "circle"
         },
         "mode": "markers",
         "name": "",
         "orientation": "v",
         "showlegend": false,
         "type": "scatter",
         "x": [
          "2021-11-20T00:00:00",
          "2022-08-31T00:00:00",
          "2022-09-01T00:00:00",
          "2022-11-30T00:00:00",
          "2023-03-01T00:00:00",
          "2023-03-06T00:00:00",
          "2023-06-13T00:00:00",
          "2023-07-01T00:00:00",
          "2023-07-01T00:00:00",
          "2023-11-01T00:00:00",
          "2023-11-01T00:00:00",
          "2023-12-01T00:00:00",
          "2023-12-01T00:00:00",
          "2023-12-08T00:00:00",
          "2024-01-04T00:00:00",
          "2024-01-25T00:00:00",
          "2024-02-01T00:00:00",
          "2024-02-01T00:00:00",
          "2024-03-01T00:00:00",
          "2024-03-01T00:00:00",
          "2024-03-01T00:00:00",
          "2024-04-01T00:00:00",
          "2024-04-01T00:00:00",
          "2024-04-01T00:00:00",
          "2024-04-14T00:00:00",
          "2024-04-14T00:00:00",
          "2024-05-01T00:00:00",
          "2024-05-01T00:00:00",
          "2024-05-01T00:00:00",
          "2024-06-01T00:00:00",
          "2024-06-01T00:00:00",
          "2024-06-01T00:00:00",
          "2024-06-01T00:00:00",
          "2024-06-01T00:00:00",
          "2024-06-01T00:00:00",
          "2024-07-01T00:00:00",
          "2024-07-01T00:00:00",
          "2024-07-01T00:00:00",
          "2024-07-01T00:00:00",
          "2024-08-01T00:00:00",
          "2024-08-12T00:00:00",
          "2024-08-12T00:00:00",
          "2024-08-12T00:00:00",
          "2024-08-12T00:00:00",
          "2024-08-13T00:00:00",
          "2024-08-13T00:00:00",
          "2024-08-13T00:00:00",
          "2024-08-13T00:00:00",
          "2024-09-01T00:00:00",
          "2024-09-01T00:00:00",
          "2024-09-01T00:00:00",
          "2024-09-01T00:00:00",
          "2024-09-11T00:00:00",
          "2024-09-12T00:00:00",
          "2024-09-12T00:00:00",
          "2024-09-12T00:00:00",
          "2024-09-13T00:00:00",
          "2024-09-14T00:00:00",
          "2024-09-14T00:00:00",
          "2024-10-01T00:00:00",
          "2024-10-01T00:00:00",
          "2024-11-01T00:00:00",
          "2024-11-01T00:00:00",
          "2024-12-17T00:00:00",
          "2024-12-26T00:00:00",
          "2025-01-01T00:00:00",
          "2025-01-01T00:00:00",
          "2025-01-20T00:00:00",
          "2025-01-31T00:00:00",
          "2025-01-31T00:00:00",
          "2025-02-01T00:00:00"
         ],
         "xaxis": "x",
         "y": [
          null,
          null,
          null,
          null,
          23,
          null,
          15,
          null,
          null,
          36,
          15,
          null,
          3,
          null,
          null,
          11,
          null,
          21,
          34,
          13,
          16,
          22,
          8,
          23,
          null,
          null,
          48,
          41,
          23,
          45,
          10,
          null,
          46,
          18,
          23,
          48,
          39,
          45,
          22,
          47,
          null,
          10,
          11,
          11,
          null,
          null,
          null,
          null,
          67,
          58,
          null,
          null,
          null,
          null,
          84.3,
          68,
          null,
          null,
          3,
          null,
          53,
          50,
          null,
          94.4,
          65,
          45,
          65,
          93.1,
          84.3,
          95.2,
          82
         ],
         "yaxis": "y"
        },
        {
         "hovertemplate": "%{text}<extra></extra>",
         "line": {
          "color": "red"
         },
         "mode": "lines+markers",
         "name": "Top Model",
         "text": [
          "GPT-3",
          "GPT-4",
          "GPT-4 Turbo",
          "GPT-4o-2024-05",
          "Gemini-1.5-Pro-2024-09",
          "o1-mini",
          "o1",
          "o3-mini"
         ],
         "type": "scatter",
         "x": [
          "2021-11-20T00:00:00",
          "2023-03-01T00:00:00",
          "2023-11-01T00:00:00",
          "2024-05-01T00:00:00",
          "2024-09-01T00:00:00",
          "2024-09-12T00:00:00",
          "2024-12-17T00:00:00",
          "2025-01-31T00:00:00"
         ],
         "y": [
          null,
          23,
          36,
          48,
          67,
          84.3,
          94.4,
          95.2
         ]
        }
       ],
       "layout": {
        "height": 400,
        "legend": {
         "tracegroupgap": 0
        },
        "template": {
         "data": {
          "bar": [
           {
            "error_x": {
             "color": "#2a3f5f"
            },
            "error_y": {
             "color": "#2a3f5f"
            },
            "marker": {
             "line": {
              "color": "white",
              "width": 0.5
             },
             "pattern": {
              "fillmode": "overlay",
              "size": 10,
              "solidity": 0.2
             }
            },
            "type": "bar"
           }
          ],
          "barpolar": [
           {
            "marker": {
             "line": {
              "color": "white",
              "width": 0.5
             },
             "pattern": {
              "fillmode": "overlay",
              "size": 10,
              "solidity": 0.2
             }
            },
            "type": "barpolar"
           }
          ],
          "carpet": [
           {
            "aaxis": {
             "endlinecolor": "#2a3f5f",
             "gridcolor": "#C8D4E3",
             "linecolor": "#C8D4E3",
             "minorgridcolor": "#C8D4E3",
             "startlinecolor": "#2a3f5f"
            },
            "baxis": {
             "endlinecolor": "#2a3f5f",
             "gridcolor": "#C8D4E3",
             "linecolor": "#C8D4E3",
             "minorgridcolor": "#C8D4E3",
             "startlinecolor": "#2a3f5f"
            },
            "type": "carpet"
           }
          ],
          "choropleth": [
           {
            "colorbar": {
             "outlinewidth": 0,
             "ticks": ""
            },
            "type": "choropleth"
           }
          ],
          "contour": [
           {
            "colorbar": {
             "outlinewidth": 0,
             "ticks": ""
            },
            "colorscale": [
             [
              0,
              "#0d0887"
             ],
             [
              0.1111111111111111,
              "#46039f"
             ],
             [
              0.2222222222222222,
              "#7201a8"
             ],
             [
              0.3333333333333333,
              "#9c179e"
             ],
             [
              0.4444444444444444,
              "#bd3786"
             ],
             [
              0.5555555555555556,
              "#d8576b"
             ],
             [
              0.6666666666666666,
              "#ed7953"
             ],
             [
              0.7777777777777778,
              "#fb9f3a"
             ],
             [
              0.8888888888888888,
              "#fdca26"
             ],
             [
              1,
              "#f0f921"
             ]
            ],
            "type": "contour"
           }
          ],
          "contourcarpet": [
           {
            "colorbar": {
             "outlinewidth": 0,
             "ticks": ""
            },
            "type": "contourcarpet"
           }
          ],
          "heatmap": [
           {
            "colorbar": {
             "outlinewidth": 0,
             "ticks": ""
            },
            "colorscale": [
             [
              0,
              "#0d0887"
             ],
             [
              0.1111111111111111,
              "#46039f"
             ],
             [
              0.2222222222222222,
              "#7201a8"
             ],
             [
              0.3333333333333333,
              "#9c179e"
             ],
             [
              0.4444444444444444,
              "#bd3786"
             ],
             [
              0.5555555555555556,
              "#d8576b"
             ],
             [
              0.6666666666666666,
              "#ed7953"
             ],
             [
              0.7777777777777778,
              "#fb9f3a"
             ],
             [
              0.8888888888888888,
              "#fdca26"
             ],
             [
              1,
              "#f0f921"
             ]
            ],
            "type": "heatmap"
           }
          ],
          "heatmapgl": [
           {
            "colorbar": {
             "outlinewidth": 0,
             "ticks": ""
            },
            "colorscale": [
             [
              0,
              "#0d0887"
             ],
             [
              0.1111111111111111,
              "#46039f"
             ],
             [
              0.2222222222222222,
              "#7201a8"
             ],
             [
              0.3333333333333333,
              "#9c179e"
             ],
             [
              0.4444444444444444,
              "#bd3786"
             ],
             [
              0.5555555555555556,
              "#d8576b"
             ],
             [
              0.6666666666666666,
              "#ed7953"
             ],
             [
              0.7777777777777778,
              "#fb9f3a"
             ],
             [
              0.8888888888888888,
              "#fdca26"
             ],
             [
              1,
              "#f0f921"
             ]
            ],
            "type": "heatmapgl"
           }
          ],
          "histogram": [
           {
            "marker": {
             "pattern": {
              "fillmode": "overlay",
              "size": 10,
              "solidity": 0.2
             }
            },
            "type": "histogram"
           }
          ],
          "histogram2d": [
           {
            "colorbar": {
             "outlinewidth": 0,
             "ticks": ""
            },
            "colorscale": [
             [
              0,
              "#0d0887"
             ],
             [
              0.1111111111111111,
              "#46039f"
             ],
             [
              0.2222222222222222,
              "#7201a8"
             ],
             [
              0.3333333333333333,
              "#9c179e"
             ],
             [
              0.4444444444444444,
              "#bd3786"
             ],
             [
              0.5555555555555556,
              "#d8576b"
             ],
             [
              0.6666666666666666,
              "#ed7953"
             ],
             [
              0.7777777777777778,
              "#fb9f3a"
             ],
             [
              0.8888888888888888,
              "#fdca26"
             ],
             [
              1,
              "#f0f921"
             ]
            ],
            "type": "histogram2d"
           }
          ],
          "histogram2dcontour": [
           {
            "colorbar": {
             "outlinewidth": 0,
             "ticks": ""
            },
            "colorscale": [
             [
              0,
              "#0d0887"
             ],
             [
              0.1111111111111111,
              "#46039f"
             ],
             [
              0.2222222222222222,
              "#7201a8"
             ],
             [
              0.3333333333333333,
              "#9c179e"
             ],
             [
              0.4444444444444444,
              "#bd3786"
             ],
             [
              0.5555555555555556,
              "#d8576b"
             ],
             [
              0.6666666666666666,
              "#ed7953"
             ],
             [
              0.7777777777777778,
              "#fb9f3a"
             ],
             [
              0.8888888888888888,
              "#fdca26"
             ],
             [
              1,
              "#f0f921"
             ]
            ],
            "type": "histogram2dcontour"
           }
          ],
          "mesh3d": [
           {
            "colorbar": {
             "outlinewidth": 0,
             "ticks": ""
            },
            "type": "mesh3d"
           }
          ],
          "parcoords": [
           {
            "line": {
             "colorbar": {
              "outlinewidth": 0,
              "ticks": ""
             }
            },
            "type": "parcoords"
           }
          ],
          "pie": [
           {
            "automargin": true,
            "type": "pie"
           }
          ],
          "scatter": [
           {
            "fillpattern": {
             "fillmode": "overlay",
             "size": 10,
             "solidity": 0.2
            },
            "type": "scatter"
           }
          ],
          "scatter3d": [
           {
            "line": {
             "colorbar": {
              "outlinewidth": 0,
              "ticks": ""
             }
            },
            "marker": {
             "colorbar": {
              "outlinewidth": 0,
              "ticks": ""
             }
            },
            "type": "scatter3d"
           }
          ],
          "scattercarpet": [
           {
            "marker": {
             "colorbar": {
              "outlinewidth": 0,
              "ticks": ""
             }
            },
            "type": "scattercarpet"
           }
          ],
          "scattergeo": [
           {
            "marker": {
             "colorbar": {
              "outlinewidth": 0,
              "ticks": ""
             }
            },
            "type": "scattergeo"
           }
          ],
          "scattergl": [
           {
            "marker": {
             "colorbar": {
              "outlinewidth": 0,
              "ticks": ""
             }
            },
            "type": "scattergl"
           }
          ],
          "scattermapbox": [
           {
            "marker": {
             "colorbar": {
              "outlinewidth": 0,
              "ticks": ""
             }
            },
            "type": "scattermapbox"
           }
          ],
          "scatterpolar": [
           {
            "marker": {
             "colorbar": {
              "outlinewidth": 0,
              "ticks": ""
             }
            },
            "type": "scatterpolar"
           }
          ],
          "scatterpolargl": [
           {
            "marker": {
             "colorbar": {
              "outlinewidth": 0,
              "ticks": ""
             }
            },
            "type": "scatterpolargl"
           }
          ],
          "scatterternary": [
           {
            "marker": {
             "colorbar": {
              "outlinewidth": 0,
              "ticks": ""
             }
            },
            "type": "scatterternary"
           }
          ],
          "surface": [
           {
            "colorbar": {
             "outlinewidth": 0,
             "ticks": ""
            },
            "colorscale": [
             [
              0,
              "#0d0887"
             ],
             [
              0.1111111111111111,
              "#46039f"
             ],
             [
              0.2222222222222222,
              "#7201a8"
             ],
             [
              0.3333333333333333,
              "#9c179e"
             ],
             [
              0.4444444444444444,
              "#bd3786"
             ],
             [
              0.5555555555555556,
              "#d8576b"
             ],
             [
              0.6666666666666666,
              "#ed7953"
             ],
             [
              0.7777777777777778,
              "#fb9f3a"
             ],
             [
              0.8888888888888888,
              "#fdca26"
             ],
             [
              1,
              "#f0f921"
             ]
            ],
            "type": "surface"
           }
          ],
          "table": [
           {
            "cells": {
             "fill": {
              "color": "#EBF0F8"
             },
             "line": {
              "color": "white"
             }
            },
            "header": {
             "fill": {
              "color": "#C8D4E3"
             },
             "line": {
              "color": "white"
             }
            },
            "type": "table"
           }
          ]
         },
         "layout": {
          "annotationdefaults": {
           "arrowcolor": "#2a3f5f",
           "arrowhead": 0,
           "arrowwidth": 1
          },
          "autotypenumbers": "strict",
          "coloraxis": {
           "colorbar": {
            "outlinewidth": 0,
            "ticks": ""
           }
          },
          "colorscale": {
           "diverging": [
            [
             0,
             "#8e0152"
            ],
            [
             0.1,
             "#c51b7d"
            ],
            [
             0.2,
             "#de77ae"
            ],
            [
             0.3,
             "#f1b6da"
            ],
            [
             0.4,
             "#fde0ef"
            ],
            [
             0.5,
             "#f7f7f7"
            ],
            [
             0.6,
             "#e6f5d0"
            ],
            [
             0.7,
             "#b8e186"
            ],
            [
             0.8,
             "#7fbc41"
            ],
            [
             0.9,
             "#4d9221"
            ],
            [
             1,
             "#276419"
            ]
           ],
           "sequential": [
            [
             0,
             "#0d0887"
            ],
            [
             0.1111111111111111,
             "#46039f"
            ],
            [
             0.2222222222222222,
             "#7201a8"
            ],
            [
             0.3333333333333333,
             "#9c179e"
            ],
            [
             0.4444444444444444,
             "#bd3786"
            ],
            [
             0.5555555555555556,
             "#d8576b"
            ],
            [
             0.6666666666666666,
             "#ed7953"
            ],
            [
             0.7777777777777778,
             "#fb9f3a"
            ],
            [
             0.8888888888888888,
             "#fdca26"
            ],
            [
             1,
             "#f0f921"
            ]
           ],
           "sequentialminus": [
            [
             0,
             "#0d0887"
            ],
            [
             0.1111111111111111,
             "#46039f"
            ],
            [
             0.2222222222222222,
             "#7201a8"
            ],
            [
             0.3333333333333333,
             "#9c179e"
            ],
            [
             0.4444444444444444,
             "#bd3786"
            ],
            [
             0.5555555555555556,
             "#d8576b"
            ],
            [
             0.6666666666666666,
             "#ed7953"
            ],
            [
             0.7777777777777778,
             "#fb9f3a"
            ],
            [
             0.8888888888888888,
             "#fdca26"
            ],
            [
             1,
             "#f0f921"
            ]
           ]
          },
          "colorway": [
           "#636efa",
           "#EF553B",
           "#00cc96",
           "#ab63fa",
           "#FFA15A",
           "#19d3f3",
           "#FF6692",
           "#B6E880",
           "#FF97FF",
           "#FECB52"
          ],
          "font": {
           "color": "#2a3f5f"
          },
          "geo": {
           "bgcolor": "white",
           "lakecolor": "white",
           "landcolor": "white",
           "showlakes": true,
           "showland": true,
           "subunitcolor": "#C8D4E3"
          },
          "hoverlabel": {
           "align": "left"
          },
          "hovermode": "closest",
          "mapbox": {
           "style": "light"
          },
          "paper_bgcolor": "white",
          "plot_bgcolor": "white",
          "polar": {
           "angularaxis": {
            "gridcolor": "#EBF0F8",
            "linecolor": "#EBF0F8",
            "ticks": ""
           },
           "bgcolor": "white",
           "radialaxis": {
            "gridcolor": "#EBF0F8",
            "linecolor": "#EBF0F8",
            "ticks": ""
           }
          },
          "scene": {
           "xaxis": {
            "backgroundcolor": "white",
            "gridcolor": "#DFE8F3",
            "gridwidth": 2,
            "linecolor": "#EBF0F8",
            "showbackground": true,
            "ticks": "",
            "zerolinecolor": "#EBF0F8"
           },
           "yaxis": {
            "backgroundcolor": "white",
            "gridcolor": "#DFE8F3",
            "gridwidth": 2,
            "linecolor": "#EBF0F8",
            "showbackground": true,
            "ticks": "",
            "zerolinecolor": "#EBF0F8"
           },
           "zaxis": {
            "backgroundcolor": "white",
            "gridcolor": "#DFE8F3",
            "gridwidth": 2,
            "linecolor": "#EBF0F8",
            "showbackground": true,
            "ticks": "",
            "zerolinecolor": "#EBF0F8"
           }
          },
          "shapedefaults": {
           "line": {
            "color": "#2a3f5f"
           }
          },
          "ternary": {
           "aaxis": {
            "gridcolor": "#DFE8F3",
            "linecolor": "#A2B1C6",
            "ticks": ""
           },
           "baxis": {
            "gridcolor": "#DFE8F3",
            "linecolor": "#A2B1C6",
            "ticks": ""
           },
           "bgcolor": "white",
           "caxis": {
            "gridcolor": "#DFE8F3",
            "linecolor": "#A2B1C6",
            "ticks": ""
           }
          },
          "title": {
           "x": 0.05
          },
          "xaxis": {
           "automargin": true,
           "gridcolor": "#EBF0F8",
           "linecolor": "#EBF0F8",
           "ticks": "",
           "title": {
            "standoff": 15
           },
           "zerolinecolor": "#EBF0F8",
           "zerolinewidth": 2
          },
          "yaxis": {
           "automargin": true,
           "gridcolor": "#EBF0F8",
           "linecolor": "#EBF0F8",
           "ticks": "",
           "title": {
            "standoff": 15
           },
           "zerolinecolor": "#EBF0F8",
           "zerolinewidth": 2
          }
         }
        },
        "title": {
         "text": "MATH 5 Performance over time"
        },
        "width": 800,
        "xaxis": {
         "anchor": "y",
         "domain": [
          0,
          1
         ],
         "title": {
          "text": "Release Date"
         }
        },
        "yaxis": {
         "anchor": "x",
         "domain": [
          0,
          1
         ],
         "title": {
          "text": "MATH 5"
         }
        }
       }
      }
     },
     "metadata": {},
     "output_type": "display_data"
    },
    {
     "name": "stdout",
     "output_type": "stream",
     "text": [
      "['GPT-4o-2024-05 (2024-05)', 'GPT-4 Turbo (2023-11)', 'GPT-4 (2023-03)', 'GPT-3 (2021-11)', 'Claude-3.5-Sonnet-2024-10 (2024-10)', 'GPT-3.5 Turbo (2023-06)']\n"
     ]
    },
    {
     "data": {
      "application/vnd.plotly.v1+json": {
       "config": {
        "plotlyServerURL": "https://plot.ly"
       },
       "data": [
        {
         "customdata": [
          [
           "GPT-3"
          ],
          [
           "GPT-3"
          ],
          [
           "GPT-3"
          ],
          [
           "GPT-3.5"
          ],
          [
           "GPT-4"
          ],
          [
           "GPT-3.5 Turbo"
          ],
          [
           "GPT-3.5 Turbo"
          ],
          [
           "Llama-2-Chat-7B"
          ],
          [
           "Llama-2-Chat-13B"
          ],
          [
           "GPT-4 Turbo"
          ],
          [
           "GPT-3.5 Turbo"
          ],
          [
           "Llama 2-7B"
          ],
          [
           "Llama 2-70B Chat"
          ],
          [
           "Llama 2-13B"
          ],
          [
           "GPT-3"
          ],
          [
           "GPT-3.5 Turbo"
          ],
          [
           "Mistral-Small-2024-02"
          ],
          [
           "Mistral-Large-2024-02"
          ],
          [
           "Claude-3-Opus"
          ],
          [
           "Claude-3-Haiku"
          ],
          [
           "Claude-3-Sonnet"
          ],
          [
           "Llama-3-Instruct-70B"
          ],
          [
           "Llama-3-Instruct-8B"
          ],
          [
           "Mistral-8x22"
          ],
          [
           "Llama 2-13B"
          ],
          [
           "Llama 2-7B"
          ],
          [
           "GPT-4o-2024-05"
          ],
          [
           "Gemini-1.5-Pro-2024-05"
          ],
          [
           "Gemini-1.5-Flash-2024-05"
          ],
          [
           "Mistral-Large-2-2024-06"
          ],
          [
           "Mistral-NeMo"
          ],
          [
           "Claude-3.5-Haiku"
          ],
          [
           "Claude-3.5-Sonnet-2024-06"
          ],
          [
           "Gemma-2-9B"
          ],
          [
           "Gemma-2-27B"
          ],
          [
           "GPT-4o-mini"
          ],
          [
           "Llama-3.1-Instruct-70B"
          ],
          [
           "Llama-3.1-Instruct-405B"
          ],
          [
           "Llama-3.1-Instruct-8B"
          ],
          [
           "GPT-4o-2024-08"
          ],
          [
           "Claude Instant"
          ],
          [
           "Claude 2"
          ],
          [
           "Claude 2.1"
          ],
          [
           "Gemini 1.0 Pro"
          ],
          [
           "Cohere Command"
          ],
          [
           "Cohere Command Light"
          ],
          [
           "Command R"
          ],
          [
           "Command R+"
          ],
          [
           "Gemini-1.5-Pro-2024-09"
          ],
          [
           "Gemini-1.5-Flash-2024-09"
          ],
          [
           "Llama-3.2-Instruct-3B"
          ],
          [
           "Llama-3.2-Instruct-1B"
          ],
          [
           "DeepSeek-Coder-V2 236B"
          ],
          [
           "Jamba 1.5-Large"
          ],
          [
           "o1-mini"
          ],
          [
           "o1-preview"
          ],
          [
           "Command R+"
          ],
          [
           "Reka Core"
          ],
          [
           "Mistral 7B"
          ],
          [
           "Gemini-1.5-Flash-8B"
          ],
          [
           "Claude-3.5-Sonnet-2024-10"
          ],
          [
           "GPT-4o-2024-11"
          ],
          [
           "Mistral-Large-2-2024-11"
          ],
          [
           "o1"
          ],
          [
           "DeepSeek-V3"
          ],
          [
           "Mistral Small 3"
          ],
          [
           "Phi 4"
          ],
          [
           "DeepSeek-R1"
          ],
          [
           "o1-mini"
          ],
          [
           "o3-mini"
          ],
          [
           "Gemini 2.0 Flash"
          ]
         ],
         "hovertemplate": "Release Date=%{x}<br>HumanEval=%{y}<br>Model Name=%{customdata[0]}<extra></extra>",
         "legendgroup": "",
         "marker": {
          "color": "lightgray",
          "symbol": "circle"
         },
         "mode": "markers",
         "name": "",
         "orientation": "v",
         "showlegend": false,
         "type": "scatter",
         "x": [
          "2021-11-20T00:00:00",
          "2022-08-31T00:00:00",
          "2022-09-01T00:00:00",
          "2022-11-30T00:00:00",
          "2023-03-01T00:00:00",
          "2023-03-06T00:00:00",
          "2023-06-13T00:00:00",
          "2023-07-01T00:00:00",
          "2023-07-01T00:00:00",
          "2023-11-01T00:00:00",
          "2023-11-01T00:00:00",
          "2023-12-01T00:00:00",
          "2023-12-01T00:00:00",
          "2023-12-08T00:00:00",
          "2024-01-04T00:00:00",
          "2024-01-25T00:00:00",
          "2024-02-01T00:00:00",
          "2024-02-01T00:00:00",
          "2024-03-01T00:00:00",
          "2024-03-01T00:00:00",
          "2024-03-01T00:00:00",
          "2024-04-01T00:00:00",
          "2024-04-01T00:00:00",
          "2024-04-01T00:00:00",
          "2024-04-14T00:00:00",
          "2024-04-14T00:00:00",
          "2024-05-01T00:00:00",
          "2024-05-01T00:00:00",
          "2024-05-01T00:00:00",
          "2024-06-01T00:00:00",
          "2024-06-01T00:00:00",
          "2024-06-01T00:00:00",
          "2024-06-01T00:00:00",
          "2024-06-01T00:00:00",
          "2024-06-01T00:00:00",
          "2024-07-01T00:00:00",
          "2024-07-01T00:00:00",
          "2024-07-01T00:00:00",
          "2024-07-01T00:00:00",
          "2024-08-01T00:00:00",
          "2024-08-12T00:00:00",
          "2024-08-12T00:00:00",
          "2024-08-12T00:00:00",
          "2024-08-12T00:00:00",
          "2024-08-13T00:00:00",
          "2024-08-13T00:00:00",
          "2024-08-13T00:00:00",
          "2024-08-13T00:00:00",
          "2024-09-01T00:00:00",
          "2024-09-01T00:00:00",
          "2024-09-01T00:00:00",
          "2024-09-01T00:00:00",
          "2024-09-11T00:00:00",
          "2024-09-12T00:00:00",
          "2024-09-12T00:00:00",
          "2024-09-12T00:00:00",
          "2024-09-13T00:00:00",
          "2024-09-14T00:00:00",
          "2024-09-14T00:00:00",
          "2024-10-01T00:00:00",
          "2024-10-01T00:00:00",
          "2024-11-01T00:00:00",
          "2024-11-01T00:00:00",
          "2024-12-17T00:00:00",
          "2024-12-26T00:00:00",
          "2025-01-01T00:00:00",
          "2025-01-01T00:00:00",
          "2025-01-20T00:00:00",
          "2025-01-31T00:00:00",
          "2025-01-31T00:00:00",
          "2025-02-01T00:00:00"
         ],
         "xaxis": "x",
         "y": [
          null,
          null,
          null,
          null,
          67,
          null,
          71,
          13,
          null,
          92,
          71,
          null,
          null,
          null,
          null,
          71,
          79,
          69,
          83,
          77,
          71,
          18,
          53,
          74,
          null,
          null,
          93,
          83,
          null,
          91,
          71,
          87,
          90,
          64,
          76,
          88,
          80,
          87,
          67,
          93,
          null,
          null,
          null,
          null,
          null,
          null,
          null,
          null,
          88,
          83,
          60,
          40,
          null,
          null,
          null,
          null,
          null,
          null,
          null,
          12,
          96,
          93,
          90,
          null,
          null,
          85,
          87,
          null,
          null,
          null,
          90
         ],
         "yaxis": "y"
        },
        {
         "hovertemplate": "%{text}<extra></extra>",
         "line": {
          "color": "red"
         },
         "mode": "lines+markers",
         "name": "Top Model",
         "text": [
          "GPT-3",
          "GPT-4",
          "GPT-3.5 Turbo",
          "GPT-4 Turbo",
          "GPT-4o-2024-05",
          "Claude-3.5-Sonnet-2024-10"
         ],
         "type": "scatter",
         "x": [
          "2021-11-20T00:00:00",
          "2023-03-01T00:00:00",
          "2023-06-13T00:00:00",
          "2023-11-01T00:00:00",
          "2024-05-01T00:00:00",
          "2024-10-01T00:00:00"
         ],
         "y": [
          null,
          67,
          71,
          92,
          93,
          96
         ]
        }
       ],
       "layout": {
        "height": 400,
        "legend": {
         "tracegroupgap": 0
        },
        "template": {
         "data": {
          "bar": [
           {
            "error_x": {
             "color": "#2a3f5f"
            },
            "error_y": {
             "color": "#2a3f5f"
            },
            "marker": {
             "line": {
              "color": "white",
              "width": 0.5
             },
             "pattern": {
              "fillmode": "overlay",
              "size": 10,
              "solidity": 0.2
             }
            },
            "type": "bar"
           }
          ],
          "barpolar": [
           {
            "marker": {
             "line": {
              "color": "white",
              "width": 0.5
             },
             "pattern": {
              "fillmode": "overlay",
              "size": 10,
              "solidity": 0.2
             }
            },
            "type": "barpolar"
           }
          ],
          "carpet": [
           {
            "aaxis": {
             "endlinecolor": "#2a3f5f",
             "gridcolor": "#C8D4E3",
             "linecolor": "#C8D4E3",
             "minorgridcolor": "#C8D4E3",
             "startlinecolor": "#2a3f5f"
            },
            "baxis": {
             "endlinecolor": "#2a3f5f",
             "gridcolor": "#C8D4E3",
             "linecolor": "#C8D4E3",
             "minorgridcolor": "#C8D4E3",
             "startlinecolor": "#2a3f5f"
            },
            "type": "carpet"
           }
          ],
          "choropleth": [
           {
            "colorbar": {
             "outlinewidth": 0,
             "ticks": ""
            },
            "type": "choropleth"
           }
          ],
          "contour": [
           {
            "colorbar": {
             "outlinewidth": 0,
             "ticks": ""
            },
            "colorscale": [
             [
              0,
              "#0d0887"
             ],
             [
              0.1111111111111111,
              "#46039f"
             ],
             [
              0.2222222222222222,
              "#7201a8"
             ],
             [
              0.3333333333333333,
              "#9c179e"
             ],
             [
              0.4444444444444444,
              "#bd3786"
             ],
             [
              0.5555555555555556,
              "#d8576b"
             ],
             [
              0.6666666666666666,
              "#ed7953"
             ],
             [
              0.7777777777777778,
              "#fb9f3a"
             ],
             [
              0.8888888888888888,
              "#fdca26"
             ],
             [
              1,
              "#f0f921"
             ]
            ],
            "type": "contour"
           }
          ],
          "contourcarpet": [
           {
            "colorbar": {
             "outlinewidth": 0,
             "ticks": ""
            },
            "type": "contourcarpet"
           }
          ],
          "heatmap": [
           {
            "colorbar": {
             "outlinewidth": 0,
             "ticks": ""
            },
            "colorscale": [
             [
              0,
              "#0d0887"
             ],
             [
              0.1111111111111111,
              "#46039f"
             ],
             [
              0.2222222222222222,
              "#7201a8"
             ],
             [
              0.3333333333333333,
              "#9c179e"
             ],
             [
              0.4444444444444444,
              "#bd3786"
             ],
             [
              0.5555555555555556,
              "#d8576b"
             ],
             [
              0.6666666666666666,
              "#ed7953"
             ],
             [
              0.7777777777777778,
              "#fb9f3a"
             ],
             [
              0.8888888888888888,
              "#fdca26"
             ],
             [
              1,
              "#f0f921"
             ]
            ],
            "type": "heatmap"
           }
          ],
          "heatmapgl": [
           {
            "colorbar": {
             "outlinewidth": 0,
             "ticks": ""
            },
            "colorscale": [
             [
              0,
              "#0d0887"
             ],
             [
              0.1111111111111111,
              "#46039f"
             ],
             [
              0.2222222222222222,
              "#7201a8"
             ],
             [
              0.3333333333333333,
              "#9c179e"
             ],
             [
              0.4444444444444444,
              "#bd3786"
             ],
             [
              0.5555555555555556,
              "#d8576b"
             ],
             [
              0.6666666666666666,
              "#ed7953"
             ],
             [
              0.7777777777777778,
              "#fb9f3a"
             ],
             [
              0.8888888888888888,
              "#fdca26"
             ],
             [
              1,
              "#f0f921"
             ]
            ],
            "type": "heatmapgl"
           }
          ],
          "histogram": [
           {
            "marker": {
             "pattern": {
              "fillmode": "overlay",
              "size": 10,
              "solidity": 0.2
             }
            },
            "type": "histogram"
           }
          ],
          "histogram2d": [
           {
            "colorbar": {
             "outlinewidth": 0,
             "ticks": ""
            },
            "colorscale": [
             [
              0,
              "#0d0887"
             ],
             [
              0.1111111111111111,
              "#46039f"
             ],
             [
              0.2222222222222222,
              "#7201a8"
             ],
             [
              0.3333333333333333,
              "#9c179e"
             ],
             [
              0.4444444444444444,
              "#bd3786"
             ],
             [
              0.5555555555555556,
              "#d8576b"
             ],
             [
              0.6666666666666666,
              "#ed7953"
             ],
             [
              0.7777777777777778,
              "#fb9f3a"
             ],
             [
              0.8888888888888888,
              "#fdca26"
             ],
             [
              1,
              "#f0f921"
             ]
            ],
            "type": "histogram2d"
           }
          ],
          "histogram2dcontour": [
           {
            "colorbar": {
             "outlinewidth": 0,
             "ticks": ""
            },
            "colorscale": [
             [
              0,
              "#0d0887"
             ],
             [
              0.1111111111111111,
              "#46039f"
             ],
             [
              0.2222222222222222,
              "#7201a8"
             ],
             [
              0.3333333333333333,
              "#9c179e"
             ],
             [
              0.4444444444444444,
              "#bd3786"
             ],
             [
              0.5555555555555556,
              "#d8576b"
             ],
             [
              0.6666666666666666,
              "#ed7953"
             ],
             [
              0.7777777777777778,
              "#fb9f3a"
             ],
             [
              0.8888888888888888,
              "#fdca26"
             ],
             [
              1,
              "#f0f921"
             ]
            ],
            "type": "histogram2dcontour"
           }
          ],
          "mesh3d": [
           {
            "colorbar": {
             "outlinewidth": 0,
             "ticks": ""
            },
            "type": "mesh3d"
           }
          ],
          "parcoords": [
           {
            "line": {
             "colorbar": {
              "outlinewidth": 0,
              "ticks": ""
             }
            },
            "type": "parcoords"
           }
          ],
          "pie": [
           {
            "automargin": true,
            "type": "pie"
           }
          ],
          "scatter": [
           {
            "fillpattern": {
             "fillmode": "overlay",
             "size": 10,
             "solidity": 0.2
            },
            "type": "scatter"
           }
          ],
          "scatter3d": [
           {
            "line": {
             "colorbar": {
              "outlinewidth": 0,
              "ticks": ""
             }
            },
            "marker": {
             "colorbar": {
              "outlinewidth": 0,
              "ticks": ""
             }
            },
            "type": "scatter3d"
           }
          ],
          "scattercarpet": [
           {
            "marker": {
             "colorbar": {
              "outlinewidth": 0,
              "ticks": ""
             }
            },
            "type": "scattercarpet"
           }
          ],
          "scattergeo": [
           {
            "marker": {
             "colorbar": {
              "outlinewidth": 0,
              "ticks": ""
             }
            },
            "type": "scattergeo"
           }
          ],
          "scattergl": [
           {
            "marker": {
             "colorbar": {
              "outlinewidth": 0,
              "ticks": ""
             }
            },
            "type": "scattergl"
           }
          ],
          "scattermapbox": [
           {
            "marker": {
             "colorbar": {
              "outlinewidth": 0,
              "ticks": ""
             }
            },
            "type": "scattermapbox"
           }
          ],
          "scatterpolar": [
           {
            "marker": {
             "colorbar": {
              "outlinewidth": 0,
              "ticks": ""
             }
            },
            "type": "scatterpolar"
           }
          ],
          "scatterpolargl": [
           {
            "marker": {
             "colorbar": {
              "outlinewidth": 0,
              "ticks": ""
             }
            },
            "type": "scatterpolargl"
           }
          ],
          "scatterternary": [
           {
            "marker": {
             "colorbar": {
              "outlinewidth": 0,
              "ticks": ""
             }
            },
            "type": "scatterternary"
           }
          ],
          "surface": [
           {
            "colorbar": {
             "outlinewidth": 0,
             "ticks": ""
            },
            "colorscale": [
             [
              0,
              "#0d0887"
             ],
             [
              0.1111111111111111,
              "#46039f"
             ],
             [
              0.2222222222222222,
              "#7201a8"
             ],
             [
              0.3333333333333333,
              "#9c179e"
             ],
             [
              0.4444444444444444,
              "#bd3786"
             ],
             [
              0.5555555555555556,
              "#d8576b"
             ],
             [
              0.6666666666666666,
              "#ed7953"
             ],
             [
              0.7777777777777778,
              "#fb9f3a"
             ],
             [
              0.8888888888888888,
              "#fdca26"
             ],
             [
              1,
              "#f0f921"
             ]
            ],
            "type": "surface"
           }
          ],
          "table": [
           {
            "cells": {
             "fill": {
              "color": "#EBF0F8"
             },
             "line": {
              "color": "white"
             }
            },
            "header": {
             "fill": {
              "color": "#C8D4E3"
             },
             "line": {
              "color": "white"
             }
            },
            "type": "table"
           }
          ]
         },
         "layout": {
          "annotationdefaults": {
           "arrowcolor": "#2a3f5f",
           "arrowhead": 0,
           "arrowwidth": 1
          },
          "autotypenumbers": "strict",
          "coloraxis": {
           "colorbar": {
            "outlinewidth": 0,
            "ticks": ""
           }
          },
          "colorscale": {
           "diverging": [
            [
             0,
             "#8e0152"
            ],
            [
             0.1,
             "#c51b7d"
            ],
            [
             0.2,
             "#de77ae"
            ],
            [
             0.3,
             "#f1b6da"
            ],
            [
             0.4,
             "#fde0ef"
            ],
            [
             0.5,
             "#f7f7f7"
            ],
            [
             0.6,
             "#e6f5d0"
            ],
            [
             0.7,
             "#b8e186"
            ],
            [
             0.8,
             "#7fbc41"
            ],
            [
             0.9,
             "#4d9221"
            ],
            [
             1,
             "#276419"
            ]
           ],
           "sequential": [
            [
             0,
             "#0d0887"
            ],
            [
             0.1111111111111111,
             "#46039f"
            ],
            [
             0.2222222222222222,
             "#7201a8"
            ],
            [
             0.3333333333333333,
             "#9c179e"
            ],
            [
             0.4444444444444444,
             "#bd3786"
            ],
            [
             0.5555555555555556,
             "#d8576b"
            ],
            [
             0.6666666666666666,
             "#ed7953"
            ],
            [
             0.7777777777777778,
             "#fb9f3a"
            ],
            [
             0.8888888888888888,
             "#fdca26"
            ],
            [
             1,
             "#f0f921"
            ]
           ],
           "sequentialminus": [
            [
             0,
             "#0d0887"
            ],
            [
             0.1111111111111111,
             "#46039f"
            ],
            [
             0.2222222222222222,
             "#7201a8"
            ],
            [
             0.3333333333333333,
             "#9c179e"
            ],
            [
             0.4444444444444444,
             "#bd3786"
            ],
            [
             0.5555555555555556,
             "#d8576b"
            ],
            [
             0.6666666666666666,
             "#ed7953"
            ],
            [
             0.7777777777777778,
             "#fb9f3a"
            ],
            [
             0.8888888888888888,
             "#fdca26"
            ],
            [
             1,
             "#f0f921"
            ]
           ]
          },
          "colorway": [
           "#636efa",
           "#EF553B",
           "#00cc96",
           "#ab63fa",
           "#FFA15A",
           "#19d3f3",
           "#FF6692",
           "#B6E880",
           "#FF97FF",
           "#FECB52"
          ],
          "font": {
           "color": "#2a3f5f"
          },
          "geo": {
           "bgcolor": "white",
           "lakecolor": "white",
           "landcolor": "white",
           "showlakes": true,
           "showland": true,
           "subunitcolor": "#C8D4E3"
          },
          "hoverlabel": {
           "align": "left"
          },
          "hovermode": "closest",
          "mapbox": {
           "style": "light"
          },
          "paper_bgcolor": "white",
          "plot_bgcolor": "white",
          "polar": {
           "angularaxis": {
            "gridcolor": "#EBF0F8",
            "linecolor": "#EBF0F8",
            "ticks": ""
           },
           "bgcolor": "white",
           "radialaxis": {
            "gridcolor": "#EBF0F8",
            "linecolor": "#EBF0F8",
            "ticks": ""
           }
          },
          "scene": {
           "xaxis": {
            "backgroundcolor": "white",
            "gridcolor": "#DFE8F3",
            "gridwidth": 2,
            "linecolor": "#EBF0F8",
            "showbackground": true,
            "ticks": "",
            "zerolinecolor": "#EBF0F8"
           },
           "yaxis": {
            "backgroundcolor": "white",
            "gridcolor": "#DFE8F3",
            "gridwidth": 2,
            "linecolor": "#EBF0F8",
            "showbackground": true,
            "ticks": "",
            "zerolinecolor": "#EBF0F8"
           },
           "zaxis": {
            "backgroundcolor": "white",
            "gridcolor": "#DFE8F3",
            "gridwidth": 2,
            "linecolor": "#EBF0F8",
            "showbackground": true,
            "ticks": "",
            "zerolinecolor": "#EBF0F8"
           }
          },
          "shapedefaults": {
           "line": {
            "color": "#2a3f5f"
           }
          },
          "ternary": {
           "aaxis": {
            "gridcolor": "#DFE8F3",
            "linecolor": "#A2B1C6",
            "ticks": ""
           },
           "baxis": {
            "gridcolor": "#DFE8F3",
            "linecolor": "#A2B1C6",
            "ticks": ""
           },
           "bgcolor": "white",
           "caxis": {
            "gridcolor": "#DFE8F3",
            "linecolor": "#A2B1C6",
            "ticks": ""
           }
          },
          "title": {
           "x": 0.05
          },
          "xaxis": {
           "automargin": true,
           "gridcolor": "#EBF0F8",
           "linecolor": "#EBF0F8",
           "ticks": "",
           "title": {
            "standoff": 15
           },
           "zerolinecolor": "#EBF0F8",
           "zerolinewidth": 2
          },
          "yaxis": {
           "automargin": true,
           "gridcolor": "#EBF0F8",
           "linecolor": "#EBF0F8",
           "ticks": "",
           "title": {
            "standoff": 15
           },
           "zerolinecolor": "#EBF0F8",
           "zerolinewidth": 2
          }
         }
        },
        "title": {
         "text": "HumanEval Performance over time"
        },
        "width": 800,
        "xaxis": {
         "anchor": "y",
         "domain": [
          0,
          1
         ],
         "title": {
          "text": "Release Date"
         }
        },
        "yaxis": {
         "anchor": "x",
         "domain": [
          0,
          1
         ],
         "title": {
          "text": "HumanEval"
         }
        }
       }
      }
     },
     "metadata": {},
     "output_type": "display_data"
    },
    {
     "name": "stdout",
     "output_type": "stream",
     "text": [
      "['GPT-4o-2024-05 (2024-05)', 'GPT-4o-2024-11 (2024-11)', 'GPT-4o-2024-08 (2024-08)', 'GPT-4 Turbo (2023-11)', 'GPT-4 (2023-03)', 'DeepSeek-R1 (2025-01)', 'GPT-3 (2021-11)']\n"
     ]
    },
    {
     "data": {
      "application/vnd.plotly.v1+json": {
       "config": {
        "plotlyServerURL": "https://plot.ly"
       },
       "data": [
        {
         "customdata": [
          [
           "GPT-3"
          ],
          [
           "GPT-3"
          ],
          [
           "GPT-3"
          ],
          [
           "GPT-3.5"
          ],
          [
           "GPT-4"
          ],
          [
           "GPT-3.5 Turbo"
          ],
          [
           "GPT-3.5 Turbo"
          ],
          [
           "Llama-2-Chat-7B"
          ],
          [
           "Llama-2-Chat-13B"
          ],
          [
           "GPT-4 Turbo"
          ],
          [
           "GPT-3.5 Turbo"
          ],
          [
           "Llama 2-7B"
          ],
          [
           "Llama 2-70B Chat"
          ],
          [
           "Llama 2-13B"
          ],
          [
           "GPT-3"
          ],
          [
           "GPT-3.5 Turbo"
          ],
          [
           "Mistral-Small-2024-02"
          ],
          [
           "Mistral-Large-2024-02"
          ],
          [
           "Claude-3-Opus"
          ],
          [
           "Claude-3-Haiku"
          ],
          [
           "Claude-3-Sonnet"
          ],
          [
           "Llama-3-Instruct-70B"
          ],
          [
           "Llama-3-Instruct-8B"
          ],
          [
           "Mistral-8x22"
          ],
          [
           "Llama 2-13B"
          ],
          [
           "Llama 2-7B"
          ],
          [
           "GPT-4o-2024-05"
          ],
          [
           "Gemini-1.5-Pro-2024-05"
          ],
          [
           "Gemini-1.5-Flash-2024-05"
          ],
          [
           "Mistral-Large-2-2024-06"
          ],
          [
           "Mistral-NeMo"
          ],
          [
           "Claude-3.5-Haiku"
          ],
          [
           "Claude-3.5-Sonnet-2024-06"
          ],
          [
           "Gemma-2-9B"
          ],
          [
           "Gemma-2-27B"
          ],
          [
           "GPT-4o-mini"
          ],
          [
           "Llama-3.1-Instruct-70B"
          ],
          [
           "Llama-3.1-Instruct-405B"
          ],
          [
           "Llama-3.1-Instruct-8B"
          ],
          [
           "GPT-4o-2024-08"
          ],
          [
           "Claude Instant"
          ],
          [
           "Claude 2"
          ],
          [
           "Claude 2.1"
          ],
          [
           "Gemini 1.0 Pro"
          ],
          [
           "Cohere Command"
          ],
          [
           "Cohere Command Light"
          ],
          [
           "Command R"
          ],
          [
           "Command R+"
          ],
          [
           "Gemini-1.5-Pro-2024-09"
          ],
          [
           "Gemini-1.5-Flash-2024-09"
          ],
          [
           "Llama-3.2-Instruct-3B"
          ],
          [
           "Llama-3.2-Instruct-1B"
          ],
          [
           "DeepSeek-Coder-V2 236B"
          ],
          [
           "Jamba 1.5-Large"
          ],
          [
           "o1-mini"
          ],
          [
           "o1-preview"
          ],
          [
           "Command R+"
          ],
          [
           "Reka Core"
          ],
          [
           "Mistral 7B"
          ],
          [
           "Gemini-1.5-Flash-8B"
          ],
          [
           "Claude-3.5-Sonnet-2024-10"
          ],
          [
           "GPT-4o-2024-11"
          ],
          [
           "Mistral-Large-2-2024-11"
          ],
          [
           "o1"
          ],
          [
           "DeepSeek-V3"
          ],
          [
           "Mistral Small 3"
          ],
          [
           "Phi 4"
          ],
          [
           "DeepSeek-R1"
          ],
          [
           "o1-mini"
          ],
          [
           "o3-mini"
          ],
          [
           "Gemini 2.0 Flash"
          ]
         ],
         "hovertemplate": "Release Date=%{x}<br>LMSys Chatbot Arena ELO=%{y}<br>Model Name=%{customdata[0]}<extra></extra>",
         "legendgroup": "",
         "marker": {
          "color": "lightgray",
          "symbol": "circle"
         },
         "mode": "markers",
         "name": "",
         "orientation": "v",
         "showlegend": false,
         "type": "scatter",
         "x": [
          "2021-11-20T00:00:00",
          "2022-08-31T00:00:00",
          "2022-09-01T00:00:00",
          "2022-11-30T00:00:00",
          "2023-03-01T00:00:00",
          "2023-03-06T00:00:00",
          "2023-06-13T00:00:00",
          "2023-07-01T00:00:00",
          "2023-07-01T00:00:00",
          "2023-11-01T00:00:00",
          "2023-11-01T00:00:00",
          "2023-12-01T00:00:00",
          "2023-12-01T00:00:00",
          "2023-12-08T00:00:00",
          "2024-01-04T00:00:00",
          "2024-01-25T00:00:00",
          "2024-02-01T00:00:00",
          "2024-02-01T00:00:00",
          "2024-03-01T00:00:00",
          "2024-03-01T00:00:00",
          "2024-03-01T00:00:00",
          "2024-04-01T00:00:00",
          "2024-04-01T00:00:00",
          "2024-04-01T00:00:00",
          "2024-04-14T00:00:00",
          "2024-04-14T00:00:00",
          "2024-05-01T00:00:00",
          "2024-05-01T00:00:00",
          "2024-05-01T00:00:00",
          "2024-06-01T00:00:00",
          "2024-06-01T00:00:00",
          "2024-06-01T00:00:00",
          "2024-06-01T00:00:00",
          "2024-06-01T00:00:00",
          "2024-06-01T00:00:00",
          "2024-07-01T00:00:00",
          "2024-07-01T00:00:00",
          "2024-07-01T00:00:00",
          "2024-07-01T00:00:00",
          "2024-08-01T00:00:00",
          "2024-08-12T00:00:00",
          "2024-08-12T00:00:00",
          "2024-08-12T00:00:00",
          "2024-08-12T00:00:00",
          "2024-08-13T00:00:00",
          "2024-08-13T00:00:00",
          "2024-08-13T00:00:00",
          "2024-08-13T00:00:00",
          "2024-09-01T00:00:00",
          "2024-09-01T00:00:00",
          "2024-09-01T00:00:00",
          "2024-09-01T00:00:00",
          "2024-09-11T00:00:00",
          "2024-09-12T00:00:00",
          "2024-09-12T00:00:00",
          "2024-09-12T00:00:00",
          "2024-09-13T00:00:00",
          "2024-09-14T00:00:00",
          "2024-09-14T00:00:00",
          "2024-10-01T00:00:00",
          "2024-10-01T00:00:00",
          "2024-11-01T00:00:00",
          "2024-11-01T00:00:00",
          "2024-12-17T00:00:00",
          "2024-12-26T00:00:00",
          "2025-01-01T00:00:00",
          "2025-01-01T00:00:00",
          "2025-01-20T00:00:00",
          "2025-01-31T00:00:00",
          "2025-01-31T00:00:00",
          "2025-02-01T00:00:00"
         ],
         "xaxis": "x",
         "y": [
          null,
          null,
          null,
          null,
          1186,
          1106,
          1117,
          1037,
          1063,
          1256,
          1107,
          null,
          1093,
          null,
          null,
          1106,
          null,
          1157,
          1248,
          1179,
          1201,
          1206,
          1152,
          1148,
          null,
          null,
          1285,
          1260,
          1227,
          1251,
          null,
          1236,
          1268,
          1190,
          1219,
          1273,
          1249,
          1266,
          1172,
          1337,
          null,
          null,
          null,
          1131,
          null,
          null,
          1180,
          1215,
          1301,
          1271,
          1103,
          1103,
          1178,
          1221,
          1304,
          1335,
          1215,
          1235,
          null,
          1211,
          1282,
          1361,
          1247,
          1352,
          1318,
          1210,
          1204,
          1362,
          1304,
          1306,
          1358
         ],
         "yaxis": "y"
        },
        {
         "hovertemplate": "%{text}<extra></extra>",
         "line": {
          "color": "red"
         },
         "mode": "lines+markers",
         "name": "Top Model",
         "text": [
          "GPT-3",
          "GPT-4",
          "GPT-4 Turbo",
          "GPT-4o-2024-05",
          "GPT-4o-2024-08",
          "GPT-4o-2024-11",
          "DeepSeek-R1"
         ],
         "type": "scatter",
         "x": [
          "2021-11-20T00:00:00",
          "2023-03-01T00:00:00",
          "2023-11-01T00:00:00",
          "2024-05-01T00:00:00",
          "2024-08-01T00:00:00",
          "2024-11-01T00:00:00",
          "2025-01-20T00:00:00"
         ],
         "y": [
          null,
          1186,
          1256,
          1285,
          1337,
          1361,
          1362
         ]
        }
       ],
       "layout": {
        "height": 400,
        "legend": {
         "tracegroupgap": 0
        },
        "template": {
         "data": {
          "bar": [
           {
            "error_x": {
             "color": "#2a3f5f"
            },
            "error_y": {
             "color": "#2a3f5f"
            },
            "marker": {
             "line": {
              "color": "white",
              "width": 0.5
             },
             "pattern": {
              "fillmode": "overlay",
              "size": 10,
              "solidity": 0.2
             }
            },
            "type": "bar"
           }
          ],
          "barpolar": [
           {
            "marker": {
             "line": {
              "color": "white",
              "width": 0.5
             },
             "pattern": {
              "fillmode": "overlay",
              "size": 10,
              "solidity": 0.2
             }
            },
            "type": "barpolar"
           }
          ],
          "carpet": [
           {
            "aaxis": {
             "endlinecolor": "#2a3f5f",
             "gridcolor": "#C8D4E3",
             "linecolor": "#C8D4E3",
             "minorgridcolor": "#C8D4E3",
             "startlinecolor": "#2a3f5f"
            },
            "baxis": {
             "endlinecolor": "#2a3f5f",
             "gridcolor": "#C8D4E3",
             "linecolor": "#C8D4E3",
             "minorgridcolor": "#C8D4E3",
             "startlinecolor": "#2a3f5f"
            },
            "type": "carpet"
           }
          ],
          "choropleth": [
           {
            "colorbar": {
             "outlinewidth": 0,
             "ticks": ""
            },
            "type": "choropleth"
           }
          ],
          "contour": [
           {
            "colorbar": {
             "outlinewidth": 0,
             "ticks": ""
            },
            "colorscale": [
             [
              0,
              "#0d0887"
             ],
             [
              0.1111111111111111,
              "#46039f"
             ],
             [
              0.2222222222222222,
              "#7201a8"
             ],
             [
              0.3333333333333333,
              "#9c179e"
             ],
             [
              0.4444444444444444,
              "#bd3786"
             ],
             [
              0.5555555555555556,
              "#d8576b"
             ],
             [
              0.6666666666666666,
              "#ed7953"
             ],
             [
              0.7777777777777778,
              "#fb9f3a"
             ],
             [
              0.8888888888888888,
              "#fdca26"
             ],
             [
              1,
              "#f0f921"
             ]
            ],
            "type": "contour"
           }
          ],
          "contourcarpet": [
           {
            "colorbar": {
             "outlinewidth": 0,
             "ticks": ""
            },
            "type": "contourcarpet"
           }
          ],
          "heatmap": [
           {
            "colorbar": {
             "outlinewidth": 0,
             "ticks": ""
            },
            "colorscale": [
             [
              0,
              "#0d0887"
             ],
             [
              0.1111111111111111,
              "#46039f"
             ],
             [
              0.2222222222222222,
              "#7201a8"
             ],
             [
              0.3333333333333333,
              "#9c179e"
             ],
             [
              0.4444444444444444,
              "#bd3786"
             ],
             [
              0.5555555555555556,
              "#d8576b"
             ],
             [
              0.6666666666666666,
              "#ed7953"
             ],
             [
              0.7777777777777778,
              "#fb9f3a"
             ],
             [
              0.8888888888888888,
              "#fdca26"
             ],
             [
              1,
              "#f0f921"
             ]
            ],
            "type": "heatmap"
           }
          ],
          "heatmapgl": [
           {
            "colorbar": {
             "outlinewidth": 0,
             "ticks": ""
            },
            "colorscale": [
             [
              0,
              "#0d0887"
             ],
             [
              0.1111111111111111,
              "#46039f"
             ],
             [
              0.2222222222222222,
              "#7201a8"
             ],
             [
              0.3333333333333333,
              "#9c179e"
             ],
             [
              0.4444444444444444,
              "#bd3786"
             ],
             [
              0.5555555555555556,
              "#d8576b"
             ],
             [
              0.6666666666666666,
              "#ed7953"
             ],
             [
              0.7777777777777778,
              "#fb9f3a"
             ],
             [
              0.8888888888888888,
              "#fdca26"
             ],
             [
              1,
              "#f0f921"
             ]
            ],
            "type": "heatmapgl"
           }
          ],
          "histogram": [
           {
            "marker": {
             "pattern": {
              "fillmode": "overlay",
              "size": 10,
              "solidity": 0.2
             }
            },
            "type": "histogram"
           }
          ],
          "histogram2d": [
           {
            "colorbar": {
             "outlinewidth": 0,
             "ticks": ""
            },
            "colorscale": [
             [
              0,
              "#0d0887"
             ],
             [
              0.1111111111111111,
              "#46039f"
             ],
             [
              0.2222222222222222,
              "#7201a8"
             ],
             [
              0.3333333333333333,
              "#9c179e"
             ],
             [
              0.4444444444444444,
              "#bd3786"
             ],
             [
              0.5555555555555556,
              "#d8576b"
             ],
             [
              0.6666666666666666,
              "#ed7953"
             ],
             [
              0.7777777777777778,
              "#fb9f3a"
             ],
             [
              0.8888888888888888,
              "#fdca26"
             ],
             [
              1,
              "#f0f921"
             ]
            ],
            "type": "histogram2d"
           }
          ],
          "histogram2dcontour": [
           {
            "colorbar": {
             "outlinewidth": 0,
             "ticks": ""
            },
            "colorscale": [
             [
              0,
              "#0d0887"
             ],
             [
              0.1111111111111111,
              "#46039f"
             ],
             [
              0.2222222222222222,
              "#7201a8"
             ],
             [
              0.3333333333333333,
              "#9c179e"
             ],
             [
              0.4444444444444444,
              "#bd3786"
             ],
             [
              0.5555555555555556,
              "#d8576b"
             ],
             [
              0.6666666666666666,
              "#ed7953"
             ],
             [
              0.7777777777777778,
              "#fb9f3a"
             ],
             [
              0.8888888888888888,
              "#fdca26"
             ],
             [
              1,
              "#f0f921"
             ]
            ],
            "type": "histogram2dcontour"
           }
          ],
          "mesh3d": [
           {
            "colorbar": {
             "outlinewidth": 0,
             "ticks": ""
            },
            "type": "mesh3d"
           }
          ],
          "parcoords": [
           {
            "line": {
             "colorbar": {
              "outlinewidth": 0,
              "ticks": ""
             }
            },
            "type": "parcoords"
           }
          ],
          "pie": [
           {
            "automargin": true,
            "type": "pie"
           }
          ],
          "scatter": [
           {
            "fillpattern": {
             "fillmode": "overlay",
             "size": 10,
             "solidity": 0.2
            },
            "type": "scatter"
           }
          ],
          "scatter3d": [
           {
            "line": {
             "colorbar": {
              "outlinewidth": 0,
              "ticks": ""
             }
            },
            "marker": {
             "colorbar": {
              "outlinewidth": 0,
              "ticks": ""
             }
            },
            "type": "scatter3d"
           }
          ],
          "scattercarpet": [
           {
            "marker": {
             "colorbar": {
              "outlinewidth": 0,
              "ticks": ""
             }
            },
            "type": "scattercarpet"
           }
          ],
          "scattergeo": [
           {
            "marker": {
             "colorbar": {
              "outlinewidth": 0,
              "ticks": ""
             }
            },
            "type": "scattergeo"
           }
          ],
          "scattergl": [
           {
            "marker": {
             "colorbar": {
              "outlinewidth": 0,
              "ticks": ""
             }
            },
            "type": "scattergl"
           }
          ],
          "scattermapbox": [
           {
            "marker": {
             "colorbar": {
              "outlinewidth": 0,
              "ticks": ""
             }
            },
            "type": "scattermapbox"
           }
          ],
          "scatterpolar": [
           {
            "marker": {
             "colorbar": {
              "outlinewidth": 0,
              "ticks": ""
             }
            },
            "type": "scatterpolar"
           }
          ],
          "scatterpolargl": [
           {
            "marker": {
             "colorbar": {
              "outlinewidth": 0,
              "ticks": ""
             }
            },
            "type": "scatterpolargl"
           }
          ],
          "scatterternary": [
           {
            "marker": {
             "colorbar": {
              "outlinewidth": 0,
              "ticks": ""
             }
            },
            "type": "scatterternary"
           }
          ],
          "surface": [
           {
            "colorbar": {
             "outlinewidth": 0,
             "ticks": ""
            },
            "colorscale": [
             [
              0,
              "#0d0887"
             ],
             [
              0.1111111111111111,
              "#46039f"
             ],
             [
              0.2222222222222222,
              "#7201a8"
             ],
             [
              0.3333333333333333,
              "#9c179e"
             ],
             [
              0.4444444444444444,
              "#bd3786"
             ],
             [
              0.5555555555555556,
              "#d8576b"
             ],
             [
              0.6666666666666666,
              "#ed7953"
             ],
             [
              0.7777777777777778,
              "#fb9f3a"
             ],
             [
              0.8888888888888888,
              "#fdca26"
             ],
             [
              1,
              "#f0f921"
             ]
            ],
            "type": "surface"
           }
          ],
          "table": [
           {
            "cells": {
             "fill": {
              "color": "#EBF0F8"
             },
             "line": {
              "color": "white"
             }
            },
            "header": {
             "fill": {
              "color": "#C8D4E3"
             },
             "line": {
              "color": "white"
             }
            },
            "type": "table"
           }
          ]
         },
         "layout": {
          "annotationdefaults": {
           "arrowcolor": "#2a3f5f",
           "arrowhead": 0,
           "arrowwidth": 1
          },
          "autotypenumbers": "strict",
          "coloraxis": {
           "colorbar": {
            "outlinewidth": 0,
            "ticks": ""
           }
          },
          "colorscale": {
           "diverging": [
            [
             0,
             "#8e0152"
            ],
            [
             0.1,
             "#c51b7d"
            ],
            [
             0.2,
             "#de77ae"
            ],
            [
             0.3,
             "#f1b6da"
            ],
            [
             0.4,
             "#fde0ef"
            ],
            [
             0.5,
             "#f7f7f7"
            ],
            [
             0.6,
             "#e6f5d0"
            ],
            [
             0.7,
             "#b8e186"
            ],
            [
             0.8,
             "#7fbc41"
            ],
            [
             0.9,
             "#4d9221"
            ],
            [
             1,
             "#276419"
            ]
           ],
           "sequential": [
            [
             0,
             "#0d0887"
            ],
            [
             0.1111111111111111,
             "#46039f"
            ],
            [
             0.2222222222222222,
             "#7201a8"
            ],
            [
             0.3333333333333333,
             "#9c179e"
            ],
            [
             0.4444444444444444,
             "#bd3786"
            ],
            [
             0.5555555555555556,
             "#d8576b"
            ],
            [
             0.6666666666666666,
             "#ed7953"
            ],
            [
             0.7777777777777778,
             "#fb9f3a"
            ],
            [
             0.8888888888888888,
             "#fdca26"
            ],
            [
             1,
             "#f0f921"
            ]
           ],
           "sequentialminus": [
            [
             0,
             "#0d0887"
            ],
            [
             0.1111111111111111,
             "#46039f"
            ],
            [
             0.2222222222222222,
             "#7201a8"
            ],
            [
             0.3333333333333333,
             "#9c179e"
            ],
            [
             0.4444444444444444,
             "#bd3786"
            ],
            [
             0.5555555555555556,
             "#d8576b"
            ],
            [
             0.6666666666666666,
             "#ed7953"
            ],
            [
             0.7777777777777778,
             "#fb9f3a"
            ],
            [
             0.8888888888888888,
             "#fdca26"
            ],
            [
             1,
             "#f0f921"
            ]
           ]
          },
          "colorway": [
           "#636efa",
           "#EF553B",
           "#00cc96",
           "#ab63fa",
           "#FFA15A",
           "#19d3f3",
           "#FF6692",
           "#B6E880",
           "#FF97FF",
           "#FECB52"
          ],
          "font": {
           "color": "#2a3f5f"
          },
          "geo": {
           "bgcolor": "white",
           "lakecolor": "white",
           "landcolor": "white",
           "showlakes": true,
           "showland": true,
           "subunitcolor": "#C8D4E3"
          },
          "hoverlabel": {
           "align": "left"
          },
          "hovermode": "closest",
          "mapbox": {
           "style": "light"
          },
          "paper_bgcolor": "white",
          "plot_bgcolor": "white",
          "polar": {
           "angularaxis": {
            "gridcolor": "#EBF0F8",
            "linecolor": "#EBF0F8",
            "ticks": ""
           },
           "bgcolor": "white",
           "radialaxis": {
            "gridcolor": "#EBF0F8",
            "linecolor": "#EBF0F8",
            "ticks": ""
           }
          },
          "scene": {
           "xaxis": {
            "backgroundcolor": "white",
            "gridcolor": "#DFE8F3",
            "gridwidth": 2,
            "linecolor": "#EBF0F8",
            "showbackground": true,
            "ticks": "",
            "zerolinecolor": "#EBF0F8"
           },
           "yaxis": {
            "backgroundcolor": "white",
            "gridcolor": "#DFE8F3",
            "gridwidth": 2,
            "linecolor": "#EBF0F8",
            "showbackground": true,
            "ticks": "",
            "zerolinecolor": "#EBF0F8"
           },
           "zaxis": {
            "backgroundcolor": "white",
            "gridcolor": "#DFE8F3",
            "gridwidth": 2,
            "linecolor": "#EBF0F8",
            "showbackground": true,
            "ticks": "",
            "zerolinecolor": "#EBF0F8"
           }
          },
          "shapedefaults": {
           "line": {
            "color": "#2a3f5f"
           }
          },
          "ternary": {
           "aaxis": {
            "gridcolor": "#DFE8F3",
            "linecolor": "#A2B1C6",
            "ticks": ""
           },
           "baxis": {
            "gridcolor": "#DFE8F3",
            "linecolor": "#A2B1C6",
            "ticks": ""
           },
           "bgcolor": "white",
           "caxis": {
            "gridcolor": "#DFE8F3",
            "linecolor": "#A2B1C6",
            "ticks": ""
           }
          },
          "title": {
           "x": 0.05
          },
          "xaxis": {
           "automargin": true,
           "gridcolor": "#EBF0F8",
           "linecolor": "#EBF0F8",
           "ticks": "",
           "title": {
            "standoff": 15
           },
           "zerolinecolor": "#EBF0F8",
           "zerolinewidth": 2
          },
          "yaxis": {
           "automargin": true,
           "gridcolor": "#EBF0F8",
           "linecolor": "#EBF0F8",
           "ticks": "",
           "title": {
            "standoff": 15
           },
           "zerolinecolor": "#EBF0F8",
           "zerolinewidth": 2
          }
         }
        },
        "title": {
         "text": "LMSys Chatbot Arena ELO Performance over time"
        },
        "width": 800,
        "xaxis": {
         "anchor": "y",
         "domain": [
          0,
          1
         ],
         "title": {
          "text": "Release Date"
         }
        },
        "yaxis": {
         "anchor": "x",
         "domain": [
          0,
          1
         ],
         "title": {
          "text": "LMSys Chatbot Arena ELO"
         }
        }
       }
      }
     },
     "metadata": {},
     "output_type": "display_data"
    }
   ],
   "source": [
    "top_n = 1\n",
    "aa_df = aa_df.sort_values(by='Release Date')\n",
    "\n",
    "top_models_df_lookup = {}\n",
    "for benchmark in benchmarks:\n",
    "    # Get the top-1 model by benchmark score at each point in time\n",
    "    ever_top_n_models = set()\n",
    "    unique_dates = aa_df['Release Date'].sort_values().unique()\n",
    "    for date in unique_dates:\n",
    "        df_up_to_date = aa_df[aa_df['Release Date'] <= date]\n",
    "        top_n_models = df_up_to_date.nlargest(top_n, benchmark)\n",
    "        top_n_model_names = top_n_models['Model Name and Date'].tolist()\n",
    "        ever_top_n_models.update(top_n_model_names)\n",
    "    ever_top_n_list = list(ever_top_n_models)\n",
    "    print(ever_top_n_list)\n",
    "    top_models_df = aa_df[aa_df['Model Name and Date'].isin(ever_top_n_list)]\n",
    "    top_models_df_lookup[benchmark] = top_models_df\n",
    "\n",
    "    # Create base scatter plot with all data\n",
    "    fig = px.scatter(aa_df, x='Release Date', y=benchmark, \n",
    "                    hover_data=['Model Name'], \n",
    "                    title=f'{benchmark} Performance over time',\n",
    "                    color_discrete_sequence=['lightgray'])\n",
    "\n",
    "    # Add top-1 models in a different color\n",
    "    fig.add_scatter(x=top_models_df['Release Date'], \n",
    "                    y=top_models_df[benchmark],\n",
    "                    mode='lines+markers',\n",
    "                    name='Top Model',\n",
    "                    hovertemplate='%{text}<extra></extra>',\n",
    "                    text=top_models_df['Model Name'],\n",
    "                    line=dict(color='red'))\n",
    "    fig.update_layout(\n",
    "        width=800,\n",
    "        height=400,\n",
    "    )\n",
    "    fig.show()"
   ]
  },
  {
   "cell_type": "code",
   "execution_count": 11,
   "metadata": {},
   "outputs": [
    {
     "data": {
      "text/plain": [
       "{'MMLU':                    Model Name Release Date  USD per 1M Tokens  \\\n",
       " 0                       GPT-3   2021-11-20              60.00   \n",
       " 3                     GPT-3.5   2022-11-30              20.00   \n",
       " 4                       GPT-4   2023-03-01              37.50   \n",
       " 10                GPT-4 Turbo   2023-11-01              15.00   \n",
       " 32  Claude-3.5-Sonnet-2024-06   2024-06-01               6.00   \n",
       " 39             GPT-4o-2024-08   2024-08-01               4.38   \n",
       " \n",
       "     Tokens per Second  Prefill Latency (s)  Prompt Length (tk)  MMLU  \\\n",
       " 0                 NaN                  NaN                 NaN  43.9   \n",
       " 3                 NaN                  NaN                 NaN  64.8   \n",
       " 4                23.6                0.724              1000.0  86.0   \n",
       " 10               39.2                1.246              1000.0  87.0   \n",
       " 32               55.9                0.906              1000.0  88.0   \n",
       " 39               81.0                0.673              1000.0  89.0   \n",
       " \n",
       "     GPQA Diamond  MATH-500  HumanEval  LMSys Chatbot Arena ELO  MATH 5  \\\n",
       " 0            NaN       NaN        NaN                      NaN     NaN   \n",
       " 3            NaN       NaN        NaN                      NaN     NaN   \n",
       " 4           33.0      21.0       67.0                   1186.0    23.0   \n",
       " 10          50.0      74.0       92.0                   1256.0    36.0   \n",
       " 32          56.0      71.0       90.0                   1268.0    46.0   \n",
       " 39          51.0      80.0       93.0                   1337.0    47.0   \n",
       " \n",
       "                     Model Name and Date  \n",
       " 0                       GPT-3 (2021-11)  \n",
       " 3                     GPT-3.5 (2022-11)  \n",
       " 4                       GPT-4 (2023-03)  \n",
       " 10                GPT-4 Turbo (2023-11)  \n",
       " 32  Claude-3.5-Sonnet-2024-06 (2024-06)  \n",
       " 39             GPT-4o-2024-08 (2024-08)  ,\n",
       " 'GPQA Diamond':                    Model Name Release Date  USD per 1M Tokens  \\\n",
       " 0                       GPT-3   2021-11-20              60.00   \n",
       " 4                       GPT-4   2023-03-01              37.50   \n",
       " 10                GPT-4 Turbo   2023-11-01              15.00   \n",
       " 28             GPT-4o-2024-05   2024-05-01               7.50   \n",
       " 32  Claude-3.5-Sonnet-2024-06   2024-06-01               6.00   \n",
       " 48     Gemini-1.5-Pro-2024-09   2024-09-01               2.19   \n",
       " 53                 o1-preview   2024-09-12              26.25   \n",
       " 63                         o1   2024-12-17              26.25   \n",
       " \n",
       "     Tokens per Second  Prefill Latency (s)  Prompt Length (tk)  MMLU  \\\n",
       " 0                 NaN                  NaN                 NaN  43.9   \n",
       " 4                23.6                0.724              1000.0  86.0   \n",
       " 10               39.2                1.246              1000.0  87.0   \n",
       " 28               86.4                0.687              1000.0  87.0   \n",
       " 32               55.9                0.906              1000.0  88.0   \n",
       " 48               59.1                0.864              1000.0  86.0   \n",
       " 53                NaN                  NaN                 NaN   NaN   \n",
       " 63                NaN                  NaN                 NaN   NaN   \n",
       " \n",
       "     GPQA Diamond  MATH-500  HumanEval  LMSys Chatbot Arena ELO  MATH 5  \\\n",
       " 0            NaN       NaN        NaN                      NaN     NaN   \n",
       " 4           33.0      21.0       67.0                   1186.0    23.0   \n",
       " 10          50.0      74.0       92.0                   1256.0    36.0   \n",
       " 28          51.0      79.0       93.0                   1285.0    48.0   \n",
       " 32          56.0      71.0       90.0                   1268.0    46.0   \n",
       " 48          61.0      88.0       88.0                   1301.0    67.0   \n",
       " 53          69.7       NaN        NaN                   1335.0    68.0   \n",
       " 63          75.8       NaN        NaN                   1352.0    94.4   \n",
       " \n",
       "                     Model Name and Date  \n",
       " 0                       GPT-3 (2021-11)  \n",
       " 4                       GPT-4 (2023-03)  \n",
       " 10                GPT-4 Turbo (2023-11)  \n",
       " 28             GPT-4o-2024-05 (2024-05)  \n",
       " 32  Claude-3.5-Sonnet-2024-06 (2024-06)  \n",
       " 48     Gemini-1.5-Pro-2024-09 (2024-09)  \n",
       " 53                 o1-preview (2024-09)  \n",
       " 63                         o1 (2024-12)  ,\n",
       " 'MATH-500':                 Model Name Release Date  USD per 1M Tokens  Tokens per Second  \\\n",
       " 0                    GPT-3   2021-11-20             60.000                NaN   \n",
       " 4                    GPT-4   2023-03-01             37.500               23.6   \n",
       " 6            GPT-3.5 Turbo   2023-06-13              3.250                NaN   \n",
       " 10             GPT-4 Turbo   2023-11-01             15.000               39.2   \n",
       " 28          GPT-4o-2024-05   2024-05-01              7.500               86.4   \n",
       " 39          GPT-4o-2024-08   2024-08-01              4.380               81.0   \n",
       " 48  Gemini-1.5-Pro-2024-09   2024-09-01              2.190               59.1   \n",
       " 70        Gemini 2.0 Flash   2025-02-01              0.175                NaN   \n",
       " \n",
       "     Prefill Latency (s)  Prompt Length (tk)  MMLU  GPQA Diamond  MATH-500  \\\n",
       " 0                   NaN                 NaN  43.9           NaN       NaN   \n",
       " 4                 0.724              1000.0  86.0          33.0      21.0   \n",
       " 6                   NaN                 NaN  68.0          28.8      44.0   \n",
       " 10                1.246              1000.0  87.0          50.0      74.0   \n",
       " 28                0.687              1000.0  87.0          51.0      79.0   \n",
       " 39                0.673              1000.0  89.0          51.0      80.0   \n",
       " 48                0.864              1000.0  86.0          61.0      88.0   \n",
       " 70                  NaN                 NaN  88.0          62.0      93.0   \n",
       " \n",
       "     HumanEval  LMSys Chatbot Arena ELO  MATH 5  \\\n",
       " 0         NaN                      NaN     NaN   \n",
       " 4        67.0                   1186.0    23.0   \n",
       " 6        71.0                   1117.0    15.0   \n",
       " 10       92.0                   1256.0    36.0   \n",
       " 28       93.0                   1285.0    48.0   \n",
       " 39       93.0                   1337.0    47.0   \n",
       " 48       88.0                   1301.0    67.0   \n",
       " 70       90.0                   1358.0    82.0   \n",
       " \n",
       "                  Model Name and Date  \n",
       " 0                    GPT-3 (2021-11)  \n",
       " 4                    GPT-4 (2023-03)  \n",
       " 6            GPT-3.5 Turbo (2023-06)  \n",
       " 10             GPT-4 Turbo (2023-11)  \n",
       " 28          GPT-4o-2024-05 (2024-05)  \n",
       " 39          GPT-4o-2024-08 (2024-08)  \n",
       " 48  Gemini-1.5-Pro-2024-09 (2024-09)  \n",
       " 70        Gemini 2.0 Flash (2025-02)  ,\n",
       " 'MATH 5':                 Model Name Release Date  USD per 1M Tokens  Tokens per Second  \\\n",
       " 0                    GPT-3   2021-11-20             60.000                NaN   \n",
       " 4                    GPT-4   2023-03-01             37.500               23.6   \n",
       " 10             GPT-4 Turbo   2023-11-01             15.000               39.2   \n",
       " 28          GPT-4o-2024-05   2024-05-01              7.500               86.4   \n",
       " 48  Gemini-1.5-Pro-2024-09   2024-09-01              2.190               59.1   \n",
       " 54                 o1-mini   2024-09-12              5.250                NaN   \n",
       " 63                      o1   2024-12-17             26.250                NaN   \n",
       " 68                 o3-mini   2025-01-31              1.925                NaN   \n",
       " \n",
       "     Prefill Latency (s)  Prompt Length (tk)  MMLU  GPQA Diamond  MATH-500  \\\n",
       " 0                   NaN                 NaN  43.9           NaN       NaN   \n",
       " 4                 0.724              1000.0  86.0          33.0      21.0   \n",
       " 10                1.246              1000.0  87.0          50.0      74.0   \n",
       " 28                0.687              1000.0  87.0          51.0      79.0   \n",
       " 48                0.864              1000.0  86.0          61.0      88.0   \n",
       " 54                  NaN                 NaN   NaN          59.5       NaN   \n",
       " 63                  NaN                 NaN   NaN          75.8       NaN   \n",
       " 68                  NaN                 NaN   NaN          74.3       NaN   \n",
       " \n",
       "     HumanEval  LMSys Chatbot Arena ELO  MATH 5  \\\n",
       " 0         NaN                      NaN     NaN   \n",
       " 4        67.0                   1186.0    23.0   \n",
       " 10       92.0                   1256.0    36.0   \n",
       " 28       93.0                   1285.0    48.0   \n",
       " 48       88.0                   1301.0    67.0   \n",
       " 54        NaN                   1304.0    84.3   \n",
       " 63        NaN                   1352.0    94.4   \n",
       " 68        NaN                   1306.0    95.2   \n",
       " \n",
       "                  Model Name and Date  \n",
       " 0                    GPT-3 (2021-11)  \n",
       " 4                    GPT-4 (2023-03)  \n",
       " 10             GPT-4 Turbo (2023-11)  \n",
       " 28          GPT-4o-2024-05 (2024-05)  \n",
       " 48  Gemini-1.5-Pro-2024-09 (2024-09)  \n",
       " 54                 o1-mini (2024-09)  \n",
       " 63                      o1 (2024-12)  \n",
       " 68                 o3-mini (2025-01)  ,\n",
       " 'HumanEval':                    Model Name Release Date  USD per 1M Tokens  \\\n",
       " 0                       GPT-3   2021-11-20              60.00   \n",
       " 4                       GPT-4   2023-03-01              37.50   \n",
       " 6               GPT-3.5 Turbo   2023-06-13               3.25   \n",
       " 10                GPT-4 Turbo   2023-11-01              15.00   \n",
       " 28             GPT-4o-2024-05   2024-05-01               7.50   \n",
       " 60  Claude-3.5-Sonnet-2024-10   2024-10-01               6.00   \n",
       " \n",
       "     Tokens per Second  Prefill Latency (s)  Prompt Length (tk)  MMLU  \\\n",
       " 0                 NaN                  NaN                 NaN  43.9   \n",
       " 4                23.6                0.724              1000.0  86.0   \n",
       " 6                 NaN                  NaN                 NaN  68.0   \n",
       " 10               39.2                1.246              1000.0  87.0   \n",
       " 28               86.4                0.687              1000.0  87.0   \n",
       " 60               55.2                0.907              1000.0  89.0   \n",
       " \n",
       "     GPQA Diamond  MATH-500  HumanEval  LMSys Chatbot Arena ELO  MATH 5  \\\n",
       " 0            NaN       NaN        NaN                      NaN     NaN   \n",
       " 4           33.0      21.0       67.0                   1186.0    23.0   \n",
       " 6           28.8      44.0       71.0                   1117.0    15.0   \n",
       " 10          50.0      74.0       92.0                   1256.0    36.0   \n",
       " 28          51.0      79.0       93.0                   1285.0    48.0   \n",
       " 60          58.0      76.0       96.0                   1282.0    53.0   \n",
       " \n",
       "                     Model Name and Date  \n",
       " 0                       GPT-3 (2021-11)  \n",
       " 4                       GPT-4 (2023-03)  \n",
       " 6               GPT-3.5 Turbo (2023-06)  \n",
       " 10                GPT-4 Turbo (2023-11)  \n",
       " 28             GPT-4o-2024-05 (2024-05)  \n",
       " 60  Claude-3.5-Sonnet-2024-10 (2024-10)  ,\n",
       " 'LMSys Chatbot Arena ELO':         Model Name Release Date  USD per 1M Tokens  Tokens per Second  \\\n",
       " 0            GPT-3   2021-11-20              60.00                NaN   \n",
       " 4            GPT-4   2023-03-01              37.50               23.6   \n",
       " 10     GPT-4 Turbo   2023-11-01              15.00               39.2   \n",
       " 28  GPT-4o-2024-05   2024-05-01               7.50               86.4   \n",
       " 39  GPT-4o-2024-08   2024-08-01               4.38               81.0   \n",
       " 61  GPT-4o-2024-11   2024-11-01               4.38              148.9   \n",
       " 67     DeepSeek-R1   2025-01-20               0.96                NaN   \n",
       " \n",
       "     Prefill Latency (s)  Prompt Length (tk)  MMLU  GPQA Diamond  MATH-500  \\\n",
       " 0                   NaN                 NaN  43.9           NaN       NaN   \n",
       " 4                 0.724              1000.0  86.0          33.0      21.0   \n",
       " 10                1.246              1000.0  87.0          50.0      74.0   \n",
       " 28                0.687              1000.0  87.0          51.0      79.0   \n",
       " 39                0.673              1000.0  89.0          51.0      80.0   \n",
       " 61                0.404              1000.0  86.0          45.0      75.0   \n",
       " 67                  NaN                 NaN   NaN          71.7       NaN   \n",
       " \n",
       "     HumanEval  LMSys Chatbot Arena ELO  MATH 5       Model Name and Date  \n",
       " 0         NaN                      NaN     NaN           GPT-3 (2021-11)  \n",
       " 4        67.0                   1186.0    23.0           GPT-4 (2023-03)  \n",
       " 10       92.0                   1256.0    36.0     GPT-4 Turbo (2023-11)  \n",
       " 28       93.0                   1285.0    48.0  GPT-4o-2024-05 (2024-05)  \n",
       " 39       93.0                   1337.0    47.0  GPT-4o-2024-08 (2024-08)  \n",
       " 61       93.0                   1361.0    50.0  GPT-4o-2024-11 (2024-11)  \n",
       " 67        NaN                   1362.0    93.1     DeepSeek-R1 (2025-01)  }"
      ]
     },
     "execution_count": 11,
     "metadata": {},
     "output_type": "execute_result"
    }
   ],
   "source": [
    "top_models_df_lookup"
   ]
  },
  {
   "cell_type": "markdown",
   "metadata": {},
   "source": [
    "### Price vs. performance"
   ]
  },
  {
   "cell_type": "code",
   "execution_count": 12,
   "metadata": {},
   "outputs": [
    {
     "data": {
      "application/vnd.plotly.v1+json": {
       "config": {
        "plotlyServerURL": "https://plot.ly"
       },
       "data": [
        {
         "customdata": [
          [
           "GPT-3"
          ],
          [
           "GPT-3"
          ],
          [
           "GPT-3"
          ],
          [
           "GPT-3.5"
          ],
          [
           "GPT-4"
          ],
          [
           "GPT-3.5 Turbo"
          ],
          [
           "GPT-3.5 Turbo"
          ],
          [
           "Llama-2-Chat-7B"
          ],
          [
           "Llama-2-Chat-13B"
          ],
          [
           "GPT-4 Turbo"
          ],
          [
           "GPT-3.5 Turbo"
          ],
          [
           "Llama 2-7B"
          ],
          [
           "Llama 2-70B Chat"
          ],
          [
           "Llama 2-13B"
          ],
          [
           "GPT-3"
          ],
          [
           "GPT-3.5 Turbo"
          ],
          [
           "Mistral-Small-2024-02"
          ],
          [
           "Mistral-Large-2024-02"
          ],
          [
           "Claude-3-Opus"
          ],
          [
           "Claude-3-Haiku"
          ],
          [
           "Claude-3-Sonnet"
          ],
          [
           "Llama-3-Instruct-70B"
          ],
          [
           "Llama-3-Instruct-8B"
          ],
          [
           "Mistral-8x22"
          ],
          [
           "Llama 2-13B"
          ],
          [
           "Llama 2-7B"
          ],
          [
           "GPT-4o-2024-05"
          ],
          [
           "Gemini-1.5-Pro-2024-05"
          ],
          [
           "Gemini-1.5-Flash-2024-05"
          ],
          [
           "Mistral-Large-2-2024-06"
          ],
          [
           "Mistral-NeMo"
          ],
          [
           "Claude-3.5-Haiku"
          ],
          [
           "Claude-3.5-Sonnet-2024-06"
          ],
          [
           "Gemma-2-9B"
          ],
          [
           "Gemma-2-27B"
          ],
          [
           "GPT-4o-mini"
          ],
          [
           "Llama-3.1-Instruct-70B"
          ],
          [
           "Llama-3.1-Instruct-405B"
          ],
          [
           "Llama-3.1-Instruct-8B"
          ],
          [
           "GPT-4o-2024-08"
          ],
          [
           "Claude Instant"
          ],
          [
           "Claude 2"
          ],
          [
           "Claude 2.1"
          ],
          [
           "Gemini 1.0 Pro"
          ],
          [
           "Cohere Command"
          ],
          [
           "Cohere Command Light"
          ],
          [
           "Command R"
          ],
          [
           "Command R+"
          ],
          [
           "Gemini-1.5-Pro-2024-09"
          ],
          [
           "Gemini-1.5-Flash-2024-09"
          ],
          [
           "Llama-3.2-Instruct-3B"
          ],
          [
           "Llama-3.2-Instruct-1B"
          ],
          [
           "DeepSeek-Coder-V2 236B"
          ],
          [
           "Jamba 1.5-Large"
          ],
          [
           "o1-mini"
          ],
          [
           "o1-preview"
          ],
          [
           "Command R+"
          ],
          [
           "Reka Core"
          ],
          [
           "Mistral 7B"
          ],
          [
           "Gemini-1.5-Flash-8B"
          ],
          [
           "Claude-3.5-Sonnet-2024-10"
          ],
          [
           "GPT-4o-2024-11"
          ],
          [
           "Mistral-Large-2-2024-11"
          ],
          [
           "o1"
          ],
          [
           "DeepSeek-V3"
          ],
          [
           "Mistral Small 3"
          ],
          [
           "Phi 4"
          ],
          [
           "DeepSeek-R1"
          ],
          [
           "o1-mini"
          ],
          [
           "o3-mini"
          ],
          [
           "Gemini 2.0 Flash"
          ]
         ],
         "hovertemplate": "MMLU=%{x}<br>USD per 1M Tokens=%{y}<br>Model Name=%{customdata[0]}<extra></extra>",
         "legendgroup": "",
         "marker": {
          "color": "#636efa",
          "symbol": "circle"
         },
         "mode": "markers",
         "name": "",
         "orientation": "v",
         "showlegend": false,
         "type": "scatter",
         "x": [
          43.9,
          43.9,
          43.9,
          64.8,
          86,
          68,
          68,
          13,
          45,
          87,
          68,
          45.3,
          68.9,
          54.8,
          63.1,
          68,
          69,
          69,
          84,
          71,
          77,
          79,
          64,
          76,
          54.8,
          45.3,
          87,
          86,
          79,
          85,
          66,
          81,
          88,
          73,
          77,
          82,
          84,
          87,
          71,
          89,
          null,
          78.5,
          null,
          71.8,
          null,
          null,
          null,
          75.7,
          86,
          75,
          64,
          35,
          79.2,
          80,
          null,
          null,
          75.7,
          83.2,
          60.1,
          75,
          89,
          86,
          85,
          null,
          null,
          82,
          85,
          null,
          null,
          null,
          88
         ],
         "xaxis": "x",
         "y": [
          60,
          60,
          20,
          20,
          37.5,
          2,
          3.25,
          0.33,
          0.56,
          15,
          0.75,
          0.2,
          0.7625,
          0.35,
          20,
          0.75,
          1.5,
          6,
          30,
          0.5,
          6,
          0.89,
          0.15,
          1.2,
          0.22,
          0.13,
          7.5,
          2.19,
          0.13,
          3,
          0.13,
          1.6,
          6,
          0.13,
          0.26,
          0.26,
          0.72,
          3.5,
          0.1,
          4.38,
          1.2,
          12,
          12,
          0.75,
          1.625,
          0.375,
          0.75,
          6,
          2.19,
          0.13,
          0.08,
          0.05,
          0.175,
          3.5,
          5.25,
          26.25,
          4.375,
          4,
          0.25,
          0.07,
          6,
          4.38,
          3,
          26.25,
          0.4775,
          0.475,
          0.1225,
          0.96,
          1.925,
          1.925,
          0.175
         ],
         "yaxis": "y"
        }
       ],
       "layout": {
        "legend": {
         "tracegroupgap": 0
        },
        "template": {
         "data": {
          "bar": [
           {
            "error_x": {
             "color": "#2a3f5f"
            },
            "error_y": {
             "color": "#2a3f5f"
            },
            "marker": {
             "line": {
              "color": "white",
              "width": 0.5
             },
             "pattern": {
              "fillmode": "overlay",
              "size": 10,
              "solidity": 0.2
             }
            },
            "type": "bar"
           }
          ],
          "barpolar": [
           {
            "marker": {
             "line": {
              "color": "white",
              "width": 0.5
             },
             "pattern": {
              "fillmode": "overlay",
              "size": 10,
              "solidity": 0.2
             }
            },
            "type": "barpolar"
           }
          ],
          "carpet": [
           {
            "aaxis": {
             "endlinecolor": "#2a3f5f",
             "gridcolor": "#C8D4E3",
             "linecolor": "#C8D4E3",
             "minorgridcolor": "#C8D4E3",
             "startlinecolor": "#2a3f5f"
            },
            "baxis": {
             "endlinecolor": "#2a3f5f",
             "gridcolor": "#C8D4E3",
             "linecolor": "#C8D4E3",
             "minorgridcolor": "#C8D4E3",
             "startlinecolor": "#2a3f5f"
            },
            "type": "carpet"
           }
          ],
          "choropleth": [
           {
            "colorbar": {
             "outlinewidth": 0,
             "ticks": ""
            },
            "type": "choropleth"
           }
          ],
          "contour": [
           {
            "colorbar": {
             "outlinewidth": 0,
             "ticks": ""
            },
            "colorscale": [
             [
              0,
              "#0d0887"
             ],
             [
              0.1111111111111111,
              "#46039f"
             ],
             [
              0.2222222222222222,
              "#7201a8"
             ],
             [
              0.3333333333333333,
              "#9c179e"
             ],
             [
              0.4444444444444444,
              "#bd3786"
             ],
             [
              0.5555555555555556,
              "#d8576b"
             ],
             [
              0.6666666666666666,
              "#ed7953"
             ],
             [
              0.7777777777777778,
              "#fb9f3a"
             ],
             [
              0.8888888888888888,
              "#fdca26"
             ],
             [
              1,
              "#f0f921"
             ]
            ],
            "type": "contour"
           }
          ],
          "contourcarpet": [
           {
            "colorbar": {
             "outlinewidth": 0,
             "ticks": ""
            },
            "type": "contourcarpet"
           }
          ],
          "heatmap": [
           {
            "colorbar": {
             "outlinewidth": 0,
             "ticks": ""
            },
            "colorscale": [
             [
              0,
              "#0d0887"
             ],
             [
              0.1111111111111111,
              "#46039f"
             ],
             [
              0.2222222222222222,
              "#7201a8"
             ],
             [
              0.3333333333333333,
              "#9c179e"
             ],
             [
              0.4444444444444444,
              "#bd3786"
             ],
             [
              0.5555555555555556,
              "#d8576b"
             ],
             [
              0.6666666666666666,
              "#ed7953"
             ],
             [
              0.7777777777777778,
              "#fb9f3a"
             ],
             [
              0.8888888888888888,
              "#fdca26"
             ],
             [
              1,
              "#f0f921"
             ]
            ],
            "type": "heatmap"
           }
          ],
          "heatmapgl": [
           {
            "colorbar": {
             "outlinewidth": 0,
             "ticks": ""
            },
            "colorscale": [
             [
              0,
              "#0d0887"
             ],
             [
              0.1111111111111111,
              "#46039f"
             ],
             [
              0.2222222222222222,
              "#7201a8"
             ],
             [
              0.3333333333333333,
              "#9c179e"
             ],
             [
              0.4444444444444444,
              "#bd3786"
             ],
             [
              0.5555555555555556,
              "#d8576b"
             ],
             [
              0.6666666666666666,
              "#ed7953"
             ],
             [
              0.7777777777777778,
              "#fb9f3a"
             ],
             [
              0.8888888888888888,
              "#fdca26"
             ],
             [
              1,
              "#f0f921"
             ]
            ],
            "type": "heatmapgl"
           }
          ],
          "histogram": [
           {
            "marker": {
             "pattern": {
              "fillmode": "overlay",
              "size": 10,
              "solidity": 0.2
             }
            },
            "type": "histogram"
           }
          ],
          "histogram2d": [
           {
            "colorbar": {
             "outlinewidth": 0,
             "ticks": ""
            },
            "colorscale": [
             [
              0,
              "#0d0887"
             ],
             [
              0.1111111111111111,
              "#46039f"
             ],
             [
              0.2222222222222222,
              "#7201a8"
             ],
             [
              0.3333333333333333,
              "#9c179e"
             ],
             [
              0.4444444444444444,
              "#bd3786"
             ],
             [
              0.5555555555555556,
              "#d8576b"
             ],
             [
              0.6666666666666666,
              "#ed7953"
             ],
             [
              0.7777777777777778,
              "#fb9f3a"
             ],
             [
              0.8888888888888888,
              "#fdca26"
             ],
             [
              1,
              "#f0f921"
             ]
            ],
            "type": "histogram2d"
           }
          ],
          "histogram2dcontour": [
           {
            "colorbar": {
             "outlinewidth": 0,
             "ticks": ""
            },
            "colorscale": [
             [
              0,
              "#0d0887"
             ],
             [
              0.1111111111111111,
              "#46039f"
             ],
             [
              0.2222222222222222,
              "#7201a8"
             ],
             [
              0.3333333333333333,
              "#9c179e"
             ],
             [
              0.4444444444444444,
              "#bd3786"
             ],
             [
              0.5555555555555556,
              "#d8576b"
             ],
             [
              0.6666666666666666,
              "#ed7953"
             ],
             [
              0.7777777777777778,
              "#fb9f3a"
             ],
             [
              0.8888888888888888,
              "#fdca26"
             ],
             [
              1,
              "#f0f921"
             ]
            ],
            "type": "histogram2dcontour"
           }
          ],
          "mesh3d": [
           {
            "colorbar": {
             "outlinewidth": 0,
             "ticks": ""
            },
            "type": "mesh3d"
           }
          ],
          "parcoords": [
           {
            "line": {
             "colorbar": {
              "outlinewidth": 0,
              "ticks": ""
             }
            },
            "type": "parcoords"
           }
          ],
          "pie": [
           {
            "automargin": true,
            "type": "pie"
           }
          ],
          "scatter": [
           {
            "fillpattern": {
             "fillmode": "overlay",
             "size": 10,
             "solidity": 0.2
            },
            "type": "scatter"
           }
          ],
          "scatter3d": [
           {
            "line": {
             "colorbar": {
              "outlinewidth": 0,
              "ticks": ""
             }
            },
            "marker": {
             "colorbar": {
              "outlinewidth": 0,
              "ticks": ""
             }
            },
            "type": "scatter3d"
           }
          ],
          "scattercarpet": [
           {
            "marker": {
             "colorbar": {
              "outlinewidth": 0,
              "ticks": ""
             }
            },
            "type": "scattercarpet"
           }
          ],
          "scattergeo": [
           {
            "marker": {
             "colorbar": {
              "outlinewidth": 0,
              "ticks": ""
             }
            },
            "type": "scattergeo"
           }
          ],
          "scattergl": [
           {
            "marker": {
             "colorbar": {
              "outlinewidth": 0,
              "ticks": ""
             }
            },
            "type": "scattergl"
           }
          ],
          "scattermapbox": [
           {
            "marker": {
             "colorbar": {
              "outlinewidth": 0,
              "ticks": ""
             }
            },
            "type": "scattermapbox"
           }
          ],
          "scatterpolar": [
           {
            "marker": {
             "colorbar": {
              "outlinewidth": 0,
              "ticks": ""
             }
            },
            "type": "scatterpolar"
           }
          ],
          "scatterpolargl": [
           {
            "marker": {
             "colorbar": {
              "outlinewidth": 0,
              "ticks": ""
             }
            },
            "type": "scatterpolargl"
           }
          ],
          "scatterternary": [
           {
            "marker": {
             "colorbar": {
              "outlinewidth": 0,
              "ticks": ""
             }
            },
            "type": "scatterternary"
           }
          ],
          "surface": [
           {
            "colorbar": {
             "outlinewidth": 0,
             "ticks": ""
            },
            "colorscale": [
             [
              0,
              "#0d0887"
             ],
             [
              0.1111111111111111,
              "#46039f"
             ],
             [
              0.2222222222222222,
              "#7201a8"
             ],
             [
              0.3333333333333333,
              "#9c179e"
             ],
             [
              0.4444444444444444,
              "#bd3786"
             ],
             [
              0.5555555555555556,
              "#d8576b"
             ],
             [
              0.6666666666666666,
              "#ed7953"
             ],
             [
              0.7777777777777778,
              "#fb9f3a"
             ],
             [
              0.8888888888888888,
              "#fdca26"
             ],
             [
              1,
              "#f0f921"
             ]
            ],
            "type": "surface"
           }
          ],
          "table": [
           {
            "cells": {
             "fill": {
              "color": "#EBF0F8"
             },
             "line": {
              "color": "white"
             }
            },
            "header": {
             "fill": {
              "color": "#C8D4E3"
             },
             "line": {
              "color": "white"
             }
            },
            "type": "table"
           }
          ]
         },
         "layout": {
          "annotationdefaults": {
           "arrowcolor": "#2a3f5f",
           "arrowhead": 0,
           "arrowwidth": 1
          },
          "autotypenumbers": "strict",
          "coloraxis": {
           "colorbar": {
            "outlinewidth": 0,
            "ticks": ""
           }
          },
          "colorscale": {
           "diverging": [
            [
             0,
             "#8e0152"
            ],
            [
             0.1,
             "#c51b7d"
            ],
            [
             0.2,
             "#de77ae"
            ],
            [
             0.3,
             "#f1b6da"
            ],
            [
             0.4,
             "#fde0ef"
            ],
            [
             0.5,
             "#f7f7f7"
            ],
            [
             0.6,
             "#e6f5d0"
            ],
            [
             0.7,
             "#b8e186"
            ],
            [
             0.8,
             "#7fbc41"
            ],
            [
             0.9,
             "#4d9221"
            ],
            [
             1,
             "#276419"
            ]
           ],
           "sequential": [
            [
             0,
             "#0d0887"
            ],
            [
             0.1111111111111111,
             "#46039f"
            ],
            [
             0.2222222222222222,
             "#7201a8"
            ],
            [
             0.3333333333333333,
             "#9c179e"
            ],
            [
             0.4444444444444444,
             "#bd3786"
            ],
            [
             0.5555555555555556,
             "#d8576b"
            ],
            [
             0.6666666666666666,
             "#ed7953"
            ],
            [
             0.7777777777777778,
             "#fb9f3a"
            ],
            [
             0.8888888888888888,
             "#fdca26"
            ],
            [
             1,
             "#f0f921"
            ]
           ],
           "sequentialminus": [
            [
             0,
             "#0d0887"
            ],
            [
             0.1111111111111111,
             "#46039f"
            ],
            [
             0.2222222222222222,
             "#7201a8"
            ],
            [
             0.3333333333333333,
             "#9c179e"
            ],
            [
             0.4444444444444444,
             "#bd3786"
            ],
            [
             0.5555555555555556,
             "#d8576b"
            ],
            [
             0.6666666666666666,
             "#ed7953"
            ],
            [
             0.7777777777777778,
             "#fb9f3a"
            ],
            [
             0.8888888888888888,
             "#fdca26"
            ],
            [
             1,
             "#f0f921"
            ]
           ]
          },
          "colorway": [
           "#636efa",
           "#EF553B",
           "#00cc96",
           "#ab63fa",
           "#FFA15A",
           "#19d3f3",
           "#FF6692",
           "#B6E880",
           "#FF97FF",
           "#FECB52"
          ],
          "font": {
           "color": "#2a3f5f"
          },
          "geo": {
           "bgcolor": "white",
           "lakecolor": "white",
           "landcolor": "white",
           "showlakes": true,
           "showland": true,
           "subunitcolor": "#C8D4E3"
          },
          "hoverlabel": {
           "align": "left"
          },
          "hovermode": "closest",
          "mapbox": {
           "style": "light"
          },
          "paper_bgcolor": "white",
          "plot_bgcolor": "white",
          "polar": {
           "angularaxis": {
            "gridcolor": "#EBF0F8",
            "linecolor": "#EBF0F8",
            "ticks": ""
           },
           "bgcolor": "white",
           "radialaxis": {
            "gridcolor": "#EBF0F8",
            "linecolor": "#EBF0F8",
            "ticks": ""
           }
          },
          "scene": {
           "xaxis": {
            "backgroundcolor": "white",
            "gridcolor": "#DFE8F3",
            "gridwidth": 2,
            "linecolor": "#EBF0F8",
            "showbackground": true,
            "ticks": "",
            "zerolinecolor": "#EBF0F8"
           },
           "yaxis": {
            "backgroundcolor": "white",
            "gridcolor": "#DFE8F3",
            "gridwidth": 2,
            "linecolor": "#EBF0F8",
            "showbackground": true,
            "ticks": "",
            "zerolinecolor": "#EBF0F8"
           },
           "zaxis": {
            "backgroundcolor": "white",
            "gridcolor": "#DFE8F3",
            "gridwidth": 2,
            "linecolor": "#EBF0F8",
            "showbackground": true,
            "ticks": "",
            "zerolinecolor": "#EBF0F8"
           }
          },
          "shapedefaults": {
           "line": {
            "color": "#2a3f5f"
           }
          },
          "ternary": {
           "aaxis": {
            "gridcolor": "#DFE8F3",
            "linecolor": "#A2B1C6",
            "ticks": ""
           },
           "baxis": {
            "gridcolor": "#DFE8F3",
            "linecolor": "#A2B1C6",
            "ticks": ""
           },
           "bgcolor": "white",
           "caxis": {
            "gridcolor": "#DFE8F3",
            "linecolor": "#A2B1C6",
            "ticks": ""
           }
          },
          "title": {
           "x": 0.05
          },
          "xaxis": {
           "automargin": true,
           "gridcolor": "#EBF0F8",
           "linecolor": "#EBF0F8",
           "ticks": "",
           "title": {
            "standoff": 15
           },
           "zerolinecolor": "#EBF0F8",
           "zerolinewidth": 2
          },
          "yaxis": {
           "automargin": true,
           "gridcolor": "#EBF0F8",
           "linecolor": "#EBF0F8",
           "ticks": "",
           "title": {
            "standoff": 15
           },
           "zerolinecolor": "#EBF0F8",
           "zerolinewidth": 2
          }
         }
        },
        "title": {
         "text": "MMLU vs. USD per 1M Tokens"
        },
        "xaxis": {
         "anchor": "y",
         "domain": [
          0,
          1
         ],
         "title": {
          "text": "MMLU"
         }
        },
        "yaxis": {
         "anchor": "x",
         "domain": [
          0,
          1
         ],
         "title": {
          "text": "USD per 1M Tokens"
         },
         "type": "log"
        }
       }
      }
     },
     "metadata": {},
     "output_type": "display_data"
    }
   ],
   "source": [
    "# Plot 'MMLU' vs. 'USD per 1M Tokens'\n",
    "fig = px.scatter(aa_df, x='MMLU', y='USD per 1M Tokens', hover_data=['Model Name'], title='MMLU vs. USD per 1M Tokens')\n",
    "fig.update_layout(yaxis_type='log')\n",
    "fig.show()\n"
   ]
  },
  {
   "cell_type": "code",
   "execution_count": 13,
   "metadata": {},
   "outputs": [
    {
     "data": {
      "application/vnd.plotly.v1+json": {
       "config": {
        "plotlyServerURL": "https://plot.ly"
       },
       "data": [
        {
         "customdata": [
          [
           "GPT-3"
          ],
          [
           "GPT-3"
          ],
          [
           "GPT-3"
          ],
          [
           "GPT-3.5"
          ],
          [
           "GPT-4"
          ],
          [
           "GPT-3.5 Turbo"
          ],
          [
           "GPT-3.5 Turbo"
          ],
          [
           "Llama-2-Chat-7B"
          ],
          [
           "Llama-2-Chat-13B"
          ],
          [
           "GPT-4 Turbo"
          ],
          [
           "GPT-3.5 Turbo"
          ],
          [
           "Llama 2-7B"
          ],
          [
           "Llama 2-70B Chat"
          ],
          [
           "Llama 2-13B"
          ],
          [
           "GPT-3"
          ],
          [
           "GPT-3.5 Turbo"
          ],
          [
           "Mistral-Small-2024-02"
          ],
          [
           "Mistral-Large-2024-02"
          ],
          [
           "Claude-3-Opus"
          ],
          [
           "Claude-3-Haiku"
          ],
          [
           "Claude-3-Sonnet"
          ],
          [
           "Llama-3-Instruct-70B"
          ],
          [
           "Llama-3-Instruct-8B"
          ],
          [
           "Mistral-8x22"
          ],
          [
           "Llama 2-13B"
          ],
          [
           "Llama 2-7B"
          ],
          [
           "GPT-4o-2024-05"
          ],
          [
           "Gemini-1.5-Pro-2024-05"
          ],
          [
           "Gemini-1.5-Flash-2024-05"
          ],
          [
           "Mistral-Large-2-2024-06"
          ],
          [
           "Mistral-NeMo"
          ],
          [
           "Claude-3.5-Haiku"
          ],
          [
           "Claude-3.5-Sonnet-2024-06"
          ],
          [
           "Gemma-2-9B"
          ],
          [
           "Gemma-2-27B"
          ],
          [
           "GPT-4o-mini"
          ],
          [
           "Llama-3.1-Instruct-70B"
          ],
          [
           "Llama-3.1-Instruct-405B"
          ],
          [
           "Llama-3.1-Instruct-8B"
          ],
          [
           "GPT-4o-2024-08"
          ],
          [
           "Claude Instant"
          ],
          [
           "Claude 2"
          ],
          [
           "Claude 2.1"
          ],
          [
           "Gemini 1.0 Pro"
          ],
          [
           "Cohere Command"
          ],
          [
           "Cohere Command Light"
          ],
          [
           "Command R"
          ],
          [
           "Command R+"
          ],
          [
           "Gemini-1.5-Pro-2024-09"
          ],
          [
           "Gemini-1.5-Flash-2024-09"
          ],
          [
           "Llama-3.2-Instruct-3B"
          ],
          [
           "Llama-3.2-Instruct-1B"
          ],
          [
           "DeepSeek-Coder-V2 236B"
          ],
          [
           "Jamba 1.5-Large"
          ],
          [
           "o1-mini"
          ],
          [
           "o1-preview"
          ],
          [
           "Command R+"
          ],
          [
           "Reka Core"
          ],
          [
           "Mistral 7B"
          ],
          [
           "Gemini-1.5-Flash-8B"
          ],
          [
           "Claude-3.5-Sonnet-2024-10"
          ],
          [
           "GPT-4o-2024-11"
          ],
          [
           "Mistral-Large-2-2024-11"
          ],
          [
           "o1"
          ],
          [
           "DeepSeek-V3"
          ],
          [
           "Mistral Small 3"
          ],
          [
           "Phi 4"
          ],
          [
           "DeepSeek-R1"
          ],
          [
           "o1-mini"
          ],
          [
           "o3-mini"
          ],
          [
           "Gemini 2.0 Flash"
          ]
         ],
         "hovertemplate": "Release Date=%{x}<br>MMLU price-performance=%{y}<br>Model Name=%{customdata[0]}<extra></extra>",
         "legendgroup": "",
         "marker": {
          "color": "#636efa",
          "symbol": "circle"
         },
         "mode": "markers",
         "name": "",
         "orientation": "v",
         "showlegend": false,
         "type": "scatter",
         "x": [
          "2021-11-20T00:00:00",
          "2022-08-31T00:00:00",
          "2022-09-01T00:00:00",
          "2022-11-30T00:00:00",
          "2023-03-01T00:00:00",
          "2023-03-06T00:00:00",
          "2023-06-13T00:00:00",
          "2023-07-01T00:00:00",
          "2023-07-01T00:00:00",
          "2023-11-01T00:00:00",
          "2023-11-01T00:00:00",
          "2023-12-01T00:00:00",
          "2023-12-01T00:00:00",
          "2023-12-08T00:00:00",
          "2024-01-04T00:00:00",
          "2024-01-25T00:00:00",
          "2024-02-01T00:00:00",
          "2024-02-01T00:00:00",
          "2024-03-01T00:00:00",
          "2024-03-01T00:00:00",
          "2024-03-01T00:00:00",
          "2024-04-01T00:00:00",
          "2024-04-01T00:00:00",
          "2024-04-01T00:00:00",
          "2024-04-14T00:00:00",
          "2024-04-14T00:00:00",
          "2024-05-01T00:00:00",
          "2024-05-01T00:00:00",
          "2024-05-01T00:00:00",
          "2024-06-01T00:00:00",
          "2024-06-01T00:00:00",
          "2024-06-01T00:00:00",
          "2024-06-01T00:00:00",
          "2024-06-01T00:00:00",
          "2024-06-01T00:00:00",
          "2024-07-01T00:00:00",
          "2024-07-01T00:00:00",
          "2024-07-01T00:00:00",
          "2024-07-01T00:00:00",
          "2024-08-01T00:00:00",
          "2024-08-12T00:00:00",
          "2024-08-12T00:00:00",
          "2024-08-12T00:00:00",
          "2024-08-12T00:00:00",
          "2024-08-13T00:00:00",
          "2024-08-13T00:00:00",
          "2024-08-13T00:00:00",
          "2024-08-13T00:00:00",
          "2024-09-01T00:00:00",
          "2024-09-01T00:00:00",
          "2024-09-01T00:00:00",
          "2024-09-01T00:00:00",
          "2024-09-11T00:00:00",
          "2024-09-12T00:00:00",
          "2024-09-12T00:00:00",
          "2024-09-12T00:00:00",
          "2024-09-13T00:00:00",
          "2024-09-14T00:00:00",
          "2024-09-14T00:00:00",
          "2024-10-01T00:00:00",
          "2024-10-01T00:00:00",
          "2024-11-01T00:00:00",
          "2024-11-01T00:00:00",
          "2024-12-17T00:00:00",
          "2024-12-26T00:00:00",
          "2025-01-01T00:00:00",
          "2025-01-01T00:00:00",
          "2025-01-20T00:00:00",
          "2025-01-31T00:00:00",
          "2025-01-31T00:00:00",
          "2025-02-01T00:00:00"
         ],
         "xaxis": "x",
         "y": [
          0.7316666666666667,
          0.7316666666666667,
          2.195,
          3.2399999999999998,
          2.2933333333333334,
          34,
          20.923076923076923,
          39.39393939393939,
          80.35714285714285,
          5.8,
          90.66666666666667,
          226.49999999999997,
          90.36065573770493,
          156.57142857142858,
          3.1550000000000002,
          90.66666666666667,
          46,
          11.5,
          2.8,
          142,
          12.833333333333334,
          88.76404494382022,
          426.6666666666667,
          63.333333333333336,
          249.09090909090907,
          348.46153846153845,
          11.6,
          39.269406392694066,
          607.6923076923076,
          28.333333333333332,
          507.6923076923077,
          50.625,
          14.666666666666666,
          561.5384615384615,
          296.15384615384613,
          315.38461538461536,
          116.66666666666667,
          24.857142857142858,
          710,
          20.319634703196346,
          null,
          6.541666666666667,
          null,
          95.73333333333333,
          null,
          null,
          null,
          12.616666666666667,
          39.269406392694066,
          576.9230769230769,
          800,
          700,
          452.5714285714286,
          22.857142857142858,
          null,
          null,
          17.302857142857142,
          20.8,
          240.4,
          1071.4285714285713,
          14.833333333333334,
          19.634703196347033,
          28.333333333333332,
          null,
          null,
          172.63157894736844,
          693.8775510204082,
          null,
          null,
          null,
          502.8571428571429
         ],
         "yaxis": "y"
        }
       ],
       "layout": {
        "legend": {
         "tracegroupgap": 0
        },
        "template": {
         "data": {
          "bar": [
           {
            "error_x": {
             "color": "#2a3f5f"
            },
            "error_y": {
             "color": "#2a3f5f"
            },
            "marker": {
             "line": {
              "color": "white",
              "width": 0.5
             },
             "pattern": {
              "fillmode": "overlay",
              "size": 10,
              "solidity": 0.2
             }
            },
            "type": "bar"
           }
          ],
          "barpolar": [
           {
            "marker": {
             "line": {
              "color": "white",
              "width": 0.5
             },
             "pattern": {
              "fillmode": "overlay",
              "size": 10,
              "solidity": 0.2
             }
            },
            "type": "barpolar"
           }
          ],
          "carpet": [
           {
            "aaxis": {
             "endlinecolor": "#2a3f5f",
             "gridcolor": "#C8D4E3",
             "linecolor": "#C8D4E3",
             "minorgridcolor": "#C8D4E3",
             "startlinecolor": "#2a3f5f"
            },
            "baxis": {
             "endlinecolor": "#2a3f5f",
             "gridcolor": "#C8D4E3",
             "linecolor": "#C8D4E3",
             "minorgridcolor": "#C8D4E3",
             "startlinecolor": "#2a3f5f"
            },
            "type": "carpet"
           }
          ],
          "choropleth": [
           {
            "colorbar": {
             "outlinewidth": 0,
             "ticks": ""
            },
            "type": "choropleth"
           }
          ],
          "contour": [
           {
            "colorbar": {
             "outlinewidth": 0,
             "ticks": ""
            },
            "colorscale": [
             [
              0,
              "#0d0887"
             ],
             [
              0.1111111111111111,
              "#46039f"
             ],
             [
              0.2222222222222222,
              "#7201a8"
             ],
             [
              0.3333333333333333,
              "#9c179e"
             ],
             [
              0.4444444444444444,
              "#bd3786"
             ],
             [
              0.5555555555555556,
              "#d8576b"
             ],
             [
              0.6666666666666666,
              "#ed7953"
             ],
             [
              0.7777777777777778,
              "#fb9f3a"
             ],
             [
              0.8888888888888888,
              "#fdca26"
             ],
             [
              1,
              "#f0f921"
             ]
            ],
            "type": "contour"
           }
          ],
          "contourcarpet": [
           {
            "colorbar": {
             "outlinewidth": 0,
             "ticks": ""
            },
            "type": "contourcarpet"
           }
          ],
          "heatmap": [
           {
            "colorbar": {
             "outlinewidth": 0,
             "ticks": ""
            },
            "colorscale": [
             [
              0,
              "#0d0887"
             ],
             [
              0.1111111111111111,
              "#46039f"
             ],
             [
              0.2222222222222222,
              "#7201a8"
             ],
             [
              0.3333333333333333,
              "#9c179e"
             ],
             [
              0.4444444444444444,
              "#bd3786"
             ],
             [
              0.5555555555555556,
              "#d8576b"
             ],
             [
              0.6666666666666666,
              "#ed7953"
             ],
             [
              0.7777777777777778,
              "#fb9f3a"
             ],
             [
              0.8888888888888888,
              "#fdca26"
             ],
             [
              1,
              "#f0f921"
             ]
            ],
            "type": "heatmap"
           }
          ],
          "heatmapgl": [
           {
            "colorbar": {
             "outlinewidth": 0,
             "ticks": ""
            },
            "colorscale": [
             [
              0,
              "#0d0887"
             ],
             [
              0.1111111111111111,
              "#46039f"
             ],
             [
              0.2222222222222222,
              "#7201a8"
             ],
             [
              0.3333333333333333,
              "#9c179e"
             ],
             [
              0.4444444444444444,
              "#bd3786"
             ],
             [
              0.5555555555555556,
              "#d8576b"
             ],
             [
              0.6666666666666666,
              "#ed7953"
             ],
             [
              0.7777777777777778,
              "#fb9f3a"
             ],
             [
              0.8888888888888888,
              "#fdca26"
             ],
             [
              1,
              "#f0f921"
             ]
            ],
            "type": "heatmapgl"
           }
          ],
          "histogram": [
           {
            "marker": {
             "pattern": {
              "fillmode": "overlay",
              "size": 10,
              "solidity": 0.2
             }
            },
            "type": "histogram"
           }
          ],
          "histogram2d": [
           {
            "colorbar": {
             "outlinewidth": 0,
             "ticks": ""
            },
            "colorscale": [
             [
              0,
              "#0d0887"
             ],
             [
              0.1111111111111111,
              "#46039f"
             ],
             [
              0.2222222222222222,
              "#7201a8"
             ],
             [
              0.3333333333333333,
              "#9c179e"
             ],
             [
              0.4444444444444444,
              "#bd3786"
             ],
             [
              0.5555555555555556,
              "#d8576b"
             ],
             [
              0.6666666666666666,
              "#ed7953"
             ],
             [
              0.7777777777777778,
              "#fb9f3a"
             ],
             [
              0.8888888888888888,
              "#fdca26"
             ],
             [
              1,
              "#f0f921"
             ]
            ],
            "type": "histogram2d"
           }
          ],
          "histogram2dcontour": [
           {
            "colorbar": {
             "outlinewidth": 0,
             "ticks": ""
            },
            "colorscale": [
             [
              0,
              "#0d0887"
             ],
             [
              0.1111111111111111,
              "#46039f"
             ],
             [
              0.2222222222222222,
              "#7201a8"
             ],
             [
              0.3333333333333333,
              "#9c179e"
             ],
             [
              0.4444444444444444,
              "#bd3786"
             ],
             [
              0.5555555555555556,
              "#d8576b"
             ],
             [
              0.6666666666666666,
              "#ed7953"
             ],
             [
              0.7777777777777778,
              "#fb9f3a"
             ],
             [
              0.8888888888888888,
              "#fdca26"
             ],
             [
              1,
              "#f0f921"
             ]
            ],
            "type": "histogram2dcontour"
           }
          ],
          "mesh3d": [
           {
            "colorbar": {
             "outlinewidth": 0,
             "ticks": ""
            },
            "type": "mesh3d"
           }
          ],
          "parcoords": [
           {
            "line": {
             "colorbar": {
              "outlinewidth": 0,
              "ticks": ""
             }
            },
            "type": "parcoords"
           }
          ],
          "pie": [
           {
            "automargin": true,
            "type": "pie"
           }
          ],
          "scatter": [
           {
            "fillpattern": {
             "fillmode": "overlay",
             "size": 10,
             "solidity": 0.2
            },
            "type": "scatter"
           }
          ],
          "scatter3d": [
           {
            "line": {
             "colorbar": {
              "outlinewidth": 0,
              "ticks": ""
             }
            },
            "marker": {
             "colorbar": {
              "outlinewidth": 0,
              "ticks": ""
             }
            },
            "type": "scatter3d"
           }
          ],
          "scattercarpet": [
           {
            "marker": {
             "colorbar": {
              "outlinewidth": 0,
              "ticks": ""
             }
            },
            "type": "scattercarpet"
           }
          ],
          "scattergeo": [
           {
            "marker": {
             "colorbar": {
              "outlinewidth": 0,
              "ticks": ""
             }
            },
            "type": "scattergeo"
           }
          ],
          "scattergl": [
           {
            "marker": {
             "colorbar": {
              "outlinewidth": 0,
              "ticks": ""
             }
            },
            "type": "scattergl"
           }
          ],
          "scattermapbox": [
           {
            "marker": {
             "colorbar": {
              "outlinewidth": 0,
              "ticks": ""
             }
            },
            "type": "scattermapbox"
           }
          ],
          "scatterpolar": [
           {
            "marker": {
             "colorbar": {
              "outlinewidth": 0,
              "ticks": ""
             }
            },
            "type": "scatterpolar"
           }
          ],
          "scatterpolargl": [
           {
            "marker": {
             "colorbar": {
              "outlinewidth": 0,
              "ticks": ""
             }
            },
            "type": "scatterpolargl"
           }
          ],
          "scatterternary": [
           {
            "marker": {
             "colorbar": {
              "outlinewidth": 0,
              "ticks": ""
             }
            },
            "type": "scatterternary"
           }
          ],
          "surface": [
           {
            "colorbar": {
             "outlinewidth": 0,
             "ticks": ""
            },
            "colorscale": [
             [
              0,
              "#0d0887"
             ],
             [
              0.1111111111111111,
              "#46039f"
             ],
             [
              0.2222222222222222,
              "#7201a8"
             ],
             [
              0.3333333333333333,
              "#9c179e"
             ],
             [
              0.4444444444444444,
              "#bd3786"
             ],
             [
              0.5555555555555556,
              "#d8576b"
             ],
             [
              0.6666666666666666,
              "#ed7953"
             ],
             [
              0.7777777777777778,
              "#fb9f3a"
             ],
             [
              0.8888888888888888,
              "#fdca26"
             ],
             [
              1,
              "#f0f921"
             ]
            ],
            "type": "surface"
           }
          ],
          "table": [
           {
            "cells": {
             "fill": {
              "color": "#EBF0F8"
             },
             "line": {
              "color": "white"
             }
            },
            "header": {
             "fill": {
              "color": "#C8D4E3"
             },
             "line": {
              "color": "white"
             }
            },
            "type": "table"
           }
          ]
         },
         "layout": {
          "annotationdefaults": {
           "arrowcolor": "#2a3f5f",
           "arrowhead": 0,
           "arrowwidth": 1
          },
          "autotypenumbers": "strict",
          "coloraxis": {
           "colorbar": {
            "outlinewidth": 0,
            "ticks": ""
           }
          },
          "colorscale": {
           "diverging": [
            [
             0,
             "#8e0152"
            ],
            [
             0.1,
             "#c51b7d"
            ],
            [
             0.2,
             "#de77ae"
            ],
            [
             0.3,
             "#f1b6da"
            ],
            [
             0.4,
             "#fde0ef"
            ],
            [
             0.5,
             "#f7f7f7"
            ],
            [
             0.6,
             "#e6f5d0"
            ],
            [
             0.7,
             "#b8e186"
            ],
            [
             0.8,
             "#7fbc41"
            ],
            [
             0.9,
             "#4d9221"
            ],
            [
             1,
             "#276419"
            ]
           ],
           "sequential": [
            [
             0,
             "#0d0887"
            ],
            [
             0.1111111111111111,
             "#46039f"
            ],
            [
             0.2222222222222222,
             "#7201a8"
            ],
            [
             0.3333333333333333,
             "#9c179e"
            ],
            [
             0.4444444444444444,
             "#bd3786"
            ],
            [
             0.5555555555555556,
             "#d8576b"
            ],
            [
             0.6666666666666666,
             "#ed7953"
            ],
            [
             0.7777777777777778,
             "#fb9f3a"
            ],
            [
             0.8888888888888888,
             "#fdca26"
            ],
            [
             1,
             "#f0f921"
            ]
           ],
           "sequentialminus": [
            [
             0,
             "#0d0887"
            ],
            [
             0.1111111111111111,
             "#46039f"
            ],
            [
             0.2222222222222222,
             "#7201a8"
            ],
            [
             0.3333333333333333,
             "#9c179e"
            ],
            [
             0.4444444444444444,
             "#bd3786"
            ],
            [
             0.5555555555555556,
             "#d8576b"
            ],
            [
             0.6666666666666666,
             "#ed7953"
            ],
            [
             0.7777777777777778,
             "#fb9f3a"
            ],
            [
             0.8888888888888888,
             "#fdca26"
            ],
            [
             1,
             "#f0f921"
            ]
           ]
          },
          "colorway": [
           "#636efa",
           "#EF553B",
           "#00cc96",
           "#ab63fa",
           "#FFA15A",
           "#19d3f3",
           "#FF6692",
           "#B6E880",
           "#FF97FF",
           "#FECB52"
          ],
          "font": {
           "color": "#2a3f5f"
          },
          "geo": {
           "bgcolor": "white",
           "lakecolor": "white",
           "landcolor": "white",
           "showlakes": true,
           "showland": true,
           "subunitcolor": "#C8D4E3"
          },
          "hoverlabel": {
           "align": "left"
          },
          "hovermode": "closest",
          "mapbox": {
           "style": "light"
          },
          "paper_bgcolor": "white",
          "plot_bgcolor": "white",
          "polar": {
           "angularaxis": {
            "gridcolor": "#EBF0F8",
            "linecolor": "#EBF0F8",
            "ticks": ""
           },
           "bgcolor": "white",
           "radialaxis": {
            "gridcolor": "#EBF0F8",
            "linecolor": "#EBF0F8",
            "ticks": ""
           }
          },
          "scene": {
           "xaxis": {
            "backgroundcolor": "white",
            "gridcolor": "#DFE8F3",
            "gridwidth": 2,
            "linecolor": "#EBF0F8",
            "showbackground": true,
            "ticks": "",
            "zerolinecolor": "#EBF0F8"
           },
           "yaxis": {
            "backgroundcolor": "white",
            "gridcolor": "#DFE8F3",
            "gridwidth": 2,
            "linecolor": "#EBF0F8",
            "showbackground": true,
            "ticks": "",
            "zerolinecolor": "#EBF0F8"
           },
           "zaxis": {
            "backgroundcolor": "white",
            "gridcolor": "#DFE8F3",
            "gridwidth": 2,
            "linecolor": "#EBF0F8",
            "showbackground": true,
            "ticks": "",
            "zerolinecolor": "#EBF0F8"
           }
          },
          "shapedefaults": {
           "line": {
            "color": "#2a3f5f"
           }
          },
          "ternary": {
           "aaxis": {
            "gridcolor": "#DFE8F3",
            "linecolor": "#A2B1C6",
            "ticks": ""
           },
           "baxis": {
            "gridcolor": "#DFE8F3",
            "linecolor": "#A2B1C6",
            "ticks": ""
           },
           "bgcolor": "white",
           "caxis": {
            "gridcolor": "#DFE8F3",
            "linecolor": "#A2B1C6",
            "ticks": ""
           }
          },
          "title": {
           "x": 0.05
          },
          "xaxis": {
           "automargin": true,
           "gridcolor": "#EBF0F8",
           "linecolor": "#EBF0F8",
           "ticks": "",
           "title": {
            "standoff": 15
           },
           "zerolinecolor": "#EBF0F8",
           "zerolinewidth": 2
          },
          "yaxis": {
           "automargin": true,
           "gridcolor": "#EBF0F8",
           "linecolor": "#EBF0F8",
           "ticks": "",
           "title": {
            "standoff": 15
           },
           "zerolinecolor": "#EBF0F8",
           "zerolinewidth": 2
          }
         }
        },
        "title": {
         "text": "MMLU price-performance over time"
        },
        "xaxis": {
         "anchor": "y",
         "domain": [
          0,
          1
         ],
         "title": {
          "text": "Release Date"
         }
        },
        "yaxis": {
         "anchor": "x",
         "domain": [
          0,
          1
         ],
         "title": {
          "text": "MMLU price-performance"
         },
         "type": "log"
        }
       }
      }
     },
     "metadata": {},
     "output_type": "display_data"
    }
   ],
   "source": [
    "aa_df['MMLU price-performance'] = aa_df['MMLU'] / aa_df['USD per 1M Tokens']\n",
    "# Plot 'MMLU price-performance' vs. 'Date'\n",
    "fig = px.scatter(aa_df, x='Release Date', y='MMLU price-performance', title='MMLU price-performance over time', hover_data=['Model Name'])\n",
    "fig.update_layout(yaxis_type='log')\n",
    "fig.show()\n"
   ]
  },
  {
   "cell_type": "code",
   "execution_count": 14,
   "metadata": {},
   "outputs": [
    {
     "name": "stdout",
     "output_type": "stream",
     "text": [
      "['GPT-3 (2021-11)', 'GPT-3 (2022-09)', 'GPT-3.5 (2022-11)', 'GPT-3.5 Turbo (2023-03)', 'GPT-3.5 Turbo (2023-11)', 'Gemini-1.5-Flash-2024-05 (2024-05)', 'Gemini-1.5-Flash-8B (2024-10)', 'Llama 2-7B (2023-12)', 'Llama-2-Chat-13B (2023-07)', 'Llama-3-Instruct-8B (2024-04)', 'Llama-3.1-Instruct-8B (2024-07)', 'Llama-3.2-Instruct-3B (2024-09)']\n"
     ]
    },
    {
     "data": {
      "application/vnd.plotly.v1+json": {
       "config": {
        "plotlyServerURL": "https://plot.ly"
       },
       "data": [
        {
         "customdata": [
          [
           "GPT-3 (2021-11)"
          ],
          [
           "GPT-3 (2022-09)"
          ],
          [
           "GPT-3.5 (2022-11)"
          ],
          [
           "GPT-3.5 Turbo (2023-03)"
          ],
          [
           "Llama-2-Chat-13B (2023-07)"
          ],
          [
           "GPT-3.5 Turbo (2023-11)"
          ],
          [
           "Llama 2-7B (2023-12)"
          ],
          [
           "Llama-3-Instruct-8B (2024-04)"
          ],
          [
           "Gemini-1.5-Flash-2024-05 (2024-05)"
          ],
          [
           "Llama-3.1-Instruct-8B (2024-07)"
          ],
          [
           "Llama-3.2-Instruct-3B (2024-09)"
          ],
          [
           "Gemini-1.5-Flash-8B (2024-10)"
          ]
         ],
         "hovertemplate": "Release Date=%{x}<br>MMLU price-performance=%{y}<br>Model Name and Date=%{customdata[0]}<extra></extra>",
         "legendgroup": "",
         "marker": {
          "color": "#636efa",
          "symbol": "circle"
         },
         "mode": "markers",
         "name": "",
         "orientation": "v",
         "showlegend": false,
         "type": "scatter",
         "x": [
          "2021-11-20T00:00:00",
          "2022-09-01T00:00:00",
          "2022-11-30T00:00:00",
          "2023-03-06T00:00:00",
          "2023-07-01T00:00:00",
          "2023-11-01T00:00:00",
          "2023-12-01T00:00:00",
          "2024-04-01T00:00:00",
          "2024-05-01T00:00:00",
          "2024-07-01T00:00:00",
          "2024-09-01T00:00:00",
          "2024-10-01T00:00:00"
         ],
         "xaxis": "x",
         "y": [
          0.7316666666666667,
          2.195,
          3.2399999999999998,
          34,
          80.35714285714285,
          90.66666666666667,
          226.49999999999997,
          426.6666666666667,
          607.6923076923076,
          710,
          800,
          1071.4285714285713
         ],
         "yaxis": "y"
        }
       ],
       "layout": {
        "legend": {
         "tracegroupgap": 0
        },
        "template": {
         "data": {
          "bar": [
           {
            "error_x": {
             "color": "#2a3f5f"
            },
            "error_y": {
             "color": "#2a3f5f"
            },
            "marker": {
             "line": {
              "color": "white",
              "width": 0.5
             },
             "pattern": {
              "fillmode": "overlay",
              "size": 10,
              "solidity": 0.2
             }
            },
            "type": "bar"
           }
          ],
          "barpolar": [
           {
            "marker": {
             "line": {
              "color": "white",
              "width": 0.5
             },
             "pattern": {
              "fillmode": "overlay",
              "size": 10,
              "solidity": 0.2
             }
            },
            "type": "barpolar"
           }
          ],
          "carpet": [
           {
            "aaxis": {
             "endlinecolor": "#2a3f5f",
             "gridcolor": "#C8D4E3",
             "linecolor": "#C8D4E3",
             "minorgridcolor": "#C8D4E3",
             "startlinecolor": "#2a3f5f"
            },
            "baxis": {
             "endlinecolor": "#2a3f5f",
             "gridcolor": "#C8D4E3",
             "linecolor": "#C8D4E3",
             "minorgridcolor": "#C8D4E3",
             "startlinecolor": "#2a3f5f"
            },
            "type": "carpet"
           }
          ],
          "choropleth": [
           {
            "colorbar": {
             "outlinewidth": 0,
             "ticks": ""
            },
            "type": "choropleth"
           }
          ],
          "contour": [
           {
            "colorbar": {
             "outlinewidth": 0,
             "ticks": ""
            },
            "colorscale": [
             [
              0,
              "#0d0887"
             ],
             [
              0.1111111111111111,
              "#46039f"
             ],
             [
              0.2222222222222222,
              "#7201a8"
             ],
             [
              0.3333333333333333,
              "#9c179e"
             ],
             [
              0.4444444444444444,
              "#bd3786"
             ],
             [
              0.5555555555555556,
              "#d8576b"
             ],
             [
              0.6666666666666666,
              "#ed7953"
             ],
             [
              0.7777777777777778,
              "#fb9f3a"
             ],
             [
              0.8888888888888888,
              "#fdca26"
             ],
             [
              1,
              "#f0f921"
             ]
            ],
            "type": "contour"
           }
          ],
          "contourcarpet": [
           {
            "colorbar": {
             "outlinewidth": 0,
             "ticks": ""
            },
            "type": "contourcarpet"
           }
          ],
          "heatmap": [
           {
            "colorbar": {
             "outlinewidth": 0,
             "ticks": ""
            },
            "colorscale": [
             [
              0,
              "#0d0887"
             ],
             [
              0.1111111111111111,
              "#46039f"
             ],
             [
              0.2222222222222222,
              "#7201a8"
             ],
             [
              0.3333333333333333,
              "#9c179e"
             ],
             [
              0.4444444444444444,
              "#bd3786"
             ],
             [
              0.5555555555555556,
              "#d8576b"
             ],
             [
              0.6666666666666666,
              "#ed7953"
             ],
             [
              0.7777777777777778,
              "#fb9f3a"
             ],
             [
              0.8888888888888888,
              "#fdca26"
             ],
             [
              1,
              "#f0f921"
             ]
            ],
            "type": "heatmap"
           }
          ],
          "heatmapgl": [
           {
            "colorbar": {
             "outlinewidth": 0,
             "ticks": ""
            },
            "colorscale": [
             [
              0,
              "#0d0887"
             ],
             [
              0.1111111111111111,
              "#46039f"
             ],
             [
              0.2222222222222222,
              "#7201a8"
             ],
             [
              0.3333333333333333,
              "#9c179e"
             ],
             [
              0.4444444444444444,
              "#bd3786"
             ],
             [
              0.5555555555555556,
              "#d8576b"
             ],
             [
              0.6666666666666666,
              "#ed7953"
             ],
             [
              0.7777777777777778,
              "#fb9f3a"
             ],
             [
              0.8888888888888888,
              "#fdca26"
             ],
             [
              1,
              "#f0f921"
             ]
            ],
            "type": "heatmapgl"
           }
          ],
          "histogram": [
           {
            "marker": {
             "pattern": {
              "fillmode": "overlay",
              "size": 10,
              "solidity": 0.2
             }
            },
            "type": "histogram"
           }
          ],
          "histogram2d": [
           {
            "colorbar": {
             "outlinewidth": 0,
             "ticks": ""
            },
            "colorscale": [
             [
              0,
              "#0d0887"
             ],
             [
              0.1111111111111111,
              "#46039f"
             ],
             [
              0.2222222222222222,
              "#7201a8"
             ],
             [
              0.3333333333333333,
              "#9c179e"
             ],
             [
              0.4444444444444444,
              "#bd3786"
             ],
             [
              0.5555555555555556,
              "#d8576b"
             ],
             [
              0.6666666666666666,
              "#ed7953"
             ],
             [
              0.7777777777777778,
              "#fb9f3a"
             ],
             [
              0.8888888888888888,
              "#fdca26"
             ],
             [
              1,
              "#f0f921"
             ]
            ],
            "type": "histogram2d"
           }
          ],
          "histogram2dcontour": [
           {
            "colorbar": {
             "outlinewidth": 0,
             "ticks": ""
            },
            "colorscale": [
             [
              0,
              "#0d0887"
             ],
             [
              0.1111111111111111,
              "#46039f"
             ],
             [
              0.2222222222222222,
              "#7201a8"
             ],
             [
              0.3333333333333333,
              "#9c179e"
             ],
             [
              0.4444444444444444,
              "#bd3786"
             ],
             [
              0.5555555555555556,
              "#d8576b"
             ],
             [
              0.6666666666666666,
              "#ed7953"
             ],
             [
              0.7777777777777778,
              "#fb9f3a"
             ],
             [
              0.8888888888888888,
              "#fdca26"
             ],
             [
              1,
              "#f0f921"
             ]
            ],
            "type": "histogram2dcontour"
           }
          ],
          "mesh3d": [
           {
            "colorbar": {
             "outlinewidth": 0,
             "ticks": ""
            },
            "type": "mesh3d"
           }
          ],
          "parcoords": [
           {
            "line": {
             "colorbar": {
              "outlinewidth": 0,
              "ticks": ""
             }
            },
            "type": "parcoords"
           }
          ],
          "pie": [
           {
            "automargin": true,
            "type": "pie"
           }
          ],
          "scatter": [
           {
            "fillpattern": {
             "fillmode": "overlay",
             "size": 10,
             "solidity": 0.2
            },
            "type": "scatter"
           }
          ],
          "scatter3d": [
           {
            "line": {
             "colorbar": {
              "outlinewidth": 0,
              "ticks": ""
             }
            },
            "marker": {
             "colorbar": {
              "outlinewidth": 0,
              "ticks": ""
             }
            },
            "type": "scatter3d"
           }
          ],
          "scattercarpet": [
           {
            "marker": {
             "colorbar": {
              "outlinewidth": 0,
              "ticks": ""
             }
            },
            "type": "scattercarpet"
           }
          ],
          "scattergeo": [
           {
            "marker": {
             "colorbar": {
              "outlinewidth": 0,
              "ticks": ""
             }
            },
            "type": "scattergeo"
           }
          ],
          "scattergl": [
           {
            "marker": {
             "colorbar": {
              "outlinewidth": 0,
              "ticks": ""
             }
            },
            "type": "scattergl"
           }
          ],
          "scattermapbox": [
           {
            "marker": {
             "colorbar": {
              "outlinewidth": 0,
              "ticks": ""
             }
            },
            "type": "scattermapbox"
           }
          ],
          "scatterpolar": [
           {
            "marker": {
             "colorbar": {
              "outlinewidth": 0,
              "ticks": ""
             }
            },
            "type": "scatterpolar"
           }
          ],
          "scatterpolargl": [
           {
            "marker": {
             "colorbar": {
              "outlinewidth": 0,
              "ticks": ""
             }
            },
            "type": "scatterpolargl"
           }
          ],
          "scatterternary": [
           {
            "marker": {
             "colorbar": {
              "outlinewidth": 0,
              "ticks": ""
             }
            },
            "type": "scatterternary"
           }
          ],
          "surface": [
           {
            "colorbar": {
             "outlinewidth": 0,
             "ticks": ""
            },
            "colorscale": [
             [
              0,
              "#0d0887"
             ],
             [
              0.1111111111111111,
              "#46039f"
             ],
             [
              0.2222222222222222,
              "#7201a8"
             ],
             [
              0.3333333333333333,
              "#9c179e"
             ],
             [
              0.4444444444444444,
              "#bd3786"
             ],
             [
              0.5555555555555556,
              "#d8576b"
             ],
             [
              0.6666666666666666,
              "#ed7953"
             ],
             [
              0.7777777777777778,
              "#fb9f3a"
             ],
             [
              0.8888888888888888,
              "#fdca26"
             ],
             [
              1,
              "#f0f921"
             ]
            ],
            "type": "surface"
           }
          ],
          "table": [
           {
            "cells": {
             "fill": {
              "color": "#EBF0F8"
             },
             "line": {
              "color": "white"
             }
            },
            "header": {
             "fill": {
              "color": "#C8D4E3"
             },
             "line": {
              "color": "white"
             }
            },
            "type": "table"
           }
          ]
         },
         "layout": {
          "annotationdefaults": {
           "arrowcolor": "#2a3f5f",
           "arrowhead": 0,
           "arrowwidth": 1
          },
          "autotypenumbers": "strict",
          "coloraxis": {
           "colorbar": {
            "outlinewidth": 0,
            "ticks": ""
           }
          },
          "colorscale": {
           "diverging": [
            [
             0,
             "#8e0152"
            ],
            [
             0.1,
             "#c51b7d"
            ],
            [
             0.2,
             "#de77ae"
            ],
            [
             0.3,
             "#f1b6da"
            ],
            [
             0.4,
             "#fde0ef"
            ],
            [
             0.5,
             "#f7f7f7"
            ],
            [
             0.6,
             "#e6f5d0"
            ],
            [
             0.7,
             "#b8e186"
            ],
            [
             0.8,
             "#7fbc41"
            ],
            [
             0.9,
             "#4d9221"
            ],
            [
             1,
             "#276419"
            ]
           ],
           "sequential": [
            [
             0,
             "#0d0887"
            ],
            [
             0.1111111111111111,
             "#46039f"
            ],
            [
             0.2222222222222222,
             "#7201a8"
            ],
            [
             0.3333333333333333,
             "#9c179e"
            ],
            [
             0.4444444444444444,
             "#bd3786"
            ],
            [
             0.5555555555555556,
             "#d8576b"
            ],
            [
             0.6666666666666666,
             "#ed7953"
            ],
            [
             0.7777777777777778,
             "#fb9f3a"
            ],
            [
             0.8888888888888888,
             "#fdca26"
            ],
            [
             1,
             "#f0f921"
            ]
           ],
           "sequentialminus": [
            [
             0,
             "#0d0887"
            ],
            [
             0.1111111111111111,
             "#46039f"
            ],
            [
             0.2222222222222222,
             "#7201a8"
            ],
            [
             0.3333333333333333,
             "#9c179e"
            ],
            [
             0.4444444444444444,
             "#bd3786"
            ],
            [
             0.5555555555555556,
             "#d8576b"
            ],
            [
             0.6666666666666666,
             "#ed7953"
            ],
            [
             0.7777777777777778,
             "#fb9f3a"
            ],
            [
             0.8888888888888888,
             "#fdca26"
            ],
            [
             1,
             "#f0f921"
            ]
           ]
          },
          "colorway": [
           "#636efa",
           "#EF553B",
           "#00cc96",
           "#ab63fa",
           "#FFA15A",
           "#19d3f3",
           "#FF6692",
           "#B6E880",
           "#FF97FF",
           "#FECB52"
          ],
          "font": {
           "color": "#2a3f5f"
          },
          "geo": {
           "bgcolor": "white",
           "lakecolor": "white",
           "landcolor": "white",
           "showlakes": true,
           "showland": true,
           "subunitcolor": "#C8D4E3"
          },
          "hoverlabel": {
           "align": "left"
          },
          "hovermode": "closest",
          "mapbox": {
           "style": "light"
          },
          "paper_bgcolor": "white",
          "plot_bgcolor": "white",
          "polar": {
           "angularaxis": {
            "gridcolor": "#EBF0F8",
            "linecolor": "#EBF0F8",
            "ticks": ""
           },
           "bgcolor": "white",
           "radialaxis": {
            "gridcolor": "#EBF0F8",
            "linecolor": "#EBF0F8",
            "ticks": ""
           }
          },
          "scene": {
           "xaxis": {
            "backgroundcolor": "white",
            "gridcolor": "#DFE8F3",
            "gridwidth": 2,
            "linecolor": "#EBF0F8",
            "showbackground": true,
            "ticks": "",
            "zerolinecolor": "#EBF0F8"
           },
           "yaxis": {
            "backgroundcolor": "white",
            "gridcolor": "#DFE8F3",
            "gridwidth": 2,
            "linecolor": "#EBF0F8",
            "showbackground": true,
            "ticks": "",
            "zerolinecolor": "#EBF0F8"
           },
           "zaxis": {
            "backgroundcolor": "white",
            "gridcolor": "#DFE8F3",
            "gridwidth": 2,
            "linecolor": "#EBF0F8",
            "showbackground": true,
            "ticks": "",
            "zerolinecolor": "#EBF0F8"
           }
          },
          "shapedefaults": {
           "line": {
            "color": "#2a3f5f"
           }
          },
          "ternary": {
           "aaxis": {
            "gridcolor": "#DFE8F3",
            "linecolor": "#A2B1C6",
            "ticks": ""
           },
           "baxis": {
            "gridcolor": "#DFE8F3",
            "linecolor": "#A2B1C6",
            "ticks": ""
           },
           "bgcolor": "white",
           "caxis": {
            "gridcolor": "#DFE8F3",
            "linecolor": "#A2B1C6",
            "ticks": ""
           }
          },
          "title": {
           "x": 0.05
          },
          "xaxis": {
           "automargin": true,
           "gridcolor": "#EBF0F8",
           "linecolor": "#EBF0F8",
           "ticks": "",
           "title": {
            "standoff": 15
           },
           "zerolinecolor": "#EBF0F8",
           "zerolinewidth": 2
          },
          "yaxis": {
           "automargin": true,
           "gridcolor": "#EBF0F8",
           "linecolor": "#EBF0F8",
           "ticks": "",
           "title": {
            "standoff": 15
           },
           "zerolinecolor": "#EBF0F8",
           "zerolinewidth": 2
          }
         }
        },
        "title": {
         "text": "MMLU price-performance over time"
        },
        "xaxis": {
         "anchor": "y",
         "domain": [
          0,
          1
         ],
         "title": {
          "text": "Release Date"
         }
        },
        "yaxis": {
         "anchor": "x",
         "domain": [
          0,
          1
         ],
         "title": {
          "text": "MMLU price-performance"
         },
         "type": "log"
        }
       }
      }
     },
     "metadata": {},
     "output_type": "display_data"
    }
   ],
   "source": [
    "# Construct a list of 'Model Name' values that were ever in the top-n based on 'MMLU price-performance'\n",
    "top_n = 1\n",
    "aa_df = aa_df.sort_values(by='Release Date')\n",
    "ever_top_n_models = set()\n",
    "\n",
    "unique_dates = aa_df['Release Date'].sort_values().unique()\n",
    "\n",
    "for date in unique_dates:\n",
    "    df_up_to_date = aa_df[aa_df['Release Date'] <= date]\n",
    "    top_n_models = df_up_to_date.nlargest(top_n, 'MMLU price-performance')\n",
    "    top_n_model_names = top_n_models['Model Name and Date'].tolist()\n",
    "    ever_top_n_models.update(top_n_model_names)\n",
    "\n",
    "ever_top_n_list = sorted(ever_top_n_models)\n",
    "print(ever_top_n_list)\n",
    "\n",
    "# Plot top-n models over time\n",
    "fig = px.scatter(aa_df[aa_df['Model Name and Date'].isin(ever_top_n_list)], x='Release Date', y='MMLU price-performance', title='MMLU price-performance over time', hover_data=['Model Name and Date'])\n",
    "fig.update_layout(yaxis_type='log')\n",
    "fig.show()"
   ]
  },
  {
   "cell_type": "markdown",
   "metadata": {},
   "source": [
    "## Regression to lowest-priced models above a performance lower bound"
   ]
  },
  {
   "cell_type": "markdown",
   "metadata": {},
   "source": [
    "### Examples"
   ]
  },
  {
   "cell_type": "code",
   "execution_count": 15,
   "metadata": {},
   "outputs": [],
   "source": [
    "results_subdir = results_dir + 'aa_cheapest_models_examples/'\n",
    "os.makedirs(results_subdir, exist_ok=True)"
   ]
  },
  {
   "cell_type": "code",
   "execution_count": 16,
   "metadata": {},
   "outputs": [
    {
     "name": "stdout",
     "output_type": "stream",
     "text": [
      "2023-04-01 00:00:00 GPT-4 86.0 $37.50\n",
      "2023-12-01 00:00:00 GPT-4 Turbo 87.0 $15.00\n",
      "2024-06-01 00:00:00 Gemini-1.5-Pro-2024-05 86.0 $2.19\n",
      "2024-07-01 00:00:00 Claude-3.5-Haiku 81.0 $1.60\n",
      "2024-08-01 00:00:00 GPT-4o-mini 82.0 $0.26\n",
      "2025-02-01 00:00:00 Phi 4 85.0 $0.12\n"
     ]
    }
   ],
   "source": [
    "\"\"\"\n",
    "  - Set a performance lower bound\n",
    "  - Track the running best (top) model\n",
    "  - At each point in time (at some resolution)\n",
    "    - Filter to new models published in this time window\n",
    "    - Filter to models with performance above the lower bound\n",
    "    - Check if any new model is cheaper than current best\n",
    "    - If so, update the current best\n",
    "    - Record the current best model at this time point\n",
    "\"\"\"\n",
    "bench = 'MMLU'\n",
    "performance_lower_bound = 80\n",
    "performance_upper_bound = 90\n",
    "ts = pd.date_range(start='2020-01-01', end=pd.Timestamp.today(), freq='MS')\n",
    "cheapest_models = []\n",
    "current_best = None\n",
    "\n",
    "for i, t in enumerate(ts):\n",
    "    # Get models published in this time window\n",
    "    benchmark_df = aa_df\n",
    "    if i > 0:\n",
    "        prev_t = ts[i-1]\n",
    "        benchmark_df = benchmark_df[(benchmark_df['Release Date'] >= prev_t) & (benchmark_df['Release Date'] < t)]\n",
    "    else:\n",
    "        benchmark_df = benchmark_df[benchmark_df['Release Date'] < t]\n",
    "        \n",
    "    # Filter for performance\n",
    "    benchmark_df = benchmark_df[\n",
    "        benchmark_df[bench].notna() &\n",
    "        (benchmark_df[bench] >= performance_lower_bound) &\n",
    "        (benchmark_df[bench] < performance_upper_bound)\n",
    "    ]\n",
    "    \n",
    "    if not benchmark_df.empty:\n",
    "        # Find cheapest new model\n",
    "        new_best = benchmark_df.loc[benchmark_df['USD per 1M Tokens'].idxmin()]\n",
    "        \n",
    "        # Update current best if new model is cheaper (or if no current best)\n",
    "        if current_best is None or new_best['USD per 1M Tokens'] < current_best['USD per 1M Tokens']:\n",
    "            current_best = new_best\n",
    "            cheapest_models.append(current_best)\n",
    "            print(t, current_best['Model Name'], current_best[bench], f\"${current_best['USD per 1M Tokens']:.2f}\")\n",
    "        # elif new_best['USD per 1M Tokens'] == current_best['USD per 1M Tokens']:\n",
    "        #     # Choose the model with the highest performance\n",
    "        #     if new_best[bench] > current_best[bench]:\n",
    "        #         current_best = new_best\n",
    "        #         cheapest_models.append(current_best)\n",
    "        #         print(t, current_best['Model Name'], current_best[bench], f\"${current_best['USD per 1M Tokens']:.2f}\")\n"
   ]
  },
  {
   "cell_type": "code",
   "execution_count": 17,
   "metadata": {},
   "outputs": [
    {
     "data": {
      "text/html": [
       "<div>\n",
       "<style scoped>\n",
       "    .dataframe tbody tr th:only-of-type {\n",
       "        vertical-align: middle;\n",
       "    }\n",
       "\n",
       "    .dataframe tbody tr th {\n",
       "        vertical-align: top;\n",
       "    }\n",
       "\n",
       "    .dataframe thead th {\n",
       "        text-align: right;\n",
       "    }\n",
       "</style>\n",
       "<table border=\"1\" class=\"dataframe\">\n",
       "  <thead>\n",
       "    <tr style=\"text-align: right;\">\n",
       "      <th></th>\n",
       "      <th>Model Name</th>\n",
       "      <th>Release Date</th>\n",
       "      <th>USD per 1M Tokens</th>\n",
       "      <th>Tokens per Second</th>\n",
       "      <th>Prefill Latency (s)</th>\n",
       "      <th>Prompt Length (tk)</th>\n",
       "      <th>MMLU</th>\n",
       "      <th>GPQA Diamond</th>\n",
       "      <th>MATH-500</th>\n",
       "      <th>HumanEval</th>\n",
       "      <th>LMSys Chatbot Arena ELO</th>\n",
       "      <th>MATH 5</th>\n",
       "      <th>Model Name and Date</th>\n",
       "      <th>MMLU price-performance</th>\n",
       "    </tr>\n",
       "  </thead>\n",
       "  <tbody>\n",
       "    <tr>\n",
       "      <th>4</th>\n",
       "      <td>GPT-4</td>\n",
       "      <td>2023-03-01</td>\n",
       "      <td>37.50</td>\n",
       "      <td>23.6</td>\n",
       "      <td>0.724</td>\n",
       "      <td>1000.0</td>\n",
       "      <td>86.0</td>\n",
       "      <td>33.0</td>\n",
       "      <td>21.0</td>\n",
       "      <td>67.0</td>\n",
       "      <td>1186.0</td>\n",
       "      <td>23.0</td>\n",
       "      <td>GPT-4 (2023-03)</td>\n",
       "      <td>2.293333</td>\n",
       "    </tr>\n",
       "    <tr>\n",
       "      <th>10</th>\n",
       "      <td>GPT-4 Turbo</td>\n",
       "      <td>2023-11-01</td>\n",
       "      <td>15.00</td>\n",
       "      <td>39.2</td>\n",
       "      <td>1.246</td>\n",
       "      <td>1000.0</td>\n",
       "      <td>87.0</td>\n",
       "      <td>50.0</td>\n",
       "      <td>74.0</td>\n",
       "      <td>92.0</td>\n",
       "      <td>1256.0</td>\n",
       "      <td>36.0</td>\n",
       "      <td>GPT-4 Turbo (2023-11)</td>\n",
       "      <td>5.800000</td>\n",
       "    </tr>\n",
       "    <tr>\n",
       "      <th>26</th>\n",
       "      <td>Gemini-1.5-Pro-2024-05</td>\n",
       "      <td>2024-05-01</td>\n",
       "      <td>2.19</td>\n",
       "      <td>64.8</td>\n",
       "      <td>0.738</td>\n",
       "      <td>1000.0</td>\n",
       "      <td>86.0</td>\n",
       "      <td>46.0</td>\n",
       "      <td>66.0</td>\n",
       "      <td>83.0</td>\n",
       "      <td>1260.0</td>\n",
       "      <td>41.0</td>\n",
       "      <td>Gemini-1.5-Pro-2024-05 (2024-05)</td>\n",
       "      <td>39.269406</td>\n",
       "    </tr>\n",
       "    <tr>\n",
       "      <th>31</th>\n",
       "      <td>Claude-3.5-Haiku</td>\n",
       "      <td>2024-06-01</td>\n",
       "      <td>1.60</td>\n",
       "      <td>64.2</td>\n",
       "      <td>0.768</td>\n",
       "      <td>1000.0</td>\n",
       "      <td>81.0</td>\n",
       "      <td>37.0</td>\n",
       "      <td>67.0</td>\n",
       "      <td>87.0</td>\n",
       "      <td>1236.0</td>\n",
       "      <td>NaN</td>\n",
       "      <td>Claude-3.5-Haiku (2024-06)</td>\n",
       "      <td>50.625000</td>\n",
       "    </tr>\n",
       "    <tr>\n",
       "      <th>38</th>\n",
       "      <td>GPT-4o-mini</td>\n",
       "      <td>2024-07-01</td>\n",
       "      <td>0.26</td>\n",
       "      <td>112.2</td>\n",
       "      <td>0.626</td>\n",
       "      <td>1000.0</td>\n",
       "      <td>82.0</td>\n",
       "      <td>43.0</td>\n",
       "      <td>79.0</td>\n",
       "      <td>88.0</td>\n",
       "      <td>1273.0</td>\n",
       "      <td>48.0</td>\n",
       "      <td>GPT-4o-mini (2024-07)</td>\n",
       "      <td>315.384615</td>\n",
       "    </tr>\n",
       "  </tbody>\n",
       "</table>\n",
       "</div>"
      ],
      "text/plain": [
       "                Model Name Release Date  USD per 1M Tokens  Tokens per Second  \\\n",
       "4                    GPT-4   2023-03-01              37.50               23.6   \n",
       "10             GPT-4 Turbo   2023-11-01              15.00               39.2   \n",
       "26  Gemini-1.5-Pro-2024-05   2024-05-01               2.19               64.8   \n",
       "31        Claude-3.5-Haiku   2024-06-01               1.60               64.2   \n",
       "38             GPT-4o-mini   2024-07-01               0.26              112.2   \n",
       "\n",
       "    Prefill Latency (s)  Prompt Length (tk)  MMLU  GPQA Diamond  MATH-500  \\\n",
       "4                 0.724              1000.0  86.0          33.0      21.0   \n",
       "10                1.246              1000.0  87.0          50.0      74.0   \n",
       "26                0.738              1000.0  86.0          46.0      66.0   \n",
       "31                0.768              1000.0  81.0          37.0      67.0   \n",
       "38                0.626              1000.0  82.0          43.0      79.0   \n",
       "\n",
       "    HumanEval  LMSys Chatbot Arena ELO  MATH 5  \\\n",
       "4        67.0                   1186.0    23.0   \n",
       "10       92.0                   1256.0    36.0   \n",
       "26       83.0                   1260.0    41.0   \n",
       "31       87.0                   1236.0     NaN   \n",
       "38       88.0                   1273.0    48.0   \n",
       "\n",
       "                 Model Name and Date  MMLU price-performance  \n",
       "4                    GPT-4 (2023-03)                2.293333  \n",
       "10             GPT-4 Turbo (2023-11)                5.800000  \n",
       "26  Gemini-1.5-Pro-2024-05 (2024-05)               39.269406  \n",
       "31        Claude-3.5-Haiku (2024-06)               50.625000  \n",
       "38             GPT-4o-mini (2024-07)              315.384615  "
      ]
     },
     "execution_count": 17,
     "metadata": {},
     "output_type": "execute_result"
    }
   ],
   "source": [
    "cheapest_models_df = pd.DataFrame(cheapest_models)\n",
    "cheapest_models_df.head()"
   ]
  },
  {
   "cell_type": "code",
   "execution_count": 18,
   "metadata": {},
   "outputs": [
    {
     "name": "stdout",
     "output_type": "stream",
     "text": [
      "                            OLS Regression Results                            \n",
      "==============================================================================\n",
      "Dep. Variable:              log_price   R-squared:                       0.897\n",
      "Model:                            OLS   Adj. R-squared:                  0.871\n",
      "Method:                 Least Squares   F-statistic:                     34.90\n",
      "Date:                Fri, 21 Feb 2025   Prob (F-statistic):            0.00411\n",
      "Time:                        14:53:32   Log-Likelihood:               -0.92738\n",
      "No. Observations:                   6   AIC:                             5.855\n",
      "Df Residuals:                       4   BIC:                             5.438\n",
      "Df Model:                           1                                         \n",
      "Covariance Type:            nonrobust                                         \n",
      "==============================================================================\n",
      "                 coef    std err          t      P>|t|      [0.025      0.975]\n",
      "------------------------------------------------------------------------------\n",
      "Intercept   2917.8175    493.886      5.908      0.004    1546.569    4289.066\n",
      "date          -0.0039      0.001     -5.907      0.004      -0.006      -0.002\n",
      "==============================================================================\n",
      "Omnibus:                          nan   Durbin-Watson:                   1.980\n",
      "Prob(Omnibus):                    nan   Jarque-Bera (JB):                0.563\n",
      "Skew:                          -0.412   Prob(JB):                        0.755\n",
      "Kurtosis:                       1.746   Cond. No.                     2.58e+09\n",
      "==============================================================================\n",
      "\n",
      "Notes:\n",
      "[1] Standard Errors assume that the covariance matrix of the errors is correctly specified.\n",
      "[2] The condition number is large, 2.58e+09. This might indicate that there are\n",
      "strong multicollinearity or other numerical problems.\n",
      "                            OLS Regression Results                            \n",
      "==============================================================================\n",
      "Dep. Variable:                  price   R-squared:                       0.875\n",
      "Model:                            OLS   Adj. R-squared:                  0.843\n",
      "Method:                 Least Squares   F-statistic:                     27.93\n",
      "Date:                Fri, 21 Feb 2025   Prob (F-statistic):            0.00615\n",
      "Time:                        14:53:32   Log-Likelihood:                -17.925\n",
      "No. Observations:                   6   AIC:                             39.85\n",
      "Df Residuals:                       4   BIC:                             39.43\n",
      "Df Model:                           1                                         \n",
      "Covariance Type:            nonrobust                                         \n",
      "==============================================================================\n",
      "                 coef    std err          t      P>|t|      [0.025      0.975]\n",
      "------------------------------------------------------------------------------\n",
      "Intercept   4.437e+04   8394.019      5.286      0.006    2.11e+04    6.77e+04\n",
      "date          -0.0600      0.011     -5.285      0.006      -0.092      -0.028\n",
      "==============================================================================\n",
      "Omnibus:                          nan   Durbin-Watson:                   1.339\n",
      "Prob(Omnibus):                    nan   Jarque-Bera (JB):                0.941\n",
      "Skew:                           0.754   Prob(JB):                        0.625\n",
      "Kurtosis:                       1.778   Cond. No.                     2.58e+09\n",
      "==============================================================================\n",
      "\n",
      "Notes:\n",
      "[1] Standard Errors assume that the covariance matrix of the errors is correctly specified.\n",
      "[2] The condition number is large, 2.58e+09. This might indicate that there are\n",
      "strong multicollinearity or other numerical problems.\n"
     ]
    },
    {
     "name": "stderr",
     "output_type": "stream",
     "text": [
      "/Users/bencottier/miniconda3/envs/llm-efficiency/lib/python3.12/site-packages/statsmodels/stats/stattools.py:74: ValueWarning:\n",
      "\n",
      "omni_normtest is not valid with less than 8 observations; 6 samples were given.\n",
      "\n",
      "/Users/bencottier/miniconda3/envs/llm-efficiency/lib/python3.12/site-packages/statsmodels/stats/stattools.py:74: ValueWarning:\n",
      "\n",
      "omni_normtest is not valid with less than 8 observations; 6 samples were given.\n",
      "\n"
     ]
    }
   ],
   "source": [
    "# Fit a line to the data\n",
    "cheapest_models_df['price'] = cheapest_models_df['USD per 1M Tokens']\n",
    "cheapest_models_df['log_price'] = np.log10(cheapest_models_df['USD per 1M Tokens'])\n",
    "cheapest_models_df['date'] = cheapest_models_df['Release Date'].map(lambda x: pd.Timestamp(x).toordinal())\n",
    "exponential_model = smf.ols('log_price ~ date', data=cheapest_models_df).fit()\n",
    "print(exponential_model.summary())\n",
    "\n",
    "linear_model = smf.ols('price ~ date', data=cheapest_models_df).fit()\n",
    "print(linear_model.summary())"
   ]
  },
  {
   "cell_type": "code",
   "execution_count": 19,
   "metadata": {},
   "outputs": [
    {
     "data": {
      "application/vnd.plotly.v1+json": {
       "config": {
        "plotlyServerURL": "https://plot.ly"
       },
       "data": [
        {
         "line": {
          "color": "lightgrey",
          "dash": "dash"
         },
         "mode": "lines",
         "name": "Trendline: 28x decrease per year",
         "textposition": "bottom left",
         "type": "scatter",
         "x": [
          "2023-03-01T00:00:00",
          "2023-11-01T00:00:00",
          "2024-05-01T00:00:00",
          "2024-06-01T00:00:00",
          "2024-07-01T00:00:00",
          "2025-01-01T00:00:00"
         ],
         "y": [
          64.04760279241715,
          6.905746838783451,
          1.3202333949082412,
          0.9959983898051123,
          0.7582539655195958,
          0.14235033312477616
         ]
        },
        {
         "marker": {
          "color": "blue"
         },
         "mode": "markers+text",
         "name": "Cheapest models with 80-90% on MMLU",
         "text": [
          "GPT-4",
          "GPT-4 Turbo",
          "Gemini-1.5-Pro-2024-05",
          "Claude-3.5-Haiku",
          "GPT-4o-mini",
          "Phi 4"
         ],
         "textposition": "bottom left",
         "type": "scatter",
         "x": [
          "2023-03-01T00:00:00",
          "2023-11-01T00:00:00",
          "2024-05-01T00:00:00",
          "2024-06-01T00:00:00",
          "2024-07-01T00:00:00",
          "2025-01-01T00:00:00"
         ],
         "y": [
          37.5,
          15,
          2.19,
          1.6,
          0.26,
          0.1225
         ]
        },
        {
         "marker": {
          "color": "lightblue"
         },
         "mode": "markers+text",
         "name": "Other models with 80-90% on MMLU",
         "text": [
          "Claude-3-Opus",
          "GPT-4o-2024-05",
          "Mistral-Large-2-2024-06",
          "Claude-3.5-Sonnet-2024-06",
          "Llama-3.1-Instruct-405B",
          "Llama-3.1-Instruct-70B",
          "GPT-4o-2024-08",
          "Gemini-1.5-Pro-2024-09",
          "Jamba 1.5-Large",
          "Reka Core",
          "Claude-3.5-Sonnet-2024-10",
          "GPT-4o-2024-11",
          "Mistral-Large-2-2024-11",
          "Mistral Small 3",
          "Gemini 2.0 Flash"
         ],
         "textposition": "bottom left",
         "type": "scatter",
         "x": [
          "2024-03-01T00:00:00",
          "2024-05-01T00:00:00",
          "2024-06-01T00:00:00",
          "2024-06-01T00:00:00",
          "2024-07-01T00:00:00",
          "2024-07-01T00:00:00",
          "2024-08-01T00:00:00",
          "2024-09-01T00:00:00",
          "2024-09-12T00:00:00",
          "2024-09-14T00:00:00",
          "2024-10-01T00:00:00",
          "2024-11-01T00:00:00",
          "2024-11-01T00:00:00",
          "2025-01-01T00:00:00",
          "2025-02-01T00:00:00"
         ],
         "y": [
          30,
          7.5,
          3,
          6,
          3.5,
          0.72,
          4.38,
          2.19,
          3.5,
          4,
          6,
          4.38,
          3,
          0.475,
          0.175
         ]
        }
       ],
       "layout": {
        "font": {
         "size": 10
        },
        "height": 600,
        "legend": {
         "bordercolor": "lightgrey",
         "borderwidth": 1,
         "x": 0.4,
         "xanchor": "right",
         "y": 0.25,
         "yanchor": "top"
        },
        "template": {
         "data": {
          "bar": [
           {
            "error_x": {
             "color": "#2a3f5f"
            },
            "error_y": {
             "color": "#2a3f5f"
            },
            "marker": {
             "line": {
              "color": "white",
              "width": 0.5
             },
             "pattern": {
              "fillmode": "overlay",
              "size": 10,
              "solidity": 0.2
             }
            },
            "type": "bar"
           }
          ],
          "barpolar": [
           {
            "marker": {
             "line": {
              "color": "white",
              "width": 0.5
             },
             "pattern": {
              "fillmode": "overlay",
              "size": 10,
              "solidity": 0.2
             }
            },
            "type": "barpolar"
           }
          ],
          "carpet": [
           {
            "aaxis": {
             "endlinecolor": "#2a3f5f",
             "gridcolor": "#C8D4E3",
             "linecolor": "#C8D4E3",
             "minorgridcolor": "#C8D4E3",
             "startlinecolor": "#2a3f5f"
            },
            "baxis": {
             "endlinecolor": "#2a3f5f",
             "gridcolor": "#C8D4E3",
             "linecolor": "#C8D4E3",
             "minorgridcolor": "#C8D4E3",
             "startlinecolor": "#2a3f5f"
            },
            "type": "carpet"
           }
          ],
          "choropleth": [
           {
            "colorbar": {
             "outlinewidth": 0,
             "ticks": ""
            },
            "type": "choropleth"
           }
          ],
          "contour": [
           {
            "colorbar": {
             "outlinewidth": 0,
             "ticks": ""
            },
            "colorscale": [
             [
              0,
              "#0d0887"
             ],
             [
              0.1111111111111111,
              "#46039f"
             ],
             [
              0.2222222222222222,
              "#7201a8"
             ],
             [
              0.3333333333333333,
              "#9c179e"
             ],
             [
              0.4444444444444444,
              "#bd3786"
             ],
             [
              0.5555555555555556,
              "#d8576b"
             ],
             [
              0.6666666666666666,
              "#ed7953"
             ],
             [
              0.7777777777777778,
              "#fb9f3a"
             ],
             [
              0.8888888888888888,
              "#fdca26"
             ],
             [
              1,
              "#f0f921"
             ]
            ],
            "type": "contour"
           }
          ],
          "contourcarpet": [
           {
            "colorbar": {
             "outlinewidth": 0,
             "ticks": ""
            },
            "type": "contourcarpet"
           }
          ],
          "heatmap": [
           {
            "colorbar": {
             "outlinewidth": 0,
             "ticks": ""
            },
            "colorscale": [
             [
              0,
              "#0d0887"
             ],
             [
              0.1111111111111111,
              "#46039f"
             ],
             [
              0.2222222222222222,
              "#7201a8"
             ],
             [
              0.3333333333333333,
              "#9c179e"
             ],
             [
              0.4444444444444444,
              "#bd3786"
             ],
             [
              0.5555555555555556,
              "#d8576b"
             ],
             [
              0.6666666666666666,
              "#ed7953"
             ],
             [
              0.7777777777777778,
              "#fb9f3a"
             ],
             [
              0.8888888888888888,
              "#fdca26"
             ],
             [
              1,
              "#f0f921"
             ]
            ],
            "type": "heatmap"
           }
          ],
          "heatmapgl": [
           {
            "colorbar": {
             "outlinewidth": 0,
             "ticks": ""
            },
            "colorscale": [
             [
              0,
              "#0d0887"
             ],
             [
              0.1111111111111111,
              "#46039f"
             ],
             [
              0.2222222222222222,
              "#7201a8"
             ],
             [
              0.3333333333333333,
              "#9c179e"
             ],
             [
              0.4444444444444444,
              "#bd3786"
             ],
             [
              0.5555555555555556,
              "#d8576b"
             ],
             [
              0.6666666666666666,
              "#ed7953"
             ],
             [
              0.7777777777777778,
              "#fb9f3a"
             ],
             [
              0.8888888888888888,
              "#fdca26"
             ],
             [
              1,
              "#f0f921"
             ]
            ],
            "type": "heatmapgl"
           }
          ],
          "histogram": [
           {
            "marker": {
             "pattern": {
              "fillmode": "overlay",
              "size": 10,
              "solidity": 0.2
             }
            },
            "type": "histogram"
           }
          ],
          "histogram2d": [
           {
            "colorbar": {
             "outlinewidth": 0,
             "ticks": ""
            },
            "colorscale": [
             [
              0,
              "#0d0887"
             ],
             [
              0.1111111111111111,
              "#46039f"
             ],
             [
              0.2222222222222222,
              "#7201a8"
             ],
             [
              0.3333333333333333,
              "#9c179e"
             ],
             [
              0.4444444444444444,
              "#bd3786"
             ],
             [
              0.5555555555555556,
              "#d8576b"
             ],
             [
              0.6666666666666666,
              "#ed7953"
             ],
             [
              0.7777777777777778,
              "#fb9f3a"
             ],
             [
              0.8888888888888888,
              "#fdca26"
             ],
             [
              1,
              "#f0f921"
             ]
            ],
            "type": "histogram2d"
           }
          ],
          "histogram2dcontour": [
           {
            "colorbar": {
             "outlinewidth": 0,
             "ticks": ""
            },
            "colorscale": [
             [
              0,
              "#0d0887"
             ],
             [
              0.1111111111111111,
              "#46039f"
             ],
             [
              0.2222222222222222,
              "#7201a8"
             ],
             [
              0.3333333333333333,
              "#9c179e"
             ],
             [
              0.4444444444444444,
              "#bd3786"
             ],
             [
              0.5555555555555556,
              "#d8576b"
             ],
             [
              0.6666666666666666,
              "#ed7953"
             ],
             [
              0.7777777777777778,
              "#fb9f3a"
             ],
             [
              0.8888888888888888,
              "#fdca26"
             ],
             [
              1,
              "#f0f921"
             ]
            ],
            "type": "histogram2dcontour"
           }
          ],
          "mesh3d": [
           {
            "colorbar": {
             "outlinewidth": 0,
             "ticks": ""
            },
            "type": "mesh3d"
           }
          ],
          "parcoords": [
           {
            "line": {
             "colorbar": {
              "outlinewidth": 0,
              "ticks": ""
             }
            },
            "type": "parcoords"
           }
          ],
          "pie": [
           {
            "automargin": true,
            "type": "pie"
           }
          ],
          "scatter": [
           {
            "fillpattern": {
             "fillmode": "overlay",
             "size": 10,
             "solidity": 0.2
            },
            "type": "scatter"
           }
          ],
          "scatter3d": [
           {
            "line": {
             "colorbar": {
              "outlinewidth": 0,
              "ticks": ""
             }
            },
            "marker": {
             "colorbar": {
              "outlinewidth": 0,
              "ticks": ""
             }
            },
            "type": "scatter3d"
           }
          ],
          "scattercarpet": [
           {
            "marker": {
             "colorbar": {
              "outlinewidth": 0,
              "ticks": ""
             }
            },
            "type": "scattercarpet"
           }
          ],
          "scattergeo": [
           {
            "marker": {
             "colorbar": {
              "outlinewidth": 0,
              "ticks": ""
             }
            },
            "type": "scattergeo"
           }
          ],
          "scattergl": [
           {
            "marker": {
             "colorbar": {
              "outlinewidth": 0,
              "ticks": ""
             }
            },
            "type": "scattergl"
           }
          ],
          "scattermapbox": [
           {
            "marker": {
             "colorbar": {
              "outlinewidth": 0,
              "ticks": ""
             }
            },
            "type": "scattermapbox"
           }
          ],
          "scatterpolar": [
           {
            "marker": {
             "colorbar": {
              "outlinewidth": 0,
              "ticks": ""
             }
            },
            "type": "scatterpolar"
           }
          ],
          "scatterpolargl": [
           {
            "marker": {
             "colorbar": {
              "outlinewidth": 0,
              "ticks": ""
             }
            },
            "type": "scatterpolargl"
           }
          ],
          "scatterternary": [
           {
            "marker": {
             "colorbar": {
              "outlinewidth": 0,
              "ticks": ""
             }
            },
            "type": "scatterternary"
           }
          ],
          "surface": [
           {
            "colorbar": {
             "outlinewidth": 0,
             "ticks": ""
            },
            "colorscale": [
             [
              0,
              "#0d0887"
             ],
             [
              0.1111111111111111,
              "#46039f"
             ],
             [
              0.2222222222222222,
              "#7201a8"
             ],
             [
              0.3333333333333333,
              "#9c179e"
             ],
             [
              0.4444444444444444,
              "#bd3786"
             ],
             [
              0.5555555555555556,
              "#d8576b"
             ],
             [
              0.6666666666666666,
              "#ed7953"
             ],
             [
              0.7777777777777778,
              "#fb9f3a"
             ],
             [
              0.8888888888888888,
              "#fdca26"
             ],
             [
              1,
              "#f0f921"
             ]
            ],
            "type": "surface"
           }
          ],
          "table": [
           {
            "cells": {
             "fill": {
              "color": "#EBF0F8"
             },
             "line": {
              "color": "white"
             }
            },
            "header": {
             "fill": {
              "color": "#C8D4E3"
             },
             "line": {
              "color": "white"
             }
            },
            "type": "table"
           }
          ]
         },
         "layout": {
          "annotationdefaults": {
           "arrowcolor": "#2a3f5f",
           "arrowhead": 0,
           "arrowwidth": 1
          },
          "autotypenumbers": "strict",
          "coloraxis": {
           "colorbar": {
            "outlinewidth": 0,
            "ticks": ""
           }
          },
          "colorscale": {
           "diverging": [
            [
             0,
             "#8e0152"
            ],
            [
             0.1,
             "#c51b7d"
            ],
            [
             0.2,
             "#de77ae"
            ],
            [
             0.3,
             "#f1b6da"
            ],
            [
             0.4,
             "#fde0ef"
            ],
            [
             0.5,
             "#f7f7f7"
            ],
            [
             0.6,
             "#e6f5d0"
            ],
            [
             0.7,
             "#b8e186"
            ],
            [
             0.8,
             "#7fbc41"
            ],
            [
             0.9,
             "#4d9221"
            ],
            [
             1,
             "#276419"
            ]
           ],
           "sequential": [
            [
             0,
             "#0d0887"
            ],
            [
             0.1111111111111111,
             "#46039f"
            ],
            [
             0.2222222222222222,
             "#7201a8"
            ],
            [
             0.3333333333333333,
             "#9c179e"
            ],
            [
             0.4444444444444444,
             "#bd3786"
            ],
            [
             0.5555555555555556,
             "#d8576b"
            ],
            [
             0.6666666666666666,
             "#ed7953"
            ],
            [
             0.7777777777777778,
             "#fb9f3a"
            ],
            [
             0.8888888888888888,
             "#fdca26"
            ],
            [
             1,
             "#f0f921"
            ]
           ],
           "sequentialminus": [
            [
             0,
             "#0d0887"
            ],
            [
             0.1111111111111111,
             "#46039f"
            ],
            [
             0.2222222222222222,
             "#7201a8"
            ],
            [
             0.3333333333333333,
             "#9c179e"
            ],
            [
             0.4444444444444444,
             "#bd3786"
            ],
            [
             0.5555555555555556,
             "#d8576b"
            ],
            [
             0.6666666666666666,
             "#ed7953"
            ],
            [
             0.7777777777777778,
             "#fb9f3a"
            ],
            [
             0.8888888888888888,
             "#fdca26"
            ],
            [
             1,
             "#f0f921"
            ]
           ]
          },
          "colorway": [
           "#636efa",
           "#EF553B",
           "#00cc96",
           "#ab63fa",
           "#FFA15A",
           "#19d3f3",
           "#FF6692",
           "#B6E880",
           "#FF97FF",
           "#FECB52"
          ],
          "font": {
           "color": "#2a3f5f"
          },
          "geo": {
           "bgcolor": "white",
           "lakecolor": "white",
           "landcolor": "white",
           "showlakes": true,
           "showland": true,
           "subunitcolor": "#C8D4E3"
          },
          "hoverlabel": {
           "align": "left"
          },
          "hovermode": "closest",
          "mapbox": {
           "style": "light"
          },
          "paper_bgcolor": "white",
          "plot_bgcolor": "white",
          "polar": {
           "angularaxis": {
            "gridcolor": "#EBF0F8",
            "linecolor": "#EBF0F8",
            "ticks": ""
           },
           "bgcolor": "white",
           "radialaxis": {
            "gridcolor": "#EBF0F8",
            "linecolor": "#EBF0F8",
            "ticks": ""
           }
          },
          "scene": {
           "xaxis": {
            "backgroundcolor": "white",
            "gridcolor": "#DFE8F3",
            "gridwidth": 2,
            "linecolor": "#EBF0F8",
            "showbackground": true,
            "ticks": "",
            "zerolinecolor": "#EBF0F8"
           },
           "yaxis": {
            "backgroundcolor": "white",
            "gridcolor": "#DFE8F3",
            "gridwidth": 2,
            "linecolor": "#EBF0F8",
            "showbackground": true,
            "ticks": "",
            "zerolinecolor": "#EBF0F8"
           },
           "zaxis": {
            "backgroundcolor": "white",
            "gridcolor": "#DFE8F3",
            "gridwidth": 2,
            "linecolor": "#EBF0F8",
            "showbackground": true,
            "ticks": "",
            "zerolinecolor": "#EBF0F8"
           }
          },
          "shapedefaults": {
           "line": {
            "color": "#2a3f5f"
           }
          },
          "ternary": {
           "aaxis": {
            "gridcolor": "#DFE8F3",
            "linecolor": "#A2B1C6",
            "ticks": ""
           },
           "baxis": {
            "gridcolor": "#DFE8F3",
            "linecolor": "#A2B1C6",
            "ticks": ""
           },
           "bgcolor": "white",
           "caxis": {
            "gridcolor": "#DFE8F3",
            "linecolor": "#A2B1C6",
            "ticks": ""
           }
          },
          "title": {
           "x": 0.05
          },
          "xaxis": {
           "automargin": true,
           "gridcolor": "#EBF0F8",
           "linecolor": "#EBF0F8",
           "ticks": "",
           "title": {
            "standoff": 15
           },
           "zerolinecolor": "#EBF0F8",
           "zerolinewidth": 2
          },
          "yaxis": {
           "automargin": true,
           "gridcolor": "#EBF0F8",
           "linecolor": "#EBF0F8",
           "ticks": "",
           "title": {
            "standoff": 15
           },
           "zerolinecolor": "#EBF0F8",
           "zerolinewidth": 2
          }
         }
        },
        "title": {
         "text": "Price of the cheapest model with 80-90% on MMLU"
        },
        "width": 800,
        "xaxis": {
         "range": [
          "2022-12-01T00:00:00",
          "2025-03-03T00:00:00"
         ],
         "title": {
          "text": "Month"
         }
        },
        "yaxis": {
         "title": {
          "text": "Price in USD per million tokens"
         },
         "type": "log"
        }
       }
      }
     },
     "metadata": {},
     "output_type": "display_data"
    }
   ],
   "source": [
    "# Calculate annual rate of decrease\n",
    "annual_slope = exponential_model.params['date'] * 365  # Convert daily to annual\n",
    "annual_factor = int(round(10**(-annual_slope)))  # Convert log slope to factor\n",
    "\n",
    "# Plot the exponential trendline with the data\n",
    "fig = go.Figure()\n",
    "fig.add_trace(go.Scatter(\n",
    "    x=cheapest_models_df['Release Date'],\n",
    "    y=10**exponential_model.predict(cheapest_models_df['date']),\n",
    "    mode='lines',\n",
    "    name=f'Trendline: {annual_factor}x decrease per year',\n",
    "    line=dict(color='lightgrey', dash='dash')\n",
    "))\n",
    "fig.add_trace(go.Scatter(\n",
    "    x=cheapest_models_df['Release Date'],\n",
    "    y=cheapest_models_df['USD per 1M Tokens'],\n",
    "    mode='markers+text',\n",
    "    name=f'Cheapest models with {performance_lower_bound}-{performance_upper_bound}% on {bench}',\n",
    "    text=cheapest_models_df['Model Name'],\n",
    "    textposition='bottom left',\n",
    "    marker=dict(color='blue')\n",
    "    # line=dict(shape='hv'),\n",
    "))\n",
    "other_models_df = aa_df[(aa_df[bench].notna()) & (aa_df[bench] >= performance_lower_bound) & ~(aa_df['Model Name'].isin(cheapest_models_df['Model Name']))]\n",
    "fig.add_trace(go.Scatter(\n",
    "    x=other_models_df['Release Date'],\n",
    "    y=other_models_df['USD per 1M Tokens'],\n",
    "    mode='markers+text',\n",
    "    name=f'Other models with {performance_lower_bound}-{performance_upper_bound}% on {bench}',\n",
    "    text=other_models_df['Model Name'],\n",
    "    marker=dict(color='lightblue')\n",
    "))\n",
    "fig.update_layout(\n",
    "    title=f'Price of the cheapest model with {performance_lower_bound}-{performance_upper_bound}% on {bench}'\n",
    ")\n",
    "fig.update_traces(textposition='bottom left')\n",
    "fig.update_layout(yaxis_type='log')\n",
    "fig.update_layout(xaxis_title='Month')\n",
    "fig.update_layout(yaxis_title='Price in USD per million tokens')\n",
    "# Lower the lower x limit\n",
    "min_date = min(cheapest_models_df['Release Date'].min(), other_models_df['Release Date'].min())\n",
    "max_date = max(cheapest_models_df['Release Date'].max(), other_models_df['Release Date'].max())\n",
    "fig.update_layout(xaxis_range=[min_date - pd.Timedelta(days=90), max_date + pd.Timedelta(days=30)])\n",
    "fig.update_layout(\n",
    "    width=800,\n",
    "    height=600,\n",
    "    font=dict(size=10),\n",
    "    legend=dict(\n",
    "        yanchor=\"top\",\n",
    "        y=0.25,\n",
    "        xanchor=\"right\",\n",
    "        x=0.4,\n",
    "        bordercolor=\"lightgrey\",\n",
    "        borderwidth=1\n",
    "    )\n",
    ")\n",
    "if save:\n",
    "    save_plot(fig, results_dir + 'aa_cheapest_models_examples/', f'aa_cheapest_models_{bench}_above_{performance_lower_bound}_with_trendline')\n",
    "fig.show()"
   ]
  },
  {
   "cell_type": "markdown",
   "metadata": {},
   "source": [
    "### Final selected example"
   ]
  },
  {
   "cell_type": "code",
   "execution_count": 31,
   "metadata": {},
   "outputs": [
    {
     "name": "stdout",
     "output_type": "stream",
     "text": [
      "\n",
      "Performance range: 33.0-100%\n",
      "2023-04-01 00:00:00 GPT-4 33.0 $37.50\n",
      "2023-12-01 00:00:00 GPT-4 Turbo 50.0 $15.00\n",
      "2024-03-01 00:00:00 Mistral-Large-2024-02 36.0 $6.00\n",
      "2024-04-01 00:00:00 Claude-3-Haiku 33.0 $0.50\n",
      "2024-06-01 00:00:00 Gemini-1.5-Flash-2024-05 39.0 $0.13\n",
      "2025-02-01 00:00:00 Phi 4 53.0 $0.12\n"
     ]
    },
    {
     "data": {
      "application/vnd.plotly.v1+json": {
       "config": {
        "plotlyServerURL": "https://plot.ly"
       },
       "data": [
        {
         "marker": {
          "color": "rgb(222, 222, 255)"
         },
         "mode": "markers",
         "name": "Other, GPT-4 level or better on GPQA Diamond",
         "text": [
          "GPT-4",
          "GPT-4 Turbo",
          "Mistral-Large-2024-02",
          "Claude-3-Sonnet",
          "Claude-3-Opus",
          "Claude-3-Haiku",
          "Llama-3-Instruct-70B",
          "Mistral-8x22",
          "Gemini-1.5-Flash-2024-05",
          "GPT-4o-2024-05",
          "Gemini-1.5-Pro-2024-05",
          "Mistral-Large-2-2024-06",
          "Mistral-NeMo",
          "Claude-3.5-Haiku",
          "Claude-3.5-Sonnet-2024-06",
          "Gemma-2-27B",
          "Llama-3.1-Instruct-405B",
          "GPT-4o-mini",
          "Llama-3.1-Instruct-70B",
          "GPT-4o-2024-08",
          "Claude 2",
          "Claude 2.1",
          "Gemini 1.0 Pro",
          "Gemini-1.5-Pro-2024-09",
          "Gemini-1.5-Flash-2024-09",
          "o1-preview",
          "o1-mini",
          "Claude-3.5-Sonnet-2024-10",
          "GPT-4o-2024-11",
          "Mistral-Large-2-2024-11",
          "o1",
          "DeepSeek-V3",
          "Phi 4",
          "Mistral Small 3",
          "DeepSeek-R1",
          "o3-mini",
          "o1-mini",
          "Gemini 2.0 Flash"
         ],
         "type": "scatter",
         "x": [
          "2023-03-01T00:00:00",
          "2023-11-01T00:00:00",
          "2024-02-01T00:00:00",
          "2024-03-01T00:00:00",
          "2024-03-01T00:00:00",
          "2024-03-01T00:00:00",
          "2024-04-01T00:00:00",
          "2024-04-01T00:00:00",
          "2024-05-01T00:00:00",
          "2024-05-01T00:00:00",
          "2024-05-01T00:00:00",
          "2024-06-01T00:00:00",
          "2024-06-01T00:00:00",
          "2024-06-01T00:00:00",
          "2024-06-01T00:00:00",
          "2024-06-01T00:00:00",
          "2024-07-01T00:00:00",
          "2024-07-01T00:00:00",
          "2024-07-01T00:00:00",
          "2024-08-01T00:00:00",
          "2024-08-12T00:00:00",
          "2024-08-12T00:00:00",
          "2024-08-12T00:00:00",
          "2024-09-01T00:00:00",
          "2024-09-01T00:00:00",
          "2024-09-12T00:00:00",
          "2024-09-12T00:00:00",
          "2024-10-01T00:00:00",
          "2024-11-01T00:00:00",
          "2024-11-01T00:00:00",
          "2024-12-17T00:00:00",
          "2024-12-26T00:00:00",
          "2025-01-01T00:00:00",
          "2025-01-01T00:00:00",
          "2025-01-20T00:00:00",
          "2025-01-31T00:00:00",
          "2025-01-31T00:00:00",
          "2025-02-01T00:00:00"
         ],
         "y": [
          37.5,
          15,
          6,
          6,
          30,
          0.5,
          0.89,
          1.2,
          0.13,
          7.5,
          2.19,
          3,
          0.13,
          1.6,
          6,
          0.26,
          3.5,
          0.26,
          0.72,
          4.38,
          12,
          12,
          0.75,
          2.19,
          0.13,
          26.25,
          5.25,
          6,
          4.38,
          3,
          26.25,
          0.4775,
          0.1225,
          0.475,
          0.96,
          1.925,
          1.925,
          0.175
         ]
        },
        {
         "hoverinfo": "skip",
         "line": {
          "color": "rgb(190, 190, 210)",
          "dash": "dash"
         },
         "mode": "lines+text",
         "name": "36x decrease per year",
         "showlegend": false,
         "text": [
          "",
          "",
          "",
          "",
          "",
          "",
          "",
          "",
          "",
          "",
          "",
          "36x per year",
          "",
          "",
          "",
          "",
          "",
          "",
          "",
          "",
          "",
          "",
          ""
         ],
         "textfont": {
          "size": 14
         },
         "textposition": "middle left",
         "type": "scatter",
         "x": [
          "2023-03-01T00:00:00",
          "2023-04-01T00:00:00",
          "2023-05-01T00:00:00",
          "2023-06-01T00:00:00",
          "2023-07-01T00:00:00",
          "2023-08-01T00:00:00",
          "2023-09-01T00:00:00",
          "2023-10-01T00:00:00",
          "2023-11-01T00:00:00",
          "2023-12-01T00:00:00",
          "2024-01-01T00:00:00",
          "2024-02-01T00:00:00",
          "2024-03-01T00:00:00",
          "2024-04-01T00:00:00",
          "2024-05-01T00:00:00",
          "2024-06-01T00:00:00",
          "2024-07-01T00:00:00",
          "2024-08-01T00:00:00",
          "2024-09-01T00:00:00",
          "2024-10-01T00:00:00",
          "2024-11-01T00:00:00",
          "2024-12-01T00:00:00",
          "2025-01-01T00:00:00"
         ],
         "y": [
          49.631624863290355,
          36.58640802954431,
          27.236623675600868,
          20.077727253288586,
          14.946793930073264,
          11.018166400263263,
          8.122142540523756,
          6.046500646830227,
          4.457233476139075,
          3.318171893940973,
          2.446020882013936,
          1.8031067547083095,
          1.3555862462159927,
          0.9992828495925375,
          0.7439126272755613,
          0.5483820244612807,
          0.4082410828265745,
          0.3009386630370709,
          0.22183969894331385,
          0.16514778907916983,
          0.1217402092530859,
          0.09062907358759102,
          0.06680805383157427
         ]
        },
        {
         "mode": "markers+text",
         "name": "Cheapest, GPT-4 level or better on GPQA Diamond",
         "text": [
          "GPT-4",
          "GPT-4 Turbo",
          "Mistral-Large-2024-02",
          "Claude-3-Haiku",
          "Gemini-1.5-Flash-2024-05",
          "Phi 4"
         ],
         "textposition": "top right",
         "type": "scatter",
         "x": [
          "2023-03-01T00:00:00",
          "2023-11-01T00:00:00",
          "2024-02-01T00:00:00",
          "2024-03-01T00:00:00",
          "2024-05-01T00:00:00",
          "2025-01-01T00:00:00"
         ],
         "y": [
          37.5,
          15,
          6,
          0.5,
          0.13,
          0.1225
         ]
        }
       ],
       "layout": {
        "height": 600,
        "legend": {
         "bordercolor": "lightgrey",
         "borderwidth": 1,
         "x": 0.45,
         "xanchor": "right",
         "y": 0.14,
         "yanchor": "top"
        },
        "template": {
         "data": {
          "bar": [
           {
            "error_x": {
             "color": "#2a3f5f"
            },
            "error_y": {
             "color": "#2a3f5f"
            },
            "marker": {
             "line": {
              "color": "white",
              "width": 0.5
             },
             "pattern": {
              "fillmode": "overlay",
              "size": 10,
              "solidity": 0.2
             }
            },
            "type": "bar"
           }
          ],
          "barpolar": [
           {
            "marker": {
             "line": {
              "color": "white",
              "width": 0.5
             },
             "pattern": {
              "fillmode": "overlay",
              "size": 10,
              "solidity": 0.2
             }
            },
            "type": "barpolar"
           }
          ],
          "carpet": [
           {
            "aaxis": {
             "endlinecolor": "#2a3f5f",
             "gridcolor": "#C8D4E3",
             "linecolor": "#C8D4E3",
             "minorgridcolor": "#C8D4E3",
             "startlinecolor": "#2a3f5f"
            },
            "baxis": {
             "endlinecolor": "#2a3f5f",
             "gridcolor": "#C8D4E3",
             "linecolor": "#C8D4E3",
             "minorgridcolor": "#C8D4E3",
             "startlinecolor": "#2a3f5f"
            },
            "type": "carpet"
           }
          ],
          "choropleth": [
           {
            "colorbar": {
             "outlinewidth": 0,
             "ticks": ""
            },
            "type": "choropleth"
           }
          ],
          "contour": [
           {
            "colorbar": {
             "outlinewidth": 0,
             "ticks": ""
            },
            "colorscale": [
             [
              0,
              "#0d0887"
             ],
             [
              0.1111111111111111,
              "#46039f"
             ],
             [
              0.2222222222222222,
              "#7201a8"
             ],
             [
              0.3333333333333333,
              "#9c179e"
             ],
             [
              0.4444444444444444,
              "#bd3786"
             ],
             [
              0.5555555555555556,
              "#d8576b"
             ],
             [
              0.6666666666666666,
              "#ed7953"
             ],
             [
              0.7777777777777778,
              "#fb9f3a"
             ],
             [
              0.8888888888888888,
              "#fdca26"
             ],
             [
              1,
              "#f0f921"
             ]
            ],
            "type": "contour"
           }
          ],
          "contourcarpet": [
           {
            "colorbar": {
             "outlinewidth": 0,
             "ticks": ""
            },
            "type": "contourcarpet"
           }
          ],
          "heatmap": [
           {
            "colorbar": {
             "outlinewidth": 0,
             "ticks": ""
            },
            "colorscale": [
             [
              0,
              "#0d0887"
             ],
             [
              0.1111111111111111,
              "#46039f"
             ],
             [
              0.2222222222222222,
              "#7201a8"
             ],
             [
              0.3333333333333333,
              "#9c179e"
             ],
             [
              0.4444444444444444,
              "#bd3786"
             ],
             [
              0.5555555555555556,
              "#d8576b"
             ],
             [
              0.6666666666666666,
              "#ed7953"
             ],
             [
              0.7777777777777778,
              "#fb9f3a"
             ],
             [
              0.8888888888888888,
              "#fdca26"
             ],
             [
              1,
              "#f0f921"
             ]
            ],
            "type": "heatmap"
           }
          ],
          "heatmapgl": [
           {
            "colorbar": {
             "outlinewidth": 0,
             "ticks": ""
            },
            "colorscale": [
             [
              0,
              "#0d0887"
             ],
             [
              0.1111111111111111,
              "#46039f"
             ],
             [
              0.2222222222222222,
              "#7201a8"
             ],
             [
              0.3333333333333333,
              "#9c179e"
             ],
             [
              0.4444444444444444,
              "#bd3786"
             ],
             [
              0.5555555555555556,
              "#d8576b"
             ],
             [
              0.6666666666666666,
              "#ed7953"
             ],
             [
              0.7777777777777778,
              "#fb9f3a"
             ],
             [
              0.8888888888888888,
              "#fdca26"
             ],
             [
              1,
              "#f0f921"
             ]
            ],
            "type": "heatmapgl"
           }
          ],
          "histogram": [
           {
            "marker": {
             "pattern": {
              "fillmode": "overlay",
              "size": 10,
              "solidity": 0.2
             }
            },
            "type": "histogram"
           }
          ],
          "histogram2d": [
           {
            "colorbar": {
             "outlinewidth": 0,
             "ticks": ""
            },
            "colorscale": [
             [
              0,
              "#0d0887"
             ],
             [
              0.1111111111111111,
              "#46039f"
             ],
             [
              0.2222222222222222,
              "#7201a8"
             ],
             [
              0.3333333333333333,
              "#9c179e"
             ],
             [
              0.4444444444444444,
              "#bd3786"
             ],
             [
              0.5555555555555556,
              "#d8576b"
             ],
             [
              0.6666666666666666,
              "#ed7953"
             ],
             [
              0.7777777777777778,
              "#fb9f3a"
             ],
             [
              0.8888888888888888,
              "#fdca26"
             ],
             [
              1,
              "#f0f921"
             ]
            ],
            "type": "histogram2d"
           }
          ],
          "histogram2dcontour": [
           {
            "colorbar": {
             "outlinewidth": 0,
             "ticks": ""
            },
            "colorscale": [
             [
              0,
              "#0d0887"
             ],
             [
              0.1111111111111111,
              "#46039f"
             ],
             [
              0.2222222222222222,
              "#7201a8"
             ],
             [
              0.3333333333333333,
              "#9c179e"
             ],
             [
              0.4444444444444444,
              "#bd3786"
             ],
             [
              0.5555555555555556,
              "#d8576b"
             ],
             [
              0.6666666666666666,
              "#ed7953"
             ],
             [
              0.7777777777777778,
              "#fb9f3a"
             ],
             [
              0.8888888888888888,
              "#fdca26"
             ],
             [
              1,
              "#f0f921"
             ]
            ],
            "type": "histogram2dcontour"
           }
          ],
          "mesh3d": [
           {
            "colorbar": {
             "outlinewidth": 0,
             "ticks": ""
            },
            "type": "mesh3d"
           }
          ],
          "parcoords": [
           {
            "line": {
             "colorbar": {
              "outlinewidth": 0,
              "ticks": ""
             }
            },
            "type": "parcoords"
           }
          ],
          "pie": [
           {
            "automargin": true,
            "type": "pie"
           }
          ],
          "scatter": [
           {
            "fillpattern": {
             "fillmode": "overlay",
             "size": 10,
             "solidity": 0.2
            },
            "type": "scatter"
           }
          ],
          "scatter3d": [
           {
            "line": {
             "colorbar": {
              "outlinewidth": 0,
              "ticks": ""
             }
            },
            "marker": {
             "colorbar": {
              "outlinewidth": 0,
              "ticks": ""
             }
            },
            "type": "scatter3d"
           }
          ],
          "scattercarpet": [
           {
            "marker": {
             "colorbar": {
              "outlinewidth": 0,
              "ticks": ""
             }
            },
            "type": "scattercarpet"
           }
          ],
          "scattergeo": [
           {
            "marker": {
             "colorbar": {
              "outlinewidth": 0,
              "ticks": ""
             }
            },
            "type": "scattergeo"
           }
          ],
          "scattergl": [
           {
            "marker": {
             "colorbar": {
              "outlinewidth": 0,
              "ticks": ""
             }
            },
            "type": "scattergl"
           }
          ],
          "scattermapbox": [
           {
            "marker": {
             "colorbar": {
              "outlinewidth": 0,
              "ticks": ""
             }
            },
            "type": "scattermapbox"
           }
          ],
          "scatterpolar": [
           {
            "marker": {
             "colorbar": {
              "outlinewidth": 0,
              "ticks": ""
             }
            },
            "type": "scatterpolar"
           }
          ],
          "scatterpolargl": [
           {
            "marker": {
             "colorbar": {
              "outlinewidth": 0,
              "ticks": ""
             }
            },
            "type": "scatterpolargl"
           }
          ],
          "scatterternary": [
           {
            "marker": {
             "colorbar": {
              "outlinewidth": 0,
              "ticks": ""
             }
            },
            "type": "scatterternary"
           }
          ],
          "surface": [
           {
            "colorbar": {
             "outlinewidth": 0,
             "ticks": ""
            },
            "colorscale": [
             [
              0,
              "#0d0887"
             ],
             [
              0.1111111111111111,
              "#46039f"
             ],
             [
              0.2222222222222222,
              "#7201a8"
             ],
             [
              0.3333333333333333,
              "#9c179e"
             ],
             [
              0.4444444444444444,
              "#bd3786"
             ],
             [
              0.5555555555555556,
              "#d8576b"
             ],
             [
              0.6666666666666666,
              "#ed7953"
             ],
             [
              0.7777777777777778,
              "#fb9f3a"
             ],
             [
              0.8888888888888888,
              "#fdca26"
             ],
             [
              1,
              "#f0f921"
             ]
            ],
            "type": "surface"
           }
          ],
          "table": [
           {
            "cells": {
             "fill": {
              "color": "#EBF0F8"
             },
             "line": {
              "color": "white"
             }
            },
            "header": {
             "fill": {
              "color": "#C8D4E3"
             },
             "line": {
              "color": "white"
             }
            },
            "type": "table"
           }
          ]
         },
         "layout": {
          "annotationdefaults": {
           "arrowcolor": "#2a3f5f",
           "arrowhead": 0,
           "arrowwidth": 1
          },
          "autotypenumbers": "strict",
          "coloraxis": {
           "colorbar": {
            "outlinewidth": 0,
            "ticks": ""
           }
          },
          "colorscale": {
           "diverging": [
            [
             0,
             "#8e0152"
            ],
            [
             0.1,
             "#c51b7d"
            ],
            [
             0.2,
             "#de77ae"
            ],
            [
             0.3,
             "#f1b6da"
            ],
            [
             0.4,
             "#fde0ef"
            ],
            [
             0.5,
             "#f7f7f7"
            ],
            [
             0.6,
             "#e6f5d0"
            ],
            [
             0.7,
             "#b8e186"
            ],
            [
             0.8,
             "#7fbc41"
            ],
            [
             0.9,
             "#4d9221"
            ],
            [
             1,
             "#276419"
            ]
           ],
           "sequential": [
            [
             0,
             "#0d0887"
            ],
            [
             0.1111111111111111,
             "#46039f"
            ],
            [
             0.2222222222222222,
             "#7201a8"
            ],
            [
             0.3333333333333333,
             "#9c179e"
            ],
            [
             0.4444444444444444,
             "#bd3786"
            ],
            [
             0.5555555555555556,
             "#d8576b"
            ],
            [
             0.6666666666666666,
             "#ed7953"
            ],
            [
             0.7777777777777778,
             "#fb9f3a"
            ],
            [
             0.8888888888888888,
             "#fdca26"
            ],
            [
             1,
             "#f0f921"
            ]
           ],
           "sequentialminus": [
            [
             0,
             "#0d0887"
            ],
            [
             0.1111111111111111,
             "#46039f"
            ],
            [
             0.2222222222222222,
             "#7201a8"
            ],
            [
             0.3333333333333333,
             "#9c179e"
            ],
            [
             0.4444444444444444,
             "#bd3786"
            ],
            [
             0.5555555555555556,
             "#d8576b"
            ],
            [
             0.6666666666666666,
             "#ed7953"
            ],
            [
             0.7777777777777778,
             "#fb9f3a"
            ],
            [
             0.8888888888888888,
             "#fdca26"
            ],
            [
             1,
             "#f0f921"
            ]
           ]
          },
          "colorway": [
           "#636efa",
           "#EF553B",
           "#00cc96",
           "#ab63fa",
           "#FFA15A",
           "#19d3f3",
           "#FF6692",
           "#B6E880",
           "#FF97FF",
           "#FECB52"
          ],
          "font": {
           "color": "#2a3f5f"
          },
          "geo": {
           "bgcolor": "white",
           "lakecolor": "white",
           "landcolor": "white",
           "showlakes": true,
           "showland": true,
           "subunitcolor": "#C8D4E3"
          },
          "hoverlabel": {
           "align": "left"
          },
          "hovermode": "closest",
          "mapbox": {
           "style": "light"
          },
          "paper_bgcolor": "white",
          "plot_bgcolor": "white",
          "polar": {
           "angularaxis": {
            "gridcolor": "#EBF0F8",
            "linecolor": "#EBF0F8",
            "ticks": ""
           },
           "bgcolor": "white",
           "radialaxis": {
            "gridcolor": "#EBF0F8",
            "linecolor": "#EBF0F8",
            "ticks": ""
           }
          },
          "scene": {
           "xaxis": {
            "backgroundcolor": "white",
            "gridcolor": "#DFE8F3",
            "gridwidth": 2,
            "linecolor": "#EBF0F8",
            "showbackground": true,
            "ticks": "",
            "zerolinecolor": "#EBF0F8"
           },
           "yaxis": {
            "backgroundcolor": "white",
            "gridcolor": "#DFE8F3",
            "gridwidth": 2,
            "linecolor": "#EBF0F8",
            "showbackground": true,
            "ticks": "",
            "zerolinecolor": "#EBF0F8"
           },
           "zaxis": {
            "backgroundcolor": "white",
            "gridcolor": "#DFE8F3",
            "gridwidth": 2,
            "linecolor": "#EBF0F8",
            "showbackground": true,
            "ticks": "",
            "zerolinecolor": "#EBF0F8"
           }
          },
          "shapedefaults": {
           "line": {
            "color": "#2a3f5f"
           }
          },
          "ternary": {
           "aaxis": {
            "gridcolor": "#DFE8F3",
            "linecolor": "#A2B1C6",
            "ticks": ""
           },
           "baxis": {
            "gridcolor": "#DFE8F3",
            "linecolor": "#A2B1C6",
            "ticks": ""
           },
           "bgcolor": "white",
           "caxis": {
            "gridcolor": "#DFE8F3",
            "linecolor": "#A2B1C6",
            "ticks": ""
           }
          },
          "title": {
           "x": 0.05
          },
          "xaxis": {
           "automargin": true,
           "gridcolor": "#EBF0F8",
           "linecolor": "#EBF0F8",
           "ticks": "",
           "title": {
            "standoff": 15
           },
           "zerolinecolor": "#EBF0F8",
           "zerolinewidth": 2
          },
          "yaxis": {
           "automargin": true,
           "gridcolor": "#EBF0F8",
           "linecolor": "#EBF0F8",
           "ticks": "",
           "title": {
            "standoff": 15
           },
           "zerolinecolor": "#EBF0F8",
           "zerolinewidth": 2
          }
         }
        },
        "title": {
         "text": "The cost to answer PhD-level science questions as well as GPT-4 has fallen by 36x per year"
        },
        "width": 1000,
        "xaxis": {
         "range": [
          "2023-01-30T00:00:00",
          "2025-05-31T00:00:00"
         ],
         "title": {
          "text": "Month"
         }
        },
        "yaxis": {
         "title": {
          "text": "Price in USD per million tokens"
         },
         "type": "log"
        }
       }
      }
     },
     "metadata": {},
     "output_type": "display_data"
    }
   ],
   "source": [
    "# selected_benchmarks = ['MMLU', 'MATH 5', 'HumanEval']\n",
    "bench = 'GPQA Diamond'\n",
    "threshold_model = 'GPT-4'\n",
    "performance_lower_bound = aa_df[aa_df['Model Name'] == threshold_model].iloc[0][bench]\n",
    "performance_upper_bound = 100\n",
    "print(f'\\nPerformance range: {performance_lower_bound}-{performance_upper_bound}%')\n",
    "ts = pd.date_range(start='2020-01-01', end=pd.Timestamp.today(), freq='MS')\n",
    "cheapest_models = []\n",
    "current_best = None\n",
    "\n",
    "for i, t in enumerate(ts):\n",
    "    # Get models published in this time window\n",
    "    benchmark_df = aa_df\n",
    "    if i > 0:\n",
    "        prev_t = ts[i-1]\n",
    "        benchmark_df = benchmark_df[(benchmark_df['Release Date'] >= prev_t) & (benchmark_df['Release Date'] < t)]\n",
    "    else:\n",
    "        benchmark_df = benchmark_df[benchmark_df['Release Date'] < t]\n",
    "        \n",
    "    # Filter for performance\n",
    "    benchmark_df = benchmark_df[\n",
    "        benchmark_df[bench].notna() &\n",
    "        (benchmark_df[bench] >= performance_lower_bound) &\n",
    "        (benchmark_df[bench] < performance_upper_bound)\n",
    "    ]\n",
    "    \n",
    "    if not benchmark_df.empty:\n",
    "        # Find cheapest new model\n",
    "        new_best = benchmark_df.loc[benchmark_df['USD per 1M Tokens'].idxmin()]\n",
    "        \n",
    "        # Update current best if new model is cheaper (or if no current best)\n",
    "        if current_best is None or new_best['USD per 1M Tokens'] < current_best['USD per 1M Tokens']:\n",
    "            current_best = new_best\n",
    "            cheapest_models.append(current_best)\n",
    "            print(t, current_best['Model Name'], current_best[bench], f\"${current_best['USD per 1M Tokens']:.2f}\")\n",
    "\n",
    "cheapest_models_df = pd.DataFrame(cheapest_models)\n",
    "\n",
    "# Fit a line to the data\n",
    "cheapest_models_df['price'] = cheapest_models_df['USD per 1M Tokens']\n",
    "cheapest_models_df['log_price'] = np.log10(cheapest_models_df['USD per 1M Tokens'])\n",
    "cheapest_models_df['date'] = cheapest_models_df['Release Date'].map(lambda x: pd.Timestamp(x).toordinal())\n",
    "exponential_model = smf.ols('log_price ~ date', data=cheapest_models_df).fit()\n",
    "\n",
    "fig = go.Figure()\n",
    "\n",
    "all_df = aa_df[\n",
    "    (aa_df[bench].notna()) &\n",
    "    (aa_df[bench] >= performance_lower_bound) &\n",
    "    (aa_df[bench] < performance_upper_bound)\n",
    "]\n",
    "fig.add_trace(go.Scatter(\n",
    "    x=all_df['Release Date'],\n",
    "    y=all_df['USD per 1M Tokens'],\n",
    "    mode='markers',\n",
    "    name=f'Other, GPT-4 level or better on {bench}',\n",
    "    text=all_df['Model Name'],\n",
    "    marker=dict(color='rgb(222, 222, 255)')\n",
    "))\n",
    "\n",
    "factor = cheapest_models_df['USD per 1M Tokens'].iloc[0] / cheapest_models_df['USD per 1M Tokens'].iloc[-1]\n",
    "period_months = (cheapest_models_df['Release Date'].iloc[-1] - cheapest_models_df['Release Date'].iloc[0]).days / (365/12)\n",
    "\n",
    "annual_slope = exponential_model.params['date'] * 365  # Convert daily to annual\n",
    "annual_factor = int(round(10**(-annual_slope)))  # Convert log slope to factor\n",
    "# Plot the exponential trendline with the data\n",
    "date_range = pd.date_range(start=cheapest_models_df['Release Date'].min(), end=cheapest_models_df['Release Date'].max(), freq='MS')\n",
    "pred_df = pd.DataFrame({'date': date_range.map(lambda x: pd.Timestamp(x).toordinal())})\n",
    "fig.add_trace(go.Scatter(\n",
    "    x=date_range,\n",
    "    y=10**exponential_model.predict(pred_df['date']),\n",
    "    mode='lines+text',\n",
    "    name=f'{annual_factor}x decrease per year',\n",
    "    # Only show text at middle index\n",
    "    text=['' if i != len(date_range)//2 else f'{annual_factor}x per year' for i in range(len(date_range))],\n",
    "    textposition='middle left',\n",
    "    textfont=dict(size=14),\n",
    "    line=dict(color='rgb(190, 190, 210)', dash='dash'),\n",
    "    hoverinfo='skip',\n",
    "    showlegend=False,\n",
    "))\n",
    "\n",
    "# annotations = [\"\"] * len(cheapest_models_df['Model Name'])\n",
    "# annotations[0] = cheapest_models_df['Model Name'].iloc[0]\n",
    "# annotations[-1] = cheapest_models_df['Model Name'].iloc[-1]\n",
    "annotations = cheapest_models_df['Model Name']\n",
    "\n",
    "fig.add_trace(go.Scatter(\n",
    "    x=cheapest_models_df['Release Date'],\n",
    "    y=cheapest_models_df['USD per 1M Tokens'],\n",
    "    mode='markers+text',\n",
    "    name=f'Cheapest, GPT-4 level or better on {bench}',\n",
    "    text=annotations,\n",
    "    textposition='top right',\n",
    "    # marker=dict(color='blue'),\n",
    "    # visible=\"legendonly\",  # Hide this trace by default\n",
    "    # legendgroup=f'{bench}_{performance_range_str}',\n",
    "))\n",
    "fig.update_layout(xaxis_range=[\n",
    "    cheapest_models_df['Release Date'].min() - pd.Timedelta(days=30),\n",
    "    cheapest_models_df['Release Date'].max() + pd.Timedelta(days=150)\n",
    "])\n",
    "\n",
    "fig.update_layout(\n",
    "    # title=f'The cost to answer PhD-level science questions has fallen by {round(factor, -1):.0f}x in {period_months:.0f} months'\n",
    "    title=f'The cost to answer PhD-level science questions as well as GPT-4 has fallen by {annual_factor}x per year'\n",
    ")\n",
    "fig.update_layout(yaxis_type='log')\n",
    "fig.update_layout(xaxis_title='Month')\n",
    "fig.update_layout(yaxis_title='Price in USD per million tokens')\n",
    "# fig.update_layout(xaxis_range=[aa_df['Release Date'].min() - pd.Timedelta(days=150), aa_df['Release Date'].max() + pd.Timedelta(days=30)])\n",
    "fig.update_layout(\n",
    "    width=1000,\n",
    "    height=600,\n",
    "    # font=dict(size=14),\n",
    "    legend=dict(\n",
    "        yanchor=\"top\",\n",
    "        y=0.14,\n",
    "        xanchor=\"right\",\n",
    "        x=0.45,\n",
    "        bordercolor=\"lightgrey\",\n",
    "        borderwidth=1\n",
    "    )\n",
    ")\n",
    "\n",
    "if save:\n",
    "    save_plot(fig, results_subdir, f'aa_cheapest_models_{bench}_{performance_lower_bound}_to_{performance_upper_bound}', extensions=['png'])\n",
    "\n",
    "fig.show()"
   ]
  },
  {
   "cell_type": "markdown",
   "metadata": {},
   "source": [
    "### Full analysis"
   ]
  },
  {
   "cell_type": "code",
   "execution_count": 21,
   "metadata": {},
   "outputs": [
    {
     "name": "stdout",
     "output_type": "stream",
     "text": [
      "MMLU\n",
      "\n",
      "Performance range: 43.9 (GPT-3 level) to 100\n",
      "2021-12-01 00:00:00 GPT-3 43.9 $60.00\n",
      "2022-10-01 00:00:00 GPT-3 43.9 $20.00\n",
      "2023-04-01 00:00:00 GPT-3.5 Turbo 68.0 $2.00\n",
      "2023-08-01 00:00:00 Llama-2-Chat-13B 45.0 $0.56\n",
      "2024-01-01 00:00:00 Llama 2-7B 45.3 $0.20\n",
      "2024-05-01 00:00:00 Llama 2-7B 45.3 $0.13\n",
      "2024-08-01 00:00:00 Llama-3.1-Instruct-8B 71.0 $0.10\n",
      "2024-10-01 00:00:00 Llama-3.2-Instruct-3B 64.0 $0.08\n",
      "2024-11-01 00:00:00 Gemini-1.5-Flash-8B 75.0 $0.07\n",
      "\n",
      "Performance range: 64.8 (GPT-3.5 level) to 100\n",
      "2022-12-01 00:00:00 GPT-3.5 64.8 $20.00\n",
      "2023-04-01 00:00:00 GPT-3.5 Turbo 68.0 $2.00\n",
      "2023-12-01 00:00:00 GPT-3.5 Turbo 68.0 $0.75\n",
      "2024-04-01 00:00:00 Claude-3-Haiku 71.0 $0.50\n",
      "2024-06-01 00:00:00 Gemini-1.5-Flash-2024-05 79.0 $0.13\n",
      "2024-08-01 00:00:00 Llama-3.1-Instruct-8B 71.0 $0.10\n",
      "2024-11-01 00:00:00 Gemini-1.5-Flash-8B 75.0 $0.07\n",
      "\n",
      "Performance range: 86.0 (GPT-4 level) to 100\n",
      "2023-04-01 00:00:00 GPT-4 86.0 $37.50\n",
      "2023-12-01 00:00:00 GPT-4 Turbo 87.0 $15.00\n",
      "2024-06-01 00:00:00 Gemini-1.5-Pro-2024-05 86.0 $2.19\n",
      "Less than 4 cheapest models found - skipping\n",
      "\n",
      "Performance range: 87.0 (GPT-4 Turbo level) to 100\n",
      "2023-12-01 00:00:00 GPT-4 Turbo 87.0 $15.00\n",
      "2024-06-01 00:00:00 GPT-4o-2024-05 87.0 $7.50\n",
      "2024-07-01 00:00:00 Claude-3.5-Sonnet-2024-06 88.0 $6.00\n",
      "2024-08-01 00:00:00 Llama-3.1-Instruct-405B 87.0 $3.50\n",
      "\n",
      "Performance range: 88.0 (Claude-3.5-Sonnet-2024-06 level) to 100\n",
      "2024-07-01 00:00:00 Claude-3.5-Sonnet-2024-06 88.0 $6.00\n",
      "2024-09-01 00:00:00 GPT-4o-2024-08 89.0 $4.38\n",
      "Less than 4 cheapest models found - skipping\n",
      "\n",
      "Performance range: 89.0 (GPT-4o-2024-08 level) to 100\n",
      "2024-09-01 00:00:00 GPT-4o-2024-08 89.0 $4.38\n",
      "Less than 4 cheapest models found - skipping\n",
      "\n",
      "\n",
      "GPQA Diamond\n",
      "Frontier model GPT-3 is missing a GPQA Diamond value - skipping\n",
      "\n",
      "Performance range: 33.0 (GPT-4 level) to 100\n",
      "2023-04-01 00:00:00 GPT-4 33.0 $37.50\n",
      "2023-12-01 00:00:00 GPT-4 Turbo 50.0 $15.00\n",
      "2024-03-01 00:00:00 Mistral-Large-2024-02 36.0 $6.00\n",
      "2024-04-01 00:00:00 Claude-3-Haiku 33.0 $0.50\n",
      "2024-06-01 00:00:00 Gemini-1.5-Flash-2024-05 39.0 $0.13\n",
      "2025-02-01 00:00:00 Phi 4 53.0 $0.12\n",
      "\n",
      "Performance range: 50.0 (GPT-4 Turbo level) to 100\n",
      "2023-12-01 00:00:00 GPT-4 Turbo 50.0 $15.00\n",
      "2024-06-01 00:00:00 GPT-4o-2024-05 51.0 $7.50\n",
      "2024-07-01 00:00:00 Claude-3.5-Sonnet-2024-06 56.0 $6.00\n",
      "2024-08-01 00:00:00 Llama-3.1-Instruct-405B 50.0 $3.50\n",
      "2024-10-01 00:00:00 Gemini-1.5-Pro-2024-09 61.0 $2.19\n",
      "2025-01-01 00:00:00 DeepSeek-V3 57.0 $0.48\n",
      "2025-02-01 00:00:00 Phi 4 53.0 $0.12\n",
      "\n",
      "Performance range: 51.0 (GPT-4o-2024-05 level) to 100\n",
      "2024-06-01 00:00:00 GPT-4o-2024-05 51.0 $7.50\n",
      "2024-07-01 00:00:00 Claude-3.5-Sonnet-2024-06 56.0 $6.00\n",
      "2024-09-01 00:00:00 GPT-4o-2024-08 51.0 $4.38\n",
      "2024-10-01 00:00:00 Gemini-1.5-Pro-2024-09 61.0 $2.19\n",
      "2025-01-01 00:00:00 DeepSeek-V3 57.0 $0.48\n",
      "2025-02-01 00:00:00 Phi 4 53.0 $0.12\n",
      "\n",
      "Performance range: 56.0 (Claude-3.5-Sonnet-2024-06 level) to 100\n",
      "2024-07-01 00:00:00 Claude-3.5-Sonnet-2024-06 56.0 $6.00\n",
      "2024-10-01 00:00:00 Gemini-1.5-Pro-2024-09 61.0 $2.19\n",
      "2025-01-01 00:00:00 DeepSeek-V3 57.0 $0.48\n",
      "Less than 4 cheapest models found - skipping\n",
      "\n",
      "Performance range: 61.0 (Gemini-1.5-Pro-2024-09 level) to 100\n",
      "2024-10-01 00:00:00 Gemini-1.5-Pro-2024-09 61.0 $2.19\n",
      "2025-02-01 00:00:00 DeepSeek-R1 71.7 $0.96\n",
      "Less than 4 cheapest models found - skipping\n",
      "\n",
      "Performance range: 69.7 (o1-preview level) to 100\n",
      "2024-10-01 00:00:00 o1-preview 69.7 $26.25\n",
      "2025-02-01 00:00:00 DeepSeek-R1 71.7 $0.96\n",
      "Less than 4 cheapest models found - skipping\n",
      "\n",
      "Performance range: 75.8 (o1 level) to 100\n",
      "2025-01-01 00:00:00 o1 75.8 $26.25\n",
      "Less than 4 cheapest models found - skipping\n",
      "\n",
      "\n",
      "MATH-500\n",
      "Frontier model GPT-3 is missing a MATH-500 value - skipping\n",
      "\n",
      "Performance range: 21.0 (GPT-4 level) to 100\n",
      "2023-04-01 00:00:00 GPT-4 21.0 $37.50\n",
      "2023-07-01 00:00:00 GPT-3.5 Turbo 44.0 $3.25\n",
      "2023-12-01 00:00:00 GPT-3.5 Turbo 44.0 $0.75\n",
      "2024-04-01 00:00:00 Claude-3-Haiku 39.0 $0.50\n",
      "2024-05-01 00:00:00 Llama-3-Instruct-8B 32.0 $0.15\n",
      "2024-06-01 00:00:00 Gemini-1.5-Flash-2024-05 55.0 $0.13\n",
      "2024-08-01 00:00:00 Llama-3.1-Instruct-8B 50.0 $0.10\n",
      "2024-10-01 00:00:00 Llama-3.2-Instruct-3B 50.0 $0.08\n",
      "2024-11-01 00:00:00 Gemini-1.5-Flash-8B 70.0 $0.07\n",
      "\n",
      "Performance range: 44.0 (GPT-3.5 Turbo level) to 100\n",
      "2023-07-01 00:00:00 GPT-3.5 Turbo 44.0 $3.25\n",
      "2023-12-01 00:00:00 GPT-3.5 Turbo 44.0 $0.75\n",
      "2024-06-01 00:00:00 Gemini-1.5-Flash-2024-05 55.0 $0.13\n",
      "2024-08-01 00:00:00 Llama-3.1-Instruct-8B 50.0 $0.10\n",
      "2024-10-01 00:00:00 Llama-3.2-Instruct-3B 50.0 $0.08\n",
      "2024-11-01 00:00:00 Gemini-1.5-Flash-8B 70.0 $0.07\n",
      "\n",
      "Performance range: 74.0 (GPT-4 Turbo level) to 100\n",
      "2023-12-01 00:00:00 GPT-4 Turbo 74.0 $15.00\n",
      "2024-06-01 00:00:00 GPT-4o-2024-05 79.0 $7.50\n",
      "2024-08-01 00:00:00 GPT-4o-mini 79.0 $0.26\n",
      "2024-10-01 00:00:00 Gemini-1.5-Flash-2024-09 83.0 $0.13\n",
      "2025-02-01 00:00:00 Phi 4 81.0 $0.12\n",
      "\n",
      "Performance range: 79.0 (GPT-4o-2024-05 level) to 100\n",
      "2024-06-01 00:00:00 GPT-4o-2024-05 79.0 $7.50\n",
      "2024-08-01 00:00:00 GPT-4o-mini 79.0 $0.26\n",
      "2024-10-01 00:00:00 Gemini-1.5-Flash-2024-09 83.0 $0.13\n",
      "2025-02-01 00:00:00 Phi 4 81.0 $0.12\n",
      "\n",
      "Performance range: 80.0 (GPT-4o-2024-08 level) to 100\n",
      "2024-09-01 00:00:00 GPT-4o-2024-08 80.0 $4.38\n",
      "2024-10-01 00:00:00 Gemini-1.5-Flash-2024-09 83.0 $0.13\n",
      "2025-02-01 00:00:00 Phi 4 81.0 $0.12\n",
      "Less than 4 cheapest models found - skipping\n",
      "\n",
      "Performance range: 88.0 (Gemini-1.5-Pro-2024-09 level) to 100\n",
      "2024-10-01 00:00:00 Gemini-1.5-Pro-2024-09 88.0 $2.19\n",
      "Less than 4 cheapest models found - skipping\n",
      "\n",
      "Performance range: 93.0 (Gemini 2.0 Flash level) to 100\n",
      "Less than 4 cheapest models found - skipping\n",
      "\n",
      "\n",
      "MATH 5\n",
      "Frontier model GPT-3 is missing a MATH 5 value - skipping\n",
      "\n",
      "Performance range: 23.0 (GPT-4 level) to 100\n",
      "2023-04-01 00:00:00 GPT-4 23.0 $37.50\n",
      "2023-12-01 00:00:00 GPT-4 Turbo 36.0 $15.00\n",
      "2024-05-01 00:00:00 Mistral-8x22 23.0 $1.20\n",
      "2024-06-01 00:00:00 Gemini-1.5-Flash-2024-05 23.0 $0.13\n",
      "2025-02-01 00:00:00 Phi 4 65.0 $0.12\n",
      "\n",
      "Performance range: 36.0 (GPT-4 Turbo level) to 100\n",
      "2023-12-01 00:00:00 GPT-4 Turbo 36.0 $15.00\n",
      "2024-06-01 00:00:00 Gemini-1.5-Pro-2024-05 41.0 $2.19\n",
      "2024-08-01 00:00:00 GPT-4o-mini 48.0 $0.26\n",
      "2024-10-01 00:00:00 Gemini-1.5-Flash-2024-09 58.0 $0.13\n",
      "2025-02-01 00:00:00 Phi 4 65.0 $0.12\n",
      "\n",
      "Performance range: 48.0 (GPT-4o-2024-05 level) to 100\n",
      "2024-06-01 00:00:00 GPT-4o-2024-05 48.0 $7.50\n",
      "2024-08-01 00:00:00 GPT-4o-mini 48.0 $0.26\n",
      "2024-10-01 00:00:00 Gemini-1.5-Flash-2024-09 58.0 $0.13\n",
      "2025-02-01 00:00:00 Phi 4 65.0 $0.12\n",
      "\n",
      "Performance range: 67.0 (Gemini-1.5-Pro-2024-09 level) to 100\n",
      "2024-10-01 00:00:00 Gemini-1.5-Pro-2024-09 67.0 $2.19\n",
      "2025-02-01 00:00:00 DeepSeek-R1 93.1 $0.96\n",
      "Less than 4 cheapest models found - skipping\n",
      "\n",
      "Performance range: 84.3 (o1-mini level) to 100\n",
      "2024-10-01 00:00:00 o1-mini 84.3 $5.25\n",
      "2025-02-01 00:00:00 DeepSeek-R1 93.1 $0.96\n",
      "Less than 4 cheapest models found - skipping\n",
      "\n",
      "Performance range: 94.4 (o1 level) to 100\n",
      "2025-01-01 00:00:00 o1 94.4 $26.25\n",
      "2025-02-01 00:00:00 o3-mini 95.2 $1.93\n",
      "Less than 4 cheapest models found - skipping\n",
      "\n",
      "Performance range: 95.2 (o3-mini level) to 100\n",
      "2025-02-01 00:00:00 o3-mini 95.2 $1.93\n",
      "Less than 4 cheapest models found - skipping\n",
      "\n",
      "\n",
      "HumanEval\n",
      "Frontier model GPT-3 is missing a HumanEval value - skipping\n",
      "\n",
      "Performance range: 67.0 (GPT-4 level) to 100\n",
      "2023-04-01 00:00:00 GPT-4 67.0 $37.50\n",
      "2023-07-01 00:00:00 GPT-3.5 Turbo 71.0 $3.25\n",
      "2023-12-01 00:00:00 GPT-3.5 Turbo 71.0 $0.75\n",
      "2024-04-01 00:00:00 Claude-3-Haiku 77.0 $0.50\n",
      "2024-07-01 00:00:00 Mistral-NeMo 71.0 $0.13\n",
      "2024-08-01 00:00:00 Llama-3.1-Instruct-8B 67.0 $0.10\n",
      "\n",
      "Performance range: 71.0 (GPT-3.5 Turbo level) to 100\n",
      "2023-07-01 00:00:00 GPT-3.5 Turbo 71.0 $3.25\n",
      "2023-12-01 00:00:00 GPT-3.5 Turbo 71.0 $0.75\n",
      "2024-04-01 00:00:00 Claude-3-Haiku 77.0 $0.50\n",
      "2024-07-01 00:00:00 Mistral-NeMo 71.0 $0.13\n",
      "2025-02-01 00:00:00 Phi 4 87.0 $0.12\n",
      "\n",
      "Performance range: 92.0 (GPT-4 Turbo level) to 100\n",
      "2023-12-01 00:00:00 GPT-4 Turbo 92.0 $15.00\n",
      "2024-06-01 00:00:00 GPT-4o-2024-05 93.0 $7.50\n",
      "2024-09-01 00:00:00 GPT-4o-2024-08 93.0 $4.38\n",
      "Less than 4 cheapest models found - skipping\n",
      "\n",
      "Performance range: 93.0 (GPT-4o-2024-05 level) to 100\n",
      "2024-06-01 00:00:00 GPT-4o-2024-05 93.0 $7.50\n",
      "2024-09-01 00:00:00 GPT-4o-2024-08 93.0 $4.38\n",
      "Less than 4 cheapest models found - skipping\n",
      "\n",
      "Performance range: 96.0 (Claude-3.5-Sonnet-2024-10 level) to 100\n",
      "2024-11-01 00:00:00 Claude-3.5-Sonnet-2024-10 96.0 $6.00\n",
      "Less than 4 cheapest models found - skipping\n",
      "\n",
      "\n",
      "LMSys Chatbot Arena ELO\n",
      "Frontier model GPT-3 is missing a LMSys Chatbot Arena ELO value - skipping\n",
      "\n",
      "Performance range: 1186.0 (GPT-4 level) to inf\n",
      "2023-04-01 00:00:00 GPT-4 1186.0 $37.50\n",
      "2023-12-01 00:00:00 GPT-4 Turbo 1256.0 $15.00\n",
      "2024-04-01 00:00:00 Claude-3-Sonnet 1201.0 $6.00\n",
      "2024-05-01 00:00:00 Llama-3-Instruct-70B 1206.0 $0.89\n",
      "2024-06-01 00:00:00 Gemini-1.5-Flash-2024-05 1227.0 $0.13\n",
      "2024-11-01 00:00:00 Gemini-1.5-Flash-8B 1211.0 $0.07\n",
      "\n",
      "Performance range: 1256.0 (GPT-4 Turbo level) to inf\n",
      "2023-12-01 00:00:00 GPT-4 Turbo 1256.0 $15.00\n",
      "2024-06-01 00:00:00 Gemini-1.5-Pro-2024-05 1260.0 $2.19\n",
      "2024-08-01 00:00:00 GPT-4o-mini 1273.0 $0.26\n",
      "2024-10-01 00:00:00 Gemini-1.5-Flash-2024-09 1271.0 $0.13\n",
      "\n",
      "Performance range: 1285.0 (GPT-4o-2024-05 level) to inf\n",
      "2024-06-01 00:00:00 GPT-4o-2024-05 1285.0 $7.50\n",
      "2024-09-01 00:00:00 GPT-4o-2024-08 1337.0 $4.38\n",
      "2024-10-01 00:00:00 Gemini-1.5-Pro-2024-09 1301.0 $2.19\n",
      "2025-01-01 00:00:00 DeepSeek-V3 1318.0 $0.48\n",
      "\n",
      "Performance range: 1337.0 (GPT-4o-2024-08 level) to inf\n",
      "2024-09-01 00:00:00 GPT-4o-2024-08 1337.0 $4.38\n",
      "2025-02-01 00:00:00 DeepSeek-R1 1362.0 $0.96\n",
      "Less than 4 cheapest models found - skipping\n",
      "\n",
      "Performance range: 1361.0 (GPT-4o-2024-11 level) to inf\n",
      "2024-12-01 00:00:00 GPT-4o-2024-11 1361.0 $4.38\n",
      "2025-02-01 00:00:00 DeepSeek-R1 1362.0 $0.96\n",
      "Less than 4 cheapest models found - skipping\n",
      "\n",
      "Performance range: 1362.0 (DeepSeek-R1 level) to inf\n",
      "2025-02-01 00:00:00 DeepSeek-R1 1362.0 $0.96\n",
      "Less than 4 cheapest models found - skipping\n"
     ]
    }
   ],
   "source": [
    "results_subdir = results_dir + 'cheapest_models_above_previous_frontier/'\n",
    "os.makedirs(results_subdir, exist_ok=True)\n",
    "\n",
    "performance_delta = 100\n",
    "results = []\n",
    "for i, bench in enumerate(benchmarks):\n",
    "    if i > 0:\n",
    "        print('\\n')\n",
    "    print(f'{bench}')\n",
    "\n",
    "    for i, frontier_model_data in top_models_df_lookup[bench].iterrows():\n",
    "        performance_lower_bound = frontier_model_data[bench]\n",
    "        if pd.isna(performance_lower_bound):\n",
    "            print(f'Frontier model {frontier_model_data[\"Model Name\"]} is missing a {bench} value - skipping')\n",
    "            continue\n",
    "        elif benchmark_is_mqa[bench] and performance_lower_bound < 30:\n",
    "            print(f'Frontier model {frontier_model_data[\"Model Name\"]} has a {bench} value of less than 30% on an MQA benchmark - skipping')\n",
    "            continue\n",
    "        if bench == 'LMSys Chatbot Arena ELO':\n",
    "            performance_upper_bound = np.inf\n",
    "        else:\n",
    "            performance_upper_bound = min(performance_lower_bound + performance_delta, 100)\n",
    "        print(f'\\nPerformance range: {performance_lower_bound} ({frontier_model_data[\"Model Name\"]} level) to {performance_upper_bound}')\n",
    "\n",
    "        ts = pd.date_range(start='2020-01-01', end=pd.Timestamp.today(), freq='MS')\n",
    "        cheapest_models = []\n",
    "        current_best = None\n",
    "        for i, t in enumerate(ts):\n",
    "            # Get models published in this time window\n",
    "            benchmark_df = aa_df\n",
    "            if i > 0:\n",
    "                prev_t = ts[i-1]\n",
    "                benchmark_df = benchmark_df[(benchmark_df['Release Date'] >= prev_t) & (benchmark_df['Release Date'] < t)]\n",
    "            else:\n",
    "                benchmark_df = benchmark_df[benchmark_df['Release Date'] < t]\n",
    "                \n",
    "            # Filter for performance\n",
    "            benchmark_df = benchmark_df[\n",
    "                benchmark_df[bench].notna() &\n",
    "                (benchmark_df[bench] >= performance_lower_bound) &\n",
    "                (benchmark_df[bench] < performance_upper_bound)\n",
    "            ]\n",
    "            \n",
    "            if not benchmark_df.empty:\n",
    "                # Find cheapest new model\n",
    "                new_best = benchmark_df.loc[benchmark_df['USD per 1M Tokens'].idxmin()]\n",
    "                \n",
    "                # Update current best if new model is cheaper (or if no current best)\n",
    "                if current_best is None or new_best['USD per 1M Tokens'] < current_best['USD per 1M Tokens']:\n",
    "                    current_best = new_best\n",
    "                    cheapest_models.append(current_best)\n",
    "                    print(t, current_best['Model Name'], current_best[bench], f\"${current_best['USD per 1M Tokens']:.2f}\")\n",
    "\n",
    "        cheapest_models_df = pd.DataFrame(cheapest_models)\n",
    "        if len(cheapest_models_df) < min_num_data_points_for_regression:\n",
    "            print(f'Less than {min_num_data_points_for_regression} cheapest models found - skipping')\n",
    "            continue\n",
    "\n",
    "        # Fit a line to the data\n",
    "        cheapest_models_df['price'] = cheapest_models_df['USD per 1M Tokens']\n",
    "        cheapest_models_df['log_price'] = np.log10(cheapest_models_df['USD per 1M Tokens'])\n",
    "        cheapest_models_df['date'] = cheapest_models_df['Release Date'].map(lambda x: pd.Timestamp(x).toordinal())\n",
    "        exponential_model = smf.ols('log_price ~ date', data=cheapest_models_df).fit()\n",
    "\n",
    "        # Calculate annual rate of decrease\n",
    "        annual_slope = exponential_model.params['date'] * 365  # Convert daily to annual\n",
    "        annual_factor = int(round(10**(-annual_slope)))  # Convert log slope to factor\n",
    "        results.append({\n",
    "            'bench': bench,\n",
    "            'threshold_model': frontier_model_data[\"Model Name\"],\n",
    "            'performance_range': [performance_lower_bound, performance_upper_bound],\n",
    "            'sample_size': len(cheapest_models_df),\n",
    "            'start_date': cheapest_models_df['Release Date'].min(),\n",
    "            'end_date': cheapest_models_df['Release Date'].max(),\n",
    "            'price_reduction_factor_per_year': annual_factor,\n",
    "            'r_squared': round(exponential_model.rsquared, 2),\n",
    "        })\n",
    "\n",
    "        # Plot the exponential trendline with the data\n",
    "        fig = go.Figure()\n",
    "        fig.add_trace(go.Scatter(\n",
    "            x=cheapest_models_df['Release Date'],\n",
    "            y=10**exponential_model.predict(cheapest_models_df['date']),\n",
    "            mode='lines',\n",
    "            name=f'Trendline: {annual_factor}x decrease per year',\n",
    "            line=dict(color='lightgrey', dash='dash')\n",
    "        ))\n",
    "        fig.add_trace(go.Scatter(\n",
    "            x=cheapest_models_df['Release Date'],\n",
    "            y=cheapest_models_df['USD per 1M Tokens'],\n",
    "            mode='markers+text',\n",
    "            name=f'Cheapest models with {performance_lower_bound}-{performance_upper_bound} on {bench}',\n",
    "            text=cheapest_models_df['Model Name'],\n",
    "            textposition='bottom left',\n",
    "            marker=dict(color='blue')\n",
    "            # line=dict(shape='hv'),\n",
    "        ))\n",
    "        other_models_df = aa_df[\n",
    "            aa_df[bench].notna() &\n",
    "            (aa_df[bench] >= performance_lower_bound) &\n",
    "            (aa_df[bench] < performance_upper_bound) &\n",
    "            ~(aa_df['Model Name'].isin(cheapest_models_df['Model Name']))\n",
    "        ]\n",
    "        fig.add_trace(go.Scatter(\n",
    "            x=other_models_df['Release Date'],\n",
    "            y=other_models_df['USD per 1M Tokens'],\n",
    "            mode='markers',\n",
    "            name=f'Other models with {performance_lower_bound}-{performance_upper_bound} on {bench}',\n",
    "            text=other_models_df['Model Name'],\n",
    "            marker=dict(color='lightblue')\n",
    "        ))\n",
    "        fig.update_layout(\n",
    "            title=f'The cheapest model with {performance_lower_bound}-{performance_upper_bound} on {bench} has become {annual_factor}x cheaper per year'\n",
    "        )\n",
    "        fig.update_traces(textposition='bottom left')\n",
    "        fig.update_layout(yaxis_type='log')\n",
    "        fig.update_layout(xaxis_title='Month')\n",
    "        fig.update_layout(yaxis_title='Price in USD per million tokens')\n",
    "        # Lower the lower x limit\n",
    "        min_date = min(cheapest_models_df['Release Date'].min(), other_models_df['Release Date'].min())\n",
    "        max_date = max(cheapest_models_df['Release Date'].max(), other_models_df['Release Date'].max())\n",
    "        fig.update_layout(xaxis_range=[min_date - pd.Timedelta(days=90), max_date + pd.Timedelta(days=30)])\n",
    "        fig.update_layout(\n",
    "            width=800,\n",
    "            height=600,\n",
    "            font=dict(size=10),\n",
    "            legend=dict(\n",
    "                yanchor=\"top\",\n",
    "                y=0.99,\n",
    "                xanchor=\"right\",\n",
    "                x=0.99,\n",
    "                bordercolor=\"lightgrey\",\n",
    "                borderwidth=1\n",
    "            )\n",
    "        )\n",
    "        if save:\n",
    "            save_plot(\n",
    "                fig,\n",
    "                results_subdir,\n",
    "                f'aa_cheapest_models_{bench}_{performance_lower_bound}-{performance_upper_bound}_with_trendline',\n",
    "                extensions=['png'],\n",
    "            )\n",
    "\n",
    "cheapest_model_results_df = pd.DataFrame(results)\n",
    "cheapest_model_results_df.to_csv(results_subdir + 'cheapest_model_results.csv', index=False)\n",
    "\n",
    "# Create a summary DataFrame\n",
    "summary_data = []\n",
    "for bench in benchmarks:\n",
    "    if bench == 'LMSys Chatbot Arena ELO':\n",
    "        continue\n",
    "    bench_results = cheapest_model_results_df[cheapest_model_results_df['bench'] == bench]\n",
    "    # Get all performance lower bounds used for this benchmark\n",
    "    perf_bounds = list(bench_results['performance_range'])\n",
    "    \n",
    "    # Calculate geometric mean of price reduction factors\n",
    "    price_factors = bench_results['price_reduction_factor_per_year'].dropna()\n",
    "    geomean = np.exp(np.mean(np.log(price_factors))) if len(price_factors) > 0 else np.nan\n",
    "    \n",
    "    # Get range of price reduction factors\n",
    "    factor_range = [price_factors.min(), price_factors.max()] if len(price_factors) > 0 else []\n",
    "    \n",
    "    summary_data.append({\n",
    "        'bench': bench,\n",
    "        'performance_range': perf_bounds,\n",
    "        'price_reduction_factor_per_year_geomean': round(geomean),\n",
    "        'price_reduction_factor_per_year_range': factor_range\n",
    "    })\n",
    "\n",
    "cheapest_model_summary_df = pd.DataFrame(summary_data)\n",
    "cheapest_model_summary_df.to_csv(results_subdir + 'cheapest_model_summary.csv', index=False)"
   ]
  },
  {
   "cell_type": "code",
   "execution_count": 22,
   "metadata": {},
   "outputs": [
    {
     "data": {
      "text/plain": [
       "array([  7.,  50., 331.])"
      ]
     },
     "execution_count": 22,
     "metadata": {},
     "output_type": "execute_result"
    }
   ],
   "source": [
    "all_price_factors = cheapest_model_results_df['price_reduction_factor_per_year']\n",
    "np.percentile(all_price_factors, [0, 50, 100])"
   ]
  },
  {
   "cell_type": "code",
   "execution_count": 23,
   "metadata": {},
   "outputs": [
    {
     "data": {
      "application/vnd.plotly.v1+json": {
       "config": {
        "plotlyServerURL": "https://plot.ly"
       },
       "data": [
        {
         "box": {
          "visible": true
         },
         "name": "Distribution",
         "showlegend": false,
         "type": "violin",
         "x0": "All benchmarks",
         "y": [
          1.0791812460476249,
          1.2304489213782739,
          0.8450980400142568,
          1.5563025007672873,
          1.6532125137753437,
          2.385606273598312,
          1.6232492903979006,
          1.3010299956639813,
          2.0681858617461617,
          2.292256071356476,
          1.5314789170422551,
          1.9731278535996986,
          2.292256071356476,
          1.7403626894942439,
          0.9542425094393249,
          1.845098040014257,
          2.519827993775719,
          1.8808135922807914
         ]
        },
        {
         "hovertemplate": "Cheapest models that are %{text} level or better",
         "marker": {
          "size": 10
         },
         "mode": "markers",
         "name": "MMLU",
         "showlegend": false,
         "text": [
          "GPT-3",
          "GPT-3.5",
          "GPT-4 Turbo"
         ],
         "textposition": "middle right",
         "type": "scatter",
         "x": [
          "General knowledge",
          "General knowledge",
          "General knowledge"
         ],
         "y": [
          1.0791812460476249,
          1.2304489213782739,
          0.8450980400142568
         ]
        },
        {
         "hovertemplate": "Cheapest models that are %{text} level or better",
         "marker": {
          "size": 10
         },
         "mode": "markers",
         "name": "GPQA Diamond",
         "showlegend": false,
         "text": [
          "GPT-4",
          "GPT-4 Turbo",
          "GPT-4o-2024-05"
         ],
         "textposition": "middle right",
         "type": "scatter",
         "x": [
          "Scientific reasoning",
          "Scientific reasoning",
          "Scientific reasoning"
         ],
         "y": [
          1.5563025007672873,
          1.6532125137753437,
          2.385606273598312
         ]
        },
        {
         "hovertemplate": "Cheapest models that are %{text} level or better",
         "marker": {
          "size": 10
         },
         "mode": "markers",
         "name": "MATH-500",
         "showlegend": false,
         "text": [
          "GPT-4",
          "GPT-3.5 Turbo",
          "GPT-4 Turbo",
          "GPT-4o-2024-05"
         ],
         "textposition": "middle right",
         "type": "scatter",
         "x": [
          "Math (easier)",
          "Math (easier)",
          "Math (easier)",
          "Math (easier)"
         ],
         "y": [
          1.6232492903979006,
          1.3010299956639813,
          2.0681858617461617,
          2.292256071356476
         ]
        },
        {
         "hovertemplate": "Cheapest models that are %{text} level or better",
         "marker": {
          "size": 10
         },
         "mode": "markers",
         "name": "MATH 5",
         "showlegend": false,
         "text": [
          "GPT-4",
          "GPT-4 Turbo",
          "GPT-4o-2024-05"
         ],
         "textposition": "middle right",
         "type": "scatter",
         "x": [
          "Math (harder)",
          "Math (harder)",
          "Math (harder)"
         ],
         "y": [
          1.5314789170422551,
          1.9731278535996986,
          2.292256071356476
         ]
        },
        {
         "hovertemplate": "Cheapest models that are %{text} level or better",
         "marker": {
          "size": 10
         },
         "mode": "markers",
         "name": "HumanEval",
         "showlegend": false,
         "text": [
          "GPT-4",
          "GPT-3.5 Turbo"
         ],
         "textposition": "middle right",
         "type": "scatter",
         "x": [
          "Coding",
          "Coding"
         ],
         "y": [
          1.7403626894942439,
          0.9542425094393249
         ]
        },
        {
         "hovertemplate": "Cheapest models that are %{text} level or better",
         "marker": {
          "size": 10
         },
         "mode": "markers",
         "name": "LMSys Chatbot Arena ELO",
         "showlegend": false,
         "text": [
          "GPT-4",
          "GPT-4 Turbo",
          "GPT-4o-2024-05"
         ],
         "textposition": "middle right",
         "type": "scatter",
         "x": [
          "Chatbot Arena",
          "Chatbot Arena",
          "Chatbot Arena"
         ],
         "y": [
          1.845098040014257,
          2.519827993775719,
          1.8808135922807914
         ]
        }
       ],
       "layout": {
        "font": {
         "size": 14
        },
        "height": 600,
        "margin": {
         "l": 130
        },
        "template": {
         "data": {
          "bar": [
           {
            "error_x": {
             "color": "#2a3f5f"
            },
            "error_y": {
             "color": "#2a3f5f"
            },
            "marker": {
             "line": {
              "color": "white",
              "width": 0.5
             },
             "pattern": {
              "fillmode": "overlay",
              "size": 10,
              "solidity": 0.2
             }
            },
            "type": "bar"
           }
          ],
          "barpolar": [
           {
            "marker": {
             "line": {
              "color": "white",
              "width": 0.5
             },
             "pattern": {
              "fillmode": "overlay",
              "size": 10,
              "solidity": 0.2
             }
            },
            "type": "barpolar"
           }
          ],
          "carpet": [
           {
            "aaxis": {
             "endlinecolor": "#2a3f5f",
             "gridcolor": "#C8D4E3",
             "linecolor": "#C8D4E3",
             "minorgridcolor": "#C8D4E3",
             "startlinecolor": "#2a3f5f"
            },
            "baxis": {
             "endlinecolor": "#2a3f5f",
             "gridcolor": "#C8D4E3",
             "linecolor": "#C8D4E3",
             "minorgridcolor": "#C8D4E3",
             "startlinecolor": "#2a3f5f"
            },
            "type": "carpet"
           }
          ],
          "choropleth": [
           {
            "colorbar": {
             "outlinewidth": 0,
             "ticks": ""
            },
            "type": "choropleth"
           }
          ],
          "contour": [
           {
            "colorbar": {
             "outlinewidth": 0,
             "ticks": ""
            },
            "colorscale": [
             [
              0,
              "#0d0887"
             ],
             [
              0.1111111111111111,
              "#46039f"
             ],
             [
              0.2222222222222222,
              "#7201a8"
             ],
             [
              0.3333333333333333,
              "#9c179e"
             ],
             [
              0.4444444444444444,
              "#bd3786"
             ],
             [
              0.5555555555555556,
              "#d8576b"
             ],
             [
              0.6666666666666666,
              "#ed7953"
             ],
             [
              0.7777777777777778,
              "#fb9f3a"
             ],
             [
              0.8888888888888888,
              "#fdca26"
             ],
             [
              1,
              "#f0f921"
             ]
            ],
            "type": "contour"
           }
          ],
          "contourcarpet": [
           {
            "colorbar": {
             "outlinewidth": 0,
             "ticks": ""
            },
            "type": "contourcarpet"
           }
          ],
          "heatmap": [
           {
            "colorbar": {
             "outlinewidth": 0,
             "ticks": ""
            },
            "colorscale": [
             [
              0,
              "#0d0887"
             ],
             [
              0.1111111111111111,
              "#46039f"
             ],
             [
              0.2222222222222222,
              "#7201a8"
             ],
             [
              0.3333333333333333,
              "#9c179e"
             ],
             [
              0.4444444444444444,
              "#bd3786"
             ],
             [
              0.5555555555555556,
              "#d8576b"
             ],
             [
              0.6666666666666666,
              "#ed7953"
             ],
             [
              0.7777777777777778,
              "#fb9f3a"
             ],
             [
              0.8888888888888888,
              "#fdca26"
             ],
             [
              1,
              "#f0f921"
             ]
            ],
            "type": "heatmap"
           }
          ],
          "heatmapgl": [
           {
            "colorbar": {
             "outlinewidth": 0,
             "ticks": ""
            },
            "colorscale": [
             [
              0,
              "#0d0887"
             ],
             [
              0.1111111111111111,
              "#46039f"
             ],
             [
              0.2222222222222222,
              "#7201a8"
             ],
             [
              0.3333333333333333,
              "#9c179e"
             ],
             [
              0.4444444444444444,
              "#bd3786"
             ],
             [
              0.5555555555555556,
              "#d8576b"
             ],
             [
              0.6666666666666666,
              "#ed7953"
             ],
             [
              0.7777777777777778,
              "#fb9f3a"
             ],
             [
              0.8888888888888888,
              "#fdca26"
             ],
             [
              1,
              "#f0f921"
             ]
            ],
            "type": "heatmapgl"
           }
          ],
          "histogram": [
           {
            "marker": {
             "pattern": {
              "fillmode": "overlay",
              "size": 10,
              "solidity": 0.2
             }
            },
            "type": "histogram"
           }
          ],
          "histogram2d": [
           {
            "colorbar": {
             "outlinewidth": 0,
             "ticks": ""
            },
            "colorscale": [
             [
              0,
              "#0d0887"
             ],
             [
              0.1111111111111111,
              "#46039f"
             ],
             [
              0.2222222222222222,
              "#7201a8"
             ],
             [
              0.3333333333333333,
              "#9c179e"
             ],
             [
              0.4444444444444444,
              "#bd3786"
             ],
             [
              0.5555555555555556,
              "#d8576b"
             ],
             [
              0.6666666666666666,
              "#ed7953"
             ],
             [
              0.7777777777777778,
              "#fb9f3a"
             ],
             [
              0.8888888888888888,
              "#fdca26"
             ],
             [
              1,
              "#f0f921"
             ]
            ],
            "type": "histogram2d"
           }
          ],
          "histogram2dcontour": [
           {
            "colorbar": {
             "outlinewidth": 0,
             "ticks": ""
            },
            "colorscale": [
             [
              0,
              "#0d0887"
             ],
             [
              0.1111111111111111,
              "#46039f"
             ],
             [
              0.2222222222222222,
              "#7201a8"
             ],
             [
              0.3333333333333333,
              "#9c179e"
             ],
             [
              0.4444444444444444,
              "#bd3786"
             ],
             [
              0.5555555555555556,
              "#d8576b"
             ],
             [
              0.6666666666666666,
              "#ed7953"
             ],
             [
              0.7777777777777778,
              "#fb9f3a"
             ],
             [
              0.8888888888888888,
              "#fdca26"
             ],
             [
              1,
              "#f0f921"
             ]
            ],
            "type": "histogram2dcontour"
           }
          ],
          "mesh3d": [
           {
            "colorbar": {
             "outlinewidth": 0,
             "ticks": ""
            },
            "type": "mesh3d"
           }
          ],
          "parcoords": [
           {
            "line": {
             "colorbar": {
              "outlinewidth": 0,
              "ticks": ""
             }
            },
            "type": "parcoords"
           }
          ],
          "pie": [
           {
            "automargin": true,
            "type": "pie"
           }
          ],
          "scatter": [
           {
            "fillpattern": {
             "fillmode": "overlay",
             "size": 10,
             "solidity": 0.2
            },
            "type": "scatter"
           }
          ],
          "scatter3d": [
           {
            "line": {
             "colorbar": {
              "outlinewidth": 0,
              "ticks": ""
             }
            },
            "marker": {
             "colorbar": {
              "outlinewidth": 0,
              "ticks": ""
             }
            },
            "type": "scatter3d"
           }
          ],
          "scattercarpet": [
           {
            "marker": {
             "colorbar": {
              "outlinewidth": 0,
              "ticks": ""
             }
            },
            "type": "scattercarpet"
           }
          ],
          "scattergeo": [
           {
            "marker": {
             "colorbar": {
              "outlinewidth": 0,
              "ticks": ""
             }
            },
            "type": "scattergeo"
           }
          ],
          "scattergl": [
           {
            "marker": {
             "colorbar": {
              "outlinewidth": 0,
              "ticks": ""
             }
            },
            "type": "scattergl"
           }
          ],
          "scattermapbox": [
           {
            "marker": {
             "colorbar": {
              "outlinewidth": 0,
              "ticks": ""
             }
            },
            "type": "scattermapbox"
           }
          ],
          "scatterpolar": [
           {
            "marker": {
             "colorbar": {
              "outlinewidth": 0,
              "ticks": ""
             }
            },
            "type": "scatterpolar"
           }
          ],
          "scatterpolargl": [
           {
            "marker": {
             "colorbar": {
              "outlinewidth": 0,
              "ticks": ""
             }
            },
            "type": "scatterpolargl"
           }
          ],
          "scatterternary": [
           {
            "marker": {
             "colorbar": {
              "outlinewidth": 0,
              "ticks": ""
             }
            },
            "type": "scatterternary"
           }
          ],
          "surface": [
           {
            "colorbar": {
             "outlinewidth": 0,
             "ticks": ""
            },
            "colorscale": [
             [
              0,
              "#0d0887"
             ],
             [
              0.1111111111111111,
              "#46039f"
             ],
             [
              0.2222222222222222,
              "#7201a8"
             ],
             [
              0.3333333333333333,
              "#9c179e"
             ],
             [
              0.4444444444444444,
              "#bd3786"
             ],
             [
              0.5555555555555556,
              "#d8576b"
             ],
             [
              0.6666666666666666,
              "#ed7953"
             ],
             [
              0.7777777777777778,
              "#fb9f3a"
             ],
             [
              0.8888888888888888,
              "#fdca26"
             ],
             [
              1,
              "#f0f921"
             ]
            ],
            "type": "surface"
           }
          ],
          "table": [
           {
            "cells": {
             "fill": {
              "color": "#EBF0F8"
             },
             "line": {
              "color": "white"
             }
            },
            "header": {
             "fill": {
              "color": "#C8D4E3"
             },
             "line": {
              "color": "white"
             }
            },
            "type": "table"
           }
          ]
         },
         "layout": {
          "annotationdefaults": {
           "arrowcolor": "#2a3f5f",
           "arrowhead": 0,
           "arrowwidth": 1
          },
          "autotypenumbers": "strict",
          "coloraxis": {
           "colorbar": {
            "outlinewidth": 0,
            "ticks": ""
           }
          },
          "colorscale": {
           "diverging": [
            [
             0,
             "#8e0152"
            ],
            [
             0.1,
             "#c51b7d"
            ],
            [
             0.2,
             "#de77ae"
            ],
            [
             0.3,
             "#f1b6da"
            ],
            [
             0.4,
             "#fde0ef"
            ],
            [
             0.5,
             "#f7f7f7"
            ],
            [
             0.6,
             "#e6f5d0"
            ],
            [
             0.7,
             "#b8e186"
            ],
            [
             0.8,
             "#7fbc41"
            ],
            [
             0.9,
             "#4d9221"
            ],
            [
             1,
             "#276419"
            ]
           ],
           "sequential": [
            [
             0,
             "#0d0887"
            ],
            [
             0.1111111111111111,
             "#46039f"
            ],
            [
             0.2222222222222222,
             "#7201a8"
            ],
            [
             0.3333333333333333,
             "#9c179e"
            ],
            [
             0.4444444444444444,
             "#bd3786"
            ],
            [
             0.5555555555555556,
             "#d8576b"
            ],
            [
             0.6666666666666666,
             "#ed7953"
            ],
            [
             0.7777777777777778,
             "#fb9f3a"
            ],
            [
             0.8888888888888888,
             "#fdca26"
            ],
            [
             1,
             "#f0f921"
            ]
           ],
           "sequentialminus": [
            [
             0,
             "#0d0887"
            ],
            [
             0.1111111111111111,
             "#46039f"
            ],
            [
             0.2222222222222222,
             "#7201a8"
            ],
            [
             0.3333333333333333,
             "#9c179e"
            ],
            [
             0.4444444444444444,
             "#bd3786"
            ],
            [
             0.5555555555555556,
             "#d8576b"
            ],
            [
             0.6666666666666666,
             "#ed7953"
            ],
            [
             0.7777777777777778,
             "#fb9f3a"
            ],
            [
             0.8888888888888888,
             "#fdca26"
            ],
            [
             1,
             "#f0f921"
            ]
           ]
          },
          "colorway": [
           "#636efa",
           "#EF553B",
           "#00cc96",
           "#ab63fa",
           "#FFA15A",
           "#19d3f3",
           "#FF6692",
           "#B6E880",
           "#FF97FF",
           "#FECB52"
          ],
          "font": {
           "color": "#2a3f5f"
          },
          "geo": {
           "bgcolor": "white",
           "lakecolor": "white",
           "landcolor": "white",
           "showlakes": true,
           "showland": true,
           "subunitcolor": "#C8D4E3"
          },
          "hoverlabel": {
           "align": "left"
          },
          "hovermode": "closest",
          "mapbox": {
           "style": "light"
          },
          "paper_bgcolor": "white",
          "plot_bgcolor": "white",
          "polar": {
           "angularaxis": {
            "gridcolor": "#EBF0F8",
            "linecolor": "#EBF0F8",
            "ticks": ""
           },
           "bgcolor": "white",
           "radialaxis": {
            "gridcolor": "#EBF0F8",
            "linecolor": "#EBF0F8",
            "ticks": ""
           }
          },
          "scene": {
           "xaxis": {
            "backgroundcolor": "white",
            "gridcolor": "#DFE8F3",
            "gridwidth": 2,
            "linecolor": "#EBF0F8",
            "showbackground": true,
            "ticks": "",
            "zerolinecolor": "#EBF0F8"
           },
           "yaxis": {
            "backgroundcolor": "white",
            "gridcolor": "#DFE8F3",
            "gridwidth": 2,
            "linecolor": "#EBF0F8",
            "showbackground": true,
            "ticks": "",
            "zerolinecolor": "#EBF0F8"
           },
           "zaxis": {
            "backgroundcolor": "white",
            "gridcolor": "#DFE8F3",
            "gridwidth": 2,
            "linecolor": "#EBF0F8",
            "showbackground": true,
            "ticks": "",
            "zerolinecolor": "#EBF0F8"
           }
          },
          "shapedefaults": {
           "line": {
            "color": "#2a3f5f"
           }
          },
          "ternary": {
           "aaxis": {
            "gridcolor": "#DFE8F3",
            "linecolor": "#A2B1C6",
            "ticks": ""
           },
           "baxis": {
            "gridcolor": "#DFE8F3",
            "linecolor": "#A2B1C6",
            "ticks": ""
           },
           "bgcolor": "white",
           "caxis": {
            "gridcolor": "#DFE8F3",
            "linecolor": "#A2B1C6",
            "ticks": ""
           }
          },
          "title": {
           "x": 0.05
          },
          "xaxis": {
           "automargin": true,
           "gridcolor": "#EBF0F8",
           "linecolor": "#EBF0F8",
           "ticks": "",
           "title": {
            "standoff": 15
           },
           "zerolinecolor": "#EBF0F8",
           "zerolinewidth": 2
          },
          "yaxis": {
           "automargin": true,
           "gridcolor": "#EBF0F8",
           "linecolor": "#EBF0F8",
           "ticks": "",
           "title": {
            "standoff": 15
           },
           "zerolinecolor": "#EBF0F8",
           "zerolinewidth": 2
          }
         }
        },
        "title": {
         "text": "The lowest-priced LLMs above a capability threshold have become much cheaper to use"
        },
        "width": 1000,
        "xaxis": {
         "range": [
          -0.5,
          7
         ]
        },
        "yaxis": {
         "tickmode": "array",
         "ticktext": [
          "1x",
          "10x",
          "100x",
          "1,000x",
          "10,000x",
          "100,000x"
         ],
         "tickvals": [
          0,
          1,
          2,
          3,
          4,
          5
         ],
         "title": {
          "text": "Annualized rate of decrease in price per token"
         },
         "zeroline": false
        }
       }
      }
     },
     "metadata": {},
     "output_type": "display_data"
    }
   ],
   "source": [
    "# Create figure\n",
    "fig = go.Figure()\n",
    "\n",
    "bench_aliases = {\n",
    "    'MMLU': 'General knowledge',\n",
    "    'GPQA Diamond': 'Scientific reasoning', \n",
    "    'HumanEval': 'Coding',\n",
    "    'MATH 5': 'Math (harder)',\n",
    "    'MATH-500': 'Math (easier)',\n",
    "    'LMSys Chatbot Arena ELO': 'Chatbot Arena',\n",
    "}\n",
    "\n",
    "# Add violin plot\n",
    "fig.add_trace(go.Violin(\n",
    "    y=np.log10(all_price_factors),\n",
    "    x0='All benchmarks',\n",
    "    box_visible=True,\n",
    "    name='Distribution',\n",
    "    showlegend=False,\n",
    "))\n",
    "\n",
    "# Add points for each benchmark as scatter traces\n",
    "for bench in benchmarks:\n",
    "    # if bench == 'MATH-500':\n",
    "    #     continue\n",
    "\n",
    "    bench_results = cheapest_model_results_df[cheapest_model_results_df['bench'] == bench]\n",
    "    price_factors = bench_results['price_reduction_factor_per_year'].dropna()\n",
    "    bench_factors = np.log10(price_factors)\n",
    "    bench_ranges = bench_results['threshold_model']\n",
    "    \n",
    "    fig.add_trace(go.Scatter(\n",
    "        y=bench_factors,\n",
    "        x=[bench_aliases[bench]] * len(bench_factors),\n",
    "        mode='markers',\n",
    "        name=bench,\n",
    "        text=bench_ranges,\n",
    "        textposition='middle right',\n",
    "        marker=dict(size=10),\n",
    "        hovertemplate='Cheapest models that are %{text} level or better',\n",
    "        showlegend=False,\n",
    "    ))\n",
    "\n",
    "# Update layout\n",
    "fig.update_layout(yaxis_zeroline=False)\n",
    "fig.update_layout(yaxis_title='Annualized rate of decrease in price per token')\n",
    "# Change y-axis labels to be powers of 10\n",
    "tvs = list(range(0, 6))\n",
    "fig.update_layout(yaxis=dict(tickmode='array', tickvals=tvs, ticktext=[f'{10**tickval:,.0f}x' for tickval in tvs]))\n",
    "fig.update_layout(\n",
    "    title='The lowest-priced LLMs above a capability threshold have become much cheaper to use',\n",
    "    width=1000,\n",
    "    height=600,\n",
    "    font=dict(size=14),\n",
    "    # add some left margin\n",
    "    margin=dict(l=130),\n",
    "    # Increase spacing between x values by expanding the range\n",
    "    xaxis=dict(range=[-0.5, len(benchmarks) + 1.0])\n",
    ")\n",
    "if save:\n",
    "    save_plot(fig, results_subdir, 'aa_cheapest_models_all_violin', extensions=['png'])\n",
    "fig.show()"
   ]
  }
 ],
 "metadata": {
  "kernelspec": {
   "display_name": "llm-efficiency",
   "language": "python",
   "name": "python3"
  },
  "language_info": {
   "codemirror_mode": {
    "name": "ipython",
    "version": 3
   },
   "file_extension": ".py",
   "mimetype": "text/x-python",
   "name": "python",
   "nbconvert_exporter": "python",
   "pygments_lexer": "ipython3",
   "version": "3.12.7"
  }
 },
 "nbformat": 4,
 "nbformat_minor": 2
}
