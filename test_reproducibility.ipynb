{
 "cells": [
  {
   "cell_type": "code",
   "execution_count": 1,
   "metadata": {},
   "outputs": [],
   "source": [
    "import pandas as pd\n",
    "import plotly.graph_objects as go"
   ]
  },
  {
   "cell_type": "code",
   "execution_count": 2,
   "metadata": {},
   "outputs": [],
   "source": [
    "def save_plot(fig, folder, filename, extensions=['png', 'svg', 'pdf', 'html'], scale=2):\n",
    "    if 'png' in extensions:\n",
    "        fig.write_image(folder + filename + '.png', scale=scale)\n",
    "    if 'svg' in extensions:\n",
    "        fig.write_image(folder + filename + '.svg', scale=scale)\n",
    "    if 'pdf' in extensions:\n",
    "        fig.write_image(folder + filename + '.pdf', scale=scale)\n",
    "    if 'html' in extensions:\n",
    "        fig.write_html(folder + filename + '.html')"
   ]
  },
  {
   "cell_type": "code",
   "execution_count": 3,
   "metadata": {},
   "outputs": [],
   "source": [
    "all_cheapest_models_df = pd.read_csv('results/2025-02-28/lowest_price_models_above_previous_frontier/lowest_price_models_data.csv')\n",
    "all_other_models_df = pd.read_csv('results/2025-02-28/lowest_price_models_above_previous_frontier/other_models_data.csv')\n",
    "results_df = pd.read_csv('results/2025-02-28/lowest_price_models_above_previous_frontier/lowest_price_models_results.csv')"
   ]
  },
  {
   "cell_type": "code",
   "execution_count": 4,
   "metadata": {},
   "outputs": [
    {
     "data": {
      "application/vnd.plotly.v1+json": {
       "config": {
        "plotlyServerURL": "https://plot.ly"
       },
       "data": [
        {
         "marker": {
          "color": "blue"
         },
         "mode": "markers+text",
         "name": "Lowest-price models that are GPT-4 or better on GPQA Diamond",
         "text": [
          "GPT-4",
          "GPT-4 Turbo",
          "Mistral-Large-2024-02",
          "Claude-3-Haiku",
          "Gemini-1.5-Flash-2024-05",
          "Phi 4"
         ],
         "textposition": "bottom left",
         "type": "scatter",
         "x": [
          "2023-03-01",
          "2023-11-01",
          "2024-02-01",
          "2024-03-01",
          "2024-05-01",
          "2025-01-01"
         ],
         "y": [
          37.5,
          15,
          6,
          0.5,
          0.13,
          0.1225
         ],
         "zorder": 3
        },
        {
         "line": {
          "color": "blue",
          "dash": "dash"
         },
         "mode": "lines",
         "name": "Trendline: 36x decrease per year",
         "textposition": "bottom left",
         "type": "scatter",
         "x": [
          "2023-03-01",
          "2023-11-01",
          "2024-02-01",
          "2024-03-01",
          "2024-05-01",
          "2025-01-01"
         ],
         "y": [
          49.631624863290355,
          4.457233476139075,
          1.8031067547083095,
          1.3555862462159929,
          0.7439126272755613,
          0.0668080538315742
         ],
         "zorder": 2
        },
        {
         "marker": {
          "color": "lightgrey"
         },
         "mode": "markers",
         "name": "Other models that are GPT-4 or better on GPQA Diamond",
         "text": [
          "Claude-3-Sonnet",
          "Claude-3-Opus",
          "Llama-3-Instruct-70B",
          "Mistral-8x22",
          "GPT-4o-2024-05",
          "Gemini-1.5-Pro-2024-05",
          "Mistral-Large-2-2024-06",
          "Mistral-NeMo",
          "Claude-3.5-Haiku",
          "Claude-3.5-Sonnet-2024-06",
          "Gemma-2-27B",
          "Llama-3.1-Instruct-405B",
          "GPT-4o-mini",
          "Llama-3.1-Instruct-70B",
          "GPT-4o-2024-08",
          "Claude 2",
          "Claude 2.1",
          "Gemini 1.0 Pro",
          "Gemini-1.5-Pro-2024-09",
          "Gemini-1.5-Flash-2024-09",
          "o1-preview",
          "o1-mini",
          "Claude-3.5-Sonnet-2024-10",
          "GPT-4o-2024-11",
          "Mistral-Large-2-2024-11",
          "o1",
          "DeepSeek-V3",
          "Mistral Small 3",
          "DeepSeek-R1",
          "o3-mini",
          "o1-mini",
          "Gemini 2.0 Flash"
         ],
         "textposition": "bottom left",
         "type": "scatter",
         "x": [
          "2024-03-01",
          "2024-03-01",
          "2024-04-01",
          "2024-04-01",
          "2024-05-01",
          "2024-05-01",
          "2024-06-01",
          "2024-06-01",
          "2024-06-01",
          "2024-06-01",
          "2024-06-01",
          "2024-07-01",
          "2024-07-01",
          "2024-07-01",
          "2024-08-01",
          "2024-08-12",
          "2024-08-12",
          "2024-08-12",
          "2024-09-01",
          "2024-09-01",
          "2024-09-12",
          "2024-09-12",
          "2024-10-01",
          "2024-11-01",
          "2024-11-01",
          "2024-12-17",
          "2024-12-26",
          "2025-01-01",
          "2025-01-20",
          "2025-01-31",
          "2025-01-31",
          "2025-02-01"
         ],
         "y": [
          6,
          30,
          0.89,
          1.2,
          7.5,
          2.19,
          3,
          0.13,
          1.6,
          6,
          0.26,
          3.5,
          0.26,
          0.72,
          4.38,
          12,
          12,
          0.75,
          2.19,
          0.13,
          26.25,
          5.25,
          6,
          4.38,
          3,
          26.25,
          0.4775,
          0.475,
          0.96,
          1.925,
          1.925,
          0.175
         ],
         "zorder": 1
        }
       ],
       "layout": {
        "height": 600,
        "legend": {
         "bordercolor": "lightgrey",
         "borderwidth": 1,
         "x": 0.99,
         "xanchor": "right",
         "y": 0.99,
         "yanchor": "top"
        },
        "template": {
         "data": {
          "bar": [
           {
            "error_x": {
             "color": "#2a3f5f"
            },
            "error_y": {
             "color": "#2a3f5f"
            },
            "marker": {
             "line": {
              "color": "white",
              "width": 0.5
             },
             "pattern": {
              "fillmode": "overlay",
              "size": 10,
              "solidity": 0.2
             }
            },
            "type": "bar"
           }
          ],
          "barpolar": [
           {
            "marker": {
             "line": {
              "color": "white",
              "width": 0.5
             },
             "pattern": {
              "fillmode": "overlay",
              "size": 10,
              "solidity": 0.2
             }
            },
            "type": "barpolar"
           }
          ],
          "carpet": [
           {
            "aaxis": {
             "endlinecolor": "#2a3f5f",
             "gridcolor": "#C8D4E3",
             "linecolor": "#C8D4E3",
             "minorgridcolor": "#C8D4E3",
             "startlinecolor": "#2a3f5f"
            },
            "baxis": {
             "endlinecolor": "#2a3f5f",
             "gridcolor": "#C8D4E3",
             "linecolor": "#C8D4E3",
             "minorgridcolor": "#C8D4E3",
             "startlinecolor": "#2a3f5f"
            },
            "type": "carpet"
           }
          ],
          "choropleth": [
           {
            "colorbar": {
             "outlinewidth": 0,
             "ticks": ""
            },
            "type": "choropleth"
           }
          ],
          "contour": [
           {
            "colorbar": {
             "outlinewidth": 0,
             "ticks": ""
            },
            "colorscale": [
             [
              0,
              "#0d0887"
             ],
             [
              0.1111111111111111,
              "#46039f"
             ],
             [
              0.2222222222222222,
              "#7201a8"
             ],
             [
              0.3333333333333333,
              "#9c179e"
             ],
             [
              0.4444444444444444,
              "#bd3786"
             ],
             [
              0.5555555555555556,
              "#d8576b"
             ],
             [
              0.6666666666666666,
              "#ed7953"
             ],
             [
              0.7777777777777778,
              "#fb9f3a"
             ],
             [
              0.8888888888888888,
              "#fdca26"
             ],
             [
              1,
              "#f0f921"
             ]
            ],
            "type": "contour"
           }
          ],
          "contourcarpet": [
           {
            "colorbar": {
             "outlinewidth": 0,
             "ticks": ""
            },
            "type": "contourcarpet"
           }
          ],
          "heatmap": [
           {
            "colorbar": {
             "outlinewidth": 0,
             "ticks": ""
            },
            "colorscale": [
             [
              0,
              "#0d0887"
             ],
             [
              0.1111111111111111,
              "#46039f"
             ],
             [
              0.2222222222222222,
              "#7201a8"
             ],
             [
              0.3333333333333333,
              "#9c179e"
             ],
             [
              0.4444444444444444,
              "#bd3786"
             ],
             [
              0.5555555555555556,
              "#d8576b"
             ],
             [
              0.6666666666666666,
              "#ed7953"
             ],
             [
              0.7777777777777778,
              "#fb9f3a"
             ],
             [
              0.8888888888888888,
              "#fdca26"
             ],
             [
              1,
              "#f0f921"
             ]
            ],
            "type": "heatmap"
           }
          ],
          "heatmapgl": [
           {
            "colorbar": {
             "outlinewidth": 0,
             "ticks": ""
            },
            "colorscale": [
             [
              0,
              "#0d0887"
             ],
             [
              0.1111111111111111,
              "#46039f"
             ],
             [
              0.2222222222222222,
              "#7201a8"
             ],
             [
              0.3333333333333333,
              "#9c179e"
             ],
             [
              0.4444444444444444,
              "#bd3786"
             ],
             [
              0.5555555555555556,
              "#d8576b"
             ],
             [
              0.6666666666666666,
              "#ed7953"
             ],
             [
              0.7777777777777778,
              "#fb9f3a"
             ],
             [
              0.8888888888888888,
              "#fdca26"
             ],
             [
              1,
              "#f0f921"
             ]
            ],
            "type": "heatmapgl"
           }
          ],
          "histogram": [
           {
            "marker": {
             "pattern": {
              "fillmode": "overlay",
              "size": 10,
              "solidity": 0.2
             }
            },
            "type": "histogram"
           }
          ],
          "histogram2d": [
           {
            "colorbar": {
             "outlinewidth": 0,
             "ticks": ""
            },
            "colorscale": [
             [
              0,
              "#0d0887"
             ],
             [
              0.1111111111111111,
              "#46039f"
             ],
             [
              0.2222222222222222,
              "#7201a8"
             ],
             [
              0.3333333333333333,
              "#9c179e"
             ],
             [
              0.4444444444444444,
              "#bd3786"
             ],
             [
              0.5555555555555556,
              "#d8576b"
             ],
             [
              0.6666666666666666,
              "#ed7953"
             ],
             [
              0.7777777777777778,
              "#fb9f3a"
             ],
             [
              0.8888888888888888,
              "#fdca26"
             ],
             [
              1,
              "#f0f921"
             ]
            ],
            "type": "histogram2d"
           }
          ],
          "histogram2dcontour": [
           {
            "colorbar": {
             "outlinewidth": 0,
             "ticks": ""
            },
            "colorscale": [
             [
              0,
              "#0d0887"
             ],
             [
              0.1111111111111111,
              "#46039f"
             ],
             [
              0.2222222222222222,
              "#7201a8"
             ],
             [
              0.3333333333333333,
              "#9c179e"
             ],
             [
              0.4444444444444444,
              "#bd3786"
             ],
             [
              0.5555555555555556,
              "#d8576b"
             ],
             [
              0.6666666666666666,
              "#ed7953"
             ],
             [
              0.7777777777777778,
              "#fb9f3a"
             ],
             [
              0.8888888888888888,
              "#fdca26"
             ],
             [
              1,
              "#f0f921"
             ]
            ],
            "type": "histogram2dcontour"
           }
          ],
          "mesh3d": [
           {
            "colorbar": {
             "outlinewidth": 0,
             "ticks": ""
            },
            "type": "mesh3d"
           }
          ],
          "parcoords": [
           {
            "line": {
             "colorbar": {
              "outlinewidth": 0,
              "ticks": ""
             }
            },
            "type": "parcoords"
           }
          ],
          "pie": [
           {
            "automargin": true,
            "type": "pie"
           }
          ],
          "scatter": [
           {
            "fillpattern": {
             "fillmode": "overlay",
             "size": 10,
             "solidity": 0.2
            },
            "type": "scatter"
           }
          ],
          "scatter3d": [
           {
            "line": {
             "colorbar": {
              "outlinewidth": 0,
              "ticks": ""
             }
            },
            "marker": {
             "colorbar": {
              "outlinewidth": 0,
              "ticks": ""
             }
            },
            "type": "scatter3d"
           }
          ],
          "scattercarpet": [
           {
            "marker": {
             "colorbar": {
              "outlinewidth": 0,
              "ticks": ""
             }
            },
            "type": "scattercarpet"
           }
          ],
          "scattergeo": [
           {
            "marker": {
             "colorbar": {
              "outlinewidth": 0,
              "ticks": ""
             }
            },
            "type": "scattergeo"
           }
          ],
          "scattergl": [
           {
            "marker": {
             "colorbar": {
              "outlinewidth": 0,
              "ticks": ""
             }
            },
            "type": "scattergl"
           }
          ],
          "scattermapbox": [
           {
            "marker": {
             "colorbar": {
              "outlinewidth": 0,
              "ticks": ""
             }
            },
            "type": "scattermapbox"
           }
          ],
          "scatterpolar": [
           {
            "marker": {
             "colorbar": {
              "outlinewidth": 0,
              "ticks": ""
             }
            },
            "type": "scatterpolar"
           }
          ],
          "scatterpolargl": [
           {
            "marker": {
             "colorbar": {
              "outlinewidth": 0,
              "ticks": ""
             }
            },
            "type": "scatterpolargl"
           }
          ],
          "scatterternary": [
           {
            "marker": {
             "colorbar": {
              "outlinewidth": 0,
              "ticks": ""
             }
            },
            "type": "scatterternary"
           }
          ],
          "surface": [
           {
            "colorbar": {
             "outlinewidth": 0,
             "ticks": ""
            },
            "colorscale": [
             [
              0,
              "#0d0887"
             ],
             [
              0.1111111111111111,
              "#46039f"
             ],
             [
              0.2222222222222222,
              "#7201a8"
             ],
             [
              0.3333333333333333,
              "#9c179e"
             ],
             [
              0.4444444444444444,
              "#bd3786"
             ],
             [
              0.5555555555555556,
              "#d8576b"
             ],
             [
              0.6666666666666666,
              "#ed7953"
             ],
             [
              0.7777777777777778,
              "#fb9f3a"
             ],
             [
              0.8888888888888888,
              "#fdca26"
             ],
             [
              1,
              "#f0f921"
             ]
            ],
            "type": "surface"
           }
          ],
          "table": [
           {
            "cells": {
             "fill": {
              "color": "#EBF0F8"
             },
             "line": {
              "color": "white"
             }
            },
            "header": {
             "fill": {
              "color": "#C8D4E3"
             },
             "line": {
              "color": "white"
             }
            },
            "type": "table"
           }
          ]
         },
         "layout": {
          "annotationdefaults": {
           "arrowcolor": "#2a3f5f",
           "arrowhead": 0,
           "arrowwidth": 1
          },
          "autotypenumbers": "strict",
          "coloraxis": {
           "colorbar": {
            "outlinewidth": 0,
            "ticks": ""
           }
          },
          "colorscale": {
           "diverging": [
            [
             0,
             "#8e0152"
            ],
            [
             0.1,
             "#c51b7d"
            ],
            [
             0.2,
             "#de77ae"
            ],
            [
             0.3,
             "#f1b6da"
            ],
            [
             0.4,
             "#fde0ef"
            ],
            [
             0.5,
             "#f7f7f7"
            ],
            [
             0.6,
             "#e6f5d0"
            ],
            [
             0.7,
             "#b8e186"
            ],
            [
             0.8,
             "#7fbc41"
            ],
            [
             0.9,
             "#4d9221"
            ],
            [
             1,
             "#276419"
            ]
           ],
           "sequential": [
            [
             0,
             "#0d0887"
            ],
            [
             0.1111111111111111,
             "#46039f"
            ],
            [
             0.2222222222222222,
             "#7201a8"
            ],
            [
             0.3333333333333333,
             "#9c179e"
            ],
            [
             0.4444444444444444,
             "#bd3786"
            ],
            [
             0.5555555555555556,
             "#d8576b"
            ],
            [
             0.6666666666666666,
             "#ed7953"
            ],
            [
             0.7777777777777778,
             "#fb9f3a"
            ],
            [
             0.8888888888888888,
             "#fdca26"
            ],
            [
             1,
             "#f0f921"
            ]
           ],
           "sequentialminus": [
            [
             0,
             "#0d0887"
            ],
            [
             0.1111111111111111,
             "#46039f"
            ],
            [
             0.2222222222222222,
             "#7201a8"
            ],
            [
             0.3333333333333333,
             "#9c179e"
            ],
            [
             0.4444444444444444,
             "#bd3786"
            ],
            [
             0.5555555555555556,
             "#d8576b"
            ],
            [
             0.6666666666666666,
             "#ed7953"
            ],
            [
             0.7777777777777778,
             "#fb9f3a"
            ],
            [
             0.8888888888888888,
             "#fdca26"
            ],
            [
             1,
             "#f0f921"
            ]
           ]
          },
          "colorway": [
           "#636efa",
           "#EF553B",
           "#00cc96",
           "#ab63fa",
           "#FFA15A",
           "#19d3f3",
           "#FF6692",
           "#B6E880",
           "#FF97FF",
           "#FECB52"
          ],
          "font": {
           "color": "#2a3f5f"
          },
          "geo": {
           "bgcolor": "white",
           "lakecolor": "white",
           "landcolor": "white",
           "showlakes": true,
           "showland": true,
           "subunitcolor": "#C8D4E3"
          },
          "hoverlabel": {
           "align": "left"
          },
          "hovermode": "closest",
          "mapbox": {
           "style": "light"
          },
          "paper_bgcolor": "white",
          "plot_bgcolor": "white",
          "polar": {
           "angularaxis": {
            "gridcolor": "#EBF0F8",
            "linecolor": "#EBF0F8",
            "ticks": ""
           },
           "bgcolor": "white",
           "radialaxis": {
            "gridcolor": "#EBF0F8",
            "linecolor": "#EBF0F8",
            "ticks": ""
           }
          },
          "scene": {
           "xaxis": {
            "backgroundcolor": "white",
            "gridcolor": "#DFE8F3",
            "gridwidth": 2,
            "linecolor": "#EBF0F8",
            "showbackground": true,
            "ticks": "",
            "zerolinecolor": "#EBF0F8"
           },
           "yaxis": {
            "backgroundcolor": "white",
            "gridcolor": "#DFE8F3",
            "gridwidth": 2,
            "linecolor": "#EBF0F8",
            "showbackground": true,
            "ticks": "",
            "zerolinecolor": "#EBF0F8"
           },
           "zaxis": {
            "backgroundcolor": "white",
            "gridcolor": "#DFE8F3",
            "gridwidth": 2,
            "linecolor": "#EBF0F8",
            "showbackground": true,
            "ticks": "",
            "zerolinecolor": "#EBF0F8"
           }
          },
          "shapedefaults": {
           "line": {
            "color": "#2a3f5f"
           }
          },
          "ternary": {
           "aaxis": {
            "gridcolor": "#DFE8F3",
            "linecolor": "#A2B1C6",
            "ticks": ""
           },
           "baxis": {
            "gridcolor": "#DFE8F3",
            "linecolor": "#A2B1C6",
            "ticks": ""
           },
           "bgcolor": "white",
           "caxis": {
            "gridcolor": "#DFE8F3",
            "linecolor": "#A2B1C6",
            "ticks": ""
           }
          },
          "title": {
           "x": 0.05
          },
          "xaxis": {
           "automargin": true,
           "gridcolor": "#EBF0F8",
           "linecolor": "#EBF0F8",
           "ticks": "",
           "title": {
            "standoff": 15
           },
           "zerolinecolor": "#EBF0F8",
           "zerolinewidth": 2
          },
          "yaxis": {
           "automargin": true,
           "gridcolor": "#EBF0F8",
           "linecolor": "#EBF0F8",
           "ticks": "",
           "title": {
            "standoff": 15
           },
           "zerolinecolor": "#EBF0F8",
           "zerolinewidth": 2
          }
         }
        },
        "title": {
         "text": "Price per token to answer GPQA Diamond questions as well as GPT-4 has fallen by 36x per year"
        },
        "width": 1000,
        "xaxis": {
         "title": {
          "text": "Month"
         }
        },
        "yaxis": {
         "title": {
          "text": "Usage price in USD per million tokens"
         },
         "type": "log"
        }
       }
      }
     },
     "metadata": {},
     "output_type": "display_data"
    }
   ],
   "source": [
    "bench = 'GPQA Diamond'\n",
    "threshold_model = 'GPT-4'\n",
    "cheapest_models_df = all_cheapest_models_df[\n",
    "    (all_cheapest_models_df['bench'] == bench) &\n",
    "    (all_cheapest_models_df['threshold_model'] == threshold_model)\n",
    "]\n",
    "other_models_df = all_other_models_df[\n",
    "    (all_other_models_df['bench'] == bench) &\n",
    "    (all_other_models_df['threshold_model'] == threshold_model)\n",
    "]\n",
    "result = results_df[\n",
    "    (results_df['bench'] == bench) &\n",
    "    (results_df['threshold_model'] == threshold_model)\n",
    "]\n",
    "annual_factor = result['price_reduction_factor_per_year'].iloc[0]\n",
    "predicted_log_prices = cheapest_models_df['predicted_log_price']\n",
    "performance_range = eval(cheapest_models_df['performance_range'].iloc[0])\n",
    "performance_lower_bound = performance_range[0]\n",
    "performance_upper_bound = performance_range[1]\n",
    "\n",
    "fig = go.Figure()\n",
    "\n",
    "\n",
    "fig.add_trace(go.Scatter(\n",
    "    x=cheapest_models_df['Release Date'],\n",
    "    y=cheapest_models_df['USD per 1M Tokens'],\n",
    "    mode='markers+text',\n",
    "    name=f'Lowest-price models that are {threshold_model} or better on {bench}',\n",
    "    text=cheapest_models_df['Model Name'],\n",
    "    textposition='bottom left',\n",
    "    marker=dict(color='blue'),\n",
    "    zorder=3,\n",
    "))\n",
    "fig.add_trace(go.Scatter(\n",
    "    x=cheapest_models_df['Release Date'],\n",
    "    y=predicted_log_prices,\n",
    "    mode='lines',\n",
    "    name=f'Trendline: {annual_factor}x decrease per year',\n",
    "    line=dict(color='blue', dash='dash'),\n",
    "    zorder=2,\n",
    "))\n",
    "fig.add_trace(go.Scatter(\n",
    "    x=other_models_df['Release Date'],\n",
    "    y=other_models_df['USD per 1M Tokens'],\n",
    "    mode='markers',\n",
    "    name=f'Other models that are {threshold_model} or better on {bench}',\n",
    "    text=other_models_df['Model Name'],\n",
    "    textposition='bottom left',\n",
    "    marker=dict(color='lightgrey'),\n",
    "    zorder=1,\n",
    "))\n",
    "fig.update_layout(\n",
    "    title=f'Price per token to answer {bench} questions as well as {threshold_model} has fallen by {annual_factor}x per year'\n",
    ")\n",
    "fig.update_traces(textposition='bottom left')\n",
    "fig.update_layout(yaxis_type='log')\n",
    "fig.update_layout(xaxis_title='Month')\n",
    "fig.update_layout(yaxis_title='Usage price in USD per million tokens')\n",
    "fig.update_layout(\n",
    "    width=1000,\n",
    "    height=600,\n",
    "    legend=dict(\n",
    "        yanchor=\"top\",\n",
    "        y=0.99,\n",
    "        xanchor=\"right\",\n",
    "        x=0.99,\n",
    "        bordercolor=\"lightgrey\",\n",
    "        borderwidth=1\n",
    "    ),\n",
    "    template='plotly_white',\n",
    ")\n",
    "\n",
    "fig.show()"
   ]
  },
  {
   "cell_type": "code",
   "execution_count": 5,
   "metadata": {},
   "outputs": [
    {
     "data": {
      "text/plain": [
       "bench                                           MMLU\n",
       "threshold_model                          GPT-4 Turbo\n",
       "performance_range                        [87.0, 100]\n",
       "sample_size                                        4\n",
       "start_date                                2023-11-01\n",
       "end_date                                  2024-07-01\n",
       "price_reduction_factor_per_year                    7\n",
       "price_reduction_factor_per_year_90_ci        [2, 27]\n",
       "r_squared                                       0.89\n",
       "Name: 2, dtype: object"
      ]
     },
     "execution_count": 5,
     "metadata": {},
     "output_type": "execute_result"
    }
   ],
   "source": [
    "min_trend_idx = results_df['price_reduction_factor_per_year'].idxmin()\n",
    "min_trend_result = results_df.iloc[min_trend_idx]\n",
    "min_trend_bench = min_trend_result['bench']\n",
    "min_trend_threshold_model = min_trend_result['threshold_model']\n",
    "min_trend_annual_factor = min_trend_result['price_reduction_factor_per_year']\n",
    "min_trend_result"
   ]
  },
  {
   "cell_type": "code",
   "execution_count": 6,
   "metadata": {},
   "outputs": [
    {
     "data": {
      "text/plain": [
       "bench                                    LMSys Chatbot Arena ELO\n",
       "threshold_model                                      GPT-4 Turbo\n",
       "performance_range                                  [1256.0, inf]\n",
       "sample_size                                                    4\n",
       "start_date                                            2023-11-01\n",
       "end_date                                              2024-09-01\n",
       "price_reduction_factor_per_year                              331\n",
       "price_reduction_factor_per_year_90_ci                 [17, 6288]\n",
       "r_squared                                                   0.94\n",
       "Name: 16, dtype: object"
      ]
     },
     "execution_count": 6,
     "metadata": {},
     "output_type": "execute_result"
    }
   ],
   "source": [
    "max_trend_idx = results_df['price_reduction_factor_per_year'].idxmax()\n",
    "max_trend_result = results_df.iloc[max_trend_idx]\n",
    "max_trend_bench = max_trend_result['bench']\n",
    "max_trend_threshold_model = max_trend_result['threshold_model']\n",
    "max_trend_annual_factor = max_trend_result['price_reduction_factor_per_year']\n",
    "max_trend_result\n"
   ]
  },
  {
   "cell_type": "code",
   "execution_count": 7,
   "metadata": {},
   "outputs": [
    {
     "data": {
      "text/plain": [
       "bench                                    GPQA Diamond\n",
       "threshold_model                           GPT-4 Turbo\n",
       "performance_range                         [50.0, 100]\n",
       "sample_size                                         7\n",
       "start_date                                 2023-11-01\n",
       "end_date                                   2025-01-01\n",
       "price_reduction_factor_per_year                    45\n",
       "price_reduction_factor_per_year_90_ci       [10, 200]\n",
       "r_squared                                        0.84\n",
       "Name: 4, dtype: object"
      ]
     },
     "execution_count": 7,
     "metadata": {},
     "output_type": "execute_result"
    }
   ],
   "source": [
    "median_trend_idx = (results_df['price_reduction_factor_per_year'] - results_df['price_reduction_factor_per_year'].median()).abs().idxmin()\n",
    "median_trend_result = results_df.iloc[median_trend_idx]\n",
    "median_trend_bench = median_trend_result['bench']\n",
    "median_trend_threshold_model = median_trend_result['threshold_model']\n",
    "median_trend_annual_factor = median_trend_result['price_reduction_factor_per_year']\n",
    "median_trend_result"
   ]
  },
  {
   "cell_type": "code",
   "execution_count": 8,
   "metadata": {},
   "outputs": [
    {
     "name": "stdout",
     "output_type": "stream",
     "text": [
      "Processing MMLU and GPT-3\n",
      "Processing MMLU and GPT-3.5\n",
      "Processing MMLU and GPT-4 Turbo\n",
      "Processing GPQA Diamond and GPT-4\n",
      "Processing GPQA Diamond and GPT-4 Turbo\n",
      "Processing GPQA Diamond and GPT-4o-2024-05\n",
      "Processing MATH-500 and GPT-4\n",
      "Processing MATH-500 and GPT-3.5 Turbo\n",
      "Processing MATH-500 and GPT-4 Turbo\n",
      "Processing MATH-500 and GPT-4o-2024-05\n",
      "Processing MATH 5 and GPT-4\n",
      "Processing MATH 5 and GPT-4 Turbo\n",
      "Processing MATH 5 and GPT-4o-2024-05\n",
      "Processing HumanEval and GPT-4\n",
      "Processing HumanEval and GPT-3.5 Turbo\n",
      "Processing LMSys Chatbot Arena ELO and GPT-4\n",
      "Processing LMSys Chatbot Arena ELO and GPT-4 Turbo\n",
      "Processing LMSys Chatbot Arena ELO and GPT-4o-2024-05\n"
     ]
    },
    {
     "data": {
      "application/vnd.plotly.v1+json": {
       "config": {
        "plotlyServerURL": "https://plot.ly"
       },
       "data": [
        {
         "legendgroup": "Other benchmarks and performance levels",
         "legendrank": 1,
         "line": {
          "color": "lightgrey"
         },
         "mode": "lines",
         "name": "Other benchmarks and performance levels",
         "showlegend": true,
         "textposition": "bottom left",
         "type": "scatter",
         "x": [
          "2021-11-20",
          "2022-09-01",
          "2023-03-06",
          "2023-07-01",
          "2023-12-01",
          "2024-04-14",
          "2024-07-01",
          "2024-09-01",
          "2024-10-01"
         ],
         "y": [
          61.100966079043936,
          8.67183947637436,
          2.4250509462157472,
          1.0879789105058757,
          0.381427740277638,
          0.151271801547161,
          0.0886525133398277,
          0.0579732433780975,
          0.0472031615902354
         ],
         "zorder": 0
        },
        {
         "legendgroup": "Other benchmarks and performance levels",
         "legendrank": 1,
         "line": {
          "color": "lightgrey"
         },
         "mode": "lines",
         "name": "Other benchmarks and performance levels",
         "showlegend": false,
         "textposition": "bottom left",
         "type": "scatter",
         "x": [
          "2022-11-30",
          "2023-03-06",
          "2023-11-01",
          "2024-03-01",
          "2024-05-01",
          "2024-07-01",
          "2024-10-01"
         ],
         "y": [
          10.009384347147884,
          4.786389505145855,
          0.7568498283584655,
          0.2986572510425382,
          0.1868899682120296,
          0.1169496474516154,
          0.0576699481098688
         ],
         "zorder": 0
        },
        {
         "legendgroup": "Other benchmarks and performance levels",
         "legendrank": 1,
         "line": {
          "color": "lightgrey"
         },
         "mode": "lines",
         "name": "Other benchmarks and performance levels",
         "showlegend": false,
         "textposition": "bottom left",
         "type": "scatter",
         "x": [
          "2023-11-01",
          "2024-05-01",
          "2024-06-01",
          "2024-07-01"
         ],
         "y": [
          15.984072587986429,
          6.201698653546407,
          5.278068881051841,
          4.5154252870191405
         ],
         "zorder": 0
        },
        {
         "legendgroup": "Other benchmarks and performance levels",
         "legendrank": 1,
         "line": {
          "color": "lightgrey"
         },
         "mode": "lines",
         "name": "Other benchmarks and performance levels",
         "showlegend": false,
         "textposition": "bottom left",
         "type": "scatter",
         "x": [
          "2023-03-01",
          "2023-11-01",
          "2024-02-01",
          "2024-03-01",
          "2024-05-01",
          "2025-01-01"
         ],
         "y": [
          49.631624863290355,
          4.457233476139075,
          1.8031067547083095,
          1.3555862462159929,
          0.7439126272755613,
          0.0668080538315742
         ],
         "zorder": 0
        },
        {
         "legendgroup": "Other benchmarks and performance levels",
         "legendrank": 1,
         "line": {
          "color": "lightgrey"
         },
         "mode": "lines",
         "name": "Other benchmarks and performance levels",
         "showlegend": false,
         "textposition": "bottom left",
         "type": "scatter",
         "x": [
          "2023-11-01",
          "2024-05-01",
          "2024-06-01",
          "2024-07-01",
          "2024-09-01",
          "2024-12-26",
          "2025-01-01"
         ],
         "y": [
          32.72497950030013,
          4.891061932746925,
          3.538344134207899,
          2.586619578613776,
          1.3537123009840777,
          0.403086890520083,
          0.37860397744208
         ],
         "zorder": 0
        },
        {
         "legendgroup": "Other benchmarks and performance levels",
         "legendrank": 1,
         "line": {
          "color": "lightgrey"
         },
         "mode": "lines",
         "name": "Other benchmarks and performance levels",
         "showlegend": false,
         "textposition": "bottom left",
         "type": "scatter",
         "x": [
          "2024-05-01",
          "2024-06-01",
          "2024-08-01",
          "2024-09-01",
          "2024-12-26",
          "2025-01-01"
         ],
         "y": [
          10.693083714148084,
          6.705641890349744,
          2.67702631016866,
          1.678765475602146,
          0.2928462158678276,
          0.2675559387460942
         ],
         "zorder": 0
        },
        {
         "legendgroup": "Other benchmarks and performance levels",
         "legendrank": 1,
         "line": {
          "color": "lightgrey"
         },
         "mode": "lines",
         "name": "Other benchmarks and performance levels",
         "showlegend": false,
         "textposition": "bottom left",
         "type": "scatter",
         "x": [
          "2023-03-01",
          "2023-06-13",
          "2023-11-01",
          "2024-03-01",
          "2024-04-01",
          "2024-05-01",
          "2024-07-01",
          "2024-09-01",
          "2024-10-01"
         ],
         "y": [
          15.513162514760916,
          5.356802105062635,
          1.267122211823244,
          0.3677376410063723,
          0.2678475823865276,
          0.1970959542700293,
          0.1056373100216312,
          0.05604238684207,
          0.0412388553810726
         ],
         "zorder": 0
        },
        {
         "legendgroup": "Other benchmarks and performance levels",
         "legendrank": 1,
         "line": {
          "color": "lightgrey"
         },
         "mode": "lines",
         "name": "Other benchmarks and performance levels",
         "showlegend": false,
         "textposition": "bottom left",
         "type": "scatter",
         "x": [
          "2023-06-13",
          "2023-11-01",
          "2024-05-01",
          "2024-07-01",
          "2024-09-01",
          "2024-10-01"
         ],
         "y": [
          2.63241606930697,
          0.8329844527993012,
          0.1886302291944843,
          0.1146624962906024,
          0.0691333171672605,
          0.0541208357093375
         ],
         "zorder": 0
        },
        {
         "legendgroup": "Other benchmarks and performance levels",
         "legendrank": 1,
         "line": {
          "color": "lightgrey"
         },
         "mode": "lines",
         "name": "Other benchmarks and performance levels",
         "showlegend": false,
         "textposition": "bottom left",
         "type": "scatter",
         "x": [
          "2023-11-01",
          "2024-05-01",
          "2024-07-01",
          "2024-09-01",
          "2025-01-01"
         ],
         "y": [
          17.596038921958463,
          1.635620974288554,
          0.7377042813563431,
          0.3284075087682501,
          0.0668055192778535
         ],
         "zorder": 0
        },
        {
         "legendgroup": "Other benchmarks and performance levels",
         "legendrank": 1,
         "line": {
          "color": "lightgrey"
         },
         "mode": "lines",
         "name": "Other benchmarks and performance levels",
         "showlegend": false,
         "textposition": "bottom left",
         "type": "scatter",
         "x": [
          "2024-05-01",
          "2024-07-01",
          "2024-09-01",
          "2025-01-01"
         ],
         "y": [
          1.979020735858087,
          0.8192790830222952,
          0.3342984769439722,
          0.0572924563663157
         ],
         "zorder": 0
        },
        {
         "legendgroup": "Other benchmarks and performance levels",
         "legendrank": 1,
         "line": {
          "color": "lightgrey"
         },
         "mode": "lines",
         "name": "Other benchmarks and performance levels",
         "showlegend": false,
         "textposition": "bottom left",
         "type": "scatter",
         "x": [
          "2023-03-01",
          "2023-11-01",
          "2024-04-01",
          "2024-05-01",
          "2025-01-01"
         ],
         "y": [
          46.67814853486179,
          4.3634931639597365,
          1.0029077940857711,
          0.750285932612814,
          0.0701370478635429
         ],
         "zorder": 0
        },
        {
         "legendgroup": "Other benchmarks and performance levels",
         "legendrank": 1,
         "line": {
          "color": "lightgrey"
         },
         "mode": "lines",
         "name": "Other benchmarks and performance levels",
         "showlegend": false,
         "textposition": "bottom left",
         "type": "scatter",
         "x": [
          "2023-11-01",
          "2024-05-01",
          "2024-07-01",
          "2024-09-01",
          "2025-01-01"
         ],
         "y": [
          11.94687593544098,
          1.2407553202036103,
          0.5808027578691334,
          0.2685140238421262,
          0.0588372031815676
         ],
         "zorder": 0
        },
        {
         "legendgroup": "Other benchmarks and performance levels",
         "legendrank": 1,
         "line": {
          "color": "lightgrey"
         },
         "mode": "lines",
         "name": "Other benchmarks and performance levels",
         "showlegend": false,
         "textposition": "bottom left",
         "type": "scatter",
         "x": [
          "2024-05-01",
          "2024-07-01",
          "2024-09-01",
          "2025-01-01"
         ],
         "y": [
          1.979020735858087,
          0.8192790830222952,
          0.3342984769439722,
          0.0572924563663157
         ],
         "zorder": 0
        },
        {
         "legendgroup": "Other benchmarks and performance levels",
         "legendrank": 1,
         "line": {
          "color": "lightgrey"
         },
         "mode": "lines",
         "name": "Other benchmarks and performance levels",
         "showlegend": false,
         "textposition": "bottom left",
         "type": "scatter",
         "x": [
          "2023-03-01",
          "2023-06-13",
          "2023-11-01",
          "2024-03-01",
          "2024-06-01",
          "2024-07-01"
         ],
         "y": [
          19.096666614932893,
          6.1034225313300725,
          1.3000105478738018,
          0.3448152733178218,
          0.1257077553994678,
          0.0904612956292896
         ],
         "zorder": 0
        },
        {
         "legendgroup": "Other benchmarks and performance levels",
         "legendrank": 1,
         "line": {
          "color": "lightgrey"
         },
         "mode": "lines",
         "name": "Other benchmarks and performance levels",
         "showlegend": false,
         "textposition": "bottom left",
         "type": "scatter",
         "x": [
          "2023-06-13",
          "2023-11-01",
          "2024-03-01",
          "2024-06-01",
          "2025-01-01"
         ],
         "y": [
          2.167248655062265,
          0.9440536313725096,
          0.4626768756843322,
          0.2690227851022919,
          0.076211726761831
         ],
         "zorder": 0
        },
        {
         "legendgroup": "Other benchmarks and performance levels",
         "legendrank": 1,
         "line": {
          "color": "lightgrey"
         },
         "mode": "lines",
         "name": "Other benchmarks and performance levels",
         "showlegend": false,
         "textposition": "bottom left",
         "type": "scatter",
         "x": [
          "2023-03-01",
          "2023-11-01",
          "2024-03-01",
          "2024-04-01",
          "2024-05-01",
          "2024-10-01"
         ],
         "y": [
          86.206134318417,
          4.991074816451169,
          1.2220742989790925,
          0.8521885708230906,
          0.6012072152351812,
          0.1014648050576041
         ],
         "zorder": 0
        },
        {
         "legendgroup": "LMSys Chatbot Arena ELO GPT-4 Turbo",
         "legendrank": 0,
         "line": {
          "color": "red"
         },
         "mode": "lines",
         "name": "GPT-4 Turbo level performance on LMSys Chatbot Arena ELO",
         "showlegend": true,
         "textposition": "bottom left",
         "type": "scatter",
         "x": [
          "2023-11-01",
          "2024-05-01",
          "2024-07-01",
          "2024-09-01"
         ],
         "y": [
          18.66666772586532,
          1.034699553723441,
          0.3924303501635975,
          0.1464901513043842
         ],
         "zorder": 1
        },
        {
         "legendgroup": "LMSys Chatbot Arena ELO GPT-4 Turbo",
         "legendrank": 0,
         "marker": {
          "color": "red"
         },
         "mode": "markers",
         "name": "Lowest-price models that are GPT-4 Turbo or better on LMSys Chatbot Arena ELO",
         "showlegend": false,
         "text": [
          "GPT-4 Turbo",
          "Gemini-1.5-Pro-2024-05",
          "GPT-4o-mini",
          "Gemini-1.5-Flash-2024-09"
         ],
         "textposition": "bottom left",
         "type": "scatter",
         "x": [
          "2023-11-01",
          "2024-05-01",
          "2024-07-01",
          "2024-09-01"
         ],
         "y": [
          15,
          2.19,
          0.26,
          0.13
         ],
         "zorder": 2
        },
        {
         "legendgroup": "Other benchmarks and performance levels",
         "legendrank": 1,
         "line": {
          "color": "lightgrey"
         },
         "mode": "lines",
         "name": "Other benchmarks and performance levels",
         "showlegend": false,
         "textposition": "bottom left",
         "type": "scatter",
         "x": [
          "2024-05-01",
          "2024-08-01",
          "2024-09-01",
          "2024-12-26"
         ],
         "y": [
          9.28924675130778,
          3.1232899592528627,
          2.163255441415837,
          0.5473337839016456
         ],
         "zorder": 0
        }
       ],
       "layout": {
        "annotations": [
         {
          "font": {
           "size": 12
          },
          "showarrow": false,
          "text": "Usage price in USD per million tokens",
          "x": -0.037,
          "xref": "paper",
          "y": 1.07,
          "yref": "paper"
         },
         {
          "arrowcolor": "black",
          "arrowhead": 2,
          "arrowsize": 1,
          "arrowwidth": 1,
          "ax": -30,
          "ay": 30,
          "bgcolor": "rgba(255, 255, 255, 0.7)",
          "font": {
           "color": "red",
           "size": 12
          },
          "showarrow": false,
          "text": "331x decrease per year",
          "x": 0.7,
          "xref": "paper",
          "y": 0.65,
          "yref": "paper"
         }
        ],
        "height": 600,
        "legend": {
         "bordercolor": "lightgrey",
         "borderwidth": 1,
         "x": 0.99,
         "xanchor": "right",
         "y": 0.99,
         "yanchor": "top"
        },
        "margin": {
         "t": 120
        },
        "template": {
         "data": {
          "bar": [
           {
            "error_x": {
             "color": "#2a3f5f"
            },
            "error_y": {
             "color": "#2a3f5f"
            },
            "marker": {
             "line": {
              "color": "white",
              "width": 0.5
             },
             "pattern": {
              "fillmode": "overlay",
              "size": 10,
              "solidity": 0.2
             }
            },
            "type": "bar"
           }
          ],
          "barpolar": [
           {
            "marker": {
             "line": {
              "color": "white",
              "width": 0.5
             },
             "pattern": {
              "fillmode": "overlay",
              "size": 10,
              "solidity": 0.2
             }
            },
            "type": "barpolar"
           }
          ],
          "carpet": [
           {
            "aaxis": {
             "endlinecolor": "#2a3f5f",
             "gridcolor": "#C8D4E3",
             "linecolor": "#C8D4E3",
             "minorgridcolor": "#C8D4E3",
             "startlinecolor": "#2a3f5f"
            },
            "baxis": {
             "endlinecolor": "#2a3f5f",
             "gridcolor": "#C8D4E3",
             "linecolor": "#C8D4E3",
             "minorgridcolor": "#C8D4E3",
             "startlinecolor": "#2a3f5f"
            },
            "type": "carpet"
           }
          ],
          "choropleth": [
           {
            "colorbar": {
             "outlinewidth": 0,
             "ticks": ""
            },
            "type": "choropleth"
           }
          ],
          "contour": [
           {
            "colorbar": {
             "outlinewidth": 0,
             "ticks": ""
            },
            "colorscale": [
             [
              0,
              "#0d0887"
             ],
             [
              0.1111111111111111,
              "#46039f"
             ],
             [
              0.2222222222222222,
              "#7201a8"
             ],
             [
              0.3333333333333333,
              "#9c179e"
             ],
             [
              0.4444444444444444,
              "#bd3786"
             ],
             [
              0.5555555555555556,
              "#d8576b"
             ],
             [
              0.6666666666666666,
              "#ed7953"
             ],
             [
              0.7777777777777778,
              "#fb9f3a"
             ],
             [
              0.8888888888888888,
              "#fdca26"
             ],
             [
              1,
              "#f0f921"
             ]
            ],
            "type": "contour"
           }
          ],
          "contourcarpet": [
           {
            "colorbar": {
             "outlinewidth": 0,
             "ticks": ""
            },
            "type": "contourcarpet"
           }
          ],
          "heatmap": [
           {
            "colorbar": {
             "outlinewidth": 0,
             "ticks": ""
            },
            "colorscale": [
             [
              0,
              "#0d0887"
             ],
             [
              0.1111111111111111,
              "#46039f"
             ],
             [
              0.2222222222222222,
              "#7201a8"
             ],
             [
              0.3333333333333333,
              "#9c179e"
             ],
             [
              0.4444444444444444,
              "#bd3786"
             ],
             [
              0.5555555555555556,
              "#d8576b"
             ],
             [
              0.6666666666666666,
              "#ed7953"
             ],
             [
              0.7777777777777778,
              "#fb9f3a"
             ],
             [
              0.8888888888888888,
              "#fdca26"
             ],
             [
              1,
              "#f0f921"
             ]
            ],
            "type": "heatmap"
           }
          ],
          "heatmapgl": [
           {
            "colorbar": {
             "outlinewidth": 0,
             "ticks": ""
            },
            "colorscale": [
             [
              0,
              "#0d0887"
             ],
             [
              0.1111111111111111,
              "#46039f"
             ],
             [
              0.2222222222222222,
              "#7201a8"
             ],
             [
              0.3333333333333333,
              "#9c179e"
             ],
             [
              0.4444444444444444,
              "#bd3786"
             ],
             [
              0.5555555555555556,
              "#d8576b"
             ],
             [
              0.6666666666666666,
              "#ed7953"
             ],
             [
              0.7777777777777778,
              "#fb9f3a"
             ],
             [
              0.8888888888888888,
              "#fdca26"
             ],
             [
              1,
              "#f0f921"
             ]
            ],
            "type": "heatmapgl"
           }
          ],
          "histogram": [
           {
            "marker": {
             "pattern": {
              "fillmode": "overlay",
              "size": 10,
              "solidity": 0.2
             }
            },
            "type": "histogram"
           }
          ],
          "histogram2d": [
           {
            "colorbar": {
             "outlinewidth": 0,
             "ticks": ""
            },
            "colorscale": [
             [
              0,
              "#0d0887"
             ],
             [
              0.1111111111111111,
              "#46039f"
             ],
             [
              0.2222222222222222,
              "#7201a8"
             ],
             [
              0.3333333333333333,
              "#9c179e"
             ],
             [
              0.4444444444444444,
              "#bd3786"
             ],
             [
              0.5555555555555556,
              "#d8576b"
             ],
             [
              0.6666666666666666,
              "#ed7953"
             ],
             [
              0.7777777777777778,
              "#fb9f3a"
             ],
             [
              0.8888888888888888,
              "#fdca26"
             ],
             [
              1,
              "#f0f921"
             ]
            ],
            "type": "histogram2d"
           }
          ],
          "histogram2dcontour": [
           {
            "colorbar": {
             "outlinewidth": 0,
             "ticks": ""
            },
            "colorscale": [
             [
              0,
              "#0d0887"
             ],
             [
              0.1111111111111111,
              "#46039f"
             ],
             [
              0.2222222222222222,
              "#7201a8"
             ],
             [
              0.3333333333333333,
              "#9c179e"
             ],
             [
              0.4444444444444444,
              "#bd3786"
             ],
             [
              0.5555555555555556,
              "#d8576b"
             ],
             [
              0.6666666666666666,
              "#ed7953"
             ],
             [
              0.7777777777777778,
              "#fb9f3a"
             ],
             [
              0.8888888888888888,
              "#fdca26"
             ],
             [
              1,
              "#f0f921"
             ]
            ],
            "type": "histogram2dcontour"
           }
          ],
          "mesh3d": [
           {
            "colorbar": {
             "outlinewidth": 0,
             "ticks": ""
            },
            "type": "mesh3d"
           }
          ],
          "parcoords": [
           {
            "line": {
             "colorbar": {
              "outlinewidth": 0,
              "ticks": ""
             }
            },
            "type": "parcoords"
           }
          ],
          "pie": [
           {
            "automargin": true,
            "type": "pie"
           }
          ],
          "scatter": [
           {
            "fillpattern": {
             "fillmode": "overlay",
             "size": 10,
             "solidity": 0.2
            },
            "type": "scatter"
           }
          ],
          "scatter3d": [
           {
            "line": {
             "colorbar": {
              "outlinewidth": 0,
              "ticks": ""
             }
            },
            "marker": {
             "colorbar": {
              "outlinewidth": 0,
              "ticks": ""
             }
            },
            "type": "scatter3d"
           }
          ],
          "scattercarpet": [
           {
            "marker": {
             "colorbar": {
              "outlinewidth": 0,
              "ticks": ""
             }
            },
            "type": "scattercarpet"
           }
          ],
          "scattergeo": [
           {
            "marker": {
             "colorbar": {
              "outlinewidth": 0,
              "ticks": ""
             }
            },
            "type": "scattergeo"
           }
          ],
          "scattergl": [
           {
            "marker": {
             "colorbar": {
              "outlinewidth": 0,
              "ticks": ""
             }
            },
            "type": "scattergl"
           }
          ],
          "scattermapbox": [
           {
            "marker": {
             "colorbar": {
              "outlinewidth": 0,
              "ticks": ""
             }
            },
            "type": "scattermapbox"
           }
          ],
          "scatterpolar": [
           {
            "marker": {
             "colorbar": {
              "outlinewidth": 0,
              "ticks": ""
             }
            },
            "type": "scatterpolar"
           }
          ],
          "scatterpolargl": [
           {
            "marker": {
             "colorbar": {
              "outlinewidth": 0,
              "ticks": ""
             }
            },
            "type": "scatterpolargl"
           }
          ],
          "scatterternary": [
           {
            "marker": {
             "colorbar": {
              "outlinewidth": 0,
              "ticks": ""
             }
            },
            "type": "scatterternary"
           }
          ],
          "surface": [
           {
            "colorbar": {
             "outlinewidth": 0,
             "ticks": ""
            },
            "colorscale": [
             [
              0,
              "#0d0887"
             ],
             [
              0.1111111111111111,
              "#46039f"
             ],
             [
              0.2222222222222222,
              "#7201a8"
             ],
             [
              0.3333333333333333,
              "#9c179e"
             ],
             [
              0.4444444444444444,
              "#bd3786"
             ],
             [
              0.5555555555555556,
              "#d8576b"
             ],
             [
              0.6666666666666666,
              "#ed7953"
             ],
             [
              0.7777777777777778,
              "#fb9f3a"
             ],
             [
              0.8888888888888888,
              "#fdca26"
             ],
             [
              1,
              "#f0f921"
             ]
            ],
            "type": "surface"
           }
          ],
          "table": [
           {
            "cells": {
             "fill": {
              "color": "#EBF0F8"
             },
             "line": {
              "color": "white"
             }
            },
            "header": {
             "fill": {
              "color": "#C8D4E3"
             },
             "line": {
              "color": "white"
             }
            },
            "type": "table"
           }
          ]
         },
         "layout": {
          "annotationdefaults": {
           "arrowcolor": "#2a3f5f",
           "arrowhead": 0,
           "arrowwidth": 1
          },
          "autotypenumbers": "strict",
          "coloraxis": {
           "colorbar": {
            "outlinewidth": 0,
            "ticks": ""
           }
          },
          "colorscale": {
           "diverging": [
            [
             0,
             "#8e0152"
            ],
            [
             0.1,
             "#c51b7d"
            ],
            [
             0.2,
             "#de77ae"
            ],
            [
             0.3,
             "#f1b6da"
            ],
            [
             0.4,
             "#fde0ef"
            ],
            [
             0.5,
             "#f7f7f7"
            ],
            [
             0.6,
             "#e6f5d0"
            ],
            [
             0.7,
             "#b8e186"
            ],
            [
             0.8,
             "#7fbc41"
            ],
            [
             0.9,
             "#4d9221"
            ],
            [
             1,
             "#276419"
            ]
           ],
           "sequential": [
            [
             0,
             "#0d0887"
            ],
            [
             0.1111111111111111,
             "#46039f"
            ],
            [
             0.2222222222222222,
             "#7201a8"
            ],
            [
             0.3333333333333333,
             "#9c179e"
            ],
            [
             0.4444444444444444,
             "#bd3786"
            ],
            [
             0.5555555555555556,
             "#d8576b"
            ],
            [
             0.6666666666666666,
             "#ed7953"
            ],
            [
             0.7777777777777778,
             "#fb9f3a"
            ],
            [
             0.8888888888888888,
             "#fdca26"
            ],
            [
             1,
             "#f0f921"
            ]
           ],
           "sequentialminus": [
            [
             0,
             "#0d0887"
            ],
            [
             0.1111111111111111,
             "#46039f"
            ],
            [
             0.2222222222222222,
             "#7201a8"
            ],
            [
             0.3333333333333333,
             "#9c179e"
            ],
            [
             0.4444444444444444,
             "#bd3786"
            ],
            [
             0.5555555555555556,
             "#d8576b"
            ],
            [
             0.6666666666666666,
             "#ed7953"
            ],
            [
             0.7777777777777778,
             "#fb9f3a"
            ],
            [
             0.8888888888888888,
             "#fdca26"
            ],
            [
             1,
             "#f0f921"
            ]
           ]
          },
          "colorway": [
           "#636efa",
           "#EF553B",
           "#00cc96",
           "#ab63fa",
           "#FFA15A",
           "#19d3f3",
           "#FF6692",
           "#B6E880",
           "#FF97FF",
           "#FECB52"
          ],
          "font": {
           "color": "#2a3f5f"
          },
          "geo": {
           "bgcolor": "white",
           "lakecolor": "white",
           "landcolor": "white",
           "showlakes": true,
           "showland": true,
           "subunitcolor": "#C8D4E3"
          },
          "hoverlabel": {
           "align": "left"
          },
          "hovermode": "closest",
          "mapbox": {
           "style": "light"
          },
          "paper_bgcolor": "white",
          "plot_bgcolor": "white",
          "polar": {
           "angularaxis": {
            "gridcolor": "#EBF0F8",
            "linecolor": "#EBF0F8",
            "ticks": ""
           },
           "bgcolor": "white",
           "radialaxis": {
            "gridcolor": "#EBF0F8",
            "linecolor": "#EBF0F8",
            "ticks": ""
           }
          },
          "scene": {
           "xaxis": {
            "backgroundcolor": "white",
            "gridcolor": "#DFE8F3",
            "gridwidth": 2,
            "linecolor": "#EBF0F8",
            "showbackground": true,
            "ticks": "",
            "zerolinecolor": "#EBF0F8"
           },
           "yaxis": {
            "backgroundcolor": "white",
            "gridcolor": "#DFE8F3",
            "gridwidth": 2,
            "linecolor": "#EBF0F8",
            "showbackground": true,
            "ticks": "",
            "zerolinecolor": "#EBF0F8"
           },
           "zaxis": {
            "backgroundcolor": "white",
            "gridcolor": "#DFE8F3",
            "gridwidth": 2,
            "linecolor": "#EBF0F8",
            "showbackground": true,
            "ticks": "",
            "zerolinecolor": "#EBF0F8"
           }
          },
          "shapedefaults": {
           "line": {
            "color": "#2a3f5f"
           }
          },
          "ternary": {
           "aaxis": {
            "gridcolor": "#DFE8F3",
            "linecolor": "#A2B1C6",
            "ticks": ""
           },
           "baxis": {
            "gridcolor": "#DFE8F3",
            "linecolor": "#A2B1C6",
            "ticks": ""
           },
           "bgcolor": "white",
           "caxis": {
            "gridcolor": "#DFE8F3",
            "linecolor": "#A2B1C6",
            "ticks": ""
           }
          },
          "title": {
           "x": 0.05
          },
          "xaxis": {
           "automargin": true,
           "gridcolor": "#EBF0F8",
           "linecolor": "#EBF0F8",
           "ticks": "",
           "title": {
            "standoff": 15
           },
           "zerolinecolor": "#EBF0F8",
           "zerolinewidth": 2
          },
          "yaxis": {
           "automargin": true,
           "gridcolor": "#EBF0F8",
           "linecolor": "#EBF0F8",
           "ticks": "",
           "title": {
            "standoff": 15
           },
           "zerolinecolor": "#EBF0F8",
           "zerolinewidth": 2
          }
         }
        },
        "title": {
         "text": "The usage price of LLMs at a given performance level has fallen by 7–300x per year"
        },
        "width": 1000,
        "xaxis": {
         "title": {
          "text": "Release date"
         }
        },
        "yaxis": {
         "dtick": "D10",
         "type": "log"
        }
       }
      }
     },
     "metadata": {},
     "output_type": "display_data"
    }
   ],
   "source": [
    "selected_benches = results_df['bench'].unique()\n",
    "selected_threshold_models = results_df['threshold_model'].unique()\n",
    "selected_bench = max_trend_bench\n",
    "selected_threshold_model = max_trend_threshold_model\n",
    "selected_annual_factor = max_trend_annual_factor\n",
    "\n",
    "fig = go.Figure()\n",
    "\n",
    "for i, row in results_df.iterrows():\n",
    "    bench = row['bench']\n",
    "    threshold_model = row['threshold_model']\n",
    "    print(f'Processing {bench} and {threshold_model}')\n",
    "    cheapest_models_df = all_cheapest_models_df[\n",
    "        (all_cheapest_models_df['bench'] == bench) &\n",
    "        (all_cheapest_models_df['threshold_model'] == threshold_model)\n",
    "    ]\n",
    "    annual_factor = row['price_reduction_factor_per_year']\n",
    "    predicted_log_prices = cheapest_models_df['predicted_log_price']\n",
    "\n",
    "    if bench == selected_bench and threshold_model == selected_threshold_model:\n",
    "        color = 'red'\n",
    "        showlegend = True\n",
    "        zorder = 1\n",
    "        legendgroup = f'{selected_bench} {selected_threshold_model}'\n",
    "        legendrank = 0\n",
    "    else:\n",
    "        color = 'lightgrey'\n",
    "        showlegend = i == 0  # Only show the first one in legend\n",
    "        zorder = 0\n",
    "        legendgroup = \"Other benchmarks and performance levels\"\n",
    "        legendrank = 1\n",
    "\n",
    "    fig.add_trace(go.Scatter(\n",
    "        x=cheapest_models_df['Release Date'],\n",
    "        y=predicted_log_prices,\n",
    "        mode='lines',\n",
    "        name=f'{threshold_model} level performance on {bench}' if bench == selected_bench and threshold_model == selected_threshold_model else \"Other benchmarks and performance levels\",\n",
    "        line=dict(color=color),\n",
    "        showlegend=showlegend,\n",
    "        zorder=zorder,\n",
    "        legendgroup=legendgroup,\n",
    "        legendrank=legendrank,\n",
    "    ))\n",
    "    if bench == selected_bench and threshold_model == selected_threshold_model:\n",
    "        fig.add_trace(go.Scatter(\n",
    "            x=cheapest_models_df['Release Date'],\n",
    "            y=cheapest_models_df['USD per 1M Tokens'],\n",
    "            mode='markers',\n",
    "            name=f'Lowest-price models that are {threshold_model} or better on {bench}',\n",
    "            text=cheapest_models_df['Model Name'],\n",
    "            textposition='bottom left',\n",
    "            marker=dict(color='red'),\n",
    "            showlegend=False,\n",
    "            zorder=zorder+1,\n",
    "            legendgroup=legendgroup,\n",
    "            legendrank=legendrank,\n",
    "        ))\n",
    "\n",
    "# Remove minor y labels\n",
    "fig.update_layout(\n",
    "    yaxis=dict(\n",
    "        dtick='D10',\n",
    "        # range=[-1, 2],\n",
    "    )\n",
    ")\n",
    "fig.update_layout(\n",
    "    title=f'The usage price of LLMs at a given performance level has fallen by {min_trend_annual_factor}–{round(max_trend_annual_factor, -2)}x per year'\n",
    ")\n",
    "fig.update_traces(textposition='bottom left')\n",
    "fig.update_layout(yaxis_type='log')\n",
    "fig.update_layout(xaxis_title='Release date')\n",
    "# fig.update_layout(yaxis_title='Usage price in USD per million tokens')\n",
    "fig.update_layout(\n",
    "    annotations=[\n",
    "        dict(\n",
    "            x=-0.037,  # Center of the plot\n",
    "            y=1.07,  # Above the plot\n",
    "            xref='paper',\n",
    "            yref='paper',\n",
    "            text='Usage price in USD per million tokens',\n",
    "            showarrow=False,\n",
    "            font=dict(size=12),\n",
    "        ),\n",
    "        # Add annotation for highlighted trend\n",
    "        dict(\n",
    "            x=0.7,  # Position on x-axis (adjust as needed)\n",
    "            y=0.65,  # Position on y-axis (adjust as needed)\n",
    "            xref='paper',\n",
    "            yref='paper',\n",
    "            text=f'{selected_annual_factor}x decrease per year',\n",
    "            showarrow=False,\n",
    "            arrowhead=2,\n",
    "            arrowsize=1,\n",
    "            arrowwidth=1,\n",
    "            arrowcolor='black',\n",
    "            ax=-30,\n",
    "            ay=30,\n",
    "            font=dict(size=12, color='red'),\n",
    "            bgcolor='rgba(255, 255, 255, 0.7)',\n",
    "            # bordercolor='lightgrey',\n",
    "            # borderwidth=1,\n",
    "            # borderpad=0,\n",
    "        )\n",
    "    ],\n",
    ")\n",
    "fig.update_layout(\n",
    "    width=1000,\n",
    "    height=600,\n",
    "    legend=dict(\n",
    "        yanchor=\"top\",\n",
    "        y=0.99,\n",
    "        xanchor=\"right\",\n",
    "        x=0.99,\n",
    "        bordercolor=\"lightgrey\",\n",
    "        borderwidth=1\n",
    "    ),\n",
    "    margin=dict(t=120),\n",
    "    template='plotly_white',\n",
    ")\n",
    "\n",
    "save_plot(fig, 'results/2025-02-28/lowest_price_models_above_previous_frontier/', 'lowest_price_trends_all_highlighting_max_trend')\n",
    "\n",
    "fig.show()"
   ]
  }
 ],
 "metadata": {
  "kernelspec": {
   "display_name": "llm-efficiency",
   "language": "python",
   "name": "python3"
  },
  "language_info": {
   "codemirror_mode": {
    "name": "ipython",
    "version": 3
   },
   "file_extension": ".py",
   "mimetype": "text/x-python",
   "name": "python",
   "nbconvert_exporter": "python",
   "pygments_lexer": "ipython3",
   "version": "3.12.7"
  }
 },
 "nbformat": 4,
 "nbformat_minor": 2
}
