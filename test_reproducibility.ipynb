{
 "cells": [
  {
   "cell_type": "code",
   "execution_count": 2,
   "metadata": {},
   "outputs": [],
   "source": [
    "import pandas as pd\n",
    "import plotly.graph_objects as go"
   ]
  },
  {
   "cell_type": "code",
   "execution_count": 3,
   "metadata": {},
   "outputs": [],
   "source": [
    "def save_plot(fig, folder, filename, extensions=['png', 'svg', 'pdf', 'html'], scale=2):\n",
    "    if 'png' in extensions:\n",
    "        fig.write_image(folder + filename + '.png', scale=scale)\n",
    "    if 'svg' in extensions:\n",
    "        fig.write_image(folder + filename + '.svg', scale=scale)\n",
    "    if 'pdf' in extensions:\n",
    "        fig.write_image(folder + filename + '.pdf', scale=scale)\n",
    "    if 'html' in extensions:\n",
    "        fig.write_html(folder + filename + '.html')"
   ]
  },
  {
   "cell_type": "code",
   "execution_count": 4,
   "metadata": {},
   "outputs": [],
   "source": [
    "results_dir = 'results/2025-03-06_exclude_reasoning_models/lowest_price_models_above_previous_frontier/'"
   ]
  },
  {
   "cell_type": "code",
   "execution_count": 5,
   "metadata": {},
   "outputs": [],
   "source": [
    "all_cheapest_models_df = pd.read_csv(results_dir + 'lowest_price_models_data.csv')\n",
    "all_other_models_df = pd.read_csv(results_dir + 'other_models_data.csv')\n",
    "results_df = pd.read_csv(results_dir + 'lowest_price_models_results.csv')"
   ]
  },
  {
   "cell_type": "code",
   "execution_count": 7,
   "metadata": {},
   "outputs": [
    {
     "name": "stdout",
     "output_type": "stream",
     "text": [
      "Number of unique observations in cheapest models: 36\n",
      "Number of unique observations in other models: 51\n"
     ]
    }
   ],
   "source": [
    "# Count unique Model Name / Release Date pairs in all_cheapest_models_df\n",
    "unique_model_releases = all_cheapest_models_df[['Model Name', 'Release Date']].drop_duplicates()\n",
    "print(f\"Number of unique observations in cheapest models: {len(unique_model_releases)}\")\n",
    "\n",
    "# Count unique models in all_other_models_df for comparison\n",
    "unique_other_models = all_other_models_df[['Model Name', 'Release Date']].drop_duplicates()\n",
    "print(f\"Number of unique observations in other models: {len(unique_other_models)}\")\n"
   ]
  },
  {
   "cell_type": "code",
   "execution_count": 9,
   "metadata": {},
   "outputs": [
    {
     "data": {
      "text/plain": [
       "34"
      ]
     },
     "execution_count": 9,
     "metadata": {},
     "output_type": "execute_result"
    }
   ],
   "source": [
    "len(all_cheapest_models_df[['Model Name']].drop_duplicates())"
   ]
  },
  {
   "cell_type": "markdown",
   "metadata": {},
   "source": [
    "## Plot of one trend with scatter data"
   ]
  },
  {
   "cell_type": "code",
   "execution_count": 5,
   "metadata": {},
   "outputs": [
    {
     "data": {
      "application/vnd.plotly.v1+json": {
       "config": {
        "plotlyServerURL": "https://plot.ly"
       },
       "data": [
        {
         "marker": {
          "color": "blue"
         },
         "mode": "markers+text",
         "name": "Lowest-price models that are GPT-4-0314 or better on GPQA Diamond",
         "text": [
          "GPT-4-0314",
          "GPT-4 Turbo",
          "Mistral-Large-2024-02",
          "Claude-3-Haiku",
          "Gemini-1.5-Flash-2024-05",
          "Phi 4"
         ],
         "textposition": "bottom left",
         "type": "scatter",
         "x": [
          "2023-03-14",
          "2023-11-06",
          "2024-02-26",
          "2024-03-04",
          "2024-05-10",
          "2024-12-13"
         ],
         "y": [
          37.5,
          15,
          6,
          0.5,
          0.13,
          0.1225
         ],
         "zorder": 3
        },
        {
         "line": {
          "color": "blue",
          "dash": "dash"
         },
         "mode": "lines",
         "name": "Trendline: 42x decrease per year",
         "textposition": "bottom left",
         "type": "scatter",
         "x": [
          "2023-03-14",
          "2023-11-06",
          "2024-02-26",
          "2024-03-04",
          "2024-05-10",
          "2024-12-13"
         ],
         "y": [
          53.03051531989006,
          4.681640819983042,
          1.4867737676929311,
          1.3839178622741644,
          0.6967996973317301,
          0.0754981180285693
         ],
         "zorder": 2
        },
        {
         "marker": {
          "color": "lightgrey"
         },
         "mode": "markers",
         "name": "Other models that are GPT-4-0314 or better on GPQA Diamond",
         "text": [
          "GPT-4-0125",
          "Claude-3-Sonnet",
          "Claude-3-Opus",
          "Mistral-8x22",
          "Llama-3-Instruct-70B",
          "GPT-4o-2024-05",
          "Gemini-1.5-Pro-2024-05",
          "Claude-3.5-Sonnet-2024-06",
          "Gemma-2-27B",
          "Mistral-NeMo",
          "GPT-4o-mini",
          "Llama-3.1-Instruct-70B",
          "Llama-3.1-Instruct-405B",
          "Mistral-Large-2-2024-07",
          "GPT-4o-2024-08",
          "Claude 2",
          "Gemini 1.0 Pro",
          "Claude 2.1",
          "Command R+",
          "Jamba 1.5-Large",
          "Command R+",
          "Gemini-1.5-Pro-2024-09",
          "Gemini-1.5-Flash-2024-09",
          "Claude-3.5-Sonnet-2024-10",
          "Claude-3.5-Haiku",
          "Mistral-Large-2-2024-11",
          "GPT-4o-2024-11",
          "DeepSeek-V3",
          "Mistral Small 3",
          "Gemini 2.0 Flash"
         ],
         "textposition": "bottom left",
         "type": "scatter",
         "x": [
          "2024-01-25",
          "2024-03-04",
          "2024-03-04",
          "2024-04-17",
          "2024-04-18",
          "2024-05-13",
          "2024-05-23",
          "2024-06-20",
          "2024-06-24",
          "2024-07-18",
          "2024-07-18",
          "2024-07-23",
          "2024-07-23",
          "2024-07-24",
          "2024-08-06",
          "2024-08-12",
          "2024-08-12",
          "2024-08-12",
          "2024-08-13",
          "2024-09-12",
          "2024-09-13",
          "2024-09-24",
          "2024-09-24",
          "2024-10-22",
          "2024-10-22",
          "2024-11-18",
          "2024-11-20",
          "2024-12-26",
          "2025-01-30",
          "2025-02-05"
         ],
         "y": [
          15,
          6,
          30,
          1.2,
          0.89,
          7.5,
          2.19,
          6,
          0.26,
          0.13,
          0.26,
          0.72,
          3.5,
          3,
          4.38,
          12,
          0.75,
          12,
          6,
          3.5,
          4.375,
          2.19,
          0.13,
          6,
          1.6,
          3,
          4.38,
          0.4775,
          0.475,
          0.175
         ],
         "zorder": 1
        }
       ],
       "layout": {
        "height": 600,
        "legend": {
         "bordercolor": "lightgrey",
         "borderwidth": 1,
         "x": 0.99,
         "xanchor": "right",
         "y": 0.99,
         "yanchor": "top"
        },
        "template": {
         "data": {
          "bar": [
           {
            "error_x": {
             "color": "#2a3f5f"
            },
            "error_y": {
             "color": "#2a3f5f"
            },
            "marker": {
             "line": {
              "color": "white",
              "width": 0.5
             },
             "pattern": {
              "fillmode": "overlay",
              "size": 10,
              "solidity": 0.2
             }
            },
            "type": "bar"
           }
          ],
          "barpolar": [
           {
            "marker": {
             "line": {
              "color": "white",
              "width": 0.5
             },
             "pattern": {
              "fillmode": "overlay",
              "size": 10,
              "solidity": 0.2
             }
            },
            "type": "barpolar"
           }
          ],
          "carpet": [
           {
            "aaxis": {
             "endlinecolor": "#2a3f5f",
             "gridcolor": "#C8D4E3",
             "linecolor": "#C8D4E3",
             "minorgridcolor": "#C8D4E3",
             "startlinecolor": "#2a3f5f"
            },
            "baxis": {
             "endlinecolor": "#2a3f5f",
             "gridcolor": "#C8D4E3",
             "linecolor": "#C8D4E3",
             "minorgridcolor": "#C8D4E3",
             "startlinecolor": "#2a3f5f"
            },
            "type": "carpet"
           }
          ],
          "choropleth": [
           {
            "colorbar": {
             "outlinewidth": 0,
             "ticks": ""
            },
            "type": "choropleth"
           }
          ],
          "contour": [
           {
            "colorbar": {
             "outlinewidth": 0,
             "ticks": ""
            },
            "colorscale": [
             [
              0,
              "#0d0887"
             ],
             [
              0.1111111111111111,
              "#46039f"
             ],
             [
              0.2222222222222222,
              "#7201a8"
             ],
             [
              0.3333333333333333,
              "#9c179e"
             ],
             [
              0.4444444444444444,
              "#bd3786"
             ],
             [
              0.5555555555555556,
              "#d8576b"
             ],
             [
              0.6666666666666666,
              "#ed7953"
             ],
             [
              0.7777777777777778,
              "#fb9f3a"
             ],
             [
              0.8888888888888888,
              "#fdca26"
             ],
             [
              1,
              "#f0f921"
             ]
            ],
            "type": "contour"
           }
          ],
          "contourcarpet": [
           {
            "colorbar": {
             "outlinewidth": 0,
             "ticks": ""
            },
            "type": "contourcarpet"
           }
          ],
          "heatmap": [
           {
            "colorbar": {
             "outlinewidth": 0,
             "ticks": ""
            },
            "colorscale": [
             [
              0,
              "#0d0887"
             ],
             [
              0.1111111111111111,
              "#46039f"
             ],
             [
              0.2222222222222222,
              "#7201a8"
             ],
             [
              0.3333333333333333,
              "#9c179e"
             ],
             [
              0.4444444444444444,
              "#bd3786"
             ],
             [
              0.5555555555555556,
              "#d8576b"
             ],
             [
              0.6666666666666666,
              "#ed7953"
             ],
             [
              0.7777777777777778,
              "#fb9f3a"
             ],
             [
              0.8888888888888888,
              "#fdca26"
             ],
             [
              1,
              "#f0f921"
             ]
            ],
            "type": "heatmap"
           }
          ],
          "heatmapgl": [
           {
            "colorbar": {
             "outlinewidth": 0,
             "ticks": ""
            },
            "colorscale": [
             [
              0,
              "#0d0887"
             ],
             [
              0.1111111111111111,
              "#46039f"
             ],
             [
              0.2222222222222222,
              "#7201a8"
             ],
             [
              0.3333333333333333,
              "#9c179e"
             ],
             [
              0.4444444444444444,
              "#bd3786"
             ],
             [
              0.5555555555555556,
              "#d8576b"
             ],
             [
              0.6666666666666666,
              "#ed7953"
             ],
             [
              0.7777777777777778,
              "#fb9f3a"
             ],
             [
              0.8888888888888888,
              "#fdca26"
             ],
             [
              1,
              "#f0f921"
             ]
            ],
            "type": "heatmapgl"
           }
          ],
          "histogram": [
           {
            "marker": {
             "pattern": {
              "fillmode": "overlay",
              "size": 10,
              "solidity": 0.2
             }
            },
            "type": "histogram"
           }
          ],
          "histogram2d": [
           {
            "colorbar": {
             "outlinewidth": 0,
             "ticks": ""
            },
            "colorscale": [
             [
              0,
              "#0d0887"
             ],
             [
              0.1111111111111111,
              "#46039f"
             ],
             [
              0.2222222222222222,
              "#7201a8"
             ],
             [
              0.3333333333333333,
              "#9c179e"
             ],
             [
              0.4444444444444444,
              "#bd3786"
             ],
             [
              0.5555555555555556,
              "#d8576b"
             ],
             [
              0.6666666666666666,
              "#ed7953"
             ],
             [
              0.7777777777777778,
              "#fb9f3a"
             ],
             [
              0.8888888888888888,
              "#fdca26"
             ],
             [
              1,
              "#f0f921"
             ]
            ],
            "type": "histogram2d"
           }
          ],
          "histogram2dcontour": [
           {
            "colorbar": {
             "outlinewidth": 0,
             "ticks": ""
            },
            "colorscale": [
             [
              0,
              "#0d0887"
             ],
             [
              0.1111111111111111,
              "#46039f"
             ],
             [
              0.2222222222222222,
              "#7201a8"
             ],
             [
              0.3333333333333333,
              "#9c179e"
             ],
             [
              0.4444444444444444,
              "#bd3786"
             ],
             [
              0.5555555555555556,
              "#d8576b"
             ],
             [
              0.6666666666666666,
              "#ed7953"
             ],
             [
              0.7777777777777778,
              "#fb9f3a"
             ],
             [
              0.8888888888888888,
              "#fdca26"
             ],
             [
              1,
              "#f0f921"
             ]
            ],
            "type": "histogram2dcontour"
           }
          ],
          "mesh3d": [
           {
            "colorbar": {
             "outlinewidth": 0,
             "ticks": ""
            },
            "type": "mesh3d"
           }
          ],
          "parcoords": [
           {
            "line": {
             "colorbar": {
              "outlinewidth": 0,
              "ticks": ""
             }
            },
            "type": "parcoords"
           }
          ],
          "pie": [
           {
            "automargin": true,
            "type": "pie"
           }
          ],
          "scatter": [
           {
            "fillpattern": {
             "fillmode": "overlay",
             "size": 10,
             "solidity": 0.2
            },
            "type": "scatter"
           }
          ],
          "scatter3d": [
           {
            "line": {
             "colorbar": {
              "outlinewidth": 0,
              "ticks": ""
             }
            },
            "marker": {
             "colorbar": {
              "outlinewidth": 0,
              "ticks": ""
             }
            },
            "type": "scatter3d"
           }
          ],
          "scattercarpet": [
           {
            "marker": {
             "colorbar": {
              "outlinewidth": 0,
              "ticks": ""
             }
            },
            "type": "scattercarpet"
           }
          ],
          "scattergeo": [
           {
            "marker": {
             "colorbar": {
              "outlinewidth": 0,
              "ticks": ""
             }
            },
            "type": "scattergeo"
           }
          ],
          "scattergl": [
           {
            "marker": {
             "colorbar": {
              "outlinewidth": 0,
              "ticks": ""
             }
            },
            "type": "scattergl"
           }
          ],
          "scattermapbox": [
           {
            "marker": {
             "colorbar": {
              "outlinewidth": 0,
              "ticks": ""
             }
            },
            "type": "scattermapbox"
           }
          ],
          "scatterpolar": [
           {
            "marker": {
             "colorbar": {
              "outlinewidth": 0,
              "ticks": ""
             }
            },
            "type": "scatterpolar"
           }
          ],
          "scatterpolargl": [
           {
            "marker": {
             "colorbar": {
              "outlinewidth": 0,
              "ticks": ""
             }
            },
            "type": "scatterpolargl"
           }
          ],
          "scatterternary": [
           {
            "marker": {
             "colorbar": {
              "outlinewidth": 0,
              "ticks": ""
             }
            },
            "type": "scatterternary"
           }
          ],
          "surface": [
           {
            "colorbar": {
             "outlinewidth": 0,
             "ticks": ""
            },
            "colorscale": [
             [
              0,
              "#0d0887"
             ],
             [
              0.1111111111111111,
              "#46039f"
             ],
             [
              0.2222222222222222,
              "#7201a8"
             ],
             [
              0.3333333333333333,
              "#9c179e"
             ],
             [
              0.4444444444444444,
              "#bd3786"
             ],
             [
              0.5555555555555556,
              "#d8576b"
             ],
             [
              0.6666666666666666,
              "#ed7953"
             ],
             [
              0.7777777777777778,
              "#fb9f3a"
             ],
             [
              0.8888888888888888,
              "#fdca26"
             ],
             [
              1,
              "#f0f921"
             ]
            ],
            "type": "surface"
           }
          ],
          "table": [
           {
            "cells": {
             "fill": {
              "color": "#EBF0F8"
             },
             "line": {
              "color": "white"
             }
            },
            "header": {
             "fill": {
              "color": "#C8D4E3"
             },
             "line": {
              "color": "white"
             }
            },
            "type": "table"
           }
          ]
         },
         "layout": {
          "annotationdefaults": {
           "arrowcolor": "#2a3f5f",
           "arrowhead": 0,
           "arrowwidth": 1
          },
          "autotypenumbers": "strict",
          "coloraxis": {
           "colorbar": {
            "outlinewidth": 0,
            "ticks": ""
           }
          },
          "colorscale": {
           "diverging": [
            [
             0,
             "#8e0152"
            ],
            [
             0.1,
             "#c51b7d"
            ],
            [
             0.2,
             "#de77ae"
            ],
            [
             0.3,
             "#f1b6da"
            ],
            [
             0.4,
             "#fde0ef"
            ],
            [
             0.5,
             "#f7f7f7"
            ],
            [
             0.6,
             "#e6f5d0"
            ],
            [
             0.7,
             "#b8e186"
            ],
            [
             0.8,
             "#7fbc41"
            ],
            [
             0.9,
             "#4d9221"
            ],
            [
             1,
             "#276419"
            ]
           ],
           "sequential": [
            [
             0,
             "#0d0887"
            ],
            [
             0.1111111111111111,
             "#46039f"
            ],
            [
             0.2222222222222222,
             "#7201a8"
            ],
            [
             0.3333333333333333,
             "#9c179e"
            ],
            [
             0.4444444444444444,
             "#bd3786"
            ],
            [
             0.5555555555555556,
             "#d8576b"
            ],
            [
             0.6666666666666666,
             "#ed7953"
            ],
            [
             0.7777777777777778,
             "#fb9f3a"
            ],
            [
             0.8888888888888888,
             "#fdca26"
            ],
            [
             1,
             "#f0f921"
            ]
           ],
           "sequentialminus": [
            [
             0,
             "#0d0887"
            ],
            [
             0.1111111111111111,
             "#46039f"
            ],
            [
             0.2222222222222222,
             "#7201a8"
            ],
            [
             0.3333333333333333,
             "#9c179e"
            ],
            [
             0.4444444444444444,
             "#bd3786"
            ],
            [
             0.5555555555555556,
             "#d8576b"
            ],
            [
             0.6666666666666666,
             "#ed7953"
            ],
            [
             0.7777777777777778,
             "#fb9f3a"
            ],
            [
             0.8888888888888888,
             "#fdca26"
            ],
            [
             1,
             "#f0f921"
            ]
           ]
          },
          "colorway": [
           "#636efa",
           "#EF553B",
           "#00cc96",
           "#ab63fa",
           "#FFA15A",
           "#19d3f3",
           "#FF6692",
           "#B6E880",
           "#FF97FF",
           "#FECB52"
          ],
          "font": {
           "color": "#2a3f5f"
          },
          "geo": {
           "bgcolor": "white",
           "lakecolor": "white",
           "landcolor": "white",
           "showlakes": true,
           "showland": true,
           "subunitcolor": "#C8D4E3"
          },
          "hoverlabel": {
           "align": "left"
          },
          "hovermode": "closest",
          "mapbox": {
           "style": "light"
          },
          "paper_bgcolor": "white",
          "plot_bgcolor": "white",
          "polar": {
           "angularaxis": {
            "gridcolor": "#EBF0F8",
            "linecolor": "#EBF0F8",
            "ticks": ""
           },
           "bgcolor": "white",
           "radialaxis": {
            "gridcolor": "#EBF0F8",
            "linecolor": "#EBF0F8",
            "ticks": ""
           }
          },
          "scene": {
           "xaxis": {
            "backgroundcolor": "white",
            "gridcolor": "#DFE8F3",
            "gridwidth": 2,
            "linecolor": "#EBF0F8",
            "showbackground": true,
            "ticks": "",
            "zerolinecolor": "#EBF0F8"
           },
           "yaxis": {
            "backgroundcolor": "white",
            "gridcolor": "#DFE8F3",
            "gridwidth": 2,
            "linecolor": "#EBF0F8",
            "showbackground": true,
            "ticks": "",
            "zerolinecolor": "#EBF0F8"
           },
           "zaxis": {
            "backgroundcolor": "white",
            "gridcolor": "#DFE8F3",
            "gridwidth": 2,
            "linecolor": "#EBF0F8",
            "showbackground": true,
            "ticks": "",
            "zerolinecolor": "#EBF0F8"
           }
          },
          "shapedefaults": {
           "line": {
            "color": "#2a3f5f"
           }
          },
          "ternary": {
           "aaxis": {
            "gridcolor": "#DFE8F3",
            "linecolor": "#A2B1C6",
            "ticks": ""
           },
           "baxis": {
            "gridcolor": "#DFE8F3",
            "linecolor": "#A2B1C6",
            "ticks": ""
           },
           "bgcolor": "white",
           "caxis": {
            "gridcolor": "#DFE8F3",
            "linecolor": "#A2B1C6",
            "ticks": ""
           }
          },
          "title": {
           "x": 0.05
          },
          "xaxis": {
           "automargin": true,
           "gridcolor": "#EBF0F8",
           "linecolor": "#EBF0F8",
           "ticks": "",
           "title": {
            "standoff": 15
           },
           "zerolinecolor": "#EBF0F8",
           "zerolinewidth": 2
          },
          "yaxis": {
           "automargin": true,
           "gridcolor": "#EBF0F8",
           "linecolor": "#EBF0F8",
           "ticks": "",
           "title": {
            "standoff": 15
           },
           "zerolinecolor": "#EBF0F8",
           "zerolinewidth": 2
          }
         }
        },
        "title": {
         "text": "Price per token to answer GPQA Diamond questions as well as GPT-4-0314 has fallen by 42x per year"
        },
        "width": 1000,
        "xaxis": {
         "title": {
          "text": "Month"
         }
        },
        "yaxis": {
         "title": {
          "text": "Usage price in USD per million tokens"
         },
         "type": "log"
        }
       }
      }
     },
     "metadata": {},
     "output_type": "display_data"
    }
   ],
   "source": [
    "bench = 'GPQA Diamond'\n",
    "threshold_model = 'GPT-4-0314'\n",
    "cheapest_models_df = all_cheapest_models_df[\n",
    "    (all_cheapest_models_df['bench'] == bench) &\n",
    "    (all_cheapest_models_df['threshold_model'] == threshold_model)\n",
    "]\n",
    "other_models_df = all_other_models_df[\n",
    "    (all_other_models_df['bench'] == bench) &\n",
    "    (all_other_models_df['threshold_model'] == threshold_model)\n",
    "]\n",
    "result = results_df[\n",
    "    (results_df['bench'] == bench) &\n",
    "    (results_df['threshold_model'] == threshold_model)\n",
    "]\n",
    "annual_factor = result['price_reduction_factor_per_year'].iloc[0]\n",
    "predicted_log_prices = cheapest_models_df['predicted_log_price']\n",
    "performance_range = eval(cheapest_models_df['performance_range'].iloc[0])\n",
    "performance_lower_bound = performance_range[0]\n",
    "performance_upper_bound = performance_range[1]\n",
    "\n",
    "fig = go.Figure()\n",
    "\n",
    "\n",
    "fig.add_trace(go.Scatter(\n",
    "    x=cheapest_models_df['Release Date'],\n",
    "    y=cheapest_models_df['USD per 1M Tokens'],\n",
    "    mode='markers+text',\n",
    "    name=f'Lowest-price models that are {threshold_model} or better on {bench}',\n",
    "    text=cheapest_models_df['Model Name'],\n",
    "    textposition='bottom left',\n",
    "    marker=dict(color='blue'),\n",
    "    zorder=3,\n",
    "))\n",
    "fig.add_trace(go.Scatter(\n",
    "    x=cheapest_models_df['Release Date'],\n",
    "    y=predicted_log_prices,\n",
    "    mode='lines',\n",
    "    name=f'Trendline: {annual_factor}x decrease per year',\n",
    "    line=dict(color='blue', dash='dash'),\n",
    "    zorder=2,\n",
    "))\n",
    "fig.add_trace(go.Scatter(\n",
    "    x=other_models_df['Release Date'],\n",
    "    y=other_models_df['USD per 1M Tokens'],\n",
    "    mode='markers',\n",
    "    name=f'Other models that are {threshold_model} or better on {bench}',\n",
    "    text=other_models_df['Model Name'],\n",
    "    textposition='bottom left',\n",
    "    marker=dict(color='lightgrey'),\n",
    "    zorder=1,\n",
    "))\n",
    "fig.update_layout(\n",
    "    title=f'Price per token to answer {bench} questions as well as {threshold_model} has fallen by {annual_factor}x per year'\n",
    ")\n",
    "fig.update_traces(textposition='bottom left')\n",
    "fig.update_layout(yaxis_type='log')\n",
    "fig.update_layout(xaxis_title='Month')\n",
    "fig.update_layout(yaxis_title='Usage price in USD per million tokens')\n",
    "fig.update_layout(\n",
    "    width=1000,\n",
    "    height=600,\n",
    "    legend=dict(\n",
    "        yanchor=\"top\",\n",
    "        y=0.99,\n",
    "        xanchor=\"right\",\n",
    "        x=0.99,\n",
    "        bordercolor=\"lightgrey\",\n",
    "        borderwidth=1\n",
    "    ),\n",
    "    template='plotly_white',\n",
    ")\n",
    "\n",
    "fig.show()"
   ]
  },
  {
   "cell_type": "markdown",
   "metadata": {},
   "source": [
    "## Identify min, median, max trends"
   ]
  },
  {
   "cell_type": "code",
   "execution_count": 6,
   "metadata": {},
   "outputs": [
    {
     "data": {
      "text/plain": [
       "bench                                             MMLU\n",
       "threshold_model                          GPT-3.5 Turbo\n",
       "performance_range                          [68.0, 100]\n",
       "sample_size                                          6\n",
       "start_date                                  2023-03-06\n",
       "end_date                                    2024-10-03\n",
       "price_reduction_factor_per_year                      9\n",
       "price_reduction_factor_per_year_90_ci          [5, 18]\n",
       "r_squared                                         0.93\n",
       "Name: 2, dtype: object"
      ]
     },
     "execution_count": 6,
     "metadata": {},
     "output_type": "execute_result"
    }
   ],
   "source": [
    "min_trend_idx = results_df['price_reduction_factor_per_year'].idxmin()\n",
    "min_trend_result = results_df.iloc[min_trend_idx]\n",
    "min_trend_bench = min_trend_result['bench']\n",
    "min_trend_threshold_model = min_trend_result['threshold_model']\n",
    "min_trend_annual_factor = min_trend_result['price_reduction_factor_per_year']\n",
    "min_trend_result"
   ]
  },
  {
   "cell_type": "code",
   "execution_count": 7,
   "metadata": {},
   "outputs": [
    {
     "data": {
      "text/plain": [
       "bench                                      GPQA Diamond\n",
       "threshold_model                          GPT-4o-2024-05\n",
       "performance_range                           [53.0, 100]\n",
       "sample_size                                           4\n",
       "start_date                                   2024-05-13\n",
       "end_date                                     2024-12-13\n",
       "price_reduction_factor_per_year                     851\n",
       "price_reduction_factor_per_year_90_ci       [6, 117290]\n",
       "r_squared                                          0.89\n",
       "Name: 7, dtype: object"
      ]
     },
     "execution_count": 7,
     "metadata": {},
     "output_type": "execute_result"
    }
   ],
   "source": [
    "max_trend_idx = results_df['price_reduction_factor_per_year'].idxmax()\n",
    "max_trend_result = results_df.iloc[max_trend_idx]\n",
    "max_trend_bench = max_trend_result['bench']\n",
    "max_trend_threshold_model = max_trend_result['threshold_model']\n",
    "max_trend_annual_factor = max_trend_result['price_reduction_factor_per_year']\n",
    "max_trend_result\n"
   ]
  },
  {
   "cell_type": "code",
   "execution_count": 8,
   "metadata": {},
   "outputs": [
    {
     "data": {
      "text/plain": [
       "bench                                    GPQA Diamond\n",
       "threshold_model                           GPT-4 Turbo\n",
       "performance_range                         [50.0, 100]\n",
       "sample_size                                         6\n",
       "start_date                                 2023-11-06\n",
       "end_date                                   2024-12-13\n",
       "price_reduction_factor_per_year                    46\n",
       "price_reduction_factor_per_year_90_ci        [4, 565]\n",
       "r_squared                                        0.73\n",
       "Name: 6, dtype: object"
      ]
     },
     "execution_count": 8,
     "metadata": {},
     "output_type": "execute_result"
    }
   ],
   "source": [
    "median_trend_idx = (results_df['price_reduction_factor_per_year'] - results_df['price_reduction_factor_per_year'].median()).abs().idxmin()\n",
    "median_trend_result = results_df.iloc[median_trend_idx]\n",
    "median_trend_bench = median_trend_result['bench']\n",
    "median_trend_threshold_model = median_trend_result['threshold_model']\n",
    "median_trend_annual_factor = median_trend_result['price_reduction_factor_per_year']\n",
    "median_trend_result"
   ]
  },
  {
   "cell_type": "markdown",
   "metadata": {},
   "source": [
    "## Plot of one trend with other trends greyed out"
   ]
  },
  {
   "cell_type": "code",
   "execution_count": 9,
   "metadata": {},
   "outputs": [
    {
     "name": "stdout",
     "output_type": "stream",
     "text": [
      "Processing MMLU and GPT-3\n",
      "Processing MMLU and GPT-3.5\n",
      "Processing MMLU and GPT-3.5 Turbo\n",
      "Processing MMLU and GPT-4-0314\n",
      "Processing MMLU and GPT-4 Turbo\n",
      "Processing GPQA Diamond and GPT-4-0314\n",
      "Processing GPQA Diamond and GPT-4 Turbo\n",
      "Processing GPQA Diamond and GPT-4o-2024-05\n",
      "Processing GPQA Diamond and Claude-3.5-Sonnet-2024-06\n",
      "Processing MATH-500 and GPT-3.5-Turbo-2023-06\n",
      "Processing MATH-500 and GPT-4 Turbo\n",
      "Processing MATH-500 and GPT-4o-2024-05\n",
      "Processing MATH 5 and GPT-4-0613\n",
      "Processing MATH 5 and GPT-4 Turbo\n",
      "Processing MATH 5 and GPT-4o-2024-05\n",
      "Processing HumanEval and GPT-4-0314\n",
      "Processing HumanEval and GPT-3.5-Turbo-2023-06\n",
      "Processing LMSys Chatbot Arena ELO and GPT-3.5 Turbo\n",
      "Processing LMSys Chatbot Arena ELO and GPT-4-0314\n",
      "Processing LMSys Chatbot Arena ELO and GPT-4 Turbo\n",
      "Processing LMSys Chatbot Arena ELO and GPT-4o-2024-05\n"
     ]
    },
    {
     "data": {
      "application/vnd.plotly.v1+json": {
       "config": {
        "plotlyServerURL": "https://plot.ly"
       },
       "data": [
        {
         "legendgroup": "Other benchmarks and performance levels",
         "legendrank": 1,
         "line": {
          "color": "rgb(230, 230, 230)"
         },
         "mode": "lines",
         "name": "Other benchmarks and performance levels",
         "showlegend": true,
         "textposition": "bottom left",
         "type": "scatter",
         "x": [
          "2021-11-20",
          "2022-09-01",
          "2023-03-06",
          "2023-07-18",
          "2023-12-01",
          "2024-04-14",
          "2024-07-23",
          "2024-09-24",
          "2024-10-03"
         ],
         "y": [
          60.18506522402149,
          8.776477618564474,
          2.4981027096259245,
          1.0103326917473905,
          0.403135155212311,
          0.1619462377470186,
          0.0824097149547576,
          0.0538444775925123,
          0.0506682432802964
         ],
         "zorder": 0
        },
        {
         "legendgroup": "Other benchmarks and performance levels",
         "legendrank": 1,
         "line": {
          "color": "rgb(230, 230, 230)"
         },
         "mode": "lines",
         "name": "Other benchmarks and performance levels",
         "showlegend": false,
         "textposition": "bottom left",
         "type": "scatter",
         "x": [
          "2022-11-30",
          "2023-03-06",
          "2023-11-06",
          "2024-03-04",
          "2024-05-10",
          "2024-07-23",
          "2024-10-03"
         ],
         "y": [
          10.005324256244808,
          4.838877810589961,
          0.7578736114262563,
          0.3079817361983056,
          0.1854990406191638,
          0.1059629761975539,
          0.0614524587024799
         ],
         "zorder": 0
        },
        {
         "legendgroup": "Other benchmarks and performance levels",
         "legendrank": 1,
         "line": {
          "color": "rgb(230, 230, 230)"
         },
         "mode": "lines",
         "name": "Other benchmarks and performance levels",
         "showlegend": false,
         "textposition": "bottom left",
         "type": "scatter",
         "x": [
          "2023-03-06",
          "2023-11-06",
          "2024-03-04",
          "2024-05-10",
          "2024-07-23",
          "2024-10-03"
         ],
         "y": [
          2.587583053564357,
          0.5772173975128928,
          0.2785286642564757,
          0.1847947295326768,
          0.117460923519421,
          0.0755815957466111
         ],
         "zorder": 0
        },
        {
         "legendgroup": "Other benchmarks and performance levels",
         "legendrank": 1,
         "line": {
          "color": "rgb(230, 230, 230)"
         },
         "mode": "lines",
         "name": "Other benchmarks and performance levels",
         "showlegend": false,
         "textposition": "bottom left",
         "type": "scatter",
         "x": [
          "2023-03-14",
          "2023-11-06",
          "2024-05-13",
          "2024-05-23",
          "2025-02-05"
         ],
         "y": [
          66.20683541044728,
          11.004884076125416,
          2.6309012140350614,
          2.439057014986802,
          0.3458208373664705
         ],
         "zorder": 0
        },
        {
         "legendgroup": "Other benchmarks and performance levels",
         "legendrank": 1,
         "line": {
          "color": "rgb(230, 230, 230)"
         },
         "mode": "lines",
         "name": "Other benchmarks and performance levels",
         "showlegend": false,
         "textposition": "bottom left",
         "type": "scatter",
         "x": [
          "2023-11-06",
          "2024-05-13",
          "2024-06-20",
          "2024-07-23",
          "2025-02-05"
         ],
         "y": [
          30.753920946642545,
          4.823277394204966,
          3.323373896590997,
          2.4049208028496873,
          0.3487282650564178
         ],
         "zorder": 0
        },
        {
         "legendgroup": "GPQA Diamond GPT-4-0314",
         "legendrank": 0,
         "line": {
          "color": "red"
         },
         "mode": "lines",
         "name": "GPT-4-0314 level performance on GPQA Diamond",
         "showlegend": true,
         "textposition": "bottom left",
         "type": "scatter",
         "x": [
          "2023-03-14",
          "2023-11-06",
          "2024-02-26",
          "2024-03-04",
          "2024-05-10",
          "2024-12-13"
         ],
         "y": [
          53.03051531989006,
          4.681640819983042,
          1.4867737676929311,
          1.3839178622741644,
          0.6967996973317301,
          0.0754981180285693
         ],
         "zorder": 1
        },
        {
         "legendgroup": "GPQA Diamond GPT-4-0314",
         "legendrank": 0,
         "marker": {
          "color": "red"
         },
         "mode": "markers",
         "name": "Lowest-price models that are GPT-4-0314 or better on GPQA Diamond",
         "showlegend": false,
         "text": [
          "GPT-4-0314",
          "GPT-4 Turbo",
          "Mistral-Large-2024-02",
          "Claude-3-Haiku",
          "Gemini-1.5-Flash-2024-05",
          "Phi 4"
         ],
         "textposition": "bottom left",
         "type": "scatter",
         "x": [
          "2023-03-14",
          "2023-11-06",
          "2024-02-26",
          "2024-03-04",
          "2024-05-10",
          "2024-12-13"
         ],
         "y": [
          37.5,
          15,
          6,
          0.5,
          0.13,
          0.1225
         ],
         "zorder": 2
        },
        {
         "legendgroup": "Other benchmarks and performance levels",
         "legendrank": 1,
         "line": {
          "color": "rgb(230, 230, 230)"
         },
         "mode": "lines",
         "name": "Other benchmarks and performance levels",
         "showlegend": false,
         "textposition": "bottom left",
         "type": "scatter",
         "x": [
          "2023-11-06",
          "2024-05-13",
          "2024-06-20",
          "2024-07-23",
          "2024-09-24",
          "2024-12-13"
         ],
         "y": [
          34.1148705847694,
          4.685484763911751,
          3.143433815985568,
          2.2226104388321386,
          1.146745251272404,
          0.4949019233727883
         ],
         "zorder": 0
        },
        {
         "legendgroup": "Other benchmarks and performance levels",
         "legendrank": 1,
         "line": {
          "color": "rgb(230, 230, 230)"
         },
         "mode": "lines",
         "name": "Other benchmarks and performance levels",
         "showlegend": false,
         "textposition": "bottom left",
         "type": "scatter",
         "x": [
          "2024-05-13",
          "2024-06-20",
          "2024-09-24",
          "2024-12-13"
         ],
         "y": [
          11.09418171131444,
          5.496078097704327,
          0.932007731873607,
          0.2124344916886354
         ],
         "zorder": 0
        },
        {
         "legendgroup": "Other benchmarks and performance levels",
         "legendrank": 1,
         "line": {
          "color": "rgb(230, 230, 230)"
         },
         "mode": "lines",
         "name": "Other benchmarks and performance levels",
         "showlegend": false,
         "textposition": "bottom left",
         "type": "scatter",
         "x": [
          "2024-06-20",
          "2024-09-24",
          "2024-12-26",
          "2025-02-05"
         ],
         "y": [
          7.189651000688689,
          1.6806964067383174,
          0.4111462306364201,
          0.2210107487109144
         ],
         "zorder": 0
        },
        {
         "legendgroup": "Other benchmarks and performance levels",
         "legendrank": 1,
         "line": {
          "color": "rgb(230, 230, 230)"
         },
         "mode": "lines",
         "name": "Other benchmarks and performance levels",
         "showlegend": false,
         "textposition": "bottom left",
         "type": "scatter",
         "x": [
          "2023-06-13",
          "2023-11-06",
          "2024-05-10",
          "2024-07-23",
          "2024-09-24",
          "2024-10-03"
         ],
         "y": [
          2.660398134663666,
          0.836662001419071,
          0.1916507637764143,
          0.1066279812824236,
          0.0647267226438382,
          0.0602717726739573
         ],
         "zorder": 0
        },
        {
         "legendgroup": "Other benchmarks and performance levels",
         "legendrank": 1,
         "line": {
          "color": "rgb(230, 230, 230)"
         },
         "mode": "lines",
         "name": "Other benchmarks and performance levels",
         "showlegend": false,
         "textposition": "bottom left",
         "type": "scatter",
         "x": [
          "2023-11-06",
          "2024-05-13",
          "2024-07-18",
          "2024-09-11",
          "2024-09-24",
          "2024-12-13"
         ],
         "y": [
          21.367566551959538,
          1.4853814814383115,
          0.5854448849689556,
          0.2694796811876465,
          0.2243266837136842,
          0.072570031694498
         ],
         "zorder": 0
        },
        {
         "legendgroup": "Other benchmarks and performance levels",
         "legendrank": 1,
         "line": {
          "color": "rgb(230, 230, 230)"
         },
         "mode": "lines",
         "name": "Other benchmarks and performance levels",
         "showlegend": false,
         "textposition": "bottom left",
         "type": "scatter",
         "x": [
          "2024-05-13",
          "2024-07-18",
          "2024-09-24",
          "2024-12-13"
         ],
         "y": [
          2.6782610281026753,
          0.8215453701325247,
          0.2431409118194603,
          0.0580459010248664
         ],
         "zorder": 0
        },
        {
         "legendgroup": "Other benchmarks and performance levels",
         "legendrank": 1,
         "line": {
          "color": "rgb(230, 230, 230)"
         },
         "mode": "lines",
         "name": "Other benchmarks and performance levels",
         "showlegend": false,
         "textposition": "bottom left",
         "type": "scatter",
         "x": [
          "2023-06-13",
          "2023-11-06",
          "2024-04-17",
          "2024-05-10",
          "2024-12-13"
         ],
         "y": [
          37.04585385765717,
          6.6723689725456925,
          0.9843212305178836,
          0.7513788690307809,
          0.0587986995494523
         ],
         "zorder": 0
        },
        {
         "legendgroup": "Other benchmarks and performance levels",
         "legendrank": 1,
         "line": {
          "color": "rgb(230, 230, 230)"
         },
         "mode": "lines",
         "name": "Other benchmarks and performance levels",
         "showlegend": false,
         "textposition": "bottom left",
         "type": "scatter",
         "x": [
          "2023-11-06",
          "2024-05-13",
          "2024-05-23",
          "2024-07-18",
          "2024-09-24",
          "2024-12-13"
         ],
         "y": [
          23.90605625534131,
          1.7291243571454051,
          1.5047789208436055,
          0.6910236853538267,
          0.2685894391802283,
          0.0883610149948888
         ],
         "zorder": 0
        },
        {
         "legendgroup": "Other benchmarks and performance levels",
         "legendrank": 1,
         "line": {
          "color": "rgb(230, 230, 230)"
         },
         "mode": "lines",
         "name": "Other benchmarks and performance levels",
         "showlegend": false,
         "textposition": "bottom left",
         "type": "scatter",
         "x": [
          "2024-05-13",
          "2024-07-18",
          "2024-09-24",
          "2024-12-13"
         ],
         "y": [
          2.6782610281026753,
          0.8215453701325247,
          0.2431409118194603,
          0.0580459010248664
         ],
         "zorder": 0
        },
        {
         "legendgroup": "Other benchmarks and performance levels",
         "legendrank": 1,
         "line": {
          "color": "rgb(230, 230, 230)"
         },
         "mode": "lines",
         "name": "Other benchmarks and performance levels",
         "showlegend": false,
         "textposition": "bottom left",
         "type": "scatter",
         "x": [
          "2023-03-14",
          "2023-06-13",
          "2023-11-06",
          "2024-03-04",
          "2024-06-24",
          "2024-07-18",
          "2024-07-23"
         ],
         "y": [
          15.72065741592602,
          6.397571514362263,
          1.51206330543973,
          0.4666317112613756,
          0.1543169271650643,
          0.1217408354447767,
          0.1158731133140464
         ],
         "zorder": 0
        },
        {
         "legendgroup": "Other benchmarks and performance levels",
         "legendrank": 1,
         "line": {
          "color": "rgb(230, 230, 230)"
         },
         "mode": "lines",
         "name": "Other benchmarks and performance levels",
         "showlegend": false,
         "textposition": "bottom left",
         "type": "scatter",
         "x": [
          "2023-06-13",
          "2023-11-06",
          "2024-03-04",
          "2024-06-24",
          "2024-07-18",
          "2024-12-13"
         ],
         "y": [
          2.4184376944610544,
          0.9937140022532408,
          0.4813068635606939,
          0.2432779022800432,
          0.2101869022945517,
          0.0853180141093983
         ],
         "zorder": 0
        },
        {
         "legendgroup": "Other benchmarks and performance levels",
         "legendrank": 1,
         "line": {
          "color": "rgb(230, 230, 230)"
         },
         "mode": "lines",
         "name": "Other benchmarks and performance levels",
         "showlegend": false,
         "textposition": "bottom left",
         "type": "scatter",
         "x": [
          "2023-03-06",
          "2023-11-06",
          "2024-03-04",
          "2024-04-18",
          "2024-05-10",
          "2024-07-23",
          "2024-10-03"
         ],
         "y": [
          2.53105982473423,
          0.5543877450733306,
          0.2651493064393493,
          0.2006133829853669,
          0.175041287923676,
          0.1106491209359252,
          0.0708172434283975
         ],
         "zorder": 0
        },
        {
         "legendgroup": "Other benchmarks and performance levels",
         "legendrank": 1,
         "line": {
          "color": "rgb(230, 230, 230)"
         },
         "mode": "lines",
         "name": "Other benchmarks and performance levels",
         "showlegend": false,
         "textposition": "bottom left",
         "type": "scatter",
         "x": [
          "2023-03-14",
          "2023-11-06",
          "2024-03-04",
          "2024-04-18",
          "2024-05-10",
          "2024-10-03"
         ],
         "y": [
          87.40141512040913,
          5.282232254351241,
          1.290909830017495,
          0.7576994800402861,
          0.5839405424874228,
          0.1036591618325374
         ],
         "zorder": 0
        },
        {
         "legendgroup": "Other benchmarks and performance levels",
         "legendrank": 1,
         "line": {
          "color": "rgb(230, 230, 230)"
         },
         "mode": "lines",
         "name": "Other benchmarks and performance levels",
         "showlegend": false,
         "textposition": "bottom left",
         "type": "scatter",
         "x": [
          "2023-11-06",
          "2024-05-13",
          "2024-05-23",
          "2024-07-18",
          "2024-09-24"
         ],
         "y": [
          28.13235557973436,
          1.62781451236301,
          1.39998496609322,
          0.6017647240512152,
          0.2158500860290323
         ],
         "zorder": 0
        },
        {
         "legendgroup": "Other benchmarks and performance levels",
         "legendrank": 1,
         "line": {
          "color": "rgb(230, 230, 230)"
         },
         "mode": "lines",
         "name": "Other benchmarks and performance levels",
         "showlegend": false,
         "textposition": "bottom left",
         "type": "scatter",
         "x": [
          "2024-05-13",
          "2024-08-06",
          "2024-09-24",
          "2024-12-26",
          "2025-02-05"
         ],
         "y": [
          10.845292769015972,
          3.2491012556323997,
          1.621786031966235,
          0.4337575032942908,
          0.2425190347092337
         ],
         "zorder": 0
        }
       ],
       "layout": {
        "annotations": [
         {
          "font": {
           "size": 12
          },
          "showarrow": false,
          "text": "Usage price in USD per million tokens",
          "x": -0.037,
          "xref": "paper",
          "y": 1.07,
          "yref": "paper"
         },
         {
          "arrowcolor": "black",
          "arrowhead": 2,
          "arrowsize": 1,
          "arrowwidth": 1,
          "ax": -30,
          "ay": 30,
          "bgcolor": "rgba(255, 255, 255, 0.7)",
          "font": {
           "color": "red",
           "size": 12
          },
          "showarrow": false,
          "text": "42x decrease per year",
          "x": 0.7,
          "xref": "paper",
          "y": 0.65,
          "yref": "paper"
         }
        ],
        "height": 600,
        "legend": {
         "bordercolor": "lightgrey",
         "borderwidth": 1,
         "x": 0.99,
         "xanchor": "right",
         "y": 0.99,
         "yanchor": "top"
        },
        "margin": {
         "t": 120
        },
        "template": {
         "data": {
          "bar": [
           {
            "error_x": {
             "color": "#2a3f5f"
            },
            "error_y": {
             "color": "#2a3f5f"
            },
            "marker": {
             "line": {
              "color": "white",
              "width": 0.5
             },
             "pattern": {
              "fillmode": "overlay",
              "size": 10,
              "solidity": 0.2
             }
            },
            "type": "bar"
           }
          ],
          "barpolar": [
           {
            "marker": {
             "line": {
              "color": "white",
              "width": 0.5
             },
             "pattern": {
              "fillmode": "overlay",
              "size": 10,
              "solidity": 0.2
             }
            },
            "type": "barpolar"
           }
          ],
          "carpet": [
           {
            "aaxis": {
             "endlinecolor": "#2a3f5f",
             "gridcolor": "#C8D4E3",
             "linecolor": "#C8D4E3",
             "minorgridcolor": "#C8D4E3",
             "startlinecolor": "#2a3f5f"
            },
            "baxis": {
             "endlinecolor": "#2a3f5f",
             "gridcolor": "#C8D4E3",
             "linecolor": "#C8D4E3",
             "minorgridcolor": "#C8D4E3",
             "startlinecolor": "#2a3f5f"
            },
            "type": "carpet"
           }
          ],
          "choropleth": [
           {
            "colorbar": {
             "outlinewidth": 0,
             "ticks": ""
            },
            "type": "choropleth"
           }
          ],
          "contour": [
           {
            "colorbar": {
             "outlinewidth": 0,
             "ticks": ""
            },
            "colorscale": [
             [
              0,
              "#0d0887"
             ],
             [
              0.1111111111111111,
              "#46039f"
             ],
             [
              0.2222222222222222,
              "#7201a8"
             ],
             [
              0.3333333333333333,
              "#9c179e"
             ],
             [
              0.4444444444444444,
              "#bd3786"
             ],
             [
              0.5555555555555556,
              "#d8576b"
             ],
             [
              0.6666666666666666,
              "#ed7953"
             ],
             [
              0.7777777777777778,
              "#fb9f3a"
             ],
             [
              0.8888888888888888,
              "#fdca26"
             ],
             [
              1,
              "#f0f921"
             ]
            ],
            "type": "contour"
           }
          ],
          "contourcarpet": [
           {
            "colorbar": {
             "outlinewidth": 0,
             "ticks": ""
            },
            "type": "contourcarpet"
           }
          ],
          "heatmap": [
           {
            "colorbar": {
             "outlinewidth": 0,
             "ticks": ""
            },
            "colorscale": [
             [
              0,
              "#0d0887"
             ],
             [
              0.1111111111111111,
              "#46039f"
             ],
             [
              0.2222222222222222,
              "#7201a8"
             ],
             [
              0.3333333333333333,
              "#9c179e"
             ],
             [
              0.4444444444444444,
              "#bd3786"
             ],
             [
              0.5555555555555556,
              "#d8576b"
             ],
             [
              0.6666666666666666,
              "#ed7953"
             ],
             [
              0.7777777777777778,
              "#fb9f3a"
             ],
             [
              0.8888888888888888,
              "#fdca26"
             ],
             [
              1,
              "#f0f921"
             ]
            ],
            "type": "heatmap"
           }
          ],
          "heatmapgl": [
           {
            "colorbar": {
             "outlinewidth": 0,
             "ticks": ""
            },
            "colorscale": [
             [
              0,
              "#0d0887"
             ],
             [
              0.1111111111111111,
              "#46039f"
             ],
             [
              0.2222222222222222,
              "#7201a8"
             ],
             [
              0.3333333333333333,
              "#9c179e"
             ],
             [
              0.4444444444444444,
              "#bd3786"
             ],
             [
              0.5555555555555556,
              "#d8576b"
             ],
             [
              0.6666666666666666,
              "#ed7953"
             ],
             [
              0.7777777777777778,
              "#fb9f3a"
             ],
             [
              0.8888888888888888,
              "#fdca26"
             ],
             [
              1,
              "#f0f921"
             ]
            ],
            "type": "heatmapgl"
           }
          ],
          "histogram": [
           {
            "marker": {
             "pattern": {
              "fillmode": "overlay",
              "size": 10,
              "solidity": 0.2
             }
            },
            "type": "histogram"
           }
          ],
          "histogram2d": [
           {
            "colorbar": {
             "outlinewidth": 0,
             "ticks": ""
            },
            "colorscale": [
             [
              0,
              "#0d0887"
             ],
             [
              0.1111111111111111,
              "#46039f"
             ],
             [
              0.2222222222222222,
              "#7201a8"
             ],
             [
              0.3333333333333333,
              "#9c179e"
             ],
             [
              0.4444444444444444,
              "#bd3786"
             ],
             [
              0.5555555555555556,
              "#d8576b"
             ],
             [
              0.6666666666666666,
              "#ed7953"
             ],
             [
              0.7777777777777778,
              "#fb9f3a"
             ],
             [
              0.8888888888888888,
              "#fdca26"
             ],
             [
              1,
              "#f0f921"
             ]
            ],
            "type": "histogram2d"
           }
          ],
          "histogram2dcontour": [
           {
            "colorbar": {
             "outlinewidth": 0,
             "ticks": ""
            },
            "colorscale": [
             [
              0,
              "#0d0887"
             ],
             [
              0.1111111111111111,
              "#46039f"
             ],
             [
              0.2222222222222222,
              "#7201a8"
             ],
             [
              0.3333333333333333,
              "#9c179e"
             ],
             [
              0.4444444444444444,
              "#bd3786"
             ],
             [
              0.5555555555555556,
              "#d8576b"
             ],
             [
              0.6666666666666666,
              "#ed7953"
             ],
             [
              0.7777777777777778,
              "#fb9f3a"
             ],
             [
              0.8888888888888888,
              "#fdca26"
             ],
             [
              1,
              "#f0f921"
             ]
            ],
            "type": "histogram2dcontour"
           }
          ],
          "mesh3d": [
           {
            "colorbar": {
             "outlinewidth": 0,
             "ticks": ""
            },
            "type": "mesh3d"
           }
          ],
          "parcoords": [
           {
            "line": {
             "colorbar": {
              "outlinewidth": 0,
              "ticks": ""
             }
            },
            "type": "parcoords"
           }
          ],
          "pie": [
           {
            "automargin": true,
            "type": "pie"
           }
          ],
          "scatter": [
           {
            "fillpattern": {
             "fillmode": "overlay",
             "size": 10,
             "solidity": 0.2
            },
            "type": "scatter"
           }
          ],
          "scatter3d": [
           {
            "line": {
             "colorbar": {
              "outlinewidth": 0,
              "ticks": ""
             }
            },
            "marker": {
             "colorbar": {
              "outlinewidth": 0,
              "ticks": ""
             }
            },
            "type": "scatter3d"
           }
          ],
          "scattercarpet": [
           {
            "marker": {
             "colorbar": {
              "outlinewidth": 0,
              "ticks": ""
             }
            },
            "type": "scattercarpet"
           }
          ],
          "scattergeo": [
           {
            "marker": {
             "colorbar": {
              "outlinewidth": 0,
              "ticks": ""
             }
            },
            "type": "scattergeo"
           }
          ],
          "scattergl": [
           {
            "marker": {
             "colorbar": {
              "outlinewidth": 0,
              "ticks": ""
             }
            },
            "type": "scattergl"
           }
          ],
          "scattermapbox": [
           {
            "marker": {
             "colorbar": {
              "outlinewidth": 0,
              "ticks": ""
             }
            },
            "type": "scattermapbox"
           }
          ],
          "scatterpolar": [
           {
            "marker": {
             "colorbar": {
              "outlinewidth": 0,
              "ticks": ""
             }
            },
            "type": "scatterpolar"
           }
          ],
          "scatterpolargl": [
           {
            "marker": {
             "colorbar": {
              "outlinewidth": 0,
              "ticks": ""
             }
            },
            "type": "scatterpolargl"
           }
          ],
          "scatterternary": [
           {
            "marker": {
             "colorbar": {
              "outlinewidth": 0,
              "ticks": ""
             }
            },
            "type": "scatterternary"
           }
          ],
          "surface": [
           {
            "colorbar": {
             "outlinewidth": 0,
             "ticks": ""
            },
            "colorscale": [
             [
              0,
              "#0d0887"
             ],
             [
              0.1111111111111111,
              "#46039f"
             ],
             [
              0.2222222222222222,
              "#7201a8"
             ],
             [
              0.3333333333333333,
              "#9c179e"
             ],
             [
              0.4444444444444444,
              "#bd3786"
             ],
             [
              0.5555555555555556,
              "#d8576b"
             ],
             [
              0.6666666666666666,
              "#ed7953"
             ],
             [
              0.7777777777777778,
              "#fb9f3a"
             ],
             [
              0.8888888888888888,
              "#fdca26"
             ],
             [
              1,
              "#f0f921"
             ]
            ],
            "type": "surface"
           }
          ],
          "table": [
           {
            "cells": {
             "fill": {
              "color": "#EBF0F8"
             },
             "line": {
              "color": "white"
             }
            },
            "header": {
             "fill": {
              "color": "#C8D4E3"
             },
             "line": {
              "color": "white"
             }
            },
            "type": "table"
           }
          ]
         },
         "layout": {
          "annotationdefaults": {
           "arrowcolor": "#2a3f5f",
           "arrowhead": 0,
           "arrowwidth": 1
          },
          "autotypenumbers": "strict",
          "coloraxis": {
           "colorbar": {
            "outlinewidth": 0,
            "ticks": ""
           }
          },
          "colorscale": {
           "diverging": [
            [
             0,
             "#8e0152"
            ],
            [
             0.1,
             "#c51b7d"
            ],
            [
             0.2,
             "#de77ae"
            ],
            [
             0.3,
             "#f1b6da"
            ],
            [
             0.4,
             "#fde0ef"
            ],
            [
             0.5,
             "#f7f7f7"
            ],
            [
             0.6,
             "#e6f5d0"
            ],
            [
             0.7,
             "#b8e186"
            ],
            [
             0.8,
             "#7fbc41"
            ],
            [
             0.9,
             "#4d9221"
            ],
            [
             1,
             "#276419"
            ]
           ],
           "sequential": [
            [
             0,
             "#0d0887"
            ],
            [
             0.1111111111111111,
             "#46039f"
            ],
            [
             0.2222222222222222,
             "#7201a8"
            ],
            [
             0.3333333333333333,
             "#9c179e"
            ],
            [
             0.4444444444444444,
             "#bd3786"
            ],
            [
             0.5555555555555556,
             "#d8576b"
            ],
            [
             0.6666666666666666,
             "#ed7953"
            ],
            [
             0.7777777777777778,
             "#fb9f3a"
            ],
            [
             0.8888888888888888,
             "#fdca26"
            ],
            [
             1,
             "#f0f921"
            ]
           ],
           "sequentialminus": [
            [
             0,
             "#0d0887"
            ],
            [
             0.1111111111111111,
             "#46039f"
            ],
            [
             0.2222222222222222,
             "#7201a8"
            ],
            [
             0.3333333333333333,
             "#9c179e"
            ],
            [
             0.4444444444444444,
             "#bd3786"
            ],
            [
             0.5555555555555556,
             "#d8576b"
            ],
            [
             0.6666666666666666,
             "#ed7953"
            ],
            [
             0.7777777777777778,
             "#fb9f3a"
            ],
            [
             0.8888888888888888,
             "#fdca26"
            ],
            [
             1,
             "#f0f921"
            ]
           ]
          },
          "colorway": [
           "#636efa",
           "#EF553B",
           "#00cc96",
           "#ab63fa",
           "#FFA15A",
           "#19d3f3",
           "#FF6692",
           "#B6E880",
           "#FF97FF",
           "#FECB52"
          ],
          "font": {
           "color": "#2a3f5f"
          },
          "geo": {
           "bgcolor": "white",
           "lakecolor": "white",
           "landcolor": "white",
           "showlakes": true,
           "showland": true,
           "subunitcolor": "#C8D4E3"
          },
          "hoverlabel": {
           "align": "left"
          },
          "hovermode": "closest",
          "mapbox": {
           "style": "light"
          },
          "paper_bgcolor": "white",
          "plot_bgcolor": "white",
          "polar": {
           "angularaxis": {
            "gridcolor": "#EBF0F8",
            "linecolor": "#EBF0F8",
            "ticks": ""
           },
           "bgcolor": "white",
           "radialaxis": {
            "gridcolor": "#EBF0F8",
            "linecolor": "#EBF0F8",
            "ticks": ""
           }
          },
          "scene": {
           "xaxis": {
            "backgroundcolor": "white",
            "gridcolor": "#DFE8F3",
            "gridwidth": 2,
            "linecolor": "#EBF0F8",
            "showbackground": true,
            "ticks": "",
            "zerolinecolor": "#EBF0F8"
           },
           "yaxis": {
            "backgroundcolor": "white",
            "gridcolor": "#DFE8F3",
            "gridwidth": 2,
            "linecolor": "#EBF0F8",
            "showbackground": true,
            "ticks": "",
            "zerolinecolor": "#EBF0F8"
           },
           "zaxis": {
            "backgroundcolor": "white",
            "gridcolor": "#DFE8F3",
            "gridwidth": 2,
            "linecolor": "#EBF0F8",
            "showbackground": true,
            "ticks": "",
            "zerolinecolor": "#EBF0F8"
           }
          },
          "shapedefaults": {
           "line": {
            "color": "#2a3f5f"
           }
          },
          "ternary": {
           "aaxis": {
            "gridcolor": "#DFE8F3",
            "linecolor": "#A2B1C6",
            "ticks": ""
           },
           "baxis": {
            "gridcolor": "#DFE8F3",
            "linecolor": "#A2B1C6",
            "ticks": ""
           },
           "bgcolor": "white",
           "caxis": {
            "gridcolor": "#DFE8F3",
            "linecolor": "#A2B1C6",
            "ticks": ""
           }
          },
          "title": {
           "x": 0.05
          },
          "xaxis": {
           "automargin": true,
           "gridcolor": "#EBF0F8",
           "linecolor": "#EBF0F8",
           "ticks": "",
           "title": {
            "standoff": 15
           },
           "zerolinecolor": "#EBF0F8",
           "zerolinewidth": 2
          },
          "yaxis": {
           "automargin": true,
           "gridcolor": "#EBF0F8",
           "linecolor": "#EBF0F8",
           "ticks": "",
           "title": {
            "standoff": 15
           },
           "zerolinecolor": "#EBF0F8",
           "zerolinewidth": 2
          }
         }
        },
        "title": {
         "text": "The usage price of LLMs at a given performance level has fallen by 9–900x per year"
        },
        "width": 1000,
        "xaxis": {
         "title": {
          "text": "Release date"
         }
        },
        "yaxis": {
         "dtick": "D10",
         "type": "log"
        }
       }
      }
     },
     "metadata": {},
     "output_type": "display_data"
    }
   ],
   "source": [
    "selected_benches = results_df['bench'].unique()\n",
    "selected_threshold_models = results_df['threshold_model'].unique()\n",
    "selected_bench = 'GPQA Diamond'\n",
    "selected_threshold_model = 'GPT-4-0314'\n",
    "selected_annual_factor = results_df[\n",
    "    (results_df['bench'] == selected_bench) &\n",
    "    (results_df['threshold_model'] == selected_threshold_model)\n",
    "]['price_reduction_factor_per_year'].iloc[0]\n",
    "\n",
    "fig = go.Figure()\n",
    "\n",
    "for i, row in results_df.iterrows():\n",
    "    bench = row['bench']\n",
    "    threshold_model = row['threshold_model']\n",
    "    print(f'Processing {bench} and {threshold_model}')\n",
    "    cheapest_models_df = all_cheapest_models_df[\n",
    "        (all_cheapest_models_df['bench'] == bench) &\n",
    "        (all_cheapest_models_df['threshold_model'] == threshold_model)\n",
    "    ]\n",
    "    annual_factor = row['price_reduction_factor_per_year']\n",
    "    predicted_log_prices = cheapest_models_df['predicted_log_price']\n",
    "\n",
    "    if bench == selected_bench and threshold_model == selected_threshold_model:\n",
    "        color = 'red'\n",
    "        showlegend = True\n",
    "        zorder = 1\n",
    "        legendgroup = f'{selected_bench} {selected_threshold_model}'\n",
    "        legendrank = 0\n",
    "    else:\n",
    "        color = 'rgb(230, 230, 230)'\n",
    "        showlegend = i == 0  # Only show the first one in legend\n",
    "        zorder = 0\n",
    "        legendgroup = \"Other benchmarks and performance levels\"\n",
    "        legendrank = 1\n",
    "\n",
    "    fig.add_trace(go.Scatter(\n",
    "        x=cheapest_models_df['Release Date'],\n",
    "        y=predicted_log_prices,\n",
    "        mode='lines',\n",
    "        name=f'{threshold_model} level performance on {bench}' if bench == selected_bench and threshold_model == selected_threshold_model else \"Other benchmarks and performance levels\",\n",
    "        line=dict(color=color),\n",
    "        showlegend=showlegend,\n",
    "        zorder=zorder,\n",
    "        legendgroup=legendgroup,\n",
    "        legendrank=legendrank,\n",
    "    ))\n",
    "    if bench == selected_bench and threshold_model == selected_threshold_model:\n",
    "        fig.add_trace(go.Scatter(\n",
    "            x=cheapest_models_df['Release Date'],\n",
    "            y=cheapest_models_df['USD per 1M Tokens'],\n",
    "            mode='markers',\n",
    "            name=f'Lowest-price models that are {threshold_model} or better on {bench}',\n",
    "            text=cheapest_models_df['Model Name'],\n",
    "            textposition='bottom left',\n",
    "            marker=dict(color='red'),\n",
    "            showlegend=False,\n",
    "            zorder=zorder+1,\n",
    "            legendgroup=legendgroup,\n",
    "            legendrank=legendrank,\n",
    "        ))\n",
    "\n",
    "# Remove minor y labels\n",
    "fig.update_layout(\n",
    "    yaxis=dict(\n",
    "        dtick='D10',\n",
    "        # range=[-1, 2],\n",
    "    )\n",
    ")\n",
    "fig.update_layout(\n",
    "    title=f'The usage price of LLMs at a given performance level has fallen by {min_trend_annual_factor}–{round(max_trend_annual_factor, -2)}x per year'\n",
    ")\n",
    "fig.update_traces(textposition='bottom left')\n",
    "fig.update_layout(yaxis_type='log')\n",
    "fig.update_layout(xaxis_title='Release date')\n",
    "# fig.update_layout(yaxis_title='Usage price in USD per million tokens')\n",
    "fig.update_layout(\n",
    "    annotations=[\n",
    "        dict(\n",
    "            x=-0.037,  # Center of the plot\n",
    "            y=1.07,  # Above the plot\n",
    "            xref='paper',\n",
    "            yref='paper',\n",
    "            text='Usage price in USD per million tokens',\n",
    "            showarrow=False,\n",
    "            font=dict(size=12),\n",
    "        ),\n",
    "        # Add annotation for highlighted trend\n",
    "        dict(\n",
    "            x=0.7,  # Position on x-axis (adjust as needed)\n",
    "            y=0.65,  # Position on y-axis (adjust as needed)\n",
    "            xref='paper',\n",
    "            yref='paper',\n",
    "            text=f'{selected_annual_factor}x decrease per year',\n",
    "            showarrow=False,\n",
    "            arrowhead=2,\n",
    "            arrowsize=1,\n",
    "            arrowwidth=1,\n",
    "            arrowcolor='black',\n",
    "            ax=-30,\n",
    "            ay=30,\n",
    "            font=dict(size=12, color='red'),\n",
    "            bgcolor='rgba(255, 255, 255, 0.7)',\n",
    "            # bordercolor='lightgrey',\n",
    "            # borderwidth=1,\n",
    "            # borderpad=0,\n",
    "        )\n",
    "    ],\n",
    ")\n",
    "fig.update_layout(\n",
    "    width=1000,\n",
    "    height=600,\n",
    "    legend=dict(\n",
    "        yanchor=\"top\",\n",
    "        y=0.99,\n",
    "        xanchor=\"right\",\n",
    "        x=0.99,\n",
    "        bordercolor=\"lightgrey\",\n",
    "        borderwidth=1\n",
    "    ),\n",
    "    margin=dict(t=120),\n",
    "    template='plotly_white',\n",
    ")\n",
    "\n",
    "save_plot(fig, results_dir, 'lowest_price_trends_all_highlighting_max_trend')\n",
    "\n",
    "fig.show()"
   ]
  },
  {
   "cell_type": "markdown",
   "metadata": {},
   "source": [
    "## Plot of trends in the past year"
   ]
  },
  {
   "cell_type": "code",
   "execution_count": 10,
   "metadata": {},
   "outputs": [
    {
     "data": {
      "text/html": [
       "<div>\n",
       "<style scoped>\n",
       "    .dataframe tbody tr th:only-of-type {\n",
       "        vertical-align: middle;\n",
       "    }\n",
       "\n",
       "    .dataframe tbody tr th {\n",
       "        vertical-align: top;\n",
       "    }\n",
       "\n",
       "    .dataframe thead th {\n",
       "        text-align: right;\n",
       "    }\n",
       "</style>\n",
       "<table border=\"1\" class=\"dataframe\">\n",
       "  <thead>\n",
       "    <tr style=\"text-align: right;\">\n",
       "      <th></th>\n",
       "      <th>bench</th>\n",
       "      <th>threshold_model</th>\n",
       "      <th>performance_range</th>\n",
       "      <th>sample_size</th>\n",
       "      <th>start_date</th>\n",
       "      <th>end_date</th>\n",
       "      <th>price_reduction_factor_per_year</th>\n",
       "      <th>price_reduction_factor_per_year_90_ci</th>\n",
       "      <th>r_squared</th>\n",
       "    </tr>\n",
       "  </thead>\n",
       "  <tbody>\n",
       "    <tr>\n",
       "      <th>7</th>\n",
       "      <td>GPQA Diamond</td>\n",
       "      <td>GPT-4o-2024-05</td>\n",
       "      <td>[53.0, 100]</td>\n",
       "      <td>4</td>\n",
       "      <td>2024-05-13</td>\n",
       "      <td>2024-12-13</td>\n",
       "      <td>851</td>\n",
       "      <td>[6, 117290]</td>\n",
       "      <td>0.89</td>\n",
       "    </tr>\n",
       "    <tr>\n",
       "      <th>8</th>\n",
       "      <td>GPQA Diamond</td>\n",
       "      <td>Claude-3.5-Sonnet-2024-06</td>\n",
       "      <td>[56.0, 100]</td>\n",
       "      <td>4</td>\n",
       "      <td>2024-06-20</td>\n",
       "      <td>2025-02-05</td>\n",
       "      <td>251</td>\n",
       "      <td>[42, 1518]</td>\n",
       "      <td>0.98</td>\n",
       "    </tr>\n",
       "    <tr>\n",
       "      <th>11</th>\n",
       "      <td>MATH-500</td>\n",
       "      <td>GPT-4o-2024-05</td>\n",
       "      <td>[79.0, 100]</td>\n",
       "      <td>4</td>\n",
       "      <td>2024-05-13</td>\n",
       "      <td>2024-12-13</td>\n",
       "      <td>689</td>\n",
       "      <td>[0, 3966835]</td>\n",
       "      <td>0.71</td>\n",
       "    </tr>\n",
       "    <tr>\n",
       "      <th>14</th>\n",
       "      <td>MATH 5</td>\n",
       "      <td>GPT-4o-2024-05</td>\n",
       "      <td>[48.0, 100]</td>\n",
       "      <td>4</td>\n",
       "      <td>2024-05-13</td>\n",
       "      <td>2024-12-13</td>\n",
       "      <td>689</td>\n",
       "      <td>[0, 3966835]</td>\n",
       "      <td>0.71</td>\n",
       "    </tr>\n",
       "    <tr>\n",
       "      <th>20</th>\n",
       "      <td>LMSys Chatbot Arena ELO</td>\n",
       "      <td>GPT-4o-2024-05</td>\n",
       "      <td>[1285.0, inf]</td>\n",
       "      <td>5</td>\n",
       "      <td>2024-05-13</td>\n",
       "      <td>2025-02-05</td>\n",
       "      <td>177</td>\n",
       "      <td>[39, 800]</td>\n",
       "      <td>0.96</td>\n",
       "    </tr>\n",
       "  </tbody>\n",
       "</table>\n",
       "</div>"
      ],
      "text/plain": [
       "                      bench            threshold_model performance_range  \\\n",
       "7              GPQA Diamond             GPT-4o-2024-05       [53.0, 100]   \n",
       "8              GPQA Diamond  Claude-3.5-Sonnet-2024-06       [56.0, 100]   \n",
       "11                 MATH-500             GPT-4o-2024-05       [79.0, 100]   \n",
       "14                   MATH 5             GPT-4o-2024-05       [48.0, 100]   \n",
       "20  LMSys Chatbot Arena ELO             GPT-4o-2024-05     [1285.0, inf]   \n",
       "\n",
       "    sample_size  start_date    end_date  price_reduction_factor_per_year  \\\n",
       "7             4  2024-05-13  2024-12-13                              851   \n",
       "8             4  2024-06-20  2025-02-05                              251   \n",
       "11            4  2024-05-13  2024-12-13                              689   \n",
       "14            4  2024-05-13  2024-12-13                              689   \n",
       "20            5  2024-05-13  2025-02-05                              177   \n",
       "\n",
       "   price_reduction_factor_per_year_90_ci  r_squared  \n",
       "7                            [6, 117290]       0.89  \n",
       "8                             [42, 1518]       0.98  \n",
       "11                          [0, 3966835]       0.71  \n",
       "14                          [0, 3966835]       0.71  \n",
       "20                             [39, 800]       0.96  "
      ]
     },
     "execution_count": 10,
     "metadata": {},
     "output_type": "execute_result"
    }
   ],
   "source": [
    "min_date_df = results_df.copy()\n",
    "start_date_ordinals = min_date_df['start_date'].map(lambda x: pd.Timestamp(x).toordinal())\n",
    "current_date_ordinal = pd.Timestamp.now().toordinal()\n",
    "min_date_df = min_date_df[start_date_ordinals > current_date_ordinal - 365]\n",
    "min_date_df"
   ]
  },
  {
   "cell_type": "code",
   "execution_count": 11,
   "metadata": {},
   "outputs": [
    {
     "data": {
      "text/plain": [
       "[('GPQA Diamond', 'GPT-4o-2024-05'),\n",
       " ('GPQA Diamond', 'Claude-3.5-Sonnet-2024-06'),\n",
       " ('MATH-500', 'GPT-4o-2024-05'),\n",
       " ('MATH 5', 'GPT-4o-2024-05'),\n",
       " ('LMSys Chatbot Arena ELO', 'GPT-4o-2024-05')]"
      ]
     },
     "execution_count": 11,
     "metadata": {},
     "output_type": "execute_result"
    }
   ],
   "source": [
    "[(row['bench'], row['threshold_model']) for i, row in min_date_df.iterrows()]"
   ]
  },
  {
   "cell_type": "code",
   "execution_count": 12,
   "metadata": {},
   "outputs": [
    {
     "name": "stdout",
     "output_type": "stream",
     "text": [
      "orange: 851x per year\n",
      "magenta: 251x per year\n",
      "turquoise: 689x per year\n",
      "turquoise: 689x per year\n",
      "blue: 177x per year\n"
     ]
    },
    {
     "data": {
      "application/vnd.plotly.v1+json": {
       "config": {
        "plotlyServerURL": "https://plot.ly"
       },
       "data": [
        {
         "legendgroup": "Other benchmarks and performance levels",
         "legendrank": 1,
         "line": {
          "color": "rgb(230, 230, 230)"
         },
         "mode": "lines",
         "name": "Other benchmarks and performance levels",
         "showlegend": true,
         "textposition": "bottom left",
         "type": "scatter",
         "x": [
          "2021-11-20",
          "2022-09-01",
          "2023-03-06",
          "2023-07-18",
          "2023-12-01",
          "2024-04-14",
          "2024-07-23",
          "2024-09-24",
          "2024-10-03"
         ],
         "y": [
          60.18506522402149,
          8.776477618564474,
          2.4981027096259245,
          1.0103326917473905,
          0.403135155212311,
          0.1619462377470186,
          0.0824097149547576,
          0.0538444775925123,
          0.0506682432802964
         ],
         "zorder": 0
        },
        {
         "legendgroup": "Other benchmarks and performance levels",
         "legendrank": 1,
         "line": {
          "color": "rgb(230, 230, 230)"
         },
         "mode": "lines",
         "name": "Other benchmarks and performance levels",
         "showlegend": false,
         "textposition": "bottom left",
         "type": "scatter",
         "x": [
          "2022-11-30",
          "2023-03-06",
          "2023-11-06",
          "2024-03-04",
          "2024-05-10",
          "2024-07-23",
          "2024-10-03"
         ],
         "y": [
          10.005324256244808,
          4.838877810589961,
          0.7578736114262563,
          0.3079817361983056,
          0.1854990406191638,
          0.1059629761975539,
          0.0614524587024799
         ],
         "zorder": 0
        },
        {
         "legendgroup": "Other benchmarks and performance levels",
         "legendrank": 1,
         "line": {
          "color": "rgb(230, 230, 230)"
         },
         "mode": "lines",
         "name": "Other benchmarks and performance levels",
         "showlegend": false,
         "textposition": "bottom left",
         "type": "scatter",
         "x": [
          "2023-03-06",
          "2023-11-06",
          "2024-03-04",
          "2024-05-10",
          "2024-07-23",
          "2024-10-03"
         ],
         "y": [
          2.587583053564357,
          0.5772173975128928,
          0.2785286642564757,
          0.1847947295326768,
          0.117460923519421,
          0.0755815957466111
         ],
         "zorder": 0
        },
        {
         "legendgroup": "Other benchmarks and performance levels",
         "legendrank": 1,
         "line": {
          "color": "rgb(230, 230, 230)"
         },
         "mode": "lines",
         "name": "Other benchmarks and performance levels",
         "showlegend": false,
         "textposition": "bottom left",
         "type": "scatter",
         "x": [
          "2023-03-14",
          "2023-11-06",
          "2024-05-13",
          "2024-05-23",
          "2025-02-05"
         ],
         "y": [
          66.20683541044728,
          11.004884076125416,
          2.6309012140350614,
          2.439057014986802,
          0.3458208373664705
         ],
         "zorder": 0
        },
        {
         "legendgroup": "Other benchmarks and performance levels",
         "legendrank": 1,
         "line": {
          "color": "rgb(230, 230, 230)"
         },
         "mode": "lines",
         "name": "Other benchmarks and performance levels",
         "showlegend": false,
         "textposition": "bottom left",
         "type": "scatter",
         "x": [
          "2023-11-06",
          "2024-05-13",
          "2024-06-20",
          "2024-07-23",
          "2025-02-05"
         ],
         "y": [
          30.753920946642545,
          4.823277394204966,
          3.323373896590997,
          2.4049208028496873,
          0.3487282650564178
         ],
         "zorder": 0
        },
        {
         "legendgroup": "Other benchmarks and performance levels",
         "legendrank": 1,
         "line": {
          "color": "rgb(230, 230, 230)"
         },
         "mode": "lines",
         "name": "Other benchmarks and performance levels",
         "showlegend": false,
         "textposition": "bottom left",
         "type": "scatter",
         "x": [
          "2023-03-14",
          "2023-11-06",
          "2024-02-26",
          "2024-03-04",
          "2024-05-10",
          "2024-12-13"
         ],
         "y": [
          53.03051531989006,
          4.681640819983042,
          1.4867737676929311,
          1.3839178622741644,
          0.6967996973317301,
          0.0754981180285693
         ],
         "zorder": 0
        },
        {
         "legendgroup": "Other benchmarks and performance levels",
         "legendrank": 1,
         "line": {
          "color": "rgb(230, 230, 230)"
         },
         "mode": "lines",
         "name": "Other benchmarks and performance levels",
         "showlegend": false,
         "textposition": "bottom left",
         "type": "scatter",
         "x": [
          "2023-11-06",
          "2024-05-13",
          "2024-06-20",
          "2024-07-23",
          "2024-09-24",
          "2024-12-13"
         ],
         "y": [
          34.1148705847694,
          4.685484763911751,
          3.143433815985568,
          2.2226104388321386,
          1.146745251272404,
          0.4949019233727883
         ],
         "zorder": 0
        },
        {
         "legendgroup": "Trends in the past year",
         "legendrank": 0,
         "line": {
          "color": "orange"
         },
         "mode": "lines",
         "name": "GPT-4o-2024-05 level or better in Ph.D. level science questions",
         "showlegend": true,
         "textposition": "bottom left",
         "type": "scatter",
         "x": [
          "2024-05-13",
          "2024-06-20",
          "2024-09-24",
          "2024-12-13"
         ],
         "y": [
          11.09418171131444,
          5.496078097704327,
          0.932007731873607,
          0.2124344916886354
         ],
         "zorder": 1
        },
        {
         "legendgroup": "Trends in the past year",
         "legendrank": 0,
         "line": {
          "color": "magenta"
         },
         "mode": "lines",
         "name": "Claude-3.5-Sonnet-2024-06 level or better in Ph.D. level science questions",
         "showlegend": true,
         "textposition": "bottom left",
         "type": "scatter",
         "x": [
          "2024-06-20",
          "2024-09-24",
          "2024-12-26",
          "2025-02-05"
         ],
         "y": [
          7.189651000688689,
          1.6806964067383174,
          0.4111462306364201,
          0.2210107487109144
         ],
         "zorder": 1
        },
        {
         "legendgroup": "Other benchmarks and performance levels",
         "legendrank": 1,
         "line": {
          "color": "rgb(230, 230, 230)"
         },
         "mode": "lines",
         "name": "Other benchmarks and performance levels",
         "showlegend": false,
         "textposition": "bottom left",
         "type": "scatter",
         "x": [
          "2023-06-13",
          "2023-11-06",
          "2024-05-10",
          "2024-07-23",
          "2024-09-24",
          "2024-10-03"
         ],
         "y": [
          2.660398134663666,
          0.836662001419071,
          0.1916507637764143,
          0.1066279812824236,
          0.0647267226438382,
          0.0602717726739573
         ],
         "zorder": 0
        },
        {
         "legendgroup": "Other benchmarks and performance levels",
         "legendrank": 1,
         "line": {
          "color": "rgb(230, 230, 230)"
         },
         "mode": "lines",
         "name": "Other benchmarks and performance levels",
         "showlegend": false,
         "textposition": "bottom left",
         "type": "scatter",
         "x": [
          "2023-11-06",
          "2024-05-13",
          "2024-07-18",
          "2024-09-11",
          "2024-09-24",
          "2024-12-13"
         ],
         "y": [
          21.367566551959538,
          1.4853814814383115,
          0.5854448849689556,
          0.2694796811876465,
          0.2243266837136842,
          0.072570031694498
         ],
         "zorder": 0
        },
        {
         "legendgroup": "Trends in the past year",
         "legendrank": 0,
         "line": {
          "color": "turquoise"
         },
         "mode": "lines",
         "name": "GPT-4o-2024-05 level or better in math",
         "showlegend": true,
         "textposition": "bottom left",
         "type": "scatter",
         "x": [
          "2024-05-13",
          "2024-07-18",
          "2024-09-24",
          "2024-12-13"
         ],
         "y": [
          2.6782610281026753,
          0.8215453701325247,
          0.2431409118194603,
          0.0580459010248664
         ],
         "zorder": 1
        },
        {
         "legendgroup": "Other benchmarks and performance levels",
         "legendrank": 1,
         "line": {
          "color": "rgb(230, 230, 230)"
         },
         "mode": "lines",
         "name": "Other benchmarks and performance levels",
         "showlegend": false,
         "textposition": "bottom left",
         "type": "scatter",
         "x": [
          "2023-06-13",
          "2023-11-06",
          "2024-04-17",
          "2024-05-10",
          "2024-12-13"
         ],
         "y": [
          37.04585385765717,
          6.6723689725456925,
          0.9843212305178836,
          0.7513788690307809,
          0.0587986995494523
         ],
         "zorder": 0
        },
        {
         "legendgroup": "Other benchmarks and performance levels",
         "legendrank": 1,
         "line": {
          "color": "rgb(230, 230, 230)"
         },
         "mode": "lines",
         "name": "Other benchmarks and performance levels",
         "showlegend": false,
         "textposition": "bottom left",
         "type": "scatter",
         "x": [
          "2023-11-06",
          "2024-05-13",
          "2024-05-23",
          "2024-07-18",
          "2024-09-24",
          "2024-12-13"
         ],
         "y": [
          23.90605625534131,
          1.7291243571454051,
          1.5047789208436055,
          0.6910236853538267,
          0.2685894391802283,
          0.0883610149948888
         ],
         "zorder": 0
        },
        {
         "legendgroup": "Trends in the past year",
         "legendrank": 0,
         "line": {
          "color": "turquoise"
         },
         "mode": "lines",
         "name": "GPT-4o-2024-05 level or better in math (advanced)",
         "showlegend": true,
         "textposition": "bottom left",
         "type": "scatter",
         "x": [
          "2024-05-13",
          "2024-07-18",
          "2024-09-24",
          "2024-12-13"
         ],
         "y": [
          2.6782610281026753,
          0.8215453701325247,
          0.2431409118194603,
          0.0580459010248664
         ],
         "zorder": 1
        },
        {
         "legendgroup": "Other benchmarks and performance levels",
         "legendrank": 1,
         "line": {
          "color": "rgb(230, 230, 230)"
         },
         "mode": "lines",
         "name": "Other benchmarks and performance levels",
         "showlegend": false,
         "textposition": "bottom left",
         "type": "scatter",
         "x": [
          "2023-03-14",
          "2023-06-13",
          "2023-11-06",
          "2024-03-04",
          "2024-06-24",
          "2024-07-18",
          "2024-07-23"
         ],
         "y": [
          15.72065741592602,
          6.397571514362263,
          1.51206330543973,
          0.4666317112613756,
          0.1543169271650643,
          0.1217408354447767,
          0.1158731133140464
         ],
         "zorder": 0
        },
        {
         "legendgroup": "Other benchmarks and performance levels",
         "legendrank": 1,
         "line": {
          "color": "rgb(230, 230, 230)"
         },
         "mode": "lines",
         "name": "Other benchmarks and performance levels",
         "showlegend": false,
         "textposition": "bottom left",
         "type": "scatter",
         "x": [
          "2023-06-13",
          "2023-11-06",
          "2024-03-04",
          "2024-06-24",
          "2024-07-18",
          "2024-12-13"
         ],
         "y": [
          2.4184376944610544,
          0.9937140022532408,
          0.4813068635606939,
          0.2432779022800432,
          0.2101869022945517,
          0.0853180141093983
         ],
         "zorder": 0
        },
        {
         "legendgroup": "Other benchmarks and performance levels",
         "legendrank": 1,
         "line": {
          "color": "rgb(230, 230, 230)"
         },
         "mode": "lines",
         "name": "Other benchmarks and performance levels",
         "showlegend": false,
         "textposition": "bottom left",
         "type": "scatter",
         "x": [
          "2023-03-06",
          "2023-11-06",
          "2024-03-04",
          "2024-04-18",
          "2024-05-10",
          "2024-07-23",
          "2024-10-03"
         ],
         "y": [
          2.53105982473423,
          0.5543877450733306,
          0.2651493064393493,
          0.2006133829853669,
          0.175041287923676,
          0.1106491209359252,
          0.0708172434283975
         ],
         "zorder": 0
        },
        {
         "legendgroup": "Other benchmarks and performance levels",
         "legendrank": 1,
         "line": {
          "color": "rgb(230, 230, 230)"
         },
         "mode": "lines",
         "name": "Other benchmarks and performance levels",
         "showlegend": false,
         "textposition": "bottom left",
         "type": "scatter",
         "x": [
          "2023-03-14",
          "2023-11-06",
          "2024-03-04",
          "2024-04-18",
          "2024-05-10",
          "2024-10-03"
         ],
         "y": [
          87.40141512040913,
          5.282232254351241,
          1.290909830017495,
          0.7576994800402861,
          0.5839405424874228,
          0.1036591618325374
         ],
         "zorder": 0
        },
        {
         "legendgroup": "Other benchmarks and performance levels",
         "legendrank": 1,
         "line": {
          "color": "rgb(230, 230, 230)"
         },
         "mode": "lines",
         "name": "Other benchmarks and performance levels",
         "showlegend": false,
         "textposition": "bottom left",
         "type": "scatter",
         "x": [
          "2023-11-06",
          "2024-05-13",
          "2024-05-23",
          "2024-07-18",
          "2024-09-24"
         ],
         "y": [
          28.13235557973436,
          1.62781451236301,
          1.39998496609322,
          0.6017647240512152,
          0.2158500860290323
         ],
         "zorder": 0
        },
        {
         "legendgroup": "Trends in the past year",
         "legendrank": 0,
         "line": {
          "color": "blue"
         },
         "mode": "lines",
         "name": "GPT-4o-2024-05 level or better in chatbot competition",
         "showlegend": true,
         "textposition": "bottom left",
         "type": "scatter",
         "x": [
          "2024-05-13",
          "2024-08-06",
          "2024-09-24",
          "2024-12-26",
          "2025-02-05"
         ],
         "y": [
          10.845292769015972,
          3.2491012556323997,
          1.621786031966235,
          0.4337575032942908,
          0.2425190347092337
         ],
         "zorder": 1
        }
       ],
       "layout": {
        "annotations": [
         {
          "font": {
           "size": 12
          },
          "showarrow": false,
          "text": "Usage price in USD per million tokens",
          "x": -0.037,
          "xref": "paper",
          "y": 1.07,
          "yref": "paper"
         }
        ],
        "height": 600,
        "legend": {
         "bordercolor": "lightgrey",
         "borderwidth": 1,
         "x": 0.65,
         "xanchor": "right",
         "y": 0.4,
         "yanchor": "top"
        },
        "margin": {
         "t": 60
        },
        "template": {
         "data": {
          "bar": [
           {
            "error_x": {
             "color": "#2a3f5f"
            },
            "error_y": {
             "color": "#2a3f5f"
            },
            "marker": {
             "line": {
              "color": "white",
              "width": 0.5
             },
             "pattern": {
              "fillmode": "overlay",
              "size": 10,
              "solidity": 0.2
             }
            },
            "type": "bar"
           }
          ],
          "barpolar": [
           {
            "marker": {
             "line": {
              "color": "white",
              "width": 0.5
             },
             "pattern": {
              "fillmode": "overlay",
              "size": 10,
              "solidity": 0.2
             }
            },
            "type": "barpolar"
           }
          ],
          "carpet": [
           {
            "aaxis": {
             "endlinecolor": "#2a3f5f",
             "gridcolor": "#C8D4E3",
             "linecolor": "#C8D4E3",
             "minorgridcolor": "#C8D4E3",
             "startlinecolor": "#2a3f5f"
            },
            "baxis": {
             "endlinecolor": "#2a3f5f",
             "gridcolor": "#C8D4E3",
             "linecolor": "#C8D4E3",
             "minorgridcolor": "#C8D4E3",
             "startlinecolor": "#2a3f5f"
            },
            "type": "carpet"
           }
          ],
          "choropleth": [
           {
            "colorbar": {
             "outlinewidth": 0,
             "ticks": ""
            },
            "type": "choropleth"
           }
          ],
          "contour": [
           {
            "colorbar": {
             "outlinewidth": 0,
             "ticks": ""
            },
            "colorscale": [
             [
              0,
              "#0d0887"
             ],
             [
              0.1111111111111111,
              "#46039f"
             ],
             [
              0.2222222222222222,
              "#7201a8"
             ],
             [
              0.3333333333333333,
              "#9c179e"
             ],
             [
              0.4444444444444444,
              "#bd3786"
             ],
             [
              0.5555555555555556,
              "#d8576b"
             ],
             [
              0.6666666666666666,
              "#ed7953"
             ],
             [
              0.7777777777777778,
              "#fb9f3a"
             ],
             [
              0.8888888888888888,
              "#fdca26"
             ],
             [
              1,
              "#f0f921"
             ]
            ],
            "type": "contour"
           }
          ],
          "contourcarpet": [
           {
            "colorbar": {
             "outlinewidth": 0,
             "ticks": ""
            },
            "type": "contourcarpet"
           }
          ],
          "heatmap": [
           {
            "colorbar": {
             "outlinewidth": 0,
             "ticks": ""
            },
            "colorscale": [
             [
              0,
              "#0d0887"
             ],
             [
              0.1111111111111111,
              "#46039f"
             ],
             [
              0.2222222222222222,
              "#7201a8"
             ],
             [
              0.3333333333333333,
              "#9c179e"
             ],
             [
              0.4444444444444444,
              "#bd3786"
             ],
             [
              0.5555555555555556,
              "#d8576b"
             ],
             [
              0.6666666666666666,
              "#ed7953"
             ],
             [
              0.7777777777777778,
              "#fb9f3a"
             ],
             [
              0.8888888888888888,
              "#fdca26"
             ],
             [
              1,
              "#f0f921"
             ]
            ],
            "type": "heatmap"
           }
          ],
          "heatmapgl": [
           {
            "colorbar": {
             "outlinewidth": 0,
             "ticks": ""
            },
            "colorscale": [
             [
              0,
              "#0d0887"
             ],
             [
              0.1111111111111111,
              "#46039f"
             ],
             [
              0.2222222222222222,
              "#7201a8"
             ],
             [
              0.3333333333333333,
              "#9c179e"
             ],
             [
              0.4444444444444444,
              "#bd3786"
             ],
             [
              0.5555555555555556,
              "#d8576b"
             ],
             [
              0.6666666666666666,
              "#ed7953"
             ],
             [
              0.7777777777777778,
              "#fb9f3a"
             ],
             [
              0.8888888888888888,
              "#fdca26"
             ],
             [
              1,
              "#f0f921"
             ]
            ],
            "type": "heatmapgl"
           }
          ],
          "histogram": [
           {
            "marker": {
             "pattern": {
              "fillmode": "overlay",
              "size": 10,
              "solidity": 0.2
             }
            },
            "type": "histogram"
           }
          ],
          "histogram2d": [
           {
            "colorbar": {
             "outlinewidth": 0,
             "ticks": ""
            },
            "colorscale": [
             [
              0,
              "#0d0887"
             ],
             [
              0.1111111111111111,
              "#46039f"
             ],
             [
              0.2222222222222222,
              "#7201a8"
             ],
             [
              0.3333333333333333,
              "#9c179e"
             ],
             [
              0.4444444444444444,
              "#bd3786"
             ],
             [
              0.5555555555555556,
              "#d8576b"
             ],
             [
              0.6666666666666666,
              "#ed7953"
             ],
             [
              0.7777777777777778,
              "#fb9f3a"
             ],
             [
              0.8888888888888888,
              "#fdca26"
             ],
             [
              1,
              "#f0f921"
             ]
            ],
            "type": "histogram2d"
           }
          ],
          "histogram2dcontour": [
           {
            "colorbar": {
             "outlinewidth": 0,
             "ticks": ""
            },
            "colorscale": [
             [
              0,
              "#0d0887"
             ],
             [
              0.1111111111111111,
              "#46039f"
             ],
             [
              0.2222222222222222,
              "#7201a8"
             ],
             [
              0.3333333333333333,
              "#9c179e"
             ],
             [
              0.4444444444444444,
              "#bd3786"
             ],
             [
              0.5555555555555556,
              "#d8576b"
             ],
             [
              0.6666666666666666,
              "#ed7953"
             ],
             [
              0.7777777777777778,
              "#fb9f3a"
             ],
             [
              0.8888888888888888,
              "#fdca26"
             ],
             [
              1,
              "#f0f921"
             ]
            ],
            "type": "histogram2dcontour"
           }
          ],
          "mesh3d": [
           {
            "colorbar": {
             "outlinewidth": 0,
             "ticks": ""
            },
            "type": "mesh3d"
           }
          ],
          "parcoords": [
           {
            "line": {
             "colorbar": {
              "outlinewidth": 0,
              "ticks": ""
             }
            },
            "type": "parcoords"
           }
          ],
          "pie": [
           {
            "automargin": true,
            "type": "pie"
           }
          ],
          "scatter": [
           {
            "fillpattern": {
             "fillmode": "overlay",
             "size": 10,
             "solidity": 0.2
            },
            "type": "scatter"
           }
          ],
          "scatter3d": [
           {
            "line": {
             "colorbar": {
              "outlinewidth": 0,
              "ticks": ""
             }
            },
            "marker": {
             "colorbar": {
              "outlinewidth": 0,
              "ticks": ""
             }
            },
            "type": "scatter3d"
           }
          ],
          "scattercarpet": [
           {
            "marker": {
             "colorbar": {
              "outlinewidth": 0,
              "ticks": ""
             }
            },
            "type": "scattercarpet"
           }
          ],
          "scattergeo": [
           {
            "marker": {
             "colorbar": {
              "outlinewidth": 0,
              "ticks": ""
             }
            },
            "type": "scattergeo"
           }
          ],
          "scattergl": [
           {
            "marker": {
             "colorbar": {
              "outlinewidth": 0,
              "ticks": ""
             }
            },
            "type": "scattergl"
           }
          ],
          "scattermapbox": [
           {
            "marker": {
             "colorbar": {
              "outlinewidth": 0,
              "ticks": ""
             }
            },
            "type": "scattermapbox"
           }
          ],
          "scatterpolar": [
           {
            "marker": {
             "colorbar": {
              "outlinewidth": 0,
              "ticks": ""
             }
            },
            "type": "scatterpolar"
           }
          ],
          "scatterpolargl": [
           {
            "marker": {
             "colorbar": {
              "outlinewidth": 0,
              "ticks": ""
             }
            },
            "type": "scatterpolargl"
           }
          ],
          "scatterternary": [
           {
            "marker": {
             "colorbar": {
              "outlinewidth": 0,
              "ticks": ""
             }
            },
            "type": "scatterternary"
           }
          ],
          "surface": [
           {
            "colorbar": {
             "outlinewidth": 0,
             "ticks": ""
            },
            "colorscale": [
             [
              0,
              "#0d0887"
             ],
             [
              0.1111111111111111,
              "#46039f"
             ],
             [
              0.2222222222222222,
              "#7201a8"
             ],
             [
              0.3333333333333333,
              "#9c179e"
             ],
             [
              0.4444444444444444,
              "#bd3786"
             ],
             [
              0.5555555555555556,
              "#d8576b"
             ],
             [
              0.6666666666666666,
              "#ed7953"
             ],
             [
              0.7777777777777778,
              "#fb9f3a"
             ],
             [
              0.8888888888888888,
              "#fdca26"
             ],
             [
              1,
              "#f0f921"
             ]
            ],
            "type": "surface"
           }
          ],
          "table": [
           {
            "cells": {
             "fill": {
              "color": "#EBF0F8"
             },
             "line": {
              "color": "white"
             }
            },
            "header": {
             "fill": {
              "color": "#C8D4E3"
             },
             "line": {
              "color": "white"
             }
            },
            "type": "table"
           }
          ]
         },
         "layout": {
          "annotationdefaults": {
           "arrowcolor": "#2a3f5f",
           "arrowhead": 0,
           "arrowwidth": 1
          },
          "autotypenumbers": "strict",
          "coloraxis": {
           "colorbar": {
            "outlinewidth": 0,
            "ticks": ""
           }
          },
          "colorscale": {
           "diverging": [
            [
             0,
             "#8e0152"
            ],
            [
             0.1,
             "#c51b7d"
            ],
            [
             0.2,
             "#de77ae"
            ],
            [
             0.3,
             "#f1b6da"
            ],
            [
             0.4,
             "#fde0ef"
            ],
            [
             0.5,
             "#f7f7f7"
            ],
            [
             0.6,
             "#e6f5d0"
            ],
            [
             0.7,
             "#b8e186"
            ],
            [
             0.8,
             "#7fbc41"
            ],
            [
             0.9,
             "#4d9221"
            ],
            [
             1,
             "#276419"
            ]
           ],
           "sequential": [
            [
             0,
             "#0d0887"
            ],
            [
             0.1111111111111111,
             "#46039f"
            ],
            [
             0.2222222222222222,
             "#7201a8"
            ],
            [
             0.3333333333333333,
             "#9c179e"
            ],
            [
             0.4444444444444444,
             "#bd3786"
            ],
            [
             0.5555555555555556,
             "#d8576b"
            ],
            [
             0.6666666666666666,
             "#ed7953"
            ],
            [
             0.7777777777777778,
             "#fb9f3a"
            ],
            [
             0.8888888888888888,
             "#fdca26"
            ],
            [
             1,
             "#f0f921"
            ]
           ],
           "sequentialminus": [
            [
             0,
             "#0d0887"
            ],
            [
             0.1111111111111111,
             "#46039f"
            ],
            [
             0.2222222222222222,
             "#7201a8"
            ],
            [
             0.3333333333333333,
             "#9c179e"
            ],
            [
             0.4444444444444444,
             "#bd3786"
            ],
            [
             0.5555555555555556,
             "#d8576b"
            ],
            [
             0.6666666666666666,
             "#ed7953"
            ],
            [
             0.7777777777777778,
             "#fb9f3a"
            ],
            [
             0.8888888888888888,
             "#fdca26"
            ],
            [
             1,
             "#f0f921"
            ]
           ]
          },
          "colorway": [
           "#636efa",
           "#EF553B",
           "#00cc96",
           "#ab63fa",
           "#FFA15A",
           "#19d3f3",
           "#FF6692",
           "#B6E880",
           "#FF97FF",
           "#FECB52"
          ],
          "font": {
           "color": "#2a3f5f"
          },
          "geo": {
           "bgcolor": "white",
           "lakecolor": "white",
           "landcolor": "white",
           "showlakes": true,
           "showland": true,
           "subunitcolor": "#C8D4E3"
          },
          "hoverlabel": {
           "align": "left"
          },
          "hovermode": "closest",
          "mapbox": {
           "style": "light"
          },
          "paper_bgcolor": "white",
          "plot_bgcolor": "white",
          "polar": {
           "angularaxis": {
            "gridcolor": "#EBF0F8",
            "linecolor": "#EBF0F8",
            "ticks": ""
           },
           "bgcolor": "white",
           "radialaxis": {
            "gridcolor": "#EBF0F8",
            "linecolor": "#EBF0F8",
            "ticks": ""
           }
          },
          "scene": {
           "xaxis": {
            "backgroundcolor": "white",
            "gridcolor": "#DFE8F3",
            "gridwidth": 2,
            "linecolor": "#EBF0F8",
            "showbackground": true,
            "ticks": "",
            "zerolinecolor": "#EBF0F8"
           },
           "yaxis": {
            "backgroundcolor": "white",
            "gridcolor": "#DFE8F3",
            "gridwidth": 2,
            "linecolor": "#EBF0F8",
            "showbackground": true,
            "ticks": "",
            "zerolinecolor": "#EBF0F8"
           },
           "zaxis": {
            "backgroundcolor": "white",
            "gridcolor": "#DFE8F3",
            "gridwidth": 2,
            "linecolor": "#EBF0F8",
            "showbackground": true,
            "ticks": "",
            "zerolinecolor": "#EBF0F8"
           }
          },
          "shapedefaults": {
           "line": {
            "color": "#2a3f5f"
           }
          },
          "ternary": {
           "aaxis": {
            "gridcolor": "#DFE8F3",
            "linecolor": "#A2B1C6",
            "ticks": ""
           },
           "baxis": {
            "gridcolor": "#DFE8F3",
            "linecolor": "#A2B1C6",
            "ticks": ""
           },
           "bgcolor": "white",
           "caxis": {
            "gridcolor": "#DFE8F3",
            "linecolor": "#A2B1C6",
            "ticks": ""
           }
          },
          "title": {
           "x": 0.05
          },
          "xaxis": {
           "automargin": true,
           "gridcolor": "#EBF0F8",
           "linecolor": "#EBF0F8",
           "ticks": "",
           "title": {
            "standoff": 15
           },
           "zerolinecolor": "#EBF0F8",
           "zerolinewidth": 2
          },
          "yaxis": {
           "automargin": true,
           "gridcolor": "#EBF0F8",
           "linecolor": "#EBF0F8",
           "ticks": "",
           "title": {
            "standoff": 15
           },
           "zerolinecolor": "#EBF0F8",
           "zerolinewidth": 2
          }
         }
        },
        "width": 1000,
        "xaxis": {
         "title": {
          "text": "Release date"
         }
        },
        "yaxis": {
         "dtick": "D10",
         "type": "log"
        }
       }
      }
     },
     "metadata": {},
     "output_type": "display_data"
    }
   ],
   "source": [
    "selected_benches = results_df['bench'].unique()\n",
    "selected_threshold_models = results_df['threshold_model'].unique()\n",
    "selected_trends = [(row['bench'], row['threshold_model']) for i, row in min_date_df.iterrows()]\n",
    "\n",
    "bench_aliases = {\n",
    "    'MMLU': 'general knowledge',\n",
    "    'GPQA Diamond': 'Ph.D. level science questions',\n",
    "    'MATH-500': 'math',\n",
    "    'MATH 5': 'math (advanced)',\n",
    "    'HumanEval': 'coding',\n",
    "    'LMSys Chatbot Arena ELO': 'chatbot competition',\n",
    "}\n",
    "\n",
    "fig = go.Figure()\n",
    "\n",
    "first_one_in_selected_trends = True\n",
    "selected_trend_idx = 0\n",
    "colors = ['orange', 'magenta', 'turquoise', 'turquoise', 'blue']\n",
    "for i, row in results_df.iterrows():\n",
    "    bench = row['bench']\n",
    "    threshold_model = row['threshold_model']\n",
    "    # print(f'Processing {bench} and {threshold_model}')\n",
    "    cheapest_models_df = all_cheapest_models_df[\n",
    "        (all_cheapest_models_df['bench'] == bench) &\n",
    "        (all_cheapest_models_df['threshold_model'] == threshold_model)\n",
    "    ]\n",
    "    annual_factor = row['price_reduction_factor_per_year']\n",
    "    predicted_log_prices = cheapest_models_df['predicted_log_price']\n",
    "\n",
    "    is_in_selected_trends = (bench, threshold_model) in selected_trends\n",
    "\n",
    "    if is_in_selected_trends:\n",
    "        color = colors[selected_trend_idx]\n",
    "        selected_trend_idx += 1\n",
    "        showlegend = True  # or: first_one_in_selected_trends\n",
    "        zorder = 1\n",
    "        legendgroup = 'Trends in the past year'\n",
    "        # special_name = f'Trends in the past year: {min_date_df['price_reduction_factor_per_year'].min():.0f}x to {min_date_df['price_reduction_factor_per_year'].max():.0f}x per year'\n",
    "        special_name = f'{threshold_model} level or better in {bench_aliases[bench]}'\n",
    "        legendrank = 0\n",
    "        first_one_in_selected_trends = False\n",
    "        print(f'{color}: {annual_factor}x per year')\n",
    "    else:\n",
    "        color = 'rgb(230, 230, 230)'\n",
    "        showlegend = i == 0  # Only show the first one in legend\n",
    "        zorder = 0\n",
    "        legendgroup = \"Other benchmarks and performance levels\"\n",
    "        legendrank = 1\n",
    "\n",
    "    fig.add_trace(go.Scatter(\n",
    "        x=cheapest_models_df['Release Date'],\n",
    "        y=predicted_log_prices,\n",
    "        mode='lines',\n",
    "        name=special_name if is_in_selected_trends else \"Other benchmarks and performance levels\",\n",
    "        line=dict(color=color),\n",
    "        showlegend=showlegend,\n",
    "        zorder=zorder,\n",
    "        legendgroup=legendgroup,\n",
    "        legendrank=legendrank,\n",
    "    ))\n",
    "    # if is_in_selected_trends:\n",
    "    #     fig.add_trace(go.Scatter(\n",
    "    #         x=cheapest_models_df['Release Date'],\n",
    "    #         y=cheapest_models_df['USD per 1M Tokens'],\n",
    "    #         mode='markers',\n",
    "    #         name=f'Lowest-price models that are {threshold_model} or better on {bench}',\n",
    "    #         text=cheapest_models_df['Model Name'],\n",
    "    #         textposition='bottom left',\n",
    "    #         marker=dict(color='red'),\n",
    "    #         showlegend=False,\n",
    "    #         zorder=zorder+1,\n",
    "    #         legendgroup=legendgroup,\n",
    "    #         legendrank=legendrank,\n",
    "    #     ))\n",
    "\n",
    "# Remove minor y labels\n",
    "fig.update_layout(\n",
    "    yaxis=dict(\n",
    "        dtick='D10',\n",
    "        # range=[-1, 2],\n",
    "    )\n",
    ")\n",
    "# fig.update_layout(\n",
    "#     title=f'The usage price of LLMs at a given performance level has fallen by {min_trend_annual_factor}–{round(max_trend_annual_factor, -2)}x per year'\n",
    "# )\n",
    "fig.update_traces(textposition='bottom left')\n",
    "fig.update_layout(yaxis_type='log')\n",
    "fig.update_layout(xaxis_title='Release date')\n",
    "# fig.update_layout(yaxis_title='Usage price in USD per million tokens')\n",
    "fig.update_layout(\n",
    "    annotations=[\n",
    "        dict(\n",
    "            x=-0.037,  # Center of the plot\n",
    "            y=1.07,  # Above the plot\n",
    "            xref='paper',\n",
    "            yref='paper',\n",
    "            text='Usage price in USD per million tokens',\n",
    "            showarrow=False,\n",
    "            font=dict(size=12),\n",
    "        ),\n",
    "    ],\n",
    ")\n",
    "fig.update_layout(\n",
    "    width=1000,\n",
    "    height=600,\n",
    "    legend=dict(\n",
    "        yanchor=\"top\",\n",
    "        y=0.4,\n",
    "        xanchor=\"right\",\n",
    "        x=0.65,\n",
    "        bordercolor=\"lightgrey\",\n",
    "        borderwidth=1\n",
    "    ),\n",
    "    margin=dict(t=60),\n",
    "    template='plotly_white',\n",
    ")\n",
    "\n",
    "save_plot(fig, results_dir, 'lowest_price_trends_all_highlighting_recent_trends')\n",
    "\n",
    "fig.show()"
   ]
  }
 ],
 "metadata": {
  "kernelspec": {
   "display_name": "llm-efficiency",
   "language": "python",
   "name": "python3"
  },
  "language_info": {
   "codemirror_mode": {
    "name": "ipython",
    "version": 3
   },
   "file_extension": ".py",
   "mimetype": "text/x-python",
   "name": "python",
   "nbconvert_exporter": "python",
   "pygments_lexer": "ipython3",
   "version": "3.12.7"
  }
 },
 "nbformat": 4,
 "nbformat_minor": 2
}
