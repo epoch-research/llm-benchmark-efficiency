{
 "cells": [
  {
   "cell_type": "code",
   "execution_count": 1,
   "metadata": {},
   "outputs": [],
   "source": [
    "import numpy as np\n",
    "import os\n",
    "import pandas as pd\n",
    "import plotly.express as px\n",
    "import plotly.graph_objects as go\n",
    "import plotly.io as pio\n",
    "from plotly.subplots import make_subplots\n",
    "import statsmodels.formula.api as smf\n",
    "\n",
    "from data import load_pcd_df\n",
    "from plotting import save_plot\n",
    "\n",
    "pio.templates.default = \"plotly_white\""
   ]
  },
  {
   "cell_type": "code",
   "execution_count": 2,
   "metadata": {},
   "outputs": [],
   "source": [
    "results_dir = 'results/2025-01-28_fresh/'\n",
    "os.makedirs(results_dir, exist_ok=True)\n",
    "save = True"
   ]
  },
  {
   "cell_type": "markdown",
   "metadata": {},
   "source": [
    "# Testing Artificial Analysis data"
   ]
  },
  {
   "cell_type": "code",
   "execution_count": 3,
   "metadata": {},
   "outputs": [
    {
     "data": {
      "text/html": [
       "<div>\n",
       "<style scoped>\n",
       "    .dataframe tbody tr th:only-of-type {\n",
       "        vertical-align: middle;\n",
       "    }\n",
       "\n",
       "    .dataframe tbody tr th {\n",
       "        vertical-align: top;\n",
       "    }\n",
       "\n",
       "    .dataframe thead th {\n",
       "        text-align: right;\n",
       "    }\n",
       "</style>\n",
       "<table border=\"1\" class=\"dataframe\">\n",
       "  <thead>\n",
       "    <tr style=\"text-align: right;\">\n",
       "      <th></th>\n",
       "      <th>Model Name</th>\n",
       "      <th>Tier</th>\n",
       "      <th>Release Date</th>\n",
       "      <th>USD per 1M Tokens</th>\n",
       "      <th>Tokens per Second</th>\n",
       "      <th>Prefill Latency (s)</th>\n",
       "      <th>Prompt Length (tk)</th>\n",
       "      <th>MMLU</th>\n",
       "      <th>GPQA Diamond</th>\n",
       "      <th>MATH-500</th>\n",
       "      <th>HumanEval</th>\n",
       "      <th>LMSys Chatbot Arena ELO</th>\n",
       "    </tr>\n",
       "  </thead>\n",
       "  <tbody>\n",
       "    <tr>\n",
       "      <th>0</th>\n",
       "      <td>GPT-4o-2024-05</td>\n",
       "      <td>1</td>\n",
       "      <td>2024-05</td>\n",
       "      <td>7.50</td>\n",
       "      <td>86.4</td>\n",
       "      <td>0.687</td>\n",
       "      <td>1000</td>\n",
       "      <td>87</td>\n",
       "      <td>51</td>\n",
       "      <td>79.0</td>\n",
       "      <td>93.0</td>\n",
       "      <td>1285</td>\n",
       "    </tr>\n",
       "    <tr>\n",
       "      <th>1</th>\n",
       "      <td>GPT-4o-2024-08</td>\n",
       "      <td>1</td>\n",
       "      <td>2024-08</td>\n",
       "      <td>4.38</td>\n",
       "      <td>81.0</td>\n",
       "      <td>0.673</td>\n",
       "      <td>1000</td>\n",
       "      <td>89</td>\n",
       "      <td>51</td>\n",
       "      <td>80.0</td>\n",
       "      <td>93.0</td>\n",
       "      <td>1337</td>\n",
       "    </tr>\n",
       "    <tr>\n",
       "      <th>2</th>\n",
       "      <td>GPT-4o-2024-11</td>\n",
       "      <td>1</td>\n",
       "      <td>2024-11</td>\n",
       "      <td>4.38</td>\n",
       "      <td>148.9</td>\n",
       "      <td>0.404</td>\n",
       "      <td>1000</td>\n",
       "      <td>86</td>\n",
       "      <td>39</td>\n",
       "      <td>74.0</td>\n",
       "      <td>93.0</td>\n",
       "      <td>1361</td>\n",
       "    </tr>\n",
       "    <tr>\n",
       "      <th>3</th>\n",
       "      <td>GPT-4o-mini</td>\n",
       "      <td>2</td>\n",
       "      <td>2024-07</td>\n",
       "      <td>0.26</td>\n",
       "      <td>112.2</td>\n",
       "      <td>0.626</td>\n",
       "      <td>1000</td>\n",
       "      <td>82</td>\n",
       "      <td>43</td>\n",
       "      <td>79.0</td>\n",
       "      <td>88.0</td>\n",
       "      <td>1273</td>\n",
       "    </tr>\n",
       "    <tr>\n",
       "      <th>4</th>\n",
       "      <td>GPT-4</td>\n",
       "      <td>1</td>\n",
       "      <td>2023-03</td>\n",
       "      <td>37.50</td>\n",
       "      <td>23.6</td>\n",
       "      <td>0.724</td>\n",
       "      <td>1000</td>\n",
       "      <td>86</td>\n",
       "      <td>33</td>\n",
       "      <td>21.0</td>\n",
       "      <td>67.0</td>\n",
       "      <td>1186</td>\n",
       "    </tr>\n",
       "    <tr>\n",
       "      <th>5</th>\n",
       "      <td>GPT-4 Turbo</td>\n",
       "      <td>1</td>\n",
       "      <td>2023-11</td>\n",
       "      <td>15.00</td>\n",
       "      <td>39.2</td>\n",
       "      <td>1.246</td>\n",
       "      <td>1000</td>\n",
       "      <td>87</td>\n",
       "      <td>50</td>\n",
       "      <td>74.0</td>\n",
       "      <td>92.0</td>\n",
       "      <td>1256</td>\n",
       "    </tr>\n",
       "    <tr>\n",
       "      <th>6</th>\n",
       "      <td>GPT-3.5 Turbo</td>\n",
       "      <td>2</td>\n",
       "      <td>2023-11</td>\n",
       "      <td>0.75</td>\n",
       "      <td>121.5</td>\n",
       "      <td>0.598</td>\n",
       "      <td>1000</td>\n",
       "      <td>68</td>\n",
       "      <td>30</td>\n",
       "      <td>44.0</td>\n",
       "      <td>71.0</td>\n",
       "      <td>1107</td>\n",
       "    </tr>\n",
       "    <tr>\n",
       "      <th>7</th>\n",
       "      <td>Llama-3.1-Instruct-405B</td>\n",
       "      <td>1</td>\n",
       "      <td>2024-07</td>\n",
       "      <td>3.50</td>\n",
       "      <td>27.9</td>\n",
       "      <td>0.719</td>\n",
       "      <td>1000</td>\n",
       "      <td>87</td>\n",
       "      <td>50</td>\n",
       "      <td>70.0</td>\n",
       "      <td>87.0</td>\n",
       "      <td>1266</td>\n",
       "    </tr>\n",
       "    <tr>\n",
       "      <th>8</th>\n",
       "      <td>Llama-3.1-Instruct-70B</td>\n",
       "      <td>2</td>\n",
       "      <td>2024-07</td>\n",
       "      <td>0.72</td>\n",
       "      <td>71.6</td>\n",
       "      <td>0.425</td>\n",
       "      <td>1000</td>\n",
       "      <td>84</td>\n",
       "      <td>43</td>\n",
       "      <td>64.0</td>\n",
       "      <td>80.0</td>\n",
       "      <td>1249</td>\n",
       "    </tr>\n",
       "    <tr>\n",
       "      <th>9</th>\n",
       "      <td>Llama-3.1-Instruct-8B</td>\n",
       "      <td>3</td>\n",
       "      <td>2024-07</td>\n",
       "      <td>0.10</td>\n",
       "      <td>164.3</td>\n",
       "      <td>0.350</td>\n",
       "      <td>1000</td>\n",
       "      <td>71</td>\n",
       "      <td>27</td>\n",
       "      <td>50.0</td>\n",
       "      <td>67.0</td>\n",
       "      <td>1172</td>\n",
       "    </tr>\n",
       "    <tr>\n",
       "      <th>10</th>\n",
       "      <td>Llama-3.2-Instruct-3B</td>\n",
       "      <td>3</td>\n",
       "      <td>2024-09</td>\n",
       "      <td>0.08</td>\n",
       "      <td>200.3</td>\n",
       "      <td>0.316</td>\n",
       "      <td>1000</td>\n",
       "      <td>64</td>\n",
       "      <td>21</td>\n",
       "      <td>50.0</td>\n",
       "      <td>60.0</td>\n",
       "      <td>1103</td>\n",
       "    </tr>\n",
       "    <tr>\n",
       "      <th>11</th>\n",
       "      <td>Llama-3.2-Instruct-1B</td>\n",
       "      <td>3</td>\n",
       "      <td>2024-09</td>\n",
       "      <td>0.05</td>\n",
       "      <td>552.1</td>\n",
       "      <td>0.317</td>\n",
       "      <td>1000</td>\n",
       "      <td>35</td>\n",
       "      <td>14</td>\n",
       "      <td>13.0</td>\n",
       "      <td>40.0</td>\n",
       "      <td>1103</td>\n",
       "    </tr>\n",
       "    <tr>\n",
       "      <th>12</th>\n",
       "      <td>Llama-3-Instruct-70B</td>\n",
       "      <td>2</td>\n",
       "      <td>2024-04</td>\n",
       "      <td>0.89</td>\n",
       "      <td>44.6</td>\n",
       "      <td>0.472</td>\n",
       "      <td>1000</td>\n",
       "      <td>79</td>\n",
       "      <td>39</td>\n",
       "      <td>53.0</td>\n",
       "      <td>18.0</td>\n",
       "      <td>1206</td>\n",
       "    </tr>\n",
       "    <tr>\n",
       "      <th>13</th>\n",
       "      <td>Llama-3-Instruct-8B</td>\n",
       "      <td>3</td>\n",
       "      <td>2024-04</td>\n",
       "      <td>0.15</td>\n",
       "      <td>122.8</td>\n",
       "      <td>0.330</td>\n",
       "      <td>1000</td>\n",
       "      <td>64</td>\n",
       "      <td>30</td>\n",
       "      <td>32.0</td>\n",
       "      <td>53.0</td>\n",
       "      <td>1152</td>\n",
       "    </tr>\n",
       "    <tr>\n",
       "      <th>14</th>\n",
       "      <td>Llama-2-Chat-13B</td>\n",
       "      <td>2</td>\n",
       "      <td>2023-07</td>\n",
       "      <td>0.56</td>\n",
       "      <td>43.1</td>\n",
       "      <td>0.447</td>\n",
       "      <td>1000</td>\n",
       "      <td>45</td>\n",
       "      <td>19</td>\n",
       "      <td>NaN</td>\n",
       "      <td>NaN</td>\n",
       "      <td>1063</td>\n",
       "    </tr>\n",
       "    <tr>\n",
       "      <th>15</th>\n",
       "      <td>Llama-2-Chat-7B</td>\n",
       "      <td>3</td>\n",
       "      <td>2023-07</td>\n",
       "      <td>0.33</td>\n",
       "      <td>125.4</td>\n",
       "      <td>0.508</td>\n",
       "      <td>1000</td>\n",
       "      <td>13</td>\n",
       "      <td>6</td>\n",
       "      <td>NaN</td>\n",
       "      <td>13.0</td>\n",
       "      <td>1037</td>\n",
       "    </tr>\n",
       "    <tr>\n",
       "      <th>16</th>\n",
       "      <td>Gemini-1.5-Flash-8B</td>\n",
       "      <td>3</td>\n",
       "      <td>2024-10</td>\n",
       "      <td>0.07</td>\n",
       "      <td>285.2</td>\n",
       "      <td>0.335</td>\n",
       "      <td>1000</td>\n",
       "      <td>75</td>\n",
       "      <td>30</td>\n",
       "      <td>70.0</td>\n",
       "      <td>NaN</td>\n",
       "      <td>1211</td>\n",
       "    </tr>\n",
       "    <tr>\n",
       "      <th>17</th>\n",
       "      <td>Gemini-1.5-Flash-2024-05</td>\n",
       "      <td>3</td>\n",
       "      <td>2024-05</td>\n",
       "      <td>0.13</td>\n",
       "      <td>298.4</td>\n",
       "      <td>0.307</td>\n",
       "      <td>1000</td>\n",
       "      <td>79</td>\n",
       "      <td>39</td>\n",
       "      <td>55.0</td>\n",
       "      <td>NaN</td>\n",
       "      <td>1227</td>\n",
       "    </tr>\n",
       "    <tr>\n",
       "      <th>18</th>\n",
       "      <td>Gemini-1.5-Flash-2024-09</td>\n",
       "      <td>3</td>\n",
       "      <td>2024-09</td>\n",
       "      <td>0.13</td>\n",
       "      <td>190.5</td>\n",
       "      <td>0.348</td>\n",
       "      <td>1000</td>\n",
       "      <td>75</td>\n",
       "      <td>45</td>\n",
       "      <td>83.0</td>\n",
       "      <td>83.0</td>\n",
       "      <td>1271</td>\n",
       "    </tr>\n",
       "    <tr>\n",
       "      <th>19</th>\n",
       "      <td>Gemini-1.5-Pro-2024-05</td>\n",
       "      <td>1</td>\n",
       "      <td>2024-05</td>\n",
       "      <td>2.19</td>\n",
       "      <td>64.8</td>\n",
       "      <td>0.738</td>\n",
       "      <td>1000</td>\n",
       "      <td>86</td>\n",
       "      <td>46</td>\n",
       "      <td>66.0</td>\n",
       "      <td>NaN</td>\n",
       "      <td>1260</td>\n",
       "    </tr>\n",
       "    <tr>\n",
       "      <th>20</th>\n",
       "      <td>Gemini-1.5-Pro-2024-09</td>\n",
       "      <td>1</td>\n",
       "      <td>2024-09</td>\n",
       "      <td>2.19</td>\n",
       "      <td>59.1</td>\n",
       "      <td>0.864</td>\n",
       "      <td>1000</td>\n",
       "      <td>86</td>\n",
       "      <td>61</td>\n",
       "      <td>88.0</td>\n",
       "      <td>88.0</td>\n",
       "      <td>1301</td>\n",
       "    </tr>\n",
       "    <tr>\n",
       "      <th>21</th>\n",
       "      <td>Gemma-2-9B</td>\n",
       "      <td>3</td>\n",
       "      <td>2024-06</td>\n",
       "      <td>0.13</td>\n",
       "      <td>162.8</td>\n",
       "      <td>0.426</td>\n",
       "      <td>1000</td>\n",
       "      <td>73</td>\n",
       "      <td>31</td>\n",
       "      <td>50.0</td>\n",
       "      <td>64.0</td>\n",
       "      <td>1190</td>\n",
       "    </tr>\n",
       "    <tr>\n",
       "      <th>22</th>\n",
       "      <td>Gemma-2-27B</td>\n",
       "      <td>2</td>\n",
       "      <td>2024-06</td>\n",
       "      <td>0.26</td>\n",
       "      <td>47.9</td>\n",
       "      <td>0.527</td>\n",
       "      <td>1000</td>\n",
       "      <td>77</td>\n",
       "      <td>39</td>\n",
       "      <td>54.0</td>\n",
       "      <td>76.0</td>\n",
       "      <td>1219</td>\n",
       "    </tr>\n",
       "    <tr>\n",
       "      <th>23</th>\n",
       "      <td>Claude-3-Haiku</td>\n",
       "      <td>3</td>\n",
       "      <td>2024-03</td>\n",
       "      <td>0.50</td>\n",
       "      <td>122.7</td>\n",
       "      <td>0.467</td>\n",
       "      <td>1000</td>\n",
       "      <td>71</td>\n",
       "      <td>33</td>\n",
       "      <td>39.0</td>\n",
       "      <td>77.0</td>\n",
       "      <td>1179</td>\n",
       "    </tr>\n",
       "    <tr>\n",
       "      <th>24</th>\n",
       "      <td>Claude-3-Sonnet</td>\n",
       "      <td>2</td>\n",
       "      <td>2024-03</td>\n",
       "      <td>6.00</td>\n",
       "      <td>61.8</td>\n",
       "      <td>0.789</td>\n",
       "      <td>1000</td>\n",
       "      <td>77</td>\n",
       "      <td>37</td>\n",
       "      <td>41.0</td>\n",
       "      <td>71.0</td>\n",
       "      <td>1201</td>\n",
       "    </tr>\n",
       "    <tr>\n",
       "      <th>25</th>\n",
       "      <td>Claude-3-Opus</td>\n",
       "      <td>1</td>\n",
       "      <td>2024-03</td>\n",
       "      <td>30.00</td>\n",
       "      <td>26.5</td>\n",
       "      <td>1.984</td>\n",
       "      <td>1000</td>\n",
       "      <td>84</td>\n",
       "      <td>50</td>\n",
       "      <td>64.0</td>\n",
       "      <td>83.0</td>\n",
       "      <td>1248</td>\n",
       "    </tr>\n",
       "    <tr>\n",
       "      <th>26</th>\n",
       "      <td>Claude-3.5-Haiku</td>\n",
       "      <td>3</td>\n",
       "      <td>2024-06</td>\n",
       "      <td>1.60</td>\n",
       "      <td>64.2</td>\n",
       "      <td>0.768</td>\n",
       "      <td>1000</td>\n",
       "      <td>81</td>\n",
       "      <td>37</td>\n",
       "      <td>67.0</td>\n",
       "      <td>87.0</td>\n",
       "      <td></td>\n",
       "    </tr>\n",
       "    <tr>\n",
       "      <th>27</th>\n",
       "      <td>Claude-3.5-Sonnet-2024-06</td>\n",
       "      <td>2</td>\n",
       "      <td>2024-06</td>\n",
       "      <td>6.00</td>\n",
       "      <td>55.9</td>\n",
       "      <td>0.906</td>\n",
       "      <td>1000</td>\n",
       "      <td>88</td>\n",
       "      <td>56</td>\n",
       "      <td>71.0</td>\n",
       "      <td>90.0</td>\n",
       "      <td>1268</td>\n",
       "    </tr>\n",
       "    <tr>\n",
       "      <th>28</th>\n",
       "      <td>Claude-3.5-Sonnet-2024-10</td>\n",
       "      <td>2</td>\n",
       "      <td>2024-10</td>\n",
       "      <td>6.00</td>\n",
       "      <td>55.2</td>\n",
       "      <td>0.907</td>\n",
       "      <td>1000</td>\n",
       "      <td>89</td>\n",
       "      <td>58</td>\n",
       "      <td>76.0</td>\n",
       "      <td>96.0</td>\n",
       "      <td>1282</td>\n",
       "    </tr>\n",
       "    <tr>\n",
       "      <th>29</th>\n",
       "      <td>Mistral-NeMo</td>\n",
       "      <td>2</td>\n",
       "      <td>2024-06</td>\n",
       "      <td>0.13</td>\n",
       "      <td>88.3</td>\n",
       "      <td>0.551</td>\n",
       "      <td>1000</td>\n",
       "      <td>66</td>\n",
       "      <td>33</td>\n",
       "      <td>44.0</td>\n",
       "      <td>71.0</td>\n",
       "      <td>NaN</td>\n",
       "    </tr>\n",
       "    <tr>\n",
       "      <th>30</th>\n",
       "      <td>Mistral-8x22</td>\n",
       "      <td>1</td>\n",
       "      <td>2024-04</td>\n",
       "      <td>1.20</td>\n",
       "      <td>85.3</td>\n",
       "      <td>0.624</td>\n",
       "      <td>1000</td>\n",
       "      <td>76</td>\n",
       "      <td>37</td>\n",
       "      <td>56.0</td>\n",
       "      <td>74.0</td>\n",
       "      <td>1148</td>\n",
       "    </tr>\n",
       "    <tr>\n",
       "      <th>31</th>\n",
       "      <td>Mistral-Small-2024-02</td>\n",
       "      <td>3</td>\n",
       "      <td>2024-02</td>\n",
       "      <td>1.50</td>\n",
       "      <td>54.1</td>\n",
       "      <td>0.429</td>\n",
       "      <td>1000</td>\n",
       "      <td>69</td>\n",
       "      <td>31</td>\n",
       "      <td>56.0</td>\n",
       "      <td>79.0</td>\n",
       "      <td></td>\n",
       "    </tr>\n",
       "    <tr>\n",
       "      <th>32</th>\n",
       "      <td>Mistral-Large-2024-02</td>\n",
       "      <td>1</td>\n",
       "      <td>2024-02</td>\n",
       "      <td>6.00</td>\n",
       "      <td>37.8</td>\n",
       "      <td>0.500</td>\n",
       "      <td>1000</td>\n",
       "      <td>69</td>\n",
       "      <td>36</td>\n",
       "      <td>49.0</td>\n",
       "      <td>69.0</td>\n",
       "      <td>1157</td>\n",
       "    </tr>\n",
       "    <tr>\n",
       "      <th>33</th>\n",
       "      <td>Mistral-Large-2-2024-06</td>\n",
       "      <td>1</td>\n",
       "      <td>2024-06</td>\n",
       "      <td>3.00</td>\n",
       "      <td>34.4</td>\n",
       "      <td>0.486</td>\n",
       "      <td>1000</td>\n",
       "      <td>85</td>\n",
       "      <td>48</td>\n",
       "      <td>71.0</td>\n",
       "      <td>91.0</td>\n",
       "      <td>1251</td>\n",
       "    </tr>\n",
       "    <tr>\n",
       "      <th>34</th>\n",
       "      <td>Mistral-Large-2-2024-11</td>\n",
       "      <td>1</td>\n",
       "      <td>2024-11</td>\n",
       "      <td>3.00</td>\n",
       "      <td>43.5</td>\n",
       "      <td>0.639</td>\n",
       "      <td>1000</td>\n",
       "      <td>85</td>\n",
       "      <td>47</td>\n",
       "      <td>72.0</td>\n",
       "      <td>90.0</td>\n",
       "      <td>NaN</td>\n",
       "    </tr>\n",
       "  </tbody>\n",
       "</table>\n",
       "</div>"
      ],
      "text/plain": [
       "                   Model Name  Tier Release Date  USD per 1M Tokens  \\\n",
       "0              GPT-4o-2024-05     1      2024-05               7.50   \n",
       "1              GPT-4o-2024-08     1      2024-08               4.38   \n",
       "2              GPT-4o-2024-11     1      2024-11               4.38   \n",
       "3                 GPT-4o-mini     2      2024-07               0.26   \n",
       "4                       GPT-4     1      2023-03              37.50   \n",
       "5                 GPT-4 Turbo     1      2023-11              15.00   \n",
       "6               GPT-3.5 Turbo     2      2023-11               0.75   \n",
       "7     Llama-3.1-Instruct-405B     1      2024-07               3.50   \n",
       "8      Llama-3.1-Instruct-70B     2      2024-07               0.72   \n",
       "9       Llama-3.1-Instruct-8B     3      2024-07               0.10   \n",
       "10      Llama-3.2-Instruct-3B     3      2024-09               0.08   \n",
       "11      Llama-3.2-Instruct-1B     3      2024-09               0.05   \n",
       "12       Llama-3-Instruct-70B     2      2024-04               0.89   \n",
       "13        Llama-3-Instruct-8B     3      2024-04               0.15   \n",
       "14           Llama-2-Chat-13B     2      2023-07               0.56   \n",
       "15            Llama-2-Chat-7B     3      2023-07               0.33   \n",
       "16        Gemini-1.5-Flash-8B     3      2024-10               0.07   \n",
       "17   Gemini-1.5-Flash-2024-05     3      2024-05               0.13   \n",
       "18   Gemini-1.5-Flash-2024-09     3      2024-09               0.13   \n",
       "19     Gemini-1.5-Pro-2024-05     1      2024-05               2.19   \n",
       "20     Gemini-1.5-Pro-2024-09     1      2024-09               2.19   \n",
       "21                 Gemma-2-9B     3      2024-06               0.13   \n",
       "22                Gemma-2-27B     2      2024-06               0.26   \n",
       "23             Claude-3-Haiku     3      2024-03               0.50   \n",
       "24            Claude-3-Sonnet     2      2024-03               6.00   \n",
       "25              Claude-3-Opus     1      2024-03              30.00   \n",
       "26           Claude-3.5-Haiku     3      2024-06               1.60   \n",
       "27  Claude-3.5-Sonnet-2024-06     2      2024-06               6.00   \n",
       "28  Claude-3.5-Sonnet-2024-10     2      2024-10               6.00   \n",
       "29               Mistral-NeMo     2      2024-06               0.13   \n",
       "30               Mistral-8x22     1      2024-04               1.20   \n",
       "31      Mistral-Small-2024-02     3      2024-02               1.50   \n",
       "32      Mistral-Large-2024-02     1      2024-02               6.00   \n",
       "33    Mistral-Large-2-2024-06     1      2024-06               3.00   \n",
       "34    Mistral-Large-2-2024-11     1      2024-11               3.00   \n",
       "\n",
       "    Tokens per Second  Prefill Latency (s)  Prompt Length (tk)  MMLU  \\\n",
       "0                86.4                0.687                1000    87   \n",
       "1                81.0                0.673                1000    89   \n",
       "2               148.9                0.404                1000    86   \n",
       "3               112.2                0.626                1000    82   \n",
       "4                23.6                0.724                1000    86   \n",
       "5                39.2                1.246                1000    87   \n",
       "6               121.5                0.598                1000    68   \n",
       "7                27.9                0.719                1000    87   \n",
       "8                71.6                0.425                1000    84   \n",
       "9               164.3                0.350                1000    71   \n",
       "10              200.3                0.316                1000    64   \n",
       "11              552.1                0.317                1000    35   \n",
       "12               44.6                0.472                1000    79   \n",
       "13              122.8                0.330                1000    64   \n",
       "14               43.1                0.447                1000    45   \n",
       "15              125.4                0.508                1000    13   \n",
       "16              285.2                0.335                1000    75   \n",
       "17              298.4                0.307                1000    79   \n",
       "18              190.5                0.348                1000    75   \n",
       "19               64.8                0.738                1000    86   \n",
       "20               59.1                0.864                1000    86   \n",
       "21              162.8                0.426                1000    73   \n",
       "22               47.9                0.527                1000    77   \n",
       "23              122.7                0.467                1000    71   \n",
       "24               61.8                0.789                1000    77   \n",
       "25               26.5                1.984                1000    84   \n",
       "26               64.2                0.768                1000    81   \n",
       "27               55.9                0.906                1000    88   \n",
       "28               55.2                0.907                1000    89   \n",
       "29               88.3                0.551                1000    66   \n",
       "30               85.3                0.624                1000    76   \n",
       "31               54.1                0.429                1000    69   \n",
       "32               37.8                0.500                1000    69   \n",
       "33               34.4                0.486                1000    85   \n",
       "34               43.5                0.639                1000    85   \n",
       "\n",
       "    GPQA Diamond  MATH-500  HumanEval LMSys Chatbot Arena ELO  \n",
       "0             51      79.0       93.0                   1285   \n",
       "1             51      80.0       93.0                    1337  \n",
       "2             39      74.0       93.0                    1361  \n",
       "3             43      79.0       88.0                    1273  \n",
       "4             33      21.0       67.0                    1186  \n",
       "5             50      74.0       92.0                    1256  \n",
       "6             30      44.0       71.0                    1107  \n",
       "7             50      70.0       87.0                    1266  \n",
       "8             43      64.0       80.0                    1249  \n",
       "9             27      50.0       67.0                    1172  \n",
       "10            21      50.0       60.0                    1103  \n",
       "11            14      13.0       40.0                    1103  \n",
       "12            39      53.0       18.0                    1206  \n",
       "13            30      32.0       53.0                    1152  \n",
       "14            19       NaN        NaN                   1063   \n",
       "15             6       NaN       13.0                    1037  \n",
       "16            30      70.0        NaN                    1211  \n",
       "17            39      55.0        NaN                    1227  \n",
       "18            45      83.0       83.0                    1271  \n",
       "19            46      66.0        NaN                    1260  \n",
       "20            61      88.0       88.0                    1301  \n",
       "21            31      50.0       64.0                    1190  \n",
       "22            39      54.0       76.0                    1219  \n",
       "23            33      39.0       77.0                    1179  \n",
       "24            37      41.0       71.0                    1201  \n",
       "25            50      64.0       83.0                    1248  \n",
       "26            37      67.0       87.0                          \n",
       "27            56      71.0       90.0                    1268  \n",
       "28            58      76.0       96.0                    1282  \n",
       "29            33      44.0       71.0                     NaN  \n",
       "30            37      56.0       74.0                    1148  \n",
       "31            31      56.0       79.0                          \n",
       "32            36      49.0       69.0                    1157  \n",
       "33            48      71.0       91.0                    1251  \n",
       "34            47      72.0       90.0                     NaN  "
      ]
     },
     "execution_count": 3,
     "metadata": {},
     "output_type": "execute_result"
    }
   ],
   "source": [
    "aa_df = pd.read_csv('data/aa_data.csv')\n",
    "aa_df"
   ]
  },
  {
   "cell_type": "code",
   "execution_count": 4,
   "metadata": {},
   "outputs": [],
   "source": [
    "# 'Release Date' is a string with the format 'YYYY-MM'\n",
    "aa_df['Release Date'] = pd.to_datetime(aa_df['Release Date'].str.strip(), format='%Y-%m')"
   ]
  },
  {
   "cell_type": "code",
   "execution_count": 5,
   "metadata": {},
   "outputs": [
    {
     "data": {
      "application/vnd.plotly.v1+json": {
       "config": {
        "plotlyServerURL": "https://plot.ly"
       },
       "data": [
        {
         "hovertemplate": "MMLU=%{x}<br>USD per 1M Tokens=%{y}<extra></extra>",
         "legendgroup": "",
         "marker": {
          "color": "#636efa",
          "symbol": "circle"
         },
         "mode": "markers",
         "name": "",
         "orientation": "v",
         "showlegend": false,
         "type": "scatter",
         "x": [
          87,
          89,
          86,
          82,
          86,
          87,
          68,
          87,
          84,
          71,
          64,
          35,
          79,
          64,
          45,
          13,
          75,
          79,
          75,
          86,
          86,
          73,
          77,
          71,
          77,
          84,
          81,
          88,
          89,
          66,
          76,
          69,
          69,
          85,
          85
         ],
         "xaxis": "x",
         "y": [
          7.5,
          4.38,
          4.38,
          0.26,
          37.5,
          15,
          0.75,
          3.5,
          0.72,
          0.1,
          0.08,
          0.05,
          0.89,
          0.15,
          0.56,
          0.33,
          0.07,
          0.13,
          0.13,
          2.19,
          2.19,
          0.13,
          0.26,
          0.5,
          6,
          30,
          1.6,
          6,
          6,
          0.13,
          1.2,
          1.5,
          6,
          3,
          3
         ],
         "yaxis": "y"
        }
       ],
       "layout": {
        "legend": {
         "tracegroupgap": 0
        },
        "template": {
         "data": {
          "bar": [
           {
            "error_x": {
             "color": "#2a3f5f"
            },
            "error_y": {
             "color": "#2a3f5f"
            },
            "marker": {
             "line": {
              "color": "white",
              "width": 0.5
             },
             "pattern": {
              "fillmode": "overlay",
              "size": 10,
              "solidity": 0.2
             }
            },
            "type": "bar"
           }
          ],
          "barpolar": [
           {
            "marker": {
             "line": {
              "color": "white",
              "width": 0.5
             },
             "pattern": {
              "fillmode": "overlay",
              "size": 10,
              "solidity": 0.2
             }
            },
            "type": "barpolar"
           }
          ],
          "carpet": [
           {
            "aaxis": {
             "endlinecolor": "#2a3f5f",
             "gridcolor": "#C8D4E3",
             "linecolor": "#C8D4E3",
             "minorgridcolor": "#C8D4E3",
             "startlinecolor": "#2a3f5f"
            },
            "baxis": {
             "endlinecolor": "#2a3f5f",
             "gridcolor": "#C8D4E3",
             "linecolor": "#C8D4E3",
             "minorgridcolor": "#C8D4E3",
             "startlinecolor": "#2a3f5f"
            },
            "type": "carpet"
           }
          ],
          "choropleth": [
           {
            "colorbar": {
             "outlinewidth": 0,
             "ticks": ""
            },
            "type": "choropleth"
           }
          ],
          "contour": [
           {
            "colorbar": {
             "outlinewidth": 0,
             "ticks": ""
            },
            "colorscale": [
             [
              0,
              "#0d0887"
             ],
             [
              0.1111111111111111,
              "#46039f"
             ],
             [
              0.2222222222222222,
              "#7201a8"
             ],
             [
              0.3333333333333333,
              "#9c179e"
             ],
             [
              0.4444444444444444,
              "#bd3786"
             ],
             [
              0.5555555555555556,
              "#d8576b"
             ],
             [
              0.6666666666666666,
              "#ed7953"
             ],
             [
              0.7777777777777778,
              "#fb9f3a"
             ],
             [
              0.8888888888888888,
              "#fdca26"
             ],
             [
              1,
              "#f0f921"
             ]
            ],
            "type": "contour"
           }
          ],
          "contourcarpet": [
           {
            "colorbar": {
             "outlinewidth": 0,
             "ticks": ""
            },
            "type": "contourcarpet"
           }
          ],
          "heatmap": [
           {
            "colorbar": {
             "outlinewidth": 0,
             "ticks": ""
            },
            "colorscale": [
             [
              0,
              "#0d0887"
             ],
             [
              0.1111111111111111,
              "#46039f"
             ],
             [
              0.2222222222222222,
              "#7201a8"
             ],
             [
              0.3333333333333333,
              "#9c179e"
             ],
             [
              0.4444444444444444,
              "#bd3786"
             ],
             [
              0.5555555555555556,
              "#d8576b"
             ],
             [
              0.6666666666666666,
              "#ed7953"
             ],
             [
              0.7777777777777778,
              "#fb9f3a"
             ],
             [
              0.8888888888888888,
              "#fdca26"
             ],
             [
              1,
              "#f0f921"
             ]
            ],
            "type": "heatmap"
           }
          ],
          "heatmapgl": [
           {
            "colorbar": {
             "outlinewidth": 0,
             "ticks": ""
            },
            "colorscale": [
             [
              0,
              "#0d0887"
             ],
             [
              0.1111111111111111,
              "#46039f"
             ],
             [
              0.2222222222222222,
              "#7201a8"
             ],
             [
              0.3333333333333333,
              "#9c179e"
             ],
             [
              0.4444444444444444,
              "#bd3786"
             ],
             [
              0.5555555555555556,
              "#d8576b"
             ],
             [
              0.6666666666666666,
              "#ed7953"
             ],
             [
              0.7777777777777778,
              "#fb9f3a"
             ],
             [
              0.8888888888888888,
              "#fdca26"
             ],
             [
              1,
              "#f0f921"
             ]
            ],
            "type": "heatmapgl"
           }
          ],
          "histogram": [
           {
            "marker": {
             "pattern": {
              "fillmode": "overlay",
              "size": 10,
              "solidity": 0.2
             }
            },
            "type": "histogram"
           }
          ],
          "histogram2d": [
           {
            "colorbar": {
             "outlinewidth": 0,
             "ticks": ""
            },
            "colorscale": [
             [
              0,
              "#0d0887"
             ],
             [
              0.1111111111111111,
              "#46039f"
             ],
             [
              0.2222222222222222,
              "#7201a8"
             ],
             [
              0.3333333333333333,
              "#9c179e"
             ],
             [
              0.4444444444444444,
              "#bd3786"
             ],
             [
              0.5555555555555556,
              "#d8576b"
             ],
             [
              0.6666666666666666,
              "#ed7953"
             ],
             [
              0.7777777777777778,
              "#fb9f3a"
             ],
             [
              0.8888888888888888,
              "#fdca26"
             ],
             [
              1,
              "#f0f921"
             ]
            ],
            "type": "histogram2d"
           }
          ],
          "histogram2dcontour": [
           {
            "colorbar": {
             "outlinewidth": 0,
             "ticks": ""
            },
            "colorscale": [
             [
              0,
              "#0d0887"
             ],
             [
              0.1111111111111111,
              "#46039f"
             ],
             [
              0.2222222222222222,
              "#7201a8"
             ],
             [
              0.3333333333333333,
              "#9c179e"
             ],
             [
              0.4444444444444444,
              "#bd3786"
             ],
             [
              0.5555555555555556,
              "#d8576b"
             ],
             [
              0.6666666666666666,
              "#ed7953"
             ],
             [
              0.7777777777777778,
              "#fb9f3a"
             ],
             [
              0.8888888888888888,
              "#fdca26"
             ],
             [
              1,
              "#f0f921"
             ]
            ],
            "type": "histogram2dcontour"
           }
          ],
          "mesh3d": [
           {
            "colorbar": {
             "outlinewidth": 0,
             "ticks": ""
            },
            "type": "mesh3d"
           }
          ],
          "parcoords": [
           {
            "line": {
             "colorbar": {
              "outlinewidth": 0,
              "ticks": ""
             }
            },
            "type": "parcoords"
           }
          ],
          "pie": [
           {
            "automargin": true,
            "type": "pie"
           }
          ],
          "scatter": [
           {
            "fillpattern": {
             "fillmode": "overlay",
             "size": 10,
             "solidity": 0.2
            },
            "type": "scatter"
           }
          ],
          "scatter3d": [
           {
            "line": {
             "colorbar": {
              "outlinewidth": 0,
              "ticks": ""
             }
            },
            "marker": {
             "colorbar": {
              "outlinewidth": 0,
              "ticks": ""
             }
            },
            "type": "scatter3d"
           }
          ],
          "scattercarpet": [
           {
            "marker": {
             "colorbar": {
              "outlinewidth": 0,
              "ticks": ""
             }
            },
            "type": "scattercarpet"
           }
          ],
          "scattergeo": [
           {
            "marker": {
             "colorbar": {
              "outlinewidth": 0,
              "ticks": ""
             }
            },
            "type": "scattergeo"
           }
          ],
          "scattergl": [
           {
            "marker": {
             "colorbar": {
              "outlinewidth": 0,
              "ticks": ""
             }
            },
            "type": "scattergl"
           }
          ],
          "scattermapbox": [
           {
            "marker": {
             "colorbar": {
              "outlinewidth": 0,
              "ticks": ""
             }
            },
            "type": "scattermapbox"
           }
          ],
          "scatterpolar": [
           {
            "marker": {
             "colorbar": {
              "outlinewidth": 0,
              "ticks": ""
             }
            },
            "type": "scatterpolar"
           }
          ],
          "scatterpolargl": [
           {
            "marker": {
             "colorbar": {
              "outlinewidth": 0,
              "ticks": ""
             }
            },
            "type": "scatterpolargl"
           }
          ],
          "scatterternary": [
           {
            "marker": {
             "colorbar": {
              "outlinewidth": 0,
              "ticks": ""
             }
            },
            "type": "scatterternary"
           }
          ],
          "surface": [
           {
            "colorbar": {
             "outlinewidth": 0,
             "ticks": ""
            },
            "colorscale": [
             [
              0,
              "#0d0887"
             ],
             [
              0.1111111111111111,
              "#46039f"
             ],
             [
              0.2222222222222222,
              "#7201a8"
             ],
             [
              0.3333333333333333,
              "#9c179e"
             ],
             [
              0.4444444444444444,
              "#bd3786"
             ],
             [
              0.5555555555555556,
              "#d8576b"
             ],
             [
              0.6666666666666666,
              "#ed7953"
             ],
             [
              0.7777777777777778,
              "#fb9f3a"
             ],
             [
              0.8888888888888888,
              "#fdca26"
             ],
             [
              1,
              "#f0f921"
             ]
            ],
            "type": "surface"
           }
          ],
          "table": [
           {
            "cells": {
             "fill": {
              "color": "#EBF0F8"
             },
             "line": {
              "color": "white"
             }
            },
            "header": {
             "fill": {
              "color": "#C8D4E3"
             },
             "line": {
              "color": "white"
             }
            },
            "type": "table"
           }
          ]
         },
         "layout": {
          "annotationdefaults": {
           "arrowcolor": "#2a3f5f",
           "arrowhead": 0,
           "arrowwidth": 1
          },
          "autotypenumbers": "strict",
          "coloraxis": {
           "colorbar": {
            "outlinewidth": 0,
            "ticks": ""
           }
          },
          "colorscale": {
           "diverging": [
            [
             0,
             "#8e0152"
            ],
            [
             0.1,
             "#c51b7d"
            ],
            [
             0.2,
             "#de77ae"
            ],
            [
             0.3,
             "#f1b6da"
            ],
            [
             0.4,
             "#fde0ef"
            ],
            [
             0.5,
             "#f7f7f7"
            ],
            [
             0.6,
             "#e6f5d0"
            ],
            [
             0.7,
             "#b8e186"
            ],
            [
             0.8,
             "#7fbc41"
            ],
            [
             0.9,
             "#4d9221"
            ],
            [
             1,
             "#276419"
            ]
           ],
           "sequential": [
            [
             0,
             "#0d0887"
            ],
            [
             0.1111111111111111,
             "#46039f"
            ],
            [
             0.2222222222222222,
             "#7201a8"
            ],
            [
             0.3333333333333333,
             "#9c179e"
            ],
            [
             0.4444444444444444,
             "#bd3786"
            ],
            [
             0.5555555555555556,
             "#d8576b"
            ],
            [
             0.6666666666666666,
             "#ed7953"
            ],
            [
             0.7777777777777778,
             "#fb9f3a"
            ],
            [
             0.8888888888888888,
             "#fdca26"
            ],
            [
             1,
             "#f0f921"
            ]
           ],
           "sequentialminus": [
            [
             0,
             "#0d0887"
            ],
            [
             0.1111111111111111,
             "#46039f"
            ],
            [
             0.2222222222222222,
             "#7201a8"
            ],
            [
             0.3333333333333333,
             "#9c179e"
            ],
            [
             0.4444444444444444,
             "#bd3786"
            ],
            [
             0.5555555555555556,
             "#d8576b"
            ],
            [
             0.6666666666666666,
             "#ed7953"
            ],
            [
             0.7777777777777778,
             "#fb9f3a"
            ],
            [
             0.8888888888888888,
             "#fdca26"
            ],
            [
             1,
             "#f0f921"
            ]
           ]
          },
          "colorway": [
           "#636efa",
           "#EF553B",
           "#00cc96",
           "#ab63fa",
           "#FFA15A",
           "#19d3f3",
           "#FF6692",
           "#B6E880",
           "#FF97FF",
           "#FECB52"
          ],
          "font": {
           "color": "#2a3f5f"
          },
          "geo": {
           "bgcolor": "white",
           "lakecolor": "white",
           "landcolor": "white",
           "showlakes": true,
           "showland": true,
           "subunitcolor": "#C8D4E3"
          },
          "hoverlabel": {
           "align": "left"
          },
          "hovermode": "closest",
          "mapbox": {
           "style": "light"
          },
          "paper_bgcolor": "white",
          "plot_bgcolor": "white",
          "polar": {
           "angularaxis": {
            "gridcolor": "#EBF0F8",
            "linecolor": "#EBF0F8",
            "ticks": ""
           },
           "bgcolor": "white",
           "radialaxis": {
            "gridcolor": "#EBF0F8",
            "linecolor": "#EBF0F8",
            "ticks": ""
           }
          },
          "scene": {
           "xaxis": {
            "backgroundcolor": "white",
            "gridcolor": "#DFE8F3",
            "gridwidth": 2,
            "linecolor": "#EBF0F8",
            "showbackground": true,
            "ticks": "",
            "zerolinecolor": "#EBF0F8"
           },
           "yaxis": {
            "backgroundcolor": "white",
            "gridcolor": "#DFE8F3",
            "gridwidth": 2,
            "linecolor": "#EBF0F8",
            "showbackground": true,
            "ticks": "",
            "zerolinecolor": "#EBF0F8"
           },
           "zaxis": {
            "backgroundcolor": "white",
            "gridcolor": "#DFE8F3",
            "gridwidth": 2,
            "linecolor": "#EBF0F8",
            "showbackground": true,
            "ticks": "",
            "zerolinecolor": "#EBF0F8"
           }
          },
          "shapedefaults": {
           "line": {
            "color": "#2a3f5f"
           }
          },
          "ternary": {
           "aaxis": {
            "gridcolor": "#DFE8F3",
            "linecolor": "#A2B1C6",
            "ticks": ""
           },
           "baxis": {
            "gridcolor": "#DFE8F3",
            "linecolor": "#A2B1C6",
            "ticks": ""
           },
           "bgcolor": "white",
           "caxis": {
            "gridcolor": "#DFE8F3",
            "linecolor": "#A2B1C6",
            "ticks": ""
           }
          },
          "title": {
           "x": 0.05
          },
          "xaxis": {
           "automargin": true,
           "gridcolor": "#EBF0F8",
           "linecolor": "#EBF0F8",
           "ticks": "",
           "title": {
            "standoff": 15
           },
           "zerolinecolor": "#EBF0F8",
           "zerolinewidth": 2
          },
          "yaxis": {
           "automargin": true,
           "gridcolor": "#EBF0F8",
           "linecolor": "#EBF0F8",
           "ticks": "",
           "title": {
            "standoff": 15
           },
           "zerolinecolor": "#EBF0F8",
           "zerolinewidth": 2
          }
         }
        },
        "title": {
         "text": "MMLU vs. USD per 1M Tokens"
        },
        "xaxis": {
         "anchor": "y",
         "domain": [
          0,
          1
         ],
         "title": {
          "text": "MMLU"
         }
        },
        "yaxis": {
         "anchor": "x",
         "domain": [
          0,
          1
         ],
         "title": {
          "text": "USD per 1M Tokens"
         },
         "type": "log"
        }
       }
      }
     },
     "metadata": {},
     "output_type": "display_data"
    }
   ],
   "source": [
    "# Plot 'MMLU' vs. 'USD per 1M Tokens'\n",
    "fig = px.scatter(aa_df, x='MMLU', y='USD per 1M Tokens', title='MMLU vs. USD per 1M Tokens')\n",
    "fig.update_layout(yaxis_type='log')\n",
    "fig.show()\n"
   ]
  },
  {
   "cell_type": "code",
   "execution_count": 6,
   "metadata": {},
   "outputs": [
    {
     "data": {
      "application/vnd.plotly.v1+json": {
       "config": {
        "plotlyServerURL": "https://plot.ly"
       },
       "data": [
        {
         "customdata": [
          [
           "GPT-4o-2024-05"
          ],
          [
           "GPT-4o-2024-08"
          ],
          [
           "GPT-4o-2024-11"
          ],
          [
           "GPT-4o-mini"
          ],
          [
           "GPT-4"
          ],
          [
           "GPT-4 Turbo"
          ],
          [
           "GPT-3.5 Turbo"
          ],
          [
           "Llama-3.1-Instruct-405B"
          ],
          [
           "Llama-3.1-Instruct-70B"
          ],
          [
           "Llama-3.1-Instruct-8B"
          ],
          [
           "Llama-3.2-Instruct-3B"
          ],
          [
           "Llama-3.2-Instruct-1B"
          ],
          [
           "Llama-3-Instruct-70B"
          ],
          [
           "Llama-3-Instruct-8B"
          ],
          [
           "Llama-2-Chat-13B"
          ],
          [
           "Llama-2-Chat-7B"
          ],
          [
           "Gemini-1.5-Flash-8B"
          ],
          [
           "Gemini-1.5-Flash-2024-05"
          ],
          [
           "Gemini-1.5-Flash-2024-09"
          ],
          [
           "Gemini-1.5-Pro-2024-05"
          ],
          [
           "Gemini-1.5-Pro-2024-09"
          ],
          [
           "Gemma-2-9B"
          ],
          [
           "Gemma-2-27B"
          ],
          [
           "Claude-3-Haiku"
          ],
          [
           "Claude-3-Sonnet"
          ],
          [
           "Claude-3-Opus"
          ],
          [
           "Claude-3.5-Haiku"
          ],
          [
           "Claude-3.5-Sonnet-2024-06"
          ],
          [
           "Claude-3.5-Sonnet-2024-10"
          ],
          [
           "Mistral-NeMo"
          ],
          [
           "Mistral-8x22"
          ],
          [
           "Mistral-Small-2024-02"
          ],
          [
           "Mistral-Large-2024-02"
          ],
          [
           "Mistral-Large-2-2024-06"
          ],
          [
           "Mistral-Large-2-2024-11"
          ]
         ],
         "hovertemplate": "Release Date=%{x}<br>MMLU price-performance=%{y}<br>Model Name=%{customdata[0]}<extra></extra>",
         "legendgroup": "",
         "marker": {
          "color": "#636efa",
          "symbol": "circle"
         },
         "mode": "markers",
         "name": "",
         "orientation": "v",
         "showlegend": false,
         "type": "scatter",
         "x": [
          "2024-05-01T00:00:00",
          "2024-08-01T00:00:00",
          "2024-11-01T00:00:00",
          "2024-07-01T00:00:00",
          "2023-03-01T00:00:00",
          "2023-11-01T00:00:00",
          "2023-11-01T00:00:00",
          "2024-07-01T00:00:00",
          "2024-07-01T00:00:00",
          "2024-07-01T00:00:00",
          "2024-09-01T00:00:00",
          "2024-09-01T00:00:00",
          "2024-04-01T00:00:00",
          "2024-04-01T00:00:00",
          "2023-07-01T00:00:00",
          "2023-07-01T00:00:00",
          "2024-10-01T00:00:00",
          "2024-05-01T00:00:00",
          "2024-09-01T00:00:00",
          "2024-05-01T00:00:00",
          "2024-09-01T00:00:00",
          "2024-06-01T00:00:00",
          "2024-06-01T00:00:00",
          "2024-03-01T00:00:00",
          "2024-03-01T00:00:00",
          "2024-03-01T00:00:00",
          "2024-06-01T00:00:00",
          "2024-06-01T00:00:00",
          "2024-10-01T00:00:00",
          "2024-06-01T00:00:00",
          "2024-04-01T00:00:00",
          "2024-02-01T00:00:00",
          "2024-02-01T00:00:00",
          "2024-06-01T00:00:00",
          "2024-11-01T00:00:00"
         ],
         "xaxis": "x",
         "y": [
          11.6,
          20.319634703196346,
          19.634703196347033,
          315.38461538461536,
          2.2933333333333334,
          5.8,
          90.66666666666667,
          24.857142857142858,
          116.66666666666667,
          710,
          800,
          700,
          88.76404494382022,
          426.6666666666667,
          80.35714285714285,
          39.39393939393939,
          1071.4285714285713,
          607.6923076923076,
          576.9230769230769,
          39.269406392694066,
          39.269406392694066,
          561.5384615384615,
          296.15384615384613,
          142,
          12.833333333333334,
          2.8,
          50.625,
          14.666666666666666,
          14.833333333333334,
          507.6923076923077,
          63.333333333333336,
          46,
          11.5,
          28.333333333333332,
          28.333333333333332
         ],
         "yaxis": "y"
        }
       ],
       "layout": {
        "legend": {
         "tracegroupgap": 0
        },
        "template": {
         "data": {
          "bar": [
           {
            "error_x": {
             "color": "#2a3f5f"
            },
            "error_y": {
             "color": "#2a3f5f"
            },
            "marker": {
             "line": {
              "color": "white",
              "width": 0.5
             },
             "pattern": {
              "fillmode": "overlay",
              "size": 10,
              "solidity": 0.2
             }
            },
            "type": "bar"
           }
          ],
          "barpolar": [
           {
            "marker": {
             "line": {
              "color": "white",
              "width": 0.5
             },
             "pattern": {
              "fillmode": "overlay",
              "size": 10,
              "solidity": 0.2
             }
            },
            "type": "barpolar"
           }
          ],
          "carpet": [
           {
            "aaxis": {
             "endlinecolor": "#2a3f5f",
             "gridcolor": "#C8D4E3",
             "linecolor": "#C8D4E3",
             "minorgridcolor": "#C8D4E3",
             "startlinecolor": "#2a3f5f"
            },
            "baxis": {
             "endlinecolor": "#2a3f5f",
             "gridcolor": "#C8D4E3",
             "linecolor": "#C8D4E3",
             "minorgridcolor": "#C8D4E3",
             "startlinecolor": "#2a3f5f"
            },
            "type": "carpet"
           }
          ],
          "choropleth": [
           {
            "colorbar": {
             "outlinewidth": 0,
             "ticks": ""
            },
            "type": "choropleth"
           }
          ],
          "contour": [
           {
            "colorbar": {
             "outlinewidth": 0,
             "ticks": ""
            },
            "colorscale": [
             [
              0,
              "#0d0887"
             ],
             [
              0.1111111111111111,
              "#46039f"
             ],
             [
              0.2222222222222222,
              "#7201a8"
             ],
             [
              0.3333333333333333,
              "#9c179e"
             ],
             [
              0.4444444444444444,
              "#bd3786"
             ],
             [
              0.5555555555555556,
              "#d8576b"
             ],
             [
              0.6666666666666666,
              "#ed7953"
             ],
             [
              0.7777777777777778,
              "#fb9f3a"
             ],
             [
              0.8888888888888888,
              "#fdca26"
             ],
             [
              1,
              "#f0f921"
             ]
            ],
            "type": "contour"
           }
          ],
          "contourcarpet": [
           {
            "colorbar": {
             "outlinewidth": 0,
             "ticks": ""
            },
            "type": "contourcarpet"
           }
          ],
          "heatmap": [
           {
            "colorbar": {
             "outlinewidth": 0,
             "ticks": ""
            },
            "colorscale": [
             [
              0,
              "#0d0887"
             ],
             [
              0.1111111111111111,
              "#46039f"
             ],
             [
              0.2222222222222222,
              "#7201a8"
             ],
             [
              0.3333333333333333,
              "#9c179e"
             ],
             [
              0.4444444444444444,
              "#bd3786"
             ],
             [
              0.5555555555555556,
              "#d8576b"
             ],
             [
              0.6666666666666666,
              "#ed7953"
             ],
             [
              0.7777777777777778,
              "#fb9f3a"
             ],
             [
              0.8888888888888888,
              "#fdca26"
             ],
             [
              1,
              "#f0f921"
             ]
            ],
            "type": "heatmap"
           }
          ],
          "heatmapgl": [
           {
            "colorbar": {
             "outlinewidth": 0,
             "ticks": ""
            },
            "colorscale": [
             [
              0,
              "#0d0887"
             ],
             [
              0.1111111111111111,
              "#46039f"
             ],
             [
              0.2222222222222222,
              "#7201a8"
             ],
             [
              0.3333333333333333,
              "#9c179e"
             ],
             [
              0.4444444444444444,
              "#bd3786"
             ],
             [
              0.5555555555555556,
              "#d8576b"
             ],
             [
              0.6666666666666666,
              "#ed7953"
             ],
             [
              0.7777777777777778,
              "#fb9f3a"
             ],
             [
              0.8888888888888888,
              "#fdca26"
             ],
             [
              1,
              "#f0f921"
             ]
            ],
            "type": "heatmapgl"
           }
          ],
          "histogram": [
           {
            "marker": {
             "pattern": {
              "fillmode": "overlay",
              "size": 10,
              "solidity": 0.2
             }
            },
            "type": "histogram"
           }
          ],
          "histogram2d": [
           {
            "colorbar": {
             "outlinewidth": 0,
             "ticks": ""
            },
            "colorscale": [
             [
              0,
              "#0d0887"
             ],
             [
              0.1111111111111111,
              "#46039f"
             ],
             [
              0.2222222222222222,
              "#7201a8"
             ],
             [
              0.3333333333333333,
              "#9c179e"
             ],
             [
              0.4444444444444444,
              "#bd3786"
             ],
             [
              0.5555555555555556,
              "#d8576b"
             ],
             [
              0.6666666666666666,
              "#ed7953"
             ],
             [
              0.7777777777777778,
              "#fb9f3a"
             ],
             [
              0.8888888888888888,
              "#fdca26"
             ],
             [
              1,
              "#f0f921"
             ]
            ],
            "type": "histogram2d"
           }
          ],
          "histogram2dcontour": [
           {
            "colorbar": {
             "outlinewidth": 0,
             "ticks": ""
            },
            "colorscale": [
             [
              0,
              "#0d0887"
             ],
             [
              0.1111111111111111,
              "#46039f"
             ],
             [
              0.2222222222222222,
              "#7201a8"
             ],
             [
              0.3333333333333333,
              "#9c179e"
             ],
             [
              0.4444444444444444,
              "#bd3786"
             ],
             [
              0.5555555555555556,
              "#d8576b"
             ],
             [
              0.6666666666666666,
              "#ed7953"
             ],
             [
              0.7777777777777778,
              "#fb9f3a"
             ],
             [
              0.8888888888888888,
              "#fdca26"
             ],
             [
              1,
              "#f0f921"
             ]
            ],
            "type": "histogram2dcontour"
           }
          ],
          "mesh3d": [
           {
            "colorbar": {
             "outlinewidth": 0,
             "ticks": ""
            },
            "type": "mesh3d"
           }
          ],
          "parcoords": [
           {
            "line": {
             "colorbar": {
              "outlinewidth": 0,
              "ticks": ""
             }
            },
            "type": "parcoords"
           }
          ],
          "pie": [
           {
            "automargin": true,
            "type": "pie"
           }
          ],
          "scatter": [
           {
            "fillpattern": {
             "fillmode": "overlay",
             "size": 10,
             "solidity": 0.2
            },
            "type": "scatter"
           }
          ],
          "scatter3d": [
           {
            "line": {
             "colorbar": {
              "outlinewidth": 0,
              "ticks": ""
             }
            },
            "marker": {
             "colorbar": {
              "outlinewidth": 0,
              "ticks": ""
             }
            },
            "type": "scatter3d"
           }
          ],
          "scattercarpet": [
           {
            "marker": {
             "colorbar": {
              "outlinewidth": 0,
              "ticks": ""
             }
            },
            "type": "scattercarpet"
           }
          ],
          "scattergeo": [
           {
            "marker": {
             "colorbar": {
              "outlinewidth": 0,
              "ticks": ""
             }
            },
            "type": "scattergeo"
           }
          ],
          "scattergl": [
           {
            "marker": {
             "colorbar": {
              "outlinewidth": 0,
              "ticks": ""
             }
            },
            "type": "scattergl"
           }
          ],
          "scattermapbox": [
           {
            "marker": {
             "colorbar": {
              "outlinewidth": 0,
              "ticks": ""
             }
            },
            "type": "scattermapbox"
           }
          ],
          "scatterpolar": [
           {
            "marker": {
             "colorbar": {
              "outlinewidth": 0,
              "ticks": ""
             }
            },
            "type": "scatterpolar"
           }
          ],
          "scatterpolargl": [
           {
            "marker": {
             "colorbar": {
              "outlinewidth": 0,
              "ticks": ""
             }
            },
            "type": "scatterpolargl"
           }
          ],
          "scatterternary": [
           {
            "marker": {
             "colorbar": {
              "outlinewidth": 0,
              "ticks": ""
             }
            },
            "type": "scatterternary"
           }
          ],
          "surface": [
           {
            "colorbar": {
             "outlinewidth": 0,
             "ticks": ""
            },
            "colorscale": [
             [
              0,
              "#0d0887"
             ],
             [
              0.1111111111111111,
              "#46039f"
             ],
             [
              0.2222222222222222,
              "#7201a8"
             ],
             [
              0.3333333333333333,
              "#9c179e"
             ],
             [
              0.4444444444444444,
              "#bd3786"
             ],
             [
              0.5555555555555556,
              "#d8576b"
             ],
             [
              0.6666666666666666,
              "#ed7953"
             ],
             [
              0.7777777777777778,
              "#fb9f3a"
             ],
             [
              0.8888888888888888,
              "#fdca26"
             ],
             [
              1,
              "#f0f921"
             ]
            ],
            "type": "surface"
           }
          ],
          "table": [
           {
            "cells": {
             "fill": {
              "color": "#EBF0F8"
             },
             "line": {
              "color": "white"
             }
            },
            "header": {
             "fill": {
              "color": "#C8D4E3"
             },
             "line": {
              "color": "white"
             }
            },
            "type": "table"
           }
          ]
         },
         "layout": {
          "annotationdefaults": {
           "arrowcolor": "#2a3f5f",
           "arrowhead": 0,
           "arrowwidth": 1
          },
          "autotypenumbers": "strict",
          "coloraxis": {
           "colorbar": {
            "outlinewidth": 0,
            "ticks": ""
           }
          },
          "colorscale": {
           "diverging": [
            [
             0,
             "#8e0152"
            ],
            [
             0.1,
             "#c51b7d"
            ],
            [
             0.2,
             "#de77ae"
            ],
            [
             0.3,
             "#f1b6da"
            ],
            [
             0.4,
             "#fde0ef"
            ],
            [
             0.5,
             "#f7f7f7"
            ],
            [
             0.6,
             "#e6f5d0"
            ],
            [
             0.7,
             "#b8e186"
            ],
            [
             0.8,
             "#7fbc41"
            ],
            [
             0.9,
             "#4d9221"
            ],
            [
             1,
             "#276419"
            ]
           ],
           "sequential": [
            [
             0,
             "#0d0887"
            ],
            [
             0.1111111111111111,
             "#46039f"
            ],
            [
             0.2222222222222222,
             "#7201a8"
            ],
            [
             0.3333333333333333,
             "#9c179e"
            ],
            [
             0.4444444444444444,
             "#bd3786"
            ],
            [
             0.5555555555555556,
             "#d8576b"
            ],
            [
             0.6666666666666666,
             "#ed7953"
            ],
            [
             0.7777777777777778,
             "#fb9f3a"
            ],
            [
             0.8888888888888888,
             "#fdca26"
            ],
            [
             1,
             "#f0f921"
            ]
           ],
           "sequentialminus": [
            [
             0,
             "#0d0887"
            ],
            [
             0.1111111111111111,
             "#46039f"
            ],
            [
             0.2222222222222222,
             "#7201a8"
            ],
            [
             0.3333333333333333,
             "#9c179e"
            ],
            [
             0.4444444444444444,
             "#bd3786"
            ],
            [
             0.5555555555555556,
             "#d8576b"
            ],
            [
             0.6666666666666666,
             "#ed7953"
            ],
            [
             0.7777777777777778,
             "#fb9f3a"
            ],
            [
             0.8888888888888888,
             "#fdca26"
            ],
            [
             1,
             "#f0f921"
            ]
           ]
          },
          "colorway": [
           "#636efa",
           "#EF553B",
           "#00cc96",
           "#ab63fa",
           "#FFA15A",
           "#19d3f3",
           "#FF6692",
           "#B6E880",
           "#FF97FF",
           "#FECB52"
          ],
          "font": {
           "color": "#2a3f5f"
          },
          "geo": {
           "bgcolor": "white",
           "lakecolor": "white",
           "landcolor": "white",
           "showlakes": true,
           "showland": true,
           "subunitcolor": "#C8D4E3"
          },
          "hoverlabel": {
           "align": "left"
          },
          "hovermode": "closest",
          "mapbox": {
           "style": "light"
          },
          "paper_bgcolor": "white",
          "plot_bgcolor": "white",
          "polar": {
           "angularaxis": {
            "gridcolor": "#EBF0F8",
            "linecolor": "#EBF0F8",
            "ticks": ""
           },
           "bgcolor": "white",
           "radialaxis": {
            "gridcolor": "#EBF0F8",
            "linecolor": "#EBF0F8",
            "ticks": ""
           }
          },
          "scene": {
           "xaxis": {
            "backgroundcolor": "white",
            "gridcolor": "#DFE8F3",
            "gridwidth": 2,
            "linecolor": "#EBF0F8",
            "showbackground": true,
            "ticks": "",
            "zerolinecolor": "#EBF0F8"
           },
           "yaxis": {
            "backgroundcolor": "white",
            "gridcolor": "#DFE8F3",
            "gridwidth": 2,
            "linecolor": "#EBF0F8",
            "showbackground": true,
            "ticks": "",
            "zerolinecolor": "#EBF0F8"
           },
           "zaxis": {
            "backgroundcolor": "white",
            "gridcolor": "#DFE8F3",
            "gridwidth": 2,
            "linecolor": "#EBF0F8",
            "showbackground": true,
            "ticks": "",
            "zerolinecolor": "#EBF0F8"
           }
          },
          "shapedefaults": {
           "line": {
            "color": "#2a3f5f"
           }
          },
          "ternary": {
           "aaxis": {
            "gridcolor": "#DFE8F3",
            "linecolor": "#A2B1C6",
            "ticks": ""
           },
           "baxis": {
            "gridcolor": "#DFE8F3",
            "linecolor": "#A2B1C6",
            "ticks": ""
           },
           "bgcolor": "white",
           "caxis": {
            "gridcolor": "#DFE8F3",
            "linecolor": "#A2B1C6",
            "ticks": ""
           }
          },
          "title": {
           "x": 0.05
          },
          "xaxis": {
           "automargin": true,
           "gridcolor": "#EBF0F8",
           "linecolor": "#EBF0F8",
           "ticks": "",
           "title": {
            "standoff": 15
           },
           "zerolinecolor": "#EBF0F8",
           "zerolinewidth": 2
          },
          "yaxis": {
           "automargin": true,
           "gridcolor": "#EBF0F8",
           "linecolor": "#EBF0F8",
           "ticks": "",
           "title": {
            "standoff": 15
           },
           "zerolinecolor": "#EBF0F8",
           "zerolinewidth": 2
          }
         }
        },
        "title": {
         "text": "MMLU price-performance over time"
        },
        "xaxis": {
         "anchor": "y",
         "domain": [
          0,
          1
         ],
         "title": {
          "text": "Release Date"
         }
        },
        "yaxis": {
         "anchor": "x",
         "domain": [
          0,
          1
         ],
         "title": {
          "text": "MMLU price-performance"
         },
         "type": "log"
        }
       }
      }
     },
     "metadata": {},
     "output_type": "display_data"
    }
   ],
   "source": [
    "aa_df['MMLU price-performance'] = aa_df['MMLU'] / aa_df['USD per 1M Tokens']\n",
    "# Plot 'MMLU price-performance' vs. 'Date'\n",
    "fig = px.scatter(aa_df, x='Release Date', y='MMLU price-performance', title='MMLU price-performance over time', hover_data=['Model Name'])\n",
    "fig.update_layout(yaxis_type='log')\n",
    "fig.show()\n"
   ]
  },
  {
   "cell_type": "code",
   "execution_count": 7,
   "metadata": {},
   "outputs": [
    {
     "data": {
      "application/vnd.plotly.v1+json": {
       "config": {
        "plotlyServerURL": "https://plot.ly"
       },
       "data": [
        {
         "customdata": [
          [
           "GPT-4"
          ],
          [
           "Llama-2-Chat-7B"
          ],
          [
           "Llama-2-Chat-13B"
          ],
          [
           "GPT-4 Turbo"
          ],
          [
           "GPT-3.5 Turbo"
          ],
          [
           "Mistral-Large-2024-02"
          ],
          [
           "Mistral-Small-2024-02"
          ],
          [
           "Claude-3-Opus"
          ],
          [
           "Claude-3-Sonnet"
          ],
          [
           "Claude-3-Haiku"
          ],
          [
           "Mistral-8x22"
          ],
          [
           "Llama-3-Instruct-70B"
          ],
          [
           "Llama-3-Instruct-8B"
          ],
          [
           "GPT-4o-2024-05"
          ],
          [
           "Gemini-1.5-Pro-2024-05"
          ],
          [
           "Gemini-1.5-Flash-2024-05"
          ],
          [
           "Mistral-Large-2-2024-06"
          ],
          [
           "Gemma-2-9B"
          ],
          [
           "Gemma-2-27B"
          ],
          [
           "Claude-3.5-Haiku"
          ],
          [
           "Claude-3.5-Sonnet-2024-06"
          ],
          [
           "Mistral-NeMo"
          ],
          [
           "Llama-3.1-Instruct-405B"
          ],
          [
           "Llama-3.1-Instruct-8B"
          ],
          [
           "Llama-3.1-Instruct-70B"
          ],
          [
           "GPT-4o-mini"
          ],
          [
           "GPT-4o-2024-08"
          ],
          [
           "Gemini-1.5-Flash-2024-09"
          ],
          [
           "Llama-3.2-Instruct-3B"
          ],
          [
           "Gemini-1.5-Pro-2024-09"
          ],
          [
           "Llama-3.2-Instruct-1B"
          ],
          [
           "Gemini-1.5-Flash-8B"
          ],
          [
           "Claude-3.5-Sonnet-2024-10"
          ],
          [
           "GPT-4o-2024-11"
          ],
          [
           "Mistral-Large-2-2024-11"
          ]
         ],
         "hovertemplate": "Release Date=%{x}<br>cumulative_max=%{y}<br>Model Name=%{customdata[0]}<extra></extra>",
         "legendgroup": "",
         "marker": {
          "color": "#636efa",
          "symbol": "circle"
         },
         "mode": "markers",
         "name": "",
         "orientation": "v",
         "showlegend": false,
         "type": "scatter",
         "x": [
          "2023-03-01T00:00:00",
          "2023-07-01T00:00:00",
          "2023-07-01T00:00:00",
          "2023-11-01T00:00:00",
          "2023-11-01T00:00:00",
          "2024-02-01T00:00:00",
          "2024-02-01T00:00:00",
          "2024-03-01T00:00:00",
          "2024-03-01T00:00:00",
          "2024-03-01T00:00:00",
          "2024-04-01T00:00:00",
          "2024-04-01T00:00:00",
          "2024-04-01T00:00:00",
          "2024-05-01T00:00:00",
          "2024-05-01T00:00:00",
          "2024-05-01T00:00:00",
          "2024-06-01T00:00:00",
          "2024-06-01T00:00:00",
          "2024-06-01T00:00:00",
          "2024-06-01T00:00:00",
          "2024-06-01T00:00:00",
          "2024-06-01T00:00:00",
          "2024-07-01T00:00:00",
          "2024-07-01T00:00:00",
          "2024-07-01T00:00:00",
          "2024-07-01T00:00:00",
          "2024-08-01T00:00:00",
          "2024-09-01T00:00:00",
          "2024-09-01T00:00:00",
          "2024-09-01T00:00:00",
          "2024-09-01T00:00:00",
          "2024-10-01T00:00:00",
          "2024-10-01T00:00:00",
          "2024-11-01T00:00:00",
          "2024-11-01T00:00:00"
         ],
         "xaxis": "x",
         "y": [
          2.2933333333333334,
          39.39393939393939,
          80.35714285714285,
          80.35714285714285,
          90.66666666666667,
          90.66666666666667,
          90.66666666666667,
          90.66666666666667,
          90.66666666666667,
          142,
          142,
          142,
          426.6666666666667,
          426.6666666666667,
          426.6666666666667,
          607.6923076923076,
          607.6923076923076,
          607.6923076923076,
          607.6923076923076,
          607.6923076923076,
          607.6923076923076,
          607.6923076923076,
          607.6923076923076,
          710,
          710,
          710,
          710,
          710,
          800,
          800,
          800,
          1071.4285714285713,
          1071.4285714285713,
          1071.4285714285713,
          1071.4285714285713
         ],
         "yaxis": "y"
        }
       ],
       "layout": {
        "legend": {
         "tracegroupgap": 0
        },
        "template": {
         "data": {
          "bar": [
           {
            "error_x": {
             "color": "#2a3f5f"
            },
            "error_y": {
             "color": "#2a3f5f"
            },
            "marker": {
             "line": {
              "color": "white",
              "width": 0.5
             },
             "pattern": {
              "fillmode": "overlay",
              "size": 10,
              "solidity": 0.2
             }
            },
            "type": "bar"
           }
          ],
          "barpolar": [
           {
            "marker": {
             "line": {
              "color": "white",
              "width": 0.5
             },
             "pattern": {
              "fillmode": "overlay",
              "size": 10,
              "solidity": 0.2
             }
            },
            "type": "barpolar"
           }
          ],
          "carpet": [
           {
            "aaxis": {
             "endlinecolor": "#2a3f5f",
             "gridcolor": "#C8D4E3",
             "linecolor": "#C8D4E3",
             "minorgridcolor": "#C8D4E3",
             "startlinecolor": "#2a3f5f"
            },
            "baxis": {
             "endlinecolor": "#2a3f5f",
             "gridcolor": "#C8D4E3",
             "linecolor": "#C8D4E3",
             "minorgridcolor": "#C8D4E3",
             "startlinecolor": "#2a3f5f"
            },
            "type": "carpet"
           }
          ],
          "choropleth": [
           {
            "colorbar": {
             "outlinewidth": 0,
             "ticks": ""
            },
            "type": "choropleth"
           }
          ],
          "contour": [
           {
            "colorbar": {
             "outlinewidth": 0,
             "ticks": ""
            },
            "colorscale": [
             [
              0,
              "#0d0887"
             ],
             [
              0.1111111111111111,
              "#46039f"
             ],
             [
              0.2222222222222222,
              "#7201a8"
             ],
             [
              0.3333333333333333,
              "#9c179e"
             ],
             [
              0.4444444444444444,
              "#bd3786"
             ],
             [
              0.5555555555555556,
              "#d8576b"
             ],
             [
              0.6666666666666666,
              "#ed7953"
             ],
             [
              0.7777777777777778,
              "#fb9f3a"
             ],
             [
              0.8888888888888888,
              "#fdca26"
             ],
             [
              1,
              "#f0f921"
             ]
            ],
            "type": "contour"
           }
          ],
          "contourcarpet": [
           {
            "colorbar": {
             "outlinewidth": 0,
             "ticks": ""
            },
            "type": "contourcarpet"
           }
          ],
          "heatmap": [
           {
            "colorbar": {
             "outlinewidth": 0,
             "ticks": ""
            },
            "colorscale": [
             [
              0,
              "#0d0887"
             ],
             [
              0.1111111111111111,
              "#46039f"
             ],
             [
              0.2222222222222222,
              "#7201a8"
             ],
             [
              0.3333333333333333,
              "#9c179e"
             ],
             [
              0.4444444444444444,
              "#bd3786"
             ],
             [
              0.5555555555555556,
              "#d8576b"
             ],
             [
              0.6666666666666666,
              "#ed7953"
             ],
             [
              0.7777777777777778,
              "#fb9f3a"
             ],
             [
              0.8888888888888888,
              "#fdca26"
             ],
             [
              1,
              "#f0f921"
             ]
            ],
            "type": "heatmap"
           }
          ],
          "heatmapgl": [
           {
            "colorbar": {
             "outlinewidth": 0,
             "ticks": ""
            },
            "colorscale": [
             [
              0,
              "#0d0887"
             ],
             [
              0.1111111111111111,
              "#46039f"
             ],
             [
              0.2222222222222222,
              "#7201a8"
             ],
             [
              0.3333333333333333,
              "#9c179e"
             ],
             [
              0.4444444444444444,
              "#bd3786"
             ],
             [
              0.5555555555555556,
              "#d8576b"
             ],
             [
              0.6666666666666666,
              "#ed7953"
             ],
             [
              0.7777777777777778,
              "#fb9f3a"
             ],
             [
              0.8888888888888888,
              "#fdca26"
             ],
             [
              1,
              "#f0f921"
             ]
            ],
            "type": "heatmapgl"
           }
          ],
          "histogram": [
           {
            "marker": {
             "pattern": {
              "fillmode": "overlay",
              "size": 10,
              "solidity": 0.2
             }
            },
            "type": "histogram"
           }
          ],
          "histogram2d": [
           {
            "colorbar": {
             "outlinewidth": 0,
             "ticks": ""
            },
            "colorscale": [
             [
              0,
              "#0d0887"
             ],
             [
              0.1111111111111111,
              "#46039f"
             ],
             [
              0.2222222222222222,
              "#7201a8"
             ],
             [
              0.3333333333333333,
              "#9c179e"
             ],
             [
              0.4444444444444444,
              "#bd3786"
             ],
             [
              0.5555555555555556,
              "#d8576b"
             ],
             [
              0.6666666666666666,
              "#ed7953"
             ],
             [
              0.7777777777777778,
              "#fb9f3a"
             ],
             [
              0.8888888888888888,
              "#fdca26"
             ],
             [
              1,
              "#f0f921"
             ]
            ],
            "type": "histogram2d"
           }
          ],
          "histogram2dcontour": [
           {
            "colorbar": {
             "outlinewidth": 0,
             "ticks": ""
            },
            "colorscale": [
             [
              0,
              "#0d0887"
             ],
             [
              0.1111111111111111,
              "#46039f"
             ],
             [
              0.2222222222222222,
              "#7201a8"
             ],
             [
              0.3333333333333333,
              "#9c179e"
             ],
             [
              0.4444444444444444,
              "#bd3786"
             ],
             [
              0.5555555555555556,
              "#d8576b"
             ],
             [
              0.6666666666666666,
              "#ed7953"
             ],
             [
              0.7777777777777778,
              "#fb9f3a"
             ],
             [
              0.8888888888888888,
              "#fdca26"
             ],
             [
              1,
              "#f0f921"
             ]
            ],
            "type": "histogram2dcontour"
           }
          ],
          "mesh3d": [
           {
            "colorbar": {
             "outlinewidth": 0,
             "ticks": ""
            },
            "type": "mesh3d"
           }
          ],
          "parcoords": [
           {
            "line": {
             "colorbar": {
              "outlinewidth": 0,
              "ticks": ""
             }
            },
            "type": "parcoords"
           }
          ],
          "pie": [
           {
            "automargin": true,
            "type": "pie"
           }
          ],
          "scatter": [
           {
            "fillpattern": {
             "fillmode": "overlay",
             "size": 10,
             "solidity": 0.2
            },
            "type": "scatter"
           }
          ],
          "scatter3d": [
           {
            "line": {
             "colorbar": {
              "outlinewidth": 0,
              "ticks": ""
             }
            },
            "marker": {
             "colorbar": {
              "outlinewidth": 0,
              "ticks": ""
             }
            },
            "type": "scatter3d"
           }
          ],
          "scattercarpet": [
           {
            "marker": {
             "colorbar": {
              "outlinewidth": 0,
              "ticks": ""
             }
            },
            "type": "scattercarpet"
           }
          ],
          "scattergeo": [
           {
            "marker": {
             "colorbar": {
              "outlinewidth": 0,
              "ticks": ""
             }
            },
            "type": "scattergeo"
           }
          ],
          "scattergl": [
           {
            "marker": {
             "colorbar": {
              "outlinewidth": 0,
              "ticks": ""
             }
            },
            "type": "scattergl"
           }
          ],
          "scattermapbox": [
           {
            "marker": {
             "colorbar": {
              "outlinewidth": 0,
              "ticks": ""
             }
            },
            "type": "scattermapbox"
           }
          ],
          "scatterpolar": [
           {
            "marker": {
             "colorbar": {
              "outlinewidth": 0,
              "ticks": ""
             }
            },
            "type": "scatterpolar"
           }
          ],
          "scatterpolargl": [
           {
            "marker": {
             "colorbar": {
              "outlinewidth": 0,
              "ticks": ""
             }
            },
            "type": "scatterpolargl"
           }
          ],
          "scatterternary": [
           {
            "marker": {
             "colorbar": {
              "outlinewidth": 0,
              "ticks": ""
             }
            },
            "type": "scatterternary"
           }
          ],
          "surface": [
           {
            "colorbar": {
             "outlinewidth": 0,
             "ticks": ""
            },
            "colorscale": [
             [
              0,
              "#0d0887"
             ],
             [
              0.1111111111111111,
              "#46039f"
             ],
             [
              0.2222222222222222,
              "#7201a8"
             ],
             [
              0.3333333333333333,
              "#9c179e"
             ],
             [
              0.4444444444444444,
              "#bd3786"
             ],
             [
              0.5555555555555556,
              "#d8576b"
             ],
             [
              0.6666666666666666,
              "#ed7953"
             ],
             [
              0.7777777777777778,
              "#fb9f3a"
             ],
             [
              0.8888888888888888,
              "#fdca26"
             ],
             [
              1,
              "#f0f921"
             ]
            ],
            "type": "surface"
           }
          ],
          "table": [
           {
            "cells": {
             "fill": {
              "color": "#EBF0F8"
             },
             "line": {
              "color": "white"
             }
            },
            "header": {
             "fill": {
              "color": "#C8D4E3"
             },
             "line": {
              "color": "white"
             }
            },
            "type": "table"
           }
          ]
         },
         "layout": {
          "annotationdefaults": {
           "arrowcolor": "#2a3f5f",
           "arrowhead": 0,
           "arrowwidth": 1
          },
          "autotypenumbers": "strict",
          "coloraxis": {
           "colorbar": {
            "outlinewidth": 0,
            "ticks": ""
           }
          },
          "colorscale": {
           "diverging": [
            [
             0,
             "#8e0152"
            ],
            [
             0.1,
             "#c51b7d"
            ],
            [
             0.2,
             "#de77ae"
            ],
            [
             0.3,
             "#f1b6da"
            ],
            [
             0.4,
             "#fde0ef"
            ],
            [
             0.5,
             "#f7f7f7"
            ],
            [
             0.6,
             "#e6f5d0"
            ],
            [
             0.7,
             "#b8e186"
            ],
            [
             0.8,
             "#7fbc41"
            ],
            [
             0.9,
             "#4d9221"
            ],
            [
             1,
             "#276419"
            ]
           ],
           "sequential": [
            [
             0,
             "#0d0887"
            ],
            [
             0.1111111111111111,
             "#46039f"
            ],
            [
             0.2222222222222222,
             "#7201a8"
            ],
            [
             0.3333333333333333,
             "#9c179e"
            ],
            [
             0.4444444444444444,
             "#bd3786"
            ],
            [
             0.5555555555555556,
             "#d8576b"
            ],
            [
             0.6666666666666666,
             "#ed7953"
            ],
            [
             0.7777777777777778,
             "#fb9f3a"
            ],
            [
             0.8888888888888888,
             "#fdca26"
            ],
            [
             1,
             "#f0f921"
            ]
           ],
           "sequentialminus": [
            [
             0,
             "#0d0887"
            ],
            [
             0.1111111111111111,
             "#46039f"
            ],
            [
             0.2222222222222222,
             "#7201a8"
            ],
            [
             0.3333333333333333,
             "#9c179e"
            ],
            [
             0.4444444444444444,
             "#bd3786"
            ],
            [
             0.5555555555555556,
             "#d8576b"
            ],
            [
             0.6666666666666666,
             "#ed7953"
            ],
            [
             0.7777777777777778,
             "#fb9f3a"
            ],
            [
             0.8888888888888888,
             "#fdca26"
            ],
            [
             1,
             "#f0f921"
            ]
           ]
          },
          "colorway": [
           "#636efa",
           "#EF553B",
           "#00cc96",
           "#ab63fa",
           "#FFA15A",
           "#19d3f3",
           "#FF6692",
           "#B6E880",
           "#FF97FF",
           "#FECB52"
          ],
          "font": {
           "color": "#2a3f5f"
          },
          "geo": {
           "bgcolor": "white",
           "lakecolor": "white",
           "landcolor": "white",
           "showlakes": true,
           "showland": true,
           "subunitcolor": "#C8D4E3"
          },
          "hoverlabel": {
           "align": "left"
          },
          "hovermode": "closest",
          "mapbox": {
           "style": "light"
          },
          "paper_bgcolor": "white",
          "plot_bgcolor": "white",
          "polar": {
           "angularaxis": {
            "gridcolor": "#EBF0F8",
            "linecolor": "#EBF0F8",
            "ticks": ""
           },
           "bgcolor": "white",
           "radialaxis": {
            "gridcolor": "#EBF0F8",
            "linecolor": "#EBF0F8",
            "ticks": ""
           }
          },
          "scene": {
           "xaxis": {
            "backgroundcolor": "white",
            "gridcolor": "#DFE8F3",
            "gridwidth": 2,
            "linecolor": "#EBF0F8",
            "showbackground": true,
            "ticks": "",
            "zerolinecolor": "#EBF0F8"
           },
           "yaxis": {
            "backgroundcolor": "white",
            "gridcolor": "#DFE8F3",
            "gridwidth": 2,
            "linecolor": "#EBF0F8",
            "showbackground": true,
            "ticks": "",
            "zerolinecolor": "#EBF0F8"
           },
           "zaxis": {
            "backgroundcolor": "white",
            "gridcolor": "#DFE8F3",
            "gridwidth": 2,
            "linecolor": "#EBF0F8",
            "showbackground": true,
            "ticks": "",
            "zerolinecolor": "#EBF0F8"
           }
          },
          "shapedefaults": {
           "line": {
            "color": "#2a3f5f"
           }
          },
          "ternary": {
           "aaxis": {
            "gridcolor": "#DFE8F3",
            "linecolor": "#A2B1C6",
            "ticks": ""
           },
           "baxis": {
            "gridcolor": "#DFE8F3",
            "linecolor": "#A2B1C6",
            "ticks": ""
           },
           "bgcolor": "white",
           "caxis": {
            "gridcolor": "#DFE8F3",
            "linecolor": "#A2B1C6",
            "ticks": ""
           }
          },
          "title": {
           "x": 0.05
          },
          "xaxis": {
           "automargin": true,
           "gridcolor": "#EBF0F8",
           "linecolor": "#EBF0F8",
           "ticks": "",
           "title": {
            "standoff": 15
           },
           "zerolinecolor": "#EBF0F8",
           "zerolinewidth": 2
          },
          "yaxis": {
           "automargin": true,
           "gridcolor": "#EBF0F8",
           "linecolor": "#EBF0F8",
           "ticks": "",
           "title": {
            "standoff": 15
           },
           "zerolinecolor": "#EBF0F8",
           "zerolinewidth": 2
          }
         }
        },
        "title": {
         "text": "Cumulative max MMLU price-performance over time"
        },
        "xaxis": {
         "anchor": "y",
         "domain": [
          0,
          1
         ],
         "title": {
          "text": "Release Date"
         }
        },
        "yaxis": {
         "anchor": "x",
         "domain": [
          0,
          1
         ],
         "title": {
          "text": "cumulative_max"
         },
         "type": "log"
        }
       }
      }
     },
     "metadata": {},
     "output_type": "display_data"
    }
   ],
   "source": [
    "# Calculate the cumulative max of 'MMLU price-performance' over time\n",
    "aa_df = aa_df.sort_values(by='Release Date')\n",
    "aa_df['cumulative_max'] = aa_df['MMLU price-performance'].cummax()\n",
    "fig = px.scatter(aa_df, x='Release Date', y='cumulative_max', title='Cumulative max MMLU price-performance over time', hover_data=['Model Name'])\n",
    "fig.update_layout(yaxis_type='log')\n",
    "fig.show()\n"
   ]
  },
  {
   "cell_type": "markdown",
   "metadata": {},
   "source": [
    "## Fit minimum cost curve"
   ]
  },
  {
   "cell_type": "code",
   "execution_count": 8,
   "metadata": {},
   "outputs": [
    {
     "name": "stdout",
     "output_type": "stream",
     "text": [
      "2023-12-01 00:00:00 GPT-4 Turbo 92.0 $15.00\n",
      "2024-06-01 00:00:00 GPT-4o-2024-05 93.0 $7.50\n",
      "2024-07-01 00:00:00 Claude-3.5-Haiku 87.0 $1.60\n",
      "2024-08-01 00:00:00 GPT-4o-mini 88.0 $0.26\n",
      "2024-10-01 00:00:00 Gemini-1.5-Flash-2024-09 83.0 $0.13\n"
     ]
    }
   ],
   "source": [
    "\"\"\"\n",
    "  - Set a performance lower bound\n",
    "  - Track the running best (cheapest) model\n",
    "  - At each point in time (at some resolution)\n",
    "    - Filter to new models published in this time window\n",
    "    - Filter to models with performance above the lower bound\n",
    "    - Check if any new model is cheaper than current best\n",
    "    - If so, update the current best\n",
    "    - Record the current best model at this time point\n",
    "\"\"\"\n",
    "bench = 'HumanEval'\n",
    "performance_lower_bound = 80\n",
    "ts = pd.date_range(start='2020-01-01', end='2025-01-01', freq='MS')\n",
    "cheapest_models = []\n",
    "current_best = None\n",
    "\n",
    "for i, t in enumerate(ts):\n",
    "    # Get models published in this time window\n",
    "    benchmark_df = aa_df\n",
    "    if i > 0:\n",
    "        prev_t = ts[i-1]\n",
    "        benchmark_df = benchmark_df[(benchmark_df['Release Date'] >= prev_t) & (benchmark_df['Release Date'] < t)]\n",
    "    else:\n",
    "        benchmark_df = benchmark_df[benchmark_df['Release Date'] < t]\n",
    "        \n",
    "    # Filter for performance\n",
    "    benchmark_df = benchmark_df[benchmark_df[bench].notna()]\n",
    "    benchmark_df = benchmark_df[benchmark_df[bench] > performance_lower_bound]\n",
    "    \n",
    "    if not benchmark_df.empty:\n",
    "        # Find cheapest new model\n",
    "        new_best = benchmark_df.loc[benchmark_df['USD per 1M Tokens'].idxmin()]\n",
    "        \n",
    "        # Update current best if new model is cheaper (or if no current best)\n",
    "        if current_best is None or new_best['USD per 1M Tokens'] < current_best['USD per 1M Tokens']:\n",
    "            current_best = new_best\n",
    "            cheapest_models.append(current_best)\n",
    "            print(t, current_best['Model Name'], current_best[bench], f\"${current_best['USD per 1M Tokens']:.2f}\")"
   ]
  },
  {
   "cell_type": "code",
   "execution_count": 9,
   "metadata": {},
   "outputs": [
    {
     "data": {
      "text/html": [
       "<div>\n",
       "<style scoped>\n",
       "    .dataframe tbody tr th:only-of-type {\n",
       "        vertical-align: middle;\n",
       "    }\n",
       "\n",
       "    .dataframe tbody tr th {\n",
       "        vertical-align: top;\n",
       "    }\n",
       "\n",
       "    .dataframe thead th {\n",
       "        text-align: right;\n",
       "    }\n",
       "</style>\n",
       "<table border=\"1\" class=\"dataframe\">\n",
       "  <thead>\n",
       "    <tr style=\"text-align: right;\">\n",
       "      <th></th>\n",
       "      <th>Model Name</th>\n",
       "      <th>Tier</th>\n",
       "      <th>Release Date</th>\n",
       "      <th>USD per 1M Tokens</th>\n",
       "      <th>Tokens per Second</th>\n",
       "      <th>Prefill Latency (s)</th>\n",
       "      <th>Prompt Length (tk)</th>\n",
       "      <th>MMLU</th>\n",
       "      <th>GPQA Diamond</th>\n",
       "      <th>MATH-500</th>\n",
       "      <th>HumanEval</th>\n",
       "      <th>LMSys Chatbot Arena ELO</th>\n",
       "      <th>MMLU price-performance</th>\n",
       "      <th>cumulative_max</th>\n",
       "    </tr>\n",
       "  </thead>\n",
       "  <tbody>\n",
       "    <tr>\n",
       "      <th>5</th>\n",
       "      <td>GPT-4 Turbo</td>\n",
       "      <td>1</td>\n",
       "      <td>2023-11-01</td>\n",
       "      <td>15.00</td>\n",
       "      <td>39.2</td>\n",
       "      <td>1.246</td>\n",
       "      <td>1000</td>\n",
       "      <td>87</td>\n",
       "      <td>50</td>\n",
       "      <td>74.0</td>\n",
       "      <td>92.0</td>\n",
       "      <td>1256</td>\n",
       "      <td>5.800000</td>\n",
       "      <td>80.357143</td>\n",
       "    </tr>\n",
       "    <tr>\n",
       "      <th>0</th>\n",
       "      <td>GPT-4o-2024-05</td>\n",
       "      <td>1</td>\n",
       "      <td>2024-05-01</td>\n",
       "      <td>7.50</td>\n",
       "      <td>86.4</td>\n",
       "      <td>0.687</td>\n",
       "      <td>1000</td>\n",
       "      <td>87</td>\n",
       "      <td>51</td>\n",
       "      <td>79.0</td>\n",
       "      <td>93.0</td>\n",
       "      <td>1285</td>\n",
       "      <td>11.600000</td>\n",
       "      <td>426.666667</td>\n",
       "    </tr>\n",
       "    <tr>\n",
       "      <th>26</th>\n",
       "      <td>Claude-3.5-Haiku</td>\n",
       "      <td>3</td>\n",
       "      <td>2024-06-01</td>\n",
       "      <td>1.60</td>\n",
       "      <td>64.2</td>\n",
       "      <td>0.768</td>\n",
       "      <td>1000</td>\n",
       "      <td>81</td>\n",
       "      <td>37</td>\n",
       "      <td>67.0</td>\n",
       "      <td>87.0</td>\n",
       "      <td></td>\n",
       "      <td>50.625000</td>\n",
       "      <td>607.692308</td>\n",
       "    </tr>\n",
       "    <tr>\n",
       "      <th>3</th>\n",
       "      <td>GPT-4o-mini</td>\n",
       "      <td>2</td>\n",
       "      <td>2024-07-01</td>\n",
       "      <td>0.26</td>\n",
       "      <td>112.2</td>\n",
       "      <td>0.626</td>\n",
       "      <td>1000</td>\n",
       "      <td>82</td>\n",
       "      <td>43</td>\n",
       "      <td>79.0</td>\n",
       "      <td>88.0</td>\n",
       "      <td>1273</td>\n",
       "      <td>315.384615</td>\n",
       "      <td>710.000000</td>\n",
       "    </tr>\n",
       "    <tr>\n",
       "      <th>18</th>\n",
       "      <td>Gemini-1.5-Flash-2024-09</td>\n",
       "      <td>3</td>\n",
       "      <td>2024-09-01</td>\n",
       "      <td>0.13</td>\n",
       "      <td>190.5</td>\n",
       "      <td>0.348</td>\n",
       "      <td>1000</td>\n",
       "      <td>75</td>\n",
       "      <td>45</td>\n",
       "      <td>83.0</td>\n",
       "      <td>83.0</td>\n",
       "      <td>1271</td>\n",
       "      <td>576.923077</td>\n",
       "      <td>710.000000</td>\n",
       "    </tr>\n",
       "  </tbody>\n",
       "</table>\n",
       "</div>"
      ],
      "text/plain": [
       "                  Model Name  Tier Release Date  USD per 1M Tokens  \\\n",
       "5                GPT-4 Turbo     1   2023-11-01              15.00   \n",
       "0             GPT-4o-2024-05     1   2024-05-01               7.50   \n",
       "26          Claude-3.5-Haiku     3   2024-06-01               1.60   \n",
       "3                GPT-4o-mini     2   2024-07-01               0.26   \n",
       "18  Gemini-1.5-Flash-2024-09     3   2024-09-01               0.13   \n",
       "\n",
       "    Tokens per Second  Prefill Latency (s)  Prompt Length (tk)  MMLU  \\\n",
       "5                39.2                1.246                1000    87   \n",
       "0                86.4                0.687                1000    87   \n",
       "26               64.2                0.768                1000    81   \n",
       "3               112.2                0.626                1000    82   \n",
       "18              190.5                0.348                1000    75   \n",
       "\n",
       "    GPQA Diamond  MATH-500  HumanEval LMSys Chatbot Arena ELO  \\\n",
       "5             50      74.0       92.0                    1256   \n",
       "0             51      79.0       93.0                   1285    \n",
       "26            37      67.0       87.0                           \n",
       "3             43      79.0       88.0                    1273   \n",
       "18            45      83.0       83.0                    1271   \n",
       "\n",
       "    MMLU price-performance  cumulative_max  \n",
       "5                 5.800000       80.357143  \n",
       "0                11.600000      426.666667  \n",
       "26               50.625000      607.692308  \n",
       "3               315.384615      710.000000  \n",
       "18              576.923077      710.000000  "
      ]
     },
     "execution_count": 9,
     "metadata": {},
     "output_type": "execute_result"
    }
   ],
   "source": [
    "cheapest_models_df = pd.DataFrame(cheapest_models)\n",
    "cheapest_models_df.head()"
   ]
  },
  {
   "cell_type": "code",
   "execution_count": 10,
   "metadata": {},
   "outputs": [
    {
     "data": {
      "application/vnd.plotly.v1+json": {
       "config": {
        "plotlyServerURL": "https://plot.ly"
       },
       "data": [
        {
         "hovertemplate": "Release Date=%{x}<br>USD per 1M Tokens=%{y}<br>Model Name=%{text}<extra></extra>",
         "legendgroup": "",
         "line": {
          "color": "#636efa",
          "dash": "solid",
          "shape": "hv"
         },
         "marker": {
          "symbol": "circle"
         },
         "mode": "lines+markers+text",
         "name": "",
         "orientation": "v",
         "showlegend": false,
         "text": [
          "GPT-4 Turbo",
          "GPT-4o-2024-05",
          "Claude-3.5-Haiku",
          "GPT-4o-mini",
          "Gemini-1.5-Flash-2024-09"
         ],
         "textposition": "bottom left",
         "type": "scatter",
         "x": [
          "2023-11-01T00:00:00",
          "2024-05-01T00:00:00",
          "2024-06-01T00:00:00",
          "2024-07-01T00:00:00",
          "2024-09-01T00:00:00"
         ],
         "xaxis": "x",
         "y": [
          15,
          7.5,
          1.6,
          0.26,
          0.13
         ],
         "yaxis": "y"
        }
       ],
       "layout": {
        "font": {
         "size": 10
        },
        "height": 600,
        "legend": {
         "tracegroupgap": 0
        },
        "template": {
         "data": {
          "bar": [
           {
            "error_x": {
             "color": "#2a3f5f"
            },
            "error_y": {
             "color": "#2a3f5f"
            },
            "marker": {
             "line": {
              "color": "white",
              "width": 0.5
             },
             "pattern": {
              "fillmode": "overlay",
              "size": 10,
              "solidity": 0.2
             }
            },
            "type": "bar"
           }
          ],
          "barpolar": [
           {
            "marker": {
             "line": {
              "color": "white",
              "width": 0.5
             },
             "pattern": {
              "fillmode": "overlay",
              "size": 10,
              "solidity": 0.2
             }
            },
            "type": "barpolar"
           }
          ],
          "carpet": [
           {
            "aaxis": {
             "endlinecolor": "#2a3f5f",
             "gridcolor": "#C8D4E3",
             "linecolor": "#C8D4E3",
             "minorgridcolor": "#C8D4E3",
             "startlinecolor": "#2a3f5f"
            },
            "baxis": {
             "endlinecolor": "#2a3f5f",
             "gridcolor": "#C8D4E3",
             "linecolor": "#C8D4E3",
             "minorgridcolor": "#C8D4E3",
             "startlinecolor": "#2a3f5f"
            },
            "type": "carpet"
           }
          ],
          "choropleth": [
           {
            "colorbar": {
             "outlinewidth": 0,
             "ticks": ""
            },
            "type": "choropleth"
           }
          ],
          "contour": [
           {
            "colorbar": {
             "outlinewidth": 0,
             "ticks": ""
            },
            "colorscale": [
             [
              0,
              "#0d0887"
             ],
             [
              0.1111111111111111,
              "#46039f"
             ],
             [
              0.2222222222222222,
              "#7201a8"
             ],
             [
              0.3333333333333333,
              "#9c179e"
             ],
             [
              0.4444444444444444,
              "#bd3786"
             ],
             [
              0.5555555555555556,
              "#d8576b"
             ],
             [
              0.6666666666666666,
              "#ed7953"
             ],
             [
              0.7777777777777778,
              "#fb9f3a"
             ],
             [
              0.8888888888888888,
              "#fdca26"
             ],
             [
              1,
              "#f0f921"
             ]
            ],
            "type": "contour"
           }
          ],
          "contourcarpet": [
           {
            "colorbar": {
             "outlinewidth": 0,
             "ticks": ""
            },
            "type": "contourcarpet"
           }
          ],
          "heatmap": [
           {
            "colorbar": {
             "outlinewidth": 0,
             "ticks": ""
            },
            "colorscale": [
             [
              0,
              "#0d0887"
             ],
             [
              0.1111111111111111,
              "#46039f"
             ],
             [
              0.2222222222222222,
              "#7201a8"
             ],
             [
              0.3333333333333333,
              "#9c179e"
             ],
             [
              0.4444444444444444,
              "#bd3786"
             ],
             [
              0.5555555555555556,
              "#d8576b"
             ],
             [
              0.6666666666666666,
              "#ed7953"
             ],
             [
              0.7777777777777778,
              "#fb9f3a"
             ],
             [
              0.8888888888888888,
              "#fdca26"
             ],
             [
              1,
              "#f0f921"
             ]
            ],
            "type": "heatmap"
           }
          ],
          "heatmapgl": [
           {
            "colorbar": {
             "outlinewidth": 0,
             "ticks": ""
            },
            "colorscale": [
             [
              0,
              "#0d0887"
             ],
             [
              0.1111111111111111,
              "#46039f"
             ],
             [
              0.2222222222222222,
              "#7201a8"
             ],
             [
              0.3333333333333333,
              "#9c179e"
             ],
             [
              0.4444444444444444,
              "#bd3786"
             ],
             [
              0.5555555555555556,
              "#d8576b"
             ],
             [
              0.6666666666666666,
              "#ed7953"
             ],
             [
              0.7777777777777778,
              "#fb9f3a"
             ],
             [
              0.8888888888888888,
              "#fdca26"
             ],
             [
              1,
              "#f0f921"
             ]
            ],
            "type": "heatmapgl"
           }
          ],
          "histogram": [
           {
            "marker": {
             "pattern": {
              "fillmode": "overlay",
              "size": 10,
              "solidity": 0.2
             }
            },
            "type": "histogram"
           }
          ],
          "histogram2d": [
           {
            "colorbar": {
             "outlinewidth": 0,
             "ticks": ""
            },
            "colorscale": [
             [
              0,
              "#0d0887"
             ],
             [
              0.1111111111111111,
              "#46039f"
             ],
             [
              0.2222222222222222,
              "#7201a8"
             ],
             [
              0.3333333333333333,
              "#9c179e"
             ],
             [
              0.4444444444444444,
              "#bd3786"
             ],
             [
              0.5555555555555556,
              "#d8576b"
             ],
             [
              0.6666666666666666,
              "#ed7953"
             ],
             [
              0.7777777777777778,
              "#fb9f3a"
             ],
             [
              0.8888888888888888,
              "#fdca26"
             ],
             [
              1,
              "#f0f921"
             ]
            ],
            "type": "histogram2d"
           }
          ],
          "histogram2dcontour": [
           {
            "colorbar": {
             "outlinewidth": 0,
             "ticks": ""
            },
            "colorscale": [
             [
              0,
              "#0d0887"
             ],
             [
              0.1111111111111111,
              "#46039f"
             ],
             [
              0.2222222222222222,
              "#7201a8"
             ],
             [
              0.3333333333333333,
              "#9c179e"
             ],
             [
              0.4444444444444444,
              "#bd3786"
             ],
             [
              0.5555555555555556,
              "#d8576b"
             ],
             [
              0.6666666666666666,
              "#ed7953"
             ],
             [
              0.7777777777777778,
              "#fb9f3a"
             ],
             [
              0.8888888888888888,
              "#fdca26"
             ],
             [
              1,
              "#f0f921"
             ]
            ],
            "type": "histogram2dcontour"
           }
          ],
          "mesh3d": [
           {
            "colorbar": {
             "outlinewidth": 0,
             "ticks": ""
            },
            "type": "mesh3d"
           }
          ],
          "parcoords": [
           {
            "line": {
             "colorbar": {
              "outlinewidth": 0,
              "ticks": ""
             }
            },
            "type": "parcoords"
           }
          ],
          "pie": [
           {
            "automargin": true,
            "type": "pie"
           }
          ],
          "scatter": [
           {
            "fillpattern": {
             "fillmode": "overlay",
             "size": 10,
             "solidity": 0.2
            },
            "type": "scatter"
           }
          ],
          "scatter3d": [
           {
            "line": {
             "colorbar": {
              "outlinewidth": 0,
              "ticks": ""
             }
            },
            "marker": {
             "colorbar": {
              "outlinewidth": 0,
              "ticks": ""
             }
            },
            "type": "scatter3d"
           }
          ],
          "scattercarpet": [
           {
            "marker": {
             "colorbar": {
              "outlinewidth": 0,
              "ticks": ""
             }
            },
            "type": "scattercarpet"
           }
          ],
          "scattergeo": [
           {
            "marker": {
             "colorbar": {
              "outlinewidth": 0,
              "ticks": ""
             }
            },
            "type": "scattergeo"
           }
          ],
          "scattergl": [
           {
            "marker": {
             "colorbar": {
              "outlinewidth": 0,
              "ticks": ""
             }
            },
            "type": "scattergl"
           }
          ],
          "scattermapbox": [
           {
            "marker": {
             "colorbar": {
              "outlinewidth": 0,
              "ticks": ""
             }
            },
            "type": "scattermapbox"
           }
          ],
          "scatterpolar": [
           {
            "marker": {
             "colorbar": {
              "outlinewidth": 0,
              "ticks": ""
             }
            },
            "type": "scatterpolar"
           }
          ],
          "scatterpolargl": [
           {
            "marker": {
             "colorbar": {
              "outlinewidth": 0,
              "ticks": ""
             }
            },
            "type": "scatterpolargl"
           }
          ],
          "scatterternary": [
           {
            "marker": {
             "colorbar": {
              "outlinewidth": 0,
              "ticks": ""
             }
            },
            "type": "scatterternary"
           }
          ],
          "surface": [
           {
            "colorbar": {
             "outlinewidth": 0,
             "ticks": ""
            },
            "colorscale": [
             [
              0,
              "#0d0887"
             ],
             [
              0.1111111111111111,
              "#46039f"
             ],
             [
              0.2222222222222222,
              "#7201a8"
             ],
             [
              0.3333333333333333,
              "#9c179e"
             ],
             [
              0.4444444444444444,
              "#bd3786"
             ],
             [
              0.5555555555555556,
              "#d8576b"
             ],
             [
              0.6666666666666666,
              "#ed7953"
             ],
             [
              0.7777777777777778,
              "#fb9f3a"
             ],
             [
              0.8888888888888888,
              "#fdca26"
             ],
             [
              1,
              "#f0f921"
             ]
            ],
            "type": "surface"
           }
          ],
          "table": [
           {
            "cells": {
             "fill": {
              "color": "#EBF0F8"
             },
             "line": {
              "color": "white"
             }
            },
            "header": {
             "fill": {
              "color": "#C8D4E3"
             },
             "line": {
              "color": "white"
             }
            },
            "type": "table"
           }
          ]
         },
         "layout": {
          "annotationdefaults": {
           "arrowcolor": "#2a3f5f",
           "arrowhead": 0,
           "arrowwidth": 1
          },
          "autotypenumbers": "strict",
          "coloraxis": {
           "colorbar": {
            "outlinewidth": 0,
            "ticks": ""
           }
          },
          "colorscale": {
           "diverging": [
            [
             0,
             "#8e0152"
            ],
            [
             0.1,
             "#c51b7d"
            ],
            [
             0.2,
             "#de77ae"
            ],
            [
             0.3,
             "#f1b6da"
            ],
            [
             0.4,
             "#fde0ef"
            ],
            [
             0.5,
             "#f7f7f7"
            ],
            [
             0.6,
             "#e6f5d0"
            ],
            [
             0.7,
             "#b8e186"
            ],
            [
             0.8,
             "#7fbc41"
            ],
            [
             0.9,
             "#4d9221"
            ],
            [
             1,
             "#276419"
            ]
           ],
           "sequential": [
            [
             0,
             "#0d0887"
            ],
            [
             0.1111111111111111,
             "#46039f"
            ],
            [
             0.2222222222222222,
             "#7201a8"
            ],
            [
             0.3333333333333333,
             "#9c179e"
            ],
            [
             0.4444444444444444,
             "#bd3786"
            ],
            [
             0.5555555555555556,
             "#d8576b"
            ],
            [
             0.6666666666666666,
             "#ed7953"
            ],
            [
             0.7777777777777778,
             "#fb9f3a"
            ],
            [
             0.8888888888888888,
             "#fdca26"
            ],
            [
             1,
             "#f0f921"
            ]
           ],
           "sequentialminus": [
            [
             0,
             "#0d0887"
            ],
            [
             0.1111111111111111,
             "#46039f"
            ],
            [
             0.2222222222222222,
             "#7201a8"
            ],
            [
             0.3333333333333333,
             "#9c179e"
            ],
            [
             0.4444444444444444,
             "#bd3786"
            ],
            [
             0.5555555555555556,
             "#d8576b"
            ],
            [
             0.6666666666666666,
             "#ed7953"
            ],
            [
             0.7777777777777778,
             "#fb9f3a"
            ],
            [
             0.8888888888888888,
             "#fdca26"
            ],
            [
             1,
             "#f0f921"
            ]
           ]
          },
          "colorway": [
           "#636efa",
           "#EF553B",
           "#00cc96",
           "#ab63fa",
           "#FFA15A",
           "#19d3f3",
           "#FF6692",
           "#B6E880",
           "#FF97FF",
           "#FECB52"
          ],
          "font": {
           "color": "#2a3f5f"
          },
          "geo": {
           "bgcolor": "white",
           "lakecolor": "white",
           "landcolor": "white",
           "showlakes": true,
           "showland": true,
           "subunitcolor": "#C8D4E3"
          },
          "hoverlabel": {
           "align": "left"
          },
          "hovermode": "closest",
          "mapbox": {
           "style": "light"
          },
          "paper_bgcolor": "white",
          "plot_bgcolor": "white",
          "polar": {
           "angularaxis": {
            "gridcolor": "#EBF0F8",
            "linecolor": "#EBF0F8",
            "ticks": ""
           },
           "bgcolor": "white",
           "radialaxis": {
            "gridcolor": "#EBF0F8",
            "linecolor": "#EBF0F8",
            "ticks": ""
           }
          },
          "scene": {
           "xaxis": {
            "backgroundcolor": "white",
            "gridcolor": "#DFE8F3",
            "gridwidth": 2,
            "linecolor": "#EBF0F8",
            "showbackground": true,
            "ticks": "",
            "zerolinecolor": "#EBF0F8"
           },
           "yaxis": {
            "backgroundcolor": "white",
            "gridcolor": "#DFE8F3",
            "gridwidth": 2,
            "linecolor": "#EBF0F8",
            "showbackground": true,
            "ticks": "",
            "zerolinecolor": "#EBF0F8"
           },
           "zaxis": {
            "backgroundcolor": "white",
            "gridcolor": "#DFE8F3",
            "gridwidth": 2,
            "linecolor": "#EBF0F8",
            "showbackground": true,
            "ticks": "",
            "zerolinecolor": "#EBF0F8"
           }
          },
          "shapedefaults": {
           "line": {
            "color": "#2a3f5f"
           }
          },
          "ternary": {
           "aaxis": {
            "gridcolor": "#DFE8F3",
            "linecolor": "#A2B1C6",
            "ticks": ""
           },
           "baxis": {
            "gridcolor": "#DFE8F3",
            "linecolor": "#A2B1C6",
            "ticks": ""
           },
           "bgcolor": "white",
           "caxis": {
            "gridcolor": "#DFE8F3",
            "linecolor": "#A2B1C6",
            "ticks": ""
           }
          },
          "title": {
           "x": 0.05
          },
          "xaxis": {
           "automargin": true,
           "gridcolor": "#EBF0F8",
           "linecolor": "#EBF0F8",
           "ticks": "",
           "title": {
            "standoff": 15
           },
           "zerolinecolor": "#EBF0F8",
           "zerolinewidth": 2
          },
          "yaxis": {
           "automargin": true,
           "gridcolor": "#EBF0F8",
           "linecolor": "#EBF0F8",
           "ticks": "",
           "title": {
            "standoff": 15
           },
           "zerolinecolor": "#EBF0F8",
           "zerolinewidth": 2
          }
         }
        },
        "title": {
         "text": "Cost of the cheapest model with HumanEval > 80%"
        },
        "width": 800,
        "xaxis": {
         "anchor": "y",
         "domain": [
          0,
          1
         ],
         "title": {
          "text": "Release Date"
         }
        },
        "yaxis": {
         "anchor": "x",
         "domain": [
          0,
          1
         ],
         "title": {
          "text": "USD per 1M Tokens"
         },
         "type": "log"
        }
       }
      }
     },
     "metadata": {},
     "output_type": "display_data"
    }
   ],
   "source": [
    "# Plot the cheapest models\n",
    "fig = px.line(cheapest_models_df, x='Release Date', y='USD per 1M Tokens',\n",
    "                title=f'Cost of the cheapest model with {bench} > {performance_lower_bound}%',\n",
    "                text='Model Name', markers=True,\n",
    "                line_shape='hv')  # Make line vertical-horizontal\n",
    "fig.update_traces(textposition='bottom left')\n",
    "fig.update_layout(yaxis_type='log')\n",
    "fig.update_layout(\n",
    "    width=800,\n",
    "    height=600,\n",
    "    font=dict(size=10),\n",
    ")\n",
    "# if save:\n",
    "#     save_plot(fig, results_dir, f'aa_cheapest_models_{bench}_above_{performance_lower_bound}')\n",
    "fig.show()"
   ]
  },
  {
   "cell_type": "code",
   "execution_count": 11,
   "metadata": {},
   "outputs": [
    {
     "name": "stdout",
     "output_type": "stream",
     "text": [
      "                            OLS Regression Results                            \n",
      "==============================================================================\n",
      "Dep. Variable:              log_price   R-squared:                       0.759\n",
      "Model:                            OLS   Adj. R-squared:                  0.679\n",
      "Method:                 Least Squares   F-statistic:                     9.454\n",
      "Date:                Tue, 28 Jan 2025   Prob (F-statistic):             0.0544\n",
      "Time:                        15:50:03   Log-Likelihood:                -2.4166\n",
      "No. Observations:                   5   AIC:                             8.833\n",
      "Df Residuals:                       3   BIC:                             8.052\n",
      "Df Model:                           1                                         \n",
      "Covariance Type:            nonrobust                                         \n",
      "==============================================================================\n",
      "                 coef    std err          t      P>|t|      [0.025      0.975]\n",
      "------------------------------------------------------------------------------\n",
      "Intercept   5012.7090   1630.281      3.075      0.054    -175.574    1.02e+04\n",
      "date          -0.0068      0.002     -3.075      0.054      -0.014       0.000\n",
      "==============================================================================\n",
      "Omnibus:                          nan   Durbin-Watson:                   1.872\n",
      "Prob(Omnibus):                    nan   Jarque-Bera (JB):                0.693\n",
      "Skew:                           0.760   Prob(JB):                        0.707\n",
      "Kurtosis:                       1.990   Cond. No.                     5.32e+09\n",
      "==============================================================================\n",
      "\n",
      "Notes:\n",
      "[1] Standard Errors assume that the covariance matrix of the errors is correctly specified.\n",
      "[2] The condition number is large, 5.32e+09. This might indicate that there are\n",
      "strong multicollinearity or other numerical problems.\n",
      "                            OLS Regression Results                            \n",
      "==============================================================================\n",
      "Dep. Variable:                  price   R-squared:                       0.914\n",
      "Model:                            OLS   Adj. R-squared:                  0.885\n",
      "Method:                 Least Squares   F-statistic:                     31.78\n",
      "Date:                Tue, 28 Jan 2025   Prob (F-statistic):             0.0110\n",
      "Time:                        15:50:03   Log-Likelihood:                -9.6937\n",
      "No. Observations:                   5   AIC:                             23.39\n",
      "Df Residuals:                       3   BIC:                             22.61\n",
      "Df Model:                           1                                         \n",
      "Covariance Type:            nonrobust                                         \n",
      "==============================================================================\n",
      "                 coef    std err          t      P>|t|      [0.025      0.975]\n",
      "------------------------------------------------------------------------------\n",
      "Intercept    3.94e+04   6987.954      5.638      0.011    1.72e+04    6.16e+04\n",
      "date          -0.0533      0.009     -5.637      0.011      -0.083      -0.023\n",
      "==============================================================================\n",
      "Omnibus:                          nan   Durbin-Watson:                   2.336\n",
      "Prob(Omnibus):                    nan   Jarque-Bera (JB):                0.553\n",
      "Skew:                           0.048   Prob(JB):                        0.758\n",
      "Kurtosis:                       1.374   Cond. No.                     5.32e+09\n",
      "==============================================================================\n",
      "\n",
      "Notes:\n",
      "[1] Standard Errors assume that the covariance matrix of the errors is correctly specified.\n",
      "[2] The condition number is large, 5.32e+09. This might indicate that there are\n",
      "strong multicollinearity or other numerical problems.\n"
     ]
    },
    {
     "name": "stderr",
     "output_type": "stream",
     "text": [
      "/Users/bencottier/miniconda3/envs/llm-efficiency/lib/python3.12/site-packages/statsmodels/stats/stattools.py:74: ValueWarning:\n",
      "\n",
      "omni_normtest is not valid with less than 8 observations; 5 samples were given.\n",
      "\n",
      "/Users/bencottier/miniconda3/envs/llm-efficiency/lib/python3.12/site-packages/statsmodels/stats/stattools.py:74: ValueWarning:\n",
      "\n",
      "omni_normtest is not valid with less than 8 observations; 5 samples were given.\n",
      "\n"
     ]
    }
   ],
   "source": [
    "# Fit a line to the data\n",
    "cheapest_models_df['price'] = cheapest_models_df['USD per 1M Tokens']\n",
    "cheapest_models_df['log_price'] = np.log10(cheapest_models_df['USD per 1M Tokens'])\n",
    "cheapest_models_df['date'] = cheapest_models_df['Release Date'].map(lambda x: pd.Timestamp(x).toordinal())\n",
    "exponential_model = smf.ols('log_price ~ date', data=cheapest_models_df).fit()\n",
    "print(exponential_model.summary())\n",
    "\n",
    "linear_model = smf.ols('price ~ date', data=cheapest_models_df).fit()\n",
    "print(linear_model.summary())"
   ]
  },
  {
   "cell_type": "code",
   "execution_count": 12,
   "metadata": {},
   "outputs": [
    {
     "data": {
      "application/vnd.plotly.v1+json": {
       "config": {
        "plotlyServerURL": "https://plot.ly"
       },
       "data": [
        {
         "line": {
          "color": "lightgrey",
          "dash": "dash"
         },
         "mode": "lines",
         "name": "Trendline: 299x decrease per year",
         "textposition": "bottom left",
         "type": "scatter",
         "x": [
          "2023-11-01T00:00:00",
          "2024-05-01T00:00:00",
          "2024-06-01T00:00:00",
          "2024-07-01T00:00:00",
          "2024-09-01T00:00:00"
         ],
         "y": [
          27.29395277495108,
          1.5907577916892965,
          0.9802536983013618,
          0.6135580805650389,
          0.23298316506820774
         ]
        },
        {
         "line": {
          "shape": "hv"
         },
         "mode": "lines+markers+text",
         "name": "Data",
         "text": [
          "GPT-4 Turbo",
          "GPT-4o-2024-05",
          "Claude-3.5-Haiku",
          "GPT-4o-mini",
          "Gemini-1.5-Flash-2024-09"
         ],
         "textposition": "bottom left",
         "type": "scatter",
         "x": [
          "2023-11-01T00:00:00",
          "2024-05-01T00:00:00",
          "2024-06-01T00:00:00",
          "2024-07-01T00:00:00",
          "2024-09-01T00:00:00"
         ],
         "y": [
          15,
          7.5,
          1.6,
          0.26,
          0.13
         ]
        }
       ],
       "layout": {
        "font": {
         "size": 10
        },
        "height": 600,
        "legend": {
         "bordercolor": "lightgrey",
         "borderwidth": 1,
         "x": 0.99,
         "xanchor": "right",
         "y": 0.99,
         "yanchor": "top"
        },
        "template": {
         "data": {
          "bar": [
           {
            "error_x": {
             "color": "#2a3f5f"
            },
            "error_y": {
             "color": "#2a3f5f"
            },
            "marker": {
             "line": {
              "color": "white",
              "width": 0.5
             },
             "pattern": {
              "fillmode": "overlay",
              "size": 10,
              "solidity": 0.2
             }
            },
            "type": "bar"
           }
          ],
          "barpolar": [
           {
            "marker": {
             "line": {
              "color": "white",
              "width": 0.5
             },
             "pattern": {
              "fillmode": "overlay",
              "size": 10,
              "solidity": 0.2
             }
            },
            "type": "barpolar"
           }
          ],
          "carpet": [
           {
            "aaxis": {
             "endlinecolor": "#2a3f5f",
             "gridcolor": "#C8D4E3",
             "linecolor": "#C8D4E3",
             "minorgridcolor": "#C8D4E3",
             "startlinecolor": "#2a3f5f"
            },
            "baxis": {
             "endlinecolor": "#2a3f5f",
             "gridcolor": "#C8D4E3",
             "linecolor": "#C8D4E3",
             "minorgridcolor": "#C8D4E3",
             "startlinecolor": "#2a3f5f"
            },
            "type": "carpet"
           }
          ],
          "choropleth": [
           {
            "colorbar": {
             "outlinewidth": 0,
             "ticks": ""
            },
            "type": "choropleth"
           }
          ],
          "contour": [
           {
            "colorbar": {
             "outlinewidth": 0,
             "ticks": ""
            },
            "colorscale": [
             [
              0,
              "#0d0887"
             ],
             [
              0.1111111111111111,
              "#46039f"
             ],
             [
              0.2222222222222222,
              "#7201a8"
             ],
             [
              0.3333333333333333,
              "#9c179e"
             ],
             [
              0.4444444444444444,
              "#bd3786"
             ],
             [
              0.5555555555555556,
              "#d8576b"
             ],
             [
              0.6666666666666666,
              "#ed7953"
             ],
             [
              0.7777777777777778,
              "#fb9f3a"
             ],
             [
              0.8888888888888888,
              "#fdca26"
             ],
             [
              1,
              "#f0f921"
             ]
            ],
            "type": "contour"
           }
          ],
          "contourcarpet": [
           {
            "colorbar": {
             "outlinewidth": 0,
             "ticks": ""
            },
            "type": "contourcarpet"
           }
          ],
          "heatmap": [
           {
            "colorbar": {
             "outlinewidth": 0,
             "ticks": ""
            },
            "colorscale": [
             [
              0,
              "#0d0887"
             ],
             [
              0.1111111111111111,
              "#46039f"
             ],
             [
              0.2222222222222222,
              "#7201a8"
             ],
             [
              0.3333333333333333,
              "#9c179e"
             ],
             [
              0.4444444444444444,
              "#bd3786"
             ],
             [
              0.5555555555555556,
              "#d8576b"
             ],
             [
              0.6666666666666666,
              "#ed7953"
             ],
             [
              0.7777777777777778,
              "#fb9f3a"
             ],
             [
              0.8888888888888888,
              "#fdca26"
             ],
             [
              1,
              "#f0f921"
             ]
            ],
            "type": "heatmap"
           }
          ],
          "heatmapgl": [
           {
            "colorbar": {
             "outlinewidth": 0,
             "ticks": ""
            },
            "colorscale": [
             [
              0,
              "#0d0887"
             ],
             [
              0.1111111111111111,
              "#46039f"
             ],
             [
              0.2222222222222222,
              "#7201a8"
             ],
             [
              0.3333333333333333,
              "#9c179e"
             ],
             [
              0.4444444444444444,
              "#bd3786"
             ],
             [
              0.5555555555555556,
              "#d8576b"
             ],
             [
              0.6666666666666666,
              "#ed7953"
             ],
             [
              0.7777777777777778,
              "#fb9f3a"
             ],
             [
              0.8888888888888888,
              "#fdca26"
             ],
             [
              1,
              "#f0f921"
             ]
            ],
            "type": "heatmapgl"
           }
          ],
          "histogram": [
           {
            "marker": {
             "pattern": {
              "fillmode": "overlay",
              "size": 10,
              "solidity": 0.2
             }
            },
            "type": "histogram"
           }
          ],
          "histogram2d": [
           {
            "colorbar": {
             "outlinewidth": 0,
             "ticks": ""
            },
            "colorscale": [
             [
              0,
              "#0d0887"
             ],
             [
              0.1111111111111111,
              "#46039f"
             ],
             [
              0.2222222222222222,
              "#7201a8"
             ],
             [
              0.3333333333333333,
              "#9c179e"
             ],
             [
              0.4444444444444444,
              "#bd3786"
             ],
             [
              0.5555555555555556,
              "#d8576b"
             ],
             [
              0.6666666666666666,
              "#ed7953"
             ],
             [
              0.7777777777777778,
              "#fb9f3a"
             ],
             [
              0.8888888888888888,
              "#fdca26"
             ],
             [
              1,
              "#f0f921"
             ]
            ],
            "type": "histogram2d"
           }
          ],
          "histogram2dcontour": [
           {
            "colorbar": {
             "outlinewidth": 0,
             "ticks": ""
            },
            "colorscale": [
             [
              0,
              "#0d0887"
             ],
             [
              0.1111111111111111,
              "#46039f"
             ],
             [
              0.2222222222222222,
              "#7201a8"
             ],
             [
              0.3333333333333333,
              "#9c179e"
             ],
             [
              0.4444444444444444,
              "#bd3786"
             ],
             [
              0.5555555555555556,
              "#d8576b"
             ],
             [
              0.6666666666666666,
              "#ed7953"
             ],
             [
              0.7777777777777778,
              "#fb9f3a"
             ],
             [
              0.8888888888888888,
              "#fdca26"
             ],
             [
              1,
              "#f0f921"
             ]
            ],
            "type": "histogram2dcontour"
           }
          ],
          "mesh3d": [
           {
            "colorbar": {
             "outlinewidth": 0,
             "ticks": ""
            },
            "type": "mesh3d"
           }
          ],
          "parcoords": [
           {
            "line": {
             "colorbar": {
              "outlinewidth": 0,
              "ticks": ""
             }
            },
            "type": "parcoords"
           }
          ],
          "pie": [
           {
            "automargin": true,
            "type": "pie"
           }
          ],
          "scatter": [
           {
            "fillpattern": {
             "fillmode": "overlay",
             "size": 10,
             "solidity": 0.2
            },
            "type": "scatter"
           }
          ],
          "scatter3d": [
           {
            "line": {
             "colorbar": {
              "outlinewidth": 0,
              "ticks": ""
             }
            },
            "marker": {
             "colorbar": {
              "outlinewidth": 0,
              "ticks": ""
             }
            },
            "type": "scatter3d"
           }
          ],
          "scattercarpet": [
           {
            "marker": {
             "colorbar": {
              "outlinewidth": 0,
              "ticks": ""
             }
            },
            "type": "scattercarpet"
           }
          ],
          "scattergeo": [
           {
            "marker": {
             "colorbar": {
              "outlinewidth": 0,
              "ticks": ""
             }
            },
            "type": "scattergeo"
           }
          ],
          "scattergl": [
           {
            "marker": {
             "colorbar": {
              "outlinewidth": 0,
              "ticks": ""
             }
            },
            "type": "scattergl"
           }
          ],
          "scattermapbox": [
           {
            "marker": {
             "colorbar": {
              "outlinewidth": 0,
              "ticks": ""
             }
            },
            "type": "scattermapbox"
           }
          ],
          "scatterpolar": [
           {
            "marker": {
             "colorbar": {
              "outlinewidth": 0,
              "ticks": ""
             }
            },
            "type": "scatterpolar"
           }
          ],
          "scatterpolargl": [
           {
            "marker": {
             "colorbar": {
              "outlinewidth": 0,
              "ticks": ""
             }
            },
            "type": "scatterpolargl"
           }
          ],
          "scatterternary": [
           {
            "marker": {
             "colorbar": {
              "outlinewidth": 0,
              "ticks": ""
             }
            },
            "type": "scatterternary"
           }
          ],
          "surface": [
           {
            "colorbar": {
             "outlinewidth": 0,
             "ticks": ""
            },
            "colorscale": [
             [
              0,
              "#0d0887"
             ],
             [
              0.1111111111111111,
              "#46039f"
             ],
             [
              0.2222222222222222,
              "#7201a8"
             ],
             [
              0.3333333333333333,
              "#9c179e"
             ],
             [
              0.4444444444444444,
              "#bd3786"
             ],
             [
              0.5555555555555556,
              "#d8576b"
             ],
             [
              0.6666666666666666,
              "#ed7953"
             ],
             [
              0.7777777777777778,
              "#fb9f3a"
             ],
             [
              0.8888888888888888,
              "#fdca26"
             ],
             [
              1,
              "#f0f921"
             ]
            ],
            "type": "surface"
           }
          ],
          "table": [
           {
            "cells": {
             "fill": {
              "color": "#EBF0F8"
             },
             "line": {
              "color": "white"
             }
            },
            "header": {
             "fill": {
              "color": "#C8D4E3"
             },
             "line": {
              "color": "white"
             }
            },
            "type": "table"
           }
          ]
         },
         "layout": {
          "annotationdefaults": {
           "arrowcolor": "#2a3f5f",
           "arrowhead": 0,
           "arrowwidth": 1
          },
          "autotypenumbers": "strict",
          "coloraxis": {
           "colorbar": {
            "outlinewidth": 0,
            "ticks": ""
           }
          },
          "colorscale": {
           "diverging": [
            [
             0,
             "#8e0152"
            ],
            [
             0.1,
             "#c51b7d"
            ],
            [
             0.2,
             "#de77ae"
            ],
            [
             0.3,
             "#f1b6da"
            ],
            [
             0.4,
             "#fde0ef"
            ],
            [
             0.5,
             "#f7f7f7"
            ],
            [
             0.6,
             "#e6f5d0"
            ],
            [
             0.7,
             "#b8e186"
            ],
            [
             0.8,
             "#7fbc41"
            ],
            [
             0.9,
             "#4d9221"
            ],
            [
             1,
             "#276419"
            ]
           ],
           "sequential": [
            [
             0,
             "#0d0887"
            ],
            [
             0.1111111111111111,
             "#46039f"
            ],
            [
             0.2222222222222222,
             "#7201a8"
            ],
            [
             0.3333333333333333,
             "#9c179e"
            ],
            [
             0.4444444444444444,
             "#bd3786"
            ],
            [
             0.5555555555555556,
             "#d8576b"
            ],
            [
             0.6666666666666666,
             "#ed7953"
            ],
            [
             0.7777777777777778,
             "#fb9f3a"
            ],
            [
             0.8888888888888888,
             "#fdca26"
            ],
            [
             1,
             "#f0f921"
            ]
           ],
           "sequentialminus": [
            [
             0,
             "#0d0887"
            ],
            [
             0.1111111111111111,
             "#46039f"
            ],
            [
             0.2222222222222222,
             "#7201a8"
            ],
            [
             0.3333333333333333,
             "#9c179e"
            ],
            [
             0.4444444444444444,
             "#bd3786"
            ],
            [
             0.5555555555555556,
             "#d8576b"
            ],
            [
             0.6666666666666666,
             "#ed7953"
            ],
            [
             0.7777777777777778,
             "#fb9f3a"
            ],
            [
             0.8888888888888888,
             "#fdca26"
            ],
            [
             1,
             "#f0f921"
            ]
           ]
          },
          "colorway": [
           "#636efa",
           "#EF553B",
           "#00cc96",
           "#ab63fa",
           "#FFA15A",
           "#19d3f3",
           "#FF6692",
           "#B6E880",
           "#FF97FF",
           "#FECB52"
          ],
          "font": {
           "color": "#2a3f5f"
          },
          "geo": {
           "bgcolor": "white",
           "lakecolor": "white",
           "landcolor": "white",
           "showlakes": true,
           "showland": true,
           "subunitcolor": "#C8D4E3"
          },
          "hoverlabel": {
           "align": "left"
          },
          "hovermode": "closest",
          "mapbox": {
           "style": "light"
          },
          "paper_bgcolor": "white",
          "plot_bgcolor": "white",
          "polar": {
           "angularaxis": {
            "gridcolor": "#EBF0F8",
            "linecolor": "#EBF0F8",
            "ticks": ""
           },
           "bgcolor": "white",
           "radialaxis": {
            "gridcolor": "#EBF0F8",
            "linecolor": "#EBF0F8",
            "ticks": ""
           }
          },
          "scene": {
           "xaxis": {
            "backgroundcolor": "white",
            "gridcolor": "#DFE8F3",
            "gridwidth": 2,
            "linecolor": "#EBF0F8",
            "showbackground": true,
            "ticks": "",
            "zerolinecolor": "#EBF0F8"
           },
           "yaxis": {
            "backgroundcolor": "white",
            "gridcolor": "#DFE8F3",
            "gridwidth": 2,
            "linecolor": "#EBF0F8",
            "showbackground": true,
            "ticks": "",
            "zerolinecolor": "#EBF0F8"
           },
           "zaxis": {
            "backgroundcolor": "white",
            "gridcolor": "#DFE8F3",
            "gridwidth": 2,
            "linecolor": "#EBF0F8",
            "showbackground": true,
            "ticks": "",
            "zerolinecolor": "#EBF0F8"
           }
          },
          "shapedefaults": {
           "line": {
            "color": "#2a3f5f"
           }
          },
          "ternary": {
           "aaxis": {
            "gridcolor": "#DFE8F3",
            "linecolor": "#A2B1C6",
            "ticks": ""
           },
           "baxis": {
            "gridcolor": "#DFE8F3",
            "linecolor": "#A2B1C6",
            "ticks": ""
           },
           "bgcolor": "white",
           "caxis": {
            "gridcolor": "#DFE8F3",
            "linecolor": "#A2B1C6",
            "ticks": ""
           }
          },
          "title": {
           "x": 0.05
          },
          "xaxis": {
           "automargin": true,
           "gridcolor": "#EBF0F8",
           "linecolor": "#EBF0F8",
           "ticks": "",
           "title": {
            "standoff": 15
           },
           "zerolinecolor": "#EBF0F8",
           "zerolinewidth": 2
          },
          "yaxis": {
           "automargin": true,
           "gridcolor": "#EBF0F8",
           "linecolor": "#EBF0F8",
           "ticks": "",
           "title": {
            "standoff": 15
           },
           "zerolinecolor": "#EBF0F8",
           "zerolinewidth": 2
          }
         }
        },
        "title": {
         "text": "Cost of the cheapest model with HumanEval > 80%"
        },
        "width": 800,
        "xaxis": {
         "range": [
          "2023-08-03T00:00:00",
          "2024-10-01T00:00:00"
         ],
         "title": {
          "text": "Month"
         }
        },
        "yaxis": {
         "title": {
          "text": "Cost in USD per million tokens"
         },
         "type": "log"
        }
       }
      }
     },
     "metadata": {},
     "output_type": "display_data"
    }
   ],
   "source": [
    "# Calculate annual rate of decrease\n",
    "annual_slope = exponential_model.params['date'] * 365  # Convert daily to annual\n",
    "annual_factor = int(round(10**(-annual_slope)))  # Convert log slope to factor\n",
    "\n",
    "# Plot the exponential trendline with the data\n",
    "fig = go.Figure()\n",
    "fig.add_trace(go.Scatter(\n",
    "    x=cheapest_models_df['Release Date'],\n",
    "    y=10**exponential_model.predict(cheapest_models_df['date']),\n",
    "    mode='lines',\n",
    "    name=f'Trendline: {annual_factor}x decrease per year',\n",
    "    line=dict(color='lightgrey', dash='dash')\n",
    "))\n",
    "fig.add_trace(go.Scatter(\n",
    "    x=cheapest_models_df['Release Date'],\n",
    "    y=cheapest_models_df['USD per 1M Tokens'],\n",
    "    mode='lines+markers+text',\n",
    "    name='Data',\n",
    "    text=cheapest_models_df['Model Name'],\n",
    "    textposition='bottom left',\n",
    "    line=dict(shape='hv')\n",
    "))\n",
    "fig.update_layout(\n",
    "    title=f'Cost of the cheapest model with {bench} > {performance_lower_bound}%'\n",
    ")\n",
    "fig.update_traces(textposition='bottom left')\n",
    "fig.update_layout(yaxis_type='log')\n",
    "fig.update_layout(xaxis_title='Month')\n",
    "fig.update_layout(yaxis_title='Cost in USD per million tokens')\n",
    "# Lower the lower x limit\n",
    "fig.update_layout(xaxis_range=[cheapest_models_df['Release Date'].min() - pd.Timedelta(days=90), cheapest_models_df['Release Date'].max()+pd.Timedelta(days=30)])\n",
    "fig.update_layout(\n",
    "    width=800,\n",
    "    height=600,\n",
    "    font=dict(size=10),\n",
    "    legend=dict(\n",
    "        yanchor=\"top\",\n",
    "        y=0.99,\n",
    "        xanchor=\"right\",\n",
    "        x=0.99,\n",
    "        bordercolor=\"lightgrey\",\n",
    "        borderwidth=1\n",
    "    )\n",
    ")\n",
    "if save:\n",
    "    save_plot(fig, results_dir, f'aa_cheapest_models_{bench}_above_{performance_lower_bound}_with_trendline')\n",
    "fig.show()"
   ]
  },
  {
   "cell_type": "code",
   "execution_count": 13,
   "metadata": {},
   "outputs": [
    {
     "name": "stdout",
     "output_type": "stream",
     "text": [
      "MMLU\n",
      "\n",
      "Performance lower bound: 40%\n",
      "2023-04-01 00:00:00 GPT-4 86 $37.50\n",
      "2023-08-01 00:00:00 Llama-2-Chat-13B 45 $0.56\n",
      "2024-04-01 00:00:00 Claude-3-Haiku 71 $0.50\n",
      "2024-05-01 00:00:00 Llama-3-Instruct-8B 64 $0.15\n",
      "2024-06-01 00:00:00 Gemini-1.5-Flash-2024-05 79 $0.13\n",
      "2024-08-01 00:00:00 Llama-3.1-Instruct-8B 71 $0.10\n",
      "2024-10-01 00:00:00 Llama-3.2-Instruct-3B 64 $0.08\n",
      "2024-11-01 00:00:00 Gemini-1.5-Flash-8B 75 $0.07\n",
      "\n",
      "Performance lower bound: 50%\n",
      "2023-04-01 00:00:00 GPT-4 86 $37.50\n",
      "2023-12-01 00:00:00 GPT-3.5 Turbo 68 $0.75\n",
      "2024-04-01 00:00:00 Claude-3-Haiku 71 $0.50\n",
      "2024-05-01 00:00:00 Llama-3-Instruct-8B 64 $0.15\n",
      "2024-06-01 00:00:00 Gemini-1.5-Flash-2024-05 79 $0.13\n",
      "2024-08-01 00:00:00 Llama-3.1-Instruct-8B 71 $0.10\n",
      "2024-10-01 00:00:00 Llama-3.2-Instruct-3B 64 $0.08\n",
      "2024-11-01 00:00:00 Gemini-1.5-Flash-8B 75 $0.07\n",
      "\n",
      "Performance lower bound: 60%\n",
      "2023-04-01 00:00:00 GPT-4 86 $37.50\n",
      "2023-12-01 00:00:00 GPT-3.5 Turbo 68 $0.75\n",
      "2024-04-01 00:00:00 Claude-3-Haiku 71 $0.50\n",
      "2024-05-01 00:00:00 Llama-3-Instruct-8B 64 $0.15\n",
      "2024-06-01 00:00:00 Gemini-1.5-Flash-2024-05 79 $0.13\n",
      "2024-08-01 00:00:00 Llama-3.1-Instruct-8B 71 $0.10\n",
      "2024-10-01 00:00:00 Llama-3.2-Instruct-3B 64 $0.08\n",
      "2024-11-01 00:00:00 Gemini-1.5-Flash-8B 75 $0.07\n",
      "\n",
      "Performance lower bound: 70%\n",
      "2023-04-01 00:00:00 GPT-4 86 $37.50\n",
      "2023-12-01 00:00:00 GPT-4 Turbo 87 $15.00\n",
      "2024-04-01 00:00:00 Claude-3-Haiku 71 $0.50\n",
      "2024-06-01 00:00:00 Gemini-1.5-Flash-2024-05 79 $0.13\n",
      "2024-08-01 00:00:00 Llama-3.1-Instruct-8B 71 $0.10\n",
      "2024-11-01 00:00:00 Gemini-1.5-Flash-8B 75 $0.07\n",
      "\n",
      "Performance lower bound: 80%\n",
      "2023-04-01 00:00:00 GPT-4 86 $37.50\n",
      "2023-12-01 00:00:00 GPT-4 Turbo 87 $15.00\n",
      "2024-06-01 00:00:00 Gemini-1.5-Pro-2024-05 86 $2.19\n",
      "2024-07-01 00:00:00 Claude-3.5-Haiku 81 $1.60\n",
      "2024-08-01 00:00:00 GPT-4o-mini 82 $0.26\n",
      "\n",
      "Performance lower bound: 90%\n",
      "Less than 2 models found\n",
      "\n",
      "\n",
      "GPQA Diamond\n",
      "\n",
      "Performance lower bound: 40%\n",
      "2023-12-01 00:00:00 GPT-4 Turbo 50 $15.00\n",
      "2024-06-01 00:00:00 Gemini-1.5-Pro-2024-05 46 $2.19\n",
      "2024-08-01 00:00:00 GPT-4o-mini 43 $0.26\n",
      "2024-10-01 00:00:00 Gemini-1.5-Flash-2024-09 45 $0.13\n",
      "\n",
      "Performance lower bound: 50%\n",
      "2024-06-01 00:00:00 GPT-4o-2024-05 51 $7.50\n",
      "2024-07-01 00:00:00 Claude-3.5-Sonnet-2024-06 56 $6.00\n",
      "2024-09-01 00:00:00 GPT-4o-2024-08 51 $4.38\n",
      "2024-10-01 00:00:00 Gemini-1.5-Pro-2024-09 61 $2.19\n",
      "\n",
      "Performance lower bound: 60%\n",
      "2024-10-01 00:00:00 Gemini-1.5-Pro-2024-09 61 $2.19\n",
      "Less than 2 models found\n",
      "\n",
      "Performance lower bound: 70%\n",
      "Less than 2 models found\n",
      "\n",
      "Performance lower bound: 80%\n",
      "Less than 2 models found\n",
      "\n",
      "Performance lower bound: 90%\n",
      "Less than 2 models found\n",
      "\n",
      "\n",
      "MATH-500\n",
      "\n",
      "Performance lower bound: 40%\n",
      "2023-12-01 00:00:00 GPT-3.5 Turbo 44.0 $0.75\n",
      "2024-06-01 00:00:00 Gemini-1.5-Flash-2024-05 55.0 $0.13\n",
      "2024-08-01 00:00:00 Llama-3.1-Instruct-8B 50.0 $0.10\n",
      "2024-10-01 00:00:00 Llama-3.2-Instruct-3B 50.0 $0.08\n",
      "2024-11-01 00:00:00 Gemini-1.5-Flash-8B 70.0 $0.07\n",
      "\n",
      "Performance lower bound: 50%\n",
      "2023-12-01 00:00:00 GPT-4 Turbo 74.0 $15.00\n",
      "2024-03-01 00:00:00 Mistral-Small-2024-02 56.0 $1.50\n",
      "2024-05-01 00:00:00 Llama-3-Instruct-70B 53.0 $0.89\n",
      "2024-06-01 00:00:00 Gemini-1.5-Flash-2024-05 55.0 $0.13\n",
      "2024-11-01 00:00:00 Gemini-1.5-Flash-8B 70.0 $0.07\n",
      "\n",
      "Performance lower bound: 60%\n",
      "2023-12-01 00:00:00 GPT-4 Turbo 74.0 $15.00\n",
      "2024-06-01 00:00:00 Gemini-1.5-Pro-2024-05 66.0 $2.19\n",
      "2024-07-01 00:00:00 Claude-3.5-Haiku 67.0 $1.60\n",
      "2024-08-01 00:00:00 GPT-4o-mini 79.0 $0.26\n",
      "2024-10-01 00:00:00 Gemini-1.5-Flash-2024-09 83.0 $0.13\n",
      "2024-11-01 00:00:00 Gemini-1.5-Flash-8B 70.0 $0.07\n",
      "\n",
      "Performance lower bound: 70%\n",
      "2023-12-01 00:00:00 GPT-4 Turbo 74.0 $15.00\n",
      "2024-06-01 00:00:00 GPT-4o-2024-05 79.0 $7.50\n",
      "2024-07-01 00:00:00 Mistral-Large-2-2024-06 71.0 $3.00\n",
      "2024-08-01 00:00:00 GPT-4o-mini 79.0 $0.26\n",
      "2024-10-01 00:00:00 Gemini-1.5-Flash-2024-09 83.0 $0.13\n",
      "\n",
      "Performance lower bound: 80%\n",
      "2024-10-01 00:00:00 Gemini-1.5-Flash-2024-09 83.0 $0.13\n",
      "Less than 2 models found\n",
      "\n",
      "Performance lower bound: 90%\n",
      "Less than 2 models found\n",
      "\n",
      "\n",
      "HumanEval\n",
      "\n",
      "Performance lower bound: 40%\n",
      "2023-04-01 00:00:00 GPT-4 67.0 $37.50\n",
      "2023-12-01 00:00:00 GPT-3.5 Turbo 71.0 $0.75\n",
      "2024-04-01 00:00:00 Claude-3-Haiku 77.0 $0.50\n",
      "2024-05-01 00:00:00 Llama-3-Instruct-8B 53.0 $0.15\n",
      "2024-07-01 00:00:00 Gemma-2-9B 64.0 $0.13\n",
      "2024-08-01 00:00:00 Llama-3.1-Instruct-8B 67.0 $0.10\n",
      "2024-10-01 00:00:00 Llama-3.2-Instruct-3B 60.0 $0.08\n",
      "\n",
      "Performance lower bound: 50%\n",
      "2023-04-01 00:00:00 GPT-4 67.0 $37.50\n",
      "2023-12-01 00:00:00 GPT-3.5 Turbo 71.0 $0.75\n",
      "2024-04-01 00:00:00 Claude-3-Haiku 77.0 $0.50\n",
      "2024-05-01 00:00:00 Llama-3-Instruct-8B 53.0 $0.15\n",
      "2024-07-01 00:00:00 Gemma-2-9B 64.0 $0.13\n",
      "2024-08-01 00:00:00 Llama-3.1-Instruct-8B 67.0 $0.10\n",
      "2024-10-01 00:00:00 Llama-3.2-Instruct-3B 60.0 $0.08\n",
      "\n",
      "Performance lower bound: 60%\n",
      "2023-04-01 00:00:00 GPT-4 67.0 $37.50\n",
      "2023-12-01 00:00:00 GPT-3.5 Turbo 71.0 $0.75\n",
      "2024-04-01 00:00:00 Claude-3-Haiku 77.0 $0.50\n",
      "2024-07-01 00:00:00 Gemma-2-9B 64.0 $0.13\n",
      "2024-08-01 00:00:00 Llama-3.1-Instruct-8B 67.0 $0.10\n",
      "\n",
      "Performance lower bound: 70%\n",
      "2023-12-01 00:00:00 GPT-3.5 Turbo 71.0 $0.75\n",
      "2024-04-01 00:00:00 Claude-3-Haiku 77.0 $0.50\n",
      "2024-07-01 00:00:00 Mistral-NeMo 71.0 $0.13\n",
      "\n",
      "Performance lower bound: 80%\n",
      "2023-12-01 00:00:00 GPT-4 Turbo 92.0 $15.00\n",
      "2024-06-01 00:00:00 GPT-4o-2024-05 93.0 $7.50\n",
      "2024-07-01 00:00:00 Claude-3.5-Haiku 87.0 $1.60\n",
      "2024-08-01 00:00:00 GPT-4o-mini 88.0 $0.26\n",
      "2024-10-01 00:00:00 Gemini-1.5-Flash-2024-09 83.0 $0.13\n",
      "\n",
      "Performance lower bound: 90%\n",
      "2023-12-01 00:00:00 GPT-4 Turbo 92.0 $15.00\n",
      "2024-06-01 00:00:00 GPT-4o-2024-05 93.0 $7.50\n",
      "2024-07-01 00:00:00 Mistral-Large-2-2024-06 91.0 $3.00\n"
     ]
    }
   ],
   "source": [
    "benchmarks = ['MMLU', 'GPQA Diamond', 'MATH-500','HumanEval']\n",
    "performance_lower_bounds = [40, 50, 60, 70, 80, 90]\n",
    "os.makedirs(results_dir + 'aa_cheapest_models_run/', exist_ok=True)\n",
    "\n",
    "# Open log file\n",
    "log_path = results_dir + 'aa_cheapest_models_run/output.log'\n",
    "results = []\n",
    "with open(log_path, 'w') as log_file:\n",
    "    for i, bench in enumerate(benchmarks):\n",
    "        if i > 0:\n",
    "            print('\\n')\n",
    "            print('\\n', file=log_file)\n",
    "        print(f'{bench}')\n",
    "        print(f'{bench}', file=log_file)\n",
    "        for performance_lower_bound in performance_lower_bounds:\n",
    "            print(f'\\nPerformance lower bound: {performance_lower_bound}%')\n",
    "            print(f'\\nPerformance lower bound: {performance_lower_bound}%', file=log_file)\n",
    "            ts = pd.date_range(start='2020-01-01', end='2025-01-01', freq='MS')\n",
    "            cheapest_models = []\n",
    "            current_best = None\n",
    "\n",
    "            for i, t in enumerate(ts):\n",
    "                # Get models published in this time window\n",
    "                benchmark_df = aa_df\n",
    "                if i > 0:\n",
    "                    prev_t = ts[i-1]\n",
    "                    benchmark_df = benchmark_df[(benchmark_df['Release Date'] >= prev_t) & (benchmark_df['Release Date'] < t)]\n",
    "                else:\n",
    "                    benchmark_df = benchmark_df[benchmark_df['Release Date'] < t]\n",
    "                    \n",
    "                # Filter for performance\n",
    "                benchmark_df = benchmark_df[benchmark_df[bench].notna()]\n",
    "                benchmark_df = benchmark_df[benchmark_df[bench] > performance_lower_bound]\n",
    "                \n",
    "                if not benchmark_df.empty:\n",
    "                    # Find cheapest new model\n",
    "                    new_best = benchmark_df.loc[benchmark_df['USD per 1M Tokens'].idxmin()]\n",
    "                    \n",
    "                    # Update current best if new model is cheaper (or if no current best)\n",
    "                    if current_best is None or new_best['USD per 1M Tokens'] < current_best['USD per 1M Tokens']:\n",
    "                        current_best = new_best\n",
    "                        cheapest_models.append(current_best)\n",
    "                        print(t, current_best['Model Name'], current_best[bench], f\"${current_best['USD per 1M Tokens']:.2f}\")\n",
    "                        print(t, current_best['Model Name'], current_best[bench], f\"${current_best['USD per 1M Tokens']:.2f}\", file=log_file)\n",
    "\n",
    "            cheapest_models_df = pd.DataFrame(cheapest_models)\n",
    "            if len(cheapest_models_df) < 2:\n",
    "                print('Less than 2 models found')\n",
    "                print('Less than 2 models found', file=log_file)\n",
    "                continue\n",
    "\n",
    "            # Fit a line to the data\n",
    "            cheapest_models_df['price'] = cheapest_models_df['USD per 1M Tokens']\n",
    "            cheapest_models_df['log_price'] = np.log10(cheapest_models_df['USD per 1M Tokens'])\n",
    "            cheapest_models_df['date'] = cheapest_models_df['Release Date'].map(lambda x: pd.Timestamp(x).toordinal())\n",
    "            exponential_model = smf.ols('log_price ~ date', data=cheapest_models_df).fit()\n",
    "\n",
    "            # Calculate annual rate of decrease\n",
    "            annual_slope = exponential_model.params['date'] * 365  # Convert daily to annual\n",
    "            annual_factor = int(round(10**(-annual_slope)))  # Convert log slope to factor\n",
    "            results.append({\n",
    "                'bench': bench,\n",
    "                'performance_lower_bound': performance_lower_bound,\n",
    "                'sample_size': len(cheapest_models_df),\n",
    "                'start_date': cheapest_models_df['Release Date'].min(),\n",
    "                'end_date': cheapest_models_df['Release Date'].max(),\n",
    "                'cost_reduction_factor_per_year': annual_factor,\n",
    "                'r_squared': round(exponential_model.rsquared, 2),\n",
    "            })\n",
    "\n",
    "            # Plot the exponential trendline with the data\n",
    "            fig = go.Figure()\n",
    "            fig.add_trace(go.Scatter(\n",
    "                x=cheapest_models_df['Release Date'],\n",
    "                y=10**exponential_model.predict(cheapest_models_df['date']),\n",
    "                mode='lines',\n",
    "                name=f'Trendline: {annual_factor}x decrease per year',\n",
    "                line=dict(color='lightgrey', dash='dash')\n",
    "            ))\n",
    "            fig.add_trace(go.Scatter(\n",
    "                x=cheapest_models_df['Release Date'],\n",
    "                y=cheapest_models_df['USD per 1M Tokens'],\n",
    "                mode='lines+markers+text',\n",
    "                name='Data',\n",
    "                text=cheapest_models_df['Model Name'],\n",
    "                textposition='bottom left',\n",
    "                line=dict(shape='hv')\n",
    "            ))\n",
    "            fig.update_layout(\n",
    "                title=f'Cost of the cheapest model with {bench} > {performance_lower_bound}%'\n",
    "            )\n",
    "            fig.update_traces(textposition='bottom left')\n",
    "            fig.update_layout(yaxis_type='log')\n",
    "            fig.update_layout(xaxis_title='Month')\n",
    "            fig.update_layout(yaxis_title='Cost in USD per million tokens')\n",
    "            # Lower the lower x limit\n",
    "            fig.update_layout(xaxis_range=[cheapest_models_df['Release Date'].min() - pd.Timedelta(days=90), cheapest_models_df['Release Date'].max()+pd.Timedelta(days=30)])\n",
    "            fig.update_layout(\n",
    "                width=800,\n",
    "                height=600,\n",
    "                font=dict(size=10),\n",
    "                legend=dict(\n",
    "                    yanchor=\"top\",\n",
    "                    y=0.99,\n",
    "                    xanchor=\"right\",\n",
    "                    x=0.99,\n",
    "                    bordercolor=\"lightgrey\",\n",
    "                    borderwidth=1\n",
    "                )\n",
    "            )\n",
    "            if save:\n",
    "                save_plot(\n",
    "                    fig,\n",
    "                    results_dir + 'aa_cheapest_models_run/',\n",
    "                    f'aa_cheapest_models_{bench}_above_{performance_lower_bound}_with_trendline',\n",
    "                    extensions=['png'],\n",
    "                )\n",
    "\n",
    "cheapest_model_results_df = pd.DataFrame(results)\n",
    "cheapest_model_results_df.to_csv(results_dir + 'aa_cheapest_models_run/cheapest_model_results.csv', index=False)"
   ]
  },
  {
   "cell_type": "code",
   "execution_count": 14,
   "metadata": {},
   "outputs": [],
   "source": [
    "# Create a summary DataFrame\n",
    "summary_data = []\n",
    "for bench in benchmarks:\n",
    "    bench_results = cheapest_model_results_df[cheapest_model_results_df['bench'] == bench]\n",
    "    # Get all performance lower bounds used for this benchmark\n",
    "    perf_bounds = sorted(list(set(bench_results['performance_lower_bound'])))\n",
    "    \n",
    "    # Calculate geometric mean of cost reduction factors\n",
    "    cost_factors = bench_results['cost_reduction_factor_per_year'].dropna()\n",
    "    geomean = np.exp(np.mean(np.log(cost_factors))) if len(cost_factors) > 0 else np.nan\n",
    "    \n",
    "    # Get range of cost reduction factors\n",
    "    factor_range = [cost_factors.min(), cost_factors.max()] if len(cost_factors) > 0 else []\n",
    "    \n",
    "    summary_data.append({\n",
    "        'bench': bench,\n",
    "        'performance_lower_bounds': perf_bounds,\n",
    "        'cost_reduction_factor_per_year_geomean': round(geomean),\n",
    "        'cost_reduction_factor_per_year_range': factor_range\n",
    "    })\n",
    "\n",
    "cheapest_model_summary_df = pd.DataFrame(summary_data)\n",
    "cheapest_model_summary_df.to_csv(results_dir + 'aa_cheapest_models_run/cheapest_model_summary.csv', index=False)"
   ]
  },
  {
   "cell_type": "code",
   "execution_count": 15,
   "metadata": {},
   "outputs": [
    {
     "name": "stdout",
     "output_type": "stream",
     "text": [
      "                            OLS Regression Results                            \n",
      "==============================================================================\n",
      "Dep. Variable:              log_price   R-squared:                       0.542\n",
      "Model:                            OLS   Adj. R-squared:                  0.514\n",
      "Method:                 Least Squares   F-statistic:                     18.96\n",
      "Date:                Tue, 28 Jan 2025   Prob (F-statistic):           3.71e-06\n",
      "Time:                        15:50:08   Log-Likelihood:                -27.260\n",
      "No. Observations:                  35   AIC:                             60.52\n",
      "Df Residuals:                      32   BIC:                             65.19\n",
      "Df Model:                           2                                         \n",
      "Covariance Type:            nonrobust                                         \n",
      "==============================================================================\n",
      "                 coef    std err          t      P>|t|      [0.025      0.975]\n",
      "------------------------------------------------------------------------------\n",
      "Intercept   2282.2475    534.586      4.269      0.000    1193.331    3371.164\n",
      "date          -0.0031      0.001     -4.273      0.000      -0.005      -0.002\n",
      "bench          0.0358      0.006      5.679      0.000       0.023       0.049\n",
      "==============================================================================\n",
      "Omnibus:                        4.881   Durbin-Watson:                   2.000\n",
      "Prob(Omnibus):                  0.087   Jarque-Bera (JB):                1.811\n",
      "Skew:                           0.036   Prob(JB):                        0.404\n",
      "Kurtosis:                       1.888   Cond. No.                     4.24e+09\n",
      "==============================================================================\n",
      "\n",
      "Notes:\n",
      "[1] Standard Errors assume that the covariance matrix of the errors is correctly specified.\n",
      "[2] The condition number is large, 4.24e+09. This might indicate that there are\n",
      "strong multicollinearity or other numerical problems.\n"
     ]
    }
   ],
   "source": [
    "# Fit a regression to log_price ~ date + bench\n",
    "bench = 'MMLU'\n",
    "aa_df['log_price'] = np.log10(aa_df['USD per 1M Tokens'])\n",
    "aa_df['date'] = aa_df['Release Date'].map(lambda x: pd.Timestamp(x).toordinal())\n",
    "aa_df['bench'] = aa_df[bench]\n",
    "\n",
    "# Fit the model\n",
    "model = smf.ols('log_price ~ date + bench', data=aa_df).fit()\n",
    "print(model.summary())"
   ]
  },
  {
   "cell_type": "code",
   "execution_count": 16,
   "metadata": {},
   "outputs": [
    {
     "name": "stdout",
     "output_type": "stream",
     "text": [
      "Intercept    2282.247526\n",
      "date           -0.003092\n",
      "bench           0.035833\n",
      "dtype: float64\n",
      "                     0            1\n",
      "Intercept  1193.331122  3371.163930\n",
      "date         -0.004566    -0.001618\n",
      "bench         0.022982     0.048685\n"
     ]
    }
   ],
   "source": [
    "print(model.params)\n",
    "print(model.conf_int())\n"
   ]
  },
  {
   "cell_type": "code",
   "execution_count": 17,
   "metadata": {},
   "outputs": [
    {
     "name": "stdout",
     "output_type": "stream",
     "text": [
      "It costs 13x less each year to keep MMLU performance fixed.\n"
     ]
    }
   ],
   "source": [
    "# Date parameter\n",
    "date_param = model.params['date'] * 365  # Convert daily to annual\n",
    "annual_factor = int(round(10**(-date_param)))  # Convert log slope to factor\n",
    "print(f'It costs {annual_factor}x less each year to keep {bench} performance fixed.')"
   ]
  },
  {
   "cell_type": "code",
   "execution_count": 18,
   "metadata": {},
   "outputs": [
    {
     "data": {
      "text/plain": [
       "-0.004565847685129619"
      ]
     },
     "execution_count": 18,
     "metadata": {},
     "output_type": "execute_result"
    }
   ],
   "source": [
    "model.conf_int().loc['date'][0]\n"
   ]
  },
  {
   "cell_type": "code",
   "execution_count": 19,
   "metadata": {},
   "outputs": [
    {
     "name": "stdout",
     "output_type": "stream",
     "text": [
      "MMLU\n",
      "Number of observations: 35\n",
      "R-squared: 0.54\n",
      "The cost to achieve a fixed level of MMLU performance fell at a rate of\n",
      "13x [4, 46] per year\n",
      "over 1.7 years (2023-03-01 to 2024-11-01)\n",
      "\n",
      "GPQA Diamond\n",
      "Number of observations: 35\n",
      "R-squared: 0.65\n",
      "The cost to achieve a fixed level of GPQA Diamond performance fell at a rate of\n",
      "17x [6, 51] per year\n",
      "over 1.7 years (2023-03-01 to 2024-11-01)\n",
      "\n",
      "MATH-500\n",
      "Number of observations: 33\n",
      "R-squared: 0.47\n",
      "The cost to achieve a fixed level of MATH-500 performance fell at a rate of\n",
      "53x [9, 295] per year\n",
      "over 1.7 years (2023-03-01 to 2024-11-01)\n",
      "\n",
      "HumanEval\n",
      "Number of observations: 31\n",
      "R-squared: 0.49\n",
      "The cost to achieve a fixed level of HumanEval performance fell at a rate of\n",
      "16x [4, 68] per year\n",
      "over 1.7 years (2023-03-01 to 2024-11-01)\n",
      "\n"
     ]
    }
   ],
   "source": [
    "results = []\n",
    "for bench in benchmarks:\n",
    "    print(f'{bench}')\n",
    "    df = aa_df.copy()\n",
    "    df = df.dropna(subset=[bench])\n",
    "    df['bench'] = df[bench]\n",
    "\n",
    "    model = smf.ols('log_price ~ date + bench', data=df).fit()\n",
    "    # Print number of observations and R-squared\n",
    "    print(f'Number of observations: {len(df)}')\n",
    "    print(f'R-squared: {model.rsquared:.2f}')\n",
    "    date_param = model.params['date'] * 365  # Convert daily to annual\n",
    "    date_param_ci = model.conf_int().loc['date']\n",
    "    date_param_ci_low = date_param_ci[0] * 365\n",
    "    date_param_ci_high = date_param_ci[1] * 365\n",
    "    annual_factor = int(round(10**(-date_param)))  # Convert log slope to factor\n",
    "    annual_factor_ci_high = int(round(10**(-date_param_ci_low)))  # Convert log slope to factor\n",
    "    annual_factor_ci_low = int(round(10**(-date_param_ci_high)))  # Convert log slope to factor\n",
    "\n",
    "    min_date = pd.Timestamp.fromordinal(df[\"date\"].min()).date()\n",
    "    max_date = pd.Timestamp.fromordinal(df[\"date\"].max()).date()\n",
    "    date_range = max_date - min_date\n",
    "    results.append({\n",
    "        'bench': bench,\n",
    "        'sample_size': len(df),\n",
    "        'start_date': min_date,\n",
    "        'end_date': max_date,\n",
    "        'cost_reduction_factor_per_year_mean': annual_factor,\n",
    "        'cost_reduction_factor_per_year_ci': [annual_factor_ci_low, annual_factor_ci_high],\n",
    "        'r_squared': round(model.rsquared, 2),\n",
    "    })\n",
    "\n",
    "    print(f'The cost to achieve a fixed level of {bench} performance fell at a rate of')\n",
    "    print(f'{annual_factor}x [{annual_factor_ci_low}, {annual_factor_ci_high}] per year')\n",
    "    print(f'over {date_range.days / 365:.1f} years ({min_date} to {max_date})')\n",
    "    print()\n",
    "\n",
    "full_regression_results_df = pd.DataFrame(results)\n",
    "full_regression_results_df.to_csv(results_dir + 'aa_cheapest_models_run/full_regression_results.csv', index=False)"
   ]
  },
  {
   "cell_type": "code",
   "execution_count": 20,
   "metadata": {},
   "outputs": [
    {
     "name": "stdout",
     "output_type": "stream",
     "text": [
      "MMLU\n",
      "Cheapest model trend: 45 [25, 96]\n",
      "Full regression trend: 13 [4, 46]\n",
      "\n",
      "GPQA Diamond\n",
      "Cheapest model trend: 95 [27, 331]\n",
      "Full regression trend: 17 [6, 51]\n",
      "\n",
      "MATH-500\n",
      "Cheapest model trend: 148 [13, 390]\n",
      "Full regression trend: 53 [9, 295]\n",
      "\n",
      "HumanEval\n",
      "Cheapest model trend: 50 [10, 299]\n",
      "Full regression trend: 16 [4, 68]\n",
      "\n"
     ]
    }
   ],
   "source": [
    "# Compare the cheapest model results to the full regression results\n",
    "for bench in benchmarks:\n",
    "    print(f'{bench}')\n",
    "    cheapest_model_result = cheapest_model_summary_df[cheapest_model_summary_df['bench'] == bench].iloc[0]\n",
    "    full_regression_result = full_regression_results_df[full_regression_results_df['bench'] == bench].iloc[0]\n",
    "    print(\n",
    "        'Cheapest model trend:',\n",
    "        cheapest_model_result['cost_reduction_factor_per_year_geomean'],\n",
    "        cheapest_model_result['cost_reduction_factor_per_year_range'],\n",
    "    )\n",
    "    print(\n",
    "        'Full regression trend:',\n",
    "        full_regression_result['cost_reduction_factor_per_year_mean'],\n",
    "        full_regression_result['cost_reduction_factor_per_year_ci'],\n",
    "    )\n",
    "    print()"
   ]
  },
  {
   "cell_type": "code",
   "execution_count": null,
   "metadata": {},
   "outputs": [],
   "source": []
  }
 ],
 "metadata": {
  "kernelspec": {
   "display_name": "llm-efficiency",
   "language": "python",
   "name": "python3"
  },
  "language_info": {
   "codemirror_mode": {
    "name": "ipython",
    "version": 3
   },
   "file_extension": ".py",
   "mimetype": "text/x-python",
   "name": "python",
   "nbconvert_exporter": "python",
   "pygments_lexer": "ipython3",
   "version": "3.12.7"
  }
 },
 "nbformat": 4,
 "nbformat_minor": 2
}
