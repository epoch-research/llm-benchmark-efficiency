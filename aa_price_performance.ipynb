{
 "cells": [
  {
   "cell_type": "code",
   "execution_count": 1,
   "metadata": {},
   "outputs": [],
   "source": [
    "import numpy as np\n",
    "import os\n",
    "import pandas as pd\n",
    "import plotly.express as px\n",
    "import plotly.graph_objects as go\n",
    "import plotly.io as pio\n",
    "from plotly.subplots import make_subplots\n",
    "import statsmodels.formula.api as smf\n",
    "\n",
    "from data import load_pcd_df\n",
    "from plotting import save_plot\n",
    "\n",
    "pio.templates.default = \"plotly_white\""
   ]
  },
  {
   "cell_type": "code",
   "execution_count": 2,
   "metadata": {},
   "outputs": [],
   "source": [
    "results_dir = 'results/2025-02-05/'\n",
    "os.makedirs(results_dir, exist_ok=True)"
   ]
  },
  {
   "cell_type": "code",
   "execution_count": 3,
   "metadata": {},
   "outputs": [],
   "source": [
    "save = True\n",
    "benchmarks = ['MMLU', 'GPQA Diamond', 'MATH 5', 'MATH-500', 'HumanEval']"
   ]
  },
  {
   "cell_type": "markdown",
   "metadata": {},
   "source": [
    "# Using Artificial Analysis data"
   ]
  },
  {
   "cell_type": "markdown",
   "metadata": {},
   "source": [
    "## Load Artificial Analysis dataset"
   ]
  },
  {
   "cell_type": "code",
   "execution_count": 4,
   "metadata": {},
   "outputs": [
    {
     "data": {
      "text/html": [
       "<div>\n",
       "<style scoped>\n",
       "    .dataframe tbody tr th:only-of-type {\n",
       "        vertical-align: middle;\n",
       "    }\n",
       "\n",
       "    .dataframe tbody tr th {\n",
       "        vertical-align: top;\n",
       "    }\n",
       "\n",
       "    .dataframe thead th {\n",
       "        text-align: right;\n",
       "    }\n",
       "</style>\n",
       "<table border=\"1\" class=\"dataframe\">\n",
       "  <thead>\n",
       "    <tr style=\"text-align: right;\">\n",
       "      <th></th>\n",
       "      <th>Model Name</th>\n",
       "      <th>Tier</th>\n",
       "      <th>Release Date</th>\n",
       "      <th>USD per 1M Tokens</th>\n",
       "      <th>Tokens per Second</th>\n",
       "      <th>Prefill Latency (s)</th>\n",
       "      <th>Prompt Length (tk)</th>\n",
       "      <th>MMLU</th>\n",
       "      <th>GPQA Diamond</th>\n",
       "      <th>MATH 5</th>\n",
       "      <th>MATH-500</th>\n",
       "      <th>HumanEval</th>\n",
       "      <th>LMSys Chatbot Arena ELO</th>\n",
       "    </tr>\n",
       "  </thead>\n",
       "  <tbody>\n",
       "    <tr>\n",
       "      <th>0</th>\n",
       "      <td>Claude-3-Haiku</td>\n",
       "      <td>3</td>\n",
       "      <td>2024-03</td>\n",
       "      <td>0.50</td>\n",
       "      <td>122.7</td>\n",
       "      <td>0.467</td>\n",
       "      <td>1000</td>\n",
       "      <td>71</td>\n",
       "      <td>33</td>\n",
       "      <td>13.0</td>\n",
       "      <td>39.0</td>\n",
       "      <td>77.0</td>\n",
       "      <td>1179.0</td>\n",
       "    </tr>\n",
       "    <tr>\n",
       "      <th>1</th>\n",
       "      <td>Claude-3-Opus</td>\n",
       "      <td>1</td>\n",
       "      <td>2024-03</td>\n",
       "      <td>30.00</td>\n",
       "      <td>26.5</td>\n",
       "      <td>1.984</td>\n",
       "      <td>1000</td>\n",
       "      <td>84</td>\n",
       "      <td>50</td>\n",
       "      <td>34.0</td>\n",
       "      <td>64.0</td>\n",
       "      <td>83.0</td>\n",
       "      <td>1248.0</td>\n",
       "    </tr>\n",
       "    <tr>\n",
       "      <th>2</th>\n",
       "      <td>Claude-3-Sonnet</td>\n",
       "      <td>2</td>\n",
       "      <td>2024-03</td>\n",
       "      <td>6.00</td>\n",
       "      <td>61.8</td>\n",
       "      <td>0.789</td>\n",
       "      <td>1000</td>\n",
       "      <td>77</td>\n",
       "      <td>37</td>\n",
       "      <td>16.0</td>\n",
       "      <td>41.0</td>\n",
       "      <td>71.0</td>\n",
       "      <td>1201.0</td>\n",
       "    </tr>\n",
       "    <tr>\n",
       "      <th>3</th>\n",
       "      <td>Claude-3.5-Haiku</td>\n",
       "      <td>3</td>\n",
       "      <td>2024-06</td>\n",
       "      <td>1.60</td>\n",
       "      <td>64.2</td>\n",
       "      <td>0.768</td>\n",
       "      <td>1000</td>\n",
       "      <td>81</td>\n",
       "      <td>37</td>\n",
       "      <td>NaN</td>\n",
       "      <td>67.0</td>\n",
       "      <td>87.0</td>\n",
       "      <td>NaN</td>\n",
       "    </tr>\n",
       "    <tr>\n",
       "      <th>4</th>\n",
       "      <td>Claude-3.5-Sonnet-2024-06</td>\n",
       "      <td>2</td>\n",
       "      <td>2024-06</td>\n",
       "      <td>6.00</td>\n",
       "      <td>55.9</td>\n",
       "      <td>0.906</td>\n",
       "      <td>1000</td>\n",
       "      <td>88</td>\n",
       "      <td>56</td>\n",
       "      <td>46.0</td>\n",
       "      <td>71.0</td>\n",
       "      <td>90.0</td>\n",
       "      <td>1268.0</td>\n",
       "    </tr>\n",
       "    <tr>\n",
       "      <th>5</th>\n",
       "      <td>Claude-3.5-Sonnet-2024-10</td>\n",
       "      <td>2</td>\n",
       "      <td>2024-10</td>\n",
       "      <td>6.00</td>\n",
       "      <td>55.2</td>\n",
       "      <td>0.907</td>\n",
       "      <td>1000</td>\n",
       "      <td>89</td>\n",
       "      <td>58</td>\n",
       "      <td>53.0</td>\n",
       "      <td>76.0</td>\n",
       "      <td>96.0</td>\n",
       "      <td>1282.0</td>\n",
       "    </tr>\n",
       "    <tr>\n",
       "      <th>6</th>\n",
       "      <td>Gemini-1.5-Flash-2024-05</td>\n",
       "      <td>3</td>\n",
       "      <td>2024-05</td>\n",
       "      <td>0.13</td>\n",
       "      <td>298.4</td>\n",
       "      <td>0.307</td>\n",
       "      <td>1000</td>\n",
       "      <td>79</td>\n",
       "      <td>39</td>\n",
       "      <td>23.0</td>\n",
       "      <td>55.0</td>\n",
       "      <td>NaN</td>\n",
       "      <td>1227.0</td>\n",
       "    </tr>\n",
       "    <tr>\n",
       "      <th>7</th>\n",
       "      <td>Gemini-1.5-Flash-2024-09</td>\n",
       "      <td>3</td>\n",
       "      <td>2024-09</td>\n",
       "      <td>0.13</td>\n",
       "      <td>190.5</td>\n",
       "      <td>0.348</td>\n",
       "      <td>1000</td>\n",
       "      <td>75</td>\n",
       "      <td>45</td>\n",
       "      <td>58.0</td>\n",
       "      <td>83.0</td>\n",
       "      <td>83.0</td>\n",
       "      <td>1271.0</td>\n",
       "    </tr>\n",
       "    <tr>\n",
       "      <th>8</th>\n",
       "      <td>Gemini-1.5-Flash-8B</td>\n",
       "      <td>3</td>\n",
       "      <td>2024-10</td>\n",
       "      <td>0.07</td>\n",
       "      <td>285.2</td>\n",
       "      <td>0.335</td>\n",
       "      <td>1000</td>\n",
       "      <td>75</td>\n",
       "      <td>30</td>\n",
       "      <td>NaN</td>\n",
       "      <td>70.0</td>\n",
       "      <td>NaN</td>\n",
       "      <td>1211.0</td>\n",
       "    </tr>\n",
       "    <tr>\n",
       "      <th>9</th>\n",
       "      <td>Gemini-1.5-Pro-2024-05</td>\n",
       "      <td>1</td>\n",
       "      <td>2024-05</td>\n",
       "      <td>2.19</td>\n",
       "      <td>64.8</td>\n",
       "      <td>0.738</td>\n",
       "      <td>1000</td>\n",
       "      <td>86</td>\n",
       "      <td>46</td>\n",
       "      <td>NaN</td>\n",
       "      <td>66.0</td>\n",
       "      <td>NaN</td>\n",
       "      <td>1260.0</td>\n",
       "    </tr>\n",
       "    <tr>\n",
       "      <th>10</th>\n",
       "      <td>Gemini-1.5-Pro-2024-09</td>\n",
       "      <td>1</td>\n",
       "      <td>2024-09</td>\n",
       "      <td>2.19</td>\n",
       "      <td>59.1</td>\n",
       "      <td>0.864</td>\n",
       "      <td>1000</td>\n",
       "      <td>86</td>\n",
       "      <td>61</td>\n",
       "      <td>67.0</td>\n",
       "      <td>88.0</td>\n",
       "      <td>88.0</td>\n",
       "      <td>1301.0</td>\n",
       "    </tr>\n",
       "    <tr>\n",
       "      <th>11</th>\n",
       "      <td>Gemma-2-27B</td>\n",
       "      <td>2</td>\n",
       "      <td>2024-06</td>\n",
       "      <td>0.26</td>\n",
       "      <td>47.9</td>\n",
       "      <td>0.527</td>\n",
       "      <td>1000</td>\n",
       "      <td>77</td>\n",
       "      <td>39</td>\n",
       "      <td>23.0</td>\n",
       "      <td>54.0</td>\n",
       "      <td>76.0</td>\n",
       "      <td>1219.0</td>\n",
       "    </tr>\n",
       "    <tr>\n",
       "      <th>12</th>\n",
       "      <td>Gemma-2-9B</td>\n",
       "      <td>3</td>\n",
       "      <td>2024-06</td>\n",
       "      <td>0.13</td>\n",
       "      <td>162.8</td>\n",
       "      <td>0.426</td>\n",
       "      <td>1000</td>\n",
       "      <td>73</td>\n",
       "      <td>31</td>\n",
       "      <td>18.0</td>\n",
       "      <td>50.0</td>\n",
       "      <td>64.0</td>\n",
       "      <td>1190.0</td>\n",
       "    </tr>\n",
       "    <tr>\n",
       "      <th>13</th>\n",
       "      <td>GPT-3.5 Turbo</td>\n",
       "      <td>2</td>\n",
       "      <td>2023-11</td>\n",
       "      <td>0.75</td>\n",
       "      <td>121.5</td>\n",
       "      <td>0.598</td>\n",
       "      <td>1000</td>\n",
       "      <td>68</td>\n",
       "      <td>30</td>\n",
       "      <td>15.0</td>\n",
       "      <td>44.0</td>\n",
       "      <td>71.0</td>\n",
       "      <td>1107.0</td>\n",
       "    </tr>\n",
       "    <tr>\n",
       "      <th>14</th>\n",
       "      <td>GPT-4</td>\n",
       "      <td>1</td>\n",
       "      <td>2023-03</td>\n",
       "      <td>37.50</td>\n",
       "      <td>23.6</td>\n",
       "      <td>0.724</td>\n",
       "      <td>1000</td>\n",
       "      <td>86</td>\n",
       "      <td>33</td>\n",
       "      <td>NaN</td>\n",
       "      <td>21.0</td>\n",
       "      <td>67.0</td>\n",
       "      <td>1186.0</td>\n",
       "    </tr>\n",
       "    <tr>\n",
       "      <th>15</th>\n",
       "      <td>GPT-4 Turbo</td>\n",
       "      <td>1</td>\n",
       "      <td>2023-11</td>\n",
       "      <td>15.00</td>\n",
       "      <td>39.2</td>\n",
       "      <td>1.246</td>\n",
       "      <td>1000</td>\n",
       "      <td>87</td>\n",
       "      <td>50</td>\n",
       "      <td>36.0</td>\n",
       "      <td>74.0</td>\n",
       "      <td>92.0</td>\n",
       "      <td>1256.0</td>\n",
       "    </tr>\n",
       "    <tr>\n",
       "      <th>16</th>\n",
       "      <td>GPT-4o-2024-05</td>\n",
       "      <td>1</td>\n",
       "      <td>2024-05</td>\n",
       "      <td>7.50</td>\n",
       "      <td>86.4</td>\n",
       "      <td>0.687</td>\n",
       "      <td>1000</td>\n",
       "      <td>87</td>\n",
       "      <td>51</td>\n",
       "      <td>48.0</td>\n",
       "      <td>79.0</td>\n",
       "      <td>93.0</td>\n",
       "      <td>1285.0</td>\n",
       "    </tr>\n",
       "    <tr>\n",
       "      <th>17</th>\n",
       "      <td>GPT-4o-2024-08</td>\n",
       "      <td>1</td>\n",
       "      <td>2024-08</td>\n",
       "      <td>4.38</td>\n",
       "      <td>81.0</td>\n",
       "      <td>0.673</td>\n",
       "      <td>1000</td>\n",
       "      <td>89</td>\n",
       "      <td>51</td>\n",
       "      <td>47.0</td>\n",
       "      <td>80.0</td>\n",
       "      <td>93.0</td>\n",
       "      <td>1337.0</td>\n",
       "    </tr>\n",
       "    <tr>\n",
       "      <th>18</th>\n",
       "      <td>GPT-4o-2024-11</td>\n",
       "      <td>1</td>\n",
       "      <td>2024-11</td>\n",
       "      <td>4.38</td>\n",
       "      <td>148.9</td>\n",
       "      <td>0.404</td>\n",
       "      <td>1000</td>\n",
       "      <td>86</td>\n",
       "      <td>39</td>\n",
       "      <td>NaN</td>\n",
       "      <td>74.0</td>\n",
       "      <td>93.0</td>\n",
       "      <td>1361.0</td>\n",
       "    </tr>\n",
       "    <tr>\n",
       "      <th>19</th>\n",
       "      <td>GPT-4o-mini</td>\n",
       "      <td>2</td>\n",
       "      <td>2024-07</td>\n",
       "      <td>0.26</td>\n",
       "      <td>112.2</td>\n",
       "      <td>0.626</td>\n",
       "      <td>1000</td>\n",
       "      <td>82</td>\n",
       "      <td>43</td>\n",
       "      <td>48.0</td>\n",
       "      <td>79.0</td>\n",
       "      <td>88.0</td>\n",
       "      <td>1273.0</td>\n",
       "    </tr>\n",
       "    <tr>\n",
       "      <th>20</th>\n",
       "      <td>Llama-2-Chat-13B</td>\n",
       "      <td>2</td>\n",
       "      <td>2023-07</td>\n",
       "      <td>0.56</td>\n",
       "      <td>43.1</td>\n",
       "      <td>0.447</td>\n",
       "      <td>1000</td>\n",
       "      <td>45</td>\n",
       "      <td>19</td>\n",
       "      <td>NaN</td>\n",
       "      <td>NaN</td>\n",
       "      <td>NaN</td>\n",
       "      <td>1063.0</td>\n",
       "    </tr>\n",
       "    <tr>\n",
       "      <th>21</th>\n",
       "      <td>Llama-2-Chat-7B</td>\n",
       "      <td>3</td>\n",
       "      <td>2023-07</td>\n",
       "      <td>0.33</td>\n",
       "      <td>125.4</td>\n",
       "      <td>0.508</td>\n",
       "      <td>1000</td>\n",
       "      <td>13</td>\n",
       "      <td>6</td>\n",
       "      <td>NaN</td>\n",
       "      <td>NaN</td>\n",
       "      <td>13.0</td>\n",
       "      <td>1037.0</td>\n",
       "    </tr>\n",
       "    <tr>\n",
       "      <th>22</th>\n",
       "      <td>Llama-3-Instruct-70B</td>\n",
       "      <td>2</td>\n",
       "      <td>2024-04</td>\n",
       "      <td>0.89</td>\n",
       "      <td>44.6</td>\n",
       "      <td>0.472</td>\n",
       "      <td>1000</td>\n",
       "      <td>79</td>\n",
       "      <td>39</td>\n",
       "      <td>22.0</td>\n",
       "      <td>53.0</td>\n",
       "      <td>18.0</td>\n",
       "      <td>1206.0</td>\n",
       "    </tr>\n",
       "    <tr>\n",
       "      <th>23</th>\n",
       "      <td>Llama-3-Instruct-8B</td>\n",
       "      <td>3</td>\n",
       "      <td>2024-04</td>\n",
       "      <td>0.15</td>\n",
       "      <td>122.8</td>\n",
       "      <td>0.330</td>\n",
       "      <td>1000</td>\n",
       "      <td>64</td>\n",
       "      <td>30</td>\n",
       "      <td>8.0</td>\n",
       "      <td>32.0</td>\n",
       "      <td>53.0</td>\n",
       "      <td>1152.0</td>\n",
       "    </tr>\n",
       "    <tr>\n",
       "      <th>24</th>\n",
       "      <td>Llama-3.1-Instruct-405B</td>\n",
       "      <td>1</td>\n",
       "      <td>2024-07</td>\n",
       "      <td>3.50</td>\n",
       "      <td>27.9</td>\n",
       "      <td>0.719</td>\n",
       "      <td>1000</td>\n",
       "      <td>87</td>\n",
       "      <td>50</td>\n",
       "      <td>45.0</td>\n",
       "      <td>70.0</td>\n",
       "      <td>87.0</td>\n",
       "      <td>1266.0</td>\n",
       "    </tr>\n",
       "    <tr>\n",
       "      <th>25</th>\n",
       "      <td>Llama-3.1-Instruct-70B</td>\n",
       "      <td>2</td>\n",
       "      <td>2024-07</td>\n",
       "      <td>0.72</td>\n",
       "      <td>71.6</td>\n",
       "      <td>0.425</td>\n",
       "      <td>1000</td>\n",
       "      <td>84</td>\n",
       "      <td>43</td>\n",
       "      <td>39.0</td>\n",
       "      <td>64.0</td>\n",
       "      <td>80.0</td>\n",
       "      <td>1249.0</td>\n",
       "    </tr>\n",
       "    <tr>\n",
       "      <th>26</th>\n",
       "      <td>Llama-3.1-Instruct-8B</td>\n",
       "      <td>3</td>\n",
       "      <td>2024-07</td>\n",
       "      <td>0.10</td>\n",
       "      <td>164.3</td>\n",
       "      <td>0.350</td>\n",
       "      <td>1000</td>\n",
       "      <td>71</td>\n",
       "      <td>27</td>\n",
       "      <td>22.0</td>\n",
       "      <td>50.0</td>\n",
       "      <td>67.0</td>\n",
       "      <td>1172.0</td>\n",
       "    </tr>\n",
       "    <tr>\n",
       "      <th>27</th>\n",
       "      <td>Llama-3.2-Instruct-1B</td>\n",
       "      <td>3</td>\n",
       "      <td>2024-09</td>\n",
       "      <td>0.05</td>\n",
       "      <td>552.1</td>\n",
       "      <td>0.317</td>\n",
       "      <td>1000</td>\n",
       "      <td>35</td>\n",
       "      <td>14</td>\n",
       "      <td>NaN</td>\n",
       "      <td>13.0</td>\n",
       "      <td>40.0</td>\n",
       "      <td>1103.0</td>\n",
       "    </tr>\n",
       "    <tr>\n",
       "      <th>28</th>\n",
       "      <td>Llama-3.2-Instruct-3B</td>\n",
       "      <td>3</td>\n",
       "      <td>2024-09</td>\n",
       "      <td>0.08</td>\n",
       "      <td>200.3</td>\n",
       "      <td>0.316</td>\n",
       "      <td>1000</td>\n",
       "      <td>64</td>\n",
       "      <td>21</td>\n",
       "      <td>NaN</td>\n",
       "      <td>50.0</td>\n",
       "      <td>60.0</td>\n",
       "      <td>1103.0</td>\n",
       "    </tr>\n",
       "    <tr>\n",
       "      <th>29</th>\n",
       "      <td>Mistral-8x22</td>\n",
       "      <td>1</td>\n",
       "      <td>2024-04</td>\n",
       "      <td>1.20</td>\n",
       "      <td>85.3</td>\n",
       "      <td>0.624</td>\n",
       "      <td>1000</td>\n",
       "      <td>76</td>\n",
       "      <td>37</td>\n",
       "      <td>23.0</td>\n",
       "      <td>56.0</td>\n",
       "      <td>74.0</td>\n",
       "      <td>1148.0</td>\n",
       "    </tr>\n",
       "    <tr>\n",
       "      <th>30</th>\n",
       "      <td>Mistral-Large-2-2024-06</td>\n",
       "      <td>1</td>\n",
       "      <td>2024-06</td>\n",
       "      <td>3.00</td>\n",
       "      <td>34.4</td>\n",
       "      <td>0.486</td>\n",
       "      <td>1000</td>\n",
       "      <td>85</td>\n",
       "      <td>48</td>\n",
       "      <td>44.0</td>\n",
       "      <td>71.0</td>\n",
       "      <td>91.0</td>\n",
       "      <td>1251.0</td>\n",
       "    </tr>\n",
       "    <tr>\n",
       "      <th>31</th>\n",
       "      <td>Mistral-Large-2-2024-11</td>\n",
       "      <td>1</td>\n",
       "      <td>2024-11</td>\n",
       "      <td>3.00</td>\n",
       "      <td>43.5</td>\n",
       "      <td>0.639</td>\n",
       "      <td>1000</td>\n",
       "      <td>85</td>\n",
       "      <td>47</td>\n",
       "      <td>NaN</td>\n",
       "      <td>72.0</td>\n",
       "      <td>90.0</td>\n",
       "      <td>NaN</td>\n",
       "    </tr>\n",
       "    <tr>\n",
       "      <th>32</th>\n",
       "      <td>Mistral-Large-2024-02</td>\n",
       "      <td>1</td>\n",
       "      <td>2024-02</td>\n",
       "      <td>6.00</td>\n",
       "      <td>37.8</td>\n",
       "      <td>0.500</td>\n",
       "      <td>1000</td>\n",
       "      <td>69</td>\n",
       "      <td>36</td>\n",
       "      <td>21.0</td>\n",
       "      <td>49.0</td>\n",
       "      <td>69.0</td>\n",
       "      <td>1157.0</td>\n",
       "    </tr>\n",
       "    <tr>\n",
       "      <th>33</th>\n",
       "      <td>Mistral-NeMo</td>\n",
       "      <td>2</td>\n",
       "      <td>2024-06</td>\n",
       "      <td>0.13</td>\n",
       "      <td>88.3</td>\n",
       "      <td>0.551</td>\n",
       "      <td>1000</td>\n",
       "      <td>66</td>\n",
       "      <td>33</td>\n",
       "      <td>10.0</td>\n",
       "      <td>44.0</td>\n",
       "      <td>71.0</td>\n",
       "      <td>NaN</td>\n",
       "    </tr>\n",
       "    <tr>\n",
       "      <th>34</th>\n",
       "      <td>Mistral-Small-2024-02</td>\n",
       "      <td>3</td>\n",
       "      <td>2024-02</td>\n",
       "      <td>1.50</td>\n",
       "      <td>54.1</td>\n",
       "      <td>0.429</td>\n",
       "      <td>1000</td>\n",
       "      <td>69</td>\n",
       "      <td>31</td>\n",
       "      <td>NaN</td>\n",
       "      <td>56.0</td>\n",
       "      <td>79.0</td>\n",
       "      <td>NaN</td>\n",
       "    </tr>\n",
       "  </tbody>\n",
       "</table>\n",
       "</div>"
      ],
      "text/plain": [
       "                   Model Name  Tier Release Date  USD per 1M Tokens  \\\n",
       "0              Claude-3-Haiku     3      2024-03               0.50   \n",
       "1               Claude-3-Opus     1      2024-03              30.00   \n",
       "2             Claude-3-Sonnet     2      2024-03               6.00   \n",
       "3            Claude-3.5-Haiku     3      2024-06               1.60   \n",
       "4   Claude-3.5-Sonnet-2024-06     2      2024-06               6.00   \n",
       "5   Claude-3.5-Sonnet-2024-10     2      2024-10               6.00   \n",
       "6    Gemini-1.5-Flash-2024-05     3      2024-05               0.13   \n",
       "7    Gemini-1.5-Flash-2024-09     3      2024-09               0.13   \n",
       "8         Gemini-1.5-Flash-8B     3      2024-10               0.07   \n",
       "9      Gemini-1.5-Pro-2024-05     1      2024-05               2.19   \n",
       "10     Gemini-1.5-Pro-2024-09     1      2024-09               2.19   \n",
       "11                Gemma-2-27B     2      2024-06               0.26   \n",
       "12                 Gemma-2-9B     3      2024-06               0.13   \n",
       "13              GPT-3.5 Turbo     2      2023-11               0.75   \n",
       "14                      GPT-4     1      2023-03              37.50   \n",
       "15                GPT-4 Turbo     1      2023-11              15.00   \n",
       "16             GPT-4o-2024-05     1      2024-05               7.50   \n",
       "17             GPT-4o-2024-08     1      2024-08               4.38   \n",
       "18             GPT-4o-2024-11     1      2024-11               4.38   \n",
       "19                GPT-4o-mini     2      2024-07               0.26   \n",
       "20           Llama-2-Chat-13B     2      2023-07               0.56   \n",
       "21            Llama-2-Chat-7B     3      2023-07               0.33   \n",
       "22       Llama-3-Instruct-70B     2      2024-04               0.89   \n",
       "23        Llama-3-Instruct-8B     3      2024-04               0.15   \n",
       "24    Llama-3.1-Instruct-405B     1      2024-07               3.50   \n",
       "25     Llama-3.1-Instruct-70B     2      2024-07               0.72   \n",
       "26      Llama-3.1-Instruct-8B     3      2024-07               0.10   \n",
       "27      Llama-3.2-Instruct-1B     3      2024-09               0.05   \n",
       "28      Llama-3.2-Instruct-3B     3      2024-09               0.08   \n",
       "29               Mistral-8x22     1      2024-04               1.20   \n",
       "30    Mistral-Large-2-2024-06     1      2024-06               3.00   \n",
       "31    Mistral-Large-2-2024-11     1      2024-11               3.00   \n",
       "32      Mistral-Large-2024-02     1      2024-02               6.00   \n",
       "33               Mistral-NeMo     2      2024-06               0.13   \n",
       "34      Mistral-Small-2024-02     3      2024-02               1.50   \n",
       "\n",
       "    Tokens per Second  Prefill Latency (s)  Prompt Length (tk)  MMLU  \\\n",
       "0               122.7                0.467                1000    71   \n",
       "1                26.5                1.984                1000    84   \n",
       "2                61.8                0.789                1000    77   \n",
       "3                64.2                0.768                1000    81   \n",
       "4                55.9                0.906                1000    88   \n",
       "5                55.2                0.907                1000    89   \n",
       "6               298.4                0.307                1000    79   \n",
       "7               190.5                0.348                1000    75   \n",
       "8               285.2                0.335                1000    75   \n",
       "9                64.8                0.738                1000    86   \n",
       "10               59.1                0.864                1000    86   \n",
       "11               47.9                0.527                1000    77   \n",
       "12              162.8                0.426                1000    73   \n",
       "13              121.5                0.598                1000    68   \n",
       "14               23.6                0.724                1000    86   \n",
       "15               39.2                1.246                1000    87   \n",
       "16               86.4                0.687                1000    87   \n",
       "17               81.0                0.673                1000    89   \n",
       "18              148.9                0.404                1000    86   \n",
       "19              112.2                0.626                1000    82   \n",
       "20               43.1                0.447                1000    45   \n",
       "21              125.4                0.508                1000    13   \n",
       "22               44.6                0.472                1000    79   \n",
       "23              122.8                0.330                1000    64   \n",
       "24               27.9                0.719                1000    87   \n",
       "25               71.6                0.425                1000    84   \n",
       "26              164.3                0.350                1000    71   \n",
       "27              552.1                0.317                1000    35   \n",
       "28              200.3                0.316                1000    64   \n",
       "29               85.3                0.624                1000    76   \n",
       "30               34.4                0.486                1000    85   \n",
       "31               43.5                0.639                1000    85   \n",
       "32               37.8                0.500                1000    69   \n",
       "33               88.3                0.551                1000    66   \n",
       "34               54.1                0.429                1000    69   \n",
       "\n",
       "    GPQA Diamond  MATH 5  MATH-500  HumanEval  LMSys Chatbot Arena ELO  \n",
       "0             33    13.0      39.0       77.0                   1179.0  \n",
       "1             50    34.0      64.0       83.0                   1248.0  \n",
       "2             37    16.0      41.0       71.0                   1201.0  \n",
       "3             37     NaN      67.0       87.0                      NaN  \n",
       "4             56    46.0      71.0       90.0                   1268.0  \n",
       "5             58    53.0      76.0       96.0                   1282.0  \n",
       "6             39    23.0      55.0        NaN                   1227.0  \n",
       "7             45    58.0      83.0       83.0                   1271.0  \n",
       "8             30     NaN      70.0        NaN                   1211.0  \n",
       "9             46     NaN      66.0        NaN                   1260.0  \n",
       "10            61    67.0      88.0       88.0                   1301.0  \n",
       "11            39    23.0      54.0       76.0                   1219.0  \n",
       "12            31    18.0      50.0       64.0                   1190.0  \n",
       "13            30    15.0      44.0       71.0                   1107.0  \n",
       "14            33     NaN      21.0       67.0                   1186.0  \n",
       "15            50    36.0      74.0       92.0                   1256.0  \n",
       "16            51    48.0      79.0       93.0                   1285.0  \n",
       "17            51    47.0      80.0       93.0                   1337.0  \n",
       "18            39     NaN      74.0       93.0                   1361.0  \n",
       "19            43    48.0      79.0       88.0                   1273.0  \n",
       "20            19     NaN       NaN        NaN                   1063.0  \n",
       "21             6     NaN       NaN       13.0                   1037.0  \n",
       "22            39    22.0      53.0       18.0                   1206.0  \n",
       "23            30     8.0      32.0       53.0                   1152.0  \n",
       "24            50    45.0      70.0       87.0                   1266.0  \n",
       "25            43    39.0      64.0       80.0                   1249.0  \n",
       "26            27    22.0      50.0       67.0                   1172.0  \n",
       "27            14     NaN      13.0       40.0                   1103.0  \n",
       "28            21     NaN      50.0       60.0                   1103.0  \n",
       "29            37    23.0      56.0       74.0                   1148.0  \n",
       "30            48    44.0      71.0       91.0                   1251.0  \n",
       "31            47     NaN      72.0       90.0                      NaN  \n",
       "32            36    21.0      49.0       69.0                   1157.0  \n",
       "33            33    10.0      44.0       71.0                      NaN  \n",
       "34            31     NaN      56.0       79.0                      NaN  "
      ]
     },
     "execution_count": 4,
     "metadata": {},
     "output_type": "execute_result"
    }
   ],
   "source": [
    "aa_df = pd.read_csv('data/aa_data_with_math5.csv')\n",
    "aa_df"
   ]
  },
  {
   "cell_type": "markdown",
   "metadata": {},
   "source": [
    "## Load Epoch AI price dataset"
   ]
  },
  {
   "cell_type": "code",
   "execution_count": 5,
   "metadata": {},
   "outputs": [
    {
     "data": {
      "text/html": [
       "<div>\n",
       "<style scoped>\n",
       "    .dataframe tbody tr th:only-of-type {\n",
       "        vertical-align: middle;\n",
       "    }\n",
       "\n",
       "    .dataframe tbody tr th {\n",
       "        vertical-align: top;\n",
       "    }\n",
       "\n",
       "    .dataframe thead th {\n",
       "        text-align: right;\n",
       "    }\n",
       "</style>\n",
       "<table border=\"1\" class=\"dataframe\">\n",
       "  <thead>\n",
       "    <tr style=\"text-align: right;\">\n",
       "      <th></th>\n",
       "      <th>Price description</th>\n",
       "      <th>Price</th>\n",
       "      <th>Price Unit</th>\n",
       "      <th>Model</th>\n",
       "      <th>Fine Tuned Model</th>\n",
       "      <th>Price date</th>\n",
       "      <th>Model Version</th>\n",
       "      <th>Organization (model developer)</th>\n",
       "      <th>Organization (API vendor)</th>\n",
       "      <th>Context Window Tokens</th>\n",
       "      <th>Archived price link</th>\n",
       "      <th>Tags</th>\n",
       "      <th>Notes</th>\n",
       "      <th>Last Modified</th>\n",
       "      <th>Price sheet document</th>\n",
       "      <th>Created By</th>\n",
       "    </tr>\n",
       "  </thead>\n",
       "  <tbody>\n",
       "    <tr>\n",
       "      <th>0</th>\n",
       "      <td>$2.50 / 1M input tokens</td>\n",
       "      <td>$2.50000</td>\n",
       "      <td>$/1M input tokens</td>\n",
       "      <td>GPT-4o</td>\n",
       "      <td>NaN</td>\n",
       "      <td>2024-08-06</td>\n",
       "      <td>gpt-4o-2024-08-06</td>\n",
       "      <td>OpenAI</td>\n",
       "      <td>OpenAI</td>\n",
       "      <td>NaN</td>\n",
       "      <td>https://web.archive.org/web/20240812003133/htt...</td>\n",
       "      <td>OpenAI: 50% off for batch submission</td>\n",
       "      <td>NaN</td>\n",
       "      <td>2/3/2025 3:16pm</td>\n",
       "      <td>NaN</td>\n",
       "      <td>Robi Rahman</td>\n",
       "    </tr>\n",
       "    <tr>\n",
       "      <th>1</th>\n",
       "      <td>$10.00 / 1M output tokens</td>\n",
       "      <td>$10.00000</td>\n",
       "      <td>$/1M output tokens</td>\n",
       "      <td>GPT-4o</td>\n",
       "      <td>NaN</td>\n",
       "      <td>2024-08-06</td>\n",
       "      <td>gpt-4o-2024-08-06</td>\n",
       "      <td>OpenAI</td>\n",
       "      <td>OpenAI</td>\n",
       "      <td>NaN</td>\n",
       "      <td>https://web.archive.org/web/20240812003133/htt...</td>\n",
       "      <td>OpenAI: 50% off for batch submission</td>\n",
       "      <td>NaN</td>\n",
       "      <td>2/3/2025 3:16pm</td>\n",
       "      <td>NaN</td>\n",
       "      <td>Robi Rahman</td>\n",
       "    </tr>\n",
       "    <tr>\n",
       "      <th>2</th>\n",
       "      <td>$0.638 / 1k 512^2 px input images</td>\n",
       "      <td>$0.63800</td>\n",
       "      <td>$/1k 512^2 px input images</td>\n",
       "      <td>GPT-4o</td>\n",
       "      <td>NaN</td>\n",
       "      <td>2024-08-06</td>\n",
       "      <td>gpt-4o-2024-08-06</td>\n",
       "      <td>OpenAI</td>\n",
       "      <td>OpenAI</td>\n",
       "      <td>NaN</td>\n",
       "      <td>https://web.archive.org/web/20240812003133/htt...</td>\n",
       "      <td>NaN</td>\n",
       "      <td>High-resolution input images are priced as fol...</td>\n",
       "      <td>2/3/2025 3:16pm</td>\n",
       "      <td>NaN</td>\n",
       "      <td>James Sanders</td>\n",
       "    </tr>\n",
       "    <tr>\n",
       "      <th>3</th>\n",
       "      <td>$1.275 / 1k 512^2 px input images</td>\n",
       "      <td>$1.27500</td>\n",
       "      <td>$/1k 512^2 px input images</td>\n",
       "      <td>GPT-4o</td>\n",
       "      <td>NaN</td>\n",
       "      <td>2024-05-13</td>\n",
       "      <td>gpt-4o-2024-05-13</td>\n",
       "      <td>OpenAI</td>\n",
       "      <td>OpenAI</td>\n",
       "      <td>NaN</td>\n",
       "      <td>https://web.archive.org/web/20240812003133/htt...</td>\n",
       "      <td>NaN</td>\n",
       "      <td>High-resolution input images are priced as fol...</td>\n",
       "      <td>2/3/2025 3:16pm</td>\n",
       "      <td>NaN</td>\n",
       "      <td>James Sanders</td>\n",
       "    </tr>\n",
       "    <tr>\n",
       "      <th>4</th>\n",
       "      <td>$0.213 / 1k low resolution input images</td>\n",
       "      <td>$0.21300</td>\n",
       "      <td>$/1k low resolution input images</td>\n",
       "      <td>GPT-4o</td>\n",
       "      <td>NaN</td>\n",
       "      <td>2024-08-06</td>\n",
       "      <td>gpt-4o-2024-08-06</td>\n",
       "      <td>OpenAI</td>\n",
       "      <td>OpenAI</td>\n",
       "      <td>NaN</td>\n",
       "      <td>https://web.archive.org/web/20240812003133/htt...</td>\n",
       "      <td>NaN</td>\n",
       "      <td>Low-resolution images use 85 input tokens/imag...</td>\n",
       "      <td>2/3/2025 3:16pm</td>\n",
       "      <td>NaN</td>\n",
       "      <td>James Sanders</td>\n",
       "    </tr>\n",
       "    <tr>\n",
       "      <th>...</th>\n",
       "      <td>...</td>\n",
       "      <td>...</td>\n",
       "      <td>...</td>\n",
       "      <td>...</td>\n",
       "      <td>...</td>\n",
       "      <td>...</td>\n",
       "      <td>...</td>\n",
       "      <td>...</td>\n",
       "      <td>...</td>\n",
       "      <td>...</td>\n",
       "      <td>...</td>\n",
       "      <td>...</td>\n",
       "      <td>...</td>\n",
       "      <td>...</td>\n",
       "      <td>...</td>\n",
       "      <td>...</td>\n",
       "    </tr>\n",
       "    <tr>\n",
       "      <th>150</th>\n",
       "      <td>$0.95 / 1M output tokens</td>\n",
       "      <td>$0.95000</td>\n",
       "      <td>$/1M output tokens</td>\n",
       "      <td>Llama 2-70B</td>\n",
       "      <td>NaN</td>\n",
       "      <td>2023-12-01</td>\n",
       "      <td>NaN</td>\n",
       "      <td>Meta AI</td>\n",
       "      <td>DeepInfra</td>\n",
       "      <td>NaN</td>\n",
       "      <td>https://web.archive.org/web/20231201234723/htt...</td>\n",
       "      <td>NaN</td>\n",
       "      <td>NaN</td>\n",
       "      <td>2/3/2025 4:58pm</td>\n",
       "      <td>NaN</td>\n",
       "      <td>James Sanders</td>\n",
       "    </tr>\n",
       "    <tr>\n",
       "      <th>151</th>\n",
       "      <td>$0.35 / 1M token</td>\n",
       "      <td>$0.35000</td>\n",
       "      <td>$/1M tokens (input or output)</td>\n",
       "      <td>Llama 2-13B</td>\n",
       "      <td>NaN</td>\n",
       "      <td>2023-12-08</td>\n",
       "      <td>NaN</td>\n",
       "      <td>Meta AI</td>\n",
       "      <td>DeepInfra</td>\n",
       "      <td>NaN</td>\n",
       "      <td>https://web.archive.org/web/20231208122434/htt...</td>\n",
       "      <td>NaN</td>\n",
       "      <td>NaN</td>\n",
       "      <td>2/3/2025 5:00pm</td>\n",
       "      <td>NaN</td>\n",
       "      <td>James Sanders</td>\n",
       "    </tr>\n",
       "    <tr>\n",
       "      <th>152</th>\n",
       "      <td>$0.22 / 1M token</td>\n",
       "      <td>$0.22000</td>\n",
       "      <td>$/1M tokens (input or output)</td>\n",
       "      <td>Llama 2-13B</td>\n",
       "      <td>NaN</td>\n",
       "      <td>2024-04-14</td>\n",
       "      <td>NaN</td>\n",
       "      <td>Meta AI</td>\n",
       "      <td>DeepInfra</td>\n",
       "      <td>NaN</td>\n",
       "      <td>https://web.archive.org/web/20240414171742/htt...</td>\n",
       "      <td>NaN</td>\n",
       "      <td>NaN</td>\n",
       "      <td>2/3/2025 5:00pm</td>\n",
       "      <td>NaN</td>\n",
       "      <td>James Sanders</td>\n",
       "    </tr>\n",
       "    <tr>\n",
       "      <th>153</th>\n",
       "      <td>$0.20 / 1M token</td>\n",
       "      <td>$0.20000</td>\n",
       "      <td>$/1M tokens (input or output)</td>\n",
       "      <td>Llama 2-7B</td>\n",
       "      <td>NaN</td>\n",
       "      <td>2023-12-01</td>\n",
       "      <td>NaN</td>\n",
       "      <td>Meta AI</td>\n",
       "      <td>DeepInfra</td>\n",
       "      <td>NaN</td>\n",
       "      <td>https://web.archive.org/web/20231201223505/htt...</td>\n",
       "      <td>NaN</td>\n",
       "      <td>NaN</td>\n",
       "      <td>2/3/2025 5:01pm</td>\n",
       "      <td>NaN</td>\n",
       "      <td>James Sanders</td>\n",
       "    </tr>\n",
       "    <tr>\n",
       "      <th>154</th>\n",
       "      <td>$0.13 / 1M token</td>\n",
       "      <td>$0.13000</td>\n",
       "      <td>$/1M tokens (input or output)</td>\n",
       "      <td>Llama 2-7B</td>\n",
       "      <td>NaN</td>\n",
       "      <td>2024-04-14</td>\n",
       "      <td>NaN</td>\n",
       "      <td>Meta AI</td>\n",
       "      <td>DeepInfra</td>\n",
       "      <td>NaN</td>\n",
       "      <td>https://web.archive.org/web/20240414165759/htt...</td>\n",
       "      <td>NaN</td>\n",
       "      <td>NaN</td>\n",
       "      <td>2/3/2025 5:02pm</td>\n",
       "      <td>NaN</td>\n",
       "      <td>James Sanders</td>\n",
       "    </tr>\n",
       "  </tbody>\n",
       "</table>\n",
       "<p>155 rows × 16 columns</p>\n",
       "</div>"
      ],
      "text/plain": [
       "                           Price description      Price  \\\n",
       "0                    $2.50 / 1M input tokens   $2.50000   \n",
       "1                  $10.00 / 1M output tokens  $10.00000   \n",
       "2          $0.638 / 1k 512^2 px input images   $0.63800   \n",
       "3          $1.275 / 1k 512^2 px input images   $1.27500   \n",
       "4    $0.213 / 1k low resolution input images   $0.21300   \n",
       "..                                       ...        ...   \n",
       "150                 $0.95 / 1M output tokens   $0.95000   \n",
       "151                         $0.35 / 1M token   $0.35000   \n",
       "152                         $0.22 / 1M token   $0.22000   \n",
       "153                         $0.20 / 1M token   $0.20000   \n",
       "154                         $0.13 / 1M token   $0.13000   \n",
       "\n",
       "                           Price Unit        Model Fine Tuned Model  \\\n",
       "0                   $/1M input tokens       GPT-4o              NaN   \n",
       "1                  $/1M output tokens       GPT-4o              NaN   \n",
       "2          $/1k 512^2 px input images       GPT-4o              NaN   \n",
       "3          $/1k 512^2 px input images       GPT-4o              NaN   \n",
       "4    $/1k low resolution input images       GPT-4o              NaN   \n",
       "..                                ...          ...              ...   \n",
       "150                $/1M output tokens  Llama 2-70B              NaN   \n",
       "151     $/1M tokens (input or output)  Llama 2-13B              NaN   \n",
       "152     $/1M tokens (input or output)  Llama 2-13B              NaN   \n",
       "153     $/1M tokens (input or output)   Llama 2-7B              NaN   \n",
       "154     $/1M tokens (input or output)   Llama 2-7B              NaN   \n",
       "\n",
       "     Price date      Model Version Organization (model developer)  \\\n",
       "0    2024-08-06  gpt-4o-2024-08-06                         OpenAI   \n",
       "1    2024-08-06  gpt-4o-2024-08-06                         OpenAI   \n",
       "2    2024-08-06  gpt-4o-2024-08-06                         OpenAI   \n",
       "3    2024-05-13  gpt-4o-2024-05-13                         OpenAI   \n",
       "4    2024-08-06  gpt-4o-2024-08-06                         OpenAI   \n",
       "..          ...                ...                            ...   \n",
       "150  2023-12-01                NaN                        Meta AI   \n",
       "151  2023-12-08                NaN                        Meta AI   \n",
       "152  2024-04-14                NaN                        Meta AI   \n",
       "153  2023-12-01                NaN                        Meta AI   \n",
       "154  2024-04-14                NaN                        Meta AI   \n",
       "\n",
       "    Organization (API vendor)  Context Window Tokens  \\\n",
       "0                      OpenAI                    NaN   \n",
       "1                      OpenAI                    NaN   \n",
       "2                      OpenAI                    NaN   \n",
       "3                      OpenAI                    NaN   \n",
       "4                      OpenAI                    NaN   \n",
       "..                        ...                    ...   \n",
       "150                 DeepInfra                    NaN   \n",
       "151                 DeepInfra                    NaN   \n",
       "152                 DeepInfra                    NaN   \n",
       "153                 DeepInfra                    NaN   \n",
       "154                 DeepInfra                    NaN   \n",
       "\n",
       "                                   Archived price link  \\\n",
       "0    https://web.archive.org/web/20240812003133/htt...   \n",
       "1    https://web.archive.org/web/20240812003133/htt...   \n",
       "2    https://web.archive.org/web/20240812003133/htt...   \n",
       "3    https://web.archive.org/web/20240812003133/htt...   \n",
       "4    https://web.archive.org/web/20240812003133/htt...   \n",
       "..                                                 ...   \n",
       "150  https://web.archive.org/web/20231201234723/htt...   \n",
       "151  https://web.archive.org/web/20231208122434/htt...   \n",
       "152  https://web.archive.org/web/20240414171742/htt...   \n",
       "153  https://web.archive.org/web/20231201223505/htt...   \n",
       "154  https://web.archive.org/web/20240414165759/htt...   \n",
       "\n",
       "                                     Tags  \\\n",
       "0    OpenAI: 50% off for batch submission   \n",
       "1    OpenAI: 50% off for batch submission   \n",
       "2                                     NaN   \n",
       "3                                     NaN   \n",
       "4                                     NaN   \n",
       "..                                    ...   \n",
       "150                                   NaN   \n",
       "151                                   NaN   \n",
       "152                                   NaN   \n",
       "153                                   NaN   \n",
       "154                                   NaN   \n",
       "\n",
       "                                                 Notes    Last Modified  \\\n",
       "0                                                  NaN  2/3/2025 3:16pm   \n",
       "1                                                  NaN  2/3/2025 3:16pm   \n",
       "2    High-resolution input images are priced as fol...  2/3/2025 3:16pm   \n",
       "3    High-resolution input images are priced as fol...  2/3/2025 3:16pm   \n",
       "4    Low-resolution images use 85 input tokens/imag...  2/3/2025 3:16pm   \n",
       "..                                                 ...              ...   \n",
       "150                                                NaN  2/3/2025 4:58pm   \n",
       "151                                                NaN  2/3/2025 5:00pm   \n",
       "152                                                NaN  2/3/2025 5:00pm   \n",
       "153                                                NaN  2/3/2025 5:01pm   \n",
       "154                                                NaN  2/3/2025 5:02pm   \n",
       "\n",
       "    Price sheet document     Created By  \n",
       "0                    NaN    Robi Rahman  \n",
       "1                    NaN    Robi Rahman  \n",
       "2                    NaN  James Sanders  \n",
       "3                    NaN  James Sanders  \n",
       "4                    NaN  James Sanders  \n",
       "..                   ...            ...  \n",
       "150                  NaN  James Sanders  \n",
       "151                  NaN  James Sanders  \n",
       "152                  NaN  James Sanders  \n",
       "153                  NaN  James Sanders  \n",
       "154                  NaN  James Sanders  \n",
       "\n",
       "[155 rows x 16 columns]"
      ]
     },
     "execution_count": 5,
     "metadata": {},
     "output_type": "execute_result"
    }
   ],
   "source": [
    "api_price_df = pd.read_csv('data/API prices - full view.csv')\n",
    "api_price_df"
   ]
  },
  {
   "cell_type": "code",
   "execution_count": 6,
   "metadata": {},
   "outputs": [
    {
     "data": {
      "text/html": [
       "<div>\n",
       "<style scoped>\n",
       "    .dataframe tbody tr th:only-of-type {\n",
       "        vertical-align: middle;\n",
       "    }\n",
       "\n",
       "    .dataframe tbody tr th {\n",
       "        vertical-align: top;\n",
       "    }\n",
       "\n",
       "    .dataframe thead th {\n",
       "        text-align: right;\n",
       "    }\n",
       "</style>\n",
       "<table border=\"1\" class=\"dataframe\">\n",
       "  <thead>\n",
       "    <tr style=\"text-align: right;\">\n",
       "      <th></th>\n",
       "      <th>Price description</th>\n",
       "      <th>Price</th>\n",
       "      <th>Price Unit</th>\n",
       "      <th>Model</th>\n",
       "      <th>Fine Tuned Model</th>\n",
       "      <th>Price date</th>\n",
       "      <th>Model Version</th>\n",
       "      <th>Organization (model developer)</th>\n",
       "      <th>Organization (API vendor)</th>\n",
       "      <th>Context Window Tokens</th>\n",
       "      <th>Archived price link</th>\n",
       "      <th>Tags</th>\n",
       "      <th>Notes</th>\n",
       "      <th>Last Modified</th>\n",
       "      <th>Price sheet document</th>\n",
       "      <th>Created By</th>\n",
       "    </tr>\n",
       "  </thead>\n",
       "  <tbody>\n",
       "    <tr>\n",
       "      <th>0</th>\n",
       "      <td>$2.50 / 1M input tokens</td>\n",
       "      <td>$2.50000</td>\n",
       "      <td>$/1M input tokens</td>\n",
       "      <td>GPT-4o</td>\n",
       "      <td>NaN</td>\n",
       "      <td>2024-08-06</td>\n",
       "      <td>gpt-4o-2024-08-06</td>\n",
       "      <td>OpenAI</td>\n",
       "      <td>OpenAI</td>\n",
       "      <td>NaN</td>\n",
       "      <td>https://web.archive.org/web/20240812003133/htt...</td>\n",
       "      <td>OpenAI: 50% off for batch submission</td>\n",
       "      <td>NaN</td>\n",
       "      <td>2/3/2025 3:16pm</td>\n",
       "      <td>NaN</td>\n",
       "      <td>Robi Rahman</td>\n",
       "    </tr>\n",
       "    <tr>\n",
       "      <th>1</th>\n",
       "      <td>$10.00 / 1M output tokens</td>\n",
       "      <td>$10.00000</td>\n",
       "      <td>$/1M output tokens</td>\n",
       "      <td>GPT-4o</td>\n",
       "      <td>NaN</td>\n",
       "      <td>2024-08-06</td>\n",
       "      <td>gpt-4o-2024-08-06</td>\n",
       "      <td>OpenAI</td>\n",
       "      <td>OpenAI</td>\n",
       "      <td>NaN</td>\n",
       "      <td>https://web.archive.org/web/20240812003133/htt...</td>\n",
       "      <td>OpenAI: 50% off for batch submission</td>\n",
       "      <td>NaN</td>\n",
       "      <td>2/3/2025 3:16pm</td>\n",
       "      <td>NaN</td>\n",
       "      <td>Robi Rahman</td>\n",
       "    </tr>\n",
       "    <tr>\n",
       "      <th>7</th>\n",
       "      <td>$5.00 / 1M input tokens</td>\n",
       "      <td>$5.00000</td>\n",
       "      <td>$/1M input tokens</td>\n",
       "      <td>GPT-4o</td>\n",
       "      <td>NaN</td>\n",
       "      <td>2024-05-13</td>\n",
       "      <td>gpt-4o-2024-05-13</td>\n",
       "      <td>OpenAI</td>\n",
       "      <td>OpenAI</td>\n",
       "      <td>NaN</td>\n",
       "      <td>https://web.archive.org/web/20240812003133/htt...</td>\n",
       "      <td>OpenAI: 50% off for batch submission</td>\n",
       "      <td>NaN</td>\n",
       "      <td>2/3/2025 3:16pm</td>\n",
       "      <td>NaN</td>\n",
       "      <td>James Sanders</td>\n",
       "    </tr>\n",
       "    <tr>\n",
       "      <th>8</th>\n",
       "      <td>$15.00 / 1M output tokens</td>\n",
       "      <td>$15.00000</td>\n",
       "      <td>$/1M output tokens</td>\n",
       "      <td>GPT-4o</td>\n",
       "      <td>NaN</td>\n",
       "      <td>2024-05-13</td>\n",
       "      <td>gpt-4o-2024-05-13</td>\n",
       "      <td>OpenAI</td>\n",
       "      <td>OpenAI</td>\n",
       "      <td>NaN</td>\n",
       "      <td>https://web.archive.org/web/20240812003133/htt...</td>\n",
       "      <td>OpenAI: 50% off for batch submission</td>\n",
       "      <td>NaN</td>\n",
       "      <td>2/3/2025 3:16pm</td>\n",
       "      <td>NaN</td>\n",
       "      <td>James Sanders</td>\n",
       "    </tr>\n",
       "    <tr>\n",
       "      <th>10</th>\n",
       "      <td>$0.15 / 1M input tokens</td>\n",
       "      <td>$0.15000</td>\n",
       "      <td>$/1M input tokens</td>\n",
       "      <td>GPT-4o mini</td>\n",
       "      <td>NaN</td>\n",
       "      <td>2024-07-18</td>\n",
       "      <td>gpt-4o-mini-2024-07-18</td>\n",
       "      <td>OpenAI</td>\n",
       "      <td>OpenAI</td>\n",
       "      <td>NaN</td>\n",
       "      <td>https://web.archive.org/web/20240812003133/htt...</td>\n",
       "      <td>OpenAI: 50% off for batch submission</td>\n",
       "      <td>NaN</td>\n",
       "      <td>2/3/2025 3:17pm</td>\n",
       "      <td>NaN</td>\n",
       "      <td>James Sanders</td>\n",
       "    </tr>\n",
       "    <tr>\n",
       "      <th>...</th>\n",
       "      <td>...</td>\n",
       "      <td>...</td>\n",
       "      <td>...</td>\n",
       "      <td>...</td>\n",
       "      <td>...</td>\n",
       "      <td>...</td>\n",
       "      <td>...</td>\n",
       "      <td>...</td>\n",
       "      <td>...</td>\n",
       "      <td>...</td>\n",
       "      <td>...</td>\n",
       "      <td>...</td>\n",
       "      <td>...</td>\n",
       "      <td>...</td>\n",
       "      <td>...</td>\n",
       "      <td>...</td>\n",
       "    </tr>\n",
       "    <tr>\n",
       "      <th>146</th>\n",
       "      <td>$2.19 / 1M output tokens</td>\n",
       "      <td>$2.19000</td>\n",
       "      <td>$/1M output tokens</td>\n",
       "      <td>DeepSeek-R1</td>\n",
       "      <td>NaN</td>\n",
       "      <td>2025-01-20</td>\n",
       "      <td>NaN</td>\n",
       "      <td>DeepSeek</td>\n",
       "      <td>DeepSeek</td>\n",
       "      <td>NaN</td>\n",
       "      <td>https://web.archive.org/web/20250130084330/htt...</td>\n",
       "      <td>NaN</td>\n",
       "      <td>NaN</td>\n",
       "      <td>2/3/2025 4:05pm</td>\n",
       "      <td>NaN</td>\n",
       "      <td>James Sanders</td>\n",
       "    </tr>\n",
       "    <tr>\n",
       "      <th>147</th>\n",
       "      <td>$0.27 / 1M input tokens</td>\n",
       "      <td>$0.27000</td>\n",
       "      <td>$/1M input tokens</td>\n",
       "      <td>DeepSeek-V3</td>\n",
       "      <td>NaN</td>\n",
       "      <td>2024-12-26</td>\n",
       "      <td>NaN</td>\n",
       "      <td>DeepSeek</td>\n",
       "      <td>DeepSeek</td>\n",
       "      <td>NaN</td>\n",
       "      <td>https://web.archive.org/web/20250131235106/htt...</td>\n",
       "      <td>NaN</td>\n",
       "      <td>Non cached price (cache miss). They have a tem...</td>\n",
       "      <td>2/3/2025 4:08pm</td>\n",
       "      <td>NaN</td>\n",
       "      <td>James Sanders</td>\n",
       "    </tr>\n",
       "    <tr>\n",
       "      <th>148</th>\n",
       "      <td>$1.1 / 1M output tokens</td>\n",
       "      <td>$1.10000</td>\n",
       "      <td>$/1M output tokens</td>\n",
       "      <td>DeepSeek-V3</td>\n",
       "      <td>NaN</td>\n",
       "      <td>2024-12-26</td>\n",
       "      <td>NaN</td>\n",
       "      <td>DeepSeek</td>\n",
       "      <td>DeepSeek</td>\n",
       "      <td>NaN</td>\n",
       "      <td>https://web.archive.org/web/20250131235106/htt...</td>\n",
       "      <td>NaN</td>\n",
       "      <td>They have a temporary promotional sale price. ...</td>\n",
       "      <td>2/3/2025 4:08pm</td>\n",
       "      <td>NaN</td>\n",
       "      <td>James Sanders</td>\n",
       "    </tr>\n",
       "    <tr>\n",
       "      <th>149</th>\n",
       "      <td>$0.70 / 1M input tokens</td>\n",
       "      <td>$0.70000</td>\n",
       "      <td>$/1M input tokens</td>\n",
       "      <td>Llama 2-70B</td>\n",
       "      <td>NaN</td>\n",
       "      <td>2023-12-01</td>\n",
       "      <td>NaN</td>\n",
       "      <td>Meta AI</td>\n",
       "      <td>DeepInfra</td>\n",
       "      <td>NaN</td>\n",
       "      <td>https://web.archive.org/web/20231201234723/htt...</td>\n",
       "      <td>NaN</td>\n",
       "      <td>NaN</td>\n",
       "      <td>2/3/2025 4:32pm</td>\n",
       "      <td>NaN</td>\n",
       "      <td>James Sanders</td>\n",
       "    </tr>\n",
       "    <tr>\n",
       "      <th>150</th>\n",
       "      <td>$0.95 / 1M output tokens</td>\n",
       "      <td>$0.95000</td>\n",
       "      <td>$/1M output tokens</td>\n",
       "      <td>Llama 2-70B</td>\n",
       "      <td>NaN</td>\n",
       "      <td>2023-12-01</td>\n",
       "      <td>NaN</td>\n",
       "      <td>Meta AI</td>\n",
       "      <td>DeepInfra</td>\n",
       "      <td>NaN</td>\n",
       "      <td>https://web.archive.org/web/20231201234723/htt...</td>\n",
       "      <td>NaN</td>\n",
       "      <td>NaN</td>\n",
       "      <td>2/3/2025 4:58pm</td>\n",
       "      <td>NaN</td>\n",
       "      <td>James Sanders</td>\n",
       "    </tr>\n",
       "  </tbody>\n",
       "</table>\n",
       "<p>86 rows × 16 columns</p>\n",
       "</div>"
      ],
      "text/plain": [
       "             Price description      Price          Price Unit        Model  \\\n",
       "0      $2.50 / 1M input tokens   $2.50000   $/1M input tokens       GPT-4o   \n",
       "1    $10.00 / 1M output tokens  $10.00000  $/1M output tokens       GPT-4o   \n",
       "7     $5.00 / 1M input tokens    $5.00000   $/1M input tokens       GPT-4o   \n",
       "8    $15.00 / 1M output tokens  $15.00000  $/1M output tokens       GPT-4o   \n",
       "10     $0.15 / 1M input tokens   $0.15000   $/1M input tokens  GPT-4o mini   \n",
       "..                         ...        ...                 ...          ...   \n",
       "146   $2.19 / 1M output tokens   $2.19000  $/1M output tokens  DeepSeek-R1   \n",
       "147    $0.27 / 1M input tokens   $0.27000   $/1M input tokens  DeepSeek-V3   \n",
       "148    $1.1 / 1M output tokens   $1.10000  $/1M output tokens  DeepSeek-V3   \n",
       "149    $0.70 / 1M input tokens   $0.70000   $/1M input tokens  Llama 2-70B   \n",
       "150   $0.95 / 1M output tokens   $0.95000  $/1M output tokens  Llama 2-70B   \n",
       "\n",
       "    Fine Tuned Model  Price date           Model Version  \\\n",
       "0                NaN  2024-08-06       gpt-4o-2024-08-06   \n",
       "1                NaN  2024-08-06       gpt-4o-2024-08-06   \n",
       "7                NaN  2024-05-13       gpt-4o-2024-05-13   \n",
       "8                NaN  2024-05-13       gpt-4o-2024-05-13   \n",
       "10               NaN  2024-07-18  gpt-4o-mini-2024-07-18   \n",
       "..               ...         ...                     ...   \n",
       "146              NaN  2025-01-20                     NaN   \n",
       "147              NaN  2024-12-26                     NaN   \n",
       "148              NaN  2024-12-26                     NaN   \n",
       "149              NaN  2023-12-01                     NaN   \n",
       "150              NaN  2023-12-01                     NaN   \n",
       "\n",
       "    Organization (model developer) Organization (API vendor)  \\\n",
       "0                           OpenAI                    OpenAI   \n",
       "1                           OpenAI                    OpenAI   \n",
       "7                           OpenAI                    OpenAI   \n",
       "8                           OpenAI                    OpenAI   \n",
       "10                          OpenAI                    OpenAI   \n",
       "..                             ...                       ...   \n",
       "146                       DeepSeek                  DeepSeek   \n",
       "147                       DeepSeek                  DeepSeek   \n",
       "148                       DeepSeek                  DeepSeek   \n",
       "149                        Meta AI                 DeepInfra   \n",
       "150                        Meta AI                 DeepInfra   \n",
       "\n",
       "     Context Window Tokens                                Archived price link  \\\n",
       "0                      NaN  https://web.archive.org/web/20240812003133/htt...   \n",
       "1                      NaN  https://web.archive.org/web/20240812003133/htt...   \n",
       "7                      NaN  https://web.archive.org/web/20240812003133/htt...   \n",
       "8                      NaN  https://web.archive.org/web/20240812003133/htt...   \n",
       "10                     NaN  https://web.archive.org/web/20240812003133/htt...   \n",
       "..                     ...                                                ...   \n",
       "146                    NaN  https://web.archive.org/web/20250130084330/htt...   \n",
       "147                    NaN  https://web.archive.org/web/20250131235106/htt...   \n",
       "148                    NaN  https://web.archive.org/web/20250131235106/htt...   \n",
       "149                    NaN  https://web.archive.org/web/20231201234723/htt...   \n",
       "150                    NaN  https://web.archive.org/web/20231201234723/htt...   \n",
       "\n",
       "                                     Tags  \\\n",
       "0    OpenAI: 50% off for batch submission   \n",
       "1    OpenAI: 50% off for batch submission   \n",
       "7    OpenAI: 50% off for batch submission   \n",
       "8    OpenAI: 50% off for batch submission   \n",
       "10   OpenAI: 50% off for batch submission   \n",
       "..                                    ...   \n",
       "146                                   NaN   \n",
       "147                                   NaN   \n",
       "148                                   NaN   \n",
       "149                                   NaN   \n",
       "150                                   NaN   \n",
       "\n",
       "                                                 Notes    Last Modified  \\\n",
       "0                                                  NaN  2/3/2025 3:16pm   \n",
       "1                                                  NaN  2/3/2025 3:16pm   \n",
       "7                                                  NaN  2/3/2025 3:16pm   \n",
       "8                                                  NaN  2/3/2025 3:16pm   \n",
       "10                                                 NaN  2/3/2025 3:17pm   \n",
       "..                                                 ...              ...   \n",
       "146                                                NaN  2/3/2025 4:05pm   \n",
       "147  Non cached price (cache miss). They have a tem...  2/3/2025 4:08pm   \n",
       "148  They have a temporary promotional sale price. ...  2/3/2025 4:08pm   \n",
       "149                                                NaN  2/3/2025 4:32pm   \n",
       "150                                                NaN  2/3/2025 4:58pm   \n",
       "\n",
       "    Price sheet document     Created By  \n",
       "0                    NaN    Robi Rahman  \n",
       "1                    NaN    Robi Rahman  \n",
       "7                    NaN  James Sanders  \n",
       "8                    NaN  James Sanders  \n",
       "10                   NaN  James Sanders  \n",
       "..                   ...            ...  \n",
       "146                  NaN  James Sanders  \n",
       "147                  NaN  James Sanders  \n",
       "148                  NaN  James Sanders  \n",
       "149                  NaN  James Sanders  \n",
       "150                  NaN  James Sanders  \n",
       "\n",
       "[86 rows x 16 columns]"
      ]
     },
     "execution_count": 6,
     "metadata": {},
     "output_type": "execute_result"
    }
   ],
   "source": [
    "# Filter out pricing for finetuned versions of models\n",
    "api_price_df = api_price_df[api_price_df['Fine Tuned Model'].isna()]\n",
    "# Focus on the simplest price units: $/1M input tokens and $/1M output tokens\n",
    "api_price_df = api_price_df[api_price_df['Price Unit'].isin(['$/1M input tokens', '$/1M output tokens'])]\n",
    "api_price_df"
   ]
  },
  {
   "cell_type": "markdown",
   "metadata": {},
   "source": [
    "## Merge in Epoch AI data that is not in AA data"
   ]
  },
  {
   "cell_type": "code",
   "execution_count": 7,
   "metadata": {},
   "outputs": [
    {
     "name": "stdout",
     "output_type": "stream",
     "text": [
      "Epoch AI models: ['Claude 2 (2024-08-12)', 'Claude 2.1 (2024-08-12)', 'Claude 3 Haiku (2024-08-12)', 'Claude 3 Opus (2024-08-12)', 'Claude 3 Sonnet (2024-08-12)', 'Claude 3.5 Haiku (2024-11-04)', 'Claude 3.5 Sonnet (2024-08-12)', 'Claude 3.5 Sonnet (2024-09-10)', 'Claude Instant (2024-08-12)', 'Cohere Command (2024-08-13)', 'Cohere Command Light (2024-08-13)', 'Command R (2024-08-13)', 'Command R+ (2024-08-13)', 'Command R+ (2024-09-13)', 'DeepSeek-Coder-V2 236B (2024-09-11)', 'DeepSeek-R1 (2025-01-20)', 'DeepSeek-V3 (2024-12-26)', 'GPT-3.5 Turbo (2023-06-13)', 'GPT-3.5 Turbo (2023-11-06)', 'GPT-3.5 Turbo (2024-01-25)', 'GPT-4 (2023-03-14)', 'GPT-4 Turbo (2023-11-06)', 'GPT-4o (2024-05-13)', 'GPT-4o (2024-08-06)', 'GPT-4o mini (2024-07-18)', 'Gemini 1.0 Pro (2024-08-12)', 'Jamba (2024-09-12)', 'Llama 2-70B (2023-12-01)', 'Llama 3-8B (2024-09-01)', 'Llama 3.1-405B (2024-08-18)', 'Llama 3.1-405B (2024-08-22)', 'Llama 3.1-405B (2024-08-24)', 'Llama 3.1-405B (2024-09-05)', 'Llama 3.1-405B (2024-09-13)', 'Llama 3.1-70B (2024-08-24)', 'Llama 3.1-70B (2024-08-27)', 'Llama 3.1-70B (2024-09-14)', 'Ministral 3B (2024-10-16)', 'Ministral 8B (2024-10-16)', 'Mistral 7B (2024-09-14)', 'Reka Core (2024-09-14)', 'o1 (2024-12-17)', 'o1-mini (2024-09-12)', 'o1-mini (2025-01-31)', 'o1-preview (2024-09-12)', 'o3-mini (2025-01-31)']\n",
      "AA models: ['Claude-3-Haiku (2024-03)', 'Claude-3-Opus (2024-03)', 'Claude-3-Sonnet (2024-03)', 'Claude-3.5-Haiku (2024-06)', 'Claude-3.5-Sonnet-2024-06 (2024-06)', 'Claude-3.5-Sonnet-2024-10 (2024-10)', 'GPT-3.5 Turbo (2023-11)', 'GPT-4 (2023-03)', 'GPT-4 Turbo (2023-11)', 'GPT-4o-2024-05 (2024-05)', 'GPT-4o-2024-08 (2024-08)', 'GPT-4o-2024-11 (2024-11)', 'GPT-4o-mini (2024-07)', 'Gemini-1.5-Flash-2024-05 (2024-05)', 'Gemini-1.5-Flash-2024-09 (2024-09)', 'Gemini-1.5-Flash-8B (2024-10)', 'Gemini-1.5-Pro-2024-05 (2024-05)', 'Gemini-1.5-Pro-2024-09 (2024-09)', 'Gemma-2-27B (2024-06)', 'Gemma-2-9B (2024-06)', 'Llama-2-Chat-13B (2023-07)', 'Llama-2-Chat-7B (2023-07)', 'Llama-3-Instruct-70B (2024-04)', 'Llama-3-Instruct-8B (2024-04)', 'Llama-3.1-Instruct-405B (2024-07)', 'Llama-3.1-Instruct-70B (2024-07)', 'Llama-3.1-Instruct-8B (2024-07)', 'Llama-3.2-Instruct-1B (2024-09)', 'Llama-3.2-Instruct-3B (2024-09)', 'Mistral-8x22 (2024-04)', 'Mistral-Large-2-2024-06 (2024-06)', 'Mistral-Large-2-2024-11 (2024-11)', 'Mistral-Large-2024-02 (2024-02)', 'Mistral-NeMo (2024-06)', 'Mistral-Small-2024-02 (2024-02)']\n"
     ]
    }
   ],
   "source": [
    "epoch_price_models_with_date = list(sorted(set([f'{m} ({d})' for m, d in zip(api_price_df['Model'], api_price_df['Price date'])])))\n",
    "aa_price_models_with_date = list(sorted(set([f'{m} ({d})' for m, d in zip(aa_df['Model Name'], aa_df['Release Date'])])))\n",
    "print('Epoch AI models:', epoch_price_models_with_date)\n",
    "print('AA models:', aa_price_models_with_date)"
   ]
  },
  {
   "cell_type": "code",
   "execution_count": 9,
   "metadata": {},
   "outputs": [
    {
     "name": "stdout",
     "output_type": "stream",
     "text": [
      "Models in Epoch AI but not in AA: {'Claude 3 Opus', 'Command R+', 'Cohere Command', 'o3-mini', 'o1-mini', 'Claude Instant', 'DeepSeek-Coder-V2 236B', 'Cohere Command Light', 'Mistral 7B', 'o1', 'DeepSeek-V3', 'Claude 3.5 Sonnet', 'Claude 3 Haiku', 'Llama 3.1-70B', 'GPT-3.5 Turbo', 'DeepSeek-R1', 'Llama 3-8B', 'Ministral 3B', 'Gemini 1.0 Pro', 'Command R', 'Claude 2.1', 'Ministral 8B', 'Claude 2', 'Jamba', 'o1-preview', 'Llama 2-70B', 'Llama 3.1-405B', 'Claude 3 Sonnet', 'Claude 3.5 Haiku', 'Reka Core'}\n"
     ]
    }
   ],
   "source": [
    "model_mappings = {\n",
    "    # GPT Models\n",
    "    'GPT-4 (2023-03-14)': 'GPT-4 (2023-03)',\n",
    "    'GPT-3.5 Turbo (2023-11-06)': 'GPT-3.5 Turbo (2023-11)',\n",
    "    'GPT-4 Turbo (2023-11-06)': 'GPT-4 Turbo (2023-11)',\n",
    "    'GPT-4o (2024-05-13)': 'GPT-4o-2024-05 (2024-05)',\n",
    "    'GPT-4o (2024-08-06)': 'GPT-4o-2024-08 (2024-08)',\n",
    "    'GPT-4o mini (2024-07-18)': 'GPT-4o-mini (2024-07)',\n",
    "    \n",
    "    # Llama Models\n",
    "    'Llama 3.1-405B (2024-07)': 'Llama-3.1-Instruct-405B (2024-07)',\n",
    "}\n",
    "\n",
    "# Find models in Epoch AI that are not in AA\n",
    "epoch_models_not_in_aa = set()\n",
    "for epoch_model in epoch_price_models_with_date:\n",
    "    if epoch_model not in model_mappings:\n",
    "        model_name = epoch_model.split(' (')[0]\n",
    "        epoch_models_not_in_aa.add(model_name)\n",
    "\n",
    "print('Models in Epoch AI but not in AA:', epoch_models_not_in_aa)\n"
   ]
  },
  {
   "cell_type": "code",
   "execution_count": 10,
   "metadata": {},
   "outputs": [
    {
     "data": {
      "text/html": [
       "<div>\n",
       "<style scoped>\n",
       "    .dataframe tbody tr th:only-of-type {\n",
       "        vertical-align: middle;\n",
       "    }\n",
       "\n",
       "    .dataframe tbody tr th {\n",
       "        vertical-align: top;\n",
       "    }\n",
       "\n",
       "    .dataframe thead th {\n",
       "        text-align: right;\n",
       "    }\n",
       "</style>\n",
       "<table border=\"1\" class=\"dataframe\">\n",
       "  <thead>\n",
       "    <tr style=\"text-align: right;\">\n",
       "      <th></th>\n",
       "      <th>Price description</th>\n",
       "      <th>Price</th>\n",
       "      <th>Price Unit</th>\n",
       "      <th>Model</th>\n",
       "      <th>Fine Tuned Model</th>\n",
       "      <th>Price date</th>\n",
       "      <th>Model Version</th>\n",
       "      <th>Organization (model developer)</th>\n",
       "      <th>Organization (API vendor)</th>\n",
       "      <th>Context Window Tokens</th>\n",
       "      <th>Archived price link</th>\n",
       "      <th>Tags</th>\n",
       "      <th>Notes</th>\n",
       "      <th>Last Modified</th>\n",
       "      <th>Price sheet document</th>\n",
       "      <th>Created By</th>\n",
       "    </tr>\n",
       "  </thead>\n",
       "  <tbody>\n",
       "    <tr>\n",
       "      <th>15</th>\n",
       "      <td>$15 / 1M input tokens</td>\n",
       "      <td>$15.00000</td>\n",
       "      <td>$/1M input tokens</td>\n",
       "      <td>Claude 3 Opus</td>\n",
       "      <td>NaN</td>\n",
       "      <td>2024-08-12</td>\n",
       "      <td>NaN</td>\n",
       "      <td>Anthropic</td>\n",
       "      <td>Anthropic</td>\n",
       "      <td>NaN</td>\n",
       "      <td>https://archive.is/5C8WA</td>\n",
       "      <td>NaN</td>\n",
       "      <td>NaN</td>\n",
       "      <td>8/13/2024 1:37pm</td>\n",
       "      <td>NaN</td>\n",
       "      <td>Robi Rahman</td>\n",
       "    </tr>\n",
       "    <tr>\n",
       "      <th>16</th>\n",
       "      <td>$75 / 1M output tokens</td>\n",
       "      <td>$75.00000</td>\n",
       "      <td>$/1M output tokens</td>\n",
       "      <td>Claude 3 Opus</td>\n",
       "      <td>NaN</td>\n",
       "      <td>2024-08-12</td>\n",
       "      <td>NaN</td>\n",
       "      <td>Anthropic</td>\n",
       "      <td>Anthropic</td>\n",
       "      <td>NaN</td>\n",
       "      <td>https://archive.is/5C8WA</td>\n",
       "      <td>NaN</td>\n",
       "      <td>NaN</td>\n",
       "      <td>8/13/2024 1:37pm</td>\n",
       "      <td>NaN</td>\n",
       "      <td>James Sanders</td>\n",
       "    </tr>\n",
       "    <tr>\n",
       "      <th>17</th>\n",
       "      <td>$0.25 / 1M input tokens</td>\n",
       "      <td>$0.25000</td>\n",
       "      <td>$/1M input tokens</td>\n",
       "      <td>Claude 3 Haiku</td>\n",
       "      <td>NaN</td>\n",
       "      <td>2024-08-12</td>\n",
       "      <td>NaN</td>\n",
       "      <td>Anthropic</td>\n",
       "      <td>Anthropic</td>\n",
       "      <td>NaN</td>\n",
       "      <td>https://archive.is/5C8WA</td>\n",
       "      <td>NaN</td>\n",
       "      <td>NaN</td>\n",
       "      <td>8/13/2024 1:37pm</td>\n",
       "      <td>NaN</td>\n",
       "      <td>James Sanders</td>\n",
       "    </tr>\n",
       "    <tr>\n",
       "      <th>18</th>\n",
       "      <td>$1.25 / 1M output tokens</td>\n",
       "      <td>$1.25000</td>\n",
       "      <td>$/1M output tokens</td>\n",
       "      <td>Claude 3 Haiku</td>\n",
       "      <td>NaN</td>\n",
       "      <td>2024-08-12</td>\n",
       "      <td>NaN</td>\n",
       "      <td>Anthropic</td>\n",
       "      <td>Anthropic</td>\n",
       "      <td>NaN</td>\n",
       "      <td>https://archive.is/5C8WA</td>\n",
       "      <td>NaN</td>\n",
       "      <td>NaN</td>\n",
       "      <td>8/13/2024 1:37pm</td>\n",
       "      <td>NaN</td>\n",
       "      <td>James Sanders</td>\n",
       "    </tr>\n",
       "    <tr>\n",
       "      <th>19</th>\n",
       "      <td>$3 / 1M input tokens</td>\n",
       "      <td>$3.00000</td>\n",
       "      <td>$/1M input tokens</td>\n",
       "      <td>Claude 3.5 Sonnet</td>\n",
       "      <td>NaN</td>\n",
       "      <td>2024-08-12</td>\n",
       "      <td>NaN</td>\n",
       "      <td>Anthropic</td>\n",
       "      <td>Anthropic</td>\n",
       "      <td>NaN</td>\n",
       "      <td>https://archive.is/5C8WA</td>\n",
       "      <td>NaN</td>\n",
       "      <td>NaN</td>\n",
       "      <td>12/7/2024 6:47pm</td>\n",
       "      <td>NaN</td>\n",
       "      <td>James Sanders</td>\n",
       "    </tr>\n",
       "    <tr>\n",
       "      <th>...</th>\n",
       "      <td>...</td>\n",
       "      <td>...</td>\n",
       "      <td>...</td>\n",
       "      <td>...</td>\n",
       "      <td>...</td>\n",
       "      <td>...</td>\n",
       "      <td>...</td>\n",
       "      <td>...</td>\n",
       "      <td>...</td>\n",
       "      <td>...</td>\n",
       "      <td>...</td>\n",
       "      <td>...</td>\n",
       "      <td>...</td>\n",
       "      <td>...</td>\n",
       "      <td>...</td>\n",
       "      <td>...</td>\n",
       "    </tr>\n",
       "    <tr>\n",
       "      <th>146</th>\n",
       "      <td>$2.19 / 1M output tokens</td>\n",
       "      <td>$2.19000</td>\n",
       "      <td>$/1M output tokens</td>\n",
       "      <td>DeepSeek-R1</td>\n",
       "      <td>NaN</td>\n",
       "      <td>2025-01-20</td>\n",
       "      <td>NaN</td>\n",
       "      <td>DeepSeek</td>\n",
       "      <td>DeepSeek</td>\n",
       "      <td>NaN</td>\n",
       "      <td>https://web.archive.org/web/20250130084330/htt...</td>\n",
       "      <td>NaN</td>\n",
       "      <td>NaN</td>\n",
       "      <td>2/3/2025 4:05pm</td>\n",
       "      <td>NaN</td>\n",
       "      <td>James Sanders</td>\n",
       "    </tr>\n",
       "    <tr>\n",
       "      <th>147</th>\n",
       "      <td>$0.27 / 1M input tokens</td>\n",
       "      <td>$0.27000</td>\n",
       "      <td>$/1M input tokens</td>\n",
       "      <td>DeepSeek-V3</td>\n",
       "      <td>NaN</td>\n",
       "      <td>2024-12-26</td>\n",
       "      <td>NaN</td>\n",
       "      <td>DeepSeek</td>\n",
       "      <td>DeepSeek</td>\n",
       "      <td>NaN</td>\n",
       "      <td>https://web.archive.org/web/20250131235106/htt...</td>\n",
       "      <td>NaN</td>\n",
       "      <td>Non cached price (cache miss). They have a tem...</td>\n",
       "      <td>2/3/2025 4:08pm</td>\n",
       "      <td>NaN</td>\n",
       "      <td>James Sanders</td>\n",
       "    </tr>\n",
       "    <tr>\n",
       "      <th>148</th>\n",
       "      <td>$1.1 / 1M output tokens</td>\n",
       "      <td>$1.10000</td>\n",
       "      <td>$/1M output tokens</td>\n",
       "      <td>DeepSeek-V3</td>\n",
       "      <td>NaN</td>\n",
       "      <td>2024-12-26</td>\n",
       "      <td>NaN</td>\n",
       "      <td>DeepSeek</td>\n",
       "      <td>DeepSeek</td>\n",
       "      <td>NaN</td>\n",
       "      <td>https://web.archive.org/web/20250131235106/htt...</td>\n",
       "      <td>NaN</td>\n",
       "      <td>They have a temporary promotional sale price. ...</td>\n",
       "      <td>2/3/2025 4:08pm</td>\n",
       "      <td>NaN</td>\n",
       "      <td>James Sanders</td>\n",
       "    </tr>\n",
       "    <tr>\n",
       "      <th>149</th>\n",
       "      <td>$0.70 / 1M input tokens</td>\n",
       "      <td>$0.70000</td>\n",
       "      <td>$/1M input tokens</td>\n",
       "      <td>Llama 2-70B</td>\n",
       "      <td>NaN</td>\n",
       "      <td>2023-12-01</td>\n",
       "      <td>NaN</td>\n",
       "      <td>Meta AI</td>\n",
       "      <td>DeepInfra</td>\n",
       "      <td>NaN</td>\n",
       "      <td>https://web.archive.org/web/20231201234723/htt...</td>\n",
       "      <td>NaN</td>\n",
       "      <td>NaN</td>\n",
       "      <td>2/3/2025 4:32pm</td>\n",
       "      <td>NaN</td>\n",
       "      <td>James Sanders</td>\n",
       "    </tr>\n",
       "    <tr>\n",
       "      <th>150</th>\n",
       "      <td>$0.95 / 1M output tokens</td>\n",
       "      <td>$0.95000</td>\n",
       "      <td>$/1M output tokens</td>\n",
       "      <td>Llama 2-70B</td>\n",
       "      <td>NaN</td>\n",
       "      <td>2023-12-01</td>\n",
       "      <td>NaN</td>\n",
       "      <td>Meta AI</td>\n",
       "      <td>DeepInfra</td>\n",
       "      <td>NaN</td>\n",
       "      <td>https://web.archive.org/web/20231201234723/htt...</td>\n",
       "      <td>NaN</td>\n",
       "      <td>NaN</td>\n",
       "      <td>2/3/2025 4:58pm</td>\n",
       "      <td>NaN</td>\n",
       "      <td>James Sanders</td>\n",
       "    </tr>\n",
       "  </tbody>\n",
       "</table>\n",
       "<p>74 rows × 16 columns</p>\n",
       "</div>"
      ],
      "text/plain": [
       "            Price description      Price          Price Unit  \\\n",
       "15      $15 / 1M input tokens  $15.00000   $/1M input tokens   \n",
       "16     $75 / 1M output tokens  $75.00000  $/1M output tokens   \n",
       "17    $0.25 / 1M input tokens   $0.25000   $/1M input tokens   \n",
       "18   $1.25 / 1M output tokens   $1.25000  $/1M output tokens   \n",
       "19       $3 / 1M input tokens   $3.00000   $/1M input tokens   \n",
       "..                        ...        ...                 ...   \n",
       "146  $2.19 / 1M output tokens   $2.19000  $/1M output tokens   \n",
       "147   $0.27 / 1M input tokens   $0.27000   $/1M input tokens   \n",
       "148   $1.1 / 1M output tokens   $1.10000  $/1M output tokens   \n",
       "149   $0.70 / 1M input tokens   $0.70000   $/1M input tokens   \n",
       "150  $0.95 / 1M output tokens   $0.95000  $/1M output tokens   \n",
       "\n",
       "                 Model Fine Tuned Model  Price date Model Version  \\\n",
       "15       Claude 3 Opus              NaN  2024-08-12           NaN   \n",
       "16       Claude 3 Opus              NaN  2024-08-12           NaN   \n",
       "17      Claude 3 Haiku              NaN  2024-08-12           NaN   \n",
       "18      Claude 3 Haiku              NaN  2024-08-12           NaN   \n",
       "19   Claude 3.5 Sonnet              NaN  2024-08-12           NaN   \n",
       "..                 ...              ...         ...           ...   \n",
       "146        DeepSeek-R1              NaN  2025-01-20           NaN   \n",
       "147        DeepSeek-V3              NaN  2024-12-26           NaN   \n",
       "148        DeepSeek-V3              NaN  2024-12-26           NaN   \n",
       "149        Llama 2-70B              NaN  2023-12-01           NaN   \n",
       "150        Llama 2-70B              NaN  2023-12-01           NaN   \n",
       "\n",
       "    Organization (model developer) Organization (API vendor)  \\\n",
       "15                       Anthropic                 Anthropic   \n",
       "16                       Anthropic                 Anthropic   \n",
       "17                       Anthropic                 Anthropic   \n",
       "18                       Anthropic                 Anthropic   \n",
       "19                       Anthropic                 Anthropic   \n",
       "..                             ...                       ...   \n",
       "146                       DeepSeek                  DeepSeek   \n",
       "147                       DeepSeek                  DeepSeek   \n",
       "148                       DeepSeek                  DeepSeek   \n",
       "149                        Meta AI                 DeepInfra   \n",
       "150                        Meta AI                 DeepInfra   \n",
       "\n",
       "     Context Window Tokens                                Archived price link  \\\n",
       "15                     NaN                           https://archive.is/5C8WA   \n",
       "16                     NaN                           https://archive.is/5C8WA   \n",
       "17                     NaN                           https://archive.is/5C8WA   \n",
       "18                     NaN                           https://archive.is/5C8WA   \n",
       "19                     NaN                           https://archive.is/5C8WA   \n",
       "..                     ...                                                ...   \n",
       "146                    NaN  https://web.archive.org/web/20250130084330/htt...   \n",
       "147                    NaN  https://web.archive.org/web/20250131235106/htt...   \n",
       "148                    NaN  https://web.archive.org/web/20250131235106/htt...   \n",
       "149                    NaN  https://web.archive.org/web/20231201234723/htt...   \n",
       "150                    NaN  https://web.archive.org/web/20231201234723/htt...   \n",
       "\n",
       "    Tags                                              Notes     Last Modified  \\\n",
       "15   NaN                                                NaN  8/13/2024 1:37pm   \n",
       "16   NaN                                                NaN  8/13/2024 1:37pm   \n",
       "17   NaN                                                NaN  8/13/2024 1:37pm   \n",
       "18   NaN                                                NaN  8/13/2024 1:37pm   \n",
       "19   NaN                                                NaN  12/7/2024 6:47pm   \n",
       "..   ...                                                ...               ...   \n",
       "146  NaN                                                NaN   2/3/2025 4:05pm   \n",
       "147  NaN  Non cached price (cache miss). They have a tem...   2/3/2025 4:08pm   \n",
       "148  NaN  They have a temporary promotional sale price. ...   2/3/2025 4:08pm   \n",
       "149  NaN                                                NaN   2/3/2025 4:32pm   \n",
       "150  NaN                                                NaN   2/3/2025 4:58pm   \n",
       "\n",
       "    Price sheet document     Created By  \n",
       "15                   NaN    Robi Rahman  \n",
       "16                   NaN  James Sanders  \n",
       "17                   NaN  James Sanders  \n",
       "18                   NaN  James Sanders  \n",
       "19                   NaN  James Sanders  \n",
       "..                   ...            ...  \n",
       "146                  NaN  James Sanders  \n",
       "147                  NaN  James Sanders  \n",
       "148                  NaN  James Sanders  \n",
       "149                  NaN  James Sanders  \n",
       "150                  NaN  James Sanders  \n",
       "\n",
       "[74 rows x 16 columns]"
      ]
     },
     "execution_count": 10,
     "metadata": {},
     "output_type": "execute_result"
    }
   ],
   "source": [
    "price_data_not_in_aa = api_price_df[api_price_df['Model'].isin(epoch_models_not_in_aa)]\n",
    "price_data_not_in_aa\n"
   ]
  },
  {
   "cell_type": "code",
   "execution_count": 40,
   "metadata": {},
   "outputs": [
    {
     "name": "stdout",
     "output_type": "stream",
     "text": [
      "Claude 2 (2024-08-12)\n",
      "  Anthropic\n",
      "    $/1M input tokens: $8.00000. On: 2024-08-12\n",
      "    $/1M output tokens: $24.00000. On: 2024-08-12\n",
      "  Weighted average price: $12.00\n",
      "\n",
      "Claude 2.1 (2024-08-12)\n",
      "  Anthropic\n",
      "    $/1M input tokens: $8.00000. On: 2024-08-12\n",
      "    $/1M output tokens: $24.00000. On: 2024-08-12\n",
      "  Weighted average price: $12.00\n",
      "\n",
      "Claude 3 Haiku (2024-08-12)\n",
      "  Anthropic\n",
      "    $/1M input tokens: $0.25000. On: 2024-08-12\n",
      "    $/1M output tokens: $1.25000. On: 2024-08-12\n",
      "  Weighted average price: $0.50\n",
      "\n",
      "Claude 3 Opus (2024-08-12)\n",
      "  Anthropic\n",
      "    $/1M input tokens: $15.00000. On: 2024-08-12\n",
      "    $/1M output tokens: $75.00000. On: 2024-08-12\n",
      "  Weighted average price: $30.00\n",
      "\n",
      "Claude 3 Sonnet (2024-08-12)\n",
      "  Anthropic\n",
      "    $/1M input tokens: $3.00000. On: 2024-08-12\n",
      "    $/1M output tokens: $15.00000. On: 2024-08-12\n",
      "  Weighted average price: $6.00\n",
      "\n",
      "Claude 3.5 Haiku (2024-11-04)\n",
      "\n",
      "Claude 3.5 Sonnet (2024-08-12)\n",
      "  Anthropic\n",
      "    $/1M input tokens: $3.00000. On: 2024-08-12\n",
      "    $/1M output tokens: $15.00000. On: 2024-08-12\n",
      "  Weighted average price: $6.00\n",
      "\n",
      "Claude 3.5 Sonnet (2024-09-10)\n",
      "  Google\n",
      "    $/1M input tokens: $3.00000. On: 2024-09-10\n",
      "  No price data available\n",
      "\n",
      "Claude Instant (2024-08-12)\n",
      "  Anthropic\n",
      "    $/1M input tokens: $0.80000. On: 2024-08-12\n",
      "    $/1M output tokens: $2.40000. On: 2024-08-12\n",
      "  Weighted average price: $1.20\n",
      "\n",
      "Cohere Command (2024-08-13)\n",
      "  Amazon\n",
      "    $/1M input tokens: $1.50000. On: 2024-08-13\n",
      "    $/1M output tokens: $2.00000. On: 2024-08-13\n",
      "  Weighted average price: $1.62\n",
      "\n",
      "Cohere Command Light (2024-08-13)\n",
      "  Amazon\n",
      "    $/1M input tokens: $0.30000. On: 2024-08-13\n",
      "    $/1M output tokens: $0.60000. On: 2024-08-13\n",
      "  Weighted average price: $0.38\n",
      "\n",
      "Command R (2024-08-13)\n",
      "  Amazon\n",
      "    $/1M input tokens: $0.50000. On: 2024-08-13\n",
      "    $/1M output tokens: $1.50000. On: 2024-08-13\n",
      "  Weighted average price: $0.75\n",
      "\n",
      "Command R+ (2024-08-13)\n",
      "  Amazon\n",
      "    $/1M input tokens: $3.00000. On: 2024-08-13\n",
      "    $/1M output tokens: $15.00000. On: 2024-08-13\n",
      "  Weighted average price: $6.00\n",
      "\n",
      "Command R+ (2024-09-13)\n",
      "  Cohere\n",
      "    $/1M input tokens: $2.50000. On: 2024-09-13\n",
      "  No price data available\n",
      "\n",
      "DeepSeek-Coder-V2 236B (2024-09-11)\n",
      "  DeepSeek\n",
      "    $/1M input tokens: $0.14000. On: 2024-09-11\n",
      "  No price data available\n",
      "\n",
      "DeepSeek-R1 (2025-01-20)\n",
      "  DeepSeek\n",
      "    $/1M input tokens: $0.55000. On: 2025-01-20\n",
      "    $/1M output tokens: $2.19000. On: 2025-01-20\n",
      "  Weighted average price: $0.96\n",
      "\n",
      "DeepSeek-V3 (2024-12-26)\n",
      "  DeepSeek\n",
      "    $/1M input tokens: $0.27000. On: 2024-12-26\n",
      "    $/1M output tokens: $1.10000. On: 2024-12-26\n",
      "  Weighted average price: $0.48\n",
      "\n",
      "GPT-3.5 Turbo (2023-06-13)\n",
      "  OpenAI\n",
      "    $/1M input tokens: $1.50000. On: 2023-06-13\n",
      "    $/1M output tokens: $2.00000. On: 2023-06-13\n",
      "    $/1M input tokens: $3.00000. On: 2023-06-13\n",
      "    $/1M output tokens: $4.00000. On: 2023-06-13\n",
      "  Weighted average price: $3.25\n",
      "\n",
      "GPT-3.5 Turbo (2023-11-06)\n",
      "  OpenAI\n",
      "    $/1M input tokens: $1.00000. On: 2023-11-06\n",
      "    $/1M output tokens: $2.00000. On: 2023-11-06\n",
      "  Weighted average price: $1.25\n",
      "\n",
      "GPT-3.5 Turbo (2024-01-25)\n",
      "  OpenAI\n",
      "    $/1M input tokens: $0.50000. On: 2024-01-25\n",
      "    $/1M output tokens: $1.50000. On: 2024-01-25\n",
      "  Weighted average price: $0.75\n",
      "\n",
      "Gemini 1.0 Pro (2024-08-12)\n",
      "  Google\n",
      "    $/1M input tokens: $0.50000. On: 2024-08-12\n",
      "    $/1M output tokens: $1.50000. On: 2024-08-12\n",
      "  Weighted average price: $0.75\n",
      "\n",
      "Jamba (2024-09-12)\n",
      "  AI21 Labs\n",
      "    $/1M input tokens: $2.00000. On: 2024-09-12\n",
      "  No price data available\n",
      "\n",
      "Llama 2-70B (2023-12-01)\n",
      "  DeepInfra\n",
      "    $/1M input tokens: $0.70000. On: 2023-12-01\n",
      "    $/1M output tokens: $0.95000. On: 2023-12-01\n",
      "  Weighted average price: $0.76\n",
      "\n",
      "Llama 3-8B (2024-09-01)\n",
      "  Groq\n",
      "    $/1M input tokens: $0.05000. On: 2024-09-01\n",
      "  No price data available\n",
      "\n",
      "Llama 3.1-405B (2024-08-18)\n",
      "  DeepInfra\n",
      "    $/1M input tokens: $2.70000. On: 2024-08-18\n",
      "    $/1M output tokens: $2.70000. On: 2024-08-18\n",
      "  Weighted average price: $2.70\n",
      "  Fireworks AI\n",
      "    $/1M input tokens: $3.00000. On: 2024-08-18\n",
      "    $/1M output tokens: $3.00000. On: 2024-08-18\n",
      "  Weighted average price: $3.00\n",
      "\n",
      "Llama 3.1-405B (2024-08-22)\n",
      "  Databricks\n",
      "    $/1M input tokens: $5.00000. On: 2024-08-22\n",
      "  No price data available\n",
      "  OctoAI\n",
      "    $/1M input tokens: $3.00000. On: 2024-08-22\n",
      "  No price data available\n",
      "\n",
      "Llama 3.1-405B (2024-08-24)\n",
      "  Together\n",
      "    $/1M input tokens: $5.00000. On: 2024-08-24\n",
      "  No price data available\n",
      "\n",
      "Llama 3.1-405B (2024-09-05)\n",
      "  Fireworks AI\n",
      "    $/1M input tokens: $3.00000. On: 2024-09-05\n",
      "  No price data available\n",
      "\n",
      "Llama 3.1-405B (2024-09-13)\n",
      "  Lepton AI\n",
      "    $/1M input tokens: $2.80000. On: 2024-09-13\n",
      "  No price data available\n",
      "\n",
      "Llama 3.1-70B (2024-08-24)\n",
      "  DeepInfra\n",
      "    $/1M input tokens: $0.05500. On: 2024-08-24\n",
      "  No price data available\n",
      "\n",
      "Llama 3.1-70B (2024-08-27)\n",
      "  Cerebras Systems\n",
      "    $/1M input tokens: $0.60000. On: 2024-08-27\n",
      "  No price data available\n",
      "\n",
      "Llama 3.1-70B (2024-09-14)\n",
      "  Perplexity\n",
      "    $/1M input tokens: $1.00000. On: 2024-09-14\n",
      "  No price data available\n",
      "  Replicate\n",
      "    $/1M input tokens: $0.65000. On: 2024-09-14\n",
      "  No price data available\n",
      "\n",
      "Ministral 3B (2024-10-16)\n",
      "\n",
      "Ministral 8B (2024-10-16)\n",
      "\n",
      "Mistral 7B (2024-09-14)\n",
      "  Mistral AI\n",
      "    $/1M input tokens: $0.25000. On: 2024-09-14\n",
      "  No price data available\n",
      "\n",
      "Reka Core (2024-09-14)\n",
      "  Reka AI\n",
      "    $/1M input tokens: $2.00000. On: 2024-09-14\n",
      "  No price data available\n",
      "\n",
      "o1 (2024-12-17)\n",
      "  OpenAI\n",
      "    $/1M input tokens: $15.00000. On: 2024-12-17\n",
      "    $/1M output tokens: $60.00000. On: 2024-12-17\n",
      "  Weighted average price: $26.25\n",
      "\n",
      "o1-mini (2024-09-12)\n",
      "  OpenAI\n",
      "    $/1M input tokens: $3.00000. On: 2024-09-12\n",
      "    $/1M output tokens: $12.00000. On: 2024-09-12\n",
      "  Weighted average price: $5.25\n",
      "\n",
      "o1-mini (2025-01-31)\n",
      "  OpenAI\n",
      "    $/1M input tokens: $1.10000. On: 2025-01-31\n",
      "    $/1M output tokens: $4.40000. On: 2025-01-31\n",
      "  Weighted average price: $1.93\n",
      "\n",
      "o1-preview (2024-09-12)\n",
      "  OpenAI\n",
      "    $/1M input tokens: $15.00000. On: 2024-09-12\n",
      "    $/1M output tokens: $60.00000. On: 2024-09-12\n",
      "  Weighted average price: $26.25\n",
      "\n",
      "o3-mini (2025-01-31)\n",
      "  OpenAI\n",
      "    $/1M input tokens: $1.10000. On: 2025-01-31\n",
      "    $/1M output tokens: $4.40000. On: 2025-01-31\n",
      "  Weighted average price: $1.93\n",
      "\n"
     ]
    }
   ],
   "source": [
    "# Group by 'Model' and 'Model Version', print all prices\n",
    "overall_prices = []\n",
    "for (model, price_date), data in price_data_not_in_aa.groupby(['Model', 'Price date']):\n",
    "    print(f'{model} ({price_date})')\n",
    "    vendor_prices = {}\n",
    "    for vendor, vendor_data in data.groupby('Organization (API vendor)'):\n",
    "        input_price = None\n",
    "        output_price = None\n",
    "        print(f'  {vendor}')\n",
    "        for index, row in vendor_data.iterrows():\n",
    "            print(f'    {row[\"Price Unit\"]}: {row[\"Price\"]}. On: {row[\"Price date\"]}')\n",
    "            if row['Price Unit'] == '$/1M input tokens':\n",
    "                input_price = float(row['Price'].replace('$', ''))\n",
    "            else:\n",
    "                output_price = float(row['Price'].replace('$', ''))\n",
    "        if input_price is not None and output_price is not None:\n",
    "            wavg_price = input_price * 0.75 + output_price * 0.25\n",
    "            vendor_prices[vendor] = wavg_price\n",
    "            print(f'  Weighted average price: ${wavg_price:.2f}')\n",
    "        else:\n",
    "            print('  No price data available')\n",
    "    if len(vendor_prices) > 0:\n",
    "        overall_prices.append({\n",
    "            'Model Name': model,\n",
    "            'Release Date': price_date,\n",
    "            'USD per 1M Tokens': np.median(list(vendor_prices.values())),\n",
    "        })\n",
    "    print()"
   ]
  },
  {
   "cell_type": "code",
   "execution_count": 41,
   "metadata": {},
   "outputs": [
    {
     "data": {
      "text/html": [
       "<div>\n",
       "<style scoped>\n",
       "    .dataframe tbody tr th:only-of-type {\n",
       "        vertical-align: middle;\n",
       "    }\n",
       "\n",
       "    .dataframe tbody tr th {\n",
       "        vertical-align: top;\n",
       "    }\n",
       "\n",
       "    .dataframe thead th {\n",
       "        text-align: right;\n",
       "    }\n",
       "</style>\n",
       "<table border=\"1\" class=\"dataframe\">\n",
       "  <thead>\n",
       "    <tr style=\"text-align: right;\">\n",
       "      <th></th>\n",
       "      <th>Model Name</th>\n",
       "      <th>Release Date</th>\n",
       "      <th>USD per 1M Tokens</th>\n",
       "    </tr>\n",
       "  </thead>\n",
       "  <tbody>\n",
       "    <tr>\n",
       "      <th>0</th>\n",
       "      <td>Claude 2</td>\n",
       "      <td>2024-08-12</td>\n",
       "      <td>12.0000</td>\n",
       "    </tr>\n",
       "    <tr>\n",
       "      <th>1</th>\n",
       "      <td>Claude 2.1</td>\n",
       "      <td>2024-08-12</td>\n",
       "      <td>12.0000</td>\n",
       "    </tr>\n",
       "    <tr>\n",
       "      <th>2</th>\n",
       "      <td>Claude 3 Haiku</td>\n",
       "      <td>2024-08-12</td>\n",
       "      <td>0.5000</td>\n",
       "    </tr>\n",
       "    <tr>\n",
       "      <th>3</th>\n",
       "      <td>Claude 3 Opus</td>\n",
       "      <td>2024-08-12</td>\n",
       "      <td>30.0000</td>\n",
       "    </tr>\n",
       "    <tr>\n",
       "      <th>4</th>\n",
       "      <td>Claude 3 Sonnet</td>\n",
       "      <td>2024-08-12</td>\n",
       "      <td>6.0000</td>\n",
       "    </tr>\n",
       "    <tr>\n",
       "      <th>5</th>\n",
       "      <td>Claude 3.5 Sonnet</td>\n",
       "      <td>2024-08-12</td>\n",
       "      <td>6.0000</td>\n",
       "    </tr>\n",
       "    <tr>\n",
       "      <th>6</th>\n",
       "      <td>Claude Instant</td>\n",
       "      <td>2024-08-12</td>\n",
       "      <td>1.2000</td>\n",
       "    </tr>\n",
       "    <tr>\n",
       "      <th>7</th>\n",
       "      <td>Cohere Command</td>\n",
       "      <td>2024-08-13</td>\n",
       "      <td>1.6250</td>\n",
       "    </tr>\n",
       "    <tr>\n",
       "      <th>8</th>\n",
       "      <td>Cohere Command Light</td>\n",
       "      <td>2024-08-13</td>\n",
       "      <td>0.3750</td>\n",
       "    </tr>\n",
       "    <tr>\n",
       "      <th>9</th>\n",
       "      <td>Command R</td>\n",
       "      <td>2024-08-13</td>\n",
       "      <td>0.7500</td>\n",
       "    </tr>\n",
       "    <tr>\n",
       "      <th>10</th>\n",
       "      <td>Command R+</td>\n",
       "      <td>2024-08-13</td>\n",
       "      <td>6.0000</td>\n",
       "    </tr>\n",
       "    <tr>\n",
       "      <th>11</th>\n",
       "      <td>DeepSeek-R1</td>\n",
       "      <td>2025-01-20</td>\n",
       "      <td>0.9600</td>\n",
       "    </tr>\n",
       "    <tr>\n",
       "      <th>12</th>\n",
       "      <td>DeepSeek-V3</td>\n",
       "      <td>2024-12-26</td>\n",
       "      <td>0.4775</td>\n",
       "    </tr>\n",
       "    <tr>\n",
       "      <th>13</th>\n",
       "      <td>GPT-3.5 Turbo</td>\n",
       "      <td>2023-06-13</td>\n",
       "      <td>3.2500</td>\n",
       "    </tr>\n",
       "    <tr>\n",
       "      <th>14</th>\n",
       "      <td>GPT-3.5 Turbo</td>\n",
       "      <td>2023-11-06</td>\n",
       "      <td>1.2500</td>\n",
       "    </tr>\n",
       "    <tr>\n",
       "      <th>15</th>\n",
       "      <td>GPT-3.5 Turbo</td>\n",
       "      <td>2024-01-25</td>\n",
       "      <td>0.7500</td>\n",
       "    </tr>\n",
       "    <tr>\n",
       "      <th>16</th>\n",
       "      <td>Gemini 1.0 Pro</td>\n",
       "      <td>2024-08-12</td>\n",
       "      <td>0.7500</td>\n",
       "    </tr>\n",
       "    <tr>\n",
       "      <th>17</th>\n",
       "      <td>Llama 2-70B</td>\n",
       "      <td>2023-12-01</td>\n",
       "      <td>0.7625</td>\n",
       "    </tr>\n",
       "    <tr>\n",
       "      <th>18</th>\n",
       "      <td>Llama 3.1-405B</td>\n",
       "      <td>2024-08-18</td>\n",
       "      <td>2.8500</td>\n",
       "    </tr>\n",
       "    <tr>\n",
       "      <th>19</th>\n",
       "      <td>o1</td>\n",
       "      <td>2024-12-17</td>\n",
       "      <td>26.2500</td>\n",
       "    </tr>\n",
       "    <tr>\n",
       "      <th>20</th>\n",
       "      <td>o1-mini</td>\n",
       "      <td>2024-09-12</td>\n",
       "      <td>5.2500</td>\n",
       "    </tr>\n",
       "    <tr>\n",
       "      <th>21</th>\n",
       "      <td>o1-mini</td>\n",
       "      <td>2025-01-31</td>\n",
       "      <td>1.9250</td>\n",
       "    </tr>\n",
       "    <tr>\n",
       "      <th>22</th>\n",
       "      <td>o1-preview</td>\n",
       "      <td>2024-09-12</td>\n",
       "      <td>26.2500</td>\n",
       "    </tr>\n",
       "    <tr>\n",
       "      <th>23</th>\n",
       "      <td>o3-mini</td>\n",
       "      <td>2025-01-31</td>\n",
       "      <td>1.9250</td>\n",
       "    </tr>\n",
       "  </tbody>\n",
       "</table>\n",
       "</div>"
      ],
      "text/plain": [
       "              Model Name Release Date  USD per 1M Tokens\n",
       "0               Claude 2   2024-08-12            12.0000\n",
       "1             Claude 2.1   2024-08-12            12.0000\n",
       "2         Claude 3 Haiku   2024-08-12             0.5000\n",
       "3          Claude 3 Opus   2024-08-12            30.0000\n",
       "4        Claude 3 Sonnet   2024-08-12             6.0000\n",
       "5      Claude 3.5 Sonnet   2024-08-12             6.0000\n",
       "6         Claude Instant   2024-08-12             1.2000\n",
       "7         Cohere Command   2024-08-13             1.6250\n",
       "8   Cohere Command Light   2024-08-13             0.3750\n",
       "9              Command R   2024-08-13             0.7500\n",
       "10            Command R+   2024-08-13             6.0000\n",
       "11           DeepSeek-R1   2025-01-20             0.9600\n",
       "12           DeepSeek-V3   2024-12-26             0.4775\n",
       "13         GPT-3.5 Turbo   2023-06-13             3.2500\n",
       "14         GPT-3.5 Turbo   2023-11-06             1.2500\n",
       "15         GPT-3.5 Turbo   2024-01-25             0.7500\n",
       "16        Gemini 1.0 Pro   2024-08-12             0.7500\n",
       "17           Llama 2-70B   2023-12-01             0.7625\n",
       "18        Llama 3.1-405B   2024-08-18             2.8500\n",
       "19                    o1   2024-12-17            26.2500\n",
       "20               o1-mini   2024-09-12             5.2500\n",
       "21               o1-mini   2025-01-31             1.9250\n",
       "22            o1-preview   2024-09-12            26.2500\n",
       "23               o3-mini   2025-01-31             1.9250"
      ]
     },
     "execution_count": 41,
     "metadata": {},
     "output_type": "execute_result"
    }
   ],
   "source": [
    "overall_prices_df = pd.DataFrame(overall_prices)\n",
    "overall_prices_df.to_csv('data/epoch_ai_price_data_not_in_aa.csv', index=False)\n",
    "overall_prices_df"
   ]
  },
  {
   "cell_type": "markdown",
   "metadata": {},
   "source": [
    "## Explore the data"
   ]
  },
  {
   "cell_type": "code",
   "execution_count": 5,
   "metadata": {},
   "outputs": [],
   "source": [
    "# 'Release Date' is a string with the format 'YYYY-MM'\n",
    "aa_df['Release Date'] = pd.to_datetime(aa_df['Release Date'].str.strip(), format='%Y-%m')"
   ]
  },
  {
   "cell_type": "code",
   "execution_count": 6,
   "metadata": {},
   "outputs": [
    {
     "data": {
      "application/vnd.plotly.v1+json": {
       "config": {
        "plotlyServerURL": "https://plot.ly"
       },
       "data": [
        {
         "hovertemplate": "MMLU=%{x}<br>USD per 1M Tokens=%{y}<extra></extra>",
         "legendgroup": "",
         "marker": {
          "color": "#636efa",
          "symbol": "circle"
         },
         "mode": "markers",
         "name": "",
         "orientation": "v",
         "showlegend": false,
         "type": "scatter",
         "x": [
          71,
          84,
          77,
          81,
          88,
          89,
          79,
          75,
          75,
          86,
          86,
          77,
          73,
          68,
          86,
          87,
          87,
          89,
          86,
          82,
          45,
          13,
          79,
          64,
          87,
          84,
          71,
          35,
          64,
          76,
          85,
          85,
          69,
          66,
          69
         ],
         "xaxis": "x",
         "y": [
          0.5,
          30,
          6,
          1.6,
          6,
          6,
          0.13,
          0.13,
          0.07,
          2.19,
          2.19,
          0.26,
          0.13,
          0.75,
          37.5,
          15,
          7.5,
          4.38,
          4.38,
          0.26,
          0.56,
          0.33,
          0.89,
          0.15,
          3.5,
          0.72,
          0.1,
          0.05,
          0.08,
          1.2,
          3,
          3,
          6,
          0.13,
          1.5
         ],
         "yaxis": "y"
        }
       ],
       "layout": {
        "legend": {
         "tracegroupgap": 0
        },
        "template": {
         "data": {
          "bar": [
           {
            "error_x": {
             "color": "#2a3f5f"
            },
            "error_y": {
             "color": "#2a3f5f"
            },
            "marker": {
             "line": {
              "color": "white",
              "width": 0.5
             },
             "pattern": {
              "fillmode": "overlay",
              "size": 10,
              "solidity": 0.2
             }
            },
            "type": "bar"
           }
          ],
          "barpolar": [
           {
            "marker": {
             "line": {
              "color": "white",
              "width": 0.5
             },
             "pattern": {
              "fillmode": "overlay",
              "size": 10,
              "solidity": 0.2
             }
            },
            "type": "barpolar"
           }
          ],
          "carpet": [
           {
            "aaxis": {
             "endlinecolor": "#2a3f5f",
             "gridcolor": "#C8D4E3",
             "linecolor": "#C8D4E3",
             "minorgridcolor": "#C8D4E3",
             "startlinecolor": "#2a3f5f"
            },
            "baxis": {
             "endlinecolor": "#2a3f5f",
             "gridcolor": "#C8D4E3",
             "linecolor": "#C8D4E3",
             "minorgridcolor": "#C8D4E3",
             "startlinecolor": "#2a3f5f"
            },
            "type": "carpet"
           }
          ],
          "choropleth": [
           {
            "colorbar": {
             "outlinewidth": 0,
             "ticks": ""
            },
            "type": "choropleth"
           }
          ],
          "contour": [
           {
            "colorbar": {
             "outlinewidth": 0,
             "ticks": ""
            },
            "colorscale": [
             [
              0,
              "#0d0887"
             ],
             [
              0.1111111111111111,
              "#46039f"
             ],
             [
              0.2222222222222222,
              "#7201a8"
             ],
             [
              0.3333333333333333,
              "#9c179e"
             ],
             [
              0.4444444444444444,
              "#bd3786"
             ],
             [
              0.5555555555555556,
              "#d8576b"
             ],
             [
              0.6666666666666666,
              "#ed7953"
             ],
             [
              0.7777777777777778,
              "#fb9f3a"
             ],
             [
              0.8888888888888888,
              "#fdca26"
             ],
             [
              1,
              "#f0f921"
             ]
            ],
            "type": "contour"
           }
          ],
          "contourcarpet": [
           {
            "colorbar": {
             "outlinewidth": 0,
             "ticks": ""
            },
            "type": "contourcarpet"
           }
          ],
          "heatmap": [
           {
            "colorbar": {
             "outlinewidth": 0,
             "ticks": ""
            },
            "colorscale": [
             [
              0,
              "#0d0887"
             ],
             [
              0.1111111111111111,
              "#46039f"
             ],
             [
              0.2222222222222222,
              "#7201a8"
             ],
             [
              0.3333333333333333,
              "#9c179e"
             ],
             [
              0.4444444444444444,
              "#bd3786"
             ],
             [
              0.5555555555555556,
              "#d8576b"
             ],
             [
              0.6666666666666666,
              "#ed7953"
             ],
             [
              0.7777777777777778,
              "#fb9f3a"
             ],
             [
              0.8888888888888888,
              "#fdca26"
             ],
             [
              1,
              "#f0f921"
             ]
            ],
            "type": "heatmap"
           }
          ],
          "heatmapgl": [
           {
            "colorbar": {
             "outlinewidth": 0,
             "ticks": ""
            },
            "colorscale": [
             [
              0,
              "#0d0887"
             ],
             [
              0.1111111111111111,
              "#46039f"
             ],
             [
              0.2222222222222222,
              "#7201a8"
             ],
             [
              0.3333333333333333,
              "#9c179e"
             ],
             [
              0.4444444444444444,
              "#bd3786"
             ],
             [
              0.5555555555555556,
              "#d8576b"
             ],
             [
              0.6666666666666666,
              "#ed7953"
             ],
             [
              0.7777777777777778,
              "#fb9f3a"
             ],
             [
              0.8888888888888888,
              "#fdca26"
             ],
             [
              1,
              "#f0f921"
             ]
            ],
            "type": "heatmapgl"
           }
          ],
          "histogram": [
           {
            "marker": {
             "pattern": {
              "fillmode": "overlay",
              "size": 10,
              "solidity": 0.2
             }
            },
            "type": "histogram"
           }
          ],
          "histogram2d": [
           {
            "colorbar": {
             "outlinewidth": 0,
             "ticks": ""
            },
            "colorscale": [
             [
              0,
              "#0d0887"
             ],
             [
              0.1111111111111111,
              "#46039f"
             ],
             [
              0.2222222222222222,
              "#7201a8"
             ],
             [
              0.3333333333333333,
              "#9c179e"
             ],
             [
              0.4444444444444444,
              "#bd3786"
             ],
             [
              0.5555555555555556,
              "#d8576b"
             ],
             [
              0.6666666666666666,
              "#ed7953"
             ],
             [
              0.7777777777777778,
              "#fb9f3a"
             ],
             [
              0.8888888888888888,
              "#fdca26"
             ],
             [
              1,
              "#f0f921"
             ]
            ],
            "type": "histogram2d"
           }
          ],
          "histogram2dcontour": [
           {
            "colorbar": {
             "outlinewidth": 0,
             "ticks": ""
            },
            "colorscale": [
             [
              0,
              "#0d0887"
             ],
             [
              0.1111111111111111,
              "#46039f"
             ],
             [
              0.2222222222222222,
              "#7201a8"
             ],
             [
              0.3333333333333333,
              "#9c179e"
             ],
             [
              0.4444444444444444,
              "#bd3786"
             ],
             [
              0.5555555555555556,
              "#d8576b"
             ],
             [
              0.6666666666666666,
              "#ed7953"
             ],
             [
              0.7777777777777778,
              "#fb9f3a"
             ],
             [
              0.8888888888888888,
              "#fdca26"
             ],
             [
              1,
              "#f0f921"
             ]
            ],
            "type": "histogram2dcontour"
           }
          ],
          "mesh3d": [
           {
            "colorbar": {
             "outlinewidth": 0,
             "ticks": ""
            },
            "type": "mesh3d"
           }
          ],
          "parcoords": [
           {
            "line": {
             "colorbar": {
              "outlinewidth": 0,
              "ticks": ""
             }
            },
            "type": "parcoords"
           }
          ],
          "pie": [
           {
            "automargin": true,
            "type": "pie"
           }
          ],
          "scatter": [
           {
            "fillpattern": {
             "fillmode": "overlay",
             "size": 10,
             "solidity": 0.2
            },
            "type": "scatter"
           }
          ],
          "scatter3d": [
           {
            "line": {
             "colorbar": {
              "outlinewidth": 0,
              "ticks": ""
             }
            },
            "marker": {
             "colorbar": {
              "outlinewidth": 0,
              "ticks": ""
             }
            },
            "type": "scatter3d"
           }
          ],
          "scattercarpet": [
           {
            "marker": {
             "colorbar": {
              "outlinewidth": 0,
              "ticks": ""
             }
            },
            "type": "scattercarpet"
           }
          ],
          "scattergeo": [
           {
            "marker": {
             "colorbar": {
              "outlinewidth": 0,
              "ticks": ""
             }
            },
            "type": "scattergeo"
           }
          ],
          "scattergl": [
           {
            "marker": {
             "colorbar": {
              "outlinewidth": 0,
              "ticks": ""
             }
            },
            "type": "scattergl"
           }
          ],
          "scattermapbox": [
           {
            "marker": {
             "colorbar": {
              "outlinewidth": 0,
              "ticks": ""
             }
            },
            "type": "scattermapbox"
           }
          ],
          "scatterpolar": [
           {
            "marker": {
             "colorbar": {
              "outlinewidth": 0,
              "ticks": ""
             }
            },
            "type": "scatterpolar"
           }
          ],
          "scatterpolargl": [
           {
            "marker": {
             "colorbar": {
              "outlinewidth": 0,
              "ticks": ""
             }
            },
            "type": "scatterpolargl"
           }
          ],
          "scatterternary": [
           {
            "marker": {
             "colorbar": {
              "outlinewidth": 0,
              "ticks": ""
             }
            },
            "type": "scatterternary"
           }
          ],
          "surface": [
           {
            "colorbar": {
             "outlinewidth": 0,
             "ticks": ""
            },
            "colorscale": [
             [
              0,
              "#0d0887"
             ],
             [
              0.1111111111111111,
              "#46039f"
             ],
             [
              0.2222222222222222,
              "#7201a8"
             ],
             [
              0.3333333333333333,
              "#9c179e"
             ],
             [
              0.4444444444444444,
              "#bd3786"
             ],
             [
              0.5555555555555556,
              "#d8576b"
             ],
             [
              0.6666666666666666,
              "#ed7953"
             ],
             [
              0.7777777777777778,
              "#fb9f3a"
             ],
             [
              0.8888888888888888,
              "#fdca26"
             ],
             [
              1,
              "#f0f921"
             ]
            ],
            "type": "surface"
           }
          ],
          "table": [
           {
            "cells": {
             "fill": {
              "color": "#EBF0F8"
             },
             "line": {
              "color": "white"
             }
            },
            "header": {
             "fill": {
              "color": "#C8D4E3"
             },
             "line": {
              "color": "white"
             }
            },
            "type": "table"
           }
          ]
         },
         "layout": {
          "annotationdefaults": {
           "arrowcolor": "#2a3f5f",
           "arrowhead": 0,
           "arrowwidth": 1
          },
          "autotypenumbers": "strict",
          "coloraxis": {
           "colorbar": {
            "outlinewidth": 0,
            "ticks": ""
           }
          },
          "colorscale": {
           "diverging": [
            [
             0,
             "#8e0152"
            ],
            [
             0.1,
             "#c51b7d"
            ],
            [
             0.2,
             "#de77ae"
            ],
            [
             0.3,
             "#f1b6da"
            ],
            [
             0.4,
             "#fde0ef"
            ],
            [
             0.5,
             "#f7f7f7"
            ],
            [
             0.6,
             "#e6f5d0"
            ],
            [
             0.7,
             "#b8e186"
            ],
            [
             0.8,
             "#7fbc41"
            ],
            [
             0.9,
             "#4d9221"
            ],
            [
             1,
             "#276419"
            ]
           ],
           "sequential": [
            [
             0,
             "#0d0887"
            ],
            [
             0.1111111111111111,
             "#46039f"
            ],
            [
             0.2222222222222222,
             "#7201a8"
            ],
            [
             0.3333333333333333,
             "#9c179e"
            ],
            [
             0.4444444444444444,
             "#bd3786"
            ],
            [
             0.5555555555555556,
             "#d8576b"
            ],
            [
             0.6666666666666666,
             "#ed7953"
            ],
            [
             0.7777777777777778,
             "#fb9f3a"
            ],
            [
             0.8888888888888888,
             "#fdca26"
            ],
            [
             1,
             "#f0f921"
            ]
           ],
           "sequentialminus": [
            [
             0,
             "#0d0887"
            ],
            [
             0.1111111111111111,
             "#46039f"
            ],
            [
             0.2222222222222222,
             "#7201a8"
            ],
            [
             0.3333333333333333,
             "#9c179e"
            ],
            [
             0.4444444444444444,
             "#bd3786"
            ],
            [
             0.5555555555555556,
             "#d8576b"
            ],
            [
             0.6666666666666666,
             "#ed7953"
            ],
            [
             0.7777777777777778,
             "#fb9f3a"
            ],
            [
             0.8888888888888888,
             "#fdca26"
            ],
            [
             1,
             "#f0f921"
            ]
           ]
          },
          "colorway": [
           "#636efa",
           "#EF553B",
           "#00cc96",
           "#ab63fa",
           "#FFA15A",
           "#19d3f3",
           "#FF6692",
           "#B6E880",
           "#FF97FF",
           "#FECB52"
          ],
          "font": {
           "color": "#2a3f5f"
          },
          "geo": {
           "bgcolor": "white",
           "lakecolor": "white",
           "landcolor": "white",
           "showlakes": true,
           "showland": true,
           "subunitcolor": "#C8D4E3"
          },
          "hoverlabel": {
           "align": "left"
          },
          "hovermode": "closest",
          "mapbox": {
           "style": "light"
          },
          "paper_bgcolor": "white",
          "plot_bgcolor": "white",
          "polar": {
           "angularaxis": {
            "gridcolor": "#EBF0F8",
            "linecolor": "#EBF0F8",
            "ticks": ""
           },
           "bgcolor": "white",
           "radialaxis": {
            "gridcolor": "#EBF0F8",
            "linecolor": "#EBF0F8",
            "ticks": ""
           }
          },
          "scene": {
           "xaxis": {
            "backgroundcolor": "white",
            "gridcolor": "#DFE8F3",
            "gridwidth": 2,
            "linecolor": "#EBF0F8",
            "showbackground": true,
            "ticks": "",
            "zerolinecolor": "#EBF0F8"
           },
           "yaxis": {
            "backgroundcolor": "white",
            "gridcolor": "#DFE8F3",
            "gridwidth": 2,
            "linecolor": "#EBF0F8",
            "showbackground": true,
            "ticks": "",
            "zerolinecolor": "#EBF0F8"
           },
           "zaxis": {
            "backgroundcolor": "white",
            "gridcolor": "#DFE8F3",
            "gridwidth": 2,
            "linecolor": "#EBF0F8",
            "showbackground": true,
            "ticks": "",
            "zerolinecolor": "#EBF0F8"
           }
          },
          "shapedefaults": {
           "line": {
            "color": "#2a3f5f"
           }
          },
          "ternary": {
           "aaxis": {
            "gridcolor": "#DFE8F3",
            "linecolor": "#A2B1C6",
            "ticks": ""
           },
           "baxis": {
            "gridcolor": "#DFE8F3",
            "linecolor": "#A2B1C6",
            "ticks": ""
           },
           "bgcolor": "white",
           "caxis": {
            "gridcolor": "#DFE8F3",
            "linecolor": "#A2B1C6",
            "ticks": ""
           }
          },
          "title": {
           "x": 0.05
          },
          "xaxis": {
           "automargin": true,
           "gridcolor": "#EBF0F8",
           "linecolor": "#EBF0F8",
           "ticks": "",
           "title": {
            "standoff": 15
           },
           "zerolinecolor": "#EBF0F8",
           "zerolinewidth": 2
          },
          "yaxis": {
           "automargin": true,
           "gridcolor": "#EBF0F8",
           "linecolor": "#EBF0F8",
           "ticks": "",
           "title": {
            "standoff": 15
           },
           "zerolinecolor": "#EBF0F8",
           "zerolinewidth": 2
          }
         }
        },
        "title": {
         "text": "MMLU vs. USD per 1M Tokens"
        },
        "xaxis": {
         "anchor": "y",
         "domain": [
          0,
          1
         ],
         "title": {
          "text": "MMLU"
         }
        },
        "yaxis": {
         "anchor": "x",
         "domain": [
          0,
          1
         ],
         "title": {
          "text": "USD per 1M Tokens"
         },
         "type": "log"
        }
       }
      }
     },
     "metadata": {},
     "output_type": "display_data"
    }
   ],
   "source": [
    "# Plot 'MMLU' vs. 'USD per 1M Tokens'\n",
    "fig = px.scatter(aa_df, x='MMLU', y='USD per 1M Tokens', title='MMLU vs. USD per 1M Tokens')\n",
    "fig.update_layout(yaxis_type='log')\n",
    "fig.show()\n"
   ]
  },
  {
   "cell_type": "code",
   "execution_count": 7,
   "metadata": {},
   "outputs": [
    {
     "data": {
      "application/vnd.plotly.v1+json": {
       "config": {
        "plotlyServerURL": "https://plot.ly"
       },
       "data": [
        {
         "customdata": [
          [
           "Claude-3-Haiku"
          ],
          [
           "Claude-3-Opus"
          ],
          [
           "Claude-3-Sonnet"
          ],
          [
           "Claude-3.5-Haiku"
          ],
          [
           "Claude-3.5-Sonnet-2024-06"
          ],
          [
           "Claude-3.5-Sonnet-2024-10"
          ],
          [
           "Gemini-1.5-Flash-2024-05"
          ],
          [
           "Gemini-1.5-Flash-2024-09"
          ],
          [
           "Gemini-1.5-Flash-8B"
          ],
          [
           "Gemini-1.5-Pro-2024-05"
          ],
          [
           "Gemini-1.5-Pro-2024-09"
          ],
          [
           "Gemma-2-27B"
          ],
          [
           "Gemma-2-9B"
          ],
          [
           "GPT-3.5 Turbo"
          ],
          [
           "GPT-4"
          ],
          [
           "GPT-4 Turbo"
          ],
          [
           "GPT-4o-2024-05"
          ],
          [
           "GPT-4o-2024-08"
          ],
          [
           "GPT-4o-2024-11"
          ],
          [
           "GPT-4o-mini"
          ],
          [
           "Llama-2-Chat-13B"
          ],
          [
           "Llama-2-Chat-7B"
          ],
          [
           "Llama-3-Instruct-70B"
          ],
          [
           "Llama-3-Instruct-8B"
          ],
          [
           "Llama-3.1-Instruct-405B"
          ],
          [
           "Llama-3.1-Instruct-70B"
          ],
          [
           "Llama-3.1-Instruct-8B"
          ],
          [
           "Llama-3.2-Instruct-1B"
          ],
          [
           "Llama-3.2-Instruct-3B"
          ],
          [
           "Mistral-8x22"
          ],
          [
           "Mistral-Large-2-2024-06"
          ],
          [
           "Mistral-Large-2-2024-11"
          ],
          [
           "Mistral-Large-2024-02"
          ],
          [
           "Mistral-NeMo"
          ],
          [
           "Mistral-Small-2024-02"
          ]
         ],
         "hovertemplate": "Release Date=%{x}<br>MMLU price-performance=%{y}<br>Model Name=%{customdata[0]}<extra></extra>",
         "legendgroup": "",
         "marker": {
          "color": "#636efa",
          "symbol": "circle"
         },
         "mode": "markers",
         "name": "",
         "orientation": "v",
         "showlegend": false,
         "type": "scatter",
         "x": [
          "2024-03-01T00:00:00",
          "2024-03-01T00:00:00",
          "2024-03-01T00:00:00",
          "2024-06-01T00:00:00",
          "2024-06-01T00:00:00",
          "2024-10-01T00:00:00",
          "2024-05-01T00:00:00",
          "2024-09-01T00:00:00",
          "2024-10-01T00:00:00",
          "2024-05-01T00:00:00",
          "2024-09-01T00:00:00",
          "2024-06-01T00:00:00",
          "2024-06-01T00:00:00",
          "2023-11-01T00:00:00",
          "2023-03-01T00:00:00",
          "2023-11-01T00:00:00",
          "2024-05-01T00:00:00",
          "2024-08-01T00:00:00",
          "2024-11-01T00:00:00",
          "2024-07-01T00:00:00",
          "2023-07-01T00:00:00",
          "2023-07-01T00:00:00",
          "2024-04-01T00:00:00",
          "2024-04-01T00:00:00",
          "2024-07-01T00:00:00",
          "2024-07-01T00:00:00",
          "2024-07-01T00:00:00",
          "2024-09-01T00:00:00",
          "2024-09-01T00:00:00",
          "2024-04-01T00:00:00",
          "2024-06-01T00:00:00",
          "2024-11-01T00:00:00",
          "2024-02-01T00:00:00",
          "2024-06-01T00:00:00",
          "2024-02-01T00:00:00"
         ],
         "xaxis": "x",
         "y": [
          142,
          2.8,
          12.833333333333334,
          50.625,
          14.666666666666666,
          14.833333333333334,
          607.6923076923076,
          576.9230769230769,
          1071.4285714285713,
          39.269406392694066,
          39.269406392694066,
          296.15384615384613,
          561.5384615384615,
          90.66666666666667,
          2.2933333333333334,
          5.8,
          11.6,
          20.319634703196346,
          19.634703196347033,
          315.38461538461536,
          80.35714285714285,
          39.39393939393939,
          88.76404494382022,
          426.6666666666667,
          24.857142857142858,
          116.66666666666667,
          710,
          700,
          800,
          63.333333333333336,
          28.333333333333332,
          28.333333333333332,
          11.5,
          507.6923076923077,
          46
         ],
         "yaxis": "y"
        }
       ],
       "layout": {
        "legend": {
         "tracegroupgap": 0
        },
        "template": {
         "data": {
          "bar": [
           {
            "error_x": {
             "color": "#2a3f5f"
            },
            "error_y": {
             "color": "#2a3f5f"
            },
            "marker": {
             "line": {
              "color": "white",
              "width": 0.5
             },
             "pattern": {
              "fillmode": "overlay",
              "size": 10,
              "solidity": 0.2
             }
            },
            "type": "bar"
           }
          ],
          "barpolar": [
           {
            "marker": {
             "line": {
              "color": "white",
              "width": 0.5
             },
             "pattern": {
              "fillmode": "overlay",
              "size": 10,
              "solidity": 0.2
             }
            },
            "type": "barpolar"
           }
          ],
          "carpet": [
           {
            "aaxis": {
             "endlinecolor": "#2a3f5f",
             "gridcolor": "#C8D4E3",
             "linecolor": "#C8D4E3",
             "minorgridcolor": "#C8D4E3",
             "startlinecolor": "#2a3f5f"
            },
            "baxis": {
             "endlinecolor": "#2a3f5f",
             "gridcolor": "#C8D4E3",
             "linecolor": "#C8D4E3",
             "minorgridcolor": "#C8D4E3",
             "startlinecolor": "#2a3f5f"
            },
            "type": "carpet"
           }
          ],
          "choropleth": [
           {
            "colorbar": {
             "outlinewidth": 0,
             "ticks": ""
            },
            "type": "choropleth"
           }
          ],
          "contour": [
           {
            "colorbar": {
             "outlinewidth": 0,
             "ticks": ""
            },
            "colorscale": [
             [
              0,
              "#0d0887"
             ],
             [
              0.1111111111111111,
              "#46039f"
             ],
             [
              0.2222222222222222,
              "#7201a8"
             ],
             [
              0.3333333333333333,
              "#9c179e"
             ],
             [
              0.4444444444444444,
              "#bd3786"
             ],
             [
              0.5555555555555556,
              "#d8576b"
             ],
             [
              0.6666666666666666,
              "#ed7953"
             ],
             [
              0.7777777777777778,
              "#fb9f3a"
             ],
             [
              0.8888888888888888,
              "#fdca26"
             ],
             [
              1,
              "#f0f921"
             ]
            ],
            "type": "contour"
           }
          ],
          "contourcarpet": [
           {
            "colorbar": {
             "outlinewidth": 0,
             "ticks": ""
            },
            "type": "contourcarpet"
           }
          ],
          "heatmap": [
           {
            "colorbar": {
             "outlinewidth": 0,
             "ticks": ""
            },
            "colorscale": [
             [
              0,
              "#0d0887"
             ],
             [
              0.1111111111111111,
              "#46039f"
             ],
             [
              0.2222222222222222,
              "#7201a8"
             ],
             [
              0.3333333333333333,
              "#9c179e"
             ],
             [
              0.4444444444444444,
              "#bd3786"
             ],
             [
              0.5555555555555556,
              "#d8576b"
             ],
             [
              0.6666666666666666,
              "#ed7953"
             ],
             [
              0.7777777777777778,
              "#fb9f3a"
             ],
             [
              0.8888888888888888,
              "#fdca26"
             ],
             [
              1,
              "#f0f921"
             ]
            ],
            "type": "heatmap"
           }
          ],
          "heatmapgl": [
           {
            "colorbar": {
             "outlinewidth": 0,
             "ticks": ""
            },
            "colorscale": [
             [
              0,
              "#0d0887"
             ],
             [
              0.1111111111111111,
              "#46039f"
             ],
             [
              0.2222222222222222,
              "#7201a8"
             ],
             [
              0.3333333333333333,
              "#9c179e"
             ],
             [
              0.4444444444444444,
              "#bd3786"
             ],
             [
              0.5555555555555556,
              "#d8576b"
             ],
             [
              0.6666666666666666,
              "#ed7953"
             ],
             [
              0.7777777777777778,
              "#fb9f3a"
             ],
             [
              0.8888888888888888,
              "#fdca26"
             ],
             [
              1,
              "#f0f921"
             ]
            ],
            "type": "heatmapgl"
           }
          ],
          "histogram": [
           {
            "marker": {
             "pattern": {
              "fillmode": "overlay",
              "size": 10,
              "solidity": 0.2
             }
            },
            "type": "histogram"
           }
          ],
          "histogram2d": [
           {
            "colorbar": {
             "outlinewidth": 0,
             "ticks": ""
            },
            "colorscale": [
             [
              0,
              "#0d0887"
             ],
             [
              0.1111111111111111,
              "#46039f"
             ],
             [
              0.2222222222222222,
              "#7201a8"
             ],
             [
              0.3333333333333333,
              "#9c179e"
             ],
             [
              0.4444444444444444,
              "#bd3786"
             ],
             [
              0.5555555555555556,
              "#d8576b"
             ],
             [
              0.6666666666666666,
              "#ed7953"
             ],
             [
              0.7777777777777778,
              "#fb9f3a"
             ],
             [
              0.8888888888888888,
              "#fdca26"
             ],
             [
              1,
              "#f0f921"
             ]
            ],
            "type": "histogram2d"
           }
          ],
          "histogram2dcontour": [
           {
            "colorbar": {
             "outlinewidth": 0,
             "ticks": ""
            },
            "colorscale": [
             [
              0,
              "#0d0887"
             ],
             [
              0.1111111111111111,
              "#46039f"
             ],
             [
              0.2222222222222222,
              "#7201a8"
             ],
             [
              0.3333333333333333,
              "#9c179e"
             ],
             [
              0.4444444444444444,
              "#bd3786"
             ],
             [
              0.5555555555555556,
              "#d8576b"
             ],
             [
              0.6666666666666666,
              "#ed7953"
             ],
             [
              0.7777777777777778,
              "#fb9f3a"
             ],
             [
              0.8888888888888888,
              "#fdca26"
             ],
             [
              1,
              "#f0f921"
             ]
            ],
            "type": "histogram2dcontour"
           }
          ],
          "mesh3d": [
           {
            "colorbar": {
             "outlinewidth": 0,
             "ticks": ""
            },
            "type": "mesh3d"
           }
          ],
          "parcoords": [
           {
            "line": {
             "colorbar": {
              "outlinewidth": 0,
              "ticks": ""
             }
            },
            "type": "parcoords"
           }
          ],
          "pie": [
           {
            "automargin": true,
            "type": "pie"
           }
          ],
          "scatter": [
           {
            "fillpattern": {
             "fillmode": "overlay",
             "size": 10,
             "solidity": 0.2
            },
            "type": "scatter"
           }
          ],
          "scatter3d": [
           {
            "line": {
             "colorbar": {
              "outlinewidth": 0,
              "ticks": ""
             }
            },
            "marker": {
             "colorbar": {
              "outlinewidth": 0,
              "ticks": ""
             }
            },
            "type": "scatter3d"
           }
          ],
          "scattercarpet": [
           {
            "marker": {
             "colorbar": {
              "outlinewidth": 0,
              "ticks": ""
             }
            },
            "type": "scattercarpet"
           }
          ],
          "scattergeo": [
           {
            "marker": {
             "colorbar": {
              "outlinewidth": 0,
              "ticks": ""
             }
            },
            "type": "scattergeo"
           }
          ],
          "scattergl": [
           {
            "marker": {
             "colorbar": {
              "outlinewidth": 0,
              "ticks": ""
             }
            },
            "type": "scattergl"
           }
          ],
          "scattermapbox": [
           {
            "marker": {
             "colorbar": {
              "outlinewidth": 0,
              "ticks": ""
             }
            },
            "type": "scattermapbox"
           }
          ],
          "scatterpolar": [
           {
            "marker": {
             "colorbar": {
              "outlinewidth": 0,
              "ticks": ""
             }
            },
            "type": "scatterpolar"
           }
          ],
          "scatterpolargl": [
           {
            "marker": {
             "colorbar": {
              "outlinewidth": 0,
              "ticks": ""
             }
            },
            "type": "scatterpolargl"
           }
          ],
          "scatterternary": [
           {
            "marker": {
             "colorbar": {
              "outlinewidth": 0,
              "ticks": ""
             }
            },
            "type": "scatterternary"
           }
          ],
          "surface": [
           {
            "colorbar": {
             "outlinewidth": 0,
             "ticks": ""
            },
            "colorscale": [
             [
              0,
              "#0d0887"
             ],
             [
              0.1111111111111111,
              "#46039f"
             ],
             [
              0.2222222222222222,
              "#7201a8"
             ],
             [
              0.3333333333333333,
              "#9c179e"
             ],
             [
              0.4444444444444444,
              "#bd3786"
             ],
             [
              0.5555555555555556,
              "#d8576b"
             ],
             [
              0.6666666666666666,
              "#ed7953"
             ],
             [
              0.7777777777777778,
              "#fb9f3a"
             ],
             [
              0.8888888888888888,
              "#fdca26"
             ],
             [
              1,
              "#f0f921"
             ]
            ],
            "type": "surface"
           }
          ],
          "table": [
           {
            "cells": {
             "fill": {
              "color": "#EBF0F8"
             },
             "line": {
              "color": "white"
             }
            },
            "header": {
             "fill": {
              "color": "#C8D4E3"
             },
             "line": {
              "color": "white"
             }
            },
            "type": "table"
           }
          ]
         },
         "layout": {
          "annotationdefaults": {
           "arrowcolor": "#2a3f5f",
           "arrowhead": 0,
           "arrowwidth": 1
          },
          "autotypenumbers": "strict",
          "coloraxis": {
           "colorbar": {
            "outlinewidth": 0,
            "ticks": ""
           }
          },
          "colorscale": {
           "diverging": [
            [
             0,
             "#8e0152"
            ],
            [
             0.1,
             "#c51b7d"
            ],
            [
             0.2,
             "#de77ae"
            ],
            [
             0.3,
             "#f1b6da"
            ],
            [
             0.4,
             "#fde0ef"
            ],
            [
             0.5,
             "#f7f7f7"
            ],
            [
             0.6,
             "#e6f5d0"
            ],
            [
             0.7,
             "#b8e186"
            ],
            [
             0.8,
             "#7fbc41"
            ],
            [
             0.9,
             "#4d9221"
            ],
            [
             1,
             "#276419"
            ]
           ],
           "sequential": [
            [
             0,
             "#0d0887"
            ],
            [
             0.1111111111111111,
             "#46039f"
            ],
            [
             0.2222222222222222,
             "#7201a8"
            ],
            [
             0.3333333333333333,
             "#9c179e"
            ],
            [
             0.4444444444444444,
             "#bd3786"
            ],
            [
             0.5555555555555556,
             "#d8576b"
            ],
            [
             0.6666666666666666,
             "#ed7953"
            ],
            [
             0.7777777777777778,
             "#fb9f3a"
            ],
            [
             0.8888888888888888,
             "#fdca26"
            ],
            [
             1,
             "#f0f921"
            ]
           ],
           "sequentialminus": [
            [
             0,
             "#0d0887"
            ],
            [
             0.1111111111111111,
             "#46039f"
            ],
            [
             0.2222222222222222,
             "#7201a8"
            ],
            [
             0.3333333333333333,
             "#9c179e"
            ],
            [
             0.4444444444444444,
             "#bd3786"
            ],
            [
             0.5555555555555556,
             "#d8576b"
            ],
            [
             0.6666666666666666,
             "#ed7953"
            ],
            [
             0.7777777777777778,
             "#fb9f3a"
            ],
            [
             0.8888888888888888,
             "#fdca26"
            ],
            [
             1,
             "#f0f921"
            ]
           ]
          },
          "colorway": [
           "#636efa",
           "#EF553B",
           "#00cc96",
           "#ab63fa",
           "#FFA15A",
           "#19d3f3",
           "#FF6692",
           "#B6E880",
           "#FF97FF",
           "#FECB52"
          ],
          "font": {
           "color": "#2a3f5f"
          },
          "geo": {
           "bgcolor": "white",
           "lakecolor": "white",
           "landcolor": "white",
           "showlakes": true,
           "showland": true,
           "subunitcolor": "#C8D4E3"
          },
          "hoverlabel": {
           "align": "left"
          },
          "hovermode": "closest",
          "mapbox": {
           "style": "light"
          },
          "paper_bgcolor": "white",
          "plot_bgcolor": "white",
          "polar": {
           "angularaxis": {
            "gridcolor": "#EBF0F8",
            "linecolor": "#EBF0F8",
            "ticks": ""
           },
           "bgcolor": "white",
           "radialaxis": {
            "gridcolor": "#EBF0F8",
            "linecolor": "#EBF0F8",
            "ticks": ""
           }
          },
          "scene": {
           "xaxis": {
            "backgroundcolor": "white",
            "gridcolor": "#DFE8F3",
            "gridwidth": 2,
            "linecolor": "#EBF0F8",
            "showbackground": true,
            "ticks": "",
            "zerolinecolor": "#EBF0F8"
           },
           "yaxis": {
            "backgroundcolor": "white",
            "gridcolor": "#DFE8F3",
            "gridwidth": 2,
            "linecolor": "#EBF0F8",
            "showbackground": true,
            "ticks": "",
            "zerolinecolor": "#EBF0F8"
           },
           "zaxis": {
            "backgroundcolor": "white",
            "gridcolor": "#DFE8F3",
            "gridwidth": 2,
            "linecolor": "#EBF0F8",
            "showbackground": true,
            "ticks": "",
            "zerolinecolor": "#EBF0F8"
           }
          },
          "shapedefaults": {
           "line": {
            "color": "#2a3f5f"
           }
          },
          "ternary": {
           "aaxis": {
            "gridcolor": "#DFE8F3",
            "linecolor": "#A2B1C6",
            "ticks": ""
           },
           "baxis": {
            "gridcolor": "#DFE8F3",
            "linecolor": "#A2B1C6",
            "ticks": ""
           },
           "bgcolor": "white",
           "caxis": {
            "gridcolor": "#DFE8F3",
            "linecolor": "#A2B1C6",
            "ticks": ""
           }
          },
          "title": {
           "x": 0.05
          },
          "xaxis": {
           "automargin": true,
           "gridcolor": "#EBF0F8",
           "linecolor": "#EBF0F8",
           "ticks": "",
           "title": {
            "standoff": 15
           },
           "zerolinecolor": "#EBF0F8",
           "zerolinewidth": 2
          },
          "yaxis": {
           "automargin": true,
           "gridcolor": "#EBF0F8",
           "linecolor": "#EBF0F8",
           "ticks": "",
           "title": {
            "standoff": 15
           },
           "zerolinecolor": "#EBF0F8",
           "zerolinewidth": 2
          }
         }
        },
        "title": {
         "text": "MMLU price-performance over time"
        },
        "xaxis": {
         "anchor": "y",
         "domain": [
          0,
          1
         ],
         "title": {
          "text": "Release Date"
         }
        },
        "yaxis": {
         "anchor": "x",
         "domain": [
          0,
          1
         ],
         "title": {
          "text": "MMLU price-performance"
         },
         "type": "log"
        }
       }
      }
     },
     "metadata": {},
     "output_type": "display_data"
    }
   ],
   "source": [
    "aa_df['MMLU price-performance'] = aa_df['MMLU'] / aa_df['USD per 1M Tokens']\n",
    "# Plot 'MMLU price-performance' vs. 'Date'\n",
    "fig = px.scatter(aa_df, x='Release Date', y='MMLU price-performance', title='MMLU price-performance over time', hover_data=['Model Name'])\n",
    "fig.update_layout(yaxis_type='log')\n",
    "fig.show()\n"
   ]
  },
  {
   "cell_type": "code",
   "execution_count": 8,
   "metadata": {},
   "outputs": [
    {
     "name": "stdout",
     "output_type": "stream",
     "text": [
      "['Claude-3-Haiku', 'GPT-3.5 Turbo', 'GPT-4', 'Gemini-1.5-Flash-2024-05', 'Gemini-1.5-Flash-8B', 'Llama-2-Chat-13B', 'Llama-3-Instruct-8B', 'Llama-3.1-Instruct-8B', 'Llama-3.2-Instruct-3B']\n"
     ]
    },
    {
     "data": {
      "application/vnd.plotly.v1+json": {
       "config": {
        "plotlyServerURL": "https://plot.ly"
       },
       "data": [
        {
         "customdata": [
          [
           "GPT-4"
          ],
          [
           "Llama-2-Chat-13B"
          ],
          [
           "GPT-3.5 Turbo"
          ],
          [
           "Claude-3-Haiku"
          ],
          [
           "Llama-3-Instruct-8B"
          ],
          [
           "Gemini-1.5-Flash-2024-05"
          ],
          [
           "Llama-3.1-Instruct-8B"
          ],
          [
           "Llama-3.2-Instruct-3B"
          ],
          [
           "Gemini-1.5-Flash-8B"
          ]
         ],
         "hovertemplate": "Release Date=%{x}<br>MMLU price-performance=%{y}<br>Model Name=%{customdata[0]}<extra></extra>",
         "legendgroup": "",
         "marker": {
          "color": "#636efa",
          "symbol": "circle"
         },
         "mode": "markers",
         "name": "",
         "orientation": "v",
         "showlegend": false,
         "type": "scatter",
         "x": [
          "2023-03-01T00:00:00",
          "2023-07-01T00:00:00",
          "2023-11-01T00:00:00",
          "2024-03-01T00:00:00",
          "2024-04-01T00:00:00",
          "2024-05-01T00:00:00",
          "2024-07-01T00:00:00",
          "2024-09-01T00:00:00",
          "2024-10-01T00:00:00"
         ],
         "xaxis": "x",
         "y": [
          2.2933333333333334,
          80.35714285714285,
          90.66666666666667,
          142,
          426.6666666666667,
          607.6923076923076,
          710,
          800,
          1071.4285714285713
         ],
         "yaxis": "y"
        }
       ],
       "layout": {
        "legend": {
         "tracegroupgap": 0
        },
        "template": {
         "data": {
          "bar": [
           {
            "error_x": {
             "color": "#2a3f5f"
            },
            "error_y": {
             "color": "#2a3f5f"
            },
            "marker": {
             "line": {
              "color": "white",
              "width": 0.5
             },
             "pattern": {
              "fillmode": "overlay",
              "size": 10,
              "solidity": 0.2
             }
            },
            "type": "bar"
           }
          ],
          "barpolar": [
           {
            "marker": {
             "line": {
              "color": "white",
              "width": 0.5
             },
             "pattern": {
              "fillmode": "overlay",
              "size": 10,
              "solidity": 0.2
             }
            },
            "type": "barpolar"
           }
          ],
          "carpet": [
           {
            "aaxis": {
             "endlinecolor": "#2a3f5f",
             "gridcolor": "#C8D4E3",
             "linecolor": "#C8D4E3",
             "minorgridcolor": "#C8D4E3",
             "startlinecolor": "#2a3f5f"
            },
            "baxis": {
             "endlinecolor": "#2a3f5f",
             "gridcolor": "#C8D4E3",
             "linecolor": "#C8D4E3",
             "minorgridcolor": "#C8D4E3",
             "startlinecolor": "#2a3f5f"
            },
            "type": "carpet"
           }
          ],
          "choropleth": [
           {
            "colorbar": {
             "outlinewidth": 0,
             "ticks": ""
            },
            "type": "choropleth"
           }
          ],
          "contour": [
           {
            "colorbar": {
             "outlinewidth": 0,
             "ticks": ""
            },
            "colorscale": [
             [
              0,
              "#0d0887"
             ],
             [
              0.1111111111111111,
              "#46039f"
             ],
             [
              0.2222222222222222,
              "#7201a8"
             ],
             [
              0.3333333333333333,
              "#9c179e"
             ],
             [
              0.4444444444444444,
              "#bd3786"
             ],
             [
              0.5555555555555556,
              "#d8576b"
             ],
             [
              0.6666666666666666,
              "#ed7953"
             ],
             [
              0.7777777777777778,
              "#fb9f3a"
             ],
             [
              0.8888888888888888,
              "#fdca26"
             ],
             [
              1,
              "#f0f921"
             ]
            ],
            "type": "contour"
           }
          ],
          "contourcarpet": [
           {
            "colorbar": {
             "outlinewidth": 0,
             "ticks": ""
            },
            "type": "contourcarpet"
           }
          ],
          "heatmap": [
           {
            "colorbar": {
             "outlinewidth": 0,
             "ticks": ""
            },
            "colorscale": [
             [
              0,
              "#0d0887"
             ],
             [
              0.1111111111111111,
              "#46039f"
             ],
             [
              0.2222222222222222,
              "#7201a8"
             ],
             [
              0.3333333333333333,
              "#9c179e"
             ],
             [
              0.4444444444444444,
              "#bd3786"
             ],
             [
              0.5555555555555556,
              "#d8576b"
             ],
             [
              0.6666666666666666,
              "#ed7953"
             ],
             [
              0.7777777777777778,
              "#fb9f3a"
             ],
             [
              0.8888888888888888,
              "#fdca26"
             ],
             [
              1,
              "#f0f921"
             ]
            ],
            "type": "heatmap"
           }
          ],
          "heatmapgl": [
           {
            "colorbar": {
             "outlinewidth": 0,
             "ticks": ""
            },
            "colorscale": [
             [
              0,
              "#0d0887"
             ],
             [
              0.1111111111111111,
              "#46039f"
             ],
             [
              0.2222222222222222,
              "#7201a8"
             ],
             [
              0.3333333333333333,
              "#9c179e"
             ],
             [
              0.4444444444444444,
              "#bd3786"
             ],
             [
              0.5555555555555556,
              "#d8576b"
             ],
             [
              0.6666666666666666,
              "#ed7953"
             ],
             [
              0.7777777777777778,
              "#fb9f3a"
             ],
             [
              0.8888888888888888,
              "#fdca26"
             ],
             [
              1,
              "#f0f921"
             ]
            ],
            "type": "heatmapgl"
           }
          ],
          "histogram": [
           {
            "marker": {
             "pattern": {
              "fillmode": "overlay",
              "size": 10,
              "solidity": 0.2
             }
            },
            "type": "histogram"
           }
          ],
          "histogram2d": [
           {
            "colorbar": {
             "outlinewidth": 0,
             "ticks": ""
            },
            "colorscale": [
             [
              0,
              "#0d0887"
             ],
             [
              0.1111111111111111,
              "#46039f"
             ],
             [
              0.2222222222222222,
              "#7201a8"
             ],
             [
              0.3333333333333333,
              "#9c179e"
             ],
             [
              0.4444444444444444,
              "#bd3786"
             ],
             [
              0.5555555555555556,
              "#d8576b"
             ],
             [
              0.6666666666666666,
              "#ed7953"
             ],
             [
              0.7777777777777778,
              "#fb9f3a"
             ],
             [
              0.8888888888888888,
              "#fdca26"
             ],
             [
              1,
              "#f0f921"
             ]
            ],
            "type": "histogram2d"
           }
          ],
          "histogram2dcontour": [
           {
            "colorbar": {
             "outlinewidth": 0,
             "ticks": ""
            },
            "colorscale": [
             [
              0,
              "#0d0887"
             ],
             [
              0.1111111111111111,
              "#46039f"
             ],
             [
              0.2222222222222222,
              "#7201a8"
             ],
             [
              0.3333333333333333,
              "#9c179e"
             ],
             [
              0.4444444444444444,
              "#bd3786"
             ],
             [
              0.5555555555555556,
              "#d8576b"
             ],
             [
              0.6666666666666666,
              "#ed7953"
             ],
             [
              0.7777777777777778,
              "#fb9f3a"
             ],
             [
              0.8888888888888888,
              "#fdca26"
             ],
             [
              1,
              "#f0f921"
             ]
            ],
            "type": "histogram2dcontour"
           }
          ],
          "mesh3d": [
           {
            "colorbar": {
             "outlinewidth": 0,
             "ticks": ""
            },
            "type": "mesh3d"
           }
          ],
          "parcoords": [
           {
            "line": {
             "colorbar": {
              "outlinewidth": 0,
              "ticks": ""
             }
            },
            "type": "parcoords"
           }
          ],
          "pie": [
           {
            "automargin": true,
            "type": "pie"
           }
          ],
          "scatter": [
           {
            "fillpattern": {
             "fillmode": "overlay",
             "size": 10,
             "solidity": 0.2
            },
            "type": "scatter"
           }
          ],
          "scatter3d": [
           {
            "line": {
             "colorbar": {
              "outlinewidth": 0,
              "ticks": ""
             }
            },
            "marker": {
             "colorbar": {
              "outlinewidth": 0,
              "ticks": ""
             }
            },
            "type": "scatter3d"
           }
          ],
          "scattercarpet": [
           {
            "marker": {
             "colorbar": {
              "outlinewidth": 0,
              "ticks": ""
             }
            },
            "type": "scattercarpet"
           }
          ],
          "scattergeo": [
           {
            "marker": {
             "colorbar": {
              "outlinewidth": 0,
              "ticks": ""
             }
            },
            "type": "scattergeo"
           }
          ],
          "scattergl": [
           {
            "marker": {
             "colorbar": {
              "outlinewidth": 0,
              "ticks": ""
             }
            },
            "type": "scattergl"
           }
          ],
          "scattermapbox": [
           {
            "marker": {
             "colorbar": {
              "outlinewidth": 0,
              "ticks": ""
             }
            },
            "type": "scattermapbox"
           }
          ],
          "scatterpolar": [
           {
            "marker": {
             "colorbar": {
              "outlinewidth": 0,
              "ticks": ""
             }
            },
            "type": "scatterpolar"
           }
          ],
          "scatterpolargl": [
           {
            "marker": {
             "colorbar": {
              "outlinewidth": 0,
              "ticks": ""
             }
            },
            "type": "scatterpolargl"
           }
          ],
          "scatterternary": [
           {
            "marker": {
             "colorbar": {
              "outlinewidth": 0,
              "ticks": ""
             }
            },
            "type": "scatterternary"
           }
          ],
          "surface": [
           {
            "colorbar": {
             "outlinewidth": 0,
             "ticks": ""
            },
            "colorscale": [
             [
              0,
              "#0d0887"
             ],
             [
              0.1111111111111111,
              "#46039f"
             ],
             [
              0.2222222222222222,
              "#7201a8"
             ],
             [
              0.3333333333333333,
              "#9c179e"
             ],
             [
              0.4444444444444444,
              "#bd3786"
             ],
             [
              0.5555555555555556,
              "#d8576b"
             ],
             [
              0.6666666666666666,
              "#ed7953"
             ],
             [
              0.7777777777777778,
              "#fb9f3a"
             ],
             [
              0.8888888888888888,
              "#fdca26"
             ],
             [
              1,
              "#f0f921"
             ]
            ],
            "type": "surface"
           }
          ],
          "table": [
           {
            "cells": {
             "fill": {
              "color": "#EBF0F8"
             },
             "line": {
              "color": "white"
             }
            },
            "header": {
             "fill": {
              "color": "#C8D4E3"
             },
             "line": {
              "color": "white"
             }
            },
            "type": "table"
           }
          ]
         },
         "layout": {
          "annotationdefaults": {
           "arrowcolor": "#2a3f5f",
           "arrowhead": 0,
           "arrowwidth": 1
          },
          "autotypenumbers": "strict",
          "coloraxis": {
           "colorbar": {
            "outlinewidth": 0,
            "ticks": ""
           }
          },
          "colorscale": {
           "diverging": [
            [
             0,
             "#8e0152"
            ],
            [
             0.1,
             "#c51b7d"
            ],
            [
             0.2,
             "#de77ae"
            ],
            [
             0.3,
             "#f1b6da"
            ],
            [
             0.4,
             "#fde0ef"
            ],
            [
             0.5,
             "#f7f7f7"
            ],
            [
             0.6,
             "#e6f5d0"
            ],
            [
             0.7,
             "#b8e186"
            ],
            [
             0.8,
             "#7fbc41"
            ],
            [
             0.9,
             "#4d9221"
            ],
            [
             1,
             "#276419"
            ]
           ],
           "sequential": [
            [
             0,
             "#0d0887"
            ],
            [
             0.1111111111111111,
             "#46039f"
            ],
            [
             0.2222222222222222,
             "#7201a8"
            ],
            [
             0.3333333333333333,
             "#9c179e"
            ],
            [
             0.4444444444444444,
             "#bd3786"
            ],
            [
             0.5555555555555556,
             "#d8576b"
            ],
            [
             0.6666666666666666,
             "#ed7953"
            ],
            [
             0.7777777777777778,
             "#fb9f3a"
            ],
            [
             0.8888888888888888,
             "#fdca26"
            ],
            [
             1,
             "#f0f921"
            ]
           ],
           "sequentialminus": [
            [
             0,
             "#0d0887"
            ],
            [
             0.1111111111111111,
             "#46039f"
            ],
            [
             0.2222222222222222,
             "#7201a8"
            ],
            [
             0.3333333333333333,
             "#9c179e"
            ],
            [
             0.4444444444444444,
             "#bd3786"
            ],
            [
             0.5555555555555556,
             "#d8576b"
            ],
            [
             0.6666666666666666,
             "#ed7953"
            ],
            [
             0.7777777777777778,
             "#fb9f3a"
            ],
            [
             0.8888888888888888,
             "#fdca26"
            ],
            [
             1,
             "#f0f921"
            ]
           ]
          },
          "colorway": [
           "#636efa",
           "#EF553B",
           "#00cc96",
           "#ab63fa",
           "#FFA15A",
           "#19d3f3",
           "#FF6692",
           "#B6E880",
           "#FF97FF",
           "#FECB52"
          ],
          "font": {
           "color": "#2a3f5f"
          },
          "geo": {
           "bgcolor": "white",
           "lakecolor": "white",
           "landcolor": "white",
           "showlakes": true,
           "showland": true,
           "subunitcolor": "#C8D4E3"
          },
          "hoverlabel": {
           "align": "left"
          },
          "hovermode": "closest",
          "mapbox": {
           "style": "light"
          },
          "paper_bgcolor": "white",
          "plot_bgcolor": "white",
          "polar": {
           "angularaxis": {
            "gridcolor": "#EBF0F8",
            "linecolor": "#EBF0F8",
            "ticks": ""
           },
           "bgcolor": "white",
           "radialaxis": {
            "gridcolor": "#EBF0F8",
            "linecolor": "#EBF0F8",
            "ticks": ""
           }
          },
          "scene": {
           "xaxis": {
            "backgroundcolor": "white",
            "gridcolor": "#DFE8F3",
            "gridwidth": 2,
            "linecolor": "#EBF0F8",
            "showbackground": true,
            "ticks": "",
            "zerolinecolor": "#EBF0F8"
           },
           "yaxis": {
            "backgroundcolor": "white",
            "gridcolor": "#DFE8F3",
            "gridwidth": 2,
            "linecolor": "#EBF0F8",
            "showbackground": true,
            "ticks": "",
            "zerolinecolor": "#EBF0F8"
           },
           "zaxis": {
            "backgroundcolor": "white",
            "gridcolor": "#DFE8F3",
            "gridwidth": 2,
            "linecolor": "#EBF0F8",
            "showbackground": true,
            "ticks": "",
            "zerolinecolor": "#EBF0F8"
           }
          },
          "shapedefaults": {
           "line": {
            "color": "#2a3f5f"
           }
          },
          "ternary": {
           "aaxis": {
            "gridcolor": "#DFE8F3",
            "linecolor": "#A2B1C6",
            "ticks": ""
           },
           "baxis": {
            "gridcolor": "#DFE8F3",
            "linecolor": "#A2B1C6",
            "ticks": ""
           },
           "bgcolor": "white",
           "caxis": {
            "gridcolor": "#DFE8F3",
            "linecolor": "#A2B1C6",
            "ticks": ""
           }
          },
          "title": {
           "x": 0.05
          },
          "xaxis": {
           "automargin": true,
           "gridcolor": "#EBF0F8",
           "linecolor": "#EBF0F8",
           "ticks": "",
           "title": {
            "standoff": 15
           },
           "zerolinecolor": "#EBF0F8",
           "zerolinewidth": 2
          },
          "yaxis": {
           "automargin": true,
           "gridcolor": "#EBF0F8",
           "linecolor": "#EBF0F8",
           "ticks": "",
           "title": {
            "standoff": 15
           },
           "zerolinecolor": "#EBF0F8",
           "zerolinewidth": 2
          }
         }
        },
        "title": {
         "text": "MMLU price-performance over time"
        },
        "xaxis": {
         "anchor": "y",
         "domain": [
          0,
          1
         ],
         "title": {
          "text": "Release Date"
         }
        },
        "yaxis": {
         "anchor": "x",
         "domain": [
          0,
          1
         ],
         "title": {
          "text": "MMLU price-performance"
         },
         "type": "log"
        }
       }
      }
     },
     "metadata": {},
     "output_type": "display_data"
    }
   ],
   "source": [
    "# Construct a list of 'Model Name' values that were ever in the top-n based on 'MMLU price-performance'\n",
    "top_n = 1\n",
    "aa_df = aa_df.sort_values(by='Release Date')\n",
    "ever_top_n_models = set()\n",
    "\n",
    "unique_dates = aa_df['Release Date'].sort_values().unique()\n",
    "\n",
    "for date in unique_dates:\n",
    "    df_up_to_date = aa_df[aa_df['Release Date'] <= date]\n",
    "    top_n_models = df_up_to_date.nlargest(top_n, 'MMLU price-performance')\n",
    "    top_n_model_names = top_n_models['Model Name'].tolist()\n",
    "    ever_top_n_models.update(top_n_model_names)\n",
    "\n",
    "ever_top_n_list = sorted(ever_top_n_models)\n",
    "print(ever_top_n_list)\n",
    "\n",
    "# Plot top-n models over time\n",
    "fig = px.scatter(aa_df[aa_df['Model Name'].isin(ever_top_n_list)], x='Release Date', y='MMLU price-performance', title='MMLU price-performance over time', hover_data=['Model Name'])\n",
    "fig.update_layout(yaxis_type='log')\n",
    "fig.show()"
   ]
  },
  {
   "cell_type": "markdown",
   "metadata": {},
   "source": [
    "## Try fitting a regression to lowest-priced models above a performance lower bound"
   ]
  },
  {
   "cell_type": "code",
   "execution_count": 9,
   "metadata": {},
   "outputs": [
    {
     "name": "stdout",
     "output_type": "stream",
     "text": [
      "2023-12-01 00:00:00 GPT-4 Turbo 92.0 $15.00\n",
      "2024-06-01 00:00:00 GPT-4o-2024-05 93.0 $7.50\n",
      "2024-07-01 00:00:00 Claude-3.5-Haiku 87.0 $1.60\n",
      "2024-08-01 00:00:00 GPT-4o-mini 88.0 $0.26\n",
      "2024-10-01 00:00:00 Gemini-1.5-Flash-2024-09 83.0 $0.13\n"
     ]
    }
   ],
   "source": [
    "\"\"\"\n",
    "  - Set a performance lower bound\n",
    "  - Track the running best (top) model\n",
    "  - At each point in time (at some resolution)\n",
    "    - Filter to new models published in this time window\n",
    "    - Filter to models with performance above the lower bound\n",
    "    - Check if any new model is cheaper than current best\n",
    "    - If so, update the current best\n",
    "    - Record the current best model at this time point\n",
    "\"\"\"\n",
    "bench = 'HumanEval'\n",
    "performance_lower_bound = 80\n",
    "ts = pd.date_range(start='2020-01-01', end='2025-01-01', freq='MS')\n",
    "cheapest_models = []\n",
    "current_best = None\n",
    "\n",
    "for i, t in enumerate(ts):\n",
    "    # Get models published in this time window\n",
    "    benchmark_df = aa_df\n",
    "    if i > 0:\n",
    "        prev_t = ts[i-1]\n",
    "        benchmark_df = benchmark_df[(benchmark_df['Release Date'] >= prev_t) & (benchmark_df['Release Date'] < t)]\n",
    "    else:\n",
    "        benchmark_df = benchmark_df[benchmark_df['Release Date'] < t]\n",
    "        \n",
    "    # Filter for performance\n",
    "    benchmark_df = benchmark_df[benchmark_df[bench].notna()]\n",
    "    benchmark_df = benchmark_df[benchmark_df[bench] > performance_lower_bound]\n",
    "    \n",
    "    if not benchmark_df.empty:\n",
    "        # Find cheapest new model\n",
    "        new_best = benchmark_df.loc[benchmark_df['USD per 1M Tokens'].idxmin()]\n",
    "        \n",
    "        # Update current best if new model is cheaper (or if no current best)\n",
    "        if current_best is None or new_best['USD per 1M Tokens'] < current_best['USD per 1M Tokens']:\n",
    "            current_best = new_best\n",
    "            cheapest_models.append(current_best)\n",
    "            print(t, current_best['Model Name'], current_best[bench], f\"${current_best['USD per 1M Tokens']:.2f}\")"
   ]
  },
  {
   "cell_type": "code",
   "execution_count": 10,
   "metadata": {},
   "outputs": [
    {
     "data": {
      "text/html": [
       "<div>\n",
       "<style scoped>\n",
       "    .dataframe tbody tr th:only-of-type {\n",
       "        vertical-align: middle;\n",
       "    }\n",
       "\n",
       "    .dataframe tbody tr th {\n",
       "        vertical-align: top;\n",
       "    }\n",
       "\n",
       "    .dataframe thead th {\n",
       "        text-align: right;\n",
       "    }\n",
       "</style>\n",
       "<table border=\"1\" class=\"dataframe\">\n",
       "  <thead>\n",
       "    <tr style=\"text-align: right;\">\n",
       "      <th></th>\n",
       "      <th>Model Name</th>\n",
       "      <th>Tier</th>\n",
       "      <th>Release Date</th>\n",
       "      <th>USD per 1M Tokens</th>\n",
       "      <th>Tokens per Second</th>\n",
       "      <th>Prefill Latency (s)</th>\n",
       "      <th>Prompt Length (tk)</th>\n",
       "      <th>MMLU</th>\n",
       "      <th>GPQA Diamond</th>\n",
       "      <th>MATH 5</th>\n",
       "      <th>MATH-500</th>\n",
       "      <th>HumanEval</th>\n",
       "      <th>LMSys Chatbot Arena ELO</th>\n",
       "      <th>MMLU price-performance</th>\n",
       "    </tr>\n",
       "  </thead>\n",
       "  <tbody>\n",
       "    <tr>\n",
       "      <th>15</th>\n",
       "      <td>GPT-4 Turbo</td>\n",
       "      <td>1</td>\n",
       "      <td>2023-11-01</td>\n",
       "      <td>15.00</td>\n",
       "      <td>39.2</td>\n",
       "      <td>1.246</td>\n",
       "      <td>1000</td>\n",
       "      <td>87</td>\n",
       "      <td>50</td>\n",
       "      <td>36.0</td>\n",
       "      <td>74.0</td>\n",
       "      <td>92.0</td>\n",
       "      <td>1256.0</td>\n",
       "      <td>5.800000</td>\n",
       "    </tr>\n",
       "    <tr>\n",
       "      <th>16</th>\n",
       "      <td>GPT-4o-2024-05</td>\n",
       "      <td>1</td>\n",
       "      <td>2024-05-01</td>\n",
       "      <td>7.50</td>\n",
       "      <td>86.4</td>\n",
       "      <td>0.687</td>\n",
       "      <td>1000</td>\n",
       "      <td>87</td>\n",
       "      <td>51</td>\n",
       "      <td>48.0</td>\n",
       "      <td>79.0</td>\n",
       "      <td>93.0</td>\n",
       "      <td>1285.0</td>\n",
       "      <td>11.600000</td>\n",
       "    </tr>\n",
       "    <tr>\n",
       "      <th>3</th>\n",
       "      <td>Claude-3.5-Haiku</td>\n",
       "      <td>3</td>\n",
       "      <td>2024-06-01</td>\n",
       "      <td>1.60</td>\n",
       "      <td>64.2</td>\n",
       "      <td>0.768</td>\n",
       "      <td>1000</td>\n",
       "      <td>81</td>\n",
       "      <td>37</td>\n",
       "      <td>NaN</td>\n",
       "      <td>67.0</td>\n",
       "      <td>87.0</td>\n",
       "      <td>NaN</td>\n",
       "      <td>50.625000</td>\n",
       "    </tr>\n",
       "    <tr>\n",
       "      <th>19</th>\n",
       "      <td>GPT-4o-mini</td>\n",
       "      <td>2</td>\n",
       "      <td>2024-07-01</td>\n",
       "      <td>0.26</td>\n",
       "      <td>112.2</td>\n",
       "      <td>0.626</td>\n",
       "      <td>1000</td>\n",
       "      <td>82</td>\n",
       "      <td>43</td>\n",
       "      <td>48.0</td>\n",
       "      <td>79.0</td>\n",
       "      <td>88.0</td>\n",
       "      <td>1273.0</td>\n",
       "      <td>315.384615</td>\n",
       "    </tr>\n",
       "    <tr>\n",
       "      <th>7</th>\n",
       "      <td>Gemini-1.5-Flash-2024-09</td>\n",
       "      <td>3</td>\n",
       "      <td>2024-09-01</td>\n",
       "      <td>0.13</td>\n",
       "      <td>190.5</td>\n",
       "      <td>0.348</td>\n",
       "      <td>1000</td>\n",
       "      <td>75</td>\n",
       "      <td>45</td>\n",
       "      <td>58.0</td>\n",
       "      <td>83.0</td>\n",
       "      <td>83.0</td>\n",
       "      <td>1271.0</td>\n",
       "      <td>576.923077</td>\n",
       "    </tr>\n",
       "  </tbody>\n",
       "</table>\n",
       "</div>"
      ],
      "text/plain": [
       "                  Model Name  Tier Release Date  USD per 1M Tokens  \\\n",
       "15               GPT-4 Turbo     1   2023-11-01              15.00   \n",
       "16            GPT-4o-2024-05     1   2024-05-01               7.50   \n",
       "3           Claude-3.5-Haiku     3   2024-06-01               1.60   \n",
       "19               GPT-4o-mini     2   2024-07-01               0.26   \n",
       "7   Gemini-1.5-Flash-2024-09     3   2024-09-01               0.13   \n",
       "\n",
       "    Tokens per Second  Prefill Latency (s)  Prompt Length (tk)  MMLU  \\\n",
       "15               39.2                1.246                1000    87   \n",
       "16               86.4                0.687                1000    87   \n",
       "3                64.2                0.768                1000    81   \n",
       "19              112.2                0.626                1000    82   \n",
       "7               190.5                0.348                1000    75   \n",
       "\n",
       "    GPQA Diamond  MATH 5  MATH-500  HumanEval  LMSys Chatbot Arena ELO  \\\n",
       "15            50    36.0      74.0       92.0                   1256.0   \n",
       "16            51    48.0      79.0       93.0                   1285.0   \n",
       "3             37     NaN      67.0       87.0                      NaN   \n",
       "19            43    48.0      79.0       88.0                   1273.0   \n",
       "7             45    58.0      83.0       83.0                   1271.0   \n",
       "\n",
       "    MMLU price-performance  \n",
       "15                5.800000  \n",
       "16               11.600000  \n",
       "3                50.625000  \n",
       "19              315.384615  \n",
       "7               576.923077  "
      ]
     },
     "execution_count": 10,
     "metadata": {},
     "output_type": "execute_result"
    }
   ],
   "source": [
    "cheapest_models_df = pd.DataFrame(cheapest_models)\n",
    "cheapest_models_df.head()"
   ]
  },
  {
   "cell_type": "code",
   "execution_count": 11,
   "metadata": {},
   "outputs": [
    {
     "data": {
      "application/vnd.plotly.v1+json": {
       "config": {
        "plotlyServerURL": "https://plot.ly"
       },
       "data": [
        {
         "hovertemplate": "Release Date=%{x}<br>USD per 1M Tokens=%{y}<br>Model Name=%{text}<extra></extra>",
         "legendgroup": "",
         "line": {
          "color": "#636efa",
          "dash": "solid",
          "shape": "hv"
         },
         "marker": {
          "symbol": "circle"
         },
         "mode": "lines+markers+text",
         "name": "",
         "orientation": "v",
         "showlegend": false,
         "text": [
          "GPT-4 Turbo",
          "GPT-4o-2024-05",
          "Claude-3.5-Haiku",
          "GPT-4o-mini",
          "Gemini-1.5-Flash-2024-09"
         ],
         "textposition": "bottom left",
         "type": "scatter",
         "x": [
          "2023-11-01T00:00:00",
          "2024-05-01T00:00:00",
          "2024-06-01T00:00:00",
          "2024-07-01T00:00:00",
          "2024-09-01T00:00:00"
         ],
         "xaxis": "x",
         "y": [
          15,
          7.5,
          1.6,
          0.26,
          0.13
         ],
         "yaxis": "y"
        }
       ],
       "layout": {
        "font": {
         "size": 10
        },
        "height": 600,
        "legend": {
         "tracegroupgap": 0
        },
        "template": {
         "data": {
          "bar": [
           {
            "error_x": {
             "color": "#2a3f5f"
            },
            "error_y": {
             "color": "#2a3f5f"
            },
            "marker": {
             "line": {
              "color": "white",
              "width": 0.5
             },
             "pattern": {
              "fillmode": "overlay",
              "size": 10,
              "solidity": 0.2
             }
            },
            "type": "bar"
           }
          ],
          "barpolar": [
           {
            "marker": {
             "line": {
              "color": "white",
              "width": 0.5
             },
             "pattern": {
              "fillmode": "overlay",
              "size": 10,
              "solidity": 0.2
             }
            },
            "type": "barpolar"
           }
          ],
          "carpet": [
           {
            "aaxis": {
             "endlinecolor": "#2a3f5f",
             "gridcolor": "#C8D4E3",
             "linecolor": "#C8D4E3",
             "minorgridcolor": "#C8D4E3",
             "startlinecolor": "#2a3f5f"
            },
            "baxis": {
             "endlinecolor": "#2a3f5f",
             "gridcolor": "#C8D4E3",
             "linecolor": "#C8D4E3",
             "minorgridcolor": "#C8D4E3",
             "startlinecolor": "#2a3f5f"
            },
            "type": "carpet"
           }
          ],
          "choropleth": [
           {
            "colorbar": {
             "outlinewidth": 0,
             "ticks": ""
            },
            "type": "choropleth"
           }
          ],
          "contour": [
           {
            "colorbar": {
             "outlinewidth": 0,
             "ticks": ""
            },
            "colorscale": [
             [
              0,
              "#0d0887"
             ],
             [
              0.1111111111111111,
              "#46039f"
             ],
             [
              0.2222222222222222,
              "#7201a8"
             ],
             [
              0.3333333333333333,
              "#9c179e"
             ],
             [
              0.4444444444444444,
              "#bd3786"
             ],
             [
              0.5555555555555556,
              "#d8576b"
             ],
             [
              0.6666666666666666,
              "#ed7953"
             ],
             [
              0.7777777777777778,
              "#fb9f3a"
             ],
             [
              0.8888888888888888,
              "#fdca26"
             ],
             [
              1,
              "#f0f921"
             ]
            ],
            "type": "contour"
           }
          ],
          "contourcarpet": [
           {
            "colorbar": {
             "outlinewidth": 0,
             "ticks": ""
            },
            "type": "contourcarpet"
           }
          ],
          "heatmap": [
           {
            "colorbar": {
             "outlinewidth": 0,
             "ticks": ""
            },
            "colorscale": [
             [
              0,
              "#0d0887"
             ],
             [
              0.1111111111111111,
              "#46039f"
             ],
             [
              0.2222222222222222,
              "#7201a8"
             ],
             [
              0.3333333333333333,
              "#9c179e"
             ],
             [
              0.4444444444444444,
              "#bd3786"
             ],
             [
              0.5555555555555556,
              "#d8576b"
             ],
             [
              0.6666666666666666,
              "#ed7953"
             ],
             [
              0.7777777777777778,
              "#fb9f3a"
             ],
             [
              0.8888888888888888,
              "#fdca26"
             ],
             [
              1,
              "#f0f921"
             ]
            ],
            "type": "heatmap"
           }
          ],
          "heatmapgl": [
           {
            "colorbar": {
             "outlinewidth": 0,
             "ticks": ""
            },
            "colorscale": [
             [
              0,
              "#0d0887"
             ],
             [
              0.1111111111111111,
              "#46039f"
             ],
             [
              0.2222222222222222,
              "#7201a8"
             ],
             [
              0.3333333333333333,
              "#9c179e"
             ],
             [
              0.4444444444444444,
              "#bd3786"
             ],
             [
              0.5555555555555556,
              "#d8576b"
             ],
             [
              0.6666666666666666,
              "#ed7953"
             ],
             [
              0.7777777777777778,
              "#fb9f3a"
             ],
             [
              0.8888888888888888,
              "#fdca26"
             ],
             [
              1,
              "#f0f921"
             ]
            ],
            "type": "heatmapgl"
           }
          ],
          "histogram": [
           {
            "marker": {
             "pattern": {
              "fillmode": "overlay",
              "size": 10,
              "solidity": 0.2
             }
            },
            "type": "histogram"
           }
          ],
          "histogram2d": [
           {
            "colorbar": {
             "outlinewidth": 0,
             "ticks": ""
            },
            "colorscale": [
             [
              0,
              "#0d0887"
             ],
             [
              0.1111111111111111,
              "#46039f"
             ],
             [
              0.2222222222222222,
              "#7201a8"
             ],
             [
              0.3333333333333333,
              "#9c179e"
             ],
             [
              0.4444444444444444,
              "#bd3786"
             ],
             [
              0.5555555555555556,
              "#d8576b"
             ],
             [
              0.6666666666666666,
              "#ed7953"
             ],
             [
              0.7777777777777778,
              "#fb9f3a"
             ],
             [
              0.8888888888888888,
              "#fdca26"
             ],
             [
              1,
              "#f0f921"
             ]
            ],
            "type": "histogram2d"
           }
          ],
          "histogram2dcontour": [
           {
            "colorbar": {
             "outlinewidth": 0,
             "ticks": ""
            },
            "colorscale": [
             [
              0,
              "#0d0887"
             ],
             [
              0.1111111111111111,
              "#46039f"
             ],
             [
              0.2222222222222222,
              "#7201a8"
             ],
             [
              0.3333333333333333,
              "#9c179e"
             ],
             [
              0.4444444444444444,
              "#bd3786"
             ],
             [
              0.5555555555555556,
              "#d8576b"
             ],
             [
              0.6666666666666666,
              "#ed7953"
             ],
             [
              0.7777777777777778,
              "#fb9f3a"
             ],
             [
              0.8888888888888888,
              "#fdca26"
             ],
             [
              1,
              "#f0f921"
             ]
            ],
            "type": "histogram2dcontour"
           }
          ],
          "mesh3d": [
           {
            "colorbar": {
             "outlinewidth": 0,
             "ticks": ""
            },
            "type": "mesh3d"
           }
          ],
          "parcoords": [
           {
            "line": {
             "colorbar": {
              "outlinewidth": 0,
              "ticks": ""
             }
            },
            "type": "parcoords"
           }
          ],
          "pie": [
           {
            "automargin": true,
            "type": "pie"
           }
          ],
          "scatter": [
           {
            "fillpattern": {
             "fillmode": "overlay",
             "size": 10,
             "solidity": 0.2
            },
            "type": "scatter"
           }
          ],
          "scatter3d": [
           {
            "line": {
             "colorbar": {
              "outlinewidth": 0,
              "ticks": ""
             }
            },
            "marker": {
             "colorbar": {
              "outlinewidth": 0,
              "ticks": ""
             }
            },
            "type": "scatter3d"
           }
          ],
          "scattercarpet": [
           {
            "marker": {
             "colorbar": {
              "outlinewidth": 0,
              "ticks": ""
             }
            },
            "type": "scattercarpet"
           }
          ],
          "scattergeo": [
           {
            "marker": {
             "colorbar": {
              "outlinewidth": 0,
              "ticks": ""
             }
            },
            "type": "scattergeo"
           }
          ],
          "scattergl": [
           {
            "marker": {
             "colorbar": {
              "outlinewidth": 0,
              "ticks": ""
             }
            },
            "type": "scattergl"
           }
          ],
          "scattermapbox": [
           {
            "marker": {
             "colorbar": {
              "outlinewidth": 0,
              "ticks": ""
             }
            },
            "type": "scattermapbox"
           }
          ],
          "scatterpolar": [
           {
            "marker": {
             "colorbar": {
              "outlinewidth": 0,
              "ticks": ""
             }
            },
            "type": "scatterpolar"
           }
          ],
          "scatterpolargl": [
           {
            "marker": {
             "colorbar": {
              "outlinewidth": 0,
              "ticks": ""
             }
            },
            "type": "scatterpolargl"
           }
          ],
          "scatterternary": [
           {
            "marker": {
             "colorbar": {
              "outlinewidth": 0,
              "ticks": ""
             }
            },
            "type": "scatterternary"
           }
          ],
          "surface": [
           {
            "colorbar": {
             "outlinewidth": 0,
             "ticks": ""
            },
            "colorscale": [
             [
              0,
              "#0d0887"
             ],
             [
              0.1111111111111111,
              "#46039f"
             ],
             [
              0.2222222222222222,
              "#7201a8"
             ],
             [
              0.3333333333333333,
              "#9c179e"
             ],
             [
              0.4444444444444444,
              "#bd3786"
             ],
             [
              0.5555555555555556,
              "#d8576b"
             ],
             [
              0.6666666666666666,
              "#ed7953"
             ],
             [
              0.7777777777777778,
              "#fb9f3a"
             ],
             [
              0.8888888888888888,
              "#fdca26"
             ],
             [
              1,
              "#f0f921"
             ]
            ],
            "type": "surface"
           }
          ],
          "table": [
           {
            "cells": {
             "fill": {
              "color": "#EBF0F8"
             },
             "line": {
              "color": "white"
             }
            },
            "header": {
             "fill": {
              "color": "#C8D4E3"
             },
             "line": {
              "color": "white"
             }
            },
            "type": "table"
           }
          ]
         },
         "layout": {
          "annotationdefaults": {
           "arrowcolor": "#2a3f5f",
           "arrowhead": 0,
           "arrowwidth": 1
          },
          "autotypenumbers": "strict",
          "coloraxis": {
           "colorbar": {
            "outlinewidth": 0,
            "ticks": ""
           }
          },
          "colorscale": {
           "diverging": [
            [
             0,
             "#8e0152"
            ],
            [
             0.1,
             "#c51b7d"
            ],
            [
             0.2,
             "#de77ae"
            ],
            [
             0.3,
             "#f1b6da"
            ],
            [
             0.4,
             "#fde0ef"
            ],
            [
             0.5,
             "#f7f7f7"
            ],
            [
             0.6,
             "#e6f5d0"
            ],
            [
             0.7,
             "#b8e186"
            ],
            [
             0.8,
             "#7fbc41"
            ],
            [
             0.9,
             "#4d9221"
            ],
            [
             1,
             "#276419"
            ]
           ],
           "sequential": [
            [
             0,
             "#0d0887"
            ],
            [
             0.1111111111111111,
             "#46039f"
            ],
            [
             0.2222222222222222,
             "#7201a8"
            ],
            [
             0.3333333333333333,
             "#9c179e"
            ],
            [
             0.4444444444444444,
             "#bd3786"
            ],
            [
             0.5555555555555556,
             "#d8576b"
            ],
            [
             0.6666666666666666,
             "#ed7953"
            ],
            [
             0.7777777777777778,
             "#fb9f3a"
            ],
            [
             0.8888888888888888,
             "#fdca26"
            ],
            [
             1,
             "#f0f921"
            ]
           ],
           "sequentialminus": [
            [
             0,
             "#0d0887"
            ],
            [
             0.1111111111111111,
             "#46039f"
            ],
            [
             0.2222222222222222,
             "#7201a8"
            ],
            [
             0.3333333333333333,
             "#9c179e"
            ],
            [
             0.4444444444444444,
             "#bd3786"
            ],
            [
             0.5555555555555556,
             "#d8576b"
            ],
            [
             0.6666666666666666,
             "#ed7953"
            ],
            [
             0.7777777777777778,
             "#fb9f3a"
            ],
            [
             0.8888888888888888,
             "#fdca26"
            ],
            [
             1,
             "#f0f921"
            ]
           ]
          },
          "colorway": [
           "#636efa",
           "#EF553B",
           "#00cc96",
           "#ab63fa",
           "#FFA15A",
           "#19d3f3",
           "#FF6692",
           "#B6E880",
           "#FF97FF",
           "#FECB52"
          ],
          "font": {
           "color": "#2a3f5f"
          },
          "geo": {
           "bgcolor": "white",
           "lakecolor": "white",
           "landcolor": "white",
           "showlakes": true,
           "showland": true,
           "subunitcolor": "#C8D4E3"
          },
          "hoverlabel": {
           "align": "left"
          },
          "hovermode": "closest",
          "mapbox": {
           "style": "light"
          },
          "paper_bgcolor": "white",
          "plot_bgcolor": "white",
          "polar": {
           "angularaxis": {
            "gridcolor": "#EBF0F8",
            "linecolor": "#EBF0F8",
            "ticks": ""
           },
           "bgcolor": "white",
           "radialaxis": {
            "gridcolor": "#EBF0F8",
            "linecolor": "#EBF0F8",
            "ticks": ""
           }
          },
          "scene": {
           "xaxis": {
            "backgroundcolor": "white",
            "gridcolor": "#DFE8F3",
            "gridwidth": 2,
            "linecolor": "#EBF0F8",
            "showbackground": true,
            "ticks": "",
            "zerolinecolor": "#EBF0F8"
           },
           "yaxis": {
            "backgroundcolor": "white",
            "gridcolor": "#DFE8F3",
            "gridwidth": 2,
            "linecolor": "#EBF0F8",
            "showbackground": true,
            "ticks": "",
            "zerolinecolor": "#EBF0F8"
           },
           "zaxis": {
            "backgroundcolor": "white",
            "gridcolor": "#DFE8F3",
            "gridwidth": 2,
            "linecolor": "#EBF0F8",
            "showbackground": true,
            "ticks": "",
            "zerolinecolor": "#EBF0F8"
           }
          },
          "shapedefaults": {
           "line": {
            "color": "#2a3f5f"
           }
          },
          "ternary": {
           "aaxis": {
            "gridcolor": "#DFE8F3",
            "linecolor": "#A2B1C6",
            "ticks": ""
           },
           "baxis": {
            "gridcolor": "#DFE8F3",
            "linecolor": "#A2B1C6",
            "ticks": ""
           },
           "bgcolor": "white",
           "caxis": {
            "gridcolor": "#DFE8F3",
            "linecolor": "#A2B1C6",
            "ticks": ""
           }
          },
          "title": {
           "x": 0.05
          },
          "xaxis": {
           "automargin": true,
           "gridcolor": "#EBF0F8",
           "linecolor": "#EBF0F8",
           "ticks": "",
           "title": {
            "standoff": 15
           },
           "zerolinecolor": "#EBF0F8",
           "zerolinewidth": 2
          },
          "yaxis": {
           "automargin": true,
           "gridcolor": "#EBF0F8",
           "linecolor": "#EBF0F8",
           "ticks": "",
           "title": {
            "standoff": 15
           },
           "zerolinecolor": "#EBF0F8",
           "zerolinewidth": 2
          }
         }
        },
        "title": {
         "text": "Price of the cheapest model with HumanEval > 80%"
        },
        "width": 800,
        "xaxis": {
         "anchor": "y",
         "domain": [
          0,
          1
         ],
         "title": {
          "text": "Release Date"
         }
        },
        "yaxis": {
         "anchor": "x",
         "domain": [
          0,
          1
         ],
         "title": {
          "text": "USD per 1M Tokens"
         },
         "type": "log"
        }
       }
      }
     },
     "metadata": {},
     "output_type": "display_data"
    }
   ],
   "source": [
    "# Plot the cheapest models\n",
    "fig = px.line(cheapest_models_df, x='Release Date', y='USD per 1M Tokens',\n",
    "                title=f'Price of the cheapest model with {bench} > {performance_lower_bound}%',\n",
    "                text='Model Name', markers=True,\n",
    "                line_shape='hv')  # Make line vertical-horizontal\n",
    "fig.update_traces(textposition='bottom left')\n",
    "fig.update_layout(yaxis_type='log')\n",
    "fig.update_layout(\n",
    "    width=800,\n",
    "    height=600,\n",
    "    font=dict(size=10),\n",
    ")\n",
    "# if save:\n",
    "#     save_plot(fig, results_dir, f'aa_cheapest_models_{bench}_above_{performance_lower_bound}')\n",
    "fig.show()"
   ]
  },
  {
   "cell_type": "code",
   "execution_count": 12,
   "metadata": {},
   "outputs": [
    {
     "name": "stdout",
     "output_type": "stream",
     "text": [
      "                            OLS Regression Results                            \n",
      "==============================================================================\n",
      "Dep. Variable:              log_price   R-squared:                       0.759\n",
      "Model:                            OLS   Adj. R-squared:                  0.679\n",
      "Method:                 Least Squares   F-statistic:                     9.454\n",
      "Date:                Wed, 29 Jan 2025   Prob (F-statistic):             0.0544\n",
      "Time:                        17:30:31   Log-Likelihood:                -2.4166\n",
      "No. Observations:                   5   AIC:                             8.833\n",
      "Df Residuals:                       3   BIC:                             8.052\n",
      "Df Model:                           1                                         \n",
      "Covariance Type:            nonrobust                                         \n",
      "==============================================================================\n",
      "                 coef    std err          t      P>|t|      [0.025      0.975]\n",
      "------------------------------------------------------------------------------\n",
      "Intercept   5012.7090   1630.281      3.075      0.054    -175.574    1.02e+04\n",
      "date          -0.0068      0.002     -3.075      0.054      -0.014       0.000\n",
      "==============================================================================\n",
      "Omnibus:                          nan   Durbin-Watson:                   1.872\n",
      "Prob(Omnibus):                    nan   Jarque-Bera (JB):                0.693\n",
      "Skew:                           0.760   Prob(JB):                        0.707\n",
      "Kurtosis:                       1.990   Cond. No.                     5.32e+09\n",
      "==============================================================================\n",
      "\n",
      "Notes:\n",
      "[1] Standard Errors assume that the covariance matrix of the errors is correctly specified.\n",
      "[2] The condition number is large, 5.32e+09. This might indicate that there are\n",
      "strong multicollinearity or other numerical problems.\n",
      "                            OLS Regression Results                            \n",
      "==============================================================================\n",
      "Dep. Variable:                  price   R-squared:                       0.914\n",
      "Model:                            OLS   Adj. R-squared:                  0.885\n",
      "Method:                 Least Squares   F-statistic:                     31.78\n",
      "Date:                Wed, 29 Jan 2025   Prob (F-statistic):             0.0110\n",
      "Time:                        17:30:31   Log-Likelihood:                -9.6937\n",
      "No. Observations:                   5   AIC:                             23.39\n",
      "Df Residuals:                       3   BIC:                             22.61\n",
      "Df Model:                           1                                         \n",
      "Covariance Type:            nonrobust                                         \n",
      "==============================================================================\n",
      "                 coef    std err          t      P>|t|      [0.025      0.975]\n",
      "------------------------------------------------------------------------------\n",
      "Intercept    3.94e+04   6987.954      5.638      0.011    1.72e+04    6.16e+04\n",
      "date          -0.0533      0.009     -5.637      0.011      -0.083      -0.023\n",
      "==============================================================================\n",
      "Omnibus:                          nan   Durbin-Watson:                   2.336\n",
      "Prob(Omnibus):                    nan   Jarque-Bera (JB):                0.553\n",
      "Skew:                           0.048   Prob(JB):                        0.758\n",
      "Kurtosis:                       1.374   Cond. No.                     5.32e+09\n",
      "==============================================================================\n",
      "\n",
      "Notes:\n",
      "[1] Standard Errors assume that the covariance matrix of the errors is correctly specified.\n",
      "[2] The condition number is large, 5.32e+09. This might indicate that there are\n",
      "strong multicollinearity or other numerical problems.\n"
     ]
    },
    {
     "name": "stderr",
     "output_type": "stream",
     "text": [
      "/Users/bencottier/miniconda3/envs/llm-efficiency/lib/python3.12/site-packages/statsmodels/stats/stattools.py:74: ValueWarning:\n",
      "\n",
      "omni_normtest is not valid with less than 8 observations; 5 samples were given.\n",
      "\n",
      "/Users/bencottier/miniconda3/envs/llm-efficiency/lib/python3.12/site-packages/statsmodels/stats/stattools.py:74: ValueWarning:\n",
      "\n",
      "omni_normtest is not valid with less than 8 observations; 5 samples were given.\n",
      "\n"
     ]
    }
   ],
   "source": [
    "# Fit a line to the data\n",
    "cheapest_models_df['price'] = cheapest_models_df['USD per 1M Tokens']\n",
    "cheapest_models_df['log_price'] = np.log10(cheapest_models_df['USD per 1M Tokens'])\n",
    "cheapest_models_df['date'] = cheapest_models_df['Release Date'].map(lambda x: pd.Timestamp(x).toordinal())\n",
    "exponential_model = smf.ols('log_price ~ date', data=cheapest_models_df).fit()\n",
    "print(exponential_model.summary())\n",
    "\n",
    "linear_model = smf.ols('price ~ date', data=cheapest_models_df).fit()\n",
    "print(linear_model.summary())"
   ]
  },
  {
   "cell_type": "code",
   "execution_count": 13,
   "metadata": {},
   "outputs": [
    {
     "data": {
      "application/vnd.plotly.v1+json": {
       "config": {
        "plotlyServerURL": "https://plot.ly"
       },
       "data": [
        {
         "line": {
          "color": "lightgrey",
          "dash": "dash"
         },
         "mode": "lines",
         "name": "Trendline: 299x decrease per year",
         "textposition": "bottom left",
         "type": "scatter",
         "x": [
          "2023-11-01T00:00:00",
          "2024-05-01T00:00:00",
          "2024-06-01T00:00:00",
          "2024-07-01T00:00:00",
          "2024-09-01T00:00:00"
         ],
         "y": [
          27.29395277495108,
          1.5907577916892965,
          0.9802536983013618,
          0.6135580805650389,
          0.23298316506820774
         ]
        },
        {
         "line": {
          "shape": "hv"
         },
         "mode": "lines+markers+text",
         "name": "Data",
         "text": [
          "GPT-4 Turbo",
          "GPT-4o-2024-05",
          "Claude-3.5-Haiku",
          "GPT-4o-mini",
          "Gemini-1.5-Flash-2024-09"
         ],
         "textposition": "bottom left",
         "type": "scatter",
         "x": [
          "2023-11-01T00:00:00",
          "2024-05-01T00:00:00",
          "2024-06-01T00:00:00",
          "2024-07-01T00:00:00",
          "2024-09-01T00:00:00"
         ],
         "y": [
          15,
          7.5,
          1.6,
          0.26,
          0.13
         ]
        }
       ],
       "layout": {
        "font": {
         "size": 10
        },
        "height": 600,
        "legend": {
         "bordercolor": "lightgrey",
         "borderwidth": 1,
         "x": 0.99,
         "xanchor": "right",
         "y": 0.99,
         "yanchor": "top"
        },
        "template": {
         "data": {
          "bar": [
           {
            "error_x": {
             "color": "#2a3f5f"
            },
            "error_y": {
             "color": "#2a3f5f"
            },
            "marker": {
             "line": {
              "color": "white",
              "width": 0.5
             },
             "pattern": {
              "fillmode": "overlay",
              "size": 10,
              "solidity": 0.2
             }
            },
            "type": "bar"
           }
          ],
          "barpolar": [
           {
            "marker": {
             "line": {
              "color": "white",
              "width": 0.5
             },
             "pattern": {
              "fillmode": "overlay",
              "size": 10,
              "solidity": 0.2
             }
            },
            "type": "barpolar"
           }
          ],
          "carpet": [
           {
            "aaxis": {
             "endlinecolor": "#2a3f5f",
             "gridcolor": "#C8D4E3",
             "linecolor": "#C8D4E3",
             "minorgridcolor": "#C8D4E3",
             "startlinecolor": "#2a3f5f"
            },
            "baxis": {
             "endlinecolor": "#2a3f5f",
             "gridcolor": "#C8D4E3",
             "linecolor": "#C8D4E3",
             "minorgridcolor": "#C8D4E3",
             "startlinecolor": "#2a3f5f"
            },
            "type": "carpet"
           }
          ],
          "choropleth": [
           {
            "colorbar": {
             "outlinewidth": 0,
             "ticks": ""
            },
            "type": "choropleth"
           }
          ],
          "contour": [
           {
            "colorbar": {
             "outlinewidth": 0,
             "ticks": ""
            },
            "colorscale": [
             [
              0,
              "#0d0887"
             ],
             [
              0.1111111111111111,
              "#46039f"
             ],
             [
              0.2222222222222222,
              "#7201a8"
             ],
             [
              0.3333333333333333,
              "#9c179e"
             ],
             [
              0.4444444444444444,
              "#bd3786"
             ],
             [
              0.5555555555555556,
              "#d8576b"
             ],
             [
              0.6666666666666666,
              "#ed7953"
             ],
             [
              0.7777777777777778,
              "#fb9f3a"
             ],
             [
              0.8888888888888888,
              "#fdca26"
             ],
             [
              1,
              "#f0f921"
             ]
            ],
            "type": "contour"
           }
          ],
          "contourcarpet": [
           {
            "colorbar": {
             "outlinewidth": 0,
             "ticks": ""
            },
            "type": "contourcarpet"
           }
          ],
          "heatmap": [
           {
            "colorbar": {
             "outlinewidth": 0,
             "ticks": ""
            },
            "colorscale": [
             [
              0,
              "#0d0887"
             ],
             [
              0.1111111111111111,
              "#46039f"
             ],
             [
              0.2222222222222222,
              "#7201a8"
             ],
             [
              0.3333333333333333,
              "#9c179e"
             ],
             [
              0.4444444444444444,
              "#bd3786"
             ],
             [
              0.5555555555555556,
              "#d8576b"
             ],
             [
              0.6666666666666666,
              "#ed7953"
             ],
             [
              0.7777777777777778,
              "#fb9f3a"
             ],
             [
              0.8888888888888888,
              "#fdca26"
             ],
             [
              1,
              "#f0f921"
             ]
            ],
            "type": "heatmap"
           }
          ],
          "heatmapgl": [
           {
            "colorbar": {
             "outlinewidth": 0,
             "ticks": ""
            },
            "colorscale": [
             [
              0,
              "#0d0887"
             ],
             [
              0.1111111111111111,
              "#46039f"
             ],
             [
              0.2222222222222222,
              "#7201a8"
             ],
             [
              0.3333333333333333,
              "#9c179e"
             ],
             [
              0.4444444444444444,
              "#bd3786"
             ],
             [
              0.5555555555555556,
              "#d8576b"
             ],
             [
              0.6666666666666666,
              "#ed7953"
             ],
             [
              0.7777777777777778,
              "#fb9f3a"
             ],
             [
              0.8888888888888888,
              "#fdca26"
             ],
             [
              1,
              "#f0f921"
             ]
            ],
            "type": "heatmapgl"
           }
          ],
          "histogram": [
           {
            "marker": {
             "pattern": {
              "fillmode": "overlay",
              "size": 10,
              "solidity": 0.2
             }
            },
            "type": "histogram"
           }
          ],
          "histogram2d": [
           {
            "colorbar": {
             "outlinewidth": 0,
             "ticks": ""
            },
            "colorscale": [
             [
              0,
              "#0d0887"
             ],
             [
              0.1111111111111111,
              "#46039f"
             ],
             [
              0.2222222222222222,
              "#7201a8"
             ],
             [
              0.3333333333333333,
              "#9c179e"
             ],
             [
              0.4444444444444444,
              "#bd3786"
             ],
             [
              0.5555555555555556,
              "#d8576b"
             ],
             [
              0.6666666666666666,
              "#ed7953"
             ],
             [
              0.7777777777777778,
              "#fb9f3a"
             ],
             [
              0.8888888888888888,
              "#fdca26"
             ],
             [
              1,
              "#f0f921"
             ]
            ],
            "type": "histogram2d"
           }
          ],
          "histogram2dcontour": [
           {
            "colorbar": {
             "outlinewidth": 0,
             "ticks": ""
            },
            "colorscale": [
             [
              0,
              "#0d0887"
             ],
             [
              0.1111111111111111,
              "#46039f"
             ],
             [
              0.2222222222222222,
              "#7201a8"
             ],
             [
              0.3333333333333333,
              "#9c179e"
             ],
             [
              0.4444444444444444,
              "#bd3786"
             ],
             [
              0.5555555555555556,
              "#d8576b"
             ],
             [
              0.6666666666666666,
              "#ed7953"
             ],
             [
              0.7777777777777778,
              "#fb9f3a"
             ],
             [
              0.8888888888888888,
              "#fdca26"
             ],
             [
              1,
              "#f0f921"
             ]
            ],
            "type": "histogram2dcontour"
           }
          ],
          "mesh3d": [
           {
            "colorbar": {
             "outlinewidth": 0,
             "ticks": ""
            },
            "type": "mesh3d"
           }
          ],
          "parcoords": [
           {
            "line": {
             "colorbar": {
              "outlinewidth": 0,
              "ticks": ""
             }
            },
            "type": "parcoords"
           }
          ],
          "pie": [
           {
            "automargin": true,
            "type": "pie"
           }
          ],
          "scatter": [
           {
            "fillpattern": {
             "fillmode": "overlay",
             "size": 10,
             "solidity": 0.2
            },
            "type": "scatter"
           }
          ],
          "scatter3d": [
           {
            "line": {
             "colorbar": {
              "outlinewidth": 0,
              "ticks": ""
             }
            },
            "marker": {
             "colorbar": {
              "outlinewidth": 0,
              "ticks": ""
             }
            },
            "type": "scatter3d"
           }
          ],
          "scattercarpet": [
           {
            "marker": {
             "colorbar": {
              "outlinewidth": 0,
              "ticks": ""
             }
            },
            "type": "scattercarpet"
           }
          ],
          "scattergeo": [
           {
            "marker": {
             "colorbar": {
              "outlinewidth": 0,
              "ticks": ""
             }
            },
            "type": "scattergeo"
           }
          ],
          "scattergl": [
           {
            "marker": {
             "colorbar": {
              "outlinewidth": 0,
              "ticks": ""
             }
            },
            "type": "scattergl"
           }
          ],
          "scattermapbox": [
           {
            "marker": {
             "colorbar": {
              "outlinewidth": 0,
              "ticks": ""
             }
            },
            "type": "scattermapbox"
           }
          ],
          "scatterpolar": [
           {
            "marker": {
             "colorbar": {
              "outlinewidth": 0,
              "ticks": ""
             }
            },
            "type": "scatterpolar"
           }
          ],
          "scatterpolargl": [
           {
            "marker": {
             "colorbar": {
              "outlinewidth": 0,
              "ticks": ""
             }
            },
            "type": "scatterpolargl"
           }
          ],
          "scatterternary": [
           {
            "marker": {
             "colorbar": {
              "outlinewidth": 0,
              "ticks": ""
             }
            },
            "type": "scatterternary"
           }
          ],
          "surface": [
           {
            "colorbar": {
             "outlinewidth": 0,
             "ticks": ""
            },
            "colorscale": [
             [
              0,
              "#0d0887"
             ],
             [
              0.1111111111111111,
              "#46039f"
             ],
             [
              0.2222222222222222,
              "#7201a8"
             ],
             [
              0.3333333333333333,
              "#9c179e"
             ],
             [
              0.4444444444444444,
              "#bd3786"
             ],
             [
              0.5555555555555556,
              "#d8576b"
             ],
             [
              0.6666666666666666,
              "#ed7953"
             ],
             [
              0.7777777777777778,
              "#fb9f3a"
             ],
             [
              0.8888888888888888,
              "#fdca26"
             ],
             [
              1,
              "#f0f921"
             ]
            ],
            "type": "surface"
           }
          ],
          "table": [
           {
            "cells": {
             "fill": {
              "color": "#EBF0F8"
             },
             "line": {
              "color": "white"
             }
            },
            "header": {
             "fill": {
              "color": "#C8D4E3"
             },
             "line": {
              "color": "white"
             }
            },
            "type": "table"
           }
          ]
         },
         "layout": {
          "annotationdefaults": {
           "arrowcolor": "#2a3f5f",
           "arrowhead": 0,
           "arrowwidth": 1
          },
          "autotypenumbers": "strict",
          "coloraxis": {
           "colorbar": {
            "outlinewidth": 0,
            "ticks": ""
           }
          },
          "colorscale": {
           "diverging": [
            [
             0,
             "#8e0152"
            ],
            [
             0.1,
             "#c51b7d"
            ],
            [
             0.2,
             "#de77ae"
            ],
            [
             0.3,
             "#f1b6da"
            ],
            [
             0.4,
             "#fde0ef"
            ],
            [
             0.5,
             "#f7f7f7"
            ],
            [
             0.6,
             "#e6f5d0"
            ],
            [
             0.7,
             "#b8e186"
            ],
            [
             0.8,
             "#7fbc41"
            ],
            [
             0.9,
             "#4d9221"
            ],
            [
             1,
             "#276419"
            ]
           ],
           "sequential": [
            [
             0,
             "#0d0887"
            ],
            [
             0.1111111111111111,
             "#46039f"
            ],
            [
             0.2222222222222222,
             "#7201a8"
            ],
            [
             0.3333333333333333,
             "#9c179e"
            ],
            [
             0.4444444444444444,
             "#bd3786"
            ],
            [
             0.5555555555555556,
             "#d8576b"
            ],
            [
             0.6666666666666666,
             "#ed7953"
            ],
            [
             0.7777777777777778,
             "#fb9f3a"
            ],
            [
             0.8888888888888888,
             "#fdca26"
            ],
            [
             1,
             "#f0f921"
            ]
           ],
           "sequentialminus": [
            [
             0,
             "#0d0887"
            ],
            [
             0.1111111111111111,
             "#46039f"
            ],
            [
             0.2222222222222222,
             "#7201a8"
            ],
            [
             0.3333333333333333,
             "#9c179e"
            ],
            [
             0.4444444444444444,
             "#bd3786"
            ],
            [
             0.5555555555555556,
             "#d8576b"
            ],
            [
             0.6666666666666666,
             "#ed7953"
            ],
            [
             0.7777777777777778,
             "#fb9f3a"
            ],
            [
             0.8888888888888888,
             "#fdca26"
            ],
            [
             1,
             "#f0f921"
            ]
           ]
          },
          "colorway": [
           "#636efa",
           "#EF553B",
           "#00cc96",
           "#ab63fa",
           "#FFA15A",
           "#19d3f3",
           "#FF6692",
           "#B6E880",
           "#FF97FF",
           "#FECB52"
          ],
          "font": {
           "color": "#2a3f5f"
          },
          "geo": {
           "bgcolor": "white",
           "lakecolor": "white",
           "landcolor": "white",
           "showlakes": true,
           "showland": true,
           "subunitcolor": "#C8D4E3"
          },
          "hoverlabel": {
           "align": "left"
          },
          "hovermode": "closest",
          "mapbox": {
           "style": "light"
          },
          "paper_bgcolor": "white",
          "plot_bgcolor": "white",
          "polar": {
           "angularaxis": {
            "gridcolor": "#EBF0F8",
            "linecolor": "#EBF0F8",
            "ticks": ""
           },
           "bgcolor": "white",
           "radialaxis": {
            "gridcolor": "#EBF0F8",
            "linecolor": "#EBF0F8",
            "ticks": ""
           }
          },
          "scene": {
           "xaxis": {
            "backgroundcolor": "white",
            "gridcolor": "#DFE8F3",
            "gridwidth": 2,
            "linecolor": "#EBF0F8",
            "showbackground": true,
            "ticks": "",
            "zerolinecolor": "#EBF0F8"
           },
           "yaxis": {
            "backgroundcolor": "white",
            "gridcolor": "#DFE8F3",
            "gridwidth": 2,
            "linecolor": "#EBF0F8",
            "showbackground": true,
            "ticks": "",
            "zerolinecolor": "#EBF0F8"
           },
           "zaxis": {
            "backgroundcolor": "white",
            "gridcolor": "#DFE8F3",
            "gridwidth": 2,
            "linecolor": "#EBF0F8",
            "showbackground": true,
            "ticks": "",
            "zerolinecolor": "#EBF0F8"
           }
          },
          "shapedefaults": {
           "line": {
            "color": "#2a3f5f"
           }
          },
          "ternary": {
           "aaxis": {
            "gridcolor": "#DFE8F3",
            "linecolor": "#A2B1C6",
            "ticks": ""
           },
           "baxis": {
            "gridcolor": "#DFE8F3",
            "linecolor": "#A2B1C6",
            "ticks": ""
           },
           "bgcolor": "white",
           "caxis": {
            "gridcolor": "#DFE8F3",
            "linecolor": "#A2B1C6",
            "ticks": ""
           }
          },
          "title": {
           "x": 0.05
          },
          "xaxis": {
           "automargin": true,
           "gridcolor": "#EBF0F8",
           "linecolor": "#EBF0F8",
           "ticks": "",
           "title": {
            "standoff": 15
           },
           "zerolinecolor": "#EBF0F8",
           "zerolinewidth": 2
          },
          "yaxis": {
           "automargin": true,
           "gridcolor": "#EBF0F8",
           "linecolor": "#EBF0F8",
           "ticks": "",
           "title": {
            "standoff": 15
           },
           "zerolinecolor": "#EBF0F8",
           "zerolinewidth": 2
          }
         }
        },
        "title": {
         "text": "Price of the cheapest model with HumanEval > 80%"
        },
        "width": 800,
        "xaxis": {
         "range": [
          "2023-08-03T00:00:00",
          "2024-10-01T00:00:00"
         ],
         "title": {
          "text": "Month"
         }
        },
        "yaxis": {
         "title": {
          "text": "Price in USD per million tokens"
         },
         "type": "log"
        }
       }
      }
     },
     "metadata": {},
     "output_type": "display_data"
    }
   ],
   "source": [
    "# Calculate annual rate of decrease\n",
    "annual_slope = exponential_model.params['date'] * 365  # Convert daily to annual\n",
    "annual_factor = int(round(10**(-annual_slope)))  # Convert log slope to factor\n",
    "\n",
    "# Plot the exponential trendline with the data\n",
    "fig = go.Figure()\n",
    "fig.add_trace(go.Scatter(\n",
    "    x=cheapest_models_df['Release Date'],\n",
    "    y=10**exponential_model.predict(cheapest_models_df['date']),\n",
    "    mode='lines',\n",
    "    name=f'Trendline: {annual_factor}x decrease per year',\n",
    "    line=dict(color='lightgrey', dash='dash')\n",
    "))\n",
    "fig.add_trace(go.Scatter(\n",
    "    x=cheapest_models_df['Release Date'],\n",
    "    y=cheapest_models_df['USD per 1M Tokens'],\n",
    "    mode='lines+markers+text',\n",
    "    name='Data',\n",
    "    text=cheapest_models_df['Model Name'],\n",
    "    textposition='bottom left',\n",
    "    line=dict(shape='hv')\n",
    "))\n",
    "fig.update_layout(\n",
    "    title=f'Price of the cheapest model with {bench} > {performance_lower_bound}%'\n",
    ")\n",
    "fig.update_traces(textposition='bottom left')\n",
    "fig.update_layout(yaxis_type='log')\n",
    "fig.update_layout(xaxis_title='Month')\n",
    "fig.update_layout(yaxis_title='Price in USD per million tokens')\n",
    "# Lower the lower x limit\n",
    "fig.update_layout(xaxis_range=[cheapest_models_df['Release Date'].min() - pd.Timedelta(days=90), cheapest_models_df['Release Date'].max()+pd.Timedelta(days=30)])\n",
    "fig.update_layout(\n",
    "    width=800,\n",
    "    height=600,\n",
    "    font=dict(size=10),\n",
    "    legend=dict(\n",
    "        yanchor=\"top\",\n",
    "        y=0.99,\n",
    "        xanchor=\"right\",\n",
    "        x=0.99,\n",
    "        bordercolor=\"lightgrey\",\n",
    "        borderwidth=1\n",
    "    )\n",
    ")\n",
    "# if save:\n",
    "#     save_plot(fig, results_dir, f'aa_cheapest_models_{bench}_above_{performance_lower_bound}_with_trendline')\n",
    "fig.show()"
   ]
  },
  {
   "cell_type": "markdown",
   "metadata": {},
   "source": [
    "## Regression on lowest-priced models above a performance lower bound"
   ]
  },
  {
   "cell_type": "code",
   "execution_count": 14,
   "metadata": {},
   "outputs": [
    {
     "name": "stdout",
     "output_type": "stream",
     "text": [
      "MMLU\n",
      "\n",
      "Performance lower bound: 10%\n",
      "2023-04-01 00:00:00 GPT-4 86 $37.50\n",
      "2023-08-01 00:00:00 Llama-2-Chat-7B 13 $0.33\n",
      "2024-05-01 00:00:00 Llama-3-Instruct-8B 64 $0.15\n",
      "2024-06-01 00:00:00 Gemini-1.5-Flash-2024-05 79 $0.13\n",
      "2024-08-01 00:00:00 Llama-3.1-Instruct-8B 71 $0.10\n",
      "2024-10-01 00:00:00 Llama-3.2-Instruct-1B 35 $0.05\n",
      "\n",
      "Performance lower bound: 20%\n",
      "2023-04-01 00:00:00 GPT-4 86 $37.50\n",
      "2023-08-01 00:00:00 Llama-2-Chat-13B 45 $0.56\n",
      "2024-04-01 00:00:00 Claude-3-Haiku 71 $0.50\n",
      "2024-05-01 00:00:00 Llama-3-Instruct-8B 64 $0.15\n",
      "2024-06-01 00:00:00 Gemini-1.5-Flash-2024-05 79 $0.13\n",
      "2024-08-01 00:00:00 Llama-3.1-Instruct-8B 71 $0.10\n",
      "2024-10-01 00:00:00 Llama-3.2-Instruct-1B 35 $0.05\n",
      "\n",
      "Performance lower bound: 30%\n",
      "2023-04-01 00:00:00 GPT-4 86 $37.50\n",
      "2023-08-01 00:00:00 Llama-2-Chat-13B 45 $0.56\n",
      "2024-04-01 00:00:00 Claude-3-Haiku 71 $0.50\n",
      "2024-05-01 00:00:00 Llama-3-Instruct-8B 64 $0.15\n",
      "2024-06-01 00:00:00 Gemini-1.5-Flash-2024-05 79 $0.13\n",
      "2024-08-01 00:00:00 Llama-3.1-Instruct-8B 71 $0.10\n",
      "2024-10-01 00:00:00 Llama-3.2-Instruct-1B 35 $0.05\n",
      "\n",
      "Performance lower bound: 40%\n",
      "2023-04-01 00:00:00 GPT-4 86 $37.50\n",
      "2023-08-01 00:00:00 Llama-2-Chat-13B 45 $0.56\n",
      "2024-04-01 00:00:00 Claude-3-Haiku 71 $0.50\n",
      "2024-05-01 00:00:00 Llama-3-Instruct-8B 64 $0.15\n",
      "2024-06-01 00:00:00 Gemini-1.5-Flash-2024-05 79 $0.13\n",
      "2024-08-01 00:00:00 Llama-3.1-Instruct-8B 71 $0.10\n",
      "2024-10-01 00:00:00 Llama-3.2-Instruct-3B 64 $0.08\n",
      "2024-11-01 00:00:00 Gemini-1.5-Flash-8B 75 $0.07\n",
      "\n",
      "Performance lower bound: 50%\n",
      "2023-04-01 00:00:00 GPT-4 86 $37.50\n",
      "2023-12-01 00:00:00 GPT-3.5 Turbo 68 $0.75\n",
      "2024-04-01 00:00:00 Claude-3-Haiku 71 $0.50\n",
      "2024-05-01 00:00:00 Llama-3-Instruct-8B 64 $0.15\n",
      "2024-06-01 00:00:00 Gemini-1.5-Flash-2024-05 79 $0.13\n",
      "2024-08-01 00:00:00 Llama-3.1-Instruct-8B 71 $0.10\n",
      "2024-10-01 00:00:00 Llama-3.2-Instruct-3B 64 $0.08\n",
      "2024-11-01 00:00:00 Gemini-1.5-Flash-8B 75 $0.07\n",
      "\n",
      "Performance lower bound: 60%\n",
      "2023-04-01 00:00:00 GPT-4 86 $37.50\n",
      "2023-12-01 00:00:00 GPT-3.5 Turbo 68 $0.75\n",
      "2024-04-01 00:00:00 Claude-3-Haiku 71 $0.50\n",
      "2024-05-01 00:00:00 Llama-3-Instruct-8B 64 $0.15\n",
      "2024-06-01 00:00:00 Gemini-1.5-Flash-2024-05 79 $0.13\n",
      "2024-08-01 00:00:00 Llama-3.1-Instruct-8B 71 $0.10\n",
      "2024-10-01 00:00:00 Llama-3.2-Instruct-3B 64 $0.08\n",
      "2024-11-01 00:00:00 Gemini-1.5-Flash-8B 75 $0.07\n",
      "\n",
      "Performance lower bound: 70%\n",
      "2023-04-01 00:00:00 GPT-4 86 $37.50\n",
      "2023-12-01 00:00:00 GPT-4 Turbo 87 $15.00\n",
      "2024-04-01 00:00:00 Claude-3-Haiku 71 $0.50\n",
      "2024-06-01 00:00:00 Gemini-1.5-Flash-2024-05 79 $0.13\n",
      "2024-08-01 00:00:00 Llama-3.1-Instruct-8B 71 $0.10\n",
      "2024-11-01 00:00:00 Gemini-1.5-Flash-8B 75 $0.07\n",
      "\n",
      "Performance lower bound: 80%\n",
      "2023-04-01 00:00:00 GPT-4 86 $37.50\n",
      "2023-12-01 00:00:00 GPT-4 Turbo 87 $15.00\n",
      "2024-06-01 00:00:00 Gemini-1.5-Pro-2024-05 86 $2.19\n",
      "2024-07-01 00:00:00 Claude-3.5-Haiku 81 $1.60\n",
      "2024-08-01 00:00:00 GPT-4o-mini 82 $0.26\n",
      "\n",
      "Performance lower bound: 90%\n",
      "Less than 2 models found\n",
      "\n",
      "\n",
      "GPQA Diamond\n",
      "\n",
      "Performance lower bound: 10%\n",
      "2023-04-01 00:00:00 GPT-4 33 $37.50\n",
      "2023-08-01 00:00:00 Llama-2-Chat-13B 19 $0.56\n",
      "2024-04-01 00:00:00 Claude-3-Haiku 33 $0.50\n",
      "2024-05-01 00:00:00 Llama-3-Instruct-8B 30 $0.15\n",
      "2024-06-01 00:00:00 Gemini-1.5-Flash-2024-05 39 $0.13\n",
      "2024-08-01 00:00:00 Llama-3.1-Instruct-8B 27 $0.10\n",
      "2024-10-01 00:00:00 Llama-3.2-Instruct-1B 14 $0.05\n",
      "\n",
      "Performance lower bound: 20%\n",
      "2023-04-01 00:00:00 GPT-4 33 $37.50\n",
      "2023-12-01 00:00:00 GPT-3.5 Turbo 30 $0.75\n",
      "2024-04-01 00:00:00 Claude-3-Haiku 33 $0.50\n",
      "2024-05-01 00:00:00 Llama-3-Instruct-8B 30 $0.15\n",
      "2024-06-01 00:00:00 Gemini-1.5-Flash-2024-05 39 $0.13\n",
      "2024-08-01 00:00:00 Llama-3.1-Instruct-8B 27 $0.10\n",
      "2024-10-01 00:00:00 Llama-3.2-Instruct-3B 21 $0.08\n",
      "2024-11-01 00:00:00 Gemini-1.5-Flash-8B 30 $0.07\n",
      "\n",
      "Performance lower bound: 30%\n",
      "2023-04-01 00:00:00 GPT-4 33 $37.50\n",
      "2023-12-01 00:00:00 GPT-4 Turbo 50 $15.00\n",
      "2024-03-01 00:00:00 Mistral-Small-2024-02 31 $1.50\n",
      "2024-04-01 00:00:00 Claude-3-Haiku 33 $0.50\n",
      "2024-06-01 00:00:00 Gemini-1.5-Flash-2024-05 39 $0.13\n",
      "\n",
      "Performance lower bound: 40%\n",
      "2023-12-01 00:00:00 GPT-4 Turbo 50 $15.00\n",
      "2024-06-01 00:00:00 Gemini-1.5-Pro-2024-05 46 $2.19\n",
      "2024-08-01 00:00:00 GPT-4o-mini 43 $0.26\n",
      "2024-10-01 00:00:00 Gemini-1.5-Flash-2024-09 45 $0.13\n",
      "\n",
      "Performance lower bound: 50%\n",
      "2024-06-01 00:00:00 GPT-4o-2024-05 51 $7.50\n",
      "2024-07-01 00:00:00 Claude-3.5-Sonnet-2024-06 56 $6.00\n",
      "2024-09-01 00:00:00 GPT-4o-2024-08 51 $4.38\n",
      "2024-10-01 00:00:00 Gemini-1.5-Pro-2024-09 61 $2.19\n",
      "\n",
      "Performance lower bound: 60%\n",
      "2024-10-01 00:00:00 Gemini-1.5-Pro-2024-09 61 $2.19\n",
      "Less than 2 models found\n",
      "\n",
      "Performance lower bound: 70%\n",
      "Less than 2 models found\n",
      "\n",
      "Performance lower bound: 80%\n",
      "Less than 2 models found\n",
      "\n",
      "Performance lower bound: 90%\n",
      "Less than 2 models found\n",
      "\n",
      "\n",
      "MATH 5\n",
      "\n",
      "Performance lower bound: 10%\n",
      "2023-12-01 00:00:00 GPT-3.5 Turbo 15.0 $0.75\n",
      "2024-04-01 00:00:00 Claude-3-Haiku 13.0 $0.50\n",
      "2024-06-01 00:00:00 Gemini-1.5-Flash-2024-05 23.0 $0.13\n",
      "2024-08-01 00:00:00 Llama-3.1-Instruct-8B 22.0 $0.10\n",
      "\n",
      "Performance lower bound: 20%\n",
      "2023-12-01 00:00:00 GPT-4 Turbo 36.0 $15.00\n",
      "2024-03-01 00:00:00 Mistral-Large-2024-02 21.0 $6.00\n",
      "2024-05-01 00:00:00 Llama-3-Instruct-70B 22.0 $0.89\n",
      "2024-06-01 00:00:00 Gemini-1.5-Flash-2024-05 23.0 $0.13\n",
      "2024-08-01 00:00:00 Llama-3.1-Instruct-8B 22.0 $0.10\n",
      "\n",
      "Performance lower bound: 30%\n",
      "2023-12-01 00:00:00 GPT-4 Turbo 36.0 $15.00\n",
      "2024-06-01 00:00:00 GPT-4o-2024-05 48.0 $7.50\n",
      "2024-07-01 00:00:00 Mistral-Large-2-2024-06 44.0 $3.00\n",
      "2024-08-01 00:00:00 GPT-4o-mini 48.0 $0.26\n",
      "2024-10-01 00:00:00 Gemini-1.5-Flash-2024-09 58.0 $0.13\n",
      "\n",
      "Performance lower bound: 40%\n",
      "2024-06-01 00:00:00 GPT-4o-2024-05 48.0 $7.50\n",
      "2024-07-01 00:00:00 Mistral-Large-2-2024-06 44.0 $3.00\n",
      "2024-08-01 00:00:00 GPT-4o-mini 48.0 $0.26\n",
      "2024-10-01 00:00:00 Gemini-1.5-Flash-2024-09 58.0 $0.13\n",
      "\n",
      "Performance lower bound: 50%\n",
      "2024-10-01 00:00:00 Gemini-1.5-Flash-2024-09 58.0 $0.13\n",
      "Less than 2 models found\n",
      "\n",
      "Performance lower bound: 60%\n",
      "2024-10-01 00:00:00 Gemini-1.5-Pro-2024-09 67.0 $2.19\n",
      "Less than 2 models found\n",
      "\n",
      "Performance lower bound: 70%\n",
      "Less than 2 models found\n",
      "\n",
      "Performance lower bound: 80%\n",
      "Less than 2 models found\n",
      "\n",
      "Performance lower bound: 90%\n",
      "Less than 2 models found\n",
      "\n",
      "\n",
      "MATH-500\n",
      "\n",
      "Performance lower bound: 10%\n",
      "2023-04-01 00:00:00 GPT-4 21.0 $37.50\n",
      "2023-12-01 00:00:00 GPT-3.5 Turbo 44.0 $0.75\n",
      "2024-04-01 00:00:00 Claude-3-Haiku 39.0 $0.50\n",
      "2024-05-01 00:00:00 Llama-3-Instruct-8B 32.0 $0.15\n",
      "2024-06-01 00:00:00 Gemini-1.5-Flash-2024-05 55.0 $0.13\n",
      "2024-08-01 00:00:00 Llama-3.1-Instruct-8B 50.0 $0.10\n",
      "2024-10-01 00:00:00 Llama-3.2-Instruct-1B 13.0 $0.05\n",
      "\n",
      "Performance lower bound: 20%\n",
      "2023-04-01 00:00:00 GPT-4 21.0 $37.50\n",
      "2023-12-01 00:00:00 GPT-3.5 Turbo 44.0 $0.75\n",
      "2024-04-01 00:00:00 Claude-3-Haiku 39.0 $0.50\n",
      "2024-05-01 00:00:00 Llama-3-Instruct-8B 32.0 $0.15\n",
      "2024-06-01 00:00:00 Gemini-1.5-Flash-2024-05 55.0 $0.13\n",
      "2024-08-01 00:00:00 Llama-3.1-Instruct-8B 50.0 $0.10\n",
      "2024-10-01 00:00:00 Llama-3.2-Instruct-3B 50.0 $0.08\n",
      "2024-11-01 00:00:00 Gemini-1.5-Flash-8B 70.0 $0.07\n",
      "\n",
      "Performance lower bound: 30%\n",
      "2023-12-01 00:00:00 GPT-3.5 Turbo 44.0 $0.75\n",
      "2024-04-01 00:00:00 Claude-3-Haiku 39.0 $0.50\n",
      "2024-05-01 00:00:00 Llama-3-Instruct-8B 32.0 $0.15\n",
      "2024-06-01 00:00:00 Gemini-1.5-Flash-2024-05 55.0 $0.13\n",
      "2024-08-01 00:00:00 Llama-3.1-Instruct-8B 50.0 $0.10\n",
      "2024-10-01 00:00:00 Llama-3.2-Instruct-3B 50.0 $0.08\n",
      "2024-11-01 00:00:00 Gemini-1.5-Flash-8B 70.0 $0.07\n",
      "\n",
      "Performance lower bound: 40%\n",
      "2023-12-01 00:00:00 GPT-3.5 Turbo 44.0 $0.75\n",
      "2024-06-01 00:00:00 Gemini-1.5-Flash-2024-05 55.0 $0.13\n",
      "2024-08-01 00:00:00 Llama-3.1-Instruct-8B 50.0 $0.10\n",
      "2024-10-01 00:00:00 Llama-3.2-Instruct-3B 50.0 $0.08\n",
      "2024-11-01 00:00:00 Gemini-1.5-Flash-8B 70.0 $0.07\n",
      "\n",
      "Performance lower bound: 50%\n",
      "2023-12-01 00:00:00 GPT-4 Turbo 74.0 $15.00\n",
      "2024-03-01 00:00:00 Mistral-Small-2024-02 56.0 $1.50\n",
      "2024-05-01 00:00:00 Llama-3-Instruct-70B 53.0 $0.89\n",
      "2024-06-01 00:00:00 Gemini-1.5-Flash-2024-05 55.0 $0.13\n",
      "2024-11-01 00:00:00 Gemini-1.5-Flash-8B 70.0 $0.07\n",
      "\n",
      "Performance lower bound: 60%\n",
      "2023-12-01 00:00:00 GPT-4 Turbo 74.0 $15.00\n",
      "2024-06-01 00:00:00 Gemini-1.5-Pro-2024-05 66.0 $2.19\n",
      "2024-07-01 00:00:00 Claude-3.5-Haiku 67.0 $1.60\n",
      "2024-08-01 00:00:00 GPT-4o-mini 79.0 $0.26\n",
      "2024-10-01 00:00:00 Gemini-1.5-Flash-2024-09 83.0 $0.13\n",
      "2024-11-01 00:00:00 Gemini-1.5-Flash-8B 70.0 $0.07\n",
      "\n",
      "Performance lower bound: 70%\n",
      "2023-12-01 00:00:00 GPT-4 Turbo 74.0 $15.00\n",
      "2024-06-01 00:00:00 GPT-4o-2024-05 79.0 $7.50\n",
      "2024-07-01 00:00:00 Mistral-Large-2-2024-06 71.0 $3.00\n",
      "2024-08-01 00:00:00 GPT-4o-mini 79.0 $0.26\n",
      "2024-10-01 00:00:00 Gemini-1.5-Flash-2024-09 83.0 $0.13\n",
      "\n",
      "Performance lower bound: 80%\n",
      "2024-10-01 00:00:00 Gemini-1.5-Flash-2024-09 83.0 $0.13\n",
      "Less than 2 models found\n",
      "\n",
      "Performance lower bound: 90%\n",
      "Less than 2 models found\n",
      "\n",
      "\n",
      "HumanEval\n",
      "\n",
      "Performance lower bound: 10%\n",
      "2023-04-01 00:00:00 GPT-4 67.0 $37.50\n",
      "2023-08-01 00:00:00 Llama-2-Chat-7B 13.0 $0.33\n",
      "2024-05-01 00:00:00 Llama-3-Instruct-8B 53.0 $0.15\n",
      "2024-07-01 00:00:00 Mistral-NeMo 71.0 $0.13\n",
      "2024-08-01 00:00:00 Llama-3.1-Instruct-8B 67.0 $0.10\n",
      "2024-10-01 00:00:00 Llama-3.2-Instruct-1B 40.0 $0.05\n",
      "\n",
      "Performance lower bound: 20%\n",
      "2023-04-01 00:00:00 GPT-4 67.0 $37.50\n",
      "2023-12-01 00:00:00 GPT-3.5 Turbo 71.0 $0.75\n",
      "2024-04-01 00:00:00 Claude-3-Haiku 77.0 $0.50\n",
      "2024-05-01 00:00:00 Llama-3-Instruct-8B 53.0 $0.15\n",
      "2024-07-01 00:00:00 Mistral-NeMo 71.0 $0.13\n",
      "2024-08-01 00:00:00 Llama-3.1-Instruct-8B 67.0 $0.10\n",
      "2024-10-01 00:00:00 Llama-3.2-Instruct-1B 40.0 $0.05\n",
      "\n",
      "Performance lower bound: 30%\n",
      "2023-04-01 00:00:00 GPT-4 67.0 $37.50\n",
      "2023-12-01 00:00:00 GPT-3.5 Turbo 71.0 $0.75\n",
      "2024-04-01 00:00:00 Claude-3-Haiku 77.0 $0.50\n",
      "2024-05-01 00:00:00 Llama-3-Instruct-8B 53.0 $0.15\n",
      "2024-07-01 00:00:00 Mistral-NeMo 71.0 $0.13\n",
      "2024-08-01 00:00:00 Llama-3.1-Instruct-8B 67.0 $0.10\n",
      "2024-10-01 00:00:00 Llama-3.2-Instruct-1B 40.0 $0.05\n",
      "\n",
      "Performance lower bound: 40%\n",
      "2023-04-01 00:00:00 GPT-4 67.0 $37.50\n",
      "2023-12-01 00:00:00 GPT-3.5 Turbo 71.0 $0.75\n",
      "2024-04-01 00:00:00 Claude-3-Haiku 77.0 $0.50\n",
      "2024-05-01 00:00:00 Llama-3-Instruct-8B 53.0 $0.15\n",
      "2024-07-01 00:00:00 Mistral-NeMo 71.0 $0.13\n",
      "2024-08-01 00:00:00 Llama-3.1-Instruct-8B 67.0 $0.10\n",
      "2024-10-01 00:00:00 Llama-3.2-Instruct-3B 60.0 $0.08\n",
      "\n",
      "Performance lower bound: 50%\n",
      "2023-04-01 00:00:00 GPT-4 67.0 $37.50\n",
      "2023-12-01 00:00:00 GPT-3.5 Turbo 71.0 $0.75\n",
      "2024-04-01 00:00:00 Claude-3-Haiku 77.0 $0.50\n",
      "2024-05-01 00:00:00 Llama-3-Instruct-8B 53.0 $0.15\n",
      "2024-07-01 00:00:00 Mistral-NeMo 71.0 $0.13\n",
      "2024-08-01 00:00:00 Llama-3.1-Instruct-8B 67.0 $0.10\n",
      "2024-10-01 00:00:00 Llama-3.2-Instruct-3B 60.0 $0.08\n",
      "\n",
      "Performance lower bound: 60%\n",
      "2023-04-01 00:00:00 GPT-4 67.0 $37.50\n",
      "2023-12-01 00:00:00 GPT-3.5 Turbo 71.0 $0.75\n",
      "2024-04-01 00:00:00 Claude-3-Haiku 77.0 $0.50\n",
      "2024-07-01 00:00:00 Mistral-NeMo 71.0 $0.13\n",
      "2024-08-01 00:00:00 Llama-3.1-Instruct-8B 67.0 $0.10\n",
      "\n",
      "Performance lower bound: 70%\n",
      "2023-12-01 00:00:00 GPT-3.5 Turbo 71.0 $0.75\n",
      "2024-04-01 00:00:00 Claude-3-Haiku 77.0 $0.50\n",
      "2024-07-01 00:00:00 Mistral-NeMo 71.0 $0.13\n",
      "\n",
      "Performance lower bound: 80%\n",
      "2023-12-01 00:00:00 GPT-4 Turbo 92.0 $15.00\n",
      "2024-06-01 00:00:00 GPT-4o-2024-05 93.0 $7.50\n",
      "2024-07-01 00:00:00 Claude-3.5-Haiku 87.0 $1.60\n",
      "2024-08-01 00:00:00 GPT-4o-mini 88.0 $0.26\n",
      "2024-10-01 00:00:00 Gemini-1.5-Flash-2024-09 83.0 $0.13\n",
      "\n",
      "Performance lower bound: 90%\n",
      "2023-12-01 00:00:00 GPT-4 Turbo 92.0 $15.00\n",
      "2024-06-01 00:00:00 GPT-4o-2024-05 93.0 $7.50\n",
      "2024-07-01 00:00:00 Mistral-Large-2-2024-06 91.0 $3.00\n"
     ]
    }
   ],
   "source": [
    "performance_lower_bounds = range(10, 100, 10)\n",
    "os.makedirs(results_dir + 'aa_cheapest_models_run/', exist_ok=True)\n",
    "\n",
    "# Open log file\n",
    "log_path = results_dir + 'aa_cheapest_models_run/output.log'\n",
    "results = []\n",
    "with open(log_path, 'w') as log_file:\n",
    "    for i, bench in enumerate(benchmarks):\n",
    "        if i > 0:\n",
    "            print('\\n')\n",
    "            print('\\n', file=log_file)\n",
    "        print(f'{bench}')\n",
    "        print(f'{bench}', file=log_file)\n",
    "\n",
    "        \n",
    "\n",
    "        for performance_lower_bound in performance_lower_bounds:\n",
    "            print(f'\\nPerformance lower bound: {performance_lower_bound}%')\n",
    "            print(f'\\nPerformance lower bound: {performance_lower_bound}%', file=log_file)\n",
    "            ts = pd.date_range(start='2020-01-01', end='2025-01-01', freq='MS')\n",
    "            cheapest_models = []\n",
    "            current_best = None\n",
    "\n",
    "            for i, t in enumerate(ts):\n",
    "                # Get models published in this time window\n",
    "                benchmark_df = aa_df\n",
    "                if i > 0:\n",
    "                    prev_t = ts[i-1]\n",
    "                    benchmark_df = benchmark_df[(benchmark_df['Release Date'] >= prev_t) & (benchmark_df['Release Date'] < t)]\n",
    "                else:\n",
    "                    benchmark_df = benchmark_df[benchmark_df['Release Date'] < t]\n",
    "                    \n",
    "                # Filter for performance\n",
    "                benchmark_df = benchmark_df[benchmark_df[bench].notna()]\n",
    "                benchmark_df = benchmark_df[benchmark_df[bench] > performance_lower_bound]\n",
    "                \n",
    "                if not benchmark_df.empty:\n",
    "                    # Find cheapest new model\n",
    "                    new_best = benchmark_df.loc[benchmark_df['USD per 1M Tokens'].idxmin()]\n",
    "                    \n",
    "                    # Update current best if new model is cheaper (or if no current best)\n",
    "                    if current_best is None or new_best['USD per 1M Tokens'] < current_best['USD per 1M Tokens']:\n",
    "                        current_best = new_best\n",
    "                        cheapest_models.append(current_best)\n",
    "                        print(t, current_best['Model Name'], current_best[bench], f\"${current_best['USD per 1M Tokens']:.2f}\")\n",
    "                        print(t, current_best['Model Name'], current_best[bench], f\"${current_best['USD per 1M Tokens']:.2f}\", file=log_file)\n",
    "\n",
    "            cheapest_models_df = pd.DataFrame(cheapest_models)\n",
    "            if len(cheapest_models_df) < 2:\n",
    "                print('Less than 2 models found')\n",
    "                print('Less than 2 models found', file=log_file)\n",
    "                continue\n",
    "\n",
    "            # Fit a line to the data\n",
    "            cheapest_models_df['price'] = cheapest_models_df['USD per 1M Tokens']\n",
    "            cheapest_models_df['log_price'] = np.log10(cheapest_models_df['USD per 1M Tokens'])\n",
    "            cheapest_models_df['date'] = cheapest_models_df['Release Date'].map(lambda x: pd.Timestamp(x).toordinal())\n",
    "            exponential_model = smf.ols('log_price ~ date', data=cheapest_models_df).fit()\n",
    "\n",
    "            # Calculate annual rate of decrease\n",
    "            annual_slope = exponential_model.params['date'] * 365  # Convert daily to annual\n",
    "            annual_factor = int(round(10**(-annual_slope)))  # Convert log slope to factor\n",
    "            results.append({\n",
    "                'bench': bench,\n",
    "                'performance_lower_bound': performance_lower_bound,\n",
    "                'sample_size': len(cheapest_models_df),\n",
    "                'start_date': cheapest_models_df['Release Date'].min(),\n",
    "                'end_date': cheapest_models_df['Release Date'].max(),\n",
    "                'price_reduction_factor_per_year': annual_factor,\n",
    "                'r_squared': round(exponential_model.rsquared, 2),\n",
    "            })\n",
    "\n",
    "            # Plot the exponential trendline with the data\n",
    "            fig = go.Figure()\n",
    "            fig.add_trace(go.Scatter(\n",
    "                x=cheapest_models_df['Release Date'],\n",
    "                y=10**exponential_model.predict(cheapest_models_df['date']),\n",
    "                mode='lines',\n",
    "                name=f'Trendline: {annual_factor}x decrease per year',\n",
    "                line=dict(color='lightgrey', dash='dash')\n",
    "            ))\n",
    "            fig.add_trace(go.Scatter(\n",
    "                x=cheapest_models_df['Release Date'],\n",
    "                y=cheapest_models_df['USD per 1M Tokens'],\n",
    "                mode='lines+markers+text',\n",
    "                name='Data',\n",
    "                text=cheapest_models_df['Model Name'],\n",
    "                textposition='bottom left',\n",
    "                line=dict(shape='hv')\n",
    "            ))\n",
    "            fig.update_layout(\n",
    "                title=f'Price of the cheapest model with {bench} > {performance_lower_bound}%'\n",
    "            )\n",
    "            fig.update_traces(textposition='bottom left')\n",
    "            fig.update_layout(yaxis_type='log')\n",
    "            fig.update_layout(xaxis_title='Month')\n",
    "            fig.update_layout(yaxis_title='Price in USD per million tokens')\n",
    "            # Lower the lower x limit\n",
    "            fig.update_layout(xaxis_range=[cheapest_models_df['Release Date'].min() - pd.Timedelta(days=90), cheapest_models_df['Release Date'].max()+pd.Timedelta(days=30)])\n",
    "            fig.update_layout(\n",
    "                width=800,\n",
    "                height=600,\n",
    "                font=dict(size=10),\n",
    "                legend=dict(\n",
    "                    yanchor=\"top\",\n",
    "                    y=0.99,\n",
    "                    xanchor=\"right\",\n",
    "                    x=0.99,\n",
    "                    bordercolor=\"lightgrey\",\n",
    "                    borderwidth=1\n",
    "                )\n",
    "            )\n",
    "            if save:\n",
    "                save_plot(\n",
    "                    fig,\n",
    "                    results_dir + 'aa_cheapest_models_run/',\n",
    "                    f'aa_cheapest_models_{bench}_above_{performance_lower_bound}_with_trendline',\n",
    "                    extensions=['png'],\n",
    "                )\n",
    "\n",
    "cheapest_model_results_df = pd.DataFrame(results)\n",
    "cheapest_model_results_df.to_csv(results_dir + 'aa_cheapest_models_run/cheapest_model_results.csv', index=False)\n",
    "\n",
    "# Create a summary DataFrame\n",
    "summary_data = []\n",
    "for bench in benchmarks:\n",
    "    bench_results = cheapest_model_results_df[cheapest_model_results_df['bench'] == bench]\n",
    "    # Get all performance lower bounds used for this benchmark\n",
    "    perf_bounds = sorted(list(set(bench_results['performance_lower_bound'])))\n",
    "    \n",
    "    # Calculate geometric mean of price reduction factors\n",
    "    price_factors = bench_results['price_reduction_factor_per_year'].dropna()\n",
    "    geomean = np.exp(np.mean(np.log(price_factors))) if len(price_factors) > 0 else np.nan\n",
    "    \n",
    "    # Get range of price reduction factors\n",
    "    factor_range = [price_factors.min(), price_factors.max()] if len(price_factors) > 0 else []\n",
    "    \n",
    "    summary_data.append({\n",
    "        'bench': bench,\n",
    "        'performance_lower_bounds': perf_bounds,\n",
    "        'price_reduction_factor_per_year_geomean': round(geomean),\n",
    "        'price_reduction_factor_per_year_range': factor_range\n",
    "    })\n",
    "\n",
    "cheapest_model_summary_df = pd.DataFrame(summary_data)\n",
    "cheapest_model_summary_df.to_csv(results_dir + 'aa_cheapest_models_run/cheapest_model_summary.csv', index=False)"
   ]
  },
  {
   "cell_type": "markdown",
   "metadata": {},
   "source": [
    "## Regression on top models by price-performance, one benchmark at a time"
   ]
  },
  {
   "cell_type": "code",
   "execution_count": 15,
   "metadata": {},
   "outputs": [],
   "source": [
    "top_n = 1\n",
    "results_subdir = f'aa_top_{top_n}_price_performance_run/'\n",
    "os.makedirs(results_dir + results_subdir, exist_ok=True)\n",
    "\n",
    "# Open log file\n",
    "results = []\n",
    "for bench in benchmarks:\n",
    "    benchmark_df = aa_df.copy()\n",
    "    benchmark_df = benchmark_df.dropna(subset=[bench])\n",
    "    benchmark_df = benchmark_df.sort_values(by='Release Date')\n",
    "    benchmark_df[f'{bench} price-performance'] = benchmark_df[bench] / benchmark_df['USD per 1M Tokens']\n",
    "\n",
    "    # Find the rolling top-n models\n",
    "    unique_dates = benchmark_df['Release Date'].unique()\n",
    "    ever_top_n_models = set()\n",
    "    for date in unique_dates:\n",
    "        df_up_to_date = benchmark_df[benchmark_df['Release Date'] <= date]\n",
    "        top_n_models = df_up_to_date.nlargest(top_n, f'{bench} price-performance')\n",
    "        top_n_model_names = top_n_models['Model Name'].tolist()\n",
    "        ever_top_n_models.update(top_n_model_names)\n",
    "    ever_top_n_list = sorted(ever_top_n_models)\n",
    "    benchmark_df = benchmark_df[benchmark_df['Model Name'].isin(ever_top_n_list)]\n",
    "\n",
    "    if len(benchmark_df) < 2:\n",
    "        print(f'Less than 2 models found for {bench}')\n",
    "        continue\n",
    "\n",
    "    # Fit a line to the data\n",
    "    benchmark_df['price'] = benchmark_df['USD per 1M Tokens']\n",
    "    benchmark_df['log_price'] = np.log10(benchmark_df['USD per 1M Tokens'])\n",
    "    benchmark_df['bench'] = benchmark_df[bench]\n",
    "    benchmark_df['date'] = benchmark_df['Release Date'].map(lambda x: pd.Timestamp(x).toordinal())\n",
    "    exponential_model = smf.ols('log_price ~ date + bench', data=benchmark_df).fit()\n",
    "\n",
    "    # Calculate annual rate of decrease\n",
    "    annual_slope = exponential_model.params['date'] * 365  # Convert daily to annual\n",
    "    annual_factor = int(round(10**(-annual_slope)))  # Convert log slope to factor\n",
    "    annual_slope_ci = exponential_model.conf_int(alpha=0.1).loc['date']\n",
    "    annual_slope_ci_high = int(round(10**(-annual_slope_ci[0] * 365)))\n",
    "    annual_slope_ci_low = int(round(10**(-annual_slope_ci[1] * 365)))\n",
    "    results.append({\n",
    "        'bench': bench,\n",
    "        'sample_size': len(benchmark_df),\n",
    "        'start_date': benchmark_df['Release Date'].min(),\n",
    "        'end_date': benchmark_df['Release Date'].max(),\n",
    "        'price_reduction_factor_per_year_mean': annual_factor,\n",
    "        'price_reduction_factor_per_year_ci': [annual_slope_ci_low, annual_slope_ci_high],\n",
    "        'r_squared': round(exponential_model.rsquared, 2),\n",
    "    })\n",
    "\n",
    "    # Plot the exponential trendline with the data\n",
    "    fig = go.Figure()\n",
    "    fig.add_trace(go.Scatter(\n",
    "        x=benchmark_df['Release Date'],\n",
    "        y=10**exponential_model.predict(benchmark_df),\n",
    "        mode='lines',\n",
    "        name=f'Regression: {annual_factor}x decrease per year at fixed performance',\n",
    "        line=dict(color='lightgrey', dash='dash')\n",
    "    ))\n",
    "    fig.add_trace(go.Scatter(\n",
    "        x=benchmark_df['Release Date'],\n",
    "        y=benchmark_df['USD per 1M Tokens'],\n",
    "        mode='markers+text',\n",
    "        name='Model with the best price-performance at the time',\n",
    "        text=benchmark_df['Model Name'],\n",
    "        textposition='bottom left',\n",
    "    ))\n",
    "    fig.update_layout(\n",
    "        title=f'Price of models with the best price-performance on {bench}'\n",
    "    )\n",
    "    fig.update_traces(textposition='bottom left')\n",
    "    fig.update_layout(yaxis_type='log')\n",
    "    fig.update_layout(xaxis_title='Month')\n",
    "    fig.update_layout(yaxis_title='Price in USD per million tokens')\n",
    "    # Lower the lower x limit\n",
    "    fig.update_layout(xaxis_range=[benchmark_df['Release Date'].min() - pd.Timedelta(days=90), benchmark_df['Release Date'].max()+pd.Timedelta(days=30)])\n",
    "    fig.update_layout(\n",
    "        width=800,\n",
    "        height=600,\n",
    "        font=dict(size=10),\n",
    "        legend=dict(\n",
    "            yanchor=\"top\",\n",
    "            y=0.99,\n",
    "            xanchor=\"right\",\n",
    "            x=0.99,\n",
    "            bordercolor=\"lightgrey\",\n",
    "            borderwidth=1\n",
    "        )\n",
    "    )\n",
    "    if save:\n",
    "        save_plot(\n",
    "            fig,\n",
    "            results_dir + results_subdir,\n",
    "            f'top_{top_n}_price_performance_{bench}_with_trendline',\n",
    "            extensions=['png'],\n",
    "        )\n",
    "\n",
    "top_n_price_performance_results_df = pd.DataFrame(results)\n",
    "top_n_price_performance_results_df.to_csv(results_dir + results_subdir + 'top_n_price_performance_results.csv', index=False)"
   ]
  },
  {
   "cell_type": "markdown",
   "metadata": {},
   "source": [
    "## Regression on all data, one benchmark at a time"
   ]
  },
  {
   "cell_type": "code",
   "execution_count": 16,
   "metadata": {},
   "outputs": [
    {
     "name": "stdout",
     "output_type": "stream",
     "text": [
      "                            OLS Regression Results                            \n",
      "==============================================================================\n",
      "Dep. Variable:              log_price   R-squared:                       0.542\n",
      "Model:                            OLS   Adj. R-squared:                  0.514\n",
      "Method:                 Least Squares   F-statistic:                     18.96\n",
      "Date:                Wed, 29 Jan 2025   Prob (F-statistic):           3.71e-06\n",
      "Time:                        17:30:34   Log-Likelihood:                -27.260\n",
      "No. Observations:                  35   AIC:                             60.52\n",
      "Df Residuals:                      32   BIC:                             65.19\n",
      "Df Model:                           2                                         \n",
      "Covariance Type:            nonrobust                                         \n",
      "==============================================================================\n",
      "                 coef    std err          t      P>|t|      [0.025      0.975]\n",
      "------------------------------------------------------------------------------\n",
      "Intercept   2282.2475    534.586      4.269      0.000    1193.331    3371.164\n",
      "date          -0.0031      0.001     -4.273      0.000      -0.005      -0.002\n",
      "bench          0.0358      0.006      5.679      0.000       0.023       0.049\n",
      "==============================================================================\n",
      "Omnibus:                        4.881   Durbin-Watson:                   2.280\n",
      "Prob(Omnibus):                  0.087   Jarque-Bera (JB):                1.811\n",
      "Skew:                           0.036   Prob(JB):                        0.404\n",
      "Kurtosis:                       1.888   Cond. No.                     4.24e+09\n",
      "==============================================================================\n",
      "\n",
      "Notes:\n",
      "[1] Standard Errors assume that the covariance matrix of the errors is correctly specified.\n",
      "[2] The condition number is large, 4.24e+09. This might indicate that there are\n",
      "strong multicollinearity or other numerical problems.\n"
     ]
    }
   ],
   "source": [
    "# Fit a regression to log_price ~ date + bench\n",
    "bench = 'MMLU'\n",
    "aa_df['log_price'] = np.log10(aa_df['USD per 1M Tokens'])\n",
    "aa_df['date'] = aa_df['Release Date'].map(lambda x: pd.Timestamp(x).toordinal())\n",
    "aa_df['bench'] = aa_df[bench]\n",
    "\n",
    "# Fit the model\n",
    "model = smf.ols('log_price ~ date + bench', data=aa_df).fit()\n",
    "print(model.summary())"
   ]
  },
  {
   "cell_type": "code",
   "execution_count": 17,
   "metadata": {},
   "outputs": [
    {
     "name": "stdout",
     "output_type": "stream",
     "text": [
      "Intercept    2282.247526\n",
      "date           -0.003092\n",
      "bench           0.035833\n",
      "dtype: float64\n",
      "                     0            1\n",
      "Intercept  1193.331122  3371.163930\n",
      "date         -0.004566    -0.001618\n",
      "bench         0.022982     0.048685\n"
     ]
    }
   ],
   "source": [
    "print(model.params)\n",
    "print(model.conf_int())\n"
   ]
  },
  {
   "cell_type": "code",
   "execution_count": 18,
   "metadata": {},
   "outputs": [
    {
     "name": "stdout",
     "output_type": "stream",
     "text": [
      "It costs 13x less each year to keep MMLU performance fixed.\n"
     ]
    }
   ],
   "source": [
    "# Date parameter\n",
    "date_param = model.params['date'] * 365  # Convert daily to annual\n",
    "annual_factor = int(round(10**(-date_param)))  # Convert log slope to factor\n",
    "print(f'It costs {annual_factor}x less each year to keep {bench} performance fixed.')"
   ]
  },
  {
   "cell_type": "code",
   "execution_count": 19,
   "metadata": {},
   "outputs": [
    {
     "data": {
      "text/plain": [
       "-0.004565847685129619"
      ]
     },
     "execution_count": 19,
     "metadata": {},
     "output_type": "execute_result"
    }
   ],
   "source": [
    "model.conf_int().loc['date'][0]\n"
   ]
  },
  {
   "cell_type": "code",
   "execution_count": 20,
   "metadata": {},
   "outputs": [
    {
     "name": "stdout",
     "output_type": "stream",
     "text": [
      "MMLU\n",
      "Number of observations: 35\n",
      "R-squared: 0.54\n",
      "The price to achieve a fixed level of MMLU performance fell at a rate of\n",
      "13x [5, 38] per year\n",
      "over 1.7 years (2023-03-01 to 2024-11-01)\n",
      "\n",
      "GPQA Diamond\n",
      "Number of observations: 35\n",
      "R-squared: 0.65\n",
      "The price to achieve a fixed level of GPQA Diamond performance fell at a rate of\n",
      "17x [7, 42] per year\n",
      "over 1.7 years (2023-03-01 to 2024-11-01)\n",
      "\n",
      "MATH 5\n",
      "Number of observations: 24\n",
      "R-squared: 0.49\n",
      "The price to achieve a fixed level of MATH 5 performance fell at a rate of\n",
      "237x [19, 2914] per year\n",
      "over 0.9 years (2023-11-01 to 2024-10-01)\n",
      "\n",
      "MATH-500\n",
      "Number of observations: 33\n",
      "R-squared: 0.47\n",
      "The price to achieve a fixed level of MATH-500 performance fell at a rate of\n",
      "53x [13, 221] per year\n",
      "over 1.7 years (2023-03-01 to 2024-11-01)\n",
      "\n",
      "HumanEval\n",
      "Number of observations: 31\n",
      "R-squared: 0.49\n",
      "The price to achieve a fixed level of HumanEval performance fell at a rate of\n",
      "16x [5, 53] per year\n",
      "over 1.7 years (2023-03-01 to 2024-11-01)\n",
      "\n"
     ]
    }
   ],
   "source": [
    "results = []\n",
    "for bench in benchmarks:\n",
    "    print(f'{bench}')\n",
    "    df = aa_df.copy()\n",
    "    df = df.dropna(subset=[bench])\n",
    "    df['bench'] = df[bench]\n",
    "\n",
    "    model = smf.ols('log_price ~ date + bench', data=df).fit()\n",
    "    # Print number of observations and R-squared\n",
    "    print(f'Number of observations: {len(df)}')\n",
    "    print(f'R-squared: {model.rsquared:.2f}')\n",
    "    date_param = model.params['date'] * 365  # Convert daily to annual\n",
    "    date_param_ci = model.conf_int(alpha=0.1).loc['date']\n",
    "    date_param_ci_low = date_param_ci[0] * 365\n",
    "    date_param_ci_high = date_param_ci[1] * 365\n",
    "    annual_factor = int(round(10**(-date_param)))  # Convert log slope to factor\n",
    "    annual_factor_ci_high = int(round(10**(-date_param_ci_low)))  # Convert log slope to factor\n",
    "    annual_factor_ci_low = int(round(10**(-date_param_ci_high)))  # Convert log slope to factor\n",
    "\n",
    "    min_date = pd.Timestamp.fromordinal(df[\"date\"].min()).date()\n",
    "    max_date = pd.Timestamp.fromordinal(df[\"date\"].max()).date()\n",
    "    date_range = max_date - min_date\n",
    "    results.append({\n",
    "        'bench': bench,\n",
    "        'sample_size': len(df),\n",
    "        'start_date': min_date,\n",
    "        'end_date': max_date,\n",
    "        'price_reduction_factor_per_year_mean': annual_factor,\n",
    "        'price_reduction_factor_per_year_ci': [annual_factor_ci_low, annual_factor_ci_high],\n",
    "        'r_squared': round(model.rsquared, 2),\n",
    "    })\n",
    "\n",
    "    print(f'The price to achieve a fixed level of {bench} performance fell at a rate of')\n",
    "    print(f'{annual_factor}x [{annual_factor_ci_low}, {annual_factor_ci_high}] per year')\n",
    "    print(f'over {date_range.days / 365:.1f} years ({min_date} to {max_date})')\n",
    "    print()\n",
    "\n",
    "single_benchmark_regression_results_df = pd.DataFrame(results)\n",
    "single_benchmark_regression_results_df.to_csv(results_dir + 'single_benchmark_regression_results.csv', index=False)"
   ]
  },
  {
   "cell_type": "markdown",
   "metadata": {},
   "source": [
    "## Regression on all data, all benchmarks at once"
   ]
  },
  {
   "cell_type": "code",
   "execution_count": 21,
   "metadata": {},
   "outputs": [
    {
     "name": "stdout",
     "output_type": "stream",
     "text": [
      "Number of observations: 23\n",
      "R-squared: 0.84\n",
      "The price to achieve a fixed level of performance fell at a rate of\n",
      "47x [8, 272] per year\n",
      "over 0.9 years (2023-11-01 to 2024-10-01)\n",
      "\n"
     ]
    }
   ],
   "source": [
    "df = aa_df.copy()\n",
    "# Rename benchmark columns to all lowercase, underscore separated\n",
    "new_bench_cols = [col.lower().replace(' ', '_').replace('-', '_') for col in benchmarks]\n",
    "df.rename(columns={bench: new_bench_cols[i] for i, bench in enumerate(benchmarks)}, inplace=True)\n",
    "df = df.dropna(subset=new_bench_cols)\n",
    "\n",
    "model = smf.ols('log_price ~ date + ' + ' + '.join(new_bench_cols), data=df).fit()\n",
    "# Print number of observations and R-squared\n",
    "print(f'Number of observations: {len(df)}')\n",
    "print(f'R-squared: {model.rsquared:.2f}')\n",
    "date_param = model.params['date'] * 365  # Convert daily to annual\n",
    "date_param_ci = model.conf_int(alpha=0.1).loc['date']\n",
    "date_param_ci_low = date_param_ci[0] * 365\n",
    "date_param_ci_high = date_param_ci[1] * 365\n",
    "annual_factor = int(round(10**(-date_param)))  # Convert log slope to factor\n",
    "annual_factor_ci_high = int(round(10**(-date_param_ci_low)))  # Convert log slope to factor\n",
    "annual_factor_ci_low = int(round(10**(-date_param_ci_high)))  # Convert log slope to factor\n",
    "\n",
    "min_date = pd.Timestamp.fromordinal(df[\"date\"].min()).date()\n",
    "max_date = pd.Timestamp.fromordinal(df[\"date\"].max()).date()\n",
    "date_range = max_date - min_date\n",
    "results = [{\n",
    "    'benchmarks': benchmarks,\n",
    "    'sample_size': len(df),\n",
    "    'start_date': min_date,\n",
    "    'end_date': max_date,\n",
    "    'price_reduction_factor_per_year_mean': annual_factor,\n",
    "    'price_reduction_factor_per_year_ci': [annual_factor_ci_low, annual_factor_ci_high],\n",
    "    'r_squared': round(model.rsquared, 2),\n",
    "}]\n",
    "\n",
    "print(f'The price to achieve a fixed level of performance fell at a rate of')\n",
    "print(f'{annual_factor}x [{annual_factor_ci_low}, {annual_factor_ci_high}] per year')\n",
    "print(f'over {date_range.days / 365:.1f} years ({min_date} to {max_date})')\n",
    "print()\n",
    "\n",
    "all_benchmarks_regression_results_df = pd.DataFrame(results)\n",
    "all_benchmarks_regression_results_df.to_csv(results_dir + 'all_benchmarks_regression_results.csv', index=False)"
   ]
  },
  {
   "cell_type": "markdown",
   "metadata": {},
   "source": [
    "## Regression on top models by price-performance on any benchmark, all benchmarks at once"
   ]
  },
  {
   "cell_type": "code",
   "execution_count": null,
   "metadata": {},
   "outputs": [],
   "source": []
  },
  {
   "cell_type": "markdown",
   "metadata": {},
   "source": [
    "## Summary and comparison of methods"
   ]
  },
  {
   "cell_type": "code",
   "execution_count": 23,
   "metadata": {},
   "outputs": [
    {
     "name": "stdout",
     "output_type": "stream",
     "text": [
      "MMLU trends\n",
      "Cheapest model at threshold: 42 [25, 96]\n",
      "Top model by price-performance: 29 [15, 57]\n",
      "Single benchmark regression: 13 [5, 38]\n",
      "All benchmarks regression: 47 [8, 272]\n",
      "\n",
      "GPQA Diamond trends\n",
      "Cheapest model at threshold: 71 [27, 331]\n",
      "Top model by price-performance: 48 [13, 173]\n",
      "Single benchmark regression: 17 [7, 42]\n",
      "All benchmarks regression: 47 [8, 272]\n",
      "\n",
      "MATH 5 trends\n",
      "Cheapest model at threshold: 1737 [26, 288635]\n",
      "Top model by price-performance: 31 [3, 307]\n",
      "Single benchmark regression: 237 [19, 2914]\n",
      "All benchmarks regression: 47 [8, 272]\n",
      "\n",
      "MATH-500 trends\n",
      "Cheapest model at threshold: 84 [13, 390]\n",
      "Top model by price-performance: 112 [24, 513]\n",
      "Single benchmark regression: 53 [13, 221]\n",
      "All benchmarks regression: 47 [8, 272]\n",
      "\n",
      "HumanEval trends\n",
      "Cheapest model at threshold: 52 [10, 299]\n",
      "Top model by price-performance: 40 [14, 112]\n",
      "Single benchmark regression: 16 [5, 53]\n",
      "All benchmarks regression: 47 [8, 272]\n",
      "\n"
     ]
    }
   ],
   "source": [
    "# Compare the cheapest model results to the full regression results\n",
    "for bench in benchmarks:\n",
    "    print(f'{bench} trends')\n",
    "    cheapest_model_result = cheapest_model_summary_df[cheapest_model_summary_df['bench'] == bench].iloc[0]\n",
    "    top_n_price_performance_result = top_n_price_performance_results_df[top_n_price_performance_results_df['bench'] == bench].iloc[0]\n",
    "    single_benchmark_regression_result = single_benchmark_regression_results_df[single_benchmark_regression_results_df['bench'] == bench].iloc[0]\n",
    "    all_benchmarks_regression_result = all_benchmarks_regression_results_df.iloc[0]\n",
    "    print(\n",
    "        'Cheapest model at threshold:',\n",
    "        cheapest_model_result['price_reduction_factor_per_year_geomean'],\n",
    "        cheapest_model_result['price_reduction_factor_per_year_range'],\n",
    "    )\n",
    "    print(\n",
    "        'Top model by price-performance:',\n",
    "        top_n_price_performance_result['price_reduction_factor_per_year_mean'],\n",
    "        top_n_price_performance_result['price_reduction_factor_per_year_ci'],\n",
    "    )\n",
    "    print(\n",
    "        'Single benchmark regression:',\n",
    "        single_benchmark_regression_result['price_reduction_factor_per_year_mean'],\n",
    "        single_benchmark_regression_result['price_reduction_factor_per_year_ci'],\n",
    "    )\n",
    "    print(\n",
    "        'All benchmarks regression:',\n",
    "        all_benchmarks_regression_result['price_reduction_factor_per_year_mean'],\n",
    "        all_benchmarks_regression_result['price_reduction_factor_per_year_ci'],\n",
    "    )\n",
    "    print()"
   ]
  },
  {
   "cell_type": "code",
   "execution_count": null,
   "metadata": {},
   "outputs": [],
   "source": []
  }
 ],
 "metadata": {
  "kernelspec": {
   "display_name": "llm-efficiency",
   "language": "python",
   "name": "python3"
  },
  "language_info": {
   "codemirror_mode": {
    "name": "ipython",
    "version": 3
   },
   "file_extension": ".py",
   "mimetype": "text/x-python",
   "name": "python",
   "nbconvert_exporter": "python",
   "pygments_lexer": "ipython3",
   "version": "3.12.7"
  }
 },
 "nbformat": 4,
 "nbformat_minor": 2
}
