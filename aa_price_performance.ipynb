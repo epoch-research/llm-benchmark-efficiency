{
 "cells": [
  {
   "cell_type": "code",
   "execution_count": 1,
   "metadata": {},
   "outputs": [],
   "source": [
    "import numpy as np\n",
    "import os\n",
    "import pandas as pd\n",
    "import plotly.express as px\n",
    "import plotly.graph_objects as go\n",
    "import plotly.io as pio\n",
    "from plotly.subplots import make_subplots\n",
    "import statsmodels.formula.api as smf\n",
    "\n",
    "from data import load_pcd_df\n",
    "from plotting import save_plot\n",
    "\n",
    "pio.templates.default = \"plotly_white\""
   ]
  },
  {
   "cell_type": "code",
   "execution_count": 2,
   "metadata": {},
   "outputs": [],
   "source": [
    "results_dir = 'results/2025-02-10/'\n",
    "os.makedirs(results_dir, exist_ok=True)"
   ]
  },
  {
   "cell_type": "code",
   "execution_count": 3,
   "metadata": {},
   "outputs": [],
   "source": [
    "save = True\n",
    "benchmarks = ['MMLU', 'GPQA Diamond', 'MATH 5', 'MATH-500', 'HumanEval']"
   ]
  },
  {
   "cell_type": "markdown",
   "metadata": {},
   "source": [
    "# Using Artificial Analysis data"
   ]
  },
  {
   "cell_type": "markdown",
   "metadata": {},
   "source": [
    "## Load Artificial Analysis dataset"
   ]
  },
  {
   "cell_type": "code",
   "execution_count": 4,
   "metadata": {},
   "outputs": [
    {
     "data": {
      "text/html": [
       "<div>\n",
       "<style scoped>\n",
       "    .dataframe tbody tr th:only-of-type {\n",
       "        vertical-align: middle;\n",
       "    }\n",
       "\n",
       "    .dataframe tbody tr th {\n",
       "        vertical-align: top;\n",
       "    }\n",
       "\n",
       "    .dataframe thead th {\n",
       "        text-align: right;\n",
       "    }\n",
       "</style>\n",
       "<table border=\"1\" class=\"dataframe\">\n",
       "  <thead>\n",
       "    <tr style=\"text-align: right;\">\n",
       "      <th></th>\n",
       "      <th>Model Name</th>\n",
       "      <th>Release Date</th>\n",
       "      <th>USD per 1M Tokens</th>\n",
       "      <th>Tokens per Second</th>\n",
       "      <th>Prefill Latency (s)</th>\n",
       "      <th>Prompt Length (tk)</th>\n",
       "      <th>MMLU</th>\n",
       "      <th>GPQA Diamond</th>\n",
       "      <th>MATH 5</th>\n",
       "      <th>MATH-500</th>\n",
       "      <th>HumanEval</th>\n",
       "      <th>LMSys Chatbot Arena ELO</th>\n",
       "    </tr>\n",
       "  </thead>\n",
       "  <tbody>\n",
       "    <tr>\n",
       "      <th>0</th>\n",
       "      <td>Claude-3-Haiku</td>\n",
       "      <td>2024-03</td>\n",
       "      <td>0.50</td>\n",
       "      <td>122.7</td>\n",
       "      <td>0.467</td>\n",
       "      <td>1000</td>\n",
       "      <td>71</td>\n",
       "      <td>33</td>\n",
       "      <td>13.0</td>\n",
       "      <td>39.0</td>\n",
       "      <td>77.0</td>\n",
       "      <td>1179.0</td>\n",
       "    </tr>\n",
       "    <tr>\n",
       "      <th>1</th>\n",
       "      <td>Claude-3-Opus</td>\n",
       "      <td>2024-03</td>\n",
       "      <td>30.00</td>\n",
       "      <td>26.5</td>\n",
       "      <td>1.984</td>\n",
       "      <td>1000</td>\n",
       "      <td>84</td>\n",
       "      <td>50</td>\n",
       "      <td>34.0</td>\n",
       "      <td>64.0</td>\n",
       "      <td>83.0</td>\n",
       "      <td>1248.0</td>\n",
       "    </tr>\n",
       "    <tr>\n",
       "      <th>2</th>\n",
       "      <td>Claude-3-Sonnet</td>\n",
       "      <td>2024-03</td>\n",
       "      <td>6.00</td>\n",
       "      <td>61.8</td>\n",
       "      <td>0.789</td>\n",
       "      <td>1000</td>\n",
       "      <td>77</td>\n",
       "      <td>37</td>\n",
       "      <td>16.0</td>\n",
       "      <td>41.0</td>\n",
       "      <td>71.0</td>\n",
       "      <td>1201.0</td>\n",
       "    </tr>\n",
       "    <tr>\n",
       "      <th>3</th>\n",
       "      <td>Claude-3.5-Haiku</td>\n",
       "      <td>2024-06</td>\n",
       "      <td>1.60</td>\n",
       "      <td>64.2</td>\n",
       "      <td>0.768</td>\n",
       "      <td>1000</td>\n",
       "      <td>81</td>\n",
       "      <td>37</td>\n",
       "      <td>NaN</td>\n",
       "      <td>67.0</td>\n",
       "      <td>87.0</td>\n",
       "      <td>NaN</td>\n",
       "    </tr>\n",
       "    <tr>\n",
       "      <th>4</th>\n",
       "      <td>Claude-3.5-Sonnet-2024-06</td>\n",
       "      <td>2024-06</td>\n",
       "      <td>6.00</td>\n",
       "      <td>55.9</td>\n",
       "      <td>0.906</td>\n",
       "      <td>1000</td>\n",
       "      <td>88</td>\n",
       "      <td>56</td>\n",
       "      <td>46.0</td>\n",
       "      <td>71.0</td>\n",
       "      <td>90.0</td>\n",
       "      <td>1268.0</td>\n",
       "    </tr>\n",
       "    <tr>\n",
       "      <th>5</th>\n",
       "      <td>Claude-3.5-Sonnet-2024-10</td>\n",
       "      <td>2024-10</td>\n",
       "      <td>6.00</td>\n",
       "      <td>55.2</td>\n",
       "      <td>0.907</td>\n",
       "      <td>1000</td>\n",
       "      <td>89</td>\n",
       "      <td>58</td>\n",
       "      <td>53.0</td>\n",
       "      <td>76.0</td>\n",
       "      <td>96.0</td>\n",
       "      <td>1282.0</td>\n",
       "    </tr>\n",
       "    <tr>\n",
       "      <th>6</th>\n",
       "      <td>Gemini-1.5-Flash-2024-05</td>\n",
       "      <td>2024-05</td>\n",
       "      <td>0.13</td>\n",
       "      <td>298.4</td>\n",
       "      <td>0.307</td>\n",
       "      <td>1000</td>\n",
       "      <td>79</td>\n",
       "      <td>39</td>\n",
       "      <td>23.0</td>\n",
       "      <td>55.0</td>\n",
       "      <td>NaN</td>\n",
       "      <td>1227.0</td>\n",
       "    </tr>\n",
       "    <tr>\n",
       "      <th>7</th>\n",
       "      <td>Gemini-1.5-Flash-2024-09</td>\n",
       "      <td>2024-09</td>\n",
       "      <td>0.13</td>\n",
       "      <td>190.5</td>\n",
       "      <td>0.348</td>\n",
       "      <td>1000</td>\n",
       "      <td>75</td>\n",
       "      <td>45</td>\n",
       "      <td>58.0</td>\n",
       "      <td>83.0</td>\n",
       "      <td>83.0</td>\n",
       "      <td>1271.0</td>\n",
       "    </tr>\n",
       "    <tr>\n",
       "      <th>8</th>\n",
       "      <td>Gemini-1.5-Flash-8B</td>\n",
       "      <td>2024-10</td>\n",
       "      <td>0.07</td>\n",
       "      <td>285.2</td>\n",
       "      <td>0.335</td>\n",
       "      <td>1000</td>\n",
       "      <td>75</td>\n",
       "      <td>30</td>\n",
       "      <td>NaN</td>\n",
       "      <td>70.0</td>\n",
       "      <td>NaN</td>\n",
       "      <td>1211.0</td>\n",
       "    </tr>\n",
       "    <tr>\n",
       "      <th>9</th>\n",
       "      <td>Gemini-1.5-Pro-2024-05</td>\n",
       "      <td>2024-05</td>\n",
       "      <td>2.19</td>\n",
       "      <td>64.8</td>\n",
       "      <td>0.738</td>\n",
       "      <td>1000</td>\n",
       "      <td>86</td>\n",
       "      <td>46</td>\n",
       "      <td>NaN</td>\n",
       "      <td>66.0</td>\n",
       "      <td>NaN</td>\n",
       "      <td>1260.0</td>\n",
       "    </tr>\n",
       "    <tr>\n",
       "      <th>10</th>\n",
       "      <td>Gemini-1.5-Pro-2024-09</td>\n",
       "      <td>2024-09</td>\n",
       "      <td>2.19</td>\n",
       "      <td>59.1</td>\n",
       "      <td>0.864</td>\n",
       "      <td>1000</td>\n",
       "      <td>86</td>\n",
       "      <td>61</td>\n",
       "      <td>67.0</td>\n",
       "      <td>88.0</td>\n",
       "      <td>88.0</td>\n",
       "      <td>1301.0</td>\n",
       "    </tr>\n",
       "    <tr>\n",
       "      <th>11</th>\n",
       "      <td>Gemma-2-27B</td>\n",
       "      <td>2024-06</td>\n",
       "      <td>0.26</td>\n",
       "      <td>47.9</td>\n",
       "      <td>0.527</td>\n",
       "      <td>1000</td>\n",
       "      <td>77</td>\n",
       "      <td>39</td>\n",
       "      <td>23.0</td>\n",
       "      <td>54.0</td>\n",
       "      <td>76.0</td>\n",
       "      <td>1219.0</td>\n",
       "    </tr>\n",
       "    <tr>\n",
       "      <th>12</th>\n",
       "      <td>Gemma-2-9B</td>\n",
       "      <td>2024-06</td>\n",
       "      <td>0.13</td>\n",
       "      <td>162.8</td>\n",
       "      <td>0.426</td>\n",
       "      <td>1000</td>\n",
       "      <td>73</td>\n",
       "      <td>31</td>\n",
       "      <td>18.0</td>\n",
       "      <td>50.0</td>\n",
       "      <td>64.0</td>\n",
       "      <td>1190.0</td>\n",
       "    </tr>\n",
       "    <tr>\n",
       "      <th>13</th>\n",
       "      <td>GPT-3.5 Turbo</td>\n",
       "      <td>2023-11</td>\n",
       "      <td>0.75</td>\n",
       "      <td>121.5</td>\n",
       "      <td>0.598</td>\n",
       "      <td>1000</td>\n",
       "      <td>68</td>\n",
       "      <td>30</td>\n",
       "      <td>15.0</td>\n",
       "      <td>44.0</td>\n",
       "      <td>71.0</td>\n",
       "      <td>1107.0</td>\n",
       "    </tr>\n",
       "    <tr>\n",
       "      <th>14</th>\n",
       "      <td>GPT-4</td>\n",
       "      <td>2023-03</td>\n",
       "      <td>37.50</td>\n",
       "      <td>23.6</td>\n",
       "      <td>0.724</td>\n",
       "      <td>1000</td>\n",
       "      <td>86</td>\n",
       "      <td>33</td>\n",
       "      <td>NaN</td>\n",
       "      <td>21.0</td>\n",
       "      <td>67.0</td>\n",
       "      <td>1186.0</td>\n",
       "    </tr>\n",
       "    <tr>\n",
       "      <th>15</th>\n",
       "      <td>GPT-4 Turbo</td>\n",
       "      <td>2023-11</td>\n",
       "      <td>15.00</td>\n",
       "      <td>39.2</td>\n",
       "      <td>1.246</td>\n",
       "      <td>1000</td>\n",
       "      <td>87</td>\n",
       "      <td>50</td>\n",
       "      <td>36.0</td>\n",
       "      <td>74.0</td>\n",
       "      <td>92.0</td>\n",
       "      <td>1256.0</td>\n",
       "    </tr>\n",
       "    <tr>\n",
       "      <th>16</th>\n",
       "      <td>GPT-4o-2024-05</td>\n",
       "      <td>2024-05</td>\n",
       "      <td>7.50</td>\n",
       "      <td>86.4</td>\n",
       "      <td>0.687</td>\n",
       "      <td>1000</td>\n",
       "      <td>87</td>\n",
       "      <td>51</td>\n",
       "      <td>48.0</td>\n",
       "      <td>79.0</td>\n",
       "      <td>93.0</td>\n",
       "      <td>1285.0</td>\n",
       "    </tr>\n",
       "    <tr>\n",
       "      <th>17</th>\n",
       "      <td>GPT-4o-2024-08</td>\n",
       "      <td>2024-08</td>\n",
       "      <td>4.38</td>\n",
       "      <td>81.0</td>\n",
       "      <td>0.673</td>\n",
       "      <td>1000</td>\n",
       "      <td>89</td>\n",
       "      <td>51</td>\n",
       "      <td>47.0</td>\n",
       "      <td>80.0</td>\n",
       "      <td>93.0</td>\n",
       "      <td>1337.0</td>\n",
       "    </tr>\n",
       "    <tr>\n",
       "      <th>18</th>\n",
       "      <td>GPT-4o-2024-11</td>\n",
       "      <td>2024-11</td>\n",
       "      <td>4.38</td>\n",
       "      <td>148.9</td>\n",
       "      <td>0.404</td>\n",
       "      <td>1000</td>\n",
       "      <td>86</td>\n",
       "      <td>39</td>\n",
       "      <td>NaN</td>\n",
       "      <td>74.0</td>\n",
       "      <td>93.0</td>\n",
       "      <td>1361.0</td>\n",
       "    </tr>\n",
       "    <tr>\n",
       "      <th>19</th>\n",
       "      <td>GPT-4o-mini</td>\n",
       "      <td>2024-07</td>\n",
       "      <td>0.26</td>\n",
       "      <td>112.2</td>\n",
       "      <td>0.626</td>\n",
       "      <td>1000</td>\n",
       "      <td>82</td>\n",
       "      <td>43</td>\n",
       "      <td>48.0</td>\n",
       "      <td>79.0</td>\n",
       "      <td>88.0</td>\n",
       "      <td>1273.0</td>\n",
       "    </tr>\n",
       "    <tr>\n",
       "      <th>20</th>\n",
       "      <td>Llama-2-Chat-13B</td>\n",
       "      <td>2023-07</td>\n",
       "      <td>0.56</td>\n",
       "      <td>43.1</td>\n",
       "      <td>0.447</td>\n",
       "      <td>1000</td>\n",
       "      <td>45</td>\n",
       "      <td>19</td>\n",
       "      <td>NaN</td>\n",
       "      <td>NaN</td>\n",
       "      <td>NaN</td>\n",
       "      <td>1063.0</td>\n",
       "    </tr>\n",
       "    <tr>\n",
       "      <th>21</th>\n",
       "      <td>Llama-2-Chat-7B</td>\n",
       "      <td>2023-07</td>\n",
       "      <td>0.33</td>\n",
       "      <td>125.4</td>\n",
       "      <td>0.508</td>\n",
       "      <td>1000</td>\n",
       "      <td>13</td>\n",
       "      <td>6</td>\n",
       "      <td>NaN</td>\n",
       "      <td>NaN</td>\n",
       "      <td>13.0</td>\n",
       "      <td>1037.0</td>\n",
       "    </tr>\n",
       "    <tr>\n",
       "      <th>22</th>\n",
       "      <td>Llama-3-Instruct-70B</td>\n",
       "      <td>2024-04</td>\n",
       "      <td>0.89</td>\n",
       "      <td>44.6</td>\n",
       "      <td>0.472</td>\n",
       "      <td>1000</td>\n",
       "      <td>79</td>\n",
       "      <td>39</td>\n",
       "      <td>22.0</td>\n",
       "      <td>53.0</td>\n",
       "      <td>18.0</td>\n",
       "      <td>1206.0</td>\n",
       "    </tr>\n",
       "    <tr>\n",
       "      <th>23</th>\n",
       "      <td>Llama-3-Instruct-8B</td>\n",
       "      <td>2024-04</td>\n",
       "      <td>0.15</td>\n",
       "      <td>122.8</td>\n",
       "      <td>0.330</td>\n",
       "      <td>1000</td>\n",
       "      <td>64</td>\n",
       "      <td>30</td>\n",
       "      <td>8.0</td>\n",
       "      <td>32.0</td>\n",
       "      <td>53.0</td>\n",
       "      <td>1152.0</td>\n",
       "    </tr>\n",
       "    <tr>\n",
       "      <th>24</th>\n",
       "      <td>Llama-3.1-Instruct-405B</td>\n",
       "      <td>2024-07</td>\n",
       "      <td>3.50</td>\n",
       "      <td>27.9</td>\n",
       "      <td>0.719</td>\n",
       "      <td>1000</td>\n",
       "      <td>87</td>\n",
       "      <td>50</td>\n",
       "      <td>45.0</td>\n",
       "      <td>70.0</td>\n",
       "      <td>87.0</td>\n",
       "      <td>1266.0</td>\n",
       "    </tr>\n",
       "    <tr>\n",
       "      <th>25</th>\n",
       "      <td>Llama-3.1-Instruct-70B</td>\n",
       "      <td>2024-07</td>\n",
       "      <td>0.72</td>\n",
       "      <td>71.6</td>\n",
       "      <td>0.425</td>\n",
       "      <td>1000</td>\n",
       "      <td>84</td>\n",
       "      <td>43</td>\n",
       "      <td>39.0</td>\n",
       "      <td>64.0</td>\n",
       "      <td>80.0</td>\n",
       "      <td>1249.0</td>\n",
       "    </tr>\n",
       "    <tr>\n",
       "      <th>26</th>\n",
       "      <td>Llama-3.1-Instruct-8B</td>\n",
       "      <td>2024-07</td>\n",
       "      <td>0.10</td>\n",
       "      <td>164.3</td>\n",
       "      <td>0.350</td>\n",
       "      <td>1000</td>\n",
       "      <td>71</td>\n",
       "      <td>27</td>\n",
       "      <td>22.0</td>\n",
       "      <td>50.0</td>\n",
       "      <td>67.0</td>\n",
       "      <td>1172.0</td>\n",
       "    </tr>\n",
       "    <tr>\n",
       "      <th>27</th>\n",
       "      <td>Llama-3.2-Instruct-1B</td>\n",
       "      <td>2024-09</td>\n",
       "      <td>0.05</td>\n",
       "      <td>552.1</td>\n",
       "      <td>0.317</td>\n",
       "      <td>1000</td>\n",
       "      <td>35</td>\n",
       "      <td>14</td>\n",
       "      <td>NaN</td>\n",
       "      <td>13.0</td>\n",
       "      <td>40.0</td>\n",
       "      <td>1103.0</td>\n",
       "    </tr>\n",
       "    <tr>\n",
       "      <th>28</th>\n",
       "      <td>Llama-3.2-Instruct-3B</td>\n",
       "      <td>2024-09</td>\n",
       "      <td>0.08</td>\n",
       "      <td>200.3</td>\n",
       "      <td>0.316</td>\n",
       "      <td>1000</td>\n",
       "      <td>64</td>\n",
       "      <td>21</td>\n",
       "      <td>NaN</td>\n",
       "      <td>50.0</td>\n",
       "      <td>60.0</td>\n",
       "      <td>1103.0</td>\n",
       "    </tr>\n",
       "    <tr>\n",
       "      <th>29</th>\n",
       "      <td>Mistral-8x22</td>\n",
       "      <td>2024-04</td>\n",
       "      <td>1.20</td>\n",
       "      <td>85.3</td>\n",
       "      <td>0.624</td>\n",
       "      <td>1000</td>\n",
       "      <td>76</td>\n",
       "      <td>37</td>\n",
       "      <td>23.0</td>\n",
       "      <td>56.0</td>\n",
       "      <td>74.0</td>\n",
       "      <td>1148.0</td>\n",
       "    </tr>\n",
       "    <tr>\n",
       "      <th>30</th>\n",
       "      <td>Mistral-Large-2-2024-06</td>\n",
       "      <td>2024-06</td>\n",
       "      <td>3.00</td>\n",
       "      <td>34.4</td>\n",
       "      <td>0.486</td>\n",
       "      <td>1000</td>\n",
       "      <td>85</td>\n",
       "      <td>48</td>\n",
       "      <td>44.0</td>\n",
       "      <td>71.0</td>\n",
       "      <td>91.0</td>\n",
       "      <td>1251.0</td>\n",
       "    </tr>\n",
       "    <tr>\n",
       "      <th>31</th>\n",
       "      <td>Mistral-Large-2-2024-11</td>\n",
       "      <td>2024-11</td>\n",
       "      <td>3.00</td>\n",
       "      <td>43.5</td>\n",
       "      <td>0.639</td>\n",
       "      <td>1000</td>\n",
       "      <td>85</td>\n",
       "      <td>47</td>\n",
       "      <td>NaN</td>\n",
       "      <td>72.0</td>\n",
       "      <td>90.0</td>\n",
       "      <td>NaN</td>\n",
       "    </tr>\n",
       "    <tr>\n",
       "      <th>32</th>\n",
       "      <td>Mistral-Large-2024-02</td>\n",
       "      <td>2024-02</td>\n",
       "      <td>6.00</td>\n",
       "      <td>37.8</td>\n",
       "      <td>0.500</td>\n",
       "      <td>1000</td>\n",
       "      <td>69</td>\n",
       "      <td>36</td>\n",
       "      <td>21.0</td>\n",
       "      <td>49.0</td>\n",
       "      <td>69.0</td>\n",
       "      <td>1157.0</td>\n",
       "    </tr>\n",
       "    <tr>\n",
       "      <th>33</th>\n",
       "      <td>Mistral-NeMo</td>\n",
       "      <td>2024-06</td>\n",
       "      <td>0.13</td>\n",
       "      <td>88.3</td>\n",
       "      <td>0.551</td>\n",
       "      <td>1000</td>\n",
       "      <td>66</td>\n",
       "      <td>33</td>\n",
       "      <td>10.0</td>\n",
       "      <td>44.0</td>\n",
       "      <td>71.0</td>\n",
       "      <td>NaN</td>\n",
       "    </tr>\n",
       "    <tr>\n",
       "      <th>34</th>\n",
       "      <td>Mistral-Small-2024-02</td>\n",
       "      <td>2024-02</td>\n",
       "      <td>1.50</td>\n",
       "      <td>54.1</td>\n",
       "      <td>0.429</td>\n",
       "      <td>1000</td>\n",
       "      <td>69</td>\n",
       "      <td>31</td>\n",
       "      <td>NaN</td>\n",
       "      <td>56.0</td>\n",
       "      <td>79.0</td>\n",
       "      <td>NaN</td>\n",
       "    </tr>\n",
       "  </tbody>\n",
       "</table>\n",
       "</div>"
      ],
      "text/plain": [
       "                   Model Name Release Date  USD per 1M Tokens  \\\n",
       "0              Claude-3-Haiku      2024-03               0.50   \n",
       "1               Claude-3-Opus      2024-03              30.00   \n",
       "2             Claude-3-Sonnet      2024-03               6.00   \n",
       "3            Claude-3.5-Haiku      2024-06               1.60   \n",
       "4   Claude-3.5-Sonnet-2024-06      2024-06               6.00   \n",
       "5   Claude-3.5-Sonnet-2024-10      2024-10               6.00   \n",
       "6    Gemini-1.5-Flash-2024-05      2024-05               0.13   \n",
       "7    Gemini-1.5-Flash-2024-09      2024-09               0.13   \n",
       "8         Gemini-1.5-Flash-8B      2024-10               0.07   \n",
       "9      Gemini-1.5-Pro-2024-05      2024-05               2.19   \n",
       "10     Gemini-1.5-Pro-2024-09      2024-09               2.19   \n",
       "11                Gemma-2-27B      2024-06               0.26   \n",
       "12                 Gemma-2-9B      2024-06               0.13   \n",
       "13              GPT-3.5 Turbo      2023-11               0.75   \n",
       "14                      GPT-4      2023-03              37.50   \n",
       "15                GPT-4 Turbo      2023-11              15.00   \n",
       "16             GPT-4o-2024-05      2024-05               7.50   \n",
       "17             GPT-4o-2024-08      2024-08               4.38   \n",
       "18             GPT-4o-2024-11      2024-11               4.38   \n",
       "19                GPT-4o-mini      2024-07               0.26   \n",
       "20           Llama-2-Chat-13B      2023-07               0.56   \n",
       "21            Llama-2-Chat-7B      2023-07               0.33   \n",
       "22       Llama-3-Instruct-70B      2024-04               0.89   \n",
       "23        Llama-3-Instruct-8B      2024-04               0.15   \n",
       "24    Llama-3.1-Instruct-405B      2024-07               3.50   \n",
       "25     Llama-3.1-Instruct-70B      2024-07               0.72   \n",
       "26      Llama-3.1-Instruct-8B      2024-07               0.10   \n",
       "27      Llama-3.2-Instruct-1B      2024-09               0.05   \n",
       "28      Llama-3.2-Instruct-3B      2024-09               0.08   \n",
       "29               Mistral-8x22      2024-04               1.20   \n",
       "30    Mistral-Large-2-2024-06      2024-06               3.00   \n",
       "31    Mistral-Large-2-2024-11      2024-11               3.00   \n",
       "32      Mistral-Large-2024-02      2024-02               6.00   \n",
       "33               Mistral-NeMo      2024-06               0.13   \n",
       "34      Mistral-Small-2024-02      2024-02               1.50   \n",
       "\n",
       "    Tokens per Second  Prefill Latency (s)  Prompt Length (tk)  MMLU  \\\n",
       "0               122.7                0.467                1000    71   \n",
       "1                26.5                1.984                1000    84   \n",
       "2                61.8                0.789                1000    77   \n",
       "3                64.2                0.768                1000    81   \n",
       "4                55.9                0.906                1000    88   \n",
       "5                55.2                0.907                1000    89   \n",
       "6               298.4                0.307                1000    79   \n",
       "7               190.5                0.348                1000    75   \n",
       "8               285.2                0.335                1000    75   \n",
       "9                64.8                0.738                1000    86   \n",
       "10               59.1                0.864                1000    86   \n",
       "11               47.9                0.527                1000    77   \n",
       "12              162.8                0.426                1000    73   \n",
       "13              121.5                0.598                1000    68   \n",
       "14               23.6                0.724                1000    86   \n",
       "15               39.2                1.246                1000    87   \n",
       "16               86.4                0.687                1000    87   \n",
       "17               81.0                0.673                1000    89   \n",
       "18              148.9                0.404                1000    86   \n",
       "19              112.2                0.626                1000    82   \n",
       "20               43.1                0.447                1000    45   \n",
       "21              125.4                0.508                1000    13   \n",
       "22               44.6                0.472                1000    79   \n",
       "23              122.8                0.330                1000    64   \n",
       "24               27.9                0.719                1000    87   \n",
       "25               71.6                0.425                1000    84   \n",
       "26              164.3                0.350                1000    71   \n",
       "27              552.1                0.317                1000    35   \n",
       "28              200.3                0.316                1000    64   \n",
       "29               85.3                0.624                1000    76   \n",
       "30               34.4                0.486                1000    85   \n",
       "31               43.5                0.639                1000    85   \n",
       "32               37.8                0.500                1000    69   \n",
       "33               88.3                0.551                1000    66   \n",
       "34               54.1                0.429                1000    69   \n",
       "\n",
       "    GPQA Diamond  MATH 5  MATH-500  HumanEval  LMSys Chatbot Arena ELO  \n",
       "0             33    13.0      39.0       77.0                   1179.0  \n",
       "1             50    34.0      64.0       83.0                   1248.0  \n",
       "2             37    16.0      41.0       71.0                   1201.0  \n",
       "3             37     NaN      67.0       87.0                      NaN  \n",
       "4             56    46.0      71.0       90.0                   1268.0  \n",
       "5             58    53.0      76.0       96.0                   1282.0  \n",
       "6             39    23.0      55.0        NaN                   1227.0  \n",
       "7             45    58.0      83.0       83.0                   1271.0  \n",
       "8             30     NaN      70.0        NaN                   1211.0  \n",
       "9             46     NaN      66.0        NaN                   1260.0  \n",
       "10            61    67.0      88.0       88.0                   1301.0  \n",
       "11            39    23.0      54.0       76.0                   1219.0  \n",
       "12            31    18.0      50.0       64.0                   1190.0  \n",
       "13            30    15.0      44.0       71.0                   1107.0  \n",
       "14            33     NaN      21.0       67.0                   1186.0  \n",
       "15            50    36.0      74.0       92.0                   1256.0  \n",
       "16            51    48.0      79.0       93.0                   1285.0  \n",
       "17            51    47.0      80.0       93.0                   1337.0  \n",
       "18            39     NaN      74.0       93.0                   1361.0  \n",
       "19            43    48.0      79.0       88.0                   1273.0  \n",
       "20            19     NaN       NaN        NaN                   1063.0  \n",
       "21             6     NaN       NaN       13.0                   1037.0  \n",
       "22            39    22.0      53.0       18.0                   1206.0  \n",
       "23            30     8.0      32.0       53.0                   1152.0  \n",
       "24            50    45.0      70.0       87.0                   1266.0  \n",
       "25            43    39.0      64.0       80.0                   1249.0  \n",
       "26            27    22.0      50.0       67.0                   1172.0  \n",
       "27            14     NaN      13.0       40.0                   1103.0  \n",
       "28            21     NaN      50.0       60.0                   1103.0  \n",
       "29            37    23.0      56.0       74.0                   1148.0  \n",
       "30            48    44.0      71.0       91.0                   1251.0  \n",
       "31            47     NaN      72.0       90.0                      NaN  \n",
       "32            36    21.0      49.0       69.0                   1157.0  \n",
       "33            33    10.0      44.0       71.0                      NaN  \n",
       "34            31     NaN      56.0       79.0                      NaN  "
      ]
     },
     "execution_count": 4,
     "metadata": {},
     "output_type": "execute_result"
    }
   ],
   "source": [
    "aa_df = pd.read_csv('data/aa_data_with_math5.csv')\n",
    "aa_df"
   ]
  },
  {
   "cell_type": "code",
   "execution_count": 5,
   "metadata": {},
   "outputs": [],
   "source": [
    "# 'Release Date' is a string with the format 'YYYY-MM'\n",
    "aa_df['Release Date'] = pd.to_datetime(aa_df['Release Date'].str.strip(), format='%Y-%m')"
   ]
  },
  {
   "cell_type": "markdown",
   "metadata": {},
   "source": [
    "## Load Epoch AI price dataset"
   ]
  },
  {
   "cell_type": "code",
   "execution_count": 6,
   "metadata": {},
   "outputs": [
    {
     "data": {
      "text/html": [
       "<div>\n",
       "<style scoped>\n",
       "    .dataframe tbody tr th:only-of-type {\n",
       "        vertical-align: middle;\n",
       "    }\n",
       "\n",
       "    .dataframe tbody tr th {\n",
       "        vertical-align: top;\n",
       "    }\n",
       "\n",
       "    .dataframe thead th {\n",
       "        text-align: right;\n",
       "    }\n",
       "</style>\n",
       "<table border=\"1\" class=\"dataframe\">\n",
       "  <thead>\n",
       "    <tr style=\"text-align: right;\">\n",
       "      <th></th>\n",
       "      <th>Model Name</th>\n",
       "      <th>Release Date</th>\n",
       "      <th>USD per 1M Tokens</th>\n",
       "      <th>Tokens per Second</th>\n",
       "      <th>Prefill Latency (s)</th>\n",
       "      <th>Prompt Length (tk)</th>\n",
       "      <th>MMLU</th>\n",
       "      <th>GPQA Diamond</th>\n",
       "      <th>MATH 5</th>\n",
       "      <th>MATH-500</th>\n",
       "      <th>HumanEval</th>\n",
       "      <th>LMSys Chatbot Arena ELO</th>\n",
       "    </tr>\n",
       "  </thead>\n",
       "  <tbody>\n",
       "    <tr>\n",
       "      <th>0</th>\n",
       "      <td>Claude 2</td>\n",
       "      <td>2024-08-12</td>\n",
       "      <td>12.0000</td>\n",
       "      <td>NaN</td>\n",
       "      <td>NaN</td>\n",
       "      <td>NaN</td>\n",
       "      <td>78.5</td>\n",
       "      <td>35.0</td>\n",
       "      <td>10.0</td>\n",
       "      <td>NaN</td>\n",
       "      <td>NaN</td>\n",
       "      <td>NaN</td>\n",
       "    </tr>\n",
       "    <tr>\n",
       "      <th>1</th>\n",
       "      <td>Claude 2.1</td>\n",
       "      <td>2024-08-12</td>\n",
       "      <td>12.0000</td>\n",
       "      <td>NaN</td>\n",
       "      <td>NaN</td>\n",
       "      <td>NaN</td>\n",
       "      <td>NaN</td>\n",
       "      <td>36.0</td>\n",
       "      <td>11.0</td>\n",
       "      <td>NaN</td>\n",
       "      <td>NaN</td>\n",
       "      <td>NaN</td>\n",
       "    </tr>\n",
       "    <tr>\n",
       "      <th>2</th>\n",
       "      <td>Claude Instant</td>\n",
       "      <td>2024-08-12</td>\n",
       "      <td>1.2000</td>\n",
       "      <td>NaN</td>\n",
       "      <td>NaN</td>\n",
       "      <td>NaN</td>\n",
       "      <td>NaN</td>\n",
       "      <td>NaN</td>\n",
       "      <td>NaN</td>\n",
       "      <td>NaN</td>\n",
       "      <td>NaN</td>\n",
       "      <td>NaN</td>\n",
       "    </tr>\n",
       "    <tr>\n",
       "      <th>3</th>\n",
       "      <td>Cohere Command</td>\n",
       "      <td>2024-08-13</td>\n",
       "      <td>1.6250</td>\n",
       "      <td>NaN</td>\n",
       "      <td>NaN</td>\n",
       "      <td>NaN</td>\n",
       "      <td>NaN</td>\n",
       "      <td>NaN</td>\n",
       "      <td>NaN</td>\n",
       "      <td>NaN</td>\n",
       "      <td>NaN</td>\n",
       "      <td>NaN</td>\n",
       "    </tr>\n",
       "    <tr>\n",
       "      <th>4</th>\n",
       "      <td>Cohere Command Light</td>\n",
       "      <td>2024-08-13</td>\n",
       "      <td>0.3750</td>\n",
       "      <td>NaN</td>\n",
       "      <td>NaN</td>\n",
       "      <td>NaN</td>\n",
       "      <td>NaN</td>\n",
       "      <td>NaN</td>\n",
       "      <td>NaN</td>\n",
       "      <td>NaN</td>\n",
       "      <td>NaN</td>\n",
       "      <td>NaN</td>\n",
       "    </tr>\n",
       "    <tr>\n",
       "      <th>5</th>\n",
       "      <td>Command R</td>\n",
       "      <td>2024-08-13</td>\n",
       "      <td>0.7500</td>\n",
       "      <td>NaN</td>\n",
       "      <td>NaN</td>\n",
       "      <td>NaN</td>\n",
       "      <td>NaN</td>\n",
       "      <td>NaN</td>\n",
       "      <td>NaN</td>\n",
       "      <td>NaN</td>\n",
       "      <td>NaN</td>\n",
       "      <td>NaN</td>\n",
       "    </tr>\n",
       "    <tr>\n",
       "      <th>6</th>\n",
       "      <td>Command R+</td>\n",
       "      <td>2024-08-13</td>\n",
       "      <td>6.0000</td>\n",
       "      <td>NaN</td>\n",
       "      <td>NaN</td>\n",
       "      <td>NaN</td>\n",
       "      <td>75.7</td>\n",
       "      <td>NaN</td>\n",
       "      <td>NaN</td>\n",
       "      <td>NaN</td>\n",
       "      <td>NaN</td>\n",
       "      <td>NaN</td>\n",
       "    </tr>\n",
       "    <tr>\n",
       "      <th>7</th>\n",
       "      <td>Command R+</td>\n",
       "      <td>2024-09-13</td>\n",
       "      <td>4.3750</td>\n",
       "      <td>NaN</td>\n",
       "      <td>NaN</td>\n",
       "      <td>NaN</td>\n",
       "      <td>75.7</td>\n",
       "      <td>NaN</td>\n",
       "      <td>NaN</td>\n",
       "      <td>NaN</td>\n",
       "      <td>NaN</td>\n",
       "      <td>NaN</td>\n",
       "    </tr>\n",
       "    <tr>\n",
       "      <th>8</th>\n",
       "      <td>DeepSeek-Coder-V2 236B</td>\n",
       "      <td>2024-09-11</td>\n",
       "      <td>0.1750</td>\n",
       "      <td>NaN</td>\n",
       "      <td>NaN</td>\n",
       "      <td>NaN</td>\n",
       "      <td>79.2</td>\n",
       "      <td>NaN</td>\n",
       "      <td>NaN</td>\n",
       "      <td>NaN</td>\n",
       "      <td>NaN</td>\n",
       "      <td>NaN</td>\n",
       "    </tr>\n",
       "    <tr>\n",
       "      <th>9</th>\n",
       "      <td>DeepSeek-R1</td>\n",
       "      <td>2025-01-20</td>\n",
       "      <td>0.9600</td>\n",
       "      <td>NaN</td>\n",
       "      <td>NaN</td>\n",
       "      <td>NaN</td>\n",
       "      <td>NaN</td>\n",
       "      <td>71.7</td>\n",
       "      <td>93.1</td>\n",
       "      <td>NaN</td>\n",
       "      <td>NaN</td>\n",
       "      <td>NaN</td>\n",
       "    </tr>\n",
       "    <tr>\n",
       "      <th>10</th>\n",
       "      <td>DeepSeek-V3</td>\n",
       "      <td>2024-12-26</td>\n",
       "      <td>0.4775</td>\n",
       "      <td>NaN</td>\n",
       "      <td>NaN</td>\n",
       "      <td>NaN</td>\n",
       "      <td>NaN</td>\n",
       "      <td>NaN</td>\n",
       "      <td>NaN</td>\n",
       "      <td>NaN</td>\n",
       "      <td>NaN</td>\n",
       "      <td>NaN</td>\n",
       "    </tr>\n",
       "    <tr>\n",
       "      <th>11</th>\n",
       "      <td>Gemini 1.0 Pro</td>\n",
       "      <td>2024-08-12</td>\n",
       "      <td>0.7500</td>\n",
       "      <td>NaN</td>\n",
       "      <td>NaN</td>\n",
       "      <td>NaN</td>\n",
       "      <td>71.8</td>\n",
       "      <td>34.4</td>\n",
       "      <td>NaN</td>\n",
       "      <td>NaN</td>\n",
       "      <td>NaN</td>\n",
       "      <td>NaN</td>\n",
       "    </tr>\n",
       "    <tr>\n",
       "      <th>12</th>\n",
       "      <td>GPT-3 175B (davinci)</td>\n",
       "      <td>2021-11-20</td>\n",
       "      <td>60.0000</td>\n",
       "      <td>NaN</td>\n",
       "      <td>NaN</td>\n",
       "      <td>NaN</td>\n",
       "      <td>43.9</td>\n",
       "      <td>NaN</td>\n",
       "      <td>NaN</td>\n",
       "      <td>NaN</td>\n",
       "      <td>NaN</td>\n",
       "      <td>NaN</td>\n",
       "    </tr>\n",
       "    <tr>\n",
       "      <th>13</th>\n",
       "      <td>GPT-3 175B (davinci)</td>\n",
       "      <td>2022-08-31</td>\n",
       "      <td>60.0000</td>\n",
       "      <td>NaN</td>\n",
       "      <td>NaN</td>\n",
       "      <td>NaN</td>\n",
       "      <td>43.9</td>\n",
       "      <td>NaN</td>\n",
       "      <td>NaN</td>\n",
       "      <td>NaN</td>\n",
       "      <td>NaN</td>\n",
       "      <td>NaN</td>\n",
       "    </tr>\n",
       "    <tr>\n",
       "      <th>14</th>\n",
       "      <td>GPT-3 175B (davinci)</td>\n",
       "      <td>2022-09-01</td>\n",
       "      <td>20.0000</td>\n",
       "      <td>NaN</td>\n",
       "      <td>NaN</td>\n",
       "      <td>NaN</td>\n",
       "      <td>43.9</td>\n",
       "      <td>NaN</td>\n",
       "      <td>NaN</td>\n",
       "      <td>NaN</td>\n",
       "      <td>NaN</td>\n",
       "      <td>NaN</td>\n",
       "    </tr>\n",
       "    <tr>\n",
       "      <th>15</th>\n",
       "      <td>GPT-3 175B (davinci)</td>\n",
       "      <td>2024-01-04</td>\n",
       "      <td>20.0000</td>\n",
       "      <td>NaN</td>\n",
       "      <td>NaN</td>\n",
       "      <td>NaN</td>\n",
       "      <td>63.1</td>\n",
       "      <td>NaN</td>\n",
       "      <td>NaN</td>\n",
       "      <td>NaN</td>\n",
       "      <td>NaN</td>\n",
       "      <td>NaN</td>\n",
       "    </tr>\n",
       "    <tr>\n",
       "      <th>16</th>\n",
       "      <td>GPT-3.5</td>\n",
       "      <td>2022-11-30</td>\n",
       "      <td>20.0000</td>\n",
       "      <td>NaN</td>\n",
       "      <td>NaN</td>\n",
       "      <td>NaN</td>\n",
       "      <td>64.8</td>\n",
       "      <td>NaN</td>\n",
       "      <td>NaN</td>\n",
       "      <td>NaN</td>\n",
       "      <td>NaN</td>\n",
       "      <td>NaN</td>\n",
       "    </tr>\n",
       "    <tr>\n",
       "      <th>17</th>\n",
       "      <td>GPT-3.5 Turbo</td>\n",
       "      <td>2023-06-13</td>\n",
       "      <td>3.2500</td>\n",
       "      <td>NaN</td>\n",
       "      <td>NaN</td>\n",
       "      <td>NaN</td>\n",
       "      <td>68.0</td>\n",
       "      <td>28.8</td>\n",
       "      <td>15.0</td>\n",
       "      <td>44.0</td>\n",
       "      <td>71.0</td>\n",
       "      <td>1107.0</td>\n",
       "    </tr>\n",
       "    <tr>\n",
       "      <th>18</th>\n",
       "      <td>GPT-3.5 Turbo</td>\n",
       "      <td>2024-01-25</td>\n",
       "      <td>0.7500</td>\n",
       "      <td>NaN</td>\n",
       "      <td>NaN</td>\n",
       "      <td>NaN</td>\n",
       "      <td>68.0</td>\n",
       "      <td>30.0</td>\n",
       "      <td>11.0</td>\n",
       "      <td>44.0</td>\n",
       "      <td>71.0</td>\n",
       "      <td>1107.0</td>\n",
       "    </tr>\n",
       "    <tr>\n",
       "      <th>19</th>\n",
       "      <td>GPT-3.5 Turbo</td>\n",
       "      <td>2023-03-06</td>\n",
       "      <td>2.0000</td>\n",
       "      <td>NaN</td>\n",
       "      <td>NaN</td>\n",
       "      <td>NaN</td>\n",
       "      <td>68.0</td>\n",
       "      <td>NaN</td>\n",
       "      <td>NaN</td>\n",
       "      <td>NaN</td>\n",
       "      <td>NaN</td>\n",
       "      <td>NaN</td>\n",
       "    </tr>\n",
       "    <tr>\n",
       "      <th>20</th>\n",
       "      <td>Jamba 1.5-Large</td>\n",
       "      <td>2024-09-12</td>\n",
       "      <td>3.5000</td>\n",
       "      <td>NaN</td>\n",
       "      <td>NaN</td>\n",
       "      <td>NaN</td>\n",
       "      <td>80.0</td>\n",
       "      <td>NaN</td>\n",
       "      <td>NaN</td>\n",
       "      <td>NaN</td>\n",
       "      <td>NaN</td>\n",
       "      <td>NaN</td>\n",
       "    </tr>\n",
       "    <tr>\n",
       "      <th>21</th>\n",
       "      <td>Llama 2-13B</td>\n",
       "      <td>2023-12-08</td>\n",
       "      <td>0.3500</td>\n",
       "      <td>NaN</td>\n",
       "      <td>NaN</td>\n",
       "      <td>NaN</td>\n",
       "      <td>54.8</td>\n",
       "      <td>NaN</td>\n",
       "      <td>NaN</td>\n",
       "      <td>NaN</td>\n",
       "      <td>NaN</td>\n",
       "      <td>NaN</td>\n",
       "    </tr>\n",
       "    <tr>\n",
       "      <th>22</th>\n",
       "      <td>Llama 2-13B</td>\n",
       "      <td>2024-04-14</td>\n",
       "      <td>0.2200</td>\n",
       "      <td>NaN</td>\n",
       "      <td>NaN</td>\n",
       "      <td>NaN</td>\n",
       "      <td>54.8</td>\n",
       "      <td>NaN</td>\n",
       "      <td>NaN</td>\n",
       "      <td>NaN</td>\n",
       "      <td>NaN</td>\n",
       "      <td>NaN</td>\n",
       "    </tr>\n",
       "    <tr>\n",
       "      <th>23</th>\n",
       "      <td>Llama 2-70B</td>\n",
       "      <td>2023-12-01</td>\n",
       "      <td>0.7625</td>\n",
       "      <td>NaN</td>\n",
       "      <td>NaN</td>\n",
       "      <td>NaN</td>\n",
       "      <td>68.9</td>\n",
       "      <td>25.0</td>\n",
       "      <td>NaN</td>\n",
       "      <td>NaN</td>\n",
       "      <td>NaN</td>\n",
       "      <td>NaN</td>\n",
       "    </tr>\n",
       "    <tr>\n",
       "      <th>24</th>\n",
       "      <td>Llama 2-7B</td>\n",
       "      <td>2023-12-01</td>\n",
       "      <td>0.2000</td>\n",
       "      <td>NaN</td>\n",
       "      <td>NaN</td>\n",
       "      <td>NaN</td>\n",
       "      <td>45.3</td>\n",
       "      <td>NaN</td>\n",
       "      <td>NaN</td>\n",
       "      <td>NaN</td>\n",
       "      <td>NaN</td>\n",
       "      <td>NaN</td>\n",
       "    </tr>\n",
       "    <tr>\n",
       "      <th>25</th>\n",
       "      <td>Llama 2-7B</td>\n",
       "      <td>2024-04-14</td>\n",
       "      <td>0.1300</td>\n",
       "      <td>NaN</td>\n",
       "      <td>NaN</td>\n",
       "      <td>NaN</td>\n",
       "      <td>45.3</td>\n",
       "      <td>NaN</td>\n",
       "      <td>NaN</td>\n",
       "      <td>NaN</td>\n",
       "      <td>NaN</td>\n",
       "      <td>NaN</td>\n",
       "    </tr>\n",
       "    <tr>\n",
       "      <th>26</th>\n",
       "      <td>Mistral 7B</td>\n",
       "      <td>2024-09-14</td>\n",
       "      <td>0.2500</td>\n",
       "      <td>NaN</td>\n",
       "      <td>NaN</td>\n",
       "      <td>NaN</td>\n",
       "      <td>60.1</td>\n",
       "      <td>14.0</td>\n",
       "      <td>3.0</td>\n",
       "      <td>NaN</td>\n",
       "      <td>NaN</td>\n",
       "      <td>NaN</td>\n",
       "    </tr>\n",
       "    <tr>\n",
       "      <th>27</th>\n",
       "      <td>o1</td>\n",
       "      <td>2024-12-17</td>\n",
       "      <td>26.2500</td>\n",
       "      <td>NaN</td>\n",
       "      <td>NaN</td>\n",
       "      <td>NaN</td>\n",
       "      <td>NaN</td>\n",
       "      <td>75.8</td>\n",
       "      <td>94.4</td>\n",
       "      <td>NaN</td>\n",
       "      <td>NaN</td>\n",
       "      <td>NaN</td>\n",
       "    </tr>\n",
       "    <tr>\n",
       "      <th>28</th>\n",
       "      <td>o1-mini</td>\n",
       "      <td>2024-09-12</td>\n",
       "      <td>5.2500</td>\n",
       "      <td>NaN</td>\n",
       "      <td>NaN</td>\n",
       "      <td>NaN</td>\n",
       "      <td>NaN</td>\n",
       "      <td>59.5</td>\n",
       "      <td>84.3</td>\n",
       "      <td>NaN</td>\n",
       "      <td>NaN</td>\n",
       "      <td>NaN</td>\n",
       "    </tr>\n",
       "    <tr>\n",
       "      <th>29</th>\n",
       "      <td>o1-mini</td>\n",
       "      <td>2025-01-31</td>\n",
       "      <td>1.9250</td>\n",
       "      <td>NaN</td>\n",
       "      <td>NaN</td>\n",
       "      <td>NaN</td>\n",
       "      <td>NaN</td>\n",
       "      <td>59.5</td>\n",
       "      <td>84.3</td>\n",
       "      <td>NaN</td>\n",
       "      <td>NaN</td>\n",
       "      <td>NaN</td>\n",
       "    </tr>\n",
       "    <tr>\n",
       "      <th>30</th>\n",
       "      <td>o1-preview</td>\n",
       "      <td>2024-09-12</td>\n",
       "      <td>26.2500</td>\n",
       "      <td>NaN</td>\n",
       "      <td>NaN</td>\n",
       "      <td>NaN</td>\n",
       "      <td>NaN</td>\n",
       "      <td>69.7</td>\n",
       "      <td>68.0</td>\n",
       "      <td>NaN</td>\n",
       "      <td>NaN</td>\n",
       "      <td>NaN</td>\n",
       "    </tr>\n",
       "    <tr>\n",
       "      <th>31</th>\n",
       "      <td>o3-mini</td>\n",
       "      <td>2025-01-31</td>\n",
       "      <td>1.9250</td>\n",
       "      <td>NaN</td>\n",
       "      <td>NaN</td>\n",
       "      <td>NaN</td>\n",
       "      <td>NaN</td>\n",
       "      <td>74.3</td>\n",
       "      <td>95.2</td>\n",
       "      <td>NaN</td>\n",
       "      <td>NaN</td>\n",
       "      <td>NaN</td>\n",
       "    </tr>\n",
       "    <tr>\n",
       "      <th>32</th>\n",
       "      <td>Reka Core</td>\n",
       "      <td>2024-09-14</td>\n",
       "      <td>4.0000</td>\n",
       "      <td>NaN</td>\n",
       "      <td>NaN</td>\n",
       "      <td>NaN</td>\n",
       "      <td>83.2</td>\n",
       "      <td>NaN</td>\n",
       "      <td>NaN</td>\n",
       "      <td>NaN</td>\n",
       "      <td>NaN</td>\n",
       "      <td>NaN</td>\n",
       "    </tr>\n",
       "  </tbody>\n",
       "</table>\n",
       "</div>"
      ],
      "text/plain": [
       "                Model Name Release Date  USD per 1M Tokens  Tokens per Second  \\\n",
       "0                 Claude 2   2024-08-12            12.0000                NaN   \n",
       "1               Claude 2.1   2024-08-12            12.0000                NaN   \n",
       "2           Claude Instant   2024-08-12             1.2000                NaN   \n",
       "3           Cohere Command   2024-08-13             1.6250                NaN   \n",
       "4     Cohere Command Light   2024-08-13             0.3750                NaN   \n",
       "5                Command R   2024-08-13             0.7500                NaN   \n",
       "6               Command R+   2024-08-13             6.0000                NaN   \n",
       "7               Command R+   2024-09-13             4.3750                NaN   \n",
       "8   DeepSeek-Coder-V2 236B   2024-09-11             0.1750                NaN   \n",
       "9              DeepSeek-R1   2025-01-20             0.9600                NaN   \n",
       "10             DeepSeek-V3   2024-12-26             0.4775                NaN   \n",
       "11          Gemini 1.0 Pro   2024-08-12             0.7500                NaN   \n",
       "12    GPT-3 175B (davinci)   2021-11-20            60.0000                NaN   \n",
       "13    GPT-3 175B (davinci)   2022-08-31            60.0000                NaN   \n",
       "14    GPT-3 175B (davinci)   2022-09-01            20.0000                NaN   \n",
       "15    GPT-3 175B (davinci)   2024-01-04            20.0000                NaN   \n",
       "16                 GPT-3.5   2022-11-30            20.0000                NaN   \n",
       "17           GPT-3.5 Turbo   2023-06-13             3.2500                NaN   \n",
       "18           GPT-3.5 Turbo   2024-01-25             0.7500                NaN   \n",
       "19           GPT-3.5 Turbo   2023-03-06             2.0000                NaN   \n",
       "20         Jamba 1.5-Large   2024-09-12             3.5000                NaN   \n",
       "21             Llama 2-13B   2023-12-08             0.3500                NaN   \n",
       "22             Llama 2-13B   2024-04-14             0.2200                NaN   \n",
       "23             Llama 2-70B   2023-12-01             0.7625                NaN   \n",
       "24              Llama 2-7B   2023-12-01             0.2000                NaN   \n",
       "25              Llama 2-7B   2024-04-14             0.1300                NaN   \n",
       "26              Mistral 7B   2024-09-14             0.2500                NaN   \n",
       "27                      o1   2024-12-17            26.2500                NaN   \n",
       "28                 o1-mini   2024-09-12             5.2500                NaN   \n",
       "29                 o1-mini   2025-01-31             1.9250                NaN   \n",
       "30              o1-preview   2024-09-12            26.2500                NaN   \n",
       "31                 o3-mini   2025-01-31             1.9250                NaN   \n",
       "32               Reka Core   2024-09-14             4.0000                NaN   \n",
       "\n",
       "    Prefill Latency (s)  Prompt Length (tk)  MMLU  GPQA Diamond  MATH 5  \\\n",
       "0                   NaN                 NaN  78.5          35.0    10.0   \n",
       "1                   NaN                 NaN   NaN          36.0    11.0   \n",
       "2                   NaN                 NaN   NaN           NaN     NaN   \n",
       "3                   NaN                 NaN   NaN           NaN     NaN   \n",
       "4                   NaN                 NaN   NaN           NaN     NaN   \n",
       "5                   NaN                 NaN   NaN           NaN     NaN   \n",
       "6                   NaN                 NaN  75.7           NaN     NaN   \n",
       "7                   NaN                 NaN  75.7           NaN     NaN   \n",
       "8                   NaN                 NaN  79.2           NaN     NaN   \n",
       "9                   NaN                 NaN   NaN          71.7    93.1   \n",
       "10                  NaN                 NaN   NaN           NaN     NaN   \n",
       "11                  NaN                 NaN  71.8          34.4     NaN   \n",
       "12                  NaN                 NaN  43.9           NaN     NaN   \n",
       "13                  NaN                 NaN  43.9           NaN     NaN   \n",
       "14                  NaN                 NaN  43.9           NaN     NaN   \n",
       "15                  NaN                 NaN  63.1           NaN     NaN   \n",
       "16                  NaN                 NaN  64.8           NaN     NaN   \n",
       "17                  NaN                 NaN  68.0          28.8    15.0   \n",
       "18                  NaN                 NaN  68.0          30.0    11.0   \n",
       "19                  NaN                 NaN  68.0           NaN     NaN   \n",
       "20                  NaN                 NaN  80.0           NaN     NaN   \n",
       "21                  NaN                 NaN  54.8           NaN     NaN   \n",
       "22                  NaN                 NaN  54.8           NaN     NaN   \n",
       "23                  NaN                 NaN  68.9          25.0     NaN   \n",
       "24                  NaN                 NaN  45.3           NaN     NaN   \n",
       "25                  NaN                 NaN  45.3           NaN     NaN   \n",
       "26                  NaN                 NaN  60.1          14.0     3.0   \n",
       "27                  NaN                 NaN   NaN          75.8    94.4   \n",
       "28                  NaN                 NaN   NaN          59.5    84.3   \n",
       "29                  NaN                 NaN   NaN          59.5    84.3   \n",
       "30                  NaN                 NaN   NaN          69.7    68.0   \n",
       "31                  NaN                 NaN   NaN          74.3    95.2   \n",
       "32                  NaN                 NaN  83.2           NaN     NaN   \n",
       "\n",
       "    MATH-500  HumanEval  LMSys Chatbot Arena ELO  \n",
       "0        NaN        NaN                      NaN  \n",
       "1        NaN        NaN                      NaN  \n",
       "2        NaN        NaN                      NaN  \n",
       "3        NaN        NaN                      NaN  \n",
       "4        NaN        NaN                      NaN  \n",
       "5        NaN        NaN                      NaN  \n",
       "6        NaN        NaN                      NaN  \n",
       "7        NaN        NaN                      NaN  \n",
       "8        NaN        NaN                      NaN  \n",
       "9        NaN        NaN                      NaN  \n",
       "10       NaN        NaN                      NaN  \n",
       "11       NaN        NaN                      NaN  \n",
       "12       NaN        NaN                      NaN  \n",
       "13       NaN        NaN                      NaN  \n",
       "14       NaN        NaN                      NaN  \n",
       "15       NaN        NaN                      NaN  \n",
       "16       NaN        NaN                      NaN  \n",
       "17      44.0       71.0                   1107.0  \n",
       "18      44.0       71.0                   1107.0  \n",
       "19       NaN        NaN                      NaN  \n",
       "20       NaN        NaN                      NaN  \n",
       "21       NaN        NaN                      NaN  \n",
       "22       NaN        NaN                      NaN  \n",
       "23       NaN        NaN                      NaN  \n",
       "24       NaN        NaN                      NaN  \n",
       "25       NaN        NaN                      NaN  \n",
       "26       NaN        NaN                      NaN  \n",
       "27       NaN        NaN                      NaN  \n",
       "28       NaN        NaN                      NaN  \n",
       "29       NaN        NaN                      NaN  \n",
       "30       NaN        NaN                      NaN  \n",
       "31       NaN        NaN                      NaN  \n",
       "32       NaN        NaN                      NaN  "
      ]
     },
     "execution_count": 6,
     "metadata": {},
     "output_type": "execute_result"
    }
   ],
   "source": [
    "api_price_df = pd.read_csv('data/epoch_ai_price_data_not_in_aa_with_benchmarks.csv')\n",
    "api_price_df['Release Date'] = pd.to_datetime(api_price_df['Release Date'].str.strip(), format='%Y-%m-%d')\n",
    "api_price_df"
   ]
  },
  {
   "cell_type": "code",
   "execution_count": 7,
   "metadata": {},
   "outputs": [
    {
     "data": {
      "text/html": [
       "<div>\n",
       "<style scoped>\n",
       "    .dataframe tbody tr th:only-of-type {\n",
       "        vertical-align: middle;\n",
       "    }\n",
       "\n",
       "    .dataframe tbody tr th {\n",
       "        vertical-align: top;\n",
       "    }\n",
       "\n",
       "    .dataframe thead th {\n",
       "        text-align: right;\n",
       "    }\n",
       "</style>\n",
       "<table border=\"1\" class=\"dataframe\">\n",
       "  <thead>\n",
       "    <tr style=\"text-align: right;\">\n",
       "      <th></th>\n",
       "      <th>Model Name</th>\n",
       "      <th>Release Date</th>\n",
       "      <th>USD per 1M Tokens</th>\n",
       "      <th>Tokens per Second</th>\n",
       "      <th>Prefill Latency (s)</th>\n",
       "      <th>Prompt Length (tk)</th>\n",
       "      <th>MMLU</th>\n",
       "      <th>GPQA Diamond</th>\n",
       "      <th>MATH 5</th>\n",
       "      <th>MATH-500</th>\n",
       "      <th>HumanEval</th>\n",
       "      <th>LMSys Chatbot Arena ELO</th>\n",
       "    </tr>\n",
       "  </thead>\n",
       "  <tbody>\n",
       "    <tr>\n",
       "      <th>0</th>\n",
       "      <td>GPT-3 175B (davinci)</td>\n",
       "      <td>2021-11-20</td>\n",
       "      <td>60.0000</td>\n",
       "      <td>NaN</td>\n",
       "      <td>NaN</td>\n",
       "      <td>NaN</td>\n",
       "      <td>43.9</td>\n",
       "      <td>NaN</td>\n",
       "      <td>NaN</td>\n",
       "      <td>NaN</td>\n",
       "      <td>NaN</td>\n",
       "      <td>NaN</td>\n",
       "    </tr>\n",
       "    <tr>\n",
       "      <th>1</th>\n",
       "      <td>GPT-3 175B (davinci)</td>\n",
       "      <td>2022-08-31</td>\n",
       "      <td>60.0000</td>\n",
       "      <td>NaN</td>\n",
       "      <td>NaN</td>\n",
       "      <td>NaN</td>\n",
       "      <td>43.9</td>\n",
       "      <td>NaN</td>\n",
       "      <td>NaN</td>\n",
       "      <td>NaN</td>\n",
       "      <td>NaN</td>\n",
       "      <td>NaN</td>\n",
       "    </tr>\n",
       "    <tr>\n",
       "      <th>2</th>\n",
       "      <td>GPT-3 175B (davinci)</td>\n",
       "      <td>2022-09-01</td>\n",
       "      <td>20.0000</td>\n",
       "      <td>NaN</td>\n",
       "      <td>NaN</td>\n",
       "      <td>NaN</td>\n",
       "      <td>43.9</td>\n",
       "      <td>NaN</td>\n",
       "      <td>NaN</td>\n",
       "      <td>NaN</td>\n",
       "      <td>NaN</td>\n",
       "      <td>NaN</td>\n",
       "    </tr>\n",
       "    <tr>\n",
       "      <th>3</th>\n",
       "      <td>GPT-3.5</td>\n",
       "      <td>2022-11-30</td>\n",
       "      <td>20.0000</td>\n",
       "      <td>NaN</td>\n",
       "      <td>NaN</td>\n",
       "      <td>NaN</td>\n",
       "      <td>64.8</td>\n",
       "      <td>NaN</td>\n",
       "      <td>NaN</td>\n",
       "      <td>NaN</td>\n",
       "      <td>NaN</td>\n",
       "      <td>NaN</td>\n",
       "    </tr>\n",
       "    <tr>\n",
       "      <th>4</th>\n",
       "      <td>GPT-4</td>\n",
       "      <td>2023-03-01</td>\n",
       "      <td>37.5000</td>\n",
       "      <td>23.6</td>\n",
       "      <td>0.724</td>\n",
       "      <td>1000.0</td>\n",
       "      <td>86.0</td>\n",
       "      <td>33.0</td>\n",
       "      <td>NaN</td>\n",
       "      <td>21.0</td>\n",
       "      <td>67.0</td>\n",
       "      <td>1186.0</td>\n",
       "    </tr>\n",
       "    <tr>\n",
       "      <th>...</th>\n",
       "      <td>...</td>\n",
       "      <td>...</td>\n",
       "      <td>...</td>\n",
       "      <td>...</td>\n",
       "      <td>...</td>\n",
       "      <td>...</td>\n",
       "      <td>...</td>\n",
       "      <td>...</td>\n",
       "      <td>...</td>\n",
       "      <td>...</td>\n",
       "      <td>...</td>\n",
       "      <td>...</td>\n",
       "    </tr>\n",
       "    <tr>\n",
       "      <th>63</th>\n",
       "      <td>o1</td>\n",
       "      <td>2024-12-17</td>\n",
       "      <td>26.2500</td>\n",
       "      <td>NaN</td>\n",
       "      <td>NaN</td>\n",
       "      <td>NaN</td>\n",
       "      <td>NaN</td>\n",
       "      <td>75.8</td>\n",
       "      <td>94.4</td>\n",
       "      <td>NaN</td>\n",
       "      <td>NaN</td>\n",
       "      <td>NaN</td>\n",
       "    </tr>\n",
       "    <tr>\n",
       "      <th>64</th>\n",
       "      <td>DeepSeek-V3</td>\n",
       "      <td>2024-12-26</td>\n",
       "      <td>0.4775</td>\n",
       "      <td>NaN</td>\n",
       "      <td>NaN</td>\n",
       "      <td>NaN</td>\n",
       "      <td>NaN</td>\n",
       "      <td>NaN</td>\n",
       "      <td>NaN</td>\n",
       "      <td>NaN</td>\n",
       "      <td>NaN</td>\n",
       "      <td>NaN</td>\n",
       "    </tr>\n",
       "    <tr>\n",
       "      <th>65</th>\n",
       "      <td>DeepSeek-R1</td>\n",
       "      <td>2025-01-20</td>\n",
       "      <td>0.9600</td>\n",
       "      <td>NaN</td>\n",
       "      <td>NaN</td>\n",
       "      <td>NaN</td>\n",
       "      <td>NaN</td>\n",
       "      <td>71.7</td>\n",
       "      <td>93.1</td>\n",
       "      <td>NaN</td>\n",
       "      <td>NaN</td>\n",
       "      <td>NaN</td>\n",
       "    </tr>\n",
       "    <tr>\n",
       "      <th>66</th>\n",
       "      <td>o1-mini</td>\n",
       "      <td>2025-01-31</td>\n",
       "      <td>1.9250</td>\n",
       "      <td>NaN</td>\n",
       "      <td>NaN</td>\n",
       "      <td>NaN</td>\n",
       "      <td>NaN</td>\n",
       "      <td>59.5</td>\n",
       "      <td>84.3</td>\n",
       "      <td>NaN</td>\n",
       "      <td>NaN</td>\n",
       "      <td>NaN</td>\n",
       "    </tr>\n",
       "    <tr>\n",
       "      <th>67</th>\n",
       "      <td>o3-mini</td>\n",
       "      <td>2025-01-31</td>\n",
       "      <td>1.9250</td>\n",
       "      <td>NaN</td>\n",
       "      <td>NaN</td>\n",
       "      <td>NaN</td>\n",
       "      <td>NaN</td>\n",
       "      <td>74.3</td>\n",
       "      <td>95.2</td>\n",
       "      <td>NaN</td>\n",
       "      <td>NaN</td>\n",
       "      <td>NaN</td>\n",
       "    </tr>\n",
       "  </tbody>\n",
       "</table>\n",
       "<p>68 rows × 12 columns</p>\n",
       "</div>"
      ],
      "text/plain": [
       "              Model Name Release Date  USD per 1M Tokens  Tokens per Second  \\\n",
       "0   GPT-3 175B (davinci)   2021-11-20            60.0000                NaN   \n",
       "1   GPT-3 175B (davinci)   2022-08-31            60.0000                NaN   \n",
       "2   GPT-3 175B (davinci)   2022-09-01            20.0000                NaN   \n",
       "3                GPT-3.5   2022-11-30            20.0000                NaN   \n",
       "4                  GPT-4   2023-03-01            37.5000               23.6   \n",
       "..                   ...          ...                ...                ...   \n",
       "63                    o1   2024-12-17            26.2500                NaN   \n",
       "64           DeepSeek-V3   2024-12-26             0.4775                NaN   \n",
       "65           DeepSeek-R1   2025-01-20             0.9600                NaN   \n",
       "66               o1-mini   2025-01-31             1.9250                NaN   \n",
       "67               o3-mini   2025-01-31             1.9250                NaN   \n",
       "\n",
       "    Prefill Latency (s)  Prompt Length (tk)  MMLU  GPQA Diamond  MATH 5  \\\n",
       "0                   NaN                 NaN  43.9           NaN     NaN   \n",
       "1                   NaN                 NaN  43.9           NaN     NaN   \n",
       "2                   NaN                 NaN  43.9           NaN     NaN   \n",
       "3                   NaN                 NaN  64.8           NaN     NaN   \n",
       "4                 0.724              1000.0  86.0          33.0     NaN   \n",
       "..                  ...                 ...   ...           ...     ...   \n",
       "63                  NaN                 NaN   NaN          75.8    94.4   \n",
       "64                  NaN                 NaN   NaN           NaN     NaN   \n",
       "65                  NaN                 NaN   NaN          71.7    93.1   \n",
       "66                  NaN                 NaN   NaN          59.5    84.3   \n",
       "67                  NaN                 NaN   NaN          74.3    95.2   \n",
       "\n",
       "    MATH-500  HumanEval  LMSys Chatbot Arena ELO  \n",
       "0        NaN        NaN                      NaN  \n",
       "1        NaN        NaN                      NaN  \n",
       "2        NaN        NaN                      NaN  \n",
       "3        NaN        NaN                      NaN  \n",
       "4       21.0       67.0                   1186.0  \n",
       "..       ...        ...                      ...  \n",
       "63       NaN        NaN                      NaN  \n",
       "64       NaN        NaN                      NaN  \n",
       "65       NaN        NaN                      NaN  \n",
       "66       NaN        NaN                      NaN  \n",
       "67       NaN        NaN                      NaN  \n",
       "\n",
       "[68 rows x 12 columns]"
      ]
     },
     "execution_count": 7,
     "metadata": {},
     "output_type": "execute_result"
    }
   ],
   "source": [
    "# Merge the two datasets\n",
    "aa_df = pd.concat([aa_df, api_price_df])\n",
    "aa_df.sort_values(by='Release Date', inplace=True)\n",
    "# Reset the index\n",
    "aa_df.reset_index(drop=True, inplace=True)\n",
    "aa_df"
   ]
  },
  {
   "cell_type": "code",
   "execution_count": 8,
   "metadata": {},
   "outputs": [
    {
     "data": {
      "text/html": [
       "<div>\n",
       "<style scoped>\n",
       "    .dataframe tbody tr th:only-of-type {\n",
       "        vertical-align: middle;\n",
       "    }\n",
       "\n",
       "    .dataframe tbody tr th {\n",
       "        vertical-align: top;\n",
       "    }\n",
       "\n",
       "    .dataframe thead th {\n",
       "        text-align: right;\n",
       "    }\n",
       "</style>\n",
       "<table border=\"1\" class=\"dataframe\">\n",
       "  <thead>\n",
       "    <tr style=\"text-align: right;\">\n",
       "      <th></th>\n",
       "      <th>Model Name</th>\n",
       "      <th>Release Date</th>\n",
       "      <th>USD per 1M Tokens</th>\n",
       "      <th>Tokens per Second</th>\n",
       "      <th>Prefill Latency (s)</th>\n",
       "      <th>Prompt Length (tk)</th>\n",
       "      <th>MMLU</th>\n",
       "      <th>GPQA Diamond</th>\n",
       "      <th>MATH 5</th>\n",
       "      <th>MATH-500</th>\n",
       "      <th>HumanEval</th>\n",
       "      <th>LMSys Chatbot Arena ELO</th>\n",
       "    </tr>\n",
       "  </thead>\n",
       "  <tbody>\n",
       "    <tr>\n",
       "      <th>0</th>\n",
       "      <td>GPT-3</td>\n",
       "      <td>2021-11-20</td>\n",
       "      <td>60.0000</td>\n",
       "      <td>NaN</td>\n",
       "      <td>NaN</td>\n",
       "      <td>NaN</td>\n",
       "      <td>43.9</td>\n",
       "      <td>NaN</td>\n",
       "      <td>NaN</td>\n",
       "      <td>NaN</td>\n",
       "      <td>NaN</td>\n",
       "      <td>NaN</td>\n",
       "    </tr>\n",
       "    <tr>\n",
       "      <th>1</th>\n",
       "      <td>GPT-3</td>\n",
       "      <td>2022-08-31</td>\n",
       "      <td>60.0000</td>\n",
       "      <td>NaN</td>\n",
       "      <td>NaN</td>\n",
       "      <td>NaN</td>\n",
       "      <td>43.9</td>\n",
       "      <td>NaN</td>\n",
       "      <td>NaN</td>\n",
       "      <td>NaN</td>\n",
       "      <td>NaN</td>\n",
       "      <td>NaN</td>\n",
       "    </tr>\n",
       "    <tr>\n",
       "      <th>2</th>\n",
       "      <td>GPT-3</td>\n",
       "      <td>2022-09-01</td>\n",
       "      <td>20.0000</td>\n",
       "      <td>NaN</td>\n",
       "      <td>NaN</td>\n",
       "      <td>NaN</td>\n",
       "      <td>43.9</td>\n",
       "      <td>NaN</td>\n",
       "      <td>NaN</td>\n",
       "      <td>NaN</td>\n",
       "      <td>NaN</td>\n",
       "      <td>NaN</td>\n",
       "    </tr>\n",
       "    <tr>\n",
       "      <th>3</th>\n",
       "      <td>GPT-3.5</td>\n",
       "      <td>2022-11-30</td>\n",
       "      <td>20.0000</td>\n",
       "      <td>NaN</td>\n",
       "      <td>NaN</td>\n",
       "      <td>NaN</td>\n",
       "      <td>64.8</td>\n",
       "      <td>NaN</td>\n",
       "      <td>NaN</td>\n",
       "      <td>NaN</td>\n",
       "      <td>NaN</td>\n",
       "      <td>NaN</td>\n",
       "    </tr>\n",
       "    <tr>\n",
       "      <th>4</th>\n",
       "      <td>GPT-4</td>\n",
       "      <td>2023-03-01</td>\n",
       "      <td>37.5000</td>\n",
       "      <td>23.6</td>\n",
       "      <td>0.724</td>\n",
       "      <td>1000.0</td>\n",
       "      <td>86.0</td>\n",
       "      <td>33.0</td>\n",
       "      <td>NaN</td>\n",
       "      <td>21.0</td>\n",
       "      <td>67.0</td>\n",
       "      <td>1186.0</td>\n",
       "    </tr>\n",
       "    <tr>\n",
       "      <th>...</th>\n",
       "      <td>...</td>\n",
       "      <td>...</td>\n",
       "      <td>...</td>\n",
       "      <td>...</td>\n",
       "      <td>...</td>\n",
       "      <td>...</td>\n",
       "      <td>...</td>\n",
       "      <td>...</td>\n",
       "      <td>...</td>\n",
       "      <td>...</td>\n",
       "      <td>...</td>\n",
       "      <td>...</td>\n",
       "    </tr>\n",
       "    <tr>\n",
       "      <th>63</th>\n",
       "      <td>o1</td>\n",
       "      <td>2024-12-17</td>\n",
       "      <td>26.2500</td>\n",
       "      <td>NaN</td>\n",
       "      <td>NaN</td>\n",
       "      <td>NaN</td>\n",
       "      <td>NaN</td>\n",
       "      <td>75.8</td>\n",
       "      <td>94.4</td>\n",
       "      <td>NaN</td>\n",
       "      <td>NaN</td>\n",
       "      <td>NaN</td>\n",
       "    </tr>\n",
       "    <tr>\n",
       "      <th>64</th>\n",
       "      <td>DeepSeek-V3</td>\n",
       "      <td>2024-12-26</td>\n",
       "      <td>0.4775</td>\n",
       "      <td>NaN</td>\n",
       "      <td>NaN</td>\n",
       "      <td>NaN</td>\n",
       "      <td>NaN</td>\n",
       "      <td>NaN</td>\n",
       "      <td>NaN</td>\n",
       "      <td>NaN</td>\n",
       "      <td>NaN</td>\n",
       "      <td>NaN</td>\n",
       "    </tr>\n",
       "    <tr>\n",
       "      <th>65</th>\n",
       "      <td>DeepSeek-R1</td>\n",
       "      <td>2025-01-20</td>\n",
       "      <td>0.9600</td>\n",
       "      <td>NaN</td>\n",
       "      <td>NaN</td>\n",
       "      <td>NaN</td>\n",
       "      <td>NaN</td>\n",
       "      <td>71.7</td>\n",
       "      <td>93.1</td>\n",
       "      <td>NaN</td>\n",
       "      <td>NaN</td>\n",
       "      <td>NaN</td>\n",
       "    </tr>\n",
       "    <tr>\n",
       "      <th>66</th>\n",
       "      <td>o1-mini</td>\n",
       "      <td>2025-01-31</td>\n",
       "      <td>1.9250</td>\n",
       "      <td>NaN</td>\n",
       "      <td>NaN</td>\n",
       "      <td>NaN</td>\n",
       "      <td>NaN</td>\n",
       "      <td>59.5</td>\n",
       "      <td>84.3</td>\n",
       "      <td>NaN</td>\n",
       "      <td>NaN</td>\n",
       "      <td>NaN</td>\n",
       "    </tr>\n",
       "    <tr>\n",
       "      <th>67</th>\n",
       "      <td>o3-mini</td>\n",
       "      <td>2025-01-31</td>\n",
       "      <td>1.9250</td>\n",
       "      <td>NaN</td>\n",
       "      <td>NaN</td>\n",
       "      <td>NaN</td>\n",
       "      <td>NaN</td>\n",
       "      <td>74.3</td>\n",
       "      <td>95.2</td>\n",
       "      <td>NaN</td>\n",
       "      <td>NaN</td>\n",
       "      <td>NaN</td>\n",
       "    </tr>\n",
       "  </tbody>\n",
       "</table>\n",
       "<p>68 rows × 12 columns</p>\n",
       "</div>"
      ],
      "text/plain": [
       "     Model Name Release Date  USD per 1M Tokens  Tokens per Second  \\\n",
       "0         GPT-3   2021-11-20            60.0000                NaN   \n",
       "1         GPT-3   2022-08-31            60.0000                NaN   \n",
       "2         GPT-3   2022-09-01            20.0000                NaN   \n",
       "3       GPT-3.5   2022-11-30            20.0000                NaN   \n",
       "4         GPT-4   2023-03-01            37.5000               23.6   \n",
       "..          ...          ...                ...                ...   \n",
       "63           o1   2024-12-17            26.2500                NaN   \n",
       "64  DeepSeek-V3   2024-12-26             0.4775                NaN   \n",
       "65  DeepSeek-R1   2025-01-20             0.9600                NaN   \n",
       "66      o1-mini   2025-01-31             1.9250                NaN   \n",
       "67      o3-mini   2025-01-31             1.9250                NaN   \n",
       "\n",
       "    Prefill Latency (s)  Prompt Length (tk)  MMLU  GPQA Diamond  MATH 5  \\\n",
       "0                   NaN                 NaN  43.9           NaN     NaN   \n",
       "1                   NaN                 NaN  43.9           NaN     NaN   \n",
       "2                   NaN                 NaN  43.9           NaN     NaN   \n",
       "3                   NaN                 NaN  64.8           NaN     NaN   \n",
       "4                 0.724              1000.0  86.0          33.0     NaN   \n",
       "..                  ...                 ...   ...           ...     ...   \n",
       "63                  NaN                 NaN   NaN          75.8    94.4   \n",
       "64                  NaN                 NaN   NaN           NaN     NaN   \n",
       "65                  NaN                 NaN   NaN          71.7    93.1   \n",
       "66                  NaN                 NaN   NaN          59.5    84.3   \n",
       "67                  NaN                 NaN   NaN          74.3    95.2   \n",
       "\n",
       "    MATH-500  HumanEval  LMSys Chatbot Arena ELO  \n",
       "0        NaN        NaN                      NaN  \n",
       "1        NaN        NaN                      NaN  \n",
       "2        NaN        NaN                      NaN  \n",
       "3        NaN        NaN                      NaN  \n",
       "4       21.0       67.0                   1186.0  \n",
       "..       ...        ...                      ...  \n",
       "63       NaN        NaN                      NaN  \n",
       "64       NaN        NaN                      NaN  \n",
       "65       NaN        NaN                      NaN  \n",
       "66       NaN        NaN                      NaN  \n",
       "67       NaN        NaN                      NaN  \n",
       "\n",
       "[68 rows x 12 columns]"
      ]
     },
     "execution_count": 8,
     "metadata": {},
     "output_type": "execute_result"
    }
   ],
   "source": [
    "# Rename all instances of 'GPT-3 175B (davinci)' to 'GPT-3'\n",
    "aa_df.loc[aa_df['Model Name'] == 'GPT-3 175B (davinci)', 'Model Name'] = 'GPT-3'\n",
    "aa_df\n"
   ]
  },
  {
   "cell_type": "markdown",
   "metadata": {},
   "source": [
    "## Explore the data"
   ]
  },
  {
   "cell_type": "code",
   "execution_count": 9,
   "metadata": {},
   "outputs": [
    {
     "data": {
      "application/vnd.plotly.v1+json": {
       "config": {
        "plotlyServerURL": "https://plot.ly"
       },
       "data": [
        {
         "customdata": [
          [
           "GPT-3"
          ],
          [
           "GPT-3"
          ],
          [
           "GPT-3"
          ],
          [
           "GPT-3.5"
          ],
          [
           "GPT-4"
          ],
          [
           "GPT-3.5 Turbo"
          ],
          [
           "GPT-3.5 Turbo"
          ],
          [
           "Llama-2-Chat-7B"
          ],
          [
           "Llama-2-Chat-13B"
          ],
          [
           "GPT-3.5 Turbo"
          ],
          [
           "GPT-4 Turbo"
          ],
          [
           "Llama 2-70B"
          ],
          [
           "Llama 2-7B"
          ],
          [
           "Llama 2-13B"
          ],
          [
           "GPT-3"
          ],
          [
           "GPT-3.5 Turbo"
          ],
          [
           "Mistral-Small-2024-02"
          ],
          [
           "Mistral-Large-2024-02"
          ],
          [
           "Claude-3-Haiku"
          ],
          [
           "Claude-3-Sonnet"
          ],
          [
           "Claude-3-Opus"
          ],
          [
           "Llama-3-Instruct-70B"
          ],
          [
           "Llama-3-Instruct-8B"
          ],
          [
           "Mistral-8x22"
          ],
          [
           "Llama 2-13B"
          ],
          [
           "Llama 2-7B"
          ],
          [
           "Gemini-1.5-Pro-2024-05"
          ],
          [
           "Gemini-1.5-Flash-2024-05"
          ],
          [
           "GPT-4o-2024-05"
          ],
          [
           "Mistral-Large-2-2024-06"
          ],
          [
           "Mistral-NeMo"
          ],
          [
           "Claude-3.5-Haiku"
          ],
          [
           "Gemma-2-27B"
          ],
          [
           "Claude-3.5-Sonnet-2024-06"
          ],
          [
           "Gemma-2-9B"
          ],
          [
           "GPT-4o-mini"
          ],
          [
           "Llama-3.1-Instruct-70B"
          ],
          [
           "Llama-3.1-Instruct-405B"
          ],
          [
           "Llama-3.1-Instruct-8B"
          ],
          [
           "GPT-4o-2024-08"
          ],
          [
           "Claude 2.1"
          ],
          [
           "Claude 2"
          ],
          [
           "Gemini 1.0 Pro"
          ],
          [
           "Claude Instant"
          ],
          [
           "Cohere Command"
          ],
          [
           "Command R"
          ],
          [
           "Command R+"
          ],
          [
           "Cohere Command Light"
          ],
          [
           "Gemini-1.5-Pro-2024-09"
          ],
          [
           "Gemini-1.5-Flash-2024-09"
          ],
          [
           "Llama-3.2-Instruct-1B"
          ],
          [
           "Llama-3.2-Instruct-3B"
          ],
          [
           "DeepSeek-Coder-V2 236B"
          ],
          [
           "o1-preview"
          ],
          [
           "Jamba 1.5-Large"
          ],
          [
           "o1-mini"
          ],
          [
           "Command R+"
          ],
          [
           "Mistral 7B"
          ],
          [
           "Reka Core"
          ],
          [
           "Gemini-1.5-Flash-8B"
          ],
          [
           "Claude-3.5-Sonnet-2024-10"
          ],
          [
           "GPT-4o-2024-11"
          ],
          [
           "Mistral-Large-2-2024-11"
          ],
          [
           "o1"
          ],
          [
           "DeepSeek-V3"
          ],
          [
           "DeepSeek-R1"
          ],
          [
           "o1-mini"
          ],
          [
           "o3-mini"
          ]
         ],
         "hovertemplate": "MMLU=%{x}<br>USD per 1M Tokens=%{y}<br>Model Name=%{customdata[0]}<extra></extra>",
         "legendgroup": "",
         "marker": {
          "color": "#636efa",
          "symbol": "circle"
         },
         "mode": "markers",
         "name": "",
         "orientation": "v",
         "showlegend": false,
         "type": "scatter",
         "x": [
          43.9,
          43.9,
          43.9,
          64.8,
          86,
          68,
          68,
          13,
          45,
          68,
          87,
          68.9,
          45.3,
          54.8,
          63.1,
          68,
          69,
          69,
          71,
          77,
          84,
          79,
          64,
          76,
          54.8,
          45.3,
          86,
          79,
          87,
          85,
          66,
          81,
          77,
          88,
          73,
          82,
          84,
          87,
          71,
          89,
          null,
          78.5,
          71.8,
          null,
          null,
          null,
          75.7,
          null,
          86,
          75,
          35,
          64,
          79.2,
          null,
          80,
          null,
          75.7,
          60.1,
          83.2,
          75,
          89,
          86,
          85,
          null,
          null,
          null,
          null,
          null
         ],
         "xaxis": "x",
         "y": [
          60,
          60,
          20,
          20,
          37.5,
          2,
          3.25,
          0.33,
          0.56,
          0.75,
          15,
          0.7625,
          0.2,
          0.35,
          20,
          0.75,
          1.5,
          6,
          0.5,
          6,
          30,
          0.89,
          0.15,
          1.2,
          0.22,
          0.13,
          2.19,
          0.13,
          7.5,
          3,
          0.13,
          1.6,
          0.26,
          6,
          0.13,
          0.26,
          0.72,
          3.5,
          0.1,
          4.38,
          12,
          12,
          0.75,
          1.2,
          1.625,
          0.75,
          6,
          0.375,
          2.19,
          0.13,
          0.05,
          0.08,
          0.175,
          26.25,
          3.5,
          5.25,
          4.375,
          0.25,
          4,
          0.07,
          6,
          4.38,
          3,
          26.25,
          0.4775,
          0.96,
          1.925,
          1.925
         ],
         "yaxis": "y"
        }
       ],
       "layout": {
        "legend": {
         "tracegroupgap": 0
        },
        "template": {
         "data": {
          "bar": [
           {
            "error_x": {
             "color": "#2a3f5f"
            },
            "error_y": {
             "color": "#2a3f5f"
            },
            "marker": {
             "line": {
              "color": "white",
              "width": 0.5
             },
             "pattern": {
              "fillmode": "overlay",
              "size": 10,
              "solidity": 0.2
             }
            },
            "type": "bar"
           }
          ],
          "barpolar": [
           {
            "marker": {
             "line": {
              "color": "white",
              "width": 0.5
             },
             "pattern": {
              "fillmode": "overlay",
              "size": 10,
              "solidity": 0.2
             }
            },
            "type": "barpolar"
           }
          ],
          "carpet": [
           {
            "aaxis": {
             "endlinecolor": "#2a3f5f",
             "gridcolor": "#C8D4E3",
             "linecolor": "#C8D4E3",
             "minorgridcolor": "#C8D4E3",
             "startlinecolor": "#2a3f5f"
            },
            "baxis": {
             "endlinecolor": "#2a3f5f",
             "gridcolor": "#C8D4E3",
             "linecolor": "#C8D4E3",
             "minorgridcolor": "#C8D4E3",
             "startlinecolor": "#2a3f5f"
            },
            "type": "carpet"
           }
          ],
          "choropleth": [
           {
            "colorbar": {
             "outlinewidth": 0,
             "ticks": ""
            },
            "type": "choropleth"
           }
          ],
          "contour": [
           {
            "colorbar": {
             "outlinewidth": 0,
             "ticks": ""
            },
            "colorscale": [
             [
              0,
              "#0d0887"
             ],
             [
              0.1111111111111111,
              "#46039f"
             ],
             [
              0.2222222222222222,
              "#7201a8"
             ],
             [
              0.3333333333333333,
              "#9c179e"
             ],
             [
              0.4444444444444444,
              "#bd3786"
             ],
             [
              0.5555555555555556,
              "#d8576b"
             ],
             [
              0.6666666666666666,
              "#ed7953"
             ],
             [
              0.7777777777777778,
              "#fb9f3a"
             ],
             [
              0.8888888888888888,
              "#fdca26"
             ],
             [
              1,
              "#f0f921"
             ]
            ],
            "type": "contour"
           }
          ],
          "contourcarpet": [
           {
            "colorbar": {
             "outlinewidth": 0,
             "ticks": ""
            },
            "type": "contourcarpet"
           }
          ],
          "heatmap": [
           {
            "colorbar": {
             "outlinewidth": 0,
             "ticks": ""
            },
            "colorscale": [
             [
              0,
              "#0d0887"
             ],
             [
              0.1111111111111111,
              "#46039f"
             ],
             [
              0.2222222222222222,
              "#7201a8"
             ],
             [
              0.3333333333333333,
              "#9c179e"
             ],
             [
              0.4444444444444444,
              "#bd3786"
             ],
             [
              0.5555555555555556,
              "#d8576b"
             ],
             [
              0.6666666666666666,
              "#ed7953"
             ],
             [
              0.7777777777777778,
              "#fb9f3a"
             ],
             [
              0.8888888888888888,
              "#fdca26"
             ],
             [
              1,
              "#f0f921"
             ]
            ],
            "type": "heatmap"
           }
          ],
          "heatmapgl": [
           {
            "colorbar": {
             "outlinewidth": 0,
             "ticks": ""
            },
            "colorscale": [
             [
              0,
              "#0d0887"
             ],
             [
              0.1111111111111111,
              "#46039f"
             ],
             [
              0.2222222222222222,
              "#7201a8"
             ],
             [
              0.3333333333333333,
              "#9c179e"
             ],
             [
              0.4444444444444444,
              "#bd3786"
             ],
             [
              0.5555555555555556,
              "#d8576b"
             ],
             [
              0.6666666666666666,
              "#ed7953"
             ],
             [
              0.7777777777777778,
              "#fb9f3a"
             ],
             [
              0.8888888888888888,
              "#fdca26"
             ],
             [
              1,
              "#f0f921"
             ]
            ],
            "type": "heatmapgl"
           }
          ],
          "histogram": [
           {
            "marker": {
             "pattern": {
              "fillmode": "overlay",
              "size": 10,
              "solidity": 0.2
             }
            },
            "type": "histogram"
           }
          ],
          "histogram2d": [
           {
            "colorbar": {
             "outlinewidth": 0,
             "ticks": ""
            },
            "colorscale": [
             [
              0,
              "#0d0887"
             ],
             [
              0.1111111111111111,
              "#46039f"
             ],
             [
              0.2222222222222222,
              "#7201a8"
             ],
             [
              0.3333333333333333,
              "#9c179e"
             ],
             [
              0.4444444444444444,
              "#bd3786"
             ],
             [
              0.5555555555555556,
              "#d8576b"
             ],
             [
              0.6666666666666666,
              "#ed7953"
             ],
             [
              0.7777777777777778,
              "#fb9f3a"
             ],
             [
              0.8888888888888888,
              "#fdca26"
             ],
             [
              1,
              "#f0f921"
             ]
            ],
            "type": "histogram2d"
           }
          ],
          "histogram2dcontour": [
           {
            "colorbar": {
             "outlinewidth": 0,
             "ticks": ""
            },
            "colorscale": [
             [
              0,
              "#0d0887"
             ],
             [
              0.1111111111111111,
              "#46039f"
             ],
             [
              0.2222222222222222,
              "#7201a8"
             ],
             [
              0.3333333333333333,
              "#9c179e"
             ],
             [
              0.4444444444444444,
              "#bd3786"
             ],
             [
              0.5555555555555556,
              "#d8576b"
             ],
             [
              0.6666666666666666,
              "#ed7953"
             ],
             [
              0.7777777777777778,
              "#fb9f3a"
             ],
             [
              0.8888888888888888,
              "#fdca26"
             ],
             [
              1,
              "#f0f921"
             ]
            ],
            "type": "histogram2dcontour"
           }
          ],
          "mesh3d": [
           {
            "colorbar": {
             "outlinewidth": 0,
             "ticks": ""
            },
            "type": "mesh3d"
           }
          ],
          "parcoords": [
           {
            "line": {
             "colorbar": {
              "outlinewidth": 0,
              "ticks": ""
             }
            },
            "type": "parcoords"
           }
          ],
          "pie": [
           {
            "automargin": true,
            "type": "pie"
           }
          ],
          "scatter": [
           {
            "fillpattern": {
             "fillmode": "overlay",
             "size": 10,
             "solidity": 0.2
            },
            "type": "scatter"
           }
          ],
          "scatter3d": [
           {
            "line": {
             "colorbar": {
              "outlinewidth": 0,
              "ticks": ""
             }
            },
            "marker": {
             "colorbar": {
              "outlinewidth": 0,
              "ticks": ""
             }
            },
            "type": "scatter3d"
           }
          ],
          "scattercarpet": [
           {
            "marker": {
             "colorbar": {
              "outlinewidth": 0,
              "ticks": ""
             }
            },
            "type": "scattercarpet"
           }
          ],
          "scattergeo": [
           {
            "marker": {
             "colorbar": {
              "outlinewidth": 0,
              "ticks": ""
             }
            },
            "type": "scattergeo"
           }
          ],
          "scattergl": [
           {
            "marker": {
             "colorbar": {
              "outlinewidth": 0,
              "ticks": ""
             }
            },
            "type": "scattergl"
           }
          ],
          "scattermapbox": [
           {
            "marker": {
             "colorbar": {
              "outlinewidth": 0,
              "ticks": ""
             }
            },
            "type": "scattermapbox"
           }
          ],
          "scatterpolar": [
           {
            "marker": {
             "colorbar": {
              "outlinewidth": 0,
              "ticks": ""
             }
            },
            "type": "scatterpolar"
           }
          ],
          "scatterpolargl": [
           {
            "marker": {
             "colorbar": {
              "outlinewidth": 0,
              "ticks": ""
             }
            },
            "type": "scatterpolargl"
           }
          ],
          "scatterternary": [
           {
            "marker": {
             "colorbar": {
              "outlinewidth": 0,
              "ticks": ""
             }
            },
            "type": "scatterternary"
           }
          ],
          "surface": [
           {
            "colorbar": {
             "outlinewidth": 0,
             "ticks": ""
            },
            "colorscale": [
             [
              0,
              "#0d0887"
             ],
             [
              0.1111111111111111,
              "#46039f"
             ],
             [
              0.2222222222222222,
              "#7201a8"
             ],
             [
              0.3333333333333333,
              "#9c179e"
             ],
             [
              0.4444444444444444,
              "#bd3786"
             ],
             [
              0.5555555555555556,
              "#d8576b"
             ],
             [
              0.6666666666666666,
              "#ed7953"
             ],
             [
              0.7777777777777778,
              "#fb9f3a"
             ],
             [
              0.8888888888888888,
              "#fdca26"
             ],
             [
              1,
              "#f0f921"
             ]
            ],
            "type": "surface"
           }
          ],
          "table": [
           {
            "cells": {
             "fill": {
              "color": "#EBF0F8"
             },
             "line": {
              "color": "white"
             }
            },
            "header": {
             "fill": {
              "color": "#C8D4E3"
             },
             "line": {
              "color": "white"
             }
            },
            "type": "table"
           }
          ]
         },
         "layout": {
          "annotationdefaults": {
           "arrowcolor": "#2a3f5f",
           "arrowhead": 0,
           "arrowwidth": 1
          },
          "autotypenumbers": "strict",
          "coloraxis": {
           "colorbar": {
            "outlinewidth": 0,
            "ticks": ""
           }
          },
          "colorscale": {
           "diverging": [
            [
             0,
             "#8e0152"
            ],
            [
             0.1,
             "#c51b7d"
            ],
            [
             0.2,
             "#de77ae"
            ],
            [
             0.3,
             "#f1b6da"
            ],
            [
             0.4,
             "#fde0ef"
            ],
            [
             0.5,
             "#f7f7f7"
            ],
            [
             0.6,
             "#e6f5d0"
            ],
            [
             0.7,
             "#b8e186"
            ],
            [
             0.8,
             "#7fbc41"
            ],
            [
             0.9,
             "#4d9221"
            ],
            [
             1,
             "#276419"
            ]
           ],
           "sequential": [
            [
             0,
             "#0d0887"
            ],
            [
             0.1111111111111111,
             "#46039f"
            ],
            [
             0.2222222222222222,
             "#7201a8"
            ],
            [
             0.3333333333333333,
             "#9c179e"
            ],
            [
             0.4444444444444444,
             "#bd3786"
            ],
            [
             0.5555555555555556,
             "#d8576b"
            ],
            [
             0.6666666666666666,
             "#ed7953"
            ],
            [
             0.7777777777777778,
             "#fb9f3a"
            ],
            [
             0.8888888888888888,
             "#fdca26"
            ],
            [
             1,
             "#f0f921"
            ]
           ],
           "sequentialminus": [
            [
             0,
             "#0d0887"
            ],
            [
             0.1111111111111111,
             "#46039f"
            ],
            [
             0.2222222222222222,
             "#7201a8"
            ],
            [
             0.3333333333333333,
             "#9c179e"
            ],
            [
             0.4444444444444444,
             "#bd3786"
            ],
            [
             0.5555555555555556,
             "#d8576b"
            ],
            [
             0.6666666666666666,
             "#ed7953"
            ],
            [
             0.7777777777777778,
             "#fb9f3a"
            ],
            [
             0.8888888888888888,
             "#fdca26"
            ],
            [
             1,
             "#f0f921"
            ]
           ]
          },
          "colorway": [
           "#636efa",
           "#EF553B",
           "#00cc96",
           "#ab63fa",
           "#FFA15A",
           "#19d3f3",
           "#FF6692",
           "#B6E880",
           "#FF97FF",
           "#FECB52"
          ],
          "font": {
           "color": "#2a3f5f"
          },
          "geo": {
           "bgcolor": "white",
           "lakecolor": "white",
           "landcolor": "white",
           "showlakes": true,
           "showland": true,
           "subunitcolor": "#C8D4E3"
          },
          "hoverlabel": {
           "align": "left"
          },
          "hovermode": "closest",
          "mapbox": {
           "style": "light"
          },
          "paper_bgcolor": "white",
          "plot_bgcolor": "white",
          "polar": {
           "angularaxis": {
            "gridcolor": "#EBF0F8",
            "linecolor": "#EBF0F8",
            "ticks": ""
           },
           "bgcolor": "white",
           "radialaxis": {
            "gridcolor": "#EBF0F8",
            "linecolor": "#EBF0F8",
            "ticks": ""
           }
          },
          "scene": {
           "xaxis": {
            "backgroundcolor": "white",
            "gridcolor": "#DFE8F3",
            "gridwidth": 2,
            "linecolor": "#EBF0F8",
            "showbackground": true,
            "ticks": "",
            "zerolinecolor": "#EBF0F8"
           },
           "yaxis": {
            "backgroundcolor": "white",
            "gridcolor": "#DFE8F3",
            "gridwidth": 2,
            "linecolor": "#EBF0F8",
            "showbackground": true,
            "ticks": "",
            "zerolinecolor": "#EBF0F8"
           },
           "zaxis": {
            "backgroundcolor": "white",
            "gridcolor": "#DFE8F3",
            "gridwidth": 2,
            "linecolor": "#EBF0F8",
            "showbackground": true,
            "ticks": "",
            "zerolinecolor": "#EBF0F8"
           }
          },
          "shapedefaults": {
           "line": {
            "color": "#2a3f5f"
           }
          },
          "ternary": {
           "aaxis": {
            "gridcolor": "#DFE8F3",
            "linecolor": "#A2B1C6",
            "ticks": ""
           },
           "baxis": {
            "gridcolor": "#DFE8F3",
            "linecolor": "#A2B1C6",
            "ticks": ""
           },
           "bgcolor": "white",
           "caxis": {
            "gridcolor": "#DFE8F3",
            "linecolor": "#A2B1C6",
            "ticks": ""
           }
          },
          "title": {
           "x": 0.05
          },
          "xaxis": {
           "automargin": true,
           "gridcolor": "#EBF0F8",
           "linecolor": "#EBF0F8",
           "ticks": "",
           "title": {
            "standoff": 15
           },
           "zerolinecolor": "#EBF0F8",
           "zerolinewidth": 2
          },
          "yaxis": {
           "automargin": true,
           "gridcolor": "#EBF0F8",
           "linecolor": "#EBF0F8",
           "ticks": "",
           "title": {
            "standoff": 15
           },
           "zerolinecolor": "#EBF0F8",
           "zerolinewidth": 2
          }
         }
        },
        "title": {
         "text": "MMLU vs. USD per 1M Tokens"
        },
        "xaxis": {
         "anchor": "y",
         "domain": [
          0,
          1
         ],
         "title": {
          "text": "MMLU"
         }
        },
        "yaxis": {
         "anchor": "x",
         "domain": [
          0,
          1
         ],
         "title": {
          "text": "USD per 1M Tokens"
         },
         "type": "log"
        }
       }
      }
     },
     "metadata": {},
     "output_type": "display_data"
    }
   ],
   "source": [
    "# Plot 'MMLU' vs. 'USD per 1M Tokens'\n",
    "fig = px.scatter(aa_df, x='MMLU', y='USD per 1M Tokens', hover_data=['Model Name'], title='MMLU vs. USD per 1M Tokens')\n",
    "fig.update_layout(yaxis_type='log')\n",
    "fig.show()\n"
   ]
  },
  {
   "cell_type": "code",
   "execution_count": 10,
   "metadata": {},
   "outputs": [
    {
     "data": {
      "application/vnd.plotly.v1+json": {
       "config": {
        "plotlyServerURL": "https://plot.ly"
       },
       "data": [
        {
         "customdata": [
          [
           "GPT-3"
          ],
          [
           "GPT-3"
          ],
          [
           "GPT-3"
          ],
          [
           "GPT-3.5"
          ],
          [
           "GPT-4"
          ],
          [
           "GPT-3.5 Turbo"
          ],
          [
           "GPT-3.5 Turbo"
          ],
          [
           "Llama-2-Chat-7B"
          ],
          [
           "Llama-2-Chat-13B"
          ],
          [
           "GPT-3.5 Turbo"
          ],
          [
           "GPT-4 Turbo"
          ],
          [
           "Llama 2-70B"
          ],
          [
           "Llama 2-7B"
          ],
          [
           "Llama 2-13B"
          ],
          [
           "GPT-3"
          ],
          [
           "GPT-3.5 Turbo"
          ],
          [
           "Mistral-Small-2024-02"
          ],
          [
           "Mistral-Large-2024-02"
          ],
          [
           "Claude-3-Haiku"
          ],
          [
           "Claude-3-Sonnet"
          ],
          [
           "Claude-3-Opus"
          ],
          [
           "Llama-3-Instruct-70B"
          ],
          [
           "Llama-3-Instruct-8B"
          ],
          [
           "Mistral-8x22"
          ],
          [
           "Llama 2-13B"
          ],
          [
           "Llama 2-7B"
          ],
          [
           "Gemini-1.5-Pro-2024-05"
          ],
          [
           "Gemini-1.5-Flash-2024-05"
          ],
          [
           "GPT-4o-2024-05"
          ],
          [
           "Mistral-Large-2-2024-06"
          ],
          [
           "Mistral-NeMo"
          ],
          [
           "Claude-3.5-Haiku"
          ],
          [
           "Gemma-2-27B"
          ],
          [
           "Claude-3.5-Sonnet-2024-06"
          ],
          [
           "Gemma-2-9B"
          ],
          [
           "GPT-4o-mini"
          ],
          [
           "Llama-3.1-Instruct-70B"
          ],
          [
           "Llama-3.1-Instruct-405B"
          ],
          [
           "Llama-3.1-Instruct-8B"
          ],
          [
           "GPT-4o-2024-08"
          ],
          [
           "Claude 2.1"
          ],
          [
           "Claude 2"
          ],
          [
           "Gemini 1.0 Pro"
          ],
          [
           "Claude Instant"
          ],
          [
           "Cohere Command"
          ],
          [
           "Command R"
          ],
          [
           "Command R+"
          ],
          [
           "Cohere Command Light"
          ],
          [
           "Gemini-1.5-Pro-2024-09"
          ],
          [
           "Gemini-1.5-Flash-2024-09"
          ],
          [
           "Llama-3.2-Instruct-1B"
          ],
          [
           "Llama-3.2-Instruct-3B"
          ],
          [
           "DeepSeek-Coder-V2 236B"
          ],
          [
           "o1-preview"
          ],
          [
           "Jamba 1.5-Large"
          ],
          [
           "o1-mini"
          ],
          [
           "Command R+"
          ],
          [
           "Mistral 7B"
          ],
          [
           "Reka Core"
          ],
          [
           "Gemini-1.5-Flash-8B"
          ],
          [
           "Claude-3.5-Sonnet-2024-10"
          ],
          [
           "GPT-4o-2024-11"
          ],
          [
           "Mistral-Large-2-2024-11"
          ],
          [
           "o1"
          ],
          [
           "DeepSeek-V3"
          ],
          [
           "DeepSeek-R1"
          ],
          [
           "o1-mini"
          ],
          [
           "o3-mini"
          ]
         ],
         "hovertemplate": "Release Date=%{x}<br>MMLU price-performance=%{y}<br>Model Name=%{customdata[0]}<extra></extra>",
         "legendgroup": "",
         "marker": {
          "color": "#636efa",
          "symbol": "circle"
         },
         "mode": "markers",
         "name": "",
         "orientation": "v",
         "showlegend": false,
         "type": "scatter",
         "x": [
          "2021-11-20T00:00:00",
          "2022-08-31T00:00:00",
          "2022-09-01T00:00:00",
          "2022-11-30T00:00:00",
          "2023-03-01T00:00:00",
          "2023-03-06T00:00:00",
          "2023-06-13T00:00:00",
          "2023-07-01T00:00:00",
          "2023-07-01T00:00:00",
          "2023-11-01T00:00:00",
          "2023-11-01T00:00:00",
          "2023-12-01T00:00:00",
          "2023-12-01T00:00:00",
          "2023-12-08T00:00:00",
          "2024-01-04T00:00:00",
          "2024-01-25T00:00:00",
          "2024-02-01T00:00:00",
          "2024-02-01T00:00:00",
          "2024-03-01T00:00:00",
          "2024-03-01T00:00:00",
          "2024-03-01T00:00:00",
          "2024-04-01T00:00:00",
          "2024-04-01T00:00:00",
          "2024-04-01T00:00:00",
          "2024-04-14T00:00:00",
          "2024-04-14T00:00:00",
          "2024-05-01T00:00:00",
          "2024-05-01T00:00:00",
          "2024-05-01T00:00:00",
          "2024-06-01T00:00:00",
          "2024-06-01T00:00:00",
          "2024-06-01T00:00:00",
          "2024-06-01T00:00:00",
          "2024-06-01T00:00:00",
          "2024-06-01T00:00:00",
          "2024-07-01T00:00:00",
          "2024-07-01T00:00:00",
          "2024-07-01T00:00:00",
          "2024-07-01T00:00:00",
          "2024-08-01T00:00:00",
          "2024-08-12T00:00:00",
          "2024-08-12T00:00:00",
          "2024-08-12T00:00:00",
          "2024-08-12T00:00:00",
          "2024-08-13T00:00:00",
          "2024-08-13T00:00:00",
          "2024-08-13T00:00:00",
          "2024-08-13T00:00:00",
          "2024-09-01T00:00:00",
          "2024-09-01T00:00:00",
          "2024-09-01T00:00:00",
          "2024-09-01T00:00:00",
          "2024-09-11T00:00:00",
          "2024-09-12T00:00:00",
          "2024-09-12T00:00:00",
          "2024-09-12T00:00:00",
          "2024-09-13T00:00:00",
          "2024-09-14T00:00:00",
          "2024-09-14T00:00:00",
          "2024-10-01T00:00:00",
          "2024-10-01T00:00:00",
          "2024-11-01T00:00:00",
          "2024-11-01T00:00:00",
          "2024-12-17T00:00:00",
          "2024-12-26T00:00:00",
          "2025-01-20T00:00:00",
          "2025-01-31T00:00:00",
          "2025-01-31T00:00:00"
         ],
         "xaxis": "x",
         "y": [
          0.7316666666666667,
          0.7316666666666667,
          2.195,
          3.2399999999999998,
          2.2933333333333334,
          34,
          20.923076923076923,
          39.39393939393939,
          80.35714285714285,
          90.66666666666667,
          5.8,
          90.36065573770493,
          226.49999999999997,
          156.57142857142858,
          3.1550000000000002,
          90.66666666666667,
          46,
          11.5,
          142,
          12.833333333333334,
          2.8,
          88.76404494382022,
          426.6666666666667,
          63.333333333333336,
          249.09090909090907,
          348.46153846153845,
          39.269406392694066,
          607.6923076923076,
          11.6,
          28.333333333333332,
          507.6923076923077,
          50.625,
          296.15384615384613,
          14.666666666666666,
          561.5384615384615,
          315.38461538461536,
          116.66666666666667,
          24.857142857142858,
          710,
          20.319634703196346,
          null,
          6.541666666666667,
          95.73333333333333,
          null,
          null,
          null,
          12.616666666666667,
          null,
          39.269406392694066,
          576.9230769230769,
          700,
          800,
          452.5714285714286,
          null,
          22.857142857142858,
          null,
          17.302857142857142,
          240.4,
          20.8,
          1071.4285714285713,
          14.833333333333334,
          19.634703196347033,
          28.333333333333332,
          null,
          null,
          null,
          null,
          null
         ],
         "yaxis": "y"
        }
       ],
       "layout": {
        "legend": {
         "tracegroupgap": 0
        },
        "template": {
         "data": {
          "bar": [
           {
            "error_x": {
             "color": "#2a3f5f"
            },
            "error_y": {
             "color": "#2a3f5f"
            },
            "marker": {
             "line": {
              "color": "white",
              "width": 0.5
             },
             "pattern": {
              "fillmode": "overlay",
              "size": 10,
              "solidity": 0.2
             }
            },
            "type": "bar"
           }
          ],
          "barpolar": [
           {
            "marker": {
             "line": {
              "color": "white",
              "width": 0.5
             },
             "pattern": {
              "fillmode": "overlay",
              "size": 10,
              "solidity": 0.2
             }
            },
            "type": "barpolar"
           }
          ],
          "carpet": [
           {
            "aaxis": {
             "endlinecolor": "#2a3f5f",
             "gridcolor": "#C8D4E3",
             "linecolor": "#C8D4E3",
             "minorgridcolor": "#C8D4E3",
             "startlinecolor": "#2a3f5f"
            },
            "baxis": {
             "endlinecolor": "#2a3f5f",
             "gridcolor": "#C8D4E3",
             "linecolor": "#C8D4E3",
             "minorgridcolor": "#C8D4E3",
             "startlinecolor": "#2a3f5f"
            },
            "type": "carpet"
           }
          ],
          "choropleth": [
           {
            "colorbar": {
             "outlinewidth": 0,
             "ticks": ""
            },
            "type": "choropleth"
           }
          ],
          "contour": [
           {
            "colorbar": {
             "outlinewidth": 0,
             "ticks": ""
            },
            "colorscale": [
             [
              0,
              "#0d0887"
             ],
             [
              0.1111111111111111,
              "#46039f"
             ],
             [
              0.2222222222222222,
              "#7201a8"
             ],
             [
              0.3333333333333333,
              "#9c179e"
             ],
             [
              0.4444444444444444,
              "#bd3786"
             ],
             [
              0.5555555555555556,
              "#d8576b"
             ],
             [
              0.6666666666666666,
              "#ed7953"
             ],
             [
              0.7777777777777778,
              "#fb9f3a"
             ],
             [
              0.8888888888888888,
              "#fdca26"
             ],
             [
              1,
              "#f0f921"
             ]
            ],
            "type": "contour"
           }
          ],
          "contourcarpet": [
           {
            "colorbar": {
             "outlinewidth": 0,
             "ticks": ""
            },
            "type": "contourcarpet"
           }
          ],
          "heatmap": [
           {
            "colorbar": {
             "outlinewidth": 0,
             "ticks": ""
            },
            "colorscale": [
             [
              0,
              "#0d0887"
             ],
             [
              0.1111111111111111,
              "#46039f"
             ],
             [
              0.2222222222222222,
              "#7201a8"
             ],
             [
              0.3333333333333333,
              "#9c179e"
             ],
             [
              0.4444444444444444,
              "#bd3786"
             ],
             [
              0.5555555555555556,
              "#d8576b"
             ],
             [
              0.6666666666666666,
              "#ed7953"
             ],
             [
              0.7777777777777778,
              "#fb9f3a"
             ],
             [
              0.8888888888888888,
              "#fdca26"
             ],
             [
              1,
              "#f0f921"
             ]
            ],
            "type": "heatmap"
           }
          ],
          "heatmapgl": [
           {
            "colorbar": {
             "outlinewidth": 0,
             "ticks": ""
            },
            "colorscale": [
             [
              0,
              "#0d0887"
             ],
             [
              0.1111111111111111,
              "#46039f"
             ],
             [
              0.2222222222222222,
              "#7201a8"
             ],
             [
              0.3333333333333333,
              "#9c179e"
             ],
             [
              0.4444444444444444,
              "#bd3786"
             ],
             [
              0.5555555555555556,
              "#d8576b"
             ],
             [
              0.6666666666666666,
              "#ed7953"
             ],
             [
              0.7777777777777778,
              "#fb9f3a"
             ],
             [
              0.8888888888888888,
              "#fdca26"
             ],
             [
              1,
              "#f0f921"
             ]
            ],
            "type": "heatmapgl"
           }
          ],
          "histogram": [
           {
            "marker": {
             "pattern": {
              "fillmode": "overlay",
              "size": 10,
              "solidity": 0.2
             }
            },
            "type": "histogram"
           }
          ],
          "histogram2d": [
           {
            "colorbar": {
             "outlinewidth": 0,
             "ticks": ""
            },
            "colorscale": [
             [
              0,
              "#0d0887"
             ],
             [
              0.1111111111111111,
              "#46039f"
             ],
             [
              0.2222222222222222,
              "#7201a8"
             ],
             [
              0.3333333333333333,
              "#9c179e"
             ],
             [
              0.4444444444444444,
              "#bd3786"
             ],
             [
              0.5555555555555556,
              "#d8576b"
             ],
             [
              0.6666666666666666,
              "#ed7953"
             ],
             [
              0.7777777777777778,
              "#fb9f3a"
             ],
             [
              0.8888888888888888,
              "#fdca26"
             ],
             [
              1,
              "#f0f921"
             ]
            ],
            "type": "histogram2d"
           }
          ],
          "histogram2dcontour": [
           {
            "colorbar": {
             "outlinewidth": 0,
             "ticks": ""
            },
            "colorscale": [
             [
              0,
              "#0d0887"
             ],
             [
              0.1111111111111111,
              "#46039f"
             ],
             [
              0.2222222222222222,
              "#7201a8"
             ],
             [
              0.3333333333333333,
              "#9c179e"
             ],
             [
              0.4444444444444444,
              "#bd3786"
             ],
             [
              0.5555555555555556,
              "#d8576b"
             ],
             [
              0.6666666666666666,
              "#ed7953"
             ],
             [
              0.7777777777777778,
              "#fb9f3a"
             ],
             [
              0.8888888888888888,
              "#fdca26"
             ],
             [
              1,
              "#f0f921"
             ]
            ],
            "type": "histogram2dcontour"
           }
          ],
          "mesh3d": [
           {
            "colorbar": {
             "outlinewidth": 0,
             "ticks": ""
            },
            "type": "mesh3d"
           }
          ],
          "parcoords": [
           {
            "line": {
             "colorbar": {
              "outlinewidth": 0,
              "ticks": ""
             }
            },
            "type": "parcoords"
           }
          ],
          "pie": [
           {
            "automargin": true,
            "type": "pie"
           }
          ],
          "scatter": [
           {
            "fillpattern": {
             "fillmode": "overlay",
             "size": 10,
             "solidity": 0.2
            },
            "type": "scatter"
           }
          ],
          "scatter3d": [
           {
            "line": {
             "colorbar": {
              "outlinewidth": 0,
              "ticks": ""
             }
            },
            "marker": {
             "colorbar": {
              "outlinewidth": 0,
              "ticks": ""
             }
            },
            "type": "scatter3d"
           }
          ],
          "scattercarpet": [
           {
            "marker": {
             "colorbar": {
              "outlinewidth": 0,
              "ticks": ""
             }
            },
            "type": "scattercarpet"
           }
          ],
          "scattergeo": [
           {
            "marker": {
             "colorbar": {
              "outlinewidth": 0,
              "ticks": ""
             }
            },
            "type": "scattergeo"
           }
          ],
          "scattergl": [
           {
            "marker": {
             "colorbar": {
              "outlinewidth": 0,
              "ticks": ""
             }
            },
            "type": "scattergl"
           }
          ],
          "scattermapbox": [
           {
            "marker": {
             "colorbar": {
              "outlinewidth": 0,
              "ticks": ""
             }
            },
            "type": "scattermapbox"
           }
          ],
          "scatterpolar": [
           {
            "marker": {
             "colorbar": {
              "outlinewidth": 0,
              "ticks": ""
             }
            },
            "type": "scatterpolar"
           }
          ],
          "scatterpolargl": [
           {
            "marker": {
             "colorbar": {
              "outlinewidth": 0,
              "ticks": ""
             }
            },
            "type": "scatterpolargl"
           }
          ],
          "scatterternary": [
           {
            "marker": {
             "colorbar": {
              "outlinewidth": 0,
              "ticks": ""
             }
            },
            "type": "scatterternary"
           }
          ],
          "surface": [
           {
            "colorbar": {
             "outlinewidth": 0,
             "ticks": ""
            },
            "colorscale": [
             [
              0,
              "#0d0887"
             ],
             [
              0.1111111111111111,
              "#46039f"
             ],
             [
              0.2222222222222222,
              "#7201a8"
             ],
             [
              0.3333333333333333,
              "#9c179e"
             ],
             [
              0.4444444444444444,
              "#bd3786"
             ],
             [
              0.5555555555555556,
              "#d8576b"
             ],
             [
              0.6666666666666666,
              "#ed7953"
             ],
             [
              0.7777777777777778,
              "#fb9f3a"
             ],
             [
              0.8888888888888888,
              "#fdca26"
             ],
             [
              1,
              "#f0f921"
             ]
            ],
            "type": "surface"
           }
          ],
          "table": [
           {
            "cells": {
             "fill": {
              "color": "#EBF0F8"
             },
             "line": {
              "color": "white"
             }
            },
            "header": {
             "fill": {
              "color": "#C8D4E3"
             },
             "line": {
              "color": "white"
             }
            },
            "type": "table"
           }
          ]
         },
         "layout": {
          "annotationdefaults": {
           "arrowcolor": "#2a3f5f",
           "arrowhead": 0,
           "arrowwidth": 1
          },
          "autotypenumbers": "strict",
          "coloraxis": {
           "colorbar": {
            "outlinewidth": 0,
            "ticks": ""
           }
          },
          "colorscale": {
           "diverging": [
            [
             0,
             "#8e0152"
            ],
            [
             0.1,
             "#c51b7d"
            ],
            [
             0.2,
             "#de77ae"
            ],
            [
             0.3,
             "#f1b6da"
            ],
            [
             0.4,
             "#fde0ef"
            ],
            [
             0.5,
             "#f7f7f7"
            ],
            [
             0.6,
             "#e6f5d0"
            ],
            [
             0.7,
             "#b8e186"
            ],
            [
             0.8,
             "#7fbc41"
            ],
            [
             0.9,
             "#4d9221"
            ],
            [
             1,
             "#276419"
            ]
           ],
           "sequential": [
            [
             0,
             "#0d0887"
            ],
            [
             0.1111111111111111,
             "#46039f"
            ],
            [
             0.2222222222222222,
             "#7201a8"
            ],
            [
             0.3333333333333333,
             "#9c179e"
            ],
            [
             0.4444444444444444,
             "#bd3786"
            ],
            [
             0.5555555555555556,
             "#d8576b"
            ],
            [
             0.6666666666666666,
             "#ed7953"
            ],
            [
             0.7777777777777778,
             "#fb9f3a"
            ],
            [
             0.8888888888888888,
             "#fdca26"
            ],
            [
             1,
             "#f0f921"
            ]
           ],
           "sequentialminus": [
            [
             0,
             "#0d0887"
            ],
            [
             0.1111111111111111,
             "#46039f"
            ],
            [
             0.2222222222222222,
             "#7201a8"
            ],
            [
             0.3333333333333333,
             "#9c179e"
            ],
            [
             0.4444444444444444,
             "#bd3786"
            ],
            [
             0.5555555555555556,
             "#d8576b"
            ],
            [
             0.6666666666666666,
             "#ed7953"
            ],
            [
             0.7777777777777778,
             "#fb9f3a"
            ],
            [
             0.8888888888888888,
             "#fdca26"
            ],
            [
             1,
             "#f0f921"
            ]
           ]
          },
          "colorway": [
           "#636efa",
           "#EF553B",
           "#00cc96",
           "#ab63fa",
           "#FFA15A",
           "#19d3f3",
           "#FF6692",
           "#B6E880",
           "#FF97FF",
           "#FECB52"
          ],
          "font": {
           "color": "#2a3f5f"
          },
          "geo": {
           "bgcolor": "white",
           "lakecolor": "white",
           "landcolor": "white",
           "showlakes": true,
           "showland": true,
           "subunitcolor": "#C8D4E3"
          },
          "hoverlabel": {
           "align": "left"
          },
          "hovermode": "closest",
          "mapbox": {
           "style": "light"
          },
          "paper_bgcolor": "white",
          "plot_bgcolor": "white",
          "polar": {
           "angularaxis": {
            "gridcolor": "#EBF0F8",
            "linecolor": "#EBF0F8",
            "ticks": ""
           },
           "bgcolor": "white",
           "radialaxis": {
            "gridcolor": "#EBF0F8",
            "linecolor": "#EBF0F8",
            "ticks": ""
           }
          },
          "scene": {
           "xaxis": {
            "backgroundcolor": "white",
            "gridcolor": "#DFE8F3",
            "gridwidth": 2,
            "linecolor": "#EBF0F8",
            "showbackground": true,
            "ticks": "",
            "zerolinecolor": "#EBF0F8"
           },
           "yaxis": {
            "backgroundcolor": "white",
            "gridcolor": "#DFE8F3",
            "gridwidth": 2,
            "linecolor": "#EBF0F8",
            "showbackground": true,
            "ticks": "",
            "zerolinecolor": "#EBF0F8"
           },
           "zaxis": {
            "backgroundcolor": "white",
            "gridcolor": "#DFE8F3",
            "gridwidth": 2,
            "linecolor": "#EBF0F8",
            "showbackground": true,
            "ticks": "",
            "zerolinecolor": "#EBF0F8"
           }
          },
          "shapedefaults": {
           "line": {
            "color": "#2a3f5f"
           }
          },
          "ternary": {
           "aaxis": {
            "gridcolor": "#DFE8F3",
            "linecolor": "#A2B1C6",
            "ticks": ""
           },
           "baxis": {
            "gridcolor": "#DFE8F3",
            "linecolor": "#A2B1C6",
            "ticks": ""
           },
           "bgcolor": "white",
           "caxis": {
            "gridcolor": "#DFE8F3",
            "linecolor": "#A2B1C6",
            "ticks": ""
           }
          },
          "title": {
           "x": 0.05
          },
          "xaxis": {
           "automargin": true,
           "gridcolor": "#EBF0F8",
           "linecolor": "#EBF0F8",
           "ticks": "",
           "title": {
            "standoff": 15
           },
           "zerolinecolor": "#EBF0F8",
           "zerolinewidth": 2
          },
          "yaxis": {
           "automargin": true,
           "gridcolor": "#EBF0F8",
           "linecolor": "#EBF0F8",
           "ticks": "",
           "title": {
            "standoff": 15
           },
           "zerolinecolor": "#EBF0F8",
           "zerolinewidth": 2
          }
         }
        },
        "title": {
         "text": "MMLU price-performance over time"
        },
        "xaxis": {
         "anchor": "y",
         "domain": [
          0,
          1
         ],
         "title": {
          "text": "Release Date"
         }
        },
        "yaxis": {
         "anchor": "x",
         "domain": [
          0,
          1
         ],
         "title": {
          "text": "MMLU price-performance"
         },
         "type": "log"
        }
       }
      }
     },
     "metadata": {},
     "output_type": "display_data"
    }
   ],
   "source": [
    "aa_df['MMLU price-performance'] = aa_df['MMLU'] / aa_df['USD per 1M Tokens']\n",
    "# Plot 'MMLU price-performance' vs. 'Date'\n",
    "fig = px.scatter(aa_df, x='Release Date', y='MMLU price-performance', title='MMLU price-performance over time', hover_data=['Model Name'])\n",
    "fig.update_layout(yaxis_type='log')\n",
    "fig.show()\n"
   ]
  },
  {
   "cell_type": "code",
   "execution_count": 11,
   "metadata": {},
   "outputs": [
    {
     "data": {
      "text/plain": [
       "0           GPT-3 (2021-11)\n",
       "1           GPT-3 (2022-08)\n",
       "2           GPT-3 (2022-09)\n",
       "3         GPT-3.5 (2022-11)\n",
       "4           GPT-4 (2023-03)\n",
       "              ...          \n",
       "63             o1 (2024-12)\n",
       "64    DeepSeek-V3 (2024-12)\n",
       "65    DeepSeek-R1 (2025-01)\n",
       "66        o1-mini (2025-01)\n",
       "67        o3-mini (2025-01)\n",
       "Name: Model Name and Date, Length: 68, dtype: object"
      ]
     },
     "execution_count": 11,
     "metadata": {},
     "output_type": "execute_result"
    }
   ],
   "source": [
    "aa_df['Model Name and Date'] = aa_df['Model Name'] + ' (' + aa_df['Release Date'].dt.strftime('%Y-%m') + ')'\n",
    "aa_df['Model Name and Date']"
   ]
  },
  {
   "cell_type": "code",
   "execution_count": 12,
   "metadata": {},
   "outputs": [
    {
     "name": "stdout",
     "output_type": "stream",
     "text": [
      "['GPT-3 (2021-11)', 'GPT-3 (2022-09)', 'GPT-3.5 (2022-11)', 'GPT-3.5 Turbo (2023-03)', 'GPT-3.5 Turbo (2023-11)', 'Gemini-1.5-Flash-2024-05 (2024-05)', 'Gemini-1.5-Flash-8B (2024-10)', 'Llama 2-7B (2023-12)', 'Llama-2-Chat-13B (2023-07)', 'Llama-3-Instruct-8B (2024-04)', 'Llama-3.1-Instruct-8B (2024-07)', 'Llama-3.2-Instruct-3B (2024-09)']\n"
     ]
    },
    {
     "data": {
      "application/vnd.plotly.v1+json": {
       "config": {
        "plotlyServerURL": "https://plot.ly"
       },
       "data": [
        {
         "customdata": [
          [
           "GPT-3 (2021-11)"
          ],
          [
           "GPT-3 (2022-09)"
          ],
          [
           "GPT-3.5 (2022-11)"
          ],
          [
           "GPT-3.5 Turbo (2023-03)"
          ],
          [
           "Llama-2-Chat-13B (2023-07)"
          ],
          [
           "GPT-3.5 Turbo (2023-11)"
          ],
          [
           "Llama 2-7B (2023-12)"
          ],
          [
           "Llama-3-Instruct-8B (2024-04)"
          ],
          [
           "Gemini-1.5-Flash-2024-05 (2024-05)"
          ],
          [
           "Llama-3.1-Instruct-8B (2024-07)"
          ],
          [
           "Llama-3.2-Instruct-3B (2024-09)"
          ],
          [
           "Gemini-1.5-Flash-8B (2024-10)"
          ]
         ],
         "hovertemplate": "Release Date=%{x}<br>MMLU price-performance=%{y}<br>Model Name and Date=%{customdata[0]}<extra></extra>",
         "legendgroup": "",
         "marker": {
          "color": "#636efa",
          "symbol": "circle"
         },
         "mode": "markers",
         "name": "",
         "orientation": "v",
         "showlegend": false,
         "type": "scatter",
         "x": [
          "2021-11-20T00:00:00",
          "2022-09-01T00:00:00",
          "2022-11-30T00:00:00",
          "2023-03-06T00:00:00",
          "2023-07-01T00:00:00",
          "2023-11-01T00:00:00",
          "2023-12-01T00:00:00",
          "2024-04-01T00:00:00",
          "2024-05-01T00:00:00",
          "2024-07-01T00:00:00",
          "2024-09-01T00:00:00",
          "2024-10-01T00:00:00"
         ],
         "xaxis": "x",
         "y": [
          0.7316666666666667,
          2.195,
          3.2399999999999998,
          34,
          80.35714285714285,
          90.66666666666667,
          226.49999999999997,
          426.6666666666667,
          607.6923076923076,
          710,
          800,
          1071.4285714285713
         ],
         "yaxis": "y"
        }
       ],
       "layout": {
        "legend": {
         "tracegroupgap": 0
        },
        "template": {
         "data": {
          "bar": [
           {
            "error_x": {
             "color": "#2a3f5f"
            },
            "error_y": {
             "color": "#2a3f5f"
            },
            "marker": {
             "line": {
              "color": "white",
              "width": 0.5
             },
             "pattern": {
              "fillmode": "overlay",
              "size": 10,
              "solidity": 0.2
             }
            },
            "type": "bar"
           }
          ],
          "barpolar": [
           {
            "marker": {
             "line": {
              "color": "white",
              "width": 0.5
             },
             "pattern": {
              "fillmode": "overlay",
              "size": 10,
              "solidity": 0.2
             }
            },
            "type": "barpolar"
           }
          ],
          "carpet": [
           {
            "aaxis": {
             "endlinecolor": "#2a3f5f",
             "gridcolor": "#C8D4E3",
             "linecolor": "#C8D4E3",
             "minorgridcolor": "#C8D4E3",
             "startlinecolor": "#2a3f5f"
            },
            "baxis": {
             "endlinecolor": "#2a3f5f",
             "gridcolor": "#C8D4E3",
             "linecolor": "#C8D4E3",
             "minorgridcolor": "#C8D4E3",
             "startlinecolor": "#2a3f5f"
            },
            "type": "carpet"
           }
          ],
          "choropleth": [
           {
            "colorbar": {
             "outlinewidth": 0,
             "ticks": ""
            },
            "type": "choropleth"
           }
          ],
          "contour": [
           {
            "colorbar": {
             "outlinewidth": 0,
             "ticks": ""
            },
            "colorscale": [
             [
              0,
              "#0d0887"
             ],
             [
              0.1111111111111111,
              "#46039f"
             ],
             [
              0.2222222222222222,
              "#7201a8"
             ],
             [
              0.3333333333333333,
              "#9c179e"
             ],
             [
              0.4444444444444444,
              "#bd3786"
             ],
             [
              0.5555555555555556,
              "#d8576b"
             ],
             [
              0.6666666666666666,
              "#ed7953"
             ],
             [
              0.7777777777777778,
              "#fb9f3a"
             ],
             [
              0.8888888888888888,
              "#fdca26"
             ],
             [
              1,
              "#f0f921"
             ]
            ],
            "type": "contour"
           }
          ],
          "contourcarpet": [
           {
            "colorbar": {
             "outlinewidth": 0,
             "ticks": ""
            },
            "type": "contourcarpet"
           }
          ],
          "heatmap": [
           {
            "colorbar": {
             "outlinewidth": 0,
             "ticks": ""
            },
            "colorscale": [
             [
              0,
              "#0d0887"
             ],
             [
              0.1111111111111111,
              "#46039f"
             ],
             [
              0.2222222222222222,
              "#7201a8"
             ],
             [
              0.3333333333333333,
              "#9c179e"
             ],
             [
              0.4444444444444444,
              "#bd3786"
             ],
             [
              0.5555555555555556,
              "#d8576b"
             ],
             [
              0.6666666666666666,
              "#ed7953"
             ],
             [
              0.7777777777777778,
              "#fb9f3a"
             ],
             [
              0.8888888888888888,
              "#fdca26"
             ],
             [
              1,
              "#f0f921"
             ]
            ],
            "type": "heatmap"
           }
          ],
          "heatmapgl": [
           {
            "colorbar": {
             "outlinewidth": 0,
             "ticks": ""
            },
            "colorscale": [
             [
              0,
              "#0d0887"
             ],
             [
              0.1111111111111111,
              "#46039f"
             ],
             [
              0.2222222222222222,
              "#7201a8"
             ],
             [
              0.3333333333333333,
              "#9c179e"
             ],
             [
              0.4444444444444444,
              "#bd3786"
             ],
             [
              0.5555555555555556,
              "#d8576b"
             ],
             [
              0.6666666666666666,
              "#ed7953"
             ],
             [
              0.7777777777777778,
              "#fb9f3a"
             ],
             [
              0.8888888888888888,
              "#fdca26"
             ],
             [
              1,
              "#f0f921"
             ]
            ],
            "type": "heatmapgl"
           }
          ],
          "histogram": [
           {
            "marker": {
             "pattern": {
              "fillmode": "overlay",
              "size": 10,
              "solidity": 0.2
             }
            },
            "type": "histogram"
           }
          ],
          "histogram2d": [
           {
            "colorbar": {
             "outlinewidth": 0,
             "ticks": ""
            },
            "colorscale": [
             [
              0,
              "#0d0887"
             ],
             [
              0.1111111111111111,
              "#46039f"
             ],
             [
              0.2222222222222222,
              "#7201a8"
             ],
             [
              0.3333333333333333,
              "#9c179e"
             ],
             [
              0.4444444444444444,
              "#bd3786"
             ],
             [
              0.5555555555555556,
              "#d8576b"
             ],
             [
              0.6666666666666666,
              "#ed7953"
             ],
             [
              0.7777777777777778,
              "#fb9f3a"
             ],
             [
              0.8888888888888888,
              "#fdca26"
             ],
             [
              1,
              "#f0f921"
             ]
            ],
            "type": "histogram2d"
           }
          ],
          "histogram2dcontour": [
           {
            "colorbar": {
             "outlinewidth": 0,
             "ticks": ""
            },
            "colorscale": [
             [
              0,
              "#0d0887"
             ],
             [
              0.1111111111111111,
              "#46039f"
             ],
             [
              0.2222222222222222,
              "#7201a8"
             ],
             [
              0.3333333333333333,
              "#9c179e"
             ],
             [
              0.4444444444444444,
              "#bd3786"
             ],
             [
              0.5555555555555556,
              "#d8576b"
             ],
             [
              0.6666666666666666,
              "#ed7953"
             ],
             [
              0.7777777777777778,
              "#fb9f3a"
             ],
             [
              0.8888888888888888,
              "#fdca26"
             ],
             [
              1,
              "#f0f921"
             ]
            ],
            "type": "histogram2dcontour"
           }
          ],
          "mesh3d": [
           {
            "colorbar": {
             "outlinewidth": 0,
             "ticks": ""
            },
            "type": "mesh3d"
           }
          ],
          "parcoords": [
           {
            "line": {
             "colorbar": {
              "outlinewidth": 0,
              "ticks": ""
             }
            },
            "type": "parcoords"
           }
          ],
          "pie": [
           {
            "automargin": true,
            "type": "pie"
           }
          ],
          "scatter": [
           {
            "fillpattern": {
             "fillmode": "overlay",
             "size": 10,
             "solidity": 0.2
            },
            "type": "scatter"
           }
          ],
          "scatter3d": [
           {
            "line": {
             "colorbar": {
              "outlinewidth": 0,
              "ticks": ""
             }
            },
            "marker": {
             "colorbar": {
              "outlinewidth": 0,
              "ticks": ""
             }
            },
            "type": "scatter3d"
           }
          ],
          "scattercarpet": [
           {
            "marker": {
             "colorbar": {
              "outlinewidth": 0,
              "ticks": ""
             }
            },
            "type": "scattercarpet"
           }
          ],
          "scattergeo": [
           {
            "marker": {
             "colorbar": {
              "outlinewidth": 0,
              "ticks": ""
             }
            },
            "type": "scattergeo"
           }
          ],
          "scattergl": [
           {
            "marker": {
             "colorbar": {
              "outlinewidth": 0,
              "ticks": ""
             }
            },
            "type": "scattergl"
           }
          ],
          "scattermapbox": [
           {
            "marker": {
             "colorbar": {
              "outlinewidth": 0,
              "ticks": ""
             }
            },
            "type": "scattermapbox"
           }
          ],
          "scatterpolar": [
           {
            "marker": {
             "colorbar": {
              "outlinewidth": 0,
              "ticks": ""
             }
            },
            "type": "scatterpolar"
           }
          ],
          "scatterpolargl": [
           {
            "marker": {
             "colorbar": {
              "outlinewidth": 0,
              "ticks": ""
             }
            },
            "type": "scatterpolargl"
           }
          ],
          "scatterternary": [
           {
            "marker": {
             "colorbar": {
              "outlinewidth": 0,
              "ticks": ""
             }
            },
            "type": "scatterternary"
           }
          ],
          "surface": [
           {
            "colorbar": {
             "outlinewidth": 0,
             "ticks": ""
            },
            "colorscale": [
             [
              0,
              "#0d0887"
             ],
             [
              0.1111111111111111,
              "#46039f"
             ],
             [
              0.2222222222222222,
              "#7201a8"
             ],
             [
              0.3333333333333333,
              "#9c179e"
             ],
             [
              0.4444444444444444,
              "#bd3786"
             ],
             [
              0.5555555555555556,
              "#d8576b"
             ],
             [
              0.6666666666666666,
              "#ed7953"
             ],
             [
              0.7777777777777778,
              "#fb9f3a"
             ],
             [
              0.8888888888888888,
              "#fdca26"
             ],
             [
              1,
              "#f0f921"
             ]
            ],
            "type": "surface"
           }
          ],
          "table": [
           {
            "cells": {
             "fill": {
              "color": "#EBF0F8"
             },
             "line": {
              "color": "white"
             }
            },
            "header": {
             "fill": {
              "color": "#C8D4E3"
             },
             "line": {
              "color": "white"
             }
            },
            "type": "table"
           }
          ]
         },
         "layout": {
          "annotationdefaults": {
           "arrowcolor": "#2a3f5f",
           "arrowhead": 0,
           "arrowwidth": 1
          },
          "autotypenumbers": "strict",
          "coloraxis": {
           "colorbar": {
            "outlinewidth": 0,
            "ticks": ""
           }
          },
          "colorscale": {
           "diverging": [
            [
             0,
             "#8e0152"
            ],
            [
             0.1,
             "#c51b7d"
            ],
            [
             0.2,
             "#de77ae"
            ],
            [
             0.3,
             "#f1b6da"
            ],
            [
             0.4,
             "#fde0ef"
            ],
            [
             0.5,
             "#f7f7f7"
            ],
            [
             0.6,
             "#e6f5d0"
            ],
            [
             0.7,
             "#b8e186"
            ],
            [
             0.8,
             "#7fbc41"
            ],
            [
             0.9,
             "#4d9221"
            ],
            [
             1,
             "#276419"
            ]
           ],
           "sequential": [
            [
             0,
             "#0d0887"
            ],
            [
             0.1111111111111111,
             "#46039f"
            ],
            [
             0.2222222222222222,
             "#7201a8"
            ],
            [
             0.3333333333333333,
             "#9c179e"
            ],
            [
             0.4444444444444444,
             "#bd3786"
            ],
            [
             0.5555555555555556,
             "#d8576b"
            ],
            [
             0.6666666666666666,
             "#ed7953"
            ],
            [
             0.7777777777777778,
             "#fb9f3a"
            ],
            [
             0.8888888888888888,
             "#fdca26"
            ],
            [
             1,
             "#f0f921"
            ]
           ],
           "sequentialminus": [
            [
             0,
             "#0d0887"
            ],
            [
             0.1111111111111111,
             "#46039f"
            ],
            [
             0.2222222222222222,
             "#7201a8"
            ],
            [
             0.3333333333333333,
             "#9c179e"
            ],
            [
             0.4444444444444444,
             "#bd3786"
            ],
            [
             0.5555555555555556,
             "#d8576b"
            ],
            [
             0.6666666666666666,
             "#ed7953"
            ],
            [
             0.7777777777777778,
             "#fb9f3a"
            ],
            [
             0.8888888888888888,
             "#fdca26"
            ],
            [
             1,
             "#f0f921"
            ]
           ]
          },
          "colorway": [
           "#636efa",
           "#EF553B",
           "#00cc96",
           "#ab63fa",
           "#FFA15A",
           "#19d3f3",
           "#FF6692",
           "#B6E880",
           "#FF97FF",
           "#FECB52"
          ],
          "font": {
           "color": "#2a3f5f"
          },
          "geo": {
           "bgcolor": "white",
           "lakecolor": "white",
           "landcolor": "white",
           "showlakes": true,
           "showland": true,
           "subunitcolor": "#C8D4E3"
          },
          "hoverlabel": {
           "align": "left"
          },
          "hovermode": "closest",
          "mapbox": {
           "style": "light"
          },
          "paper_bgcolor": "white",
          "plot_bgcolor": "white",
          "polar": {
           "angularaxis": {
            "gridcolor": "#EBF0F8",
            "linecolor": "#EBF0F8",
            "ticks": ""
           },
           "bgcolor": "white",
           "radialaxis": {
            "gridcolor": "#EBF0F8",
            "linecolor": "#EBF0F8",
            "ticks": ""
           }
          },
          "scene": {
           "xaxis": {
            "backgroundcolor": "white",
            "gridcolor": "#DFE8F3",
            "gridwidth": 2,
            "linecolor": "#EBF0F8",
            "showbackground": true,
            "ticks": "",
            "zerolinecolor": "#EBF0F8"
           },
           "yaxis": {
            "backgroundcolor": "white",
            "gridcolor": "#DFE8F3",
            "gridwidth": 2,
            "linecolor": "#EBF0F8",
            "showbackground": true,
            "ticks": "",
            "zerolinecolor": "#EBF0F8"
           },
           "zaxis": {
            "backgroundcolor": "white",
            "gridcolor": "#DFE8F3",
            "gridwidth": 2,
            "linecolor": "#EBF0F8",
            "showbackground": true,
            "ticks": "",
            "zerolinecolor": "#EBF0F8"
           }
          },
          "shapedefaults": {
           "line": {
            "color": "#2a3f5f"
           }
          },
          "ternary": {
           "aaxis": {
            "gridcolor": "#DFE8F3",
            "linecolor": "#A2B1C6",
            "ticks": ""
           },
           "baxis": {
            "gridcolor": "#DFE8F3",
            "linecolor": "#A2B1C6",
            "ticks": ""
           },
           "bgcolor": "white",
           "caxis": {
            "gridcolor": "#DFE8F3",
            "linecolor": "#A2B1C6",
            "ticks": ""
           }
          },
          "title": {
           "x": 0.05
          },
          "xaxis": {
           "automargin": true,
           "gridcolor": "#EBF0F8",
           "linecolor": "#EBF0F8",
           "ticks": "",
           "title": {
            "standoff": 15
           },
           "zerolinecolor": "#EBF0F8",
           "zerolinewidth": 2
          },
          "yaxis": {
           "automargin": true,
           "gridcolor": "#EBF0F8",
           "linecolor": "#EBF0F8",
           "ticks": "",
           "title": {
            "standoff": 15
           },
           "zerolinecolor": "#EBF0F8",
           "zerolinewidth": 2
          }
         }
        },
        "title": {
         "text": "MMLU price-performance over time"
        },
        "xaxis": {
         "anchor": "y",
         "domain": [
          0,
          1
         ],
         "title": {
          "text": "Release Date"
         }
        },
        "yaxis": {
         "anchor": "x",
         "domain": [
          0,
          1
         ],
         "title": {
          "text": "MMLU price-performance"
         },
         "type": "log"
        }
       }
      }
     },
     "metadata": {},
     "output_type": "display_data"
    }
   ],
   "source": [
    "# Construct a list of 'Model Name' values that were ever in the top-n based on 'MMLU price-performance'\n",
    "top_n = 1\n",
    "aa_df = aa_df.sort_values(by='Release Date')\n",
    "ever_top_n_models = set()\n",
    "\n",
    "unique_dates = aa_df['Release Date'].sort_values().unique()\n",
    "\n",
    "for date in unique_dates:\n",
    "    df_up_to_date = aa_df[aa_df['Release Date'] <= date]\n",
    "    top_n_models = df_up_to_date.nlargest(top_n, 'MMLU price-performance')\n",
    "    top_n_model_names = top_n_models['Model Name and Date'].tolist()\n",
    "    ever_top_n_models.update(top_n_model_names)\n",
    "\n",
    "ever_top_n_list = sorted(ever_top_n_models)\n",
    "print(ever_top_n_list)\n",
    "\n",
    "# Plot top-n models over time\n",
    "fig = px.scatter(aa_df[aa_df['Model Name and Date'].isin(ever_top_n_list)], x='Release Date', y='MMLU price-performance', title='MMLU price-performance over time', hover_data=['Model Name and Date'])\n",
    "fig.update_layout(yaxis_type='log')\n",
    "fig.show()"
   ]
  },
  {
   "cell_type": "markdown",
   "metadata": {},
   "source": [
    "## Try fitting a regression to lowest-priced models above a performance lower bound"
   ]
  },
  {
   "cell_type": "code",
   "execution_count": 13,
   "metadata": {},
   "outputs": [
    {
     "name": "stdout",
     "output_type": "stream",
     "text": [
      "2023-04-01 00:00:00 GPT-4 86.0 $37.50\n",
      "2023-12-01 00:00:00 GPT-4 Turbo 87.0 $15.00\n",
      "2024-06-01 00:00:00 Gemini-1.5-Pro-2024-05 86.0 $2.19\n",
      "2024-08-01 00:00:00 Llama-3.1-Instruct-70B 84.0 $0.72\n"
     ]
    }
   ],
   "source": [
    "\"\"\"\n",
    "  - Set a performance lower bound\n",
    "  - Track the running best (top) model\n",
    "  - At each point in time (at some resolution)\n",
    "    - Filter to new models published in this time window\n",
    "    - Filter to models with performance above the lower bound\n",
    "    - Check if any new model is cheaper than current best\n",
    "    - If so, update the current best\n",
    "    - Record the current best model at this time point\n",
    "\"\"\"\n",
    "bench = 'MMLU'\n",
    "performance_lower_bound = 83\n",
    "ts = pd.date_range(start='2020-01-01', end='2025-01-01', freq='MS')\n",
    "cheapest_models = []\n",
    "current_best = None\n",
    "\n",
    "for i, t in enumerate(ts):\n",
    "    # Get models published in this time window\n",
    "    benchmark_df = aa_df\n",
    "    if i > 0:\n",
    "        prev_t = ts[i-1]\n",
    "        benchmark_df = benchmark_df[(benchmark_df['Release Date'] >= prev_t) & (benchmark_df['Release Date'] < t)]\n",
    "    else:\n",
    "        benchmark_df = benchmark_df[benchmark_df['Release Date'] < t]\n",
    "        \n",
    "    # Filter for performance\n",
    "    benchmark_df = benchmark_df[benchmark_df[bench].notna()]\n",
    "    benchmark_df = benchmark_df[benchmark_df[bench] > performance_lower_bound]\n",
    "    \n",
    "    if not benchmark_df.empty:\n",
    "        # Find cheapest new model\n",
    "        new_best = benchmark_df.loc[benchmark_df['USD per 1M Tokens'].idxmin()]\n",
    "        \n",
    "        # Update current best if new model is cheaper (or if no current best)\n",
    "        if current_best is None or new_best['USD per 1M Tokens'] < current_best['USD per 1M Tokens']:\n",
    "            current_best = new_best\n",
    "            cheapest_models.append(current_best)\n",
    "            print(t, current_best['Model Name'], current_best[bench], f\"${current_best['USD per 1M Tokens']:.2f}\")\n",
    "        # elif new_best['USD per 1M Tokens'] == current_best['USD per 1M Tokens']:\n",
    "        #     # Choose the model with the highest performance\n",
    "        #     if new_best[bench] > current_best[bench]:\n",
    "        #         current_best = new_best\n",
    "        #         cheapest_models.append(current_best)\n",
    "        #         print(t, current_best['Model Name'], current_best[bench], f\"${current_best['USD per 1M Tokens']:.2f}\")\n"
   ]
  },
  {
   "cell_type": "code",
   "execution_count": 14,
   "metadata": {},
   "outputs": [
    {
     "data": {
      "text/html": [
       "<div>\n",
       "<style scoped>\n",
       "    .dataframe tbody tr th:only-of-type {\n",
       "        vertical-align: middle;\n",
       "    }\n",
       "\n",
       "    .dataframe tbody tr th {\n",
       "        vertical-align: top;\n",
       "    }\n",
       "\n",
       "    .dataframe thead th {\n",
       "        text-align: right;\n",
       "    }\n",
       "</style>\n",
       "<table border=\"1\" class=\"dataframe\">\n",
       "  <thead>\n",
       "    <tr style=\"text-align: right;\">\n",
       "      <th></th>\n",
       "      <th>Model Name</th>\n",
       "      <th>Release Date</th>\n",
       "      <th>USD per 1M Tokens</th>\n",
       "      <th>Tokens per Second</th>\n",
       "      <th>Prefill Latency (s)</th>\n",
       "      <th>Prompt Length (tk)</th>\n",
       "      <th>MMLU</th>\n",
       "      <th>GPQA Diamond</th>\n",
       "      <th>MATH 5</th>\n",
       "      <th>MATH-500</th>\n",
       "      <th>HumanEval</th>\n",
       "      <th>LMSys Chatbot Arena ELO</th>\n",
       "      <th>MMLU price-performance</th>\n",
       "      <th>Model Name and Date</th>\n",
       "    </tr>\n",
       "  </thead>\n",
       "  <tbody>\n",
       "    <tr>\n",
       "      <th>4</th>\n",
       "      <td>GPT-4</td>\n",
       "      <td>2023-03-01</td>\n",
       "      <td>37.50</td>\n",
       "      <td>23.6</td>\n",
       "      <td>0.724</td>\n",
       "      <td>1000.0</td>\n",
       "      <td>86.0</td>\n",
       "      <td>33.0</td>\n",
       "      <td>NaN</td>\n",
       "      <td>21.0</td>\n",
       "      <td>67.0</td>\n",
       "      <td>1186.0</td>\n",
       "      <td>2.293333</td>\n",
       "      <td>GPT-4 (2023-03)</td>\n",
       "    </tr>\n",
       "    <tr>\n",
       "      <th>10</th>\n",
       "      <td>GPT-4 Turbo</td>\n",
       "      <td>2023-11-01</td>\n",
       "      <td>15.00</td>\n",
       "      <td>39.2</td>\n",
       "      <td>1.246</td>\n",
       "      <td>1000.0</td>\n",
       "      <td>87.0</td>\n",
       "      <td>50.0</td>\n",
       "      <td>36.0</td>\n",
       "      <td>74.0</td>\n",
       "      <td>92.0</td>\n",
       "      <td>1256.0</td>\n",
       "      <td>5.800000</td>\n",
       "      <td>GPT-4 Turbo (2023-11)</td>\n",
       "    </tr>\n",
       "    <tr>\n",
       "      <th>26</th>\n",
       "      <td>Gemini-1.5-Pro-2024-05</td>\n",
       "      <td>2024-05-01</td>\n",
       "      <td>2.19</td>\n",
       "      <td>64.8</td>\n",
       "      <td>0.738</td>\n",
       "      <td>1000.0</td>\n",
       "      <td>86.0</td>\n",
       "      <td>46.0</td>\n",
       "      <td>NaN</td>\n",
       "      <td>66.0</td>\n",
       "      <td>NaN</td>\n",
       "      <td>1260.0</td>\n",
       "      <td>39.269406</td>\n",
       "      <td>Gemini-1.5-Pro-2024-05 (2024-05)</td>\n",
       "    </tr>\n",
       "    <tr>\n",
       "      <th>36</th>\n",
       "      <td>Llama-3.1-Instruct-70B</td>\n",
       "      <td>2024-07-01</td>\n",
       "      <td>0.72</td>\n",
       "      <td>71.6</td>\n",
       "      <td>0.425</td>\n",
       "      <td>1000.0</td>\n",
       "      <td>84.0</td>\n",
       "      <td>43.0</td>\n",
       "      <td>39.0</td>\n",
       "      <td>64.0</td>\n",
       "      <td>80.0</td>\n",
       "      <td>1249.0</td>\n",
       "      <td>116.666667</td>\n",
       "      <td>Llama-3.1-Instruct-70B (2024-07)</td>\n",
       "    </tr>\n",
       "  </tbody>\n",
       "</table>\n",
       "</div>"
      ],
      "text/plain": [
       "                Model Name Release Date  USD per 1M Tokens  Tokens per Second  \\\n",
       "4                    GPT-4   2023-03-01              37.50               23.6   \n",
       "10             GPT-4 Turbo   2023-11-01              15.00               39.2   \n",
       "26  Gemini-1.5-Pro-2024-05   2024-05-01               2.19               64.8   \n",
       "36  Llama-3.1-Instruct-70B   2024-07-01               0.72               71.6   \n",
       "\n",
       "    Prefill Latency (s)  Prompt Length (tk)  MMLU  GPQA Diamond  MATH 5  \\\n",
       "4                 0.724              1000.0  86.0          33.0     NaN   \n",
       "10                1.246              1000.0  87.0          50.0    36.0   \n",
       "26                0.738              1000.0  86.0          46.0     NaN   \n",
       "36                0.425              1000.0  84.0          43.0    39.0   \n",
       "\n",
       "    MATH-500  HumanEval  LMSys Chatbot Arena ELO  MMLU price-performance  \\\n",
       "4       21.0       67.0                   1186.0                2.293333   \n",
       "10      74.0       92.0                   1256.0                5.800000   \n",
       "26      66.0        NaN                   1260.0               39.269406   \n",
       "36      64.0       80.0                   1249.0              116.666667   \n",
       "\n",
       "                 Model Name and Date  \n",
       "4                    GPT-4 (2023-03)  \n",
       "10             GPT-4 Turbo (2023-11)  \n",
       "26  Gemini-1.5-Pro-2024-05 (2024-05)  \n",
       "36  Llama-3.1-Instruct-70B (2024-07)  "
      ]
     },
     "execution_count": 14,
     "metadata": {},
     "output_type": "execute_result"
    }
   ],
   "source": [
    "cheapest_models_df = pd.DataFrame(cheapest_models)\n",
    "cheapest_models_df.head()"
   ]
  },
  {
   "cell_type": "code",
   "execution_count": 15,
   "metadata": {},
   "outputs": [
    {
     "data": {
      "application/vnd.plotly.v1+json": {
       "config": {
        "plotlyServerURL": "https://plot.ly"
       },
       "data": [
        {
         "hovertemplate": "Release Date=%{x}<br>USD per 1M Tokens=%{y}<br>Model Name=%{text}<extra></extra>",
         "legendgroup": "",
         "line": {
          "color": "#636efa",
          "dash": "solid",
          "shape": "hv"
         },
         "marker": {
          "symbol": "circle"
         },
         "mode": "lines+markers+text",
         "name": "",
         "orientation": "v",
         "showlegend": false,
         "text": [
          "GPT-4",
          "GPT-4 Turbo",
          "Gemini-1.5-Pro-2024-05",
          "Llama-3.1-Instruct-70B"
         ],
         "textposition": "bottom left",
         "type": "scatter",
         "x": [
          "2023-03-01T00:00:00",
          "2023-11-01T00:00:00",
          "2024-05-01T00:00:00",
          "2024-07-01T00:00:00"
         ],
         "xaxis": "x",
         "y": [
          37.5,
          15,
          2.19,
          0.72
         ],
         "yaxis": "y"
        }
       ],
       "layout": {
        "font": {
         "size": 10
        },
        "height": 600,
        "legend": {
         "tracegroupgap": 0
        },
        "template": {
         "data": {
          "bar": [
           {
            "error_x": {
             "color": "#2a3f5f"
            },
            "error_y": {
             "color": "#2a3f5f"
            },
            "marker": {
             "line": {
              "color": "white",
              "width": 0.5
             },
             "pattern": {
              "fillmode": "overlay",
              "size": 10,
              "solidity": 0.2
             }
            },
            "type": "bar"
           }
          ],
          "barpolar": [
           {
            "marker": {
             "line": {
              "color": "white",
              "width": 0.5
             },
             "pattern": {
              "fillmode": "overlay",
              "size": 10,
              "solidity": 0.2
             }
            },
            "type": "barpolar"
           }
          ],
          "carpet": [
           {
            "aaxis": {
             "endlinecolor": "#2a3f5f",
             "gridcolor": "#C8D4E3",
             "linecolor": "#C8D4E3",
             "minorgridcolor": "#C8D4E3",
             "startlinecolor": "#2a3f5f"
            },
            "baxis": {
             "endlinecolor": "#2a3f5f",
             "gridcolor": "#C8D4E3",
             "linecolor": "#C8D4E3",
             "minorgridcolor": "#C8D4E3",
             "startlinecolor": "#2a3f5f"
            },
            "type": "carpet"
           }
          ],
          "choropleth": [
           {
            "colorbar": {
             "outlinewidth": 0,
             "ticks": ""
            },
            "type": "choropleth"
           }
          ],
          "contour": [
           {
            "colorbar": {
             "outlinewidth": 0,
             "ticks": ""
            },
            "colorscale": [
             [
              0,
              "#0d0887"
             ],
             [
              0.1111111111111111,
              "#46039f"
             ],
             [
              0.2222222222222222,
              "#7201a8"
             ],
             [
              0.3333333333333333,
              "#9c179e"
             ],
             [
              0.4444444444444444,
              "#bd3786"
             ],
             [
              0.5555555555555556,
              "#d8576b"
             ],
             [
              0.6666666666666666,
              "#ed7953"
             ],
             [
              0.7777777777777778,
              "#fb9f3a"
             ],
             [
              0.8888888888888888,
              "#fdca26"
             ],
             [
              1,
              "#f0f921"
             ]
            ],
            "type": "contour"
           }
          ],
          "contourcarpet": [
           {
            "colorbar": {
             "outlinewidth": 0,
             "ticks": ""
            },
            "type": "contourcarpet"
           }
          ],
          "heatmap": [
           {
            "colorbar": {
             "outlinewidth": 0,
             "ticks": ""
            },
            "colorscale": [
             [
              0,
              "#0d0887"
             ],
             [
              0.1111111111111111,
              "#46039f"
             ],
             [
              0.2222222222222222,
              "#7201a8"
             ],
             [
              0.3333333333333333,
              "#9c179e"
             ],
             [
              0.4444444444444444,
              "#bd3786"
             ],
             [
              0.5555555555555556,
              "#d8576b"
             ],
             [
              0.6666666666666666,
              "#ed7953"
             ],
             [
              0.7777777777777778,
              "#fb9f3a"
             ],
             [
              0.8888888888888888,
              "#fdca26"
             ],
             [
              1,
              "#f0f921"
             ]
            ],
            "type": "heatmap"
           }
          ],
          "heatmapgl": [
           {
            "colorbar": {
             "outlinewidth": 0,
             "ticks": ""
            },
            "colorscale": [
             [
              0,
              "#0d0887"
             ],
             [
              0.1111111111111111,
              "#46039f"
             ],
             [
              0.2222222222222222,
              "#7201a8"
             ],
             [
              0.3333333333333333,
              "#9c179e"
             ],
             [
              0.4444444444444444,
              "#bd3786"
             ],
             [
              0.5555555555555556,
              "#d8576b"
             ],
             [
              0.6666666666666666,
              "#ed7953"
             ],
             [
              0.7777777777777778,
              "#fb9f3a"
             ],
             [
              0.8888888888888888,
              "#fdca26"
             ],
             [
              1,
              "#f0f921"
             ]
            ],
            "type": "heatmapgl"
           }
          ],
          "histogram": [
           {
            "marker": {
             "pattern": {
              "fillmode": "overlay",
              "size": 10,
              "solidity": 0.2
             }
            },
            "type": "histogram"
           }
          ],
          "histogram2d": [
           {
            "colorbar": {
             "outlinewidth": 0,
             "ticks": ""
            },
            "colorscale": [
             [
              0,
              "#0d0887"
             ],
             [
              0.1111111111111111,
              "#46039f"
             ],
             [
              0.2222222222222222,
              "#7201a8"
             ],
             [
              0.3333333333333333,
              "#9c179e"
             ],
             [
              0.4444444444444444,
              "#bd3786"
             ],
             [
              0.5555555555555556,
              "#d8576b"
             ],
             [
              0.6666666666666666,
              "#ed7953"
             ],
             [
              0.7777777777777778,
              "#fb9f3a"
             ],
             [
              0.8888888888888888,
              "#fdca26"
             ],
             [
              1,
              "#f0f921"
             ]
            ],
            "type": "histogram2d"
           }
          ],
          "histogram2dcontour": [
           {
            "colorbar": {
             "outlinewidth": 0,
             "ticks": ""
            },
            "colorscale": [
             [
              0,
              "#0d0887"
             ],
             [
              0.1111111111111111,
              "#46039f"
             ],
             [
              0.2222222222222222,
              "#7201a8"
             ],
             [
              0.3333333333333333,
              "#9c179e"
             ],
             [
              0.4444444444444444,
              "#bd3786"
             ],
             [
              0.5555555555555556,
              "#d8576b"
             ],
             [
              0.6666666666666666,
              "#ed7953"
             ],
             [
              0.7777777777777778,
              "#fb9f3a"
             ],
             [
              0.8888888888888888,
              "#fdca26"
             ],
             [
              1,
              "#f0f921"
             ]
            ],
            "type": "histogram2dcontour"
           }
          ],
          "mesh3d": [
           {
            "colorbar": {
             "outlinewidth": 0,
             "ticks": ""
            },
            "type": "mesh3d"
           }
          ],
          "parcoords": [
           {
            "line": {
             "colorbar": {
              "outlinewidth": 0,
              "ticks": ""
             }
            },
            "type": "parcoords"
           }
          ],
          "pie": [
           {
            "automargin": true,
            "type": "pie"
           }
          ],
          "scatter": [
           {
            "fillpattern": {
             "fillmode": "overlay",
             "size": 10,
             "solidity": 0.2
            },
            "type": "scatter"
           }
          ],
          "scatter3d": [
           {
            "line": {
             "colorbar": {
              "outlinewidth": 0,
              "ticks": ""
             }
            },
            "marker": {
             "colorbar": {
              "outlinewidth": 0,
              "ticks": ""
             }
            },
            "type": "scatter3d"
           }
          ],
          "scattercarpet": [
           {
            "marker": {
             "colorbar": {
              "outlinewidth": 0,
              "ticks": ""
             }
            },
            "type": "scattercarpet"
           }
          ],
          "scattergeo": [
           {
            "marker": {
             "colorbar": {
              "outlinewidth": 0,
              "ticks": ""
             }
            },
            "type": "scattergeo"
           }
          ],
          "scattergl": [
           {
            "marker": {
             "colorbar": {
              "outlinewidth": 0,
              "ticks": ""
             }
            },
            "type": "scattergl"
           }
          ],
          "scattermapbox": [
           {
            "marker": {
             "colorbar": {
              "outlinewidth": 0,
              "ticks": ""
             }
            },
            "type": "scattermapbox"
           }
          ],
          "scatterpolar": [
           {
            "marker": {
             "colorbar": {
              "outlinewidth": 0,
              "ticks": ""
             }
            },
            "type": "scatterpolar"
           }
          ],
          "scatterpolargl": [
           {
            "marker": {
             "colorbar": {
              "outlinewidth": 0,
              "ticks": ""
             }
            },
            "type": "scatterpolargl"
           }
          ],
          "scatterternary": [
           {
            "marker": {
             "colorbar": {
              "outlinewidth": 0,
              "ticks": ""
             }
            },
            "type": "scatterternary"
           }
          ],
          "surface": [
           {
            "colorbar": {
             "outlinewidth": 0,
             "ticks": ""
            },
            "colorscale": [
             [
              0,
              "#0d0887"
             ],
             [
              0.1111111111111111,
              "#46039f"
             ],
             [
              0.2222222222222222,
              "#7201a8"
             ],
             [
              0.3333333333333333,
              "#9c179e"
             ],
             [
              0.4444444444444444,
              "#bd3786"
             ],
             [
              0.5555555555555556,
              "#d8576b"
             ],
             [
              0.6666666666666666,
              "#ed7953"
             ],
             [
              0.7777777777777778,
              "#fb9f3a"
             ],
             [
              0.8888888888888888,
              "#fdca26"
             ],
             [
              1,
              "#f0f921"
             ]
            ],
            "type": "surface"
           }
          ],
          "table": [
           {
            "cells": {
             "fill": {
              "color": "#EBF0F8"
             },
             "line": {
              "color": "white"
             }
            },
            "header": {
             "fill": {
              "color": "#C8D4E3"
             },
             "line": {
              "color": "white"
             }
            },
            "type": "table"
           }
          ]
         },
         "layout": {
          "annotationdefaults": {
           "arrowcolor": "#2a3f5f",
           "arrowhead": 0,
           "arrowwidth": 1
          },
          "autotypenumbers": "strict",
          "coloraxis": {
           "colorbar": {
            "outlinewidth": 0,
            "ticks": ""
           }
          },
          "colorscale": {
           "diverging": [
            [
             0,
             "#8e0152"
            ],
            [
             0.1,
             "#c51b7d"
            ],
            [
             0.2,
             "#de77ae"
            ],
            [
             0.3,
             "#f1b6da"
            ],
            [
             0.4,
             "#fde0ef"
            ],
            [
             0.5,
             "#f7f7f7"
            ],
            [
             0.6,
             "#e6f5d0"
            ],
            [
             0.7,
             "#b8e186"
            ],
            [
             0.8,
             "#7fbc41"
            ],
            [
             0.9,
             "#4d9221"
            ],
            [
             1,
             "#276419"
            ]
           ],
           "sequential": [
            [
             0,
             "#0d0887"
            ],
            [
             0.1111111111111111,
             "#46039f"
            ],
            [
             0.2222222222222222,
             "#7201a8"
            ],
            [
             0.3333333333333333,
             "#9c179e"
            ],
            [
             0.4444444444444444,
             "#bd3786"
            ],
            [
             0.5555555555555556,
             "#d8576b"
            ],
            [
             0.6666666666666666,
             "#ed7953"
            ],
            [
             0.7777777777777778,
             "#fb9f3a"
            ],
            [
             0.8888888888888888,
             "#fdca26"
            ],
            [
             1,
             "#f0f921"
            ]
           ],
           "sequentialminus": [
            [
             0,
             "#0d0887"
            ],
            [
             0.1111111111111111,
             "#46039f"
            ],
            [
             0.2222222222222222,
             "#7201a8"
            ],
            [
             0.3333333333333333,
             "#9c179e"
            ],
            [
             0.4444444444444444,
             "#bd3786"
            ],
            [
             0.5555555555555556,
             "#d8576b"
            ],
            [
             0.6666666666666666,
             "#ed7953"
            ],
            [
             0.7777777777777778,
             "#fb9f3a"
            ],
            [
             0.8888888888888888,
             "#fdca26"
            ],
            [
             1,
             "#f0f921"
            ]
           ]
          },
          "colorway": [
           "#636efa",
           "#EF553B",
           "#00cc96",
           "#ab63fa",
           "#FFA15A",
           "#19d3f3",
           "#FF6692",
           "#B6E880",
           "#FF97FF",
           "#FECB52"
          ],
          "font": {
           "color": "#2a3f5f"
          },
          "geo": {
           "bgcolor": "white",
           "lakecolor": "white",
           "landcolor": "white",
           "showlakes": true,
           "showland": true,
           "subunitcolor": "#C8D4E3"
          },
          "hoverlabel": {
           "align": "left"
          },
          "hovermode": "closest",
          "mapbox": {
           "style": "light"
          },
          "paper_bgcolor": "white",
          "plot_bgcolor": "white",
          "polar": {
           "angularaxis": {
            "gridcolor": "#EBF0F8",
            "linecolor": "#EBF0F8",
            "ticks": ""
           },
           "bgcolor": "white",
           "radialaxis": {
            "gridcolor": "#EBF0F8",
            "linecolor": "#EBF0F8",
            "ticks": ""
           }
          },
          "scene": {
           "xaxis": {
            "backgroundcolor": "white",
            "gridcolor": "#DFE8F3",
            "gridwidth": 2,
            "linecolor": "#EBF0F8",
            "showbackground": true,
            "ticks": "",
            "zerolinecolor": "#EBF0F8"
           },
           "yaxis": {
            "backgroundcolor": "white",
            "gridcolor": "#DFE8F3",
            "gridwidth": 2,
            "linecolor": "#EBF0F8",
            "showbackground": true,
            "ticks": "",
            "zerolinecolor": "#EBF0F8"
           },
           "zaxis": {
            "backgroundcolor": "white",
            "gridcolor": "#DFE8F3",
            "gridwidth": 2,
            "linecolor": "#EBF0F8",
            "showbackground": true,
            "ticks": "",
            "zerolinecolor": "#EBF0F8"
           }
          },
          "shapedefaults": {
           "line": {
            "color": "#2a3f5f"
           }
          },
          "ternary": {
           "aaxis": {
            "gridcolor": "#DFE8F3",
            "linecolor": "#A2B1C6",
            "ticks": ""
           },
           "baxis": {
            "gridcolor": "#DFE8F3",
            "linecolor": "#A2B1C6",
            "ticks": ""
           },
           "bgcolor": "white",
           "caxis": {
            "gridcolor": "#DFE8F3",
            "linecolor": "#A2B1C6",
            "ticks": ""
           }
          },
          "title": {
           "x": 0.05
          },
          "xaxis": {
           "automargin": true,
           "gridcolor": "#EBF0F8",
           "linecolor": "#EBF0F8",
           "ticks": "",
           "title": {
            "standoff": 15
           },
           "zerolinecolor": "#EBF0F8",
           "zerolinewidth": 2
          },
          "yaxis": {
           "automargin": true,
           "gridcolor": "#EBF0F8",
           "linecolor": "#EBF0F8",
           "ticks": "",
           "title": {
            "standoff": 15
           },
           "zerolinecolor": "#EBF0F8",
           "zerolinewidth": 2
          }
         }
        },
        "title": {
         "text": "Price of the cheapest model with MMLU > 83%"
        },
        "width": 800,
        "xaxis": {
         "anchor": "y",
         "domain": [
          0,
          1
         ],
         "range": [
          "2022-12-01T00:00:00",
          "2024-07-31T00:00:00"
         ],
         "title": {
          "text": "Release Date"
         }
        },
        "yaxis": {
         "anchor": "x",
         "domain": [
          0,
          1
         ],
         "title": {
          "text": "USD per 1M Tokens"
         },
         "type": "log"
        }
       }
      }
     },
     "metadata": {},
     "output_type": "display_data"
    }
   ],
   "source": [
    "# Plot the cheapest models\n",
    "fig = px.line(cheapest_models_df, x='Release Date', y='USD per 1M Tokens',\n",
    "                title=f'Price of the cheapest model with {bench} > {performance_lower_bound}%',\n",
    "                text='Model Name', markers=True,\n",
    "                line_shape='hv')  # Make line vertical-horizontal\n",
    "fig.update_traces(textposition='bottom left')\n",
    "fig.update_layout(yaxis_type='log')\n",
    "# xrange\n",
    "fig.update_layout(xaxis_range=[cheapest_models_df['Release Date'].min() - pd.Timedelta(days=90), cheapest_models_df['Release Date'].max()+pd.Timedelta(days=30)])\n",
    "fig.update_layout(\n",
    "    width=800,\n",
    "    height=600,\n",
    "    font=dict(size=10),\n",
    ")\n",
    "if save:\n",
    "    save_plot(fig, results_dir, f'aa_cheapest_models_{bench}_above_{performance_lower_bound}')\n",
    "fig.show()"
   ]
  },
  {
   "cell_type": "code",
   "execution_count": 16,
   "metadata": {},
   "outputs": [
    {
     "name": "stdout",
     "output_type": "stream",
     "text": [
      "                            OLS Regression Results                            \n",
      "==============================================================================\n",
      "Dep. Variable:              log_price   R-squared:                       0.917\n",
      "Model:                            OLS   Adj. R-squared:                  0.875\n",
      "Method:                 Least Squares   F-statistic:                     22.09\n",
      "Date:                Mon, 10 Feb 2025   Prob (F-statistic):             0.0424\n",
      "Time:                        13:10:16   Log-Likelihood:                0.87176\n",
      "No. Observations:                   4   AIC:                             2.256\n",
      "Df Residuals:                       2   BIC:                             1.029\n",
      "Df Model:                           1                                         \n",
      "Covariance Type:            nonrobust                                         \n",
      "==============================================================================\n",
      "                 coef    std err          t      P>|t|      [0.025      0.975]\n",
      "------------------------------------------------------------------------------\n",
      "Intercept   2518.3676    535.632      4.702      0.042     213.728    4823.007\n",
      "date          -0.0034      0.001     -4.700      0.042      -0.007      -0.000\n",
      "==============================================================================\n",
      "Omnibus:                          nan   Durbin-Watson:                   2.067\n",
      "Prob(Omnibus):                    nan   Jarque-Bera (JB):                0.446\n",
      "Skew:                           0.395   Prob(JB):                        0.800\n",
      "Kurtosis:                       1.566   Cond. No.                     2.88e+09\n",
      "==============================================================================\n",
      "\n",
      "Notes:\n",
      "[1] Standard Errors assume that the covariance matrix of the errors is correctly specified.\n",
      "[2] The condition number is large, 2.88e+09. This might indicate that there are\n",
      "strong multicollinearity or other numerical problems.\n",
      "                            OLS Regression Results                            \n",
      "==============================================================================\n",
      "Dep. Variable:                  price   R-squared:                       0.985\n",
      "Model:                            OLS   Adj. R-squared:                  0.978\n",
      "Method:                 Least Squares   F-statistic:                     133.6\n",
      "Date:                Mon, 10 Feb 2025   Prob (F-statistic):            0.00740\n",
      "Time:                        13:10:16   Log-Likelihood:                -8.0040\n",
      "No. Observations:                   4   AIC:                             20.01\n",
      "Df Residuals:                       2   BIC:                             18.78\n",
      "Df Model:                           1                                         \n",
      "Covariance Type:            nonrobust                                         \n",
      "==============================================================================\n",
      "                 coef    std err          t      P>|t|      [0.025      0.975]\n",
      "------------------------------------------------------------------------------\n",
      "Intercept   5.697e+04   4926.509     11.563      0.007    3.58e+04    7.82e+04\n",
      "date          -0.0771      0.007    -11.561      0.007      -0.106      -0.048\n",
      "==============================================================================\n",
      "Omnibus:                          nan   Durbin-Watson:                   1.951\n",
      "Prob(Omnibus):                    nan   Jarque-Bera (JB):                0.480\n",
      "Skew:                          -0.088   Prob(JB):                        0.787\n",
      "Kurtosis:                       1.313   Cond. No.                     2.88e+09\n",
      "==============================================================================\n",
      "\n",
      "Notes:\n",
      "[1] Standard Errors assume that the covariance matrix of the errors is correctly specified.\n",
      "[2] The condition number is large, 2.88e+09. This might indicate that there are\n",
      "strong multicollinearity or other numerical problems.\n"
     ]
    },
    {
     "name": "stderr",
     "output_type": "stream",
     "text": [
      "/Users/bencottier/miniconda3/envs/llm-efficiency/lib/python3.12/site-packages/statsmodels/stats/stattools.py:74: ValueWarning:\n",
      "\n",
      "omni_normtest is not valid with less than 8 observations; 4 samples were given.\n",
      "\n",
      "/Users/bencottier/miniconda3/envs/llm-efficiency/lib/python3.12/site-packages/statsmodels/stats/stattools.py:74: ValueWarning:\n",
      "\n",
      "omni_normtest is not valid with less than 8 observations; 4 samples were given.\n",
      "\n"
     ]
    }
   ],
   "source": [
    "# Fit a line to the data\n",
    "cheapest_models_df['price'] = cheapest_models_df['USD per 1M Tokens']\n",
    "cheapest_models_df['log_price'] = np.log10(cheapest_models_df['USD per 1M Tokens'])\n",
    "cheapest_models_df['date'] = cheapest_models_df['Release Date'].map(lambda x: pd.Timestamp(x).toordinal())\n",
    "exponential_model = smf.ols('log_price ~ date', data=cheapest_models_df).fit()\n",
    "print(exponential_model.summary())\n",
    "\n",
    "linear_model = smf.ols('price ~ date', data=cheapest_models_df).fit()\n",
    "print(linear_model.summary())"
   ]
  },
  {
   "cell_type": "code",
   "execution_count": 17,
   "metadata": {},
   "outputs": [
    {
     "data": {
      "application/vnd.plotly.v1+json": {
       "config": {
        "plotlyServerURL": "https://plot.ly"
       },
       "data": [
        {
         "line": {
          "color": "lightgrey",
          "dash": "dash"
         },
         "mode": "lines",
         "name": "Trendline: 18x decrease per year",
         "textposition": "bottom left",
         "type": "scatter",
         "x": [
          "2023-03-01T00:00:00",
          "2023-11-01T00:00:00",
          "2024-05-01T00:00:00",
          "2024-07-01T00:00:00"
         ],
         "y": [
          53.10345021725211,
          7.767979803816668,
          1.8627735441209623,
          1.1542722376150658
         ]
        },
        {
         "line": {
          "shape": "hv"
         },
         "mode": "lines+markers+text",
         "name": "Data",
         "text": [
          "GPT-4",
          "GPT-4 Turbo",
          "Gemini-1.5-Pro-2024-05",
          "Llama-3.1-Instruct-70B"
         ],
         "textposition": "bottom left",
         "type": "scatter",
         "x": [
          "2023-03-01T00:00:00",
          "2023-11-01T00:00:00",
          "2024-05-01T00:00:00",
          "2024-07-01T00:00:00"
         ],
         "y": [
          37.5,
          15,
          2.19,
          0.72
         ]
        }
       ],
       "layout": {
        "font": {
         "size": 10
        },
        "height": 600,
        "legend": {
         "bordercolor": "lightgrey",
         "borderwidth": 1,
         "x": 0.99,
         "xanchor": "right",
         "y": 0.99,
         "yanchor": "top"
        },
        "template": {
         "data": {
          "bar": [
           {
            "error_x": {
             "color": "#2a3f5f"
            },
            "error_y": {
             "color": "#2a3f5f"
            },
            "marker": {
             "line": {
              "color": "white",
              "width": 0.5
             },
             "pattern": {
              "fillmode": "overlay",
              "size": 10,
              "solidity": 0.2
             }
            },
            "type": "bar"
           }
          ],
          "barpolar": [
           {
            "marker": {
             "line": {
              "color": "white",
              "width": 0.5
             },
             "pattern": {
              "fillmode": "overlay",
              "size": 10,
              "solidity": 0.2
             }
            },
            "type": "barpolar"
           }
          ],
          "carpet": [
           {
            "aaxis": {
             "endlinecolor": "#2a3f5f",
             "gridcolor": "#C8D4E3",
             "linecolor": "#C8D4E3",
             "minorgridcolor": "#C8D4E3",
             "startlinecolor": "#2a3f5f"
            },
            "baxis": {
             "endlinecolor": "#2a3f5f",
             "gridcolor": "#C8D4E3",
             "linecolor": "#C8D4E3",
             "minorgridcolor": "#C8D4E3",
             "startlinecolor": "#2a3f5f"
            },
            "type": "carpet"
           }
          ],
          "choropleth": [
           {
            "colorbar": {
             "outlinewidth": 0,
             "ticks": ""
            },
            "type": "choropleth"
           }
          ],
          "contour": [
           {
            "colorbar": {
             "outlinewidth": 0,
             "ticks": ""
            },
            "colorscale": [
             [
              0,
              "#0d0887"
             ],
             [
              0.1111111111111111,
              "#46039f"
             ],
             [
              0.2222222222222222,
              "#7201a8"
             ],
             [
              0.3333333333333333,
              "#9c179e"
             ],
             [
              0.4444444444444444,
              "#bd3786"
             ],
             [
              0.5555555555555556,
              "#d8576b"
             ],
             [
              0.6666666666666666,
              "#ed7953"
             ],
             [
              0.7777777777777778,
              "#fb9f3a"
             ],
             [
              0.8888888888888888,
              "#fdca26"
             ],
             [
              1,
              "#f0f921"
             ]
            ],
            "type": "contour"
           }
          ],
          "contourcarpet": [
           {
            "colorbar": {
             "outlinewidth": 0,
             "ticks": ""
            },
            "type": "contourcarpet"
           }
          ],
          "heatmap": [
           {
            "colorbar": {
             "outlinewidth": 0,
             "ticks": ""
            },
            "colorscale": [
             [
              0,
              "#0d0887"
             ],
             [
              0.1111111111111111,
              "#46039f"
             ],
             [
              0.2222222222222222,
              "#7201a8"
             ],
             [
              0.3333333333333333,
              "#9c179e"
             ],
             [
              0.4444444444444444,
              "#bd3786"
             ],
             [
              0.5555555555555556,
              "#d8576b"
             ],
             [
              0.6666666666666666,
              "#ed7953"
             ],
             [
              0.7777777777777778,
              "#fb9f3a"
             ],
             [
              0.8888888888888888,
              "#fdca26"
             ],
             [
              1,
              "#f0f921"
             ]
            ],
            "type": "heatmap"
           }
          ],
          "heatmapgl": [
           {
            "colorbar": {
             "outlinewidth": 0,
             "ticks": ""
            },
            "colorscale": [
             [
              0,
              "#0d0887"
             ],
             [
              0.1111111111111111,
              "#46039f"
             ],
             [
              0.2222222222222222,
              "#7201a8"
             ],
             [
              0.3333333333333333,
              "#9c179e"
             ],
             [
              0.4444444444444444,
              "#bd3786"
             ],
             [
              0.5555555555555556,
              "#d8576b"
             ],
             [
              0.6666666666666666,
              "#ed7953"
             ],
             [
              0.7777777777777778,
              "#fb9f3a"
             ],
             [
              0.8888888888888888,
              "#fdca26"
             ],
             [
              1,
              "#f0f921"
             ]
            ],
            "type": "heatmapgl"
           }
          ],
          "histogram": [
           {
            "marker": {
             "pattern": {
              "fillmode": "overlay",
              "size": 10,
              "solidity": 0.2
             }
            },
            "type": "histogram"
           }
          ],
          "histogram2d": [
           {
            "colorbar": {
             "outlinewidth": 0,
             "ticks": ""
            },
            "colorscale": [
             [
              0,
              "#0d0887"
             ],
             [
              0.1111111111111111,
              "#46039f"
             ],
             [
              0.2222222222222222,
              "#7201a8"
             ],
             [
              0.3333333333333333,
              "#9c179e"
             ],
             [
              0.4444444444444444,
              "#bd3786"
             ],
             [
              0.5555555555555556,
              "#d8576b"
             ],
             [
              0.6666666666666666,
              "#ed7953"
             ],
             [
              0.7777777777777778,
              "#fb9f3a"
             ],
             [
              0.8888888888888888,
              "#fdca26"
             ],
             [
              1,
              "#f0f921"
             ]
            ],
            "type": "histogram2d"
           }
          ],
          "histogram2dcontour": [
           {
            "colorbar": {
             "outlinewidth": 0,
             "ticks": ""
            },
            "colorscale": [
             [
              0,
              "#0d0887"
             ],
             [
              0.1111111111111111,
              "#46039f"
             ],
             [
              0.2222222222222222,
              "#7201a8"
             ],
             [
              0.3333333333333333,
              "#9c179e"
             ],
             [
              0.4444444444444444,
              "#bd3786"
             ],
             [
              0.5555555555555556,
              "#d8576b"
             ],
             [
              0.6666666666666666,
              "#ed7953"
             ],
             [
              0.7777777777777778,
              "#fb9f3a"
             ],
             [
              0.8888888888888888,
              "#fdca26"
             ],
             [
              1,
              "#f0f921"
             ]
            ],
            "type": "histogram2dcontour"
           }
          ],
          "mesh3d": [
           {
            "colorbar": {
             "outlinewidth": 0,
             "ticks": ""
            },
            "type": "mesh3d"
           }
          ],
          "parcoords": [
           {
            "line": {
             "colorbar": {
              "outlinewidth": 0,
              "ticks": ""
             }
            },
            "type": "parcoords"
           }
          ],
          "pie": [
           {
            "automargin": true,
            "type": "pie"
           }
          ],
          "scatter": [
           {
            "fillpattern": {
             "fillmode": "overlay",
             "size": 10,
             "solidity": 0.2
            },
            "type": "scatter"
           }
          ],
          "scatter3d": [
           {
            "line": {
             "colorbar": {
              "outlinewidth": 0,
              "ticks": ""
             }
            },
            "marker": {
             "colorbar": {
              "outlinewidth": 0,
              "ticks": ""
             }
            },
            "type": "scatter3d"
           }
          ],
          "scattercarpet": [
           {
            "marker": {
             "colorbar": {
              "outlinewidth": 0,
              "ticks": ""
             }
            },
            "type": "scattercarpet"
           }
          ],
          "scattergeo": [
           {
            "marker": {
             "colorbar": {
              "outlinewidth": 0,
              "ticks": ""
             }
            },
            "type": "scattergeo"
           }
          ],
          "scattergl": [
           {
            "marker": {
             "colorbar": {
              "outlinewidth": 0,
              "ticks": ""
             }
            },
            "type": "scattergl"
           }
          ],
          "scattermapbox": [
           {
            "marker": {
             "colorbar": {
              "outlinewidth": 0,
              "ticks": ""
             }
            },
            "type": "scattermapbox"
           }
          ],
          "scatterpolar": [
           {
            "marker": {
             "colorbar": {
              "outlinewidth": 0,
              "ticks": ""
             }
            },
            "type": "scatterpolar"
           }
          ],
          "scatterpolargl": [
           {
            "marker": {
             "colorbar": {
              "outlinewidth": 0,
              "ticks": ""
             }
            },
            "type": "scatterpolargl"
           }
          ],
          "scatterternary": [
           {
            "marker": {
             "colorbar": {
              "outlinewidth": 0,
              "ticks": ""
             }
            },
            "type": "scatterternary"
           }
          ],
          "surface": [
           {
            "colorbar": {
             "outlinewidth": 0,
             "ticks": ""
            },
            "colorscale": [
             [
              0,
              "#0d0887"
             ],
             [
              0.1111111111111111,
              "#46039f"
             ],
             [
              0.2222222222222222,
              "#7201a8"
             ],
             [
              0.3333333333333333,
              "#9c179e"
             ],
             [
              0.4444444444444444,
              "#bd3786"
             ],
             [
              0.5555555555555556,
              "#d8576b"
             ],
             [
              0.6666666666666666,
              "#ed7953"
             ],
             [
              0.7777777777777778,
              "#fb9f3a"
             ],
             [
              0.8888888888888888,
              "#fdca26"
             ],
             [
              1,
              "#f0f921"
             ]
            ],
            "type": "surface"
           }
          ],
          "table": [
           {
            "cells": {
             "fill": {
              "color": "#EBF0F8"
             },
             "line": {
              "color": "white"
             }
            },
            "header": {
             "fill": {
              "color": "#C8D4E3"
             },
             "line": {
              "color": "white"
             }
            },
            "type": "table"
           }
          ]
         },
         "layout": {
          "annotationdefaults": {
           "arrowcolor": "#2a3f5f",
           "arrowhead": 0,
           "arrowwidth": 1
          },
          "autotypenumbers": "strict",
          "coloraxis": {
           "colorbar": {
            "outlinewidth": 0,
            "ticks": ""
           }
          },
          "colorscale": {
           "diverging": [
            [
             0,
             "#8e0152"
            ],
            [
             0.1,
             "#c51b7d"
            ],
            [
             0.2,
             "#de77ae"
            ],
            [
             0.3,
             "#f1b6da"
            ],
            [
             0.4,
             "#fde0ef"
            ],
            [
             0.5,
             "#f7f7f7"
            ],
            [
             0.6,
             "#e6f5d0"
            ],
            [
             0.7,
             "#b8e186"
            ],
            [
             0.8,
             "#7fbc41"
            ],
            [
             0.9,
             "#4d9221"
            ],
            [
             1,
             "#276419"
            ]
           ],
           "sequential": [
            [
             0,
             "#0d0887"
            ],
            [
             0.1111111111111111,
             "#46039f"
            ],
            [
             0.2222222222222222,
             "#7201a8"
            ],
            [
             0.3333333333333333,
             "#9c179e"
            ],
            [
             0.4444444444444444,
             "#bd3786"
            ],
            [
             0.5555555555555556,
             "#d8576b"
            ],
            [
             0.6666666666666666,
             "#ed7953"
            ],
            [
             0.7777777777777778,
             "#fb9f3a"
            ],
            [
             0.8888888888888888,
             "#fdca26"
            ],
            [
             1,
             "#f0f921"
            ]
           ],
           "sequentialminus": [
            [
             0,
             "#0d0887"
            ],
            [
             0.1111111111111111,
             "#46039f"
            ],
            [
             0.2222222222222222,
             "#7201a8"
            ],
            [
             0.3333333333333333,
             "#9c179e"
            ],
            [
             0.4444444444444444,
             "#bd3786"
            ],
            [
             0.5555555555555556,
             "#d8576b"
            ],
            [
             0.6666666666666666,
             "#ed7953"
            ],
            [
             0.7777777777777778,
             "#fb9f3a"
            ],
            [
             0.8888888888888888,
             "#fdca26"
            ],
            [
             1,
             "#f0f921"
            ]
           ]
          },
          "colorway": [
           "#636efa",
           "#EF553B",
           "#00cc96",
           "#ab63fa",
           "#FFA15A",
           "#19d3f3",
           "#FF6692",
           "#B6E880",
           "#FF97FF",
           "#FECB52"
          ],
          "font": {
           "color": "#2a3f5f"
          },
          "geo": {
           "bgcolor": "white",
           "lakecolor": "white",
           "landcolor": "white",
           "showlakes": true,
           "showland": true,
           "subunitcolor": "#C8D4E3"
          },
          "hoverlabel": {
           "align": "left"
          },
          "hovermode": "closest",
          "mapbox": {
           "style": "light"
          },
          "paper_bgcolor": "white",
          "plot_bgcolor": "white",
          "polar": {
           "angularaxis": {
            "gridcolor": "#EBF0F8",
            "linecolor": "#EBF0F8",
            "ticks": ""
           },
           "bgcolor": "white",
           "radialaxis": {
            "gridcolor": "#EBF0F8",
            "linecolor": "#EBF0F8",
            "ticks": ""
           }
          },
          "scene": {
           "xaxis": {
            "backgroundcolor": "white",
            "gridcolor": "#DFE8F3",
            "gridwidth": 2,
            "linecolor": "#EBF0F8",
            "showbackground": true,
            "ticks": "",
            "zerolinecolor": "#EBF0F8"
           },
           "yaxis": {
            "backgroundcolor": "white",
            "gridcolor": "#DFE8F3",
            "gridwidth": 2,
            "linecolor": "#EBF0F8",
            "showbackground": true,
            "ticks": "",
            "zerolinecolor": "#EBF0F8"
           },
           "zaxis": {
            "backgroundcolor": "white",
            "gridcolor": "#DFE8F3",
            "gridwidth": 2,
            "linecolor": "#EBF0F8",
            "showbackground": true,
            "ticks": "",
            "zerolinecolor": "#EBF0F8"
           }
          },
          "shapedefaults": {
           "line": {
            "color": "#2a3f5f"
           }
          },
          "ternary": {
           "aaxis": {
            "gridcolor": "#DFE8F3",
            "linecolor": "#A2B1C6",
            "ticks": ""
           },
           "baxis": {
            "gridcolor": "#DFE8F3",
            "linecolor": "#A2B1C6",
            "ticks": ""
           },
           "bgcolor": "white",
           "caxis": {
            "gridcolor": "#DFE8F3",
            "linecolor": "#A2B1C6",
            "ticks": ""
           }
          },
          "title": {
           "x": 0.05
          },
          "xaxis": {
           "automargin": true,
           "gridcolor": "#EBF0F8",
           "linecolor": "#EBF0F8",
           "ticks": "",
           "title": {
            "standoff": 15
           },
           "zerolinecolor": "#EBF0F8",
           "zerolinewidth": 2
          },
          "yaxis": {
           "automargin": true,
           "gridcolor": "#EBF0F8",
           "linecolor": "#EBF0F8",
           "ticks": "",
           "title": {
            "standoff": 15
           },
           "zerolinecolor": "#EBF0F8",
           "zerolinewidth": 2
          }
         }
        },
        "title": {
         "text": "Price of the cheapest model with MMLU > 83%"
        },
        "width": 800,
        "xaxis": {
         "range": [
          "2022-12-01T00:00:00",
          "2024-07-31T00:00:00"
         ],
         "title": {
          "text": "Month"
         }
        },
        "yaxis": {
         "title": {
          "text": "Price in USD per million tokens"
         },
         "type": "log"
        }
       }
      }
     },
     "metadata": {},
     "output_type": "display_data"
    }
   ],
   "source": [
    "# Calculate annual rate of decrease\n",
    "annual_slope = exponential_model.params['date'] * 365  # Convert daily to annual\n",
    "annual_factor = int(round(10**(-annual_slope)))  # Convert log slope to factor\n",
    "\n",
    "# Plot the exponential trendline with the data\n",
    "fig = go.Figure()\n",
    "fig.add_trace(go.Scatter(\n",
    "    x=cheapest_models_df['Release Date'],\n",
    "    y=10**exponential_model.predict(cheapest_models_df['date']),\n",
    "    mode='lines',\n",
    "    name=f'Trendline: {annual_factor}x decrease per year',\n",
    "    line=dict(color='lightgrey', dash='dash')\n",
    "))\n",
    "fig.add_trace(go.Scatter(\n",
    "    x=cheapest_models_df['Release Date'],\n",
    "    y=cheapest_models_df['USD per 1M Tokens'],\n",
    "    mode='lines+markers+text',\n",
    "    name='Data',\n",
    "    text=cheapest_models_df['Model Name'],\n",
    "    textposition='bottom left',\n",
    "    line=dict(shape='hv')\n",
    "))\n",
    "fig.update_layout(\n",
    "    title=f'Price of the cheapest model with {bench} > {performance_lower_bound}%'\n",
    ")\n",
    "fig.update_traces(textposition='bottom left')\n",
    "fig.update_layout(yaxis_type='log')\n",
    "fig.update_layout(xaxis_title='Month')\n",
    "fig.update_layout(yaxis_title='Price in USD per million tokens')\n",
    "# Lower the lower x limit\n",
    "fig.update_layout(xaxis_range=[cheapest_models_df['Release Date'].min() - pd.Timedelta(days=90), cheapest_models_df['Release Date'].max()+pd.Timedelta(days=30)])\n",
    "fig.update_layout(\n",
    "    width=800,\n",
    "    height=600,\n",
    "    font=dict(size=10),\n",
    "    legend=dict(\n",
    "        yanchor=\"top\",\n",
    "        y=0.99,\n",
    "        xanchor=\"right\",\n",
    "        x=0.99,\n",
    "        bordercolor=\"lightgrey\",\n",
    "        borderwidth=1\n",
    "    )\n",
    ")\n",
    "if save:\n",
    "    save_plot(fig, results_dir, f'aa_cheapest_models_{bench}_above_{performance_lower_bound}_with_trendline')\n",
    "fig.show()"
   ]
  },
  {
   "cell_type": "markdown",
   "metadata": {},
   "source": [
    "## Regression on lowest-priced models above a performance lower bound"
   ]
  },
  {
   "cell_type": "code",
   "execution_count": 18,
   "metadata": {},
   "outputs": [
    {
     "name": "stdout",
     "output_type": "stream",
     "text": [
      "MMLU\n",
      "\n",
      "Performance lower bound: 10%\n",
      "2021-12-01 00:00:00 GPT-3 43.9 $60.00\n",
      "2022-10-01 00:00:00 GPT-3 43.9 $20.00\n",
      "2023-04-01 00:00:00 GPT-3.5 Turbo 68.0 $2.00\n",
      "2023-08-01 00:00:00 Llama-2-Chat-7B 13.0 $0.33\n",
      "2024-01-01 00:00:00 Llama 2-7B 45.3 $0.20\n",
      "2024-05-01 00:00:00 Llama 2-7B 45.3 $0.13\n",
      "2024-08-01 00:00:00 Llama-3.1-Instruct-8B 71.0 $0.10\n",
      "2024-10-01 00:00:00 Llama-3.2-Instruct-1B 35.0 $0.05\n",
      "\n",
      "Performance lower bound: 20%\n",
      "2021-12-01 00:00:00 GPT-3 43.9 $60.00\n",
      "2022-10-01 00:00:00 GPT-3 43.9 $20.00\n",
      "2023-04-01 00:00:00 GPT-3.5 Turbo 68.0 $2.00\n",
      "2023-08-01 00:00:00 Llama-2-Chat-13B 45.0 $0.56\n",
      "2024-01-01 00:00:00 Llama 2-7B 45.3 $0.20\n",
      "2024-05-01 00:00:00 Llama 2-7B 45.3 $0.13\n",
      "2024-08-01 00:00:00 Llama-3.1-Instruct-8B 71.0 $0.10\n",
      "2024-10-01 00:00:00 Llama-3.2-Instruct-1B 35.0 $0.05\n",
      "\n",
      "Performance lower bound: 30%\n",
      "2021-12-01 00:00:00 GPT-3 43.9 $60.00\n",
      "2022-10-01 00:00:00 GPT-3 43.9 $20.00\n",
      "2023-04-01 00:00:00 GPT-3.5 Turbo 68.0 $2.00\n",
      "2023-08-01 00:00:00 Llama-2-Chat-13B 45.0 $0.56\n",
      "2024-01-01 00:00:00 Llama 2-7B 45.3 $0.20\n",
      "2024-05-01 00:00:00 Llama 2-7B 45.3 $0.13\n",
      "2024-08-01 00:00:00 Llama-3.1-Instruct-8B 71.0 $0.10\n",
      "2024-10-01 00:00:00 Llama-3.2-Instruct-1B 35.0 $0.05\n",
      "\n",
      "Performance lower bound: 40%\n",
      "2021-12-01 00:00:00 GPT-3 43.9 $60.00\n",
      "2022-10-01 00:00:00 GPT-3 43.9 $20.00\n",
      "2023-04-01 00:00:00 GPT-3.5 Turbo 68.0 $2.00\n",
      "2023-08-01 00:00:00 Llama-2-Chat-13B 45.0 $0.56\n",
      "2024-01-01 00:00:00 Llama 2-7B 45.3 $0.20\n",
      "2024-05-01 00:00:00 Llama 2-7B 45.3 $0.13\n",
      "2024-08-01 00:00:00 Llama-3.1-Instruct-8B 71.0 $0.10\n",
      "2024-10-01 00:00:00 Llama-3.2-Instruct-3B 64.0 $0.08\n",
      "2024-11-01 00:00:00 Gemini-1.5-Flash-8B 75.0 $0.07\n",
      "\n",
      "Performance lower bound: 50%\n",
      "2022-12-01 00:00:00 GPT-3.5 64.8 $20.00\n",
      "2023-04-01 00:00:00 GPT-3.5 Turbo 68.0 $2.00\n",
      "2023-12-01 00:00:00 GPT-3.5 Turbo 68.0 $0.75\n",
      "2024-01-01 00:00:00 Llama 2-13B 54.8 $0.35\n",
      "2024-05-01 00:00:00 Llama-3-Instruct-8B 64.0 $0.15\n",
      "2024-06-01 00:00:00 Gemini-1.5-Flash-2024-05 79.0 $0.13\n",
      "2024-08-01 00:00:00 Llama-3.1-Instruct-8B 71.0 $0.10\n",
      "2024-10-01 00:00:00 Llama-3.2-Instruct-3B 64.0 $0.08\n",
      "2024-11-01 00:00:00 Gemini-1.5-Flash-8B 75.0 $0.07\n",
      "\n",
      "Performance lower bound: 60%\n",
      "2022-12-01 00:00:00 GPT-3.5 64.8 $20.00\n",
      "2023-04-01 00:00:00 GPT-3.5 Turbo 68.0 $2.00\n",
      "2023-12-01 00:00:00 GPT-3.5 Turbo 68.0 $0.75\n",
      "2024-04-01 00:00:00 Claude-3-Haiku 71.0 $0.50\n",
      "2024-05-01 00:00:00 Llama-3-Instruct-8B 64.0 $0.15\n",
      "2024-06-01 00:00:00 Gemini-1.5-Flash-2024-05 79.0 $0.13\n",
      "2024-08-01 00:00:00 Llama-3.1-Instruct-8B 71.0 $0.10\n",
      "2024-10-01 00:00:00 Llama-3.2-Instruct-3B 64.0 $0.08\n",
      "2024-11-01 00:00:00 Gemini-1.5-Flash-8B 75.0 $0.07\n",
      "\n",
      "Performance lower bound: 70%\n",
      "2023-04-01 00:00:00 GPT-4 86.0 $37.50\n",
      "2023-12-01 00:00:00 GPT-4 Turbo 87.0 $15.00\n",
      "2024-04-01 00:00:00 Claude-3-Haiku 71.0 $0.50\n",
      "2024-06-01 00:00:00 Gemini-1.5-Flash-2024-05 79.0 $0.13\n",
      "2024-08-01 00:00:00 Llama-3.1-Instruct-8B 71.0 $0.10\n",
      "2024-11-01 00:00:00 Gemini-1.5-Flash-8B 75.0 $0.07\n",
      "\n",
      "Performance lower bound: 80%\n",
      "2023-04-01 00:00:00 GPT-4 86.0 $37.50\n",
      "2023-12-01 00:00:00 GPT-4 Turbo 87.0 $15.00\n",
      "2024-06-01 00:00:00 Gemini-1.5-Pro-2024-05 86.0 $2.19\n",
      "2024-07-01 00:00:00 Claude-3.5-Haiku 81.0 $1.60\n",
      "2024-08-01 00:00:00 GPT-4o-mini 82.0 $0.26\n",
      "\n",
      "Performance lower bound: 90%\n",
      "Less than 2 models found\n",
      "\n",
      "\n",
      "GPQA Diamond\n",
      "\n",
      "Performance lower bound: 10%\n",
      "2023-04-01 00:00:00 GPT-4 33.0 $37.50\n",
      "2023-07-01 00:00:00 GPT-3.5 Turbo 28.8 $3.25\n",
      "2023-08-01 00:00:00 Llama-2-Chat-13B 19.0 $0.56\n",
      "2024-04-01 00:00:00 Claude-3-Haiku 33.0 $0.50\n",
      "2024-05-01 00:00:00 Llama-3-Instruct-8B 30.0 $0.15\n",
      "2024-06-01 00:00:00 Gemini-1.5-Flash-2024-05 39.0 $0.13\n",
      "2024-08-01 00:00:00 Llama-3.1-Instruct-8B 27.0 $0.10\n",
      "2024-10-01 00:00:00 Llama-3.2-Instruct-1B 14.0 $0.05\n",
      "\n",
      "Performance lower bound: 20%\n",
      "2023-04-01 00:00:00 GPT-4 33.0 $37.50\n",
      "2023-07-01 00:00:00 GPT-3.5 Turbo 28.8 $3.25\n",
      "2023-12-01 00:00:00 GPT-3.5 Turbo 30.0 $0.75\n",
      "2024-04-01 00:00:00 Claude-3-Haiku 33.0 $0.50\n",
      "2024-05-01 00:00:00 Llama-3-Instruct-8B 30.0 $0.15\n",
      "2024-06-01 00:00:00 Gemini-1.5-Flash-2024-05 39.0 $0.13\n",
      "2024-08-01 00:00:00 Llama-3.1-Instruct-8B 27.0 $0.10\n",
      "2024-10-01 00:00:00 Llama-3.2-Instruct-3B 21.0 $0.08\n",
      "2024-11-01 00:00:00 Gemini-1.5-Flash-8B 30.0 $0.07\n",
      "\n",
      "Performance lower bound: 30%\n",
      "2023-04-01 00:00:00 GPT-4 33.0 $37.50\n",
      "2023-12-01 00:00:00 GPT-4 Turbo 50.0 $15.00\n",
      "2024-03-01 00:00:00 Mistral-Small-2024-02 31.0 $1.50\n",
      "2024-04-01 00:00:00 Claude-3-Haiku 33.0 $0.50\n",
      "2024-06-01 00:00:00 Gemini-1.5-Flash-2024-05 39.0 $0.13\n",
      "\n",
      "Performance lower bound: 40%\n",
      "2023-12-01 00:00:00 GPT-4 Turbo 50.0 $15.00\n",
      "2024-06-01 00:00:00 Gemini-1.5-Pro-2024-05 46.0 $2.19\n",
      "2024-08-01 00:00:00 GPT-4o-mini 43.0 $0.26\n",
      "2024-10-01 00:00:00 Gemini-1.5-Flash-2024-09 45.0 $0.13\n",
      "\n",
      "Performance lower bound: 50%\n",
      "2024-06-01 00:00:00 GPT-4o-2024-05 51.0 $7.50\n",
      "2024-07-01 00:00:00 Claude-3.5-Sonnet-2024-06 56.0 $6.00\n",
      "2024-09-01 00:00:00 GPT-4o-2024-08 51.0 $4.38\n",
      "2024-10-01 00:00:00 Gemini-1.5-Pro-2024-09 61.0 $2.19\n",
      "\n",
      "Performance lower bound: 60%\n",
      "2024-10-01 00:00:00 Gemini-1.5-Pro-2024-09 61.0 $2.19\n",
      "Less than 2 models found\n",
      "\n",
      "Performance lower bound: 70%\n",
      "2025-01-01 00:00:00 o1 75.8 $26.25\n",
      "Less than 2 models found\n",
      "\n",
      "Performance lower bound: 80%\n",
      "Less than 2 models found\n",
      "\n",
      "Performance lower bound: 90%\n",
      "Less than 2 models found\n",
      "\n",
      "\n",
      "MATH 5\n",
      "\n",
      "Performance lower bound: 10%\n",
      "2023-07-01 00:00:00 GPT-3.5 Turbo 15.0 $3.25\n",
      "2023-12-01 00:00:00 GPT-3.5 Turbo 15.0 $0.75\n",
      "2024-04-01 00:00:00 Claude-3-Haiku 13.0 $0.50\n",
      "2024-06-01 00:00:00 Gemini-1.5-Flash-2024-05 23.0 $0.13\n",
      "2024-08-01 00:00:00 Llama-3.1-Instruct-8B 22.0 $0.10\n",
      "\n",
      "Performance lower bound: 20%\n",
      "2023-12-01 00:00:00 GPT-4 Turbo 36.0 $15.00\n",
      "2024-03-01 00:00:00 Mistral-Large-2024-02 21.0 $6.00\n",
      "2024-05-01 00:00:00 Llama-3-Instruct-70B 22.0 $0.89\n",
      "2024-06-01 00:00:00 Gemini-1.5-Flash-2024-05 23.0 $0.13\n",
      "2024-08-01 00:00:00 Llama-3.1-Instruct-8B 22.0 $0.10\n",
      "\n",
      "Performance lower bound: 30%\n",
      "2023-12-01 00:00:00 GPT-4 Turbo 36.0 $15.00\n",
      "2024-06-01 00:00:00 GPT-4o-2024-05 48.0 $7.50\n",
      "2024-07-01 00:00:00 Mistral-Large-2-2024-06 44.0 $3.00\n",
      "2024-08-01 00:00:00 GPT-4o-mini 48.0 $0.26\n",
      "2024-10-01 00:00:00 Gemini-1.5-Flash-2024-09 58.0 $0.13\n",
      "\n",
      "Performance lower bound: 40%\n",
      "2024-06-01 00:00:00 GPT-4o-2024-05 48.0 $7.50\n",
      "2024-07-01 00:00:00 Mistral-Large-2-2024-06 44.0 $3.00\n",
      "2024-08-01 00:00:00 GPT-4o-mini 48.0 $0.26\n",
      "2024-10-01 00:00:00 Gemini-1.5-Flash-2024-09 58.0 $0.13\n",
      "\n",
      "Performance lower bound: 50%\n",
      "2024-10-01 00:00:00 Gemini-1.5-Flash-2024-09 58.0 $0.13\n",
      "Less than 2 models found\n",
      "\n",
      "Performance lower bound: 60%\n",
      "2024-10-01 00:00:00 Gemini-1.5-Pro-2024-09 67.0 $2.19\n",
      "Less than 2 models found\n",
      "\n",
      "Performance lower bound: 70%\n",
      "2024-10-01 00:00:00 o1-mini 84.3 $5.25\n",
      "Less than 2 models found\n",
      "\n",
      "Performance lower bound: 80%\n",
      "2024-10-01 00:00:00 o1-mini 84.3 $5.25\n",
      "Less than 2 models found\n",
      "\n",
      "Performance lower bound: 90%\n",
      "2025-01-01 00:00:00 o1 94.4 $26.25\n",
      "Less than 2 models found\n",
      "\n",
      "\n",
      "MATH-500\n",
      "\n",
      "Performance lower bound: 10%\n",
      "2023-04-01 00:00:00 GPT-4 21.0 $37.50\n",
      "2023-07-01 00:00:00 GPT-3.5 Turbo 44.0 $3.25\n",
      "2023-12-01 00:00:00 GPT-3.5 Turbo 44.0 $0.75\n",
      "2024-04-01 00:00:00 Claude-3-Haiku 39.0 $0.50\n",
      "2024-05-01 00:00:00 Llama-3-Instruct-8B 32.0 $0.15\n",
      "2024-06-01 00:00:00 Gemini-1.5-Flash-2024-05 55.0 $0.13\n",
      "2024-08-01 00:00:00 Llama-3.1-Instruct-8B 50.0 $0.10\n",
      "2024-10-01 00:00:00 Llama-3.2-Instruct-1B 13.0 $0.05\n",
      "\n",
      "Performance lower bound: 20%\n",
      "2023-04-01 00:00:00 GPT-4 21.0 $37.50\n",
      "2023-07-01 00:00:00 GPT-3.5 Turbo 44.0 $3.25\n",
      "2023-12-01 00:00:00 GPT-3.5 Turbo 44.0 $0.75\n",
      "2024-04-01 00:00:00 Claude-3-Haiku 39.0 $0.50\n",
      "2024-05-01 00:00:00 Llama-3-Instruct-8B 32.0 $0.15\n",
      "2024-06-01 00:00:00 Gemini-1.5-Flash-2024-05 55.0 $0.13\n",
      "2024-08-01 00:00:00 Llama-3.1-Instruct-8B 50.0 $0.10\n",
      "2024-10-01 00:00:00 Llama-3.2-Instruct-3B 50.0 $0.08\n",
      "2024-11-01 00:00:00 Gemini-1.5-Flash-8B 70.0 $0.07\n",
      "\n",
      "Performance lower bound: 30%\n",
      "2023-07-01 00:00:00 GPT-3.5 Turbo 44.0 $3.25\n",
      "2023-12-01 00:00:00 GPT-3.5 Turbo 44.0 $0.75\n",
      "2024-04-01 00:00:00 Claude-3-Haiku 39.0 $0.50\n",
      "2024-05-01 00:00:00 Llama-3-Instruct-8B 32.0 $0.15\n",
      "2024-06-01 00:00:00 Gemini-1.5-Flash-2024-05 55.0 $0.13\n",
      "2024-08-01 00:00:00 Llama-3.1-Instruct-8B 50.0 $0.10\n",
      "2024-10-01 00:00:00 Llama-3.2-Instruct-3B 50.0 $0.08\n",
      "2024-11-01 00:00:00 Gemini-1.5-Flash-8B 70.0 $0.07\n",
      "\n",
      "Performance lower bound: 40%\n",
      "2023-07-01 00:00:00 GPT-3.5 Turbo 44.0 $3.25\n",
      "2023-12-01 00:00:00 GPT-3.5 Turbo 44.0 $0.75\n",
      "2024-06-01 00:00:00 Gemini-1.5-Flash-2024-05 55.0 $0.13\n",
      "2024-08-01 00:00:00 Llama-3.1-Instruct-8B 50.0 $0.10\n",
      "2024-10-01 00:00:00 Llama-3.2-Instruct-3B 50.0 $0.08\n",
      "2024-11-01 00:00:00 Gemini-1.5-Flash-8B 70.0 $0.07\n",
      "\n",
      "Performance lower bound: 50%\n",
      "2023-12-01 00:00:00 GPT-4 Turbo 74.0 $15.00\n",
      "2024-03-01 00:00:00 Mistral-Small-2024-02 56.0 $1.50\n",
      "2024-05-01 00:00:00 Llama-3-Instruct-70B 53.0 $0.89\n",
      "2024-06-01 00:00:00 Gemini-1.5-Flash-2024-05 55.0 $0.13\n",
      "2024-11-01 00:00:00 Gemini-1.5-Flash-8B 70.0 $0.07\n",
      "\n",
      "Performance lower bound: 60%\n",
      "2023-12-01 00:00:00 GPT-4 Turbo 74.0 $15.00\n",
      "2024-06-01 00:00:00 Gemini-1.5-Pro-2024-05 66.0 $2.19\n",
      "2024-07-01 00:00:00 Claude-3.5-Haiku 67.0 $1.60\n",
      "2024-08-01 00:00:00 GPT-4o-mini 79.0 $0.26\n",
      "2024-10-01 00:00:00 Gemini-1.5-Flash-2024-09 83.0 $0.13\n",
      "2024-11-01 00:00:00 Gemini-1.5-Flash-8B 70.0 $0.07\n",
      "\n",
      "Performance lower bound: 70%\n",
      "2023-12-01 00:00:00 GPT-4 Turbo 74.0 $15.00\n",
      "2024-06-01 00:00:00 GPT-4o-2024-05 79.0 $7.50\n",
      "2024-07-01 00:00:00 Mistral-Large-2-2024-06 71.0 $3.00\n",
      "2024-08-01 00:00:00 GPT-4o-mini 79.0 $0.26\n",
      "2024-10-01 00:00:00 Gemini-1.5-Flash-2024-09 83.0 $0.13\n",
      "\n",
      "Performance lower bound: 80%\n",
      "2024-10-01 00:00:00 Gemini-1.5-Flash-2024-09 83.0 $0.13\n",
      "Less than 2 models found\n",
      "\n",
      "Performance lower bound: 90%\n",
      "Less than 2 models found\n",
      "\n",
      "\n",
      "HumanEval\n",
      "\n",
      "Performance lower bound: 10%\n",
      "2023-04-01 00:00:00 GPT-4 67.0 $37.50\n",
      "2023-07-01 00:00:00 GPT-3.5 Turbo 71.0 $3.25\n",
      "2023-08-01 00:00:00 Llama-2-Chat-7B 13.0 $0.33\n",
      "2024-05-01 00:00:00 Llama-3-Instruct-8B 53.0 $0.15\n",
      "2024-07-01 00:00:00 Gemma-2-9B 64.0 $0.13\n",
      "2024-08-01 00:00:00 Llama-3.1-Instruct-8B 67.0 $0.10\n",
      "2024-10-01 00:00:00 Llama-3.2-Instruct-1B 40.0 $0.05\n",
      "\n",
      "Performance lower bound: 20%\n",
      "2023-04-01 00:00:00 GPT-4 67.0 $37.50\n",
      "2023-07-01 00:00:00 GPT-3.5 Turbo 71.0 $3.25\n",
      "2023-12-01 00:00:00 GPT-3.5 Turbo 71.0 $0.75\n",
      "2024-04-01 00:00:00 Claude-3-Haiku 77.0 $0.50\n",
      "2024-05-01 00:00:00 Llama-3-Instruct-8B 53.0 $0.15\n",
      "2024-07-01 00:00:00 Gemma-2-9B 64.0 $0.13\n",
      "2024-08-01 00:00:00 Llama-3.1-Instruct-8B 67.0 $0.10\n",
      "2024-10-01 00:00:00 Llama-3.2-Instruct-1B 40.0 $0.05\n",
      "\n",
      "Performance lower bound: 30%\n",
      "2023-04-01 00:00:00 GPT-4 67.0 $37.50\n",
      "2023-07-01 00:00:00 GPT-3.5 Turbo 71.0 $3.25\n",
      "2023-12-01 00:00:00 GPT-3.5 Turbo 71.0 $0.75\n",
      "2024-04-01 00:00:00 Claude-3-Haiku 77.0 $0.50\n",
      "2024-05-01 00:00:00 Llama-3-Instruct-8B 53.0 $0.15\n",
      "2024-07-01 00:00:00 Gemma-2-9B 64.0 $0.13\n",
      "2024-08-01 00:00:00 Llama-3.1-Instruct-8B 67.0 $0.10\n",
      "2024-10-01 00:00:00 Llama-3.2-Instruct-1B 40.0 $0.05\n",
      "\n",
      "Performance lower bound: 40%\n",
      "2023-04-01 00:00:00 GPT-4 67.0 $37.50\n",
      "2023-07-01 00:00:00 GPT-3.5 Turbo 71.0 $3.25\n",
      "2023-12-01 00:00:00 GPT-3.5 Turbo 71.0 $0.75\n",
      "2024-04-01 00:00:00 Claude-3-Haiku 77.0 $0.50\n",
      "2024-05-01 00:00:00 Llama-3-Instruct-8B 53.0 $0.15\n",
      "2024-07-01 00:00:00 Gemma-2-9B 64.0 $0.13\n",
      "2024-08-01 00:00:00 Llama-3.1-Instruct-8B 67.0 $0.10\n",
      "2024-10-01 00:00:00 Llama-3.2-Instruct-3B 60.0 $0.08\n",
      "\n",
      "Performance lower bound: 50%\n",
      "2023-04-01 00:00:00 GPT-4 67.0 $37.50\n",
      "2023-07-01 00:00:00 GPT-3.5 Turbo 71.0 $3.25\n",
      "2023-12-01 00:00:00 GPT-3.5 Turbo 71.0 $0.75\n",
      "2024-04-01 00:00:00 Claude-3-Haiku 77.0 $0.50\n",
      "2024-05-01 00:00:00 Llama-3-Instruct-8B 53.0 $0.15\n",
      "2024-07-01 00:00:00 Gemma-2-9B 64.0 $0.13\n",
      "2024-08-01 00:00:00 Llama-3.1-Instruct-8B 67.0 $0.10\n",
      "2024-10-01 00:00:00 Llama-3.2-Instruct-3B 60.0 $0.08\n",
      "\n",
      "Performance lower bound: 60%\n",
      "2023-04-01 00:00:00 GPT-4 67.0 $37.50\n",
      "2023-07-01 00:00:00 GPT-3.5 Turbo 71.0 $3.25\n",
      "2023-12-01 00:00:00 GPT-3.5 Turbo 71.0 $0.75\n",
      "2024-04-01 00:00:00 Claude-3-Haiku 77.0 $0.50\n",
      "2024-07-01 00:00:00 Gemma-2-9B 64.0 $0.13\n",
      "2024-08-01 00:00:00 Llama-3.1-Instruct-8B 67.0 $0.10\n",
      "\n",
      "Performance lower bound: 70%\n",
      "2023-07-01 00:00:00 GPT-3.5 Turbo 71.0 $3.25\n",
      "2023-12-01 00:00:00 GPT-3.5 Turbo 71.0 $0.75\n",
      "2024-04-01 00:00:00 Claude-3-Haiku 77.0 $0.50\n",
      "2024-07-01 00:00:00 Mistral-NeMo 71.0 $0.13\n",
      "\n",
      "Performance lower bound: 80%\n",
      "2023-12-01 00:00:00 GPT-4 Turbo 92.0 $15.00\n",
      "2024-06-01 00:00:00 GPT-4o-2024-05 93.0 $7.50\n",
      "2024-07-01 00:00:00 Claude-3.5-Haiku 87.0 $1.60\n",
      "2024-08-01 00:00:00 GPT-4o-mini 88.0 $0.26\n",
      "2024-10-01 00:00:00 Gemini-1.5-Flash-2024-09 83.0 $0.13\n",
      "\n",
      "Performance lower bound: 90%\n",
      "2023-12-01 00:00:00 GPT-4 Turbo 92.0 $15.00\n",
      "2024-06-01 00:00:00 GPT-4o-2024-05 93.0 $7.50\n",
      "2024-07-01 00:00:00 Mistral-Large-2-2024-06 91.0 $3.00\n"
     ]
    }
   ],
   "source": [
    "performance_lower_bounds = range(10, 100, 10)\n",
    "os.makedirs(results_dir + 'aa_cheapest_models_run/', exist_ok=True)\n",
    "\n",
    "# Open log file\n",
    "log_path = results_dir + 'aa_cheapest_models_run/output.log'\n",
    "results = []\n",
    "with open(log_path, 'w') as log_file:\n",
    "    for i, bench in enumerate(benchmarks):\n",
    "        if i > 0:\n",
    "            print('\\n')\n",
    "            print('\\n', file=log_file)\n",
    "        print(f'{bench}')\n",
    "        print(f'{bench}', file=log_file)\n",
    "\n",
    "        \n",
    "\n",
    "        for performance_lower_bound in performance_lower_bounds:\n",
    "            print(f'\\nPerformance lower bound: {performance_lower_bound}%')\n",
    "            print(f'\\nPerformance lower bound: {performance_lower_bound}%', file=log_file)\n",
    "            ts = pd.date_range(start='2020-01-01', end='2025-01-01', freq='MS')\n",
    "            cheapest_models = []\n",
    "            current_best = None\n",
    "\n",
    "            for i, t in enumerate(ts):\n",
    "                # Get models published in this time window\n",
    "                benchmark_df = aa_df\n",
    "                if i > 0:\n",
    "                    prev_t = ts[i-1]\n",
    "                    benchmark_df = benchmark_df[(benchmark_df['Release Date'] >= prev_t) & (benchmark_df['Release Date'] < t)]\n",
    "                else:\n",
    "                    benchmark_df = benchmark_df[benchmark_df['Release Date'] < t]\n",
    "                    \n",
    "                # Filter for performance\n",
    "                benchmark_df = benchmark_df[benchmark_df[bench].notna()]\n",
    "                benchmark_df = benchmark_df[benchmark_df[bench] > performance_lower_bound]\n",
    "                \n",
    "                if not benchmark_df.empty:\n",
    "                    # Find cheapest new model\n",
    "                    new_best = benchmark_df.loc[benchmark_df['USD per 1M Tokens'].idxmin()]\n",
    "                    \n",
    "                    # Update current best if new model is cheaper (or if no current best)\n",
    "                    if current_best is None or new_best['USD per 1M Tokens'] < current_best['USD per 1M Tokens']:\n",
    "                        current_best = new_best\n",
    "                        cheapest_models.append(current_best)\n",
    "                        print(t, current_best['Model Name'], current_best[bench], f\"${current_best['USD per 1M Tokens']:.2f}\")\n",
    "                        print(t, current_best['Model Name'], current_best[bench], f\"${current_best['USD per 1M Tokens']:.2f}\", file=log_file)\n",
    "\n",
    "            cheapest_models_df = pd.DataFrame(cheapest_models)\n",
    "            if len(cheapest_models_df) < 2:\n",
    "                print('Less than 2 models found')\n",
    "                print('Less than 2 models found', file=log_file)\n",
    "                continue\n",
    "\n",
    "            # Fit a line to the data\n",
    "            cheapest_models_df['price'] = cheapest_models_df['USD per 1M Tokens']\n",
    "            cheapest_models_df['log_price'] = np.log10(cheapest_models_df['USD per 1M Tokens'])\n",
    "            cheapest_models_df['date'] = cheapest_models_df['Release Date'].map(lambda x: pd.Timestamp(x).toordinal())\n",
    "            exponential_model = smf.ols('log_price ~ date', data=cheapest_models_df).fit()\n",
    "\n",
    "            # Calculate annual rate of decrease\n",
    "            annual_slope = exponential_model.params['date'] * 365  # Convert daily to annual\n",
    "            annual_factor = int(round(10**(-annual_slope)))  # Convert log slope to factor\n",
    "            results.append({\n",
    "                'bench': bench,\n",
    "                'performance_lower_bound': performance_lower_bound,\n",
    "                'sample_size': len(cheapest_models_df),\n",
    "                'start_date': cheapest_models_df['Release Date'].min(),\n",
    "                'end_date': cheapest_models_df['Release Date'].max(),\n",
    "                'price_reduction_factor_per_year': annual_factor,\n",
    "                'r_squared': round(exponential_model.rsquared, 2),\n",
    "            })\n",
    "\n",
    "            # Plot the exponential trendline with the data\n",
    "            fig = go.Figure()\n",
    "            fig.add_trace(go.Scatter(\n",
    "                x=cheapest_models_df['Release Date'],\n",
    "                y=10**exponential_model.predict(cheapest_models_df['date']),\n",
    "                mode='lines',\n",
    "                name=f'Trendline: {annual_factor}x decrease per year',\n",
    "                line=dict(color='lightgrey', dash='dash')\n",
    "            ))\n",
    "            fig.add_trace(go.Scatter(\n",
    "                x=cheapest_models_df['Release Date'],\n",
    "                y=cheapest_models_df['USD per 1M Tokens'],\n",
    "                mode='lines+markers+text',\n",
    "                name='Data',\n",
    "                text=cheapest_models_df['Model Name'],\n",
    "                textposition='bottom left',\n",
    "                line=dict(shape='hv')\n",
    "            ))\n",
    "            fig.update_layout(\n",
    "                title=f'Price of the cheapest model with {bench} > {performance_lower_bound}%'\n",
    "            )\n",
    "            fig.update_traces(textposition='bottom left')\n",
    "            fig.update_layout(yaxis_type='log')\n",
    "            fig.update_layout(xaxis_title='Month')\n",
    "            fig.update_layout(yaxis_title='Price in USD per million tokens')\n",
    "            # Lower the lower x limit\n",
    "            fig.update_layout(xaxis_range=[cheapest_models_df['Release Date'].min() - pd.Timedelta(days=90), cheapest_models_df['Release Date'].max()+pd.Timedelta(days=30)])\n",
    "            fig.update_layout(\n",
    "                width=800,\n",
    "                height=600,\n",
    "                font=dict(size=10),\n",
    "                legend=dict(\n",
    "                    yanchor=\"top\",\n",
    "                    y=0.99,\n",
    "                    xanchor=\"right\",\n",
    "                    x=0.99,\n",
    "                    bordercolor=\"lightgrey\",\n",
    "                    borderwidth=1\n",
    "                )\n",
    "            )\n",
    "            if save:\n",
    "                save_plot(\n",
    "                    fig,\n",
    "                    results_dir + 'aa_cheapest_models_run/',\n",
    "                    f'aa_cheapest_models_{bench}_above_{performance_lower_bound}_with_trendline',\n",
    "                    extensions=['png'],\n",
    "                )\n",
    "\n",
    "cheapest_model_results_df = pd.DataFrame(results)\n",
    "cheapest_model_results_df.to_csv(results_dir + 'aa_cheapest_models_run/cheapest_model_results.csv', index=False)\n",
    "\n",
    "# Create a summary DataFrame\n",
    "summary_data = []\n",
    "for bench in benchmarks:\n",
    "    bench_results = cheapest_model_results_df[cheapest_model_results_df['bench'] == bench]\n",
    "    # Get all performance lower bounds used for this benchmark\n",
    "    perf_bounds = sorted(list(set(bench_results['performance_lower_bound'])))\n",
    "    \n",
    "    # Calculate geometric mean of price reduction factors\n",
    "    price_factors = bench_results['price_reduction_factor_per_year'].dropna()\n",
    "    geomean = np.exp(np.mean(np.log(price_factors))) if len(price_factors) > 0 else np.nan\n",
    "    \n",
    "    # Get range of price reduction factors\n",
    "    factor_range = [price_factors.min(), price_factors.max()] if len(price_factors) > 0 else []\n",
    "    \n",
    "    summary_data.append({\n",
    "        'bench': bench,\n",
    "        'performance_lower_bounds': perf_bounds,\n",
    "        'price_reduction_factor_per_year_geomean': round(geomean),\n",
    "        'price_reduction_factor_per_year_range': factor_range\n",
    "    })\n",
    "\n",
    "cheapest_model_summary_df = pd.DataFrame(summary_data)\n",
    "cheapest_model_summary_df.to_csv(results_dir + 'aa_cheapest_models_run/cheapest_model_summary.csv', index=False)"
   ]
  },
  {
   "cell_type": "markdown",
   "metadata": {},
   "source": [
    "## Regression on top models by price-performance, one benchmark at a time"
   ]
  },
  {
   "cell_type": "code",
   "execution_count": 19,
   "metadata": {},
   "outputs": [],
   "source": [
    "top_n = 1\n",
    "results_subdir = f'aa_top_{top_n}_price_performance_run/'\n",
    "os.makedirs(results_dir + results_subdir, exist_ok=True)\n",
    "\n",
    "# Open log file\n",
    "results = []\n",
    "for bench in benchmarks:\n",
    "    benchmark_df = aa_df.copy()\n",
    "    benchmark_df = benchmark_df.dropna(subset=[bench])\n",
    "    benchmark_df = benchmark_df.sort_values(by='Release Date')\n",
    "    benchmark_df[f'{bench} price-performance'] = benchmark_df[bench] / benchmark_df['USD per 1M Tokens']\n",
    "\n",
    "    # Find the rolling top-n models\n",
    "    unique_dates = benchmark_df['Release Date'].unique()\n",
    "    ever_top_n_models = set()\n",
    "    for date in unique_dates:\n",
    "        df_up_to_date = benchmark_df[benchmark_df['Release Date'] <= date]\n",
    "        top_n_models = df_up_to_date.nlargest(top_n, f'{bench} price-performance')\n",
    "        top_n_model_names = top_n_models['Model Name and Date'].tolist()\n",
    "        ever_top_n_models.update(top_n_model_names)\n",
    "    ever_top_n_list = sorted(ever_top_n_models)\n",
    "    benchmark_df = benchmark_df[benchmark_df['Model Name and Date'].isin(ever_top_n_list)]\n",
    "\n",
    "    if len(benchmark_df) < 2:\n",
    "        print(f'Less than 2 models found for {bench}')\n",
    "        continue\n",
    "\n",
    "    # Fit a line to the data\n",
    "    benchmark_df['price'] = benchmark_df['USD per 1M Tokens']\n",
    "    benchmark_df['log_price'] = np.log10(benchmark_df['USD per 1M Tokens'])\n",
    "    benchmark_df['bench'] = benchmark_df[bench]\n",
    "    benchmark_df['date'] = benchmark_df['Release Date'].map(lambda x: pd.Timestamp(x).toordinal())\n",
    "    exponential_model = smf.ols('log_price ~ date + bench', data=benchmark_df).fit()\n",
    "\n",
    "    # Calculate annual rate of decrease\n",
    "    annual_slope = exponential_model.params['date'] * 365  # Convert daily to annual\n",
    "    annual_factor = int(round(10**(-annual_slope)))  # Convert log slope to factor\n",
    "    annual_slope_ci = exponential_model.conf_int(alpha=0.1).loc['date']\n",
    "    annual_slope_ci_high = int(round(10**(-annual_slope_ci[0] * 365)))\n",
    "    annual_slope_ci_low = int(round(10**(-annual_slope_ci[1] * 365)))\n",
    "    results.append({\n",
    "        'bench': bench,\n",
    "        'sample_size': len(benchmark_df),\n",
    "        'start_date': benchmark_df['Release Date'].min(),\n",
    "        'end_date': benchmark_df['Release Date'].max(),\n",
    "        'price_reduction_factor_per_year_mean': annual_factor,\n",
    "        'price_reduction_factor_per_year_ci': [annual_slope_ci_low, annual_slope_ci_high],\n",
    "        'r_squared': round(exponential_model.rsquared, 2),\n",
    "    })\n",
    "\n",
    "    # Plot the exponential trendline with the data\n",
    "    fig = go.Figure()\n",
    "    fig.add_trace(go.Scatter(\n",
    "        x=benchmark_df['Release Date'],\n",
    "        y=10**exponential_model.predict(benchmark_df),\n",
    "        mode='lines',\n",
    "        name=f'Regression: {annual_factor}x decrease per year at fixed performance',\n",
    "        line=dict(color='lightgrey', dash='dash')\n",
    "    ))\n",
    "    fig.add_trace(go.Scatter(\n",
    "        x=benchmark_df['Release Date'],\n",
    "        y=benchmark_df['USD per 1M Tokens'],\n",
    "        mode='markers+text',\n",
    "        name='Model with the best price-performance at the time',\n",
    "        text=benchmark_df['Model Name'],\n",
    "        textposition='bottom left',\n",
    "    ))\n",
    "    fig.update_layout(\n",
    "        title=f'Price of models with the best price-performance on {bench}'\n",
    "    )\n",
    "    fig.update_traces(textposition='bottom left')\n",
    "    fig.update_layout(yaxis_type='log')\n",
    "    fig.update_layout(xaxis_title='Month')\n",
    "    fig.update_layout(yaxis_title='Price in USD per million tokens')\n",
    "    # Lower the lower x limit\n",
    "    fig.update_layout(xaxis_range=[benchmark_df['Release Date'].min() - pd.Timedelta(days=90), benchmark_df['Release Date'].max()+pd.Timedelta(days=30)])\n",
    "    fig.update_layout(\n",
    "        width=800,\n",
    "        height=600,\n",
    "        font=dict(size=10),\n",
    "        legend=dict(\n",
    "            yanchor=\"top\",\n",
    "            y=0.99,\n",
    "            xanchor=\"right\",\n",
    "            x=0.99,\n",
    "            bordercolor=\"lightgrey\",\n",
    "            borderwidth=1\n",
    "        )\n",
    "    )\n",
    "    if save:\n",
    "        save_plot(\n",
    "            fig,\n",
    "            results_dir + results_subdir,\n",
    "            f'top_{top_n}_price_performance_{bench}_with_trendline',\n",
    "            extensions=['png'],\n",
    "        )\n",
    "\n",
    "top_n_price_performance_results_df = pd.DataFrame(results)\n",
    "top_n_price_performance_results_df.to_csv(results_dir + results_subdir + 'top_n_price_performance_results.csv', index=False)"
   ]
  },
  {
   "cell_type": "markdown",
   "metadata": {},
   "source": [
    "## Regression on all data, one benchmark at a time"
   ]
  },
  {
   "cell_type": "code",
   "execution_count": 20,
   "metadata": {},
   "outputs": [
    {
     "name": "stdout",
     "output_type": "stream",
     "text": [
      "                            OLS Regression Results                            \n",
      "==============================================================================\n",
      "Dep. Variable:              log_price   R-squared:                       0.514\n",
      "Model:                            OLS   Adj. R-squared:                  0.495\n",
      "Method:                 Least Squares   F-statistic:                     28.01\n",
      "Date:                Mon, 10 Feb 2025   Prob (F-statistic):           5.02e-09\n",
      "Time:                        13:10:19   Log-Likelihood:                -48.089\n",
      "No. Observations:                  56   AIC:                             102.2\n",
      "Df Residuals:                      53   BIC:                             108.3\n",
      "Df Model:                           2                                         \n",
      "Covariance Type:            nonrobust                                         \n",
      "==============================================================================\n",
      "                 coef    std err          t      P>|t|      [0.025      0.975]\n",
      "------------------------------------------------------------------------------\n",
      "Intercept   2143.3714    303.000      7.074      0.000    1535.630    2751.113\n",
      "date          -0.0029      0.000     -7.076      0.000      -0.004      -0.002\n",
      "bench          0.0332      0.006      5.729      0.000       0.022       0.045\n",
      "==============================================================================\n",
      "Omnibus:                        3.292   Durbin-Watson:                   1.937\n",
      "Prob(Omnibus):                  0.193   Jarque-Bera (JB):                1.891\n",
      "Skew:                           0.182   Prob(JB):                        0.389\n",
      "Kurtosis:                       2.177   Cond. No.                     2.85e+09\n",
      "==============================================================================\n",
      "\n",
      "Notes:\n",
      "[1] Standard Errors assume that the covariance matrix of the errors is correctly specified.\n",
      "[2] The condition number is large, 2.85e+09. This might indicate that there are\n",
      "strong multicollinearity or other numerical problems.\n"
     ]
    }
   ],
   "source": [
    "# Fit a regression to log_price ~ date + bench\n",
    "bench = 'MMLU'\n",
    "aa_df['log_price'] = np.log10(aa_df['USD per 1M Tokens'])\n",
    "aa_df['date'] = aa_df['Release Date'].map(lambda x: pd.Timestamp(x).toordinal())\n",
    "aa_df['bench'] = aa_df[bench]\n",
    "\n",
    "# Fit the model\n",
    "model = smf.ols('log_price ~ date + bench', data=aa_df).fit()\n",
    "print(model.summary())"
   ]
  },
  {
   "cell_type": "code",
   "execution_count": 21,
   "metadata": {},
   "outputs": [
    {
     "name": "stdout",
     "output_type": "stream",
     "text": [
      "Intercept    2143.371352\n",
      "date           -0.002904\n",
      "bench           0.033162\n",
      "dtype: float64\n",
      "                     0            1\n",
      "Intercept  1535.629985  2751.112718\n",
      "date         -0.003727    -0.002081\n",
      "bench         0.021552     0.044772\n"
     ]
    }
   ],
   "source": [
    "print(model.params)\n",
    "print(model.conf_int())\n"
   ]
  },
  {
   "cell_type": "code",
   "execution_count": 22,
   "metadata": {},
   "outputs": [
    {
     "name": "stdout",
     "output_type": "stream",
     "text": [
      "It costs 11x less each year to keep MMLU performance fixed.\n"
     ]
    }
   ],
   "source": [
    "# Date parameter\n",
    "date_param = model.params['date'] * 365  # Convert daily to annual\n",
    "annual_factor = int(round(10**(-date_param)))  # Convert log slope to factor\n",
    "print(f'It costs {annual_factor}x less each year to keep {bench} performance fixed.')"
   ]
  },
  {
   "cell_type": "code",
   "execution_count": 23,
   "metadata": {},
   "outputs": [
    {
     "data": {
      "text/plain": [
       "-0.003726549630275529"
      ]
     },
     "execution_count": 23,
     "metadata": {},
     "output_type": "execute_result"
    }
   ],
   "source": [
    "model.conf_int().loc['date'][0]\n"
   ]
  },
  {
   "cell_type": "code",
   "execution_count": 24,
   "metadata": {},
   "outputs": [
    {
     "name": "stdout",
     "output_type": "stream",
     "text": [
      "MMLU\n",
      "Number of observations: 56\n",
      "R-squared: 0.51\n",
      "The price to achieve a fixed level of MMLU performance fell at a rate of\n",
      "11x [6, 20] per year\n",
      "over 3.0 years (2021-11-20 to 2024-11-01)\n",
      "\n",
      "GPQA Diamond\n",
      "Number of observations: 48\n",
      "R-squared: 0.51\n",
      "The price to achieve a fixed level of GPQA Diamond performance fell at a rate of\n",
      "9x [4, 22] per year\n",
      "over 1.9 years (2023-03-01 to 2025-01-31)\n",
      "\n",
      "MATH 5\n",
      "Number of observations: 35\n",
      "R-squared: 0.19\n",
      "The price to achieve a fixed level of MATH 5 performance fell at a rate of\n",
      "6x [1, 39] per year\n",
      "over 1.6 years (2023-06-13 to 2025-01-31)\n",
      "\n",
      "MATH-500\n",
      "Number of observations: 35\n",
      "R-squared: 0.46\n",
      "The price to achieve a fixed level of MATH-500 performance fell at a rate of\n",
      "36x [10, 130] per year\n",
      "over 1.7 years (2023-03-01 to 2024-11-01)\n",
      "\n",
      "HumanEval\n",
      "Number of observations: 33\n",
      "R-squared: 0.48\n",
      "The price to achieve a fixed level of HumanEval performance fell at a rate of\n",
      "12x [4, 35] per year\n",
      "over 1.7 years (2023-03-01 to 2024-11-01)\n",
      "\n"
     ]
    }
   ],
   "source": [
    "results = []\n",
    "for bench in benchmarks:\n",
    "    print(f'{bench}')\n",
    "    df = aa_df.copy()\n",
    "    df = df.dropna(subset=[bench])\n",
    "    df['bench'] = df[bench]\n",
    "\n",
    "    model = smf.ols('log_price ~ date + bench', data=df).fit()\n",
    "    # Print number of observations and R-squared\n",
    "    print(f'Number of observations: {len(df)}')\n",
    "    print(f'R-squared: {model.rsquared:.2f}')\n",
    "    date_param = model.params['date'] * 365  # Convert daily to annual\n",
    "    date_param_ci = model.conf_int(alpha=0.1).loc['date']\n",
    "    date_param_ci_low = date_param_ci[0] * 365\n",
    "    date_param_ci_high = date_param_ci[1] * 365\n",
    "    annual_factor = int(round(10**(-date_param)))  # Convert log slope to factor\n",
    "    annual_factor_ci_high = int(round(10**(-date_param_ci_low)))  # Convert log slope to factor\n",
    "    annual_factor_ci_low = int(round(10**(-date_param_ci_high)))  # Convert log slope to factor\n",
    "\n",
    "    min_date = pd.Timestamp.fromordinal(df[\"date\"].min()).date()\n",
    "    max_date = pd.Timestamp.fromordinal(df[\"date\"].max()).date()\n",
    "    date_range = max_date - min_date\n",
    "    results.append({\n",
    "        'bench': bench,\n",
    "        'sample_size': len(df),\n",
    "        'start_date': min_date,\n",
    "        'end_date': max_date,\n",
    "        'price_reduction_factor_per_year_mean': annual_factor,\n",
    "        'price_reduction_factor_per_year_ci': [annual_factor_ci_low, annual_factor_ci_high],\n",
    "        'r_squared': round(model.rsquared, 2),\n",
    "    })\n",
    "\n",
    "    print(f'The price to achieve a fixed level of {bench} performance fell at a rate of')\n",
    "    print(f'{annual_factor}x [{annual_factor_ci_low}, {annual_factor_ci_high}] per year')\n",
    "    print(f'over {date_range.days / 365:.1f} years ({min_date} to {max_date})')\n",
    "    print()\n",
    "\n",
    "single_benchmark_regression_results_df = pd.DataFrame(results)\n",
    "single_benchmark_regression_results_df.to_csv(results_dir + 'single_benchmark_regression_results.csv', index=False)"
   ]
  },
  {
   "cell_type": "markdown",
   "metadata": {},
   "source": [
    "## Regression on all data, all benchmarks at once"
   ]
  },
  {
   "cell_type": "code",
   "execution_count": 25,
   "metadata": {},
   "outputs": [
    {
     "name": "stdout",
     "output_type": "stream",
     "text": [
      "Number of observations: 25\n",
      "R-squared: 0.84\n",
      "The price to achieve a fixed level of performance fell at a rate of\n",
      "38x [11, 130] per year\n",
      "over 1.3 years (2023-06-13 to 2024-10-01)\n",
      "\n"
     ]
    }
   ],
   "source": [
    "df = aa_df.copy()\n",
    "# Rename benchmark columns to all lowercase, underscore separated\n",
    "new_bench_cols = [col.lower().replace(' ', '_').replace('-', '_') for col in benchmarks]\n",
    "df.rename(columns={bench: new_bench_cols[i] for i, bench in enumerate(benchmarks)}, inplace=True)\n",
    "df = df.dropna(subset=new_bench_cols)\n",
    "\n",
    "model = smf.ols('log_price ~ date + ' + ' + '.join(new_bench_cols), data=df).fit()\n",
    "# Print number of observations and R-squared\n",
    "print(f'Number of observations: {len(df)}')\n",
    "print(f'R-squared: {model.rsquared:.2f}')\n",
    "date_param = model.params['date'] * 365  # Convert daily to annual\n",
    "date_param_ci = model.conf_int(alpha=0.1).loc['date']\n",
    "date_param_ci_low = date_param_ci[0] * 365\n",
    "date_param_ci_high = date_param_ci[1] * 365\n",
    "annual_factor = int(round(10**(-date_param)))  # Convert log slope to factor\n",
    "annual_factor_ci_high = int(round(10**(-date_param_ci_low)))  # Convert log slope to factor\n",
    "annual_factor_ci_low = int(round(10**(-date_param_ci_high)))  # Convert log slope to factor\n",
    "\n",
    "min_date = pd.Timestamp.fromordinal(df[\"date\"].min()).date()\n",
    "max_date = pd.Timestamp.fromordinal(df[\"date\"].max()).date()\n",
    "date_range = max_date - min_date\n",
    "results = [{\n",
    "    'benchmarks': benchmarks,\n",
    "    'sample_size': len(df),\n",
    "    'start_date': min_date,\n",
    "    'end_date': max_date,\n",
    "    'price_reduction_factor_per_year_mean': annual_factor,\n",
    "    'price_reduction_factor_per_year_ci': [annual_factor_ci_low, annual_factor_ci_high],\n",
    "    'r_squared': round(model.rsquared, 2),\n",
    "}]\n",
    "\n",
    "print(f'The price to achieve a fixed level of performance fell at a rate of')\n",
    "print(f'{annual_factor}x [{annual_factor_ci_low}, {annual_factor_ci_high}] per year')\n",
    "print(f'over {date_range.days / 365:.1f} years ({min_date} to {max_date})')\n",
    "print()\n",
    "\n",
    "all_benchmarks_regression_results_df = pd.DataFrame(results)\n",
    "all_benchmarks_regression_results_df.to_csv(results_dir + 'all_benchmarks_regression_results.csv', index=False)"
   ]
  },
  {
   "cell_type": "markdown",
   "metadata": {},
   "source": [
    "## Regression on top models by price-performance on any benchmark, all benchmarks at once"
   ]
  },
  {
   "cell_type": "code",
   "execution_count": null,
   "metadata": {},
   "outputs": [],
   "source": []
  },
  {
   "cell_type": "markdown",
   "metadata": {},
   "source": [
    "## Summary and comparison of methods"
   ]
  },
  {
   "cell_type": "code",
   "execution_count": 26,
   "metadata": {},
   "outputs": [
    {
     "name": "stdout",
     "output_type": "stream",
     "text": [
      "MMLU trends\n",
      "Cheapest model at threshold: 20 [12, 96]\n",
      "Top model by price-performance: 18 [11, 28]\n",
      "Single benchmark regression: 11 [6, 20]\n",
      "All benchmarks regression: 38 [11, 130]\n",
      "\n",
      "GPQA Diamond trends\n",
      "Cheapest model at threshold: 68 [27, 331]\n",
      "Top model by price-performance: 46 [16, 135]\n",
      "Single benchmark regression: 9 [4, 22]\n",
      "All benchmarks regression: 38 [11, 130]\n",
      "\n",
      "MATH 5 trends\n",
      "Cheapest model at threshold: 1754 [27, 288635]\n",
      "Top model by price-performance: 31 [11, 83]\n",
      "Single benchmark regression: 6 [1, 39]\n",
      "All benchmarks regression: 38 [11, 130]\n",
      "\n",
      "MATH-500 trends\n",
      "Cheapest model at threshold: 87 [20, 390]\n",
      "Top model by price-performance: 55 [15, 198]\n",
      "Single benchmark regression: 36 [10, 130]\n",
      "All benchmarks regression: 38 [11, 130]\n",
      "\n",
      "HumanEval trends\n",
      "Cheapest model at threshold: 46 [10, 299]\n",
      "Top model by price-performance: 34 [14, 81]\n",
      "Single benchmark regression: 12 [4, 35]\n",
      "All benchmarks regression: 38 [11, 130]\n",
      "\n"
     ]
    }
   ],
   "source": [
    "# Compare the cheapest model results to the full regression results\n",
    "for bench in benchmarks:\n",
    "    print(f'{bench} trends')\n",
    "    cheapest_model_result = cheapest_model_summary_df[cheapest_model_summary_df['bench'] == bench].iloc[0]\n",
    "    top_n_price_performance_result = top_n_price_performance_results_df[top_n_price_performance_results_df['bench'] == bench].iloc[0]\n",
    "    single_benchmark_regression_result = single_benchmark_regression_results_df[single_benchmark_regression_results_df['bench'] == bench].iloc[0]\n",
    "    all_benchmarks_regression_result = all_benchmarks_regression_results_df.iloc[0]\n",
    "    print(\n",
    "        'Cheapest model at threshold:',\n",
    "        cheapest_model_result['price_reduction_factor_per_year_geomean'],\n",
    "        cheapest_model_result['price_reduction_factor_per_year_range'],\n",
    "    )\n",
    "    print(\n",
    "        'Top model by price-performance:',\n",
    "        top_n_price_performance_result['price_reduction_factor_per_year_mean'],\n",
    "        top_n_price_performance_result['price_reduction_factor_per_year_ci'],\n",
    "    )\n",
    "    print(\n",
    "        'Single benchmark regression:',\n",
    "        single_benchmark_regression_result['price_reduction_factor_per_year_mean'],\n",
    "        single_benchmark_regression_result['price_reduction_factor_per_year_ci'],\n",
    "    )\n",
    "    print(\n",
    "        'All benchmarks regression:',\n",
    "        all_benchmarks_regression_result['price_reduction_factor_per_year_mean'],\n",
    "        all_benchmarks_regression_result['price_reduction_factor_per_year_ci'],\n",
    "    )\n",
    "    print()"
   ]
  },
  {
   "cell_type": "code",
   "execution_count": null,
   "metadata": {},
   "outputs": [],
   "source": []
  }
 ],
 "metadata": {
  "kernelspec": {
   "display_name": "llm-efficiency",
   "language": "python",
   "name": "python3"
  },
  "language_info": {
   "codemirror_mode": {
    "name": "ipython",
    "version": 3
   },
   "file_extension": ".py",
   "mimetype": "text/x-python",
   "name": "python",
   "nbconvert_exporter": "python",
   "pygments_lexer": "ipython3",
   "version": "3.12.7"
  }
 },
 "nbformat": 4,
 "nbformat_minor": 2
}
