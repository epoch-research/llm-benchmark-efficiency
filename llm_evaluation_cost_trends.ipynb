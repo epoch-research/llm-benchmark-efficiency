{
 "cells": [
  {
   "cell_type": "code",
   "execution_count": 1,
   "metadata": {},
   "outputs": [],
   "source": [
    "from collections import defaultdict\n",
    "import numpy as np\n",
    "import os\n",
    "import pandas as pd\n",
    "import plotly.express as px\n",
    "import plotly.graph_objects as go\n",
    "import plotly.io as pio\n",
    "from plotly.subplots import make_subplots\n",
    "import statsmodels.formula.api as smf\n",
    "\n",
    "from data import load_pcd_df\n",
    "from plotting import save_plot\n",
    "\n",
    "pio.templates.default = \"plotly_white\""
   ]
  },
  {
   "cell_type": "code",
   "execution_count": 2,
   "metadata": {},
   "outputs": [],
   "source": [
    "results_dir = 'results/2025-03-04/'\n",
    "os.makedirs(results_dir, exist_ok=True)"
   ]
  },
  {
   "cell_type": "code",
   "execution_count": 3,
   "metadata": {},
   "outputs": [],
   "source": [
    "save = True\n",
    "benchmarks = ['MMLU', 'GPQA Diamond', 'MATH-500', 'MATH 5', 'HumanEval', 'LMSys Chatbot Arena ELO']\n",
    "benchmark_is_mqa = {'MMLU': True, 'GPQA Diamond': True, 'MATH 5': False, 'MATH-500': False, 'HumanEval': False, 'LMSys Chatbot Arena ELO': False}\n",
    "min_num_data_points_for_regression = 4\n",
    "minimum_date_for_cheapest_models = '2024-01-01'\n",
    "maximum_datespan_after_threshold_model = 365  # days"
   ]
  },
  {
   "cell_type": "markdown",
   "metadata": {},
   "source": [
    "## Load Artificial Analysis dataset"
   ]
  },
  {
   "cell_type": "code",
   "execution_count": 4,
   "metadata": {},
   "outputs": [
    {
     "data": {
      "text/html": [
       "<div>\n",
       "<style scoped>\n",
       "    .dataframe tbody tr th:only-of-type {\n",
       "        vertical-align: middle;\n",
       "    }\n",
       "\n",
       "    .dataframe tbody tr th {\n",
       "        vertical-align: top;\n",
       "    }\n",
       "\n",
       "    .dataframe thead th {\n",
       "        text-align: right;\n",
       "    }\n",
       "</style>\n",
       "<table border=\"1\" class=\"dataframe\">\n",
       "  <thead>\n",
       "    <tr style=\"text-align: right;\">\n",
       "      <th></th>\n",
       "      <th>Model Name</th>\n",
       "      <th>Release Date</th>\n",
       "      <th>USD per 1M Tokens</th>\n",
       "      <th>MMLU</th>\n",
       "      <th>GPQA Diamond</th>\n",
       "      <th>HumanEval</th>\n",
       "      <th>MATH-500</th>\n",
       "      <th>LMSys Chatbot Arena ELO</th>\n",
       "      <th>MATH 5</th>\n",
       "      <th>Tokens per Second</th>\n",
       "      <th>Prefill Latency (s)</th>\n",
       "      <th>Prompt Length (tk)</th>\n",
       "    </tr>\n",
       "  </thead>\n",
       "  <tbody>\n",
       "    <tr>\n",
       "      <th>0</th>\n",
       "      <td>Claude-3-Haiku</td>\n",
       "      <td>2024-03-04</td>\n",
       "      <td>0.5000</td>\n",
       "      <td>71</td>\n",
       "      <td>33</td>\n",
       "      <td>77.0</td>\n",
       "      <td>39.0</td>\n",
       "      <td>1179.0</td>\n",
       "      <td>13.0</td>\n",
       "      <td>122.7</td>\n",
       "      <td>0.467</td>\n",
       "      <td>1000.0</td>\n",
       "    </tr>\n",
       "    <tr>\n",
       "      <th>1</th>\n",
       "      <td>Claude-3-Opus</td>\n",
       "      <td>2024-03-04</td>\n",
       "      <td>30.0000</td>\n",
       "      <td>84</td>\n",
       "      <td>50</td>\n",
       "      <td>83.0</td>\n",
       "      <td>64.0</td>\n",
       "      <td>1248.0</td>\n",
       "      <td>34.0</td>\n",
       "      <td>26.5</td>\n",
       "      <td>1.984</td>\n",
       "      <td>1000.0</td>\n",
       "    </tr>\n",
       "    <tr>\n",
       "      <th>2</th>\n",
       "      <td>Claude-3-Sonnet</td>\n",
       "      <td>2024-03-04</td>\n",
       "      <td>6.0000</td>\n",
       "      <td>77</td>\n",
       "      <td>37</td>\n",
       "      <td>71.0</td>\n",
       "      <td>41.0</td>\n",
       "      <td>1201.0</td>\n",
       "      <td>16.0</td>\n",
       "      <td>61.8</td>\n",
       "      <td>0.789</td>\n",
       "      <td>1000.0</td>\n",
       "    </tr>\n",
       "    <tr>\n",
       "      <th>3</th>\n",
       "      <td>Claude-3.5-Haiku</td>\n",
       "      <td>2024-10-22</td>\n",
       "      <td>1.6000</td>\n",
       "      <td>81</td>\n",
       "      <td>37</td>\n",
       "      <td>87.0</td>\n",
       "      <td>67.0</td>\n",
       "      <td>1236.0</td>\n",
       "      <td>NaN</td>\n",
       "      <td>64.2</td>\n",
       "      <td>0.768</td>\n",
       "      <td>1000.0</td>\n",
       "    </tr>\n",
       "    <tr>\n",
       "      <th>4</th>\n",
       "      <td>Claude-3.5-Sonnet-2024-06</td>\n",
       "      <td>2024-06-20</td>\n",
       "      <td>6.0000</td>\n",
       "      <td>88</td>\n",
       "      <td>56</td>\n",
       "      <td>90.0</td>\n",
       "      <td>71.0</td>\n",
       "      <td>1268.0</td>\n",
       "      <td>46.0</td>\n",
       "      <td>55.9</td>\n",
       "      <td>0.906</td>\n",
       "      <td>1000.0</td>\n",
       "    </tr>\n",
       "    <tr>\n",
       "      <th>5</th>\n",
       "      <td>Claude-3.5-Sonnet-2024-10</td>\n",
       "      <td>2024-10-22</td>\n",
       "      <td>6.0000</td>\n",
       "      <td>89</td>\n",
       "      <td>58</td>\n",
       "      <td>96.0</td>\n",
       "      <td>76.0</td>\n",
       "      <td>1282.0</td>\n",
       "      <td>53.0</td>\n",
       "      <td>55.2</td>\n",
       "      <td>0.907</td>\n",
       "      <td>1000.0</td>\n",
       "    </tr>\n",
       "    <tr>\n",
       "      <th>6</th>\n",
       "      <td>Gemini 2.0 Flash</td>\n",
       "      <td>2025-02-05</td>\n",
       "      <td>0.1750</td>\n",
       "      <td>88</td>\n",
       "      <td>62</td>\n",
       "      <td>90.0</td>\n",
       "      <td>93.0</td>\n",
       "      <td>1358.0</td>\n",
       "      <td>82.0</td>\n",
       "      <td>NaN</td>\n",
       "      <td>NaN</td>\n",
       "      <td>NaN</td>\n",
       "    </tr>\n",
       "    <tr>\n",
       "      <th>7</th>\n",
       "      <td>Gemini-1.5-Flash-2024-05</td>\n",
       "      <td>2024-05-10</td>\n",
       "      <td>0.1300</td>\n",
       "      <td>79</td>\n",
       "      <td>39</td>\n",
       "      <td>NaN</td>\n",
       "      <td>55.0</td>\n",
       "      <td>1227.0</td>\n",
       "      <td>23.0</td>\n",
       "      <td>298.4</td>\n",
       "      <td>0.307</td>\n",
       "      <td>1000.0</td>\n",
       "    </tr>\n",
       "    <tr>\n",
       "      <th>8</th>\n",
       "      <td>Gemini-1.5-Flash-2024-09</td>\n",
       "      <td>2024-09-24</td>\n",
       "      <td>0.1300</td>\n",
       "      <td>75</td>\n",
       "      <td>45</td>\n",
       "      <td>83.0</td>\n",
       "      <td>83.0</td>\n",
       "      <td>1271.0</td>\n",
       "      <td>58.0</td>\n",
       "      <td>190.5</td>\n",
       "      <td>0.348</td>\n",
       "      <td>1000.0</td>\n",
       "    </tr>\n",
       "    <tr>\n",
       "      <th>9</th>\n",
       "      <td>Gemini-1.5-Flash-8B</td>\n",
       "      <td>2024-10-03</td>\n",
       "      <td>0.0700</td>\n",
       "      <td>75</td>\n",
       "      <td>30</td>\n",
       "      <td>12.0</td>\n",
       "      <td>70.0</td>\n",
       "      <td>1211.0</td>\n",
       "      <td>NaN</td>\n",
       "      <td>285.2</td>\n",
       "      <td>0.335</td>\n",
       "      <td>1000.0</td>\n",
       "    </tr>\n",
       "    <tr>\n",
       "      <th>10</th>\n",
       "      <td>Gemini-1.5-Pro-2024-05</td>\n",
       "      <td>2024-05-23</td>\n",
       "      <td>2.1900</td>\n",
       "      <td>86</td>\n",
       "      <td>46</td>\n",
       "      <td>83.0</td>\n",
       "      <td>66.0</td>\n",
       "      <td>1260.0</td>\n",
       "      <td>41.0</td>\n",
       "      <td>64.8</td>\n",
       "      <td>0.738</td>\n",
       "      <td>1000.0</td>\n",
       "    </tr>\n",
       "    <tr>\n",
       "      <th>11</th>\n",
       "      <td>Gemini-1.5-Pro-2024-09</td>\n",
       "      <td>2024-09-24</td>\n",
       "      <td>2.1900</td>\n",
       "      <td>86</td>\n",
       "      <td>61</td>\n",
       "      <td>88.0</td>\n",
       "      <td>88.0</td>\n",
       "      <td>1301.0</td>\n",
       "      <td>67.0</td>\n",
       "      <td>59.1</td>\n",
       "      <td>0.864</td>\n",
       "      <td>1000.0</td>\n",
       "    </tr>\n",
       "    <tr>\n",
       "      <th>12</th>\n",
       "      <td>Gemma-2-27B</td>\n",
       "      <td>2024-06-24</td>\n",
       "      <td>0.2600</td>\n",
       "      <td>77</td>\n",
       "      <td>39</td>\n",
       "      <td>76.0</td>\n",
       "      <td>54.0</td>\n",
       "      <td>1219.0</td>\n",
       "      <td>23.0</td>\n",
       "      <td>47.9</td>\n",
       "      <td>0.527</td>\n",
       "      <td>1000.0</td>\n",
       "    </tr>\n",
       "    <tr>\n",
       "      <th>13</th>\n",
       "      <td>Gemma-2-9B</td>\n",
       "      <td>2024-06-24</td>\n",
       "      <td>0.1300</td>\n",
       "      <td>73</td>\n",
       "      <td>31</td>\n",
       "      <td>64.0</td>\n",
       "      <td>50.0</td>\n",
       "      <td>1190.0</td>\n",
       "      <td>18.0</td>\n",
       "      <td>162.8</td>\n",
       "      <td>0.426</td>\n",
       "      <td>1000.0</td>\n",
       "    </tr>\n",
       "    <tr>\n",
       "      <th>14</th>\n",
       "      <td>GPT-3.5-Turbo-2023-11</td>\n",
       "      <td>2023-11-06</td>\n",
       "      <td>0.7500</td>\n",
       "      <td>68</td>\n",
       "      <td>30</td>\n",
       "      <td>71.0</td>\n",
       "      <td>44.0</td>\n",
       "      <td>1107.0</td>\n",
       "      <td>15.0</td>\n",
       "      <td>121.5</td>\n",
       "      <td>0.598</td>\n",
       "      <td>1000.0</td>\n",
       "    </tr>\n",
       "    <tr>\n",
       "      <th>15</th>\n",
       "      <td>GPT-4-0314</td>\n",
       "      <td>2023-03-14</td>\n",
       "      <td>37.5000</td>\n",
       "      <td>86</td>\n",
       "      <td>33</td>\n",
       "      <td>67.0</td>\n",
       "      <td>NaN</td>\n",
       "      <td>1186.0</td>\n",
       "      <td>NaN</td>\n",
       "      <td>23.6</td>\n",
       "      <td>0.724</td>\n",
       "      <td>1000.0</td>\n",
       "    </tr>\n",
       "    <tr>\n",
       "      <th>16</th>\n",
       "      <td>GPT-4 Turbo</td>\n",
       "      <td>2023-11-06</td>\n",
       "      <td>15.0000</td>\n",
       "      <td>87</td>\n",
       "      <td>50</td>\n",
       "      <td>92.0</td>\n",
       "      <td>74.0</td>\n",
       "      <td>1256.0</td>\n",
       "      <td>36.0</td>\n",
       "      <td>39.2</td>\n",
       "      <td>1.246</td>\n",
       "      <td>1000.0</td>\n",
       "    </tr>\n",
       "    <tr>\n",
       "      <th>17</th>\n",
       "      <td>GPT-4o-2024-05</td>\n",
       "      <td>2024-05-13</td>\n",
       "      <td>7.5000</td>\n",
       "      <td>87</td>\n",
       "      <td>53</td>\n",
       "      <td>94.0</td>\n",
       "      <td>79.0</td>\n",
       "      <td>1285.0</td>\n",
       "      <td>48.0</td>\n",
       "      <td>86.4</td>\n",
       "      <td>0.687</td>\n",
       "      <td>1000.0</td>\n",
       "    </tr>\n",
       "    <tr>\n",
       "      <th>18</th>\n",
       "      <td>GPT-4o-2024-08</td>\n",
       "      <td>2024-08-06</td>\n",
       "      <td>4.3800</td>\n",
       "      <td>89</td>\n",
       "      <td>52</td>\n",
       "      <td>93.0</td>\n",
       "      <td>80.0</td>\n",
       "      <td>1337.0</td>\n",
       "      <td>47.0</td>\n",
       "      <td>81.0</td>\n",
       "      <td>0.673</td>\n",
       "      <td>1000.0</td>\n",
       "    </tr>\n",
       "    <tr>\n",
       "      <th>19</th>\n",
       "      <td>GPT-4o-2024-11</td>\n",
       "      <td>2024-11-20</td>\n",
       "      <td>4.3800</td>\n",
       "      <td>86</td>\n",
       "      <td>54</td>\n",
       "      <td>93.0</td>\n",
       "      <td>76.0</td>\n",
       "      <td>1361.0</td>\n",
       "      <td>50.0</td>\n",
       "      <td>148.9</td>\n",
       "      <td>0.404</td>\n",
       "      <td>1000.0</td>\n",
       "    </tr>\n",
       "    <tr>\n",
       "      <th>20</th>\n",
       "      <td>GPT-4o-mini</td>\n",
       "      <td>2024-07-18</td>\n",
       "      <td>0.2600</td>\n",
       "      <td>82</td>\n",
       "      <td>43</td>\n",
       "      <td>88.0</td>\n",
       "      <td>79.0</td>\n",
       "      <td>1273.0</td>\n",
       "      <td>48.0</td>\n",
       "      <td>112.2</td>\n",
       "      <td>0.626</td>\n",
       "      <td>1000.0</td>\n",
       "    </tr>\n",
       "    <tr>\n",
       "      <th>21</th>\n",
       "      <td>Llama-2-Chat-13B</td>\n",
       "      <td>2023-07-18</td>\n",
       "      <td>0.5600</td>\n",
       "      <td>45</td>\n",
       "      <td>19</td>\n",
       "      <td>NaN</td>\n",
       "      <td>NaN</td>\n",
       "      <td>1063.0</td>\n",
       "      <td>NaN</td>\n",
       "      <td>43.1</td>\n",
       "      <td>0.447</td>\n",
       "      <td>1000.0</td>\n",
       "    </tr>\n",
       "    <tr>\n",
       "      <th>22</th>\n",
       "      <td>Llama-2-Chat-7B</td>\n",
       "      <td>2023-07-18</td>\n",
       "      <td>0.3300</td>\n",
       "      <td>13</td>\n",
       "      <td>6</td>\n",
       "      <td>13.0</td>\n",
       "      <td>NaN</td>\n",
       "      <td>1037.0</td>\n",
       "      <td>NaN</td>\n",
       "      <td>125.4</td>\n",
       "      <td>0.508</td>\n",
       "      <td>1000.0</td>\n",
       "    </tr>\n",
       "    <tr>\n",
       "      <th>23</th>\n",
       "      <td>Llama-3-Instruct-70B</td>\n",
       "      <td>2024-04-18</td>\n",
       "      <td>0.8900</td>\n",
       "      <td>79</td>\n",
       "      <td>39</td>\n",
       "      <td>18.0</td>\n",
       "      <td>53.0</td>\n",
       "      <td>1206.0</td>\n",
       "      <td>22.0</td>\n",
       "      <td>44.6</td>\n",
       "      <td>0.472</td>\n",
       "      <td>1000.0</td>\n",
       "    </tr>\n",
       "    <tr>\n",
       "      <th>24</th>\n",
       "      <td>Llama-3-Instruct-8B</td>\n",
       "      <td>2024-04-18</td>\n",
       "      <td>0.1500</td>\n",
       "      <td>64</td>\n",
       "      <td>30</td>\n",
       "      <td>53.0</td>\n",
       "      <td>32.0</td>\n",
       "      <td>1152.0</td>\n",
       "      <td>8.0</td>\n",
       "      <td>122.8</td>\n",
       "      <td>0.330</td>\n",
       "      <td>1000.0</td>\n",
       "    </tr>\n",
       "    <tr>\n",
       "      <th>25</th>\n",
       "      <td>Llama-3.1-Instruct-405B</td>\n",
       "      <td>2024-07-23</td>\n",
       "      <td>3.5000</td>\n",
       "      <td>87</td>\n",
       "      <td>50</td>\n",
       "      <td>87.0</td>\n",
       "      <td>70.0</td>\n",
       "      <td>1266.0</td>\n",
       "      <td>45.0</td>\n",
       "      <td>27.9</td>\n",
       "      <td>0.719</td>\n",
       "      <td>1000.0</td>\n",
       "    </tr>\n",
       "    <tr>\n",
       "      <th>26</th>\n",
       "      <td>Llama-3.1-Instruct-70B</td>\n",
       "      <td>2024-07-23</td>\n",
       "      <td>0.7200</td>\n",
       "      <td>84</td>\n",
       "      <td>43</td>\n",
       "      <td>80.0</td>\n",
       "      <td>64.0</td>\n",
       "      <td>1249.0</td>\n",
       "      <td>39.0</td>\n",
       "      <td>71.6</td>\n",
       "      <td>0.425</td>\n",
       "      <td>1000.0</td>\n",
       "    </tr>\n",
       "    <tr>\n",
       "      <th>27</th>\n",
       "      <td>Llama-3.1-Instruct-8B</td>\n",
       "      <td>2024-07-23</td>\n",
       "      <td>0.1000</td>\n",
       "      <td>71</td>\n",
       "      <td>27</td>\n",
       "      <td>67.0</td>\n",
       "      <td>50.0</td>\n",
       "      <td>1172.0</td>\n",
       "      <td>22.0</td>\n",
       "      <td>164.3</td>\n",
       "      <td>0.350</td>\n",
       "      <td>1000.0</td>\n",
       "    </tr>\n",
       "    <tr>\n",
       "      <th>28</th>\n",
       "      <td>Llama-3.2-Instruct-1B</td>\n",
       "      <td>2024-09-24</td>\n",
       "      <td>0.0500</td>\n",
       "      <td>35</td>\n",
       "      <td>14</td>\n",
       "      <td>40.0</td>\n",
       "      <td>13.0</td>\n",
       "      <td>1103.0</td>\n",
       "      <td>NaN</td>\n",
       "      <td>552.1</td>\n",
       "      <td>0.317</td>\n",
       "      <td>1000.0</td>\n",
       "    </tr>\n",
       "    <tr>\n",
       "      <th>29</th>\n",
       "      <td>Llama-3.2-Instruct-3B</td>\n",
       "      <td>2024-09-24</td>\n",
       "      <td>0.0800</td>\n",
       "      <td>64</td>\n",
       "      <td>21</td>\n",
       "      <td>60.0</td>\n",
       "      <td>50.0</td>\n",
       "      <td>1103.0</td>\n",
       "      <td>NaN</td>\n",
       "      <td>200.3</td>\n",
       "      <td>0.316</td>\n",
       "      <td>1000.0</td>\n",
       "    </tr>\n",
       "    <tr>\n",
       "      <th>30</th>\n",
       "      <td>Mistral Small 3</td>\n",
       "      <td>2025-01-30</td>\n",
       "      <td>0.4750</td>\n",
       "      <td>82</td>\n",
       "      <td>46</td>\n",
       "      <td>85.0</td>\n",
       "      <td>74.0</td>\n",
       "      <td>1210.0</td>\n",
       "      <td>45.0</td>\n",
       "      <td>NaN</td>\n",
       "      <td>NaN</td>\n",
       "      <td>NaN</td>\n",
       "    </tr>\n",
       "    <tr>\n",
       "      <th>31</th>\n",
       "      <td>Mistral-8x22</td>\n",
       "      <td>2024-04-17</td>\n",
       "      <td>1.2000</td>\n",
       "      <td>76</td>\n",
       "      <td>37</td>\n",
       "      <td>74.0</td>\n",
       "      <td>56.0</td>\n",
       "      <td>1148.0</td>\n",
       "      <td>23.0</td>\n",
       "      <td>85.3</td>\n",
       "      <td>0.624</td>\n",
       "      <td>1000.0</td>\n",
       "    </tr>\n",
       "    <tr>\n",
       "      <th>32</th>\n",
       "      <td>Mistral-Large-2-2024-07</td>\n",
       "      <td>2024-07-24</td>\n",
       "      <td>3.0000</td>\n",
       "      <td>85</td>\n",
       "      <td>48</td>\n",
       "      <td>91.0</td>\n",
       "      <td>71.0</td>\n",
       "      <td>1251.0</td>\n",
       "      <td>45.0</td>\n",
       "      <td>34.4</td>\n",
       "      <td>0.486</td>\n",
       "      <td>1000.0</td>\n",
       "    </tr>\n",
       "    <tr>\n",
       "      <th>33</th>\n",
       "      <td>Mistral-Large-2-2024-11</td>\n",
       "      <td>2024-11-18</td>\n",
       "      <td>3.0000</td>\n",
       "      <td>85</td>\n",
       "      <td>47</td>\n",
       "      <td>90.0</td>\n",
       "      <td>72.0</td>\n",
       "      <td>1247.0</td>\n",
       "      <td>NaN</td>\n",
       "      <td>43.5</td>\n",
       "      <td>0.639</td>\n",
       "      <td>1000.0</td>\n",
       "    </tr>\n",
       "    <tr>\n",
       "      <th>34</th>\n",
       "      <td>Mistral-Large-2024-02</td>\n",
       "      <td>2024-02-26</td>\n",
       "      <td>6.0000</td>\n",
       "      <td>69</td>\n",
       "      <td>36</td>\n",
       "      <td>69.0</td>\n",
       "      <td>49.0</td>\n",
       "      <td>1157.0</td>\n",
       "      <td>21.0</td>\n",
       "      <td>37.8</td>\n",
       "      <td>0.500</td>\n",
       "      <td>1000.0</td>\n",
       "    </tr>\n",
       "    <tr>\n",
       "      <th>35</th>\n",
       "      <td>Mistral-NeMo</td>\n",
       "      <td>2024-07-18</td>\n",
       "      <td>0.1300</td>\n",
       "      <td>66</td>\n",
       "      <td>33</td>\n",
       "      <td>71.0</td>\n",
       "      <td>44.0</td>\n",
       "      <td>NaN</td>\n",
       "      <td>10.0</td>\n",
       "      <td>88.3</td>\n",
       "      <td>0.551</td>\n",
       "      <td>1000.0</td>\n",
       "    </tr>\n",
       "    <tr>\n",
       "      <th>36</th>\n",
       "      <td>Mistral-Small-2024-02</td>\n",
       "      <td>2024-02-26</td>\n",
       "      <td>1.5000</td>\n",
       "      <td>69</td>\n",
       "      <td>31</td>\n",
       "      <td>79.0</td>\n",
       "      <td>56.0</td>\n",
       "      <td>NaN</td>\n",
       "      <td>NaN</td>\n",
       "      <td>54.1</td>\n",
       "      <td>0.429</td>\n",
       "      <td>1000.0</td>\n",
       "    </tr>\n",
       "    <tr>\n",
       "      <th>37</th>\n",
       "      <td>Phi 4</td>\n",
       "      <td>2024-12-13</td>\n",
       "      <td>0.1225</td>\n",
       "      <td>85</td>\n",
       "      <td>53</td>\n",
       "      <td>87.0</td>\n",
       "      <td>81.0</td>\n",
       "      <td>1204.0</td>\n",
       "      <td>65.0</td>\n",
       "      <td>NaN</td>\n",
       "      <td>NaN</td>\n",
       "      <td>NaN</td>\n",
       "    </tr>\n",
       "  </tbody>\n",
       "</table>\n",
       "</div>"
      ],
      "text/plain": [
       "                   Model Name Release Date  USD per 1M Tokens  MMLU  \\\n",
       "0              Claude-3-Haiku   2024-03-04             0.5000    71   \n",
       "1               Claude-3-Opus   2024-03-04            30.0000    84   \n",
       "2             Claude-3-Sonnet   2024-03-04             6.0000    77   \n",
       "3            Claude-3.5-Haiku   2024-10-22             1.6000    81   \n",
       "4   Claude-3.5-Sonnet-2024-06   2024-06-20             6.0000    88   \n",
       "5   Claude-3.5-Sonnet-2024-10   2024-10-22             6.0000    89   \n",
       "6            Gemini 2.0 Flash   2025-02-05             0.1750    88   \n",
       "7    Gemini-1.5-Flash-2024-05   2024-05-10             0.1300    79   \n",
       "8    Gemini-1.5-Flash-2024-09   2024-09-24             0.1300    75   \n",
       "9         Gemini-1.5-Flash-8B   2024-10-03             0.0700    75   \n",
       "10     Gemini-1.5-Pro-2024-05   2024-05-23             2.1900    86   \n",
       "11     Gemini-1.5-Pro-2024-09   2024-09-24             2.1900    86   \n",
       "12                Gemma-2-27B   2024-06-24             0.2600    77   \n",
       "13                 Gemma-2-9B   2024-06-24             0.1300    73   \n",
       "14      GPT-3.5-Turbo-2023-11   2023-11-06             0.7500    68   \n",
       "15                 GPT-4-0314   2023-03-14            37.5000    86   \n",
       "16                GPT-4 Turbo   2023-11-06            15.0000    87   \n",
       "17             GPT-4o-2024-05   2024-05-13             7.5000    87   \n",
       "18             GPT-4o-2024-08   2024-08-06             4.3800    89   \n",
       "19             GPT-4o-2024-11   2024-11-20             4.3800    86   \n",
       "20                GPT-4o-mini   2024-07-18             0.2600    82   \n",
       "21           Llama-2-Chat-13B   2023-07-18             0.5600    45   \n",
       "22            Llama-2-Chat-7B   2023-07-18             0.3300    13   \n",
       "23       Llama-3-Instruct-70B   2024-04-18             0.8900    79   \n",
       "24        Llama-3-Instruct-8B   2024-04-18             0.1500    64   \n",
       "25    Llama-3.1-Instruct-405B   2024-07-23             3.5000    87   \n",
       "26     Llama-3.1-Instruct-70B   2024-07-23             0.7200    84   \n",
       "27      Llama-3.1-Instruct-8B   2024-07-23             0.1000    71   \n",
       "28      Llama-3.2-Instruct-1B   2024-09-24             0.0500    35   \n",
       "29      Llama-3.2-Instruct-3B   2024-09-24             0.0800    64   \n",
       "30            Mistral Small 3   2025-01-30             0.4750    82   \n",
       "31               Mistral-8x22   2024-04-17             1.2000    76   \n",
       "32    Mistral-Large-2-2024-07   2024-07-24             3.0000    85   \n",
       "33    Mistral-Large-2-2024-11   2024-11-18             3.0000    85   \n",
       "34      Mistral-Large-2024-02   2024-02-26             6.0000    69   \n",
       "35               Mistral-NeMo   2024-07-18             0.1300    66   \n",
       "36      Mistral-Small-2024-02   2024-02-26             1.5000    69   \n",
       "37                      Phi 4   2024-12-13             0.1225    85   \n",
       "\n",
       "    GPQA Diamond  HumanEval  MATH-500  LMSys Chatbot Arena ELO  MATH 5  \\\n",
       "0             33       77.0      39.0                   1179.0    13.0   \n",
       "1             50       83.0      64.0                   1248.0    34.0   \n",
       "2             37       71.0      41.0                   1201.0    16.0   \n",
       "3             37       87.0      67.0                   1236.0     NaN   \n",
       "4             56       90.0      71.0                   1268.0    46.0   \n",
       "5             58       96.0      76.0                   1282.0    53.0   \n",
       "6             62       90.0      93.0                   1358.0    82.0   \n",
       "7             39        NaN      55.0                   1227.0    23.0   \n",
       "8             45       83.0      83.0                   1271.0    58.0   \n",
       "9             30       12.0      70.0                   1211.0     NaN   \n",
       "10            46       83.0      66.0                   1260.0    41.0   \n",
       "11            61       88.0      88.0                   1301.0    67.0   \n",
       "12            39       76.0      54.0                   1219.0    23.0   \n",
       "13            31       64.0      50.0                   1190.0    18.0   \n",
       "14            30       71.0      44.0                   1107.0    15.0   \n",
       "15            33       67.0       NaN                   1186.0     NaN   \n",
       "16            50       92.0      74.0                   1256.0    36.0   \n",
       "17            53       94.0      79.0                   1285.0    48.0   \n",
       "18            52       93.0      80.0                   1337.0    47.0   \n",
       "19            54       93.0      76.0                   1361.0    50.0   \n",
       "20            43       88.0      79.0                   1273.0    48.0   \n",
       "21            19        NaN       NaN                   1063.0     NaN   \n",
       "22             6       13.0       NaN                   1037.0     NaN   \n",
       "23            39       18.0      53.0                   1206.0    22.0   \n",
       "24            30       53.0      32.0                   1152.0     8.0   \n",
       "25            50       87.0      70.0                   1266.0    45.0   \n",
       "26            43       80.0      64.0                   1249.0    39.0   \n",
       "27            27       67.0      50.0                   1172.0    22.0   \n",
       "28            14       40.0      13.0                   1103.0     NaN   \n",
       "29            21       60.0      50.0                   1103.0     NaN   \n",
       "30            46       85.0      74.0                   1210.0    45.0   \n",
       "31            37       74.0      56.0                   1148.0    23.0   \n",
       "32            48       91.0      71.0                   1251.0    45.0   \n",
       "33            47       90.0      72.0                   1247.0     NaN   \n",
       "34            36       69.0      49.0                   1157.0    21.0   \n",
       "35            33       71.0      44.0                      NaN    10.0   \n",
       "36            31       79.0      56.0                      NaN     NaN   \n",
       "37            53       87.0      81.0                   1204.0    65.0   \n",
       "\n",
       "    Tokens per Second  Prefill Latency (s)  Prompt Length (tk)  \n",
       "0               122.7                0.467              1000.0  \n",
       "1                26.5                1.984              1000.0  \n",
       "2                61.8                0.789              1000.0  \n",
       "3                64.2                0.768              1000.0  \n",
       "4                55.9                0.906              1000.0  \n",
       "5                55.2                0.907              1000.0  \n",
       "6                 NaN                  NaN                 NaN  \n",
       "7               298.4                0.307              1000.0  \n",
       "8               190.5                0.348              1000.0  \n",
       "9               285.2                0.335              1000.0  \n",
       "10               64.8                0.738              1000.0  \n",
       "11               59.1                0.864              1000.0  \n",
       "12               47.9                0.527              1000.0  \n",
       "13              162.8                0.426              1000.0  \n",
       "14              121.5                0.598              1000.0  \n",
       "15               23.6                0.724              1000.0  \n",
       "16               39.2                1.246              1000.0  \n",
       "17               86.4                0.687              1000.0  \n",
       "18               81.0                0.673              1000.0  \n",
       "19              148.9                0.404              1000.0  \n",
       "20              112.2                0.626              1000.0  \n",
       "21               43.1                0.447              1000.0  \n",
       "22              125.4                0.508              1000.0  \n",
       "23               44.6                0.472              1000.0  \n",
       "24              122.8                0.330              1000.0  \n",
       "25               27.9                0.719              1000.0  \n",
       "26               71.6                0.425              1000.0  \n",
       "27              164.3                0.350              1000.0  \n",
       "28              552.1                0.317              1000.0  \n",
       "29              200.3                0.316              1000.0  \n",
       "30                NaN                  NaN                 NaN  \n",
       "31               85.3                0.624              1000.0  \n",
       "32               34.4                0.486              1000.0  \n",
       "33               43.5                0.639              1000.0  \n",
       "34               37.8                0.500              1000.0  \n",
       "35               88.3                0.551              1000.0  \n",
       "36               54.1                0.429              1000.0  \n",
       "37                NaN                  NaN                 NaN  "
      ]
     },
     "execution_count": 4,
     "metadata": {},
     "output_type": "execute_result"
    }
   ],
   "source": [
    "aa_df = pd.read_csv('data/aa_data_with_math5.csv')\n",
    "aa_df"
   ]
  },
  {
   "cell_type": "code",
   "execution_count": 5,
   "metadata": {},
   "outputs": [],
   "source": [
    "# 'Release Date' is a string with the format 'YYYY-MM'\n",
    "aa_df['Release Date'] = pd.to_datetime(aa_df['Release Date'].str.strip(), format='%Y-%m-%d')"
   ]
  },
  {
   "cell_type": "markdown",
   "metadata": {},
   "source": [
    "## Load Epoch AI price dataset"
   ]
  },
  {
   "cell_type": "code",
   "execution_count": 6,
   "metadata": {},
   "outputs": [
    {
     "data": {
      "text/html": [
       "<div>\n",
       "<style scoped>\n",
       "    .dataframe tbody tr th:only-of-type {\n",
       "        vertical-align: middle;\n",
       "    }\n",
       "\n",
       "    .dataframe tbody tr th {\n",
       "        vertical-align: top;\n",
       "    }\n",
       "\n",
       "    .dataframe thead th {\n",
       "        text-align: right;\n",
       "    }\n",
       "</style>\n",
       "<table border=\"1\" class=\"dataframe\">\n",
       "  <thead>\n",
       "    <tr style=\"text-align: right;\">\n",
       "      <th></th>\n",
       "      <th>Model Name</th>\n",
       "      <th>Release Date</th>\n",
       "      <th>USD per 1M Tokens</th>\n",
       "      <th>MMLU</th>\n",
       "      <th>GPQA Diamond</th>\n",
       "      <th>HumanEval</th>\n",
       "      <th>MATH-500</th>\n",
       "      <th>LMSys Chatbot Arena ELO</th>\n",
       "      <th>MATH 5</th>\n",
       "      <th>Tokens per Second</th>\n",
       "      <th>Prefill Latency (s)</th>\n",
       "      <th>Prompt Length (tk)</th>\n",
       "    </tr>\n",
       "  </thead>\n",
       "  <tbody>\n",
       "    <tr>\n",
       "      <th>0</th>\n",
       "      <td>Claude 2</td>\n",
       "      <td>2024-08-12</td>\n",
       "      <td>12.0000</td>\n",
       "      <td>78.5</td>\n",
       "      <td>35.0</td>\n",
       "      <td>NaN</td>\n",
       "      <td>NaN</td>\n",
       "      <td>NaN</td>\n",
       "      <td>10.0</td>\n",
       "      <td>NaN</td>\n",
       "      <td>NaN</td>\n",
       "      <td>NaN</td>\n",
       "    </tr>\n",
       "    <tr>\n",
       "      <th>1</th>\n",
       "      <td>Claude 2.1</td>\n",
       "      <td>2024-08-12</td>\n",
       "      <td>12.0000</td>\n",
       "      <td>NaN</td>\n",
       "      <td>36.0</td>\n",
       "      <td>16.0</td>\n",
       "      <td>NaN</td>\n",
       "      <td>NaN</td>\n",
       "      <td>11.0</td>\n",
       "      <td>NaN</td>\n",
       "      <td>NaN</td>\n",
       "      <td>NaN</td>\n",
       "    </tr>\n",
       "    <tr>\n",
       "      <th>2</th>\n",
       "      <td>Claude Instant</td>\n",
       "      <td>2024-08-12</td>\n",
       "      <td>1.2000</td>\n",
       "      <td>NaN</td>\n",
       "      <td>NaN</td>\n",
       "      <td>NaN</td>\n",
       "      <td>NaN</td>\n",
       "      <td>NaN</td>\n",
       "      <td>NaN</td>\n",
       "      <td>NaN</td>\n",
       "      <td>NaN</td>\n",
       "      <td>NaN</td>\n",
       "    </tr>\n",
       "    <tr>\n",
       "      <th>3</th>\n",
       "      <td>Cohere Command</td>\n",
       "      <td>2024-08-13</td>\n",
       "      <td>1.6250</td>\n",
       "      <td>NaN</td>\n",
       "      <td>NaN</td>\n",
       "      <td>NaN</td>\n",
       "      <td>NaN</td>\n",
       "      <td>NaN</td>\n",
       "      <td>NaN</td>\n",
       "      <td>NaN</td>\n",
       "      <td>NaN</td>\n",
       "      <td>NaN</td>\n",
       "    </tr>\n",
       "    <tr>\n",
       "      <th>4</th>\n",
       "      <td>Cohere Command Light</td>\n",
       "      <td>2024-08-13</td>\n",
       "      <td>0.3750</td>\n",
       "      <td>NaN</td>\n",
       "      <td>NaN</td>\n",
       "      <td>NaN</td>\n",
       "      <td>NaN</td>\n",
       "      <td>NaN</td>\n",
       "      <td>NaN</td>\n",
       "      <td>NaN</td>\n",
       "      <td>NaN</td>\n",
       "      <td>NaN</td>\n",
       "    </tr>\n",
       "    <tr>\n",
       "      <th>5</th>\n",
       "      <td>Command R</td>\n",
       "      <td>2024-08-13</td>\n",
       "      <td>0.7500</td>\n",
       "      <td>NaN</td>\n",
       "      <td>NaN</td>\n",
       "      <td>42.0</td>\n",
       "      <td>15.0</td>\n",
       "      <td>1180.0</td>\n",
       "      <td>NaN</td>\n",
       "      <td>NaN</td>\n",
       "      <td>NaN</td>\n",
       "      <td>NaN</td>\n",
       "    </tr>\n",
       "    <tr>\n",
       "      <th>6</th>\n",
       "      <td>Command R+</td>\n",
       "      <td>2024-08-13</td>\n",
       "      <td>6.0000</td>\n",
       "      <td>75.7</td>\n",
       "      <td>34.0</td>\n",
       "      <td>63.0</td>\n",
       "      <td>40.0</td>\n",
       "      <td>1215.0</td>\n",
       "      <td>NaN</td>\n",
       "      <td>NaN</td>\n",
       "      <td>NaN</td>\n",
       "      <td>NaN</td>\n",
       "    </tr>\n",
       "    <tr>\n",
       "      <th>7</th>\n",
       "      <td>Command R+</td>\n",
       "      <td>2024-09-13</td>\n",
       "      <td>4.3750</td>\n",
       "      <td>75.7</td>\n",
       "      <td>34.0</td>\n",
       "      <td>63.0</td>\n",
       "      <td>40.0</td>\n",
       "      <td>1215.0</td>\n",
       "      <td>NaN</td>\n",
       "      <td>NaN</td>\n",
       "      <td>NaN</td>\n",
       "      <td>NaN</td>\n",
       "    </tr>\n",
       "    <tr>\n",
       "      <th>8</th>\n",
       "      <td>DeepSeek-Coder-V2 236B</td>\n",
       "      <td>2024-09-11</td>\n",
       "      <td>0.1750</td>\n",
       "      <td>79.2</td>\n",
       "      <td>NaN</td>\n",
       "      <td>87.0</td>\n",
       "      <td>74.0</td>\n",
       "      <td>1178.0</td>\n",
       "      <td>NaN</td>\n",
       "      <td>NaN</td>\n",
       "      <td>NaN</td>\n",
       "      <td>NaN</td>\n",
       "    </tr>\n",
       "    <tr>\n",
       "      <th>9</th>\n",
       "      <td>DeepSeek-R1</td>\n",
       "      <td>2025-01-20</td>\n",
       "      <td>0.9600</td>\n",
       "      <td>NaN</td>\n",
       "      <td>71.7</td>\n",
       "      <td>98.0</td>\n",
       "      <td>96.0</td>\n",
       "      <td>1362.0</td>\n",
       "      <td>93.1</td>\n",
       "      <td>NaN</td>\n",
       "      <td>NaN</td>\n",
       "      <td>NaN</td>\n",
       "    </tr>\n",
       "    <tr>\n",
       "      <th>10</th>\n",
       "      <td>DeepSeek-V3</td>\n",
       "      <td>2024-12-26</td>\n",
       "      <td>0.4775</td>\n",
       "      <td>NaN</td>\n",
       "      <td>57.0</td>\n",
       "      <td>91.0</td>\n",
       "      <td>89.0</td>\n",
       "      <td>1318.0</td>\n",
       "      <td>65.0</td>\n",
       "      <td>NaN</td>\n",
       "      <td>NaN</td>\n",
       "      <td>NaN</td>\n",
       "    </tr>\n",
       "    <tr>\n",
       "      <th>11</th>\n",
       "      <td>Gemini 1.0 Pro</td>\n",
       "      <td>2024-08-12</td>\n",
       "      <td>0.7500</td>\n",
       "      <td>71.8</td>\n",
       "      <td>34.4</td>\n",
       "      <td>NaN</td>\n",
       "      <td>NaN</td>\n",
       "      <td>1111.0</td>\n",
       "      <td>11.0</td>\n",
       "      <td>NaN</td>\n",
       "      <td>NaN</td>\n",
       "      <td>NaN</td>\n",
       "    </tr>\n",
       "    <tr>\n",
       "      <th>12</th>\n",
       "      <td>GPT-3 175B (davinci)</td>\n",
       "      <td>2021-11-20</td>\n",
       "      <td>60.0000</td>\n",
       "      <td>43.9</td>\n",
       "      <td>NaN</td>\n",
       "      <td>NaN</td>\n",
       "      <td>NaN</td>\n",
       "      <td>NaN</td>\n",
       "      <td>NaN</td>\n",
       "      <td>NaN</td>\n",
       "      <td>NaN</td>\n",
       "      <td>NaN</td>\n",
       "    </tr>\n",
       "    <tr>\n",
       "      <th>13</th>\n",
       "      <td>GPT-3 175B (davinci)</td>\n",
       "      <td>2022-08-31</td>\n",
       "      <td>60.0000</td>\n",
       "      <td>43.9</td>\n",
       "      <td>NaN</td>\n",
       "      <td>NaN</td>\n",
       "      <td>NaN</td>\n",
       "      <td>NaN</td>\n",
       "      <td>NaN</td>\n",
       "      <td>NaN</td>\n",
       "      <td>NaN</td>\n",
       "      <td>NaN</td>\n",
       "    </tr>\n",
       "    <tr>\n",
       "      <th>14</th>\n",
       "      <td>GPT-3 175B (davinci)</td>\n",
       "      <td>2022-09-01</td>\n",
       "      <td>20.0000</td>\n",
       "      <td>43.9</td>\n",
       "      <td>NaN</td>\n",
       "      <td>NaN</td>\n",
       "      <td>NaN</td>\n",
       "      <td>NaN</td>\n",
       "      <td>NaN</td>\n",
       "      <td>NaN</td>\n",
       "      <td>NaN</td>\n",
       "      <td>NaN</td>\n",
       "    </tr>\n",
       "    <tr>\n",
       "      <th>15</th>\n",
       "      <td>GPT-3 175B (davinci)</td>\n",
       "      <td>2024-01-04</td>\n",
       "      <td>20.0000</td>\n",
       "      <td>63.1</td>\n",
       "      <td>NaN</td>\n",
       "      <td>NaN</td>\n",
       "      <td>NaN</td>\n",
       "      <td>NaN</td>\n",
       "      <td>NaN</td>\n",
       "      <td>NaN</td>\n",
       "      <td>NaN</td>\n",
       "      <td>NaN</td>\n",
       "    </tr>\n",
       "    <tr>\n",
       "      <th>16</th>\n",
       "      <td>GPT-3.5</td>\n",
       "      <td>2022-11-30</td>\n",
       "      <td>20.0000</td>\n",
       "      <td>64.8</td>\n",
       "      <td>NaN</td>\n",
       "      <td>NaN</td>\n",
       "      <td>NaN</td>\n",
       "      <td>NaN</td>\n",
       "      <td>NaN</td>\n",
       "      <td>NaN</td>\n",
       "      <td>NaN</td>\n",
       "      <td>NaN</td>\n",
       "    </tr>\n",
       "    <tr>\n",
       "      <th>17</th>\n",
       "      <td>GPT-3.5-Turbo-2023-06</td>\n",
       "      <td>2023-06-13</td>\n",
       "      <td>3.2500</td>\n",
       "      <td>68.0</td>\n",
       "      <td>28.8</td>\n",
       "      <td>71.0</td>\n",
       "      <td>44.0</td>\n",
       "      <td>1117.0</td>\n",
       "      <td>15.0</td>\n",
       "      <td>NaN</td>\n",
       "      <td>NaN</td>\n",
       "      <td>NaN</td>\n",
       "    </tr>\n",
       "    <tr>\n",
       "      <th>18</th>\n",
       "      <td>GPT-3.5-Turbo-2024-01</td>\n",
       "      <td>2024-01-25</td>\n",
       "      <td>0.7500</td>\n",
       "      <td>68.0</td>\n",
       "      <td>30.0</td>\n",
       "      <td>71.0</td>\n",
       "      <td>44.0</td>\n",
       "      <td>1106.0</td>\n",
       "      <td>11.0</td>\n",
       "      <td>NaN</td>\n",
       "      <td>NaN</td>\n",
       "      <td>NaN</td>\n",
       "    </tr>\n",
       "    <tr>\n",
       "      <th>19</th>\n",
       "      <td>GPT-3.5 Turbo</td>\n",
       "      <td>2023-03-06</td>\n",
       "      <td>2.0000</td>\n",
       "      <td>68.0</td>\n",
       "      <td>NaN</td>\n",
       "      <td>NaN</td>\n",
       "      <td>NaN</td>\n",
       "      <td>1106.0</td>\n",
       "      <td>NaN</td>\n",
       "      <td>NaN</td>\n",
       "      <td>NaN</td>\n",
       "      <td>NaN</td>\n",
       "    </tr>\n",
       "    <tr>\n",
       "      <th>20</th>\n",
       "      <td>GPT-4-0613</td>\n",
       "      <td>2023-06-13</td>\n",
       "      <td>37.5000</td>\n",
       "      <td>NaN</td>\n",
       "      <td>31.0</td>\n",
       "      <td>NaN</td>\n",
       "      <td>NaN</td>\n",
       "      <td>1163.0</td>\n",
       "      <td>23.0</td>\n",
       "      <td>NaN</td>\n",
       "      <td>NaN</td>\n",
       "      <td>NaN</td>\n",
       "    </tr>\n",
       "    <tr>\n",
       "      <th>21</th>\n",
       "      <td>GPT-4-0125</td>\n",
       "      <td>2024-01-25</td>\n",
       "      <td>15.0000</td>\n",
       "      <td>NaN</td>\n",
       "      <td>42.0</td>\n",
       "      <td>NaN</td>\n",
       "      <td>NaN</td>\n",
       "      <td>1245.0</td>\n",
       "      <td>35.0</td>\n",
       "      <td>NaN</td>\n",
       "      <td>NaN</td>\n",
       "      <td>NaN</td>\n",
       "    </tr>\n",
       "    <tr>\n",
       "      <th>22</th>\n",
       "      <td>Jamba 1.5-Large</td>\n",
       "      <td>2024-09-12</td>\n",
       "      <td>3.5000</td>\n",
       "      <td>80.0</td>\n",
       "      <td>43.0</td>\n",
       "      <td>24.0</td>\n",
       "      <td>61.0</td>\n",
       "      <td>1221.0</td>\n",
       "      <td>NaN</td>\n",
       "      <td>NaN</td>\n",
       "      <td>NaN</td>\n",
       "      <td>NaN</td>\n",
       "    </tr>\n",
       "    <tr>\n",
       "      <th>23</th>\n",
       "      <td>Llama 2-13B</td>\n",
       "      <td>2023-12-08</td>\n",
       "      <td>0.3500</td>\n",
       "      <td>54.8</td>\n",
       "      <td>NaN</td>\n",
       "      <td>NaN</td>\n",
       "      <td>NaN</td>\n",
       "      <td>NaN</td>\n",
       "      <td>NaN</td>\n",
       "      <td>NaN</td>\n",
       "      <td>NaN</td>\n",
       "      <td>NaN</td>\n",
       "    </tr>\n",
       "    <tr>\n",
       "      <th>24</th>\n",
       "      <td>Llama 2-13B</td>\n",
       "      <td>2024-04-14</td>\n",
       "      <td>0.2200</td>\n",
       "      <td>54.8</td>\n",
       "      <td>NaN</td>\n",
       "      <td>NaN</td>\n",
       "      <td>NaN</td>\n",
       "      <td>NaN</td>\n",
       "      <td>NaN</td>\n",
       "      <td>NaN</td>\n",
       "      <td>NaN</td>\n",
       "      <td>NaN</td>\n",
       "    </tr>\n",
       "    <tr>\n",
       "      <th>25</th>\n",
       "      <td>Llama 2-70B Chat</td>\n",
       "      <td>2023-12-01</td>\n",
       "      <td>0.7625</td>\n",
       "      <td>68.9</td>\n",
       "      <td>26.0</td>\n",
       "      <td>NaN</td>\n",
       "      <td>NaN</td>\n",
       "      <td>1093.0</td>\n",
       "      <td>3.0</td>\n",
       "      <td>NaN</td>\n",
       "      <td>NaN</td>\n",
       "      <td>NaN</td>\n",
       "    </tr>\n",
       "    <tr>\n",
       "      <th>26</th>\n",
       "      <td>Llama 2-7B</td>\n",
       "      <td>2023-12-01</td>\n",
       "      <td>0.2000</td>\n",
       "      <td>45.3</td>\n",
       "      <td>NaN</td>\n",
       "      <td>NaN</td>\n",
       "      <td>NaN</td>\n",
       "      <td>NaN</td>\n",
       "      <td>NaN</td>\n",
       "      <td>NaN</td>\n",
       "      <td>NaN</td>\n",
       "      <td>NaN</td>\n",
       "    </tr>\n",
       "    <tr>\n",
       "      <th>27</th>\n",
       "      <td>Llama 2-7B</td>\n",
       "      <td>2024-04-14</td>\n",
       "      <td>0.1300</td>\n",
       "      <td>45.3</td>\n",
       "      <td>NaN</td>\n",
       "      <td>NaN</td>\n",
       "      <td>NaN</td>\n",
       "      <td>NaN</td>\n",
       "      <td>NaN</td>\n",
       "      <td>NaN</td>\n",
       "      <td>NaN</td>\n",
       "      <td>NaN</td>\n",
       "    </tr>\n",
       "    <tr>\n",
       "      <th>28</th>\n",
       "      <td>Mistral 7B</td>\n",
       "      <td>2024-09-14</td>\n",
       "      <td>0.2500</td>\n",
       "      <td>60.1</td>\n",
       "      <td>14.0</td>\n",
       "      <td>40.0</td>\n",
       "      <td>12.0</td>\n",
       "      <td>1008.0</td>\n",
       "      <td>3.0</td>\n",
       "      <td>NaN</td>\n",
       "      <td>NaN</td>\n",
       "      <td>NaN</td>\n",
       "    </tr>\n",
       "    <tr>\n",
       "      <th>29</th>\n",
       "      <td>o1</td>\n",
       "      <td>2024-12-17</td>\n",
       "      <td>26.2500</td>\n",
       "      <td>NaN</td>\n",
       "      <td>75.8</td>\n",
       "      <td>97.0</td>\n",
       "      <td>97.0</td>\n",
       "      <td>1352.0</td>\n",
       "      <td>94.4</td>\n",
       "      <td>NaN</td>\n",
       "      <td>NaN</td>\n",
       "      <td>NaN</td>\n",
       "    </tr>\n",
       "    <tr>\n",
       "      <th>30</th>\n",
       "      <td>o1-mini</td>\n",
       "      <td>2024-09-12</td>\n",
       "      <td>5.2500</td>\n",
       "      <td>NaN</td>\n",
       "      <td>59.5</td>\n",
       "      <td>97.0</td>\n",
       "      <td>94.0</td>\n",
       "      <td>1308.0</td>\n",
       "      <td>84.3</td>\n",
       "      <td>NaN</td>\n",
       "      <td>NaN</td>\n",
       "      <td>NaN</td>\n",
       "    </tr>\n",
       "    <tr>\n",
       "      <th>31</th>\n",
       "      <td>o1-mini</td>\n",
       "      <td>2025-01-31</td>\n",
       "      <td>1.9250</td>\n",
       "      <td>NaN</td>\n",
       "      <td>59.5</td>\n",
       "      <td>97.0</td>\n",
       "      <td>94.0</td>\n",
       "      <td>1308.0</td>\n",
       "      <td>84.3</td>\n",
       "      <td>NaN</td>\n",
       "      <td>NaN</td>\n",
       "      <td>NaN</td>\n",
       "    </tr>\n",
       "    <tr>\n",
       "      <th>32</th>\n",
       "      <td>o1-preview</td>\n",
       "      <td>2024-09-12</td>\n",
       "      <td>26.2500</td>\n",
       "      <td>NaN</td>\n",
       "      <td>69.7</td>\n",
       "      <td>96.0</td>\n",
       "      <td>92.0</td>\n",
       "      <td>1334.0</td>\n",
       "      <td>68.0</td>\n",
       "      <td>NaN</td>\n",
       "      <td>NaN</td>\n",
       "      <td>NaN</td>\n",
       "    </tr>\n",
       "    <tr>\n",
       "      <th>33</th>\n",
       "      <td>o3-mini</td>\n",
       "      <td>2025-01-31</td>\n",
       "      <td>1.9250</td>\n",
       "      <td>NaN</td>\n",
       "      <td>74.3</td>\n",
       "      <td>97.0</td>\n",
       "      <td>97.0</td>\n",
       "      <td>1306.0</td>\n",
       "      <td>95.2</td>\n",
       "      <td>NaN</td>\n",
       "      <td>NaN</td>\n",
       "      <td>NaN</td>\n",
       "    </tr>\n",
       "    <tr>\n",
       "      <th>34</th>\n",
       "      <td>Reka Core</td>\n",
       "      <td>2024-09-14</td>\n",
       "      <td>4.0000</td>\n",
       "      <td>83.2</td>\n",
       "      <td>NaN</td>\n",
       "      <td>73.0</td>\n",
       "      <td>56.0</td>\n",
       "      <td>1235.0</td>\n",
       "      <td>NaN</td>\n",
       "      <td>NaN</td>\n",
       "      <td>NaN</td>\n",
       "      <td>NaN</td>\n",
       "    </tr>\n",
       "  </tbody>\n",
       "</table>\n",
       "</div>"
      ],
      "text/plain": [
       "                Model Name Release Date  USD per 1M Tokens  MMLU  \\\n",
       "0                 Claude 2   2024-08-12            12.0000  78.5   \n",
       "1               Claude 2.1   2024-08-12            12.0000   NaN   \n",
       "2           Claude Instant   2024-08-12             1.2000   NaN   \n",
       "3           Cohere Command   2024-08-13             1.6250   NaN   \n",
       "4     Cohere Command Light   2024-08-13             0.3750   NaN   \n",
       "5                Command R   2024-08-13             0.7500   NaN   \n",
       "6               Command R+   2024-08-13             6.0000  75.7   \n",
       "7               Command R+   2024-09-13             4.3750  75.7   \n",
       "8   DeepSeek-Coder-V2 236B   2024-09-11             0.1750  79.2   \n",
       "9              DeepSeek-R1   2025-01-20             0.9600   NaN   \n",
       "10             DeepSeek-V3   2024-12-26             0.4775   NaN   \n",
       "11          Gemini 1.0 Pro   2024-08-12             0.7500  71.8   \n",
       "12    GPT-3 175B (davinci)   2021-11-20            60.0000  43.9   \n",
       "13    GPT-3 175B (davinci)   2022-08-31            60.0000  43.9   \n",
       "14    GPT-3 175B (davinci)   2022-09-01            20.0000  43.9   \n",
       "15    GPT-3 175B (davinci)   2024-01-04            20.0000  63.1   \n",
       "16                 GPT-3.5   2022-11-30            20.0000  64.8   \n",
       "17   GPT-3.5-Turbo-2023-06   2023-06-13             3.2500  68.0   \n",
       "18   GPT-3.5-Turbo-2024-01   2024-01-25             0.7500  68.0   \n",
       "19           GPT-3.5 Turbo   2023-03-06             2.0000  68.0   \n",
       "20              GPT-4-0613   2023-06-13            37.5000   NaN   \n",
       "21              GPT-4-0125   2024-01-25            15.0000   NaN   \n",
       "22         Jamba 1.5-Large   2024-09-12             3.5000  80.0   \n",
       "23             Llama 2-13B   2023-12-08             0.3500  54.8   \n",
       "24             Llama 2-13B   2024-04-14             0.2200  54.8   \n",
       "25        Llama 2-70B Chat   2023-12-01             0.7625  68.9   \n",
       "26              Llama 2-7B   2023-12-01             0.2000  45.3   \n",
       "27              Llama 2-7B   2024-04-14             0.1300  45.3   \n",
       "28              Mistral 7B   2024-09-14             0.2500  60.1   \n",
       "29                      o1   2024-12-17            26.2500   NaN   \n",
       "30                 o1-mini   2024-09-12             5.2500   NaN   \n",
       "31                 o1-mini   2025-01-31             1.9250   NaN   \n",
       "32              o1-preview   2024-09-12            26.2500   NaN   \n",
       "33                 o3-mini   2025-01-31             1.9250   NaN   \n",
       "34               Reka Core   2024-09-14             4.0000  83.2   \n",
       "\n",
       "    GPQA Diamond  HumanEval  MATH-500  LMSys Chatbot Arena ELO  MATH 5  \\\n",
       "0           35.0        NaN       NaN                      NaN    10.0   \n",
       "1           36.0       16.0       NaN                      NaN    11.0   \n",
       "2            NaN        NaN       NaN                      NaN     NaN   \n",
       "3            NaN        NaN       NaN                      NaN     NaN   \n",
       "4            NaN        NaN       NaN                      NaN     NaN   \n",
       "5            NaN       42.0      15.0                   1180.0     NaN   \n",
       "6           34.0       63.0      40.0                   1215.0     NaN   \n",
       "7           34.0       63.0      40.0                   1215.0     NaN   \n",
       "8            NaN       87.0      74.0                   1178.0     NaN   \n",
       "9           71.7       98.0      96.0                   1362.0    93.1   \n",
       "10          57.0       91.0      89.0                   1318.0    65.0   \n",
       "11          34.4        NaN       NaN                   1111.0    11.0   \n",
       "12           NaN        NaN       NaN                      NaN     NaN   \n",
       "13           NaN        NaN       NaN                      NaN     NaN   \n",
       "14           NaN        NaN       NaN                      NaN     NaN   \n",
       "15           NaN        NaN       NaN                      NaN     NaN   \n",
       "16           NaN        NaN       NaN                      NaN     NaN   \n",
       "17          28.8       71.0      44.0                   1117.0    15.0   \n",
       "18          30.0       71.0      44.0                   1106.0    11.0   \n",
       "19           NaN        NaN       NaN                   1106.0     NaN   \n",
       "20          31.0        NaN       NaN                   1163.0    23.0   \n",
       "21          42.0        NaN       NaN                   1245.0    35.0   \n",
       "22          43.0       24.0      61.0                   1221.0     NaN   \n",
       "23           NaN        NaN       NaN                      NaN     NaN   \n",
       "24           NaN        NaN       NaN                      NaN     NaN   \n",
       "25          26.0        NaN       NaN                   1093.0     3.0   \n",
       "26           NaN        NaN       NaN                      NaN     NaN   \n",
       "27           NaN        NaN       NaN                      NaN     NaN   \n",
       "28          14.0       40.0      12.0                   1008.0     3.0   \n",
       "29          75.8       97.0      97.0                   1352.0    94.4   \n",
       "30          59.5       97.0      94.0                   1308.0    84.3   \n",
       "31          59.5       97.0      94.0                   1308.0    84.3   \n",
       "32          69.7       96.0      92.0                   1334.0    68.0   \n",
       "33          74.3       97.0      97.0                   1306.0    95.2   \n",
       "34           NaN       73.0      56.0                   1235.0     NaN   \n",
       "\n",
       "    Tokens per Second  Prefill Latency (s)  Prompt Length (tk)  \n",
       "0                 NaN                  NaN                 NaN  \n",
       "1                 NaN                  NaN                 NaN  \n",
       "2                 NaN                  NaN                 NaN  \n",
       "3                 NaN                  NaN                 NaN  \n",
       "4                 NaN                  NaN                 NaN  \n",
       "5                 NaN                  NaN                 NaN  \n",
       "6                 NaN                  NaN                 NaN  \n",
       "7                 NaN                  NaN                 NaN  \n",
       "8                 NaN                  NaN                 NaN  \n",
       "9                 NaN                  NaN                 NaN  \n",
       "10                NaN                  NaN                 NaN  \n",
       "11                NaN                  NaN                 NaN  \n",
       "12                NaN                  NaN                 NaN  \n",
       "13                NaN                  NaN                 NaN  \n",
       "14                NaN                  NaN                 NaN  \n",
       "15                NaN                  NaN                 NaN  \n",
       "16                NaN                  NaN                 NaN  \n",
       "17                NaN                  NaN                 NaN  \n",
       "18                NaN                  NaN                 NaN  \n",
       "19                NaN                  NaN                 NaN  \n",
       "20                NaN                  NaN                 NaN  \n",
       "21                NaN                  NaN                 NaN  \n",
       "22                NaN                  NaN                 NaN  \n",
       "23                NaN                  NaN                 NaN  \n",
       "24                NaN                  NaN                 NaN  \n",
       "25                NaN                  NaN                 NaN  \n",
       "26                NaN                  NaN                 NaN  \n",
       "27                NaN                  NaN                 NaN  \n",
       "28                NaN                  NaN                 NaN  \n",
       "29                NaN                  NaN                 NaN  \n",
       "30                NaN                  NaN                 NaN  \n",
       "31                NaN                  NaN                 NaN  \n",
       "32                NaN                  NaN                 NaN  \n",
       "33                NaN                  NaN                 NaN  \n",
       "34                NaN                  NaN                 NaN  "
      ]
     },
     "execution_count": 6,
     "metadata": {},
     "output_type": "execute_result"
    }
   ],
   "source": [
    "api_price_df = pd.read_csv('data/epoch_ai_price_data_not_in_aa_with_benchmarks.csv')\n",
    "api_price_df['Release Date'] = pd.to_datetime(api_price_df['Release Date'].str.strip(), format='%Y-%m-%d')\n",
    "api_price_df"
   ]
  },
  {
   "cell_type": "code",
   "execution_count": 7,
   "metadata": {},
   "outputs": [
    {
     "data": {
      "text/html": [
       "<div>\n",
       "<style scoped>\n",
       "    .dataframe tbody tr th:only-of-type {\n",
       "        vertical-align: middle;\n",
       "    }\n",
       "\n",
       "    .dataframe tbody tr th {\n",
       "        vertical-align: top;\n",
       "    }\n",
       "\n",
       "    .dataframe thead th {\n",
       "        text-align: right;\n",
       "    }\n",
       "</style>\n",
       "<table border=\"1\" class=\"dataframe\">\n",
       "  <thead>\n",
       "    <tr style=\"text-align: right;\">\n",
       "      <th></th>\n",
       "      <th>Model Name</th>\n",
       "      <th>Release Date</th>\n",
       "      <th>USD per 1M Tokens</th>\n",
       "      <th>MMLU</th>\n",
       "      <th>GPQA Diamond</th>\n",
       "      <th>HumanEval</th>\n",
       "      <th>MATH-500</th>\n",
       "      <th>LMSys Chatbot Arena ELO</th>\n",
       "      <th>MATH 5</th>\n",
       "      <th>Tokens per Second</th>\n",
       "      <th>Prefill Latency (s)</th>\n",
       "      <th>Prompt Length (tk)</th>\n",
       "    </tr>\n",
       "  </thead>\n",
       "  <tbody>\n",
       "    <tr>\n",
       "      <th>0</th>\n",
       "      <td>GPT-3 175B (davinci)</td>\n",
       "      <td>2021-11-20</td>\n",
       "      <td>60.000</td>\n",
       "      <td>43.9</td>\n",
       "      <td>NaN</td>\n",
       "      <td>NaN</td>\n",
       "      <td>NaN</td>\n",
       "      <td>NaN</td>\n",
       "      <td>NaN</td>\n",
       "      <td>NaN</td>\n",
       "      <td>NaN</td>\n",
       "      <td>NaN</td>\n",
       "    </tr>\n",
       "    <tr>\n",
       "      <th>1</th>\n",
       "      <td>GPT-3 175B (davinci)</td>\n",
       "      <td>2022-08-31</td>\n",
       "      <td>60.000</td>\n",
       "      <td>43.9</td>\n",
       "      <td>NaN</td>\n",
       "      <td>NaN</td>\n",
       "      <td>NaN</td>\n",
       "      <td>NaN</td>\n",
       "      <td>NaN</td>\n",
       "      <td>NaN</td>\n",
       "      <td>NaN</td>\n",
       "      <td>NaN</td>\n",
       "    </tr>\n",
       "    <tr>\n",
       "      <th>2</th>\n",
       "      <td>GPT-3 175B (davinci)</td>\n",
       "      <td>2022-09-01</td>\n",
       "      <td>20.000</td>\n",
       "      <td>43.9</td>\n",
       "      <td>NaN</td>\n",
       "      <td>NaN</td>\n",
       "      <td>NaN</td>\n",
       "      <td>NaN</td>\n",
       "      <td>NaN</td>\n",
       "      <td>NaN</td>\n",
       "      <td>NaN</td>\n",
       "      <td>NaN</td>\n",
       "    </tr>\n",
       "    <tr>\n",
       "      <th>3</th>\n",
       "      <td>GPT-3.5</td>\n",
       "      <td>2022-11-30</td>\n",
       "      <td>20.000</td>\n",
       "      <td>64.8</td>\n",
       "      <td>NaN</td>\n",
       "      <td>NaN</td>\n",
       "      <td>NaN</td>\n",
       "      <td>NaN</td>\n",
       "      <td>NaN</td>\n",
       "      <td>NaN</td>\n",
       "      <td>NaN</td>\n",
       "      <td>NaN</td>\n",
       "    </tr>\n",
       "    <tr>\n",
       "      <th>4</th>\n",
       "      <td>GPT-3.5 Turbo</td>\n",
       "      <td>2023-03-06</td>\n",
       "      <td>2.000</td>\n",
       "      <td>68.0</td>\n",
       "      <td>NaN</td>\n",
       "      <td>NaN</td>\n",
       "      <td>NaN</td>\n",
       "      <td>1106.0</td>\n",
       "      <td>NaN</td>\n",
       "      <td>NaN</td>\n",
       "      <td>NaN</td>\n",
       "      <td>NaN</td>\n",
       "    </tr>\n",
       "    <tr>\n",
       "      <th>...</th>\n",
       "      <td>...</td>\n",
       "      <td>...</td>\n",
       "      <td>...</td>\n",
       "      <td>...</td>\n",
       "      <td>...</td>\n",
       "      <td>...</td>\n",
       "      <td>...</td>\n",
       "      <td>...</td>\n",
       "      <td>...</td>\n",
       "      <td>...</td>\n",
       "      <td>...</td>\n",
       "      <td>...</td>\n",
       "    </tr>\n",
       "    <tr>\n",
       "      <th>68</th>\n",
       "      <td>DeepSeek-R1</td>\n",
       "      <td>2025-01-20</td>\n",
       "      <td>0.960</td>\n",
       "      <td>NaN</td>\n",
       "      <td>71.7</td>\n",
       "      <td>98.0</td>\n",
       "      <td>96.0</td>\n",
       "      <td>1362.0</td>\n",
       "      <td>93.1</td>\n",
       "      <td>NaN</td>\n",
       "      <td>NaN</td>\n",
       "      <td>NaN</td>\n",
       "    </tr>\n",
       "    <tr>\n",
       "      <th>69</th>\n",
       "      <td>Mistral Small 3</td>\n",
       "      <td>2025-01-30</td>\n",
       "      <td>0.475</td>\n",
       "      <td>82.0</td>\n",
       "      <td>46.0</td>\n",
       "      <td>85.0</td>\n",
       "      <td>74.0</td>\n",
       "      <td>1210.0</td>\n",
       "      <td>45.0</td>\n",
       "      <td>NaN</td>\n",
       "      <td>NaN</td>\n",
       "      <td>NaN</td>\n",
       "    </tr>\n",
       "    <tr>\n",
       "      <th>70</th>\n",
       "      <td>o1-mini</td>\n",
       "      <td>2025-01-31</td>\n",
       "      <td>1.925</td>\n",
       "      <td>NaN</td>\n",
       "      <td>59.5</td>\n",
       "      <td>97.0</td>\n",
       "      <td>94.0</td>\n",
       "      <td>1308.0</td>\n",
       "      <td>84.3</td>\n",
       "      <td>NaN</td>\n",
       "      <td>NaN</td>\n",
       "      <td>NaN</td>\n",
       "    </tr>\n",
       "    <tr>\n",
       "      <th>71</th>\n",
       "      <td>o3-mini</td>\n",
       "      <td>2025-01-31</td>\n",
       "      <td>1.925</td>\n",
       "      <td>NaN</td>\n",
       "      <td>74.3</td>\n",
       "      <td>97.0</td>\n",
       "      <td>97.0</td>\n",
       "      <td>1306.0</td>\n",
       "      <td>95.2</td>\n",
       "      <td>NaN</td>\n",
       "      <td>NaN</td>\n",
       "      <td>NaN</td>\n",
       "    </tr>\n",
       "    <tr>\n",
       "      <th>72</th>\n",
       "      <td>Gemini 2.0 Flash</td>\n",
       "      <td>2025-02-05</td>\n",
       "      <td>0.175</td>\n",
       "      <td>88.0</td>\n",
       "      <td>62.0</td>\n",
       "      <td>90.0</td>\n",
       "      <td>93.0</td>\n",
       "      <td>1358.0</td>\n",
       "      <td>82.0</td>\n",
       "      <td>NaN</td>\n",
       "      <td>NaN</td>\n",
       "      <td>NaN</td>\n",
       "    </tr>\n",
       "  </tbody>\n",
       "</table>\n",
       "<p>73 rows × 12 columns</p>\n",
       "</div>"
      ],
      "text/plain": [
       "              Model Name Release Date  USD per 1M Tokens  MMLU  GPQA Diamond  \\\n",
       "0   GPT-3 175B (davinci)   2021-11-20             60.000  43.9           NaN   \n",
       "1   GPT-3 175B (davinci)   2022-08-31             60.000  43.9           NaN   \n",
       "2   GPT-3 175B (davinci)   2022-09-01             20.000  43.9           NaN   \n",
       "3                GPT-3.5   2022-11-30             20.000  64.8           NaN   \n",
       "4          GPT-3.5 Turbo   2023-03-06              2.000  68.0           NaN   \n",
       "..                   ...          ...                ...   ...           ...   \n",
       "68           DeepSeek-R1   2025-01-20              0.960   NaN          71.7   \n",
       "69       Mistral Small 3   2025-01-30              0.475  82.0          46.0   \n",
       "70               o1-mini   2025-01-31              1.925   NaN          59.5   \n",
       "71               o3-mini   2025-01-31              1.925   NaN          74.3   \n",
       "72      Gemini 2.0 Flash   2025-02-05              0.175  88.0          62.0   \n",
       "\n",
       "    HumanEval  MATH-500  LMSys Chatbot Arena ELO  MATH 5  Tokens per Second  \\\n",
       "0         NaN       NaN                      NaN     NaN                NaN   \n",
       "1         NaN       NaN                      NaN     NaN                NaN   \n",
       "2         NaN       NaN                      NaN     NaN                NaN   \n",
       "3         NaN       NaN                      NaN     NaN                NaN   \n",
       "4         NaN       NaN                   1106.0     NaN                NaN   \n",
       "..        ...       ...                      ...     ...                ...   \n",
       "68       98.0      96.0                   1362.0    93.1                NaN   \n",
       "69       85.0      74.0                   1210.0    45.0                NaN   \n",
       "70       97.0      94.0                   1308.0    84.3                NaN   \n",
       "71       97.0      97.0                   1306.0    95.2                NaN   \n",
       "72       90.0      93.0                   1358.0    82.0                NaN   \n",
       "\n",
       "    Prefill Latency (s)  Prompt Length (tk)  \n",
       "0                   NaN                 NaN  \n",
       "1                   NaN                 NaN  \n",
       "2                   NaN                 NaN  \n",
       "3                   NaN                 NaN  \n",
       "4                   NaN                 NaN  \n",
       "..                  ...                 ...  \n",
       "68                  NaN                 NaN  \n",
       "69                  NaN                 NaN  \n",
       "70                  NaN                 NaN  \n",
       "71                  NaN                 NaN  \n",
       "72                  NaN                 NaN  \n",
       "\n",
       "[73 rows x 12 columns]"
      ]
     },
     "execution_count": 7,
     "metadata": {},
     "output_type": "execute_result"
    }
   ],
   "source": [
    "# Merge the two datasets\n",
    "aa_df = pd.concat([aa_df, api_price_df])\n",
    "aa_df.dropna(subset=['USD per 1M Tokens'], inplace=True)\n",
    "aa_df.sort_values(by='Release Date', inplace=True)\n",
    "# Reset the index\n",
    "aa_df.reset_index(drop=True, inplace=True)\n",
    "aa_df"
   ]
  },
  {
   "cell_type": "code",
   "execution_count": 8,
   "metadata": {},
   "outputs": [
    {
     "data": {
      "text/html": [
       "<div>\n",
       "<style scoped>\n",
       "    .dataframe tbody tr th:only-of-type {\n",
       "        vertical-align: middle;\n",
       "    }\n",
       "\n",
       "    .dataframe tbody tr th {\n",
       "        vertical-align: top;\n",
       "    }\n",
       "\n",
       "    .dataframe thead th {\n",
       "        text-align: right;\n",
       "    }\n",
       "</style>\n",
       "<table border=\"1\" class=\"dataframe\">\n",
       "  <thead>\n",
       "    <tr style=\"text-align: right;\">\n",
       "      <th></th>\n",
       "      <th>Model Name</th>\n",
       "      <th>Release Date</th>\n",
       "      <th>USD per 1M Tokens</th>\n",
       "      <th>MMLU</th>\n",
       "      <th>GPQA Diamond</th>\n",
       "      <th>HumanEval</th>\n",
       "      <th>MATH-500</th>\n",
       "      <th>LMSys Chatbot Arena ELO</th>\n",
       "      <th>MATH 5</th>\n",
       "      <th>Tokens per Second</th>\n",
       "      <th>Prefill Latency (s)</th>\n",
       "      <th>Prompt Length (tk)</th>\n",
       "    </tr>\n",
       "  </thead>\n",
       "  <tbody>\n",
       "    <tr>\n",
       "      <th>0</th>\n",
       "      <td>GPT-3</td>\n",
       "      <td>2021-11-20</td>\n",
       "      <td>60.000</td>\n",
       "      <td>43.9</td>\n",
       "      <td>NaN</td>\n",
       "      <td>NaN</td>\n",
       "      <td>NaN</td>\n",
       "      <td>NaN</td>\n",
       "      <td>NaN</td>\n",
       "      <td>NaN</td>\n",
       "      <td>NaN</td>\n",
       "      <td>NaN</td>\n",
       "    </tr>\n",
       "    <tr>\n",
       "      <th>1</th>\n",
       "      <td>GPT-3</td>\n",
       "      <td>2022-08-31</td>\n",
       "      <td>60.000</td>\n",
       "      <td>43.9</td>\n",
       "      <td>NaN</td>\n",
       "      <td>NaN</td>\n",
       "      <td>NaN</td>\n",
       "      <td>NaN</td>\n",
       "      <td>NaN</td>\n",
       "      <td>NaN</td>\n",
       "      <td>NaN</td>\n",
       "      <td>NaN</td>\n",
       "    </tr>\n",
       "    <tr>\n",
       "      <th>2</th>\n",
       "      <td>GPT-3</td>\n",
       "      <td>2022-09-01</td>\n",
       "      <td>20.000</td>\n",
       "      <td>43.9</td>\n",
       "      <td>NaN</td>\n",
       "      <td>NaN</td>\n",
       "      <td>NaN</td>\n",
       "      <td>NaN</td>\n",
       "      <td>NaN</td>\n",
       "      <td>NaN</td>\n",
       "      <td>NaN</td>\n",
       "      <td>NaN</td>\n",
       "    </tr>\n",
       "    <tr>\n",
       "      <th>3</th>\n",
       "      <td>GPT-3.5</td>\n",
       "      <td>2022-11-30</td>\n",
       "      <td>20.000</td>\n",
       "      <td>64.8</td>\n",
       "      <td>NaN</td>\n",
       "      <td>NaN</td>\n",
       "      <td>NaN</td>\n",
       "      <td>NaN</td>\n",
       "      <td>NaN</td>\n",
       "      <td>NaN</td>\n",
       "      <td>NaN</td>\n",
       "      <td>NaN</td>\n",
       "    </tr>\n",
       "    <tr>\n",
       "      <th>4</th>\n",
       "      <td>GPT-3.5 Turbo</td>\n",
       "      <td>2023-03-06</td>\n",
       "      <td>2.000</td>\n",
       "      <td>68.0</td>\n",
       "      <td>NaN</td>\n",
       "      <td>NaN</td>\n",
       "      <td>NaN</td>\n",
       "      <td>1106.0</td>\n",
       "      <td>NaN</td>\n",
       "      <td>NaN</td>\n",
       "      <td>NaN</td>\n",
       "      <td>NaN</td>\n",
       "    </tr>\n",
       "    <tr>\n",
       "      <th>...</th>\n",
       "      <td>...</td>\n",
       "      <td>...</td>\n",
       "      <td>...</td>\n",
       "      <td>...</td>\n",
       "      <td>...</td>\n",
       "      <td>...</td>\n",
       "      <td>...</td>\n",
       "      <td>...</td>\n",
       "      <td>...</td>\n",
       "      <td>...</td>\n",
       "      <td>...</td>\n",
       "      <td>...</td>\n",
       "    </tr>\n",
       "    <tr>\n",
       "      <th>68</th>\n",
       "      <td>DeepSeek-R1</td>\n",
       "      <td>2025-01-20</td>\n",
       "      <td>0.960</td>\n",
       "      <td>NaN</td>\n",
       "      <td>71.7</td>\n",
       "      <td>98.0</td>\n",
       "      <td>96.0</td>\n",
       "      <td>1362.0</td>\n",
       "      <td>93.1</td>\n",
       "      <td>NaN</td>\n",
       "      <td>NaN</td>\n",
       "      <td>NaN</td>\n",
       "    </tr>\n",
       "    <tr>\n",
       "      <th>69</th>\n",
       "      <td>Mistral Small 3</td>\n",
       "      <td>2025-01-30</td>\n",
       "      <td>0.475</td>\n",
       "      <td>82.0</td>\n",
       "      <td>46.0</td>\n",
       "      <td>85.0</td>\n",
       "      <td>74.0</td>\n",
       "      <td>1210.0</td>\n",
       "      <td>45.0</td>\n",
       "      <td>NaN</td>\n",
       "      <td>NaN</td>\n",
       "      <td>NaN</td>\n",
       "    </tr>\n",
       "    <tr>\n",
       "      <th>70</th>\n",
       "      <td>o1-mini</td>\n",
       "      <td>2025-01-31</td>\n",
       "      <td>1.925</td>\n",
       "      <td>NaN</td>\n",
       "      <td>59.5</td>\n",
       "      <td>97.0</td>\n",
       "      <td>94.0</td>\n",
       "      <td>1308.0</td>\n",
       "      <td>84.3</td>\n",
       "      <td>NaN</td>\n",
       "      <td>NaN</td>\n",
       "      <td>NaN</td>\n",
       "    </tr>\n",
       "    <tr>\n",
       "      <th>71</th>\n",
       "      <td>o3-mini</td>\n",
       "      <td>2025-01-31</td>\n",
       "      <td>1.925</td>\n",
       "      <td>NaN</td>\n",
       "      <td>74.3</td>\n",
       "      <td>97.0</td>\n",
       "      <td>97.0</td>\n",
       "      <td>1306.0</td>\n",
       "      <td>95.2</td>\n",
       "      <td>NaN</td>\n",
       "      <td>NaN</td>\n",
       "      <td>NaN</td>\n",
       "    </tr>\n",
       "    <tr>\n",
       "      <th>72</th>\n",
       "      <td>Gemini 2.0 Flash</td>\n",
       "      <td>2025-02-05</td>\n",
       "      <td>0.175</td>\n",
       "      <td>88.0</td>\n",
       "      <td>62.0</td>\n",
       "      <td>90.0</td>\n",
       "      <td>93.0</td>\n",
       "      <td>1358.0</td>\n",
       "      <td>82.0</td>\n",
       "      <td>NaN</td>\n",
       "      <td>NaN</td>\n",
       "      <td>NaN</td>\n",
       "    </tr>\n",
       "  </tbody>\n",
       "</table>\n",
       "<p>73 rows × 12 columns</p>\n",
       "</div>"
      ],
      "text/plain": [
       "          Model Name Release Date  USD per 1M Tokens  MMLU  GPQA Diamond  \\\n",
       "0              GPT-3   2021-11-20             60.000  43.9           NaN   \n",
       "1              GPT-3   2022-08-31             60.000  43.9           NaN   \n",
       "2              GPT-3   2022-09-01             20.000  43.9           NaN   \n",
       "3            GPT-3.5   2022-11-30             20.000  64.8           NaN   \n",
       "4      GPT-3.5 Turbo   2023-03-06              2.000  68.0           NaN   \n",
       "..               ...          ...                ...   ...           ...   \n",
       "68       DeepSeek-R1   2025-01-20              0.960   NaN          71.7   \n",
       "69   Mistral Small 3   2025-01-30              0.475  82.0          46.0   \n",
       "70           o1-mini   2025-01-31              1.925   NaN          59.5   \n",
       "71           o3-mini   2025-01-31              1.925   NaN          74.3   \n",
       "72  Gemini 2.0 Flash   2025-02-05              0.175  88.0          62.0   \n",
       "\n",
       "    HumanEval  MATH-500  LMSys Chatbot Arena ELO  MATH 5  Tokens per Second  \\\n",
       "0         NaN       NaN                      NaN     NaN                NaN   \n",
       "1         NaN       NaN                      NaN     NaN                NaN   \n",
       "2         NaN       NaN                      NaN     NaN                NaN   \n",
       "3         NaN       NaN                      NaN     NaN                NaN   \n",
       "4         NaN       NaN                   1106.0     NaN                NaN   \n",
       "..        ...       ...                      ...     ...                ...   \n",
       "68       98.0      96.0                   1362.0    93.1                NaN   \n",
       "69       85.0      74.0                   1210.0    45.0                NaN   \n",
       "70       97.0      94.0                   1308.0    84.3                NaN   \n",
       "71       97.0      97.0                   1306.0    95.2                NaN   \n",
       "72       90.0      93.0                   1358.0    82.0                NaN   \n",
       "\n",
       "    Prefill Latency (s)  Prompt Length (tk)  \n",
       "0                   NaN                 NaN  \n",
       "1                   NaN                 NaN  \n",
       "2                   NaN                 NaN  \n",
       "3                   NaN                 NaN  \n",
       "4                   NaN                 NaN  \n",
       "..                  ...                 ...  \n",
       "68                  NaN                 NaN  \n",
       "69                  NaN                 NaN  \n",
       "70                  NaN                 NaN  \n",
       "71                  NaN                 NaN  \n",
       "72                  NaN                 NaN  \n",
       "\n",
       "[73 rows x 12 columns]"
      ]
     },
     "execution_count": 8,
     "metadata": {},
     "output_type": "execute_result"
    }
   ],
   "source": [
    "# Rename all instances of 'GPT-3 175B (davinci)' to 'GPT-3'\n",
    "aa_df.loc[aa_df['Model Name'] == 'GPT-3 175B (davinci)', 'Model Name'] = 'GPT-3'\n",
    "aa_df\n"
   ]
  },
  {
   "cell_type": "code",
   "execution_count": 9,
   "metadata": {},
   "outputs": [
    {
     "data": {
      "text/plain": [
       "0                GPT-3 (2021-11)\n",
       "1                GPT-3 (2022-08)\n",
       "2                GPT-3 (2022-09)\n",
       "3              GPT-3.5 (2022-11)\n",
       "4        GPT-3.5 Turbo (2023-03)\n",
       "                 ...            \n",
       "68         DeepSeek-R1 (2025-01)\n",
       "69     Mistral Small 3 (2025-01)\n",
       "70             o1-mini (2025-01)\n",
       "71             o3-mini (2025-01)\n",
       "72    Gemini 2.0 Flash (2025-02)\n",
       "Name: Model Name and Date, Length: 73, dtype: object"
      ]
     },
     "execution_count": 9,
     "metadata": {},
     "output_type": "execute_result"
    }
   ],
   "source": [
    "aa_df['Model Name and Date'] = aa_df['Model Name'] + ' (' + aa_df['Release Date'].dt.strftime('%Y-%m') + ')'\n",
    "aa_df['Model Name and Date']"
   ]
  },
  {
   "cell_type": "markdown",
   "metadata": {},
   "source": [
    "## Merge in the data from evaluation logs"
   ]
  },
  {
   "cell_type": "code",
   "execution_count": 10,
   "metadata": {},
   "outputs": [
    {
     "data": {
      "text/html": [
       "<div>\n",
       "<style scoped>\n",
       "    .dataframe tbody tr th:only-of-type {\n",
       "        vertical-align: middle;\n",
       "    }\n",
       "\n",
       "    .dataframe tbody tr th {\n",
       "        vertical-align: top;\n",
       "    }\n",
       "\n",
       "    .dataframe thead th {\n",
       "        text-align: right;\n",
       "    }\n",
       "</style>\n",
       "<table border=\"1\" class=\"dataframe\">\n",
       "  <thead>\n",
       "    <tr style=\"text-align: right;\">\n",
       "      <th></th>\n",
       "      <th>Model</th>\n",
       "      <th>Task</th>\n",
       "      <th>epochs</th>\n",
       "      <th>total_samples</th>\n",
       "      <th>input_tokens</th>\n",
       "      <th>output_tokens</th>\n",
       "      <th>total_tokens</th>\n",
       "    </tr>\n",
       "  </thead>\n",
       "  <tbody>\n",
       "    <tr>\n",
       "      <th>0</th>\n",
       "      <td>Yi-34B-Chat</td>\n",
       "      <td>MATH level 5</td>\n",
       "      <td>8</td>\n",
       "      <td>10592</td>\n",
       "      <td>2222376</td>\n",
       "      <td>7308455</td>\n",
       "      <td>9530831</td>\n",
       "    </tr>\n",
       "    <tr>\n",
       "      <th>1</th>\n",
       "      <td>Qwen2.5-72B-Instruct</td>\n",
       "      <td>MATH level 5</td>\n",
       "      <td>8</td>\n",
       "      <td>10592</td>\n",
       "      <td>2243320</td>\n",
       "      <td>9708977</td>\n",
       "      <td>11952297</td>\n",
       "    </tr>\n",
       "    <tr>\n",
       "      <th>2</th>\n",
       "      <td>gpt-4-0613</td>\n",
       "      <td>MATH level 5</td>\n",
       "      <td>8</td>\n",
       "      <td>10592</td>\n",
       "      <td>1982888</td>\n",
       "      <td>3620454</td>\n",
       "      <td>5603342</td>\n",
       "    </tr>\n",
       "    <tr>\n",
       "      <th>3</th>\n",
       "      <td>o1-mini-2024-09-12_high</td>\n",
       "      <td>MATH level 5</td>\n",
       "      <td>4</td>\n",
       "      <td>5296</td>\n",
       "      <td>988900</td>\n",
       "      <td>9914854</td>\n",
       "      <td>10903754</td>\n",
       "    </tr>\n",
       "    <tr>\n",
       "      <th>4</th>\n",
       "      <td>gpt-4-turbo-2024-04-09</td>\n",
       "      <td>OTIS Mock AIME 2024-2025</td>\n",
       "      <td>8</td>\n",
       "      <td>360</td>\n",
       "      <td>65592</td>\n",
       "      <td>272569</td>\n",
       "      <td>338161</td>\n",
       "    </tr>\n",
       "  </tbody>\n",
       "</table>\n",
       "</div>"
      ],
      "text/plain": [
       "                     Model                      Task  epochs  total_samples  \\\n",
       "0              Yi-34B-Chat              MATH level 5       8          10592   \n",
       "1     Qwen2.5-72B-Instruct              MATH level 5       8          10592   \n",
       "2               gpt-4-0613              MATH level 5       8          10592   \n",
       "3  o1-mini-2024-09-12_high              MATH level 5       4           5296   \n",
       "4   gpt-4-turbo-2024-04-09  OTIS Mock AIME 2024-2025       8            360   \n",
       "\n",
       "   input_tokens  output_tokens  total_tokens  \n",
       "0       2222376        7308455       9530831  \n",
       "1       2243320        9708977      11952297  \n",
       "2       1982888        3620454       5603342  \n",
       "3        988900        9914854      10903754  \n",
       "4         65592         272569        338161  "
      ]
     },
     "execution_count": 10,
     "metadata": {},
     "output_type": "execute_result"
    }
   ],
   "source": [
    "# Saved in save_evaluation_data.ipynb\n",
    "eval_log_df = pd.read_csv('data/epoch_ai_eval_data.csv')\n",
    "eval_log_df.head()"
   ]
  },
  {
   "cell_type": "code",
   "execution_count": 11,
   "metadata": {},
   "outputs": [
    {
     "name": "stdout",
     "output_type": "stream",
     "text": [
      "['claude-2.0', 'claude-2.1', 'claude-3-5-haiku-20241022', 'claude-3-5-sonnet-20240620', 'claude-3-5-sonnet-20241022', 'claude-3-7-sonnet-20250219', 'claude-3-7-sonnet-20250219_16K', 'claude-3-haiku-20240307', 'claude-3-opus-20240229', 'claude-3-sonnet-20240229', 'dbrx-instruct', 'deepseek-llm-67b-chat', 'DeepSeek-R1', 'DeepSeek-V3', 'Eurus-2-7B-PRIME', 'gemini-1.0-pro-001', 'gemini-1.5-flash-001', 'gemini-1.5-flash-002', 'gemini-1.5-flash-8b-001', 'gemini-1.5-pro-001', 'gemini-1.5-pro-002', 'gemini-2.0-flash-001', 'gemini-2.0-flash-thinking-exp-01-21', 'gemini-2.0-pro-exp-02-05', 'gemma-2-27b-it', 'gemma-2-9b-it', 'gpt-3.5-turbo-0125', 'gpt-3.5-turbo-1106', 'gpt-4-0125-preview', 'gpt-4-0613', 'gpt-4-1106-preview', 'gpt-4-turbo-2024-04-09', 'gpt-4.5-preview-2025-02-27', 'gpt-4o-2024-05-13', 'gpt-4o-2024-08-06', 'gpt-4o-2024-11-20', 'gpt-4o-mini-2024-07-18', 'grok-2-1212', 'Hermes-2-Theta-Llama-3-70B', 'Llama-2-70b-chat-hf', 'Llama-3.1-405B-Instruct', 'Llama-3.1-70B-Instruct', 'Llama-3.1-8B-Instruct', 'Llama-3.1-Tulu-3-70B-DPO', 'Llama-3.2-90B-Vision-Instruct', 'Llama-3.3-70B-Instruct', 'Meta-Llama-3-70B-Instruct', 'Meta-Llama-3-8B-Instruct', 'ministral-3b-2410', 'ministral-8b-2410', 'Mistral-7B-Instruct-v0.3', 'mistral-large-2402', 'mistral-large-2407', 'mistral-large-2411', 'mistral-small-2501', 'Mixtral-8x7B-Instruct-v0.1', 'o1-2024-12-17_high', 'o1-2024-12-17_medium', 'o1-mini-2024-09-12_high', 'o1-mini-2024-09-12_medium', 'o1-preview-2024-09-12_medium', 'o3-mini-2025-01-31_high', 'o3-mini-2025-01-31_medium', 'open-mistral-7b', 'open-mistral-nemo-2407', 'open-mixtral-8x22b', 'open-mixtral-8x7b', 'Phi-3-medium-128k-instruct ', 'phi-4', 'Qwen1.5-32B-Chat', 'Qwen1.5-72B-Chat', 'Qwen2-72B-Instruct', 'Qwen2.5-32B-Instruct', 'Qwen2.5-72B-Instruct', 'WizardLM-2-8x22B', 'Yi-1.5-34B-Chat', 'Yi-34B-Chat']\n"
     ]
    }
   ],
   "source": [
    "print(sorted(eval_log_df['Model'].unique(), key=lambda x: str(x).lower()))"
   ]
  },
  {
   "cell_type": "code",
   "execution_count": 12,
   "metadata": {},
   "outputs": [],
   "source": [
    "model_mapping = {\n",
    "    # Claude models\n",
    "    'claude-3-haiku-20240307': 'Claude-3-Haiku',\n",
    "    'claude-3-opus-20240229': 'Claude-3-Opus',\n",
    "    'claude-3-sonnet-20240229': 'Claude-3-Sonnet',\n",
    "    'claude-3-5-sonnet-20240620': 'Claude-3.5-Sonnet-2024-06',\n",
    "    'claude-3-5-sonnet-20241022': 'Claude-3.5-Sonnet-2024-10',\n",
    "    'claude-2.0': 'Claude 2',\n",
    "    'claude-2.1': 'Claude 2.1',\n",
    "    \n",
    "    # Gemini models\n",
    "    'gemini-2.0-flash-001': 'Gemini 2.0 Flash',\n",
    "    # 'gemini-2.0-flash-thinking-exp-01-21': 'Gemini 2.0 Flash Thinking',\n",
    "    'gemini-1.5-flash-001': 'Gemini-1.5-Flash-2024-05',\n",
    "    'gemini-1.5-flash-002': 'Gemini-1.5-Flash-2024-09',\n",
    "    'gemini-1.5-pro-001': 'Gemini-1.5-Pro-2024-05',\n",
    "    'gemini-1.5-pro-002': 'Gemini-1.5-Pro-2024-09',\n",
    "    'gemini-1.0-pro-001': 'Gemini 1.0 Pro',\n",
    "    \n",
    "    # Gemma models\n",
    "    'gemma-2-27b-it': 'Gemma-2-27B',\n",
    "    'gemma-2-9b-it': 'Gemma-2-9B',\n",
    "    \n",
    "    # GPT models\n",
    "    'gpt-3.5-turbo-0125': 'GPT-3.5-Turbo-2024-01',\n",
    "    'gpt-3.5-turbo-1106': 'GPT-3.5-Turbo-2023-11',\n",
    "    'gpt-4-0613': 'GPT-4-0314',\n",
    "    'gpt-4-1106-preview': 'GPT-4-1106',\n",
    "    'gpt-4-0125-preview': 'GPT-4-0125',\n",
    "    'gpt-4-turbo-2024-04-09': 'GPT-4 Turbo',\n",
    "    'gpt-4o-2024-05-13': 'GPT-4o-2024-05',\n",
    "    'gpt-4o-2024-08-06': 'GPT-4o-2024-08',\n",
    "    'gpt-4o-2024-11-20': 'GPT-4o-2024-11',\n",
    "    'gpt-4o-mini-2024-07-18': 'GPT-4o-mini',\n",
    "    \n",
    "    # Llama models\n",
    "    'Llama-2-70b-chat-hf': 'Llama 2-70B Chat',\n",
    "    'Meta-Llama-3-8B-Instruct': 'Llama-3-Instruct-8B',\n",
    "    'Meta-Llama-3-70B-Instruct': 'Llama-3-Instruct-70B',\n",
    "    'Meta-Llama-3.1-8B-Instruct': 'Llama-3.1-Instruct-8B',\n",
    "    'Meta-Llama-3.1-70B-Instruct': 'Llama-3.1-Instruct-70B',\n",
    "    'Meta-Llama-3.1-405B-Instruct': 'Llama-3.1-Instruct-405B',\n",
    "    # 'llama-3.1-405b-instruct-maas': 'Llama-3.1-Instruct-405B',\n",
    "    # 'llama-v3p3-70b-instruct': 'Llama-3.1-Instruct-70B',\n",
    "    # 'Llama-3.1-Tulu-3-70B-DPO': 'Llama-3.1-Instruct-70B',\n",
    "    \n",
    "    # Mistral models\n",
    "    'Mistral-7B-Instruct-v0.3': 'Mistral 7B',\n",
    "    'mistral-large-2402': 'Mistral-Large-2024-02',\n",
    "    'mistral-large-2407': 'Mistral-Large-2-2024-06',\n",
    "    'open-mistral-7b': 'Mistral 7B',\n",
    "    'open-mistral-nemo-2407': 'Mistral-NeMo',\n",
    "    'mistral-small-2501': 'Mistral Small 3',\n",
    "    'open-mixtral-8x22b': 'Mistral-8x22',\n",
    "    # 'open-mixtral-8x7b': 'Mistral 7B',\n",
    "    # 'Mixtral-8x7B-Instruct-v0.1': 'Mistral 7B',\n",
    "    # 'WizardLM-2-8x22B': 'Mistral-8x22',\n",
    "    \n",
    "    # Phi models\n",
    "    'phi-4': 'Phi 4',\n",
    "    \n",
    "    # Anthropic o models\n",
    "    'o1-2024-12-17_high': 'o1',\n",
    "    'o1-2024-12-17_medium': 'o1',\n",
    "    'o1-mini-2024-09-12_high': 'o1-mini',\n",
    "    'o1-mini-2024-09-12_medium': 'o1-mini',\n",
    "    'o1-preview-2024-09-12_medium': 'o1-preview',\n",
    "    'o3-mini-2025-01-31_high': 'o3-mini',\n",
    "    'o3-mini-2025-01-31_medium': 'o3-mini',\n",
    "    \n",
    "    # DeepSeek models\n",
    "    'deepseek-r1': 'DeepSeek-R1',\n",
    "    'deepseek-v3': 'DeepSeek-V3',\n",
    "    'DeepSeek-V3': 'DeepSeek-V3',\n",
    "    \n",
    "    # Qwen models (no exact matches in Set 2, but including for completeness)\n",
    "    # 'qwen2p5-72b-instruct': 'Qwen2.5-72B-Instruct',\n",
    "    # 'Qwen2.5-32B-Instruct': 'Qwen2.5-32B-Instruct',\n",
    "    # 'Qwen2.5-72B-Instruct': 'Qwen2.5-72B-Instruct',\n",
    "    # 'Qwen1.5-72B-Chat': 'Qwen1.5-72B-Chat',\n",
    "    # 'Qwen1.5-32B-Chat': 'Qwen1.5-32B-Chat',\n",
    "    # 'Qwen2-72B-Instruct': 'Qwen2-72B-Instruct',\n",
    "    \n",
    "    # Other models without clear matches\n",
    "    # 'Yi-34B-Chat': 'Yi-34B-Chat',\n",
    "    # 'Yi-1.5-34B-Chat': 'Yi-1.5-34B-Chat',\n",
    "    # 'dbrx-instruct': 'dbrx-instruct',\n",
    "    # 'grok-2-1212': 'grok-2-1212',\n",
    "    # 'Hermes-2-Theta-Llama-3-70B': 'Hermes-2-Theta-Llama-3-70B',\n",
    "    # 'Eurus-2-7B-PRIME': 'Eurus-2-7B-PRIME',\n",
    "    # 'ministral-8b-2410': 'ministral-8b-2410',\n",
    "    # 'ministral-3b-2410': 'ministral-3b-2410'\n",
    "}"
   ]
  },
  {
   "cell_type": "code",
   "execution_count": 13,
   "metadata": {},
   "outputs": [
    {
     "data": {
      "text/html": [
       "<div>\n",
       "<style scoped>\n",
       "    .dataframe tbody tr th:only-of-type {\n",
       "        vertical-align: middle;\n",
       "    }\n",
       "\n",
       "    .dataframe tbody tr th {\n",
       "        vertical-align: top;\n",
       "    }\n",
       "\n",
       "    .dataframe thead th {\n",
       "        text-align: right;\n",
       "    }\n",
       "</style>\n",
       "<table border=\"1\" class=\"dataframe\">\n",
       "  <thead>\n",
       "    <tr style=\"text-align: right;\">\n",
       "      <th></th>\n",
       "      <th>Model</th>\n",
       "      <th>Task</th>\n",
       "      <th>epochs</th>\n",
       "      <th>total_samples</th>\n",
       "      <th>input_tokens</th>\n",
       "      <th>output_tokens</th>\n",
       "      <th>total_tokens</th>\n",
       "      <th>Model Name</th>\n",
       "      <th>Release Date</th>\n",
       "      <th>USD per 1M Tokens</th>\n",
       "      <th>MMLU</th>\n",
       "      <th>GPQA Diamond</th>\n",
       "      <th>HumanEval</th>\n",
       "      <th>MATH-500</th>\n",
       "      <th>LMSys Chatbot Arena ELO</th>\n",
       "      <th>MATH 5</th>\n",
       "      <th>Tokens per Second</th>\n",
       "      <th>Prefill Latency (s)</th>\n",
       "      <th>Prompt Length (tk)</th>\n",
       "      <th>Model Name and Date</th>\n",
       "    </tr>\n",
       "  </thead>\n",
       "  <tbody>\n",
       "    <tr>\n",
       "      <th>0</th>\n",
       "      <td>NaN</td>\n",
       "      <td>NaN</td>\n",
       "      <td>NaN</td>\n",
       "      <td>NaN</td>\n",
       "      <td>NaN</td>\n",
       "      <td>NaN</td>\n",
       "      <td>NaN</td>\n",
       "      <td>GPT-3</td>\n",
       "      <td>2021-11-20</td>\n",
       "      <td>60.000</td>\n",
       "      <td>43.9</td>\n",
       "      <td>NaN</td>\n",
       "      <td>NaN</td>\n",
       "      <td>NaN</td>\n",
       "      <td>NaN</td>\n",
       "      <td>NaN</td>\n",
       "      <td>NaN</td>\n",
       "      <td>NaN</td>\n",
       "      <td>NaN</td>\n",
       "      <td>GPT-3 (2021-11)</td>\n",
       "    </tr>\n",
       "    <tr>\n",
       "      <th>1</th>\n",
       "      <td>NaN</td>\n",
       "      <td>NaN</td>\n",
       "      <td>NaN</td>\n",
       "      <td>NaN</td>\n",
       "      <td>NaN</td>\n",
       "      <td>NaN</td>\n",
       "      <td>NaN</td>\n",
       "      <td>GPT-3</td>\n",
       "      <td>2022-08-31</td>\n",
       "      <td>60.000</td>\n",
       "      <td>43.9</td>\n",
       "      <td>NaN</td>\n",
       "      <td>NaN</td>\n",
       "      <td>NaN</td>\n",
       "      <td>NaN</td>\n",
       "      <td>NaN</td>\n",
       "      <td>NaN</td>\n",
       "      <td>NaN</td>\n",
       "      <td>NaN</td>\n",
       "      <td>GPT-3 (2022-08)</td>\n",
       "    </tr>\n",
       "    <tr>\n",
       "      <th>2</th>\n",
       "      <td>NaN</td>\n",
       "      <td>NaN</td>\n",
       "      <td>NaN</td>\n",
       "      <td>NaN</td>\n",
       "      <td>NaN</td>\n",
       "      <td>NaN</td>\n",
       "      <td>NaN</td>\n",
       "      <td>GPT-3</td>\n",
       "      <td>2022-09-01</td>\n",
       "      <td>20.000</td>\n",
       "      <td>43.9</td>\n",
       "      <td>NaN</td>\n",
       "      <td>NaN</td>\n",
       "      <td>NaN</td>\n",
       "      <td>NaN</td>\n",
       "      <td>NaN</td>\n",
       "      <td>NaN</td>\n",
       "      <td>NaN</td>\n",
       "      <td>NaN</td>\n",
       "      <td>GPT-3 (2022-09)</td>\n",
       "    </tr>\n",
       "    <tr>\n",
       "      <th>3</th>\n",
       "      <td>NaN</td>\n",
       "      <td>NaN</td>\n",
       "      <td>NaN</td>\n",
       "      <td>NaN</td>\n",
       "      <td>NaN</td>\n",
       "      <td>NaN</td>\n",
       "      <td>NaN</td>\n",
       "      <td>GPT-3.5</td>\n",
       "      <td>2022-11-30</td>\n",
       "      <td>20.000</td>\n",
       "      <td>64.8</td>\n",
       "      <td>NaN</td>\n",
       "      <td>NaN</td>\n",
       "      <td>NaN</td>\n",
       "      <td>NaN</td>\n",
       "      <td>NaN</td>\n",
       "      <td>NaN</td>\n",
       "      <td>NaN</td>\n",
       "      <td>NaN</td>\n",
       "      <td>GPT-3.5 (2022-11)</td>\n",
       "    </tr>\n",
       "    <tr>\n",
       "      <th>4</th>\n",
       "      <td>NaN</td>\n",
       "      <td>NaN</td>\n",
       "      <td>NaN</td>\n",
       "      <td>NaN</td>\n",
       "      <td>NaN</td>\n",
       "      <td>NaN</td>\n",
       "      <td>NaN</td>\n",
       "      <td>GPT-3.5 Turbo</td>\n",
       "      <td>2023-03-06</td>\n",
       "      <td>2.000</td>\n",
       "      <td>68.0</td>\n",
       "      <td>NaN</td>\n",
       "      <td>NaN</td>\n",
       "      <td>NaN</td>\n",
       "      <td>1106.0</td>\n",
       "      <td>NaN</td>\n",
       "      <td>NaN</td>\n",
       "      <td>NaN</td>\n",
       "      <td>NaN</td>\n",
       "      <td>GPT-3.5 Turbo (2023-03)</td>\n",
       "    </tr>\n",
       "    <tr>\n",
       "      <th>...</th>\n",
       "      <td>...</td>\n",
       "      <td>...</td>\n",
       "      <td>...</td>\n",
       "      <td>...</td>\n",
       "      <td>...</td>\n",
       "      <td>...</td>\n",
       "      <td>...</td>\n",
       "      <td>...</td>\n",
       "      <td>...</td>\n",
       "      <td>...</td>\n",
       "      <td>...</td>\n",
       "      <td>...</td>\n",
       "      <td>...</td>\n",
       "      <td>...</td>\n",
       "      <td>...</td>\n",
       "      <td>...</td>\n",
       "      <td>...</td>\n",
       "      <td>...</td>\n",
       "      <td>...</td>\n",
       "      <td>...</td>\n",
       "    </tr>\n",
       "    <tr>\n",
       "      <th>140</th>\n",
       "      <td>o3-mini-2025-01-31_high</td>\n",
       "      <td>OTIS Mock AIME 2024-2025</td>\n",
       "      <td>8.0</td>\n",
       "      <td>360.0</td>\n",
       "      <td>65016.0</td>\n",
       "      <td>4697771.0</td>\n",
       "      <td>4762787.0</td>\n",
       "      <td>o3-mini</td>\n",
       "      <td>2025-01-31</td>\n",
       "      <td>1.925</td>\n",
       "      <td>NaN</td>\n",
       "      <td>74.3</td>\n",
       "      <td>97.0</td>\n",
       "      <td>97.0</td>\n",
       "      <td>1306.0</td>\n",
       "      <td>95.2</td>\n",
       "      <td>NaN</td>\n",
       "      <td>NaN</td>\n",
       "      <td>NaN</td>\n",
       "      <td>o3-mini (2025-01)</td>\n",
       "    </tr>\n",
       "    <tr>\n",
       "      <th>141</th>\n",
       "      <td>o3-mini-2025-01-31_medium</td>\n",
       "      <td>MATH level 5</td>\n",
       "      <td>8.0</td>\n",
       "      <td>10592.0</td>\n",
       "      <td>1892201.0</td>\n",
       "      <td>17775998.0</td>\n",
       "      <td>19668199.0</td>\n",
       "      <td>o3-mini</td>\n",
       "      <td>2025-01-31</td>\n",
       "      <td>1.925</td>\n",
       "      <td>NaN</td>\n",
       "      <td>74.3</td>\n",
       "      <td>97.0</td>\n",
       "      <td>97.0</td>\n",
       "      <td>1306.0</td>\n",
       "      <td>95.2</td>\n",
       "      <td>NaN</td>\n",
       "      <td>NaN</td>\n",
       "      <td>NaN</td>\n",
       "      <td>o3-mini (2025-01)</td>\n",
       "    </tr>\n",
       "    <tr>\n",
       "      <th>142</th>\n",
       "      <td>gemini-2.0-flash-001</td>\n",
       "      <td>MATH level 5</td>\n",
       "      <td>8.0</td>\n",
       "      <td>10592.0</td>\n",
       "      <td>1883976.0</td>\n",
       "      <td>9566695.0</td>\n",
       "      <td>11450671.0</td>\n",
       "      <td>Gemini 2.0 Flash</td>\n",
       "      <td>2025-02-05</td>\n",
       "      <td>0.175</td>\n",
       "      <td>88.0</td>\n",
       "      <td>62.0</td>\n",
       "      <td>90.0</td>\n",
       "      <td>93.0</td>\n",
       "      <td>1358.0</td>\n",
       "      <td>82.0</td>\n",
       "      <td>NaN</td>\n",
       "      <td>NaN</td>\n",
       "      <td>NaN</td>\n",
       "      <td>Gemini 2.0 Flash (2025-02)</td>\n",
       "    </tr>\n",
       "    <tr>\n",
       "      <th>143</th>\n",
       "      <td>gemini-2.0-flash-001</td>\n",
       "      <td>OTIS Mock AIME 2024-2025</td>\n",
       "      <td>16.0</td>\n",
       "      <td>720.0</td>\n",
       "      <td>131472.0</td>\n",
       "      <td>1186729.0</td>\n",
       "      <td>1318201.0</td>\n",
       "      <td>Gemini 2.0 Flash</td>\n",
       "      <td>2025-02-05</td>\n",
       "      <td>0.175</td>\n",
       "      <td>88.0</td>\n",
       "      <td>62.0</td>\n",
       "      <td>90.0</td>\n",
       "      <td>93.0</td>\n",
       "      <td>1358.0</td>\n",
       "      <td>82.0</td>\n",
       "      <td>NaN</td>\n",
       "      <td>NaN</td>\n",
       "      <td>NaN</td>\n",
       "      <td>Gemini 2.0 Flash (2025-02)</td>\n",
       "    </tr>\n",
       "    <tr>\n",
       "      <th>144</th>\n",
       "      <td>gemini-2.0-flash-001</td>\n",
       "      <td>GPQA Diamond</td>\n",
       "      <td>16.0</td>\n",
       "      <td>3168.0</td>\n",
       "      <td>806400.0</td>\n",
       "      <td>1943247.0</td>\n",
       "      <td>2749647.0</td>\n",
       "      <td>Gemini 2.0 Flash</td>\n",
       "      <td>2025-02-05</td>\n",
       "      <td>0.175</td>\n",
       "      <td>88.0</td>\n",
       "      <td>62.0</td>\n",
       "      <td>90.0</td>\n",
       "      <td>93.0</td>\n",
       "      <td>1358.0</td>\n",
       "      <td>82.0</td>\n",
       "      <td>NaN</td>\n",
       "      <td>NaN</td>\n",
       "      <td>NaN</td>\n",
       "      <td>Gemini 2.0 Flash (2025-02)</td>\n",
       "    </tr>\n",
       "  </tbody>\n",
       "</table>\n",
       "<p>145 rows × 20 columns</p>\n",
       "</div>"
      ],
      "text/plain": [
       "                         Model                      Task  epochs  \\\n",
       "0                          NaN                       NaN     NaN   \n",
       "1                          NaN                       NaN     NaN   \n",
       "2                          NaN                       NaN     NaN   \n",
       "3                          NaN                       NaN     NaN   \n",
       "4                          NaN                       NaN     NaN   \n",
       "..                         ...                       ...     ...   \n",
       "140    o3-mini-2025-01-31_high  OTIS Mock AIME 2024-2025     8.0   \n",
       "141  o3-mini-2025-01-31_medium              MATH level 5     8.0   \n",
       "142       gemini-2.0-flash-001              MATH level 5     8.0   \n",
       "143       gemini-2.0-flash-001  OTIS Mock AIME 2024-2025    16.0   \n",
       "144       gemini-2.0-flash-001              GPQA Diamond    16.0   \n",
       "\n",
       "     total_samples  input_tokens  output_tokens  total_tokens  \\\n",
       "0              NaN           NaN            NaN           NaN   \n",
       "1              NaN           NaN            NaN           NaN   \n",
       "2              NaN           NaN            NaN           NaN   \n",
       "3              NaN           NaN            NaN           NaN   \n",
       "4              NaN           NaN            NaN           NaN   \n",
       "..             ...           ...            ...           ...   \n",
       "140          360.0       65016.0      4697771.0     4762787.0   \n",
       "141        10592.0     1892201.0     17775998.0    19668199.0   \n",
       "142        10592.0     1883976.0      9566695.0    11450671.0   \n",
       "143          720.0      131472.0      1186729.0     1318201.0   \n",
       "144         3168.0      806400.0      1943247.0     2749647.0   \n",
       "\n",
       "           Model Name Release Date  USD per 1M Tokens  MMLU  GPQA Diamond  \\\n",
       "0               GPT-3   2021-11-20             60.000  43.9           NaN   \n",
       "1               GPT-3   2022-08-31             60.000  43.9           NaN   \n",
       "2               GPT-3   2022-09-01             20.000  43.9           NaN   \n",
       "3             GPT-3.5   2022-11-30             20.000  64.8           NaN   \n",
       "4       GPT-3.5 Turbo   2023-03-06              2.000  68.0           NaN   \n",
       "..                ...          ...                ...   ...           ...   \n",
       "140           o3-mini   2025-01-31              1.925   NaN          74.3   \n",
       "141           o3-mini   2025-01-31              1.925   NaN          74.3   \n",
       "142  Gemini 2.0 Flash   2025-02-05              0.175  88.0          62.0   \n",
       "143  Gemini 2.0 Flash   2025-02-05              0.175  88.0          62.0   \n",
       "144  Gemini 2.0 Flash   2025-02-05              0.175  88.0          62.0   \n",
       "\n",
       "     HumanEval  MATH-500  LMSys Chatbot Arena ELO  MATH 5  Tokens per Second  \\\n",
       "0          NaN       NaN                      NaN     NaN                NaN   \n",
       "1          NaN       NaN                      NaN     NaN                NaN   \n",
       "2          NaN       NaN                      NaN     NaN                NaN   \n",
       "3          NaN       NaN                      NaN     NaN                NaN   \n",
       "4          NaN       NaN                   1106.0     NaN                NaN   \n",
       "..         ...       ...                      ...     ...                ...   \n",
       "140       97.0      97.0                   1306.0    95.2                NaN   \n",
       "141       97.0      97.0                   1306.0    95.2                NaN   \n",
       "142       90.0      93.0                   1358.0    82.0                NaN   \n",
       "143       90.0      93.0                   1358.0    82.0                NaN   \n",
       "144       90.0      93.0                   1358.0    82.0                NaN   \n",
       "\n",
       "     Prefill Latency (s)  Prompt Length (tk)         Model Name and Date  \n",
       "0                    NaN                 NaN             GPT-3 (2021-11)  \n",
       "1                    NaN                 NaN             GPT-3 (2022-08)  \n",
       "2                    NaN                 NaN             GPT-3 (2022-09)  \n",
       "3                    NaN                 NaN           GPT-3.5 (2022-11)  \n",
       "4                    NaN                 NaN     GPT-3.5 Turbo (2023-03)  \n",
       "..                   ...                 ...                         ...  \n",
       "140                  NaN                 NaN           o3-mini (2025-01)  \n",
       "141                  NaN                 NaN           o3-mini (2025-01)  \n",
       "142                  NaN                 NaN  Gemini 2.0 Flash (2025-02)  \n",
       "143                  NaN                 NaN  Gemini 2.0 Flash (2025-02)  \n",
       "144                  NaN                 NaN  Gemini 2.0 Flash (2025-02)  \n",
       "\n",
       "[145 rows x 20 columns]"
      ]
     },
     "execution_count": 13,
     "metadata": {},
     "output_type": "execute_result"
    }
   ],
   "source": [
    "# Keep all rows from df, even if no match in aa_df\n",
    "df_temp = eval_log_df.copy()\n",
    "df_temp['Model Name'] = df_temp['Model'].map(model_mapping)\n",
    "merged_df = pd.merge(df_temp, aa_df, on='Model Name', how='left')\n",
    "\n",
    "# Keep all rows from aa_df, even if no match in df\n",
    "df_temp = eval_log_df.copy()\n",
    "df_temp['Model Name'] = df_temp['Model'].map(model_mapping)\n",
    "merged_df = pd.merge(df_temp, aa_df, on='Model Name', how='right')\n",
    "\n",
    "merged_df"
   ]
  },
  {
   "cell_type": "code",
   "execution_count": 14,
   "metadata": {},
   "outputs": [
    {
     "name": "stdout",
     "output_type": "stream",
     "text": [
      "['GPT-4 Turbo (2023-11)', 'Claude-3.5-Sonnet-2024-06 (2024-06)', 'GPT-3 (2021-11)', 'GPT-3.5 Turbo (2023-03)', 'GPT-4o-2024-08 (2024-08)', 'GPT-3.5 (2022-11)', 'GPT-4-0314 (2023-03)']\n"
     ]
    },
    {
     "data": {
      "application/vnd.plotly.v1+json": {
       "config": {
        "plotlyServerURL": "https://plot.ly"
       },
       "data": [
        {
         "customdata": [
          [
           "GPT-3"
          ],
          [
           "GPT-3"
          ],
          [
           "GPT-3"
          ],
          [
           "GPT-3.5"
          ],
          [
           "GPT-3.5 Turbo"
          ],
          [
           "GPT-4-0314"
          ],
          [
           "GPT-4-0613"
          ],
          [
           "GPT-3.5-Turbo-2023-06"
          ],
          [
           "Llama-2-Chat-13B"
          ],
          [
           "Llama-2-Chat-7B"
          ],
          [
           "GPT-3.5-Turbo-2023-11"
          ],
          [
           "GPT-4 Turbo"
          ],
          [
           "Llama 2-70B Chat"
          ],
          [
           "Llama 2-7B"
          ],
          [
           "Llama 2-13B"
          ],
          [
           "GPT-3"
          ],
          [
           "GPT-3.5-Turbo-2024-01"
          ],
          [
           "GPT-4-0125"
          ],
          [
           "Mistral-Small-2024-02"
          ],
          [
           "Mistral-Large-2024-02"
          ],
          [
           "Claude-3-Haiku"
          ],
          [
           "Claude-3-Sonnet"
          ],
          [
           "Claude-3-Opus"
          ],
          [
           "Llama 2-13B"
          ],
          [
           "Llama 2-7B"
          ],
          [
           "Mistral-8x22"
          ],
          [
           "Llama-3-Instruct-70B"
          ],
          [
           "Llama-3-Instruct-8B"
          ],
          [
           "Gemini-1.5-Flash-2024-05"
          ],
          [
           "GPT-4o-2024-05"
          ],
          [
           "Gemini-1.5-Pro-2024-05"
          ],
          [
           "Claude-3.5-Sonnet-2024-06"
          ],
          [
           "Gemma-2-9B"
          ],
          [
           "Gemma-2-27B"
          ],
          [
           "Mistral-NeMo"
          ],
          [
           "GPT-4o-mini"
          ],
          [
           "Llama-3.1-Instruct-405B"
          ],
          [
           "Llama-3.1-Instruct-8B"
          ],
          [
           "Llama-3.1-Instruct-70B"
          ],
          [
           "Mistral-Large-2-2024-07"
          ],
          [
           "GPT-4o-2024-08"
          ],
          [
           "Claude 2"
          ],
          [
           "Gemini 1.0 Pro"
          ],
          [
           "Claude Instant"
          ],
          [
           "Claude 2.1"
          ],
          [
           "Command R"
          ],
          [
           "Command R+"
          ],
          [
           "Cohere Command Light"
          ],
          [
           "Cohere Command"
          ],
          [
           "DeepSeek-Coder-V2 236B"
          ],
          [
           "o1-preview"
          ],
          [
           "Jamba 1.5-Large"
          ],
          [
           "o1-mini"
          ],
          [
           "Command R+"
          ],
          [
           "Reka Core"
          ],
          [
           "Mistral 7B"
          ],
          [
           "Llama-3.2-Instruct-1B"
          ],
          [
           "Gemini-1.5-Pro-2024-09"
          ],
          [
           "Llama-3.2-Instruct-3B"
          ],
          [
           "Gemini-1.5-Flash-2024-09"
          ],
          [
           "Gemini-1.5-Flash-8B"
          ],
          [
           "Claude-3.5-Sonnet-2024-10"
          ],
          [
           "Claude-3.5-Haiku"
          ],
          [
           "Mistral-Large-2-2024-11"
          ],
          [
           "GPT-4o-2024-11"
          ],
          [
           "Phi 4"
          ],
          [
           "o1"
          ],
          [
           "DeepSeek-V3"
          ],
          [
           "DeepSeek-R1"
          ],
          [
           "Mistral Small 3"
          ],
          [
           "o3-mini"
          ],
          [
           "o1-mini"
          ],
          [
           "Gemini 2.0 Flash"
          ]
         ],
         "hovertemplate": "Release Date=%{x}<br>MMLU=%{y}<br>Model Name=%{customdata[0]}<extra></extra>",
         "legendgroup": "",
         "marker": {
          "color": "lightgray",
          "symbol": "circle"
         },
         "mode": "markers",
         "name": "",
         "orientation": "v",
         "showlegend": false,
         "type": "scatter",
         "x": [
          "2021-11-20T00:00:00",
          "2022-08-31T00:00:00",
          "2022-09-01T00:00:00",
          "2022-11-30T00:00:00",
          "2023-03-06T00:00:00",
          "2023-03-14T00:00:00",
          "2023-06-13T00:00:00",
          "2023-06-13T00:00:00",
          "2023-07-18T00:00:00",
          "2023-07-18T00:00:00",
          "2023-11-06T00:00:00",
          "2023-11-06T00:00:00",
          "2023-12-01T00:00:00",
          "2023-12-01T00:00:00",
          "2023-12-08T00:00:00",
          "2024-01-04T00:00:00",
          "2024-01-25T00:00:00",
          "2024-01-25T00:00:00",
          "2024-02-26T00:00:00",
          "2024-02-26T00:00:00",
          "2024-03-04T00:00:00",
          "2024-03-04T00:00:00",
          "2024-03-04T00:00:00",
          "2024-04-14T00:00:00",
          "2024-04-14T00:00:00",
          "2024-04-17T00:00:00",
          "2024-04-18T00:00:00",
          "2024-04-18T00:00:00",
          "2024-05-10T00:00:00",
          "2024-05-13T00:00:00",
          "2024-05-23T00:00:00",
          "2024-06-20T00:00:00",
          "2024-06-24T00:00:00",
          "2024-06-24T00:00:00",
          "2024-07-18T00:00:00",
          "2024-07-18T00:00:00",
          "2024-07-23T00:00:00",
          "2024-07-23T00:00:00",
          "2024-07-23T00:00:00",
          "2024-07-24T00:00:00",
          "2024-08-06T00:00:00",
          "2024-08-12T00:00:00",
          "2024-08-12T00:00:00",
          "2024-08-12T00:00:00",
          "2024-08-12T00:00:00",
          "2024-08-13T00:00:00",
          "2024-08-13T00:00:00",
          "2024-08-13T00:00:00",
          "2024-08-13T00:00:00",
          "2024-09-11T00:00:00",
          "2024-09-12T00:00:00",
          "2024-09-12T00:00:00",
          "2024-09-12T00:00:00",
          "2024-09-13T00:00:00",
          "2024-09-14T00:00:00",
          "2024-09-14T00:00:00",
          "2024-09-24T00:00:00",
          "2024-09-24T00:00:00",
          "2024-09-24T00:00:00",
          "2024-09-24T00:00:00",
          "2024-10-03T00:00:00",
          "2024-10-22T00:00:00",
          "2024-10-22T00:00:00",
          "2024-11-18T00:00:00",
          "2024-11-20T00:00:00",
          "2024-12-13T00:00:00",
          "2024-12-17T00:00:00",
          "2024-12-26T00:00:00",
          "2025-01-20T00:00:00",
          "2025-01-30T00:00:00",
          "2025-01-31T00:00:00",
          "2025-01-31T00:00:00",
          "2025-02-05T00:00:00"
         ],
         "xaxis": "x",
         "y": [
          43.9,
          43.9,
          43.9,
          64.8,
          68,
          86,
          null,
          68,
          45,
          13,
          68,
          87,
          68.9,
          45.3,
          54.8,
          63.1,
          68,
          null,
          69,
          69,
          71,
          77,
          84,
          54.8,
          45.3,
          76,
          79,
          64,
          79,
          87,
          86,
          88,
          73,
          77,
          66,
          82,
          87,
          71,
          84,
          85,
          89,
          78.5,
          71.8,
          null,
          null,
          null,
          75.7,
          null,
          null,
          79.2,
          null,
          80,
          null,
          75.7,
          83.2,
          60.1,
          35,
          86,
          64,
          75,
          75,
          89,
          81,
          85,
          86,
          85,
          null,
          null,
          null,
          82,
          null,
          null,
          88
         ],
         "yaxis": "y"
        },
        {
         "hovertemplate": "%{text}<extra></extra>",
         "line": {
          "color": "red"
         },
         "mode": "lines+markers",
         "name": "Top Model",
         "text": [
          "GPT-3",
          "GPT-3.5",
          "GPT-3.5 Turbo",
          "GPT-4-0314",
          "GPT-4 Turbo",
          "Claude-3.5-Sonnet-2024-06",
          "GPT-4o-2024-08"
         ],
         "type": "scatter",
         "x": [
          "2021-11-20T00:00:00",
          "2022-11-30T00:00:00",
          "2023-03-06T00:00:00",
          "2023-03-14T00:00:00",
          "2023-11-06T00:00:00",
          "2024-06-20T00:00:00",
          "2024-08-06T00:00:00"
         ],
         "y": [
          43.9,
          64.8,
          68,
          86,
          87,
          88,
          89
         ]
        }
       ],
       "layout": {
        "height": 400,
        "legend": {
         "tracegroupgap": 0
        },
        "template": {
         "data": {
          "bar": [
           {
            "error_x": {
             "color": "#2a3f5f"
            },
            "error_y": {
             "color": "#2a3f5f"
            },
            "marker": {
             "line": {
              "color": "white",
              "width": 0.5
             },
             "pattern": {
              "fillmode": "overlay",
              "size": 10,
              "solidity": 0.2
             }
            },
            "type": "bar"
           }
          ],
          "barpolar": [
           {
            "marker": {
             "line": {
              "color": "white",
              "width": 0.5
             },
             "pattern": {
              "fillmode": "overlay",
              "size": 10,
              "solidity": 0.2
             }
            },
            "type": "barpolar"
           }
          ],
          "carpet": [
           {
            "aaxis": {
             "endlinecolor": "#2a3f5f",
             "gridcolor": "#C8D4E3",
             "linecolor": "#C8D4E3",
             "minorgridcolor": "#C8D4E3",
             "startlinecolor": "#2a3f5f"
            },
            "baxis": {
             "endlinecolor": "#2a3f5f",
             "gridcolor": "#C8D4E3",
             "linecolor": "#C8D4E3",
             "minorgridcolor": "#C8D4E3",
             "startlinecolor": "#2a3f5f"
            },
            "type": "carpet"
           }
          ],
          "choropleth": [
           {
            "colorbar": {
             "outlinewidth": 0,
             "ticks": ""
            },
            "type": "choropleth"
           }
          ],
          "contour": [
           {
            "colorbar": {
             "outlinewidth": 0,
             "ticks": ""
            },
            "colorscale": [
             [
              0,
              "#0d0887"
             ],
             [
              0.1111111111111111,
              "#46039f"
             ],
             [
              0.2222222222222222,
              "#7201a8"
             ],
             [
              0.3333333333333333,
              "#9c179e"
             ],
             [
              0.4444444444444444,
              "#bd3786"
             ],
             [
              0.5555555555555556,
              "#d8576b"
             ],
             [
              0.6666666666666666,
              "#ed7953"
             ],
             [
              0.7777777777777778,
              "#fb9f3a"
             ],
             [
              0.8888888888888888,
              "#fdca26"
             ],
             [
              1,
              "#f0f921"
             ]
            ],
            "type": "contour"
           }
          ],
          "contourcarpet": [
           {
            "colorbar": {
             "outlinewidth": 0,
             "ticks": ""
            },
            "type": "contourcarpet"
           }
          ],
          "heatmap": [
           {
            "colorbar": {
             "outlinewidth": 0,
             "ticks": ""
            },
            "colorscale": [
             [
              0,
              "#0d0887"
             ],
             [
              0.1111111111111111,
              "#46039f"
             ],
             [
              0.2222222222222222,
              "#7201a8"
             ],
             [
              0.3333333333333333,
              "#9c179e"
             ],
             [
              0.4444444444444444,
              "#bd3786"
             ],
             [
              0.5555555555555556,
              "#d8576b"
             ],
             [
              0.6666666666666666,
              "#ed7953"
             ],
             [
              0.7777777777777778,
              "#fb9f3a"
             ],
             [
              0.8888888888888888,
              "#fdca26"
             ],
             [
              1,
              "#f0f921"
             ]
            ],
            "type": "heatmap"
           }
          ],
          "heatmapgl": [
           {
            "colorbar": {
             "outlinewidth": 0,
             "ticks": ""
            },
            "colorscale": [
             [
              0,
              "#0d0887"
             ],
             [
              0.1111111111111111,
              "#46039f"
             ],
             [
              0.2222222222222222,
              "#7201a8"
             ],
             [
              0.3333333333333333,
              "#9c179e"
             ],
             [
              0.4444444444444444,
              "#bd3786"
             ],
             [
              0.5555555555555556,
              "#d8576b"
             ],
             [
              0.6666666666666666,
              "#ed7953"
             ],
             [
              0.7777777777777778,
              "#fb9f3a"
             ],
             [
              0.8888888888888888,
              "#fdca26"
             ],
             [
              1,
              "#f0f921"
             ]
            ],
            "type": "heatmapgl"
           }
          ],
          "histogram": [
           {
            "marker": {
             "pattern": {
              "fillmode": "overlay",
              "size": 10,
              "solidity": 0.2
             }
            },
            "type": "histogram"
           }
          ],
          "histogram2d": [
           {
            "colorbar": {
             "outlinewidth": 0,
             "ticks": ""
            },
            "colorscale": [
             [
              0,
              "#0d0887"
             ],
             [
              0.1111111111111111,
              "#46039f"
             ],
             [
              0.2222222222222222,
              "#7201a8"
             ],
             [
              0.3333333333333333,
              "#9c179e"
             ],
             [
              0.4444444444444444,
              "#bd3786"
             ],
             [
              0.5555555555555556,
              "#d8576b"
             ],
             [
              0.6666666666666666,
              "#ed7953"
             ],
             [
              0.7777777777777778,
              "#fb9f3a"
             ],
             [
              0.8888888888888888,
              "#fdca26"
             ],
             [
              1,
              "#f0f921"
             ]
            ],
            "type": "histogram2d"
           }
          ],
          "histogram2dcontour": [
           {
            "colorbar": {
             "outlinewidth": 0,
             "ticks": ""
            },
            "colorscale": [
             [
              0,
              "#0d0887"
             ],
             [
              0.1111111111111111,
              "#46039f"
             ],
             [
              0.2222222222222222,
              "#7201a8"
             ],
             [
              0.3333333333333333,
              "#9c179e"
             ],
             [
              0.4444444444444444,
              "#bd3786"
             ],
             [
              0.5555555555555556,
              "#d8576b"
             ],
             [
              0.6666666666666666,
              "#ed7953"
             ],
             [
              0.7777777777777778,
              "#fb9f3a"
             ],
             [
              0.8888888888888888,
              "#fdca26"
             ],
             [
              1,
              "#f0f921"
             ]
            ],
            "type": "histogram2dcontour"
           }
          ],
          "mesh3d": [
           {
            "colorbar": {
             "outlinewidth": 0,
             "ticks": ""
            },
            "type": "mesh3d"
           }
          ],
          "parcoords": [
           {
            "line": {
             "colorbar": {
              "outlinewidth": 0,
              "ticks": ""
             }
            },
            "type": "parcoords"
           }
          ],
          "pie": [
           {
            "automargin": true,
            "type": "pie"
           }
          ],
          "scatter": [
           {
            "fillpattern": {
             "fillmode": "overlay",
             "size": 10,
             "solidity": 0.2
            },
            "type": "scatter"
           }
          ],
          "scatter3d": [
           {
            "line": {
             "colorbar": {
              "outlinewidth": 0,
              "ticks": ""
             }
            },
            "marker": {
             "colorbar": {
              "outlinewidth": 0,
              "ticks": ""
             }
            },
            "type": "scatter3d"
           }
          ],
          "scattercarpet": [
           {
            "marker": {
             "colorbar": {
              "outlinewidth": 0,
              "ticks": ""
             }
            },
            "type": "scattercarpet"
           }
          ],
          "scattergeo": [
           {
            "marker": {
             "colorbar": {
              "outlinewidth": 0,
              "ticks": ""
             }
            },
            "type": "scattergeo"
           }
          ],
          "scattergl": [
           {
            "marker": {
             "colorbar": {
              "outlinewidth": 0,
              "ticks": ""
             }
            },
            "type": "scattergl"
           }
          ],
          "scattermapbox": [
           {
            "marker": {
             "colorbar": {
              "outlinewidth": 0,
              "ticks": ""
             }
            },
            "type": "scattermapbox"
           }
          ],
          "scatterpolar": [
           {
            "marker": {
             "colorbar": {
              "outlinewidth": 0,
              "ticks": ""
             }
            },
            "type": "scatterpolar"
           }
          ],
          "scatterpolargl": [
           {
            "marker": {
             "colorbar": {
              "outlinewidth": 0,
              "ticks": ""
             }
            },
            "type": "scatterpolargl"
           }
          ],
          "scatterternary": [
           {
            "marker": {
             "colorbar": {
              "outlinewidth": 0,
              "ticks": ""
             }
            },
            "type": "scatterternary"
           }
          ],
          "surface": [
           {
            "colorbar": {
             "outlinewidth": 0,
             "ticks": ""
            },
            "colorscale": [
             [
              0,
              "#0d0887"
             ],
             [
              0.1111111111111111,
              "#46039f"
             ],
             [
              0.2222222222222222,
              "#7201a8"
             ],
             [
              0.3333333333333333,
              "#9c179e"
             ],
             [
              0.4444444444444444,
              "#bd3786"
             ],
             [
              0.5555555555555556,
              "#d8576b"
             ],
             [
              0.6666666666666666,
              "#ed7953"
             ],
             [
              0.7777777777777778,
              "#fb9f3a"
             ],
             [
              0.8888888888888888,
              "#fdca26"
             ],
             [
              1,
              "#f0f921"
             ]
            ],
            "type": "surface"
           }
          ],
          "table": [
           {
            "cells": {
             "fill": {
              "color": "#EBF0F8"
             },
             "line": {
              "color": "white"
             }
            },
            "header": {
             "fill": {
              "color": "#C8D4E3"
             },
             "line": {
              "color": "white"
             }
            },
            "type": "table"
           }
          ]
         },
         "layout": {
          "annotationdefaults": {
           "arrowcolor": "#2a3f5f",
           "arrowhead": 0,
           "arrowwidth": 1
          },
          "autotypenumbers": "strict",
          "coloraxis": {
           "colorbar": {
            "outlinewidth": 0,
            "ticks": ""
           }
          },
          "colorscale": {
           "diverging": [
            [
             0,
             "#8e0152"
            ],
            [
             0.1,
             "#c51b7d"
            ],
            [
             0.2,
             "#de77ae"
            ],
            [
             0.3,
             "#f1b6da"
            ],
            [
             0.4,
             "#fde0ef"
            ],
            [
             0.5,
             "#f7f7f7"
            ],
            [
             0.6,
             "#e6f5d0"
            ],
            [
             0.7,
             "#b8e186"
            ],
            [
             0.8,
             "#7fbc41"
            ],
            [
             0.9,
             "#4d9221"
            ],
            [
             1,
             "#276419"
            ]
           ],
           "sequential": [
            [
             0,
             "#0d0887"
            ],
            [
             0.1111111111111111,
             "#46039f"
            ],
            [
             0.2222222222222222,
             "#7201a8"
            ],
            [
             0.3333333333333333,
             "#9c179e"
            ],
            [
             0.4444444444444444,
             "#bd3786"
            ],
            [
             0.5555555555555556,
             "#d8576b"
            ],
            [
             0.6666666666666666,
             "#ed7953"
            ],
            [
             0.7777777777777778,
             "#fb9f3a"
            ],
            [
             0.8888888888888888,
             "#fdca26"
            ],
            [
             1,
             "#f0f921"
            ]
           ],
           "sequentialminus": [
            [
             0,
             "#0d0887"
            ],
            [
             0.1111111111111111,
             "#46039f"
            ],
            [
             0.2222222222222222,
             "#7201a8"
            ],
            [
             0.3333333333333333,
             "#9c179e"
            ],
            [
             0.4444444444444444,
             "#bd3786"
            ],
            [
             0.5555555555555556,
             "#d8576b"
            ],
            [
             0.6666666666666666,
             "#ed7953"
            ],
            [
             0.7777777777777778,
             "#fb9f3a"
            ],
            [
             0.8888888888888888,
             "#fdca26"
            ],
            [
             1,
             "#f0f921"
            ]
           ]
          },
          "colorway": [
           "#636efa",
           "#EF553B",
           "#00cc96",
           "#ab63fa",
           "#FFA15A",
           "#19d3f3",
           "#FF6692",
           "#B6E880",
           "#FF97FF",
           "#FECB52"
          ],
          "font": {
           "color": "#2a3f5f"
          },
          "geo": {
           "bgcolor": "white",
           "lakecolor": "white",
           "landcolor": "white",
           "showlakes": true,
           "showland": true,
           "subunitcolor": "#C8D4E3"
          },
          "hoverlabel": {
           "align": "left"
          },
          "hovermode": "closest",
          "mapbox": {
           "style": "light"
          },
          "paper_bgcolor": "white",
          "plot_bgcolor": "white",
          "polar": {
           "angularaxis": {
            "gridcolor": "#EBF0F8",
            "linecolor": "#EBF0F8",
            "ticks": ""
           },
           "bgcolor": "white",
           "radialaxis": {
            "gridcolor": "#EBF0F8",
            "linecolor": "#EBF0F8",
            "ticks": ""
           }
          },
          "scene": {
           "xaxis": {
            "backgroundcolor": "white",
            "gridcolor": "#DFE8F3",
            "gridwidth": 2,
            "linecolor": "#EBF0F8",
            "showbackground": true,
            "ticks": "",
            "zerolinecolor": "#EBF0F8"
           },
           "yaxis": {
            "backgroundcolor": "white",
            "gridcolor": "#DFE8F3",
            "gridwidth": 2,
            "linecolor": "#EBF0F8",
            "showbackground": true,
            "ticks": "",
            "zerolinecolor": "#EBF0F8"
           },
           "zaxis": {
            "backgroundcolor": "white",
            "gridcolor": "#DFE8F3",
            "gridwidth": 2,
            "linecolor": "#EBF0F8",
            "showbackground": true,
            "ticks": "",
            "zerolinecolor": "#EBF0F8"
           }
          },
          "shapedefaults": {
           "line": {
            "color": "#2a3f5f"
           }
          },
          "ternary": {
           "aaxis": {
            "gridcolor": "#DFE8F3",
            "linecolor": "#A2B1C6",
            "ticks": ""
           },
           "baxis": {
            "gridcolor": "#DFE8F3",
            "linecolor": "#A2B1C6",
            "ticks": ""
           },
           "bgcolor": "white",
           "caxis": {
            "gridcolor": "#DFE8F3",
            "linecolor": "#A2B1C6",
            "ticks": ""
           }
          },
          "title": {
           "x": 0.05
          },
          "xaxis": {
           "automargin": true,
           "gridcolor": "#EBF0F8",
           "linecolor": "#EBF0F8",
           "ticks": "",
           "title": {
            "standoff": 15
           },
           "zerolinecolor": "#EBF0F8",
           "zerolinewidth": 2
          },
          "yaxis": {
           "automargin": true,
           "gridcolor": "#EBF0F8",
           "linecolor": "#EBF0F8",
           "ticks": "",
           "title": {
            "standoff": 15
           },
           "zerolinecolor": "#EBF0F8",
           "zerolinewidth": 2
          }
         }
        },
        "title": {
         "text": "MMLU Performance over time"
        },
        "width": 800,
        "xaxis": {
         "anchor": "y",
         "domain": [
          0,
          1
         ],
         "title": {
          "text": "Release Date"
         }
        },
        "yaxis": {
         "anchor": "x",
         "domain": [
          0,
          1
         ],
         "title": {
          "text": "MMLU"
         }
        }
       }
      }
     },
     "metadata": {},
     "output_type": "display_data"
    },
    {
     "name": "stdout",
     "output_type": "stream",
     "text": [
      "['GPT-4o-2024-05 (2024-05)', 'GPT-4 Turbo (2023-11)', 'o1 (2024-12)', 'Claude-3.5-Sonnet-2024-06 (2024-06)', 'GPT-3 (2021-11)', 'o1-preview (2024-09)', 'GPT-4-0314 (2023-03)']\n"
     ]
    },
    {
     "data": {
      "application/vnd.plotly.v1+json": {
       "config": {
        "plotlyServerURL": "https://plot.ly"
       },
       "data": [
        {
         "customdata": [
          [
           "GPT-3"
          ],
          [
           "GPT-3"
          ],
          [
           "GPT-3"
          ],
          [
           "GPT-3.5"
          ],
          [
           "GPT-3.5 Turbo"
          ],
          [
           "GPT-4-0314"
          ],
          [
           "GPT-4-0613"
          ],
          [
           "GPT-3.5-Turbo-2023-06"
          ],
          [
           "Llama-2-Chat-13B"
          ],
          [
           "Llama-2-Chat-7B"
          ],
          [
           "GPT-3.5-Turbo-2023-11"
          ],
          [
           "GPT-4 Turbo"
          ],
          [
           "Llama 2-70B Chat"
          ],
          [
           "Llama 2-7B"
          ],
          [
           "Llama 2-13B"
          ],
          [
           "GPT-3"
          ],
          [
           "GPT-3.5-Turbo-2024-01"
          ],
          [
           "GPT-4-0125"
          ],
          [
           "Mistral-Small-2024-02"
          ],
          [
           "Mistral-Large-2024-02"
          ],
          [
           "Claude-3-Haiku"
          ],
          [
           "Claude-3-Sonnet"
          ],
          [
           "Claude-3-Opus"
          ],
          [
           "Llama 2-13B"
          ],
          [
           "Llama 2-7B"
          ],
          [
           "Mistral-8x22"
          ],
          [
           "Llama-3-Instruct-70B"
          ],
          [
           "Llama-3-Instruct-8B"
          ],
          [
           "Gemini-1.5-Flash-2024-05"
          ],
          [
           "GPT-4o-2024-05"
          ],
          [
           "Gemini-1.5-Pro-2024-05"
          ],
          [
           "Claude-3.5-Sonnet-2024-06"
          ],
          [
           "Gemma-2-9B"
          ],
          [
           "Gemma-2-27B"
          ],
          [
           "Mistral-NeMo"
          ],
          [
           "GPT-4o-mini"
          ],
          [
           "Llama-3.1-Instruct-405B"
          ],
          [
           "Llama-3.1-Instruct-8B"
          ],
          [
           "Llama-3.1-Instruct-70B"
          ],
          [
           "Mistral-Large-2-2024-07"
          ],
          [
           "GPT-4o-2024-08"
          ],
          [
           "Claude 2"
          ],
          [
           "Gemini 1.0 Pro"
          ],
          [
           "Claude Instant"
          ],
          [
           "Claude 2.1"
          ],
          [
           "Command R"
          ],
          [
           "Command R+"
          ],
          [
           "Cohere Command Light"
          ],
          [
           "Cohere Command"
          ],
          [
           "DeepSeek-Coder-V2 236B"
          ],
          [
           "o1-preview"
          ],
          [
           "Jamba 1.5-Large"
          ],
          [
           "o1-mini"
          ],
          [
           "Command R+"
          ],
          [
           "Reka Core"
          ],
          [
           "Mistral 7B"
          ],
          [
           "Llama-3.2-Instruct-1B"
          ],
          [
           "Gemini-1.5-Pro-2024-09"
          ],
          [
           "Llama-3.2-Instruct-3B"
          ],
          [
           "Gemini-1.5-Flash-2024-09"
          ],
          [
           "Gemini-1.5-Flash-8B"
          ],
          [
           "Claude-3.5-Sonnet-2024-10"
          ],
          [
           "Claude-3.5-Haiku"
          ],
          [
           "Mistral-Large-2-2024-11"
          ],
          [
           "GPT-4o-2024-11"
          ],
          [
           "Phi 4"
          ],
          [
           "o1"
          ],
          [
           "DeepSeek-V3"
          ],
          [
           "DeepSeek-R1"
          ],
          [
           "Mistral Small 3"
          ],
          [
           "o3-mini"
          ],
          [
           "o1-mini"
          ],
          [
           "Gemini 2.0 Flash"
          ]
         ],
         "hovertemplate": "Release Date=%{x}<br>GPQA Diamond=%{y}<br>Model Name=%{customdata[0]}<extra></extra>",
         "legendgroup": "",
         "marker": {
          "color": "lightgray",
          "symbol": "circle"
         },
         "mode": "markers",
         "name": "",
         "orientation": "v",
         "showlegend": false,
         "type": "scatter",
         "x": [
          "2021-11-20T00:00:00",
          "2022-08-31T00:00:00",
          "2022-09-01T00:00:00",
          "2022-11-30T00:00:00",
          "2023-03-06T00:00:00",
          "2023-03-14T00:00:00",
          "2023-06-13T00:00:00",
          "2023-06-13T00:00:00",
          "2023-07-18T00:00:00",
          "2023-07-18T00:00:00",
          "2023-11-06T00:00:00",
          "2023-11-06T00:00:00",
          "2023-12-01T00:00:00",
          "2023-12-01T00:00:00",
          "2023-12-08T00:00:00",
          "2024-01-04T00:00:00",
          "2024-01-25T00:00:00",
          "2024-01-25T00:00:00",
          "2024-02-26T00:00:00",
          "2024-02-26T00:00:00",
          "2024-03-04T00:00:00",
          "2024-03-04T00:00:00",
          "2024-03-04T00:00:00",
          "2024-04-14T00:00:00",
          "2024-04-14T00:00:00",
          "2024-04-17T00:00:00",
          "2024-04-18T00:00:00",
          "2024-04-18T00:00:00",
          "2024-05-10T00:00:00",
          "2024-05-13T00:00:00",
          "2024-05-23T00:00:00",
          "2024-06-20T00:00:00",
          "2024-06-24T00:00:00",
          "2024-06-24T00:00:00",
          "2024-07-18T00:00:00",
          "2024-07-18T00:00:00",
          "2024-07-23T00:00:00",
          "2024-07-23T00:00:00",
          "2024-07-23T00:00:00",
          "2024-07-24T00:00:00",
          "2024-08-06T00:00:00",
          "2024-08-12T00:00:00",
          "2024-08-12T00:00:00",
          "2024-08-12T00:00:00",
          "2024-08-12T00:00:00",
          "2024-08-13T00:00:00",
          "2024-08-13T00:00:00",
          "2024-08-13T00:00:00",
          "2024-08-13T00:00:00",
          "2024-09-11T00:00:00",
          "2024-09-12T00:00:00",
          "2024-09-12T00:00:00",
          "2024-09-12T00:00:00",
          "2024-09-13T00:00:00",
          "2024-09-14T00:00:00",
          "2024-09-14T00:00:00",
          "2024-09-24T00:00:00",
          "2024-09-24T00:00:00",
          "2024-09-24T00:00:00",
          "2024-09-24T00:00:00",
          "2024-10-03T00:00:00",
          "2024-10-22T00:00:00",
          "2024-10-22T00:00:00",
          "2024-11-18T00:00:00",
          "2024-11-20T00:00:00",
          "2024-12-13T00:00:00",
          "2024-12-17T00:00:00",
          "2024-12-26T00:00:00",
          "2025-01-20T00:00:00",
          "2025-01-30T00:00:00",
          "2025-01-31T00:00:00",
          "2025-01-31T00:00:00",
          "2025-02-05T00:00:00"
         ],
         "xaxis": "x",
         "y": [
          null,
          null,
          null,
          null,
          null,
          33,
          31,
          28.8,
          19,
          6,
          30,
          50,
          26,
          null,
          null,
          null,
          30,
          42,
          31,
          36,
          33,
          37,
          50,
          null,
          null,
          37,
          39,
          30,
          39,
          53,
          46,
          56,
          31,
          39,
          33,
          43,
          50,
          27,
          43,
          48,
          52,
          35,
          34.4,
          null,
          36,
          null,
          34,
          null,
          null,
          null,
          69.7,
          43,
          59.5,
          34,
          null,
          14,
          14,
          61,
          21,
          45,
          30,
          58,
          37,
          47,
          54,
          53,
          75.8,
          57,
          71.7,
          46,
          74.3,
          59.5,
          62
         ],
         "yaxis": "y"
        },
        {
         "hovertemplate": "%{text}<extra></extra>",
         "line": {
          "color": "red"
         },
         "mode": "lines+markers",
         "name": "Top Model",
         "text": [
          "GPT-3",
          "GPT-4-0314",
          "GPT-4 Turbo",
          "GPT-4o-2024-05",
          "Claude-3.5-Sonnet-2024-06",
          "o1-preview",
          "o1"
         ],
         "type": "scatter",
         "x": [
          "2021-11-20T00:00:00",
          "2023-03-14T00:00:00",
          "2023-11-06T00:00:00",
          "2024-05-13T00:00:00",
          "2024-06-20T00:00:00",
          "2024-09-12T00:00:00",
          "2024-12-17T00:00:00"
         ],
         "y": [
          null,
          33,
          50,
          53,
          56,
          69.7,
          75.8
         ]
        }
       ],
       "layout": {
        "height": 400,
        "legend": {
         "tracegroupgap": 0
        },
        "template": {
         "data": {
          "bar": [
           {
            "error_x": {
             "color": "#2a3f5f"
            },
            "error_y": {
             "color": "#2a3f5f"
            },
            "marker": {
             "line": {
              "color": "white",
              "width": 0.5
             },
             "pattern": {
              "fillmode": "overlay",
              "size": 10,
              "solidity": 0.2
             }
            },
            "type": "bar"
           }
          ],
          "barpolar": [
           {
            "marker": {
             "line": {
              "color": "white",
              "width": 0.5
             },
             "pattern": {
              "fillmode": "overlay",
              "size": 10,
              "solidity": 0.2
             }
            },
            "type": "barpolar"
           }
          ],
          "carpet": [
           {
            "aaxis": {
             "endlinecolor": "#2a3f5f",
             "gridcolor": "#C8D4E3",
             "linecolor": "#C8D4E3",
             "minorgridcolor": "#C8D4E3",
             "startlinecolor": "#2a3f5f"
            },
            "baxis": {
             "endlinecolor": "#2a3f5f",
             "gridcolor": "#C8D4E3",
             "linecolor": "#C8D4E3",
             "minorgridcolor": "#C8D4E3",
             "startlinecolor": "#2a3f5f"
            },
            "type": "carpet"
           }
          ],
          "choropleth": [
           {
            "colorbar": {
             "outlinewidth": 0,
             "ticks": ""
            },
            "type": "choropleth"
           }
          ],
          "contour": [
           {
            "colorbar": {
             "outlinewidth": 0,
             "ticks": ""
            },
            "colorscale": [
             [
              0,
              "#0d0887"
             ],
             [
              0.1111111111111111,
              "#46039f"
             ],
             [
              0.2222222222222222,
              "#7201a8"
             ],
             [
              0.3333333333333333,
              "#9c179e"
             ],
             [
              0.4444444444444444,
              "#bd3786"
             ],
             [
              0.5555555555555556,
              "#d8576b"
             ],
             [
              0.6666666666666666,
              "#ed7953"
             ],
             [
              0.7777777777777778,
              "#fb9f3a"
             ],
             [
              0.8888888888888888,
              "#fdca26"
             ],
             [
              1,
              "#f0f921"
             ]
            ],
            "type": "contour"
           }
          ],
          "contourcarpet": [
           {
            "colorbar": {
             "outlinewidth": 0,
             "ticks": ""
            },
            "type": "contourcarpet"
           }
          ],
          "heatmap": [
           {
            "colorbar": {
             "outlinewidth": 0,
             "ticks": ""
            },
            "colorscale": [
             [
              0,
              "#0d0887"
             ],
             [
              0.1111111111111111,
              "#46039f"
             ],
             [
              0.2222222222222222,
              "#7201a8"
             ],
             [
              0.3333333333333333,
              "#9c179e"
             ],
             [
              0.4444444444444444,
              "#bd3786"
             ],
             [
              0.5555555555555556,
              "#d8576b"
             ],
             [
              0.6666666666666666,
              "#ed7953"
             ],
             [
              0.7777777777777778,
              "#fb9f3a"
             ],
             [
              0.8888888888888888,
              "#fdca26"
             ],
             [
              1,
              "#f0f921"
             ]
            ],
            "type": "heatmap"
           }
          ],
          "heatmapgl": [
           {
            "colorbar": {
             "outlinewidth": 0,
             "ticks": ""
            },
            "colorscale": [
             [
              0,
              "#0d0887"
             ],
             [
              0.1111111111111111,
              "#46039f"
             ],
             [
              0.2222222222222222,
              "#7201a8"
             ],
             [
              0.3333333333333333,
              "#9c179e"
             ],
             [
              0.4444444444444444,
              "#bd3786"
             ],
             [
              0.5555555555555556,
              "#d8576b"
             ],
             [
              0.6666666666666666,
              "#ed7953"
             ],
             [
              0.7777777777777778,
              "#fb9f3a"
             ],
             [
              0.8888888888888888,
              "#fdca26"
             ],
             [
              1,
              "#f0f921"
             ]
            ],
            "type": "heatmapgl"
           }
          ],
          "histogram": [
           {
            "marker": {
             "pattern": {
              "fillmode": "overlay",
              "size": 10,
              "solidity": 0.2
             }
            },
            "type": "histogram"
           }
          ],
          "histogram2d": [
           {
            "colorbar": {
             "outlinewidth": 0,
             "ticks": ""
            },
            "colorscale": [
             [
              0,
              "#0d0887"
             ],
             [
              0.1111111111111111,
              "#46039f"
             ],
             [
              0.2222222222222222,
              "#7201a8"
             ],
             [
              0.3333333333333333,
              "#9c179e"
             ],
             [
              0.4444444444444444,
              "#bd3786"
             ],
             [
              0.5555555555555556,
              "#d8576b"
             ],
             [
              0.6666666666666666,
              "#ed7953"
             ],
             [
              0.7777777777777778,
              "#fb9f3a"
             ],
             [
              0.8888888888888888,
              "#fdca26"
             ],
             [
              1,
              "#f0f921"
             ]
            ],
            "type": "histogram2d"
           }
          ],
          "histogram2dcontour": [
           {
            "colorbar": {
             "outlinewidth": 0,
             "ticks": ""
            },
            "colorscale": [
             [
              0,
              "#0d0887"
             ],
             [
              0.1111111111111111,
              "#46039f"
             ],
             [
              0.2222222222222222,
              "#7201a8"
             ],
             [
              0.3333333333333333,
              "#9c179e"
             ],
             [
              0.4444444444444444,
              "#bd3786"
             ],
             [
              0.5555555555555556,
              "#d8576b"
             ],
             [
              0.6666666666666666,
              "#ed7953"
             ],
             [
              0.7777777777777778,
              "#fb9f3a"
             ],
             [
              0.8888888888888888,
              "#fdca26"
             ],
             [
              1,
              "#f0f921"
             ]
            ],
            "type": "histogram2dcontour"
           }
          ],
          "mesh3d": [
           {
            "colorbar": {
             "outlinewidth": 0,
             "ticks": ""
            },
            "type": "mesh3d"
           }
          ],
          "parcoords": [
           {
            "line": {
             "colorbar": {
              "outlinewidth": 0,
              "ticks": ""
             }
            },
            "type": "parcoords"
           }
          ],
          "pie": [
           {
            "automargin": true,
            "type": "pie"
           }
          ],
          "scatter": [
           {
            "fillpattern": {
             "fillmode": "overlay",
             "size": 10,
             "solidity": 0.2
            },
            "type": "scatter"
           }
          ],
          "scatter3d": [
           {
            "line": {
             "colorbar": {
              "outlinewidth": 0,
              "ticks": ""
             }
            },
            "marker": {
             "colorbar": {
              "outlinewidth": 0,
              "ticks": ""
             }
            },
            "type": "scatter3d"
           }
          ],
          "scattercarpet": [
           {
            "marker": {
             "colorbar": {
              "outlinewidth": 0,
              "ticks": ""
             }
            },
            "type": "scattercarpet"
           }
          ],
          "scattergeo": [
           {
            "marker": {
             "colorbar": {
              "outlinewidth": 0,
              "ticks": ""
             }
            },
            "type": "scattergeo"
           }
          ],
          "scattergl": [
           {
            "marker": {
             "colorbar": {
              "outlinewidth": 0,
              "ticks": ""
             }
            },
            "type": "scattergl"
           }
          ],
          "scattermapbox": [
           {
            "marker": {
             "colorbar": {
              "outlinewidth": 0,
              "ticks": ""
             }
            },
            "type": "scattermapbox"
           }
          ],
          "scatterpolar": [
           {
            "marker": {
             "colorbar": {
              "outlinewidth": 0,
              "ticks": ""
             }
            },
            "type": "scatterpolar"
           }
          ],
          "scatterpolargl": [
           {
            "marker": {
             "colorbar": {
              "outlinewidth": 0,
              "ticks": ""
             }
            },
            "type": "scatterpolargl"
           }
          ],
          "scatterternary": [
           {
            "marker": {
             "colorbar": {
              "outlinewidth": 0,
              "ticks": ""
             }
            },
            "type": "scatterternary"
           }
          ],
          "surface": [
           {
            "colorbar": {
             "outlinewidth": 0,
             "ticks": ""
            },
            "colorscale": [
             [
              0,
              "#0d0887"
             ],
             [
              0.1111111111111111,
              "#46039f"
             ],
             [
              0.2222222222222222,
              "#7201a8"
             ],
             [
              0.3333333333333333,
              "#9c179e"
             ],
             [
              0.4444444444444444,
              "#bd3786"
             ],
             [
              0.5555555555555556,
              "#d8576b"
             ],
             [
              0.6666666666666666,
              "#ed7953"
             ],
             [
              0.7777777777777778,
              "#fb9f3a"
             ],
             [
              0.8888888888888888,
              "#fdca26"
             ],
             [
              1,
              "#f0f921"
             ]
            ],
            "type": "surface"
           }
          ],
          "table": [
           {
            "cells": {
             "fill": {
              "color": "#EBF0F8"
             },
             "line": {
              "color": "white"
             }
            },
            "header": {
             "fill": {
              "color": "#C8D4E3"
             },
             "line": {
              "color": "white"
             }
            },
            "type": "table"
           }
          ]
         },
         "layout": {
          "annotationdefaults": {
           "arrowcolor": "#2a3f5f",
           "arrowhead": 0,
           "arrowwidth": 1
          },
          "autotypenumbers": "strict",
          "coloraxis": {
           "colorbar": {
            "outlinewidth": 0,
            "ticks": ""
           }
          },
          "colorscale": {
           "diverging": [
            [
             0,
             "#8e0152"
            ],
            [
             0.1,
             "#c51b7d"
            ],
            [
             0.2,
             "#de77ae"
            ],
            [
             0.3,
             "#f1b6da"
            ],
            [
             0.4,
             "#fde0ef"
            ],
            [
             0.5,
             "#f7f7f7"
            ],
            [
             0.6,
             "#e6f5d0"
            ],
            [
             0.7,
             "#b8e186"
            ],
            [
             0.8,
             "#7fbc41"
            ],
            [
             0.9,
             "#4d9221"
            ],
            [
             1,
             "#276419"
            ]
           ],
           "sequential": [
            [
             0,
             "#0d0887"
            ],
            [
             0.1111111111111111,
             "#46039f"
            ],
            [
             0.2222222222222222,
             "#7201a8"
            ],
            [
             0.3333333333333333,
             "#9c179e"
            ],
            [
             0.4444444444444444,
             "#bd3786"
            ],
            [
             0.5555555555555556,
             "#d8576b"
            ],
            [
             0.6666666666666666,
             "#ed7953"
            ],
            [
             0.7777777777777778,
             "#fb9f3a"
            ],
            [
             0.8888888888888888,
             "#fdca26"
            ],
            [
             1,
             "#f0f921"
            ]
           ],
           "sequentialminus": [
            [
             0,
             "#0d0887"
            ],
            [
             0.1111111111111111,
             "#46039f"
            ],
            [
             0.2222222222222222,
             "#7201a8"
            ],
            [
             0.3333333333333333,
             "#9c179e"
            ],
            [
             0.4444444444444444,
             "#bd3786"
            ],
            [
             0.5555555555555556,
             "#d8576b"
            ],
            [
             0.6666666666666666,
             "#ed7953"
            ],
            [
             0.7777777777777778,
             "#fb9f3a"
            ],
            [
             0.8888888888888888,
             "#fdca26"
            ],
            [
             1,
             "#f0f921"
            ]
           ]
          },
          "colorway": [
           "#636efa",
           "#EF553B",
           "#00cc96",
           "#ab63fa",
           "#FFA15A",
           "#19d3f3",
           "#FF6692",
           "#B6E880",
           "#FF97FF",
           "#FECB52"
          ],
          "font": {
           "color": "#2a3f5f"
          },
          "geo": {
           "bgcolor": "white",
           "lakecolor": "white",
           "landcolor": "white",
           "showlakes": true,
           "showland": true,
           "subunitcolor": "#C8D4E3"
          },
          "hoverlabel": {
           "align": "left"
          },
          "hovermode": "closest",
          "mapbox": {
           "style": "light"
          },
          "paper_bgcolor": "white",
          "plot_bgcolor": "white",
          "polar": {
           "angularaxis": {
            "gridcolor": "#EBF0F8",
            "linecolor": "#EBF0F8",
            "ticks": ""
           },
           "bgcolor": "white",
           "radialaxis": {
            "gridcolor": "#EBF0F8",
            "linecolor": "#EBF0F8",
            "ticks": ""
           }
          },
          "scene": {
           "xaxis": {
            "backgroundcolor": "white",
            "gridcolor": "#DFE8F3",
            "gridwidth": 2,
            "linecolor": "#EBF0F8",
            "showbackground": true,
            "ticks": "",
            "zerolinecolor": "#EBF0F8"
           },
           "yaxis": {
            "backgroundcolor": "white",
            "gridcolor": "#DFE8F3",
            "gridwidth": 2,
            "linecolor": "#EBF0F8",
            "showbackground": true,
            "ticks": "",
            "zerolinecolor": "#EBF0F8"
           },
           "zaxis": {
            "backgroundcolor": "white",
            "gridcolor": "#DFE8F3",
            "gridwidth": 2,
            "linecolor": "#EBF0F8",
            "showbackground": true,
            "ticks": "",
            "zerolinecolor": "#EBF0F8"
           }
          },
          "shapedefaults": {
           "line": {
            "color": "#2a3f5f"
           }
          },
          "ternary": {
           "aaxis": {
            "gridcolor": "#DFE8F3",
            "linecolor": "#A2B1C6",
            "ticks": ""
           },
           "baxis": {
            "gridcolor": "#DFE8F3",
            "linecolor": "#A2B1C6",
            "ticks": ""
           },
           "bgcolor": "white",
           "caxis": {
            "gridcolor": "#DFE8F3",
            "linecolor": "#A2B1C6",
            "ticks": ""
           }
          },
          "title": {
           "x": 0.05
          },
          "xaxis": {
           "automargin": true,
           "gridcolor": "#EBF0F8",
           "linecolor": "#EBF0F8",
           "ticks": "",
           "title": {
            "standoff": 15
           },
           "zerolinecolor": "#EBF0F8",
           "zerolinewidth": 2
          },
          "yaxis": {
           "automargin": true,
           "gridcolor": "#EBF0F8",
           "linecolor": "#EBF0F8",
           "ticks": "",
           "title": {
            "standoff": 15
           },
           "zerolinecolor": "#EBF0F8",
           "zerolinewidth": 2
          }
         }
        },
        "title": {
         "text": "GPQA Diamond Performance over time"
        },
        "width": 800,
        "xaxis": {
         "anchor": "y",
         "domain": [
          0,
          1
         ],
         "title": {
          "text": "Release Date"
         }
        },
        "yaxis": {
         "anchor": "x",
         "domain": [
          0,
          1
         ],
         "title": {
          "text": "GPQA Diamond"
         }
        }
       }
      }
     },
     "metadata": {},
     "output_type": "display_data"
    },
    {
     "name": "stdout",
     "output_type": "stream",
     "text": [
      "['GPT-4o-2024-05 (2024-05)', 'o1-mini (2024-09)', 'GPT-4 Turbo (2023-11)', 'o1 (2024-12)', 'GPT-3.5-Turbo-2023-06 (2023-06)', 'GPT-3 (2021-11)', 'GPT-4o-2024-08 (2024-08)']\n"
     ]
    },
    {
     "data": {
      "application/vnd.plotly.v1+json": {
       "config": {
        "plotlyServerURL": "https://plot.ly"
       },
       "data": [
        {
         "customdata": [
          [
           "GPT-3"
          ],
          [
           "GPT-3"
          ],
          [
           "GPT-3"
          ],
          [
           "GPT-3.5"
          ],
          [
           "GPT-3.5 Turbo"
          ],
          [
           "GPT-4-0314"
          ],
          [
           "GPT-4-0613"
          ],
          [
           "GPT-3.5-Turbo-2023-06"
          ],
          [
           "Llama-2-Chat-13B"
          ],
          [
           "Llama-2-Chat-7B"
          ],
          [
           "GPT-3.5-Turbo-2023-11"
          ],
          [
           "GPT-4 Turbo"
          ],
          [
           "Llama 2-70B Chat"
          ],
          [
           "Llama 2-7B"
          ],
          [
           "Llama 2-13B"
          ],
          [
           "GPT-3"
          ],
          [
           "GPT-3.5-Turbo-2024-01"
          ],
          [
           "GPT-4-0125"
          ],
          [
           "Mistral-Small-2024-02"
          ],
          [
           "Mistral-Large-2024-02"
          ],
          [
           "Claude-3-Haiku"
          ],
          [
           "Claude-3-Sonnet"
          ],
          [
           "Claude-3-Opus"
          ],
          [
           "Llama 2-13B"
          ],
          [
           "Llama 2-7B"
          ],
          [
           "Mistral-8x22"
          ],
          [
           "Llama-3-Instruct-70B"
          ],
          [
           "Llama-3-Instruct-8B"
          ],
          [
           "Gemini-1.5-Flash-2024-05"
          ],
          [
           "GPT-4o-2024-05"
          ],
          [
           "Gemini-1.5-Pro-2024-05"
          ],
          [
           "Claude-3.5-Sonnet-2024-06"
          ],
          [
           "Gemma-2-9B"
          ],
          [
           "Gemma-2-27B"
          ],
          [
           "Mistral-NeMo"
          ],
          [
           "GPT-4o-mini"
          ],
          [
           "Llama-3.1-Instruct-405B"
          ],
          [
           "Llama-3.1-Instruct-8B"
          ],
          [
           "Llama-3.1-Instruct-70B"
          ],
          [
           "Mistral-Large-2-2024-07"
          ],
          [
           "GPT-4o-2024-08"
          ],
          [
           "Claude 2"
          ],
          [
           "Gemini 1.0 Pro"
          ],
          [
           "Claude Instant"
          ],
          [
           "Claude 2.1"
          ],
          [
           "Command R"
          ],
          [
           "Command R+"
          ],
          [
           "Cohere Command Light"
          ],
          [
           "Cohere Command"
          ],
          [
           "DeepSeek-Coder-V2 236B"
          ],
          [
           "o1-preview"
          ],
          [
           "Jamba 1.5-Large"
          ],
          [
           "o1-mini"
          ],
          [
           "Command R+"
          ],
          [
           "Reka Core"
          ],
          [
           "Mistral 7B"
          ],
          [
           "Llama-3.2-Instruct-1B"
          ],
          [
           "Gemini-1.5-Pro-2024-09"
          ],
          [
           "Llama-3.2-Instruct-3B"
          ],
          [
           "Gemini-1.5-Flash-2024-09"
          ],
          [
           "Gemini-1.5-Flash-8B"
          ],
          [
           "Claude-3.5-Sonnet-2024-10"
          ],
          [
           "Claude-3.5-Haiku"
          ],
          [
           "Mistral-Large-2-2024-11"
          ],
          [
           "GPT-4o-2024-11"
          ],
          [
           "Phi 4"
          ],
          [
           "o1"
          ],
          [
           "DeepSeek-V3"
          ],
          [
           "DeepSeek-R1"
          ],
          [
           "Mistral Small 3"
          ],
          [
           "o3-mini"
          ],
          [
           "o1-mini"
          ],
          [
           "Gemini 2.0 Flash"
          ]
         ],
         "hovertemplate": "Release Date=%{x}<br>MATH-500=%{y}<br>Model Name=%{customdata[0]}<extra></extra>",
         "legendgroup": "",
         "marker": {
          "color": "lightgray",
          "symbol": "circle"
         },
         "mode": "markers",
         "name": "",
         "orientation": "v",
         "showlegend": false,
         "type": "scatter",
         "x": [
          "2021-11-20T00:00:00",
          "2022-08-31T00:00:00",
          "2022-09-01T00:00:00",
          "2022-11-30T00:00:00",
          "2023-03-06T00:00:00",
          "2023-03-14T00:00:00",
          "2023-06-13T00:00:00",
          "2023-06-13T00:00:00",
          "2023-07-18T00:00:00",
          "2023-07-18T00:00:00",
          "2023-11-06T00:00:00",
          "2023-11-06T00:00:00",
          "2023-12-01T00:00:00",
          "2023-12-01T00:00:00",
          "2023-12-08T00:00:00",
          "2024-01-04T00:00:00",
          "2024-01-25T00:00:00",
          "2024-01-25T00:00:00",
          "2024-02-26T00:00:00",
          "2024-02-26T00:00:00",
          "2024-03-04T00:00:00",
          "2024-03-04T00:00:00",
          "2024-03-04T00:00:00",
          "2024-04-14T00:00:00",
          "2024-04-14T00:00:00",
          "2024-04-17T00:00:00",
          "2024-04-18T00:00:00",
          "2024-04-18T00:00:00",
          "2024-05-10T00:00:00",
          "2024-05-13T00:00:00",
          "2024-05-23T00:00:00",
          "2024-06-20T00:00:00",
          "2024-06-24T00:00:00",
          "2024-06-24T00:00:00",
          "2024-07-18T00:00:00",
          "2024-07-18T00:00:00",
          "2024-07-23T00:00:00",
          "2024-07-23T00:00:00",
          "2024-07-23T00:00:00",
          "2024-07-24T00:00:00",
          "2024-08-06T00:00:00",
          "2024-08-12T00:00:00",
          "2024-08-12T00:00:00",
          "2024-08-12T00:00:00",
          "2024-08-12T00:00:00",
          "2024-08-13T00:00:00",
          "2024-08-13T00:00:00",
          "2024-08-13T00:00:00",
          "2024-08-13T00:00:00",
          "2024-09-11T00:00:00",
          "2024-09-12T00:00:00",
          "2024-09-12T00:00:00",
          "2024-09-12T00:00:00",
          "2024-09-13T00:00:00",
          "2024-09-14T00:00:00",
          "2024-09-14T00:00:00",
          "2024-09-24T00:00:00",
          "2024-09-24T00:00:00",
          "2024-09-24T00:00:00",
          "2024-09-24T00:00:00",
          "2024-10-03T00:00:00",
          "2024-10-22T00:00:00",
          "2024-10-22T00:00:00",
          "2024-11-18T00:00:00",
          "2024-11-20T00:00:00",
          "2024-12-13T00:00:00",
          "2024-12-17T00:00:00",
          "2024-12-26T00:00:00",
          "2025-01-20T00:00:00",
          "2025-01-30T00:00:00",
          "2025-01-31T00:00:00",
          "2025-01-31T00:00:00",
          "2025-02-05T00:00:00"
         ],
         "xaxis": "x",
         "y": [
          null,
          null,
          null,
          null,
          null,
          null,
          null,
          44,
          null,
          null,
          44,
          74,
          null,
          null,
          null,
          null,
          44,
          null,
          56,
          49,
          39,
          41,
          64,
          null,
          null,
          56,
          53,
          32,
          55,
          79,
          66,
          71,
          50,
          54,
          44,
          79,
          70,
          50,
          64,
          71,
          80,
          null,
          null,
          null,
          null,
          15,
          40,
          null,
          null,
          74,
          92,
          61,
          94,
          40,
          56,
          12,
          13,
          88,
          50,
          83,
          70,
          76,
          67,
          72,
          76,
          81,
          97,
          89,
          96,
          74,
          97,
          94,
          93
         ],
         "yaxis": "y"
        },
        {
         "hovertemplate": "%{text}<extra></extra>",
         "line": {
          "color": "red"
         },
         "mode": "lines+markers",
         "name": "Top Model",
         "text": [
          "GPT-3",
          "GPT-3.5-Turbo-2023-06",
          "GPT-4 Turbo",
          "GPT-4o-2024-05",
          "GPT-4o-2024-08",
          "o1-mini",
          "o1"
         ],
         "type": "scatter",
         "x": [
          "2021-11-20T00:00:00",
          "2023-06-13T00:00:00",
          "2023-11-06T00:00:00",
          "2024-05-13T00:00:00",
          "2024-08-06T00:00:00",
          "2024-09-12T00:00:00",
          "2024-12-17T00:00:00"
         ],
         "y": [
          null,
          44,
          74,
          79,
          80,
          94,
          97
         ]
        }
       ],
       "layout": {
        "height": 400,
        "legend": {
         "tracegroupgap": 0
        },
        "template": {
         "data": {
          "bar": [
           {
            "error_x": {
             "color": "#2a3f5f"
            },
            "error_y": {
             "color": "#2a3f5f"
            },
            "marker": {
             "line": {
              "color": "white",
              "width": 0.5
             },
             "pattern": {
              "fillmode": "overlay",
              "size": 10,
              "solidity": 0.2
             }
            },
            "type": "bar"
           }
          ],
          "barpolar": [
           {
            "marker": {
             "line": {
              "color": "white",
              "width": 0.5
             },
             "pattern": {
              "fillmode": "overlay",
              "size": 10,
              "solidity": 0.2
             }
            },
            "type": "barpolar"
           }
          ],
          "carpet": [
           {
            "aaxis": {
             "endlinecolor": "#2a3f5f",
             "gridcolor": "#C8D4E3",
             "linecolor": "#C8D4E3",
             "minorgridcolor": "#C8D4E3",
             "startlinecolor": "#2a3f5f"
            },
            "baxis": {
             "endlinecolor": "#2a3f5f",
             "gridcolor": "#C8D4E3",
             "linecolor": "#C8D4E3",
             "minorgridcolor": "#C8D4E3",
             "startlinecolor": "#2a3f5f"
            },
            "type": "carpet"
           }
          ],
          "choropleth": [
           {
            "colorbar": {
             "outlinewidth": 0,
             "ticks": ""
            },
            "type": "choropleth"
           }
          ],
          "contour": [
           {
            "colorbar": {
             "outlinewidth": 0,
             "ticks": ""
            },
            "colorscale": [
             [
              0,
              "#0d0887"
             ],
             [
              0.1111111111111111,
              "#46039f"
             ],
             [
              0.2222222222222222,
              "#7201a8"
             ],
             [
              0.3333333333333333,
              "#9c179e"
             ],
             [
              0.4444444444444444,
              "#bd3786"
             ],
             [
              0.5555555555555556,
              "#d8576b"
             ],
             [
              0.6666666666666666,
              "#ed7953"
             ],
             [
              0.7777777777777778,
              "#fb9f3a"
             ],
             [
              0.8888888888888888,
              "#fdca26"
             ],
             [
              1,
              "#f0f921"
             ]
            ],
            "type": "contour"
           }
          ],
          "contourcarpet": [
           {
            "colorbar": {
             "outlinewidth": 0,
             "ticks": ""
            },
            "type": "contourcarpet"
           }
          ],
          "heatmap": [
           {
            "colorbar": {
             "outlinewidth": 0,
             "ticks": ""
            },
            "colorscale": [
             [
              0,
              "#0d0887"
             ],
             [
              0.1111111111111111,
              "#46039f"
             ],
             [
              0.2222222222222222,
              "#7201a8"
             ],
             [
              0.3333333333333333,
              "#9c179e"
             ],
             [
              0.4444444444444444,
              "#bd3786"
             ],
             [
              0.5555555555555556,
              "#d8576b"
             ],
             [
              0.6666666666666666,
              "#ed7953"
             ],
             [
              0.7777777777777778,
              "#fb9f3a"
             ],
             [
              0.8888888888888888,
              "#fdca26"
             ],
             [
              1,
              "#f0f921"
             ]
            ],
            "type": "heatmap"
           }
          ],
          "heatmapgl": [
           {
            "colorbar": {
             "outlinewidth": 0,
             "ticks": ""
            },
            "colorscale": [
             [
              0,
              "#0d0887"
             ],
             [
              0.1111111111111111,
              "#46039f"
             ],
             [
              0.2222222222222222,
              "#7201a8"
             ],
             [
              0.3333333333333333,
              "#9c179e"
             ],
             [
              0.4444444444444444,
              "#bd3786"
             ],
             [
              0.5555555555555556,
              "#d8576b"
             ],
             [
              0.6666666666666666,
              "#ed7953"
             ],
             [
              0.7777777777777778,
              "#fb9f3a"
             ],
             [
              0.8888888888888888,
              "#fdca26"
             ],
             [
              1,
              "#f0f921"
             ]
            ],
            "type": "heatmapgl"
           }
          ],
          "histogram": [
           {
            "marker": {
             "pattern": {
              "fillmode": "overlay",
              "size": 10,
              "solidity": 0.2
             }
            },
            "type": "histogram"
           }
          ],
          "histogram2d": [
           {
            "colorbar": {
             "outlinewidth": 0,
             "ticks": ""
            },
            "colorscale": [
             [
              0,
              "#0d0887"
             ],
             [
              0.1111111111111111,
              "#46039f"
             ],
             [
              0.2222222222222222,
              "#7201a8"
             ],
             [
              0.3333333333333333,
              "#9c179e"
             ],
             [
              0.4444444444444444,
              "#bd3786"
             ],
             [
              0.5555555555555556,
              "#d8576b"
             ],
             [
              0.6666666666666666,
              "#ed7953"
             ],
             [
              0.7777777777777778,
              "#fb9f3a"
             ],
             [
              0.8888888888888888,
              "#fdca26"
             ],
             [
              1,
              "#f0f921"
             ]
            ],
            "type": "histogram2d"
           }
          ],
          "histogram2dcontour": [
           {
            "colorbar": {
             "outlinewidth": 0,
             "ticks": ""
            },
            "colorscale": [
             [
              0,
              "#0d0887"
             ],
             [
              0.1111111111111111,
              "#46039f"
             ],
             [
              0.2222222222222222,
              "#7201a8"
             ],
             [
              0.3333333333333333,
              "#9c179e"
             ],
             [
              0.4444444444444444,
              "#bd3786"
             ],
             [
              0.5555555555555556,
              "#d8576b"
             ],
             [
              0.6666666666666666,
              "#ed7953"
             ],
             [
              0.7777777777777778,
              "#fb9f3a"
             ],
             [
              0.8888888888888888,
              "#fdca26"
             ],
             [
              1,
              "#f0f921"
             ]
            ],
            "type": "histogram2dcontour"
           }
          ],
          "mesh3d": [
           {
            "colorbar": {
             "outlinewidth": 0,
             "ticks": ""
            },
            "type": "mesh3d"
           }
          ],
          "parcoords": [
           {
            "line": {
             "colorbar": {
              "outlinewidth": 0,
              "ticks": ""
             }
            },
            "type": "parcoords"
           }
          ],
          "pie": [
           {
            "automargin": true,
            "type": "pie"
           }
          ],
          "scatter": [
           {
            "fillpattern": {
             "fillmode": "overlay",
             "size": 10,
             "solidity": 0.2
            },
            "type": "scatter"
           }
          ],
          "scatter3d": [
           {
            "line": {
             "colorbar": {
              "outlinewidth": 0,
              "ticks": ""
             }
            },
            "marker": {
             "colorbar": {
              "outlinewidth": 0,
              "ticks": ""
             }
            },
            "type": "scatter3d"
           }
          ],
          "scattercarpet": [
           {
            "marker": {
             "colorbar": {
              "outlinewidth": 0,
              "ticks": ""
             }
            },
            "type": "scattercarpet"
           }
          ],
          "scattergeo": [
           {
            "marker": {
             "colorbar": {
              "outlinewidth": 0,
              "ticks": ""
             }
            },
            "type": "scattergeo"
           }
          ],
          "scattergl": [
           {
            "marker": {
             "colorbar": {
              "outlinewidth": 0,
              "ticks": ""
             }
            },
            "type": "scattergl"
           }
          ],
          "scattermapbox": [
           {
            "marker": {
             "colorbar": {
              "outlinewidth": 0,
              "ticks": ""
             }
            },
            "type": "scattermapbox"
           }
          ],
          "scatterpolar": [
           {
            "marker": {
             "colorbar": {
              "outlinewidth": 0,
              "ticks": ""
             }
            },
            "type": "scatterpolar"
           }
          ],
          "scatterpolargl": [
           {
            "marker": {
             "colorbar": {
              "outlinewidth": 0,
              "ticks": ""
             }
            },
            "type": "scatterpolargl"
           }
          ],
          "scatterternary": [
           {
            "marker": {
             "colorbar": {
              "outlinewidth": 0,
              "ticks": ""
             }
            },
            "type": "scatterternary"
           }
          ],
          "surface": [
           {
            "colorbar": {
             "outlinewidth": 0,
             "ticks": ""
            },
            "colorscale": [
             [
              0,
              "#0d0887"
             ],
             [
              0.1111111111111111,
              "#46039f"
             ],
             [
              0.2222222222222222,
              "#7201a8"
             ],
             [
              0.3333333333333333,
              "#9c179e"
             ],
             [
              0.4444444444444444,
              "#bd3786"
             ],
             [
              0.5555555555555556,
              "#d8576b"
             ],
             [
              0.6666666666666666,
              "#ed7953"
             ],
             [
              0.7777777777777778,
              "#fb9f3a"
             ],
             [
              0.8888888888888888,
              "#fdca26"
             ],
             [
              1,
              "#f0f921"
             ]
            ],
            "type": "surface"
           }
          ],
          "table": [
           {
            "cells": {
             "fill": {
              "color": "#EBF0F8"
             },
             "line": {
              "color": "white"
             }
            },
            "header": {
             "fill": {
              "color": "#C8D4E3"
             },
             "line": {
              "color": "white"
             }
            },
            "type": "table"
           }
          ]
         },
         "layout": {
          "annotationdefaults": {
           "arrowcolor": "#2a3f5f",
           "arrowhead": 0,
           "arrowwidth": 1
          },
          "autotypenumbers": "strict",
          "coloraxis": {
           "colorbar": {
            "outlinewidth": 0,
            "ticks": ""
           }
          },
          "colorscale": {
           "diverging": [
            [
             0,
             "#8e0152"
            ],
            [
             0.1,
             "#c51b7d"
            ],
            [
             0.2,
             "#de77ae"
            ],
            [
             0.3,
             "#f1b6da"
            ],
            [
             0.4,
             "#fde0ef"
            ],
            [
             0.5,
             "#f7f7f7"
            ],
            [
             0.6,
             "#e6f5d0"
            ],
            [
             0.7,
             "#b8e186"
            ],
            [
             0.8,
             "#7fbc41"
            ],
            [
             0.9,
             "#4d9221"
            ],
            [
             1,
             "#276419"
            ]
           ],
           "sequential": [
            [
             0,
             "#0d0887"
            ],
            [
             0.1111111111111111,
             "#46039f"
            ],
            [
             0.2222222222222222,
             "#7201a8"
            ],
            [
             0.3333333333333333,
             "#9c179e"
            ],
            [
             0.4444444444444444,
             "#bd3786"
            ],
            [
             0.5555555555555556,
             "#d8576b"
            ],
            [
             0.6666666666666666,
             "#ed7953"
            ],
            [
             0.7777777777777778,
             "#fb9f3a"
            ],
            [
             0.8888888888888888,
             "#fdca26"
            ],
            [
             1,
             "#f0f921"
            ]
           ],
           "sequentialminus": [
            [
             0,
             "#0d0887"
            ],
            [
             0.1111111111111111,
             "#46039f"
            ],
            [
             0.2222222222222222,
             "#7201a8"
            ],
            [
             0.3333333333333333,
             "#9c179e"
            ],
            [
             0.4444444444444444,
             "#bd3786"
            ],
            [
             0.5555555555555556,
             "#d8576b"
            ],
            [
             0.6666666666666666,
             "#ed7953"
            ],
            [
             0.7777777777777778,
             "#fb9f3a"
            ],
            [
             0.8888888888888888,
             "#fdca26"
            ],
            [
             1,
             "#f0f921"
            ]
           ]
          },
          "colorway": [
           "#636efa",
           "#EF553B",
           "#00cc96",
           "#ab63fa",
           "#FFA15A",
           "#19d3f3",
           "#FF6692",
           "#B6E880",
           "#FF97FF",
           "#FECB52"
          ],
          "font": {
           "color": "#2a3f5f"
          },
          "geo": {
           "bgcolor": "white",
           "lakecolor": "white",
           "landcolor": "white",
           "showlakes": true,
           "showland": true,
           "subunitcolor": "#C8D4E3"
          },
          "hoverlabel": {
           "align": "left"
          },
          "hovermode": "closest",
          "mapbox": {
           "style": "light"
          },
          "paper_bgcolor": "white",
          "plot_bgcolor": "white",
          "polar": {
           "angularaxis": {
            "gridcolor": "#EBF0F8",
            "linecolor": "#EBF0F8",
            "ticks": ""
           },
           "bgcolor": "white",
           "radialaxis": {
            "gridcolor": "#EBF0F8",
            "linecolor": "#EBF0F8",
            "ticks": ""
           }
          },
          "scene": {
           "xaxis": {
            "backgroundcolor": "white",
            "gridcolor": "#DFE8F3",
            "gridwidth": 2,
            "linecolor": "#EBF0F8",
            "showbackground": true,
            "ticks": "",
            "zerolinecolor": "#EBF0F8"
           },
           "yaxis": {
            "backgroundcolor": "white",
            "gridcolor": "#DFE8F3",
            "gridwidth": 2,
            "linecolor": "#EBF0F8",
            "showbackground": true,
            "ticks": "",
            "zerolinecolor": "#EBF0F8"
           },
           "zaxis": {
            "backgroundcolor": "white",
            "gridcolor": "#DFE8F3",
            "gridwidth": 2,
            "linecolor": "#EBF0F8",
            "showbackground": true,
            "ticks": "",
            "zerolinecolor": "#EBF0F8"
           }
          },
          "shapedefaults": {
           "line": {
            "color": "#2a3f5f"
           }
          },
          "ternary": {
           "aaxis": {
            "gridcolor": "#DFE8F3",
            "linecolor": "#A2B1C6",
            "ticks": ""
           },
           "baxis": {
            "gridcolor": "#DFE8F3",
            "linecolor": "#A2B1C6",
            "ticks": ""
           },
           "bgcolor": "white",
           "caxis": {
            "gridcolor": "#DFE8F3",
            "linecolor": "#A2B1C6",
            "ticks": ""
           }
          },
          "title": {
           "x": 0.05
          },
          "xaxis": {
           "automargin": true,
           "gridcolor": "#EBF0F8",
           "linecolor": "#EBF0F8",
           "ticks": "",
           "title": {
            "standoff": 15
           },
           "zerolinecolor": "#EBF0F8",
           "zerolinewidth": 2
          },
          "yaxis": {
           "automargin": true,
           "gridcolor": "#EBF0F8",
           "linecolor": "#EBF0F8",
           "ticks": "",
           "title": {
            "standoff": 15
           },
           "zerolinecolor": "#EBF0F8",
           "zerolinewidth": 2
          }
         }
        },
        "title": {
         "text": "MATH-500 Performance over time"
        },
        "width": 800,
        "xaxis": {
         "anchor": "y",
         "domain": [
          0,
          1
         ],
         "title": {
          "text": "Release Date"
         }
        },
        "yaxis": {
         "anchor": "x",
         "domain": [
          0,
          1
         ],
         "title": {
          "text": "MATH-500"
         }
        }
       }
      }
     },
     "metadata": {},
     "output_type": "display_data"
    },
    {
     "name": "stdout",
     "output_type": "stream",
     "text": [
      "['o1-mini (2024-09)', 'GPT-4o-2024-05 (2024-05)', 'o3-mini (2025-01)', 'GPT-4 Turbo (2023-11)', 'GPT-4-0613 (2023-06)', 'o1 (2024-12)', 'GPT-3 (2021-11)']\n"
     ]
    },
    {
     "data": {
      "application/vnd.plotly.v1+json": {
       "config": {
        "plotlyServerURL": "https://plot.ly"
       },
       "data": [
        {
         "customdata": [
          [
           "GPT-3"
          ],
          [
           "GPT-3"
          ],
          [
           "GPT-3"
          ],
          [
           "GPT-3.5"
          ],
          [
           "GPT-3.5 Turbo"
          ],
          [
           "GPT-4-0314"
          ],
          [
           "GPT-4-0613"
          ],
          [
           "GPT-3.5-Turbo-2023-06"
          ],
          [
           "Llama-2-Chat-13B"
          ],
          [
           "Llama-2-Chat-7B"
          ],
          [
           "GPT-3.5-Turbo-2023-11"
          ],
          [
           "GPT-4 Turbo"
          ],
          [
           "Llama 2-70B Chat"
          ],
          [
           "Llama 2-7B"
          ],
          [
           "Llama 2-13B"
          ],
          [
           "GPT-3"
          ],
          [
           "GPT-3.5-Turbo-2024-01"
          ],
          [
           "GPT-4-0125"
          ],
          [
           "Mistral-Small-2024-02"
          ],
          [
           "Mistral-Large-2024-02"
          ],
          [
           "Claude-3-Haiku"
          ],
          [
           "Claude-3-Sonnet"
          ],
          [
           "Claude-3-Opus"
          ],
          [
           "Llama 2-13B"
          ],
          [
           "Llama 2-7B"
          ],
          [
           "Mistral-8x22"
          ],
          [
           "Llama-3-Instruct-70B"
          ],
          [
           "Llama-3-Instruct-8B"
          ],
          [
           "Gemini-1.5-Flash-2024-05"
          ],
          [
           "GPT-4o-2024-05"
          ],
          [
           "Gemini-1.5-Pro-2024-05"
          ],
          [
           "Claude-3.5-Sonnet-2024-06"
          ],
          [
           "Gemma-2-9B"
          ],
          [
           "Gemma-2-27B"
          ],
          [
           "Mistral-NeMo"
          ],
          [
           "GPT-4o-mini"
          ],
          [
           "Llama-3.1-Instruct-405B"
          ],
          [
           "Llama-3.1-Instruct-8B"
          ],
          [
           "Llama-3.1-Instruct-70B"
          ],
          [
           "Mistral-Large-2-2024-07"
          ],
          [
           "GPT-4o-2024-08"
          ],
          [
           "Claude 2"
          ],
          [
           "Gemini 1.0 Pro"
          ],
          [
           "Claude Instant"
          ],
          [
           "Claude 2.1"
          ],
          [
           "Command R"
          ],
          [
           "Command R+"
          ],
          [
           "Cohere Command Light"
          ],
          [
           "Cohere Command"
          ],
          [
           "DeepSeek-Coder-V2 236B"
          ],
          [
           "o1-preview"
          ],
          [
           "Jamba 1.5-Large"
          ],
          [
           "o1-mini"
          ],
          [
           "Command R+"
          ],
          [
           "Reka Core"
          ],
          [
           "Mistral 7B"
          ],
          [
           "Llama-3.2-Instruct-1B"
          ],
          [
           "Gemini-1.5-Pro-2024-09"
          ],
          [
           "Llama-3.2-Instruct-3B"
          ],
          [
           "Gemini-1.5-Flash-2024-09"
          ],
          [
           "Gemini-1.5-Flash-8B"
          ],
          [
           "Claude-3.5-Sonnet-2024-10"
          ],
          [
           "Claude-3.5-Haiku"
          ],
          [
           "Mistral-Large-2-2024-11"
          ],
          [
           "GPT-4o-2024-11"
          ],
          [
           "Phi 4"
          ],
          [
           "o1"
          ],
          [
           "DeepSeek-V3"
          ],
          [
           "DeepSeek-R1"
          ],
          [
           "Mistral Small 3"
          ],
          [
           "o3-mini"
          ],
          [
           "o1-mini"
          ],
          [
           "Gemini 2.0 Flash"
          ]
         ],
         "hovertemplate": "Release Date=%{x}<br>MATH 5=%{y}<br>Model Name=%{customdata[0]}<extra></extra>",
         "legendgroup": "",
         "marker": {
          "color": "lightgray",
          "symbol": "circle"
         },
         "mode": "markers",
         "name": "",
         "orientation": "v",
         "showlegend": false,
         "type": "scatter",
         "x": [
          "2021-11-20T00:00:00",
          "2022-08-31T00:00:00",
          "2022-09-01T00:00:00",
          "2022-11-30T00:00:00",
          "2023-03-06T00:00:00",
          "2023-03-14T00:00:00",
          "2023-06-13T00:00:00",
          "2023-06-13T00:00:00",
          "2023-07-18T00:00:00",
          "2023-07-18T00:00:00",
          "2023-11-06T00:00:00",
          "2023-11-06T00:00:00",
          "2023-12-01T00:00:00",
          "2023-12-01T00:00:00",
          "2023-12-08T00:00:00",
          "2024-01-04T00:00:00",
          "2024-01-25T00:00:00",
          "2024-01-25T00:00:00",
          "2024-02-26T00:00:00",
          "2024-02-26T00:00:00",
          "2024-03-04T00:00:00",
          "2024-03-04T00:00:00",
          "2024-03-04T00:00:00",
          "2024-04-14T00:00:00",
          "2024-04-14T00:00:00",
          "2024-04-17T00:00:00",
          "2024-04-18T00:00:00",
          "2024-04-18T00:00:00",
          "2024-05-10T00:00:00",
          "2024-05-13T00:00:00",
          "2024-05-23T00:00:00",
          "2024-06-20T00:00:00",
          "2024-06-24T00:00:00",
          "2024-06-24T00:00:00",
          "2024-07-18T00:00:00",
          "2024-07-18T00:00:00",
          "2024-07-23T00:00:00",
          "2024-07-23T00:00:00",
          "2024-07-23T00:00:00",
          "2024-07-24T00:00:00",
          "2024-08-06T00:00:00",
          "2024-08-12T00:00:00",
          "2024-08-12T00:00:00",
          "2024-08-12T00:00:00",
          "2024-08-12T00:00:00",
          "2024-08-13T00:00:00",
          "2024-08-13T00:00:00",
          "2024-08-13T00:00:00",
          "2024-08-13T00:00:00",
          "2024-09-11T00:00:00",
          "2024-09-12T00:00:00",
          "2024-09-12T00:00:00",
          "2024-09-12T00:00:00",
          "2024-09-13T00:00:00",
          "2024-09-14T00:00:00",
          "2024-09-14T00:00:00",
          "2024-09-24T00:00:00",
          "2024-09-24T00:00:00",
          "2024-09-24T00:00:00",
          "2024-09-24T00:00:00",
          "2024-10-03T00:00:00",
          "2024-10-22T00:00:00",
          "2024-10-22T00:00:00",
          "2024-11-18T00:00:00",
          "2024-11-20T00:00:00",
          "2024-12-13T00:00:00",
          "2024-12-17T00:00:00",
          "2024-12-26T00:00:00",
          "2025-01-20T00:00:00",
          "2025-01-30T00:00:00",
          "2025-01-31T00:00:00",
          "2025-01-31T00:00:00",
          "2025-02-05T00:00:00"
         ],
         "xaxis": "x",
         "y": [
          null,
          null,
          null,
          null,
          null,
          null,
          23,
          15,
          null,
          null,
          15,
          36,
          3,
          null,
          null,
          null,
          11,
          35,
          null,
          21,
          13,
          16,
          34,
          null,
          null,
          23,
          22,
          8,
          23,
          48,
          41,
          46,
          18,
          23,
          10,
          48,
          45,
          22,
          39,
          45,
          47,
          10,
          11,
          null,
          11,
          null,
          null,
          null,
          null,
          null,
          68,
          null,
          84.3,
          null,
          null,
          3,
          null,
          67,
          null,
          58,
          null,
          53,
          null,
          null,
          50,
          65,
          94.4,
          65,
          93.1,
          45,
          95.2,
          84.3,
          82
         ],
         "yaxis": "y"
        },
        {
         "hovertemplate": "%{text}<extra></extra>",
         "line": {
          "color": "red"
         },
         "mode": "lines+markers",
         "name": "Top Model",
         "text": [
          "GPT-3",
          "GPT-4-0613",
          "GPT-4 Turbo",
          "GPT-4o-2024-05",
          "o1-mini",
          "o1",
          "o3-mini"
         ],
         "type": "scatter",
         "x": [
          "2021-11-20T00:00:00",
          "2023-06-13T00:00:00",
          "2023-11-06T00:00:00",
          "2024-05-13T00:00:00",
          "2024-09-12T00:00:00",
          "2024-12-17T00:00:00",
          "2025-01-31T00:00:00"
         ],
         "y": [
          null,
          23,
          36,
          48,
          84.3,
          94.4,
          95.2
         ]
        }
       ],
       "layout": {
        "height": 400,
        "legend": {
         "tracegroupgap": 0
        },
        "template": {
         "data": {
          "bar": [
           {
            "error_x": {
             "color": "#2a3f5f"
            },
            "error_y": {
             "color": "#2a3f5f"
            },
            "marker": {
             "line": {
              "color": "white",
              "width": 0.5
             },
             "pattern": {
              "fillmode": "overlay",
              "size": 10,
              "solidity": 0.2
             }
            },
            "type": "bar"
           }
          ],
          "barpolar": [
           {
            "marker": {
             "line": {
              "color": "white",
              "width": 0.5
             },
             "pattern": {
              "fillmode": "overlay",
              "size": 10,
              "solidity": 0.2
             }
            },
            "type": "barpolar"
           }
          ],
          "carpet": [
           {
            "aaxis": {
             "endlinecolor": "#2a3f5f",
             "gridcolor": "#C8D4E3",
             "linecolor": "#C8D4E3",
             "minorgridcolor": "#C8D4E3",
             "startlinecolor": "#2a3f5f"
            },
            "baxis": {
             "endlinecolor": "#2a3f5f",
             "gridcolor": "#C8D4E3",
             "linecolor": "#C8D4E3",
             "minorgridcolor": "#C8D4E3",
             "startlinecolor": "#2a3f5f"
            },
            "type": "carpet"
           }
          ],
          "choropleth": [
           {
            "colorbar": {
             "outlinewidth": 0,
             "ticks": ""
            },
            "type": "choropleth"
           }
          ],
          "contour": [
           {
            "colorbar": {
             "outlinewidth": 0,
             "ticks": ""
            },
            "colorscale": [
             [
              0,
              "#0d0887"
             ],
             [
              0.1111111111111111,
              "#46039f"
             ],
             [
              0.2222222222222222,
              "#7201a8"
             ],
             [
              0.3333333333333333,
              "#9c179e"
             ],
             [
              0.4444444444444444,
              "#bd3786"
             ],
             [
              0.5555555555555556,
              "#d8576b"
             ],
             [
              0.6666666666666666,
              "#ed7953"
             ],
             [
              0.7777777777777778,
              "#fb9f3a"
             ],
             [
              0.8888888888888888,
              "#fdca26"
             ],
             [
              1,
              "#f0f921"
             ]
            ],
            "type": "contour"
           }
          ],
          "contourcarpet": [
           {
            "colorbar": {
             "outlinewidth": 0,
             "ticks": ""
            },
            "type": "contourcarpet"
           }
          ],
          "heatmap": [
           {
            "colorbar": {
             "outlinewidth": 0,
             "ticks": ""
            },
            "colorscale": [
             [
              0,
              "#0d0887"
             ],
             [
              0.1111111111111111,
              "#46039f"
             ],
             [
              0.2222222222222222,
              "#7201a8"
             ],
             [
              0.3333333333333333,
              "#9c179e"
             ],
             [
              0.4444444444444444,
              "#bd3786"
             ],
             [
              0.5555555555555556,
              "#d8576b"
             ],
             [
              0.6666666666666666,
              "#ed7953"
             ],
             [
              0.7777777777777778,
              "#fb9f3a"
             ],
             [
              0.8888888888888888,
              "#fdca26"
             ],
             [
              1,
              "#f0f921"
             ]
            ],
            "type": "heatmap"
           }
          ],
          "heatmapgl": [
           {
            "colorbar": {
             "outlinewidth": 0,
             "ticks": ""
            },
            "colorscale": [
             [
              0,
              "#0d0887"
             ],
             [
              0.1111111111111111,
              "#46039f"
             ],
             [
              0.2222222222222222,
              "#7201a8"
             ],
             [
              0.3333333333333333,
              "#9c179e"
             ],
             [
              0.4444444444444444,
              "#bd3786"
             ],
             [
              0.5555555555555556,
              "#d8576b"
             ],
             [
              0.6666666666666666,
              "#ed7953"
             ],
             [
              0.7777777777777778,
              "#fb9f3a"
             ],
             [
              0.8888888888888888,
              "#fdca26"
             ],
             [
              1,
              "#f0f921"
             ]
            ],
            "type": "heatmapgl"
           }
          ],
          "histogram": [
           {
            "marker": {
             "pattern": {
              "fillmode": "overlay",
              "size": 10,
              "solidity": 0.2
             }
            },
            "type": "histogram"
           }
          ],
          "histogram2d": [
           {
            "colorbar": {
             "outlinewidth": 0,
             "ticks": ""
            },
            "colorscale": [
             [
              0,
              "#0d0887"
             ],
             [
              0.1111111111111111,
              "#46039f"
             ],
             [
              0.2222222222222222,
              "#7201a8"
             ],
             [
              0.3333333333333333,
              "#9c179e"
             ],
             [
              0.4444444444444444,
              "#bd3786"
             ],
             [
              0.5555555555555556,
              "#d8576b"
             ],
             [
              0.6666666666666666,
              "#ed7953"
             ],
             [
              0.7777777777777778,
              "#fb9f3a"
             ],
             [
              0.8888888888888888,
              "#fdca26"
             ],
             [
              1,
              "#f0f921"
             ]
            ],
            "type": "histogram2d"
           }
          ],
          "histogram2dcontour": [
           {
            "colorbar": {
             "outlinewidth": 0,
             "ticks": ""
            },
            "colorscale": [
             [
              0,
              "#0d0887"
             ],
             [
              0.1111111111111111,
              "#46039f"
             ],
             [
              0.2222222222222222,
              "#7201a8"
             ],
             [
              0.3333333333333333,
              "#9c179e"
             ],
             [
              0.4444444444444444,
              "#bd3786"
             ],
             [
              0.5555555555555556,
              "#d8576b"
             ],
             [
              0.6666666666666666,
              "#ed7953"
             ],
             [
              0.7777777777777778,
              "#fb9f3a"
             ],
             [
              0.8888888888888888,
              "#fdca26"
             ],
             [
              1,
              "#f0f921"
             ]
            ],
            "type": "histogram2dcontour"
           }
          ],
          "mesh3d": [
           {
            "colorbar": {
             "outlinewidth": 0,
             "ticks": ""
            },
            "type": "mesh3d"
           }
          ],
          "parcoords": [
           {
            "line": {
             "colorbar": {
              "outlinewidth": 0,
              "ticks": ""
             }
            },
            "type": "parcoords"
           }
          ],
          "pie": [
           {
            "automargin": true,
            "type": "pie"
           }
          ],
          "scatter": [
           {
            "fillpattern": {
             "fillmode": "overlay",
             "size": 10,
             "solidity": 0.2
            },
            "type": "scatter"
           }
          ],
          "scatter3d": [
           {
            "line": {
             "colorbar": {
              "outlinewidth": 0,
              "ticks": ""
             }
            },
            "marker": {
             "colorbar": {
              "outlinewidth": 0,
              "ticks": ""
             }
            },
            "type": "scatter3d"
           }
          ],
          "scattercarpet": [
           {
            "marker": {
             "colorbar": {
              "outlinewidth": 0,
              "ticks": ""
             }
            },
            "type": "scattercarpet"
           }
          ],
          "scattergeo": [
           {
            "marker": {
             "colorbar": {
              "outlinewidth": 0,
              "ticks": ""
             }
            },
            "type": "scattergeo"
           }
          ],
          "scattergl": [
           {
            "marker": {
             "colorbar": {
              "outlinewidth": 0,
              "ticks": ""
             }
            },
            "type": "scattergl"
           }
          ],
          "scattermapbox": [
           {
            "marker": {
             "colorbar": {
              "outlinewidth": 0,
              "ticks": ""
             }
            },
            "type": "scattermapbox"
           }
          ],
          "scatterpolar": [
           {
            "marker": {
             "colorbar": {
              "outlinewidth": 0,
              "ticks": ""
             }
            },
            "type": "scatterpolar"
           }
          ],
          "scatterpolargl": [
           {
            "marker": {
             "colorbar": {
              "outlinewidth": 0,
              "ticks": ""
             }
            },
            "type": "scatterpolargl"
           }
          ],
          "scatterternary": [
           {
            "marker": {
             "colorbar": {
              "outlinewidth": 0,
              "ticks": ""
             }
            },
            "type": "scatterternary"
           }
          ],
          "surface": [
           {
            "colorbar": {
             "outlinewidth": 0,
             "ticks": ""
            },
            "colorscale": [
             [
              0,
              "#0d0887"
             ],
             [
              0.1111111111111111,
              "#46039f"
             ],
             [
              0.2222222222222222,
              "#7201a8"
             ],
             [
              0.3333333333333333,
              "#9c179e"
             ],
             [
              0.4444444444444444,
              "#bd3786"
             ],
             [
              0.5555555555555556,
              "#d8576b"
             ],
             [
              0.6666666666666666,
              "#ed7953"
             ],
             [
              0.7777777777777778,
              "#fb9f3a"
             ],
             [
              0.8888888888888888,
              "#fdca26"
             ],
             [
              1,
              "#f0f921"
             ]
            ],
            "type": "surface"
           }
          ],
          "table": [
           {
            "cells": {
             "fill": {
              "color": "#EBF0F8"
             },
             "line": {
              "color": "white"
             }
            },
            "header": {
             "fill": {
              "color": "#C8D4E3"
             },
             "line": {
              "color": "white"
             }
            },
            "type": "table"
           }
          ]
         },
         "layout": {
          "annotationdefaults": {
           "arrowcolor": "#2a3f5f",
           "arrowhead": 0,
           "arrowwidth": 1
          },
          "autotypenumbers": "strict",
          "coloraxis": {
           "colorbar": {
            "outlinewidth": 0,
            "ticks": ""
           }
          },
          "colorscale": {
           "diverging": [
            [
             0,
             "#8e0152"
            ],
            [
             0.1,
             "#c51b7d"
            ],
            [
             0.2,
             "#de77ae"
            ],
            [
             0.3,
             "#f1b6da"
            ],
            [
             0.4,
             "#fde0ef"
            ],
            [
             0.5,
             "#f7f7f7"
            ],
            [
             0.6,
             "#e6f5d0"
            ],
            [
             0.7,
             "#b8e186"
            ],
            [
             0.8,
             "#7fbc41"
            ],
            [
             0.9,
             "#4d9221"
            ],
            [
             1,
             "#276419"
            ]
           ],
           "sequential": [
            [
             0,
             "#0d0887"
            ],
            [
             0.1111111111111111,
             "#46039f"
            ],
            [
             0.2222222222222222,
             "#7201a8"
            ],
            [
             0.3333333333333333,
             "#9c179e"
            ],
            [
             0.4444444444444444,
             "#bd3786"
            ],
            [
             0.5555555555555556,
             "#d8576b"
            ],
            [
             0.6666666666666666,
             "#ed7953"
            ],
            [
             0.7777777777777778,
             "#fb9f3a"
            ],
            [
             0.8888888888888888,
             "#fdca26"
            ],
            [
             1,
             "#f0f921"
            ]
           ],
           "sequentialminus": [
            [
             0,
             "#0d0887"
            ],
            [
             0.1111111111111111,
             "#46039f"
            ],
            [
             0.2222222222222222,
             "#7201a8"
            ],
            [
             0.3333333333333333,
             "#9c179e"
            ],
            [
             0.4444444444444444,
             "#bd3786"
            ],
            [
             0.5555555555555556,
             "#d8576b"
            ],
            [
             0.6666666666666666,
             "#ed7953"
            ],
            [
             0.7777777777777778,
             "#fb9f3a"
            ],
            [
             0.8888888888888888,
             "#fdca26"
            ],
            [
             1,
             "#f0f921"
            ]
           ]
          },
          "colorway": [
           "#636efa",
           "#EF553B",
           "#00cc96",
           "#ab63fa",
           "#FFA15A",
           "#19d3f3",
           "#FF6692",
           "#B6E880",
           "#FF97FF",
           "#FECB52"
          ],
          "font": {
           "color": "#2a3f5f"
          },
          "geo": {
           "bgcolor": "white",
           "lakecolor": "white",
           "landcolor": "white",
           "showlakes": true,
           "showland": true,
           "subunitcolor": "#C8D4E3"
          },
          "hoverlabel": {
           "align": "left"
          },
          "hovermode": "closest",
          "mapbox": {
           "style": "light"
          },
          "paper_bgcolor": "white",
          "plot_bgcolor": "white",
          "polar": {
           "angularaxis": {
            "gridcolor": "#EBF0F8",
            "linecolor": "#EBF0F8",
            "ticks": ""
           },
           "bgcolor": "white",
           "radialaxis": {
            "gridcolor": "#EBF0F8",
            "linecolor": "#EBF0F8",
            "ticks": ""
           }
          },
          "scene": {
           "xaxis": {
            "backgroundcolor": "white",
            "gridcolor": "#DFE8F3",
            "gridwidth": 2,
            "linecolor": "#EBF0F8",
            "showbackground": true,
            "ticks": "",
            "zerolinecolor": "#EBF0F8"
           },
           "yaxis": {
            "backgroundcolor": "white",
            "gridcolor": "#DFE8F3",
            "gridwidth": 2,
            "linecolor": "#EBF0F8",
            "showbackground": true,
            "ticks": "",
            "zerolinecolor": "#EBF0F8"
           },
           "zaxis": {
            "backgroundcolor": "white",
            "gridcolor": "#DFE8F3",
            "gridwidth": 2,
            "linecolor": "#EBF0F8",
            "showbackground": true,
            "ticks": "",
            "zerolinecolor": "#EBF0F8"
           }
          },
          "shapedefaults": {
           "line": {
            "color": "#2a3f5f"
           }
          },
          "ternary": {
           "aaxis": {
            "gridcolor": "#DFE8F3",
            "linecolor": "#A2B1C6",
            "ticks": ""
           },
           "baxis": {
            "gridcolor": "#DFE8F3",
            "linecolor": "#A2B1C6",
            "ticks": ""
           },
           "bgcolor": "white",
           "caxis": {
            "gridcolor": "#DFE8F3",
            "linecolor": "#A2B1C6",
            "ticks": ""
           }
          },
          "title": {
           "x": 0.05
          },
          "xaxis": {
           "automargin": true,
           "gridcolor": "#EBF0F8",
           "linecolor": "#EBF0F8",
           "ticks": "",
           "title": {
            "standoff": 15
           },
           "zerolinecolor": "#EBF0F8",
           "zerolinewidth": 2
          },
          "yaxis": {
           "automargin": true,
           "gridcolor": "#EBF0F8",
           "linecolor": "#EBF0F8",
           "ticks": "",
           "title": {
            "standoff": 15
           },
           "zerolinecolor": "#EBF0F8",
           "zerolinewidth": 2
          }
         }
        },
        "title": {
         "text": "MATH 5 Performance over time"
        },
        "width": 800,
        "xaxis": {
         "anchor": "y",
         "domain": [
          0,
          1
         ],
         "title": {
          "text": "Release Date"
         }
        },
        "yaxis": {
         "anchor": "x",
         "domain": [
          0,
          1
         ],
         "title": {
          "text": "MATH 5"
         }
        }
       }
      }
     },
     "metadata": {},
     "output_type": "display_data"
    },
    {
     "name": "stdout",
     "output_type": "stream",
     "text": [
      "['GPT-4o-2024-05 (2024-05)', 'o1-mini (2024-09)', 'GPT-4 Turbo (2023-11)', 'DeepSeek-R1 (2025-01)', 'GPT-3.5-Turbo-2023-06 (2023-06)', 'GPT-3 (2021-11)', 'GPT-4-0314 (2023-03)']\n"
     ]
    },
    {
     "data": {
      "application/vnd.plotly.v1+json": {
       "config": {
        "plotlyServerURL": "https://plot.ly"
       },
       "data": [
        {
         "customdata": [
          [
           "GPT-3"
          ],
          [
           "GPT-3"
          ],
          [
           "GPT-3"
          ],
          [
           "GPT-3.5"
          ],
          [
           "GPT-3.5 Turbo"
          ],
          [
           "GPT-4-0314"
          ],
          [
           "GPT-4-0613"
          ],
          [
           "GPT-3.5-Turbo-2023-06"
          ],
          [
           "Llama-2-Chat-13B"
          ],
          [
           "Llama-2-Chat-7B"
          ],
          [
           "GPT-3.5-Turbo-2023-11"
          ],
          [
           "GPT-4 Turbo"
          ],
          [
           "Llama 2-70B Chat"
          ],
          [
           "Llama 2-7B"
          ],
          [
           "Llama 2-13B"
          ],
          [
           "GPT-3"
          ],
          [
           "GPT-3.5-Turbo-2024-01"
          ],
          [
           "GPT-4-0125"
          ],
          [
           "Mistral-Small-2024-02"
          ],
          [
           "Mistral-Large-2024-02"
          ],
          [
           "Claude-3-Haiku"
          ],
          [
           "Claude-3-Sonnet"
          ],
          [
           "Claude-3-Opus"
          ],
          [
           "Llama 2-13B"
          ],
          [
           "Llama 2-7B"
          ],
          [
           "Mistral-8x22"
          ],
          [
           "Llama-3-Instruct-70B"
          ],
          [
           "Llama-3-Instruct-8B"
          ],
          [
           "Gemini-1.5-Flash-2024-05"
          ],
          [
           "GPT-4o-2024-05"
          ],
          [
           "Gemini-1.5-Pro-2024-05"
          ],
          [
           "Claude-3.5-Sonnet-2024-06"
          ],
          [
           "Gemma-2-9B"
          ],
          [
           "Gemma-2-27B"
          ],
          [
           "Mistral-NeMo"
          ],
          [
           "GPT-4o-mini"
          ],
          [
           "Llama-3.1-Instruct-405B"
          ],
          [
           "Llama-3.1-Instruct-8B"
          ],
          [
           "Llama-3.1-Instruct-70B"
          ],
          [
           "Mistral-Large-2-2024-07"
          ],
          [
           "GPT-4o-2024-08"
          ],
          [
           "Claude 2"
          ],
          [
           "Gemini 1.0 Pro"
          ],
          [
           "Claude Instant"
          ],
          [
           "Claude 2.1"
          ],
          [
           "Command R"
          ],
          [
           "Command R+"
          ],
          [
           "Cohere Command Light"
          ],
          [
           "Cohere Command"
          ],
          [
           "DeepSeek-Coder-V2 236B"
          ],
          [
           "o1-preview"
          ],
          [
           "Jamba 1.5-Large"
          ],
          [
           "o1-mini"
          ],
          [
           "Command R+"
          ],
          [
           "Reka Core"
          ],
          [
           "Mistral 7B"
          ],
          [
           "Llama-3.2-Instruct-1B"
          ],
          [
           "Gemini-1.5-Pro-2024-09"
          ],
          [
           "Llama-3.2-Instruct-3B"
          ],
          [
           "Gemini-1.5-Flash-2024-09"
          ],
          [
           "Gemini-1.5-Flash-8B"
          ],
          [
           "Claude-3.5-Sonnet-2024-10"
          ],
          [
           "Claude-3.5-Haiku"
          ],
          [
           "Mistral-Large-2-2024-11"
          ],
          [
           "GPT-4o-2024-11"
          ],
          [
           "Phi 4"
          ],
          [
           "o1"
          ],
          [
           "DeepSeek-V3"
          ],
          [
           "DeepSeek-R1"
          ],
          [
           "Mistral Small 3"
          ],
          [
           "o3-mini"
          ],
          [
           "o1-mini"
          ],
          [
           "Gemini 2.0 Flash"
          ]
         ],
         "hovertemplate": "Release Date=%{x}<br>HumanEval=%{y}<br>Model Name=%{customdata[0]}<extra></extra>",
         "legendgroup": "",
         "marker": {
          "color": "lightgray",
          "symbol": "circle"
         },
         "mode": "markers",
         "name": "",
         "orientation": "v",
         "showlegend": false,
         "type": "scatter",
         "x": [
          "2021-11-20T00:00:00",
          "2022-08-31T00:00:00",
          "2022-09-01T00:00:00",
          "2022-11-30T00:00:00",
          "2023-03-06T00:00:00",
          "2023-03-14T00:00:00",
          "2023-06-13T00:00:00",
          "2023-06-13T00:00:00",
          "2023-07-18T00:00:00",
          "2023-07-18T00:00:00",
          "2023-11-06T00:00:00",
          "2023-11-06T00:00:00",
          "2023-12-01T00:00:00",
          "2023-12-01T00:00:00",
          "2023-12-08T00:00:00",
          "2024-01-04T00:00:00",
          "2024-01-25T00:00:00",
          "2024-01-25T00:00:00",
          "2024-02-26T00:00:00",
          "2024-02-26T00:00:00",
          "2024-03-04T00:00:00",
          "2024-03-04T00:00:00",
          "2024-03-04T00:00:00",
          "2024-04-14T00:00:00",
          "2024-04-14T00:00:00",
          "2024-04-17T00:00:00",
          "2024-04-18T00:00:00",
          "2024-04-18T00:00:00",
          "2024-05-10T00:00:00",
          "2024-05-13T00:00:00",
          "2024-05-23T00:00:00",
          "2024-06-20T00:00:00",
          "2024-06-24T00:00:00",
          "2024-06-24T00:00:00",
          "2024-07-18T00:00:00",
          "2024-07-18T00:00:00",
          "2024-07-23T00:00:00",
          "2024-07-23T00:00:00",
          "2024-07-23T00:00:00",
          "2024-07-24T00:00:00",
          "2024-08-06T00:00:00",
          "2024-08-12T00:00:00",
          "2024-08-12T00:00:00",
          "2024-08-12T00:00:00",
          "2024-08-12T00:00:00",
          "2024-08-13T00:00:00",
          "2024-08-13T00:00:00",
          "2024-08-13T00:00:00",
          "2024-08-13T00:00:00",
          "2024-09-11T00:00:00",
          "2024-09-12T00:00:00",
          "2024-09-12T00:00:00",
          "2024-09-12T00:00:00",
          "2024-09-13T00:00:00",
          "2024-09-14T00:00:00",
          "2024-09-14T00:00:00",
          "2024-09-24T00:00:00",
          "2024-09-24T00:00:00",
          "2024-09-24T00:00:00",
          "2024-09-24T00:00:00",
          "2024-10-03T00:00:00",
          "2024-10-22T00:00:00",
          "2024-10-22T00:00:00",
          "2024-11-18T00:00:00",
          "2024-11-20T00:00:00",
          "2024-12-13T00:00:00",
          "2024-12-17T00:00:00",
          "2024-12-26T00:00:00",
          "2025-01-20T00:00:00",
          "2025-01-30T00:00:00",
          "2025-01-31T00:00:00",
          "2025-01-31T00:00:00",
          "2025-02-05T00:00:00"
         ],
         "xaxis": "x",
         "y": [
          null,
          null,
          null,
          null,
          null,
          67,
          null,
          71,
          null,
          13,
          71,
          92,
          null,
          null,
          null,
          null,
          71,
          null,
          79,
          69,
          77,
          71,
          83,
          null,
          null,
          74,
          18,
          53,
          null,
          94,
          83,
          90,
          64,
          76,
          71,
          88,
          87,
          67,
          80,
          91,
          93,
          null,
          null,
          null,
          16,
          42,
          63,
          null,
          null,
          87,
          96,
          24,
          97,
          63,
          73,
          40,
          40,
          88,
          60,
          83,
          12,
          96,
          87,
          90,
          93,
          87,
          97,
          91,
          98,
          85,
          97,
          97,
          90
         ],
         "yaxis": "y"
        },
        {
         "hovertemplate": "%{text}<extra></extra>",
         "line": {
          "color": "red"
         },
         "mode": "lines+markers",
         "name": "Top Model",
         "text": [
          "GPT-3",
          "GPT-4-0314",
          "GPT-3.5-Turbo-2023-06",
          "GPT-4 Turbo",
          "GPT-4o-2024-05",
          "o1-mini",
          "DeepSeek-R1"
         ],
         "type": "scatter",
         "x": [
          "2021-11-20T00:00:00",
          "2023-03-14T00:00:00",
          "2023-06-13T00:00:00",
          "2023-11-06T00:00:00",
          "2024-05-13T00:00:00",
          "2024-09-12T00:00:00",
          "2025-01-20T00:00:00"
         ],
         "y": [
          null,
          67,
          71,
          92,
          94,
          97,
          98
         ]
        }
       ],
       "layout": {
        "height": 400,
        "legend": {
         "tracegroupgap": 0
        },
        "template": {
         "data": {
          "bar": [
           {
            "error_x": {
             "color": "#2a3f5f"
            },
            "error_y": {
             "color": "#2a3f5f"
            },
            "marker": {
             "line": {
              "color": "white",
              "width": 0.5
             },
             "pattern": {
              "fillmode": "overlay",
              "size": 10,
              "solidity": 0.2
             }
            },
            "type": "bar"
           }
          ],
          "barpolar": [
           {
            "marker": {
             "line": {
              "color": "white",
              "width": 0.5
             },
             "pattern": {
              "fillmode": "overlay",
              "size": 10,
              "solidity": 0.2
             }
            },
            "type": "barpolar"
           }
          ],
          "carpet": [
           {
            "aaxis": {
             "endlinecolor": "#2a3f5f",
             "gridcolor": "#C8D4E3",
             "linecolor": "#C8D4E3",
             "minorgridcolor": "#C8D4E3",
             "startlinecolor": "#2a3f5f"
            },
            "baxis": {
             "endlinecolor": "#2a3f5f",
             "gridcolor": "#C8D4E3",
             "linecolor": "#C8D4E3",
             "minorgridcolor": "#C8D4E3",
             "startlinecolor": "#2a3f5f"
            },
            "type": "carpet"
           }
          ],
          "choropleth": [
           {
            "colorbar": {
             "outlinewidth": 0,
             "ticks": ""
            },
            "type": "choropleth"
           }
          ],
          "contour": [
           {
            "colorbar": {
             "outlinewidth": 0,
             "ticks": ""
            },
            "colorscale": [
             [
              0,
              "#0d0887"
             ],
             [
              0.1111111111111111,
              "#46039f"
             ],
             [
              0.2222222222222222,
              "#7201a8"
             ],
             [
              0.3333333333333333,
              "#9c179e"
             ],
             [
              0.4444444444444444,
              "#bd3786"
             ],
             [
              0.5555555555555556,
              "#d8576b"
             ],
             [
              0.6666666666666666,
              "#ed7953"
             ],
             [
              0.7777777777777778,
              "#fb9f3a"
             ],
             [
              0.8888888888888888,
              "#fdca26"
             ],
             [
              1,
              "#f0f921"
             ]
            ],
            "type": "contour"
           }
          ],
          "contourcarpet": [
           {
            "colorbar": {
             "outlinewidth": 0,
             "ticks": ""
            },
            "type": "contourcarpet"
           }
          ],
          "heatmap": [
           {
            "colorbar": {
             "outlinewidth": 0,
             "ticks": ""
            },
            "colorscale": [
             [
              0,
              "#0d0887"
             ],
             [
              0.1111111111111111,
              "#46039f"
             ],
             [
              0.2222222222222222,
              "#7201a8"
             ],
             [
              0.3333333333333333,
              "#9c179e"
             ],
             [
              0.4444444444444444,
              "#bd3786"
             ],
             [
              0.5555555555555556,
              "#d8576b"
             ],
             [
              0.6666666666666666,
              "#ed7953"
             ],
             [
              0.7777777777777778,
              "#fb9f3a"
             ],
             [
              0.8888888888888888,
              "#fdca26"
             ],
             [
              1,
              "#f0f921"
             ]
            ],
            "type": "heatmap"
           }
          ],
          "heatmapgl": [
           {
            "colorbar": {
             "outlinewidth": 0,
             "ticks": ""
            },
            "colorscale": [
             [
              0,
              "#0d0887"
             ],
             [
              0.1111111111111111,
              "#46039f"
             ],
             [
              0.2222222222222222,
              "#7201a8"
             ],
             [
              0.3333333333333333,
              "#9c179e"
             ],
             [
              0.4444444444444444,
              "#bd3786"
             ],
             [
              0.5555555555555556,
              "#d8576b"
             ],
             [
              0.6666666666666666,
              "#ed7953"
             ],
             [
              0.7777777777777778,
              "#fb9f3a"
             ],
             [
              0.8888888888888888,
              "#fdca26"
             ],
             [
              1,
              "#f0f921"
             ]
            ],
            "type": "heatmapgl"
           }
          ],
          "histogram": [
           {
            "marker": {
             "pattern": {
              "fillmode": "overlay",
              "size": 10,
              "solidity": 0.2
             }
            },
            "type": "histogram"
           }
          ],
          "histogram2d": [
           {
            "colorbar": {
             "outlinewidth": 0,
             "ticks": ""
            },
            "colorscale": [
             [
              0,
              "#0d0887"
             ],
             [
              0.1111111111111111,
              "#46039f"
             ],
             [
              0.2222222222222222,
              "#7201a8"
             ],
             [
              0.3333333333333333,
              "#9c179e"
             ],
             [
              0.4444444444444444,
              "#bd3786"
             ],
             [
              0.5555555555555556,
              "#d8576b"
             ],
             [
              0.6666666666666666,
              "#ed7953"
             ],
             [
              0.7777777777777778,
              "#fb9f3a"
             ],
             [
              0.8888888888888888,
              "#fdca26"
             ],
             [
              1,
              "#f0f921"
             ]
            ],
            "type": "histogram2d"
           }
          ],
          "histogram2dcontour": [
           {
            "colorbar": {
             "outlinewidth": 0,
             "ticks": ""
            },
            "colorscale": [
             [
              0,
              "#0d0887"
             ],
             [
              0.1111111111111111,
              "#46039f"
             ],
             [
              0.2222222222222222,
              "#7201a8"
             ],
             [
              0.3333333333333333,
              "#9c179e"
             ],
             [
              0.4444444444444444,
              "#bd3786"
             ],
             [
              0.5555555555555556,
              "#d8576b"
             ],
             [
              0.6666666666666666,
              "#ed7953"
             ],
             [
              0.7777777777777778,
              "#fb9f3a"
             ],
             [
              0.8888888888888888,
              "#fdca26"
             ],
             [
              1,
              "#f0f921"
             ]
            ],
            "type": "histogram2dcontour"
           }
          ],
          "mesh3d": [
           {
            "colorbar": {
             "outlinewidth": 0,
             "ticks": ""
            },
            "type": "mesh3d"
           }
          ],
          "parcoords": [
           {
            "line": {
             "colorbar": {
              "outlinewidth": 0,
              "ticks": ""
             }
            },
            "type": "parcoords"
           }
          ],
          "pie": [
           {
            "automargin": true,
            "type": "pie"
           }
          ],
          "scatter": [
           {
            "fillpattern": {
             "fillmode": "overlay",
             "size": 10,
             "solidity": 0.2
            },
            "type": "scatter"
           }
          ],
          "scatter3d": [
           {
            "line": {
             "colorbar": {
              "outlinewidth": 0,
              "ticks": ""
             }
            },
            "marker": {
             "colorbar": {
              "outlinewidth": 0,
              "ticks": ""
             }
            },
            "type": "scatter3d"
           }
          ],
          "scattercarpet": [
           {
            "marker": {
             "colorbar": {
              "outlinewidth": 0,
              "ticks": ""
             }
            },
            "type": "scattercarpet"
           }
          ],
          "scattergeo": [
           {
            "marker": {
             "colorbar": {
              "outlinewidth": 0,
              "ticks": ""
             }
            },
            "type": "scattergeo"
           }
          ],
          "scattergl": [
           {
            "marker": {
             "colorbar": {
              "outlinewidth": 0,
              "ticks": ""
             }
            },
            "type": "scattergl"
           }
          ],
          "scattermapbox": [
           {
            "marker": {
             "colorbar": {
              "outlinewidth": 0,
              "ticks": ""
             }
            },
            "type": "scattermapbox"
           }
          ],
          "scatterpolar": [
           {
            "marker": {
             "colorbar": {
              "outlinewidth": 0,
              "ticks": ""
             }
            },
            "type": "scatterpolar"
           }
          ],
          "scatterpolargl": [
           {
            "marker": {
             "colorbar": {
              "outlinewidth": 0,
              "ticks": ""
             }
            },
            "type": "scatterpolargl"
           }
          ],
          "scatterternary": [
           {
            "marker": {
             "colorbar": {
              "outlinewidth": 0,
              "ticks": ""
             }
            },
            "type": "scatterternary"
           }
          ],
          "surface": [
           {
            "colorbar": {
             "outlinewidth": 0,
             "ticks": ""
            },
            "colorscale": [
             [
              0,
              "#0d0887"
             ],
             [
              0.1111111111111111,
              "#46039f"
             ],
             [
              0.2222222222222222,
              "#7201a8"
             ],
             [
              0.3333333333333333,
              "#9c179e"
             ],
             [
              0.4444444444444444,
              "#bd3786"
             ],
             [
              0.5555555555555556,
              "#d8576b"
             ],
             [
              0.6666666666666666,
              "#ed7953"
             ],
             [
              0.7777777777777778,
              "#fb9f3a"
             ],
             [
              0.8888888888888888,
              "#fdca26"
             ],
             [
              1,
              "#f0f921"
             ]
            ],
            "type": "surface"
           }
          ],
          "table": [
           {
            "cells": {
             "fill": {
              "color": "#EBF0F8"
             },
             "line": {
              "color": "white"
             }
            },
            "header": {
             "fill": {
              "color": "#C8D4E3"
             },
             "line": {
              "color": "white"
             }
            },
            "type": "table"
           }
          ]
         },
         "layout": {
          "annotationdefaults": {
           "arrowcolor": "#2a3f5f",
           "arrowhead": 0,
           "arrowwidth": 1
          },
          "autotypenumbers": "strict",
          "coloraxis": {
           "colorbar": {
            "outlinewidth": 0,
            "ticks": ""
           }
          },
          "colorscale": {
           "diverging": [
            [
             0,
             "#8e0152"
            ],
            [
             0.1,
             "#c51b7d"
            ],
            [
             0.2,
             "#de77ae"
            ],
            [
             0.3,
             "#f1b6da"
            ],
            [
             0.4,
             "#fde0ef"
            ],
            [
             0.5,
             "#f7f7f7"
            ],
            [
             0.6,
             "#e6f5d0"
            ],
            [
             0.7,
             "#b8e186"
            ],
            [
             0.8,
             "#7fbc41"
            ],
            [
             0.9,
             "#4d9221"
            ],
            [
             1,
             "#276419"
            ]
           ],
           "sequential": [
            [
             0,
             "#0d0887"
            ],
            [
             0.1111111111111111,
             "#46039f"
            ],
            [
             0.2222222222222222,
             "#7201a8"
            ],
            [
             0.3333333333333333,
             "#9c179e"
            ],
            [
             0.4444444444444444,
             "#bd3786"
            ],
            [
             0.5555555555555556,
             "#d8576b"
            ],
            [
             0.6666666666666666,
             "#ed7953"
            ],
            [
             0.7777777777777778,
             "#fb9f3a"
            ],
            [
             0.8888888888888888,
             "#fdca26"
            ],
            [
             1,
             "#f0f921"
            ]
           ],
           "sequentialminus": [
            [
             0,
             "#0d0887"
            ],
            [
             0.1111111111111111,
             "#46039f"
            ],
            [
             0.2222222222222222,
             "#7201a8"
            ],
            [
             0.3333333333333333,
             "#9c179e"
            ],
            [
             0.4444444444444444,
             "#bd3786"
            ],
            [
             0.5555555555555556,
             "#d8576b"
            ],
            [
             0.6666666666666666,
             "#ed7953"
            ],
            [
             0.7777777777777778,
             "#fb9f3a"
            ],
            [
             0.8888888888888888,
             "#fdca26"
            ],
            [
             1,
             "#f0f921"
            ]
           ]
          },
          "colorway": [
           "#636efa",
           "#EF553B",
           "#00cc96",
           "#ab63fa",
           "#FFA15A",
           "#19d3f3",
           "#FF6692",
           "#B6E880",
           "#FF97FF",
           "#FECB52"
          ],
          "font": {
           "color": "#2a3f5f"
          },
          "geo": {
           "bgcolor": "white",
           "lakecolor": "white",
           "landcolor": "white",
           "showlakes": true,
           "showland": true,
           "subunitcolor": "#C8D4E3"
          },
          "hoverlabel": {
           "align": "left"
          },
          "hovermode": "closest",
          "mapbox": {
           "style": "light"
          },
          "paper_bgcolor": "white",
          "plot_bgcolor": "white",
          "polar": {
           "angularaxis": {
            "gridcolor": "#EBF0F8",
            "linecolor": "#EBF0F8",
            "ticks": ""
           },
           "bgcolor": "white",
           "radialaxis": {
            "gridcolor": "#EBF0F8",
            "linecolor": "#EBF0F8",
            "ticks": ""
           }
          },
          "scene": {
           "xaxis": {
            "backgroundcolor": "white",
            "gridcolor": "#DFE8F3",
            "gridwidth": 2,
            "linecolor": "#EBF0F8",
            "showbackground": true,
            "ticks": "",
            "zerolinecolor": "#EBF0F8"
           },
           "yaxis": {
            "backgroundcolor": "white",
            "gridcolor": "#DFE8F3",
            "gridwidth": 2,
            "linecolor": "#EBF0F8",
            "showbackground": true,
            "ticks": "",
            "zerolinecolor": "#EBF0F8"
           },
           "zaxis": {
            "backgroundcolor": "white",
            "gridcolor": "#DFE8F3",
            "gridwidth": 2,
            "linecolor": "#EBF0F8",
            "showbackground": true,
            "ticks": "",
            "zerolinecolor": "#EBF0F8"
           }
          },
          "shapedefaults": {
           "line": {
            "color": "#2a3f5f"
           }
          },
          "ternary": {
           "aaxis": {
            "gridcolor": "#DFE8F3",
            "linecolor": "#A2B1C6",
            "ticks": ""
           },
           "baxis": {
            "gridcolor": "#DFE8F3",
            "linecolor": "#A2B1C6",
            "ticks": ""
           },
           "bgcolor": "white",
           "caxis": {
            "gridcolor": "#DFE8F3",
            "linecolor": "#A2B1C6",
            "ticks": ""
           }
          },
          "title": {
           "x": 0.05
          },
          "xaxis": {
           "automargin": true,
           "gridcolor": "#EBF0F8",
           "linecolor": "#EBF0F8",
           "ticks": "",
           "title": {
            "standoff": 15
           },
           "zerolinecolor": "#EBF0F8",
           "zerolinewidth": 2
          },
          "yaxis": {
           "automargin": true,
           "gridcolor": "#EBF0F8",
           "linecolor": "#EBF0F8",
           "ticks": "",
           "title": {
            "standoff": 15
           },
           "zerolinecolor": "#EBF0F8",
           "zerolinewidth": 2
          }
         }
        },
        "title": {
         "text": "HumanEval Performance over time"
        },
        "width": 800,
        "xaxis": {
         "anchor": "y",
         "domain": [
          0,
          1
         ],
         "title": {
          "text": "Release Date"
         }
        },
        "yaxis": {
         "anchor": "x",
         "domain": [
          0,
          1
         ],
         "title": {
          "text": "HumanEval"
         }
        }
       }
      }
     },
     "metadata": {},
     "output_type": "display_data"
    },
    {
     "name": "stdout",
     "output_type": "stream",
     "text": [
      "['GPT-4o-2024-05 (2024-05)', 'GPT-4 Turbo (2023-11)', 'DeepSeek-R1 (2025-01)', 'GPT-4o-2024-11 (2024-11)', 'GPT-3 (2021-11)', 'GPT-3.5 Turbo (2023-03)', 'GPT-4o-2024-08 (2024-08)', 'GPT-4-0314 (2023-03)']\n"
     ]
    },
    {
     "data": {
      "application/vnd.plotly.v1+json": {
       "config": {
        "plotlyServerURL": "https://plot.ly"
       },
       "data": [
        {
         "customdata": [
          [
           "GPT-3"
          ],
          [
           "GPT-3"
          ],
          [
           "GPT-3"
          ],
          [
           "GPT-3.5"
          ],
          [
           "GPT-3.5 Turbo"
          ],
          [
           "GPT-4-0314"
          ],
          [
           "GPT-4-0613"
          ],
          [
           "GPT-3.5-Turbo-2023-06"
          ],
          [
           "Llama-2-Chat-13B"
          ],
          [
           "Llama-2-Chat-7B"
          ],
          [
           "GPT-3.5-Turbo-2023-11"
          ],
          [
           "GPT-4 Turbo"
          ],
          [
           "Llama 2-70B Chat"
          ],
          [
           "Llama 2-7B"
          ],
          [
           "Llama 2-13B"
          ],
          [
           "GPT-3"
          ],
          [
           "GPT-3.5-Turbo-2024-01"
          ],
          [
           "GPT-4-0125"
          ],
          [
           "Mistral-Small-2024-02"
          ],
          [
           "Mistral-Large-2024-02"
          ],
          [
           "Claude-3-Haiku"
          ],
          [
           "Claude-3-Sonnet"
          ],
          [
           "Claude-3-Opus"
          ],
          [
           "Llama 2-13B"
          ],
          [
           "Llama 2-7B"
          ],
          [
           "Mistral-8x22"
          ],
          [
           "Llama-3-Instruct-70B"
          ],
          [
           "Llama-3-Instruct-8B"
          ],
          [
           "Gemini-1.5-Flash-2024-05"
          ],
          [
           "GPT-4o-2024-05"
          ],
          [
           "Gemini-1.5-Pro-2024-05"
          ],
          [
           "Claude-3.5-Sonnet-2024-06"
          ],
          [
           "Gemma-2-9B"
          ],
          [
           "Gemma-2-27B"
          ],
          [
           "Mistral-NeMo"
          ],
          [
           "GPT-4o-mini"
          ],
          [
           "Llama-3.1-Instruct-405B"
          ],
          [
           "Llama-3.1-Instruct-8B"
          ],
          [
           "Llama-3.1-Instruct-70B"
          ],
          [
           "Mistral-Large-2-2024-07"
          ],
          [
           "GPT-4o-2024-08"
          ],
          [
           "Claude 2"
          ],
          [
           "Gemini 1.0 Pro"
          ],
          [
           "Claude Instant"
          ],
          [
           "Claude 2.1"
          ],
          [
           "Command R"
          ],
          [
           "Command R+"
          ],
          [
           "Cohere Command Light"
          ],
          [
           "Cohere Command"
          ],
          [
           "DeepSeek-Coder-V2 236B"
          ],
          [
           "o1-preview"
          ],
          [
           "Jamba 1.5-Large"
          ],
          [
           "o1-mini"
          ],
          [
           "Command R+"
          ],
          [
           "Reka Core"
          ],
          [
           "Mistral 7B"
          ],
          [
           "Llama-3.2-Instruct-1B"
          ],
          [
           "Gemini-1.5-Pro-2024-09"
          ],
          [
           "Llama-3.2-Instruct-3B"
          ],
          [
           "Gemini-1.5-Flash-2024-09"
          ],
          [
           "Gemini-1.5-Flash-8B"
          ],
          [
           "Claude-3.5-Sonnet-2024-10"
          ],
          [
           "Claude-3.5-Haiku"
          ],
          [
           "Mistral-Large-2-2024-11"
          ],
          [
           "GPT-4o-2024-11"
          ],
          [
           "Phi 4"
          ],
          [
           "o1"
          ],
          [
           "DeepSeek-V3"
          ],
          [
           "DeepSeek-R1"
          ],
          [
           "Mistral Small 3"
          ],
          [
           "o3-mini"
          ],
          [
           "o1-mini"
          ],
          [
           "Gemini 2.0 Flash"
          ]
         ],
         "hovertemplate": "Release Date=%{x}<br>LMSys Chatbot Arena ELO=%{y}<br>Model Name=%{customdata[0]}<extra></extra>",
         "legendgroup": "",
         "marker": {
          "color": "lightgray",
          "symbol": "circle"
         },
         "mode": "markers",
         "name": "",
         "orientation": "v",
         "showlegend": false,
         "type": "scatter",
         "x": [
          "2021-11-20T00:00:00",
          "2022-08-31T00:00:00",
          "2022-09-01T00:00:00",
          "2022-11-30T00:00:00",
          "2023-03-06T00:00:00",
          "2023-03-14T00:00:00",
          "2023-06-13T00:00:00",
          "2023-06-13T00:00:00",
          "2023-07-18T00:00:00",
          "2023-07-18T00:00:00",
          "2023-11-06T00:00:00",
          "2023-11-06T00:00:00",
          "2023-12-01T00:00:00",
          "2023-12-01T00:00:00",
          "2023-12-08T00:00:00",
          "2024-01-04T00:00:00",
          "2024-01-25T00:00:00",
          "2024-01-25T00:00:00",
          "2024-02-26T00:00:00",
          "2024-02-26T00:00:00",
          "2024-03-04T00:00:00",
          "2024-03-04T00:00:00",
          "2024-03-04T00:00:00",
          "2024-04-14T00:00:00",
          "2024-04-14T00:00:00",
          "2024-04-17T00:00:00",
          "2024-04-18T00:00:00",
          "2024-04-18T00:00:00",
          "2024-05-10T00:00:00",
          "2024-05-13T00:00:00",
          "2024-05-23T00:00:00",
          "2024-06-20T00:00:00",
          "2024-06-24T00:00:00",
          "2024-06-24T00:00:00",
          "2024-07-18T00:00:00",
          "2024-07-18T00:00:00",
          "2024-07-23T00:00:00",
          "2024-07-23T00:00:00",
          "2024-07-23T00:00:00",
          "2024-07-24T00:00:00",
          "2024-08-06T00:00:00",
          "2024-08-12T00:00:00",
          "2024-08-12T00:00:00",
          "2024-08-12T00:00:00",
          "2024-08-12T00:00:00",
          "2024-08-13T00:00:00",
          "2024-08-13T00:00:00",
          "2024-08-13T00:00:00",
          "2024-08-13T00:00:00",
          "2024-09-11T00:00:00",
          "2024-09-12T00:00:00",
          "2024-09-12T00:00:00",
          "2024-09-12T00:00:00",
          "2024-09-13T00:00:00",
          "2024-09-14T00:00:00",
          "2024-09-14T00:00:00",
          "2024-09-24T00:00:00",
          "2024-09-24T00:00:00",
          "2024-09-24T00:00:00",
          "2024-09-24T00:00:00",
          "2024-10-03T00:00:00",
          "2024-10-22T00:00:00",
          "2024-10-22T00:00:00",
          "2024-11-18T00:00:00",
          "2024-11-20T00:00:00",
          "2024-12-13T00:00:00",
          "2024-12-17T00:00:00",
          "2024-12-26T00:00:00",
          "2025-01-20T00:00:00",
          "2025-01-30T00:00:00",
          "2025-01-31T00:00:00",
          "2025-01-31T00:00:00",
          "2025-02-05T00:00:00"
         ],
         "xaxis": "x",
         "y": [
          null,
          null,
          null,
          null,
          1106,
          1186,
          1163,
          1117,
          1063,
          1037,
          1107,
          1256,
          1093,
          null,
          null,
          null,
          1106,
          1245,
          null,
          1157,
          1179,
          1201,
          1248,
          null,
          null,
          1148,
          1206,
          1152,
          1227,
          1285,
          1260,
          1268,
          1190,
          1219,
          null,
          1273,
          1266,
          1172,
          1249,
          1251,
          1337,
          null,
          1111,
          null,
          null,
          1180,
          1215,
          null,
          null,
          1178,
          1334,
          1221,
          1308,
          1215,
          1235,
          1008,
          1103,
          1301,
          1103,
          1271,
          1211,
          1282,
          1236,
          1247,
          1361,
          1204,
          1352,
          1318,
          1362,
          1210,
          1306,
          1308,
          1358
         ],
         "yaxis": "y"
        },
        {
         "hovertemplate": "%{text}<extra></extra>",
         "line": {
          "color": "red"
         },
         "mode": "lines+markers",
         "name": "Top Model",
         "text": [
          "GPT-3",
          "GPT-3.5 Turbo",
          "GPT-4-0314",
          "GPT-4 Turbo",
          "GPT-4o-2024-05",
          "GPT-4o-2024-08",
          "GPT-4o-2024-11",
          "DeepSeek-R1"
         ],
         "type": "scatter",
         "x": [
          "2021-11-20T00:00:00",
          "2023-03-06T00:00:00",
          "2023-03-14T00:00:00",
          "2023-11-06T00:00:00",
          "2024-05-13T00:00:00",
          "2024-08-06T00:00:00",
          "2024-11-20T00:00:00",
          "2025-01-20T00:00:00"
         ],
         "y": [
          null,
          1106,
          1186,
          1256,
          1285,
          1337,
          1361,
          1362
         ]
        }
       ],
       "layout": {
        "height": 400,
        "legend": {
         "tracegroupgap": 0
        },
        "template": {
         "data": {
          "bar": [
           {
            "error_x": {
             "color": "#2a3f5f"
            },
            "error_y": {
             "color": "#2a3f5f"
            },
            "marker": {
             "line": {
              "color": "white",
              "width": 0.5
             },
             "pattern": {
              "fillmode": "overlay",
              "size": 10,
              "solidity": 0.2
             }
            },
            "type": "bar"
           }
          ],
          "barpolar": [
           {
            "marker": {
             "line": {
              "color": "white",
              "width": 0.5
             },
             "pattern": {
              "fillmode": "overlay",
              "size": 10,
              "solidity": 0.2
             }
            },
            "type": "barpolar"
           }
          ],
          "carpet": [
           {
            "aaxis": {
             "endlinecolor": "#2a3f5f",
             "gridcolor": "#C8D4E3",
             "linecolor": "#C8D4E3",
             "minorgridcolor": "#C8D4E3",
             "startlinecolor": "#2a3f5f"
            },
            "baxis": {
             "endlinecolor": "#2a3f5f",
             "gridcolor": "#C8D4E3",
             "linecolor": "#C8D4E3",
             "minorgridcolor": "#C8D4E3",
             "startlinecolor": "#2a3f5f"
            },
            "type": "carpet"
           }
          ],
          "choropleth": [
           {
            "colorbar": {
             "outlinewidth": 0,
             "ticks": ""
            },
            "type": "choropleth"
           }
          ],
          "contour": [
           {
            "colorbar": {
             "outlinewidth": 0,
             "ticks": ""
            },
            "colorscale": [
             [
              0,
              "#0d0887"
             ],
             [
              0.1111111111111111,
              "#46039f"
             ],
             [
              0.2222222222222222,
              "#7201a8"
             ],
             [
              0.3333333333333333,
              "#9c179e"
             ],
             [
              0.4444444444444444,
              "#bd3786"
             ],
             [
              0.5555555555555556,
              "#d8576b"
             ],
             [
              0.6666666666666666,
              "#ed7953"
             ],
             [
              0.7777777777777778,
              "#fb9f3a"
             ],
             [
              0.8888888888888888,
              "#fdca26"
             ],
             [
              1,
              "#f0f921"
             ]
            ],
            "type": "contour"
           }
          ],
          "contourcarpet": [
           {
            "colorbar": {
             "outlinewidth": 0,
             "ticks": ""
            },
            "type": "contourcarpet"
           }
          ],
          "heatmap": [
           {
            "colorbar": {
             "outlinewidth": 0,
             "ticks": ""
            },
            "colorscale": [
             [
              0,
              "#0d0887"
             ],
             [
              0.1111111111111111,
              "#46039f"
             ],
             [
              0.2222222222222222,
              "#7201a8"
             ],
             [
              0.3333333333333333,
              "#9c179e"
             ],
             [
              0.4444444444444444,
              "#bd3786"
             ],
             [
              0.5555555555555556,
              "#d8576b"
             ],
             [
              0.6666666666666666,
              "#ed7953"
             ],
             [
              0.7777777777777778,
              "#fb9f3a"
             ],
             [
              0.8888888888888888,
              "#fdca26"
             ],
             [
              1,
              "#f0f921"
             ]
            ],
            "type": "heatmap"
           }
          ],
          "heatmapgl": [
           {
            "colorbar": {
             "outlinewidth": 0,
             "ticks": ""
            },
            "colorscale": [
             [
              0,
              "#0d0887"
             ],
             [
              0.1111111111111111,
              "#46039f"
             ],
             [
              0.2222222222222222,
              "#7201a8"
             ],
             [
              0.3333333333333333,
              "#9c179e"
             ],
             [
              0.4444444444444444,
              "#bd3786"
             ],
             [
              0.5555555555555556,
              "#d8576b"
             ],
             [
              0.6666666666666666,
              "#ed7953"
             ],
             [
              0.7777777777777778,
              "#fb9f3a"
             ],
             [
              0.8888888888888888,
              "#fdca26"
             ],
             [
              1,
              "#f0f921"
             ]
            ],
            "type": "heatmapgl"
           }
          ],
          "histogram": [
           {
            "marker": {
             "pattern": {
              "fillmode": "overlay",
              "size": 10,
              "solidity": 0.2
             }
            },
            "type": "histogram"
           }
          ],
          "histogram2d": [
           {
            "colorbar": {
             "outlinewidth": 0,
             "ticks": ""
            },
            "colorscale": [
             [
              0,
              "#0d0887"
             ],
             [
              0.1111111111111111,
              "#46039f"
             ],
             [
              0.2222222222222222,
              "#7201a8"
             ],
             [
              0.3333333333333333,
              "#9c179e"
             ],
             [
              0.4444444444444444,
              "#bd3786"
             ],
             [
              0.5555555555555556,
              "#d8576b"
             ],
             [
              0.6666666666666666,
              "#ed7953"
             ],
             [
              0.7777777777777778,
              "#fb9f3a"
             ],
             [
              0.8888888888888888,
              "#fdca26"
             ],
             [
              1,
              "#f0f921"
             ]
            ],
            "type": "histogram2d"
           }
          ],
          "histogram2dcontour": [
           {
            "colorbar": {
             "outlinewidth": 0,
             "ticks": ""
            },
            "colorscale": [
             [
              0,
              "#0d0887"
             ],
             [
              0.1111111111111111,
              "#46039f"
             ],
             [
              0.2222222222222222,
              "#7201a8"
             ],
             [
              0.3333333333333333,
              "#9c179e"
             ],
             [
              0.4444444444444444,
              "#bd3786"
             ],
             [
              0.5555555555555556,
              "#d8576b"
             ],
             [
              0.6666666666666666,
              "#ed7953"
             ],
             [
              0.7777777777777778,
              "#fb9f3a"
             ],
             [
              0.8888888888888888,
              "#fdca26"
             ],
             [
              1,
              "#f0f921"
             ]
            ],
            "type": "histogram2dcontour"
           }
          ],
          "mesh3d": [
           {
            "colorbar": {
             "outlinewidth": 0,
             "ticks": ""
            },
            "type": "mesh3d"
           }
          ],
          "parcoords": [
           {
            "line": {
             "colorbar": {
              "outlinewidth": 0,
              "ticks": ""
             }
            },
            "type": "parcoords"
           }
          ],
          "pie": [
           {
            "automargin": true,
            "type": "pie"
           }
          ],
          "scatter": [
           {
            "fillpattern": {
             "fillmode": "overlay",
             "size": 10,
             "solidity": 0.2
            },
            "type": "scatter"
           }
          ],
          "scatter3d": [
           {
            "line": {
             "colorbar": {
              "outlinewidth": 0,
              "ticks": ""
             }
            },
            "marker": {
             "colorbar": {
              "outlinewidth": 0,
              "ticks": ""
             }
            },
            "type": "scatter3d"
           }
          ],
          "scattercarpet": [
           {
            "marker": {
             "colorbar": {
              "outlinewidth": 0,
              "ticks": ""
             }
            },
            "type": "scattercarpet"
           }
          ],
          "scattergeo": [
           {
            "marker": {
             "colorbar": {
              "outlinewidth": 0,
              "ticks": ""
             }
            },
            "type": "scattergeo"
           }
          ],
          "scattergl": [
           {
            "marker": {
             "colorbar": {
              "outlinewidth": 0,
              "ticks": ""
             }
            },
            "type": "scattergl"
           }
          ],
          "scattermapbox": [
           {
            "marker": {
             "colorbar": {
              "outlinewidth": 0,
              "ticks": ""
             }
            },
            "type": "scattermapbox"
           }
          ],
          "scatterpolar": [
           {
            "marker": {
             "colorbar": {
              "outlinewidth": 0,
              "ticks": ""
             }
            },
            "type": "scatterpolar"
           }
          ],
          "scatterpolargl": [
           {
            "marker": {
             "colorbar": {
              "outlinewidth": 0,
              "ticks": ""
             }
            },
            "type": "scatterpolargl"
           }
          ],
          "scatterternary": [
           {
            "marker": {
             "colorbar": {
              "outlinewidth": 0,
              "ticks": ""
             }
            },
            "type": "scatterternary"
           }
          ],
          "surface": [
           {
            "colorbar": {
             "outlinewidth": 0,
             "ticks": ""
            },
            "colorscale": [
             [
              0,
              "#0d0887"
             ],
             [
              0.1111111111111111,
              "#46039f"
             ],
             [
              0.2222222222222222,
              "#7201a8"
             ],
             [
              0.3333333333333333,
              "#9c179e"
             ],
             [
              0.4444444444444444,
              "#bd3786"
             ],
             [
              0.5555555555555556,
              "#d8576b"
             ],
             [
              0.6666666666666666,
              "#ed7953"
             ],
             [
              0.7777777777777778,
              "#fb9f3a"
             ],
             [
              0.8888888888888888,
              "#fdca26"
             ],
             [
              1,
              "#f0f921"
             ]
            ],
            "type": "surface"
           }
          ],
          "table": [
           {
            "cells": {
             "fill": {
              "color": "#EBF0F8"
             },
             "line": {
              "color": "white"
             }
            },
            "header": {
             "fill": {
              "color": "#C8D4E3"
             },
             "line": {
              "color": "white"
             }
            },
            "type": "table"
           }
          ]
         },
         "layout": {
          "annotationdefaults": {
           "arrowcolor": "#2a3f5f",
           "arrowhead": 0,
           "arrowwidth": 1
          },
          "autotypenumbers": "strict",
          "coloraxis": {
           "colorbar": {
            "outlinewidth": 0,
            "ticks": ""
           }
          },
          "colorscale": {
           "diverging": [
            [
             0,
             "#8e0152"
            ],
            [
             0.1,
             "#c51b7d"
            ],
            [
             0.2,
             "#de77ae"
            ],
            [
             0.3,
             "#f1b6da"
            ],
            [
             0.4,
             "#fde0ef"
            ],
            [
             0.5,
             "#f7f7f7"
            ],
            [
             0.6,
             "#e6f5d0"
            ],
            [
             0.7,
             "#b8e186"
            ],
            [
             0.8,
             "#7fbc41"
            ],
            [
             0.9,
             "#4d9221"
            ],
            [
             1,
             "#276419"
            ]
           ],
           "sequential": [
            [
             0,
             "#0d0887"
            ],
            [
             0.1111111111111111,
             "#46039f"
            ],
            [
             0.2222222222222222,
             "#7201a8"
            ],
            [
             0.3333333333333333,
             "#9c179e"
            ],
            [
             0.4444444444444444,
             "#bd3786"
            ],
            [
             0.5555555555555556,
             "#d8576b"
            ],
            [
             0.6666666666666666,
             "#ed7953"
            ],
            [
             0.7777777777777778,
             "#fb9f3a"
            ],
            [
             0.8888888888888888,
             "#fdca26"
            ],
            [
             1,
             "#f0f921"
            ]
           ],
           "sequentialminus": [
            [
             0,
             "#0d0887"
            ],
            [
             0.1111111111111111,
             "#46039f"
            ],
            [
             0.2222222222222222,
             "#7201a8"
            ],
            [
             0.3333333333333333,
             "#9c179e"
            ],
            [
             0.4444444444444444,
             "#bd3786"
            ],
            [
             0.5555555555555556,
             "#d8576b"
            ],
            [
             0.6666666666666666,
             "#ed7953"
            ],
            [
             0.7777777777777778,
             "#fb9f3a"
            ],
            [
             0.8888888888888888,
             "#fdca26"
            ],
            [
             1,
             "#f0f921"
            ]
           ]
          },
          "colorway": [
           "#636efa",
           "#EF553B",
           "#00cc96",
           "#ab63fa",
           "#FFA15A",
           "#19d3f3",
           "#FF6692",
           "#B6E880",
           "#FF97FF",
           "#FECB52"
          ],
          "font": {
           "color": "#2a3f5f"
          },
          "geo": {
           "bgcolor": "white",
           "lakecolor": "white",
           "landcolor": "white",
           "showlakes": true,
           "showland": true,
           "subunitcolor": "#C8D4E3"
          },
          "hoverlabel": {
           "align": "left"
          },
          "hovermode": "closest",
          "mapbox": {
           "style": "light"
          },
          "paper_bgcolor": "white",
          "plot_bgcolor": "white",
          "polar": {
           "angularaxis": {
            "gridcolor": "#EBF0F8",
            "linecolor": "#EBF0F8",
            "ticks": ""
           },
           "bgcolor": "white",
           "radialaxis": {
            "gridcolor": "#EBF0F8",
            "linecolor": "#EBF0F8",
            "ticks": ""
           }
          },
          "scene": {
           "xaxis": {
            "backgroundcolor": "white",
            "gridcolor": "#DFE8F3",
            "gridwidth": 2,
            "linecolor": "#EBF0F8",
            "showbackground": true,
            "ticks": "",
            "zerolinecolor": "#EBF0F8"
           },
           "yaxis": {
            "backgroundcolor": "white",
            "gridcolor": "#DFE8F3",
            "gridwidth": 2,
            "linecolor": "#EBF0F8",
            "showbackground": true,
            "ticks": "",
            "zerolinecolor": "#EBF0F8"
           },
           "zaxis": {
            "backgroundcolor": "white",
            "gridcolor": "#DFE8F3",
            "gridwidth": 2,
            "linecolor": "#EBF0F8",
            "showbackground": true,
            "ticks": "",
            "zerolinecolor": "#EBF0F8"
           }
          },
          "shapedefaults": {
           "line": {
            "color": "#2a3f5f"
           }
          },
          "ternary": {
           "aaxis": {
            "gridcolor": "#DFE8F3",
            "linecolor": "#A2B1C6",
            "ticks": ""
           },
           "baxis": {
            "gridcolor": "#DFE8F3",
            "linecolor": "#A2B1C6",
            "ticks": ""
           },
           "bgcolor": "white",
           "caxis": {
            "gridcolor": "#DFE8F3",
            "linecolor": "#A2B1C6",
            "ticks": ""
           }
          },
          "title": {
           "x": 0.05
          },
          "xaxis": {
           "automargin": true,
           "gridcolor": "#EBF0F8",
           "linecolor": "#EBF0F8",
           "ticks": "",
           "title": {
            "standoff": 15
           },
           "zerolinecolor": "#EBF0F8",
           "zerolinewidth": 2
          },
          "yaxis": {
           "automargin": true,
           "gridcolor": "#EBF0F8",
           "linecolor": "#EBF0F8",
           "ticks": "",
           "title": {
            "standoff": 15
           },
           "zerolinecolor": "#EBF0F8",
           "zerolinewidth": 2
          }
         }
        },
        "title": {
         "text": "LMSys Chatbot Arena ELO Performance over time"
        },
        "width": 800,
        "xaxis": {
         "anchor": "y",
         "domain": [
          0,
          1
         ],
         "title": {
          "text": "Release Date"
         }
        },
        "yaxis": {
         "anchor": "x",
         "domain": [
          0,
          1
         ],
         "title": {
          "text": "LMSys Chatbot Arena ELO"
         }
        }
       }
      }
     },
     "metadata": {},
     "output_type": "display_data"
    }
   ],
   "source": [
    "top_n = 1\n",
    "aa_df = aa_df.sort_values(by='Release Date')\n",
    "\n",
    "top_models_df_lookup = {}\n",
    "for benchmark in benchmarks:\n",
    "    # Get the top-1 model by benchmark score at each point in time\n",
    "    ever_top_n_models = set()\n",
    "    unique_dates = aa_df['Release Date'].sort_values().unique()\n",
    "    for date in unique_dates:\n",
    "        df_up_to_date = aa_df[aa_df['Release Date'] <= date]\n",
    "        top_n_models = df_up_to_date.nlargest(top_n, benchmark)\n",
    "        top_n_model_names = top_n_models['Model Name and Date'].tolist()\n",
    "        ever_top_n_models.update(top_n_model_names)\n",
    "    ever_top_n_list = list(ever_top_n_models)\n",
    "    print(ever_top_n_list)\n",
    "    top_models_df = aa_df[aa_df['Model Name and Date'].isin(ever_top_n_list)]\n",
    "    top_models_df_lookup[benchmark] = top_models_df\n",
    "\n",
    "    # Create base scatter plot with all data\n",
    "    fig = px.scatter(aa_df, x='Release Date', y=benchmark, \n",
    "                    hover_data=['Model Name'], \n",
    "                    title=f'{benchmark} Performance over time',\n",
    "                    color_discrete_sequence=['lightgray'])\n",
    "\n",
    "    # Add top-1 models in a different color\n",
    "    fig.add_scatter(x=top_models_df['Release Date'], \n",
    "                    y=top_models_df[benchmark],\n",
    "                    mode='lines+markers',\n",
    "                    name='Top Model',\n",
    "                    hovertemplate='%{text}<extra></extra>',\n",
    "                    text=top_models_df['Model Name'],\n",
    "                    line=dict(color='red'))\n",
    "    fig.update_layout(\n",
    "        width=800,\n",
    "        height=400,\n",
    "    )\n",
    "    fig.show()"
   ]
  },
  {
   "cell_type": "markdown",
   "metadata": {},
   "source": [
    "## Measure the decline in evaluation cost"
   ]
  },
  {
   "cell_type": "code",
   "execution_count": 15,
   "metadata": {},
   "outputs": [
    {
     "data": {
      "text/html": [
       "<div>\n",
       "<style scoped>\n",
       "    .dataframe tbody tr th:only-of-type {\n",
       "        vertical-align: middle;\n",
       "    }\n",
       "\n",
       "    .dataframe tbody tr th {\n",
       "        vertical-align: top;\n",
       "    }\n",
       "\n",
       "    .dataframe thead th {\n",
       "        text-align: right;\n",
       "    }\n",
       "</style>\n",
       "<table border=\"1\" class=\"dataframe\">\n",
       "  <thead>\n",
       "    <tr style=\"text-align: right;\">\n",
       "      <th></th>\n",
       "      <th>Model</th>\n",
       "      <th>Task</th>\n",
       "      <th>epochs</th>\n",
       "      <th>total_samples</th>\n",
       "      <th>input_tokens</th>\n",
       "      <th>output_tokens</th>\n",
       "      <th>total_tokens</th>\n",
       "      <th>Model Name</th>\n",
       "      <th>Release Date</th>\n",
       "      <th>USD per 1M Tokens</th>\n",
       "      <th>MMLU</th>\n",
       "      <th>GPQA Diamond</th>\n",
       "      <th>HumanEval</th>\n",
       "      <th>MATH-500</th>\n",
       "      <th>LMSys Chatbot Arena ELO</th>\n",
       "      <th>MATH 5</th>\n",
       "      <th>Tokens per Second</th>\n",
       "      <th>Prefill Latency (s)</th>\n",
       "      <th>Prompt Length (tk)</th>\n",
       "      <th>Model Name and Date</th>\n",
       "    </tr>\n",
       "  </thead>\n",
       "  <tbody>\n",
       "    <tr>\n",
       "      <th>5</th>\n",
       "      <td>gpt-4-0613</td>\n",
       "      <td>MATH level 5</td>\n",
       "      <td>8.0</td>\n",
       "      <td>10592.0</td>\n",
       "      <td>1982888.0</td>\n",
       "      <td>3620454.0</td>\n",
       "      <td>5603342.0</td>\n",
       "      <td>GPT-4-0314</td>\n",
       "      <td>2023-03-14</td>\n",
       "      <td>37.500</td>\n",
       "      <td>86.0</td>\n",
       "      <td>33.0</td>\n",
       "      <td>67.0</td>\n",
       "      <td>NaN</td>\n",
       "      <td>1186.0</td>\n",
       "      <td>NaN</td>\n",
       "      <td>23.6</td>\n",
       "      <td>0.724</td>\n",
       "      <td>1000.0</td>\n",
       "      <td>GPT-4-0314 (2023-03)</td>\n",
       "    </tr>\n",
       "    <tr>\n",
       "      <th>6</th>\n",
       "      <td>gpt-4-0613</td>\n",
       "      <td>GPQA Diamond</td>\n",
       "      <td>16.0</td>\n",
       "      <td>3168.0</td>\n",
       "      <td>838928.0</td>\n",
       "      <td>694183.0</td>\n",
       "      <td>1533111.0</td>\n",
       "      <td>GPT-4-0314</td>\n",
       "      <td>2023-03-14</td>\n",
       "      <td>37.500</td>\n",
       "      <td>86.0</td>\n",
       "      <td>33.0</td>\n",
       "      <td>67.0</td>\n",
       "      <td>NaN</td>\n",
       "      <td>1186.0</td>\n",
       "      <td>NaN</td>\n",
       "      <td>23.6</td>\n",
       "      <td>0.724</td>\n",
       "      <td>1000.0</td>\n",
       "      <td>GPT-4-0314 (2023-03)</td>\n",
       "    </tr>\n",
       "    <tr>\n",
       "      <th>11</th>\n",
       "      <td>gpt-3.5-turbo-1106</td>\n",
       "      <td>GPQA Diamond</td>\n",
       "      <td>16.0</td>\n",
       "      <td>3168.0</td>\n",
       "      <td>838992.0</td>\n",
       "      <td>319979.0</td>\n",
       "      <td>1158971.0</td>\n",
       "      <td>GPT-3.5-Turbo-2023-11</td>\n",
       "      <td>2023-11-06</td>\n",
       "      <td>0.750</td>\n",
       "      <td>68.0</td>\n",
       "      <td>30.0</td>\n",
       "      <td>71.0</td>\n",
       "      <td>44.0</td>\n",
       "      <td>1107.0</td>\n",
       "      <td>15.0</td>\n",
       "      <td>121.5</td>\n",
       "      <td>0.598</td>\n",
       "      <td>1000.0</td>\n",
       "      <td>GPT-3.5-Turbo-2023-11 (2023-11)</td>\n",
       "    </tr>\n",
       "    <tr>\n",
       "      <th>12</th>\n",
       "      <td>gpt-3.5-turbo-1106</td>\n",
       "      <td>MATH level 5</td>\n",
       "      <td>8.0</td>\n",
       "      <td>10592.0</td>\n",
       "      <td>1982888.0</td>\n",
       "      <td>3495658.0</td>\n",
       "      <td>5478546.0</td>\n",
       "      <td>GPT-3.5-Turbo-2023-11</td>\n",
       "      <td>2023-11-06</td>\n",
       "      <td>0.750</td>\n",
       "      <td>68.0</td>\n",
       "      <td>30.0</td>\n",
       "      <td>71.0</td>\n",
       "      <td>44.0</td>\n",
       "      <td>1107.0</td>\n",
       "      <td>15.0</td>\n",
       "      <td>121.5</td>\n",
       "      <td>0.598</td>\n",
       "      <td>1000.0</td>\n",
       "      <td>GPT-3.5-Turbo-2023-11 (2023-11)</td>\n",
       "    </tr>\n",
       "    <tr>\n",
       "      <th>13</th>\n",
       "      <td>gpt-4-turbo-2024-04-09</td>\n",
       "      <td>OTIS Mock AIME 2024-2025</td>\n",
       "      <td>8.0</td>\n",
       "      <td>360.0</td>\n",
       "      <td>65592.0</td>\n",
       "      <td>272569.0</td>\n",
       "      <td>338161.0</td>\n",
       "      <td>GPT-4 Turbo</td>\n",
       "      <td>2023-11-06</td>\n",
       "      <td>15.000</td>\n",
       "      <td>87.0</td>\n",
       "      <td>50.0</td>\n",
       "      <td>92.0</td>\n",
       "      <td>74.0</td>\n",
       "      <td>1256.0</td>\n",
       "      <td>36.0</td>\n",
       "      <td>39.2</td>\n",
       "      <td>1.246</td>\n",
       "      <td>1000.0</td>\n",
       "      <td>GPT-4 Turbo (2023-11)</td>\n",
       "    </tr>\n",
       "    <tr>\n",
       "      <th>...</th>\n",
       "      <td>...</td>\n",
       "      <td>...</td>\n",
       "      <td>...</td>\n",
       "      <td>...</td>\n",
       "      <td>...</td>\n",
       "      <td>...</td>\n",
       "      <td>...</td>\n",
       "      <td>...</td>\n",
       "      <td>...</td>\n",
       "      <td>...</td>\n",
       "      <td>...</td>\n",
       "      <td>...</td>\n",
       "      <td>...</td>\n",
       "      <td>...</td>\n",
       "      <td>...</td>\n",
       "      <td>...</td>\n",
       "      <td>...</td>\n",
       "      <td>...</td>\n",
       "      <td>...</td>\n",
       "      <td>...</td>\n",
       "    </tr>\n",
       "    <tr>\n",
       "      <th>140</th>\n",
       "      <td>o3-mini-2025-01-31_high</td>\n",
       "      <td>OTIS Mock AIME 2024-2025</td>\n",
       "      <td>8.0</td>\n",
       "      <td>360.0</td>\n",
       "      <td>65016.0</td>\n",
       "      <td>4697771.0</td>\n",
       "      <td>4762787.0</td>\n",
       "      <td>o3-mini</td>\n",
       "      <td>2025-01-31</td>\n",
       "      <td>1.925</td>\n",
       "      <td>NaN</td>\n",
       "      <td>74.3</td>\n",
       "      <td>97.0</td>\n",
       "      <td>97.0</td>\n",
       "      <td>1306.0</td>\n",
       "      <td>95.2</td>\n",
       "      <td>NaN</td>\n",
       "      <td>NaN</td>\n",
       "      <td>NaN</td>\n",
       "      <td>o3-mini (2025-01)</td>\n",
       "    </tr>\n",
       "    <tr>\n",
       "      <th>141</th>\n",
       "      <td>o3-mini-2025-01-31_medium</td>\n",
       "      <td>MATH level 5</td>\n",
       "      <td>8.0</td>\n",
       "      <td>10592.0</td>\n",
       "      <td>1892201.0</td>\n",
       "      <td>17775998.0</td>\n",
       "      <td>19668199.0</td>\n",
       "      <td>o3-mini</td>\n",
       "      <td>2025-01-31</td>\n",
       "      <td>1.925</td>\n",
       "      <td>NaN</td>\n",
       "      <td>74.3</td>\n",
       "      <td>97.0</td>\n",
       "      <td>97.0</td>\n",
       "      <td>1306.0</td>\n",
       "      <td>95.2</td>\n",
       "      <td>NaN</td>\n",
       "      <td>NaN</td>\n",
       "      <td>NaN</td>\n",
       "      <td>o3-mini (2025-01)</td>\n",
       "    </tr>\n",
       "    <tr>\n",
       "      <th>142</th>\n",
       "      <td>gemini-2.0-flash-001</td>\n",
       "      <td>MATH level 5</td>\n",
       "      <td>8.0</td>\n",
       "      <td>10592.0</td>\n",
       "      <td>1883976.0</td>\n",
       "      <td>9566695.0</td>\n",
       "      <td>11450671.0</td>\n",
       "      <td>Gemini 2.0 Flash</td>\n",
       "      <td>2025-02-05</td>\n",
       "      <td>0.175</td>\n",
       "      <td>88.0</td>\n",
       "      <td>62.0</td>\n",
       "      <td>90.0</td>\n",
       "      <td>93.0</td>\n",
       "      <td>1358.0</td>\n",
       "      <td>82.0</td>\n",
       "      <td>NaN</td>\n",
       "      <td>NaN</td>\n",
       "      <td>NaN</td>\n",
       "      <td>Gemini 2.0 Flash (2025-02)</td>\n",
       "    </tr>\n",
       "    <tr>\n",
       "      <th>143</th>\n",
       "      <td>gemini-2.0-flash-001</td>\n",
       "      <td>OTIS Mock AIME 2024-2025</td>\n",
       "      <td>16.0</td>\n",
       "      <td>720.0</td>\n",
       "      <td>131472.0</td>\n",
       "      <td>1186729.0</td>\n",
       "      <td>1318201.0</td>\n",
       "      <td>Gemini 2.0 Flash</td>\n",
       "      <td>2025-02-05</td>\n",
       "      <td>0.175</td>\n",
       "      <td>88.0</td>\n",
       "      <td>62.0</td>\n",
       "      <td>90.0</td>\n",
       "      <td>93.0</td>\n",
       "      <td>1358.0</td>\n",
       "      <td>82.0</td>\n",
       "      <td>NaN</td>\n",
       "      <td>NaN</td>\n",
       "      <td>NaN</td>\n",
       "      <td>Gemini 2.0 Flash (2025-02)</td>\n",
       "    </tr>\n",
       "    <tr>\n",
       "      <th>144</th>\n",
       "      <td>gemini-2.0-flash-001</td>\n",
       "      <td>GPQA Diamond</td>\n",
       "      <td>16.0</td>\n",
       "      <td>3168.0</td>\n",
       "      <td>806400.0</td>\n",
       "      <td>1943247.0</td>\n",
       "      <td>2749647.0</td>\n",
       "      <td>Gemini 2.0 Flash</td>\n",
       "      <td>2025-02-05</td>\n",
       "      <td>0.175</td>\n",
       "      <td>88.0</td>\n",
       "      <td>62.0</td>\n",
       "      <td>90.0</td>\n",
       "      <td>93.0</td>\n",
       "      <td>1358.0</td>\n",
       "      <td>82.0</td>\n",
       "      <td>NaN</td>\n",
       "      <td>NaN</td>\n",
       "      <td>NaN</td>\n",
       "      <td>Gemini 2.0 Flash (2025-02)</td>\n",
       "    </tr>\n",
       "  </tbody>\n",
       "</table>\n",
       "<p>111 rows × 20 columns</p>\n",
       "</div>"
      ],
      "text/plain": [
       "                         Model                      Task  epochs  \\\n",
       "5                   gpt-4-0613              MATH level 5     8.0   \n",
       "6                   gpt-4-0613              GPQA Diamond    16.0   \n",
       "11          gpt-3.5-turbo-1106              GPQA Diamond    16.0   \n",
       "12          gpt-3.5-turbo-1106              MATH level 5     8.0   \n",
       "13      gpt-4-turbo-2024-04-09  OTIS Mock AIME 2024-2025     8.0   \n",
       "..                         ...                       ...     ...   \n",
       "140    o3-mini-2025-01-31_high  OTIS Mock AIME 2024-2025     8.0   \n",
       "141  o3-mini-2025-01-31_medium              MATH level 5     8.0   \n",
       "142       gemini-2.0-flash-001              MATH level 5     8.0   \n",
       "143       gemini-2.0-flash-001  OTIS Mock AIME 2024-2025    16.0   \n",
       "144       gemini-2.0-flash-001              GPQA Diamond    16.0   \n",
       "\n",
       "     total_samples  input_tokens  output_tokens  total_tokens  \\\n",
       "5          10592.0     1982888.0      3620454.0     5603342.0   \n",
       "6           3168.0      838928.0       694183.0     1533111.0   \n",
       "11          3168.0      838992.0       319979.0     1158971.0   \n",
       "12         10592.0     1982888.0      3495658.0     5478546.0   \n",
       "13           360.0       65592.0       272569.0      338161.0   \n",
       "..             ...           ...            ...           ...   \n",
       "140          360.0       65016.0      4697771.0     4762787.0   \n",
       "141        10592.0     1892201.0     17775998.0    19668199.0   \n",
       "142        10592.0     1883976.0      9566695.0    11450671.0   \n",
       "143          720.0      131472.0      1186729.0     1318201.0   \n",
       "144         3168.0      806400.0      1943247.0     2749647.0   \n",
       "\n",
       "                Model Name Release Date  USD per 1M Tokens  MMLU  \\\n",
       "5               GPT-4-0314   2023-03-14             37.500  86.0   \n",
       "6               GPT-4-0314   2023-03-14             37.500  86.0   \n",
       "11   GPT-3.5-Turbo-2023-11   2023-11-06              0.750  68.0   \n",
       "12   GPT-3.5-Turbo-2023-11   2023-11-06              0.750  68.0   \n",
       "13             GPT-4 Turbo   2023-11-06             15.000  87.0   \n",
       "..                     ...          ...                ...   ...   \n",
       "140                o3-mini   2025-01-31              1.925   NaN   \n",
       "141                o3-mini   2025-01-31              1.925   NaN   \n",
       "142       Gemini 2.0 Flash   2025-02-05              0.175  88.0   \n",
       "143       Gemini 2.0 Flash   2025-02-05              0.175  88.0   \n",
       "144       Gemini 2.0 Flash   2025-02-05              0.175  88.0   \n",
       "\n",
       "     GPQA Diamond  HumanEval  MATH-500  LMSys Chatbot Arena ELO  MATH 5  \\\n",
       "5            33.0       67.0       NaN                   1186.0     NaN   \n",
       "6            33.0       67.0       NaN                   1186.0     NaN   \n",
       "11           30.0       71.0      44.0                   1107.0    15.0   \n",
       "12           30.0       71.0      44.0                   1107.0    15.0   \n",
       "13           50.0       92.0      74.0                   1256.0    36.0   \n",
       "..            ...        ...       ...                      ...     ...   \n",
       "140          74.3       97.0      97.0                   1306.0    95.2   \n",
       "141          74.3       97.0      97.0                   1306.0    95.2   \n",
       "142          62.0       90.0      93.0                   1358.0    82.0   \n",
       "143          62.0       90.0      93.0                   1358.0    82.0   \n",
       "144          62.0       90.0      93.0                   1358.0    82.0   \n",
       "\n",
       "     Tokens per Second  Prefill Latency (s)  Prompt Length (tk)  \\\n",
       "5                 23.6                0.724              1000.0   \n",
       "6                 23.6                0.724              1000.0   \n",
       "11               121.5                0.598              1000.0   \n",
       "12               121.5                0.598              1000.0   \n",
       "13                39.2                1.246              1000.0   \n",
       "..                 ...                  ...                 ...   \n",
       "140                NaN                  NaN                 NaN   \n",
       "141                NaN                  NaN                 NaN   \n",
       "142                NaN                  NaN                 NaN   \n",
       "143                NaN                  NaN                 NaN   \n",
       "144                NaN                  NaN                 NaN   \n",
       "\n",
       "                 Model Name and Date  \n",
       "5               GPT-4-0314 (2023-03)  \n",
       "6               GPT-4-0314 (2023-03)  \n",
       "11   GPT-3.5-Turbo-2023-11 (2023-11)  \n",
       "12   GPT-3.5-Turbo-2023-11 (2023-11)  \n",
       "13             GPT-4 Turbo (2023-11)  \n",
       "..                               ...  \n",
       "140                o3-mini (2025-01)  \n",
       "141                o3-mini (2025-01)  \n",
       "142       Gemini 2.0 Flash (2025-02)  \n",
       "143       Gemini 2.0 Flash (2025-02)  \n",
       "144       Gemini 2.0 Flash (2025-02)  \n",
       "\n",
       "[111 rows x 20 columns]"
      ]
     },
     "execution_count": 15,
     "metadata": {},
     "output_type": "execute_result"
    }
   ],
   "source": [
    "eval_cost_df = merged_df.copy().dropna(subset=['Model', 'total_tokens'])\n",
    "eval_cost_df"
   ]
  },
  {
   "cell_type": "code",
   "execution_count": 16,
   "metadata": {},
   "outputs": [
    {
     "data": {
      "text/html": [
       "<div>\n",
       "<style scoped>\n",
       "    .dataframe tbody tr th:only-of-type {\n",
       "        vertical-align: middle;\n",
       "    }\n",
       "\n",
       "    .dataframe tbody tr th {\n",
       "        vertical-align: top;\n",
       "    }\n",
       "\n",
       "    .dataframe thead th {\n",
       "        text-align: right;\n",
       "    }\n",
       "</style>\n",
       "<table border=\"1\" class=\"dataframe\">\n",
       "  <thead>\n",
       "    <tr style=\"text-align: right;\">\n",
       "      <th></th>\n",
       "      <th>Model</th>\n",
       "      <th>Task</th>\n",
       "      <th>epochs</th>\n",
       "      <th>total_samples</th>\n",
       "      <th>input_tokens</th>\n",
       "      <th>output_tokens</th>\n",
       "      <th>total_tokens</th>\n",
       "      <th>Model Name</th>\n",
       "      <th>Release Date</th>\n",
       "      <th>USD per 1M Tokens</th>\n",
       "      <th>...</th>\n",
       "      <th>GPQA Diamond</th>\n",
       "      <th>HumanEval</th>\n",
       "      <th>MATH-500</th>\n",
       "      <th>LMSys Chatbot Arena ELO</th>\n",
       "      <th>MATH 5</th>\n",
       "      <th>Tokens per Second</th>\n",
       "      <th>Prefill Latency (s)</th>\n",
       "      <th>Prompt Length (tk)</th>\n",
       "      <th>Model Name and Date</th>\n",
       "      <th>Average cost per question (USD)</th>\n",
       "    </tr>\n",
       "  </thead>\n",
       "  <tbody>\n",
       "    <tr>\n",
       "      <th>5</th>\n",
       "      <td>gpt-4-0613</td>\n",
       "      <td>MATH level 5</td>\n",
       "      <td>8.0</td>\n",
       "      <td>10592.0</td>\n",
       "      <td>1982888.0</td>\n",
       "      <td>3620454.0</td>\n",
       "      <td>5603342.0</td>\n",
       "      <td>GPT-4-0314</td>\n",
       "      <td>2023-03-14</td>\n",
       "      <td>37.500</td>\n",
       "      <td>...</td>\n",
       "      <td>33.0</td>\n",
       "      <td>67.0</td>\n",
       "      <td>NaN</td>\n",
       "      <td>1186.0</td>\n",
       "      <td>NaN</td>\n",
       "      <td>23.6</td>\n",
       "      <td>0.724</td>\n",
       "      <td>1000.0</td>\n",
       "      <td>GPT-4-0314 (2023-03)</td>\n",
       "      <td>0.019838</td>\n",
       "    </tr>\n",
       "    <tr>\n",
       "      <th>6</th>\n",
       "      <td>gpt-4-0613</td>\n",
       "      <td>GPQA Diamond</td>\n",
       "      <td>16.0</td>\n",
       "      <td>3168.0</td>\n",
       "      <td>838928.0</td>\n",
       "      <td>694183.0</td>\n",
       "      <td>1533111.0</td>\n",
       "      <td>GPT-4-0314</td>\n",
       "      <td>2023-03-14</td>\n",
       "      <td>37.500</td>\n",
       "      <td>...</td>\n",
       "      <td>33.0</td>\n",
       "      <td>67.0</td>\n",
       "      <td>NaN</td>\n",
       "      <td>1186.0</td>\n",
       "      <td>NaN</td>\n",
       "      <td>23.6</td>\n",
       "      <td>0.724</td>\n",
       "      <td>1000.0</td>\n",
       "      <td>GPT-4-0314 (2023-03)</td>\n",
       "      <td>0.018148</td>\n",
       "    </tr>\n",
       "    <tr>\n",
       "      <th>11</th>\n",
       "      <td>gpt-3.5-turbo-1106</td>\n",
       "      <td>GPQA Diamond</td>\n",
       "      <td>16.0</td>\n",
       "      <td>3168.0</td>\n",
       "      <td>838992.0</td>\n",
       "      <td>319979.0</td>\n",
       "      <td>1158971.0</td>\n",
       "      <td>GPT-3.5-Turbo-2023-11</td>\n",
       "      <td>2023-11-06</td>\n",
       "      <td>0.750</td>\n",
       "      <td>...</td>\n",
       "      <td>30.0</td>\n",
       "      <td>71.0</td>\n",
       "      <td>44.0</td>\n",
       "      <td>1107.0</td>\n",
       "      <td>15.0</td>\n",
       "      <td>121.5</td>\n",
       "      <td>0.598</td>\n",
       "      <td>1000.0</td>\n",
       "      <td>GPT-3.5-Turbo-2023-11 (2023-11)</td>\n",
       "      <td>0.000274</td>\n",
       "    </tr>\n",
       "    <tr>\n",
       "      <th>12</th>\n",
       "      <td>gpt-3.5-turbo-1106</td>\n",
       "      <td>MATH level 5</td>\n",
       "      <td>8.0</td>\n",
       "      <td>10592.0</td>\n",
       "      <td>1982888.0</td>\n",
       "      <td>3495658.0</td>\n",
       "      <td>5478546.0</td>\n",
       "      <td>GPT-3.5-Turbo-2023-11</td>\n",
       "      <td>2023-11-06</td>\n",
       "      <td>0.750</td>\n",
       "      <td>...</td>\n",
       "      <td>30.0</td>\n",
       "      <td>71.0</td>\n",
       "      <td>44.0</td>\n",
       "      <td>1107.0</td>\n",
       "      <td>15.0</td>\n",
       "      <td>121.5</td>\n",
       "      <td>0.598</td>\n",
       "      <td>1000.0</td>\n",
       "      <td>GPT-3.5-Turbo-2023-11 (2023-11)</td>\n",
       "      <td>0.000388</td>\n",
       "    </tr>\n",
       "    <tr>\n",
       "      <th>13</th>\n",
       "      <td>gpt-4-turbo-2024-04-09</td>\n",
       "      <td>OTIS Mock AIME 2024-2025</td>\n",
       "      <td>8.0</td>\n",
       "      <td>360.0</td>\n",
       "      <td>65592.0</td>\n",
       "      <td>272569.0</td>\n",
       "      <td>338161.0</td>\n",
       "      <td>GPT-4 Turbo</td>\n",
       "      <td>2023-11-06</td>\n",
       "      <td>15.000</td>\n",
       "      <td>...</td>\n",
       "      <td>50.0</td>\n",
       "      <td>92.0</td>\n",
       "      <td>74.0</td>\n",
       "      <td>1256.0</td>\n",
       "      <td>36.0</td>\n",
       "      <td>39.2</td>\n",
       "      <td>1.246</td>\n",
       "      <td>1000.0</td>\n",
       "      <td>GPT-4 Turbo (2023-11)</td>\n",
       "      <td>0.014090</td>\n",
       "    </tr>\n",
       "    <tr>\n",
       "      <th>...</th>\n",
       "      <td>...</td>\n",
       "      <td>...</td>\n",
       "      <td>...</td>\n",
       "      <td>...</td>\n",
       "      <td>...</td>\n",
       "      <td>...</td>\n",
       "      <td>...</td>\n",
       "      <td>...</td>\n",
       "      <td>...</td>\n",
       "      <td>...</td>\n",
       "      <td>...</td>\n",
       "      <td>...</td>\n",
       "      <td>...</td>\n",
       "      <td>...</td>\n",
       "      <td>...</td>\n",
       "      <td>...</td>\n",
       "      <td>...</td>\n",
       "      <td>...</td>\n",
       "      <td>...</td>\n",
       "      <td>...</td>\n",
       "      <td>...</td>\n",
       "    </tr>\n",
       "    <tr>\n",
       "      <th>140</th>\n",
       "      <td>o3-mini-2025-01-31_high</td>\n",
       "      <td>OTIS Mock AIME 2024-2025</td>\n",
       "      <td>8.0</td>\n",
       "      <td>360.0</td>\n",
       "      <td>65016.0</td>\n",
       "      <td>4697771.0</td>\n",
       "      <td>4762787.0</td>\n",
       "      <td>o3-mini</td>\n",
       "      <td>2025-01-31</td>\n",
       "      <td>1.925</td>\n",
       "      <td>...</td>\n",
       "      <td>74.3</td>\n",
       "      <td>97.0</td>\n",
       "      <td>97.0</td>\n",
       "      <td>1306.0</td>\n",
       "      <td>95.2</td>\n",
       "      <td>NaN</td>\n",
       "      <td>NaN</td>\n",
       "      <td>NaN</td>\n",
       "      <td>o3-mini (2025-01)</td>\n",
       "      <td>0.025468</td>\n",
       "    </tr>\n",
       "    <tr>\n",
       "      <th>141</th>\n",
       "      <td>o3-mini-2025-01-31_medium</td>\n",
       "      <td>MATH level 5</td>\n",
       "      <td>8.0</td>\n",
       "      <td>10592.0</td>\n",
       "      <td>1892201.0</td>\n",
       "      <td>17775998.0</td>\n",
       "      <td>19668199.0</td>\n",
       "      <td>o3-mini</td>\n",
       "      <td>2025-01-31</td>\n",
       "      <td>1.925</td>\n",
       "      <td>...</td>\n",
       "      <td>74.3</td>\n",
       "      <td>97.0</td>\n",
       "      <td>97.0</td>\n",
       "      <td>1306.0</td>\n",
       "      <td>95.2</td>\n",
       "      <td>NaN</td>\n",
       "      <td>NaN</td>\n",
       "      <td>NaN</td>\n",
       "      <td>o3-mini (2025-01)</td>\n",
       "      <td>0.003575</td>\n",
       "    </tr>\n",
       "    <tr>\n",
       "      <th>142</th>\n",
       "      <td>gemini-2.0-flash-001</td>\n",
       "      <td>MATH level 5</td>\n",
       "      <td>8.0</td>\n",
       "      <td>10592.0</td>\n",
       "      <td>1883976.0</td>\n",
       "      <td>9566695.0</td>\n",
       "      <td>11450671.0</td>\n",
       "      <td>Gemini 2.0 Flash</td>\n",
       "      <td>2025-02-05</td>\n",
       "      <td>0.175</td>\n",
       "      <td>...</td>\n",
       "      <td>62.0</td>\n",
       "      <td>90.0</td>\n",
       "      <td>93.0</td>\n",
       "      <td>1358.0</td>\n",
       "      <td>82.0</td>\n",
       "      <td>NaN</td>\n",
       "      <td>NaN</td>\n",
       "      <td>NaN</td>\n",
       "      <td>Gemini 2.0 Flash (2025-02)</td>\n",
       "      <td>0.000189</td>\n",
       "    </tr>\n",
       "    <tr>\n",
       "      <th>143</th>\n",
       "      <td>gemini-2.0-flash-001</td>\n",
       "      <td>OTIS Mock AIME 2024-2025</td>\n",
       "      <td>16.0</td>\n",
       "      <td>720.0</td>\n",
       "      <td>131472.0</td>\n",
       "      <td>1186729.0</td>\n",
       "      <td>1318201.0</td>\n",
       "      <td>Gemini 2.0 Flash</td>\n",
       "      <td>2025-02-05</td>\n",
       "      <td>0.175</td>\n",
       "      <td>...</td>\n",
       "      <td>62.0</td>\n",
       "      <td>90.0</td>\n",
       "      <td>93.0</td>\n",
       "      <td>1358.0</td>\n",
       "      <td>82.0</td>\n",
       "      <td>NaN</td>\n",
       "      <td>NaN</td>\n",
       "      <td>NaN</td>\n",
       "      <td>Gemini 2.0 Flash (2025-02)</td>\n",
       "      <td>0.000320</td>\n",
       "    </tr>\n",
       "    <tr>\n",
       "      <th>144</th>\n",
       "      <td>gemini-2.0-flash-001</td>\n",
       "      <td>GPQA Diamond</td>\n",
       "      <td>16.0</td>\n",
       "      <td>3168.0</td>\n",
       "      <td>806400.0</td>\n",
       "      <td>1943247.0</td>\n",
       "      <td>2749647.0</td>\n",
       "      <td>Gemini 2.0 Flash</td>\n",
       "      <td>2025-02-05</td>\n",
       "      <td>0.175</td>\n",
       "      <td>...</td>\n",
       "      <td>62.0</td>\n",
       "      <td>90.0</td>\n",
       "      <td>93.0</td>\n",
       "      <td>1358.0</td>\n",
       "      <td>82.0</td>\n",
       "      <td>NaN</td>\n",
       "      <td>NaN</td>\n",
       "      <td>NaN</td>\n",
       "      <td>Gemini 2.0 Flash (2025-02)</td>\n",
       "      <td>0.000152</td>\n",
       "    </tr>\n",
       "  </tbody>\n",
       "</table>\n",
       "<p>111 rows × 21 columns</p>\n",
       "</div>"
      ],
      "text/plain": [
       "                         Model                      Task  epochs  \\\n",
       "5                   gpt-4-0613              MATH level 5     8.0   \n",
       "6                   gpt-4-0613              GPQA Diamond    16.0   \n",
       "11          gpt-3.5-turbo-1106              GPQA Diamond    16.0   \n",
       "12          gpt-3.5-turbo-1106              MATH level 5     8.0   \n",
       "13      gpt-4-turbo-2024-04-09  OTIS Mock AIME 2024-2025     8.0   \n",
       "..                         ...                       ...     ...   \n",
       "140    o3-mini-2025-01-31_high  OTIS Mock AIME 2024-2025     8.0   \n",
       "141  o3-mini-2025-01-31_medium              MATH level 5     8.0   \n",
       "142       gemini-2.0-flash-001              MATH level 5     8.0   \n",
       "143       gemini-2.0-flash-001  OTIS Mock AIME 2024-2025    16.0   \n",
       "144       gemini-2.0-flash-001              GPQA Diamond    16.0   \n",
       "\n",
       "     total_samples  input_tokens  output_tokens  total_tokens  \\\n",
       "5          10592.0     1982888.0      3620454.0     5603342.0   \n",
       "6           3168.0      838928.0       694183.0     1533111.0   \n",
       "11          3168.0      838992.0       319979.0     1158971.0   \n",
       "12         10592.0     1982888.0      3495658.0     5478546.0   \n",
       "13           360.0       65592.0       272569.0      338161.0   \n",
       "..             ...           ...            ...           ...   \n",
       "140          360.0       65016.0      4697771.0     4762787.0   \n",
       "141        10592.0     1892201.0     17775998.0    19668199.0   \n",
       "142        10592.0     1883976.0      9566695.0    11450671.0   \n",
       "143          720.0      131472.0      1186729.0     1318201.0   \n",
       "144         3168.0      806400.0      1943247.0     2749647.0   \n",
       "\n",
       "                Model Name Release Date  USD per 1M Tokens  ...  GPQA Diamond  \\\n",
       "5               GPT-4-0314   2023-03-14             37.500  ...          33.0   \n",
       "6               GPT-4-0314   2023-03-14             37.500  ...          33.0   \n",
       "11   GPT-3.5-Turbo-2023-11   2023-11-06              0.750  ...          30.0   \n",
       "12   GPT-3.5-Turbo-2023-11   2023-11-06              0.750  ...          30.0   \n",
       "13             GPT-4 Turbo   2023-11-06             15.000  ...          50.0   \n",
       "..                     ...          ...                ...  ...           ...   \n",
       "140                o3-mini   2025-01-31              1.925  ...          74.3   \n",
       "141                o3-mini   2025-01-31              1.925  ...          74.3   \n",
       "142       Gemini 2.0 Flash   2025-02-05              0.175  ...          62.0   \n",
       "143       Gemini 2.0 Flash   2025-02-05              0.175  ...          62.0   \n",
       "144       Gemini 2.0 Flash   2025-02-05              0.175  ...          62.0   \n",
       "\n",
       "     HumanEval  MATH-500  LMSys Chatbot Arena ELO  MATH 5  Tokens per Second  \\\n",
       "5         67.0       NaN                   1186.0     NaN               23.6   \n",
       "6         67.0       NaN                   1186.0     NaN               23.6   \n",
       "11        71.0      44.0                   1107.0    15.0              121.5   \n",
       "12        71.0      44.0                   1107.0    15.0              121.5   \n",
       "13        92.0      74.0                   1256.0    36.0               39.2   \n",
       "..         ...       ...                      ...     ...                ...   \n",
       "140       97.0      97.0                   1306.0    95.2                NaN   \n",
       "141       97.0      97.0                   1306.0    95.2                NaN   \n",
       "142       90.0      93.0                   1358.0    82.0                NaN   \n",
       "143       90.0      93.0                   1358.0    82.0                NaN   \n",
       "144       90.0      93.0                   1358.0    82.0                NaN   \n",
       "\n",
       "     Prefill Latency (s)  Prompt Length (tk)              Model Name and Date  \\\n",
       "5                  0.724              1000.0             GPT-4-0314 (2023-03)   \n",
       "6                  0.724              1000.0             GPT-4-0314 (2023-03)   \n",
       "11                 0.598              1000.0  GPT-3.5-Turbo-2023-11 (2023-11)   \n",
       "12                 0.598              1000.0  GPT-3.5-Turbo-2023-11 (2023-11)   \n",
       "13                 1.246              1000.0            GPT-4 Turbo (2023-11)   \n",
       "..                   ...                 ...                              ...   \n",
       "140                  NaN                 NaN                o3-mini (2025-01)   \n",
       "141                  NaN                 NaN                o3-mini (2025-01)   \n",
       "142                  NaN                 NaN       Gemini 2.0 Flash (2025-02)   \n",
       "143                  NaN                 NaN       Gemini 2.0 Flash (2025-02)   \n",
       "144                  NaN                 NaN       Gemini 2.0 Flash (2025-02)   \n",
       "\n",
       "    Average cost per question (USD)  \n",
       "5                          0.019838  \n",
       "6                          0.018148  \n",
       "11                         0.000274  \n",
       "12                         0.000388  \n",
       "13                         0.014090  \n",
       "..                              ...  \n",
       "140                        0.025468  \n",
       "141                        0.003575  \n",
       "142                        0.000189  \n",
       "143                        0.000320  \n",
       "144                        0.000152  \n",
       "\n",
       "[111 rows x 21 columns]"
      ]
     },
     "execution_count": 16,
     "metadata": {},
     "output_type": "execute_result"
    }
   ],
   "source": [
    "eval_cost_df['Average cost per question (USD)'] = eval_cost_df['total_tokens'] / eval_cost_df['total_samples'] * eval_cost_df['USD per 1M Tokens'] / 1e6\n",
    "eval_cost_df"
   ]
  },
  {
   "cell_type": "code",
   "execution_count": 35,
   "metadata": {},
   "outputs": [
    {
     "data": {
      "text/plain": [
       "38"
      ]
     },
     "execution_count": 35,
     "metadata": {},
     "output_type": "execute_result"
    }
   ],
   "source": [
    "len(eval_cost_df['Model Name'].unique())"
   ]
  },
  {
   "cell_type": "code",
   "execution_count": 17,
   "metadata": {},
   "outputs": [
    {
     "data": {
      "application/vnd.plotly.v1+json": {
       "config": {
        "plotlyServerURL": "https://plot.ly"
       },
       "data": [
        {
         "customdata": [
          [
           "GPT-4-0314 (2023-03)",
           "MATH level 5"
          ],
          [
           "GPT-3.5-Turbo-2023-11 (2023-11)",
           "MATH level 5"
          ],
          [
           "GPT-4 Turbo (2023-11)",
           "MATH level 5"
          ],
          [
           "Llama 2-70B Chat (2023-12)",
           "MATH level 5"
          ],
          [
           "GPT-4-0125 (2024-01)",
           "MATH level 5"
          ],
          [
           "GPT-3.5-Turbo-2024-01 (2024-01)",
           "MATH level 5"
          ],
          [
           "Mistral-Large-2024-02 (2024-02)",
           "MATH level 5"
          ],
          [
           "Claude-3-Haiku (2024-03)",
           "MATH level 5"
          ],
          [
           "Claude-3-Sonnet (2024-03)",
           "MATH level 5"
          ],
          [
           "Claude-3-Opus (2024-03)",
           "MATH level 5"
          ],
          [
           "Mistral-8x22 (2024-04)",
           "MATH level 5"
          ],
          [
           "Llama-3-Instruct-70B (2024-04)",
           "MATH level 5"
          ],
          [
           "Llama-3-Instruct-8B (2024-04)",
           "MATH level 5"
          ],
          [
           "Gemini-1.5-Flash-2024-05 (2024-05)",
           "MATH level 5"
          ],
          [
           "GPT-4o-2024-05 (2024-05)",
           "MATH level 5"
          ],
          [
           "Gemini-1.5-Pro-2024-05 (2024-05)",
           "MATH level 5"
          ],
          [
           "Claude-3.5-Sonnet-2024-06 (2024-06)",
           "MATH level 5"
          ],
          [
           "Gemma-2-9B (2024-06)",
           "MATH level 5"
          ],
          [
           "Gemma-2-27B (2024-06)",
           "MATH level 5"
          ],
          [
           "Mistral-NeMo (2024-07)",
           "MATH level 5"
          ],
          [
           "GPT-4o-mini (2024-07)",
           "MATH level 5"
          ],
          [
           "GPT-4o-2024-08 (2024-08)",
           "MATH level 5"
          ],
          [
           "Claude 2 (2024-08)",
           "MATH level 5"
          ],
          [
           "Gemini 1.0 Pro (2024-08)",
           "MATH level 5"
          ],
          [
           "o1-preview (2024-09)",
           "MATH level 5"
          ],
          [
           "o1-mini (2024-09)",
           "MATH level 5"
          ],
          [
           "o1-mini (2024-09)",
           "MATH level 5"
          ],
          [
           "Mistral 7B (2024-09)",
           "MATH level 5"
          ],
          [
           "Mistral 7B (2024-09)",
           "MATH level 5"
          ],
          [
           "Gemini-1.5-Pro-2024-09 (2024-09)",
           "MATH level 5"
          ],
          [
           "Gemini-1.5-Flash-2024-09 (2024-09)",
           "MATH level 5"
          ],
          [
           "Claude-3.5-Sonnet-2024-10 (2024-10)",
           "MATH level 5"
          ],
          [
           "GPT-4o-2024-11 (2024-11)",
           "MATH level 5"
          ],
          [
           "Phi 4 (2024-12)",
           "MATH level 5"
          ],
          [
           "o1 (2024-12)",
           "MATH level 5"
          ],
          [
           "o1 (2024-12)",
           "MATH level 5"
          ],
          [
           "DeepSeek-V3 (2024-12)",
           "MATH level 5"
          ],
          [
           "Mistral Small 3 (2025-01)",
           "MATH level 5"
          ],
          [
           "o1-mini (2025-01)",
           "MATH level 5"
          ],
          [
           "o1-mini (2025-01)",
           "MATH level 5"
          ],
          [
           "o3-mini (2025-01)",
           "MATH level 5"
          ],
          [
           "o3-mini (2025-01)",
           "MATH level 5"
          ],
          [
           "Gemini 2.0 Flash (2025-02)",
           "MATH level 5"
          ]
         ],
         "hovertemplate": "Task=%{customdata[1]}<br>Release Date=%{x}<br>Average cost per question (USD)=%{y}<br>Model Name and Date=%{customdata[0]}<extra></extra>",
         "legendgroup": "MATH level 5",
         "marker": {
          "color": "#636efa",
          "symbol": "circle"
         },
         "mode": "markers",
         "name": "MATH level 5",
         "orientation": "v",
         "showlegend": true,
         "type": "scatter",
         "x": [
          "2023-03-14T00:00:00",
          "2023-11-06T00:00:00",
          "2023-11-06T00:00:00",
          "2023-12-01T00:00:00",
          "2024-01-25T00:00:00",
          "2024-01-25T00:00:00",
          "2024-02-26T00:00:00",
          "2024-03-04T00:00:00",
          "2024-03-04T00:00:00",
          "2024-03-04T00:00:00",
          "2024-04-17T00:00:00",
          "2024-04-18T00:00:00",
          "2024-04-18T00:00:00",
          "2024-05-10T00:00:00",
          "2024-05-13T00:00:00",
          "2024-05-23T00:00:00",
          "2024-06-20T00:00:00",
          "2024-06-24T00:00:00",
          "2024-06-24T00:00:00",
          "2024-07-18T00:00:00",
          "2024-07-18T00:00:00",
          "2024-08-06T00:00:00",
          "2024-08-12T00:00:00",
          "2024-08-12T00:00:00",
          "2024-09-12T00:00:00",
          "2024-09-12T00:00:00",
          "2024-09-12T00:00:00",
          "2024-09-14T00:00:00",
          "2024-09-14T00:00:00",
          "2024-09-24T00:00:00",
          "2024-09-24T00:00:00",
          "2024-10-22T00:00:00",
          "2024-11-20T00:00:00",
          "2024-12-13T00:00:00",
          "2024-12-17T00:00:00",
          "2024-12-17T00:00:00",
          "2024-12-26T00:00:00",
          "2025-01-30T00:00:00",
          "2025-01-31T00:00:00",
          "2025-01-31T00:00:00",
          "2025-01-31T00:00:00",
          "2025-01-31T00:00:00",
          "2025-02-05T00:00:00"
         ],
         "xaxis": "x",
         "y": [
          0.019838116030966767,
          0.0003879257458459215,
          0.011980952605740182,
          0.0004874022812027945,
          0.01505002029833837,
          0.00036688389822507557,
          0.0044339382552870095,
          0.0003004239520392749,
          0.0041686166918429,
          0.020794812122356496,
          0.0010633783232628397,
          0.0004685861763595166,
          0.0000904664841389728,
          0.0000813100047205438,
          0.006375599037009063,
          0.0013643061112160121,
          0.003858584025679758,
          0.00008028604607250755,
          0.00017087920694864046,
          0.00009417902284743203,
          0.00025772924660120853,
          0.003865301618202417,
          0.005406439577039275,
          0.0003648247970166163,
          0.10039467145015106,
          0.010809046166918428,
          0.009313583766049849,
          0.00021216432212990937,
          0.00020251501132930515,
          0.0016348515407854983,
          0.00014218779456193355,
          0.0039028419561933534,
          0.004236521918429003,
          0.00012881713486593654,
          0.08636836858006043,
          0.11313571563444108,
          0.0005743893572979607,
          0.00038231253068353476,
          0.00396331692787009,
          0.003414980714218278,
          0.006072538991691843,
          0.0035745169066276434,
          0.0001891868792484894
         ],
         "yaxis": "y"
        },
        {
         "customdata": [
          [
           "GPT-4-0314 (2023-03)",
           "GPQA Diamond"
          ],
          [
           "GPT-3.5-Turbo-2023-11 (2023-11)",
           "GPQA Diamond"
          ],
          [
           "GPT-4 Turbo (2023-11)",
           "GPQA Diamond"
          ],
          [
           "Llama 2-70B Chat (2023-12)",
           "GPQA Diamond"
          ],
          [
           "GPT-4-0125 (2024-01)",
           "GPQA Diamond"
          ],
          [
           "GPT-3.5-Turbo-2024-01 (2024-01)",
           "GPQA Diamond"
          ],
          [
           "Mistral-Large-2024-02 (2024-02)",
           "GPQA Diamond"
          ],
          [
           "Claude-3-Haiku (2024-03)",
           "GPQA Diamond"
          ],
          [
           "Claude-3-Sonnet (2024-03)",
           "GPQA Diamond"
          ],
          [
           "Claude-3-Opus (2024-03)",
           "GPQA Diamond"
          ],
          [
           "Mistral-8x22 (2024-04)",
           "GPQA Diamond"
          ],
          [
           "Llama-3-Instruct-70B (2024-04)",
           "GPQA Diamond"
          ],
          [
           "Llama-3-Instruct-8B (2024-04)",
           "GPQA Diamond"
          ],
          [
           "Gemini-1.5-Flash-2024-05 (2024-05)",
           "GPQA Diamond"
          ],
          [
           "GPT-4o-2024-05 (2024-05)",
           "GPQA Diamond"
          ],
          [
           "Gemini-1.5-Pro-2024-05 (2024-05)",
           "GPQA Diamond"
          ],
          [
           "Claude-3.5-Sonnet-2024-06 (2024-06)",
           "GPQA Diamond"
          ],
          [
           "Gemma-2-9B (2024-06)",
           "GPQA Diamond"
          ],
          [
           "Gemma-2-27B (2024-06)",
           "GPQA Diamond"
          ],
          [
           "Mistral-NeMo (2024-07)",
           "GPQA Diamond"
          ],
          [
           "GPT-4o-mini (2024-07)",
           "GPQA Diamond"
          ],
          [
           "GPT-4o-2024-08 (2024-08)",
           "GPQA Diamond"
          ],
          [
           "Claude 2 (2024-08)",
           "GPQA Diamond"
          ],
          [
           "Gemini 1.0 Pro (2024-08)",
           "GPQA Diamond"
          ],
          [
           "Claude 2.1 (2024-08)",
           "GPQA Diamond"
          ],
          [
           "o1-preview (2024-09)",
           "GPQA Diamond"
          ],
          [
           "o1-mini (2024-09)",
           "GPQA Diamond"
          ],
          [
           "o1-mini (2024-09)",
           "GPQA Diamond"
          ],
          [
           "Mistral 7B (2024-09)",
           "GPQA Diamond"
          ],
          [
           "Mistral 7B (2024-09)",
           "GPQA Diamond"
          ],
          [
           "Gemini-1.5-Pro-2024-09 (2024-09)",
           "GPQA Diamond"
          ],
          [
           "Gemini-1.5-Flash-2024-09 (2024-09)",
           "GPQA Diamond"
          ],
          [
           "Claude-3.5-Sonnet-2024-10 (2024-10)",
           "GPQA Diamond"
          ],
          [
           "GPT-4o-2024-11 (2024-11)",
           "GPQA Diamond"
          ],
          [
           "Phi 4 (2024-12)",
           "GPQA Diamond"
          ],
          [
           "o1 (2024-12)",
           "GPQA Diamond"
          ],
          [
           "o1 (2024-12)",
           "GPQA Diamond"
          ],
          [
           "DeepSeek-V3 (2024-12)",
           "GPQA Diamond"
          ],
          [
           "Mistral Small 3 (2025-01)",
           "GPQA Diamond"
          ],
          [
           "o1-mini (2025-01)",
           "GPQA Diamond"
          ],
          [
           "o1-mini (2025-01)",
           "GPQA Diamond"
          ],
          [
           "o3-mini (2025-01)",
           "GPQA Diamond"
          ],
          [
           "o3-mini (2025-01)",
           "GPQA Diamond"
          ],
          [
           "Gemini 2.0 Flash (2025-02)",
           "GPQA Diamond"
          ]
         ],
         "hovertemplate": "Task=%{customdata[1]}<br>Release Date=%{x}<br>Average cost per question (USD)=%{y}<br>Model Name and Date=%{customdata[0]}<extra></extra>",
         "legendgroup": "GPQA Diamond",
         "marker": {
          "color": "#EF553B",
          "symbol": "circle"
         },
         "mode": "markers",
         "name": "GPQA Diamond",
         "orientation": "v",
         "showlegend": true,
         "type": "scatter",
         "x": [
          "2023-03-14T00:00:00",
          "2023-11-06T00:00:00",
          "2023-11-06T00:00:00",
          "2023-12-01T00:00:00",
          "2024-01-25T00:00:00",
          "2024-01-25T00:00:00",
          "2024-02-26T00:00:00",
          "2024-03-04T00:00:00",
          "2024-03-04T00:00:00",
          "2024-03-04T00:00:00",
          "2024-04-17T00:00:00",
          "2024-04-18T00:00:00",
          "2024-04-18T00:00:00",
          "2024-05-10T00:00:00",
          "2024-05-13T00:00:00",
          "2024-05-23T00:00:00",
          "2024-06-20T00:00:00",
          "2024-06-24T00:00:00",
          "2024-06-24T00:00:00",
          "2024-07-18T00:00:00",
          "2024-07-18T00:00:00",
          "2024-08-06T00:00:00",
          "2024-08-12T00:00:00",
          "2024-08-12T00:00:00",
          "2024-08-12T00:00:00",
          "2024-09-12T00:00:00",
          "2024-09-12T00:00:00",
          "2024-09-12T00:00:00",
          "2024-09-14T00:00:00",
          "2024-09-14T00:00:00",
          "2024-09-24T00:00:00",
          "2024-09-24T00:00:00",
          "2024-10-22T00:00:00",
          "2024-11-20T00:00:00",
          "2024-12-13T00:00:00",
          "2024-12-17T00:00:00",
          "2024-12-17T00:00:00",
          "2024-12-26T00:00:00",
          "2025-01-30T00:00:00",
          "2025-01-31T00:00:00",
          "2025-01-31T00:00:00",
          "2025-01-31T00:00:00",
          "2025-01-31T00:00:00",
          "2025-02-05T00:00:00"
         ],
         "xaxis": "x",
         "y": [
          0.018147620738636364,
          0.00027437760416666664,
          0.012484895833333334,
          0.0005580118450126262,
          0.012560359848484848,
          0.0002763645833333333,
          0.003941507575757576,
          0.00032015325126262626,
          0.004555867424242424,
          0.02173440340909091,
          0.001025331818181818,
          0.000517522077020202,
          0.00009495260416666666,
          0.00008002234532828284,
          0.006447658617424243,
          0.001313514024621212,
          0.004296397727272727,
          0.00007568154356060607,
          0.00015500193813131313,
          0.00008841288510101011,
          0.00021351047348484848,
          0.003714364431818182,
          0.005621155303030303,
          0.0003549928977272728,
          0.005899064393939394,
          0.08666376183712121,
          0.01128022490530303,
          0.01070015127840909,
          0.00019616927083333335,
          0.00018640972222222222,
          0.0015132575094696967,
          0.00008761101325757577,
          0.003889359848484849,
          0.004383591931818182,
          0.00011389031486742424,
          0.17370897727272727,
          0.11509723484848483,
          0.0004171055950126262,
          0.0003692357323232323,
          0.004136082465277778,
          0.003923388802083334,
          0.0153639828125,
          0.006480455381944444,
          0.00015189022253787876
         ],
         "yaxis": "y"
        },
        {
         "customdata": [
          [
           "GPT-4 Turbo (2023-11)",
           "OTIS Mock AIME 2024-2025"
          ],
          [
           "Llama 2-70B Chat (2023-12)",
           "OTIS Mock AIME 2024-2025"
          ],
          [
           "Mistral-Large-2024-02 (2024-02)",
           "OTIS Mock AIME 2024-2025"
          ],
          [
           "Claude-3-Haiku (2024-03)",
           "OTIS Mock AIME 2024-2025"
          ],
          [
           "Claude-3-Sonnet (2024-03)",
           "OTIS Mock AIME 2024-2025"
          ],
          [
           "Claude-3-Opus (2024-03)",
           "OTIS Mock AIME 2024-2025"
          ],
          [
           "Llama-3-Instruct-70B (2024-04)",
           "OTIS Mock AIME 2024-2025"
          ],
          [
           "Llama-3-Instruct-8B (2024-04)",
           "OTIS Mock AIME 2024-2025"
          ],
          [
           "Gemini-1.5-Flash-2024-05 (2024-05)",
           "OTIS Mock AIME 2024-2025"
          ],
          [
           "GPT-4o-2024-05 (2024-05)",
           "OTIS Mock AIME 2024-2025"
          ],
          [
           "Gemini-1.5-Pro-2024-05 (2024-05)",
           "OTIS Mock AIME 2024-2025"
          ],
          [
           "Claude-3.5-Sonnet-2024-06 (2024-06)",
           "OTIS Mock AIME 2024-2025"
          ],
          [
           "GPT-4o-2024-08 (2024-08)",
           "OTIS Mock AIME 2024-2025"
          ],
          [
           "Gemini 1.0 Pro (2024-08)",
           "OTIS Mock AIME 2024-2025"
          ],
          [
           "Gemini-1.5-Pro-2024-09 (2024-09)",
           "OTIS Mock AIME 2024-2025"
          ],
          [
           "Gemini-1.5-Flash-2024-09 (2024-09)",
           "OTIS Mock AIME 2024-2025"
          ],
          [
           "Claude-3.5-Sonnet-2024-10 (2024-10)",
           "OTIS Mock AIME 2024-2025"
          ],
          [
           "GPT-4o-2024-11 (2024-11)",
           "OTIS Mock AIME 2024-2025"
          ],
          [
           "Phi 4 (2024-12)",
           "OTIS Mock AIME 2024-2025"
          ],
          [
           "o1 (2024-12)",
           "OTIS Mock AIME 2024-2025"
          ],
          [
           "DeepSeek-V3 (2024-12)",
           "OTIS Mock AIME 2024-2025"
          ],
          [
           "o3-mini (2025-01)",
           "OTIS Mock AIME 2024-2025"
          ],
          [
           "o3-mini (2025-01)",
           "OTIS Mock AIME 2024-2025"
          ],
          [
           "Gemini 2.0 Flash (2025-02)",
           "OTIS Mock AIME 2024-2025"
          ]
         ],
         "hovertemplate": "Task=%{customdata[1]}<br>Release Date=%{x}<br>Average cost per question (USD)=%{y}<br>Model Name and Date=%{customdata[0]}<extra></extra>",
         "legendgroup": "OTIS Mock AIME 2024-2025",
         "marker": {
          "color": "#00cc96",
          "symbol": "circle"
         },
         "mode": "markers",
         "name": "OTIS Mock AIME 2024-2025",
         "orientation": "v",
         "showlegend": true,
         "type": "scatter",
         "x": [
          "2023-11-06T00:00:00",
          "2023-12-01T00:00:00",
          "2024-02-26T00:00:00",
          "2024-03-04T00:00:00",
          "2024-03-04T00:00:00",
          "2024-03-04T00:00:00",
          "2024-04-18T00:00:00",
          "2024-04-18T00:00:00",
          "2024-05-10T00:00:00",
          "2024-05-13T00:00:00",
          "2024-05-23T00:00:00",
          "2024-06-20T00:00:00",
          "2024-08-06T00:00:00",
          "2024-08-12T00:00:00",
          "2024-09-24T00:00:00",
          "2024-09-24T00:00:00",
          "2024-10-22T00:00:00",
          "2024-11-20T00:00:00",
          "2024-12-13T00:00:00",
          "2024-12-17T00:00:00",
          "2024-12-26T00:00:00",
          "2025-01-31T00:00:00",
          "2025-01-31T00:00:00",
          "2025-02-05T00:00:00"
         ],
         "xaxis": "x",
         "y": [
          0.014090041666666666,
          0.0007432754687499999,
          0.005556133333333334,
          0.00038576666666666665,
          0.004930583333333334,
          0.025203375,
          0.0007802123194444445,
          0.00012712104166666668,
          0.000145624375,
          0.006887635416666667,
          0.0022989403333333333,
          0.004529266666666667,
          0.004373417833333333,
          0.0004963208333333333,
          0.0021789587500000004,
          0.00024747793055555553,
          0.004654816666666666,
          0.004980680499999999,
          0.00016379372916666668,
          0.289352,
          0.0009453637847222222,
          0.014185921215277779,
          0.025467680486111113,
          0.00032039607638888884
         ],
         "yaxis": "y"
        }
       ],
       "layout": {
        "legend": {
         "title": {
          "text": "Task"
         },
         "tracegroupgap": 0
        },
        "template": {
         "data": {
          "bar": [
           {
            "error_x": {
             "color": "#2a3f5f"
            },
            "error_y": {
             "color": "#2a3f5f"
            },
            "marker": {
             "line": {
              "color": "white",
              "width": 0.5
             },
             "pattern": {
              "fillmode": "overlay",
              "size": 10,
              "solidity": 0.2
             }
            },
            "type": "bar"
           }
          ],
          "barpolar": [
           {
            "marker": {
             "line": {
              "color": "white",
              "width": 0.5
             },
             "pattern": {
              "fillmode": "overlay",
              "size": 10,
              "solidity": 0.2
             }
            },
            "type": "barpolar"
           }
          ],
          "carpet": [
           {
            "aaxis": {
             "endlinecolor": "#2a3f5f",
             "gridcolor": "#C8D4E3",
             "linecolor": "#C8D4E3",
             "minorgridcolor": "#C8D4E3",
             "startlinecolor": "#2a3f5f"
            },
            "baxis": {
             "endlinecolor": "#2a3f5f",
             "gridcolor": "#C8D4E3",
             "linecolor": "#C8D4E3",
             "minorgridcolor": "#C8D4E3",
             "startlinecolor": "#2a3f5f"
            },
            "type": "carpet"
           }
          ],
          "choropleth": [
           {
            "colorbar": {
             "outlinewidth": 0,
             "ticks": ""
            },
            "type": "choropleth"
           }
          ],
          "contour": [
           {
            "colorbar": {
             "outlinewidth": 0,
             "ticks": ""
            },
            "colorscale": [
             [
              0,
              "#0d0887"
             ],
             [
              0.1111111111111111,
              "#46039f"
             ],
             [
              0.2222222222222222,
              "#7201a8"
             ],
             [
              0.3333333333333333,
              "#9c179e"
             ],
             [
              0.4444444444444444,
              "#bd3786"
             ],
             [
              0.5555555555555556,
              "#d8576b"
             ],
             [
              0.6666666666666666,
              "#ed7953"
             ],
             [
              0.7777777777777778,
              "#fb9f3a"
             ],
             [
              0.8888888888888888,
              "#fdca26"
             ],
             [
              1,
              "#f0f921"
             ]
            ],
            "type": "contour"
           }
          ],
          "contourcarpet": [
           {
            "colorbar": {
             "outlinewidth": 0,
             "ticks": ""
            },
            "type": "contourcarpet"
           }
          ],
          "heatmap": [
           {
            "colorbar": {
             "outlinewidth": 0,
             "ticks": ""
            },
            "colorscale": [
             [
              0,
              "#0d0887"
             ],
             [
              0.1111111111111111,
              "#46039f"
             ],
             [
              0.2222222222222222,
              "#7201a8"
             ],
             [
              0.3333333333333333,
              "#9c179e"
             ],
             [
              0.4444444444444444,
              "#bd3786"
             ],
             [
              0.5555555555555556,
              "#d8576b"
             ],
             [
              0.6666666666666666,
              "#ed7953"
             ],
             [
              0.7777777777777778,
              "#fb9f3a"
             ],
             [
              0.8888888888888888,
              "#fdca26"
             ],
             [
              1,
              "#f0f921"
             ]
            ],
            "type": "heatmap"
           }
          ],
          "heatmapgl": [
           {
            "colorbar": {
             "outlinewidth": 0,
             "ticks": ""
            },
            "colorscale": [
             [
              0,
              "#0d0887"
             ],
             [
              0.1111111111111111,
              "#46039f"
             ],
             [
              0.2222222222222222,
              "#7201a8"
             ],
             [
              0.3333333333333333,
              "#9c179e"
             ],
             [
              0.4444444444444444,
              "#bd3786"
             ],
             [
              0.5555555555555556,
              "#d8576b"
             ],
             [
              0.6666666666666666,
              "#ed7953"
             ],
             [
              0.7777777777777778,
              "#fb9f3a"
             ],
             [
              0.8888888888888888,
              "#fdca26"
             ],
             [
              1,
              "#f0f921"
             ]
            ],
            "type": "heatmapgl"
           }
          ],
          "histogram": [
           {
            "marker": {
             "pattern": {
              "fillmode": "overlay",
              "size": 10,
              "solidity": 0.2
             }
            },
            "type": "histogram"
           }
          ],
          "histogram2d": [
           {
            "colorbar": {
             "outlinewidth": 0,
             "ticks": ""
            },
            "colorscale": [
             [
              0,
              "#0d0887"
             ],
             [
              0.1111111111111111,
              "#46039f"
             ],
             [
              0.2222222222222222,
              "#7201a8"
             ],
             [
              0.3333333333333333,
              "#9c179e"
             ],
             [
              0.4444444444444444,
              "#bd3786"
             ],
             [
              0.5555555555555556,
              "#d8576b"
             ],
             [
              0.6666666666666666,
              "#ed7953"
             ],
             [
              0.7777777777777778,
              "#fb9f3a"
             ],
             [
              0.8888888888888888,
              "#fdca26"
             ],
             [
              1,
              "#f0f921"
             ]
            ],
            "type": "histogram2d"
           }
          ],
          "histogram2dcontour": [
           {
            "colorbar": {
             "outlinewidth": 0,
             "ticks": ""
            },
            "colorscale": [
             [
              0,
              "#0d0887"
             ],
             [
              0.1111111111111111,
              "#46039f"
             ],
             [
              0.2222222222222222,
              "#7201a8"
             ],
             [
              0.3333333333333333,
              "#9c179e"
             ],
             [
              0.4444444444444444,
              "#bd3786"
             ],
             [
              0.5555555555555556,
              "#d8576b"
             ],
             [
              0.6666666666666666,
              "#ed7953"
             ],
             [
              0.7777777777777778,
              "#fb9f3a"
             ],
             [
              0.8888888888888888,
              "#fdca26"
             ],
             [
              1,
              "#f0f921"
             ]
            ],
            "type": "histogram2dcontour"
           }
          ],
          "mesh3d": [
           {
            "colorbar": {
             "outlinewidth": 0,
             "ticks": ""
            },
            "type": "mesh3d"
           }
          ],
          "parcoords": [
           {
            "line": {
             "colorbar": {
              "outlinewidth": 0,
              "ticks": ""
             }
            },
            "type": "parcoords"
           }
          ],
          "pie": [
           {
            "automargin": true,
            "type": "pie"
           }
          ],
          "scatter": [
           {
            "fillpattern": {
             "fillmode": "overlay",
             "size": 10,
             "solidity": 0.2
            },
            "type": "scatter"
           }
          ],
          "scatter3d": [
           {
            "line": {
             "colorbar": {
              "outlinewidth": 0,
              "ticks": ""
             }
            },
            "marker": {
             "colorbar": {
              "outlinewidth": 0,
              "ticks": ""
             }
            },
            "type": "scatter3d"
           }
          ],
          "scattercarpet": [
           {
            "marker": {
             "colorbar": {
              "outlinewidth": 0,
              "ticks": ""
             }
            },
            "type": "scattercarpet"
           }
          ],
          "scattergeo": [
           {
            "marker": {
             "colorbar": {
              "outlinewidth": 0,
              "ticks": ""
             }
            },
            "type": "scattergeo"
           }
          ],
          "scattergl": [
           {
            "marker": {
             "colorbar": {
              "outlinewidth": 0,
              "ticks": ""
             }
            },
            "type": "scattergl"
           }
          ],
          "scattermapbox": [
           {
            "marker": {
             "colorbar": {
              "outlinewidth": 0,
              "ticks": ""
             }
            },
            "type": "scattermapbox"
           }
          ],
          "scatterpolar": [
           {
            "marker": {
             "colorbar": {
              "outlinewidth": 0,
              "ticks": ""
             }
            },
            "type": "scatterpolar"
           }
          ],
          "scatterpolargl": [
           {
            "marker": {
             "colorbar": {
              "outlinewidth": 0,
              "ticks": ""
             }
            },
            "type": "scatterpolargl"
           }
          ],
          "scatterternary": [
           {
            "marker": {
             "colorbar": {
              "outlinewidth": 0,
              "ticks": ""
             }
            },
            "type": "scatterternary"
           }
          ],
          "surface": [
           {
            "colorbar": {
             "outlinewidth": 0,
             "ticks": ""
            },
            "colorscale": [
             [
              0,
              "#0d0887"
             ],
             [
              0.1111111111111111,
              "#46039f"
             ],
             [
              0.2222222222222222,
              "#7201a8"
             ],
             [
              0.3333333333333333,
              "#9c179e"
             ],
             [
              0.4444444444444444,
              "#bd3786"
             ],
             [
              0.5555555555555556,
              "#d8576b"
             ],
             [
              0.6666666666666666,
              "#ed7953"
             ],
             [
              0.7777777777777778,
              "#fb9f3a"
             ],
             [
              0.8888888888888888,
              "#fdca26"
             ],
             [
              1,
              "#f0f921"
             ]
            ],
            "type": "surface"
           }
          ],
          "table": [
           {
            "cells": {
             "fill": {
              "color": "#EBF0F8"
             },
             "line": {
              "color": "white"
             }
            },
            "header": {
             "fill": {
              "color": "#C8D4E3"
             },
             "line": {
              "color": "white"
             }
            },
            "type": "table"
           }
          ]
         },
         "layout": {
          "annotationdefaults": {
           "arrowcolor": "#2a3f5f",
           "arrowhead": 0,
           "arrowwidth": 1
          },
          "autotypenumbers": "strict",
          "coloraxis": {
           "colorbar": {
            "outlinewidth": 0,
            "ticks": ""
           }
          },
          "colorscale": {
           "diverging": [
            [
             0,
             "#8e0152"
            ],
            [
             0.1,
             "#c51b7d"
            ],
            [
             0.2,
             "#de77ae"
            ],
            [
             0.3,
             "#f1b6da"
            ],
            [
             0.4,
             "#fde0ef"
            ],
            [
             0.5,
             "#f7f7f7"
            ],
            [
             0.6,
             "#e6f5d0"
            ],
            [
             0.7,
             "#b8e186"
            ],
            [
             0.8,
             "#7fbc41"
            ],
            [
             0.9,
             "#4d9221"
            ],
            [
             1,
             "#276419"
            ]
           ],
           "sequential": [
            [
             0,
             "#0d0887"
            ],
            [
             0.1111111111111111,
             "#46039f"
            ],
            [
             0.2222222222222222,
             "#7201a8"
            ],
            [
             0.3333333333333333,
             "#9c179e"
            ],
            [
             0.4444444444444444,
             "#bd3786"
            ],
            [
             0.5555555555555556,
             "#d8576b"
            ],
            [
             0.6666666666666666,
             "#ed7953"
            ],
            [
             0.7777777777777778,
             "#fb9f3a"
            ],
            [
             0.8888888888888888,
             "#fdca26"
            ],
            [
             1,
             "#f0f921"
            ]
           ],
           "sequentialminus": [
            [
             0,
             "#0d0887"
            ],
            [
             0.1111111111111111,
             "#46039f"
            ],
            [
             0.2222222222222222,
             "#7201a8"
            ],
            [
             0.3333333333333333,
             "#9c179e"
            ],
            [
             0.4444444444444444,
             "#bd3786"
            ],
            [
             0.5555555555555556,
             "#d8576b"
            ],
            [
             0.6666666666666666,
             "#ed7953"
            ],
            [
             0.7777777777777778,
             "#fb9f3a"
            ],
            [
             0.8888888888888888,
             "#fdca26"
            ],
            [
             1,
             "#f0f921"
            ]
           ]
          },
          "colorway": [
           "#636efa",
           "#EF553B",
           "#00cc96",
           "#ab63fa",
           "#FFA15A",
           "#19d3f3",
           "#FF6692",
           "#B6E880",
           "#FF97FF",
           "#FECB52"
          ],
          "font": {
           "color": "#2a3f5f"
          },
          "geo": {
           "bgcolor": "white",
           "lakecolor": "white",
           "landcolor": "white",
           "showlakes": true,
           "showland": true,
           "subunitcolor": "#C8D4E3"
          },
          "hoverlabel": {
           "align": "left"
          },
          "hovermode": "closest",
          "mapbox": {
           "style": "light"
          },
          "paper_bgcolor": "white",
          "plot_bgcolor": "white",
          "polar": {
           "angularaxis": {
            "gridcolor": "#EBF0F8",
            "linecolor": "#EBF0F8",
            "ticks": ""
           },
           "bgcolor": "white",
           "radialaxis": {
            "gridcolor": "#EBF0F8",
            "linecolor": "#EBF0F8",
            "ticks": ""
           }
          },
          "scene": {
           "xaxis": {
            "backgroundcolor": "white",
            "gridcolor": "#DFE8F3",
            "gridwidth": 2,
            "linecolor": "#EBF0F8",
            "showbackground": true,
            "ticks": "",
            "zerolinecolor": "#EBF0F8"
           },
           "yaxis": {
            "backgroundcolor": "white",
            "gridcolor": "#DFE8F3",
            "gridwidth": 2,
            "linecolor": "#EBF0F8",
            "showbackground": true,
            "ticks": "",
            "zerolinecolor": "#EBF0F8"
           },
           "zaxis": {
            "backgroundcolor": "white",
            "gridcolor": "#DFE8F3",
            "gridwidth": 2,
            "linecolor": "#EBF0F8",
            "showbackground": true,
            "ticks": "",
            "zerolinecolor": "#EBF0F8"
           }
          },
          "shapedefaults": {
           "line": {
            "color": "#2a3f5f"
           }
          },
          "ternary": {
           "aaxis": {
            "gridcolor": "#DFE8F3",
            "linecolor": "#A2B1C6",
            "ticks": ""
           },
           "baxis": {
            "gridcolor": "#DFE8F3",
            "linecolor": "#A2B1C6",
            "ticks": ""
           },
           "bgcolor": "white",
           "caxis": {
            "gridcolor": "#DFE8F3",
            "linecolor": "#A2B1C6",
            "ticks": ""
           }
          },
          "title": {
           "x": 0.05
          },
          "xaxis": {
           "automargin": true,
           "gridcolor": "#EBF0F8",
           "linecolor": "#EBF0F8",
           "ticks": "",
           "title": {
            "standoff": 15
           },
           "zerolinecolor": "#EBF0F8",
           "zerolinewidth": 2
          },
          "yaxis": {
           "automargin": true,
           "gridcolor": "#EBF0F8",
           "linecolor": "#EBF0F8",
           "ticks": "",
           "title": {
            "standoff": 15
           },
           "zerolinecolor": "#EBF0F8",
           "zerolinewidth": 2
          }
         }
        },
        "title": {
         "text": "Cost per Question Over Time"
        },
        "xaxis": {
         "anchor": "y",
         "domain": [
          0,
          1
         ],
         "title": {
          "text": "Release Date"
         }
        },
        "yaxis": {
         "anchor": "x",
         "domain": [
          0,
          1
         ],
         "title": {
          "text": "Average Cost per Question (USD, log scale)"
         },
         "type": "log"
        }
       }
      }
     },
     "metadata": {},
     "output_type": "display_data"
    }
   ],
   "source": [
    "fig = px.scatter(\n",
    "    data_frame=eval_cost_df,\n",
    "    x='Release Date',\n",
    "    y='Average cost per question (USD)',\n",
    "    color='Task',\n",
    "    hover_data=['Model Name and Date', 'Task'],\n",
    "    log_y=True,\n",
    "    title='Cost per Question Over Time'\n",
    ")\n",
    "fig.update_layout(\n",
    "    xaxis_title='Release Date',\n",
    "    yaxis_title='Average Cost per Question (USD, log scale)'\n",
    ")\n",
    "fig.show()"
   ]
  },
  {
   "cell_type": "code",
   "execution_count": 18,
   "metadata": {},
   "outputs": [],
   "source": [
    "results_subdir = results_dir + 'lowest_cost_models_examples/'\n",
    "os.makedirs(results_subdir, exist_ok=True)"
   ]
  },
  {
   "cell_type": "code",
   "execution_count": 19,
   "metadata": {},
   "outputs": [],
   "source": [
    "cost_col = 'Average cost per question (USD)'"
   ]
  },
  {
   "cell_type": "markdown",
   "metadata": {},
   "source": [
    "### Final selected example"
   ]
  },
  {
   "cell_type": "code",
   "execution_count": 20,
   "metadata": {},
   "outputs": [
    {
     "data": {
      "text/plain": [
       "array(['GPT-4-0314', 'GPT-3.5-Turbo-2023-11', 'GPT-4 Turbo',\n",
       "       'Llama 2-70B Chat', 'GPT-4-0125', 'GPT-3.5-Turbo-2024-01',\n",
       "       'Mistral-Large-2024-02', 'Claude-3-Haiku', 'Claude-3-Sonnet',\n",
       "       'Claude-3-Opus', 'Mistral-8x22', 'Llama-3-Instruct-70B',\n",
       "       'Llama-3-Instruct-8B', 'Gemini-1.5-Flash-2024-05',\n",
       "       'GPT-4o-2024-05', 'Gemini-1.5-Pro-2024-05',\n",
       "       'Claude-3.5-Sonnet-2024-06', 'Gemma-2-9B', 'Gemma-2-27B',\n",
       "       'Mistral-NeMo', 'GPT-4o-mini', 'GPT-4o-2024-08', 'Claude 2',\n",
       "       'Gemini 1.0 Pro', 'Claude 2.1', 'o1-preview', 'o1-mini',\n",
       "       'Mistral 7B', 'Gemini-1.5-Pro-2024-09', 'Gemini-1.5-Flash-2024-09',\n",
       "       'Claude-3.5-Sonnet-2024-10', 'GPT-4o-2024-11', 'Phi 4', 'o1',\n",
       "       'DeepSeek-V3', 'Mistral Small 3', 'o3-mini', 'Gemini 2.0 Flash'],\n",
       "      dtype=object)"
      ]
     },
     "execution_count": 20,
     "metadata": {},
     "output_type": "execute_result"
    }
   ],
   "source": [
    "eval_cost_df['Model Name'].unique()"
   ]
  },
  {
   "cell_type": "code",
   "execution_count": 21,
   "metadata": {},
   "outputs": [
    {
     "name": "stdout",
     "output_type": "stream",
     "text": [
      "\n",
      "Performance range: 33.0-100%\n",
      "2023-03-14 00:00:00 GPT-4-0314 33.0 $0.02\n",
      "2023-11-06 00:00:00 GPT-4 Turbo 50.0 $0.01\n",
      "2024-02-26 00:00:00 Mistral-Large-2024-02 36.0 $0.00\n",
      "2024-03-04 00:00:00 Claude-3-Haiku 33.0 $0.00\n",
      "2024-05-10 00:00:00 Gemini-1.5-Flash-2024-05 39.0 $0.00\n",
      "1 4422\n"
     ]
    },
    {
     "data": {
      "application/vnd.plotly.v1+json": {
       "config": {
        "plotlyServerURL": "https://plot.ly"
       },
       "data": [
        {
         "marker": {
          "color": "rgb(222, 222, 255)"
         },
         "mode": "markers",
         "name": "Other, GPT-4 level or better on GPQA Diamond",
         "text": [
          "GPT-4-0314",
          "GPT-4 Turbo",
          "GPT-4-0125",
          "Mistral-Large-2024-02",
          "Claude-3-Haiku",
          "Claude-3-Sonnet",
          "Claude-3-Opus",
          "Mistral-8x22",
          "Llama-3-Instruct-70B",
          "Gemini-1.5-Flash-2024-05",
          "GPT-4o-2024-05",
          "Gemini-1.5-Pro-2024-05",
          "Claude-3.5-Sonnet-2024-06",
          "Gemma-2-27B",
          "Mistral-NeMo",
          "GPT-4o-mini",
          "GPT-4o-2024-08",
          "Claude 2",
          "Gemini 1.0 Pro",
          "Claude 2.1",
          "o1-preview",
          "o1-mini",
          "o1-mini",
          "Gemini-1.5-Pro-2024-09",
          "Gemini-1.5-Flash-2024-09",
          "Claude-3.5-Sonnet-2024-10",
          "GPT-4o-2024-11",
          "Phi 4",
          "o1",
          "o1",
          "DeepSeek-V3",
          "Mistral Small 3",
          "o1-mini",
          "o1-mini",
          "o3-mini",
          "o3-mini",
          "Gemini 2.0 Flash"
         ],
         "type": "scatter",
         "x": [
          "2023-03-14T00:00:00",
          "2023-11-06T00:00:00",
          "2024-01-25T00:00:00",
          "2024-02-26T00:00:00",
          "2024-03-04T00:00:00",
          "2024-03-04T00:00:00",
          "2024-03-04T00:00:00",
          "2024-04-17T00:00:00",
          "2024-04-18T00:00:00",
          "2024-05-10T00:00:00",
          "2024-05-13T00:00:00",
          "2024-05-23T00:00:00",
          "2024-06-20T00:00:00",
          "2024-06-24T00:00:00",
          "2024-07-18T00:00:00",
          "2024-07-18T00:00:00",
          "2024-08-06T00:00:00",
          "2024-08-12T00:00:00",
          "2024-08-12T00:00:00",
          "2024-08-12T00:00:00",
          "2024-09-12T00:00:00",
          "2024-09-12T00:00:00",
          "2024-09-12T00:00:00",
          "2024-09-24T00:00:00",
          "2024-09-24T00:00:00",
          "2024-10-22T00:00:00",
          "2024-11-20T00:00:00",
          "2024-12-13T00:00:00",
          "2024-12-17T00:00:00",
          "2024-12-17T00:00:00",
          "2024-12-26T00:00:00",
          "2025-01-30T00:00:00",
          "2025-01-31T00:00:00",
          "2025-01-31T00:00:00",
          "2025-01-31T00:00:00",
          "2025-01-31T00:00:00",
          "2025-02-05T00:00:00"
         ],
         "y": [
          0.018147620738636364,
          0.012484895833333334,
          0.012560359848484848,
          0.003941507575757576,
          0.00032015325126262626,
          0.004555867424242424,
          0.02173440340909091,
          0.001025331818181818,
          0.000517522077020202,
          0.00008002234532828284,
          0.006447658617424243,
          0.001313514024621212,
          0.004296397727272727,
          0.00015500193813131313,
          0.00008841288510101011,
          0.00021351047348484848,
          0.003714364431818182,
          0.005621155303030303,
          0.0003549928977272728,
          0.005899064393939394,
          0.08666376183712121,
          0.01128022490530303,
          0.01070015127840909,
          0.0015132575094696967,
          0.00008761101325757577,
          0.003889359848484849,
          0.004383591931818182,
          0.00011389031486742424,
          0.17370897727272727,
          0.11509723484848483,
          0.0004171055950126262,
          0.0003692357323232323,
          0.004136082465277778,
          0.003923388802083334,
          0.0153639828125,
          0.006480455381944444,
          0.00015189022253787876
         ]
        },
        {
         "hoverinfo": "skip",
         "line": {
          "color": "magenta",
          "dash": "dash"
         },
         "mode": "lines+text",
         "name": "61x decrease per year",
         "showlegend": false,
         "text": [
          "",
          "",
          "",
          "",
          "",
          "",
          "",
          "",
          "",
          "",
          "",
          "",
          "",
          "",
          "",
          "",
          "",
          "",
          "",
          "",
          "",
          "",
          "",
          "",
          "",
          "",
          "",
          "",
          "",
          "",
          "",
          "",
          "",
          "",
          "",
          "",
          "",
          "",
          "",
          "",
          "",
          "",
          "",
          "",
          "",
          "",
          "",
          "",
          "",
          "",
          "",
          "",
          "",
          "",
          "",
          "",
          "",
          "",
          "",
          "",
          "",
          "",
          "",
          "",
          "",
          "",
          "",
          "",
          "",
          "",
          "",
          "",
          "",
          "",
          "",
          "",
          "",
          "",
          "",
          "",
          "",
          "",
          "",
          "",
          "",
          "",
          "",
          "",
          "",
          "",
          "",
          "",
          "",
          "",
          "",
          "",
          "",
          "",
          "",
          "",
          "",
          "",
          "",
          "",
          "",
          "",
          "",
          "",
          "",
          "",
          "",
          "",
          "",
          "",
          "",
          "",
          "",
          "",
          "",
          "",
          "",
          "",
          "",
          "",
          "",
          "",
          "",
          "",
          "",
          "",
          "",
          "",
          "",
          "",
          "",
          "",
          "",
          "",
          "",
          "",
          "",
          "",
          "",
          "",
          "",
          "",
          "",
          "",
          "",
          "",
          "",
          "",
          "",
          "",
          "",
          "",
          "",
          "",
          "",
          "",
          "",
          "",
          "",
          "",
          "",
          "",
          "",
          "",
          "",
          "",
          "",
          "",
          "",
          "",
          "",
          "",
          "",
          "",
          "",
          "",
          "",
          "",
          "",
          "",
          "",
          "",
          "",
          "",
          "",
          "",
          "",
          "",
          "",
          "",
          "",
          "",
          "",
          "",
          "",
          "",
          "",
          "",
          "",
          "",
          "",
          "",
          "",
          "",
          "",
          "",
          "",
          "",
          "61x per year",
          "",
          "",
          "",
          "",
          "",
          "",
          "",
          "",
          "",
          "",
          "",
          "",
          "",
          "",
          "",
          "",
          "",
          "",
          "",
          "",
          "",
          "",
          "",
          "",
          "",
          "",
          "",
          "",
          "",
          "",
          "",
          "",
          "",
          "",
          "",
          "",
          "",
          "",
          "",
          "",
          "",
          "",
          "",
          "",
          "",
          "",
          "",
          "",
          "",
          "",
          "",
          "",
          "",
          "",
          "",
          "",
          "",
          "",
          "",
          "",
          "",
          "",
          "",
          "",
          "",
          "",
          "",
          "",
          "",
          "",
          "",
          "",
          "",
          "",
          "",
          "",
          "",
          "",
          "",
          "",
          "",
          "",
          "",
          "",
          "",
          "",
          "",
          "",
          "",
          "",
          "",
          "",
          "",
          "",
          "",
          "",
          "",
          "",
          "",
          "",
          "",
          "",
          "",
          "",
          "",
          "",
          "",
          "",
          "",
          "",
          "",
          "",
          "",
          "",
          "",
          "",
          "",
          "",
          "",
          "",
          "",
          "",
          "",
          "",
          "",
          "",
          "",
          "",
          "",
          "",
          "",
          "",
          "",
          "",
          "",
          "",
          "",
          "",
          "",
          "",
          "",
          "",
          "",
          "",
          "",
          "",
          "",
          "",
          "",
          "",
          "",
          "",
          "",
          "",
          "",
          "",
          "",
          "",
          "",
          "",
          "",
          "",
          "",
          "",
          "",
          "",
          "",
          "",
          "",
          "",
          "",
          "",
          "",
          "",
          "",
          "",
          "",
          "",
          "",
          "",
          "",
          "",
          "",
          "",
          "",
          "",
          "",
          "",
          "",
          "",
          "",
          "",
          "",
          "",
          "",
          "",
          "",
          "",
          "",
          "",
          "",
          "",
          "",
          "",
          "",
          "",
          "",
          "",
          "",
          "",
          ""
         ],
         "textfont": {
          "size": 14
         },
         "textposition": "middle left",
         "type": "scatter",
         "x": [
          "2023-03-14T00:00:00",
          "2023-03-15T00:00:00",
          "2023-03-16T00:00:00",
          "2023-03-17T00:00:00",
          "2023-03-18T00:00:00",
          "2023-03-19T00:00:00",
          "2023-03-20T00:00:00",
          "2023-03-21T00:00:00",
          "2023-03-22T00:00:00",
          "2023-03-23T00:00:00",
          "2023-03-24T00:00:00",
          "2023-03-25T00:00:00",
          "2023-03-26T00:00:00",
          "2023-03-27T00:00:00",
          "2023-03-28T00:00:00",
          "2023-03-29T00:00:00",
          "2023-03-30T00:00:00",
          "2023-03-31T00:00:00",
          "2023-04-01T00:00:00",
          "2023-04-02T00:00:00",
          "2023-04-03T00:00:00",
          "2023-04-04T00:00:00",
          "2023-04-05T00:00:00",
          "2023-04-06T00:00:00",
          "2023-04-07T00:00:00",
          "2023-04-08T00:00:00",
          "2023-04-09T00:00:00",
          "2023-04-10T00:00:00",
          "2023-04-11T00:00:00",
          "2023-04-12T00:00:00",
          "2023-04-13T00:00:00",
          "2023-04-14T00:00:00",
          "2023-04-15T00:00:00",
          "2023-04-16T00:00:00",
          "2023-04-17T00:00:00",
          "2023-04-18T00:00:00",
          "2023-04-19T00:00:00",
          "2023-04-20T00:00:00",
          "2023-04-21T00:00:00",
          "2023-04-22T00:00:00",
          "2023-04-23T00:00:00",
          "2023-04-24T00:00:00",
          "2023-04-25T00:00:00",
          "2023-04-26T00:00:00",
          "2023-04-27T00:00:00",
          "2023-04-28T00:00:00",
          "2023-04-29T00:00:00",
          "2023-04-30T00:00:00",
          "2023-05-01T00:00:00",
          "2023-05-02T00:00:00",
          "2023-05-03T00:00:00",
          "2023-05-04T00:00:00",
          "2023-05-05T00:00:00",
          "2023-05-06T00:00:00",
          "2023-05-07T00:00:00",
          "2023-05-08T00:00:00",
          "2023-05-09T00:00:00",
          "2023-05-10T00:00:00",
          "2023-05-11T00:00:00",
          "2023-05-12T00:00:00",
          "2023-05-13T00:00:00",
          "2023-05-14T00:00:00",
          "2023-05-15T00:00:00",
          "2023-05-16T00:00:00",
          "2023-05-17T00:00:00",
          "2023-05-18T00:00:00",
          "2023-05-19T00:00:00",
          "2023-05-20T00:00:00",
          "2023-05-21T00:00:00",
          "2023-05-22T00:00:00",
          "2023-05-23T00:00:00",
          "2023-05-24T00:00:00",
          "2023-05-25T00:00:00",
          "2023-05-26T00:00:00",
          "2023-05-27T00:00:00",
          "2023-05-28T00:00:00",
          "2023-05-29T00:00:00",
          "2023-05-30T00:00:00",
          "2023-05-31T00:00:00",
          "2023-06-01T00:00:00",
          "2023-06-02T00:00:00",
          "2023-06-03T00:00:00",
          "2023-06-04T00:00:00",
          "2023-06-05T00:00:00",
          "2023-06-06T00:00:00",
          "2023-06-07T00:00:00",
          "2023-06-08T00:00:00",
          "2023-06-09T00:00:00",
          "2023-06-10T00:00:00",
          "2023-06-11T00:00:00",
          "2023-06-12T00:00:00",
          "2023-06-13T00:00:00",
          "2023-06-14T00:00:00",
          "2023-06-15T00:00:00",
          "2023-06-16T00:00:00",
          "2023-06-17T00:00:00",
          "2023-06-18T00:00:00",
          "2023-06-19T00:00:00",
          "2023-06-20T00:00:00",
          "2023-06-21T00:00:00",
          "2023-06-22T00:00:00",
          "2023-06-23T00:00:00",
          "2023-06-24T00:00:00",
          "2023-06-25T00:00:00",
          "2023-06-26T00:00:00",
          "2023-06-27T00:00:00",
          "2023-06-28T00:00:00",
          "2023-06-29T00:00:00",
          "2023-06-30T00:00:00",
          "2023-07-01T00:00:00",
          "2023-07-02T00:00:00",
          "2023-07-03T00:00:00",
          "2023-07-04T00:00:00",
          "2023-07-05T00:00:00",
          "2023-07-06T00:00:00",
          "2023-07-07T00:00:00",
          "2023-07-08T00:00:00",
          "2023-07-09T00:00:00",
          "2023-07-10T00:00:00",
          "2023-07-11T00:00:00",
          "2023-07-12T00:00:00",
          "2023-07-13T00:00:00",
          "2023-07-14T00:00:00",
          "2023-07-15T00:00:00",
          "2023-07-16T00:00:00",
          "2023-07-17T00:00:00",
          "2023-07-18T00:00:00",
          "2023-07-19T00:00:00",
          "2023-07-20T00:00:00",
          "2023-07-21T00:00:00",
          "2023-07-22T00:00:00",
          "2023-07-23T00:00:00",
          "2023-07-24T00:00:00",
          "2023-07-25T00:00:00",
          "2023-07-26T00:00:00",
          "2023-07-27T00:00:00",
          "2023-07-28T00:00:00",
          "2023-07-29T00:00:00",
          "2023-07-30T00:00:00",
          "2023-07-31T00:00:00",
          "2023-08-01T00:00:00",
          "2023-08-02T00:00:00",
          "2023-08-03T00:00:00",
          "2023-08-04T00:00:00",
          "2023-08-05T00:00:00",
          "2023-08-06T00:00:00",
          "2023-08-07T00:00:00",
          "2023-08-08T00:00:00",
          "2023-08-09T00:00:00",
          "2023-08-10T00:00:00",
          "2023-08-11T00:00:00",
          "2023-08-12T00:00:00",
          "2023-08-13T00:00:00",
          "2023-08-14T00:00:00",
          "2023-08-15T00:00:00",
          "2023-08-16T00:00:00",
          "2023-08-17T00:00:00",
          "2023-08-18T00:00:00",
          "2023-08-19T00:00:00",
          "2023-08-20T00:00:00",
          "2023-08-21T00:00:00",
          "2023-08-22T00:00:00",
          "2023-08-23T00:00:00",
          "2023-08-24T00:00:00",
          "2023-08-25T00:00:00",
          "2023-08-26T00:00:00",
          "2023-08-27T00:00:00",
          "2023-08-28T00:00:00",
          "2023-08-29T00:00:00",
          "2023-08-30T00:00:00",
          "2023-08-31T00:00:00",
          "2023-09-01T00:00:00",
          "2023-09-02T00:00:00",
          "2023-09-03T00:00:00",
          "2023-09-04T00:00:00",
          "2023-09-05T00:00:00",
          "2023-09-06T00:00:00",
          "2023-09-07T00:00:00",
          "2023-09-08T00:00:00",
          "2023-09-09T00:00:00",
          "2023-09-10T00:00:00",
          "2023-09-11T00:00:00",
          "2023-09-12T00:00:00",
          "2023-09-13T00:00:00",
          "2023-09-14T00:00:00",
          "2023-09-15T00:00:00",
          "2023-09-16T00:00:00",
          "2023-09-17T00:00:00",
          "2023-09-18T00:00:00",
          "2023-09-19T00:00:00",
          "2023-09-20T00:00:00",
          "2023-09-21T00:00:00",
          "2023-09-22T00:00:00",
          "2023-09-23T00:00:00",
          "2023-09-24T00:00:00",
          "2023-09-25T00:00:00",
          "2023-09-26T00:00:00",
          "2023-09-27T00:00:00",
          "2023-09-28T00:00:00",
          "2023-09-29T00:00:00",
          "2023-09-30T00:00:00",
          "2023-10-01T00:00:00",
          "2023-10-02T00:00:00",
          "2023-10-03T00:00:00",
          "2023-10-04T00:00:00",
          "2023-10-05T00:00:00",
          "2023-10-06T00:00:00",
          "2023-10-07T00:00:00",
          "2023-10-08T00:00:00",
          "2023-10-09T00:00:00",
          "2023-10-10T00:00:00",
          "2023-10-11T00:00:00",
          "2023-10-12T00:00:00",
          "2023-10-13T00:00:00",
          "2023-10-14T00:00:00",
          "2023-10-15T00:00:00",
          "2023-10-16T00:00:00",
          "2023-10-17T00:00:00",
          "2023-10-18T00:00:00",
          "2023-10-19T00:00:00",
          "2023-10-20T00:00:00",
          "2023-10-21T00:00:00",
          "2023-10-22T00:00:00",
          "2023-10-23T00:00:00",
          "2023-10-24T00:00:00",
          "2023-10-25T00:00:00",
          "2023-10-26T00:00:00",
          "2023-10-27T00:00:00",
          "2023-10-28T00:00:00",
          "2023-10-29T00:00:00",
          "2023-10-30T00:00:00",
          "2023-10-31T00:00:00",
          "2023-11-01T00:00:00",
          "2023-11-02T00:00:00",
          "2023-11-03T00:00:00",
          "2023-11-04T00:00:00",
          "2023-11-05T00:00:00",
          "2023-11-06T00:00:00",
          "2023-11-07T00:00:00",
          "2023-11-08T00:00:00",
          "2023-11-09T00:00:00",
          "2023-11-10T00:00:00",
          "2023-11-11T00:00:00",
          "2023-11-12T00:00:00",
          "2023-11-13T00:00:00",
          "2023-11-14T00:00:00",
          "2023-11-15T00:00:00",
          "2023-11-16T00:00:00",
          "2023-11-17T00:00:00",
          "2023-11-18T00:00:00",
          "2023-11-19T00:00:00",
          "2023-11-20T00:00:00",
          "2023-11-21T00:00:00",
          "2023-11-22T00:00:00",
          "2023-11-23T00:00:00",
          "2023-11-24T00:00:00",
          "2023-11-25T00:00:00",
          "2023-11-26T00:00:00",
          "2023-11-27T00:00:00",
          "2023-11-28T00:00:00",
          "2023-11-29T00:00:00",
          "2023-11-30T00:00:00",
          "2023-12-01T00:00:00",
          "2023-12-02T00:00:00",
          "2023-12-03T00:00:00",
          "2023-12-04T00:00:00",
          "2023-12-05T00:00:00",
          "2023-12-06T00:00:00",
          "2023-12-07T00:00:00",
          "2023-12-08T00:00:00",
          "2023-12-09T00:00:00",
          "2023-12-10T00:00:00",
          "2023-12-11T00:00:00",
          "2023-12-12T00:00:00",
          "2023-12-13T00:00:00",
          "2023-12-14T00:00:00",
          "2023-12-15T00:00:00",
          "2023-12-16T00:00:00",
          "2023-12-17T00:00:00",
          "2023-12-18T00:00:00",
          "2023-12-19T00:00:00",
          "2023-12-20T00:00:00",
          "2023-12-21T00:00:00",
          "2023-12-22T00:00:00",
          "2023-12-23T00:00:00",
          "2023-12-24T00:00:00",
          "2023-12-25T00:00:00",
          "2023-12-26T00:00:00",
          "2023-12-27T00:00:00",
          "2023-12-28T00:00:00",
          "2023-12-29T00:00:00",
          "2023-12-30T00:00:00",
          "2023-12-31T00:00:00",
          "2024-01-01T00:00:00",
          "2024-01-02T00:00:00",
          "2024-01-03T00:00:00",
          "2024-01-04T00:00:00",
          "2024-01-05T00:00:00",
          "2024-01-06T00:00:00",
          "2024-01-07T00:00:00",
          "2024-01-08T00:00:00",
          "2024-01-09T00:00:00",
          "2024-01-10T00:00:00",
          "2024-01-11T00:00:00",
          "2024-01-12T00:00:00",
          "2024-01-13T00:00:00",
          "2024-01-14T00:00:00",
          "2024-01-15T00:00:00",
          "2024-01-16T00:00:00",
          "2024-01-17T00:00:00",
          "2024-01-18T00:00:00",
          "2024-01-19T00:00:00",
          "2024-01-20T00:00:00",
          "2024-01-21T00:00:00",
          "2024-01-22T00:00:00",
          "2024-01-23T00:00:00",
          "2024-01-24T00:00:00",
          "2024-01-25T00:00:00",
          "2024-01-26T00:00:00",
          "2024-01-27T00:00:00",
          "2024-01-28T00:00:00",
          "2024-01-29T00:00:00",
          "2024-01-30T00:00:00",
          "2024-01-31T00:00:00",
          "2024-02-01T00:00:00",
          "2024-02-02T00:00:00",
          "2024-02-03T00:00:00",
          "2024-02-04T00:00:00",
          "2024-02-05T00:00:00",
          "2024-02-06T00:00:00",
          "2024-02-07T00:00:00",
          "2024-02-08T00:00:00",
          "2024-02-09T00:00:00",
          "2024-02-10T00:00:00",
          "2024-02-11T00:00:00",
          "2024-02-12T00:00:00",
          "2024-02-13T00:00:00",
          "2024-02-14T00:00:00",
          "2024-02-15T00:00:00",
          "2024-02-16T00:00:00",
          "2024-02-17T00:00:00",
          "2024-02-18T00:00:00",
          "2024-02-19T00:00:00",
          "2024-02-20T00:00:00",
          "2024-02-21T00:00:00",
          "2024-02-22T00:00:00",
          "2024-02-23T00:00:00",
          "2024-02-24T00:00:00",
          "2024-02-25T00:00:00",
          "2024-02-26T00:00:00",
          "2024-02-27T00:00:00",
          "2024-02-28T00:00:00",
          "2024-02-29T00:00:00",
          "2024-03-01T00:00:00",
          "2024-03-02T00:00:00",
          "2024-03-03T00:00:00",
          "2024-03-04T00:00:00",
          "2024-03-05T00:00:00",
          "2024-03-06T00:00:00",
          "2024-03-07T00:00:00",
          "2024-03-08T00:00:00",
          "2024-03-09T00:00:00",
          "2024-03-10T00:00:00",
          "2024-03-11T00:00:00",
          "2024-03-12T00:00:00",
          "2024-03-13T00:00:00",
          "2024-03-14T00:00:00",
          "2024-03-15T00:00:00",
          "2024-03-16T00:00:00",
          "2024-03-17T00:00:00",
          "2024-03-18T00:00:00",
          "2024-03-19T00:00:00",
          "2024-03-20T00:00:00",
          "2024-03-21T00:00:00",
          "2024-03-22T00:00:00",
          "2024-03-23T00:00:00",
          "2024-03-24T00:00:00",
          "2024-03-25T00:00:00",
          "2024-03-26T00:00:00",
          "2024-03-27T00:00:00",
          "2024-03-28T00:00:00",
          "2024-03-29T00:00:00",
          "2024-03-30T00:00:00",
          "2024-03-31T00:00:00",
          "2024-04-01T00:00:00",
          "2024-04-02T00:00:00",
          "2024-04-03T00:00:00",
          "2024-04-04T00:00:00",
          "2024-04-05T00:00:00",
          "2024-04-06T00:00:00",
          "2024-04-07T00:00:00",
          "2024-04-08T00:00:00",
          "2024-04-09T00:00:00",
          "2024-04-10T00:00:00",
          "2024-04-11T00:00:00",
          "2024-04-12T00:00:00",
          "2024-04-13T00:00:00",
          "2024-04-14T00:00:00",
          "2024-04-15T00:00:00",
          "2024-04-16T00:00:00",
          "2024-04-17T00:00:00",
          "2024-04-18T00:00:00",
          "2024-04-19T00:00:00",
          "2024-04-20T00:00:00",
          "2024-04-21T00:00:00",
          "2024-04-22T00:00:00",
          "2024-04-23T00:00:00",
          "2024-04-24T00:00:00",
          "2024-04-25T00:00:00",
          "2024-04-26T00:00:00",
          "2024-04-27T00:00:00",
          "2024-04-28T00:00:00",
          "2024-04-29T00:00:00",
          "2024-04-30T00:00:00",
          "2024-05-01T00:00:00",
          "2024-05-02T00:00:00",
          "2024-05-03T00:00:00",
          "2024-05-04T00:00:00",
          "2024-05-05T00:00:00",
          "2024-05-06T00:00:00",
          "2024-05-07T00:00:00",
          "2024-05-08T00:00:00",
          "2024-05-09T00:00:00",
          "2024-05-10T00:00:00"
         ],
         "y": [
          0.040602606327071265,
          0.040147425178011655,
          0.0396973469003488,
          0.039252314287635204,
          0.0388122707747442,
          0.038377160430680374,
          0.03794692795147041,
          0.037521518653133926,
          0.037100878464732825,
          0.03668495392149882,
          0.03627369215803775,
          0.03586704090161038,
          0.03546494846548817,
          0.03506736374238391,
          0.03467423619795565,
          0.03428551586438369,
          0.033901153334019586,
          0.03352109975310607,
          0.0331453068155678,
          0.03277372675687132,
          0.03240631234795414,
          0.03204301688922169,
          0.03168379420461173,
          0.03132859863572512,
          0.030977385036022567,
          0.030630108765086296,
          0.030286725682946162,
          0.02994719214446924,
          0.029611464993812415,
          0.02927950155893718,
          0.02895125964618579,
          0.028626697534918387,
          0.028305773972210093,
          0.02798844816760771,
          0.027674679787945026,
          0.02736442895221643,
          0.027057656226507805,
          0.026754322618984448,
          0.026454389574934987,
          0.026157818971870993,
          0.025864573114681513,
          0.025574614730841817,
          0.025287906965676028,
          0.025004413377672677,
          0.024724097933852964,
          0.024446925005190745,
          0.02417285936208406,
          0.02390186616987724,
          0.023633910984433407,
          0.02336895974775642,
          0.023106978783662017,
          0.022847934793497518,
          0.022591794851909354,
          0.022338526402658244,
          0.0220880972544811,
          0.02184047557699949,
          0.021595629896673827,
          0.021353529092803025,
          0.021114142393568906,
          0.020877439372125068,
          0.02064338994272944,
          0.02041196435692039,
          0.020183133199735494,
          0.019956867385972858,
          0.019733138156494297,
          0.0195119170745699,
          0.019293176022263693,
          0.019076887196859692,
          0.01886302310732815,
          0.01865155657083128,
          0.01844246070926831,
          0.018235708945859113,
          0.018031275001766267,
          0.017829132892754875,
          0.017629256925889916,
          0.0174316216962706,
          0.017236202083801274,
          0.01704297324999863,
          0.01685191063483458,
          0.016662989953614683,
          0.0164761871938914,
          0.01629147861241208,
          0.016108840732101094,
          0.015928250339075835,
          0.01574968447969613,
          0.01557312045764677,
          0.015398535831052768,
          0.015225908409626844,
          0.015055216251849052,
          0.014886437662177864,
          0.014719551188292657,
          0.014554535618366999,
          0.014391369978372604,
          0.014230033529413414,
          0.014070505765089667,
          0.013912766408891412,
          0.013756795411621354,
          0.013602572948846483,
          0.013450079418378344,
          0.013299295437781553,
          0.013150201841910184,
          0.01300277968047186,
          0.01285701021561906,
          0.012712874919567524,
          0.012570355472241265,
          0.012429433758944073,
          0.012290091868057027,
          0.012152312088761916,
          0.0120160769087901,
          0.011881369012196647,
          0.011748171277159455,
          0.011616466773802951,
          0.011486238762046307,
          0.011357470689475672,
          0.011230146189240342,
          0.011104249077972448,
          0.010979763353730026,
          0.010856673193963084,
          0.010734962953502541,
          0.01061461716257164,
          0.010495620524819699,
          0.01037795791537791,
          0.010261614378936891,
          0.010146575127845843,
          0.010032825540232961,
          0.009920351158146976,
          0.009809137685719485,
          0.009699170987347894,
          0.009590437085898743,
          0.009482922160931157,
          0.00937661254694026,
          0.009271494731620183,
          0.009167555354146649,
          0.009064781203478747,
          0.008963159216679773,
          0.008862676477256906,
          0.008763320213519435,
          0.008665077796955467,
          0.008567936740626786,
          0.008471884697581753,
          0.008376909459285917,
          0.008282998954070303,
          0.008190141245597058,
          0.00809832453134229,
          0.008007537141095962,
          0.007917767535478522,
          0.007829004304474236,
          0.007741236165980936,
          0.007654451964376038,
          0.007568640669098594,
          0.007483791373247296,
          0.007399893292194158,
          0.007316935762213785,
          0.007234908239127932,
          0.007153800296965331,
          0.007073601626636514,
          0.006994302034623482,
          0.0069158914416841055,
          0.006838359881570974,
          0.0067616974997646824,
          0.006685894552221277,
          0.006610941404133779,
          0.006536828528707531,
          0.0064635465059493325,
          0.006391086021470118,
          0.006319437865301093,
          0.006248592930723074,
          0.006178542213109022,
          0.006109276808779521,
          0.006040787913871079,
          0.005973066823217157,
          0.005906104929241672,
          0.005839893720864974,
          0.005774424782422047,
          0.005709689792592869,
          0.0056456805233447175,
          0.0055823888388863725,
          0.005519806694634033,
          0.005457926136188814,
          0.005396739298325738,
          0.0053362384039940085,
          0.005276415763328539,
          0.005217263772672537,
          0.005158774913611075,
          0.005100941752015445,
          0.005043756937098271,
          0.004987213200479197,
          0.004931303355261066,
          0.004876020295116413,
          0.004821356993384249,
          0.004767306502176941,
          0.004713861951497111,
          0.004661016548364452,
          0.004608763575952291,
          0.004557096392733876,
          0.004506008431638209,
          0.004455493199215364,
          0.004405544274811123,
          0.004356155309750907,
          0.00430732002653283,
          0.004259032218029823,
          0.0042112857467006635,
          0.004164074543809892,
          0.004117392608656447,
          0.004071234007810957,
          0.004025592874361592,
          0.0039804634071683425,
          0.003935839870125684,
          0.003891716591433497,
          0.003848087962876175,
          0.003804948439109778,
          0.0037622925369572174,
          0.0037201148347113223,
          0.003678409971445718,
          0.0036371726463334483,
          0.003596397617973204,
          0.0035560797037231338,
          0.003516213779042109,
          0.00347679477683839,
          0.003437817686825562,
          0.0033992775548857233,
          0.0033611694824397962,
          0.0033234886258249117,
          0.0032862301956787456,
          0.003249389456330788,
          0.003212961725200419,
          0.003176942372201736,
          0.0031413268191550652,
          0.0031061105392050426,
          0.0030712890562452455,
          0.0030368579443492616,
          0.0030028128272081484,
          0.0029691493775741732,
          0.0029358633167108172,
          0.0029029504138489274,
          0.002870406485648984,
          0.0028382273956693667,
          0.00280640905384061,
          0.00277494741594554,
          0.002743838483105236,
          0.0027130783012707747,
          0.0026826629607206364,
          0.00265258859556378,
          0.00262285138324827,
          0.0025934475440754267,
          0.0025643733407193984,
          0.002535625077752147,
          0.0025071991011737416,
          0.0024790917979479227,
          0.0024512995955428825,
          0.0024238189614771677,
          0.0023966464028707017,
          0.0023697784660008225,
          0.002343211735863311,
          0.0023169428357383195,
          0.0022909684267611893,
          0.002265285207498065,
          0.002239889913526279,
          0.0022147793170194216,
          0.002189950226337079,
          0.0021653994856191657,
          0.002141123974384802,
          0.0021171206071356973,
          0.0020933863329639616,
          0.0020699181351643324,
          0.0020467130308507385,
          0.002023768070577173,
          0.0020010803379627955,
          0.0019786469493212598,
          0.0019564650532941843,
          0.0019345318304887402,
          0.0019128444931192888,
          0.00189140028465305,
          0.0018701964794597364,
          0.001849230382465116,
          0.0018284993288084656,
          0.0018080006835038461,
          0.0017877318411051969,
          0.0017676902253751692,
          0.001747873288957686,
          0.0017282785130541532,
          0.0017089034071033197,
          0.0016897455084647164,
          0.0016708023821056456,
          0.0016520716202916858,
          0.0016335508422806514,
          0.0016152376940199986,
          0.0015971298478476151,
          0.001579225002195972,
          0.001561520881299577,
          0.001544015234905725,
          0.001526705837988479,
          0.0015095904904658681,
          0.0014926670169202415,
          0.0014759332663217706,
          0.0014593871117550455,
          0.0014430264501487343,
          0.0014268492020082831,
          0.0014108533111515955,
          0.0013950367444476907,
          0.0013793974915582835,
          0.0013639335646822694,
          0.0013486429983030593,
          0.001333523848938762,
          0.0013185741948951578,
          0.001303792136021451,
          0.001289175793468746,
          0.0012747233094512443,
          0.0012604328470101128,
          0.001246302589779999,
          0.0012323307417581697,
          0.0012185155270762259,
          0.0012048551897743886,
          0.001191347993578308,
          0.0011779922216783832,
          0.0011647861765115407,
          0.0011517281795454751,
          0.0011388165710653003,
          0.0011260497099625922,
          0.0011134259735268047,
          0.001100943757239009,
          0.00108860147456796,
          0.0010763975567684397,
          0.00106433045268187,
          0.0010523986285391463,
          0.001040600567765698,
          0.001028934770788722,
          0.0010173997548465874,
          0.0010059940538003655,
          0.0009947162179474818,
          0.000983564813837454,
          0.0009725384240896939,
          0.0009616356472133584,
          0.0009508550974292083,
          0.000940195404493476,
          0.0009296552135237012,
          0.0009192331848265231,
          0.0009089279937273974,
          0.0008987383304022276,
          0.0008886628997108813,
          0.0008787004210325771,
          0.0008688496281031075,
          0.0008591092688538962,
          0.0008494781052528559,
          0.0008399549131470282,
          0.0008305384821069942,
          0.0008212276152730193,
          0.0008120211292029315,
          0.0008029178537217008,
          0.0007939166317727091,
          0.0007850163192706794,
          0.0007762157849562623,
          0.0007675139102522483,
          0.0007589095891213917,
          0.0007504017279258335,
          0.0007419892452880909,
          0.0007336710719536144,
          0.00072544615065488,
          0.00071731343597701,
          0.0007092718942248935,
          0.000701320503291802,
          0.0006934582525294758,
          0.0006856841426196702,
          0.0006779971854471336,
          0.0006703964039740184,
          0.0006628808321156952,
          0.0006554495146179598,
          0.0006481015069356196,
          0.000640835875112435,
          0.0006336516956624127,
          0.0006265480554524271,
          0.0006195240515861596,
          0.0006125787912893341,
          0.0006057113917962453,
          0.0005989209802375544,
          0.0005922066935293471,
          0.0005855676782634295,
          0.000579003090598859,
          0.000572512096154689,
          0.0005660938699039154,
          0.0005597475960686161,
          0.000553472468016258,
          0.000547267688157175,
          0.0005411324678431898,
          0.0005350660272673766,
          0.0005290675953649416,
          0.0005231364097152203,
          0.0005172717164447708,
          0.0005114727701315537,
          0.0005057388337101878,
          0.0005000691783782645,
          0.0004944630835037161,
          0.0004889198365332199,
          0.0004834387329016326,
          0.00047801907594243484,
          0.0004726601767991843,
          0.00046736135433795884,
          0.00046212193506078397,
          0.00045694125302002636,
          0.0004518186497337514,
          0.0004467534741020275,
          0.0004417450823241686,
          0.00043679283781690713,
          0.00043189611113347897,
          0.00042705427988362074,
          0.00042226672865446096,
          0.0004175328489323009,
          0.00041285203902526757,
          0.00040822370398683875,
          0.0004036472555402222,
          0.00039912211200358557,
          0.00039464769821612004,
          0.00039022344546493727,
          0.0003858487914127836,
          0.0003815231800265647,
          0.0003772460615066737,
          0.0003730168922171071,
          0.0003688351346163687,
          0.00036470025718914533,
          0.0003606117343787512,
          0.00035656904652032545,
          0.00035257167977478256,
          0.00034861912606350137,
          0.00034471088300374616
         ]
        },
        {
         "marker": {
          "color": "magenta"
         },
         "mode": "markers+text",
         "name": "Cheapest, GPT-4 level or better on GPQA Diamond",
         "text": [
          "GPT-4-0314",
          "GPT-4 Turbo",
          "Mistral-Large-2024-02",
          "Claude-3-Haiku",
          "Gemini-1.5-Flash-2024-05"
         ],
         "textposition": "top right",
         "type": "scatter",
         "x": [
          "2023-03-14T00:00:00",
          "2023-11-06T00:00:00",
          "2024-02-26T00:00:00",
          "2024-03-04T00:00:00",
          "2024-05-10T00:00:00"
         ],
         "y": [
          0.018147620738636364,
          0.012484895833333334,
          0.003941507575757576,
          0.00032015325126262626,
          0.00008002234532828284
         ]
        }
       ],
       "layout": {
        "height": 600,
        "legend": {
         "bordercolor": "lightgrey",
         "borderwidth": 1,
         "x": 0.45,
         "xanchor": "right",
         "y": 0.14,
         "yanchor": "top"
        },
        "template": {
         "data": {
          "bar": [
           {
            "error_x": {
             "color": "#2a3f5f"
            },
            "error_y": {
             "color": "#2a3f5f"
            },
            "marker": {
             "line": {
              "color": "white",
              "width": 0.5
             },
             "pattern": {
              "fillmode": "overlay",
              "size": 10,
              "solidity": 0.2
             }
            },
            "type": "bar"
           }
          ],
          "barpolar": [
           {
            "marker": {
             "line": {
              "color": "white",
              "width": 0.5
             },
             "pattern": {
              "fillmode": "overlay",
              "size": 10,
              "solidity": 0.2
             }
            },
            "type": "barpolar"
           }
          ],
          "carpet": [
           {
            "aaxis": {
             "endlinecolor": "#2a3f5f",
             "gridcolor": "#C8D4E3",
             "linecolor": "#C8D4E3",
             "minorgridcolor": "#C8D4E3",
             "startlinecolor": "#2a3f5f"
            },
            "baxis": {
             "endlinecolor": "#2a3f5f",
             "gridcolor": "#C8D4E3",
             "linecolor": "#C8D4E3",
             "minorgridcolor": "#C8D4E3",
             "startlinecolor": "#2a3f5f"
            },
            "type": "carpet"
           }
          ],
          "choropleth": [
           {
            "colorbar": {
             "outlinewidth": 0,
             "ticks": ""
            },
            "type": "choropleth"
           }
          ],
          "contour": [
           {
            "colorbar": {
             "outlinewidth": 0,
             "ticks": ""
            },
            "colorscale": [
             [
              0,
              "#0d0887"
             ],
             [
              0.1111111111111111,
              "#46039f"
             ],
             [
              0.2222222222222222,
              "#7201a8"
             ],
             [
              0.3333333333333333,
              "#9c179e"
             ],
             [
              0.4444444444444444,
              "#bd3786"
             ],
             [
              0.5555555555555556,
              "#d8576b"
             ],
             [
              0.6666666666666666,
              "#ed7953"
             ],
             [
              0.7777777777777778,
              "#fb9f3a"
             ],
             [
              0.8888888888888888,
              "#fdca26"
             ],
             [
              1,
              "#f0f921"
             ]
            ],
            "type": "contour"
           }
          ],
          "contourcarpet": [
           {
            "colorbar": {
             "outlinewidth": 0,
             "ticks": ""
            },
            "type": "contourcarpet"
           }
          ],
          "heatmap": [
           {
            "colorbar": {
             "outlinewidth": 0,
             "ticks": ""
            },
            "colorscale": [
             [
              0,
              "#0d0887"
             ],
             [
              0.1111111111111111,
              "#46039f"
             ],
             [
              0.2222222222222222,
              "#7201a8"
             ],
             [
              0.3333333333333333,
              "#9c179e"
             ],
             [
              0.4444444444444444,
              "#bd3786"
             ],
             [
              0.5555555555555556,
              "#d8576b"
             ],
             [
              0.6666666666666666,
              "#ed7953"
             ],
             [
              0.7777777777777778,
              "#fb9f3a"
             ],
             [
              0.8888888888888888,
              "#fdca26"
             ],
             [
              1,
              "#f0f921"
             ]
            ],
            "type": "heatmap"
           }
          ],
          "heatmapgl": [
           {
            "colorbar": {
             "outlinewidth": 0,
             "ticks": ""
            },
            "colorscale": [
             [
              0,
              "#0d0887"
             ],
             [
              0.1111111111111111,
              "#46039f"
             ],
             [
              0.2222222222222222,
              "#7201a8"
             ],
             [
              0.3333333333333333,
              "#9c179e"
             ],
             [
              0.4444444444444444,
              "#bd3786"
             ],
             [
              0.5555555555555556,
              "#d8576b"
             ],
             [
              0.6666666666666666,
              "#ed7953"
             ],
             [
              0.7777777777777778,
              "#fb9f3a"
             ],
             [
              0.8888888888888888,
              "#fdca26"
             ],
             [
              1,
              "#f0f921"
             ]
            ],
            "type": "heatmapgl"
           }
          ],
          "histogram": [
           {
            "marker": {
             "pattern": {
              "fillmode": "overlay",
              "size": 10,
              "solidity": 0.2
             }
            },
            "type": "histogram"
           }
          ],
          "histogram2d": [
           {
            "colorbar": {
             "outlinewidth": 0,
             "ticks": ""
            },
            "colorscale": [
             [
              0,
              "#0d0887"
             ],
             [
              0.1111111111111111,
              "#46039f"
             ],
             [
              0.2222222222222222,
              "#7201a8"
             ],
             [
              0.3333333333333333,
              "#9c179e"
             ],
             [
              0.4444444444444444,
              "#bd3786"
             ],
             [
              0.5555555555555556,
              "#d8576b"
             ],
             [
              0.6666666666666666,
              "#ed7953"
             ],
             [
              0.7777777777777778,
              "#fb9f3a"
             ],
             [
              0.8888888888888888,
              "#fdca26"
             ],
             [
              1,
              "#f0f921"
             ]
            ],
            "type": "histogram2d"
           }
          ],
          "histogram2dcontour": [
           {
            "colorbar": {
             "outlinewidth": 0,
             "ticks": ""
            },
            "colorscale": [
             [
              0,
              "#0d0887"
             ],
             [
              0.1111111111111111,
              "#46039f"
             ],
             [
              0.2222222222222222,
              "#7201a8"
             ],
             [
              0.3333333333333333,
              "#9c179e"
             ],
             [
              0.4444444444444444,
              "#bd3786"
             ],
             [
              0.5555555555555556,
              "#d8576b"
             ],
             [
              0.6666666666666666,
              "#ed7953"
             ],
             [
              0.7777777777777778,
              "#fb9f3a"
             ],
             [
              0.8888888888888888,
              "#fdca26"
             ],
             [
              1,
              "#f0f921"
             ]
            ],
            "type": "histogram2dcontour"
           }
          ],
          "mesh3d": [
           {
            "colorbar": {
             "outlinewidth": 0,
             "ticks": ""
            },
            "type": "mesh3d"
           }
          ],
          "parcoords": [
           {
            "line": {
             "colorbar": {
              "outlinewidth": 0,
              "ticks": ""
             }
            },
            "type": "parcoords"
           }
          ],
          "pie": [
           {
            "automargin": true,
            "type": "pie"
           }
          ],
          "scatter": [
           {
            "fillpattern": {
             "fillmode": "overlay",
             "size": 10,
             "solidity": 0.2
            },
            "type": "scatter"
           }
          ],
          "scatter3d": [
           {
            "line": {
             "colorbar": {
              "outlinewidth": 0,
              "ticks": ""
             }
            },
            "marker": {
             "colorbar": {
              "outlinewidth": 0,
              "ticks": ""
             }
            },
            "type": "scatter3d"
           }
          ],
          "scattercarpet": [
           {
            "marker": {
             "colorbar": {
              "outlinewidth": 0,
              "ticks": ""
             }
            },
            "type": "scattercarpet"
           }
          ],
          "scattergeo": [
           {
            "marker": {
             "colorbar": {
              "outlinewidth": 0,
              "ticks": ""
             }
            },
            "type": "scattergeo"
           }
          ],
          "scattergl": [
           {
            "marker": {
             "colorbar": {
              "outlinewidth": 0,
              "ticks": ""
             }
            },
            "type": "scattergl"
           }
          ],
          "scattermapbox": [
           {
            "marker": {
             "colorbar": {
              "outlinewidth": 0,
              "ticks": ""
             }
            },
            "type": "scattermapbox"
           }
          ],
          "scatterpolar": [
           {
            "marker": {
             "colorbar": {
              "outlinewidth": 0,
              "ticks": ""
             }
            },
            "type": "scatterpolar"
           }
          ],
          "scatterpolargl": [
           {
            "marker": {
             "colorbar": {
              "outlinewidth": 0,
              "ticks": ""
             }
            },
            "type": "scatterpolargl"
           }
          ],
          "scatterternary": [
           {
            "marker": {
             "colorbar": {
              "outlinewidth": 0,
              "ticks": ""
             }
            },
            "type": "scatterternary"
           }
          ],
          "surface": [
           {
            "colorbar": {
             "outlinewidth": 0,
             "ticks": ""
            },
            "colorscale": [
             [
              0,
              "#0d0887"
             ],
             [
              0.1111111111111111,
              "#46039f"
             ],
             [
              0.2222222222222222,
              "#7201a8"
             ],
             [
              0.3333333333333333,
              "#9c179e"
             ],
             [
              0.4444444444444444,
              "#bd3786"
             ],
             [
              0.5555555555555556,
              "#d8576b"
             ],
             [
              0.6666666666666666,
              "#ed7953"
             ],
             [
              0.7777777777777778,
              "#fb9f3a"
             ],
             [
              0.8888888888888888,
              "#fdca26"
             ],
             [
              1,
              "#f0f921"
             ]
            ],
            "type": "surface"
           }
          ],
          "table": [
           {
            "cells": {
             "fill": {
              "color": "#EBF0F8"
             },
             "line": {
              "color": "white"
             }
            },
            "header": {
             "fill": {
              "color": "#C8D4E3"
             },
             "line": {
              "color": "white"
             }
            },
            "type": "table"
           }
          ]
         },
         "layout": {
          "annotationdefaults": {
           "arrowcolor": "#2a3f5f",
           "arrowhead": 0,
           "arrowwidth": 1
          },
          "autotypenumbers": "strict",
          "coloraxis": {
           "colorbar": {
            "outlinewidth": 0,
            "ticks": ""
           }
          },
          "colorscale": {
           "diverging": [
            [
             0,
             "#8e0152"
            ],
            [
             0.1,
             "#c51b7d"
            ],
            [
             0.2,
             "#de77ae"
            ],
            [
             0.3,
             "#f1b6da"
            ],
            [
             0.4,
             "#fde0ef"
            ],
            [
             0.5,
             "#f7f7f7"
            ],
            [
             0.6,
             "#e6f5d0"
            ],
            [
             0.7,
             "#b8e186"
            ],
            [
             0.8,
             "#7fbc41"
            ],
            [
             0.9,
             "#4d9221"
            ],
            [
             1,
             "#276419"
            ]
           ],
           "sequential": [
            [
             0,
             "#0d0887"
            ],
            [
             0.1111111111111111,
             "#46039f"
            ],
            [
             0.2222222222222222,
             "#7201a8"
            ],
            [
             0.3333333333333333,
             "#9c179e"
            ],
            [
             0.4444444444444444,
             "#bd3786"
            ],
            [
             0.5555555555555556,
             "#d8576b"
            ],
            [
             0.6666666666666666,
             "#ed7953"
            ],
            [
             0.7777777777777778,
             "#fb9f3a"
            ],
            [
             0.8888888888888888,
             "#fdca26"
            ],
            [
             1,
             "#f0f921"
            ]
           ],
           "sequentialminus": [
            [
             0,
             "#0d0887"
            ],
            [
             0.1111111111111111,
             "#46039f"
            ],
            [
             0.2222222222222222,
             "#7201a8"
            ],
            [
             0.3333333333333333,
             "#9c179e"
            ],
            [
             0.4444444444444444,
             "#bd3786"
            ],
            [
             0.5555555555555556,
             "#d8576b"
            ],
            [
             0.6666666666666666,
             "#ed7953"
            ],
            [
             0.7777777777777778,
             "#fb9f3a"
            ],
            [
             0.8888888888888888,
             "#fdca26"
            ],
            [
             1,
             "#f0f921"
            ]
           ]
          },
          "colorway": [
           "#636efa",
           "#EF553B",
           "#00cc96",
           "#ab63fa",
           "#FFA15A",
           "#19d3f3",
           "#FF6692",
           "#B6E880",
           "#FF97FF",
           "#FECB52"
          ],
          "font": {
           "color": "#2a3f5f"
          },
          "geo": {
           "bgcolor": "white",
           "lakecolor": "white",
           "landcolor": "white",
           "showlakes": true,
           "showland": true,
           "subunitcolor": "#C8D4E3"
          },
          "hoverlabel": {
           "align": "left"
          },
          "hovermode": "closest",
          "mapbox": {
           "style": "light"
          },
          "paper_bgcolor": "white",
          "plot_bgcolor": "white",
          "polar": {
           "angularaxis": {
            "gridcolor": "#EBF0F8",
            "linecolor": "#EBF0F8",
            "ticks": ""
           },
           "bgcolor": "white",
           "radialaxis": {
            "gridcolor": "#EBF0F8",
            "linecolor": "#EBF0F8",
            "ticks": ""
           }
          },
          "scene": {
           "xaxis": {
            "backgroundcolor": "white",
            "gridcolor": "#DFE8F3",
            "gridwidth": 2,
            "linecolor": "#EBF0F8",
            "showbackground": true,
            "ticks": "",
            "zerolinecolor": "#EBF0F8"
           },
           "yaxis": {
            "backgroundcolor": "white",
            "gridcolor": "#DFE8F3",
            "gridwidth": 2,
            "linecolor": "#EBF0F8",
            "showbackground": true,
            "ticks": "",
            "zerolinecolor": "#EBF0F8"
           },
           "zaxis": {
            "backgroundcolor": "white",
            "gridcolor": "#DFE8F3",
            "gridwidth": 2,
            "linecolor": "#EBF0F8",
            "showbackground": true,
            "ticks": "",
            "zerolinecolor": "#EBF0F8"
           }
          },
          "shapedefaults": {
           "line": {
            "color": "#2a3f5f"
           }
          },
          "ternary": {
           "aaxis": {
            "gridcolor": "#DFE8F3",
            "linecolor": "#A2B1C6",
            "ticks": ""
           },
           "baxis": {
            "gridcolor": "#DFE8F3",
            "linecolor": "#A2B1C6",
            "ticks": ""
           },
           "bgcolor": "white",
           "caxis": {
            "gridcolor": "#DFE8F3",
            "linecolor": "#A2B1C6",
            "ticks": ""
           }
          },
          "title": {
           "x": 0.05
          },
          "xaxis": {
           "automargin": true,
           "gridcolor": "#EBF0F8",
           "linecolor": "#EBF0F8",
           "ticks": "",
           "title": {
            "standoff": 15
           },
           "zerolinecolor": "#EBF0F8",
           "zerolinewidth": 2
          },
          "yaxis": {
           "automargin": true,
           "gridcolor": "#EBF0F8",
           "linecolor": "#EBF0F8",
           "ticks": "",
           "title": {
            "standoff": 15
           },
           "zerolinecolor": "#EBF0F8",
           "zerolinewidth": 2
          }
         }
        },
        "title": {
         "text": "The cost to answer PhD-level science questions as well as GPT-4 has fallen by 61x per year"
        },
        "width": 1000,
        "xaxis": {
         "range": [
          "2023-02-12T00:00:00",
          "2024-10-07T00:00:00"
         ],
         "title": {
          "text": "Month"
         }
        },
        "yaxis": {
         "title": {
          "text": "Avg. cost per benchmark question (USD, log scale)"
         },
         "type": "log"
        }
       }
      }
     },
     "metadata": {},
     "output_type": "display_data"
    }
   ],
   "source": [
    "# selected_benchmarks = ['MMLU', 'MATH 5', 'HumanEval']\n",
    "bench = 'GPQA Diamond'\n",
    "threshold_model = 'GPT-4-0314'\n",
    "performance_lower_bound = eval_cost_df[eval_cost_df['Model Name'] == threshold_model].iloc[0][bench]\n",
    "performance_upper_bound = 100\n",
    "print(f'\\nPerformance range: {performance_lower_bound}-{performance_upper_bound}%')\n",
    "\n",
    "cheapest_models = []\n",
    "current_best = None\n",
    "benchmark_df = eval_cost_df.dropna(subset=[bench])\n",
    "if bench == 'MATH 5':\n",
    "    task = 'MATH level 5'\n",
    "else:\n",
    "    task = bench\n",
    "benchmark_df = benchmark_df[benchmark_df['Task'] == task]\n",
    "for i, row in benchmark_df.iterrows():\n",
    "    if (row[bench] >= performance_lower_bound) and (row[bench] < performance_upper_bound):\n",
    "        if (current_best is None) or (row[cost_col] < current_best[cost_col]):\n",
    "            current_best = row\n",
    "            cheapest_models.append(current_best)\n",
    "            print(current_best['Release Date'], current_best['Model Name'], current_best[bench], f\"${current_best[cost_col]:.2f}\")\n",
    "\n",
    "cheapest_models_df = pd.DataFrame(cheapest_models)\n",
    "cheapest_models_df.reset_index(drop=True, inplace=True)\n",
    "\n",
    "# Second step: check if the next row has the same Release date. If so, remove the current row.\n",
    "# Note that the df is already in descending order of price, so we only need to check the next row.\n",
    "idxs_to_remove = []\n",
    "for i, row in cheapest_models_df.iterrows():\n",
    "    if i < len(cheapest_models_df) - 1:\n",
    "        next_row = cheapest_models_df.iloc[i+1]\n",
    "        if next_row['Release Date'] == row['Release Date']:\n",
    "            idxs_to_remove.append(i)\n",
    "            print(f'Removing {row[\"Model Name\"]} because it has the same Release date as {next_row[\"Model Name\"]} and has a higher cost')\n",
    "cheapest_models_df = cheapest_models_df.drop(idxs_to_remove)\n",
    "cheapest_models_df = cheapest_models_df.reset_index(drop=True)\n",
    "\n",
    "# Fit a line to the data\n",
    "cheapest_models_df['price'] = cheapest_models_df[cost_col]\n",
    "cheapest_models_df['log_price'] = np.log10(cheapest_models_df[cost_col])\n",
    "cheapest_models_df['date'] = cheapest_models_df['Release Date'].map(lambda x: pd.Timestamp(x).toordinal())\n",
    "exponential_model = smf.ols('log_price ~ date', data=cheapest_models_df).fit()\n",
    "\n",
    "fig = go.Figure()\n",
    "\n",
    "all_df = eval_cost_df[\n",
    "    (eval_cost_df['Task'] == bench) &\n",
    "    (eval_cost_df[bench].notna()) &\n",
    "    (eval_cost_df[bench] >= performance_lower_bound) &\n",
    "    (eval_cost_df[bench] < performance_upper_bound)\n",
    "]\n",
    "fig.add_trace(go.Scatter(\n",
    "    x=all_df['Release Date'],\n",
    "    y=all_df[cost_col],\n",
    "    mode='markers',\n",
    "    name=f'Other, GPT-4 level or better on {bench}',\n",
    "    text=all_df['Model Name'],\n",
    "    marker=dict(color='rgb(222, 222, 255)')\n",
    "))\n",
    "\n",
    "factor = cheapest_models_df[cost_col].iloc[0] / cheapest_models_df[cost_col].iloc[-1]\n",
    "period_months = (cheapest_models_df['Release Date'].iloc[-1] - cheapest_models_df['Release Date'].iloc[0]).days / (365/12)\n",
    "\n",
    "annual_slope = exponential_model.params['date'] * 365  # Convert daily to annual\n",
    "annual_factor = int(round(10**(-annual_slope)))  # Convert log slope to factor\n",
    "# Get the 90% CI\n",
    "ci_90 = exponential_model.conf_int(alpha=0.1)\n",
    "print(int(round(10**(-ci_90.loc['date'][1] * 365))), int(round(10**(-ci_90.loc['date'][0] * 365))))\n",
    "\n",
    "# Plot the exponential trendline with the data\n",
    "date_range = pd.date_range(start=cheapest_models_df['Release Date'].min(), end=cheapest_models_df['Release Date'].max(), freq='D')\n",
    "pred_df = pd.DataFrame({'date': date_range.map(lambda x: pd.Timestamp(x).toordinal())})\n",
    "fig.add_trace(go.Scatter(\n",
    "    x=date_range,\n",
    "    y=10**exponential_model.predict(pred_df['date']),\n",
    "    mode='lines+text',\n",
    "    name=f'{annual_factor}x decrease per year',\n",
    "    # Only show text at middle index\n",
    "    text=['' if i != len(date_range)//2 else f'{annual_factor}x per year' for i in range(len(date_range))],\n",
    "    textposition='middle left',\n",
    "    textfont=dict(size=14),\n",
    "    line=dict(color='magenta', dash='dash'),\n",
    "    hoverinfo='skip',\n",
    "    showlegend=False,\n",
    "))\n",
    "\n",
    "# annotations = [\"\"] * len(cheapest_models_df['Model Name'])\n",
    "# annotations[0] = cheapest_models_df['Model Name'].iloc[0]\n",
    "# annotations[-1] = cheapest_models_df['Model Name'].iloc[-1]\n",
    "annotations = cheapest_models_df['Model Name']\n",
    "\n",
    "fig.add_trace(go.Scatter(\n",
    "    x=cheapest_models_df['Release Date'],\n",
    "    y=cheapest_models_df[cost_col],\n",
    "    mode='markers+text',\n",
    "    name=f'Cheapest, GPT-4 level or better on {bench}',\n",
    "    marker=dict(color='magenta'),\n",
    "    text=annotations,\n",
    "    textposition='top right',\n",
    "    # marker=dict(color='blue'),\n",
    "    # visible=\"legendonly\",  # Hide this trace by default\n",
    "    # legendgroup=f'{bench}_{performance_range_str}',\n",
    "))\n",
    "fig.update_layout(xaxis_range=[\n",
    "    cheapest_models_df['Release Date'].min() - pd.Timedelta(days=30),\n",
    "    cheapest_models_df['Release Date'].max() + pd.Timedelta(days=150)\n",
    "])\n",
    "\n",
    "fig.update_layout(\n",
    "    # title=f'The cost to answer PhD-level science questions has fallen by {round(factor, -1):.0f}x in {period_months:.0f} months'\n",
    "    title=f'The cost to answer PhD-level science questions as well as GPT-4 has fallen by {annual_factor}x per year'\n",
    ")\n",
    "fig.update_layout(yaxis_type='log')\n",
    "fig.update_layout(xaxis_title='Month')\n",
    "fig.update_layout(yaxis_title='Avg. cost per benchmark question (USD, log scale)')\n",
    "# fig.update_layout(xaxis_range=[eval_cost_df['Release Date'].min() - pd.Timedelta(days=150), eval_cost_df['Release Date'].max() + pd.Timedelta(days=30)])\n",
    "fig.update_layout(\n",
    "    width=1000,\n",
    "    height=600,\n",
    "    # font=dict(size=14),\n",
    "    legend=dict(\n",
    "        yanchor=\"top\",\n",
    "        y=0.14,\n",
    "        xanchor=\"right\",\n",
    "        x=0.45,\n",
    "        bordercolor=\"lightgrey\",\n",
    "        borderwidth=1\n",
    "    )\n",
    ")\n",
    "\n",
    "if save:\n",
    "    save_plot(fig, results_subdir, f'lowest_cost_models_{bench}_{performance_lower_bound}_to_{performance_upper_bound}', extensions=['png', 'svg'])\n",
    "\n",
    "fig.show()"
   ]
  },
  {
   "cell_type": "markdown",
   "metadata": {},
   "source": [
    "### Full analysis"
   ]
  },
  {
   "cell_type": "code",
   "execution_count": 22,
   "metadata": {},
   "outputs": [
    {
     "name": "stdout",
     "output_type": "stream",
     "text": [
      "MMLU\n",
      "No eval data for MMLU - skipping\n",
      "\n",
      "\n",
      "GPQA Diamond\n",
      "Frontier model GPT-3 is missing a GPQA Diamond value - skipping\n",
      "\n",
      "Performance range: 33.0 (GPT-4-0314 level) to 100\n",
      "2023-03-14 00:00:00 GPT-4-0314 33.0 $0.018148\n",
      "2023-11-06 00:00:00 GPT-4 Turbo 50.0 $0.012485\n",
      "2024-02-26 00:00:00 Mistral-Large-2024-02 36.0 $0.003942\n",
      "2024-03-04 00:00:00 Claude-3-Haiku 33.0 $0.000320\n",
      "2024-05-10 00:00:00 Gemini-1.5-Flash-2024-05 39.0 $0.000080\n",
      "\n",
      "Performance range: 50.0 (GPT-4 Turbo level) to 100\n",
      "2023-11-06 00:00:00 GPT-4 Turbo 50.0 $0.012485\n",
      "2024-05-13 00:00:00 GPT-4o-2024-05 53.0 $0.006448\n",
      "2024-06-20 00:00:00 Claude-3.5-Sonnet-2024-06 56.0 $0.004296\n",
      "2024-08-06 00:00:00 GPT-4o-2024-08 52.0 $0.003714\n",
      "2024-09-24 00:00:00 Gemini-1.5-Pro-2024-09 61.0 $0.001513\n",
      "2024-12-13 00:00:00 Phi 4 53.0 $0.000114\n",
      "\n",
      "Performance range: 53.0 (GPT-4o-2024-05 level) to 100\n",
      "2024-05-13 00:00:00 GPT-4o-2024-05 53.0 $0.006448\n",
      "2024-06-20 00:00:00 Claude-3.5-Sonnet-2024-06 56.0 $0.004296\n",
      "2024-09-24 00:00:00 Gemini-1.5-Pro-2024-09 61.0 $0.001513\n",
      "2024-12-13 00:00:00 Phi 4 53.0 $0.000114\n",
      "\n",
      "Performance range: 56.0 (Claude-3.5-Sonnet-2024-06 level) to 100\n",
      "2024-06-20 00:00:00 Claude-3.5-Sonnet-2024-06 56.0 $0.004296\n",
      "2024-09-24 00:00:00 Gemini-1.5-Pro-2024-09 61.0 $0.001513\n",
      "2024-12-26 00:00:00 DeepSeek-V3 57.0 $0.000417\n",
      "2025-02-05 00:00:00 Gemini 2.0 Flash 62.0 $0.000152\n",
      "\n",
      "Performance range: 69.7 (o1-preview level) to 100\n",
      "2024-09-12 00:00:00 o1-preview 69.7 $0.086664\n",
      "2025-01-31 00:00:00 o3-mini 74.3 $0.015364\n",
      "2025-01-31 00:00:00 o3-mini 74.3 $0.006480\n",
      "Removing o3-mini because it has the same Release date as o3-mini and has a higher cost\n",
      "Less than 4 cheapest models found - skipping\n",
      "\n",
      "Performance range: 75.8 (o1 level) to 100\n",
      "2024-12-17 00:00:00 o1 75.8 $0.173709\n",
      "2024-12-17 00:00:00 o1 75.8 $0.115097\n",
      "Removing o1 because it has the same Release date as o1 and has a higher cost\n",
      "Less than 4 cheapest models found - skipping\n",
      "\n",
      "\n",
      "MATH-500\n",
      "No eval data for MATH-500 - skipping\n",
      "\n",
      "\n",
      "MATH 5\n",
      "Frontier model GPT-3 is missing a MATH 5 value - skipping\n",
      "\n",
      "Performance range: 23.0 (GPT-4-0613 level) to 100\n",
      "2023-11-06 00:00:00 GPT-4 Turbo 36.0 $0.011981\n",
      "2024-04-17 00:00:00 Mistral-8x22 23.0 $0.001063\n",
      "2024-05-10 00:00:00 Gemini-1.5-Flash-2024-05 23.0 $0.000081\n",
      "Less than 4 cheapest models found - skipping\n",
      "\n",
      "Performance range: 36.0 (GPT-4 Turbo level) to 100\n",
      "2023-11-06 00:00:00 GPT-4 Turbo 36.0 $0.011981\n",
      "2024-05-13 00:00:00 GPT-4o-2024-05 48.0 $0.006376\n",
      "2024-05-23 00:00:00 Gemini-1.5-Pro-2024-05 41.0 $0.001364\n",
      "2024-07-18 00:00:00 GPT-4o-mini 48.0 $0.000258\n",
      "2024-09-24 00:00:00 Gemini-1.5-Flash-2024-09 58.0 $0.000142\n",
      "2024-12-13 00:00:00 Phi 4 65.0 $0.000129\n",
      "\n",
      "Performance range: 48.0 (GPT-4o-2024-05 level) to 100\n",
      "2024-05-13 00:00:00 GPT-4o-2024-05 48.0 $0.006376\n",
      "2024-07-18 00:00:00 GPT-4o-mini 48.0 $0.000258\n",
      "2024-09-24 00:00:00 Gemini-1.5-Flash-2024-09 58.0 $0.000142\n",
      "2024-12-13 00:00:00 Phi 4 65.0 $0.000129\n",
      "\n",
      "Performance range: 84.3 (o1-mini level) to 100\n",
      "2024-09-12 00:00:00 o1-mini 84.3 $0.010809\n",
      "2024-09-12 00:00:00 o1-mini 84.3 $0.009314\n",
      "2025-01-31 00:00:00 o1-mini 84.3 $0.003963\n",
      "2025-01-31 00:00:00 o1-mini 84.3 $0.003415\n",
      "Removing o1-mini because it has the same Release date as o1-mini and has a higher cost\n",
      "Removing o1-mini because it has the same Release date as o1-mini and has a higher cost\n",
      "Less than 4 cheapest models found - skipping\n",
      "\n",
      "Performance range: 94.4 (o1 level) to 100\n",
      "2024-12-17 00:00:00 o1 94.4 $0.086368\n",
      "2025-01-31 00:00:00 o3-mini 95.2 $0.006073\n",
      "2025-01-31 00:00:00 o3-mini 95.2 $0.003575\n",
      "Removing o3-mini because it has the same Release date as o3-mini and has a higher cost\n",
      "Less than 4 cheapest models found - skipping\n",
      "\n",
      "Performance range: 95.2 (o3-mini level) to 100\n",
      "2025-01-31 00:00:00 o3-mini 95.2 $0.006073\n",
      "2025-01-31 00:00:00 o3-mini 95.2 $0.003575\n",
      "Removing o3-mini because it has the same Release date as o3-mini and has a higher cost\n",
      "Less than 4 cheapest models found - skipping\n",
      "\n",
      "\n",
      "HumanEval\n",
      "No eval data for HumanEval - skipping\n",
      "\n",
      "\n",
      "LMSys Chatbot Arena ELO\n",
      "No eval data for LMSys Chatbot Arena ELO - skipping\n"
     ]
    }
   ],
   "source": [
    "results_subdir = results_dir + 'lowest_cost_models_above_previous_frontier/'\n",
    "os.makedirs(results_subdir, exist_ok=True)\n",
    "\n",
    "performance_delta = 100\n",
    "results = []\n",
    "for i, bench in enumerate(benchmarks):    \n",
    "    if i > 0:\n",
    "        print('\\n')\n",
    "    print(f'{bench}')\n",
    "\n",
    "    if bench == 'MATH 5':\n",
    "        task = 'MATH level 5'\n",
    "    else:\n",
    "        task = bench\n",
    "    if len(eval_cost_df[eval_cost_df['Task'] == task]) == 0:\n",
    "        print(f'No eval data for {bench} - skipping')\n",
    "        continue\n",
    "\n",
    "    for i, frontier_model_data in top_models_df_lookup[bench].iterrows():\n",
    "        performance_lower_bound = frontier_model_data[bench]\n",
    "        if pd.isna(performance_lower_bound):\n",
    "            print(f'Frontier model {frontier_model_data[\"Model Name\"]} is missing a {bench} value - skipping')\n",
    "            continue\n",
    "        elif benchmark_is_mqa[bench] and performance_lower_bound < 30:\n",
    "            print(f'Frontier model {frontier_model_data[\"Model Name\"]} has a {bench} value of less than 30% on an MQA benchmark - skipping')\n",
    "            continue\n",
    "        if bench == 'LMSys Chatbot Arena ELO':\n",
    "            performance_upper_bound = np.inf\n",
    "        else:\n",
    "            performance_upper_bound = min(performance_lower_bound + performance_delta, 100)\n",
    "        print(f'\\nPerformance range: {performance_lower_bound} ({frontier_model_data[\"Model Name\"]} level) to {performance_upper_bound}')\n",
    "\n",
    "        cheapest_models = []\n",
    "        current_best = None\n",
    "        benchmark_df = eval_cost_df.dropna(subset=[bench])\n",
    "        benchmark_df = benchmark_df[benchmark_df['Task'] == task]\n",
    "        for i, row in benchmark_df.iterrows():\n",
    "            if (row[bench] >= performance_lower_bound) and (row[bench] < performance_upper_bound):\n",
    "                if (current_best is None) or (row[cost_col] < current_best[cost_col]):\n",
    "                    current_best = row\n",
    "                    cheapest_models.append(current_best)\n",
    "                    print(current_best['Release Date'], current_best['Model Name'], current_best[bench], f\"${current_best[cost_col]:.6f}\")\n",
    "\n",
    "        cheapest_models_df = pd.DataFrame(cheapest_models)\n",
    "        cheapest_models_df.reset_index(drop=True, inplace=True)\n",
    "\n",
    "        # Second step: check if the next row has the same Release date. If so, remove the current row.\n",
    "        # Note that the df is already in descending order of price, so we only need to check the next row.\n",
    "        idxs_to_remove = []\n",
    "        for i, row in cheapest_models_df.iterrows():\n",
    "            if i < len(cheapest_models_df) - 1:\n",
    "                next_row = cheapest_models_df.iloc[i+1]\n",
    "                if next_row['Release Date'] == row['Release Date']:\n",
    "                    idxs_to_remove.append(i)\n",
    "                    print(f'Removing {row[\"Model Name\"]} because it has the same Release date as {next_row[\"Model Name\"]} and has a higher cost')\n",
    "        cheapest_models_df = cheapest_models_df.drop(idxs_to_remove)\n",
    "        cheapest_models_df = cheapest_models_df.reset_index(drop=True)\n",
    "\n",
    "        if len(cheapest_models_df) < min_num_data_points_for_regression:\n",
    "            print(f'Less than {min_num_data_points_for_regression} cheapest models found - skipping')\n",
    "            continue\n",
    "\n",
    "        # Fit a line to the data\n",
    "        cheapest_models_df['cost'] = cheapest_models_df['Average cost per question (USD)']\n",
    "        cheapest_models_df['log_cost'] = np.log10(cheapest_models_df['Average cost per question (USD)'])\n",
    "        cheapest_models_df['date'] = cheapest_models_df['Release Date'].map(lambda x: pd.Timestamp(x).toordinal())\n",
    "        exponential_model = smf.ols('log_cost ~ date', data=cheapest_models_df).fit()\n",
    "\n",
    "        # Calculate annual rate of decrease\n",
    "        annual_slope = exponential_model.params['date'] * 365  # Convert daily to annual\n",
    "        annual_factor = int(round(10**(-annual_slope)))  # Convert log slope to factor\n",
    "        # Get the 90% CI\n",
    "        ci_90 = exponential_model.conf_int(alpha=0.1)\n",
    "        annual_factor_low = int(round(10**(-ci_90.loc['date'][1] * 365)))\n",
    "        annual_factor_high = int(round(10**(-ci_90.loc['date'][0] * 365)))\n",
    "        results.append({\n",
    "            'bench': bench,\n",
    "            'threshold_model': frontier_model_data[\"Model Name\"],\n",
    "            'performance_range': [performance_lower_bound, performance_upper_bound],\n",
    "            'sample_size': len(cheapest_models_df),\n",
    "            'start_date': cheapest_models_df['Release Date'].min(),\n",
    "            'end_date': cheapest_models_df['Release Date'].max(),\n",
    "            'cost_reduction_factor_per_year': annual_factor,\n",
    "            'cost_reduction_factor_per_year_90_ci': [annual_factor_low, annual_factor_high],\n",
    "            'r_squared': round(exponential_model.rsquared, 2),\n",
    "        })\n",
    "\n",
    "        # Plot the exponential trendline with the data\n",
    "        fig = go.Figure()\n",
    "        fig.add_trace(go.Scatter(\n",
    "            x=cheapest_models_df['Release Date'],\n",
    "            y=10**exponential_model.predict(cheapest_models_df['date']),\n",
    "            mode='lines',\n",
    "            name=f'Trendline: {annual_factor}x decrease per year',\n",
    "            line=dict(color='blue', dash='dash')\n",
    "        ))\n",
    "        fig.add_trace(go.Scatter(\n",
    "            x=cheapest_models_df['Release Date'],\n",
    "            y=cheapest_models_df['Average cost per question (USD)'],\n",
    "            mode='markers+text',\n",
    "            name=f'Cheapest models with {performance_lower_bound}-{performance_upper_bound} on {bench}',\n",
    "            text=cheapest_models_df['Model Name'],\n",
    "            textposition='bottom left',\n",
    "            marker=dict(color='blue')\n",
    "            # line=dict(shape='hv'),\n",
    "        ))\n",
    "        other_models_df = eval_cost_df[\n",
    "            (eval_cost_df['Task'] == task) &\n",
    "            (eval_cost_df[bench].notna()) &\n",
    "            (eval_cost_df[bench] >= performance_lower_bound) &\n",
    "            (eval_cost_df[bench] < performance_upper_bound) &\n",
    "            ~(eval_cost_df['Model Name'].isin(cheapest_models_df['Model Name']))\n",
    "        ]\n",
    "        fig.add_trace(go.Scatter(\n",
    "            x=other_models_df['Release Date'],\n",
    "            y=other_models_df['Average cost per question (USD)'],\n",
    "            mode='markers',\n",
    "            name=f'Other models with {performance_lower_bound}-{performance_upper_bound} on {bench}',\n",
    "            text=other_models_df['Model Name'],\n",
    "            marker=dict(color='lightblue')\n",
    "        ))\n",
    "        fig.update_layout(\n",
    "            title=f'The cost to answer {bench} questions as well as {frontier_model_data[\"Model Name\"]} has fallen by {annual_factor}x per year'\n",
    "        )\n",
    "        fig.update_traces(textposition='bottom left')\n",
    "        fig.update_layout(yaxis_type='log')\n",
    "        fig.update_layout(xaxis_title='Month')\n",
    "        fig.update_layout(yaxis_title='Avg. cost per question (USD, log scale)')\n",
    "        # Lower the lower x limit\n",
    "        min_date = min(cheapest_models_df['Release Date'].min(), other_models_df['Release Date'].min())\n",
    "        max_date = max(cheapest_models_df['Release Date'].max(), other_models_df['Release Date'].max())\n",
    "        fig.update_layout(xaxis_range=[min_date - pd.Timedelta(days=90), max_date + pd.Timedelta(days=30)])\n",
    "        fig.update_layout(\n",
    "            width=1000,\n",
    "            height=600,\n",
    "            font=dict(size=10),\n",
    "            legend=dict(\n",
    "                yanchor=\"top\",\n",
    "                y=0.99,\n",
    "                xanchor=\"right\",\n",
    "                x=0.99,\n",
    "                bordercolor=\"lightgrey\",\n",
    "                borderwidth=1\n",
    "            )\n",
    "        )\n",
    "        if save:\n",
    "            save_plot(\n",
    "                fig,\n",
    "                results_subdir,\n",
    "                f'lowest_cost_models_{bench}_{performance_lower_bound}-{performance_upper_bound}_with_trendline',\n",
    "                extensions=['png'],\n",
    "            )\n",
    "\n",
    "cheapest_model_results_df = pd.DataFrame(results)\n",
    "cheapest_model_results_df.to_csv(results_subdir + 'cheapest_model_results.csv', index=False)\n",
    "\n",
    "# Create a summary DataFrame\n",
    "summary_data = []\n",
    "for bench in benchmarks:\n",
    "    if bench == 'LMSys Chatbot Arena ELO':\n",
    "        continue\n",
    "    bench_results = cheapest_model_results_df[cheapest_model_results_df['bench'] == bench]\n",
    "    if len(bench_results) == 0:\n",
    "        continue\n",
    "    # Get all performance lower bounds used for this benchmark\n",
    "    perf_bounds = list(bench_results['performance_range'])\n",
    "    \n",
    "    # Calculate geometric mean of price reduction factors\n",
    "    cost_factors = bench_results['cost_reduction_factor_per_year'].dropna()\n",
    "    geomean = np.exp(np.mean(np.log(cost_factors))) if len(cost_factors) > 0 else np.nan\n",
    "    \n",
    "    # Get range of price reduction factors\n",
    "    factor_range = [cost_factors.min(), cost_factors.max()] if len(cost_factors) > 0 else []\n",
    "    \n",
    "    summary_data.append({\n",
    "        'bench': bench,\n",
    "        'performance_range': perf_bounds,\n",
    "        'cost_reduction_factor_per_year_geomean': round(geomean),\n",
    "        'cost_reduction_factor_per_year_range': factor_range\n",
    "    })\n",
    "\n",
    "cheapest_model_summary_df = pd.DataFrame(summary_data)\n",
    "cheapest_model_summary_df.to_csv(results_subdir + 'cheapest_model_summary.csv', index=False)"
   ]
  },
  {
   "cell_type": "code",
   "execution_count": 24,
   "metadata": {},
   "outputs": [],
   "source": [
    "eval_cost_results_df = pd.read_csv('results/2025-03-04/lowest_cost_models_above_previous_frontier/cheapest_model_results.csv')\n",
    "price_results_df = pd.read_csv('results/2025-03-04/lowest_price_models_above_previous_frontier/lowest_price_models_results.csv')"
   ]
  },
  {
   "cell_type": "code",
   "execution_count": 34,
   "metadata": {},
   "outputs": [
    {
     "name": "stdout",
     "output_type": "stream",
     "text": [
      "GPQA Diamond, GPT-4-0314\n",
      "61 42 1.4523809523809523\n",
      "GPQA Diamond, GPT-4 Turbo\n",
      "42 46 0.9130434782608695\n",
      "GPQA Diamond, GPT-4o-2024-05\n",
      "731 574 1.2735191637630663\n",
      "GPQA Diamond, Claude-3.5-Sonnet-2024-06\n",
      "172 366 0.46994535519125685\n",
      "MATH 5, GPT-4 Turbo\n",
      "113 160 0.70625\n",
      "MATH 5, GPT-4o-2024-05\n",
      "477 689 0.6923076923076923\n"
     ]
    }
   ],
   "source": [
    "# Print how price_reduction_factor_per_year compares tocost_reduction_factor_per_year for overlapping bench and threshold_model\n",
    "for bench in eval_cost_results_df['bench'].unique():\n",
    "    eval_cost_bench_df = eval_cost_results_df.loc[eval_cost_results_df['bench'] == bench]\n",
    "    price_bench_df = price_results_df.loc[price_results_df['bench'] == bench]\n",
    "    for threshold_model in eval_cost_bench_df['threshold_model'].unique():\n",
    "        if threshold_model in price_bench_df['threshold_model'].unique():\n",
    "            print(f'{bench}, {threshold_model}')\n",
    "            eval_cost_factor = eval_cost_bench_df.loc[eval_cost_results_df['threshold_model'] == threshold_model]['cost_reduction_factor_per_year'].iloc[0]\n",
    "            price_cost_factor = price_bench_df.loc[price_results_df['threshold_model'] == threshold_model]['price_reduction_factor_per_year'].iloc[0]\n",
    "            factor_ratio = eval_cost_factor / price_cost_factor\n",
    "            print(eval_cost_factor, price_cost_factor, factor_ratio)"
   ]
  }
 ],
 "metadata": {
  "kernelspec": {
   "display_name": "llm-efficiency",
   "language": "python",
   "name": "python3"
  },
  "language_info": {
   "codemirror_mode": {
    "name": "ipython",
    "version": 3
   },
   "file_extension": ".py",
   "mimetype": "text/x-python",
   "name": "python",
   "nbconvert_exporter": "python",
   "pygments_lexer": "ipython3",
   "version": "3.12.7"
  }
 },
 "nbformat": 4,
 "nbformat_minor": 2
}
